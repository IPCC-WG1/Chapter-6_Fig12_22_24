{
 "cells": [
  {
   "cell_type": "markdown",
   "metadata": {},
   "source": [
    "# Plot temperature response over time"
   ]
  },
  {
   "cell_type": "markdown",
   "metadata": {},
   "source": [
    "This notebook plots temperature respons to SLCFs AND the total scenario forcing. "
   ]
  },
  {
   "cell_type": "markdown",
   "metadata": {
    "lines_to_next_cell": 0
   },
   "source": [
    "## Imports:\n",
    "\n",
    "import matplotlib.pyplot as plt\n",
    "import numpy as np"
   ]
  },
  {
   "cell_type": "code",
   "execution_count": 1,
   "metadata": {},
   "outputs": [],
   "source": [
    "import matplotlib.pyplot as plt\n",
    "import numpy as np"
   ]
  },
  {
   "cell_type": "code",
   "execution_count": 2,
   "metadata": {},
   "outputs": [],
   "source": [
    "import xarray as xr\n",
    "from pandas.plotting import register_matplotlib_converters\n",
    "\n",
    "register_matplotlib_converters()\n",
    "\n",
    "%load_ext autoreload\n",
    "%autoreload 2"
   ]
  },
  {
   "cell_type": "code",
   "execution_count": 3,
   "metadata": {},
   "outputs": [
    {
     "data": {
      "application/javascript": [
       "IPython.OutputArea.prototype._should_scroll = function(lines) { return false; }"
      ],
      "text/plain": [
       "<IPython.core.display.Javascript object>"
      ]
     },
     "metadata": {},
     "output_type": "display_data"
    },
    {
     "name": "stdout",
     "output_type": "stream",
     "text": [
      "/home/sarambl/PHD/IPCC/public/AR6_CH6_RCMIPFIGSv2/ar6_ch6_rcmipfigs\n",
      "/home/sarambl/PHD/IPCC/public/AR6_CH6_RCMIPFIGSv2/ar6_ch6_rcmipfigs/data_in\n"
     ]
    }
   ],
   "source": [
    "from ar6_ch6_rcmipfigs.utils.plot import get_var_nicename"
   ]
  },
  {
   "cell_type": "code",
   "execution_count": 4,
   "metadata": {},
   "outputs": [],
   "source": [
    "from ar6_ch6_rcmipfigs.constants import OUTPUT_DATA_DIR, RESULTS_DIR\n",
    "\n",
    "PATH_DT = OUTPUT_DATA_DIR / 'dT_data_RCMIP.nc'"
   ]
  },
  {
   "cell_type": "markdown",
   "metadata": {},
   "source": [
    "## Set values:"
   ]
  },
  {
   "cell_type": "code",
   "execution_count": 5,
   "metadata": {},
   "outputs": [],
   "source": [
    "first_y = '1750'\n",
    "last_y = '2100'"
   ]
  },
  {
   "cell_type": "markdown",
   "metadata": {},
   "source": [
    "**Set reference year for temperature change:**"
   ]
  },
  {
   "cell_type": "code",
   "execution_count": 6,
   "metadata": {},
   "outputs": [],
   "source": [
    "ref_year = '2021'"
   ]
  },
  {
   "cell_type": "code",
   "execution_count": 7,
   "metadata": {},
   "outputs": [],
   "source": [
    "FIGURE_DIR = RESULTS_DIR / 'figures/'"
   ]
  },
  {
   "cell_type": "code",
   "execution_count": 8,
   "metadata": {},
   "outputs": [],
   "source": [
    "\n",
    "climatemodel = 'climatemodel'\n",
    "scenario = 'scenario'\n",
    "variable = 'variable'\n",
    "time = 'time'"
   ]
  },
  {
   "cell_type": "code",
   "execution_count": 9,
   "metadata": {},
   "outputs": [],
   "source": [
    "\n",
    "name_deltaT = 'Delta T'"
   ]
  },
  {
   "cell_type": "markdown",
   "metadata": {},
   "source": [
    "### Define variables to look at:"
   ]
  },
  {
   "cell_type": "code",
   "execution_count": 10,
   "metadata": {},
   "outputs": [],
   "source": [
    "# variables to plot:\n",
    "variables_erf_comp = [\n",
    "    'ch4',\n",
    "    'aerosol-total',\n",
    "    'o3',\n",
    "    'HFCs',\n",
    "    'bc_on_snow']\n",
    "# total ERFs for anthropogenic and total:\n",
    "variables_erf_tot = ['total_anthropogenic',\n",
    "                     'total']\n",
    "variables_all = variables_erf_comp + variables_erf_tot\n",
    "# Scenarios to plot:"
   ]
  },
  {
   "cell_type": "code",
   "execution_count": 11,
   "metadata": {
    "lines_to_next_cell": 2
   },
   "outputs": [],
   "source": [
    "\n",
    "scenarios_fl = ['ssp119', 'ssp126', 'ssp245', 'ssp370', 'ssp370-lowNTCF-aerchemmip',\n",
    "                # 'ssp370-lowNTCF', Due to mistake here\n",
    "                'ssp585', 'historical']\n",
    "\n",
    "scenarios_fl_370 = ['ssp370', 'ssp370-lowNTCF-aerchemmip', 'ssp370-lowNTCF-gidden'  # Due to mistake here\n",
    "                    ]"
   ]
  },
  {
   "cell_type": "markdown",
   "metadata": {},
   "source": [
    "## Open dataset:"
   ]
  },
  {
   "cell_type": "markdown",
   "metadata": {},
   "source": [
    "### Integrate:\n",
    "The code below opens the file generated in [2_compute_delta_T.ipynb](2_compute_delta_T.ipynb) by integrating"
   ]
  },
  {
   "cell_type": "markdown",
   "metadata": {},
   "source": [
    "\\begin{align*} \n",
    "\\Delta T (t) &= \\int_0^t ERF(t') IRF(t-t') dt' \\\\\n",
    "\\end{align*}"
   ]
  },
  {
   "cell_type": "markdown",
   "metadata": {},
   "source": [
    "where IRF is the impulse response function and ERF is the effective radiative forcing from RCMIP. "
   ]
  },
  {
   "cell_type": "code",
   "execution_count": 12,
   "metadata": {},
   "outputs": [],
   "source": [
    "ds_DT = xr.open_dataset(PATH_DT)"
   ]
  },
  {
   "cell_type": "code",
   "execution_count": 13,
   "metadata": {},
   "outputs": [
    {
     "data": {
      "text/plain": [
       "PosixPath('/home/sarambl/PHD/IPCC/public/AR6_CH6_RCMIPFIGSv2/ar6_ch6_rcmipfigs/data_out/dT_data_RCMIP.nc')"
      ]
     },
     "execution_count": 13,
     "metadata": {},
     "output_type": "execute_result"
    }
   ],
   "source": [
    "PATH_DT"
   ]
  },
  {
   "cell_type": "code",
   "execution_count": 14,
   "metadata": {},
   "outputs": [
    {
     "data": {
      "text/html": [
       "<pre>&lt;xarray.Dataset&gt;\n",
       "Dimensions:     (percentile: 3, scenario: 10, variable: 18, year: 351)\n",
       "Coordinates:\n",
       "  * year        (year) int64 1750 1751 1752 1753 1754 ... 2097 2098 2099 2100\n",
       "  * variable    (variable) object &#x27;co2&#x27; &#x27;ch4&#x27; &#x27;n2o&#x27; ... &#x27;aerosol-total&#x27; &#x27;HFCs&#x27;\n",
       "  * scenario    (scenario) object &#x27;ssp534-over&#x27; ... &#x27;ssp370-lowNTCF-aerchemmip&#x27;\n",
       "  * percentile  (percentile) object &#x27;5th percentile&#x27; &#x27;median&#x27; &#x27;95th percentile&#x27;\n",
       "Data variables:\n",
       "    ERF         (scenario, variable, year) float64 ...\n",
       "    time        (year) datetime64[ns] ...\n",
       "    delta_t     (year) float64 ...\n",
       "    Delta T     (percentile, scenario, variable, year) float64 ...</pre>"
      ],
      "text/plain": [
       "<xarray.Dataset>\n",
       "Dimensions:     (percentile: 3, scenario: 10, variable: 18, year: 351)\n",
       "Coordinates:\n",
       "  * year        (year) int64 1750 1751 1752 1753 1754 ... 2097 2098 2099 2100\n",
       "  * variable    (variable) object 'co2' 'ch4' 'n2o' ... 'aerosol-total' 'HFCs'\n",
       "  * scenario    (scenario) object 'ssp534-over' ... 'ssp370-lowNTCF-aerchemmip'\n",
       "  * percentile  (percentile) object '5th percentile' 'median' '95th percentile'\n",
       "Data variables:\n",
       "    ERF         (scenario, variable, year) float64 ...\n",
       "    time        (year) datetime64[ns] ...\n",
       "    delta_t     (year) float64 ...\n",
       "    Delta T     (percentile, scenario, variable, year) float64 ..."
      ]
     },
     "execution_count": 14,
     "metadata": {},
     "output_type": "execute_result"
    }
   ],
   "source": [
    "ds_DT"
   ]
  },
  {
   "cell_type": "markdown",
   "metadata": {},
   "source": [
    "### Define stuff:"
   ]
  },
  {
   "cell_type": "code",
   "execution_count": 15,
   "metadata": {},
   "outputs": [],
   "source": [
    "from ar6_ch6_rcmipfigs.utils.plot import get_cmap_dic, get_scenario_c_dic, \\\n",
    "    get_scenario_ls_dic\n",
    "\n",
    "# scenario colors and linestyle\n",
    "cdic = get_scenario_c_dic()\n",
    "lsdic = get_scenario_ls_dic()"
   ]
  },
  {
   "cell_type": "code",
   "execution_count": 16,
   "metadata": {
    "lines_to_next_cell": 2
   },
   "outputs": [],
   "source": [
    "# variables_dt_comp = [new_varname(var, name_deltaT) for var in variables_erf_comp]"
   ]
  },
  {
   "cell_type": "markdown",
   "metadata": {},
   "source": [
    "## Compute sum of all SLCF forcers"
   ]
  },
  {
   "cell_type": "markdown",
   "metadata": {},
   "source": [
    "### Concatinate SLCFs along new dimension:"
   ]
  },
  {
   "cell_type": "code",
   "execution_count": 17,
   "metadata": {},
   "outputs": [],
   "source": [
    "from ar6_ch6_rcmipfigs.utils.plot import get_scenario_c_dic, get_scenario_ls_dic"
   ]
  },
  {
   "cell_type": "code",
   "execution_count": 18,
   "metadata": {},
   "outputs": [],
   "source": [
    "\n",
    "s_y = first_y\n",
    "\n",
    "cdic = get_scenario_c_dic()  # get_cmap_dic(ds_DT[scenario].values)\n",
    "lsdic = get_scenario_ls_dic()  # _scget_ls_dic(ds_DT[climatemodel].values)\n",
    "\n",
    "\n",
    "def sum_name(_var):\n",
    "    \"\"\"\n",
    "    Returns the name off the sum o\n",
    "    \"\"\"\n",
    "    return f'{_var} sum '  # |'.join(var.split('|')[0:2]) + '|' + 'All'\n",
    "\n",
    "\n",
    "# make xarray with variable as new dimension:\n",
    "#_lst_f = []\n",
    "#_lst_dt = []\n",
    "# Make list of dataArrays to be concatinated:\n",
    "#for var in variables_erf_comp:\n",
    "#    _lst_f.append(ds_DT['ERF'].sel(variable=var))\n",
    "#    _lst_dt.append(ds_DT[name_deltaT].sel(variable=var))\n",
    "# Name of new var:\n",
    "# erf_all = sum_name('ERF')\n",
    "# Name of new var:\n",
    "# dt_all = sum_name(name_deltaT)"
   ]
  },
  {
   "cell_type": "code",
   "execution_count": 19,
   "metadata": {},
   "outputs": [],
   "source": [
    "sum_name = 'Sum SLCFs'\n",
    "ds_sub = ds_DT.sel(variable=variables_erf_comp)\n",
    "ds_sum = ds_sub.sum(variable)\n",
    "ds_sum = ds_sum.assign_coords(coords={variable: sum_name})\n",
    "\n",
    "ds_sum = xr.concat([ds_sum, ds_DT], dim=variable)"
   ]
  },
  {
   "cell_type": "code",
   "execution_count": 20,
   "metadata": {},
   "outputs": [
    {
     "data": {
      "text/html": [
       "<pre>&lt;xarray.Dataset&gt;\n",
       "Dimensions:     (percentile: 3, scenario: 10, variable: 19, year: 351)\n",
       "Coordinates:\n",
       "  * percentile  (percentile) object &#x27;5th percentile&#x27; &#x27;median&#x27; &#x27;95th percentile&#x27;\n",
       "  * year        (year) int64 1750 1751 1752 1753 1754 ... 2097 2098 2099 2100\n",
       "  * scenario    (scenario) object &#x27;ssp534-over&#x27; ... &#x27;ssp370-lowNTCF-aerchemmip&#x27;\n",
       "  * variable    (variable) object &#x27;Sum SLCFs&#x27; &#x27;co2&#x27; ... &#x27;aerosol-total&#x27; &#x27;HFCs&#x27;\n",
       "Data variables:\n",
       "    time        (year) datetime64[ns] ...\n",
       "    ERF         (scenario, year, variable) float64 0.0 0.0 ... -0.4407 0.2122\n",
       "    delta_t     (variable, year) float64 1.0 1.0 1.0 1.0 1.0 ... 1.0 1.0 1.0 1.0\n",
       "    Delta T     (percentile, scenario, year, variable) float64 0.0 ... 0.1327</pre>"
      ],
      "text/plain": [
       "<xarray.Dataset>\n",
       "Dimensions:     (percentile: 3, scenario: 10, variable: 19, year: 351)\n",
       "Coordinates:\n",
       "  * percentile  (percentile) object '5th percentile' 'median' '95th percentile'\n",
       "  * year        (year) int64 1750 1751 1752 1753 1754 ... 2097 2098 2099 2100\n",
       "  * scenario    (scenario) object 'ssp534-over' ... 'ssp370-lowNTCF-aerchemmip'\n",
       "  * variable    (variable) object 'Sum SLCFs' 'co2' ... 'aerosol-total' 'HFCs'\n",
       "Data variables:\n",
       "    time        (year) datetime64[ns] ...\n",
       "    ERF         (scenario, year, variable) float64 0.0 0.0 ... -0.4407 0.2122\n",
       "    delta_t     (variable, year) float64 1.0 1.0 1.0 1.0 1.0 ... 1.0 1.0 1.0 1.0\n",
       "    Delta T     (percentile, scenario, year, variable) float64 0.0 ... 0.1327"
      ]
     },
     "execution_count": 20,
     "metadata": {},
     "output_type": "execute_result"
    }
   ],
   "source": [
    "ds_sum  # .assign_coords(coords={variable:sum_name})\n",
    "ds_DT = ds_sum\n",
    "ds_DT"
   ]
  },
  {
   "cell_type": "code",
   "execution_count": 21,
   "metadata": {},
   "outputs": [
    {
     "data": {
      "text/plain": [
       "array(['Sum SLCFs', 'co2', 'ch4', 'n2o', 'other_wmghg', 'o3',\n",
       "       'h2o_stratospheric', 'contrails', 'aerosol-radiation_interactions',\n",
       "       'aerosol-cloud_interactions', 'bc_on_snow', 'land_use', 'volcanic',\n",
       "       'solar', 'total_anthropogenic', 'total_natural', 'total',\n",
       "       'aerosol-total', 'HFCs'], dtype=object)"
      ]
     },
     "execution_count": 21,
     "metadata": {},
     "output_type": "execute_result"
    }
   ],
   "source": [
    "ds_DT.variable.values"
   ]
  },
  {
   "cell_type": "code",
   "execution_count": 22,
   "metadata": {},
   "outputs": [],
   "source": [
    "total_varname = 'total_anthropogenic'"
   ]
  },
  {
   "cell_type": "markdown",
   "metadata": {},
   "source": [
    "## Plot total $\\Delta T$ together with SLCF contribution\n",
    "In the following plot, the total anthropogenic temperature change in a scenario is showed by the black stipled line, while the contribution of each SLCFer is showed as an shaded area either (cooling) over or under (warming)."
   ]
  },
  {
   "cell_type": "code",
   "execution_count": null,
   "metadata": {},
   "outputs": [
    {
     "name": "stderr",
     "output_type": "stream",
     "text": [
      "/home/sarambl/miniconda3/envs/rcmip_ch6/lib/python3.7/site-packages/pandas/core/indexing.py:1761: PerformanceWarning: indexing past lexsort depth may impact performance.\n",
      "  return self._getitem_tuple(key)\n"
     ]
    }
   ],
   "source": [
    "SMALL_SIZE = 12\n",
    "MEDIUM_SIZE = 12\n",
    "BIGGER_SIZE = 14\n",
    "\n",
    "plt.rc('font', size=SMALL_SIZE)  # controls default text sizes\n",
    "plt.rc('axes', titlesize=SMALL_SIZE)  # fontsize of the axes title\n",
    "plt.rc('axes', labelsize=MEDIUM_SIZE)  # fontsize of the x and y labels\n",
    "plt.rc('xtick', labelsize=SMALL_SIZE)  # fontsize of the tick labels\n",
    "plt.rc('ytick', labelsize=SMALL_SIZE)  # fontsize of the tick labels\n",
    "plt.rc('legend', fontsize=SMALL_SIZE)  # legend fontsize\n",
    "plt.rc('figure', titlesize=BIGGER_SIZE)  # fontsize of the figure title\n",
    "\n",
    "s_y = ref_year\n",
    "s_y2 = '2000'\n",
    "e_y = last_y\n",
    "e_y2 = last_y\n",
    "# Scenarios to plot:\n",
    "scenarios_ss = ['ssp126', 'ssp245', 'ssp585']\n",
    "ref_var_erf = 'ERF'\n",
    "ref_var_dt = name_deltaT\n",
    "# make subset and ref to year s_y:\n",
    "ds_DT: xr.Dataset\n",
    "_ds = ds_DT.sel(scenario=scenarios_ss, year=slice(s_y2, e_y2)) - ds_DT.sel(scenario=scenarios_ss,\n",
    "                                                                           year=slice(s_y, s_y)).squeeze()\n",
    "cdic = get_cmap_dic(variables_erf_comp, palette='bright')\n",
    "first = True\n",
    "for ref_var, varl in zip([ref_var_dt],\n",
    "                         [variables_erf_comp]):\n",
    "    fig, ax = plt.subplots(1, figsize=[7, 4.5])\n",
    "    # Plot zero line:\n",
    "\n",
    "    ax.plot(_ds['year'], np.zeros(len(_ds['year'])), c='k', alpha=0.5, linestyle='dashed')\n",
    "    # print(ref_var)\n",
    "    for scn in scenarios_ss[:]:\n",
    "        # subtract year \n",
    "        _base = _ds[ref_var]  # .sel(variable = total_varname)  # _ds.sel(scenario=scn)\n",
    "        _base = _base.sel(scenario=scn,\n",
    "                          year=slice(s_y2, e_y2)).sel(\n",
    "            variable=total_varname)  # -_base.sel(scenario=scn, time=slice(s_y, s_y)).squeeze()\n",
    "        base_keep = _base.sel(percentile='median')  # mean(climatemodel)\n",
    "        basep = _base.sel(percentile='median')\n",
    "        basem = _base.sel(percentile='median')\n",
    "        if first:\n",
    "            base_keep.plot(c='k', linewidth=2, linestyle='dashed', ax=ax, label='Scenario total ')\n",
    "            first = False\n",
    "        else:\n",
    "            base_keep.plot(c='k', linewidth=2, linestyle='dashed', ax=ax, label='_nolegend_')\n",
    "\n",
    "        scen_ds = _ds[ref_var].sel(scenario=scn, variable=varl) - base_keep\n",
    "        test_df = scen_ds.sel(percentile='median').to_dataframe()\n",
    "        for var in varl:\n",
    "            if scn == scenarios_ss[0]:\n",
    "                label = get_var_nicename(var)\n",
    "            else:\n",
    "                label = '_nolegend_'\n",
    "\n",
    "            _pl_da = _ds[ref_var].sel(variable=var, scenario=scn, year=slice(s_y2, e_y2),\n",
    "                                      percentile='median')  # .mean(climatemodel))  # -base_keep)\n",
    "            if _pl_da.mean() <= 0:\n",
    "                # print(var)\n",
    "\n",
    "                ax.fill_between(base_keep['year'].values, basep, -_pl_da + basep, alpha=0.9,\n",
    "                                color=cdic[var], label=label)\n",
    "                basep = basep - _pl_da\n",
    "            else:\n",
    "                ax.fill_between(base_keep['year'].values, basem, basem - _pl_da, alpha=0.9,\n",
    "                                color=cdic[var], label=label)\n",
    "                basem = basem - _pl_da\n",
    "\n",
    "        if 'Delta T' in ref_var:\n",
    "            x_val = 2100\n",
    "            y_val = base_keep.sel(year=int(x_val))\n",
    "            if scn == 'ssp585':\n",
    "                kwargs = {'xy': (x_val, y_val)}  # , 'rotation': 28.6}\n",
    "            else:\n",
    "                kwargs = {'xy': (x_val, y_val)}\n",
    "            # ax.annotate('$\\Delta$T, %s' % scn, **kwargs)\n",
    "            ax.annotate(' %s' % scn, **kwargs)\n",
    "\n",
    "    ax.legend(frameon=False, loc=2)\n",
    "\n",
    "    ax.spines['right'].set_visible(False)\n",
    "    ax.spines['top'].set_visible(False)\n",
    "\n",
    "    ax.set_xlim([int(s_y2), int(e_y2)])\n",
    "    ax.set_ylabel('($^\\circ$C)')\n",
    "    ax.set_xlabel('')\n",
    "    plt.title('Temperature change contributions by SLCF\\'s in two scenarios', fontsize=14)\n",
    "    plt.tight_layout()\n",
    "    plt.savefig(FIGURE_DIR / 'ssp858_126_relative_contrib.png', dpi=300,bbox_inches=\"tight\")\n",
    "    \n",
    "    plt.savefig(FIGURE_DIR / 'ssp858_126_relative_contrib.pdf', dpi=300,bbox_inches=\"tight\")\n",
    "    plt.show()"
   ]
  },
  {
   "cell_type": "code",
   "execution_count": null,
   "metadata": {},
   "outputs": [],
   "source": [
    "ref_var_dt"
   ]
  },
  {
   "cell_type": "markdown",
   "metadata": {},
   "source": [
    "## Plot total $\\Delta T$ together with SLCF contribution -- reversed\n",
    "In the following plot, the total anthropogenic temperature change in a scenario is showed by the black stipled line, while the contribution of each SLCFer is showed as an shaded area either (**warming**) over or under (**cooling**)."
   ]
  },
  {
   "cell_type": "code",
   "execution_count": null,
   "metadata": {},
   "outputs": [],
   "source": [
    "SMALL_SIZE = 12\n",
    "MEDIUM_SIZE = 12\n",
    "BIGGER_SIZE = 14\n",
    "\n",
    "plt.rc('font', size=SMALL_SIZE)  # controls default text sizes\n",
    "plt.rc('axes', titlesize=SMALL_SIZE)  # fontsize of the axes title\n",
    "plt.rc('axes', labelsize=MEDIUM_SIZE)  # fontsize of the x and y labels\n",
    "plt.rc('xtick', labelsize=SMALL_SIZE)  # fontsize of the tick labels\n",
    "plt.rc('ytick', labelsize=SMALL_SIZE)  # fontsize of the tick labels\n",
    "plt.rc('legend', fontsize=SMALL_SIZE)  # legend fontsize\n",
    "plt.rc('figure', titlesize=BIGGER_SIZE)  # fontsize of the figure title\n",
    "\n",
    "s_y = ref_year\n",
    "s_y2 = '2000'\n",
    "e_y = '2100'\n",
    "e_y2 = '2100'\n",
    "\n",
    "scenarios_ss = ['ssp126', 'ssp245', 'ssp585']\n",
    "ref_var_erf = 'ERF'\n",
    "ref_var_dt = name_deltaT\n",
    "# make subset and ref to year s_y:\n",
    "_ds = ds_DT.sel(scenario=scenarios_ss, year=slice(s_y2, e_y2)) - ds_DT.sel(scenario=scenarios_ss,\n",
    "                                                                           year=slice(s_y, s_y)).squeeze()\n",
    "cdic = get_cmap_dic(variables_erf_comp, palette='bright')\n",
    "\n",
    "first = True\n",
    "for ref_var, varl in zip([ref_var_dt],\n",
    "                         [variables_erf_comp]):\n",
    "    fig, ax = plt.subplots(1, figsize=[7, 4.5])\n",
    "    # Plot zero line:\n",
    "\n",
    "    ax.plot(_ds['year'], np.zeros(len(_ds['year'])), c='k', alpha=0.5, linestyle='dashed')\n",
    "    # print(ref_var)\n",
    "    for scn in scenarios_ss[:]:\n",
    "        # subtract year \n",
    "        _base = _ds[ref_var]\n",
    "        _base = _base.sel(scenario=scn,\n",
    "                          year=slice(s_y2, e_y2)).sel(\n",
    "            variable=total_varname)  # -_base.sel(scenario=scn, time=slice(s_y, s_y)).squeeze()\n",
    "        base_keep = _base.sel(percentile='median')  # mean(climatemodel)\n",
    "        basep = _base.sel(percentile='median')\n",
    "        basem = _base.sel(percentile='median')\n",
    "        if first:\n",
    "            base_keep.plot(c='k', linewidth=2, linestyle='dashed', ax=ax, label='Scenario total ')\n",
    "            first = False\n",
    "        else:\n",
    "            base_keep.plot(c='k', linewidth=2, linestyle='dashed', ax=ax, label='_nolegend_')\n",
    "\n",
    "        scen_ds = _ds[ref_var].sel(scenario=scn, variable=varl) - base_keep\n",
    "        test_df = scen_ds.sel(percentile='median').to_dataframe()\n",
    "        for var in varl:\n",
    "            if scn == scenarios_ss[0]:\n",
    "                label = get_var_nicename(var)  # ' ' + var.split('|')[-1]\n",
    "            else:\n",
    "                label = '_nolegend_'\n",
    "\n",
    "            _pl_da = _ds[ref_var].sel(variable=var, scenario=scn, year=slice(s_y2, e_y2),\n",
    "                                      percentile='median')  # .mean(climatemodel))  # -base_keep)\n",
    "            if _pl_da.mean() <= 0:\n",
    "                # print(var)\n",
    "\n",
    "                ax.fill_between(base_keep['year'].values, basep + _pl_da, basep, alpha=0.9,\n",
    "                                color=cdic[var], label=label)\n",
    "                basep = basep + _pl_da\n",
    "            else:\n",
    "                ax.fill_between(base_keep['year'].values, basem, basem + _pl_da, alpha=0.9,\n",
    "                                color=cdic[var], label=label)\n",
    "                basem = basem + _pl_da\n",
    "\n",
    "        if 'Delta T' in ref_var:\n",
    "            x_val = 2100\n",
    "            y_val = base_keep.sel(year=int(x_val))\n",
    "            if scn == 'ssp585':\n",
    "                kwargs = {'xy': (x_val, y_val)}  # , 'rotation': 28.6}\n",
    "            else:\n",
    "                kwargs = {'xy': (x_val, y_val)}\n",
    "            # ax.annotate('$\\Delta$T, %s' % scn, **kwargs)\n",
    "            ax.annotate(' %s' % scn, **kwargs)\n",
    "\n",
    "    ax.legend(frameon=False, loc=2)\n",
    "\n",
    "    ax.spines['right'].set_visible(False)\n",
    "    ax.spines['top'].set_visible(False)\n",
    "\n",
    "    ax.set_xlim([int(s_y2), int(e_y2)])\n",
    "    ax.set_ylabel('($^\\circ$C)')\n",
    "    ax.set_xlabel('')\n",
    "    plt.title('Temperature change contributions by SLCF\\'s in two scenarios', fontsize=14)\n",
    "    plt.tight_layout()\n",
    "    plt.savefig(FIGURE_DIR / 'ssp858_126_relative_contrib_rev.png', dpi=300,bbox_inches=\"tight\")\n",
    "    plt.savefig(FIGURE_DIR / 'ssp858_126_relative_contrib_rev.pdf', dpi=300,bbox_inches=\"tight\")\n",
    "    plt.show()"
   ]
  },
  {
   "cell_type": "code",
   "execution_count": null,
   "metadata": {},
   "outputs": [],
   "source": []
  },
  {
   "cell_type": "code",
   "execution_count": null,
   "metadata": {
    "lines_to_next_cell": 2
   },
   "outputs": [],
   "source": [
    "scenarios_ss = list(\n",
    "    set(scenarios_fl) - {'historical', 'ssp370-lowNTCF-aerchemmip'})  # 'ssp'#['ssp126','ssp245', 'ssp585']"
   ]
  },
  {
   "cell_type": "code",
   "execution_count": null,
   "metadata": {},
   "outputs": [],
   "source": [
    "SMALL_SIZE = 12\n",
    "MEDIUM_SIZE = 12\n",
    "BIGGER_SIZE = 14\n",
    "\n",
    "plt.rc('font', size=SMALL_SIZE)  # controls default text sizes\n",
    "plt.rc('axes', titlesize=SMALL_SIZE)  # fontsize of the axes title\n",
    "plt.rc('axes', labelsize=MEDIUM_SIZE)  # fontsize of the x and y labels\n",
    "plt.rc('xtick', labelsize=SMALL_SIZE)  # fontsize of the tick labels\n",
    "plt.rc('ytick', labelsize=SMALL_SIZE)  # fontsize of the tick labels\n",
    "plt.rc('legend', fontsize=SMALL_SIZE)  # legend fontsize\n",
    "plt.rc('figure', titlesize=BIGGER_SIZE)  # fontsize of the figure title\n",
    "\n",
    "s_y = ref_year\n",
    "s_y2 = '2000'\n",
    "e_y = '2100'\n",
    "e_y2 = '2100'\n",
    "\n",
    "scenarios_ss = ds_DT[scenario].values  # ['ssp126','ssp245', 'ssp585']\n",
    "ref_var_erf = 'ERF'\n",
    "ref_var_dt = name_deltaT\n",
    "# make subset and ref to year s_y:\n",
    "_ds = ds_DT.sel(scenario=scenarios_ss, year=slice(s_y2, e_y2)) - ds_DT.sel(scenario=scenarios_ss,\n",
    "                                                                           year=slice(s_y, s_y)).squeeze()\n",
    "cdic1 = get_cmap_dic(variables_erf_comp, palette='bright')\n",
    "cdic2 = get_cmap_dic(variables_erf_comp, palette='bright')\n",
    "cdic = cdic1  # , **cdic2)\n",
    "first = True\n",
    "for ref_var, varl in zip([ref_var_dt],\n",
    "                         [variables_erf_comp]):\n",
    "    fig, ax = plt.subplots(1, figsize=[7, 4.5])\n",
    "    # Plot zero line:\n",
    "\n",
    "    ax.plot(_ds['year'], np.zeros(len(_ds['year'])), c='k', alpha=0.5, linestyle='dashed')\n",
    "    # print(ref_var)\n",
    "    for scn in scenarios_ss[:]:\n",
    "        # subtract year \n",
    "        _base = _ds[ref_var]\n",
    "        _base = _base.sel(scenario=scn,\n",
    "                          year=slice(s_y2, e_y2)).sel(\n",
    "            variable=total_varname)  # -_base.sel(scenario=scn, time=slice(s_y, s_y)).squeeze()\n",
    "        base_keep = _base.sel(percentile='median')  # mean(climatemodel)\n",
    "        basep = _base.sel(percentile='median')\n",
    "        basem = _base.sel(percentile='median')\n",
    "        if first:\n",
    "            base_keep.plot(c='k', linewidth=2, linestyle='dashed', ax=ax, label='Scenario total ')\n",
    "            first = False\n",
    "        else:\n",
    "            base_keep.plot(c='k', linewidth=2, linestyle='dashed', ax=ax, label='_nolegend_')\n",
    "\n",
    "        scen_ds = _ds[ref_var].sel(scenario=scn, variable=varl) - base_keep\n",
    "        test_df = scen_ds.sel(percentile='median').to_dataframe()\n",
    "        for var in varl:\n",
    "            if scn == scenarios_ss[0]:\n",
    "                label = get_var_nicename(var)\n",
    "\n",
    "            else:\n",
    "                label = '_nolegend_'\n",
    "\n",
    "            _pl_da = _ds[ref_var].sel(variable=var, scenario=scn, year=slice(s_y2, e_y2),\n",
    "                                      percentile='median')  # .mean(climatemodel))  # -base_keep)\n",
    "            if _pl_da.mean() <= 0:\n",
    "\n",
    "                ax.fill_between(base_keep['year'].values, basep + _pl_da, basep, alpha=0.5,\n",
    "                                color=cdic[var], label=label)\n",
    "                basep = basep + _pl_da\n",
    "            else:\n",
    "                ax.fill_between(base_keep['year'].values, basem, basem + _pl_da, alpha=0.5,\n",
    "                                color=cdic[var], label=label)\n",
    "                basem = basem + _pl_da\n",
    "\n",
    "        if 'Delta T' in ref_var:\n",
    "            x_val = 2100\n",
    "            y_val = base_keep.sel(year=int(x_val))\n",
    "            if scn == 'ssp585':\n",
    "                kwargs = {'xy': (x_val, y_val)}  # , 'rotation': 28.6}\n",
    "            else:\n",
    "                kwargs = {'xy': (x_val, y_val)}\n",
    "            ax.annotate(' %s' % scn, **kwargs)\n",
    "\n",
    "    ax.legend(frameon=False, loc=2)\n",
    "\n",
    "    ax.spines['right'].set_visible(False)\n",
    "    ax.spines['top'].set_visible(False)\n",
    "\n",
    "    ax.set_xlim([int(s_y2), int(e_y2)])\n",
    "    ax.set_ylabel('($^\\circ$C)')\n",
    "    ax.set_xlabel('')\n",
    "    plt.title('Temperature change contributions by SLCF\\'s in two scenarios', fontsize=14)\n",
    "    plt.tight_layout()\n",
    "    # plt.savefig(FIGURE_DIR /'ssp858_126_relative_contrib_rev.png', dpi=300)\n",
    "    plt.show()"
   ]
  },
  {
   "cell_type": "markdown",
   "metadata": {},
   "source": [
    "## What question does the graph answer?\n",
    "- What are the relative contributions of SLCFs?\n",
    "    - The figure above shows the contributions of 5 SLCFs and the total anthropogenic forcing in two scenarios (black line) relative to year 2021. The area signifies the warming (below the total) or cooling (above the stipled line) introduced by changes in the SLCFer in the specific scenario. Note that in the in the businiss as usual scenario, all the SLCFers except BC on snow add to the warming, while in the 126 scenario, the emission control acts to reduce methane, ozone and BC, and these are thus contributing to cooling. Both scenarios include emission controls which act to reduce aerosols relative 2021 and thus the aerosols give warming. However, the warming from aerosols is much stronger in ssp126 because of stricter emission control in this scenario. \n",
    "\n"
   ]
  },
  {
   "cell_type": "code",
   "execution_count": null,
   "metadata": {},
   "outputs": [],
   "source": []
  }
 ],
 "metadata": {
  "ipub": {
   "bibliography": "IPCC_terje.bib",
   "biboptions": [
    "super",
    "sort"
   ],
   "bibstyle": "unsrtnat"
  },
  "jupytext": {
   "encoding": "# -*- coding: utf-8 -*-",
   "text_representation": {
    "extension": ".py",
    "format_name": "percent",
    "format_version": "1.3",
    "jupytext_version": "1.3.3"
   }
  },
  "kernelspec": {
   "display_name": "Python 3",
   "language": "python",
   "name": "python3"
  },
  "language_info": {
   "codemirror_mode": {
    "name": "ipython",
    "version": 3
   },
   "file_extension": ".py",
   "mimetype": "text/x-python",
   "name": "python",
   "nbconvert_exporter": "python",
   "pygments_lexer": "ipython3",
   "version": "3.7.6"
  },
  "latex_metadata": {
   "author": "Sara Blichner, T. K. Berntsen",
   "bibliography": "IPCC_terje",
   "bibstyle": "plain",
   "title": "Comparison of temperature response for various climate gases"
  },
  "pycharm": {
   "stem_cell": {
    "cell_type": "raw",
    "metadata": {
     "collapsed": false
    },
    "source": []
   }
  }
 },
 "nbformat": 4,
 "nbformat_minor": 4
}
