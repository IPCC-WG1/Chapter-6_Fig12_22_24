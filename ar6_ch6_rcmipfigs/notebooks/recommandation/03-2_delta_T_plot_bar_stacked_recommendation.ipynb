{
 "cells": [
  {
   "cell_type": "markdown",
   "metadata": {},
   "source": [
    "# Plot temperature response over time"
   ]
  },
  {
   "cell_type": "markdown",
   "metadata": {},
   "source": [
    "This notebook plots temperature respons to SLCFs AND the total scenario forcing in a fixed nr of years"
   ]
  },
  {
   "cell_type": "markdown",
   "metadata": {
    "lines_to_next_cell": 0
   },
   "source": [
    "## Imports:\n",
    "\n",
    "import matplotlib.pyplot as plt\n",
    "import pandas as pd"
   ]
  },
  {
   "cell_type": "code",
   "execution_count": 1,
   "metadata": {},
   "outputs": [],
   "source": [
    "import pandas as pd\n",
    "import matplotlib.pyplot as plt"
   ]
  },
  {
   "cell_type": "code",
   "execution_count": 2,
   "metadata": {},
   "outputs": [],
   "source": [
    "import xarray as xr\n",
    "from pandas.plotting import register_matplotlib_converters\n",
    "\n",
    "register_matplotlib_converters()\n",
    "\n",
    "%load_ext autoreload\n",
    "%autoreload 2"
   ]
  },
  {
   "cell_type": "code",
   "execution_count": 3,
   "metadata": {},
   "outputs": [
    {
     "data": {
      "application/javascript": [
       "IPython.OutputArea.prototype._should_scroll = function(lines) { return false; }"
      ],
      "text/plain": [
       "<IPython.core.display.Javascript object>"
      ]
     },
     "metadata": {},
     "output_type": "display_data"
    },
    {
     "name": "stdout",
     "output_type": "stream",
     "text": [
      "/home/sarambl/PHD/IPCC/public/AR6_CH6_RCMIPFIGSv2/ar6_ch6_rcmipfigs\n",
      "/home/sarambl/PHD/IPCC/public/AR6_CH6_RCMIPFIGSv2/ar6_ch6_rcmipfigs/data_in\n",
      "hallo\n"
     ]
    }
   ],
   "source": [
    "from ar6_ch6_rcmipfigs.utils.plot import get_cmap_dic\n",
    "from ar6_ch6_rcmipfigs.utils.plot import get_var_nicename"
   ]
  },
  {
   "cell_type": "code",
   "execution_count": 4,
   "metadata": {
    "lines_to_next_cell": 2
   },
   "outputs": [],
   "source": [
    "from ar6_ch6_rcmipfigs.constants import OUTPUT_DATA_DIR, RESULTS_DIR\n",
    "\n",
    "# PATH_DATASET = OUTPUT_DATA_DIR + '/forcing_data_rcmip_models.nc'\n",
    "# PATH_DT = OUTPUT_DATA_DIR / '/dT_data_rcmip_models.nc'\n",
    "PATH_DT = OUTPUT_DATA_DIR / 'dT_data_RCMIP.nc'\n",
    "PATH_DT = OUTPUT_DATA_DIR / 'dT_data_RCMIP_recommendation.nc'"
   ]
  },
  {
   "cell_type": "markdown",
   "metadata": {},
   "source": [
    "#### Uncertainty data from Chris"
   ]
  },
  {
   "cell_type": "code",
   "execution_count": 5,
   "metadata": {
    "lines_to_next_cell": 2
   },
   "outputs": [],
   "source": [
    "#PATH_DT_UNCERTAINTY = OUTPUT_DATA_DIR / 'dT_uncertainty_data_FaIR_chris.nc'\n",
    "PATH_DT_UNCERTAINTY = OUTPUT_DATA_DIR / 'dT_uncertainty_data_FaIR_chris_ed02-3.nc'"
   ]
  },
  {
   "cell_type": "markdown",
   "metadata": {},
   "source": [
    "## Set values:"
   ]
  },
  {
   "cell_type": "code",
   "execution_count": 6,
   "metadata": {},
   "outputs": [],
   "source": [
    "first_y = '1750'\n",
    "last_y = '2100'\n",
    "# Years to plot:\n",
    "years = ['2040', '2100']"
   ]
  },
  {
   "cell_type": "markdown",
   "metadata": {},
   "source": [
    "**Set reference year for temperature change:**"
   ]
  },
  {
   "cell_type": "code",
   "execution_count": 7,
   "metadata": {},
   "outputs": [],
   "source": [
    "ref_year = '2020'"
   ]
  },
  {
   "cell_type": "code",
   "execution_count": 8,
   "metadata": {},
   "outputs": [],
   "source": [
    "FIGURE_DIR = RESULTS_DIR / 'figures_recommendation/'\n",
    "\n",
    "TABS_DIR = RESULTS_DIR / 'tables_recommendation/'"
   ]
  },
  {
   "cell_type": "code",
   "execution_count": 9,
   "metadata": {},
   "outputs": [],
   "source": [
    "\n",
    "climatemodel = 'climatemodel'\n",
    "scenario = 'scenario'\n",
    "variable = 'variable'\n",
    "time = 'time'"
   ]
  },
  {
   "cell_type": "code",
   "execution_count": 10,
   "metadata": {},
   "outputs": [],
   "source": [
    "recommendation = 'recommendation'\n",
    "name_deltaT = 'Delta T'\n",
    "sum_v = 'Sum SLCF (Methane, Aerosols, Ozone, HFCs, BC on snow)'\n",
    "\n",
    "scenario_tot = 'Scenario total'"
   ]
  },
  {
   "cell_type": "markdown",
   "metadata": {},
   "source": [
    "### Define variables to look at:"
   ]
  },
  {
   "cell_type": "code",
   "execution_count": 11,
   "metadata": {},
   "outputs": [],
   "source": [
    "# variables to plot:\n",
    "variables_erf_comp = [\n",
    "    'ch4',\n",
    "    'aerosol-total',\n",
    "    'o3',\n",
    "    'HFCs',\n",
    "    'bc_on_snow']\n",
    "variables_erf_comp = [\n",
    "    'aerosol-total-with_bc-snow',\n",
    "    'ch4',\n",
    "    # 'aerosol-radiation_interactions',\n",
    "    # 'aerosol-cloud_interactions',\n",
    "    #'aerosol-total',\n",
    "    'o3',\n",
    "    'HFCs',\n",
    "    #'bc_on_snow'\n",
    "]\n",
    "\n",
    "# total ERFs for anthropogenic and total:\n",
    "variables_erf_tot = ['total_anthropogenic',\n",
    "                     'total']\n",
    "variables_all = variables_erf_comp + variables_erf_tot\n",
    "# Scenarios to plot:"
   ]
  },
  {
   "cell_type": "code",
   "execution_count": 12,
   "metadata": {},
   "outputs": [],
   "source": [
    "\n",
    "scenarios_fl_370 = ['ssp370', 'ssp370-lowNTCF-aerchemmip', 'ssp370-lowNTCF-gidden'  # Due to mistake here\n",
    "                    ]"
   ]
  },
  {
   "cell_type": "markdown",
   "metadata": {},
   "source": [
    "### Scenarios:"
   ]
  },
  {
   "cell_type": "code",
   "execution_count": 13,
   "metadata": {},
   "outputs": [],
   "source": [
    "scenarios_fl = ['ssp119',\n",
    "                'ssp126',\n",
    "                'ssp245',\n",
    "                'ssp334',\n",
    "                'ssp370',\n",
    "                'ssp370-lowNTCF-aerchemmip',\n",
    "                'ssp370-lowNTCF-gidden',\n",
    "                'ssp585']\n",
    "scenarios_fl_oneNTCF = ['ssp119',\n",
    "                        'ssp126',\n",
    "                        'ssp245',\n",
    "                        'ssp370',\n",
    "                        'ssp370-lowNTCF-aerchemmip',\n",
    "                        # 'ssp370-lowNTCF-gidden',\n",
    "                        'ssp585']"
   ]
  },
  {
   "cell_type": "code",
   "execution_count": 14,
   "metadata": {},
   "outputs": [],
   "source": [
    "median = 'median'\n",
    "perc5 = '5th percentile'\n",
    "perc95 = '95th percentile'"
   ]
  },
  {
   "cell_type": "code",
   "execution_count": 15,
   "metadata": {},
   "outputs": [
    {
     "name": "stdout",
     "output_type": "stream",
     "text": [
      "/home/sarambl/PHD/IPCC/public/AR6_CH6_RCMIPFIGSv2/ar6_ch6_rcmipfigs/results/tables_recommendation/3-2_table_all_scen.csv\n"
     ]
    }
   ],
   "source": [
    "table_csv_name = TABS_DIR / '3-2_table_all_scen.csv'\n",
    "print(table_csv_name)"
   ]
  },
  {
   "cell_type": "code",
   "execution_count": 16,
   "metadata": {},
   "outputs": [],
   "source": [
    "\n",
    "variables_tot = ['Total']\n",
    "variables_sum = ['Sum SLCFs']\n",
    "\n",
    "\n",
    "def setup_table_prop(scenario_n='', yrs=None, _vlist=None, scens=None):\n",
    "    if _vlist is None:\n",
    "        _vlist = variables_erf_comp\n",
    "    if yrs is None:\n",
    "        yrs = ['2040', '2100']\n",
    "    if scens is None:\n",
    "        scens = scenarios_fl\n",
    "    its = [yrs, _vlist]\n",
    "    _i = pd.MultiIndex.from_product(its, names=['', ''])\n",
    "    table = pd.DataFrame(columns=scens, index=_i)  # .transpose()\n",
    "    table.index.name = scenario_n\n",
    "    return table"
   ]
  },
  {
   "cell_type": "markdown",
   "metadata": {},
   "source": [
    "## Open dataset:"
   ]
  },
  {
   "cell_type": "markdown",
   "metadata": {},
   "source": [
    "### Integrate:\n",
    "The code below opens the file generated in [2_compute_delta_T.ipynb](2_compute_delta_T.ipynb) by integrating"
   ]
  },
  {
   "cell_type": "markdown",
   "metadata": {},
   "source": [
    "\\begin{align*} \n",
    "\\Delta T (t) &= \\int_0^t ERF(t') IRF(t-t') dt' \\\\\n",
    "\\end{align*}"
   ]
  },
  {
   "cell_type": "markdown",
   "metadata": {},
   "source": [
    "where IRF is the impulse response function and ERF is the effective radiative forcing from RCMIP. "
   ]
  },
  {
   "cell_type": "code",
   "execution_count": 17,
   "metadata": {},
   "outputs": [],
   "source": [
    "ds_DT = xr.open_dataset(PATH_DT)\n",
    "ds_uncertainty = xr.open_dataset(PATH_DT_UNCERTAINTY)"
   ]
  },
  {
   "cell_type": "code",
   "execution_count": 18,
   "metadata": {},
   "outputs": [
    {
     "name": "stdout",
     "output_type": "stream",
     "text": [
      "/home/sarambl/PHD/IPCC/public/AR6_CH6_RCMIPFIGSv2/ar6_ch6_rcmipfigs/data_out/dT_data_RCMIP_recommendation.nc\n"
     ]
    }
   ],
   "source": [
    "print(PATH_DT)"
   ]
  },
  {
   "cell_type": "markdown",
   "metadata": {},
   "source": [
    "## Add sum as variable:"
   ]
  },
  {
   "cell_type": "code",
   "execution_count": 19,
   "metadata": {},
   "outputs": [
    {
     "name": "stdout",
     "output_type": "stream",
     "text": [
      "Sum SLCF (Aerosols, Methane, Ozone, HFCs)\n"
     ]
    }
   ],
   "source": [
    "_str = ''\n",
    "_vl = [get_var_nicename(var).split('(')[0].strip() for var in variables_erf_comp]\n",
    "for var in _vl:\n",
    "    _str += f'{var}, '\n",
    "\n",
    "# ax.set_title('Temperature change, sum SLCF  (%s)' % _str[:-2])\n",
    "\n",
    "\n",
    "vn_sum = 'Sum SLCF (%s)' % _str[:-2]\n",
    "print(vn_sum)\n",
    "\n",
    "# _st = vn_sum.replace('(','').replace(')','').replace(' ','_').replace(',','')+'.csv'\n",
    "\n",
    "\n",
    "_da_sum = ds_DT[name_deltaT].sel(variable=variables_erf_comp).sum(variable)\n",
    "# _da = ds_DT[name_deltaT].sel(variable=variables_erf_comp).sum(variable).sel(year=slice(int(s_y2), int(e_y2))) - ds_DT_sy\n",
    "_da_sum  # .assin_coord()\n",
    "# _ds_check = ds_DT.copy()\n",
    "ds_DT\n",
    "# xr.concat([_ds_check[name_deltaT],_da_sum], dim=variable)\n",
    "\n",
    "dd1 = _da_sum.expand_dims(\n",
    "    {'variable':\n",
    "         ['Sum SLCF (Methane, Aerosols, Ozone, HFCs, BC on snow)']})\n",
    "# dd1=dd1.to_dataset()\n",
    "\n",
    "ds_DT = xr.merge([ds_DT, dd1])"
   ]
  },
  {
   "cell_type": "markdown",
   "metadata": {},
   "source": [
    "## Compute sum of all SLCF forcers"
   ]
  },
  {
   "cell_type": "code",
   "execution_count": null,
   "metadata": {},
   "outputs": [],
   "source": []
  },
  {
   "cell_type": "code",
   "execution_count": 20,
   "metadata": {},
   "outputs": [],
   "source": [
    "from ar6_ch6_rcmipfigs.utils.plot import get_scenario_c_dic, get_scenario_ls_dic"
   ]
  },
  {
   "cell_type": "code",
   "execution_count": 21,
   "metadata": {},
   "outputs": [],
   "source": [
    "\n",
    "\n",
    "cdic = get_scenario_c_dic()\n",
    "lsdic = get_scenario_ls_dic()\n",
    "\n",
    "\n",
    "def sum_name(_var):\n",
    "    \"\"\"\n",
    "    Returns the name off the sum o\n",
    "    \"\"\"\n",
    "    return f'{_var} sum '\n",
    "\n",
    "\n"
   ]
  },
  {
   "cell_type": "markdown",
   "metadata": {},
   "source": [
    "### compute sum: "
   ]
  },
  {
   "cell_type": "markdown",
   "metadata": {},
   "source": [
    "sum_name = 'Sum SLCFs'\n",
    "ds_sub = ds_DT.sel(variable=variables_erf_comp)\n",
    "ds_sum = ds_sub.sum(variable)\n",
    "ds_sum = ds_sum.assign_coords(coords={variable: sum_name})\n",
    "# add sum to variable coordinatem\n",
    "\n",
    "ds_sum = xr.concat([ds_sum, ds_DT.sel(variable=variables_erf_comp)], dim=variable)"
   ]
  },
  {
   "cell_type": "code",
   "execution_count": 22,
   "metadata": {
    "lines_to_next_cell": 0
   },
   "outputs": [],
   "source": [
    "ds_sum = ds_DT  # .assign_coords(coords={variable:sum_name})\n",
    "\n",
    "\n",
    "\n",
    "rn_dic = {}\n",
    "for v in variables_all:\n",
    "    rn_dic[v] = get_var_nicename(v)\n",
    "\n",
    "rn_dic_scen = {#'Total': scenario_tot,\n",
    "    'ssp370-lowNTCF-aerchemmip': 'ssp370-lowNTCF\\n-aerchemmip',\n",
    "    'ssp370-lowNTCF-gidden': 'ssp370-lowNTCF\\n-gidden',\n",
    "}"
   ]
  },
  {
   "cell_type": "code",
   "execution_count": 23,
   "metadata": {
    "lines_to_next_cell": 0
   },
   "outputs": [],
   "source": [
    "def fix_names(df):\n",
    "    df = df.rename(rn_dic)\n",
    "    df = df.rename(rn_dic_scen, axis=1)\n",
    "    return df"
   ]
  },
  {
   "cell_type": "code",
   "execution_count": 24,
   "metadata": {},
   "outputs": [],
   "source": [
    "scntab_dic = {}\n",
    "\n",
    "\n",
    "# tab_tot = setup_table2()\n",
    "# tab_tot_sd = setup_table2()\n",
    "def table_of_sts(_ds, _scn_fl, variables, tab_vars, _yrs, ref_yr, sts=recommendation):\n",
    "    \"\"\"\n",
    "    Creates pandas dataframe of statistics (mean, median, standard deviation) for change\n",
    "    in temperature Delta T since year (ref year) for each scenario in scenarios,\n",
    "\n",
    "    :param _ds:\n",
    "    :param _scn_fl:\n",
    "    :param variables:\n",
    "    :param tab_vars:\n",
    "    :param _yrs:\n",
    "    :param ref_yr:\n",
    "    :param sts:\n",
    "    :return:\n",
    "    \"\"\"\n",
    "    tabel = setup_table_prop(yrs=_yrs, _vlist=tab_vars)\n",
    "    for scn in _scn_fl:\n",
    "        for _var, tabvar in zip(variables, tab_vars):\n",
    "            # dtvar =  name_deltaT # if ERF name, changes it here.\n",
    "            tabscn = scn  # Table scenario name the same.\n",
    "            for year in _yrs:\n",
    "                _da = _ds[name_deltaT].sel(scenario=scn, variable=_var)\n",
    "                _da_refy = _da.sel(year=slice(ref_yr, ref_yr)).squeeze()  # ref year value\n",
    "                _da_y = _da.sel(year=slice(year, year))  # year value\n",
    "                _tab_da = _da_y - _da_refy\n",
    "                tabel.loc[(year, tabvar), tabscn] = float(_tab_da.sel(percentile=sts).squeeze().values)  # [0]\n",
    "    return fix_names(tabel)\n",
    "    #return tabel\n",
    "\n",
    "\n",
    "\n",
    "\n",
    "\n",
    "def table_of_stats_varsums(_ds, dsvar, tabvar, yrs, ref_yr, sts=recommendation):\n",
    "    \"\"\"\n",
    "    Sums up over dimension 'variable' and creates pandas dataframe of statistics (mean, median, standard deviation) for change\n",
    "    in temperature Delta T since year (ref year) for each scenario in scenarios. \n",
    "\n",
    "    :param tabvar:\n",
    "    :param dsvar:\n",
    "    :param _ds:\n",
    "    :param yrs:\n",
    "    :param ref_yr:\n",
    "    :param sts:\n",
    "    :return:\n",
    "    \"\"\"\n",
    "    tabel = setup_table_prop(yrs=yrs, _vlist=[tabvar])\n",
    "    da = _ds[name_deltaT].sel(variable=dsvar)\n",
    "\n",
    "    for scn in scenarios_fl:\n",
    "        tabscn = scn  # Table scenario name the same.\n",
    "        for year in yrs:\n",
    "            _da = da.sel(scenario=scn, percentile=sts)  # , variable = dsvar)\n",
    "            _da_refy = _da.sel(year=slice(ref_yr, ref_yr)).squeeze()  # ref year value\n",
    "            _da_y = _da.sel(year=slice(year, year)).squeeze()  # year value\n",
    "            _tab_da = (_da_y - _da_refy).squeeze()\n",
    "\n",
    "            # Do statistics over RCMIP models\n",
    "            tabel.loc[(year, tabvar), tabscn] = float(_tab_da.squeeze().values)  # [0]\n",
    "\n",
    "    return tabel"
   ]
  },
  {
   "cell_type": "markdown",
   "metadata": {},
   "source": [
    "### Computes statistics:"
   ]
  },
  {
   "cell_type": "code",
   "execution_count": 25,
   "metadata": {},
   "outputs": [
    {
     "data": {
      "text/html": [
       "<pre>&lt;xarray.Dataset&gt;\n",
       "Dimensions:      (base_period: 1, percentile: 10, scenario: 11, variable: 8, year: 81)\n",
       "Coordinates:\n",
       "  * scenario     (scenario) object &#x27;ssp119&#x27; &#x27;ssp126&#x27; ... &#x27;ssp534-over&#x27; &#x27;ssp585&#x27;\n",
       "  * year         (year) int64 2020 2021 2022 2023 2024 ... 2097 2098 2099 2100\n",
       "  * base_period  (base_period) int64 2020\n",
       "  * variable     (variable) object &#x27;HFCs&#x27; ... &#x27;aerosol-total-with_bc-snow&#x27;\n",
       "  * percentile   (percentile) &lt;U7 &#x27;p05&#x27; &#x27;p16&#x27; &#x27;p50&#x27; ... &#x27;p84-p50&#x27; &#x27;p95-p50&#x27;\n",
       "Data variables:\n",
       "    Delta T      (percentile, scenario, variable, year, base_period) float64 0.0 ... 0.1942</pre>"
      ],
      "text/plain": [
       "<xarray.Dataset>\n",
       "Dimensions:      (base_period: 1, percentile: 10, scenario: 11, variable: 8, year: 81)\n",
       "Coordinates:\n",
       "  * scenario     (scenario) object 'ssp119' 'ssp126' ... 'ssp534-over' 'ssp585'\n",
       "  * year         (year) int64 2020 2021 2022 2023 2024 ... 2097 2098 2099 2100\n",
       "  * base_period  (base_period) int64 2020\n",
       "  * variable     (variable) object 'HFCs' ... 'aerosol-total-with_bc-snow'\n",
       "  * percentile   (percentile) <U7 'p05' 'p16' 'p50' ... 'p84-p50' 'p95-p50'\n",
       "Data variables:\n",
       "    Delta T      (percentile, scenario, variable, year, base_period) float64 0.0 ... 0.1942"
      ]
     },
     "execution_count": 25,
     "metadata": {},
     "output_type": "execute_result"
    }
   ],
   "source": [
    "ds_uncertainty = ds_uncertainty.to_array('percentile').rename(name_deltaT).to_dataset()\n",
    "ds_uncertainty"
   ]
  },
  {
   "cell_type": "code",
   "execution_count": 26,
   "metadata": {},
   "outputs": [
    {
     "data": {
      "text/html": [
       "<pre>&lt;xarray.DataArray &#x27;percentile&#x27; (percentile: 1)&gt;\n",
       "array([&#x27;recommendation&#x27;], dtype=object)\n",
       "Coordinates:\n",
       "  * percentile  (percentile) object &#x27;recommendation&#x27;</pre>"
      ],
      "text/plain": [
       "<xarray.DataArray 'percentile' (percentile: 1)>\n",
       "array(['recommendation'], dtype=object)\n",
       "Coordinates:\n",
       "  * percentile  (percentile) object 'recommendation'"
      ]
     },
     "execution_count": 26,
     "metadata": {},
     "output_type": "execute_result"
    }
   ],
   "source": [
    "ds_DT.percentile"
   ]
  },
  {
   "cell_type": "code",
   "execution_count": 27,
   "metadata": {},
   "outputs": [
    {
     "data": {
      "text/plain": [
       "array(['HFCs', 'Sum SLCF (Methane, Aerosols, Ozone, HFCs, BC on snow)',\n",
       "       'aerosol-cloud_interactions', 'aerosol-radiation_interactions',\n",
       "       'aerosol-total', 'aerosol-total-with_bc-snow', 'bc_on_snow', 'ch4',\n",
       "       'co2', 'contrails', 'h2o_stratospheric', 'land_use', 'n2o', 'o3',\n",
       "       'other_wmghg', 'solar', 'total', 'total_anthropogenic',\n",
       "       'total_natural', 'volcanic'], dtype=object)"
      ]
     },
     "execution_count": 27,
     "metadata": {},
     "output_type": "execute_result"
    }
   ],
   "source": [
    "ds_DT.variable.values\n",
    "\n",
    "\n",
    "\n"
   ]
  },
  {
   "cell_type": "code",
   "execution_count": null,
   "metadata": {},
   "outputs": [],
   "source": []
  },
  {
   "cell_type": "code",
   "execution_count": 28,
   "metadata": {},
   "outputs": [],
   "source": [
    "from ar6_ch6_rcmipfigs.utils.plot import nice_name_var as nice_name_var_dic"
   ]
  },
  {
   "cell_type": "markdown",
   "metadata": {},
   "source": [
    "## Make csv table:\n"
   ]
  },
  {
   "cell_type": "code",
   "execution_count": 29,
   "metadata": {},
   "outputs": [],
   "source": [
    "import pandas as pd"
   ]
  },
  {
   "cell_type": "code",
   "execution_count": 30,
   "metadata": {},
   "outputs": [],
   "source": [
    "# Mean:\n",
    "tabel_dT_slcfs = table_of_sts(ds_DT, scenarios_fl, variables_erf_comp + [sum_v, 'total_anthropogenic'],\n",
    "                              variables_erf_comp + [sum_v, 'total_anthropogenic'], years,\n",
    "                              ref_year)\n",
    "_tab = tabel_dT_slcfs.transpose()\n",
    "\n",
    "o3 = 'Ozone (O$_3$)'\n",
    "ch4 = 'Methane (CH$_4$)'\n",
    "HFCs = 'HFCs'\n",
    "_sum = 'CH$_4$+O$_3$+HFCs'\n",
    "for year in ['2040', '2100']:\n",
    "    _tab[(year, _sum)] = _tab[(year, o3)] + _tab[(year, ch4)] + _tab[(year, HFCs)]\n",
    "_tab = _tab.transpose()\n",
    "_tab = _tab.sort_index()  # ()"
   ]
  },
  {
   "cell_type": "code",
   "execution_count": 31,
   "metadata": {},
   "outputs": [
    {
     "data": {
      "text/html": [
       "<div>\n",
       "<style scoped>\n",
       "    .dataframe tbody tr th:only-of-type {\n",
       "        vertical-align: middle;\n",
       "    }\n",
       "\n",
       "    .dataframe tbody tr th {\n",
       "        vertical-align: top;\n",
       "    }\n",
       "\n",
       "    .dataframe thead th {\n",
       "        text-align: right;\n",
       "    }\n",
       "</style>\n",
       "<table border=\"1\" class=\"dataframe\">\n",
       "  <thead>\n",
       "    <tr style=\"text-align: right;\">\n",
       "      <th></th>\n",
       "      <th></th>\n",
       "      <th>ssp119</th>\n",
       "      <th>ssp126</th>\n",
       "      <th>ssp245</th>\n",
       "      <th>ssp334</th>\n",
       "      <th>ssp370</th>\n",
       "      <th>ssp370-lowNTCF\\n-aerchemmip</th>\n",
       "      <th>ssp370-lowNTCF\\n-gidden</th>\n",
       "      <th>ssp585</th>\n",
       "    </tr>\n",
       "    <tr>\n",
       "      <th></th>\n",
       "      <th></th>\n",
       "      <th></th>\n",
       "      <th></th>\n",
       "      <th></th>\n",
       "      <th></th>\n",
       "      <th></th>\n",
       "      <th></th>\n",
       "      <th></th>\n",
       "      <th></th>\n",
       "    </tr>\n",
       "  </thead>\n",
       "  <tbody>\n",
       "    <tr>\n",
       "      <th rowspan=\"7\" valign=\"top\">2040</th>\n",
       "      <th>Aerosols</th>\n",
       "      <td>0.273794</td>\n",
       "      <td>0.22836</td>\n",
       "      <td>0.0466276</td>\n",
       "      <td>0.0762187</td>\n",
       "      <td>-0.052029</td>\n",
       "      <td>0.0870509</td>\n",
       "      <td>0.0870509</td>\n",
       "      <td>0.122591</td>\n",
       "    </tr>\n",
       "    <tr>\n",
       "      <th>CH$_4$+O$_3$+HFCs</th>\n",
       "      <td>-0.110568</td>\n",
       "      <td>-0.0636707</td>\n",
       "      <td>0.0851975</td>\n",
       "      <td>0.033788</td>\n",
       "      <td>0.172526</td>\n",
       "      <td>0.127176</td>\n",
       "      <td>-0.0539336</td>\n",
       "      <td>0.144239</td>\n",
       "    </tr>\n",
       "    <tr>\n",
       "      <th>HFCs</th>\n",
       "      <td>0.00538032</td>\n",
       "      <td>0.0170608</td>\n",
       "      <td>0.0284577</td>\n",
       "      <td>0.00538032</td>\n",
       "      <td>0.0264999</td>\n",
       "      <td>0.0264999</td>\n",
       "      <td>0.026497</td>\n",
       "      <td>0.0423128</td>\n",
       "    </tr>\n",
       "    <tr>\n",
       "      <th>Methane (CH$_4$)</th>\n",
       "      <td>-0.0328498</td>\n",
       "      <td>-0.0208684</td>\n",
       "      <td>0.0417628</td>\n",
       "      <td>0.0464901</td>\n",
       "      <td>0.0761809</td>\n",
       "      <td>0.0761809</td>\n",
       "      <td>-0.0362155</td>\n",
       "      <td>0.0618279</td>\n",
       "    </tr>\n",
       "    <tr>\n",
       "      <th>Ozone (O$_3$)</th>\n",
       "      <td>-0.0830983</td>\n",
       "      <td>-0.0598631</td>\n",
       "      <td>0.014977</td>\n",
       "      <td>-0.0180824</td>\n",
       "      <td>0.0698454</td>\n",
       "      <td>0.0244954</td>\n",
       "      <td>-0.0442151</td>\n",
       "      <td>0.0400979</td>\n",
       "    </tr>\n",
       "    <tr>\n",
       "      <th>Sum SLCF (Methane, Aerosols, Ozone, HFCs, BC on snow)</th>\n",
       "      <td>0.163226</td>\n",
       "      <td>0.164689</td>\n",
       "      <td>0.131825</td>\n",
       "      <td>0.110007</td>\n",
       "      <td>0.120497</td>\n",
       "      <td>0.214227</td>\n",
       "      <td>0.0331173</td>\n",
       "      <td>0.266829</td>\n",
       "    </tr>\n",
       "    <tr>\n",
       "      <th>total_anthropogenic</th>\n",
       "      <td>0.397428</td>\n",
       "      <td>0.505497</td>\n",
       "      <td>0.584779</td>\n",
       "      <td>0.528874</td>\n",
       "      <td>0.663786</td>\n",
       "      <td>0.75756</td>\n",
       "      <td>0.566941</td>\n",
       "      <td>0.836875</td>\n",
       "    </tr>\n",
       "    <tr>\n",
       "      <th rowspan=\"7\" valign=\"top\">2100</th>\n",
       "      <th>Aerosols</th>\n",
       "      <td>0.424517</td>\n",
       "      <td>0.434063</td>\n",
       "      <td>0.281874</td>\n",
       "      <td>0.322135</td>\n",
       "      <td>-0.0266798</td>\n",
       "      <td>0.284753</td>\n",
       "      <td>0.284753</td>\n",
       "      <td>0.232166</td>\n",
       "    </tr>\n",
       "    <tr>\n",
       "      <th>CH$_4$+O$_3$+HFCs</th>\n",
       "      <td>-0.315336</td>\n",
       "      <td>-0.303945</td>\n",
       "      <td>0.010594</td>\n",
       "      <td>-0.0765999</td>\n",
       "      <td>0.610084</td>\n",
       "      <td>0.531375</td>\n",
       "      <td>-0.137153</td>\n",
       "      <td>0.421406</td>\n",
       "    </tr>\n",
       "    <tr>\n",
       "      <th>HFCs</th>\n",
       "      <td>-0.00378865</td>\n",
       "      <td>-0.00146604</td>\n",
       "      <td>0.0575687</td>\n",
       "      <td>-0.00378865</td>\n",
       "      <td>0.0969879</td>\n",
       "      <td>0.0969879</td>\n",
       "      <td>0.083767</td>\n",
       "      <td>0.223272</td>\n",
       "    </tr>\n",
       "    <tr>\n",
       "      <th>Methane (CH$_4$)</th>\n",
       "      <td>-0.163074</td>\n",
       "      <td>-0.15534</td>\n",
       "      <td>-0.00104217</td>\n",
       "      <td>-0.00603899</td>\n",
       "      <td>0.276651</td>\n",
       "      <td>0.276651</td>\n",
       "      <td>-0.122362</td>\n",
       "      <td>0.147478</td>\n",
       "    </tr>\n",
       "    <tr>\n",
       "      <th>Ozone (O$_3$)</th>\n",
       "      <td>-0.148473</td>\n",
       "      <td>-0.14714</td>\n",
       "      <td>-0.0459325</td>\n",
       "      <td>-0.0667722</td>\n",
       "      <td>0.236445</td>\n",
       "      <td>0.157736</td>\n",
       "      <td>-0.0985579</td>\n",
       "      <td>0.0506565</td>\n",
       "    </tr>\n",
       "    <tr>\n",
       "      <th>Sum SLCF (Methane, Aerosols, Ozone, HFCs, BC on snow)</th>\n",
       "      <td>0.109181</td>\n",
       "      <td>0.130118</td>\n",
       "      <td>0.292468</td>\n",
       "      <td>0.245535</td>\n",
       "      <td>0.583404</td>\n",
       "      <td>0.816129</td>\n",
       "      <td>0.1476</td>\n",
       "      <td>0.653572</td>\n",
       "    </tr>\n",
       "    <tr>\n",
       "      <th>total_anthropogenic</th>\n",
       "      <td>0.116036</td>\n",
       "      <td>0.544207</td>\n",
       "      <td>1.75423</td>\n",
       "      <td>0.900552</td>\n",
       "      <td>3.15208</td>\n",
       "      <td>3.37383</td>\n",
       "      <td>2.64906</td>\n",
       "      <td>4.11427</td>\n",
       "    </tr>\n",
       "  </tbody>\n",
       "</table>\n",
       "</div>"
      ],
      "text/plain": [
       "                                                             ssp119  \\\n",
       "                                                                      \n",
       "2040 Aerosols                                              0.273794   \n",
       "     CH$_4$+O$_3$+HFCs                                    -0.110568   \n",
       "     HFCs                                                0.00538032   \n",
       "     Methane (CH$_4$)                                    -0.0328498   \n",
       "     Ozone (O$_3$)                                       -0.0830983   \n",
       "     Sum SLCF (Methane, Aerosols, Ozone, HFCs, BC on...    0.163226   \n",
       "     total_anthropogenic                                   0.397428   \n",
       "2100 Aerosols                                              0.424517   \n",
       "     CH$_4$+O$_3$+HFCs                                    -0.315336   \n",
       "     HFCs                                               -0.00378865   \n",
       "     Methane (CH$_4$)                                     -0.163074   \n",
       "     Ozone (O$_3$)                                        -0.148473   \n",
       "     Sum SLCF (Methane, Aerosols, Ozone, HFCs, BC on...    0.109181   \n",
       "     total_anthropogenic                                   0.116036   \n",
       "\n",
       "                                                             ssp126  \\\n",
       "                                                                      \n",
       "2040 Aerosols                                               0.22836   \n",
       "     CH$_4$+O$_3$+HFCs                                   -0.0636707   \n",
       "     HFCs                                                 0.0170608   \n",
       "     Methane (CH$_4$)                                    -0.0208684   \n",
       "     Ozone (O$_3$)                                       -0.0598631   \n",
       "     Sum SLCF (Methane, Aerosols, Ozone, HFCs, BC on...    0.164689   \n",
       "     total_anthropogenic                                   0.505497   \n",
       "2100 Aerosols                                              0.434063   \n",
       "     CH$_4$+O$_3$+HFCs                                    -0.303945   \n",
       "     HFCs                                               -0.00146604   \n",
       "     Methane (CH$_4$)                                      -0.15534   \n",
       "     Ozone (O$_3$)                                         -0.14714   \n",
       "     Sum SLCF (Methane, Aerosols, Ozone, HFCs, BC on...    0.130118   \n",
       "     total_anthropogenic                                   0.544207   \n",
       "\n",
       "                                                             ssp245  \\\n",
       "                                                                      \n",
       "2040 Aerosols                                             0.0466276   \n",
       "     CH$_4$+O$_3$+HFCs                                    0.0851975   \n",
       "     HFCs                                                 0.0284577   \n",
       "     Methane (CH$_4$)                                     0.0417628   \n",
       "     Ozone (O$_3$)                                         0.014977   \n",
       "     Sum SLCF (Methane, Aerosols, Ozone, HFCs, BC on...    0.131825   \n",
       "     total_anthropogenic                                   0.584779   \n",
       "2100 Aerosols                                              0.281874   \n",
       "     CH$_4$+O$_3$+HFCs                                     0.010594   \n",
       "     HFCs                                                 0.0575687   \n",
       "     Methane (CH$_4$)                                   -0.00104217   \n",
       "     Ozone (O$_3$)                                       -0.0459325   \n",
       "     Sum SLCF (Methane, Aerosols, Ozone, HFCs, BC on...    0.292468   \n",
       "     total_anthropogenic                                    1.75423   \n",
       "\n",
       "                                                             ssp334  \\\n",
       "                                                                      \n",
       "2040 Aerosols                                             0.0762187   \n",
       "     CH$_4$+O$_3$+HFCs                                     0.033788   \n",
       "     HFCs                                                0.00538032   \n",
       "     Methane (CH$_4$)                                     0.0464901   \n",
       "     Ozone (O$_3$)                                       -0.0180824   \n",
       "     Sum SLCF (Methane, Aerosols, Ozone, HFCs, BC on...    0.110007   \n",
       "     total_anthropogenic                                   0.528874   \n",
       "2100 Aerosols                                              0.322135   \n",
       "     CH$_4$+O$_3$+HFCs                                   -0.0765999   \n",
       "     HFCs                                               -0.00378865   \n",
       "     Methane (CH$_4$)                                   -0.00603899   \n",
       "     Ozone (O$_3$)                                       -0.0667722   \n",
       "     Sum SLCF (Methane, Aerosols, Ozone, HFCs, BC on...    0.245535   \n",
       "     total_anthropogenic                                   0.900552   \n",
       "\n",
       "                                                            ssp370  \\\n",
       "                                                                     \n",
       "2040 Aerosols                                            -0.052029   \n",
       "     CH$_4$+O$_3$+HFCs                                    0.172526   \n",
       "     HFCs                                                0.0264999   \n",
       "     Methane (CH$_4$)                                    0.0761809   \n",
       "     Ozone (O$_3$)                                       0.0698454   \n",
       "     Sum SLCF (Methane, Aerosols, Ozone, HFCs, BC on...   0.120497   \n",
       "     total_anthropogenic                                  0.663786   \n",
       "2100 Aerosols                                           -0.0266798   \n",
       "     CH$_4$+O$_3$+HFCs                                    0.610084   \n",
       "     HFCs                                                0.0969879   \n",
       "     Methane (CH$_4$)                                     0.276651   \n",
       "     Ozone (O$_3$)                                        0.236445   \n",
       "     Sum SLCF (Methane, Aerosols, Ozone, HFCs, BC on...   0.583404   \n",
       "     total_anthropogenic                                   3.15208   \n",
       "\n",
       "                                                        ssp370-lowNTCF\\n-aerchemmip  \\\n",
       "                                                                                      \n",
       "2040 Aerosols                                                             0.0870509   \n",
       "     CH$_4$+O$_3$+HFCs                                                     0.127176   \n",
       "     HFCs                                                                 0.0264999   \n",
       "     Methane (CH$_4$)                                                     0.0761809   \n",
       "     Ozone (O$_3$)                                                        0.0244954   \n",
       "     Sum SLCF (Methane, Aerosols, Ozone, HFCs, BC on...                    0.214227   \n",
       "     total_anthropogenic                                                    0.75756   \n",
       "2100 Aerosols                                                              0.284753   \n",
       "     CH$_4$+O$_3$+HFCs                                                     0.531375   \n",
       "     HFCs                                                                 0.0969879   \n",
       "     Methane (CH$_4$)                                                      0.276651   \n",
       "     Ozone (O$_3$)                                                         0.157736   \n",
       "     Sum SLCF (Methane, Aerosols, Ozone, HFCs, BC on...                    0.816129   \n",
       "     total_anthropogenic                                                    3.37383   \n",
       "\n",
       "                                                        ssp370-lowNTCF\\n-gidden  \\\n",
       "                                                                                  \n",
       "2040 Aerosols                                                         0.0870509   \n",
       "     CH$_4$+O$_3$+HFCs                                               -0.0539336   \n",
       "     HFCs                                                              0.026497   \n",
       "     Methane (CH$_4$)                                                -0.0362155   \n",
       "     Ozone (O$_3$)                                                   -0.0442151   \n",
       "     Sum SLCF (Methane, Aerosols, Ozone, HFCs, BC on...               0.0331173   \n",
       "     total_anthropogenic                                               0.566941   \n",
       "2100 Aerosols                                                          0.284753   \n",
       "     CH$_4$+O$_3$+HFCs                                                -0.137153   \n",
       "     HFCs                                                              0.083767   \n",
       "     Methane (CH$_4$)                                                 -0.122362   \n",
       "     Ozone (O$_3$)                                                   -0.0985579   \n",
       "     Sum SLCF (Methane, Aerosols, Ozone, HFCs, BC on...                  0.1476   \n",
       "     total_anthropogenic                                                2.64906   \n",
       "\n",
       "                                                            ssp585  \n",
       "                                                                    \n",
       "2040 Aerosols                                             0.122591  \n",
       "     CH$_4$+O$_3$+HFCs                                    0.144239  \n",
       "     HFCs                                                0.0423128  \n",
       "     Methane (CH$_4$)                                    0.0618279  \n",
       "     Ozone (O$_3$)                                       0.0400979  \n",
       "     Sum SLCF (Methane, Aerosols, Ozone, HFCs, BC on...   0.266829  \n",
       "     total_anthropogenic                                  0.836875  \n",
       "2100 Aerosols                                             0.232166  \n",
       "     CH$_4$+O$_3$+HFCs                                    0.421406  \n",
       "     HFCs                                                 0.223272  \n",
       "     Methane (CH$_4$)                                     0.147478  \n",
       "     Ozone (O$_3$)                                       0.0506565  \n",
       "     Sum SLCF (Methane, Aerosols, Ozone, HFCs, BC on...   0.653572  \n",
       "     total_anthropogenic                                   4.11427  "
      ]
     },
     "execution_count": 31,
     "metadata": {},
     "output_type": "execute_result"
    }
   ],
   "source": [
    "_tab"
   ]
  },
  {
   "cell_type": "code",
   "execution_count": 32,
   "metadata": {},
   "outputs": [],
   "source": [
    "_tab.rename(nice_name_var_dic)\n",
    "\n",
    "fn = TABS_DIR / 'dT_2040_2100_tab.csv'\n",
    "_tab.to_csv(fn)"
   ]
  },
  {
   "cell_type": "markdown",
   "metadata": {},
   "source": [
    "### Table +/-percentiles"
   ]
  },
  {
   "cell_type": "code",
   "execution_count": 33,
   "metadata": {},
   "outputs": [
    {
     "data": {
      "text/plain": [
       "'Sum SLCF (Methane, Aerosols, Ozone, HFCs, BC on snow)'"
      ]
     },
     "execution_count": 33,
     "metadata": {},
     "output_type": "execute_result"
    }
   ],
   "source": [
    "sum_v"
   ]
  },
  {
   "cell_type": "code",
   "execution_count": 34,
   "metadata": {},
   "outputs": [
    {
     "data": {
      "text/html": [
       "<pre>&lt;xarray.DataArray &#x27;variable&#x27; (variable: 8)&gt;\n",
       "array([&#x27;HFCs&#x27;, &#x27;Sum SLCF (Methane, Aerosols, Ozone, HFCs, BC on snow)&#x27;,\n",
       "       &#x27;aerosol-total&#x27;, &#x27;bc_on_snow&#x27;, &#x27;ch4&#x27;, &#x27;o3&#x27;, &#x27;total_anthropogenic&#x27;,\n",
       "       &#x27;aerosol-total-with_bc-snow&#x27;], dtype=object)\n",
       "Coordinates:\n",
       "  * variable  (variable) object &#x27;HFCs&#x27; ... &#x27;aerosol-total-with_bc-snow&#x27;</pre>"
      ],
      "text/plain": [
       "<xarray.DataArray 'variable' (variable: 8)>\n",
       "array(['HFCs', 'Sum SLCF (Methane, Aerosols, Ozone, HFCs, BC on snow)',\n",
       "       'aerosol-total', 'bc_on_snow', 'ch4', 'o3', 'total_anthropogenic',\n",
       "       'aerosol-total-with_bc-snow'], dtype=object)\n",
       "Coordinates:\n",
       "  * variable  (variable) object 'HFCs' ... 'aerosol-total-with_bc-snow'"
      ]
     },
     "execution_count": 34,
     "metadata": {},
     "output_type": "execute_result"
    }
   ],
   "source": [
    "ds_uncertainty.variable"
   ]
  },
  {
   "cell_type": "code",
   "execution_count": 35,
   "metadata": {},
   "outputs": [],
   "source": [
    "# Mean:\n",
    "tabel_dT_slcfs_5th = tabel_dT_slcfs + table_of_sts(ds_uncertainty, scenarios_fl, variables_erf_comp + [sum_v, 'total_anthropogenic'],\n",
    "                                                   variables_erf_comp + [sum_v, 'total_anthropogenic'], years,\n",
    "                                                   ref_year, sts='p05-p50')\n",
    "_tab = tabel_dT_slcfs_5th.transpose()\n",
    "\n",
    "_tab = _tab.transpose()\n",
    "_tab = _tab.sort_index()  # ()\n",
    "_tab.rename(nice_name_var_dic)\n",
    "\n",
    "fn = TABS_DIR / 'dT_5th_perc_2040_2100_tab.csv'\n",
    "_tab.to_csv(fn)"
   ]
  },
  {
   "cell_type": "code",
   "execution_count": 36,
   "metadata": {},
   "outputs": [],
   "source": [
    "# Mean:\n",
    "tabel_dT_slcfs_95th = tabel_dT_slcfs + table_of_sts(ds_uncertainty, scenarios_fl,\n",
    "                                                    variables_erf_comp + [sum_v, 'total_anthropogenic'],\n",
    "                                                    variables_erf_comp + [sum_v, 'total_anthropogenic'], years,\n",
    "                                                    ref_year, sts='p95-p50')\n",
    "_tab = tabel_dT_slcfs_95th.transpose()\n",
    "\n",
    "_tab = _tab.transpose()\n",
    "_tab = _tab.sort_index()  # ()\n",
    "_tab.rename(nice_name_var_dic)\n",
    "\n",
    "fn = TABS_DIR / 'dT_95th_perc_2040_2100_tab.csv'\n",
    "_tab.to_csv(fn)"
   ]
  },
  {
   "cell_type": "code",
   "execution_count": 37,
   "metadata": {
    "lines_to_next_cell": 2
   },
   "outputs": [
    {
     "data": {
      "text/html": [
       "<div>\n",
       "<style scoped>\n",
       "    .dataframe tbody tr th:only-of-type {\n",
       "        vertical-align: middle;\n",
       "    }\n",
       "\n",
       "    .dataframe tbody tr th {\n",
       "        vertical-align: top;\n",
       "    }\n",
       "\n",
       "    .dataframe thead th {\n",
       "        text-align: right;\n",
       "    }\n",
       "</style>\n",
       "<table border=\"1\" class=\"dataframe\">\n",
       "  <thead>\n",
       "    <tr style=\"text-align: right;\">\n",
       "      <th></th>\n",
       "      <th></th>\n",
       "      <th>ssp119</th>\n",
       "      <th>ssp126</th>\n",
       "      <th>ssp245</th>\n",
       "      <th>ssp334</th>\n",
       "      <th>ssp370</th>\n",
       "      <th>ssp370-lowNTCF\\n-aerchemmip</th>\n",
       "      <th>ssp370-lowNTCF\\n-gidden</th>\n",
       "      <th>ssp585</th>\n",
       "    </tr>\n",
       "    <tr>\n",
       "      <th></th>\n",
       "      <th></th>\n",
       "      <th></th>\n",
       "      <th></th>\n",
       "      <th></th>\n",
       "      <th></th>\n",
       "      <th></th>\n",
       "      <th></th>\n",
       "      <th></th>\n",
       "      <th></th>\n",
       "    </tr>\n",
       "  </thead>\n",
       "  <tbody>\n",
       "    <tr>\n",
       "      <th rowspan=\"6\" valign=\"top\">2040</th>\n",
       "      <th>Aerosols</th>\n",
       "      <td>NaN</td>\n",
       "      <td>NaN</td>\n",
       "      <td>NaN</td>\n",
       "      <td>NaN</td>\n",
       "      <td>NaN</td>\n",
       "      <td>NaN</td>\n",
       "      <td>NaN</td>\n",
       "      <td>NaN</td>\n",
       "    </tr>\n",
       "    <tr>\n",
       "      <th>HFCs</th>\n",
       "      <td>0.00947067</td>\n",
       "      <td>0.0240391</td>\n",
       "      <td>0.0379462</td>\n",
       "      <td>0.00947067</td>\n",
       "      <td>0.0350782</td>\n",
       "      <td>0.0350782</td>\n",
       "      <td>0.0351226</td>\n",
       "      <td>0.0547708</td>\n",
       "    </tr>\n",
       "    <tr>\n",
       "      <th>Methane (CH$_4$)</th>\n",
       "      <td>-0.0222405</td>\n",
       "      <td>-0.0108374</td>\n",
       "      <td>0.0607517</td>\n",
       "      <td>0.0679034</td>\n",
       "      <td>0.102961</td>\n",
       "      <td>0.102961</td>\n",
       "      <td>-0.0249292</td>\n",
       "      <td>0.0841187</td>\n",
       "    </tr>\n",
       "    <tr>\n",
       "      <th>Ozone (O$_3$)</th>\n",
       "      <td>-0.0347797</td>\n",
       "      <td>-0.0253763</td>\n",
       "      <td>0.0282929</td>\n",
       "      <td>-0.00996121</td>\n",
       "      <td>0.116405</td>\n",
       "      <td>0.0363446</td>\n",
       "      <td>-0.0257666</td>\n",
       "      <td>0.0657298</td>\n",
       "    </tr>\n",
       "    <tr>\n",
       "      <th>Sum SLCF (Methane, Aerosols, Ozone, HFCs, BC on snow)</th>\n",
       "      <td>0.354748</td>\n",
       "      <td>0.342408</td>\n",
       "      <td>0.198684</td>\n",
       "      <td>0.167135</td>\n",
       "      <td>0.192298</td>\n",
       "      <td>0.302949</td>\n",
       "      <td>0.0953136</td>\n",
       "      <td>0.417865</td>\n",
       "    </tr>\n",
       "    <tr>\n",
       "      <th>total_anthropogenic</th>\n",
       "      <td>0.688365</td>\n",
       "      <td>0.804426</td>\n",
       "      <td>0.804911</td>\n",
       "      <td>0.723475</td>\n",
       "      <td>0.868382</td>\n",
       "      <td>1.01289</td>\n",
       "      <td>0.798725</td>\n",
       "      <td>1.15368</td>\n",
       "    </tr>\n",
       "    <tr>\n",
       "      <th rowspan=\"6\" valign=\"top\">2100</th>\n",
       "      <th>Aerosols</th>\n",
       "      <td>NaN</td>\n",
       "      <td>NaN</td>\n",
       "      <td>NaN</td>\n",
       "      <td>NaN</td>\n",
       "      <td>NaN</td>\n",
       "      <td>NaN</td>\n",
       "      <td>NaN</td>\n",
       "      <td>NaN</td>\n",
       "    </tr>\n",
       "    <tr>\n",
       "      <th>HFCs</th>\n",
       "      <td>-0.00132075</td>\n",
       "      <td>0.00212026</td>\n",
       "      <td>0.0805581</td>\n",
       "      <td>-0.00132075</td>\n",
       "      <td>0.132395</td>\n",
       "      <td>0.132395</td>\n",
       "      <td>0.114998</td>\n",
       "      <td>0.303027</td>\n",
       "    </tr>\n",
       "    <tr>\n",
       "      <th>Methane (CH$_4$)</th>\n",
       "      <td>-0.114919</td>\n",
       "      <td>-0.1085</td>\n",
       "      <td>0.0387605</td>\n",
       "      <td>0.0320972</td>\n",
       "      <td>0.389374</td>\n",
       "      <td>0.389374</td>\n",
       "      <td>-0.0838385</td>\n",
       "      <td>0.225839</td>\n",
       "    </tr>\n",
       "    <tr>\n",
       "      <th>Ozone (O$_3$)</th>\n",
       "      <td>-0.0691962</td>\n",
       "      <td>-0.0694797</td>\n",
       "      <td>-0.00757083</td>\n",
       "      <td>-0.0349232</td>\n",
       "      <td>0.366398</td>\n",
       "      <td>0.20872</td>\n",
       "      <td>-0.0390582</td>\n",
       "      <td>0.097724</td>\n",
       "    </tr>\n",
       "    <tr>\n",
       "      <th>Sum SLCF (Methane, Aerosols, Ozone, HFCs, BC on snow)</th>\n",
       "      <td>0.415922</td>\n",
       "      <td>0.435035</td>\n",
       "      <td>0.606929</td>\n",
       "      <td>0.432809</td>\n",
       "      <td>0.786054</td>\n",
       "      <td>1.21618</td>\n",
       "      <td>0.392089</td>\n",
       "      <td>1.03048</td>\n",
       "    </tr>\n",
       "    <tr>\n",
       "      <th>total_anthropogenic</th>\n",
       "      <td>0.531052</td>\n",
       "      <td>1.06866</td>\n",
       "      <td>2.61409</td>\n",
       "      <td>1.42337</td>\n",
       "      <td>4.21588</td>\n",
       "      <td>4.64611</td>\n",
       "      <td>3.71245</td>\n",
       "      <td>5.66032</td>\n",
       "    </tr>\n",
       "  </tbody>\n",
       "</table>\n",
       "</div>"
      ],
      "text/plain": [
       "                                                             ssp119  \\\n",
       "                                                                      \n",
       "2040 Aerosols                                                   NaN   \n",
       "     HFCs                                                0.00947067   \n",
       "     Methane (CH$_4$)                                    -0.0222405   \n",
       "     Ozone (O$_3$)                                       -0.0347797   \n",
       "     Sum SLCF (Methane, Aerosols, Ozone, HFCs, BC on...    0.354748   \n",
       "     total_anthropogenic                                   0.688365   \n",
       "2100 Aerosols                                                   NaN   \n",
       "     HFCs                                               -0.00132075   \n",
       "     Methane (CH$_4$)                                     -0.114919   \n",
       "     Ozone (O$_3$)                                       -0.0691962   \n",
       "     Sum SLCF (Methane, Aerosols, Ozone, HFCs, BC on...    0.415922   \n",
       "     total_anthropogenic                                   0.531052   \n",
       "\n",
       "                                                             ssp126  \\\n",
       "                                                                      \n",
       "2040 Aerosols                                                   NaN   \n",
       "     HFCs                                                 0.0240391   \n",
       "     Methane (CH$_4$)                                    -0.0108374   \n",
       "     Ozone (O$_3$)                                       -0.0253763   \n",
       "     Sum SLCF (Methane, Aerosols, Ozone, HFCs, BC on...    0.342408   \n",
       "     total_anthropogenic                                   0.804426   \n",
       "2100 Aerosols                                                   NaN   \n",
       "     HFCs                                                0.00212026   \n",
       "     Methane (CH$_4$)                                       -0.1085   \n",
       "     Ozone (O$_3$)                                       -0.0694797   \n",
       "     Sum SLCF (Methane, Aerosols, Ozone, HFCs, BC on...    0.435035   \n",
       "     total_anthropogenic                                    1.06866   \n",
       "\n",
       "                                                             ssp245  \\\n",
       "                                                                      \n",
       "2040 Aerosols                                                   NaN   \n",
       "     HFCs                                                 0.0379462   \n",
       "     Methane (CH$_4$)                                     0.0607517   \n",
       "     Ozone (O$_3$)                                        0.0282929   \n",
       "     Sum SLCF (Methane, Aerosols, Ozone, HFCs, BC on...    0.198684   \n",
       "     total_anthropogenic                                   0.804911   \n",
       "2100 Aerosols                                                   NaN   \n",
       "     HFCs                                                 0.0805581   \n",
       "     Methane (CH$_4$)                                     0.0387605   \n",
       "     Ozone (O$_3$)                                      -0.00757083   \n",
       "     Sum SLCF (Methane, Aerosols, Ozone, HFCs, BC on...    0.606929   \n",
       "     total_anthropogenic                                    2.61409   \n",
       "\n",
       "                                                             ssp334  \\\n",
       "                                                                      \n",
       "2040 Aerosols                                                   NaN   \n",
       "     HFCs                                                0.00947067   \n",
       "     Methane (CH$_4$)                                     0.0679034   \n",
       "     Ozone (O$_3$)                                      -0.00996121   \n",
       "     Sum SLCF (Methane, Aerosols, Ozone, HFCs, BC on...    0.167135   \n",
       "     total_anthropogenic                                   0.723475   \n",
       "2100 Aerosols                                                   NaN   \n",
       "     HFCs                                               -0.00132075   \n",
       "     Methane (CH$_4$)                                     0.0320972   \n",
       "     Ozone (O$_3$)                                       -0.0349232   \n",
       "     Sum SLCF (Methane, Aerosols, Ozone, HFCs, BC on...    0.432809   \n",
       "     total_anthropogenic                                    1.42337   \n",
       "\n",
       "                                                            ssp370  \\\n",
       "                                                                     \n",
       "2040 Aerosols                                                  NaN   \n",
       "     HFCs                                                0.0350782   \n",
       "     Methane (CH$_4$)                                     0.102961   \n",
       "     Ozone (O$_3$)                                        0.116405   \n",
       "     Sum SLCF (Methane, Aerosols, Ozone, HFCs, BC on...   0.192298   \n",
       "     total_anthropogenic                                  0.868382   \n",
       "2100 Aerosols                                                  NaN   \n",
       "     HFCs                                                 0.132395   \n",
       "     Methane (CH$_4$)                                     0.389374   \n",
       "     Ozone (O$_3$)                                        0.366398   \n",
       "     Sum SLCF (Methane, Aerosols, Ozone, HFCs, BC on...   0.786054   \n",
       "     total_anthropogenic                                   4.21588   \n",
       "\n",
       "                                                        ssp370-lowNTCF\\n-aerchemmip  \\\n",
       "                                                                                      \n",
       "2040 Aerosols                                                                   NaN   \n",
       "     HFCs                                                                 0.0350782   \n",
       "     Methane (CH$_4$)                                                      0.102961   \n",
       "     Ozone (O$_3$)                                                        0.0363446   \n",
       "     Sum SLCF (Methane, Aerosols, Ozone, HFCs, BC on...                    0.302949   \n",
       "     total_anthropogenic                                                    1.01289   \n",
       "2100 Aerosols                                                                   NaN   \n",
       "     HFCs                                                                  0.132395   \n",
       "     Methane (CH$_4$)                                                      0.389374   \n",
       "     Ozone (O$_3$)                                                          0.20872   \n",
       "     Sum SLCF (Methane, Aerosols, Ozone, HFCs, BC on...                     1.21618   \n",
       "     total_anthropogenic                                                    4.64611   \n",
       "\n",
       "                                                        ssp370-lowNTCF\\n-gidden  \\\n",
       "                                                                                  \n",
       "2040 Aerosols                                                               NaN   \n",
       "     HFCs                                                             0.0351226   \n",
       "     Methane (CH$_4$)                                                -0.0249292   \n",
       "     Ozone (O$_3$)                                                   -0.0257666   \n",
       "     Sum SLCF (Methane, Aerosols, Ozone, HFCs, BC on...               0.0953136   \n",
       "     total_anthropogenic                                               0.798725   \n",
       "2100 Aerosols                                                               NaN   \n",
       "     HFCs                                                              0.114998   \n",
       "     Methane (CH$_4$)                                                -0.0838385   \n",
       "     Ozone (O$_3$)                                                   -0.0390582   \n",
       "     Sum SLCF (Methane, Aerosols, Ozone, HFCs, BC on...                0.392089   \n",
       "     total_anthropogenic                                                3.71245   \n",
       "\n",
       "                                                            ssp585  \n",
       "                                                                    \n",
       "2040 Aerosols                                                  NaN  \n",
       "     HFCs                                                0.0547708  \n",
       "     Methane (CH$_4$)                                    0.0841187  \n",
       "     Ozone (O$_3$)                                       0.0657298  \n",
       "     Sum SLCF (Methane, Aerosols, Ozone, HFCs, BC on...   0.417865  \n",
       "     total_anthropogenic                                   1.15368  \n",
       "2100 Aerosols                                                  NaN  \n",
       "     HFCs                                                 0.303027  \n",
       "     Methane (CH$_4$)                                     0.225839  \n",
       "     Ozone (O$_3$)                                        0.097724  \n",
       "     Sum SLCF (Methane, Aerosols, Ozone, HFCs, BC on...    1.03048  \n",
       "     total_anthropogenic                                   5.66032  "
      ]
     },
     "execution_count": 37,
     "metadata": {},
     "output_type": "execute_result"
    }
   ],
   "source": [
    "_tab"
   ]
  },
  {
   "cell_type": "code",
   "execution_count": null,
   "metadata": {},
   "outputs": [],
   "source": []
  },
  {
   "cell_type": "code",
   "execution_count": 38,
   "metadata": {},
   "outputs": [
    {
     "data": {
      "text/html": [
       "<div>\n",
       "<style scoped>\n",
       "    .dataframe tbody tr th:only-of-type {\n",
       "        vertical-align: middle;\n",
       "    }\n",
       "\n",
       "    .dataframe tbody tr th {\n",
       "        vertical-align: top;\n",
       "    }\n",
       "\n",
       "    .dataframe thead th {\n",
       "        text-align: right;\n",
       "    }\n",
       "</style>\n",
       "<table border=\"1\" class=\"dataframe\">\n",
       "  <thead>\n",
       "    <tr style=\"text-align: right;\">\n",
       "      <th></th>\n",
       "      <th>ssp119</th>\n",
       "      <th>ssp126</th>\n",
       "      <th>ssp245</th>\n",
       "      <th>ssp334</th>\n",
       "      <th>ssp370</th>\n",
       "      <th>ssp370-lowNTCF\\n-aerchemmip</th>\n",
       "      <th>ssp370-lowNTCF\\n-gidden</th>\n",
       "      <th>ssp585</th>\n",
       "    </tr>\n",
       "    <tr>\n",
       "      <th></th>\n",
       "      <th></th>\n",
       "      <th></th>\n",
       "      <th></th>\n",
       "      <th></th>\n",
       "      <th></th>\n",
       "      <th></th>\n",
       "      <th></th>\n",
       "      <th></th>\n",
       "    </tr>\n",
       "  </thead>\n",
       "  <tbody>\n",
       "    <tr>\n",
       "      <th>Scenario total</th>\n",
       "      <td>0.182997</td>\n",
       "      <td>0.185355</td>\n",
       "      <td>0.15336</td>\n",
       "      <td>0.142286</td>\n",
       "      <td>0.153791</td>\n",
       "      <td>0.184775</td>\n",
       "      <td>0.163584</td>\n",
       "      <td>0.209253</td>\n",
       "    </tr>\n",
       "  </tbody>\n",
       "</table>\n",
       "</div>"
      ],
      "text/plain": [
       "                  ssp119    ssp126   ssp245    ssp334    ssp370  \\\n",
       "                                                                  \n",
       "Scenario total  0.182997  0.185355  0.15336  0.142286  0.153791   \n",
       "\n",
       "               ssp370-lowNTCF\\n-aerchemmip ssp370-lowNTCF\\n-gidden    ssp585  \n",
       "                                                                              \n",
       "Scenario total                    0.184775                0.163584  0.209253  "
      ]
     },
     "execution_count": 38,
     "metadata": {},
     "output_type": "execute_result"
    }
   ],
   "source": [
    "# Statistics on Delta T anthropogenic\n",
    "# Mean\n",
    "tabel_dT_anthrop = table_of_sts(ds_DT, scenarios_fl, ['total_anthropogenic'], [scenario_tot], years, ref_year)\n",
    "\n",
    "# 5th\n",
    "tabel_dT_anthrop_5th = -table_of_sts(ds_uncertainty,\n",
    "                                     scenarios_fl,\n",
    "                                     ['total_anthropogenic'],\n",
    "                                     [scenario_tot],\n",
    "                                     years,\n",
    "                                     ref_year,\n",
    "                                     sts='p05-p50'\n",
    "                                     )\n",
    "# 95th\n",
    "\n",
    "tabel_dT_anthrop_95th = table_of_sts(ds_uncertainty, scenarios_fl, ['total_anthropogenic'], [scenario_tot], years, ref_year,\n",
    "                                     sts='p95-p50')\n",
    "tabel_dT_anthrop_95th.loc['2040']\n",
    "tabel_dT_anthrop_5th.loc['2040']"
   ]
  },
  {
   "cell_type": "code",
   "execution_count": 39,
   "metadata": {},
   "outputs": [],
   "source": [
    "# Mean:\n",
    "tabel_dT_slcfs = table_of_sts(ds_DT, scenarios_fl, variables_erf_comp, variables_erf_comp, years,\n",
    "                              ref_year)\n",
    "# Standard deviation\n",
    "tabel_dT_slcfs_5th = -table_of_sts(ds_uncertainty,\n",
    "                                   scenarios_fl,\n",
    "                                   variables_erf_comp,\n",
    "                                   variables_erf_comp,\n",
    "                                   years,\n",
    "                                   ref_year,\n",
    "                                   sts='p05-p50')\n",
    "tabel_dT_slcfs_95th = table_of_sts(ds_uncertainty,\n",
    "                                   scenarios_fl,\n",
    "                                   variables_erf_comp,\n",
    "                                   variables_erf_comp,\n",
    "                                   years,\n",
    "                                   ref_year,\n",
    "                                   sts='p95-p50')\n",
    "\n",
    "# Compute sum of SLCFs\n",
    "_ds = ds_sum.copy()\n",
    "vall = 'Delta T'"
   ]
  },
  {
   "cell_type": "code",
   "execution_count": 40,
   "metadata": {},
   "outputs": [
    {
     "data": {
      "text/html": [
       "<div>\n",
       "<style scoped>\n",
       "    .dataframe tbody tr th:only-of-type {\n",
       "        vertical-align: middle;\n",
       "    }\n",
       "\n",
       "    .dataframe tbody tr th {\n",
       "        vertical-align: top;\n",
       "    }\n",
       "\n",
       "    .dataframe thead th {\n",
       "        text-align: right;\n",
       "    }\n",
       "</style>\n",
       "<table border=\"1\" class=\"dataframe\">\n",
       "  <thead>\n",
       "    <tr style=\"text-align: right;\">\n",
       "      <th></th>\n",
       "      <th></th>\n",
       "      <th>ssp119</th>\n",
       "      <th>ssp126</th>\n",
       "      <th>ssp245</th>\n",
       "      <th>ssp334</th>\n",
       "      <th>ssp370</th>\n",
       "      <th>ssp370-lowNTCF\\n-aerchemmip</th>\n",
       "      <th>ssp370-lowNTCF\\n-gidden</th>\n",
       "      <th>ssp585</th>\n",
       "    </tr>\n",
       "    <tr>\n",
       "      <th></th>\n",
       "      <th></th>\n",
       "      <th></th>\n",
       "      <th></th>\n",
       "      <th></th>\n",
       "      <th></th>\n",
       "      <th></th>\n",
       "      <th></th>\n",
       "      <th></th>\n",
       "      <th></th>\n",
       "    </tr>\n",
       "  </thead>\n",
       "  <tbody>\n",
       "    <tr>\n",
       "      <th rowspan=\"4\" valign=\"top\">2040</th>\n",
       "      <th>Aerosols</th>\n",
       "      <td>0.273794</td>\n",
       "      <td>0.22836</td>\n",
       "      <td>0.0466276</td>\n",
       "      <td>0.0762187</td>\n",
       "      <td>-0.052029</td>\n",
       "      <td>0.0870509</td>\n",
       "      <td>0.0870509</td>\n",
       "      <td>0.122591</td>\n",
       "    </tr>\n",
       "    <tr>\n",
       "      <th>Methane (CH$_4$)</th>\n",
       "      <td>-0.0328498</td>\n",
       "      <td>-0.0208684</td>\n",
       "      <td>0.0417628</td>\n",
       "      <td>0.0464901</td>\n",
       "      <td>0.0761809</td>\n",
       "      <td>0.0761809</td>\n",
       "      <td>-0.0362155</td>\n",
       "      <td>0.0618279</td>\n",
       "    </tr>\n",
       "    <tr>\n",
       "      <th>Ozone (O$_3$)</th>\n",
       "      <td>-0.0830983</td>\n",
       "      <td>-0.0598631</td>\n",
       "      <td>0.014977</td>\n",
       "      <td>-0.0180824</td>\n",
       "      <td>0.0698454</td>\n",
       "      <td>0.0244954</td>\n",
       "      <td>-0.0442151</td>\n",
       "      <td>0.0400979</td>\n",
       "    </tr>\n",
       "    <tr>\n",
       "      <th>HFCs</th>\n",
       "      <td>0.00538032</td>\n",
       "      <td>0.0170608</td>\n",
       "      <td>0.0284577</td>\n",
       "      <td>0.00538032</td>\n",
       "      <td>0.0264999</td>\n",
       "      <td>0.0264999</td>\n",
       "      <td>0.026497</td>\n",
       "      <td>0.0423128</td>\n",
       "    </tr>\n",
       "    <tr>\n",
       "      <th rowspan=\"4\" valign=\"top\">2100</th>\n",
       "      <th>Aerosols</th>\n",
       "      <td>0.424517</td>\n",
       "      <td>0.434063</td>\n",
       "      <td>0.281874</td>\n",
       "      <td>0.322135</td>\n",
       "      <td>-0.0266798</td>\n",
       "      <td>0.284753</td>\n",
       "      <td>0.284753</td>\n",
       "      <td>0.232166</td>\n",
       "    </tr>\n",
       "    <tr>\n",
       "      <th>Methane (CH$_4$)</th>\n",
       "      <td>-0.163074</td>\n",
       "      <td>-0.15534</td>\n",
       "      <td>-0.00104217</td>\n",
       "      <td>-0.00603899</td>\n",
       "      <td>0.276651</td>\n",
       "      <td>0.276651</td>\n",
       "      <td>-0.122362</td>\n",
       "      <td>0.147478</td>\n",
       "    </tr>\n",
       "    <tr>\n",
       "      <th>Ozone (O$_3$)</th>\n",
       "      <td>-0.148473</td>\n",
       "      <td>-0.14714</td>\n",
       "      <td>-0.0459325</td>\n",
       "      <td>-0.0667722</td>\n",
       "      <td>0.236445</td>\n",
       "      <td>0.157736</td>\n",
       "      <td>-0.0985579</td>\n",
       "      <td>0.0506565</td>\n",
       "    </tr>\n",
       "    <tr>\n",
       "      <th>HFCs</th>\n",
       "      <td>-0.00378865</td>\n",
       "      <td>-0.00146604</td>\n",
       "      <td>0.0575687</td>\n",
       "      <td>-0.00378865</td>\n",
       "      <td>0.0969879</td>\n",
       "      <td>0.0969879</td>\n",
       "      <td>0.083767</td>\n",
       "      <td>0.223272</td>\n",
       "    </tr>\n",
       "  </tbody>\n",
       "</table>\n",
       "</div>"
      ],
      "text/plain": [
       "                           ssp119      ssp126      ssp245      ssp334  \\\n",
       "                                                                        \n",
       "2040 Aerosols            0.273794     0.22836   0.0466276   0.0762187   \n",
       "     Methane (CH$_4$)  -0.0328498  -0.0208684   0.0417628   0.0464901   \n",
       "     Ozone (O$_3$)     -0.0830983  -0.0598631    0.014977  -0.0180824   \n",
       "     HFCs              0.00538032   0.0170608   0.0284577  0.00538032   \n",
       "2100 Aerosols            0.424517    0.434063    0.281874    0.322135   \n",
       "     Methane (CH$_4$)   -0.163074    -0.15534 -0.00104217 -0.00603899   \n",
       "     Ozone (O$_3$)      -0.148473    -0.14714  -0.0459325  -0.0667722   \n",
       "     HFCs             -0.00378865 -0.00146604   0.0575687 -0.00378865   \n",
       "\n",
       "                          ssp370 ssp370-lowNTCF\\n-aerchemmip  \\\n",
       "                                                               \n",
       "2040 Aerosols          -0.052029                   0.0870509   \n",
       "     Methane (CH$_4$)  0.0761809                   0.0761809   \n",
       "     Ozone (O$_3$)     0.0698454                   0.0244954   \n",
       "     HFCs              0.0264999                   0.0264999   \n",
       "2100 Aerosols         -0.0266798                    0.284753   \n",
       "     Methane (CH$_4$)   0.276651                    0.276651   \n",
       "     Ozone (O$_3$)      0.236445                    0.157736   \n",
       "     HFCs              0.0969879                   0.0969879   \n",
       "\n",
       "                      ssp370-lowNTCF\\n-gidden     ssp585  \n",
       "                                                          \n",
       "2040 Aerosols                       0.0870509   0.122591  \n",
       "     Methane (CH$_4$)              -0.0362155  0.0618279  \n",
       "     Ozone (O$_3$)                 -0.0442151  0.0400979  \n",
       "     HFCs                            0.026497  0.0423128  \n",
       "2100 Aerosols                        0.284753   0.232166  \n",
       "     Methane (CH$_4$)               -0.122362   0.147478  \n",
       "     Ozone (O$_3$)                 -0.0985579  0.0506565  \n",
       "     HFCs                            0.083767   0.223272  "
      ]
     },
     "execution_count": 40,
     "metadata": {},
     "output_type": "execute_result"
    }
   ],
   "source": [
    "tabel_dT_slcfs"
   ]
  },
  {
   "cell_type": "code",
   "execution_count": 41,
   "metadata": {},
   "outputs": [
    {
     "data": {
      "text/html": [
       "<pre>&lt;xarray.DataArray &#x27;variable&#x27; (variable: 20)&gt;\n",
       "array([&#x27;HFCs&#x27;, &#x27;Sum SLCF (Methane, Aerosols, Ozone, HFCs, BC on snow)&#x27;,\n",
       "       &#x27;aerosol-cloud_interactions&#x27;, &#x27;aerosol-radiation_interactions&#x27;,\n",
       "       &#x27;aerosol-total&#x27;, &#x27;aerosol-total-with_bc-snow&#x27;, &#x27;bc_on_snow&#x27;, &#x27;ch4&#x27;,\n",
       "       &#x27;co2&#x27;, &#x27;contrails&#x27;, &#x27;h2o_stratospheric&#x27;, &#x27;land_use&#x27;, &#x27;n2o&#x27;, &#x27;o3&#x27;,\n",
       "       &#x27;other_wmghg&#x27;, &#x27;solar&#x27;, &#x27;total&#x27;, &#x27;total_anthropogenic&#x27;, &#x27;total_natural&#x27;,\n",
       "       &#x27;volcanic&#x27;], dtype=object)\n",
       "Coordinates:\n",
       "  * variable  (variable) object &#x27;HFCs&#x27; ... &#x27;volcanic&#x27;</pre>"
      ],
      "text/plain": [
       "<xarray.DataArray 'variable' (variable: 20)>\n",
       "array(['HFCs', 'Sum SLCF (Methane, Aerosols, Ozone, HFCs, BC on snow)',\n",
       "       'aerosol-cloud_interactions', 'aerosol-radiation_interactions',\n",
       "       'aerosol-total', 'aerosol-total-with_bc-snow', 'bc_on_snow', 'ch4',\n",
       "       'co2', 'contrails', 'h2o_stratospheric', 'land_use', 'n2o', 'o3',\n",
       "       'other_wmghg', 'solar', 'total', 'total_anthropogenic', 'total_natural',\n",
       "       'volcanic'], dtype=object)\n",
       "Coordinates:\n",
       "  * variable  (variable) object 'HFCs' ... 'volcanic'"
      ]
     },
     "execution_count": 41,
     "metadata": {},
     "output_type": "execute_result"
    }
   ],
   "source": [
    "ds_DT.variable"
   ]
  },
  {
   "cell_type": "code",
   "execution_count": 42,
   "metadata": {},
   "outputs": [
    {
     "data": {
      "text/html": [
       "<pre>&lt;xarray.Dataset&gt;\n",
       "Dimensions:      (base_period: 1)\n",
       "Coordinates:\n",
       "    scenario     &lt;U6 &#x27;ssp119&#x27;\n",
       "    year         int64 2040\n",
       "  * base_period  (base_period) int64 2020\n",
       "    variable     &lt;U53 &#x27;Sum SLCF (Methane, Aerosols, Ozone, HFCs, BC on snow)&#x27;\n",
       "    percentile   &lt;U7 &#x27;p05-p50&#x27;\n",
       "Data variables:\n",
       "    Delta T      (base_period) float64 -0.1267</pre>"
      ],
      "text/plain": [
       "<xarray.Dataset>\n",
       "Dimensions:      (base_period: 1)\n",
       "Coordinates:\n",
       "    scenario     <U6 'ssp119'\n",
       "    year         int64 2040\n",
       "  * base_period  (base_period) int64 2020\n",
       "    variable     <U53 'Sum SLCF (Methane, Aerosols, Ozone, HFCs, BC on snow)'\n",
       "    percentile   <U7 'p05-p50'\n",
       "Data variables:\n",
       "    Delta T      (base_period) float64 -0.1267"
      ]
     },
     "execution_count": 42,
     "metadata": {},
     "output_type": "execute_result"
    }
   ],
   "source": [
    "v_sum = 'Sum SLCF (Methane, Aerosols, Ozone, HFCs, BC on snow)'\n",
    "ds_uncertainty.sel(year=2040, scenario='ssp119', percentile='p05-p50', variable=v_sum)#.variables#.plot()#, variable='%%SVG')%%SVG"
   ]
  },
  {
   "cell_type": "code",
   "execution_count": 43,
   "metadata": {},
   "outputs": [
    {
     "data": {
      "text/html": [
       "<pre>&lt;xarray.Dataset&gt;\n",
       "Dimensions:      (base_period: 1)\n",
       "Coordinates:\n",
       "    scenario     &lt;U6 &#x27;ssp119&#x27;\n",
       "    year         int64 2040\n",
       "  * base_period  (base_period) int64 2020\n",
       "    variable     &lt;U53 &#x27;Sum SLCF (Methane, Aerosols, Ozone, HFCs, BC on snow)&#x27;\n",
       "    percentile   &lt;U7 &#x27;p95-p50&#x27;\n",
       "Data variables:\n",
       "    Delta T      (base_period) float64 0.1915</pre>"
      ],
      "text/plain": [
       "<xarray.Dataset>\n",
       "Dimensions:      (base_period: 1)\n",
       "Coordinates:\n",
       "    scenario     <U6 'ssp119'\n",
       "    year         int64 2040\n",
       "  * base_period  (base_period) int64 2020\n",
       "    variable     <U53 'Sum SLCF (Methane, Aerosols, Ozone, HFCs, BC on snow)'\n",
       "    percentile   <U7 'p95-p50'\n",
       "Data variables:\n",
       "    Delta T      (base_period) float64 0.1915"
      ]
     },
     "execution_count": 43,
     "metadata": {},
     "output_type": "execute_result"
    }
   ],
   "source": [
    "v_sum = 'Sum SLCF (Methane, Aerosols, Ozone, HFCs, BC on snow)'\n",
    "ds_uncertainty.sel(year=2040, scenario='ssp119', percentile='p95-p50', variable=v_sum)#.variables#.plot()#, variable='%%SVG')%%SVG"
   ]
  },
  {
   "cell_type": "code",
   "execution_count": 44,
   "metadata": {},
   "outputs": [],
   "source": [
    "tabel_dT_sum_slcf = table_of_sts(ds_DT,\n",
    "                                 scenarios_fl,\n",
    "                                 [sum_v],\n",
    "                                 ['Sum SLCFs'],\n",
    "                                 years,\n",
    "                                 ref_year\n",
    "                                 )\n",
    "tabel_dT_sum_slcf_5 = - table_of_sts(ds_uncertainty,\n",
    "                                     scenarios_fl,\n",
    "                                     [sum_v],\n",
    "                                     ['Sum SLCFs'],\n",
    "                                     years,\n",
    "                                     ref_year,\n",
    "                                     sts='p05-p50')\n",
    "tabel_dT_sum_slcf_95 = table_of_sts(ds_uncertainty,\n",
    "                                    scenarios_fl,\n",
    "                                    [sum_v],\n",
    "                                    ['Sum SLCFs'],\n",
    "                                    years,\n",
    "                                    ref_year,\n",
    "                                    sts='p95-p50')"
   ]
  },
  {
   "cell_type": "code",
   "execution_count": 45,
   "metadata": {},
   "outputs": [
    {
     "data": {
      "text/html": [
       "<div>\n",
       "<style scoped>\n",
       "    .dataframe tbody tr th:only-of-type {\n",
       "        vertical-align: middle;\n",
       "    }\n",
       "\n",
       "    .dataframe tbody tr th {\n",
       "        vertical-align: top;\n",
       "    }\n",
       "\n",
       "    .dataframe thead th {\n",
       "        text-align: right;\n",
       "    }\n",
       "</style>\n",
       "<table border=\"1\" class=\"dataframe\">\n",
       "  <thead>\n",
       "    <tr style=\"text-align: right;\">\n",
       "      <th></th>\n",
       "      <th></th>\n",
       "      <th>ssp119</th>\n",
       "      <th>ssp126</th>\n",
       "      <th>ssp245</th>\n",
       "      <th>ssp334</th>\n",
       "      <th>ssp370</th>\n",
       "      <th>ssp370-lowNTCF\\n-aerchemmip</th>\n",
       "      <th>ssp370-lowNTCF\\n-gidden</th>\n",
       "      <th>ssp585</th>\n",
       "    </tr>\n",
       "    <tr>\n",
       "      <th></th>\n",
       "      <th></th>\n",
       "      <th></th>\n",
       "      <th></th>\n",
       "      <th></th>\n",
       "      <th></th>\n",
       "      <th></th>\n",
       "      <th></th>\n",
       "      <th></th>\n",
       "      <th></th>\n",
       "    </tr>\n",
       "  </thead>\n",
       "  <tbody>\n",
       "    <tr>\n",
       "      <th rowspan=\"4\" valign=\"top\">2040</th>\n",
       "      <th>Aerosols</th>\n",
       "      <td>0.273794</td>\n",
       "      <td>0.22836</td>\n",
       "      <td>0.0466276</td>\n",
       "      <td>0.0762187</td>\n",
       "      <td>-0.052029</td>\n",
       "      <td>0.0870509</td>\n",
       "      <td>0.0870509</td>\n",
       "      <td>0.122591</td>\n",
       "    </tr>\n",
       "    <tr>\n",
       "      <th>Methane (CH$_4$)</th>\n",
       "      <td>-0.0328498</td>\n",
       "      <td>-0.0208684</td>\n",
       "      <td>0.0417628</td>\n",
       "      <td>0.0464901</td>\n",
       "      <td>0.0761809</td>\n",
       "      <td>0.0761809</td>\n",
       "      <td>-0.0362155</td>\n",
       "      <td>0.0618279</td>\n",
       "    </tr>\n",
       "    <tr>\n",
       "      <th>Ozone (O$_3$)</th>\n",
       "      <td>-0.0830983</td>\n",
       "      <td>-0.0598631</td>\n",
       "      <td>0.014977</td>\n",
       "      <td>-0.0180824</td>\n",
       "      <td>0.0698454</td>\n",
       "      <td>0.0244954</td>\n",
       "      <td>-0.0442151</td>\n",
       "      <td>0.0400979</td>\n",
       "    </tr>\n",
       "    <tr>\n",
       "      <th>HFCs</th>\n",
       "      <td>0.00538032</td>\n",
       "      <td>0.0170608</td>\n",
       "      <td>0.0284577</td>\n",
       "      <td>0.00538032</td>\n",
       "      <td>0.0264999</td>\n",
       "      <td>0.0264999</td>\n",
       "      <td>0.026497</td>\n",
       "      <td>0.0423128</td>\n",
       "    </tr>\n",
       "    <tr>\n",
       "      <th rowspan=\"4\" valign=\"top\">2100</th>\n",
       "      <th>Aerosols</th>\n",
       "      <td>0.424517</td>\n",
       "      <td>0.434063</td>\n",
       "      <td>0.281874</td>\n",
       "      <td>0.322135</td>\n",
       "      <td>-0.0266798</td>\n",
       "      <td>0.284753</td>\n",
       "      <td>0.284753</td>\n",
       "      <td>0.232166</td>\n",
       "    </tr>\n",
       "    <tr>\n",
       "      <th>Methane (CH$_4$)</th>\n",
       "      <td>-0.163074</td>\n",
       "      <td>-0.15534</td>\n",
       "      <td>-0.00104217</td>\n",
       "      <td>-0.00603899</td>\n",
       "      <td>0.276651</td>\n",
       "      <td>0.276651</td>\n",
       "      <td>-0.122362</td>\n",
       "      <td>0.147478</td>\n",
       "    </tr>\n",
       "    <tr>\n",
       "      <th>Ozone (O$_3$)</th>\n",
       "      <td>-0.148473</td>\n",
       "      <td>-0.14714</td>\n",
       "      <td>-0.0459325</td>\n",
       "      <td>-0.0667722</td>\n",
       "      <td>0.236445</td>\n",
       "      <td>0.157736</td>\n",
       "      <td>-0.0985579</td>\n",
       "      <td>0.0506565</td>\n",
       "    </tr>\n",
       "    <tr>\n",
       "      <th>HFCs</th>\n",
       "      <td>-0.00378865</td>\n",
       "      <td>-0.00146604</td>\n",
       "      <td>0.0575687</td>\n",
       "      <td>-0.00378865</td>\n",
       "      <td>0.0969879</td>\n",
       "      <td>0.0969879</td>\n",
       "      <td>0.083767</td>\n",
       "      <td>0.223272</td>\n",
       "    </tr>\n",
       "  </tbody>\n",
       "</table>\n",
       "</div>"
      ],
      "text/plain": [
       "                           ssp119      ssp126      ssp245      ssp334  \\\n",
       "                                                                        \n",
       "2040 Aerosols            0.273794     0.22836   0.0466276   0.0762187   \n",
       "     Methane (CH$_4$)  -0.0328498  -0.0208684   0.0417628   0.0464901   \n",
       "     Ozone (O$_3$)     -0.0830983  -0.0598631    0.014977  -0.0180824   \n",
       "     HFCs              0.00538032   0.0170608   0.0284577  0.00538032   \n",
       "2100 Aerosols            0.424517    0.434063    0.281874    0.322135   \n",
       "     Methane (CH$_4$)   -0.163074    -0.15534 -0.00104217 -0.00603899   \n",
       "     Ozone (O$_3$)      -0.148473    -0.14714  -0.0459325  -0.0667722   \n",
       "     HFCs             -0.00378865 -0.00146604   0.0575687 -0.00378865   \n",
       "\n",
       "                          ssp370 ssp370-lowNTCF\\n-aerchemmip  \\\n",
       "                                                               \n",
       "2040 Aerosols          -0.052029                   0.0870509   \n",
       "     Methane (CH$_4$)  0.0761809                   0.0761809   \n",
       "     Ozone (O$_3$)     0.0698454                   0.0244954   \n",
       "     HFCs              0.0264999                   0.0264999   \n",
       "2100 Aerosols         -0.0266798                    0.284753   \n",
       "     Methane (CH$_4$)   0.276651                    0.276651   \n",
       "     Ozone (O$_3$)      0.236445                    0.157736   \n",
       "     HFCs              0.0969879                   0.0969879   \n",
       "\n",
       "                      ssp370-lowNTCF\\n-gidden     ssp585  \n",
       "                                                          \n",
       "2040 Aerosols                       0.0870509   0.122591  \n",
       "     Methane (CH$_4$)              -0.0362155  0.0618279  \n",
       "     Ozone (O$_3$)                 -0.0442151  0.0400979  \n",
       "     HFCs                            0.026497  0.0423128  \n",
       "2100 Aerosols                        0.284753   0.232166  \n",
       "     Methane (CH$_4$)               -0.122362   0.147478  \n",
       "     Ozone (O$_3$)                 -0.0985579  0.0506565  \n",
       "     HFCs                            0.083767   0.223272  "
      ]
     },
     "execution_count": 45,
     "metadata": {},
     "output_type": "execute_result"
    }
   ],
   "source": [
    "\n",
    "tabel_dT_slcfs = fix_names(tabel_dT_slcfs)#.rename(rn_dic)\n",
    "#tabel_dT_slcfs = tabel_dT_slcfs.rename(rn_dic_scen,axis=1)\n",
    "tabel_dT_slcfs#.index"
   ]
  },
  {
   "cell_type": "code",
   "execution_count": 46,
   "metadata": {},
   "outputs": [
    {
     "data": {
      "text/plain": [
       "{'aerosol-total-with_bc-snow': 'Aerosols',\n",
       " 'ch4': 'Methane (CH$_4$)',\n",
       " 'o3': 'Ozone (O$_3$)',\n",
       " 'HFCs': 'HFCs',\n",
       " 'total_anthropogenic': 'total_anthropogenic',\n",
       " 'total': 'total'}"
      ]
     },
     "execution_count": 46,
     "metadata": {},
     "output_type": "execute_result"
    }
   ],
   "source": [
    "rn_dic"
   ]
  },
  {
   "cell_type": "code",
   "execution_count": null,
   "metadata": {},
   "outputs": [],
   "source": []
  },
  {
   "cell_type": "markdown",
   "metadata": {},
   "source": [
    "## colors"
   ]
  },
  {
   "cell_type": "code",
   "execution_count": 47,
   "metadata": {},
   "outputs": [
    {
     "name": "stdout",
     "output_type": "stream",
     "text": [
      "(0.5607843137254902, 0.0, 0.6470588235294118)\n",
      "(1.0, 0.4196078431372549, 0.07450980392156863)\n",
      "(0.5254901960784314, 0.7803921568627451, 0.29411764705882354)\n",
      "(0.21568627450980393, 0.49411764705882355, 0.7215686274509804)\n"
     ]
    },
    {
     "data": {
      "text/plain": [
       "[(0.5607843137254902, 0.0, 0.6470588235294118),\n",
       " (1.0, 0.4196078431372549, 0.07450980392156863),\n",
       " (0.5254901960784314, 0.7803921568627451, 0.29411764705882354),\n",
       " (0.21568627450980393, 0.49411764705882355, 0.7215686274509804)]"
      ]
     },
     "execution_count": 47,
     "metadata": {},
     "output_type": "execute_result"
    }
   ],
   "source": [
    "cdic = get_cmap_dic(variables_erf_comp)  # , palette='colorblind'):\n",
    "ls = [cdic[key] for key in variables_erf_comp]\n",
    "\n",
    "ls"
   ]
  },
  {
   "cell_type": "code",
   "execution_count": 48,
   "metadata": {},
   "outputs": [
    {
     "data": {
      "text/plain": [
       "{'aerosol-total-with_bc-snow': (0.5607843137254902, 0.0, 0.6470588235294118),\n",
       " 'ch4': (1.0, 0.4196078431372549, 0.07450980392156863),\n",
       " 'o3': (0.5254901960784314, 0.7803921568627451, 0.29411764705882354),\n",
       " 'HFCs': (0.21568627450980393, 0.49411764705882355, 0.7215686274509804)}"
      ]
     },
     "execution_count": 48,
     "metadata": {},
     "output_type": "execute_result"
    }
   ],
   "source": [
    "cdic"
   ]
  },
  {
   "cell_type": "markdown",
   "metadata": {},
   "source": [
    "## Error bars only from model uncertainty\n",
    "The following uncertainties assume the ECS has a standard deviation of"
   ]
  },
  {
   "cell_type": "code",
   "execution_count": null,
   "metadata": {
    "lines_to_next_cell": 2
   },
   "outputs": [],
   "source": []
  },
  {
   "cell_type": "code",
   "execution_count": 49,
   "metadata": {},
   "outputs": [],
   "source": [
    "from ar6_ch6_rcmipfigs.utils.plot import scn_dic"
   ]
  },
  {
   "cell_type": "code",
   "execution_count": 50,
   "metadata": {},
   "outputs": [],
   "source": [
    "from matplotlib.ticker import (MultipleLocator)\n",
    "\n",
    "scenario_tot = 'Scenario total'\n",
    "\n",
    "def plt_stacked(fig, axs, tabel_dT_anthrop, tabel_dT_sum_slcf,tabel_dT_slcfs, tabel_dT_anthrop_5th,\n",
    "                tabel_dT_anthrop_95th, tabel_dT_sum_slcf_5, tabel_dT_sum_slcf_95):\n",
    "    tits = ['Near Term surface temperature change (2040 relative to 2020)',\n",
    "            'Long Term surface T change 2100 relatie to 2020)']\n",
    "    tits = ['Change in GSAT in 2040 relative to 2020', 'Change in GSAT in 2100 relative to 2020']\n",
    "    for yr, ax, tit in zip(years, axs, tits):\n",
    "        # Pick out year and do various renames:\n",
    "        # Total antropogenic\n",
    "        tot_yr = tabel_dT_anthrop.loc[yr].rename(scn_dic, axis=1)\n",
    "        # Sum SLCFs\n",
    "        # uncertainty:\n",
    "        bot = tabel_dT_anthrop_5th.loc[yr].rename(scn_dic, axis=1)\n",
    "        top = tabel_dT_anthrop_95th.loc[yr].rename(scn_dic, axis=1)\n",
    "        err = pd.merge(bot, top, how='outer').values\n",
    "        # Plot bars for anthropopogenic total:\n",
    "        ax.barh(tot_yr.transpose().index, tot_yr.transpose()[scenario_tot].values,\n",
    "                color='k',\n",
    "                xerr=err,\n",
    "                error_kw=dict(ecolor='gray', lw=2, capsize=5, capthick=2),\n",
    "                label='Scenario total', alpha=.2,\n",
    "                )\n",
    "        # Plot bars for SLCFs total:\n",
    "        sum_SLCFs = 'Sum SLCFs'\n",
    "\n",
    "        # Plot stacked plot of components:\n",
    "        _tab = tabel_dT_slcfs.loc[yr].transpose().rename({'ssp370-lowNTCF-aerchemmip': 'ssp370-lowNTCF\\n-aerchemmip'})\n",
    "        _tab = _tab.rename(scn_dic, axis=0)\n",
    "        a = _tab.plot(kind='barh', stacked=True, ax=ax, color=ls, legend=(yr != '2040'))  # , grid=True)#stac)\n",
    "        _t = _tab.sum(axis=1)  # , c=100)#.plot(kind='barh', )\n",
    "        # ax.scatter(_t, list(_t.reset_index().index), zorder=10, c='w', marker='d')\n",
    "        # uncertainty:\n",
    "        bot = tabel_dT_sum_slcf_5.loc[yr].rename(scn_dic, axis=1)\n",
    "        top = tabel_dT_sum_slcf_95.loc[yr].rename(scn_dic, axis=1)\n",
    "        err = pd.merge(bot, top, how='outer').values\n",
    "\n",
    "        ax.errorbar(_t, list(_t.reset_index().index), xerr=err, label='__nolabel__', color='w', fmt='d',\n",
    "                    linestyle=\"None\")  # ,\n",
    "\n",
    "        if not yr == '2040':\n",
    "            ax.legend(frameon=False, ncol=1)  # [l],labels=['Sce!!nario total'], loc = 4)#'lower right')\n",
    "        # Zero line:\n",
    "        ax.axvline(0, linestyle='--', color='k', alpha=0.4)\n",
    "        ax.set_title(tit)\n",
    "        ax.set_xlabel('$\\Delta$ GSAT ($^\\circ$C)')\n",
    "        ax.xaxis.set_minor_locator(MultipleLocator(.1))\n",
    "        # ax.grid(axis='y', which='major')\n",
    "\n",
    "def fix_axs(axs):\n",
    "    ax = axs[0]\n",
    "\n",
    "    ax.spines['right'].set_visible(False)\n",
    "    ax.spines['top'].set_visible(False)\n",
    "    ax.spines['left'].set_visible(False)\n",
    "    ax.tick_params(right=False, left=False)  # , color='w')\n",
    "\n",
    "    ax = axs[1]\n",
    "    ax.spines['right'].set_visible(False)\n",
    "    ax.spines['top'].set_visible(False)\n",
    "    ax.spines['left'].set_visible(False)\n",
    "    ax.tick_params(labelleft=False, right=False, left=False, color='w')\n",
    "    ax.tick_params(labelright=False, labelleft=False, right=False, left=False, color='w')\n",
    "    ax.yaxis.set_visible(False)\n",
    "    plt.tight_layout()"
   ]
  },
  {
   "cell_type": "code",
   "execution_count": 51,
   "metadata": {},
   "outputs": [
    {
     "data": {
      "text/html": [
       "<div>\n",
       "<style scoped>\n",
       "    .dataframe tbody tr th:only-of-type {\n",
       "        vertical-align: middle;\n",
       "    }\n",
       "\n",
       "    .dataframe tbody tr th {\n",
       "        vertical-align: top;\n",
       "    }\n",
       "\n",
       "    .dataframe thead th {\n",
       "        text-align: right;\n",
       "    }\n",
       "</style>\n",
       "<table border=\"1\" class=\"dataframe\">\n",
       "  <thead>\n",
       "    <tr style=\"text-align: right;\">\n",
       "      <th></th>\n",
       "      <th></th>\n",
       "      <th>ssp119</th>\n",
       "      <th>ssp126</th>\n",
       "      <th>ssp245</th>\n",
       "      <th>ssp334</th>\n",
       "      <th>ssp370</th>\n",
       "      <th>ssp370-lowNTCF\\n-aerchemmip</th>\n",
       "      <th>ssp370-lowNTCF\\n-gidden</th>\n",
       "      <th>ssp585</th>\n",
       "    </tr>\n",
       "    <tr>\n",
       "      <th></th>\n",
       "      <th></th>\n",
       "      <th></th>\n",
       "      <th></th>\n",
       "      <th></th>\n",
       "      <th></th>\n",
       "      <th></th>\n",
       "      <th></th>\n",
       "      <th></th>\n",
       "      <th></th>\n",
       "    </tr>\n",
       "  </thead>\n",
       "  <tbody>\n",
       "    <tr>\n",
       "      <th>2040</th>\n",
       "      <th>Scenario total</th>\n",
       "      <td>0.397428</td>\n",
       "      <td>0.505497</td>\n",
       "      <td>0.584779</td>\n",
       "      <td>0.528874</td>\n",
       "      <td>0.663786</td>\n",
       "      <td>0.75756</td>\n",
       "      <td>0.566941</td>\n",
       "      <td>0.836875</td>\n",
       "    </tr>\n",
       "    <tr>\n",
       "      <th>2100</th>\n",
       "      <th>Scenario total</th>\n",
       "      <td>0.116036</td>\n",
       "      <td>0.544207</td>\n",
       "      <td>1.75423</td>\n",
       "      <td>0.900552</td>\n",
       "      <td>3.15208</td>\n",
       "      <td>3.37383</td>\n",
       "      <td>2.64906</td>\n",
       "      <td>4.11427</td>\n",
       "    </tr>\n",
       "  </tbody>\n",
       "</table>\n",
       "</div>"
      ],
      "text/plain": [
       "                       ssp119    ssp126    ssp245    ssp334    ssp370  \\\n",
       "                                                                        \n",
       "2040 Scenario total  0.397428  0.505497  0.584779  0.528874  0.663786   \n",
       "2100 Scenario total  0.116036  0.544207   1.75423  0.900552   3.15208   \n",
       "\n",
       "                    ssp370-lowNTCF\\n-aerchemmip ssp370-lowNTCF\\n-gidden  \\\n",
       "                                                                          \n",
       "2040 Scenario total                     0.75756                0.566941   \n",
       "2100 Scenario total                     3.37383                 2.64906   \n",
       "\n",
       "                       ssp585  \n",
       "                               \n",
       "2040 Scenario total  0.836875  \n",
       "2100 Scenario total   4.11427  "
      ]
     },
     "metadata": {},
     "output_type": "display_data"
    },
    {
     "data": {
      "text/html": [
       "<div>\n",
       "<style scoped>\n",
       "    .dataframe tbody tr th:only-of-type {\n",
       "        vertical-align: middle;\n",
       "    }\n",
       "\n",
       "    .dataframe tbody tr th {\n",
       "        vertical-align: top;\n",
       "    }\n",
       "\n",
       "    .dataframe thead th {\n",
       "        text-align: right;\n",
       "    }\n",
       "</style>\n",
       "<table border=\"1\" class=\"dataframe\">\n",
       "  <thead>\n",
       "    <tr style=\"text-align: right;\">\n",
       "      <th></th>\n",
       "      <th></th>\n",
       "      <th>ssp119</th>\n",
       "      <th>ssp126</th>\n",
       "      <th>ssp245</th>\n",
       "      <th>ssp334</th>\n",
       "      <th>ssp370</th>\n",
       "      <th>ssp370-lowNTCF\\n-aerchemmip</th>\n",
       "      <th>ssp370-lowNTCF\\n-gidden</th>\n",
       "      <th>ssp585</th>\n",
       "    </tr>\n",
       "    <tr>\n",
       "      <th></th>\n",
       "      <th></th>\n",
       "      <th></th>\n",
       "      <th></th>\n",
       "      <th></th>\n",
       "      <th></th>\n",
       "      <th></th>\n",
       "      <th></th>\n",
       "      <th></th>\n",
       "      <th></th>\n",
       "    </tr>\n",
       "  </thead>\n",
       "  <tbody>\n",
       "    <tr>\n",
       "      <th>2040</th>\n",
       "      <th>Sum SLCFs</th>\n",
       "      <td>0.163226</td>\n",
       "      <td>0.164689</td>\n",
       "      <td>0.131825</td>\n",
       "      <td>0.110007</td>\n",
       "      <td>0.120497</td>\n",
       "      <td>0.214227</td>\n",
       "      <td>0.0331173</td>\n",
       "      <td>0.266829</td>\n",
       "    </tr>\n",
       "    <tr>\n",
       "      <th>2100</th>\n",
       "      <th>Sum SLCFs</th>\n",
       "      <td>0.109181</td>\n",
       "      <td>0.130118</td>\n",
       "      <td>0.292468</td>\n",
       "      <td>0.245535</td>\n",
       "      <td>0.583404</td>\n",
       "      <td>0.816129</td>\n",
       "      <td>0.1476</td>\n",
       "      <td>0.653572</td>\n",
       "    </tr>\n",
       "  </tbody>\n",
       "</table>\n",
       "</div>"
      ],
      "text/plain": [
       "                  ssp119    ssp126    ssp245    ssp334    ssp370  \\\n",
       "                                                                   \n",
       "2040 Sum SLCFs  0.163226  0.164689  0.131825  0.110007  0.120497   \n",
       "2100 Sum SLCFs  0.109181  0.130118  0.292468  0.245535  0.583404   \n",
       "\n",
       "               ssp370-lowNTCF\\n-aerchemmip ssp370-lowNTCF\\n-gidden    ssp585  \n",
       "                                                                              \n",
       "2040 Sum SLCFs                    0.214227               0.0331173  0.266829  \n",
       "2100 Sum SLCFs                    0.816129                  0.1476  0.653572  "
      ]
     },
     "metadata": {},
     "output_type": "display_data"
    },
    {
     "data": {
      "text/html": [
       "<div>\n",
       "<style scoped>\n",
       "    .dataframe tbody tr th:only-of-type {\n",
       "        vertical-align: middle;\n",
       "    }\n",
       "\n",
       "    .dataframe tbody tr th {\n",
       "        vertical-align: top;\n",
       "    }\n",
       "\n",
       "    .dataframe thead th {\n",
       "        text-align: right;\n",
       "    }\n",
       "</style>\n",
       "<table border=\"1\" class=\"dataframe\">\n",
       "  <thead>\n",
       "    <tr style=\"text-align: right;\">\n",
       "      <th></th>\n",
       "      <th></th>\n",
       "      <th>ssp119</th>\n",
       "      <th>ssp126</th>\n",
       "      <th>ssp245</th>\n",
       "      <th>ssp334</th>\n",
       "      <th>ssp370</th>\n",
       "      <th>ssp370-lowNTCF\\n-aerchemmip</th>\n",
       "      <th>ssp370-lowNTCF\\n-gidden</th>\n",
       "      <th>ssp585</th>\n",
       "    </tr>\n",
       "    <tr>\n",
       "      <th></th>\n",
       "      <th></th>\n",
       "      <th></th>\n",
       "      <th></th>\n",
       "      <th></th>\n",
       "      <th></th>\n",
       "      <th></th>\n",
       "      <th></th>\n",
       "      <th></th>\n",
       "      <th></th>\n",
       "    </tr>\n",
       "  </thead>\n",
       "  <tbody>\n",
       "    <tr>\n",
       "      <th rowspan=\"4\" valign=\"top\">2040</th>\n",
       "      <th>Aerosols</th>\n",
       "      <td>0.273794</td>\n",
       "      <td>0.22836</td>\n",
       "      <td>0.0466276</td>\n",
       "      <td>0.0762187</td>\n",
       "      <td>-0.052029</td>\n",
       "      <td>0.0870509</td>\n",
       "      <td>0.0870509</td>\n",
       "      <td>0.122591</td>\n",
       "    </tr>\n",
       "    <tr>\n",
       "      <th>Methane (CH$_4$)</th>\n",
       "      <td>-0.0328498</td>\n",
       "      <td>-0.0208684</td>\n",
       "      <td>0.0417628</td>\n",
       "      <td>0.0464901</td>\n",
       "      <td>0.0761809</td>\n",
       "      <td>0.0761809</td>\n",
       "      <td>-0.0362155</td>\n",
       "      <td>0.0618279</td>\n",
       "    </tr>\n",
       "    <tr>\n",
       "      <th>Ozone (O$_3$)</th>\n",
       "      <td>-0.0830983</td>\n",
       "      <td>-0.0598631</td>\n",
       "      <td>0.014977</td>\n",
       "      <td>-0.0180824</td>\n",
       "      <td>0.0698454</td>\n",
       "      <td>0.0244954</td>\n",
       "      <td>-0.0442151</td>\n",
       "      <td>0.0400979</td>\n",
       "    </tr>\n",
       "    <tr>\n",
       "      <th>HFCs</th>\n",
       "      <td>0.00538032</td>\n",
       "      <td>0.0170608</td>\n",
       "      <td>0.0284577</td>\n",
       "      <td>0.00538032</td>\n",
       "      <td>0.0264999</td>\n",
       "      <td>0.0264999</td>\n",
       "      <td>0.026497</td>\n",
       "      <td>0.0423128</td>\n",
       "    </tr>\n",
       "    <tr>\n",
       "      <th rowspan=\"4\" valign=\"top\">2100</th>\n",
       "      <th>Aerosols</th>\n",
       "      <td>0.424517</td>\n",
       "      <td>0.434063</td>\n",
       "      <td>0.281874</td>\n",
       "      <td>0.322135</td>\n",
       "      <td>-0.0266798</td>\n",
       "      <td>0.284753</td>\n",
       "      <td>0.284753</td>\n",
       "      <td>0.232166</td>\n",
       "    </tr>\n",
       "    <tr>\n",
       "      <th>Methane (CH$_4$)</th>\n",
       "      <td>-0.163074</td>\n",
       "      <td>-0.15534</td>\n",
       "      <td>-0.00104217</td>\n",
       "      <td>-0.00603899</td>\n",
       "      <td>0.276651</td>\n",
       "      <td>0.276651</td>\n",
       "      <td>-0.122362</td>\n",
       "      <td>0.147478</td>\n",
       "    </tr>\n",
       "    <tr>\n",
       "      <th>Ozone (O$_3$)</th>\n",
       "      <td>-0.148473</td>\n",
       "      <td>-0.14714</td>\n",
       "      <td>-0.0459325</td>\n",
       "      <td>-0.0667722</td>\n",
       "      <td>0.236445</td>\n",
       "      <td>0.157736</td>\n",
       "      <td>-0.0985579</td>\n",
       "      <td>0.0506565</td>\n",
       "    </tr>\n",
       "    <tr>\n",
       "      <th>HFCs</th>\n",
       "      <td>-0.00378865</td>\n",
       "      <td>-0.00146604</td>\n",
       "      <td>0.0575687</td>\n",
       "      <td>-0.00378865</td>\n",
       "      <td>0.0969879</td>\n",
       "      <td>0.0969879</td>\n",
       "      <td>0.083767</td>\n",
       "      <td>0.223272</td>\n",
       "    </tr>\n",
       "  </tbody>\n",
       "</table>\n",
       "</div>"
      ],
      "text/plain": [
       "                           ssp119      ssp126      ssp245      ssp334  \\\n",
       "                                                                        \n",
       "2040 Aerosols            0.273794     0.22836   0.0466276   0.0762187   \n",
       "     Methane (CH$_4$)  -0.0328498  -0.0208684   0.0417628   0.0464901   \n",
       "     Ozone (O$_3$)     -0.0830983  -0.0598631    0.014977  -0.0180824   \n",
       "     HFCs              0.00538032   0.0170608   0.0284577  0.00538032   \n",
       "2100 Aerosols            0.424517    0.434063    0.281874    0.322135   \n",
       "     Methane (CH$_4$)   -0.163074    -0.15534 -0.00104217 -0.00603899   \n",
       "     Ozone (O$_3$)      -0.148473    -0.14714  -0.0459325  -0.0667722   \n",
       "     HFCs             -0.00378865 -0.00146604   0.0575687 -0.00378865   \n",
       "\n",
       "                          ssp370 ssp370-lowNTCF\\n-aerchemmip  \\\n",
       "                                                               \n",
       "2040 Aerosols          -0.052029                   0.0870509   \n",
       "     Methane (CH$_4$)  0.0761809                   0.0761809   \n",
       "     Ozone (O$_3$)     0.0698454                   0.0244954   \n",
       "     HFCs              0.0264999                   0.0264999   \n",
       "2100 Aerosols         -0.0266798                    0.284753   \n",
       "     Methane (CH$_4$)   0.276651                    0.276651   \n",
       "     Ozone (O$_3$)      0.236445                    0.157736   \n",
       "     HFCs              0.0969879                   0.0969879   \n",
       "\n",
       "                      ssp370-lowNTCF\\n-gidden     ssp585  \n",
       "                                                          \n",
       "2040 Aerosols                       0.0870509   0.122591  \n",
       "     Methane (CH$_4$)              -0.0362155  0.0618279  \n",
       "     Ozone (O$_3$)                 -0.0442151  0.0400979  \n",
       "     HFCs                            0.026497  0.0423128  \n",
       "2100 Aerosols                        0.284753   0.232166  \n",
       "     Methane (CH$_4$)               -0.122362   0.147478  \n",
       "     Ozone (O$_3$)                 -0.0985579  0.0506565  \n",
       "     HFCs                            0.083767   0.223272  "
      ]
     },
     "metadata": {},
     "output_type": "display_data"
    }
   ],
   "source": [
    "for tab in [tabel_dT_anthrop, tabel_dT_sum_slcf,tabel_dT_slcfs]:\n",
    "    display(tab)"
   ]
  },
  {
   "cell_type": "code",
   "execution_count": 52,
   "metadata": {},
   "outputs": [
    {
     "data": {
      "text/html": [
       "<div>\n",
       "<style scoped>\n",
       "    .dataframe tbody tr th:only-of-type {\n",
       "        vertical-align: middle;\n",
       "    }\n",
       "\n",
       "    .dataframe tbody tr th {\n",
       "        vertical-align: top;\n",
       "    }\n",
       "\n",
       "    .dataframe thead th {\n",
       "        text-align: right;\n",
       "    }\n",
       "</style>\n",
       "<table border=\"1\" class=\"dataframe\">\n",
       "  <thead>\n",
       "    <tr style=\"text-align: right;\">\n",
       "      <th></th>\n",
       "      <th></th>\n",
       "      <th>SSP1-1.9</th>\n",
       "      <th>SSP1-2.6</th>\n",
       "      <th>SSP2-4.5</th>\n",
       "      <th>SSP3-3.4</th>\n",
       "      <th>SSP3-7.0</th>\n",
       "      <th>SSP3-7.0-LowNTCF\\n-aerchemmip</th>\n",
       "      <th>SSP3-7.0-LowNTCF\\n-Gidden</th>\n",
       "      <th>SSP5-8.5</th>\n",
       "    </tr>\n",
       "    <tr>\n",
       "      <th></th>\n",
       "      <th></th>\n",
       "      <th></th>\n",
       "      <th></th>\n",
       "      <th></th>\n",
       "      <th></th>\n",
       "      <th></th>\n",
       "      <th></th>\n",
       "      <th></th>\n",
       "      <th></th>\n",
       "    </tr>\n",
       "  </thead>\n",
       "  <tbody>\n",
       "    <tr>\n",
       "      <th>2040</th>\n",
       "      <th>Sum SLCFs</th>\n",
       "      <td>0.126748</td>\n",
       "      <td>0.114972</td>\n",
       "      <td>0.0463691</td>\n",
       "      <td>0.0405653</td>\n",
       "      <td>0.0794694</td>\n",
       "      <td>0.0630824</td>\n",
       "      <td>0.0459617</td>\n",
       "      <td>0.0932667</td>\n",
       "    </tr>\n",
       "    <tr>\n",
       "      <th>2100</th>\n",
       "      <th>Sum SLCFs</th>\n",
       "      <td>0.191259</td>\n",
       "      <td>0.189288</td>\n",
       "      <td>0.181712</td>\n",
       "      <td>0.133621</td>\n",
       "      <td>0.149032</td>\n",
       "      <td>0.251273</td>\n",
       "      <td>0.154966</td>\n",
       "      <td>0.230278</td>\n",
       "    </tr>\n",
       "  </tbody>\n",
       "</table>\n",
       "</div>"
      ],
      "text/plain": [
       "                SSP1-1.9  SSP1-2.6   SSP2-4.5   SSP3-3.4   SSP3-7.0  \\\n",
       "                                                                      \n",
       "2040 Sum SLCFs  0.126748  0.114972  0.0463691  0.0405653  0.0794694   \n",
       "2100 Sum SLCFs  0.191259  0.189288   0.181712   0.133621   0.149032   \n",
       "\n",
       "               SSP3-7.0-LowNTCF\\n-aerchemmip SSP3-7.0-LowNTCF\\n-Gidden  \\\n",
       "                                                                         \n",
       "2040 Sum SLCFs                     0.0630824                 0.0459617   \n",
       "2100 Sum SLCFs                      0.251273                  0.154966   \n",
       "\n",
       "                 SSP5-8.5  \n",
       "                           \n",
       "2040 Sum SLCFs  0.0932667  \n",
       "2100 Sum SLCFs   0.230278  "
      ]
     },
     "execution_count": 52,
     "metadata": {},
     "output_type": "execute_result"
    }
   ],
   "source": [
    "tabel_dT_sum_slcf_5.rename(scn_dic, axis=1)"
   ]
  },
  {
   "cell_type": "code",
   "execution_count": null,
   "metadata": {},
   "outputs": [],
   "source": []
  },
  {
   "cell_type": "code",
   "execution_count": 53,
   "metadata": {
    "lines_to_next_cell": 0
   },
   "outputs": [
    {
     "data": {
      "image/png": "[encoded data removed]",
      "text/plain": [
       "<Figure size 720x316.8 with 2 Axes>"
      ]
     },
     "metadata": {
      "needs_background": "light"
     },
     "output_type": "display_data"
    }
   ],
   "source": [
    "fig, axs = plt.subplots(1, len(years), figsize=[10, 4.4], sharex=False, sharey=True)\n",
    "plt_stacked(fig, axs, tabel_dT_anthrop, tabel_dT_sum_slcf,tabel_dT_slcfs,tabel_dT_anthrop_5th,\n",
    "            tabel_dT_anthrop_95th, tabel_dT_sum_slcf_5, tabel_dT_sum_slcf_95)\n",
    "\n",
    "fix_axs(axs)\n",
    "\n",
    "fn = FIGURE_DIR / 'stack_bar_influence_years.png'\n",
    "plt.tight_layout()\n",
    "ax = plt.gca()\n",
    "\n",
    "plt.savefig(fn, dpi=300)\n",
    "plt.savefig(fn.with_suffix('.pdf'), dpi=300)\n",
    "plt.show()"
   ]
  },
  {
   "cell_type": "code",
   "execution_count": null,
   "metadata": {},
   "outputs": [],
   "source": []
  },
  {
   "cell_type": "code",
   "execution_count": null,
   "metadata": {},
   "outputs": [],
   "source": []
  },
  {
   "cell_type": "code",
   "execution_count": 54,
   "metadata": {
    "lines_to_next_cell": 0
   },
   "outputs": [
    {
     "name": "stdout",
     "output_type": "stream",
     "text": [
      "['ssp119', 'ssp126', 'ssp245', 'ssp334', 'ssp370', 'ssp585']\n"
     ]
    }
   ],
   "source": [
    "\n",
    "scen_no_lowNTCF = [scn for scn in scenarios_fl if 'lowNTCF' not in scn]\n",
    "print(scen_no_lowNTCF)"
   ]
  },
  {
   "cell_type": "code",
   "execution_count": 55,
   "metadata": {
    "lines_to_next_cell": 0
   },
   "outputs": [],
   "source": [
    "subset_scenarios = list(pd.Series(scenarios_fl_oneNTCF).replace(rn_dic_scen))"
   ]
  },
  {
   "cell_type": "code",
   "execution_count": 56,
   "metadata": {},
   "outputs": [],
   "source": [
    "tabel_dT_anthrop2 = tabel_dT_anthrop[subset_scenarios]\n",
    "tabel_dT_slcfs2 = tabel_dT_slcfs[subset_scenarios]\n",
    "tabel_dT_sum_slcf2 = tabel_dT_sum_slcf[subset_scenarios]\n",
    "tabel_dT_anthrop2_5th = tabel_dT_anthrop_5th[subset_scenarios]\n",
    "tabel_dT_anthrop2_95th = tabel_dT_anthrop_95th[subset_scenarios]\n",
    "tabel_dT_sum_slcf2_5 = tabel_dT_sum_slcf_5[subset_scenarios]\n",
    "tabel_dT_sum_slcf2_95 = tabel_dT_sum_slcf_95[subset_scenarios]"
   ]
  },
  {
   "cell_type": "code",
   "execution_count": 57,
   "metadata": {},
   "outputs": [
    {
     "data": {
      "text/html": [
       "<div>\n",
       "<style scoped>\n",
       "    .dataframe tbody tr th:only-of-type {\n",
       "        vertical-align: middle;\n",
       "    }\n",
       "\n",
       "    .dataframe tbody tr th {\n",
       "        vertical-align: top;\n",
       "    }\n",
       "\n",
       "    .dataframe thead th {\n",
       "        text-align: right;\n",
       "    }\n",
       "</style>\n",
       "<table border=\"1\" class=\"dataframe\">\n",
       "  <thead>\n",
       "    <tr style=\"text-align: right;\">\n",
       "      <th></th>\n",
       "      <th></th>\n",
       "      <th>ssp119</th>\n",
       "      <th>ssp126</th>\n",
       "      <th>ssp245</th>\n",
       "      <th>ssp370</th>\n",
       "      <th>ssp370-lowNTCF\\n-aerchemmip</th>\n",
       "      <th>ssp585</th>\n",
       "    </tr>\n",
       "    <tr>\n",
       "      <th></th>\n",
       "      <th></th>\n",
       "      <th></th>\n",
       "      <th></th>\n",
       "      <th></th>\n",
       "      <th></th>\n",
       "      <th></th>\n",
       "      <th></th>\n",
       "    </tr>\n",
       "  </thead>\n",
       "  <tbody>\n",
       "    <tr>\n",
       "      <th rowspan=\"4\" valign=\"top\">2040</th>\n",
       "      <th>Aerosols</th>\n",
       "      <td>0.273794</td>\n",
       "      <td>0.22836</td>\n",
       "      <td>0.0466276</td>\n",
       "      <td>-0.052029</td>\n",
       "      <td>0.0870509</td>\n",
       "      <td>0.122591</td>\n",
       "    </tr>\n",
       "    <tr>\n",
       "      <th>Methane (CH$_4$)</th>\n",
       "      <td>-0.0328498</td>\n",
       "      <td>-0.0208684</td>\n",
       "      <td>0.0417628</td>\n",
       "      <td>0.0761809</td>\n",
       "      <td>0.0761809</td>\n",
       "      <td>0.0618279</td>\n",
       "    </tr>\n",
       "    <tr>\n",
       "      <th>Ozone (O$_3$)</th>\n",
       "      <td>-0.0830983</td>\n",
       "      <td>-0.0598631</td>\n",
       "      <td>0.014977</td>\n",
       "      <td>0.0698454</td>\n",
       "      <td>0.0244954</td>\n",
       "      <td>0.0400979</td>\n",
       "    </tr>\n",
       "    <tr>\n",
       "      <th>HFCs</th>\n",
       "      <td>0.00538032</td>\n",
       "      <td>0.0170608</td>\n",
       "      <td>0.0284577</td>\n",
       "      <td>0.0264999</td>\n",
       "      <td>0.0264999</td>\n",
       "      <td>0.0423128</td>\n",
       "    </tr>\n",
       "    <tr>\n",
       "      <th rowspan=\"4\" valign=\"top\">2100</th>\n",
       "      <th>Aerosols</th>\n",
       "      <td>0.424517</td>\n",
       "      <td>0.434063</td>\n",
       "      <td>0.281874</td>\n",
       "      <td>-0.0266798</td>\n",
       "      <td>0.284753</td>\n",
       "      <td>0.232166</td>\n",
       "    </tr>\n",
       "    <tr>\n",
       "      <th>Methane (CH$_4$)</th>\n",
       "      <td>-0.163074</td>\n",
       "      <td>-0.15534</td>\n",
       "      <td>-0.00104217</td>\n",
       "      <td>0.276651</td>\n",
       "      <td>0.276651</td>\n",
       "      <td>0.147478</td>\n",
       "    </tr>\n",
       "    <tr>\n",
       "      <th>Ozone (O$_3$)</th>\n",
       "      <td>-0.148473</td>\n",
       "      <td>-0.14714</td>\n",
       "      <td>-0.0459325</td>\n",
       "      <td>0.236445</td>\n",
       "      <td>0.157736</td>\n",
       "      <td>0.0506565</td>\n",
       "    </tr>\n",
       "    <tr>\n",
       "      <th>HFCs</th>\n",
       "      <td>-0.00378865</td>\n",
       "      <td>-0.00146604</td>\n",
       "      <td>0.0575687</td>\n",
       "      <td>0.0969879</td>\n",
       "      <td>0.0969879</td>\n",
       "      <td>0.223272</td>\n",
       "    </tr>\n",
       "  </tbody>\n",
       "</table>\n",
       "</div>"
      ],
      "text/plain": [
       "                           ssp119      ssp126      ssp245     ssp370  \\\n",
       "                                                                       \n",
       "2040 Aerosols            0.273794     0.22836   0.0466276  -0.052029   \n",
       "     Methane (CH$_4$)  -0.0328498  -0.0208684   0.0417628  0.0761809   \n",
       "     Ozone (O$_3$)     -0.0830983  -0.0598631    0.014977  0.0698454   \n",
       "     HFCs              0.00538032   0.0170608   0.0284577  0.0264999   \n",
       "2100 Aerosols            0.424517    0.434063    0.281874 -0.0266798   \n",
       "     Methane (CH$_4$)   -0.163074    -0.15534 -0.00104217   0.276651   \n",
       "     Ozone (O$_3$)      -0.148473    -0.14714  -0.0459325   0.236445   \n",
       "     HFCs             -0.00378865 -0.00146604   0.0575687  0.0969879   \n",
       "\n",
       "                      ssp370-lowNTCF\\n-aerchemmip     ssp585  \n",
       "                                                              \n",
       "2040 Aerosols                           0.0870509   0.122591  \n",
       "     Methane (CH$_4$)                   0.0761809  0.0618279  \n",
       "     Ozone (O$_3$)                      0.0244954  0.0400979  \n",
       "     HFCs                               0.0264999  0.0423128  \n",
       "2100 Aerosols                            0.284753   0.232166  \n",
       "     Methane (CH$_4$)                    0.276651   0.147478  \n",
       "     Ozone (O$_3$)                       0.157736  0.0506565  \n",
       "     HFCs                               0.0969879   0.223272  "
      ]
     },
     "execution_count": 57,
     "metadata": {},
     "output_type": "execute_result"
    }
   ],
   "source": [
    "tabel_dT_slcfs2"
   ]
  },
  {
   "cell_type": "markdown",
   "metadata": {},
   "source": [
    "- Include BC in aerosol total. \n",
    "- aaarggh, sorry, a last request, maybe one version with also SSP370lowNTC with and without CH4 decrease (as it was in SOD) and one without and we will see later which one we choose depending on the discussion which will remain in the TS.\n",
    "- net values. Send. \n",
    "- include total in black. "
   ]
  },
  {
   "cell_type": "code",
   "execution_count": 58,
   "metadata": {
    "lines_to_next_cell": 0
   },
   "outputs": [
    {
     "data": {
      "image/png": "[encoded data removed]",
      "text/plain": [
       "<Figure size 720x316.8 with 2 Axes>"
      ]
     },
     "metadata": {
      "needs_background": "light"
     },
     "output_type": "display_data"
    }
   ],
   "source": [
    "from matplotlib.ticker import (MultipleLocator)\n",
    "\n",
    "fig, axs = plt.subplots(1, len(years), figsize=[10, 4.4], sharex=False, sharey=True)\n",
    "plt_stacked(fig, axs, tabel_dT_anthrop2, tabel_dT_sum_slcf2,tabel_dT_slcfs2,tabel_dT_anthrop2_5th,\n",
    "            tabel_dT_anthrop2_95th, tabel_dT_sum_slcf2_5, tabel_dT_sum_slcf2_95)\n",
    "\n",
    "fix_axs(axs)\n",
    "fn = FIGURE_DIR / 'stack_bar_influence_years_one_lowNTCF.png'\n",
    "plt.tight_layout()\n",
    "ax = plt.gca()\n",
    "\n",
    "plt.savefig(fn, dpi=300)\n",
    "plt.savefig(fn.with_suffix('.pdf'), dpi=300)\n",
    "\n",
    "plt.show()"
   ]
  },
  {
   "cell_type": "code",
   "execution_count": null,
   "metadata": {},
   "outputs": [],
   "source": [
    "\n"
   ]
  },
  {
   "cell_type": "code",
   "execution_count": 59,
   "metadata": {
    "lines_to_next_cell": 0
   },
   "outputs": [],
   "source": [
    "#tabel_dT_anthrop2 = tabel_dT_anthrop[scen_no_lowNTCF]\n",
    "#tabel_dT_slcfs2 = tabel_dT_slcfs[scen_no_lowNTCF]\n",
    "\n",
    "\n",
    "subset_scenarios = list(pd.Series(scen_no_lowNTCF).replace(rn_dic_scen))"
   ]
  },
  {
   "cell_type": "code",
   "execution_count": 60,
   "metadata": {},
   "outputs": [],
   "source": [
    "tabel_dT_anthrop2 = tabel_dT_anthrop[subset_scenarios]\n",
    "tabel_dT_slcfs2 = tabel_dT_slcfs[subset_scenarios]\n",
    "tabel_dT_sum_slcf2 = tabel_dT_sum_slcf[subset_scenarios]\n",
    "tabel_dT_anthrop2_5th = tabel_dT_anthrop_5th[subset_scenarios]\n",
    "tabel_dT_anthrop2_95th = tabel_dT_anthrop_95th[subset_scenarios]\n",
    "tabel_dT_sum_slcf2_5 = tabel_dT_sum_slcf_5[subset_scenarios]\n",
    "tabel_dT_sum_slcf2_95 = tabel_dT_sum_slcf_95[subset_scenarios]"
   ]
  },
  {
   "cell_type": "code",
   "execution_count": 61,
   "metadata": {},
   "outputs": [
    {
     "data": {
      "text/html": [
       "<div>\n",
       "<style scoped>\n",
       "    .dataframe tbody tr th:only-of-type {\n",
       "        vertical-align: middle;\n",
       "    }\n",
       "\n",
       "    .dataframe tbody tr th {\n",
       "        vertical-align: top;\n",
       "    }\n",
       "\n",
       "    .dataframe thead th {\n",
       "        text-align: right;\n",
       "    }\n",
       "</style>\n",
       "<table border=\"1\" class=\"dataframe\">\n",
       "  <thead>\n",
       "    <tr style=\"text-align: right;\">\n",
       "      <th></th>\n",
       "      <th></th>\n",
       "      <th>ssp119</th>\n",
       "      <th>ssp126</th>\n",
       "      <th>ssp245</th>\n",
       "      <th>ssp334</th>\n",
       "      <th>ssp370</th>\n",
       "      <th>ssp585</th>\n",
       "    </tr>\n",
       "    <tr>\n",
       "      <th></th>\n",
       "      <th></th>\n",
       "      <th></th>\n",
       "      <th></th>\n",
       "      <th></th>\n",
       "      <th></th>\n",
       "      <th></th>\n",
       "      <th></th>\n",
       "    </tr>\n",
       "  </thead>\n",
       "  <tbody>\n",
       "    <tr>\n",
       "      <th rowspan=\"4\" valign=\"top\">2040</th>\n",
       "      <th>Aerosols</th>\n",
       "      <td>0.273794</td>\n",
       "      <td>0.22836</td>\n",
       "      <td>0.0466276</td>\n",
       "      <td>0.0762187</td>\n",
       "      <td>-0.052029</td>\n",
       "      <td>0.122591</td>\n",
       "    </tr>\n",
       "    <tr>\n",
       "      <th>Methane (CH$_4$)</th>\n",
       "      <td>-0.0328498</td>\n",
       "      <td>-0.0208684</td>\n",
       "      <td>0.0417628</td>\n",
       "      <td>0.0464901</td>\n",
       "      <td>0.0761809</td>\n",
       "      <td>0.0618279</td>\n",
       "    </tr>\n",
       "    <tr>\n",
       "      <th>Ozone (O$_3$)</th>\n",
       "      <td>-0.0830983</td>\n",
       "      <td>-0.0598631</td>\n",
       "      <td>0.014977</td>\n",
       "      <td>-0.0180824</td>\n",
       "      <td>0.0698454</td>\n",
       "      <td>0.0400979</td>\n",
       "    </tr>\n",
       "    <tr>\n",
       "      <th>HFCs</th>\n",
       "      <td>0.00538032</td>\n",
       "      <td>0.0170608</td>\n",
       "      <td>0.0284577</td>\n",
       "      <td>0.00538032</td>\n",
       "      <td>0.0264999</td>\n",
       "      <td>0.0423128</td>\n",
       "    </tr>\n",
       "    <tr>\n",
       "      <th rowspan=\"4\" valign=\"top\">2100</th>\n",
       "      <th>Aerosols</th>\n",
       "      <td>0.424517</td>\n",
       "      <td>0.434063</td>\n",
       "      <td>0.281874</td>\n",
       "      <td>0.322135</td>\n",
       "      <td>-0.0266798</td>\n",
       "      <td>0.232166</td>\n",
       "    </tr>\n",
       "    <tr>\n",
       "      <th>Methane (CH$_4$)</th>\n",
       "      <td>-0.163074</td>\n",
       "      <td>-0.15534</td>\n",
       "      <td>-0.00104217</td>\n",
       "      <td>-0.00603899</td>\n",
       "      <td>0.276651</td>\n",
       "      <td>0.147478</td>\n",
       "    </tr>\n",
       "    <tr>\n",
       "      <th>Ozone (O$_3$)</th>\n",
       "      <td>-0.148473</td>\n",
       "      <td>-0.14714</td>\n",
       "      <td>-0.0459325</td>\n",
       "      <td>-0.0667722</td>\n",
       "      <td>0.236445</td>\n",
       "      <td>0.0506565</td>\n",
       "    </tr>\n",
       "    <tr>\n",
       "      <th>HFCs</th>\n",
       "      <td>-0.00378865</td>\n",
       "      <td>-0.00146604</td>\n",
       "      <td>0.0575687</td>\n",
       "      <td>-0.00378865</td>\n",
       "      <td>0.0969879</td>\n",
       "      <td>0.223272</td>\n",
       "    </tr>\n",
       "  </tbody>\n",
       "</table>\n",
       "</div>"
      ],
      "text/plain": [
       "                           ssp119      ssp126      ssp245      ssp334  \\\n",
       "                                                                        \n",
       "2040 Aerosols            0.273794     0.22836   0.0466276   0.0762187   \n",
       "     Methane (CH$_4$)  -0.0328498  -0.0208684   0.0417628   0.0464901   \n",
       "     Ozone (O$_3$)     -0.0830983  -0.0598631    0.014977  -0.0180824   \n",
       "     HFCs              0.00538032   0.0170608   0.0284577  0.00538032   \n",
       "2100 Aerosols            0.424517    0.434063    0.281874    0.322135   \n",
       "     Methane (CH$_4$)   -0.163074    -0.15534 -0.00104217 -0.00603899   \n",
       "     Ozone (O$_3$)      -0.148473    -0.14714  -0.0459325  -0.0667722   \n",
       "     HFCs             -0.00378865 -0.00146604   0.0575687 -0.00378865   \n",
       "\n",
       "                          ssp370     ssp585  \n",
       "                                             \n",
       "2040 Aerosols          -0.052029   0.122591  \n",
       "     Methane (CH$_4$)  0.0761809  0.0618279  \n",
       "     Ozone (O$_3$)     0.0698454  0.0400979  \n",
       "     HFCs              0.0264999  0.0423128  \n",
       "2100 Aerosols         -0.0266798   0.232166  \n",
       "     Methane (CH$_4$)   0.276651   0.147478  \n",
       "     Ozone (O$_3$)      0.236445  0.0506565  \n",
       "     HFCs              0.0969879   0.223272  "
      ]
     },
     "execution_count": 61,
     "metadata": {},
     "output_type": "execute_result"
    }
   ],
   "source": [
    "tabel_dT_slcfs2"
   ]
  },
  {
   "cell_type": "code",
   "execution_count": 62,
   "metadata": {},
   "outputs": [
    {
     "data": {
      "image/png": "[encoded data removed]",
      "text/plain": [
       "<Figure size 720x273.6 with 2 Axes>"
      ]
     },
     "metadata": {
      "needs_background": "light"
     },
     "output_type": "display_data"
    }
   ],
   "source": [
    "from matplotlib.ticker import (MultipleLocator)\n",
    "\n",
    "fig, axs = plt.subplots(1, len(years), figsize=[10, 3.8], sharex=False, sharey=True)\n",
    "plt_stacked(fig, axs, tabel_dT_anthrop2, tabel_dT_sum_slcf2,tabel_dT_slcfs2,tabel_dT_anthrop2_5th,\n",
    "            tabel_dT_anthrop2_95th, tabel_dT_sum_slcf2_5, tabel_dT_sum_slcf2_95)\n",
    "\n",
    "fix_axs(axs)\n",
    "\n",
    "fn = FIGURE_DIR / 'stack_bar_influence_years_no_lowNTCF.png'\n",
    "plt.tight_layout()\n",
    "ax = plt.gca()\n",
    "\n",
    "plt.savefig(fn, dpi=300)\n",
    "plt.savefig(fn.with_suffix('.pdf'), dpi=300)"
   ]
  },
  {
   "cell_type": "code",
   "execution_count": 63,
   "metadata": {
    "lines_to_next_cell": 0
   },
   "outputs": [],
   "source": [
    "#tabel_dT_anthrop2 = tabel_dT_anthrop[scen_no_lowNTCF]\n",
    "#tabel_dT_slcfs2 = tabel_dT_slcfs[scen_no_lowNTCF]\n",
    "\n",
    "scenario_370 = [sc for sc in scenarios_fl if 'ssp370' in sc]\n",
    "subset_scenarios = list(pd.Series(scenario_370).replace(rn_dic_scen))"
   ]
  },
  {
   "cell_type": "code",
   "execution_count": 64,
   "metadata": {},
   "outputs": [],
   "source": [
    "tabel_dT_anthrop2 = tabel_dT_anthrop[subset_scenarios]\n",
    "tabel_dT_slcfs2 = tabel_dT_slcfs[subset_scenarios]\n",
    "tabel_dT_sum_slcf2 = tabel_dT_sum_slcf[subset_scenarios]\n",
    "tabel_dT_anthrop2_5th = tabel_dT_anthrop_5th[subset_scenarios]\n",
    "tabel_dT_anthrop2_95th = tabel_dT_anthrop_95th[subset_scenarios]\n",
    "tabel_dT_sum_slcf2_5 = tabel_dT_sum_slcf_5[subset_scenarios]\n",
    "tabel_dT_sum_slcf2_95 = tabel_dT_sum_slcf_95[subset_scenarios]"
   ]
  },
  {
   "cell_type": "code",
   "execution_count": 65,
   "metadata": {},
   "outputs": [
    {
     "data": {
      "image/png": "[encoded data removed]",
      "text/plain": [
       "<Figure size 720x180 with 2 Axes>"
      ]
     },
     "metadata": {
      "needs_background": "light"
     },
     "output_type": "display_data"
    }
   ],
   "source": [
    "from matplotlib.ticker import (MultipleLocator)\n",
    "fig, axs = plt.subplots(1, len(years), figsize=[10, 2.5], sharex=False, sharey=True)\n",
    "\n",
    "plt_stacked(fig, axs, tabel_dT_anthrop2, tabel_dT_sum_slcf2,tabel_dT_slcfs2,tabel_dT_anthrop2_5th,\n",
    "            tabel_dT_anthrop2_95th, tabel_dT_sum_slcf2_5, tabel_dT_sum_slcf2_95)\n",
    "\n",
    "fix_axs(axs)\n",
    "\n",
    "fn = FIGURE_DIR / 'stack_bar_influence_years_horiz_errTot_370only.png'\n",
    "\n",
    "plt.tight_layout()\n",
    "ax = plt.gca()\n",
    "\n",
    "plt.savefig(fn, dpi=300)\n",
    "plt.savefig(fn.with_suffix('.pdf'), dpi=300)"
   ]
  },
  {
   "cell_type": "code",
   "execution_count": 66,
   "metadata": {},
   "outputs": [
    {
     "data": {
      "text/plain": [
       "['aerosol-total-with_bc-snow', 'ch4', 'o3', 'HFCs']"
      ]
     },
     "execution_count": 66,
     "metadata": {},
     "output_type": "execute_result"
    }
   ],
   "source": [
    "variables_erf_comp"
   ]
  },
  {
   "cell_type": "code",
   "execution_count": 67,
   "metadata": {},
   "outputs": [],
   "source": [
    "variables_erf_comp_nbc = ['ch4', 'aerosol-total-with_bc-snow', 'o3', 'HFCs']"
   ]
  },
  {
   "cell_type": "code",
   "execution_count": 68,
   "metadata": {
    "lines_to_next_cell": 2
   },
   "outputs": [],
   "source": [
    "tabel_dT_slcfs2 = table_of_sts(ds_DT, scenarios_fl, variables_erf_comp_nbc, variables_erf_comp_nbc, years,\n",
    "                               ref_year)"
   ]
  },
  {
   "cell_type": "code",
   "execution_count": 69,
   "metadata": {},
   "outputs": [],
   "source": [
    "subset_scenarios = scen_no_lowNTCF\n",
    "tabel_dT_anthrop2 = tabel_dT_anthrop[subset_scenarios]\n",
    "tabel_dT_slcfs2 = tabel_dT_slcfs[subset_scenarios]\n",
    "tabel_dT_anthrop2_5th = tabel_dT_anthrop_5th[subset_scenarios]\n",
    "tabel_dT_anthrop2_95th = tabel_dT_anthrop_95th[subset_scenarios]\n",
    "tabel_dT_sum_slcf2_5 = tabel_dT_sum_slcf_5[subset_scenarios]\n",
    "tabel_dT_sum_slcf2_95 = tabel_dT_sum_slcf_95[subset_scenarios]"
   ]
  },
  {
   "cell_type": "code",
   "execution_count": 70,
   "metadata": {
    "lines_to_next_cell": 0
   },
   "outputs": [
    {
     "data": {
      "image/png": "[encoded data removed]",
      "text/plain": [
       "<Figure size 720x244.8 with 2 Axes>"
      ]
     },
     "metadata": {
      "needs_background": "light"
     },
     "output_type": "display_data"
    }
   ],
   "source": [
    "from matplotlib.ticker import (MultipleLocator)\n",
    "\n",
    "fig, axs = plt.subplots(1, len(years), figsize=[10, 3.4], sharex=False, sharey=True)\n",
    "tits = ['Near Term surface temperature change (2040 relative to 2020)',\n",
    "        'Long Term surface T change 2100 relatie to 2020)']\n",
    "tits = ['Change in GSAT in 2040 relative to 2020', 'Change in GSAT in 2100 relative to 2020']\n",
    "for yr, ax, tit in zip(years, axs, tits):\n",
    "    scenario_tot = 'Scenario total'\n",
    "    # Pick out year and do various renames:\n",
    "    # Total antropogenic\n",
    "    tot_yr = tabel_dT_anthrop2.loc[yr].rename(\n",
    "        {'Total': scenario_tot, 'ssp370-lowNTCF-aerchemmip': 'ssp370-lowNTCF\\n-aerchemmip'})\n",
    "    # Sum SLCFs\n",
    "    # Plot bars for anthropopogenic total:\n",
    "    ax.barh(tot_yr.transpose().index, tot_yr.transpose()[scenario_tot].values, color='k', label='Scenario total',\n",
    "            alpha=.2,\n",
    "            )\n",
    "    # Plot bars for SLCFs total:\n",
    "    scenario_tot = 'Sum SLCFs'\n",
    "\n",
    "    # Plot stacked plot of components:\n",
    "    _tab = tabel_dT_slcfs2.loc[yr].transpose().rename({'ssp370-lowNTCF-aerchemmip': 'ssp370-lowNTCF\\n-aerchemmip'})\n",
    "    _tab = _tab.rename(nice_name_var_dic)\n",
    "    a = _tab.plot(kind='barh', stacked=True, ax=ax, color=ls, legend=(yr != '2040'))  # , grid=True)#stac)\n",
    "    _t = _tab.sum(axis=1)  # , c=100)#.plot(kind='barh', )\n",
    "    # ax.scatter(_t, _t.index, zorder=100, c='w', marker='d')\n",
    "    ax.scatter(_t, list(_t.reset_index().index), zorder=10, c='w', marker='d')\n",
    "\n",
    "    # a = _tab.plot(kind='barh', stacked=True, ax=ax, color=ls, legend=(yr != '2040'))  # , grid=True)#stac)\n",
    "    if not yr == '2040':\n",
    "        ax.legend(frameon=False, ncol=1)  # [l],labels=['Sce!!nario total'], loc = 4)#'lower right')\n",
    "    # Zero line:\n",
    "    ax.axvline(0, linestyle='--', color='k', alpha=0.4)\n",
    "    ax.set_title(tit)\n",
    "    ax.set_xlabel('$\\Delta$ GSAT ($^\\circ$C)')\n",
    "    ax.xaxis.set_minor_locator(MultipleLocator(.1))\n",
    "    # ax.grid(axis='y', which='major')\n",
    "\n",
    "ax = axs[0]\n",
    "\n",
    "ax.spines['right'].set_visible(False)\n",
    "ax.spines['top'].set_visible(False)\n",
    "ax.spines['left'].set_visible(False)\n",
    "ax.tick_params(right=False, left=False)  # , color='w')\n",
    "\n",
    "ax = axs[1]\n",
    "ax.spines['right'].set_visible(False)\n",
    "ax.spines['top'].set_visible(False)\n",
    "ax.spines['left'].set_visible(False)\n",
    "ax.tick_params(labelleft=False, right=False, left=False, color='w')\n",
    "ax.tick_params(labelright=False, labelleft=False, right=False, left=False, color='w')\n",
    "ax.yaxis.set_visible(False)\n",
    "plt.tight_layout()\n",
    "\n",
    "fn = FIGURE_DIR / 'stack_bar_influence_years_no_lowNTCF_noBC.png'\n",
    "plt.tight_layout()\n",
    "ax = plt.gca()\n",
    "\n",
    "plt.savefig(fn, dpi=300)\n",
    "plt.savefig(fn.with_suffix('.pdf'), dpi=300)\n",
    "plt.show()"
   ]
  },
  {
   "cell_type": "code",
   "execution_count": 71,
   "metadata": {},
   "outputs": [],
   "source": [
    "subset_scen_fl = list(pd.Series(scenarios_fl_oneNTCF).replace(rn_dic_scen))\n",
    "tabel_dT_slcfs_noBC = table_of_sts(ds_DT, scenarios_fl_oneNTCF, variables_erf_comp_nbc, variables_erf_comp_nbc, years,\n",
    "                               ref_year)\n",
    "#tabel_dT_slcfs2 = tabel_dT_slcfs2.rename(nice_name_var_dic)\n",
    "#tabel_dT_slcfs2 = tabel_dT_slcfs2[subset_scen_fl]\n",
    "#tabel_dT_anthrop2 = tabel_dT_anthrop[subset_scen_fl#]"
   ]
  },
  {
   "cell_type": "code",
   "execution_count": 72,
   "metadata": {},
   "outputs": [],
   "source": [
    "subset_scenarios = subset_scen_fl\n",
    "tabel_dT_anthrop2 = tabel_dT_anthrop[subset_scenarios]\n",
    "tabel_dT_slcfs2 = tabel_dT_slcfs_noBC[subset_scenarios]\n",
    "tabel_dT_sum_slcf2 = tabel_dT_sum_slcf[subset_scenarios]\n",
    "#tabel_dT_anthrop2_5th = tabel_dT_anthrop_5th[subset_scenarios]\n",
    "#tabel_dT_anthrop2_95th = tabel_dT_anthrop_95th[subset_scenarios]\n",
    "#tabel_dT_slcfs2_5th = tabel_dT_slcfs_5th[subset_scenarios]\n",
    "#tabel_dT_sum_slcf2_5 = tabel_dT_sum_slcf_5[subset_scenarios]\n",
    "#tabel_dT_sum_slcf2_95 = tabel_dT_sum_slcf_95[subset_scenarios]"
   ]
  },
  {
   "cell_type": "code",
   "execution_count": 73,
   "metadata": {},
   "outputs": [
    {
     "name": "stdout",
     "output_type": "stream",
     "text": [
      "ssp119                         0.163226\n",
      "ssp126                         0.164689\n",
      "ssp245                         0.131825\n",
      "ssp370                         0.120497\n",
      "ssp370-lowNTCF\\n-aerchemmip    0.214227\n",
      "ssp585                         0.266829\n",
      "dtype: float64\n",
      "ssp119                         0.109181\n",
      "ssp126                         0.130118\n",
      "ssp245                         0.292468\n",
      "ssp370                         0.583404\n",
      "ssp370-lowNTCF\\n-aerchemmip    0.816129\n",
      "ssp585                         0.653572\n",
      "dtype: float64\n"
     ]
    },
    {
     "data": {
      "image/png": "[encoded data removed]",
      "text/plain": [
       "<Figure size 720x295.2 with 2 Axes>"
      ]
     },
     "metadata": {
      "needs_background": "light"
     },
     "output_type": "display_data"
    }
   ],
   "source": [
    "from matplotlib.ticker import (MultipleLocator)\n",
    "\n",
    "fig, axs = plt.subplots(1, len(years), figsize=[10, 4.1], sharex=False, sharey=True)\n",
    "tits = ['Near Term surface temperature change (2040 relative to 2020)',\n",
    "        'Long Term surface T change 2100 relatie to 2020)']\n",
    "tits = ['Change in GSAT in 2040 relative to 2020', 'Change in GSAT in 2100 relative to 2020']\n",
    "for yr, ax, tit in zip(years, axs, tits):\n",
    "    scenario_tot = 'Scenario total'\n",
    "    # Pick out year and do various renames:\n",
    "    # Total antropogenic\n",
    "    tot_yr = tabel_dT_anthrop2.loc[yr].rename(\n",
    "        {'Total': scenario_tot, 'ssp370-lowNTCF-aerchemmip': 'ssp370-lowNTCF\\n-aerchemmip'})\n",
    "    # Sum SLCFs\n",
    "    # Plot bars for anthropopogenic total:\n",
    "    ax.barh(tot_yr.transpose().index, tot_yr.transpose()[scenario_tot].values, color='k', label='Scenario total',\n",
    "            alpha=.2,\n",
    "            )\n",
    "    # Plot bars for SLCFs total:\n",
    "    scenario_tot = 'Sum SLCFs'\n",
    "\n",
    "    # Plot stacked plot of components:\n",
    "    _tab = tabel_dT_slcfs2.loc[yr].transpose().rename({'ssp370-lowNTCF-aerchemmip': 'ssp370-lowNTCF\\n-aerchemmip'})\n",
    "    _tab = _tab.rename(nice_name_var_dic)\n",
    "    a = _tab.plot(kind='barh', stacked=True, ax=ax, color=ls, legend=(yr != '2040'))  # , grid=True)#stac)\n",
    "    _t = _tab.sum(axis=1)  # , c=100)#.plot(kind='barh', )\n",
    "    ax.scatter(_t, list(_t.reset_index().index), zorder=10, c='w', marker='d')\n",
    "    print(_t)\n",
    "    # a = _tab.plot(kind='barh', stacked=True, ax=ax, color=ls, legend=(yr != '2040'))  # , grid=True)#stac)\n",
    "    if not yr == '2040':\n",
    "        ax.legend(frameon=False, ncol=1)  # [l],labels=['Sce!!nario total'], loc = 4)#'lower right')\n",
    "    # Zero line:\n",
    "    ax.axvline(0, linestyle='--', color='k', alpha=0.4)\n",
    "    ax.set_title(tit)\n",
    "    ax.set_xlabel('$\\Delta$ GSAT ($^\\circ$C)')\n",
    "    ax.xaxis.set_minor_locator(MultipleLocator(.1))\n",
    "    # ax.grid(axis='y', which='major')\n",
    "\n",
    "ax = axs[0]\n",
    "\n",
    "ax.spines['right'].set_visible(False)\n",
    "ax.spines['top'].set_visible(False)\n",
    "ax.spines['left'].set_visible(False)\n",
    "ax.tick_params(right=False, left=False)  # , color='w')\n",
    "\n",
    "ax = axs[1]\n",
    "ax.spines['right'].set_visible(False)\n",
    "ax.spines['top'].set_visible(False)\n",
    "ax.spines['left'].set_visible(False)\n",
    "ax.tick_params(labelleft=False, right=False, left=False, color='w')\n",
    "ax.tick_params(labelright=False, labelleft=False, right=False, left=False, color='w')\n",
    "ax.yaxis.set_visible(False)\n",
    "plt.tight_layout()\n",
    "\n",
    "fn = FIGURE_DIR / 'stack_bar_influence_years_one_lowNTCF_noBC.png'\n",
    "plt.tight_layout()\n",
    "ax = plt.gca()\n",
    "\n",
    "plt.savefig(fn, dpi=300)\n",
    "plt.savefig(fn.with_suffix('.pdf'), dpi=300)"
   ]
  },
  {
   "cell_type": "code",
   "execution_count": 74,
   "metadata": {},
   "outputs": [],
   "source": [
    "subset_scen_fl = list(pd.Series(scenarios_fl).replace(rn_dic_scen))\n",
    "tabel_dT_slcfs2 = table_of_sts(ds_DT, scenarios_fl, variables_erf_comp_nbc, variables_erf_comp_nbc, years,\n",
    "                               ref_year)\n",
    "tabel_dT_slcfs2 = tabel_dT_slcfs2.rename(nice_name_var_dic)\n",
    "tabel_dT_slcfs2 = tabel_dT_slcfs2[subset_scen_fl]\n",
    "tabel_dT_anthrop2 = tabel_dT_anthrop[subset_scen_fl]"
   ]
  },
  {
   "cell_type": "code",
   "execution_count": 75,
   "metadata": {},
   "outputs": [
    {
     "name": "stdout",
     "output_type": "stream",
     "text": [
      "ssp119                         0.163226\n",
      "ssp126                         0.164689\n",
      "ssp245                         0.131825\n",
      "ssp334                         0.110007\n",
      "ssp370                         0.120497\n",
      "ssp370-lowNTCF\\n-aerchemmip    0.214227\n",
      "ssp370-lowNTCF\\n-gidden        0.033117\n",
      "ssp585                         0.266829\n",
      "dtype: float64\n",
      "ssp119                         0.109181\n",
      "ssp126                         0.130118\n",
      "ssp245                         0.292468\n",
      "ssp334                         0.245535\n",
      "ssp370                         0.583404\n",
      "ssp370-lowNTCF\\n-aerchemmip    0.816129\n",
      "ssp370-lowNTCF\\n-gidden        0.147600\n",
      "ssp585                         0.653572\n",
      "dtype: float64\n"
     ]
    },
    {
     "data": {
      "image/png": "[encoded data removed]",
      "text/plain": [
       "<Figure size 720x324 with 2 Axes>"
      ]
     },
     "metadata": {
      "needs_background": "light"
     },
     "output_type": "display_data"
    }
   ],
   "source": [
    "from matplotlib.ticker import (MultipleLocator)\n",
    "\n",
    "fig, axs = plt.subplots(1, len(years), figsize=[10, 4.5], sharex=False, sharey=True)\n",
    "tits = ['Near Term surface temperature change (2040 relative to 2020)',\n",
    "        'Long Term surface T change 2100 relatie to 2020)']\n",
    "tits = ['Change in GSAT in 2040 relative to 2020', 'Change in GSAT in 2100 relative to 2020']\n",
    "for yr, ax, tit in zip(years, axs, tits):\n",
    "    scenario_tot = 'Scenario total'\n",
    "    # Pick out year and do various renames:\n",
    "    # Total antropogenic\n",
    "    tot_yr = tabel_dT_anthrop2.loc[yr].rename(\n",
    "        {'Total': scenario_tot, 'ssp370-lowNTCF-aerchemmip': 'ssp370-lowNTCF\\n-aerchemmip'})\n",
    "    # Sum SLCFs\n",
    "    # Plot bars for anthropopogenic total:\n",
    "    ax.barh(tot_yr.transpose().index, tot_yr.transpose()[scenario_tot].values, color='k', label='Scenario total',\n",
    "            alpha=.2,\n",
    "            )\n",
    "    # Plot bars for SLCFs total:\n",
    "    scenario_tot = 'Sum SLCFs'\n",
    "\n",
    "    # Plot stacked plot of components:\n",
    "    _tab = tabel_dT_slcfs2.loc[yr].transpose().rename({'ssp370-lowNTCF-aerchemmip': 'ssp370-lowNTCF\\n-aerchemmip'})\n",
    "    _tab = _tab.rename(nice_name_var_dic)\n",
    "    a = _tab.plot(kind='barh', stacked=True, ax=ax, color=ls, legend=(yr != '2040'))  # , grid=True)#stac)\n",
    "    _t = _tab.sum(axis=1)  # , c=100)#.plot(kind='barh', )\n",
    "    ax.scatter(_t, list(_t.reset_index().index), zorder=10, c='w', marker='d')\n",
    "    print(_t)\n",
    "    # a = _tab.plot(kind='barh', stacked=True, ax=ax, color=ls, legend=(yr != '2040'))  # , grid=True)#stac)\n",
    "    if not yr == '2040':\n",
    "        ax.legend(frameon=False, ncol=1)  # [l],labels=['Sce!!nario total'], loc = 4)#'lower right')\n",
    "    # Zero line:\n",
    "    ax.axvline(0, linestyle='--', color='k', alpha=0.4)\n",
    "    ax.set_title(tit)\n",
    "    ax.set_xlabel('$\\Delta$ GSAT ($^\\circ$C)')\n",
    "    ax.xaxis.set_minor_locator(MultipleLocator(.1))\n",
    "    # ax.grid(axis='y', which='major')\n",
    "\n",
    "ax = axs[0]\n",
    "\n",
    "ax.spines['right'].set_visible(False)\n",
    "ax.spines['top'].set_visible(False)\n",
    "ax.spines['left'].set_visible(False)\n",
    "ax.tick_params(right=False, left=False)  # , color='w')\n",
    "\n",
    "ax = axs[1]\n",
    "ax.spines['right'].set_visible(False)\n",
    "ax.spines['top'].set_visible(False)\n",
    "ax.spines['left'].set_visible(False)\n",
    "ax.tick_params(labelleft=False, right=False, left=False, color='w')\n",
    "ax.tick_params(labelright=False, labelleft=False, right=False, left=False, color='w')\n",
    "ax.yaxis.set_visible(False)\n",
    "plt.tight_layout()\n",
    "\n",
    "fn = FIGURE_DIR / 'stack_bar_influence_years_all_lowNTCF_noBC.png'\n",
    "plt.tight_layout()\n",
    "ax = plt.gca()\n",
    "\n",
    "plt.savefig(fn, dpi=300)\n",
    "plt.savefig(fn.with_suffix('.pdf'), dpi=300)"
   ]
  },
  {
   "cell_type": "markdown",
   "metadata": {},
   "source": [
    "## Error bars from model uncertainty AND ECS uncertainty"
   ]
  },
  {
   "cell_type": "markdown",
   "metadata": {},
   "source": [
    "See [Uncertainty_calculation.ipynb](Uncertainty_calculation.ipynb)"
   ]
  },
  {
   "cell_type": "markdown",
   "metadata": {},
   "source": [
    "## Only ssp370:"
   ]
  },
  {
   "cell_type": "code",
   "execution_count": 76,
   "metadata": {},
   "outputs": [],
   "source": [
    "scenario_370 = [sc for sc in scenarios_fl if 'ssp370' in sc]"
   ]
  },
  {
   "cell_type": "code",
   "execution_count": null,
   "metadata": {},
   "outputs": [],
   "source": []
  },
  {
   "cell_type": "code",
   "execution_count": null,
   "metadata": {},
   "outputs": [],
   "source": []
  },
  {
   "cell_type": "code",
   "execution_count": null,
   "metadata": {},
   "outputs": [],
   "source": []
  },
  {
   "cell_type": "code",
   "execution_count": null,
   "metadata": {},
   "outputs": [],
   "source": []
  },
  {
   "cell_type": "code",
   "execution_count": null,
   "metadata": {},
   "outputs": [],
   "source": []
  },
  {
   "cell_type": "code",
   "execution_count": null,
   "metadata": {},
   "outputs": [],
   "source": []
  },
  {
   "cell_type": "code",
   "execution_count": null,
   "metadata": {},
   "outputs": [],
   "source": []
  },
  {
   "cell_type": "code",
   "execution_count": null,
   "metadata": {},
   "outputs": [],
   "source": []
  },
  {
   "cell_type": "code",
   "execution_count": null,
   "metadata": {},
   "outputs": [],
   "source": []
  },
  {
   "cell_type": "code",
   "execution_count": null,
   "metadata": {},
   "outputs": [],
   "source": []
  },
  {
   "cell_type": "code",
   "execution_count": null,
   "metadata": {},
   "outputs": [],
   "source": []
  },
  {
   "cell_type": "code",
   "execution_count": null,
   "metadata": {},
   "outputs": [],
   "source": []
  },
  {
   "cell_type": "code",
   "execution_count": null,
   "metadata": {},
   "outputs": [],
   "source": []
  }
 ],
 "metadata": {
  "ipub": {
   "bibliography": "IPCC_terje.bib",
   "biboptions": [
    "super",
    "sort"
   ],
   "bibstyle": "unsrtnat"
  },
  "jupytext": {
   "encoding": "# -*- coding: utf-8 -*-",
   "text_representation": {
    "extension": ".py",
    "format_name": "percent",
    "format_version": "1.3",
    "jupytext_version": "1.3.3"
   }
  },
  "kernelspec": {
   "display_name": "Python 3",
   "language": "python",
   "name": "python3"
  },
  "language_info": {
   "codemirror_mode": {
    "name": "ipython",
    "version": 3
   },
   "file_extension": ".py",
   "mimetype": "text/x-python",
   "name": "python",
   "nbconvert_exporter": "python",
   "pygments_lexer": "ipython3",
   "version": "3.7.6"
  },
  "latex_metadata": {
   "author": "Sara Blichner, T. K. Berntsen",
   "bibliography": "IPCC_terje",
   "bibstyle": "plain",
   "title": "Comparison of temperature response for various climate gases"
  },
  "pycharm": {
   "stem_cell": {
    "cell_type": "raw",
    "metadata": {
     "collapsed": false
    },
    "source": []
   }
  }
 },
 "nbformat": 4,
 "nbformat_minor": 4
}
