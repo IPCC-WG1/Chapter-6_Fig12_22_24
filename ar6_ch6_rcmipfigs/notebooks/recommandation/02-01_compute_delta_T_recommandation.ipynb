{
 "cells": [
  {
   "cell_type": "markdown",
   "metadata": {},
   "source": [
    "# Compute change in temperature from ERF"
   ]
  },
  {
   "cell_type": "markdown",
   "metadata": {},
   "source": [
    "This notebook takes the ERF dataset created in notebook 1 and computes the change in temperature from each forcing according to an impulse response function"
   ]
  },
  {
   "cell_type": "markdown",
   "metadata": {},
   "source": [
    "### Imports\n"
   ]
  },
  {
   "cell_type": "code",
   "execution_count": 1,
   "metadata": {},
   "outputs": [
    {
     "name": "stdout",
     "output_type": "stream",
     "text": [
      "/home/sarambl/PHD/IPCC/public/AR6_CH6_RCMIPFIGSv2/ar6_ch6_rcmipfigs\n",
      "/home/sarambl/PHD/IPCC/public/AR6_CH6_RCMIPFIGSv2/ar6_ch6_rcmipfigs/data_in\n"
     ]
    }
   ],
   "source": [
    "import pandas as pd\n",
    "import xarray as xr\n",
    "from IPython.display import clear_output\n",
    "import numpy as np\n",
    "import pandas as pd\n",
    "import matplotlib.pyplot as plt\n",
    "\n",
    "%load_ext autoreload\n",
    "%autoreload 2\n",
    "from ar6_ch6_rcmipfigs.constants import INPUT_DATA_DIR"
   ]
  },
  {
   "cell_type": "markdown",
   "metadata": {
    "lines_to_next_cell": 0
   },
   "source": [
    "### General about computing $\\Delta T$:"
   ]
  },
  {
   "cell_type": "markdown",
   "metadata": {
    "lines_to_next_cell": 0
   },
   "source": [
    "We compute the change in GSAT temperature ($\\Delta T$) from the effective radiative forcing (ERF) from MAGICC?????? (#TODO: check model and reference), by integrating with the impulse response function (IRF(t-t'))\n",
    "\n",
    "#todo: check for ref for IRF\n",
    "(Geoffroy at al 2013).\n",
    "\n",
    "For any forcing agent $x$, with estimated ERF$_x$, the change in temperature $\\Delta T$ is calculated as:\n"
   ]
  },
  {
   "cell_type": "markdown",
   "metadata": {
    "lines_to_next_cell": 0
   },
   "source": [
    "\\begin{align*}\n",
    "\\Delta T_x (t) &= \\int_0^t ERF_x(t') IRF(t-t') dt' \\\\\n",
    "\\end{align*}"
   ]
  },
  {
   "cell_type": "markdown",
   "metadata": {
    "lines_to_next_cell": 0
   },
   "source": [
    "#### The Impulse response function (IRF):\n",
    "In these calculations we use:\n",
    "\\begin{align*}\n",
    "IRF(t) = \\frac{q_1}{d_1} \\exp\\Big(\\frac{-t}{d_1}\\Big) + \\frac{q_2}{d_2} \\exp\\Big(\\frac{-t}{d_2}\\Big)\n",
    "\\end{align*}\n",
    "\n",
    "Where the constants, $q_i$ and $d_i$ are shown below. \n",
    "\n",
    "**TODO: find ref**"
   ]
  },
  {
   "cell_type": "markdown",
   "metadata": {
    "lines_to_next_cell": 0
   },
   "source": [
    "## Input data:\n",
    "See [README.md](../../README.md)"
   ]
  },
  {
   "cell_type": "markdown",
   "metadata": {},
   "source": [
    "# Code + figures"
   ]
  },
  {
   "cell_type": "code",
   "execution_count": 2,
   "metadata": {},
   "outputs": [
    {
     "data": {
      "text/html": [
       "<div>\n",
       "<style scoped>\n",
       "    .dataframe tbody tr th:only-of-type {\n",
       "        vertical-align: middle;\n",
       "    }\n",
       "\n",
       "    .dataframe tbody tr th {\n",
       "        vertical-align: top;\n",
       "    }\n",
       "\n",
       "    .dataframe thead th {\n",
       "        text-align: right;\n",
       "    }\n",
       "</style>\n",
       "<table border=\"1\" class=\"dataframe\">\n",
       "  <thead>\n",
       "    <tr style=\"text-align: right;\">\n",
       "      <th></th>\n",
       "      <th>C (W yr / m^2 / K)</th>\n",
       "      <th>C_d (W yr / m^2 / K)</th>\n",
       "      <th>alpha (W / m^2 / K)</th>\n",
       "      <th>eta (dimensionless)</th>\n",
       "      <th>kappa (W / m^2 / K)</th>\n",
       "      <th>d1 (yr)</th>\n",
       "      <th>d2 (yr)</th>\n",
       "      <th>q1 (K / (W / m^2))</th>\n",
       "      <th>q2 (K / (W / m^2))</th>\n",
       "      <th>efficacy (dimensionless)</th>\n",
       "      <th>ecs (K)</th>\n",
       "      <th>tcr (K)</th>\n",
       "      <th>rf2xCO2 (W / m^2)</th>\n",
       "    </tr>\n",
       "    <tr>\n",
       "      <th>id</th>\n",
       "      <th></th>\n",
       "      <th></th>\n",
       "      <th></th>\n",
       "      <th></th>\n",
       "      <th></th>\n",
       "      <th></th>\n",
       "      <th></th>\n",
       "      <th></th>\n",
       "      <th></th>\n",
       "      <th></th>\n",
       "      <th></th>\n",
       "      <th></th>\n",
       "      <th></th>\n",
       "    </tr>\n",
       "  </thead>\n",
       "  <tbody>\n",
       "    <tr>\n",
       "      <th>recommendation</th>\n",
       "      <td>7.713351</td>\n",
       "      <td>149.303493</td>\n",
       "      <td>1.333333</td>\n",
       "      <td>1.022558</td>\n",
       "      <td>0.904349</td>\n",
       "      <td>3.386835</td>\n",
       "      <td>281.99678</td>\n",
       "      <td>0.435308</td>\n",
       "      <td>0.314692</td>\n",
       "      <td>1.022558</td>\n",
       "      <td>3.0</td>\n",
       "      <td>1.801053</td>\n",
       "      <td>4.0</td>\n",
       "    </tr>\n",
       "  </tbody>\n",
       "</table>\n",
       "</div>"
      ],
      "text/plain": [
       "                C (W yr / m^2 / K)  C_d (W yr / m^2 / K)  alpha (W / m^2 / K)  \\\n",
       "id                                                                              \n",
       "recommendation            7.713351            149.303493             1.333333   \n",
       "\n",
       "                eta (dimensionless)  kappa (W / m^2 / K)   d1 (yr)    d2 (yr)  \\\n",
       "id                                                                              \n",
       "recommendation             1.022558             0.904349  3.386835  281.99678   \n",
       "\n",
       "                q1 (K / (W / m^2))  q2 (K / (W / m^2))  \\\n",
       "id                                                       \n",
       "recommendation            0.435308            0.314692   \n",
       "\n",
       "                efficacy (dimensionless)  ecs (K)   tcr (K)  rf2xCO2 (W / m^2)  \n",
       "id                                                                              \n",
       "recommendation                  1.022558      3.0  1.801053                4.0  "
      ]
     },
     "execution_count": 2,
     "metadata": {},
     "output_type": "execute_result"
    }
   ],
   "source": [
    "#fn_IRF_constants = INPUT_DATA_DIR / 'irf_from_2xCO2_2020_12_02_050025-1.csv'\n",
    "#fn_IRF_constants = INPUT_DATA_DIR / 'irf_from_2xCO2_2021_02_02_025721.csv'\n",
    "#fn_IRF_constants = INPUT_DATA_DIR / 'recommended_irf_from_2xCO2_2021_02_03_045947.csv'\n",
    "fn_IRF_constants = INPUT_DATA_DIR / 'recommended_irf_from_2xCO2_2021_02_07_223156.csv'\n",
    "\n",
    "irf_consts = pd.read_csv(fn_IRF_constants).set_index('id')\n",
    "\n",
    "ld1 = 'd1 (yr)'\n",
    "ld2 = 'd2 (yr)'\n",
    "lq1 = 'q1 (K / (W / m^2))'\n",
    "lq2 = 'q2 (K / (W / m^2))'\n",
    "median = 'median'\n",
    "perc5 = '5th percentile'\n",
    "perc95 = '95th percentile'\n",
    "recommendation = 'recommendation'\n",
    "irf_consts  # [d1]"
   ]
  },
  {
   "cell_type": "code",
   "execution_count": 3,
   "metadata": {
    "lines_to_next_cell": 2
   },
   "outputs": [
    {
     "name": "stdout",
     "output_type": "stream",
     "text": [
      "d1=3.3868348464180458, d2=281.99678000960705, q1=0.4353078120299049, q2=0.3146921879700972\n"
     ]
    }
   ],
   "source": [
    "# lets get the irf values from 0 until i\n",
    "d1 = float(irf_consts[ld1])\n",
    "d2 = float(irf_consts[ld2])\n",
    "q1 = float(irf_consts[lq1])\n",
    "q2 = float(irf_consts[lq2])\n",
    "\n",
    "print(f'd1={d1}, d2={d2}, q1={q1}, q2={q2}')"
   ]
  },
  {
   "cell_type": "markdown",
   "metadata": {},
   "source": [
    "### Path input data"
   ]
  },
  {
   "cell_type": "code",
   "execution_count": 4,
   "metadata": {
    "collapsed": false,
    "jupyter": {
     "outputs_hidden": false
    },
    "lines_to_next_cell": 2,
    "pycharm": {
     "name": "#%%\n"
    }
   },
   "outputs": [],
   "source": [
    "from ar6_ch6_rcmipfigs.constants import OUTPUT_DATA_DIR, RESULTS_DIR\n",
    "\n",
    "PATH_DATASET = OUTPUT_DATA_DIR / 'ERF_data.nc'"
   ]
  },
  {
   "cell_type": "markdown",
   "metadata": {},
   "source": [
    "## Path output data"
   ]
  },
  {
   "cell_type": "code",
   "execution_count": 5,
   "metadata": {
    "collapsed": false,
    "jupyter": {
     "outputs_hidden": false
    },
    "lines_to_next_cell": 2,
    "pycharm": {
     "name": "#%%\n"
    }
   },
   "outputs": [
    {
     "name": "stdout",
     "output_type": "stream",
     "text": [
      "/home/sarambl/PHD/IPCC/public/AR6_CH6_RCMIPFIGSv2/ar6_ch6_rcmipfigs/data_out/dT_data_RCMIP_recommendation.nc\n"
     ]
    }
   ],
   "source": [
    "PATH_DT_TAB_OUTPUT = RESULTS_DIR / 'tables' / 'table_sens_dT_cs_recommandetion.csv'\n",
    "PATH_DT_OUTPUT = OUTPUT_DATA_DIR / 'dT_data_RCMIP_recommendation.nc'\n",
    "\n",
    "print(PATH_DT_OUTPUT)"
   ]
  },
  {
   "cell_type": "markdown",
   "metadata": {},
   "source": [
    "## various definitions"
   ]
  },
  {
   "cell_type": "code",
   "execution_count": 6,
   "metadata": {},
   "outputs": [],
   "source": [
    "# name of output variable\n",
    "name_deltaT = 'Delta T'\n",
    "\n",
    "climatemodel = 'climatemodel'\n",
    "scenario = 'scenario'\n",
    "variable = 'variable'\n",
    "time = 'time'\n",
    "percentile = 'percentile'"
   ]
  },
  {
   "cell_type": "markdown",
   "metadata": {},
   "source": [
    "## Set values:"
   ]
  },
  {
   "cell_type": "markdown",
   "metadata": {},
   "source": [
    "We only compute for the recommendation (not e.g. percentiles):"
   ]
  },
  {
   "cell_type": "code",
   "execution_count": 7,
   "metadata": {},
   "outputs": [],
   "source": [
    "IRFpercentiles = [recommendation]\n",
    "# {'ECS = 2K':0.526, 'ECS = 3.4K':0.884, 'ECS = 5K': 1.136 }"
   ]
  },
  {
   "cell_type": "markdown",
   "metadata": {},
   "source": [
    "Year to integrate from and to:"
   ]
  },
  {
   "cell_type": "code",
   "execution_count": 8,
   "metadata": {},
   "outputs": [],
   "source": [
    "first_y = 1750\n",
    "last_y = 2100"
   ]
  },
  {
   "cell_type": "markdown",
   "metadata": {},
   "source": [
    "**Set reference year for temperature change:**"
   ]
  },
  {
   "cell_type": "code",
   "execution_count": 9,
   "metadata": {},
   "outputs": [],
   "source": [
    "ref_year = 2020"
   ]
  },
  {
   "cell_type": "markdown",
   "metadata": {},
   "source": [
    "**Years to output change in**"
   ]
  },
  {
   "cell_type": "code",
   "execution_count": 10,
   "metadata": {},
   "outputs": [],
   "source": [
    "years = [2040, 2100]"
   ]
  },
  {
   "cell_type": "markdown",
   "metadata": {},
   "source": [
    "### Define variables to look at:"
   ]
  },
  {
   "cell_type": "code",
   "execution_count": 11,
   "metadata": {},
   "outputs": [],
   "source": [
    "# variables to plot:\n",
    "variables_erf_comp = [\n",
    "    'ch4',\n",
    "    'aerosol-radiation_interactions',\n",
    "    'aerosol-cloud_interactions',\n",
    "    'aerosol-total',\n",
    "    'o3',\n",
    "    'HFCs',\n",
    "    # 'F-Gases|HFC',\n",
    "    'bc_on_snow',\n",
    "    'total_anthropogenic',\n",
    "    'total',\n",
    "]\n",
    "# total ERFs for anthropogenic and total:\n",
    "variables_erf_tot = ['total_anthropogenic',\n",
    "                     'total']\n",
    "variables_all = variables_erf_comp + variables_erf_tot\n",
    "# Scenarios to plot:\n",
    "scenarios_fl = ['ssp534-over', 'ssp119', 'ssp334','ssp460', 'ssp585', 'ssp370',\n",
    "                'ssp370-lowNTCF-aerchemmip', 'ssp126', 'ssp245', 'ssp434',\n",
    "                'ssp370-lowNTCF-gidden'\n",
    "                ]"
   ]
  },
  {
   "cell_type": "markdown",
   "metadata": {},
   "source": [
    "## IRF function: "
   ]
  },
  {
   "cell_type": "code",
   "execution_count": 12,
   "metadata": {},
   "outputs": [],
   "source": [
    "\n",
    "def IRF(t, d1, q1, d2, q2):\n",
    "    \"\"\"\n",
    "    Returns the IRF function for:\n",
    "    :param q2:\n",
    "    :param d2:\n",
    "    :param q1:\n",
    "    :param d1:\n",
    "    :param t: Time in years\n",
    "    :return:\n",
    "    IRF\n",
    "    \"\"\"\n",
    "    irf = q1 / d1 * np.exp(-t / d1) + q2 / d2 * np.exp(-t / d2)\n",
    "    return irf\n",
    "    # l * (alpha1 * np.exp(-t / tau1) + alpha2 * np.exp(-t / tau2))"
   ]
  },
  {
   "cell_type": "markdown",
   "metadata": {},
   "source": [
    "### Open ERF dataset:"
   ]
  },
  {
   "cell_type": "code",
   "execution_count": 13,
   "metadata": {},
   "outputs": [],
   "source": [
    "ds = xr.open_dataset(PATH_DATASET).sel(year=slice(1700, 2200))  # we need only years until 1700\n",
    "da_ERF = ds['ERF']"
   ]
  },
  {
   "cell_type": "markdown",
   "metadata": {},
   "source": [
    "#### Simple pre-processing"
   ]
  },
  {
   "cell_type": "code",
   "execution_count": 14,
   "metadata": {},
   "outputs": [],
   "source": [
    "ds['time'] = pd.to_datetime(ds['year'].to_pandas().index.map(str), format='%Y')\n",
    "\n",
    "# delta_t is 1 (year)\n",
    "ds['delta_t'] = xr.DataArray(np.ones(len(ds['year'])), dims='year', coords={'year': ds['year']})"
   ]
  },
  {
   "cell_type": "markdown",
   "metadata": {},
   "source": [
    "## Integrate and compute $\\Delta T$:\n",
    "The code below integrates the read in ERFs with the pre defined impulse response function (IRF)."
   ]
  },
  {
   "cell_type": "markdown",
   "metadata": {},
   "source": [
    "\\begin{align*} \n",
    "\\Delta T (t) &= \\int_0^t ERF(t') IRF(t-t') dt' \\\\\n",
    "\\end{align*}"
   ]
  },
  {
   "cell_type": "code",
   "execution_count": 15,
   "metadata": {},
   "outputs": [],
   "source": [
    "\n",
    "\n",
    "def integrate_(i, _var, _nvar, ds_in: xr.Dataset, ds_DT, irf_cnst: dict):\n",
    "    \"\"\"\n",
    "\n",
    "    :param i:\n",
    "    :param _var:\n",
    "    :param _nvar:\n",
    "    :param ds_in:\n",
    "    :param ds_DT:\n",
    "    :param irf_cnst: dictionary\n",
    "    :return:\n",
    "    \"\"\"\n",
    "    # lets create a ds that goes from 0 to i inclusive\n",
    "    ds_short = ds_in[{'year': slice(0, i + 1)}].copy()\n",
    "    #print(ds_short)\n",
    "    # lets get the current year\n",
    "    current_year = ds_short['year'][{'year': i}]  # .dt.year\n",
    "    # lets get a list of years\n",
    "    _years = ds_short['year']  # .dt.year\n",
    "    # lets get the year delta until current year(i)\n",
    "    ds_short['end_year_delta'] = current_year - _years\n",
    "\n",
    "    # lets get the irf values from 0 until i\n",
    "    d1 = irf_cnst[ld1]\n",
    "    d2 = irf_cnst[ld2]\n",
    "    q1 = irf_cnst[lq1]\n",
    "    q2 = irf_cnst[lq2]\n",
    "\n",
    "    ds_short['irf'] = IRF(\n",
    "        ds_short['end_year_delta'] * ds_short['delta_t'], d1, q1, d2, q2)\n",
    "\n",
    "    # lets do the famous integral\n",
    "    ds_short['to_integrate'] = \\\n",
    "        ds_short[_var] * \\\n",
    "        ds_short['irf'] * \\\n",
    "        ds_short['delta_t']\n",
    "\n",
    "    # lets sum all the values up until i and set\n",
    "    # this value at ds_DT\n",
    "    # If whole array is null, set value to nan\n",
    "    if np.all(ds_short['to_integrate'].isnull()):  # or last_null:\n",
    "        _val = np.nan\n",
    "    else:\n",
    "        # \n",
    "\n",
    "        _ds_int = ds_short['to_integrate'].sum(['year'])\n",
    "        # mask where last value is null (in order to not get intgral \n",
    "        _ds_m1 = ds_short['to_integrate'].isel(year=-1)\n",
    "        # where no forcing data)\n",
    "        _val = _ds_int.where(_ds_m1.notnull())\n",
    "    # set value in dataframe:\n",
    "    ds_DT[_nvar][{'year': i}] = _val\n",
    "\n",
    "\n",
    "def integrate_to_dT(_ds, from_t, to_t, irf_cnsts, int_var='ERF'):\n",
    "    \"\"\"\n",
    "    Integrate forcing to temperature change.\n",
    "\n",
    "    :param _ds: dataset containing the forcings\n",
    "    :param from_t: start year\n",
    "    :param to_t: end year\n",
    "    :param int_var: variables to integrate\n",
    "    :param irf_cnsts: irf constants\n",
    "    :return:\n",
    "    \"\"\"\n",
    "    # slice dataset\n",
    "    ds_sl = _ds.sel(year=slice(from_t, to_t))\n",
    "    len_time = len(ds_sl['year'])\n",
    "    # lets create a result DS\n",
    "    ds_DT = ds_sl.copy()\n",
    "\n",
    "    # lets define the vars of the ds\n",
    "    namevar = name_deltaT\n",
    "    # set all values to zero for results dataarray:\n",
    "    ds_DT[namevar] = ds_DT[int_var] * 0\n",
    "    # Units Kelvin:\n",
    "    ds_DT[namevar].attrs['unit'] = 'K'\n",
    "    if 'unit' in ds_DT[namevar].coords:\n",
    "        ds_DT[namevar].coords['unit'] = 'K'\n",
    "\n",
    "    for i in range(len_time):\n",
    "        # da = ds[var]\n",
    "        if (i % 20) == 0:\n",
    "            print('%s of %s done' % (i, len_time))\n",
    "        integrate_(i, int_var, namevar, ds_sl, ds_DT, irf_cnsts)\n",
    "    clear_output()\n",
    "    # fn = 'DT_%s-%s.nc' % (from_t, to_t)\n",
    "    #fname = OUTPUT_DATA_DIR/ fn#'DT_%s-%s.nc' % (from_t, to_t)\n",
    "    # save dataset.\n",
    "    #ds_DT.to_netcdf(fname)\n",
    "    return ds_DT"
   ]
  },
  {
   "cell_type": "code",
   "execution_count": 16,
   "metadata": {
    "collapsed": false,
    "jupyter": {
     "outputs_hidden": false
    },
    "pycharm": {
     "name": "#%%\n"
    }
   },
   "outputs": [],
   "source": [
    "dic_ds = {}\n",
    "for key in IRFpercentiles:\n",
    "    dic_ds[key] = integrate_to_dT(ds, first_y, last_y, irf_consts.loc[key], int_var='ERF')"
   ]
  },
  {
   "cell_type": "markdown",
   "metadata": {},
   "source": [
    "## check:"
   ]
  },
  {
   "cell_type": "code",
   "execution_count": 17,
   "metadata": {},
   "outputs": [
    {
     "data": {
      "image/png": "[encoded data removed]",
      "text/plain": [
       "<Figure size 432x288 with 1 Axes>"
      ]
     },
     "metadata": {
      "needs_background": "light"
     },
     "output_type": "display_data"
    }
   ],
   "source": [
    "for per in IRFpercentiles:\n",
    "    dic_ds[per].isel(scenario=0, variable=0)[name_deltaT].plot()"
   ]
  },
  {
   "cell_type": "markdown",
   "metadata": {},
   "source": [
    "### Make datset with percentile as dimension:\n",
    "Does really only make sense with percentiles..."
   ]
  },
  {
   "cell_type": "code",
   "execution_count": 18,
   "metadata": {},
   "outputs": [],
   "source": [
    "ds_tmp = xr.Dataset(coords=dic_ds[recommendation].coords)\n",
    "ds_tmp\n",
    "for key in IRFpercentiles:\n",
    "    ds_tmp[key] = dic_ds[key]['Delta T']  # .dims,dic_ds[key],)\n",
    "ds['Delta T'] = ds_tmp.to_array('percentile')"
   ]
  },
  {
   "cell_type": "markdown",
   "metadata": {},
   "source": [
    "# Save dataset:"
   ]
  },
  {
   "cell_type": "code",
   "execution_count": 19,
   "metadata": {},
   "outputs": [
    {
     "name": "stdout",
     "output_type": "stream",
     "text": [
      "Saved to /home/sarambl/PHD/IPCC/public/AR6_CH6_RCMIPFIGSv2/ar6_ch6_rcmipfigs/data_out/dT_data_RCMIP_recommendation.nc\n"
     ]
    }
   ],
   "source": [
    "ds.sel(year=slice(first_y, last_y)).to_netcdf(PATH_DT_OUTPUT)\n",
    "print(f'Saved to {PATH_DT_OUTPUT}')\n",
    "# ds_DT.to_array('percentile')\n",
    "# dic_ds[key]['Delta T']"
   ]
  },
  {
   "cell_type": "markdown",
   "metadata": {},
   "source": [
    "## Double check historical $\\Delta$ T: \n"
   ]
  },
  {
   "cell_type": "code",
   "execution_count": 20,
   "metadata": {},
   "outputs": [
    {
     "data": {
      "application/javascript": [
       "IPython.OutputArea.prototype._should_scroll = function(lines) { return false; }"
      ],
      "text/plain": [
       "<IPython.core.display.Javascript object>"
      ]
     },
     "metadata": {},
     "output_type": "display_data"
    },
    {
     "name": "stdout",
     "output_type": "stream",
     "text": [
      "hallo\n"
     ]
    }
   ],
   "source": [
    "from matplotlib.ticker import (MultipleLocator)\n",
    "\n",
    "from ar6_ch6_rcmipfigs.utils.plot import get_cmap_dic"
   ]
  },
  {
   "cell_type": "code",
   "execution_count": 21,
   "metadata": {},
   "outputs": [],
   "source": [
    "ls_vars = ['aerosol-total', 'ch4', 'co2', 'other_wmghg', 'o3','HFCs']"
   ]
  },
  {
   "cell_type": "code",
   "execution_count": 22,
   "metadata": {},
   "outputs": [
    {
     "name": "stdout",
     "output_type": "stream",
     "text": [
      "(0.5607843137254902, 0.0, 0.6470588235294118)\n",
      "(1.0, 0.4196078431372549, 0.07450980392156863)\n",
      "(0.9568627450980393, 0.796078431372549, 0.21176470588235294)\n",
      "(0.5254901960784314, 0.7803921568627451, 0.29411764705882354)\n",
      "(0.21568627450980393, 0.49411764705882355, 0.7215686274509804)\n"
     ]
    }
   ],
   "source": [
    "cdic = get_cmap_dic(ls_vars)"
   ]
  },
  {
   "cell_type": "code",
   "execution_count": 23,
   "metadata": {},
   "outputs": [
    {
     "data": {
      "text/html": [
       "<pre>&lt;xarray.Dataset&gt;\n",
       "Dimensions:     (percentile: 1, scenario: 11, variable: 19, year: 451)\n",
       "Coordinates:\n",
       "  * year        (year) int64 1750 1751 1752 1753 1754 ... 2197 2198 2199 2200\n",
       "  * variable    (variable) object &#x27;co2&#x27; &#x27;ch4&#x27; ... &#x27;HFCs&#x27;\n",
       "  * scenario    (scenario) object &#x27;ssp534-over&#x27; ... &#x27;ssp370-lowNTCF-gidden&#x27;\n",
       "  * percentile  (percentile) &lt;U14 &#x27;recommendation&#x27;\n",
       "Data variables:\n",
       "    ERF         (scenario, variable, year) float64 ...\n",
       "    time        (year) datetime64[ns] 1750-01-01 1751-01-01 ... 2200-01-01\n",
       "    delta_t     (year) float64 1.0 1.0 1.0 1.0 1.0 1.0 ... 1.0 1.0 1.0 1.0 1.0\n",
       "    Delta T     (percentile, scenario, variable, year) float64 0.0 ... nan</pre>"
      ],
      "text/plain": [
       "<xarray.Dataset>\n",
       "Dimensions:     (percentile: 1, scenario: 11, variable: 19, year: 451)\n",
       "Coordinates:\n",
       "  * year        (year) int64 1750 1751 1752 1753 1754 ... 2197 2198 2199 2200\n",
       "  * variable    (variable) object 'co2' 'ch4' ... 'HFCs'\n",
       "  * scenario    (scenario) object 'ssp534-over' ... 'ssp370-lowNTCF-gidden'\n",
       "  * percentile  (percentile) <U14 'recommendation'\n",
       "Data variables:\n",
       "    ERF         (scenario, variable, year) float64 ...\n",
       "    time        (year) datetime64[ns] 1750-01-01 1751-01-01 ... 2200-01-01\n",
       "    delta_t     (year) float64 1.0 1.0 1.0 1.0 1.0 1.0 ... 1.0 1.0 1.0 1.0 1.0\n",
       "    Delta T     (percentile, scenario, variable, year) float64 0.0 ... nan"
      ]
     },
     "execution_count": 23,
     "metadata": {},
     "output_type": "execute_result"
    }
   ],
   "source": [
    "ds"
   ]
  },
  {
   "cell_type": "code",
   "execution_count": 24,
   "metadata": {},
   "outputs": [
    {
     "data": {
      "image/png": "[encoded data removed]",
      "text/plain": [
       "<Figure size 432x504 with 1 Axes>"
      ]
     },
     "metadata": {
      "needs_background": "light"
     },
     "output_type": "display_data"
    }
   ],
   "source": [
    "\n",
    "fig, ax = plt.subplots(figsize=[6, 7])\n",
    "\n",
    "ds_hist = ds.sel(year=slice(1750, 2019), percentile=recommendation, scenario='ssp119', variable=ls_vars)\n",
    "for var in ds_hist.variable.values:\n",
    "    ds_hist.sel(variable=var)[name_deltaT].plot(label=var, linestyle='dashed', linewidth=2, c=cdic[var])\n",
    "plt.legend(title='Variable', bbox_to_anchor=(1.05, 1), loc='upper left')  # , prop=fontP)\n",
    "ax.yaxis.set_major_locator(MultipleLocator(.25))\n",
    "ax.yaxis.set_minor_locator(MultipleLocator(.05))\n",
    "ax.tick_params(right=True, labelright=True)\n",
    "ax.set_xlim([1750, 2019])\n",
    "ax.set_ylim([-0.9, 1.25])\n",
    "plt.title('')\n",
    "plt.savefig('test.pdf')\n",
    "plt.show()"
   ]
  },
  {
   "cell_type": "code",
   "execution_count": null,
   "metadata": {},
   "outputs": [],
   "source": []
  },
  {
   "cell_type": "code",
   "execution_count": 25,
   "metadata": {},
   "outputs": [
    {
     "data": {
      "text/html": [
       "<pre>&lt;xarray.DataArray &#x27;scenario&#x27; (scenario: 11)&gt;\n",
       "array([&#x27;ssp534-over&#x27;, &#x27;ssp334&#x27;, &#x27;ssp119&#x27;, &#x27;ssp460&#x27;, &#x27;ssp585&#x27;, &#x27;ssp370&#x27;,\n",
       "       &#x27;ssp370-lowNTCF-aerchemmip&#x27;, &#x27;ssp126&#x27;, &#x27;ssp245&#x27;, &#x27;ssp434&#x27;,\n",
       "       &#x27;ssp370-lowNTCF-gidden&#x27;], dtype=object)\n",
       "Coordinates:\n",
       "  * scenario  (scenario) object &#x27;ssp534-over&#x27; ... &#x27;ssp370-lowNTCF-gidden&#x27;</pre>"
      ],
      "text/plain": [
       "<xarray.DataArray 'scenario' (scenario: 11)>\n",
       "array(['ssp534-over', 'ssp334', 'ssp119', 'ssp460', 'ssp585', 'ssp370',\n",
       "       'ssp370-lowNTCF-aerchemmip', 'ssp126', 'ssp245', 'ssp434',\n",
       "       'ssp370-lowNTCF-gidden'], dtype=object)\n",
       "Coordinates:\n",
       "  * scenario  (scenario) object 'ssp534-over' ... 'ssp370-lowNTCF-gidden'"
      ]
     },
     "execution_count": 25,
     "metadata": {},
     "output_type": "execute_result"
    }
   ],
   "source": [
    "da_ERF.scenario"
   ]
  },
  {
   "cell_type": "code",
   "execution_count": null,
   "metadata": {},
   "outputs": [],
   "source": []
  }
 ],
 "metadata": {
  "jupytext": {
   "text_representation": {
    "extension": ".py",
    "format_name": "percent",
    "format_version": "1.3",
    "jupytext_version": "1.3.3"
   }
  },
  "kernelspec": {
   "display_name": "Python 3",
   "language": "python",
   "name": "python3"
  },
  "language_info": {
   "codemirror_mode": {
    "name": "ipython",
    "version": 3
   },
   "file_extension": ".py",
   "mimetype": "text/x-python",
   "name": "python",
   "nbconvert_exporter": "python",
   "pygments_lexer": "ipython3",
   "version": "3.7.6"
  }
 },
 "nbformat": 4,
 "nbformat_minor": 4
}
