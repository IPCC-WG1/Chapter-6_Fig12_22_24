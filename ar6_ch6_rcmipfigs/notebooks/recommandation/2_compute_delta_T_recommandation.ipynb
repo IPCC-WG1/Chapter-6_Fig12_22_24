{
 "cells": [
  {
   "cell_type": "markdown",
   "metadata": {},
   "source": [
    "TA MED LOW-NTF-GIDDENS!!!"
   ]
  },
  {
   "cell_type": "markdown",
   "metadata": {},
   "source": [
    "# Plot temperature response over time"
   ]
  },
  {
   "cell_type": "markdown",
   "metadata": {},
   "source": [
    "This notebook does the same as [2_compute_delta_T.ipynb](2_compute_delta_T.ipynb) except that it varies the ECS parameter and outputs a table of changes in temperature with respect to some reference year (defined below)."
   ]
  },
  {
   "cell_type": "code",
   "execution_count": 1,
   "metadata": {},
   "outputs": [],
   "source": [
    "import pandas as pd"
   ]
  },
  {
   "cell_type": "code",
   "execution_count": 2,
   "metadata": {},
   "outputs": [
    {
     "name": "stdout",
     "output_type": "stream",
     "text": [
      "/home/sarambl/PHD/IPCC/public/AR6_CH6_RCMIPFIGSv2/ar6_ch6_rcmipfigs\n",
      "/home/sarambl/PHD/IPCC/public/AR6_CH6_RCMIPFIGSv2/ar6_ch6_rcmipfigs/data_in\n"
     ]
    }
   ],
   "source": [
    "from ar6_ch6_rcmipfigs.constants import INPUT_DATA_DIR"
   ]
  },
  {
   "cell_type": "markdown",
   "metadata": {
    "lines_to_next_cell": 0
   },
   "source": [
    "**Output table found in:**"
   ]
  },
  {
   "cell_type": "code",
   "execution_count": null,
   "metadata": {
    "lines_to_next_cell": 2
   },
   "outputs": [],
   "source": []
  },
  {
   "cell_type": "markdown",
   "metadata": {
    "lines_to_next_cell": 0
   },
   "source": [
    "### General about computing $\\Delta T$:"
   ]
  },
  {
   "cell_type": "markdown",
   "metadata": {
    "lines_to_next_cell": 0
   },
   "source": [
    "We compute the change in GSAT temperature ($\\Delta T$) from the effective radiative forcing (ERF) estimated from [Smith 2020](https://zenodo.org/record/3973015), by integrating with the impulse response function (IRF(t-t'))\n",
    "#todo: check for ref for IRF\n",
    "(Geoffroy at al 2013).\n",
    "\n",
    "For any forcing agent $x$, with estimated ERF$_x$, the change in temperature $\\Delta T$ is calculated as:\n"
   ]
  },
  {
   "cell_type": "markdown",
   "metadata": {
    "lines_to_next_cell": 0
   },
   "source": [
    "\\begin{align*}\n",
    "\\Delta T_x (t) &= \\int_0^t ERF_x(t') IRF(t-t') dt' \\\\\n",
    "\\end{align*}"
   ]
  },
  {
   "cell_type": "markdown",
   "metadata": {
    "lines_to_next_cell": 0
   },
   "source": [
    "#### The Impulse response function (IRF):\n",
    "In these calculations we use:\n",
    "\\begin{align*}\n",
    "IRF(t) = \\frac{q_1}{d_1} \\exp\\Big(\\frac{-t}{d_1}\\Big) + \\frac{q_2}{d_2} \\exp\\Big(\\frac{-t}{d_2}\\Big)\n",
    "\\end{align*}\n",
    "\n",
    "Where the constants, $q_i$ and $d_i$ are from XXXXXX????"
   ]
  },
  {
   "cell_type": "markdown",
   "metadata": {
    "lines_to_next_cell": 0
   },
   "source": [
    "## Input data:\n",
    "See [README.md](../../README.md)"
   ]
  },
  {
   "cell_type": "markdown",
   "metadata": {},
   "source": [
    "# Code + figures"
   ]
  },
  {
   "cell_type": "code",
   "execution_count": 3,
   "metadata": {},
   "outputs": [
    {
     "data": {
      "text/html": [
       "<div>\n",
       "<style scoped>\n",
       "    .dataframe tbody tr th:only-of-type {\n",
       "        vertical-align: middle;\n",
       "    }\n",
       "\n",
       "    .dataframe tbody tr th {\n",
       "        vertical-align: top;\n",
       "    }\n",
       "\n",
       "    .dataframe thead th {\n",
       "        text-align: right;\n",
       "    }\n",
       "</style>\n",
       "<table border=\"1\" class=\"dataframe\">\n",
       "  <thead>\n",
       "    <tr style=\"text-align: right;\">\n",
       "      <th></th>\n",
       "      <th>C (W yr / m^2 / K)</th>\n",
       "      <th>C_d (W yr / m^2 / K)</th>\n",
       "      <th>alpha (W / m^2 / K)</th>\n",
       "      <th>eta (dimensionless)</th>\n",
       "      <th>kappa (W / m^2 / K)</th>\n",
       "      <th>d1 (yr)</th>\n",
       "      <th>d2 (yr)</th>\n",
       "      <th>q1 (K / (W / m^2))</th>\n",
       "      <th>q2 (K / (W / m^2))</th>\n",
       "      <th>efficacy (dimensionless)</th>\n",
       "      <th>ecs (K)</th>\n",
       "      <th>tcr (K)</th>\n",
       "      <th>rf2xCO2 (W / m^2)</th>\n",
       "    </tr>\n",
       "    <tr>\n",
       "      <th>id</th>\n",
       "      <th></th>\n",
       "      <th></th>\n",
       "      <th></th>\n",
       "      <th></th>\n",
       "      <th></th>\n",
       "      <th></th>\n",
       "      <th></th>\n",
       "      <th></th>\n",
       "      <th></th>\n",
       "      <th></th>\n",
       "      <th></th>\n",
       "      <th></th>\n",
       "      <th></th>\n",
       "    </tr>\n",
       "  </thead>\n",
       "  <tbody>\n",
       "    <tr>\n",
       "      <th>recommendation</th>\n",
       "      <td>7.713351</td>\n",
       "      <td>149.303493</td>\n",
       "      <td>1.333333</td>\n",
       "      <td>1.022558</td>\n",
       "      <td>0.904349</td>\n",
       "      <td>3.386835</td>\n",
       "      <td>281.99678</td>\n",
       "      <td>0.435308</td>\n",
       "      <td>0.314692</td>\n",
       "      <td>1.022558</td>\n",
       "      <td>3.0</td>\n",
       "      <td>1.801053</td>\n",
       "      <td>4.0</td>\n",
       "    </tr>\n",
       "  </tbody>\n",
       "</table>\n",
       "</div>"
      ],
      "text/plain": [
       "                C (W yr / m^2 / K)  C_d (W yr / m^2 / K)  alpha (W / m^2 / K)  \\\n",
       "id                                                                              \n",
       "recommendation            7.713351            149.303493             1.333333   \n",
       "\n",
       "                eta (dimensionless)  kappa (W / m^2 / K)   d1 (yr)    d2 (yr)  \\\n",
       "id                                                                              \n",
       "recommendation             1.022558             0.904349  3.386835  281.99678   \n",
       "\n",
       "                q1 (K / (W / m^2))  q2 (K / (W / m^2))  \\\n",
       "id                                                       \n",
       "recommendation            0.435308            0.314692   \n",
       "\n",
       "                efficacy (dimensionless)  ecs (K)   tcr (K)  rf2xCO2 (W / m^2)  \n",
       "id                                                                              \n",
       "recommendation                  1.022558      3.0  1.801053                4.0  "
      ]
     },
     "execution_count": 3,
     "metadata": {},
     "output_type": "execute_result"
    }
   ],
   "source": [
    "#fn_IRF_constants = INPUT_DATA_DIR / 'irf_from_2xCO2_2020_12_02_050025-1.csv'\n",
    "fn_IRF_constants = INPUT_DATA_DIR / 'irf_from_2xCO2_2021_02_02_025721.csv'\n",
    "fn_IRF_constants = INPUT_DATA_DIR / 'recommended_irf_from_2xCO2_2021_02_03_045947.csv'\n",
    "fn_IRF_constants = INPUT_DATA_DIR / 'recommended_irf_from_2xCO2_2021_02_07_223156.csv'\n",
    "\n",
    "irf_consts = pd.read_csv(fn_IRF_constants).set_index('id')\n",
    "\n",
    "ld1 = 'd1 (yr)'\n",
    "ld2 = 'd2 (yr)'\n",
    "lq1 = 'q1 (K / (W / m^2))'\n",
    "lq2 = 'q2 (K / (W / m^2))'\n",
    "median = 'median'\n",
    "perc5 = '5th percentile'\n",
    "perc95 = '95th percentile'\n",
    "recommendation = 'recommendation'\n",
    "irf_consts  # [d1]"
   ]
  },
  {
   "cell_type": "markdown",
   "metadata": {},
   "source": [
    "#fn_IRF_constants = INPUT_DATA_DIR / 'irf_from_2xCO2_2020_12_02_050025-1.csv'\n",
    "fn_IRF_constants = INPUT_DATA_DIR / 'irf_from_2xCO2_2021_02_02_025721.csv'\n",
    "fn_IRF_constants = INPUT_DATA_DIR / 'irf_from_2xCO2_2021_02_03_045947.csv'\n",
    "irf_consts = pd.read_csv(fn_IRF_constants).set_index('id')\n",
    "\n",
    "ld1 = 'd1 (yr)'\n",
    "ld2 = 'd2 (yr)'\n",
    "lq1 = 'q1 (K / (W / m^2))'\n",
    "lq2 = 'q2 (K / (W / m^2))'\n",
    "median = 'median'\n",
    "perc5 = '5th percentile'\n",
    "perc95 = '95th percentile'\n",
    "irf_consts  # [d1]"
   ]
  },
  {
   "cell_type": "code",
   "execution_count": 4,
   "metadata": {
    "collapsed": false,
    "jupyter": {
     "outputs_hidden": false
    },
    "lines_to_next_cell": 2,
    "pycharm": {
     "name": "#%%\n"
    }
   },
   "outputs": [],
   "source": [
    "from ar6_ch6_rcmipfigs.constants import OUTPUT_DATA_DIR, RESULTS_DIR\n",
    "\n",
    "PATH_DATASET = OUTPUT_DATA_DIR / 'ERF_data.nc'\n",
    "\n",
    "PATH_DT_TAB_OUTPUT = RESULTS_DIR / 'tables' / 'table_sens_dT_cs_recommandetion.csv'\n",
    "PATH_DT_OUTPUT = OUTPUT_DATA_DIR / 'dT_data_RCMIP_recommendation.nc'"
   ]
  },
  {
   "cell_type": "markdown",
   "metadata": {},
   "source": [
    "**Output table found in:**"
   ]
  },
  {
   "cell_type": "code",
   "execution_count": 5,
   "metadata": {
    "lines_to_next_cell": 2,
    "pycharm": {
     "name": "#%%\n"
    }
   },
   "outputs": [
    {
     "name": "stdout",
     "output_type": "stream",
     "text": [
      "/home/sarambl/PHD/IPCC/public/AR6_CH6_RCMIPFIGSv2/ar6_ch6_rcmipfigs/data_out/dT_data_RCMIP_recommendation.nc\n"
     ]
    }
   ],
   "source": [
    "print(PATH_DT_OUTPUT)"
   ]
  },
  {
   "cell_type": "markdown",
   "metadata": {},
   "source": [
    "## Imports:"
   ]
  },
  {
   "cell_type": "code",
   "execution_count": 6,
   "metadata": {},
   "outputs": [],
   "source": [
    "import xarray as xr\n",
    "from IPython.display import clear_output\n",
    "import numpy as np\n",
    "import pandas as pd\n",
    "import matplotlib.pyplot as plt\n",
    "\n",
    "%load_ext autoreload\n",
    "%autoreload 2"
   ]
  },
  {
   "cell_type": "code",
   "execution_count": 7,
   "metadata": {},
   "outputs": [],
   "source": [
    "\n",
    "climatemodel = 'climatemodel'\n",
    "scenario = 'scenario'\n",
    "variable = 'variable'\n",
    "time = 'time'\n",
    "percentile = 'percentile'"
   ]
  },
  {
   "cell_type": "markdown",
   "metadata": {},
   "source": [
    "## Set values:"
   ]
  },
  {
   "cell_type": "markdown",
   "metadata": {},
   "source": [
    "ECS parameters:"
   ]
  },
  {
   "cell_type": "code",
   "execution_count": 8,
   "metadata": {},
   "outputs": [],
   "source": [
    "IRFpercentiles = [recommendation]\n",
    "# {'ECS = 2K':0.526, 'ECS = 3.4K':0.884, 'ECS = 5K': 1.136 }"
   ]
  },
  {
   "cell_type": "markdown",
   "metadata": {},
   "source": [
    "Year to integrate from and to:"
   ]
  },
  {
   "cell_type": "code",
   "execution_count": 9,
   "metadata": {},
   "outputs": [],
   "source": [
    "first_y = '1750'\n",
    "last_y = '2100'"
   ]
  },
  {
   "cell_type": "markdown",
   "metadata": {},
   "source": [
    "**Set reference year for temperature change:**"
   ]
  },
  {
   "cell_type": "code",
   "execution_count": 10,
   "metadata": {},
   "outputs": [],
   "source": [
    "ref_year = '2020'"
   ]
  },
  {
   "cell_type": "markdown",
   "metadata": {},
   "source": [
    "**Years to output change in**"
   ]
  },
  {
   "cell_type": "code",
   "execution_count": 11,
   "metadata": {},
   "outputs": [],
   "source": [
    "years = ['2040', '2100']"
   ]
  },
  {
   "cell_type": "markdown",
   "metadata": {},
   "source": [
    "## IRF:"
   ]
  },
  {
   "cell_type": "code",
   "execution_count": 12,
   "metadata": {},
   "outputs": [],
   "source": [
    "\n",
    "def IRF(t, d1, q1, d2, q2):\n",
    "    \"\"\"\n",
    "    Returns the IRF function for:\n",
    "    :param q2:\n",
    "    :param d2:\n",
    "    :param q1:\n",
    "    :param d1:\n",
    "    :param t: Time in years\n",
    "    :return:\n",
    "    IRF\n",
    "    \"\"\"\n",
    "    irf = q1 / d1 * np.exp(-t / d1) + q2 / d2 * np.exp(-t / d2)\n",
    "    return irf\n",
    "    # l * (alpha1 * np.exp(-t / tau1) + alpha2 * np.exp(-t / tau2))"
   ]
  },
  {
   "cell_type": "markdown",
   "metadata": {},
   "source": [
    "## ERF:\n",
    "Read ERF from file"
   ]
  },
  {
   "cell_type": "markdown",
   "metadata": {},
   "source": [
    "### Define variables to look at:"
   ]
  },
  {
   "cell_type": "code",
   "execution_count": 13,
   "metadata": {},
   "outputs": [],
   "source": [
    "# variables to plot:\n",
    "variables_erf_comp = [\n",
    "    'ch4',\n",
    "    'aerosol-radiation_interactions',\n",
    "    'aerosol-cloud_interactions',\n",
    "    'aerosol-total',\n",
    "    'o3',\n",
    "    'HFCs',\n",
    "    # 'F-Gases|HFC',\n",
    "    'bc_on_snow',\n",
    "    'total_anthropogenic',\n",
    "    'total',\n",
    "]\n",
    "# total ERFs for anthropogenic and total:\n",
    "variables_erf_tot = ['total_anthropogenic',\n",
    "                     'total']\n",
    "variables_all = variables_erf_comp + variables_erf_tot\n",
    "# Scenarios to plot:\n",
    "scenarios_fl = ['ssp534-over', 'ssp119', 'ssp460', 'ssp585', 'ssp370',\n",
    "                'ssp370-lowNTCF-aerchemmip', 'ssp126', 'ssp245', 'ssp434',\n",
    "                'ssp370-lowNTCF-gidden'\n",
    "                ]"
   ]
  },
  {
   "cell_type": "markdown",
   "metadata": {},
   "source": [
    "### Open dataset:"
   ]
  },
  {
   "cell_type": "code",
   "execution_count": 14,
   "metadata": {},
   "outputs": [],
   "source": [
    "ds = xr.open_dataset(PATH_DATASET).sel(year=slice(1700, 2200))  # we need only years until 1700\n",
    "da_ERF = ds['ERF']\n",
    "\n",
    "# ds['time'] = \\\n",
    "# ds['year'].to_pandas().index.map('{}-01-01'.format)\n",
    "ds['time'] = pd.to_datetime(ds['year'].to_pandas().index.map(str), format='%Y')\n",
    "\n",
    "# delta_t is 1 (year)\n",
    "ds['delta_t'] = xr.DataArray(np.ones(len(ds['year'])), dims='year', coords={'year': ds['year']})"
   ]
  },
  {
   "cell_type": "markdown",
   "metadata": {},
   "source": [
    "## Integrate:\n",
    "The code below integrates the read in ERFs with the pre defined impulse response function (IRF)."
   ]
  },
  {
   "cell_type": "markdown",
   "metadata": {},
   "source": [
    "\\begin{align*} \n",
    "\\Delta T (t) &= \\int_0^t ERF(t') IRF(t-t') dt' \\\\\n",
    "\\end{align*}"
   ]
  },
  {
   "cell_type": "code",
   "execution_count": 15,
   "metadata": {},
   "outputs": [],
   "source": [
    "name_deltaT = 'Delta T'\n",
    "\n",
    "\n",
    "def integrate_(i, _var, _nvar, ds_in: xr.Dataset, ds_DT, irf_cnst: dict):\n",
    "    \"\"\"\n",
    "\n",
    "    :param i:\n",
    "    :param _var:\n",
    "    :param _nvar:\n",
    "    :param ds_in:\n",
    "    :param ds_DT:\n",
    "    :param irf_cnst: dictionary\n",
    "    :return:\n",
    "    \"\"\"\n",
    "    # lets create a ds that goes from 0 to i inclusive\n",
    "    ds_short = ds_in[{'year': slice(0, i + 1)}].copy()\n",
    "    #print(ds_short)\n",
    "    # lets get the current year\n",
    "    current_year = ds_short['year'][{'year': i}]  # .dt.year\n",
    "    # lets get a list of years\n",
    "    _years = ds_short['year']  # .dt.year\n",
    "    # lets get the year delta until current year(i)\n",
    "    ds_short['end_year_delta'] = current_year - _years\n",
    "\n",
    "    # lets get the irf values from 0 until i\n",
    "    d1 = irf_cnst[ld1]\n",
    "    d2 = irf_cnst[ld2]\n",
    "    q1 = irf_cnst[lq1]\n",
    "    q2 = irf_cnst[lq2]\n",
    "\n",
    "    ds_short['irf'] = IRF(\n",
    "        ds_short['end_year_delta'] * ds_short['delta_t'], d1, q1, d2, q2)\n",
    "\n",
    "    # lets do the famous integral\n",
    "    ds_short['to_integrate'] = \\\n",
    "        ds_short[_var] * \\\n",
    "        ds_short['irf'] * \\\n",
    "        ds_short['delta_t']\n",
    "\n",
    "    # lets sum all the values up until i and set\n",
    "    # this value at ds_DT\n",
    "    # If whole array is null, set value to nan\n",
    "    if np.all(ds_short['to_integrate'].isnull()):  # or last_null:\n",
    "        _val = np.nan\n",
    "    else:\n",
    "        # \n",
    "\n",
    "        _ds_int = ds_short['to_integrate'].sum(['year'])\n",
    "        # mask where last value is null (in order to not get intgral \n",
    "        _ds_m1 = ds_short['to_integrate'].isel(year=-1)\n",
    "        # where no forcing data)\n",
    "        _val = _ds_int.where(_ds_m1.notnull())\n",
    "    # set value in dataframe:\n",
    "    ds_DT[_nvar][{'year': i}] = _val\n",
    "\n",
    "\n",
    "def integrate_to_dT(_ds, from_t, to_t, irf_cnsts, int_var='ERF'):\n",
    "    \"\"\"\n",
    "    Integrate forcing to temperature change.\n",
    "\n",
    "    :param _ds: dataset containing the forcings\n",
    "    :param from_t: start year\n",
    "    :param to_t: end year\n",
    "    :param int_var: variables to integrate\n",
    "    :param irf_cnsts: irf constants\n",
    "    :return:\n",
    "    \"\"\"\n",
    "    # slice dataset\n",
    "    ds_sl = _ds.sel(year=slice(from_t, to_t))\n",
    "    len_time = len(ds_sl['year'])\n",
    "    # lets create a result DS\n",
    "    ds_DT = ds_sl.copy()\n",
    "\n",
    "    # lets define the vars of the ds\n",
    "    namevar = name_deltaT\n",
    "    # set all values to zero for results dataarray:\n",
    "    ds_DT[namevar] = ds_DT[int_var] * 0\n",
    "    # Units Kelvin:\n",
    "    ds_DT[namevar].attrs['unit'] = 'K'\n",
    "    if 'unit' in ds_DT[namevar].coords:\n",
    "        ds_DT[namevar].coords['unit'] = 'K'\n",
    "\n",
    "    for i in range(len_time):\n",
    "        # da = ds[var]\n",
    "        if (i % 20) == 0:\n",
    "            print('%s of %s done' % (i, len_time))\n",
    "        integrate_(i, int_var, namevar, ds_sl, ds_DT, irf_cnsts)\n",
    "    clear_output()\n",
    "    # fn = 'DT_%s-%s.nc' % (from_t, to_t)\n",
    "    # fname = OUTPUT_DATA_DIR/ fn#'DT_%s-%s.nc' % (from_t, to_t)\n",
    "    # save dataset.\n",
    "    # ds_DT.to_netcdf(fname)\n",
    "    return ds_DT"
   ]
  },
  {
   "cell_type": "markdown",
   "metadata": {},
   "source": [
    "## Compute $\\Delta T$ with 3 different climate sensitivities"
   ]
  },
  {
   "cell_type": "code",
   "execution_count": 16,
   "metadata": {},
   "outputs": [
    {
     "data": {
      "text/html": [
       "<pre>&lt;xarray.Dataset&gt;\n",
       "Dimensions:   (scenario: 10, variable: 19, year: 451)\n",
       "Coordinates:\n",
       "  * year      (year) int64 1750 1751 1752 1753 1754 ... 2196 2197 2198 2199 2200\n",
       "  * variable  (variable) object &#x27;co2&#x27; &#x27;ch4&#x27; ... &#x27;aerosol-total-with_bc&#x27; &#x27;HFCs&#x27;\n",
       "  * scenario  (scenario) object &#x27;ssp534-over&#x27; ... &#x27;ssp370-lowNTCF-aerchemmip&#x27;\n",
       "Data variables:\n",
       "    ERF       (scenario, variable, year) float64 ...\n",
       "    time      (year) datetime64[ns] 1750-01-01 1751-01-01 ... 2200-01-01\n",
       "    delta_t   (year) float64 1.0 1.0 1.0 1.0 1.0 1.0 ... 1.0 1.0 1.0 1.0 1.0 1.0</pre>"
      ],
      "text/plain": [
       "<xarray.Dataset>\n",
       "Dimensions:   (scenario: 10, variable: 19, year: 451)\n",
       "Coordinates:\n",
       "  * year      (year) int64 1750 1751 1752 1753 1754 ... 2196 2197 2198 2199 2200\n",
       "  * variable  (variable) object 'co2' 'ch4' ... 'aerosol-total-with_bc' 'HFCs'\n",
       "  * scenario  (scenario) object 'ssp534-over' ... 'ssp370-lowNTCF-aerchemmip'\n",
       "Data variables:\n",
       "    ERF       (scenario, variable, year) float64 ...\n",
       "    time      (year) datetime64[ns] 1750-01-01 1751-01-01 ... 2200-01-01\n",
       "    delta_t   (year) float64 1.0 1.0 1.0 1.0 1.0 1.0 ... 1.0 1.0 1.0 1.0 1.0 1.0"
      ]
     },
     "execution_count": 16,
     "metadata": {},
     "output_type": "execute_result"
    }
   ],
   "source": [
    "ds"
   ]
  },
  {
   "cell_type": "code",
   "execution_count": 17,
   "metadata": {
    "collapsed": false,
    "jupyter": {
     "outputs_hidden": false
    },
    "pycharm": {
     "name": "#%%\n"
    }
   },
   "outputs": [
    {
     "data": {
      "text/plain": [
       "3.3868348464180458"
      ]
     },
     "execution_count": 17,
     "metadata": {},
     "output_type": "execute_result"
    }
   ],
   "source": [
    "# noinspection PyStatementEffect\n",
    "irf_consts.loc[recommendation][ld1]"
   ]
  },
  {
   "cell_type": "code",
   "execution_count": 18,
   "metadata": {
    "collapsed": false,
    "jupyter": {
     "outputs_hidden": false
    },
    "pycharm": {
     "name": "#%%\n"
    }
   },
   "outputs": [],
   "source": [
    "dic_ds = {}\n",
    "for key in IRFpercentiles:\n",
    "    dic_ds[key] = integrate_to_dT(ds, first_y, last_y, irf_consts.loc[key], int_var='ERF')"
   ]
  },
  {
   "cell_type": "markdown",
   "metadata": {},
   "source": [
    "## check:"
   ]
  },
  {
   "cell_type": "code",
   "execution_count": 19,
   "metadata": {},
   "outputs": [
    {
     "data": {
      "image/png": "[encoded data removed]",
      "text/plain": [
       "<Figure size 432x288 with 1 Axes>"
      ]
     },
     "metadata": {
      "needs_background": "light"
     },
     "output_type": "display_data"
    }
   ],
   "source": [
    "for per in IRFpercentiles:\n",
    "    dic_ds[per].isel(scenario=0, variable=0)[name_deltaT].plot()"
   ]
  },
  {
   "cell_type": "markdown",
   "metadata": {},
   "source": [
    "### Make datset with percentile as dimension:"
   ]
  },
  {
   "cell_type": "code",
   "execution_count": 20,
   "metadata": {},
   "outputs": [],
   "source": [
    "ds_tmp = xr.Dataset(coords=dic_ds[recommendation].coords)\n",
    "ds_tmp\n",
    "for key in IRFpercentiles:\n",
    "    ds_tmp[key] = dic_ds[key]['Delta T']  # .dims,dic_ds[key],)\n",
    "ds['Delta T'] = ds_tmp.to_array('percentile')\n",
    "ds.sel(year=slice(first_y, last_y)).to_netcdf(PATH_DT_OUTPUT)\n",
    "# ds_DT.to_array('percentile')\n",
    "# dic_ds[key]['Delta T']"
   ]
  },
  {
   "cell_type": "markdown",
   "metadata": {},
   "source": [
    "## Table"
   ]
  },
  {
   "cell_type": "markdown",
   "metadata": {},
   "source": [
    "### Setup table:"
   ]
  },
  {
   "cell_type": "code",
   "execution_count": 21,
   "metadata": {
    "lines_to_next_cell": 2
   },
   "outputs": [],
   "source": [
    "\n",
    "iterables = [list(IRFpercentiles), years]\n",
    "\n",
    "\n",
    "def setup_table(scenario_n='', variables=variables_all):\n",
    "    _i = pd.MultiIndex.from_product(iterables, names=['', ''])\n",
    "    table = pd.DataFrame(columns= variables, index=_i).transpose()\n",
    "    table.index.name = scenario_n\n",
    "    return table"
   ]
  },
  {
   "cell_type": "code",
   "execution_count": null,
   "metadata": {
    "lines_to_next_cell": 2
   },
   "outputs": [],
   "source": []
  },
  {
   "cell_type": "code",
   "execution_count": 22,
   "metadata": {},
   "outputs": [],
   "source": [
    "# Dicitonary of tables with different ESC:\n",
    "scntab_dic = {}\n",
    "for scn in scenarios_fl:\n",
    "    # Loop over scenrarios\n",
    "    tab = setup_table(scenario_n=scn, variables=variables_erf_comp)  # make table\n",
    "    for var in variables_erf_comp:\n",
    "        # Loop over variables\n",
    "        tabvar = var.split('|')[-1]\n",
    "        dtvar = name_deltaT\n",
    "        for key in IRFpercentiles:\n",
    "            # Loop over ESC parameters\n",
    "            for year in years:\n",
    "                _tab_da = dic_ds[key][dtvar].sel(scenario=scn, year=slice(year, year)) - dic_ds[key][dtvar].sel(\n",
    "                    scenario=scn, year=slice(ref_year, ref_year)).squeeze()\n",
    "                a = float(_tab_da.loc[var].squeeze().values)\n",
    "                tab.loc[tabvar, (key, year)] = a\n",
    "    scntab_dic[scn] = tab.copy()"
   ]
  },
  {
   "cell_type": "code",
   "execution_count": 23,
   "metadata": {},
   "outputs": [
    {
     "data": {
      "text/html": [
       "<div>\n",
       "<style scoped>\n",
       "    .dataframe tbody tr th:only-of-type {\n",
       "        vertical-align: middle;\n",
       "    }\n",
       "\n",
       "    .dataframe tbody tr th {\n",
       "        vertical-align: top;\n",
       "    }\n",
       "\n",
       "    .dataframe thead tr th {\n",
       "        text-align: left;\n",
       "    }\n",
       "\n",
       "    .dataframe thead tr:last-of-type th {\n",
       "        text-align: right;\n",
       "    }\n",
       "</style>\n",
       "<table border=\"1\" class=\"dataframe\">\n",
       "  <thead>\n",
       "    <tr>\n",
       "      <th></th>\n",
       "      <th colspan=\"2\" halign=\"left\">recommendation</th>\n",
       "    </tr>\n",
       "    <tr>\n",
       "      <th></th>\n",
       "      <th>2040</th>\n",
       "      <th>2100</th>\n",
       "    </tr>\n",
       "    <tr>\n",
       "      <th>ssp534-over</th>\n",
       "      <th></th>\n",
       "      <th></th>\n",
       "    </tr>\n",
       "  </thead>\n",
       "  <tbody>\n",
       "    <tr>\n",
       "      <th>ch4</th>\n",
       "      <td>0.0658166</td>\n",
       "      <td>-0.16726</td>\n",
       "    </tr>\n",
       "    <tr>\n",
       "      <th>aerosol-radiation_interactions</th>\n",
       "      <td>0.0344069</td>\n",
       "      <td>-0.00232192</td>\n",
       "    </tr>\n",
       "    <tr>\n",
       "      <th>aerosol-cloud_interactions</th>\n",
       "      <td>0.0865606</td>\n",
       "      <td>0.403743</td>\n",
       "    </tr>\n",
       "    <tr>\n",
       "      <th>aerosol-total</th>\n",
       "      <td>0.120968</td>\n",
       "      <td>0.401421</td>\n",
       "    </tr>\n",
       "    <tr>\n",
       "      <th>o3</th>\n",
       "      <td>0.0426344</td>\n",
       "      <td>-0.132793</td>\n",
       "    </tr>\n",
       "    <tr>\n",
       "      <th>HFCs</th>\n",
       "      <td>0.0426405</td>\n",
       "      <td>0.0151456</td>\n",
       "    </tr>\n",
       "    <tr>\n",
       "      <th>bc_on_snow</th>\n",
       "      <td>0.00162298</td>\n",
       "      <td>-0.0412535</td>\n",
       "    </tr>\n",
       "    <tr>\n",
       "      <th>total_anthropogenic</th>\n",
       "      <td>0.849906</td>\n",
       "      <td>0.883605</td>\n",
       "    </tr>\n",
       "    <tr>\n",
       "      <th>total</th>\n",
       "      <td>0.805609</td>\n",
       "      <td>0.825799</td>\n",
       "    </tr>\n",
       "  </tbody>\n",
       "</table>\n",
       "</div>"
      ],
      "text/plain": [
       "                               recommendation            \n",
       "                                         2040        2100\n",
       "ssp534-over                                              \n",
       "ch4                                 0.0658166    -0.16726\n",
       "aerosol-radiation_interactions      0.0344069 -0.00232192\n",
       "aerosol-cloud_interactions          0.0865606    0.403743\n",
       "aerosol-total                        0.120968    0.401421\n",
       "o3                                  0.0426344   -0.132793\n",
       "HFCs                                0.0426405   0.0151456\n",
       "bc_on_snow                         0.00162298  -0.0412535\n",
       "total_anthropogenic                  0.849906    0.883605\n",
       "total                                0.805609    0.825799"
      ]
     },
     "metadata": {},
     "output_type": "display_data"
    },
    {
     "data": {
      "text/html": [
       "<div>\n",
       "<style scoped>\n",
       "    .dataframe tbody tr th:only-of-type {\n",
       "        vertical-align: middle;\n",
       "    }\n",
       "\n",
       "    .dataframe tbody tr th {\n",
       "        vertical-align: top;\n",
       "    }\n",
       "\n",
       "    .dataframe thead tr th {\n",
       "        text-align: left;\n",
       "    }\n",
       "\n",
       "    .dataframe thead tr:last-of-type th {\n",
       "        text-align: right;\n",
       "    }\n",
       "</style>\n",
       "<table border=\"1\" class=\"dataframe\">\n",
       "  <thead>\n",
       "    <tr>\n",
       "      <th></th>\n",
       "      <th colspan=\"2\" halign=\"left\">recommendation</th>\n",
       "    </tr>\n",
       "    <tr>\n",
       "      <th></th>\n",
       "      <th>2040</th>\n",
       "      <th>2100</th>\n",
       "    </tr>\n",
       "    <tr>\n",
       "      <th>ssp119</th>\n",
       "      <th></th>\n",
       "      <th></th>\n",
       "    </tr>\n",
       "  </thead>\n",
       "  <tbody>\n",
       "    <tr>\n",
       "      <th>ch4</th>\n",
       "      <td>-0.0328498</td>\n",
       "      <td>-0.163074</td>\n",
       "    </tr>\n",
       "    <tr>\n",
       "      <th>aerosol-radiation_interactions</th>\n",
       "      <td>0.0300329</td>\n",
       "      <td>0.0390842</td>\n",
       "    </tr>\n",
       "    <tr>\n",
       "      <th>aerosol-cloud_interactions</th>\n",
       "      <td>0.271767</td>\n",
       "      <td>0.426961</td>\n",
       "    </tr>\n",
       "    <tr>\n",
       "      <th>aerosol-total</th>\n",
       "      <td>0.3018</td>\n",
       "      <td>0.466045</td>\n",
       "    </tr>\n",
       "    <tr>\n",
       "      <th>o3</th>\n",
       "      <td>-0.0830983</td>\n",
       "      <td>-0.148473</td>\n",
       "    </tr>\n",
       "    <tr>\n",
       "      <th>HFCs</th>\n",
       "      <td>0.00559328</td>\n",
       "      <td>-0.00401652</td>\n",
       "    </tr>\n",
       "    <tr>\n",
       "      <th>bc_on_snow</th>\n",
       "      <td>-0.0280065</td>\n",
       "      <td>-0.0415275</td>\n",
       "    </tr>\n",
       "    <tr>\n",
       "      <th>total_anthropogenic</th>\n",
       "      <td>0.397428</td>\n",
       "      <td>0.116036</td>\n",
       "    </tr>\n",
       "    <tr>\n",
       "      <th>total</th>\n",
       "      <td>0.353131</td>\n",
       "      <td>0.0582305</td>\n",
       "    </tr>\n",
       "  </tbody>\n",
       "</table>\n",
       "</div>"
      ],
      "text/plain": [
       "                               recommendation            \n",
       "                                         2040        2100\n",
       "ssp119                                                   \n",
       "ch4                                -0.0328498   -0.163074\n",
       "aerosol-radiation_interactions      0.0300329   0.0390842\n",
       "aerosol-cloud_interactions           0.271767    0.426961\n",
       "aerosol-total                          0.3018    0.466045\n",
       "o3                                 -0.0830983   -0.148473\n",
       "HFCs                               0.00559328 -0.00401652\n",
       "bc_on_snow                         -0.0280065  -0.0415275\n",
       "total_anthropogenic                  0.397428    0.116036\n",
       "total                                0.353131   0.0582305"
      ]
     },
     "metadata": {},
     "output_type": "display_data"
    },
    {
     "data": {
      "text/html": [
       "<div>\n",
       "<style scoped>\n",
       "    .dataframe tbody tr th:only-of-type {\n",
       "        vertical-align: middle;\n",
       "    }\n",
       "\n",
       "    .dataframe tbody tr th {\n",
       "        vertical-align: top;\n",
       "    }\n",
       "\n",
       "    .dataframe thead tr th {\n",
       "        text-align: left;\n",
       "    }\n",
       "\n",
       "    .dataframe thead tr:last-of-type th {\n",
       "        text-align: right;\n",
       "    }\n",
       "</style>\n",
       "<table border=\"1\" class=\"dataframe\">\n",
       "  <thead>\n",
       "    <tr>\n",
       "      <th></th>\n",
       "      <th colspan=\"2\" halign=\"left\">recommendation</th>\n",
       "    </tr>\n",
       "    <tr>\n",
       "      <th></th>\n",
       "      <th>2040</th>\n",
       "      <th>2100</th>\n",
       "    </tr>\n",
       "    <tr>\n",
       "      <th>ssp460</th>\n",
       "      <th></th>\n",
       "      <th></th>\n",
       "    </tr>\n",
       "  </thead>\n",
       "  <tbody>\n",
       "    <tr>\n",
       "      <th>ch4</th>\n",
       "      <td>0.0866686</td>\n",
       "      <td>0.179151</td>\n",
       "    </tr>\n",
       "    <tr>\n",
       "      <th>aerosol-radiation_interactions</th>\n",
       "      <td>0.0152394</td>\n",
       "      <td>-0.0219939</td>\n",
       "    </tr>\n",
       "    <tr>\n",
       "      <th>aerosol-cloud_interactions</th>\n",
       "      <td>-0.0357434</td>\n",
       "      <td>0.222835</td>\n",
       "    </tr>\n",
       "    <tr>\n",
       "      <th>aerosol-total</th>\n",
       "      <td>-0.0205039</td>\n",
       "      <td>0.200841</td>\n",
       "    </tr>\n",
       "    <tr>\n",
       "      <th>o3</th>\n",
       "      <td>0.0558849</td>\n",
       "      <td>0.0937053</td>\n",
       "    </tr>\n",
       "    <tr>\n",
       "      <th>HFCs</th>\n",
       "      <td>0.038406</td>\n",
       "      <td>0.0410102</td>\n",
       "    </tr>\n",
       "    <tr>\n",
       "      <th>bc_on_snow</th>\n",
       "      <td>0.0141988</td>\n",
       "      <td>-0.0225674</td>\n",
       "    </tr>\n",
       "    <tr>\n",
       "      <th>total_anthropogenic</th>\n",
       "      <td>0.645718</td>\n",
       "      <td>2.26177</td>\n",
       "    </tr>\n",
       "    <tr>\n",
       "      <th>total</th>\n",
       "      <td>0.60142</td>\n",
       "      <td>2.20396</td>\n",
       "    </tr>\n",
       "  </tbody>\n",
       "</table>\n",
       "</div>"
      ],
      "text/plain": [
       "                               recommendation           \n",
       "                                         2040       2100\n",
       "ssp460                                                  \n",
       "ch4                                 0.0866686   0.179151\n",
       "aerosol-radiation_interactions      0.0152394 -0.0219939\n",
       "aerosol-cloud_interactions         -0.0357434   0.222835\n",
       "aerosol-total                      -0.0205039   0.200841\n",
       "o3                                  0.0558849  0.0937053\n",
       "HFCs                                 0.038406  0.0410102\n",
       "bc_on_snow                          0.0141988 -0.0225674\n",
       "total_anthropogenic                  0.645718    2.26177\n",
       "total                                 0.60142    2.20396"
      ]
     },
     "metadata": {},
     "output_type": "display_data"
    },
    {
     "data": {
      "text/html": [
       "<div>\n",
       "<style scoped>\n",
       "    .dataframe tbody tr th:only-of-type {\n",
       "        vertical-align: middle;\n",
       "    }\n",
       "\n",
       "    .dataframe tbody tr th {\n",
       "        vertical-align: top;\n",
       "    }\n",
       "\n",
       "    .dataframe thead tr th {\n",
       "        text-align: left;\n",
       "    }\n",
       "\n",
       "    .dataframe thead tr:last-of-type th {\n",
       "        text-align: right;\n",
       "    }\n",
       "</style>\n",
       "<table border=\"1\" class=\"dataframe\">\n",
       "  <thead>\n",
       "    <tr>\n",
       "      <th></th>\n",
       "      <th colspan=\"2\" halign=\"left\">recommendation</th>\n",
       "    </tr>\n",
       "    <tr>\n",
       "      <th></th>\n",
       "      <th>2040</th>\n",
       "      <th>2100</th>\n",
       "    </tr>\n",
       "    <tr>\n",
       "      <th>ssp585</th>\n",
       "      <th></th>\n",
       "      <th></th>\n",
       "    </tr>\n",
       "  </thead>\n",
       "  <tbody>\n",
       "    <tr>\n",
       "      <th>ch4</th>\n",
       "      <td>0.0618279</td>\n",
       "      <td>0.147478</td>\n",
       "    </tr>\n",
       "    <tr>\n",
       "      <th>aerosol-radiation_interactions</th>\n",
       "      <td>0.0344069</td>\n",
       "      <td>-0.0063042</td>\n",
       "    </tr>\n",
       "    <tr>\n",
       "      <th>aerosol-cloud_interactions</th>\n",
       "      <td>0.0865606</td>\n",
       "      <td>0.26812</td>\n",
       "    </tr>\n",
       "    <tr>\n",
       "      <th>aerosol-total</th>\n",
       "      <td>0.120968</td>\n",
       "      <td>0.261816</td>\n",
       "    </tr>\n",
       "    <tr>\n",
       "      <th>o3</th>\n",
       "      <td>0.0400979</td>\n",
       "      <td>0.0506565</td>\n",
       "    </tr>\n",
       "    <tr>\n",
       "      <th>HFCs</th>\n",
       "      <td>0.0426328</td>\n",
       "      <td>0.223788</td>\n",
       "    </tr>\n",
       "    <tr>\n",
       "      <th>bc_on_snow</th>\n",
       "      <td>0.00162298</td>\n",
       "      <td>-0.0296496</td>\n",
       "    </tr>\n",
       "    <tr>\n",
       "      <th>total_anthropogenic</th>\n",
       "      <td>0.836875</td>\n",
       "      <td>4.11427</td>\n",
       "    </tr>\n",
       "    <tr>\n",
       "      <th>total</th>\n",
       "      <td>0.792577</td>\n",
       "      <td>4.05646</td>\n",
       "    </tr>\n",
       "  </tbody>\n",
       "</table>\n",
       "</div>"
      ],
      "text/plain": [
       "                               recommendation           \n",
       "                                         2040       2100\n",
       "ssp585                                                  \n",
       "ch4                                 0.0618279   0.147478\n",
       "aerosol-radiation_interactions      0.0344069 -0.0063042\n",
       "aerosol-cloud_interactions          0.0865606    0.26812\n",
       "aerosol-total                        0.120968   0.261816\n",
       "o3                                  0.0400979  0.0506565\n",
       "HFCs                                0.0426328   0.223788\n",
       "bc_on_snow                         0.00162298 -0.0296496\n",
       "total_anthropogenic                  0.836875    4.11427\n",
       "total                                0.792577    4.05646"
      ]
     },
     "metadata": {},
     "output_type": "display_data"
    },
    {
     "data": {
      "text/html": [
       "<div>\n",
       "<style scoped>\n",
       "    .dataframe tbody tr th:only-of-type {\n",
       "        vertical-align: middle;\n",
       "    }\n",
       "\n",
       "    .dataframe tbody tr th {\n",
       "        vertical-align: top;\n",
       "    }\n",
       "\n",
       "    .dataframe thead tr th {\n",
       "        text-align: left;\n",
       "    }\n",
       "\n",
       "    .dataframe thead tr:last-of-type th {\n",
       "        text-align: right;\n",
       "    }\n",
       "</style>\n",
       "<table border=\"1\" class=\"dataframe\">\n",
       "  <thead>\n",
       "    <tr>\n",
       "      <th></th>\n",
       "      <th colspan=\"2\" halign=\"left\">recommendation</th>\n",
       "    </tr>\n",
       "    <tr>\n",
       "      <th></th>\n",
       "      <th>2040</th>\n",
       "      <th>2100</th>\n",
       "    </tr>\n",
       "    <tr>\n",
       "      <th>ssp370</th>\n",
       "      <th></th>\n",
       "      <th></th>\n",
       "    </tr>\n",
       "  </thead>\n",
       "  <tbody>\n",
       "    <tr>\n",
       "      <th>ch4</th>\n",
       "      <td>0.0761809</td>\n",
       "      <td>0.276651</td>\n",
       "    </tr>\n",
       "    <tr>\n",
       "      <th>aerosol-radiation_interactions</th>\n",
       "      <td>0.0128722</td>\n",
       "      <td>4.43553e-05</td>\n",
       "    </tr>\n",
       "    <tr>\n",
       "      <th>aerosol-cloud_interactions</th>\n",
       "      <td>-0.0854859</td>\n",
       "      <td>-0.0403596</td>\n",
       "    </tr>\n",
       "    <tr>\n",
       "      <th>aerosol-total</th>\n",
       "      <td>-0.0726136</td>\n",
       "      <td>-0.0403152</td>\n",
       "    </tr>\n",
       "    <tr>\n",
       "      <th>o3</th>\n",
       "      <td>0.0698454</td>\n",
       "      <td>0.236445</td>\n",
       "    </tr>\n",
       "    <tr>\n",
       "      <th>HFCs</th>\n",
       "      <td>0.0267615</td>\n",
       "      <td>0.0971195</td>\n",
       "    </tr>\n",
       "    <tr>\n",
       "      <th>bc_on_snow</th>\n",
       "      <td>0.0205846</td>\n",
       "      <td>0.0136354</td>\n",
       "    </tr>\n",
       "    <tr>\n",
       "      <th>total_anthropogenic</th>\n",
       "      <td>0.663786</td>\n",
       "      <td>3.15208</td>\n",
       "    </tr>\n",
       "    <tr>\n",
       "      <th>total</th>\n",
       "      <td>0.619488</td>\n",
       "      <td>3.09427</td>\n",
       "    </tr>\n",
       "  </tbody>\n",
       "</table>\n",
       "</div>"
      ],
      "text/plain": [
       "                               recommendation             \n",
       "                                         2040         2100\n",
       "ssp370                                                    \n",
       "ch4                                 0.0761809     0.276651\n",
       "aerosol-radiation_interactions      0.0128722  4.43553e-05\n",
       "aerosol-cloud_interactions         -0.0854859   -0.0403596\n",
       "aerosol-total                      -0.0726136   -0.0403152\n",
       "o3                                  0.0698454     0.236445\n",
       "HFCs                                0.0267615    0.0971195\n",
       "bc_on_snow                          0.0205846    0.0136354\n",
       "total_anthropogenic                  0.663786      3.15208\n",
       "total                                0.619488      3.09427"
      ]
     },
     "metadata": {},
     "output_type": "display_data"
    },
    {
     "data": {
      "text/html": [
       "<div>\n",
       "<style scoped>\n",
       "    .dataframe tbody tr th:only-of-type {\n",
       "        vertical-align: middle;\n",
       "    }\n",
       "\n",
       "    .dataframe tbody tr th {\n",
       "        vertical-align: top;\n",
       "    }\n",
       "\n",
       "    .dataframe thead tr th {\n",
       "        text-align: left;\n",
       "    }\n",
       "\n",
       "    .dataframe thead tr:last-of-type th {\n",
       "        text-align: right;\n",
       "    }\n",
       "</style>\n",
       "<table border=\"1\" class=\"dataframe\">\n",
       "  <thead>\n",
       "    <tr>\n",
       "      <th></th>\n",
       "      <th colspan=\"2\" halign=\"left\">recommendation</th>\n",
       "    </tr>\n",
       "    <tr>\n",
       "      <th></th>\n",
       "      <th>2040</th>\n",
       "      <th>2100</th>\n",
       "    </tr>\n",
       "    <tr>\n",
       "      <th>ssp370-lowNTCF-aerchemmip</th>\n",
       "      <th></th>\n",
       "      <th></th>\n",
       "    </tr>\n",
       "  </thead>\n",
       "  <tbody>\n",
       "    <tr>\n",
       "      <th>ch4</th>\n",
       "      <td>0.0761809</td>\n",
       "      <td>0.276651</td>\n",
       "    </tr>\n",
       "    <tr>\n",
       "      <th>aerosol-radiation_interactions</th>\n",
       "      <td>0.0194731</td>\n",
       "      <td>0.0168867</td>\n",
       "    </tr>\n",
       "    <tr>\n",
       "      <th>aerosol-cloud_interactions</th>\n",
       "      <td>0.0696048</td>\n",
       "      <td>0.295293</td>\n",
       "    </tr>\n",
       "    <tr>\n",
       "      <th>aerosol-total</th>\n",
       "      <td>0.0890779</td>\n",
       "      <td>0.31218</td>\n",
       "    </tr>\n",
       "    <tr>\n",
       "      <th>o3</th>\n",
       "      <td>0.0244954</td>\n",
       "      <td>0.157736</td>\n",
       "    </tr>\n",
       "    <tr>\n",
       "      <th>HFCs</th>\n",
       "      <td>0.0267615</td>\n",
       "      <td>0.0971195</td>\n",
       "    </tr>\n",
       "    <tr>\n",
       "      <th>bc_on_snow</th>\n",
       "      <td>-0.00202703</td>\n",
       "      <td>-0.0274264</td>\n",
       "    </tr>\n",
       "    <tr>\n",
       "      <th>total_anthropogenic</th>\n",
       "      <td>0.75756</td>\n",
       "      <td>3.37383</td>\n",
       "    </tr>\n",
       "    <tr>\n",
       "      <th>total</th>\n",
       "      <td>0.713263</td>\n",
       "      <td>3.31602</td>\n",
       "    </tr>\n",
       "  </tbody>\n",
       "</table>\n",
       "</div>"
      ],
      "text/plain": [
       "                               recommendation           \n",
       "                                         2040       2100\n",
       "ssp370-lowNTCF-aerchemmip                               \n",
       "ch4                                 0.0761809   0.276651\n",
       "aerosol-radiation_interactions      0.0194731  0.0168867\n",
       "aerosol-cloud_interactions          0.0696048   0.295293\n",
       "aerosol-total                       0.0890779    0.31218\n",
       "o3                                  0.0244954   0.157736\n",
       "HFCs                                0.0267615  0.0971195\n",
       "bc_on_snow                        -0.00202703 -0.0274264\n",
       "total_anthropogenic                   0.75756    3.37383\n",
       "total                                0.713263    3.31602"
      ]
     },
     "metadata": {},
     "output_type": "display_data"
    },
    {
     "data": {
      "text/html": [
       "<div>\n",
       "<style scoped>\n",
       "    .dataframe tbody tr th:only-of-type {\n",
       "        vertical-align: middle;\n",
       "    }\n",
       "\n",
       "    .dataframe tbody tr th {\n",
       "        vertical-align: top;\n",
       "    }\n",
       "\n",
       "    .dataframe thead tr th {\n",
       "        text-align: left;\n",
       "    }\n",
       "\n",
       "    .dataframe thead tr:last-of-type th {\n",
       "        text-align: right;\n",
       "    }\n",
       "</style>\n",
       "<table border=\"1\" class=\"dataframe\">\n",
       "  <thead>\n",
       "    <tr>\n",
       "      <th></th>\n",
       "      <th colspan=\"2\" halign=\"left\">recommendation</th>\n",
       "    </tr>\n",
       "    <tr>\n",
       "      <th></th>\n",
       "      <th>2040</th>\n",
       "      <th>2100</th>\n",
       "    </tr>\n",
       "    <tr>\n",
       "      <th>ssp126</th>\n",
       "      <th></th>\n",
       "      <th></th>\n",
       "    </tr>\n",
       "  </thead>\n",
       "  <tbody>\n",
       "    <tr>\n",
       "      <th>ch4</th>\n",
       "      <td>-0.0208684</td>\n",
       "      <td>-0.15534</td>\n",
       "    </tr>\n",
       "    <tr>\n",
       "      <th>aerosol-radiation_interactions</th>\n",
       "      <td>0.0255283</td>\n",
       "      <td>0.047689</td>\n",
       "    </tr>\n",
       "    <tr>\n",
       "      <th>aerosol-cloud_interactions</th>\n",
       "      <td>0.226157</td>\n",
       "      <td>0.425775</td>\n",
       "    </tr>\n",
       "    <tr>\n",
       "      <th>aerosol-total</th>\n",
       "      <td>0.251685</td>\n",
       "      <td>0.473464</td>\n",
       "    </tr>\n",
       "    <tr>\n",
       "      <th>o3</th>\n",
       "      <td>-0.0598631</td>\n",
       "      <td>-0.14714</td>\n",
       "    </tr>\n",
       "    <tr>\n",
       "      <th>HFCs</th>\n",
       "      <td>0.0173057</td>\n",
       "      <td>-0.00167825</td>\n",
       "    </tr>\n",
       "    <tr>\n",
       "      <th>bc_on_snow</th>\n",
       "      <td>-0.0233254</td>\n",
       "      <td>-0.0394008</td>\n",
       "    </tr>\n",
       "    <tr>\n",
       "      <th>total_anthropogenic</th>\n",
       "      <td>0.505497</td>\n",
       "      <td>0.544207</td>\n",
       "    </tr>\n",
       "    <tr>\n",
       "      <th>total</th>\n",
       "      <td>0.4612</td>\n",
       "      <td>0.486401</td>\n",
       "    </tr>\n",
       "  </tbody>\n",
       "</table>\n",
       "</div>"
      ],
      "text/plain": [
       "                               recommendation            \n",
       "                                         2040        2100\n",
       "ssp126                                                   \n",
       "ch4                                -0.0208684    -0.15534\n",
       "aerosol-radiation_interactions      0.0255283    0.047689\n",
       "aerosol-cloud_interactions           0.226157    0.425775\n",
       "aerosol-total                        0.251685    0.473464\n",
       "o3                                 -0.0598631    -0.14714\n",
       "HFCs                                0.0173057 -0.00167825\n",
       "bc_on_snow                         -0.0233254  -0.0394008\n",
       "total_anthropogenic                  0.505497    0.544207\n",
       "total                                  0.4612    0.486401"
      ]
     },
     "metadata": {},
     "output_type": "display_data"
    },
    {
     "data": {
      "text/html": [
       "<div>\n",
       "<style scoped>\n",
       "    .dataframe tbody tr th:only-of-type {\n",
       "        vertical-align: middle;\n",
       "    }\n",
       "\n",
       "    .dataframe tbody tr th {\n",
       "        vertical-align: top;\n",
       "    }\n",
       "\n",
       "    .dataframe thead tr th {\n",
       "        text-align: left;\n",
       "    }\n",
       "\n",
       "    .dataframe thead tr:last-of-type th {\n",
       "        text-align: right;\n",
       "    }\n",
       "</style>\n",
       "<table border=\"1\" class=\"dataframe\">\n",
       "  <thead>\n",
       "    <tr>\n",
       "      <th></th>\n",
       "      <th colspan=\"2\" halign=\"left\">recommendation</th>\n",
       "    </tr>\n",
       "    <tr>\n",
       "      <th></th>\n",
       "      <th>2040</th>\n",
       "      <th>2100</th>\n",
       "    </tr>\n",
       "    <tr>\n",
       "      <th>ssp245</th>\n",
       "      <th></th>\n",
       "      <th></th>\n",
       "    </tr>\n",
       "  </thead>\n",
       "  <tbody>\n",
       "    <tr>\n",
       "      <th>ch4</th>\n",
       "      <td>0.0417628</td>\n",
       "      <td>-0.00104217</td>\n",
       "    </tr>\n",
       "    <tr>\n",
       "      <th>aerosol-radiation_interactions</th>\n",
       "      <td>0.00400846</td>\n",
       "      <td>0.0045108</td>\n",
       "    </tr>\n",
       "    <tr>\n",
       "      <th>aerosol-cloud_interactions</th>\n",
       "      <td>0.0450464</td>\n",
       "      <td>0.313308</td>\n",
       "    </tr>\n",
       "    <tr>\n",
       "      <th>aerosol-total</th>\n",
       "      <td>0.0490549</td>\n",
       "      <td>0.317819</td>\n",
       "    </tr>\n",
       "    <tr>\n",
       "      <th>o3</th>\n",
       "      <td>0.014977</td>\n",
       "      <td>-0.0459325</td>\n",
       "    </tr>\n",
       "    <tr>\n",
       "      <th>HFCs</th>\n",
       "      <td>0.0287474</td>\n",
       "      <td>0.057604</td>\n",
       "    </tr>\n",
       "    <tr>\n",
       "      <th>bc_on_snow</th>\n",
       "      <td>-0.00242724</td>\n",
       "      <td>-0.035945</td>\n",
       "    </tr>\n",
       "    <tr>\n",
       "      <th>total_anthropogenic</th>\n",
       "      <td>0.584779</td>\n",
       "      <td>1.75423</td>\n",
       "    </tr>\n",
       "    <tr>\n",
       "      <th>total</th>\n",
       "      <td>0.540482</td>\n",
       "      <td>1.69643</td>\n",
       "    </tr>\n",
       "  </tbody>\n",
       "</table>\n",
       "</div>"
      ],
      "text/plain": [
       "                               recommendation            \n",
       "                                         2040        2100\n",
       "ssp245                                                   \n",
       "ch4                                 0.0417628 -0.00104217\n",
       "aerosol-radiation_interactions     0.00400846   0.0045108\n",
       "aerosol-cloud_interactions          0.0450464    0.313308\n",
       "aerosol-total                       0.0490549    0.317819\n",
       "o3                                   0.014977  -0.0459325\n",
       "HFCs                                0.0287474    0.057604\n",
       "bc_on_snow                        -0.00242724   -0.035945\n",
       "total_anthropogenic                  0.584779     1.75423\n",
       "total                                0.540482     1.69643"
      ]
     },
     "metadata": {},
     "output_type": "display_data"
    },
    {
     "data": {
      "text/html": [
       "<div>\n",
       "<style scoped>\n",
       "    .dataframe tbody tr th:only-of-type {\n",
       "        vertical-align: middle;\n",
       "    }\n",
       "\n",
       "    .dataframe tbody tr th {\n",
       "        vertical-align: top;\n",
       "    }\n",
       "\n",
       "    .dataframe thead tr th {\n",
       "        text-align: left;\n",
       "    }\n",
       "\n",
       "    .dataframe thead tr:last-of-type th {\n",
       "        text-align: right;\n",
       "    }\n",
       "</style>\n",
       "<table border=\"1\" class=\"dataframe\">\n",
       "  <thead>\n",
       "    <tr>\n",
       "      <th></th>\n",
       "      <th colspan=\"2\" halign=\"left\">recommendation</th>\n",
       "    </tr>\n",
       "    <tr>\n",
       "      <th></th>\n",
       "      <th>2040</th>\n",
       "      <th>2100</th>\n",
       "    </tr>\n",
       "    <tr>\n",
       "      <th>ssp434</th>\n",
       "      <th></th>\n",
       "      <th></th>\n",
       "    </tr>\n",
       "  </thead>\n",
       "  <tbody>\n",
       "    <tr>\n",
       "      <th>ch4</th>\n",
       "      <td>0.0553451</td>\n",
       "      <td>0.125203</td>\n",
       "    </tr>\n",
       "    <tr>\n",
       "      <th>aerosol-radiation_interactions</th>\n",
       "      <td>0.0302367</td>\n",
       "      <td>0.00113449</td>\n",
       "    </tr>\n",
       "    <tr>\n",
       "      <th>aerosol-cloud_interactions</th>\n",
       "      <td>0.0391195</td>\n",
       "      <td>0.286926</td>\n",
       "    </tr>\n",
       "    <tr>\n",
       "      <th>aerosol-total</th>\n",
       "      <td>0.0693562</td>\n",
       "      <td>0.288061</td>\n",
       "    </tr>\n",
       "    <tr>\n",
       "      <th>o3</th>\n",
       "      <td>0.0256502</td>\n",
       "      <td>0.0468623</td>\n",
       "    </tr>\n",
       "    <tr>\n",
       "      <th>HFCs</th>\n",
       "      <td>0.00354016</td>\n",
       "      <td>-0.00755483</td>\n",
       "    </tr>\n",
       "    <tr>\n",
       "      <th>bc_on_snow</th>\n",
       "      <td>0.00625439</td>\n",
       "      <td>-0.0275684</td>\n",
       "    </tr>\n",
       "    <tr>\n",
       "      <th>total_anthropogenic</th>\n",
       "      <td>0.530424</td>\n",
       "      <td>1.08861</td>\n",
       "    </tr>\n",
       "    <tr>\n",
       "      <th>total</th>\n",
       "      <td>0.486127</td>\n",
       "      <td>1.03081</td>\n",
       "    </tr>\n",
       "  </tbody>\n",
       "</table>\n",
       "</div>"
      ],
      "text/plain": [
       "                               recommendation            \n",
       "                                         2040        2100\n",
       "ssp434                                                   \n",
       "ch4                                 0.0553451    0.125203\n",
       "aerosol-radiation_interactions      0.0302367  0.00113449\n",
       "aerosol-cloud_interactions          0.0391195    0.286926\n",
       "aerosol-total                       0.0693562    0.288061\n",
       "o3                                  0.0256502   0.0468623\n",
       "HFCs                               0.00354016 -0.00755483\n",
       "bc_on_snow                         0.00625439  -0.0275684\n",
       "total_anthropogenic                  0.530424     1.08861\n",
       "total                                0.486127     1.03081"
      ]
     },
     "metadata": {},
     "output_type": "display_data"
    },
    {
     "data": {
      "text/html": [
       "<div>\n",
       "<style scoped>\n",
       "    .dataframe tbody tr th:only-of-type {\n",
       "        vertical-align: middle;\n",
       "    }\n",
       "\n",
       "    .dataframe tbody tr th {\n",
       "        vertical-align: top;\n",
       "    }\n",
       "\n",
       "    .dataframe thead tr th {\n",
       "        text-align: left;\n",
       "    }\n",
       "\n",
       "    .dataframe thead tr:last-of-type th {\n",
       "        text-align: right;\n",
       "    }\n",
       "</style>\n",
       "<table border=\"1\" class=\"dataframe\">\n",
       "  <thead>\n",
       "    <tr>\n",
       "      <th></th>\n",
       "      <th colspan=\"2\" halign=\"left\">recommendation</th>\n",
       "    </tr>\n",
       "    <tr>\n",
       "      <th></th>\n",
       "      <th>2040</th>\n",
       "      <th>2100</th>\n",
       "    </tr>\n",
       "    <tr>\n",
       "      <th>ssp370-lowNTCF-gidden</th>\n",
       "      <th></th>\n",
       "      <th></th>\n",
       "    </tr>\n",
       "  </thead>\n",
       "  <tbody>\n",
       "    <tr>\n",
       "      <th>ch4</th>\n",
       "      <td>-0.0362155</td>\n",
       "      <td>-0.122362</td>\n",
       "    </tr>\n",
       "    <tr>\n",
       "      <th>aerosol-radiation_interactions</th>\n",
       "      <td>0.0194731</td>\n",
       "      <td>0.0168867</td>\n",
       "    </tr>\n",
       "    <tr>\n",
       "      <th>aerosol-cloud_interactions</th>\n",
       "      <td>0.0696048</td>\n",
       "      <td>0.295293</td>\n",
       "    </tr>\n",
       "    <tr>\n",
       "      <th>aerosol-total</th>\n",
       "      <td>0.0890779</td>\n",
       "      <td>0.31218</td>\n",
       "    </tr>\n",
       "    <tr>\n",
       "      <th>o3</th>\n",
       "      <td>-0.0442151</td>\n",
       "      <td>-0.0985579</td>\n",
       "    </tr>\n",
       "    <tr>\n",
       "      <th>HFCs</th>\n",
       "      <td>0.0267604</td>\n",
       "      <td>0.083795</td>\n",
       "    </tr>\n",
       "    <tr>\n",
       "      <th>bc_on_snow</th>\n",
       "      <td>-0.00202703</td>\n",
       "      <td>-0.0274264</td>\n",
       "    </tr>\n",
       "    <tr>\n",
       "      <th>total_anthropogenic</th>\n",
       "      <td>0.566941</td>\n",
       "      <td>2.64906</td>\n",
       "    </tr>\n",
       "    <tr>\n",
       "      <th>total</th>\n",
       "      <td>0.522644</td>\n",
       "      <td>2.59126</td>\n",
       "    </tr>\n",
       "  </tbody>\n",
       "</table>\n",
       "</div>"
      ],
      "text/plain": [
       "                               recommendation           \n",
       "                                         2040       2100\n",
       "ssp370-lowNTCF-gidden                                   \n",
       "ch4                                -0.0362155  -0.122362\n",
       "aerosol-radiation_interactions      0.0194731  0.0168867\n",
       "aerosol-cloud_interactions          0.0696048   0.295293\n",
       "aerosol-total                       0.0890779    0.31218\n",
       "o3                                 -0.0442151 -0.0985579\n",
       "HFCs                                0.0267604   0.083795\n",
       "bc_on_snow                        -0.00202703 -0.0274264\n",
       "total_anthropogenic                  0.566941    2.64906\n",
       "total                                0.522644    2.59126"
      ]
     },
     "metadata": {},
     "output_type": "display_data"
    }
   ],
   "source": [
    "from IPython.display import display\n",
    "\n",
    "for key in scntab_dic:\n",
    "    display(scntab_dic[key])"
   ]
  },
  {
   "cell_type": "markdown",
   "metadata": {},
   "source": [
    "### Make table with all scenarios:"
   ]
  },
  {
   "cell_type": "code",
   "execution_count": 24,
   "metadata": {},
   "outputs": [],
   "source": [
    "iterables = [list(IRFpercentiles), years]\n",
    "iterables2 = [scenarios_fl, variables_erf_comp]\n",
    "\n",
    "\n",
    "def setup_table2():  # scenario_n=''):\n",
    "    _i = pd.MultiIndex.from_product(iterables, names=['', ''])\n",
    "    _r = pd.MultiIndex.from_product(iterables2, names=['', ''])\n",
    "\n",
    "    table = pd.DataFrame(columns=_r, index=_i).transpose()\n",
    "    return table"
   ]
  },
  {
   "cell_type": "code",
   "execution_count": 25,
   "metadata": {},
   "outputs": [],
   "source": [
    "tab = setup_table2()  # scenario_n=scn)\n",
    "\n",
    "for scn in scenarios_fl:\n",
    "    for var in variables_erf_comp:\n",
    "        tabvar = var#.split('|')[-1]\n",
    "        dtvar = name_deltaT\n",
    "        for key in IRFpercentiles:\n",
    "            for year in years:\n",
    "                # compute difference between year and ref year\n",
    "                _da_y = dic_ds[key][dtvar].sel(scenario=scn, year=slice(year, year), variable=var)  # .squeeze()\n",
    "                _da_refy = dic_ds[key][dtvar].sel(scenario=scn, year=slice(ref_year, ref_year), variable=var).squeeze()\n",
    "                # _tab_da = dic_ds[key][dtvar].sel(scenario=scn, time=slice(year,year))-  dic_ds[key][dtvar].sel(scenario=scn, time=slice(ref_year,ref_year)).squeeze()\n",
    "                _tab_da = _da_y - _da_refy\n",
    "\n",
    "                tab.loc[(scn, tabvar), (key, year)] = _tab_da.squeeze().values  # [0]"
   ]
  },
  {
   "cell_type": "code",
   "execution_count": 26,
   "metadata": {},
   "outputs": [
    {
     "data": {
      "text/html": [
       "<div>\n",
       "<style scoped>\n",
       "    .dataframe tbody tr th:only-of-type {\n",
       "        vertical-align: middle;\n",
       "    }\n",
       "\n",
       "    .dataframe tbody tr th {\n",
       "        vertical-align: top;\n",
       "    }\n",
       "\n",
       "    .dataframe thead tr th {\n",
       "        text-align: left;\n",
       "    }\n",
       "\n",
       "    .dataframe thead tr:last-of-type th {\n",
       "        text-align: right;\n",
       "    }\n",
       "</style>\n",
       "<table border=\"1\" class=\"dataframe\">\n",
       "  <thead>\n",
       "    <tr>\n",
       "      <th></th>\n",
       "      <th></th>\n",
       "      <th colspan=\"2\" halign=\"left\">recommendation</th>\n",
       "    </tr>\n",
       "    <tr>\n",
       "      <th></th>\n",
       "      <th></th>\n",
       "      <th>2040</th>\n",
       "      <th>2100</th>\n",
       "    </tr>\n",
       "    <tr>\n",
       "      <th></th>\n",
       "      <th></th>\n",
       "      <th></th>\n",
       "      <th></th>\n",
       "    </tr>\n",
       "  </thead>\n",
       "  <tbody>\n",
       "    <tr>\n",
       "      <th rowspan=\"5\" valign=\"top\">ssp534-over</th>\n",
       "      <th>ch4</th>\n",
       "      <td>0.06581660893277874</td>\n",
       "      <td>-0.16725956827439928</td>\n",
       "    </tr>\n",
       "    <tr>\n",
       "      <th>aerosol-radiation_interactions</th>\n",
       "      <td>0.034406920882383424</td>\n",
       "      <td>-0.0023219218621474136</td>\n",
       "    </tr>\n",
       "    <tr>\n",
       "      <th>aerosol-cloud_interactions</th>\n",
       "      <td>0.08656062651392965</td>\n",
       "      <td>0.40374341118226986</td>\n",
       "    </tr>\n",
       "    <tr>\n",
       "      <th>aerosol-total</th>\n",
       "      <td>0.12096754739631299</td>\n",
       "      <td>0.40142148932012234</td>\n",
       "    </tr>\n",
       "    <tr>\n",
       "      <th>o3</th>\n",
       "      <td>0.042634433311539266</td>\n",
       "      <td>-0.1327931594749907</td>\n",
       "    </tr>\n",
       "    <tr>\n",
       "      <th>...</th>\n",
       "      <th>...</th>\n",
       "      <td>...</td>\n",
       "      <td>...</td>\n",
       "    </tr>\n",
       "    <tr>\n",
       "      <th rowspan=\"5\" valign=\"top\">ssp370-lowNTCF-gidden</th>\n",
       "      <th>o3</th>\n",
       "      <td>-0.04421511782025506</td>\n",
       "      <td>-0.09855791702674277</td>\n",
       "    </tr>\n",
       "    <tr>\n",
       "      <th>HFCs</th>\n",
       "      <td>0.026760390701908547</td>\n",
       "      <td>0.08379495656608205</td>\n",
       "    </tr>\n",
       "    <tr>\n",
       "      <th>bc_on_snow</th>\n",
       "      <td>-0.002027027596469076</td>\n",
       "      <td>-0.02742636191202624</td>\n",
       "    </tr>\n",
       "    <tr>\n",
       "      <th>total_anthropogenic</th>\n",
       "      <td>0.5669413931677021</td>\n",
       "      <td>2.649060659159763</td>\n",
       "    </tr>\n",
       "    <tr>\n",
       "      <th>total</th>\n",
       "      <td>0.5226442590299389</td>\n",
       "      <td>2.59125529021292</td>\n",
       "    </tr>\n",
       "  </tbody>\n",
       "</table>\n",
       "<p>90 rows × 2 columns</p>\n",
       "</div>"
      ],
      "text/plain": [
       "                                                             recommendation  \\\n",
       "                                                                       2040   \n",
       "                                                                              \n",
       "ssp534-over           ch4                               0.06581660893277874   \n",
       "                      aerosol-radiation_interactions   0.034406920882383424   \n",
       "                      aerosol-cloud_interactions        0.08656062651392965   \n",
       "                      aerosol-total                     0.12096754739631299   \n",
       "                      o3                               0.042634433311539266   \n",
       "...                                                                     ...   \n",
       "ssp370-lowNTCF-gidden o3                               -0.04421511782025506   \n",
       "                      HFCs                             0.026760390701908547   \n",
       "                      bc_on_snow                      -0.002027027596469076   \n",
       "                      total_anthropogenic                0.5669413931677021   \n",
       "                      total                              0.5226442590299389   \n",
       "\n",
       "                                                                              \n",
       "                                                                        2100  \n",
       "                                                                              \n",
       "ssp534-over           ch4                               -0.16725956827439928  \n",
       "                      aerosol-radiation_interactions  -0.0023219218621474136  \n",
       "                      aerosol-cloud_interactions         0.40374341118226986  \n",
       "                      aerosol-total                      0.40142148932012234  \n",
       "                      o3                                 -0.1327931594749907  \n",
       "...                                                                      ...  \n",
       "ssp370-lowNTCF-gidden o3                                -0.09855791702674277  \n",
       "                      HFCs                               0.08379495656608205  \n",
       "                      bc_on_snow                        -0.02742636191202624  \n",
       "                      total_anthropogenic                  2.649060659159763  \n",
       "                      total                                 2.59125529021292  \n",
       "\n",
       "[90 rows x 2 columns]"
      ]
     },
     "execution_count": 26,
     "metadata": {},
     "output_type": "execute_result"
    }
   ],
   "source": [
    "tab"
   ]
  },
  {
   "cell_type": "markdown",
   "metadata": {},
   "source": [
    "## Save output"
   ]
  },
  {
   "cell_type": "code",
   "execution_count": 27,
   "metadata": {},
   "outputs": [],
   "source": [
    "tab.to_csv(PATH_DT_TAB_OUTPUT)"
   ]
  },
  {
   "cell_type": "code",
   "execution_count": 28,
   "metadata": {},
   "outputs": [
    {
     "data": {
      "text/plain": [
       "PosixPath('/home/sarambl/PHD/IPCC/public/AR6_CH6_RCMIPFIGSv2/ar6_ch6_rcmipfigs/results/tables/table_sens_dT_cs_recommandetion.csv')"
      ]
     },
     "execution_count": 28,
     "metadata": {},
     "output_type": "execute_result"
    }
   ],
   "source": [
    "PATH_DT_TAB_OUTPUT"
   ]
  },
  {
   "cell_type": "markdown",
   "metadata": {},
   "source": [
    "## Double check historical $\\Delta$ T: \n"
   ]
  },
  {
   "cell_type": "code",
   "execution_count": 29,
   "metadata": {},
   "outputs": [
    {
     "data": {
      "application/javascript": [
       "IPython.OutputArea.prototype._should_scroll = function(lines) { return false; }"
      ],
      "text/plain": [
       "<IPython.core.display.Javascript object>"
      ]
     },
     "metadata": {},
     "output_type": "display_data"
    }
   ],
   "source": [
    "from matplotlib.ticker import (MultipleLocator)\n",
    "\n",
    "from ar6_ch6_rcmipfigs.utils.plot import get_cmap_dic"
   ]
  },
  {
   "cell_type": "code",
   "execution_count": 30,
   "metadata": {},
   "outputs": [],
   "source": [
    "ls_vars = ['aerosol-total', 'ch4', 'co2', 'other_wmghg', 'o3','HFCs']"
   ]
  },
  {
   "cell_type": "code",
   "execution_count": 31,
   "metadata": {},
   "outputs": [
    {
     "name": "stderr",
     "output_type": "stream",
     "text": [
      "/home/sarambl/miniconda3/envs/rcmip_ch6/lib/python3.7/site-packages/pandas/core/indexing.py:1761: PerformanceWarning: indexing past lexsort depth may impact performance.\n",
      "  return self._getitem_tuple(key)\n"
     ]
    }
   ],
   "source": [
    "cdic = get_cmap_dic(ls_vars)"
   ]
  },
  {
   "cell_type": "code",
   "execution_count": 32,
   "metadata": {},
   "outputs": [
    {
     "data": {
      "text/html": [
       "<pre>&lt;xarray.Dataset&gt;\n",
       "Dimensions:     (percentile: 1, scenario: 10, variable: 19, year: 451)\n",
       "Coordinates:\n",
       "  * year        (year) int64 1750 1751 1752 1753 1754 ... 2197 2198 2199 2200\n",
       "  * variable    (variable) object &#x27;co2&#x27; &#x27;ch4&#x27; ... &#x27;aerosol-total-with_bc&#x27; &#x27;HFCs&#x27;\n",
       "  * scenario    (scenario) object &#x27;ssp534-over&#x27; ... &#x27;ssp370-lowNTCF-aerchemmip&#x27;\n",
       "  * percentile  (percentile) &lt;U14 &#x27;recommendation&#x27;\n",
       "Data variables:\n",
       "    ERF         (scenario, variable, year) float64 ...\n",
       "    time        (year) datetime64[ns] 1750-01-01 1751-01-01 ... 2200-01-01\n",
       "    delta_t     (year) float64 1.0 1.0 1.0 1.0 1.0 1.0 ... 1.0 1.0 1.0 1.0 1.0\n",
       "    Delta T     (percentile, scenario, variable, year) float64 0.0 ... nan</pre>"
      ],
      "text/plain": [
       "<xarray.Dataset>\n",
       "Dimensions:     (percentile: 1, scenario: 10, variable: 19, year: 451)\n",
       "Coordinates:\n",
       "  * year        (year) int64 1750 1751 1752 1753 1754 ... 2197 2198 2199 2200\n",
       "  * variable    (variable) object 'co2' 'ch4' ... 'aerosol-total-with_bc' 'HFCs'\n",
       "  * scenario    (scenario) object 'ssp534-over' ... 'ssp370-lowNTCF-aerchemmip'\n",
       "  * percentile  (percentile) <U14 'recommendation'\n",
       "Data variables:\n",
       "    ERF         (scenario, variable, year) float64 ...\n",
       "    time        (year) datetime64[ns] 1750-01-01 1751-01-01 ... 2200-01-01\n",
       "    delta_t     (year) float64 1.0 1.0 1.0 1.0 1.0 1.0 ... 1.0 1.0 1.0 1.0 1.0\n",
       "    Delta T     (percentile, scenario, variable, year) float64 0.0 ... nan"
      ]
     },
     "execution_count": 32,
     "metadata": {},
     "output_type": "execute_result"
    }
   ],
   "source": [
    "ds"
   ]
  },
  {
   "cell_type": "code",
   "execution_count": 33,
   "metadata": {},
   "outputs": [
    {
     "data": {
      "image/png": "[encoded data removed]",
      "text/plain": [
       "<Figure size 432x504 with 1 Axes>"
      ]
     },
     "metadata": {
      "needs_background": "light"
     },
     "output_type": "display_data"
    }
   ],
   "source": [
    "\n",
    "fig, ax = plt.subplots(figsize=[6, 7])\n",
    "\n",
    "ds_hist = ds.sel(year=slice(1750, 2019), percentile=recommendation, scenario='ssp119', variable=ls_vars)\n",
    "for var in ds_hist.variable.values:\n",
    "    ds_hist.sel(variable=var)[name_deltaT].plot(label=var, linestyle='dashed', linewidth=2, c=cdic[var])\n",
    "plt.legend(title='Variable', bbox_to_anchor=(1.05, 1), loc='upper left')  # , prop=fontP)\n",
    "ax.yaxis.set_major_locator(MultipleLocator(.25))\n",
    "ax.yaxis.set_minor_locator(MultipleLocator(.05))\n",
    "ax.tick_params(right=True, labelright=True)\n",
    "ax.set_xlim([1750, 2019])\n",
    "ax.set_ylim([-0.9, 1.25])\n",
    "plt.title('')\n",
    "plt.savefig('test.pdf')\n",
    "plt.show()"
   ]
  },
  {
   "cell_type": "code",
   "execution_count": null,
   "metadata": {},
   "outputs": [],
   "source": []
  },
  {
   "cell_type": "code",
   "execution_count": 34,
   "metadata": {},
   "outputs": [
    {
     "data": {
      "text/html": [
       "<pre>&lt;xarray.DataArray &#x27;scenario&#x27; (scenario: 10)&gt;\n",
       "array([&#x27;ssp534-over&#x27;, &#x27;ssp370-lowNTCF-gidden&#x27;, &#x27;ssp119&#x27;, &#x27;ssp370&#x27;, &#x27;ssp434&#x27;,\n",
       "       &#x27;ssp460&#x27;, &#x27;ssp585&#x27;, &#x27;ssp126&#x27;, &#x27;ssp245&#x27;, &#x27;ssp370-lowNTCF-aerchemmip&#x27;],\n",
       "      dtype=object)\n",
       "Coordinates:\n",
       "  * scenario  (scenario) object &#x27;ssp534-over&#x27; ... &#x27;ssp370-lowNTCF-aerchemmip&#x27;</pre>"
      ],
      "text/plain": [
       "<xarray.DataArray 'scenario' (scenario: 10)>\n",
       "array(['ssp534-over', 'ssp370-lowNTCF-gidden', 'ssp119', 'ssp370', 'ssp434',\n",
       "       'ssp460', 'ssp585', 'ssp126', 'ssp245', 'ssp370-lowNTCF-aerchemmip'],\n",
       "      dtype=object)\n",
       "Coordinates:\n",
       "  * scenario  (scenario) object 'ssp534-over' ... 'ssp370-lowNTCF-aerchemmip'"
      ]
     },
     "execution_count": 34,
     "metadata": {},
     "output_type": "execute_result"
    }
   ],
   "source": [
    "da_ERF.scenario"
   ]
  },
  {
   "cell_type": "code",
   "execution_count": null,
   "metadata": {},
   "outputs": [],
   "source": []
  }
 ],
 "metadata": {
  "jupytext": {
   "text_representation": {
    "extension": ".py",
    "format_name": "percent",
    "format_version": "1.3",
    "jupytext_version": "1.3.3"
   }
  },
  "kernelspec": {
   "display_name": "Python 3",
   "language": "python",
   "name": "python3"
  },
  "language_info": {
   "codemirror_mode": {
    "name": "ipython",
    "version": 3
   },
   "file_extension": ".py",
   "mimetype": "text/x-python",
   "name": "python",
   "nbconvert_exporter": "python",
   "pygments_lexer": "ipython3",
   "version": "3.7.6"
  }
 },
 "nbformat": 4,
 "nbformat_minor": 4
}
