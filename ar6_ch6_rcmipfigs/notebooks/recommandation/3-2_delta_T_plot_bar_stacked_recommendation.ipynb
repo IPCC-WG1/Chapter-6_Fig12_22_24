{
 "cells": [
  {
   "cell_type": "markdown",
   "metadata": {},
   "source": [
    "# Plot temperature response over time"
   ]
  },
  {
   "cell_type": "markdown",
   "metadata": {},
   "source": [
    "This notebook plots temperature respons to SLCFs AND the total scenario forcing in a fixed nr of years"
   ]
  },
  {
   "cell_type": "markdown",
   "metadata": {
    "lines_to_next_cell": 0
   },
   "source": [
    "## Imports:\n",
    "\n",
    "import matplotlib.pyplot as plt\n",
    "import pandas as pd"
   ]
  },
  {
   "cell_type": "code",
   "execution_count": 284,
   "metadata": {},
   "outputs": [
    {
     "name": "stdout",
     "output_type": "stream",
     "text": [
      "The autoreload extension is already loaded. To reload it, use:\n",
      "  %reload_ext autoreload\n"
     ]
    }
   ],
   "source": [
    "import xarray as xr\n",
    "from pandas.plotting import register_matplotlib_converters\n",
    "\n",
    "register_matplotlib_converters()\n",
    "\n",
    "%load_ext autoreload\n",
    "%autoreload 2"
   ]
  },
  {
   "cell_type": "code",
   "execution_count": 285,
   "metadata": {},
   "outputs": [],
   "source": [
    "from ar6_ch6_rcmipfigs.utils.plot import get_cmap_dic\n",
    "from ar6_ch6_rcmipfigs.utils.plot import get_var_nicename"
   ]
  },
  {
   "cell_type": "code",
   "execution_count": 286,
   "metadata": {
    "lines_to_next_cell": 2
   },
   "outputs": [],
   "source": [
    "from ar6_ch6_rcmipfigs.constants import OUTPUT_DATA_DIR, RESULTS_DIR\n",
    "\n",
    "# PATH_DATASET = OUTPUT_DATA_DIR + '/forcing_data_rcmip_models.nc'\n",
    "# PATH_DT = OUTPUT_DATA_DIR / '/dT_data_rcmip_models.nc'\n",
    "PATH_DT = OUTPUT_DATA_DIR / 'dT_data_RCMIP.nc'\n",
    "PATH_DT = OUTPUT_DATA_DIR / 'dT_data_RCMIP_recommendation.nc'"
   ]
  },
  {
   "cell_type": "markdown",
   "metadata": {},
   "source": [
    "#### Uncertainty data from Chris"
   ]
  },
  {
   "cell_type": "code",
   "execution_count": 287,
   "metadata": {
    "lines_to_next_cell": 2
   },
   "outputs": [],
   "source": [
    "PATH_DT_UNCERTAINTY = OUTPUT_DATA_DIR / 'dT_uncertainty_data_FaIR_chris.nc'"
   ]
  },
  {
   "cell_type": "markdown",
   "metadata": {},
   "source": [
    "## Set values:"
   ]
  },
  {
   "cell_type": "code",
   "execution_count": 288,
   "metadata": {},
   "outputs": [],
   "source": [
    "first_y = '1750'\n",
    "last_y = '2100'\n",
    "# Years to plot:\n",
    "years = ['2040', '2100']"
   ]
  },
  {
   "cell_type": "markdown",
   "metadata": {},
   "source": [
    "**Set reference year for temperature change:**"
   ]
  },
  {
   "cell_type": "code",
   "execution_count": 289,
   "metadata": {},
   "outputs": [],
   "source": [
    "ref_year = '2020'"
   ]
  },
  {
   "cell_type": "code",
   "execution_count": 290,
   "metadata": {},
   "outputs": [],
   "source": [
    "FIGURE_DIR = RESULTS_DIR / 'figures_recommendation/'\n",
    "\n",
    "TABS_DIR = RESULTS_DIR / 'tables_recommendation/'"
   ]
  },
  {
   "cell_type": "code",
   "execution_count": 291,
   "metadata": {},
   "outputs": [],
   "source": [
    "\n",
    "climatemodel = 'climatemodel'\n",
    "scenario = 'scenario'\n",
    "variable = 'variable'\n",
    "time = 'time'"
   ]
  },
  {
   "cell_type": "code",
   "execution_count": 292,
   "metadata": {},
   "outputs": [],
   "source": [
    "recommendation = 'recommendation'\n",
    "name_deltaT = 'Delta T'\n",
    "sum_v = 'Sum SLCF (Methane, Aerosols, Ozone, HFCs, BC on snow)'\n",
    "\n",
    "scenario_tot = 'Scenario total'"
   ]
  },
  {
   "cell_type": "markdown",
   "metadata": {},
   "source": [
    "### Define variables to look at:"
   ]
  },
  {
   "cell_type": "code",
   "execution_count": 293,
   "metadata": {},
   "outputs": [],
   "source": [
    "# variables to plot:\n",
    "variables_erf_comp = [\n",
    "    'ch4',\n",
    "    'aerosol-total',\n",
    "    'o3',\n",
    "    'HFCs',\n",
    "    'bc_on_snow']\n",
    "# total ERFs for anthropogenic and total:\n",
    "variables_erf_tot = ['total_anthropogenic',\n",
    "                     'total']\n",
    "variables_all = variables_erf_comp + variables_erf_tot\n",
    "# Scenarios to plot:"
   ]
  },
  {
   "cell_type": "code",
   "execution_count": 294,
   "metadata": {},
   "outputs": [],
   "source": [
    "\n",
    "scenarios_fl_370 = ['ssp370', 'ssp370-lowNTCF-aerchemmip', 'ssp370-lowNTCF-gidden'  # Due to mistake here\n",
    "                    ]"
   ]
  },
  {
   "cell_type": "markdown",
   "metadata": {},
   "source": [
    "### Scenarios:"
   ]
  },
  {
   "cell_type": "code",
   "execution_count": 295,
   "metadata": {},
   "outputs": [],
   "source": [
    "scenarios_fl = ['ssp119',\n",
    "                'ssp126',\n",
    "                'ssp245',\n",
    "                'ssp370',\n",
    "                'ssp370-lowNTCF-aerchemmip',\n",
    "                'ssp370-lowNTCF-gidden',\n",
    "                'ssp585']\n",
    "scenarios_fl_oneNTCF = ['ssp119',\n",
    "                        'ssp126',\n",
    "                        'ssp245',\n",
    "                        'ssp370',\n",
    "                        'ssp370-lowNTCF-aerchemmip',\n",
    "                        # 'ssp370-lowNTCF-gidden',\n",
    "                        'ssp585']"
   ]
  },
  {
   "cell_type": "code",
   "execution_count": 296,
   "metadata": {},
   "outputs": [],
   "source": [
    "median = 'median'\n",
    "perc5 = '5th percentile'\n",
    "perc95 = '95th percentile'"
   ]
  },
  {
   "cell_type": "code",
   "execution_count": 297,
   "metadata": {},
   "outputs": [
    {
     "name": "stdout",
     "output_type": "stream",
     "text": [
      "/home/sarambl/PHD/IPCC/public/AR6_CH6_RCMIPFIGSv2/ar6_ch6_rcmipfigs/results/tables_recommendation/3-2_table_all_scen.csv\n"
     ]
    }
   ],
   "source": [
    "table_csv_name = TABS_DIR / '3-2_table_all_scen.csv'\n",
    "print(table_csv_name)"
   ]
  },
  {
   "cell_type": "code",
   "execution_count": 298,
   "metadata": {},
   "outputs": [],
   "source": [
    "\n",
    "variables_tot = ['Total']\n",
    "variables_sum = ['Sum SLCFs']\n",
    "\n",
    "\n",
    "def setup_table_prop(scenario_n='', yrs=None, _vlist=None, scens=None):\n",
    "    if _vlist is None:\n",
    "        _vlist = variables_erf_comp\n",
    "    if yrs is None:\n",
    "        yrs = ['2040', '2100']\n",
    "    if scens is None:\n",
    "        scens = scenarios_fl\n",
    "    its = [yrs, _vlist]\n",
    "    _i = pd.MultiIndex.from_product(its, names=['', ''])\n",
    "    table = pd.DataFrame(columns=scens, index=_i)  # .transpose()\n",
    "    table.index.name = scenario_n\n",
    "    return table"
   ]
  },
  {
   "cell_type": "markdown",
   "metadata": {},
   "source": [
    "## Open dataset:"
   ]
  },
  {
   "cell_type": "markdown",
   "metadata": {},
   "source": [
    "### Integrate:\n",
    "The code below opens the file generated in [2_compute_delta_T.ipynb](2_compute_delta_T.ipynb) by integrating"
   ]
  },
  {
   "cell_type": "markdown",
   "metadata": {},
   "source": [
    "\\begin{align*} \n",
    "\\Delta T (t) &= \\int_0^t ERF(t') IRF(t-t') dt' \\\\\n",
    "\\end{align*}"
   ]
  },
  {
   "cell_type": "markdown",
   "metadata": {},
   "source": [
    "where IRF is the impulse response function and ERF is the effective radiative forcing from RCMIP. "
   ]
  },
  {
   "cell_type": "code",
   "execution_count": 299,
   "metadata": {},
   "outputs": [],
   "source": [
    "ds_DT = xr.open_dataset(PATH_DT)\n",
    "ds_uncertainty = xr.open_dataset(PATH_DT_UNCERTAINTY)"
   ]
  },
  {
   "cell_type": "code",
   "execution_count": 300,
   "metadata": {},
   "outputs": [
    {
     "name": "stdout",
     "output_type": "stream",
     "text": [
      "/home/sarambl/PHD/IPCC/public/AR6_CH6_RCMIPFIGSv2/ar6_ch6_rcmipfigs/data_out/dT_data_RCMIP_recommendation.nc\n"
     ]
    }
   ],
   "source": [
    "print(PATH_DT)"
   ]
  },
  {
   "cell_type": "markdown",
   "metadata": {},
   "source": [
    "## Add sum as variable:"
   ]
  },
  {
   "cell_type": "code",
   "execution_count": 301,
   "metadata": {},
   "outputs": [
    {
     "name": "stdout",
     "output_type": "stream",
     "text": [
      "Sum SLCF (Methane, Aerosols, Ozone, HFCs, BC on snow)\n"
     ]
    }
   ],
   "source": [
    "_str = ''\n",
    "_vl = [get_var_nicename(var).split('(')[0].strip() for var in variables_erf_comp]\n",
    "for var in _vl:\n",
    "    _str += f'{var}, '\n",
    "\n",
    "# ax.set_title('Temperature change, sum SLCF  (%s)' % _str[:-2])\n",
    "\n",
    "\n",
    "vn_sum = 'Sum SLCF (%s)' % _str[:-2]\n",
    "print(vn_sum)\n",
    "\n",
    "# _st = vn_sum.replace('(','').replace(')','').replace(' ','_').replace(',','')+'.csv'\n",
    "\n",
    "\n",
    "_da_sum = ds_DT[name_deltaT].sel(variable=variables_erf_comp).sum(variable)\n",
    "# _da = ds_DT[name_deltaT].sel(variable=variables_erf_comp).sum(variable).sel(year=slice(int(s_y2), int(e_y2))) - ds_DT_sy\n",
    "_da_sum  # .assin_coord()\n",
    "# _ds_check = ds_DT.copy()\n",
    "ds_DT\n",
    "# xr.concat([_ds_check[name_deltaT],_da_sum], dim=variable)\n",
    "\n",
    "dd1 = _da_sum.expand_dims(\n",
    "    {'variable':\n",
    "         ['Sum SLCF (Methane, Aerosols, Ozone, HFCs, BC on snow)']})\n",
    "# dd1=dd1.to_dataset()\n",
    "\n",
    "ds_DT = xr.merge([ds_DT, dd1])"
   ]
  },
  {
   "cell_type": "markdown",
   "metadata": {},
   "source": [
    "## Compute sum of all SLCF forcers"
   ]
  },
  {
   "cell_type": "code",
   "execution_count": null,
   "metadata": {},
   "outputs": [],
   "source": []
  },
  {
   "cell_type": "code",
   "execution_count": 302,
   "metadata": {},
   "outputs": [],
   "source": [
    "from ar6_ch6_rcmipfigs.utils.plot import get_scenario_c_dic, get_scenario_ls_dic"
   ]
  },
  {
   "cell_type": "code",
   "execution_count": 303,
   "metadata": {},
   "outputs": [],
   "source": [
    "\n",
    "s_y = first_y\n",
    "\n",
    "cdic = get_scenario_c_dic()\n",
    "lsdic = get_scenario_ls_dic()\n",
    "\n",
    "\n",
    "def sum_name(_var):\n",
    "    \"\"\"\n",
    "    Returns the name off the sum o\n",
    "    \"\"\"\n",
    "    return f'{_var} sum '\n",
    "\n",
    "\n"
   ]
  },
  {
   "cell_type": "markdown",
   "metadata": {},
   "source": [
    "### compute sum: "
   ]
  },
  {
   "cell_type": "markdown",
   "metadata": {},
   "source": [
    "sum_name = 'Sum SLCFs'\n",
    "ds_sub = ds_DT.sel(variable=variables_erf_comp)\n",
    "ds_sum = ds_sub.sum(variable)\n",
    "ds_sum = ds_sum.assign_coords(coords={variable: sum_name})\n",
    "# add sum to variable coordinatem\n",
    "\n",
    "ds_sum = xr.concat([ds_sum, ds_DT.sel(variable=variables_erf_comp)], dim=variable)"
   ]
  },
  {
   "cell_type": "code",
   "execution_count": 304,
   "metadata": {
    "lines_to_next_cell": 0
   },
   "outputs": [],
   "source": [
    "ds_sum = ds_DT  # .assign_coords(coords={variable:sum_name})\n",
    "\n",
    "\n",
    "\n",
    "rn_dic = {}\n",
    "for v in variables_all:\n",
    "    rn_dic[v] = get_var_nicename(v)\n",
    "\n",
    "rn_dic_scen = {#'Total': scenario_tot,\n",
    "    'ssp370-lowNTCF-aerchemmip': 'ssp370-lowNTCF\\n-aerchemmip',\n",
    "    'ssp370-lowNTCF-gidden': 'ssp370-lowNTCF\\n-gidden',\n",
    "}"
   ]
  },
  {
   "cell_type": "code",
   "execution_count": 305,
   "metadata": {
    "lines_to_next_cell": 0
   },
   "outputs": [],
   "source": [
    "def fix_names(df):\n",
    "    df = df.rename(rn_dic)\n",
    "    df = df.rename(rn_dic_scen, axis=1)\n",
    "    return df"
   ]
  },
  {
   "cell_type": "code",
   "execution_count": 306,
   "metadata": {},
   "outputs": [],
   "source": [
    "scntab_dic = {}\n",
    "\n",
    "\n",
    "# tab_tot = setup_table2()\n",
    "# tab_tot_sd = setup_table2()\n",
    "def table_of_sts(_ds, _scn_fl, variables, tab_vars, _yrs, ref_yr, sts=recommendation):\n",
    "    \"\"\"\n",
    "    Creates pandas dataframe of statistics (mean, median, standard deviation) for change\n",
    "    in temperature Delta T since year (ref year) for each scenario in scenarios,\n",
    "\n",
    "    :param _ds:\n",
    "    :param _scn_fl:\n",
    "    :param variables:\n",
    "    :param tab_vars:\n",
    "    :param _yrs:\n",
    "    :param ref_yr:\n",
    "    :param sts:\n",
    "    :return:\n",
    "    \"\"\"\n",
    "    tabel = setup_table_prop(yrs=_yrs, _vlist=tab_vars)\n",
    "    for scn in _scn_fl:\n",
    "        for _var, tabvar in zip(variables, tab_vars):\n",
    "            # dtvar =  name_deltaT # if ERF name, changes it here.\n",
    "            tabscn = scn  # Table scenario name the same.\n",
    "            for year in _yrs:\n",
    "                _da = _ds[name_deltaT].sel(scenario=scn, variable=_var)\n",
    "                _da_refy = _da.sel(year=slice(ref_yr, ref_yr)).squeeze()  # ref year value\n",
    "                _da_y = _da.sel(year=slice(year, year))  # year value\n",
    "                _tab_da = _da_y - _da_refy\n",
    "                tabel.loc[(year, tabvar), tabscn] = float(_tab_da.sel(percentile=sts).squeeze().values)  # [0]\n",
    "    return fix_names(tabel)\n",
    "    #return tabel\n",
    "\n",
    "\n",
    "\n",
    "\n",
    "\n",
    "def table_of_stats_varsums(_ds, dsvar, tabvar, yrs, ref_yr, sts=recommendation):\n",
    "    \"\"\"\n",
    "    Sums up over dimension 'variable' and creates pandas dataframe of statistics (mean, median, standard deviation) for change\n",
    "    in temperature Delta T since year (ref year) for each scenario in scenarios. \n",
    "\n",
    "    :param tabvar:\n",
    "    :param dsvar:\n",
    "    :param _ds:\n",
    "    :param yrs:\n",
    "    :param ref_yr:\n",
    "    :param sts:\n",
    "    :return:\n",
    "    \"\"\"\n",
    "    tabel = setup_table_prop(yrs=yrs, _vlist=[tabvar])\n",
    "    da = _ds[name_deltaT].sel(variable=dsvar)\n",
    "\n",
    "    for scn in scenarios_fl:\n",
    "        tabscn = scn  # Table scenario name the same.\n",
    "        for year in yrs:\n",
    "            _da = da.sel(scenario=scn, percentile=sts)  # , variable = dsvar)\n",
    "            _da_refy = _da.sel(year=slice(ref_yr, ref_yr)).squeeze()  # ref year value\n",
    "            _da_y = _da.sel(year=slice(year, year)).squeeze()  # year value\n",
    "            _tab_da = (_da_y - _da_refy).squeeze()\n",
    "\n",
    "            # Do statistics over RCMIP models\n",
    "            tabel.loc[(year, tabvar), tabscn] = float(_tab_da.squeeze().values)  # [0]\n",
    "\n",
    "    return tabel"
   ]
  },
  {
   "cell_type": "markdown",
   "metadata": {},
   "source": [
    "### Computes statistics:"
   ]
  },
  {
   "cell_type": "code",
   "execution_count": 307,
   "metadata": {},
   "outputs": [
    {
     "data": {
      "text/html": [
       "<pre>&lt;xarray.Dataset&gt;\n",
       "Dimensions:      (base_period: 1, percentile: 10, scenario: 10, variable: 7, year: 81)\n",
       "Coordinates:\n",
       "  * scenario     (scenario) object &#x27;ssp119&#x27; &#x27;ssp126&#x27; ... &#x27;ssp534-over&#x27; &#x27;ssp585&#x27;\n",
       "  * variable     (variable) object &#x27;HFCs&#x27; ... &#x27;o3&#x27;\n",
       "  * year         (year) int64 2020 2021 2022 2023 2024 ... 2097 2098 2099 2100\n",
       "  * base_period  (base_period) int64 2020\n",
       "  * percentile   (percentile) &lt;U7 &#x27;p05&#x27; &#x27;p16&#x27; &#x27;p50&#x27; ... &#x27;p84-p50&#x27; &#x27;p95-p50&#x27;\n",
       "Data variables:\n",
       "    Delta T      (percentile, scenario, variable, year, base_period) float64 0.0 ... 0.0722</pre>"
      ],
      "text/plain": [
       "<xarray.Dataset>\n",
       "Dimensions:      (base_period: 1, percentile: 10, scenario: 10, variable: 7, year: 81)\n",
       "Coordinates:\n",
       "  * scenario     (scenario) object 'ssp119' 'ssp126' ... 'ssp534-over' 'ssp585'\n",
       "  * variable     (variable) object 'HFCs' ... 'o3'\n",
       "  * year         (year) int64 2020 2021 2022 2023 2024 ... 2097 2098 2099 2100\n",
       "  * base_period  (base_period) int64 2020\n",
       "  * percentile   (percentile) <U7 'p05' 'p16' 'p50' ... 'p84-p50' 'p95-p50'\n",
       "Data variables:\n",
       "    Delta T      (percentile, scenario, variable, year, base_period) float64 0.0 ... 0.0722"
      ]
     },
     "execution_count": 307,
     "metadata": {},
     "output_type": "execute_result"
    }
   ],
   "source": [
    "ds_uncertainty = ds_uncertainty.to_array('percentile').rename(name_deltaT).to_dataset()\n",
    "ds_uncertainty"
   ]
  },
  {
   "cell_type": "code",
   "execution_count": 308,
   "metadata": {},
   "outputs": [
    {
     "data": {
      "text/html": [
       "<pre>&lt;xarray.DataArray &#x27;percentile&#x27; (percentile: 1)&gt;\n",
       "array([&#x27;recommendation&#x27;], dtype=object)\n",
       "Coordinates:\n",
       "  * percentile  (percentile) object &#x27;recommendation&#x27;</pre>"
      ],
      "text/plain": [
       "<xarray.DataArray 'percentile' (percentile: 1)>\n",
       "array(['recommendation'], dtype=object)\n",
       "Coordinates:\n",
       "  * percentile  (percentile) object 'recommendation'"
      ]
     },
     "execution_count": 308,
     "metadata": {},
     "output_type": "execute_result"
    }
   ],
   "source": [
    "ds_DT.percentile"
   ]
  },
  {
   "cell_type": "code",
   "execution_count": 309,
   "metadata": {},
   "outputs": [
    {
     "data": {
      "text/plain": [
       "array(['HFCs', 'Sum SLCF (Methane, Aerosols, Ozone, HFCs, BC on snow)',\n",
       "       'aerosol-cloud_interactions', 'aerosol-radiation_interactions',\n",
       "       'aerosol-total', 'aerosol-total-with_bc', 'bc_on_snow', 'ch4',\n",
       "       'co2', 'contrails', 'h2o_stratospheric', 'land_use', 'n2o', 'o3',\n",
       "       'other_wmghg', 'solar', 'total', 'total_anthropogenic',\n",
       "       'total_natural', 'volcanic'], dtype=object)"
      ]
     },
     "execution_count": 309,
     "metadata": {},
     "output_type": "execute_result"
    }
   ],
   "source": [
    "ds_DT.variable.values\n",
    "\n",
    "\n",
    "\n"
   ]
  },
  {
   "cell_type": "code",
   "execution_count": null,
   "metadata": {},
   "outputs": [],
   "source": []
  },
  {
   "cell_type": "code",
   "execution_count": 310,
   "metadata": {},
   "outputs": [],
   "source": [
    "from ar6_ch6_rcmipfigs.utils.plot import nice_name_var as nice_name_var_dic"
   ]
  },
  {
   "cell_type": "markdown",
   "metadata": {},
   "source": [
    "## Make csv table:\n"
   ]
  },
  {
   "cell_type": "code",
   "execution_count": 315,
   "metadata": {},
   "outputs": [],
   "source": [
    "# Mean:\n",
    "tabel_dT_slcfs = table_of_sts(ds_DT, scenarios_fl, variables_erf_comp + [sum_v, 'total_anthropogenic'],\n",
    "                              variables_erf_comp + [sum_v, 'total_anthropogenic'], years,\n",
    "                              ref_year)\n",
    "_tab = tabel_dT_slcfs.transpose()\n",
    "\n",
    "o3 = 'Ozone (O$_3$)'\n",
    "ch4 = 'Methane (CH$_4$)'\n",
    "HFCs = 'HFCs'\n",
    "_sum = 'CH$_4$+O$_3$+HFCs'\n",
    "for year in ['2040', '2100']:\n",
    "    _tab[(year, _sum)] = _tab[(year, o3)] + _tab[(year, ch4)] + _tab[(year, HFCs)]\n",
    "_tab = _tab.transpose()\n",
    "_tab = _tab.sort_index()  # ()"
   ]
  },
  {
   "cell_type": "code",
   "execution_count": 316,
   "metadata": {},
   "outputs": [
    {
     "data": {
      "text/html": [
       "<div>\n",
       "<style scoped>\n",
       "    .dataframe tbody tr th:only-of-type {\n",
       "        vertical-align: middle;\n",
       "    }\n",
       "\n",
       "    .dataframe tbody tr th {\n",
       "        vertical-align: top;\n",
       "    }\n",
       "\n",
       "    .dataframe thead th {\n",
       "        text-align: right;\n",
       "    }\n",
       "</style>\n",
       "<table border=\"1\" class=\"dataframe\">\n",
       "  <thead>\n",
       "    <tr style=\"text-align: right;\">\n",
       "      <th></th>\n",
       "      <th></th>\n",
       "      <th>ssp119</th>\n",
       "      <th>ssp126</th>\n",
       "      <th>ssp245</th>\n",
       "      <th>ssp370</th>\n",
       "      <th>ssp370-lowNTCF\\n-aerchemmip</th>\n",
       "      <th>ssp370-lowNTCF\\n-gidden</th>\n",
       "      <th>ssp585</th>\n",
       "    </tr>\n",
       "    <tr>\n",
       "      <th></th>\n",
       "      <th></th>\n",
       "      <th></th>\n",
       "      <th></th>\n",
       "      <th></th>\n",
       "      <th></th>\n",
       "      <th></th>\n",
       "      <th></th>\n",
       "      <th></th>\n",
       "    </tr>\n",
       "  </thead>\n",
       "  <tbody>\n",
       "    <tr>\n",
       "      <th rowspan=\"8\" valign=\"top\">2040</th>\n",
       "      <th>Aerosols</th>\n",
       "      <td>0.305727</td>\n",
       "      <td>0.256158</td>\n",
       "      <td>0.0571758</td>\n",
       "      <td>-0.0493196</td>\n",
       "      <td>0.106629</td>\n",
       "      <td>0.106629</td>\n",
       "      <td>0.123224</td>\n",
       "    </tr>\n",
       "    <tr>\n",
       "      <th>BC on snow</th>\n",
       "      <td>-0.030288</td>\n",
       "      <td>-0.0255414</td>\n",
       "      <td>-0.00607383</td>\n",
       "      <td>0.0149975</td>\n",
       "      <td>-0.00683741</td>\n",
       "      <td>-0.00683741</td>\n",
       "      <td>-0.00285113</td>\n",
       "    </tr>\n",
       "    <tr>\n",
       "      <th>CH$_4$+O$_3$+HFCs</th>\n",
       "      <td>-0.10603</td>\n",
       "      <td>-0.0586394</td>\n",
       "      <td>0.0880522</td>\n",
       "      <td>0.172432</td>\n",
       "      <td>0.128567</td>\n",
       "      <td>-0.052548</td>\n",
       "      <td>0.145958</td>\n",
       "    </tr>\n",
       "    <tr>\n",
       "      <th>HFCs</th>\n",
       "      <td>0.00554347</td>\n",
       "      <td>0.0172801</td>\n",
       "      <td>0.0286784</td>\n",
       "      <td>0.0267792</td>\n",
       "      <td>0.0267792</td>\n",
       "      <td>0.0267745</td>\n",
       "      <td>0.0425932</td>\n",
       "    </tr>\n",
       "    <tr>\n",
       "      <th>Methane (CH$_4$)</th>\n",
       "      <td>-0.0348115</td>\n",
       "      <td>-0.0226653</td>\n",
       "      <td>0.0394332</td>\n",
       "      <td>0.0736096</td>\n",
       "      <td>0.0736096</td>\n",
       "      <td>-0.0387952</td>\n",
       "      <td>0.0596293</td>\n",
       "    </tr>\n",
       "    <tr>\n",
       "      <th>Ozone (O$_3$)</th>\n",
       "      <td>-0.0767619</td>\n",
       "      <td>-0.0532542</td>\n",
       "      <td>0.0199406</td>\n",
       "      <td>0.0720428</td>\n",
       "      <td>0.0281785</td>\n",
       "      <td>-0.0405273</td>\n",
       "      <td>0.0437352</td>\n",
       "    </tr>\n",
       "    <tr>\n",
       "      <th>Sum SLCF (Methane, Aerosols, Ozone, HFCs, BC on snow)</th>\n",
       "      <td>0.169409</td>\n",
       "      <td>0.171978</td>\n",
       "      <td>0.139154</td>\n",
       "      <td>0.138109</td>\n",
       "      <td>0.228359</td>\n",
       "      <td>0.0472438</td>\n",
       "      <td>0.266331</td>\n",
       "    </tr>\n",
       "    <tr>\n",
       "      <th>total_anthropogenic</th>\n",
       "      <td>0.401901</td>\n",
       "      <td>0.511234</td>\n",
       "      <td>0.589496</td>\n",
       "      <td>0.678179</td>\n",
       "      <td>0.768473</td>\n",
       "      <td>0.577828</td>\n",
       "      <td>0.833246</td>\n",
       "    </tr>\n",
       "    <tr>\n",
       "      <th rowspan=\"8\" valign=\"top\">2100</th>\n",
       "      <th>Aerosols</th>\n",
       "      <td>0.469746</td>\n",
       "      <td>0.477843</td>\n",
       "      <td>0.326467</td>\n",
       "      <td>-0.0159913</td>\n",
       "      <td>0.330153</td>\n",
       "      <td>0.330153</td>\n",
       "      <td>0.264415</td>\n",
       "    </tr>\n",
       "    <tr>\n",
       "      <th>BC on snow</th>\n",
       "      <td>-0.043832</td>\n",
       "      <td>-0.0416578</td>\n",
       "      <td>-0.0397088</td>\n",
       "      <td>0.00784892</td>\n",
       "      <td>-0.0323559</td>\n",
       "      <td>-0.0323559</td>\n",
       "      <td>-0.0342643</td>\n",
       "    </tr>\n",
       "    <tr>\n",
       "      <th>CH$_4$+O$_3$+HFCs</th>\n",
       "      <td>-0.311731</td>\n",
       "      <td>-0.300025</td>\n",
       "      <td>0.0120685</td>\n",
       "      <td>0.608575</td>\n",
       "      <td>0.531514</td>\n",
       "      <td>-0.136604</td>\n",
       "      <td>0.421912</td>\n",
       "    </tr>\n",
       "    <tr>\n",
       "      <th>HFCs</th>\n",
       "      <td>-0.0041241</td>\n",
       "      <td>-0.00179275</td>\n",
       "      <td>0.057409</td>\n",
       "      <td>0.0970282</td>\n",
       "      <td>0.0970282</td>\n",
       "      <td>0.083694</td>\n",
       "      <td>0.223619</td>\n",
       "    </tr>\n",
       "    <tr>\n",
       "      <th>Methane (CH$_4$)</th>\n",
       "      <td>-0.16537</td>\n",
       "      <td>-0.157522</td>\n",
       "      <td>-0.00394258</td>\n",
       "      <td>0.273463</td>\n",
       "      <td>0.273463</td>\n",
       "      <td>-0.125221</td>\n",
       "      <td>0.144593</td>\n",
       "    </tr>\n",
       "    <tr>\n",
       "      <th>Ozone (O$_3$)</th>\n",
       "      <td>-0.142237</td>\n",
       "      <td>-0.140711</td>\n",
       "      <td>-0.0413979</td>\n",
       "      <td>0.238084</td>\n",
       "      <td>0.161022</td>\n",
       "      <td>-0.0950774</td>\n",
       "      <td>0.0537004</td>\n",
       "    </tr>\n",
       "    <tr>\n",
       "      <th>Sum SLCF (Methane, Aerosols, Ozone, HFCs, BC on snow)</th>\n",
       "      <td>0.114183</td>\n",
       "      <td>0.13616</td>\n",
       "      <td>0.298827</td>\n",
       "      <td>0.600433</td>\n",
       "      <td>0.829311</td>\n",
       "      <td>0.161193</td>\n",
       "      <td>0.652062</td>\n",
       "    </tr>\n",
       "    <tr>\n",
       "      <th>total_anthropogenic</th>\n",
       "      <td>0.116473</td>\n",
       "      <td>0.545479</td>\n",
       "      <td>1.75446</td>\n",
       "      <td>3.1625</td>\n",
       "      <td>3.3804</td>\n",
       "      <td>2.65616</td>\n",
       "      <td>4.10616</td>\n",
       "    </tr>\n",
       "  </tbody>\n",
       "</table>\n",
       "</div>"
      ],
      "text/plain": [
       "                                                             ssp119  \\\n",
       "                                                                      \n",
       "2040 Aerosols                                              0.305727   \n",
       "     BC on snow                                           -0.030288   \n",
       "     CH$_4$+O$_3$+HFCs                                     -0.10603   \n",
       "     HFCs                                                0.00554347   \n",
       "     Methane (CH$_4$)                                    -0.0348115   \n",
       "     Ozone (O$_3$)                                       -0.0767619   \n",
       "     Sum SLCF (Methane, Aerosols, Ozone, HFCs, BC on...    0.169409   \n",
       "     total_anthropogenic                                   0.401901   \n",
       "2100 Aerosols                                              0.469746   \n",
       "     BC on snow                                           -0.043832   \n",
       "     CH$_4$+O$_3$+HFCs                                    -0.311731   \n",
       "     HFCs                                                -0.0041241   \n",
       "     Methane (CH$_4$)                                      -0.16537   \n",
       "     Ozone (O$_3$)                                        -0.142237   \n",
       "     Sum SLCF (Methane, Aerosols, Ozone, HFCs, BC on...    0.114183   \n",
       "     total_anthropogenic                                   0.116473   \n",
       "\n",
       "                                                             ssp126  \\\n",
       "                                                                      \n",
       "2040 Aerosols                                              0.256158   \n",
       "     BC on snow                                          -0.0255414   \n",
       "     CH$_4$+O$_3$+HFCs                                   -0.0586394   \n",
       "     HFCs                                                 0.0172801   \n",
       "     Methane (CH$_4$)                                    -0.0226653   \n",
       "     Ozone (O$_3$)                                       -0.0532542   \n",
       "     Sum SLCF (Methane, Aerosols, Ozone, HFCs, BC on...    0.171978   \n",
       "     total_anthropogenic                                   0.511234   \n",
       "2100 Aerosols                                              0.477843   \n",
       "     BC on snow                                          -0.0416578   \n",
       "     CH$_4$+O$_3$+HFCs                                    -0.300025   \n",
       "     HFCs                                               -0.00179275   \n",
       "     Methane (CH$_4$)                                     -0.157522   \n",
       "     Ozone (O$_3$)                                        -0.140711   \n",
       "     Sum SLCF (Methane, Aerosols, Ozone, HFCs, BC on...     0.13616   \n",
       "     total_anthropogenic                                   0.545479   \n",
       "\n",
       "                                                             ssp245  \\\n",
       "                                                                      \n",
       "2040 Aerosols                                             0.0571758   \n",
       "     BC on snow                                         -0.00607383   \n",
       "     CH$_4$+O$_3$+HFCs                                    0.0880522   \n",
       "     HFCs                                                 0.0286784   \n",
       "     Methane (CH$_4$)                                     0.0394332   \n",
       "     Ozone (O$_3$)                                        0.0199406   \n",
       "     Sum SLCF (Methane, Aerosols, Ozone, HFCs, BC on...    0.139154   \n",
       "     total_anthropogenic                                   0.589496   \n",
       "2100 Aerosols                                              0.326467   \n",
       "     BC on snow                                          -0.0397088   \n",
       "     CH$_4$+O$_3$+HFCs                                    0.0120685   \n",
       "     HFCs                                                  0.057409   \n",
       "     Methane (CH$_4$)                                   -0.00394258   \n",
       "     Ozone (O$_3$)                                       -0.0413979   \n",
       "     Sum SLCF (Methane, Aerosols, Ozone, HFCs, BC on...    0.298827   \n",
       "     total_anthropogenic                                    1.75446   \n",
       "\n",
       "                                                             ssp370  \\\n",
       "                                                                      \n",
       "2040 Aerosols                                            -0.0493196   \n",
       "     BC on snow                                           0.0149975   \n",
       "     CH$_4$+O$_3$+HFCs                                     0.172432   \n",
       "     HFCs                                                 0.0267792   \n",
       "     Methane (CH$_4$)                                     0.0736096   \n",
       "     Ozone (O$_3$)                                        0.0720428   \n",
       "     Sum SLCF (Methane, Aerosols, Ozone, HFCs, BC on...    0.138109   \n",
       "     total_anthropogenic                                   0.678179   \n",
       "2100 Aerosols                                            -0.0159913   \n",
       "     BC on snow                                          0.00784892   \n",
       "     CH$_4$+O$_3$+HFCs                                     0.608575   \n",
       "     HFCs                                                 0.0970282   \n",
       "     Methane (CH$_4$)                                      0.273463   \n",
       "     Ozone (O$_3$)                                         0.238084   \n",
       "     Sum SLCF (Methane, Aerosols, Ozone, HFCs, BC on...    0.600433   \n",
       "     total_anthropogenic                                     3.1625   \n",
       "\n",
       "                                                        ssp370-lowNTCF\\n-aerchemmip  \\\n",
       "                                                                                      \n",
       "2040 Aerosols                                                              0.106629   \n",
       "     BC on snow                                                         -0.00683741   \n",
       "     CH$_4$+O$_3$+HFCs                                                     0.128567   \n",
       "     HFCs                                                                 0.0267792   \n",
       "     Methane (CH$_4$)                                                     0.0736096   \n",
       "     Ozone (O$_3$)                                                        0.0281785   \n",
       "     Sum SLCF (Methane, Aerosols, Ozone, HFCs, BC on...                    0.228359   \n",
       "     total_anthropogenic                                                   0.768473   \n",
       "2100 Aerosols                                                              0.330153   \n",
       "     BC on snow                                                          -0.0323559   \n",
       "     CH$_4$+O$_3$+HFCs                                                     0.531514   \n",
       "     HFCs                                                                 0.0970282   \n",
       "     Methane (CH$_4$)                                                      0.273463   \n",
       "     Ozone (O$_3$)                                                         0.161022   \n",
       "     Sum SLCF (Methane, Aerosols, Ozone, HFCs, BC on...                    0.829311   \n",
       "     total_anthropogenic                                                     3.3804   \n",
       "\n",
       "                                                        ssp370-lowNTCF\\n-gidden  \\\n",
       "                                                                                  \n",
       "2040 Aerosols                                                          0.106629   \n",
       "     BC on snow                                                     -0.00683741   \n",
       "     CH$_4$+O$_3$+HFCs                                                -0.052548   \n",
       "     HFCs                                                             0.0267745   \n",
       "     Methane (CH$_4$)                                                -0.0387952   \n",
       "     Ozone (O$_3$)                                                   -0.0405273   \n",
       "     Sum SLCF (Methane, Aerosols, Ozone, HFCs, BC on...               0.0472438   \n",
       "     total_anthropogenic                                               0.577828   \n",
       "2100 Aerosols                                                          0.330153   \n",
       "     BC on snow                                                      -0.0323559   \n",
       "     CH$_4$+O$_3$+HFCs                                                -0.136604   \n",
       "     HFCs                                                              0.083694   \n",
       "     Methane (CH$_4$)                                                 -0.125221   \n",
       "     Ozone (O$_3$)                                                   -0.0950774   \n",
       "     Sum SLCF (Methane, Aerosols, Ozone, HFCs, BC on...                0.161193   \n",
       "     total_anthropogenic                                                2.65616   \n",
       "\n",
       "                                                             ssp585  \n",
       "                                                                     \n",
       "2040 Aerosols                                              0.123224  \n",
       "     BC on snow                                         -0.00285113  \n",
       "     CH$_4$+O$_3$+HFCs                                     0.145958  \n",
       "     HFCs                                                 0.0425932  \n",
       "     Methane (CH$_4$)                                     0.0596293  \n",
       "     Ozone (O$_3$)                                        0.0437352  \n",
       "     Sum SLCF (Methane, Aerosols, Ozone, HFCs, BC on...    0.266331  \n",
       "     total_anthropogenic                                   0.833246  \n",
       "2100 Aerosols                                              0.264415  \n",
       "     BC on snow                                          -0.0342643  \n",
       "     CH$_4$+O$_3$+HFCs                                     0.421912  \n",
       "     HFCs                                                  0.223619  \n",
       "     Methane (CH$_4$)                                      0.144593  \n",
       "     Ozone (O$_3$)                                        0.0537004  \n",
       "     Sum SLCF (Methane, Aerosols, Ozone, HFCs, BC on...    0.652062  \n",
       "     total_anthropogenic                                    4.10616  "
      ]
     },
     "execution_count": 316,
     "metadata": {},
     "output_type": "execute_result"
    }
   ],
   "source": [
    "_tab"
   ]
  },
  {
   "cell_type": "code",
   "execution_count": 317,
   "metadata": {},
   "outputs": [],
   "source": [
    "_tab.rename(nice_name_var_dic)\n",
    "\n",
    "fn = TABS_DIR / 'dT_2040_2100_tab.csv'\n",
    "_tab.to_csv(fn)"
   ]
  },
  {
   "cell_type": "markdown",
   "metadata": {},
   "source": [
    "### Table +/-percentiles"
   ]
  },
  {
   "cell_type": "code",
   "execution_count": 318,
   "metadata": {},
   "outputs": [
    {
     "data": {
      "text/plain": [
       "'Sum SLCF (Methane, Aerosols, Ozone, HFCs, BC on snow)'"
      ]
     },
     "execution_count": 318,
     "metadata": {},
     "output_type": "execute_result"
    }
   ],
   "source": [
    "sum_v"
   ]
  },
  {
   "cell_type": "code",
   "execution_count": 319,
   "metadata": {},
   "outputs": [
    {
     "data": {
      "text/html": [
       "<pre>&lt;xarray.DataArray &#x27;variable&#x27; (variable: 7)&gt;\n",
       "array([&#x27;HFCs&#x27;, &#x27;Sum SLCF (Methane, Aerosols, Ozone, HFCs, BC on snow)&#x27;,\n",
       "       &#x27;aerosol-total&#x27;, &#x27;anthro&#x27;, &#x27;bc_on_snow&#x27;, &#x27;ch4&#x27;, &#x27;o3&#x27;], dtype=object)\n",
       "Coordinates:\n",
       "  * variable  (variable) object &#x27;HFCs&#x27; ... &#x27;o3&#x27;</pre>"
      ],
      "text/plain": [
       "<xarray.DataArray 'variable' (variable: 7)>\n",
       "array(['HFCs', 'Sum SLCF (Methane, Aerosols, Ozone, HFCs, BC on snow)',\n",
       "       'aerosol-total', 'anthro', 'bc_on_snow', 'ch4', 'o3'], dtype=object)\n",
       "Coordinates:\n",
       "  * variable  (variable) object 'HFCs' ... 'o3'"
      ]
     },
     "execution_count": 319,
     "metadata": {},
     "output_type": "execute_result"
    }
   ],
   "source": [
    "ds_uncertainty.variable"
   ]
  },
  {
   "cell_type": "code",
   "execution_count": 320,
   "metadata": {},
   "outputs": [],
   "source": [
    "# Mean:\n",
    "tabel_dT_slcfs_5th = tabel_dT_slcfs + table_of_sts(ds_uncertainty, scenarios_fl, variables_erf_comp + [sum_v, 'anthro'],\n",
    "                                                   variables_erf_comp + [sum_v, 'total_anthropogenic'], years,\n",
    "                                                   ref_year, sts='p05-p50')\n",
    "_tab = tabel_dT_slcfs_5th.transpose()\n",
    "\n",
    "_tab = _tab.transpose()\n",
    "_tab = _tab.sort_index()  # ()\n",
    "_tab.rename(nice_name_var_dic)\n",
    "\n",
    "fn = TABS_DIR / 'dT_5th_perc_2040_2100_tab.csv'\n",
    "_tab.to_csv(fn)"
   ]
  },
  {
   "cell_type": "code",
   "execution_count": 321,
   "metadata": {},
   "outputs": [],
   "source": [
    "# Mean:\n",
    "tabel_dT_slcfs_95th = tabel_dT_slcfs + table_of_sts(ds_uncertainty, scenarios_fl,\n",
    "                                                    variables_erf_comp + [sum_v, 'anthro'],\n",
    "                                                    variables_erf_comp + [sum_v, 'total_anthropogenic'], years,\n",
    "                                                    ref_year, sts='p95-p50')\n",
    "_tab = tabel_dT_slcfs_95th.transpose()\n",
    "\n",
    "_tab = _tab.transpose()\n",
    "_tab = _tab.sort_index()  # ()\n",
    "_tab.rename(nice_name_var_dic)\n",
    "\n",
    "fn = TABS_DIR / 'dT_95th_perc_2040_2100_tab.csv'\n",
    "_tab.to_csv(fn)"
   ]
  },
  {
   "cell_type": "code",
   "execution_count": 322,
   "metadata": {
    "lines_to_next_cell": 2
   },
   "outputs": [
    {
     "data": {
      "text/html": [
       "<div>\n",
       "<style scoped>\n",
       "    .dataframe tbody tr th:only-of-type {\n",
       "        vertical-align: middle;\n",
       "    }\n",
       "\n",
       "    .dataframe tbody tr th {\n",
       "        vertical-align: top;\n",
       "    }\n",
       "\n",
       "    .dataframe thead th {\n",
       "        text-align: right;\n",
       "    }\n",
       "</style>\n",
       "<table border=\"1\" class=\"dataframe\">\n",
       "  <thead>\n",
       "    <tr style=\"text-align: right;\">\n",
       "      <th></th>\n",
       "      <th></th>\n",
       "      <th>ssp119</th>\n",
       "      <th>ssp126</th>\n",
       "      <th>ssp245</th>\n",
       "      <th>ssp370</th>\n",
       "      <th>ssp370-lowNTCF\\n-aerchemmip</th>\n",
       "      <th>ssp370-lowNTCF\\n-gidden</th>\n",
       "      <th>ssp585</th>\n",
       "    </tr>\n",
       "    <tr>\n",
       "      <th></th>\n",
       "      <th></th>\n",
       "      <th></th>\n",
       "      <th></th>\n",
       "      <th></th>\n",
       "      <th></th>\n",
       "      <th></th>\n",
       "      <th></th>\n",
       "      <th></th>\n",
       "    </tr>\n",
       "  </thead>\n",
       "  <tbody>\n",
       "    <tr>\n",
       "      <th rowspan=\"7\" valign=\"top\">2040</th>\n",
       "      <th>Aerosols</th>\n",
       "      <td>0.527954</td>\n",
       "      <td>0.459449</td>\n",
       "      <td>0.107574</td>\n",
       "      <td>0.00587921</td>\n",
       "      <td>0.168403</td>\n",
       "      <td>0.168403</td>\n",
       "      <td>0.244263</td>\n",
       "    </tr>\n",
       "    <tr>\n",
       "      <th>BC on snow</th>\n",
       "      <td>-0.010482</td>\n",
       "      <td>-0.00886971</td>\n",
       "      <td>-0.00278671</td>\n",
       "      <td>0.0351826</td>\n",
       "      <td>-0.00359352</td>\n",
       "      <td>-0.00359352</td>\n",
       "      <td>-0.000713228</td>\n",
       "    </tr>\n",
       "    <tr>\n",
       "      <th>HFCs</th>\n",
       "      <td>0.0100244</td>\n",
       "      <td>0.0248423</td>\n",
       "      <td>0.0390495</td>\n",
       "      <td>0.0362496</td>\n",
       "      <td>0.0362496</td>\n",
       "      <td>0.0362993</td>\n",
       "      <td>0.0561462</td>\n",
       "    </tr>\n",
       "    <tr>\n",
       "      <th>Methane (CH$_4$)</th>\n",
       "      <td>-0.0240371</td>\n",
       "      <td>-0.0120869</td>\n",
       "      <td>0.0600146</td>\n",
       "      <td>0.102481</td>\n",
       "      <td>0.102481</td>\n",
       "      <td>-0.0278203</td>\n",
       "      <td>0.0837601</td>\n",
       "    </tr>\n",
       "    <tr>\n",
       "      <th>Ozone (O$_3$)</th>\n",
       "      <td>-0.044066</td>\n",
       "      <td>-0.0306062</td>\n",
       "      <td>0.0380188</td>\n",
       "      <td>0.114962</td>\n",
       "      <td>0.0502815</td>\n",
       "      <td>-0.0249084</td>\n",
       "      <td>0.0719754</td>\n",
       "    </tr>\n",
       "    <tr>\n",
       "      <th>Sum SLCF (Methane, Aerosols, Ozone, HFCs, BC on snow)</th>\n",
       "      <td>0.372494</td>\n",
       "      <td>0.363696</td>\n",
       "      <td>0.212868</td>\n",
       "      <td>0.209712</td>\n",
       "      <td>0.325359</td>\n",
       "      <td>0.111758</td>\n",
       "      <td>0.421042</td>\n",
       "    </tr>\n",
       "    <tr>\n",
       "      <th>total_anthropogenic</th>\n",
       "      <td>0.710421</td>\n",
       "      <td>0.827929</td>\n",
       "      <td>0.816868</td>\n",
       "      <td>0.882026</td>\n",
       "      <td>1.03624</td>\n",
       "      <td>0.819695</td>\n",
       "      <td>1.15957</td>\n",
       "    </tr>\n",
       "    <tr>\n",
       "      <th rowspan=\"7\" valign=\"top\">2100</th>\n",
       "      <th>Aerosols</th>\n",
       "      <td>0.877208</td>\n",
       "      <td>0.866746</td>\n",
       "      <td>0.649583</td>\n",
       "      <td>0.043506</td>\n",
       "      <td>0.626344</td>\n",
       "      <td>0.626344</td>\n",
       "      <td>0.529002</td>\n",
       "    </tr>\n",
       "    <tr>\n",
       "      <th>BC on snow</th>\n",
       "      <td>-0.0144057</td>\n",
       "      <td>-0.0136197</td>\n",
       "      <td>-0.0140332</td>\n",
       "      <td>0.0279844</td>\n",
       "      <td>-0.0121278</td>\n",
       "      <td>-0.0121278</td>\n",
       "      <td>-0.0130312</td>\n",
       "    </tr>\n",
       "    <tr>\n",
       "      <th>HFCs</th>\n",
       "      <td>-0.000967047</td>\n",
       "      <td>0.00271312</td>\n",
       "      <td>0.081813</td>\n",
       "      <td>0.134556</td>\n",
       "      <td>0.134556</td>\n",
       "      <td>0.116961</td>\n",
       "      <td>0.306503</td>\n",
       "    </tr>\n",
       "    <tr>\n",
       "      <th>Methane (CH$_4$)</th>\n",
       "      <td>-0.118165</td>\n",
       "      <td>-0.11125</td>\n",
       "      <td>0.0403708</td>\n",
       "      <td>0.395031</td>\n",
       "      <td>0.395031</td>\n",
       "      <td>-0.0864054</td>\n",
       "      <td>0.231367</td>\n",
       "    </tr>\n",
       "    <tr>\n",
       "      <th>Ozone (O$_3$)</th>\n",
       "      <td>-0.0774697</td>\n",
       "      <td>-0.0771125</td>\n",
       "      <td>-0.0102481</td>\n",
       "      <td>0.395267</td>\n",
       "      <td>0.272566</td>\n",
       "      <td>-0.0527385</td>\n",
       "      <td>0.125898</td>\n",
       "    </tr>\n",
       "    <tr>\n",
       "      <th>Sum SLCF (Methane, Aerosols, Ozone, HFCs, BC on snow)</th>\n",
       "      <td>0.432829</td>\n",
       "      <td>0.447991</td>\n",
       "      <td>0.635452</td>\n",
       "      <td>0.825034</td>\n",
       "      <td>1.3007</td>\n",
       "      <td>0.425458</td>\n",
       "      <td>1.06315</td>\n",
       "    </tr>\n",
       "    <tr>\n",
       "      <th>total_anthropogenic</th>\n",
       "      <td>0.583242</td>\n",
       "      <td>1.13446</td>\n",
       "      <td>2.69287</td>\n",
       "      <td>4.27868</td>\n",
       "      <td>4.78132</td>\n",
       "      <td>3.81743</td>\n",
       "      <td>5.75039</td>\n",
       "    </tr>\n",
       "  </tbody>\n",
       "</table>\n",
       "</div>"
      ],
      "text/plain": [
       "                                                              ssp119  \\\n",
       "                                                                       \n",
       "2040 Aerosols                                               0.527954   \n",
       "     BC on snow                                            -0.010482   \n",
       "     HFCs                                                  0.0100244   \n",
       "     Methane (CH$_4$)                                     -0.0240371   \n",
       "     Ozone (O$_3$)                                         -0.044066   \n",
       "     Sum SLCF (Methane, Aerosols, Ozone, HFCs, BC on...     0.372494   \n",
       "     total_anthropogenic                                    0.710421   \n",
       "2100 Aerosols                                               0.877208   \n",
       "     BC on snow                                           -0.0144057   \n",
       "     HFCs                                               -0.000967047   \n",
       "     Methane (CH$_4$)                                      -0.118165   \n",
       "     Ozone (O$_3$)                                        -0.0774697   \n",
       "     Sum SLCF (Methane, Aerosols, Ozone, HFCs, BC on...     0.432829   \n",
       "     total_anthropogenic                                    0.583242   \n",
       "\n",
       "                                                             ssp126  \\\n",
       "                                                                      \n",
       "2040 Aerosols                                              0.459449   \n",
       "     BC on snow                                         -0.00886971   \n",
       "     HFCs                                                 0.0248423   \n",
       "     Methane (CH$_4$)                                    -0.0120869   \n",
       "     Ozone (O$_3$)                                       -0.0306062   \n",
       "     Sum SLCF (Methane, Aerosols, Ozone, HFCs, BC on...    0.363696   \n",
       "     total_anthropogenic                                   0.827929   \n",
       "2100 Aerosols                                              0.866746   \n",
       "     BC on snow                                          -0.0136197   \n",
       "     HFCs                                                0.00271312   \n",
       "     Methane (CH$_4$)                                      -0.11125   \n",
       "     Ozone (O$_3$)                                       -0.0771125   \n",
       "     Sum SLCF (Methane, Aerosols, Ozone, HFCs, BC on...    0.447991   \n",
       "     total_anthropogenic                                    1.13446   \n",
       "\n",
       "                                                             ssp245  \\\n",
       "                                                                      \n",
       "2040 Aerosols                                              0.107574   \n",
       "     BC on snow                                         -0.00278671   \n",
       "     HFCs                                                 0.0390495   \n",
       "     Methane (CH$_4$)                                     0.0600146   \n",
       "     Ozone (O$_3$)                                        0.0380188   \n",
       "     Sum SLCF (Methane, Aerosols, Ozone, HFCs, BC on...    0.212868   \n",
       "     total_anthropogenic                                   0.816868   \n",
       "2100 Aerosols                                              0.649583   \n",
       "     BC on snow                                          -0.0140332   \n",
       "     HFCs                                                  0.081813   \n",
       "     Methane (CH$_4$)                                     0.0403708   \n",
       "     Ozone (O$_3$)                                       -0.0102481   \n",
       "     Sum SLCF (Methane, Aerosols, Ozone, HFCs, BC on...    0.635452   \n",
       "     total_anthropogenic                                    2.69287   \n",
       "\n",
       "                                                             ssp370  \\\n",
       "                                                                      \n",
       "2040 Aerosols                                            0.00587921   \n",
       "     BC on snow                                           0.0351826   \n",
       "     HFCs                                                 0.0362496   \n",
       "     Methane (CH$_4$)                                      0.102481   \n",
       "     Ozone (O$_3$)                                         0.114962   \n",
       "     Sum SLCF (Methane, Aerosols, Ozone, HFCs, BC on...    0.209712   \n",
       "     total_anthropogenic                                   0.882026   \n",
       "2100 Aerosols                                              0.043506   \n",
       "     BC on snow                                           0.0279844   \n",
       "     HFCs                                                  0.134556   \n",
       "     Methane (CH$_4$)                                      0.395031   \n",
       "     Ozone (O$_3$)                                         0.395267   \n",
       "     Sum SLCF (Methane, Aerosols, Ozone, HFCs, BC on...    0.825034   \n",
       "     total_anthropogenic                                    4.27868   \n",
       "\n",
       "                                                        ssp370-lowNTCF\\n-aerchemmip  \\\n",
       "                                                                                      \n",
       "2040 Aerosols                                                              0.168403   \n",
       "     BC on snow                                                         -0.00359352   \n",
       "     HFCs                                                                 0.0362496   \n",
       "     Methane (CH$_4$)                                                      0.102481   \n",
       "     Ozone (O$_3$)                                                        0.0502815   \n",
       "     Sum SLCF (Methane, Aerosols, Ozone, HFCs, BC on...                    0.325359   \n",
       "     total_anthropogenic                                                    1.03624   \n",
       "2100 Aerosols                                                              0.626344   \n",
       "     BC on snow                                                          -0.0121278   \n",
       "     HFCs                                                                  0.134556   \n",
       "     Methane (CH$_4$)                                                      0.395031   \n",
       "     Ozone (O$_3$)                                                         0.272566   \n",
       "     Sum SLCF (Methane, Aerosols, Ozone, HFCs, BC on...                      1.3007   \n",
       "     total_anthropogenic                                                    4.78132   \n",
       "\n",
       "                                                        ssp370-lowNTCF\\n-gidden  \\\n",
       "                                                                                  \n",
       "2040 Aerosols                                                          0.168403   \n",
       "     BC on snow                                                     -0.00359352   \n",
       "     HFCs                                                             0.0362993   \n",
       "     Methane (CH$_4$)                                                -0.0278203   \n",
       "     Ozone (O$_3$)                                                   -0.0249084   \n",
       "     Sum SLCF (Methane, Aerosols, Ozone, HFCs, BC on...                0.111758   \n",
       "     total_anthropogenic                                               0.819695   \n",
       "2100 Aerosols                                                          0.626344   \n",
       "     BC on snow                                                      -0.0121278   \n",
       "     HFCs                                                              0.116961   \n",
       "     Methane (CH$_4$)                                                -0.0864054   \n",
       "     Ozone (O$_3$)                                                   -0.0527385   \n",
       "     Sum SLCF (Methane, Aerosols, Ozone, HFCs, BC on...                0.425458   \n",
       "     total_anthropogenic                                                3.81743   \n",
       "\n",
       "                                                              ssp585  \n",
       "                                                                      \n",
       "2040 Aerosols                                               0.244263  \n",
       "     BC on snow                                         -0.000713228  \n",
       "     HFCs                                                  0.0561462  \n",
       "     Methane (CH$_4$)                                      0.0837601  \n",
       "     Ozone (O$_3$)                                         0.0719754  \n",
       "     Sum SLCF (Methane, Aerosols, Ozone, HFCs, BC on...     0.421042  \n",
       "     total_anthropogenic                                     1.15957  \n",
       "2100 Aerosols                                               0.529002  \n",
       "     BC on snow                                           -0.0130312  \n",
       "     HFCs                                                   0.306503  \n",
       "     Methane (CH$_4$)                                       0.231367  \n",
       "     Ozone (O$_3$)                                          0.125898  \n",
       "     Sum SLCF (Methane, Aerosols, Ozone, HFCs, BC on...      1.06315  \n",
       "     total_anthropogenic                                     5.75039  "
      ]
     },
     "execution_count": 322,
     "metadata": {},
     "output_type": "execute_result"
    }
   ],
   "source": [
    "_tab"
   ]
  },
  {
   "cell_type": "code",
   "execution_count": null,
   "metadata": {},
   "outputs": [],
   "source": []
  },
  {
   "cell_type": "code",
   "execution_count": 323,
   "metadata": {},
   "outputs": [
    {
     "data": {
      "text/html": [
       "<div>\n",
       "<style scoped>\n",
       "    .dataframe tbody tr th:only-of-type {\n",
       "        vertical-align: middle;\n",
       "    }\n",
       "\n",
       "    .dataframe tbody tr th {\n",
       "        vertical-align: top;\n",
       "    }\n",
       "\n",
       "    .dataframe thead th {\n",
       "        text-align: right;\n",
       "    }\n",
       "</style>\n",
       "<table border=\"1\" class=\"dataframe\">\n",
       "  <thead>\n",
       "    <tr style=\"text-align: right;\">\n",
       "      <th></th>\n",
       "      <th>ssp119</th>\n",
       "      <th>ssp126</th>\n",
       "      <th>ssp245</th>\n",
       "      <th>ssp370</th>\n",
       "      <th>ssp370-lowNTCF\\n-aerchemmip</th>\n",
       "      <th>ssp370-lowNTCF\\n-gidden</th>\n",
       "      <th>ssp585</th>\n",
       "    </tr>\n",
       "    <tr>\n",
       "      <th></th>\n",
       "      <th></th>\n",
       "      <th></th>\n",
       "      <th></th>\n",
       "      <th></th>\n",
       "      <th></th>\n",
       "      <th></th>\n",
       "      <th></th>\n",
       "    </tr>\n",
       "  </thead>\n",
       "  <tbody>\n",
       "    <tr>\n",
       "      <th>Scenario total</th>\n",
       "      <td>0.202181</td>\n",
       "      <td>0.201175</td>\n",
       "      <td>0.152905</td>\n",
       "      <td>0.143779</td>\n",
       "      <td>0.187947</td>\n",
       "      <td>0.159422</td>\n",
       "      <td>0.21497</td>\n",
       "    </tr>\n",
       "  </tbody>\n",
       "</table>\n",
       "</div>"
      ],
      "text/plain": [
       "                  ssp119    ssp126    ssp245    ssp370  \\\n",
       "                                                         \n",
       "Scenario total  0.202181  0.201175  0.152905  0.143779   \n",
       "\n",
       "               ssp370-lowNTCF\\n-aerchemmip ssp370-lowNTCF\\n-gidden   ssp585  \n",
       "                                                                             \n",
       "Scenario total                    0.187947                0.159422  0.21497  "
      ]
     },
     "execution_count": 323,
     "metadata": {},
     "output_type": "execute_result"
    }
   ],
   "source": [
    "# Statistics on Delta T anthropogenic\n",
    "# Mean\n",
    "tabel_dT_anthrop = table_of_sts(ds_DT, scenarios_fl, ['total_anthropogenic'], [scenario_tot], years, ref_year)\n",
    "\n",
    "# 5th\n",
    "tabel_dT_anthrop_5th = -table_of_sts(ds_uncertainty,\n",
    "                                     scenarios_fl,\n",
    "                                     ['anthro'],\n",
    "                                     [scenario_tot],\n",
    "                                     years,\n",
    "                                     ref_year,\n",
    "                                     sts='p05-p50'\n",
    "                                     )\n",
    "# 95th\n",
    "\n",
    "tabel_dT_anthrop_95th = table_of_sts(ds_uncertainty, scenarios_fl, ['anthro'], [scenario_tot], years, ref_year,\n",
    "                                     sts='p95-p50')\n",
    "tabel_dT_anthrop_95th.loc['2040']\n",
    "tabel_dT_anthrop_5th.loc['2040']"
   ]
  },
  {
   "cell_type": "code",
   "execution_count": 324,
   "metadata": {},
   "outputs": [],
   "source": [
    "# Mean:\n",
    "tabel_dT_slcfs = table_of_sts(ds_DT, scenarios_fl, variables_erf_comp, variables_erf_comp, years,\n",
    "                              ref_year)\n",
    "# Standard deviation\n",
    "tabel_dT_slcfs_5th = -table_of_sts(ds_uncertainty,\n",
    "                                   scenarios_fl,\n",
    "                                   variables_erf_comp,\n",
    "                                   variables_erf_comp,\n",
    "                                   years,\n",
    "                                   ref_year,\n",
    "                                   sts='p05-p50')\n",
    "tabel_dT_slcfs_95th = table_of_sts(ds_uncertainty,\n",
    "                                   scenarios_fl,\n",
    "                                   variables_erf_comp,\n",
    "                                   variables_erf_comp,\n",
    "                                   years,\n",
    "                                   ref_year,\n",
    "                                   sts='p95-p50')\n",
    "\n",
    "# Compute sum of SLCFs\n",
    "_ds = ds_sum.copy()\n",
    "vall = 'Delta T'"
   ]
  },
  {
   "cell_type": "code",
   "execution_count": 325,
   "metadata": {},
   "outputs": [
    {
     "data": {
      "text/html": [
       "<div>\n",
       "<style scoped>\n",
       "    .dataframe tbody tr th:only-of-type {\n",
       "        vertical-align: middle;\n",
       "    }\n",
       "\n",
       "    .dataframe tbody tr th {\n",
       "        vertical-align: top;\n",
       "    }\n",
       "\n",
       "    .dataframe thead th {\n",
       "        text-align: right;\n",
       "    }\n",
       "</style>\n",
       "<table border=\"1\" class=\"dataframe\">\n",
       "  <thead>\n",
       "    <tr style=\"text-align: right;\">\n",
       "      <th></th>\n",
       "      <th></th>\n",
       "      <th>ssp119</th>\n",
       "      <th>ssp126</th>\n",
       "      <th>ssp245</th>\n",
       "      <th>ssp370</th>\n",
       "      <th>ssp370-lowNTCF\\n-aerchemmip</th>\n",
       "      <th>ssp370-lowNTCF\\n-gidden</th>\n",
       "      <th>ssp585</th>\n",
       "    </tr>\n",
       "    <tr>\n",
       "      <th></th>\n",
       "      <th></th>\n",
       "      <th></th>\n",
       "      <th></th>\n",
       "      <th></th>\n",
       "      <th></th>\n",
       "      <th></th>\n",
       "      <th></th>\n",
       "      <th></th>\n",
       "    </tr>\n",
       "  </thead>\n",
       "  <tbody>\n",
       "    <tr>\n",
       "      <th rowspan=\"5\" valign=\"top\">2040</th>\n",
       "      <th>Methane (CH$_4$)</th>\n",
       "      <td>-0.0348115</td>\n",
       "      <td>-0.0226653</td>\n",
       "      <td>0.0394332</td>\n",
       "      <td>0.0736096</td>\n",
       "      <td>0.0736096</td>\n",
       "      <td>-0.0387952</td>\n",
       "      <td>0.0596293</td>\n",
       "    </tr>\n",
       "    <tr>\n",
       "      <th>Aerosols</th>\n",
       "      <td>0.305727</td>\n",
       "      <td>0.256158</td>\n",
       "      <td>0.0571758</td>\n",
       "      <td>-0.0493196</td>\n",
       "      <td>0.106629</td>\n",
       "      <td>0.106629</td>\n",
       "      <td>0.123224</td>\n",
       "    </tr>\n",
       "    <tr>\n",
       "      <th>Ozone (O$_3$)</th>\n",
       "      <td>-0.0767619</td>\n",
       "      <td>-0.0532542</td>\n",
       "      <td>0.0199406</td>\n",
       "      <td>0.0720428</td>\n",
       "      <td>0.0281785</td>\n",
       "      <td>-0.0405273</td>\n",
       "      <td>0.0437352</td>\n",
       "    </tr>\n",
       "    <tr>\n",
       "      <th>HFCs</th>\n",
       "      <td>0.00554347</td>\n",
       "      <td>0.0172801</td>\n",
       "      <td>0.0286784</td>\n",
       "      <td>0.0267792</td>\n",
       "      <td>0.0267792</td>\n",
       "      <td>0.0267745</td>\n",
       "      <td>0.0425932</td>\n",
       "    </tr>\n",
       "    <tr>\n",
       "      <th>BC on snow</th>\n",
       "      <td>-0.030288</td>\n",
       "      <td>-0.0255414</td>\n",
       "      <td>-0.00607383</td>\n",
       "      <td>0.0149975</td>\n",
       "      <td>-0.00683741</td>\n",
       "      <td>-0.00683741</td>\n",
       "      <td>-0.00285113</td>\n",
       "    </tr>\n",
       "    <tr>\n",
       "      <th rowspan=\"5\" valign=\"top\">2100</th>\n",
       "      <th>Methane (CH$_4$)</th>\n",
       "      <td>-0.16537</td>\n",
       "      <td>-0.157522</td>\n",
       "      <td>-0.00394258</td>\n",
       "      <td>0.273463</td>\n",
       "      <td>0.273463</td>\n",
       "      <td>-0.125221</td>\n",
       "      <td>0.144593</td>\n",
       "    </tr>\n",
       "    <tr>\n",
       "      <th>Aerosols</th>\n",
       "      <td>0.469746</td>\n",
       "      <td>0.477843</td>\n",
       "      <td>0.326467</td>\n",
       "      <td>-0.0159913</td>\n",
       "      <td>0.330153</td>\n",
       "      <td>0.330153</td>\n",
       "      <td>0.264415</td>\n",
       "    </tr>\n",
       "    <tr>\n",
       "      <th>Ozone (O$_3$)</th>\n",
       "      <td>-0.142237</td>\n",
       "      <td>-0.140711</td>\n",
       "      <td>-0.0413979</td>\n",
       "      <td>0.238084</td>\n",
       "      <td>0.161022</td>\n",
       "      <td>-0.0950774</td>\n",
       "      <td>0.0537004</td>\n",
       "    </tr>\n",
       "    <tr>\n",
       "      <th>HFCs</th>\n",
       "      <td>-0.0041241</td>\n",
       "      <td>-0.00179275</td>\n",
       "      <td>0.057409</td>\n",
       "      <td>0.0970282</td>\n",
       "      <td>0.0970282</td>\n",
       "      <td>0.083694</td>\n",
       "      <td>0.223619</td>\n",
       "    </tr>\n",
       "    <tr>\n",
       "      <th>BC on snow</th>\n",
       "      <td>-0.043832</td>\n",
       "      <td>-0.0416578</td>\n",
       "      <td>-0.0397088</td>\n",
       "      <td>0.00784892</td>\n",
       "      <td>-0.0323559</td>\n",
       "      <td>-0.0323559</td>\n",
       "      <td>-0.0342643</td>\n",
       "    </tr>\n",
       "  </tbody>\n",
       "</table>\n",
       "</div>"
      ],
      "text/plain": [
       "                           ssp119      ssp126      ssp245      ssp370  \\\n",
       "                                                                        \n",
       "2040 Methane (CH$_4$)  -0.0348115  -0.0226653   0.0394332   0.0736096   \n",
       "     Aerosols            0.305727    0.256158   0.0571758  -0.0493196   \n",
       "     Ozone (O$_3$)     -0.0767619  -0.0532542   0.0199406   0.0720428   \n",
       "     HFCs              0.00554347   0.0172801   0.0286784   0.0267792   \n",
       "     BC on snow         -0.030288  -0.0255414 -0.00607383   0.0149975   \n",
       "2100 Methane (CH$_4$)    -0.16537   -0.157522 -0.00394258    0.273463   \n",
       "     Aerosols            0.469746    0.477843    0.326467  -0.0159913   \n",
       "     Ozone (O$_3$)      -0.142237   -0.140711  -0.0413979    0.238084   \n",
       "     HFCs              -0.0041241 -0.00179275    0.057409   0.0970282   \n",
       "     BC on snow         -0.043832  -0.0416578  -0.0397088  0.00784892   \n",
       "\n",
       "                      ssp370-lowNTCF\\n-aerchemmip ssp370-lowNTCF\\n-gidden  \\\n",
       "                                                                            \n",
       "2040 Methane (CH$_4$)                   0.0736096              -0.0387952   \n",
       "     Aerosols                            0.106629                0.106629   \n",
       "     Ozone (O$_3$)                      0.0281785              -0.0405273   \n",
       "     HFCs                               0.0267792               0.0267745   \n",
       "     BC on snow                       -0.00683741             -0.00683741   \n",
       "2100 Methane (CH$_4$)                    0.273463               -0.125221   \n",
       "     Aerosols                            0.330153                0.330153   \n",
       "     Ozone (O$_3$)                       0.161022              -0.0950774   \n",
       "     HFCs                               0.0970282                0.083694   \n",
       "     BC on snow                        -0.0323559              -0.0323559   \n",
       "\n",
       "                           ssp585  \n",
       "                                   \n",
       "2040 Methane (CH$_4$)   0.0596293  \n",
       "     Aerosols            0.123224  \n",
       "     Ozone (O$_3$)      0.0437352  \n",
       "     HFCs               0.0425932  \n",
       "     BC on snow       -0.00285113  \n",
       "2100 Methane (CH$_4$)    0.144593  \n",
       "     Aerosols            0.264415  \n",
       "     Ozone (O$_3$)      0.0537004  \n",
       "     HFCs                0.223619  \n",
       "     BC on snow        -0.0342643  "
      ]
     },
     "execution_count": 325,
     "metadata": {},
     "output_type": "execute_result"
    }
   ],
   "source": [
    "tabel_dT_slcfs"
   ]
  },
  {
   "cell_type": "code",
   "execution_count": 326,
   "metadata": {},
   "outputs": [
    {
     "data": {
      "text/html": [
       "<pre>&lt;xarray.DataArray &#x27;variable&#x27; (variable: 20)&gt;\n",
       "array([&#x27;HFCs&#x27;, &#x27;Sum SLCF (Methane, Aerosols, Ozone, HFCs, BC on snow)&#x27;,\n",
       "       &#x27;aerosol-cloud_interactions&#x27;, &#x27;aerosol-radiation_interactions&#x27;,\n",
       "       &#x27;aerosol-total&#x27;, &#x27;aerosol-total-with_bc&#x27;, &#x27;bc_on_snow&#x27;, &#x27;ch4&#x27;, &#x27;co2&#x27;,\n",
       "       &#x27;contrails&#x27;, &#x27;h2o_stratospheric&#x27;, &#x27;land_use&#x27;, &#x27;n2o&#x27;, &#x27;o3&#x27;,\n",
       "       &#x27;other_wmghg&#x27;, &#x27;solar&#x27;, &#x27;total&#x27;, &#x27;total_anthropogenic&#x27;, &#x27;total_natural&#x27;,\n",
       "       &#x27;volcanic&#x27;], dtype=object)\n",
       "Coordinates:\n",
       "  * variable  (variable) object &#x27;HFCs&#x27; ... &#x27;volcanic&#x27;</pre>"
      ],
      "text/plain": [
       "<xarray.DataArray 'variable' (variable: 20)>\n",
       "array(['HFCs', 'Sum SLCF (Methane, Aerosols, Ozone, HFCs, BC on snow)',\n",
       "       'aerosol-cloud_interactions', 'aerosol-radiation_interactions',\n",
       "       'aerosol-total', 'aerosol-total-with_bc', 'bc_on_snow', 'ch4', 'co2',\n",
       "       'contrails', 'h2o_stratospheric', 'land_use', 'n2o', 'o3',\n",
       "       'other_wmghg', 'solar', 'total', 'total_anthropogenic', 'total_natural',\n",
       "       'volcanic'], dtype=object)\n",
       "Coordinates:\n",
       "  * variable  (variable) object 'HFCs' ... 'volcanic'"
      ]
     },
     "execution_count": 326,
     "metadata": {},
     "output_type": "execute_result"
    }
   ],
   "source": [
    "ds_DT.variable"
   ]
  },
  {
   "cell_type": "code",
   "execution_count": null,
   "metadata": {},
   "outputs": [],
   "source": []
  },
  {
   "cell_type": "code",
   "execution_count": 327,
   "metadata": {},
   "outputs": [],
   "source": [
    "tabel_dT_sum_slcf = table_of_sts(ds_DT,\n",
    "                                 scenarios_fl,\n",
    "                                 [sum_v],\n",
    "                                 ['Sum SLCFs'],\n",
    "                                 years,\n",
    "                                 ref_year\n",
    "                                 )\n",
    "tabel_dT_sum_slcf_5 = - table_of_sts(ds_uncertainty,\n",
    "                                     scenarios_fl,\n",
    "                                     [sum_v],\n",
    "                                     ['Sum SLCFs'],\n",
    "                                     years,\n",
    "                                     ref_year,\n",
    "                                     sts='p05-p50')\n",
    "tabel_dT_sum_slcf_95 = table_of_sts(ds_uncertainty,\n",
    "                                    scenarios_fl,\n",
    "                                    [sum_v],\n",
    "                                    ['Sum SLCFs'],\n",
    "                                    years,\n",
    "                                    ref_year,\n",
    "                                    sts='p95-p50')"
   ]
  },
  {
   "cell_type": "code",
   "execution_count": 328,
   "metadata": {},
   "outputs": [
    {
     "data": {
      "text/html": [
       "<div>\n",
       "<style scoped>\n",
       "    .dataframe tbody tr th:only-of-type {\n",
       "        vertical-align: middle;\n",
       "    }\n",
       "\n",
       "    .dataframe tbody tr th {\n",
       "        vertical-align: top;\n",
       "    }\n",
       "\n",
       "    .dataframe thead th {\n",
       "        text-align: right;\n",
       "    }\n",
       "</style>\n",
       "<table border=\"1\" class=\"dataframe\">\n",
       "  <thead>\n",
       "    <tr style=\"text-align: right;\">\n",
       "      <th></th>\n",
       "      <th></th>\n",
       "      <th>ssp119</th>\n",
       "      <th>ssp126</th>\n",
       "      <th>ssp245</th>\n",
       "      <th>ssp370</th>\n",
       "      <th>ssp370-lowNTCF\\n-aerchemmip</th>\n",
       "      <th>ssp370-lowNTCF\\n-gidden</th>\n",
       "      <th>ssp585</th>\n",
       "    </tr>\n",
       "    <tr>\n",
       "      <th></th>\n",
       "      <th></th>\n",
       "      <th></th>\n",
       "      <th></th>\n",
       "      <th></th>\n",
       "      <th></th>\n",
       "      <th></th>\n",
       "      <th></th>\n",
       "      <th></th>\n",
       "    </tr>\n",
       "  </thead>\n",
       "  <tbody>\n",
       "    <tr>\n",
       "      <th rowspan=\"5\" valign=\"top\">2040</th>\n",
       "      <th>Methane (CH$_4$)</th>\n",
       "      <td>-0.0348115</td>\n",
       "      <td>-0.0226653</td>\n",
       "      <td>0.0394332</td>\n",
       "      <td>0.0736096</td>\n",
       "      <td>0.0736096</td>\n",
       "      <td>-0.0387952</td>\n",
       "      <td>0.0596293</td>\n",
       "    </tr>\n",
       "    <tr>\n",
       "      <th>Aerosols</th>\n",
       "      <td>0.305727</td>\n",
       "      <td>0.256158</td>\n",
       "      <td>0.0571758</td>\n",
       "      <td>-0.0493196</td>\n",
       "      <td>0.106629</td>\n",
       "      <td>0.106629</td>\n",
       "      <td>0.123224</td>\n",
       "    </tr>\n",
       "    <tr>\n",
       "      <th>Ozone (O$_3$)</th>\n",
       "      <td>-0.0767619</td>\n",
       "      <td>-0.0532542</td>\n",
       "      <td>0.0199406</td>\n",
       "      <td>0.0720428</td>\n",
       "      <td>0.0281785</td>\n",
       "      <td>-0.0405273</td>\n",
       "      <td>0.0437352</td>\n",
       "    </tr>\n",
       "    <tr>\n",
       "      <th>HFCs</th>\n",
       "      <td>0.00554347</td>\n",
       "      <td>0.0172801</td>\n",
       "      <td>0.0286784</td>\n",
       "      <td>0.0267792</td>\n",
       "      <td>0.0267792</td>\n",
       "      <td>0.0267745</td>\n",
       "      <td>0.0425932</td>\n",
       "    </tr>\n",
       "    <tr>\n",
       "      <th>BC on snow</th>\n",
       "      <td>-0.030288</td>\n",
       "      <td>-0.0255414</td>\n",
       "      <td>-0.00607383</td>\n",
       "      <td>0.0149975</td>\n",
       "      <td>-0.00683741</td>\n",
       "      <td>-0.00683741</td>\n",
       "      <td>-0.00285113</td>\n",
       "    </tr>\n",
       "    <tr>\n",
       "      <th rowspan=\"5\" valign=\"top\">2100</th>\n",
       "      <th>Methane (CH$_4$)</th>\n",
       "      <td>-0.16537</td>\n",
       "      <td>-0.157522</td>\n",
       "      <td>-0.00394258</td>\n",
       "      <td>0.273463</td>\n",
       "      <td>0.273463</td>\n",
       "      <td>-0.125221</td>\n",
       "      <td>0.144593</td>\n",
       "    </tr>\n",
       "    <tr>\n",
       "      <th>Aerosols</th>\n",
       "      <td>0.469746</td>\n",
       "      <td>0.477843</td>\n",
       "      <td>0.326467</td>\n",
       "      <td>-0.0159913</td>\n",
       "      <td>0.330153</td>\n",
       "      <td>0.330153</td>\n",
       "      <td>0.264415</td>\n",
       "    </tr>\n",
       "    <tr>\n",
       "      <th>Ozone (O$_3$)</th>\n",
       "      <td>-0.142237</td>\n",
       "      <td>-0.140711</td>\n",
       "      <td>-0.0413979</td>\n",
       "      <td>0.238084</td>\n",
       "      <td>0.161022</td>\n",
       "      <td>-0.0950774</td>\n",
       "      <td>0.0537004</td>\n",
       "    </tr>\n",
       "    <tr>\n",
       "      <th>HFCs</th>\n",
       "      <td>-0.0041241</td>\n",
       "      <td>-0.00179275</td>\n",
       "      <td>0.057409</td>\n",
       "      <td>0.0970282</td>\n",
       "      <td>0.0970282</td>\n",
       "      <td>0.083694</td>\n",
       "      <td>0.223619</td>\n",
       "    </tr>\n",
       "    <tr>\n",
       "      <th>BC on snow</th>\n",
       "      <td>-0.043832</td>\n",
       "      <td>-0.0416578</td>\n",
       "      <td>-0.0397088</td>\n",
       "      <td>0.00784892</td>\n",
       "      <td>-0.0323559</td>\n",
       "      <td>-0.0323559</td>\n",
       "      <td>-0.0342643</td>\n",
       "    </tr>\n",
       "  </tbody>\n",
       "</table>\n",
       "</div>"
      ],
      "text/plain": [
       "                           ssp119      ssp126      ssp245      ssp370  \\\n",
       "                                                                        \n",
       "2040 Methane (CH$_4$)  -0.0348115  -0.0226653   0.0394332   0.0736096   \n",
       "     Aerosols            0.305727    0.256158   0.0571758  -0.0493196   \n",
       "     Ozone (O$_3$)     -0.0767619  -0.0532542   0.0199406   0.0720428   \n",
       "     HFCs              0.00554347   0.0172801   0.0286784   0.0267792   \n",
       "     BC on snow         -0.030288  -0.0255414 -0.00607383   0.0149975   \n",
       "2100 Methane (CH$_4$)    -0.16537   -0.157522 -0.00394258    0.273463   \n",
       "     Aerosols            0.469746    0.477843    0.326467  -0.0159913   \n",
       "     Ozone (O$_3$)      -0.142237   -0.140711  -0.0413979    0.238084   \n",
       "     HFCs              -0.0041241 -0.00179275    0.057409   0.0970282   \n",
       "     BC on snow         -0.043832  -0.0416578  -0.0397088  0.00784892   \n",
       "\n",
       "                      ssp370-lowNTCF\\n-aerchemmip ssp370-lowNTCF\\n-gidden  \\\n",
       "                                                                            \n",
       "2040 Methane (CH$_4$)                   0.0736096              -0.0387952   \n",
       "     Aerosols                            0.106629                0.106629   \n",
       "     Ozone (O$_3$)                      0.0281785              -0.0405273   \n",
       "     HFCs                               0.0267792               0.0267745   \n",
       "     BC on snow                       -0.00683741             -0.00683741   \n",
       "2100 Methane (CH$_4$)                    0.273463               -0.125221   \n",
       "     Aerosols                            0.330153                0.330153   \n",
       "     Ozone (O$_3$)                       0.161022              -0.0950774   \n",
       "     HFCs                               0.0970282                0.083694   \n",
       "     BC on snow                        -0.0323559              -0.0323559   \n",
       "\n",
       "                           ssp585  \n",
       "                                   \n",
       "2040 Methane (CH$_4$)   0.0596293  \n",
       "     Aerosols            0.123224  \n",
       "     Ozone (O$_3$)      0.0437352  \n",
       "     HFCs               0.0425932  \n",
       "     BC on snow       -0.00285113  \n",
       "2100 Methane (CH$_4$)    0.144593  \n",
       "     Aerosols            0.264415  \n",
       "     Ozone (O$_3$)      0.0537004  \n",
       "     HFCs                0.223619  \n",
       "     BC on snow        -0.0342643  "
      ]
     },
     "execution_count": 328,
     "metadata": {},
     "output_type": "execute_result"
    }
   ],
   "source": [
    "\n",
    "tabel_dT_slcfs = fix_names(tabel_dT_slcfs)#.rename(rn_dic)\n",
    "#tabel_dT_slcfs = tabel_dT_slcfs.rename(rn_dic_scen,axis=1)\n",
    "tabel_dT_slcfs#.index"
   ]
  },
  {
   "cell_type": "code",
   "execution_count": 329,
   "metadata": {},
   "outputs": [
    {
     "data": {
      "text/plain": [
       "{'ch4': 'Methane (CH$_4$)',\n",
       " 'aerosol-total': 'Aerosols',\n",
       " 'o3': 'Ozone (O$_3$)',\n",
       " 'HFCs': 'HFCs',\n",
       " 'bc_on_snow': 'BC on snow',\n",
       " 'total_anthropogenic': 'total_anthropogenic',\n",
       " 'total': 'total'}"
      ]
     },
     "execution_count": 329,
     "metadata": {},
     "output_type": "execute_result"
    }
   ],
   "source": [
    "rn_dic"
   ]
  },
  {
   "cell_type": "code",
   "execution_count": null,
   "metadata": {},
   "outputs": [],
   "source": []
  },
  {
   "cell_type": "markdown",
   "metadata": {},
   "source": [
    "## colors"
   ]
  },
  {
   "cell_type": "code",
   "execution_count": 330,
   "metadata": {},
   "outputs": [
    {
     "name": "stderr",
     "output_type": "stream",
     "text": [
      "/home/sarambl/miniconda3/envs/rcmip_ch6/lib/python3.7/site-packages/pandas/core/indexing.py:1761: PerformanceWarning: indexing past lexsort depth may impact performance.\n",
      "  return self._getitem_tuple(key)\n"
     ]
    },
    {
     "data": {
      "text/plain": [
       "[(0.6784313725490196, 0.3686274509803922, 0.0),\n",
       " (0.4, 0.4, 0.37254901960784315),\n",
       " (0.8980392156862745, 0.8549019607843137, 0.2784313725490196),\n",
       " (0.21568627450980393, 0.49411764705882355, 0.7215686274509804),\n",
       " (0.9686274509803922, 0.5058823529411764, 0.7490196078431373)]"
      ]
     },
     "execution_count": 330,
     "metadata": {},
     "output_type": "execute_result"
    }
   ],
   "source": [
    "cdic = get_cmap_dic(variables_erf_comp)  # , palette='colorblind'):\n",
    "ls = [cdic[key] for key in variables_erf_comp]\n",
    "\n",
    "ls"
   ]
  },
  {
   "cell_type": "markdown",
   "metadata": {},
   "source": [
    "## Error bars only from model uncertainty\n",
    "The following uncertainties assume the ECS has a standard deviation of"
   ]
  },
  {
   "cell_type": "code",
   "execution_count": null,
   "metadata": {
    "lines_to_next_cell": 2
   },
   "outputs": [],
   "source": []
  },
  {
   "cell_type": "code",
   "execution_count": 331,
   "metadata": {},
   "outputs": [],
   "source": [
    "from matplotlib.ticker import (MultipleLocator)\n",
    "\n",
    "scenario_tot = 'Scenario total'\n",
    "\n",
    "def plt_stacked(fig, axs, tabel_dT_anthrop, tabel_dT_sum_slcf,tabel_dT_slcfs, tabel_dT_anthrop_5th,\n",
    "                tabel_dT_anthrop_95th, tabel_dT_sum_slcf_5, tabel_dT_sum_slcf_95):\n",
    "    tits = ['Near Term surface temperature change (2040 relative to 2020)',\n",
    "            'Long Term surface T change 2100 relatie to 2020)']\n",
    "    tits = ['Change in GSAT in 2040 relative to 2020', 'Change in GSAT in 2100 relative to 2020']\n",
    "    for yr, ax, tit in zip(years, axs, tits):\n",
    "        # Pick out year and do various renames:\n",
    "        # Total antropogenic\n",
    "        tot_yr = tabel_dT_anthrop.loc[yr]\n",
    "        # Sum SLCFs\n",
    "        sum_yr = tabel_dT_sum_slcf.loc[yr]\n",
    "        # uncertainty:\n",
    "        bot = tabel_dT_anthrop_5th.loc[yr]\n",
    "        top = tabel_dT_anthrop_95th.loc[yr]\n",
    "        err = pd.merge(bot, top, how='outer').values\n",
    "        # Plot bars for anthropopogenic total:\n",
    "        print(err)\n",
    "        print(tot_yr)\n",
    "        ax.barh(tot_yr.transpose().index, tot_yr.transpose()[scenario_tot].values,\n",
    "                color='k',\n",
    "                xerr=err,\n",
    "                error_kw=dict(ecolor='gray', lw=2, capsize=5, capthick=2),\n",
    "                label='Scenario total', alpha=.2,\n",
    "                )\n",
    "        # Plot bars for SLCFs total:\n",
    "        sum_SLCFs = 'Sum SLCFs'\n",
    "        s_x = sum_yr.transpose().index\n",
    "        s_y = sum_yr.transpose()[sum_SLCFs].values\n",
    "\n",
    "        # Plot stacked plot of components:\n",
    "        _tab = tabel_dT_slcfs.loc[yr].transpose().rename({'ssp370-lowNTCF-aerchemmip': 'ssp370-lowNTCF\\n-aerchemmip'})\n",
    "\n",
    "        a = _tab.plot(kind='barh', stacked=True, ax=ax, color=ls, legend=(yr != '2040'))  # , grid=True)#stac)\n",
    "        _t = _tab.sum(axis=1)  # , c=100)#.plot(kind='barh', )\n",
    "        # ax.scatter(_t, list(_t.reset_index().index), zorder=10, c='w', marker='d')\n",
    "        # uncertainty:\n",
    "        bot = tabel_dT_sum_slcf_5.loc[yr]\n",
    "        top = tabel_dT_sum_slcf_95.loc[yr]\n",
    "        err = pd.merge(bot, top, how='outer').values\n",
    "\n",
    "        ax.errorbar(_t, list(_t.reset_index().index), xerr=err, label=scenario_tot, color='w', fmt='d',\n",
    "                    linestyle=\"None\")  # ,\n",
    "\n",
    "        if not yr == '2040':\n",
    "            ax.legend(frameon=False, ncol=1)  # [l],labels=['Sce!!nario total'], loc = 4)#'lower right')\n",
    "        # Zero line:\n",
    "        ax.axvline(0, linestyle='--', color='k', alpha=0.4)\n",
    "        ax.set_title(tit)\n",
    "        ax.set_xlabel('$\\Delta$ GSAT ($^\\circ$C)')\n",
    "        ax.xaxis.set_minor_locator(MultipleLocator(.1))\n",
    "        # ax.grid(axis='y', which='major')\n",
    "\n",
    "def fix_axs(axs):\n",
    "    ax = axs[0]\n",
    "\n",
    "    ax.spines['right'].set_visible(False)\n",
    "    ax.spines['top'].set_visible(False)\n",
    "    ax.spines['left'].set_visible(False)\n",
    "    ax.tick_params(right=False, left=False)  # , color='w')\n",
    "\n",
    "    ax = axs[1]\n",
    "    ax.spines['right'].set_visible(False)\n",
    "    ax.spines['top'].set_visible(False)\n",
    "    ax.spines['left'].set_visible(False)\n",
    "    ax.tick_params(labelleft=False, right=False, left=False, color='w')\n",
    "    ax.tick_params(labelright=False, labelleft=False, right=False, left=False, color='w')\n",
    "    ax.yaxis.set_visible(False)\n",
    "    plt.tight_layout()"
   ]
  },
  {
   "cell_type": "code",
   "execution_count": 332,
   "metadata": {
    "lines_to_next_cell": 0
   },
   "outputs": [
    {
     "name": "stdout",
     "output_type": "stream",
     "text": [
      "[[0.20218131 0.20117464 0.15290508 0.14377928 0.18794679 0.15942176\n",
      "  0.21496959]\n",
      " [0.30852033 0.31669566 0.22737163 0.20384662 0.26776781 0.24186698\n",
      "  0.32632138]]\n",
      "                  ssp119    ssp126    ssp245    ssp370  \\\n",
      "                                                         \n",
      "Scenario total  0.401901  0.511234  0.589496  0.678179   \n",
      "\n",
      "               ssp370-lowNTCF\\n-aerchemmip ssp370-lowNTCF\\n-gidden    ssp585  \n",
      "                                                                              \n",
      "Scenario total                    0.768473                0.577828  0.833246  \n",
      "[[0.26065657 0.32168067 0.52513442 0.73537357 0.84312816 0.71436096\n",
      "  1.01760648]\n",
      " [0.46676905 0.58898393 0.93841089 1.11617313 1.40092139 1.16127203\n",
      "  1.64423169]]\n",
      "                  ssp119    ssp126   ssp245  ssp370  \\\n",
      "                                                      \n",
      "Scenario total  0.116473  0.545479  1.75446  3.1625   \n",
      "\n",
      "               ssp370-lowNTCF\\n-aerchemmip ssp370-lowNTCF\\n-gidden   ssp585  \n",
      "                                                                             \n",
      "Scenario total                      3.3804                 2.65616  4.10616  \n"
     ]
    },
    {
     "data": {
      "image/png": "[encoded data removed]",
      "text/plain": [
       "<Figure size 720x316.8 with 2 Axes>"
      ]
     },
     "metadata": {
      "needs_background": "light"
     },
     "output_type": "display_data"
    }
   ],
   "source": [
    "fig, axs = plt.subplots(1, len(years), figsize=[10, 4.4], sharex=False, sharey=True)\n",
    "plt_stacked(fig, axs, tabel_dT_anthrop, tabel_dT_sum_slcf,tabel_dT_slcfs,tabel_dT_anthrop_5th,\n",
    "            tabel_dT_anthrop_95th, tabel_dT_sum_slcf_5, tabel_dT_sum_slcf_95)\n",
    "\n",
    "fix_axs(axs)\n",
    "\n",
    "fn = FIGURE_DIR / 'stack_bar_influence_years.png'\n",
    "plt.tight_layout()\n",
    "ax = plt.gca()\n",
    "\n",
    "plt.savefig(fn, dpi=300)\n",
    "plt.savefig(fn.with_suffix('.pdf'), dpi=300)\n",
    "plt.show()"
   ]
  },
  {
   "cell_type": "code",
   "execution_count": null,
   "metadata": {},
   "outputs": [],
   "source": []
  },
  {
   "cell_type": "code",
   "execution_count": null,
   "metadata": {},
   "outputs": [],
   "source": []
  },
  {
   "cell_type": "code",
   "execution_count": 333,
   "metadata": {
    "lines_to_next_cell": 0
   },
   "outputs": [
    {
     "name": "stdout",
     "output_type": "stream",
     "text": [
      "['ssp119', 'ssp126', 'ssp245', 'ssp370', 'ssp585']\n"
     ]
    }
   ],
   "source": [
    "\n",
    "scen_no_lowNTCF = [scn for scn in scenarios_fl if 'lowNTCF' not in scn]\n",
    "print(scen_no_lowNTCF)"
   ]
  },
  {
   "cell_type": "code",
   "execution_count": 334,
   "metadata": {
    "lines_to_next_cell": 0
   },
   "outputs": [],
   "source": [
    "subset_scenarios = list(pd.Series(scenarios_fl_oneNTCF).replace(rn_dic_scen))"
   ]
  },
  {
   "cell_type": "code",
   "execution_count": 335,
   "metadata": {},
   "outputs": [],
   "source": [
    "tabel_dT_anthrop2 = tabel_dT_anthrop[subset_scenarios]\n",
    "tabel_dT_slcfs2 = tabel_dT_slcfs[subset_scenarios]\n",
    "tabel_dT_sum_slcf2 = tabel_dT_sum_slcf[subset_scenarios]\n",
    "tabel_dT_anthrop2_5th = tabel_dT_anthrop_5th[subset_scenarios]\n",
    "tabel_dT_anthrop2_95th = tabel_dT_anthrop_95th[subset_scenarios]\n",
    "tabel_dT_slcfs2_5th = tabel_dT_slcfs_5th[subset_scenarios]\n",
    "tabel_dT_slcfs2_95th = tabel_dT_slcfs_95th[subset_scenarios]\n",
    "tabel_dT_sum_slcf2_5 = tabel_dT_sum_slcf_5[subset_scenarios]\n",
    "tabel_dT_sum_slcf2_95 = tabel_dT_sum_slcf_95[subset_scenarios]"
   ]
  },
  {
   "cell_type": "code",
   "execution_count": 336,
   "metadata": {},
   "outputs": [
    {
     "data": {
      "text/html": [
       "<div>\n",
       "<style scoped>\n",
       "    .dataframe tbody tr th:only-of-type {\n",
       "        vertical-align: middle;\n",
       "    }\n",
       "\n",
       "    .dataframe tbody tr th {\n",
       "        vertical-align: top;\n",
       "    }\n",
       "\n",
       "    .dataframe thead th {\n",
       "        text-align: right;\n",
       "    }\n",
       "</style>\n",
       "<table border=\"1\" class=\"dataframe\">\n",
       "  <thead>\n",
       "    <tr style=\"text-align: right;\">\n",
       "      <th></th>\n",
       "      <th></th>\n",
       "      <th>ssp119</th>\n",
       "      <th>ssp126</th>\n",
       "      <th>ssp245</th>\n",
       "      <th>ssp370</th>\n",
       "      <th>ssp370-lowNTCF\\n-aerchemmip</th>\n",
       "      <th>ssp585</th>\n",
       "    </tr>\n",
       "    <tr>\n",
       "      <th></th>\n",
       "      <th></th>\n",
       "      <th></th>\n",
       "      <th></th>\n",
       "      <th></th>\n",
       "      <th></th>\n",
       "      <th></th>\n",
       "      <th></th>\n",
       "    </tr>\n",
       "  </thead>\n",
       "  <tbody>\n",
       "    <tr>\n",
       "      <th rowspan=\"5\" valign=\"top\">2040</th>\n",
       "      <th>Methane (CH$_4$)</th>\n",
       "      <td>-0.0348115</td>\n",
       "      <td>-0.0226653</td>\n",
       "      <td>0.0394332</td>\n",
       "      <td>0.0736096</td>\n",
       "      <td>0.0736096</td>\n",
       "      <td>0.0596293</td>\n",
       "    </tr>\n",
       "    <tr>\n",
       "      <th>Aerosols</th>\n",
       "      <td>0.305727</td>\n",
       "      <td>0.256158</td>\n",
       "      <td>0.0571758</td>\n",
       "      <td>-0.0493196</td>\n",
       "      <td>0.106629</td>\n",
       "      <td>0.123224</td>\n",
       "    </tr>\n",
       "    <tr>\n",
       "      <th>Ozone (O$_3$)</th>\n",
       "      <td>-0.0767619</td>\n",
       "      <td>-0.0532542</td>\n",
       "      <td>0.0199406</td>\n",
       "      <td>0.0720428</td>\n",
       "      <td>0.0281785</td>\n",
       "      <td>0.0437352</td>\n",
       "    </tr>\n",
       "    <tr>\n",
       "      <th>HFCs</th>\n",
       "      <td>0.00554347</td>\n",
       "      <td>0.0172801</td>\n",
       "      <td>0.0286784</td>\n",
       "      <td>0.0267792</td>\n",
       "      <td>0.0267792</td>\n",
       "      <td>0.0425932</td>\n",
       "    </tr>\n",
       "    <tr>\n",
       "      <th>BC on snow</th>\n",
       "      <td>-0.030288</td>\n",
       "      <td>-0.0255414</td>\n",
       "      <td>-0.00607383</td>\n",
       "      <td>0.0149975</td>\n",
       "      <td>-0.00683741</td>\n",
       "      <td>-0.00285113</td>\n",
       "    </tr>\n",
       "    <tr>\n",
       "      <th rowspan=\"5\" valign=\"top\">2100</th>\n",
       "      <th>Methane (CH$_4$)</th>\n",
       "      <td>-0.16537</td>\n",
       "      <td>-0.157522</td>\n",
       "      <td>-0.00394258</td>\n",
       "      <td>0.273463</td>\n",
       "      <td>0.273463</td>\n",
       "      <td>0.144593</td>\n",
       "    </tr>\n",
       "    <tr>\n",
       "      <th>Aerosols</th>\n",
       "      <td>0.469746</td>\n",
       "      <td>0.477843</td>\n",
       "      <td>0.326467</td>\n",
       "      <td>-0.0159913</td>\n",
       "      <td>0.330153</td>\n",
       "      <td>0.264415</td>\n",
       "    </tr>\n",
       "    <tr>\n",
       "      <th>Ozone (O$_3$)</th>\n",
       "      <td>-0.142237</td>\n",
       "      <td>-0.140711</td>\n",
       "      <td>-0.0413979</td>\n",
       "      <td>0.238084</td>\n",
       "      <td>0.161022</td>\n",
       "      <td>0.0537004</td>\n",
       "    </tr>\n",
       "    <tr>\n",
       "      <th>HFCs</th>\n",
       "      <td>-0.0041241</td>\n",
       "      <td>-0.00179275</td>\n",
       "      <td>0.057409</td>\n",
       "      <td>0.0970282</td>\n",
       "      <td>0.0970282</td>\n",
       "      <td>0.223619</td>\n",
       "    </tr>\n",
       "    <tr>\n",
       "      <th>BC on snow</th>\n",
       "      <td>-0.043832</td>\n",
       "      <td>-0.0416578</td>\n",
       "      <td>-0.0397088</td>\n",
       "      <td>0.00784892</td>\n",
       "      <td>-0.0323559</td>\n",
       "      <td>-0.0342643</td>\n",
       "    </tr>\n",
       "  </tbody>\n",
       "</table>\n",
       "</div>"
      ],
      "text/plain": [
       "                           ssp119      ssp126      ssp245      ssp370  \\\n",
       "                                                                        \n",
       "2040 Methane (CH$_4$)  -0.0348115  -0.0226653   0.0394332   0.0736096   \n",
       "     Aerosols            0.305727    0.256158   0.0571758  -0.0493196   \n",
       "     Ozone (O$_3$)     -0.0767619  -0.0532542   0.0199406   0.0720428   \n",
       "     HFCs              0.00554347   0.0172801   0.0286784   0.0267792   \n",
       "     BC on snow         -0.030288  -0.0255414 -0.00607383   0.0149975   \n",
       "2100 Methane (CH$_4$)    -0.16537   -0.157522 -0.00394258    0.273463   \n",
       "     Aerosols            0.469746    0.477843    0.326467  -0.0159913   \n",
       "     Ozone (O$_3$)      -0.142237   -0.140711  -0.0413979    0.238084   \n",
       "     HFCs              -0.0041241 -0.00179275    0.057409   0.0970282   \n",
       "     BC on snow         -0.043832  -0.0416578  -0.0397088  0.00784892   \n",
       "\n",
       "                      ssp370-lowNTCF\\n-aerchemmip      ssp585  \n",
       "                                                               \n",
       "2040 Methane (CH$_4$)                   0.0736096   0.0596293  \n",
       "     Aerosols                            0.106629    0.123224  \n",
       "     Ozone (O$_3$)                      0.0281785   0.0437352  \n",
       "     HFCs                               0.0267792   0.0425932  \n",
       "     BC on snow                       -0.00683741 -0.00285113  \n",
       "2100 Methane (CH$_4$)                    0.273463    0.144593  \n",
       "     Aerosols                            0.330153    0.264415  \n",
       "     Ozone (O$_3$)                       0.161022   0.0537004  \n",
       "     HFCs                               0.0970282    0.223619  \n",
       "     BC on snow                        -0.0323559  -0.0342643  "
      ]
     },
     "execution_count": 336,
     "metadata": {},
     "output_type": "execute_result"
    }
   ],
   "source": [
    "tabel_dT_slcfs2"
   ]
  },
  {
   "cell_type": "markdown",
   "metadata": {},
   "source": [
    "- Include BC in aerosol total. \n",
    "- aaarggh, sorry, a last request, maybe one version with also SSP370lowNTC with and without CH4 decrease (as it was in SOD) and one without and we will see later which one we choose depending on the discussion which will remain in the TS.\n",
    "- net values. Send. \n",
    "- include total in black. "
   ]
  },
  {
   "cell_type": "code",
   "execution_count": 337,
   "metadata": {
    "lines_to_next_cell": 0
   },
   "outputs": [
    {
     "name": "stdout",
     "output_type": "stream",
     "text": [
      "[[0.20218131 0.20117464 0.15290508 0.14377928 0.18794679 0.21496959]\n",
      " [0.30852033 0.31669566 0.22737163 0.20384662 0.26776781 0.32632138]]\n",
      "                  ssp119    ssp126    ssp245    ssp370  \\\n",
      "                                                         \n",
      "Scenario total  0.401901  0.511234  0.589496  0.678179   \n",
      "\n",
      "               ssp370-lowNTCF\\n-aerchemmip    ssp585  \n",
      "                                                      \n",
      "Scenario total                    0.768473  0.833246  \n",
      "[[0.26065657 0.32168067 0.52513442 0.73537357 0.84312816 1.01760648]\n",
      " [0.46676905 0.58898393 0.93841089 1.11617313 1.40092139 1.64423169]]\n",
      "                  ssp119    ssp126   ssp245  ssp370  \\\n",
      "                                                      \n",
      "Scenario total  0.116473  0.545479  1.75446  3.1625   \n",
      "\n",
      "               ssp370-lowNTCF\\n-aerchemmip   ssp585  \n",
      "                                                     \n",
      "Scenario total                      3.3804  4.10616  \n"
     ]
    },
    {
     "data": {
      "image/png": "[encoded data removed]",
      "text/plain": [
       "<Figure size 720x316.8 with 2 Axes>"
      ]
     },
     "metadata": {
      "needs_background": "light"
     },
     "output_type": "display_data"
    }
   ],
   "source": [
    "from matplotlib.ticker import (MultipleLocator)\n",
    "\n",
    "fig, axs = plt.subplots(1, len(years), figsize=[10, 4.4], sharex=False, sharey=True)\n",
    "plt_stacked(fig, axs, tabel_dT_anthrop2, tabel_dT_sum_slcf2,tabel_dT_slcfs2,tabel_dT_anthrop2_5th,\n",
    "            tabel_dT_anthrop2_95th, tabel_dT_sum_slcf2_5, tabel_dT_sum_slcf2_95)\n",
    "\n",
    "fix_axs(axs)\n",
    "fn = FIGURE_DIR / 'stack_bar_influence_years_one_lowNTCF.png'\n",
    "plt.tight_layout()\n",
    "ax = plt.gca()\n",
    "\n",
    "plt.savefig(fn, dpi=300)\n",
    "plt.savefig(fn.with_suffix('.pdf'), dpi=300)\n",
    "\n",
    "plt.show()"
   ]
  },
  {
   "cell_type": "code",
   "execution_count": null,
   "metadata": {},
   "outputs": [],
   "source": [
    "\n"
   ]
  },
  {
   "cell_type": "code",
   "execution_count": 338,
   "metadata": {
    "lines_to_next_cell": 0
   },
   "outputs": [],
   "source": [
    "#tabel_dT_anthrop2 = tabel_dT_anthrop[scen_no_lowNTCF]\n",
    "#tabel_dT_slcfs2 = tabel_dT_slcfs[scen_no_lowNTCF]\n",
    "\n",
    "\n",
    "subset_scenarios = list(pd.Series(scen_no_lowNTCF).replace(rn_dic_scen))"
   ]
  },
  {
   "cell_type": "code",
   "execution_count": 339,
   "metadata": {},
   "outputs": [],
   "source": [
    "tabel_dT_anthrop2 = tabel_dT_anthrop[subset_scenarios]\n",
    "tabel_dT_slcfs2 = tabel_dT_slcfs[subset_scenarios]\n",
    "tabel_dT_sum_slcf2 = tabel_dT_sum_slcf[subset_scenarios]\n",
    "tabel_dT_anthrop2_5th = tabel_dT_anthrop_5th[subset_scenarios]\n",
    "tabel_dT_anthrop2_95th = tabel_dT_anthrop_95th[subset_scenarios]\n",
    "tabel_dT_slcfs2_5th = tabel_dT_slcfs_5th[subset_scenarios]\n",
    "tabel_dT_slcfs2_95th = tabel_dT_slcfs_95th[subset_scenarios]\n",
    "tabel_dT_sum_slcf2_5 = tabel_dT_sum_slcf_5[subset_scenarios]\n",
    "tabel_dT_sum_slcf2_95 = tabel_dT_sum_slcf_95[subset_scenarios]"
   ]
  },
  {
   "cell_type": "code",
   "execution_count": 340,
   "metadata": {},
   "outputs": [
    {
     "data": {
      "text/html": [
       "<div>\n",
       "<style scoped>\n",
       "    .dataframe tbody tr th:only-of-type {\n",
       "        vertical-align: middle;\n",
       "    }\n",
       "\n",
       "    .dataframe tbody tr th {\n",
       "        vertical-align: top;\n",
       "    }\n",
       "\n",
       "    .dataframe thead th {\n",
       "        text-align: right;\n",
       "    }\n",
       "</style>\n",
       "<table border=\"1\" class=\"dataframe\">\n",
       "  <thead>\n",
       "    <tr style=\"text-align: right;\">\n",
       "      <th></th>\n",
       "      <th></th>\n",
       "      <th>ssp119</th>\n",
       "      <th>ssp126</th>\n",
       "      <th>ssp245</th>\n",
       "      <th>ssp370</th>\n",
       "      <th>ssp585</th>\n",
       "    </tr>\n",
       "    <tr>\n",
       "      <th></th>\n",
       "      <th></th>\n",
       "      <th></th>\n",
       "      <th></th>\n",
       "      <th></th>\n",
       "      <th></th>\n",
       "      <th></th>\n",
       "    </tr>\n",
       "  </thead>\n",
       "  <tbody>\n",
       "    <tr>\n",
       "      <th rowspan=\"5\" valign=\"top\">2040</th>\n",
       "      <th>Methane (CH$_4$)</th>\n",
       "      <td>-0.0348115</td>\n",
       "      <td>-0.0226653</td>\n",
       "      <td>0.0394332</td>\n",
       "      <td>0.0736096</td>\n",
       "      <td>0.0596293</td>\n",
       "    </tr>\n",
       "    <tr>\n",
       "      <th>Aerosols</th>\n",
       "      <td>0.305727</td>\n",
       "      <td>0.256158</td>\n",
       "      <td>0.0571758</td>\n",
       "      <td>-0.0493196</td>\n",
       "      <td>0.123224</td>\n",
       "    </tr>\n",
       "    <tr>\n",
       "      <th>Ozone (O$_3$)</th>\n",
       "      <td>-0.0767619</td>\n",
       "      <td>-0.0532542</td>\n",
       "      <td>0.0199406</td>\n",
       "      <td>0.0720428</td>\n",
       "      <td>0.0437352</td>\n",
       "    </tr>\n",
       "    <tr>\n",
       "      <th>HFCs</th>\n",
       "      <td>0.00554347</td>\n",
       "      <td>0.0172801</td>\n",
       "      <td>0.0286784</td>\n",
       "      <td>0.0267792</td>\n",
       "      <td>0.0425932</td>\n",
       "    </tr>\n",
       "    <tr>\n",
       "      <th>BC on snow</th>\n",
       "      <td>-0.030288</td>\n",
       "      <td>-0.0255414</td>\n",
       "      <td>-0.00607383</td>\n",
       "      <td>0.0149975</td>\n",
       "      <td>-0.00285113</td>\n",
       "    </tr>\n",
       "    <tr>\n",
       "      <th rowspan=\"5\" valign=\"top\">2100</th>\n",
       "      <th>Methane (CH$_4$)</th>\n",
       "      <td>-0.16537</td>\n",
       "      <td>-0.157522</td>\n",
       "      <td>-0.00394258</td>\n",
       "      <td>0.273463</td>\n",
       "      <td>0.144593</td>\n",
       "    </tr>\n",
       "    <tr>\n",
       "      <th>Aerosols</th>\n",
       "      <td>0.469746</td>\n",
       "      <td>0.477843</td>\n",
       "      <td>0.326467</td>\n",
       "      <td>-0.0159913</td>\n",
       "      <td>0.264415</td>\n",
       "    </tr>\n",
       "    <tr>\n",
       "      <th>Ozone (O$_3$)</th>\n",
       "      <td>-0.142237</td>\n",
       "      <td>-0.140711</td>\n",
       "      <td>-0.0413979</td>\n",
       "      <td>0.238084</td>\n",
       "      <td>0.0537004</td>\n",
       "    </tr>\n",
       "    <tr>\n",
       "      <th>HFCs</th>\n",
       "      <td>-0.0041241</td>\n",
       "      <td>-0.00179275</td>\n",
       "      <td>0.057409</td>\n",
       "      <td>0.0970282</td>\n",
       "      <td>0.223619</td>\n",
       "    </tr>\n",
       "    <tr>\n",
       "      <th>BC on snow</th>\n",
       "      <td>-0.043832</td>\n",
       "      <td>-0.0416578</td>\n",
       "      <td>-0.0397088</td>\n",
       "      <td>0.00784892</td>\n",
       "      <td>-0.0342643</td>\n",
       "    </tr>\n",
       "  </tbody>\n",
       "</table>\n",
       "</div>"
      ],
      "text/plain": [
       "                           ssp119      ssp126      ssp245      ssp370  \\\n",
       "                                                                        \n",
       "2040 Methane (CH$_4$)  -0.0348115  -0.0226653   0.0394332   0.0736096   \n",
       "     Aerosols            0.305727    0.256158   0.0571758  -0.0493196   \n",
       "     Ozone (O$_3$)     -0.0767619  -0.0532542   0.0199406   0.0720428   \n",
       "     HFCs              0.00554347   0.0172801   0.0286784   0.0267792   \n",
       "     BC on snow         -0.030288  -0.0255414 -0.00607383   0.0149975   \n",
       "2100 Methane (CH$_4$)    -0.16537   -0.157522 -0.00394258    0.273463   \n",
       "     Aerosols            0.469746    0.477843    0.326467  -0.0159913   \n",
       "     Ozone (O$_3$)      -0.142237   -0.140711  -0.0413979    0.238084   \n",
       "     HFCs              -0.0041241 -0.00179275    0.057409   0.0970282   \n",
       "     BC on snow         -0.043832  -0.0416578  -0.0397088  0.00784892   \n",
       "\n",
       "                           ssp585  \n",
       "                                   \n",
       "2040 Methane (CH$_4$)   0.0596293  \n",
       "     Aerosols            0.123224  \n",
       "     Ozone (O$_3$)      0.0437352  \n",
       "     HFCs               0.0425932  \n",
       "     BC on snow       -0.00285113  \n",
       "2100 Methane (CH$_4$)    0.144593  \n",
       "     Aerosols            0.264415  \n",
       "     Ozone (O$_3$)      0.0537004  \n",
       "     HFCs                0.223619  \n",
       "     BC on snow        -0.0342643  "
      ]
     },
     "execution_count": 340,
     "metadata": {},
     "output_type": "execute_result"
    }
   ],
   "source": [
    "tabel_dT_slcfs2"
   ]
  },
  {
   "cell_type": "code",
   "execution_count": 341,
   "metadata": {},
   "outputs": [
    {
     "name": "stdout",
     "output_type": "stream",
     "text": [
      "[[0.20218131 0.20117464 0.15290508 0.14377928 0.21496959]\n",
      " [0.30852033 0.31669566 0.22737163 0.20384662 0.32632138]]\n",
      "                  ssp119    ssp126    ssp245    ssp370    ssp585\n",
      "                                                                \n",
      "Scenario total  0.401901  0.511234  0.589496  0.678179  0.833246\n",
      "[[0.26065657 0.32168067 0.52513442 0.73537357 1.01760648]\n",
      " [0.46676905 0.58898393 0.93841089 1.11617313 1.64423169]]\n",
      "                  ssp119    ssp126   ssp245  ssp370   ssp585\n",
      "                                                            \n",
      "Scenario total  0.116473  0.545479  1.75446  3.1625  4.10616\n"
     ]
    },
    {
     "data": {
      "image/png": "[encoded data removed]",
      "text/plain": [
       "<Figure size 720x273.6 with 2 Axes>"
      ]
     },
     "metadata": {
      "needs_background": "light"
     },
     "output_type": "display_data"
    }
   ],
   "source": [
    "from matplotlib.ticker import (MultipleLocator)\n",
    "\n",
    "fig, axs = plt.subplots(1, len(years), figsize=[10, 3.8], sharex=False, sharey=True)\n",
    "plt_stacked(fig, axs, tabel_dT_anthrop2, tabel_dT_sum_slcf2,tabel_dT_slcfs2,tabel_dT_anthrop2_5th,\n",
    "            tabel_dT_anthrop2_95th, tabel_dT_sum_slcf2_5, tabel_dT_sum_slcf2_95)\n",
    "\n",
    "fix_axs(axs)\n",
    "\n",
    "fn = FIGURE_DIR / 'stack_bar_influence_years_no_lowNTCF.png'\n",
    "plt.tight_layout()\n",
    "ax = plt.gca()\n",
    "\n",
    "plt.savefig(fn, dpi=300)\n",
    "plt.savefig(fn.with_suffix('.pdf'), dpi=300)"
   ]
  },
  {
   "cell_type": "code",
   "execution_count": 354,
   "metadata": {
    "lines_to_next_cell": 0
   },
   "outputs": [],
   "source": [
    "#tabel_dT_anthrop2 = tabel_dT_anthrop[scen_no_lowNTCF]\n",
    "#tabel_dT_slcfs2 = tabel_dT_slcfs[scen_no_lowNTCF]\n",
    "\n",
    "scenario_370 = [sc for sc in scenarios_fl if 'ssp370' in sc]\n",
    "subset_scenarios = list(pd.Series(scenario_370).replace(rn_dic_scen))"
   ]
  },
  {
   "cell_type": "code",
   "execution_count": 355,
   "metadata": {},
   "outputs": [],
   "source": [
    "tabel_dT_anthrop2 = tabel_dT_anthrop[subset_scenarios]\n",
    "tabel_dT_slcfs2 = tabel_dT_slcfs[subset_scenarios]\n",
    "tabel_dT_sum_slcf2 = tabel_dT_sum_slcf[subset_scenarios]\n",
    "tabel_dT_anthrop2_5th = tabel_dT_anthrop_5th[subset_scenarios]\n",
    "tabel_dT_anthrop2_95th = tabel_dT_anthrop_95th[subset_scenarios]\n",
    "tabel_dT_slcfs2_5th = tabel_dT_slcfs_5th[subset_scenarios]\n",
    "tabel_dT_slcfs2_95th = tabel_dT_slcfs_95th[subset_scenarios]\n",
    "tabel_dT_sum_slcf2_5 = tabel_dT_sum_slcf_5[subset_scenarios]\n",
    "tabel_dT_sum_slcf2_95 = tabel_dT_sum_slcf_95[subset_scenarios]"
   ]
  },
  {
   "cell_type": "code",
   "execution_count": 356,
   "metadata": {},
   "outputs": [
    {
     "name": "stdout",
     "output_type": "stream",
     "text": [
      "[[0.14377928 0.18794679 0.15942176]\n",
      " [0.20384662 0.26776781 0.24186698]]\n",
      "                  ssp370 ssp370-lowNTCF\\n-aerchemmip ssp370-lowNTCF\\n-gidden\n",
      "                                                                            \n",
      "Scenario total  0.678179                    0.768473                0.577828\n",
      "[[0.73537357 0.84312816 0.71436096]\n",
      " [1.11617313 1.40092139 1.16127203]]\n",
      "                ssp370 ssp370-lowNTCF\\n-aerchemmip ssp370-lowNTCF\\n-gidden\n",
      "                                                                          \n",
      "Scenario total  3.1625                      3.3804                 2.65616\n"
     ]
    },
    {
     "data": {
      "image/png": "[encoded data removed]",
      "text/plain": [
       "<Figure size 720x180 with 2 Axes>"
      ]
     },
     "metadata": {
      "needs_background": "light"
     },
     "output_type": "display_data"
    }
   ],
   "source": [
    "from matplotlib.ticker import (MultipleLocator)\n",
    "fig, axs = plt.subplots(1, len(years), figsize=[10, 2.5], sharex=False, sharey=True)\n",
    "\n",
    "plt_stacked(fig, axs, tabel_dT_anthrop2, tabel_dT_sum_slcf2,tabel_dT_slcfs2,tabel_dT_anthrop2_5th,\n",
    "            tabel_dT_anthrop2_95th, tabel_dT_sum_slcf2_5, tabel_dT_sum_slcf2_95)\n",
    "\n",
    "fix_axs(axs)\n",
    "\n",
    "fn = FIGURE_DIR / 'stack_bar_influence_years_horiz_errTot_370only.png'\n",
    "\n",
    "plt.tight_layout()\n",
    "ax = plt.gca()\n",
    "\n",
    "plt.savefig(fn, dpi=300)\n",
    "plt.savefig(fn.with_suffix('.pdf'), dpi=300)"
   ]
  },
  {
   "cell_type": "code",
   "execution_count": 342,
   "metadata": {},
   "outputs": [
    {
     "data": {
      "text/plain": [
       "['ch4', 'aerosol-total', 'o3', 'HFCs', 'bc_on_snow']"
      ]
     },
     "execution_count": 342,
     "metadata": {},
     "output_type": "execute_result"
    }
   ],
   "source": [
    "variables_erf_comp"
   ]
  },
  {
   "cell_type": "code",
   "execution_count": 343,
   "metadata": {},
   "outputs": [],
   "source": [
    "variables_erf_comp_nbc = ['ch4', 'aerosol-total-with_bc', 'o3', 'HFCs']"
   ]
  },
  {
   "cell_type": "code",
   "execution_count": 344,
   "metadata": {},
   "outputs": [],
   "source": [
    "tabel_dT_slcfs2 = table_of_sts(ds_DT, scenarios_fl, variables_erf_comp_nbc, variables_erf_comp_nbc, years,\n",
    "                               ref_year)\n",
    "tabel_dT_slcfs2 = tabel_dT_slcfs2.rename(nice_name_var_dic)\n",
    "tabel_dT_slcfs2 = tabel_dT_slcfs2[scen_no_lowNTCF]"
   ]
  },
  {
   "cell_type": "code",
   "execution_count": 345,
   "metadata": {},
   "outputs": [
    {
     "data": {
      "text/html": [
       "<div>\n",
       "<style scoped>\n",
       "    .dataframe tbody tr th:only-of-type {\n",
       "        vertical-align: middle;\n",
       "    }\n",
       "\n",
       "    .dataframe tbody tr th {\n",
       "        vertical-align: top;\n",
       "    }\n",
       "\n",
       "    .dataframe thead th {\n",
       "        text-align: right;\n",
       "    }\n",
       "</style>\n",
       "<table border=\"1\" class=\"dataframe\">\n",
       "  <thead>\n",
       "    <tr style=\"text-align: right;\">\n",
       "      <th></th>\n",
       "      <th></th>\n",
       "      <th>ssp119</th>\n",
       "      <th>ssp126</th>\n",
       "      <th>ssp245</th>\n",
       "      <th>ssp370</th>\n",
       "      <th>ssp585</th>\n",
       "    </tr>\n",
       "    <tr>\n",
       "      <th></th>\n",
       "      <th></th>\n",
       "      <th></th>\n",
       "      <th></th>\n",
       "      <th></th>\n",
       "      <th></th>\n",
       "      <th></th>\n",
       "    </tr>\n",
       "  </thead>\n",
       "  <tbody>\n",
       "    <tr>\n",
       "      <th rowspan=\"4\" valign=\"top\">2040</th>\n",
       "      <th>Methane (CH$_4$)</th>\n",
       "      <td>-0.0348115</td>\n",
       "      <td>-0.0226653</td>\n",
       "      <td>0.0394332</td>\n",
       "      <td>0.0736096</td>\n",
       "      <td>0.0596293</td>\n",
       "    </tr>\n",
       "    <tr>\n",
       "      <th>Aerosols (incl BC)</th>\n",
       "      <td>0.275439</td>\n",
       "      <td>0.230617</td>\n",
       "      <td>0.051102</td>\n",
       "      <td>-0.0343221</td>\n",
       "      <td>0.120373</td>\n",
       "    </tr>\n",
       "    <tr>\n",
       "      <th>Ozone (O$_3$)</th>\n",
       "      <td>-0.0767619</td>\n",
       "      <td>-0.0532542</td>\n",
       "      <td>0.0199406</td>\n",
       "      <td>0.0720428</td>\n",
       "      <td>0.0437352</td>\n",
       "    </tr>\n",
       "    <tr>\n",
       "      <th>HFCs</th>\n",
       "      <td>0.00554347</td>\n",
       "      <td>0.0172801</td>\n",
       "      <td>0.0286784</td>\n",
       "      <td>0.0267792</td>\n",
       "      <td>0.0425932</td>\n",
       "    </tr>\n",
       "    <tr>\n",
       "      <th rowspan=\"4\" valign=\"top\">2100</th>\n",
       "      <th>Methane (CH$_4$)</th>\n",
       "      <td>-0.16537</td>\n",
       "      <td>-0.157522</td>\n",
       "      <td>-0.00394258</td>\n",
       "      <td>0.273463</td>\n",
       "      <td>0.144593</td>\n",
       "    </tr>\n",
       "    <tr>\n",
       "      <th>Aerosols (incl BC)</th>\n",
       "      <td>0.425914</td>\n",
       "      <td>0.436185</td>\n",
       "      <td>0.286758</td>\n",
       "      <td>-0.00814241</td>\n",
       "      <td>0.23015</td>\n",
       "    </tr>\n",
       "    <tr>\n",
       "      <th>Ozone (O$_3$)</th>\n",
       "      <td>-0.142237</td>\n",
       "      <td>-0.140711</td>\n",
       "      <td>-0.0413979</td>\n",
       "      <td>0.238084</td>\n",
       "      <td>0.0537004</td>\n",
       "    </tr>\n",
       "    <tr>\n",
       "      <th>HFCs</th>\n",
       "      <td>-0.0041241</td>\n",
       "      <td>-0.00179275</td>\n",
       "      <td>0.057409</td>\n",
       "      <td>0.0970282</td>\n",
       "      <td>0.223619</td>\n",
       "    </tr>\n",
       "  </tbody>\n",
       "</table>\n",
       "</div>"
      ],
      "text/plain": [
       "                             ssp119      ssp126      ssp245      ssp370  \\\n",
       "                                                                          \n",
       "2040 Methane (CH$_4$)    -0.0348115  -0.0226653   0.0394332   0.0736096   \n",
       "     Aerosols (incl BC)    0.275439    0.230617    0.051102  -0.0343221   \n",
       "     Ozone (O$_3$)       -0.0767619  -0.0532542   0.0199406   0.0720428   \n",
       "     HFCs                0.00554347   0.0172801   0.0286784   0.0267792   \n",
       "2100 Methane (CH$_4$)      -0.16537   -0.157522 -0.00394258    0.273463   \n",
       "     Aerosols (incl BC)    0.425914    0.436185    0.286758 -0.00814241   \n",
       "     Ozone (O$_3$)        -0.142237   -0.140711  -0.0413979    0.238084   \n",
       "     HFCs                -0.0041241 -0.00179275    0.057409   0.0970282   \n",
       "\n",
       "                            ssp585  \n",
       "                                    \n",
       "2040 Methane (CH$_4$)    0.0596293  \n",
       "     Aerosols (incl BC)   0.120373  \n",
       "     Ozone (O$_3$)       0.0437352  \n",
       "     HFCs                0.0425932  \n",
       "2100 Methane (CH$_4$)     0.144593  \n",
       "     Aerosols (incl BC)    0.23015  \n",
       "     Ozone (O$_3$)       0.0537004  \n",
       "     HFCs                 0.223619  "
      ]
     },
     "execution_count": 345,
     "metadata": {},
     "output_type": "execute_result"
    }
   ],
   "source": [
    "tabel_dT_slcfs2"
   ]
  },
  {
   "cell_type": "code",
   "execution_count": 346,
   "metadata": {
    "lines_to_next_cell": 0
   },
   "outputs": [
    {
     "data": {
      "image/png": "[encoded data removed]",
      "text/plain": [
       "<Figure size 720x244.8 with 2 Axes>"
      ]
     },
     "metadata": {
      "needs_background": "light"
     },
     "output_type": "display_data"
    }
   ],
   "source": [
    "from matplotlib.ticker import (MultipleLocator)\n",
    "\n",
    "fig, axs = plt.subplots(1, len(years), figsize=[10, 3.4], sharex=False, sharey=True)\n",
    "tits = ['Near Term surface temperature change (2040 relative to 2020)',\n",
    "        'Long Term surface T change 2100 relatie to 2020)']\n",
    "tits = ['Change in GSAT in 2040 relative to 2020', 'Change in GSAT in 2100 relative to 2020']\n",
    "for yr, ax, tit in zip(years, axs, tits):\n",
    "    scenario_tot = 'Scenario total'\n",
    "    # Pick out year and do various renames:\n",
    "    # Total antropogenic\n",
    "    tot_yr = tabel_dT_anthrop2.loc[yr].rename(\n",
    "        {'Total': scenario_tot, 'ssp370-lowNTCF-aerchemmip': 'ssp370-lowNTCF\\n-aerchemmip'})\n",
    "    # Sum SLCFs\n",
    "    sum_yr = tabel_dT_sum_slcf.loc[yr].rename(\n",
    "        {'Total': scenario_tot, 'ssp370-lowNTCF-aerchemmip': 'ssp370-lowNTCF\\n-aerchemmip'})\n",
    "    # Plot bars for anthropopogenic total:\n",
    "    ax.barh(tot_yr.transpose().index, tot_yr.transpose()[scenario_tot].values, color='k', label='Scenario total',\n",
    "            alpha=.2,\n",
    "            )\n",
    "    # Plot bars for SLCFs total:\n",
    "    scenario_tot = 'Sum SLCFs'\n",
    "    s_x = sum_yr.transpose().index\n",
    "    s_y = sum_yr.transpose()[scenario_tot].values\n",
    "\n",
    "    # Plot stacked plot of components:\n",
    "    _tab = tabel_dT_slcfs2.loc[yr].transpose().rename({'ssp370-lowNTCF-aerchemmip': 'ssp370-lowNTCF\\n-aerchemmip'})\n",
    "    _tab = _tab.rename(nice_name_var_dic)\n",
    "    a = _tab.plot(kind='barh', stacked=True, ax=ax, color=ls, legend=(yr != '2040'))  # , grid=True)#stac)\n",
    "    _t = _tab.sum(axis=1)  # , c=100)#.plot(kind='barh', )\n",
    "    # ax.scatter(_t, _t.index, zorder=100, c='w', marker='d')\n",
    "    ax.scatter(_t, list(_t.reset_index().index), zorder=10, c='w', marker='d')\n",
    "\n",
    "    # a = _tab.plot(kind='barh', stacked=True, ax=ax, color=ls, legend=(yr != '2040'))  # , grid=True)#stac)\n",
    "    if not yr == '2040':\n",
    "        ax.legend(frameon=False, ncol=1)  # [l],labels=['Sce!!nario total'], loc = 4)#'lower right')\n",
    "    # Zero line:\n",
    "    ax.axvline(0, linestyle='--', color='k', alpha=0.4)\n",
    "    ax.set_title(tit)\n",
    "    ax.set_xlabel('$\\Delta$ GSAT ($^\\circ$C)')\n",
    "    ax.xaxis.set_minor_locator(MultipleLocator(.1))\n",
    "    # ax.grid(axis='y', which='major')\n",
    "\n",
    "ax = axs[0]\n",
    "\n",
    "ax.spines['right'].set_visible(False)\n",
    "ax.spines['top'].set_visible(False)\n",
    "ax.spines['left'].set_visible(False)\n",
    "ax.tick_params(right=False, left=False)  # , color='w')\n",
    "\n",
    "ax = axs[1]\n",
    "ax.spines['right'].set_visible(False)\n",
    "ax.spines['top'].set_visible(False)\n",
    "ax.spines['left'].set_visible(False)\n",
    "ax.tick_params(labelleft=False, right=False, left=False, color='w')\n",
    "ax.tick_params(labelright=False, labelleft=False, right=False, left=False, color='w')\n",
    "ax.yaxis.set_visible(False)\n",
    "plt.tight_layout()\n",
    "\n",
    "fn = FIGURE_DIR / 'stack_bar_influence_years_no_lowNTCF_noBC.png'\n",
    "plt.tight_layout()\n",
    "ax = plt.gca()\n",
    "\n",
    "plt.savefig(fn, dpi=300)\n",
    "plt.savefig(fn.with_suffix('.pdf'), dpi=300)\n",
    "plt.show()"
   ]
  },
  {
   "cell_type": "code",
   "execution_count": 347,
   "metadata": {},
   "outputs": [],
   "source": [
    "subset_scen_fl = list(pd.Series(scenarios_fl_oneNTCF).replace(rn_dic_scen))\n",
    "tabel_dT_slcfs2 = table_of_sts(ds_DT, scenarios_fl_oneNTCF, variables_erf_comp_nbc, variables_erf_comp_nbc, years,\n",
    "                               ref_year)\n",
    "tabel_dT_slcfs2 = tabel_dT_slcfs2.rename(nice_name_var_dic)\n",
    "tabel_dT_slcfs2 = tabel_dT_slcfs2[subset_scen_fl]\n",
    "tabel_dT_anthrop2 = tabel_dT_anthrop[subset_scen_fl]"
   ]
  },
  {
   "cell_type": "code",
   "execution_count": 348,
   "metadata": {},
   "outputs": [
    {
     "name": "stdout",
     "output_type": "stream",
     "text": [
      "ssp119                         0.169409\n",
      "ssp126                         0.171978\n",
      "ssp245                         0.139154\n",
      "ssp370                         0.138109\n",
      "ssp370-lowNTCF\\n-aerchemmip    0.228359\n",
      "ssp585                         0.266331\n",
      "dtype: float64\n",
      "ssp119                         0.114183\n",
      "ssp126                         0.136160\n",
      "ssp245                         0.298827\n",
      "ssp370                         0.600433\n",
      "ssp370-lowNTCF\\n-aerchemmip    0.829311\n",
      "ssp585                         0.652062\n",
      "dtype: float64\n"
     ]
    },
    {
     "data": {
      "image/png": "[encoded data removed]",
      "text/plain": [
       "<Figure size 720x295.2 with 2 Axes>"
      ]
     },
     "metadata": {
      "needs_background": "light"
     },
     "output_type": "display_data"
    }
   ],
   "source": [
    "from matplotlib.ticker import (MultipleLocator)\n",
    "\n",
    "fig, axs = plt.subplots(1, len(years), figsize=[10, 4.1], sharex=False, sharey=True)\n",
    "tits = ['Near Term surface temperature change (2040 relative to 2020)',\n",
    "        'Long Term surface T change 2100 relatie to 2020)']\n",
    "tits = ['Change in GSAT in 2040 relative to 2020', 'Change in GSAT in 2100 relative to 2020']\n",
    "for yr, ax, tit in zip(years, axs, tits):\n",
    "    scenario_tot = 'Scenario total'\n",
    "    # Pick out year and do various renames:\n",
    "    # Total antropogenic\n",
    "    tot_yr = tabel_dT_anthrop2.loc[yr].rename(\n",
    "        {'Total': scenario_tot, 'ssp370-lowNTCF-aerchemmip': 'ssp370-lowNTCF\\n-aerchemmip'})\n",
    "    # Sum SLCFs\n",
    "    sum_yr = tabel_dT_sum_slcf.loc[yr].rename(\n",
    "        {'Total': scenario_tot, 'ssp370-lowNTCF-aerchemmip': 'ssp370-lowNTCF\\n-aerchemmip'})\n",
    "    # Plot bars for anthropopogenic total:\n",
    "    ax.barh(tot_yr.transpose().index, tot_yr.transpose()[scenario_tot].values, color='k', label='Scenario total',\n",
    "            alpha=.2,\n",
    "            )\n",
    "    # Plot bars for SLCFs total:\n",
    "    scenario_tot = 'Sum SLCFs'\n",
    "    s_x = sum_yr.transpose().index\n",
    "    s_y = sum_yr.transpose()[scenario_tot].values\n",
    "\n",
    "    # Plot stacked plot of components:\n",
    "    _tab = tabel_dT_slcfs2.loc[yr].transpose().rename({'ssp370-lowNTCF-aerchemmip': 'ssp370-lowNTCF\\n-aerchemmip'})\n",
    "    _tab = _tab.rename(nice_name_var_dic)\n",
    "    a = _tab.plot(kind='barh', stacked=True, ax=ax, color=ls, legend=(yr != '2040'))  # , grid=True)#stac)\n",
    "    _t = _tab.sum(axis=1)  # , c=100)#.plot(kind='barh', )\n",
    "    ax.scatter(_t, list(_t.reset_index().index), zorder=10, c='w', marker='d')\n",
    "    print(_t)\n",
    "    # a = _tab.plot(kind='barh', stacked=True, ax=ax, color=ls, legend=(yr != '2040'))  # , grid=True)#stac)\n",
    "    if not yr == '2040':\n",
    "        ax.legend(frameon=False, ncol=1)  # [l],labels=['Sce!!nario total'], loc = 4)#'lower right')\n",
    "    # Zero line:\n",
    "    ax.axvline(0, linestyle='--', color='k', alpha=0.4)\n",
    "    ax.set_title(tit)\n",
    "    ax.set_xlabel('$\\Delta$ GSAT ($^\\circ$C)')\n",
    "    ax.xaxis.set_minor_locator(MultipleLocator(.1))\n",
    "    # ax.grid(axis='y', which='major')\n",
    "\n",
    "ax = axs[0]\n",
    "\n",
    "ax.spines['right'].set_visible(False)\n",
    "ax.spines['top'].set_visible(False)\n",
    "ax.spines['left'].set_visible(False)\n",
    "ax.tick_params(right=False, left=False)  # , color='w')\n",
    "\n",
    "ax = axs[1]\n",
    "ax.spines['right'].set_visible(False)\n",
    "ax.spines['top'].set_visible(False)\n",
    "ax.spines['left'].set_visible(False)\n",
    "ax.tick_params(labelleft=False, right=False, left=False, color='w')\n",
    "ax.tick_params(labelright=False, labelleft=False, right=False, left=False, color='w')\n",
    "ax.yaxis.set_visible(False)\n",
    "plt.tight_layout()\n",
    "\n",
    "fn = FIGURE_DIR / 'stack_bar_influence_years_one_lowNTCF_noBC.png'\n",
    "plt.tight_layout()\n",
    "ax = plt.gca()\n",
    "\n",
    "plt.savefig(fn, dpi=300)\n",
    "plt.savefig(fn.with_suffix('.pdf'), dpi=300)"
   ]
  },
  {
   "cell_type": "code",
   "execution_count": 350,
   "metadata": {},
   "outputs": [],
   "source": [
    "subset_scen_fl = list(pd.Series(scenarios_fl).replace(rn_dic_scen))\n",
    "tabel_dT_slcfs2 = table_of_sts(ds_DT, scenarios_fl, variables_erf_comp_nbc, variables_erf_comp_nbc, years,\n",
    "                               ref_year)\n",
    "tabel_dT_slcfs2 = tabel_dT_slcfs2.rename(nice_name_var_dic)\n",
    "tabel_dT_slcfs2 = tabel_dT_slcfs2[subset_scen_fl]\n",
    "tabel_dT_anthrop2 = tabel_dT_anthrop[subset_scen_fl]"
   ]
  },
  {
   "cell_type": "code",
   "execution_count": 351,
   "metadata": {},
   "outputs": [
    {
     "name": "stdout",
     "output_type": "stream",
     "text": [
      "ssp119                         0.169409\n",
      "ssp126                         0.171978\n",
      "ssp245                         0.139154\n",
      "ssp370                         0.138109\n",
      "ssp370-lowNTCF\\n-aerchemmip    0.228359\n",
      "ssp370-lowNTCF\\n-gidden        0.047244\n",
      "ssp585                         0.266331\n",
      "dtype: float64\n",
      "ssp119                         0.114183\n",
      "ssp126                         0.136160\n",
      "ssp245                         0.298827\n",
      "ssp370                         0.600433\n",
      "ssp370-lowNTCF\\n-aerchemmip    0.829311\n",
      "ssp370-lowNTCF\\n-gidden        0.161193\n",
      "ssp585                         0.652062\n",
      "dtype: float64\n"
     ]
    },
    {
     "data": {
      "image/png": "[encoded data removed]",
      "text/plain": [
       "<Figure size 720x324 with 2 Axes>"
      ]
     },
     "metadata": {
      "needs_background": "light"
     },
     "output_type": "display_data"
    }
   ],
   "source": [
    "from matplotlib.ticker import (MultipleLocator)\n",
    "\n",
    "fig, axs = plt.subplots(1, len(years), figsize=[10, 4.5], sharex=False, sharey=True)\n",
    "tits = ['Near Term surface temperature change (2040 relative to 2020)',\n",
    "        'Long Term surface T change 2100 relatie to 2020)']\n",
    "tits = ['Change in GSAT in 2040 relative to 2020', 'Change in GSAT in 2100 relative to 2020']\n",
    "for yr, ax, tit in zip(years, axs, tits):\n",
    "    scenario_tot = 'Scenario total'\n",
    "    # Pick out year and do various renames:\n",
    "    # Total antropogenic\n",
    "    tot_yr = tabel_dT_anthrop2.loc[yr].rename(\n",
    "        {'Total': scenario_tot, 'ssp370-lowNTCF-aerchemmip': 'ssp370-lowNTCF\\n-aerchemmip'})\n",
    "    # Sum SLCFs\n",
    "    sum_yr = tabel_dT_sum_slcf.loc[yr].rename(\n",
    "        {'Total': scenario_tot, 'ssp370-lowNTCF-aerchemmip': 'ssp370-lowNTCF\\n-aerchemmip'})\n",
    "    # Plot bars for anthropopogenic total:\n",
    "    ax.barh(tot_yr.transpose().index, tot_yr.transpose()[scenario_tot].values, color='k', label='Scenario total',\n",
    "            alpha=.2,\n",
    "            )\n",
    "    # Plot bars for SLCFs total:\n",
    "    scenario_tot = 'Sum SLCFs'\n",
    "    s_x = sum_yr.transpose().index\n",
    "    s_y = sum_yr.transpose()[scenario_tot].values\n",
    "\n",
    "    # Plot stacked plot of components:\n",
    "    _tab = tabel_dT_slcfs2.loc[yr].transpose().rename({'ssp370-lowNTCF-aerchemmip': 'ssp370-lowNTCF\\n-aerchemmip'})\n",
    "    _tab = _tab.rename(nice_name_var_dic)\n",
    "    a = _tab.plot(kind='barh', stacked=True, ax=ax, color=ls, legend=(yr != '2040'))  # , grid=True)#stac)\n",
    "    _t = _tab.sum(axis=1)  # , c=100)#.plot(kind='barh', )\n",
    "    ax.scatter(_t, list(_t.reset_index().index), zorder=10, c='w', marker='d')\n",
    "    print(_t)\n",
    "    # a = _tab.plot(kind='barh', stacked=True, ax=ax, color=ls, legend=(yr != '2040'))  # , grid=True)#stac)\n",
    "    if not yr == '2040':\n",
    "        ax.legend(frameon=False, ncol=1)  # [l],labels=['Sce!!nario total'], loc = 4)#'lower right')\n",
    "    # Zero line:\n",
    "    ax.axvline(0, linestyle='--', color='k', alpha=0.4)\n",
    "    ax.set_title(tit)\n",
    "    ax.set_xlabel('$\\Delta$ GSAT ($^\\circ$C)')\n",
    "    ax.xaxis.set_minor_locator(MultipleLocator(.1))\n",
    "    # ax.grid(axis='y', which='major')\n",
    "\n",
    "ax = axs[0]\n",
    "\n",
    "ax.spines['right'].set_visible(False)\n",
    "ax.spines['top'].set_visible(False)\n",
    "ax.spines['left'].set_visible(False)\n",
    "ax.tick_params(right=False, left=False)  # , color='w')\n",
    "\n",
    "ax = axs[1]\n",
    "ax.spines['right'].set_visible(False)\n",
    "ax.spines['top'].set_visible(False)\n",
    "ax.spines['left'].set_visible(False)\n",
    "ax.tick_params(labelleft=False, right=False, left=False, color='w')\n",
    "ax.tick_params(labelright=False, labelleft=False, right=False, left=False, color='w')\n",
    "ax.yaxis.set_visible(False)\n",
    "plt.tight_layout()\n",
    "\n",
    "fn = FIGURE_DIR / 'stack_bar_influence_years_all_lowNTCF_noBC.png'\n",
    "plt.tight_layout()\n",
    "ax = plt.gca()\n",
    "\n",
    "plt.savefig(fn, dpi=300)\n",
    "plt.savefig(fn.with_suffix('.pdf'), dpi=300)"
   ]
  },
  {
   "cell_type": "markdown",
   "metadata": {},
   "source": [
    "## Error bars from model uncertainty AND ECS uncertainty"
   ]
  },
  {
   "cell_type": "markdown",
   "metadata": {},
   "source": [
    "See [Uncertainty_calculation.ipynb](Uncertainty_calculation.ipynb)"
   ]
  },
  {
   "cell_type": "markdown",
   "metadata": {},
   "source": [
    "## Only ssp370:"
   ]
  },
  {
   "cell_type": "code",
   "execution_count": 352,
   "metadata": {},
   "outputs": [],
   "source": [
    "scenario_370 = [sc for sc in scenarios_fl if 'ssp370' in sc]"
   ]
  },
  {
   "cell_type": "code",
   "execution_count": null,
   "metadata": {},
   "outputs": [],
   "source": []
  },
  {
   "cell_type": "code",
   "execution_count": null,
   "metadata": {},
   "outputs": [],
   "source": []
  }
 ],
 "metadata": {
  "ipub": {
   "bibliography": "IPCC_terje.bib",
   "biboptions": [
    "super",
    "sort"
   ],
   "bibstyle": "unsrtnat"
  },
  "jupytext": {
   "encoding": "# -*- coding: utf-8 -*-",
   "text_representation": {
    "extension": ".py",
    "format_name": "percent",
    "format_version": "1.3",
    "jupytext_version": "1.3.3"
   }
  },
  "kernelspec": {
   "display_name": "Python 3",
   "language": "python",
   "name": "python3"
  },
  "language_info": {
   "codemirror_mode": {
    "name": "ipython",
    "version": 3
   },
   "file_extension": ".py",
   "mimetype": "text/x-python",
   "name": "python",
   "nbconvert_exporter": "python",
   "pygments_lexer": "ipython3",
   "version": "3.7.6"
  },
  "latex_metadata": {
   "author": "Sara Blichner, T. K. Berntsen",
   "bibliography": "IPCC_terje",
   "bibstyle": "plain",
   "title": "Comparison of temperature response for various climate gases"
  },
  "pycharm": {
   "stem_cell": {
    "cell_type": "raw",
    "metadata": {
     "collapsed": false
    },
    "source": []
   }
  }
 },
 "nbformat": 4,
 "nbformat_minor": 4
}
