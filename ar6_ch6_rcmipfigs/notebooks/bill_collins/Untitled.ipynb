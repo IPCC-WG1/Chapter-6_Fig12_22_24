{
 "cells": [
  {
   "cell_type": "markdown",
   "metadata": {},
   "source": [
    "### Sara lagt til:"
   ]
  },
  {
   "cell_type": "code",
   "execution_count": 154,
   "metadata": {},
   "outputs": [],
   "source": [
    "import pandas as pd"
   ]
  },
  {
   "cell_type": "code",
   "execution_count": 155,
   "metadata": {},
   "outputs": [],
   "source": [
    "\n",
    "import numpy as np\n",
    "import matplotlib.pyplot as plt\n",
    "from co2_forcing_AR6 import co2_forcing_AR6\n",
    "from ch4_forcing_AR6 import ch4_forcing_AR6\n",
    "#from n2o_forcing_AR6 import n2o_forcing_AR6"
   ]
  },
  {
   "cell_type": "markdown",
   "metadata": {},
   "source": [
    "## Hva er dette?"
   ]
  },
  {
   "cell_type": "code",
   "execution_count": 156,
   "metadata": {},
   "outputs": [],
   "source": [
    "# All from table 7.8\n",
    "co2_erf_AR6 = 2.16\n",
    "ch4_erf_AR6 = 0.54\n",
    "n2o_erf_AR6 = 0.21\n",
    "hc_erf_AR6 = 0.41\n",
    "o3_erf_AR6 = 0.47\n",
    "ari_erf_AR6 = -0.22\n",
    "aci_erf_AR6 = -0.84\n",
    "\n",
    "\n",
    "co2_1850 = 286.7 # LLGHG_history_AR6_v8a\n",
    "co2_2014 = 397.12\n",
    "ch4_1850 = 807.6 # LLGHG_history_AR6_v8a\n",
    "ch4_2014 = 1822.88 # \n",
    "n2o_1850 = 272.5 # LLGHG_history_AR6_v8a\n",
    "n2o_2014 = 327.37\n",
    "\n",
    "#Rapid adjustments to WMGHGs\n",
    "co2_ra = 0.05 # FGD\n",
    "ch4_ra = -0.14 # FGD\n",
    "n2o_ra = 0.07 # FGD"
   ]
  },
  {
   "cell_type": "markdown",
   "metadata": {},
   "source": [
    "\n",
    "## Hva er dette?"
   ]
  },
  {
   "cell_type": "code",
   "execution_count": 157,
   "metadata": {},
   "outputs": [],
   "source": [
    "tot_em_co2 = 582. # Cumulative C since 1850 - from MAGICC input files\n",
    "\n",
    "ch4_erf = ch4_forcing_AR6(ch4_2014, ch4_1850, n2o_1850)*(1+ch4_ra)\n",
    "#n2o_erf = n2o_forcing_AR6(n2o_2014, n2o_1850, co2_1850, ch4_1850)*(1+n2o_ra)\n",
    "hc_erf = 0.40 # 1850-2014 Interpolated between 2011 (0.39) and 2019 (0.41)"
   ]
  },
  {
   "cell_type": "code",
   "execution_count": 158,
   "metadata": {},
   "outputs": [],
   "source": [
    "erf_bc = 0.15 # Thornhill et al.\n",
    "irf_ari = -0.3 # AR6 FGD 1750-2014\n",
    "erf_aci = -1.0 # AR6 FGD 1750-2014"
   ]
  },
  {
   "cell_type": "code",
   "execution_count": 159,
   "metadata": {},
   "outputs": [],
   "source": [
    "ncols = 5 # columns in csv file\n",
    "nspec = 9 # number of species\n",
    "dtype = 'U12'+', f8'*ncols\n",
    "data = np.genfromtxt('attribution_input.csv', delimiter=',', filling_values=0,\n",
    "                        names=True, dtype=(dtype))\n",
    "data_sd = np.genfromtxt('attribution_input_sd.csv', delimiter=',', filling_values=0,\n",
    "                        names=True, dtype=(dtype))"
   ]
  },
  {
   "cell_type": "code",
   "execution_count": 160,
   "metadata": {},
   "outputs": [
    {
     "data": {
      "text/html": [
       "<div>\n",
       "<style scoped>\n",
       "    .dataframe tbody tr th:only-of-type {\n",
       "        vertical-align: middle;\n",
       "    }\n",
       "\n",
       "    .dataframe tbody tr th {\n",
       "        vertical-align: top;\n",
       "    }\n",
       "\n",
       "    .dataframe thead th {\n",
       "        text-align: right;\n",
       "    }\n",
       "</style>\n",
       "<table border=\"1\" class=\"dataframe\">\n",
       "  <thead>\n",
       "    <tr style=\"text-align: right;\">\n",
       "      <th></th>\n",
       "      <th>o3_rf</th>\n",
       "      <th>lifech4</th>\n",
       "      <th>erf</th>\n",
       "      <th>ari</th>\n",
       "      <th>ac</th>\n",
       "    </tr>\n",
       "    <tr>\n",
       "      <th># Experiment</th>\n",
       "      <th></th>\n",
       "      <th></th>\n",
       "      <th></th>\n",
       "      <th></th>\n",
       "      <th></th>\n",
       "    </tr>\n",
       "  </thead>\n",
       "  <tbody>\n",
       "    <tr>\n",
       "      <th>CH4</th>\n",
       "      <td>0.1393461</td>\n",
       "      <td>0.206666667</td>\n",
       "      <td>0.754322567</td>\n",
       "      <td>-0.0055</td>\n",
       "      <td>0.017625</td>\n",
       "    </tr>\n",
       "    <tr>\n",
       "      <th>N2O</th>\n",
       "      <td>0.03022398</td>\n",
       "      <td>-0.035</td>\n",
       "      <td>0.268515636</td>\n",
       "      <td>-0.004333333</td>\n",
       "      <td>0.040666667</td>\n",
       "    </tr>\n",
       "    <tr>\n",
       "      <th>HC</th>\n",
       "      <td>-0.11201344</td>\n",
       "      <td>-0.0494</td>\n",
       "      <td>0.178761561</td>\n",
       "      <td>-0.01675</td>\n",
       "      <td>-0.016666667</td>\n",
       "    </tr>\n",
       "    <tr>\n",
       "      <th>NOx</th>\n",
       "      <td>0.1988048</td>\n",
       "      <td>-0.343166667</td>\n",
       "      <td>0.139344038</td>\n",
       "      <td>-0.019</td>\n",
       "      <td>-0.013833333</td>\n",
       "    </tr>\n",
       "    <tr>\n",
       "      <th>VOC</th>\n",
       "      <td>0.109047333</td>\n",
       "      <td>0.164833333</td>\n",
       "      <td>0.090191971</td>\n",
       "      <td>-0.005333333</td>\n",
       "      <td>0.0085</td>\n",
       "    </tr>\n",
       "    <tr>\n",
       "      <th>SO2</th>\n",
       "      <td>0</td>\n",
       "      <td>0</td>\n",
       "      <td>-1.03125</td>\n",
       "      <td>-0.3625</td>\n",
       "      <td>-0.545714286</td>\n",
       "    </tr>\n",
       "    <tr>\n",
       "      <th>OC</th>\n",
       "      <td>0</td>\n",
       "      <td>0</td>\n",
       "      <td>-0.255714286</td>\n",
       "      <td>-0.09</td>\n",
       "      <td>-0.106166667</td>\n",
       "    </tr>\n",
       "    <tr>\n",
       "      <th>BC</th>\n",
       "      <td>0</td>\n",
       "      <td>0</td>\n",
       "      <td>0.14875</td>\n",
       "      <td>0.2775</td>\n",
       "      <td>-0.048571429</td>\n",
       "    </tr>\n",
       "    <tr>\n",
       "      <th>NH3</th>\n",
       "      <td>0</td>\n",
       "      <td>0</td>\n",
       "      <td>-0.07</td>\n",
       "      <td>0</td>\n",
       "      <td>0</td>\n",
       "    </tr>\n",
       "    <tr>\n",
       "      <th>Units</th>\n",
       "      <td>W/m2</td>\n",
       "      <td>fraction</td>\n",
       "      <td>W/m2</td>\n",
       "      <td>W/m2</td>\n",
       "      <td>W/m2</td>\n",
       "    </tr>\n",
       "  </tbody>\n",
       "</table>\n",
       "</div>"
      ],
      "text/plain": [
       "                    o3_rf       lifech4           erf           ari  \\\n",
       "# Experiment                                                          \n",
       "CH4             0.1393461   0.206666667   0.754322567       -0.0055   \n",
       "N2O            0.03022398        -0.035   0.268515636  -0.004333333   \n",
       "HC            -0.11201344       -0.0494   0.178761561      -0.01675   \n",
       "NOx             0.1988048  -0.343166667   0.139344038        -0.019   \n",
       "VOC           0.109047333   0.164833333   0.090191971  -0.005333333   \n",
       "SO2                     0             0      -1.03125       -0.3625   \n",
       "OC                      0             0  -0.255714286         -0.09   \n",
       "BC                      0             0       0.14875        0.2775   \n",
       "NH3                     0             0         -0.07             0   \n",
       "Units                W/m2      fraction          W/m2          W/m2   \n",
       "\n",
       "                        ac  \n",
       "# Experiment                \n",
       "CH4               0.017625  \n",
       "N2O            0.040666667  \n",
       "HC            -0.016666667  \n",
       "NOx           -0.013833333  \n",
       "VOC                 0.0085  \n",
       "SO2           -0.545714286  \n",
       "OC            -0.106166667  \n",
       "BC            -0.048571429  \n",
       "NH3                      0  \n",
       "Units                 W/m2  "
      ]
     },
     "execution_count": 160,
     "metadata": {},
     "output_type": "execute_result"
    }
   ],
   "source": [
    "fn_input = 'attribution_input.csv'\n",
    "fn_input_sd = 'attribution_input_sd.csv'\n",
    "inp_df = pd.read_csv(fn_input, index_col=0)\n",
    "inp_sd_df = pd.read_csv(fn_input_sd, index_col=0)\n",
    "inp_df"
   ]
  },
  {
   "cell_type": "code",
   "execution_count": 161,
   "metadata": {},
   "outputs": [],
   "source": [
    "units = inp_df.loc['Units']\n",
    "units\n",
    "inp_df = inp_df.drop('Units').astype(float)"
   ]
  },
  {
   "cell_type": "code",
   "execution_count": 162,
   "metadata": {},
   "outputs": [
    {
     "data": {
      "text/html": [
       "<div>\n",
       "<style scoped>\n",
       "    .dataframe tbody tr th:only-of-type {\n",
       "        vertical-align: middle;\n",
       "    }\n",
       "\n",
       "    .dataframe tbody tr th {\n",
       "        vertical-align: top;\n",
       "    }\n",
       "\n",
       "    .dataframe thead th {\n",
       "        text-align: right;\n",
       "    }\n",
       "</style>\n",
       "<table border=\"1\" class=\"dataframe\">\n",
       "  <thead>\n",
       "    <tr style=\"text-align: right;\">\n",
       "      <th></th>\n",
       "      <th>o3_rf_sd</th>\n",
       "      <th>lifech4_sd</th>\n",
       "      <th>erf_sd</th>\n",
       "      <th>ari_sd</th>\n",
       "      <th>ac_sd</th>\n",
       "    </tr>\n",
       "    <tr>\n",
       "      <th># Experiment</th>\n",
       "      <th></th>\n",
       "      <th></th>\n",
       "      <th></th>\n",
       "      <th></th>\n",
       "      <th></th>\n",
       "    </tr>\n",
       "  </thead>\n",
       "  <tbody>\n",
       "    <tr>\n",
       "      <th>CH4</th>\n",
       "      <td>0.028528</td>\n",
       "      <td>0.041820</td>\n",
       "      <td>0.102395</td>\n",
       "      <td>0.004555</td>\n",
       "      <td>0.092581</td>\n",
       "    </tr>\n",
       "    <tr>\n",
       "      <th>N2O</th>\n",
       "      <td>0.012021</td>\n",
       "      <td>0.027267</td>\n",
       "      <td>0.076129</td>\n",
       "      <td>0.004190</td>\n",
       "      <td>0.042169</td>\n",
       "    </tr>\n",
       "    <tr>\n",
       "      <th>HC</th>\n",
       "      <td>0.060436</td>\n",
       "      <td>0.030683</td>\n",
       "      <td>0.173366</td>\n",
       "      <td>0.004085</td>\n",
       "      <td>0.049554</td>\n",
       "    </tr>\n",
       "    <tr>\n",
       "      <th>NOx</th>\n",
       "      <td>0.068652</td>\n",
       "      <td>0.075232</td>\n",
       "      <td>0.130933</td>\n",
       "      <td>0.009416</td>\n",
       "      <td>0.057188</td>\n",
       "    </tr>\n",
       "    <tr>\n",
       "      <th>VOC</th>\n",
       "      <td>0.044427</td>\n",
       "      <td>0.059533</td>\n",
       "      <td>0.130796</td>\n",
       "      <td>0.010499</td>\n",
       "      <td>0.098979</td>\n",
       "    </tr>\n",
       "    <tr>\n",
       "      <th>SO2</th>\n",
       "      <td>0.000000</td>\n",
       "      <td>0.000000</td>\n",
       "      <td>0.364226</td>\n",
       "      <td>0.127549</td>\n",
       "      <td>0.287693</td>\n",
       "    </tr>\n",
       "    <tr>\n",
       "      <th>OC</th>\n",
       "      <td>0.000000</td>\n",
       "      <td>0.000000</td>\n",
       "      <td>0.091473</td>\n",
       "      <td>0.034641</td>\n",
       "      <td>0.100229</td>\n",
       "    </tr>\n",
       "    <tr>\n",
       "      <th>BC</th>\n",
       "      <td>0.000000</td>\n",
       "      <td>0.000000</td>\n",
       "      <td>0.168184</td>\n",
       "      <td>0.094703</td>\n",
       "      <td>0.136801</td>\n",
       "    </tr>\n",
       "    <tr>\n",
       "      <th>NH3</th>\n",
       "      <td>0.000000</td>\n",
       "      <td>0.000000</td>\n",
       "      <td>0.010000</td>\n",
       "      <td>0.000000</td>\n",
       "      <td>0.000000</td>\n",
       "    </tr>\n",
       "  </tbody>\n",
       "</table>\n",
       "</div>"
      ],
      "text/plain": [
       "              o3_rf_sd  lifech4_sd    erf_sd    ari_sd     ac_sd\n",
       "# Experiment                                                    \n",
       "CH4           0.028528    0.041820  0.102395  0.004555  0.092581\n",
       "N2O           0.012021    0.027267  0.076129  0.004190  0.042169\n",
       "HC            0.060436    0.030683  0.173366  0.004085  0.049554\n",
       "NOx           0.068652    0.075232  0.130933  0.009416  0.057188\n",
       "VOC           0.044427    0.059533  0.130796  0.010499  0.098979\n",
       "SO2           0.000000    0.000000  0.364226  0.127549  0.287693\n",
       "OC            0.000000    0.000000  0.091473  0.034641  0.100229\n",
       "BC            0.000000    0.000000  0.168184  0.094703  0.136801\n",
       "NH3           0.000000    0.000000  0.010000  0.000000  0.000000"
      ]
     },
     "execution_count": 162,
     "metadata": {},
     "output_type": "execute_result"
    }
   ],
   "source": [
    "inp_sd_df = inp_sd_df.drop('Units').astype(float)\n",
    "inp_sd_df "
   ]
  },
  {
   "cell_type": "code",
   "execution_count": 163,
   "metadata": {},
   "outputs": [],
   "source": [
    "rfo3 = inp_df['o3_rf']\n",
    "rfo3_sd = inp_sd_df['o3_rf_sd']\n",
    "lifech4 = inp_df['lifech4']\n",
    "lifech4_sd = inp_sd_df['lifech4_sd']\n",
    "ari = inp_df['ari']\n",
    "ari_sd = inp_sd_df['ari_sd']\n",
    "aci = inp_df['ac']\n",
    "aci_sd = inp_sd_df['ac_sd']\n",
    "erf = inp_df['erf']\n",
    "erf_sd = inp_sd_df['erf_sd']"
   ]
  },
  {
   "cell_type": "markdown",
   "metadata": {},
   "source": [
    "rfo3 = data['o3_rf']\n",
    "rfo3_sd = data_sd['o3_rf_sd']\n",
    "lifech4 = data['lifech4']\n",
    "lifech4_sd = data_sd['lifech4_sd']\n",
    "ari = data['ari']\n",
    "ari_sd = data_sd['ari_sd']\n",
    "ac = data['ac']\n",
    "ac_sd = data_sd['ac_sd']\n",
    "erf = data['erf']\n",
    "erf_sd = data_sd['erf_sd']"
   ]
  },
  {
   "cell_type": "code",
   "execution_count": 164,
   "metadata": {},
   "outputs": [],
   "source": [
    "i_ch4 = np.where(data['Experiment']=='CH4')[0][0]\n",
    "i_nox = np.where(data['Experiment']=='NOx')[0][0]\n",
    "i_voc = np.where(data['Experiment']=='VOC')[0][0]\n",
    "i_n2o = np.where(data['Experiment']=='N2O')[0][0]\n",
    "i_hc = np.where(data['Experiment']=='HC')[0][0]"
   ]
  },
  {
   "cell_type": "code",
   "execution_count": 165,
   "metadata": {},
   "outputs": [],
   "source": [
    "i_gas = np.array([i_ch4, i_n2o, i_hc, i_nox, i_voc])\n",
    "i_non_ch4 = np.array([i_n2o, i_hc, i_nox, i_voc])"
   ]
  },
  {
   "cell_type": "code",
   "execution_count": 166,
   "metadata": {},
   "outputs": [
    {
     "data": {
      "text/plain": [
       "array([0, 1, 2, 3, 4])"
      ]
     },
     "execution_count": 166,
     "metadata": {},
     "output_type": "execute_result"
    }
   ],
   "source": [
    "i_gas"
   ]
  },
  {
   "cell_type": "code",
   "execution_count": 167,
   "metadata": {},
   "outputs": [],
   "source": [
    "labs_gas = ['CH4','N2O','HC','NOx','VOC']\n",
    "labs_non_ch4 = ['N2O','HC','NOx','VOC']"
   ]
  },
  {
   "cell_type": "code",
   "execution_count": 168,
   "metadata": {},
   "outputs": [
    {
     "data": {
      "text/plain": [
       "0.36540877299999996"
      ]
     },
     "execution_count": 168,
     "metadata": {},
     "output_type": "execute_result"
    }
   ],
   "source": [
    "total_o3 = rfo3.sum()\n",
    "total_o3"
   ]
  },
  {
   "cell_type": "code",
   "execution_count": 169,
   "metadata": {},
   "outputs": [],
   "source": [
    "alpha = 1.30 # From chapter 6"
   ]
  },
  {
   "cell_type": "code",
   "execution_count": 170,
   "metadata": {},
   "outputs": [
    {
     "data": {
      "text/plain": [
       "# Experiment\n",
       "CH4    0.206667\n",
       "N2O   -0.035000\n",
       "HC    -0.049400\n",
       "NOx   -0.343167\n",
       "VOC    0.164833\n",
       "SO2    0.000000\n",
       "OC     0.000000\n",
       "BC     0.000000\n",
       "NH3    0.000000\n",
       "Name: lifech4, dtype: float64"
      ]
     },
     "execution_count": 170,
     "metadata": {},
     "output_type": "execute_result"
    }
   ],
   "source": [
    "lifech4#['CH4']"
   ]
  },
  {
   "cell_type": "code",
   "execution_count": 171,
   "metadata": {},
   "outputs": [
    {
     "data": {
      "text/html": [
       "<div>\n",
       "<style scoped>\n",
       "    .dataframe tbody tr th:only-of-type {\n",
       "        vertical-align: middle;\n",
       "    }\n",
       "\n",
       "    .dataframe tbody tr th {\n",
       "        vertical-align: top;\n",
       "    }\n",
       "\n",
       "    .dataframe thead th {\n",
       "        text-align: right;\n",
       "    }\n",
       "</style>\n",
       "<table border=\"1\" class=\"dataframe\">\n",
       "  <thead>\n",
       "    <tr style=\"text-align: right;\">\n",
       "      <th></th>\n",
       "      <th>o3_rf</th>\n",
       "      <th>lifech4</th>\n",
       "      <th>erf</th>\n",
       "      <th>ari</th>\n",
       "      <th>ac</th>\n",
       "      <th>ch4</th>\n",
       "    </tr>\n",
       "    <tr>\n",
       "      <th># Experiment</th>\n",
       "      <th></th>\n",
       "      <th></th>\n",
       "      <th></th>\n",
       "      <th></th>\n",
       "      <th></th>\n",
       "      <th></th>\n",
       "    </tr>\n",
       "  </thead>\n",
       "  <tbody>\n",
       "    <tr>\n",
       "      <th>CH4</th>\n",
       "      <td>0.139346</td>\n",
       "      <td>0.206667</td>\n",
       "      <td>0.754323</td>\n",
       "      <td>-0.005500</td>\n",
       "      <td>0.017625</td>\n",
       "      <td>2327.135068</td>\n",
       "    </tr>\n",
       "    <tr>\n",
       "      <th>N2O</th>\n",
       "      <td>0.030224</td>\n",
       "      <td>-0.035000</td>\n",
       "      <td>0.268516</td>\n",
       "      <td>-0.004333</td>\n",
       "      <td>0.040667</td>\n",
       "      <td>1740.378010</td>\n",
       "    </tr>\n",
       "    <tr>\n",
       "      <th>HC</th>\n",
       "      <td>-0.112013</td>\n",
       "      <td>-0.049400</td>\n",
       "      <td>0.178762</td>\n",
       "      <td>-0.016750</td>\n",
       "      <td>-0.016667</td>\n",
       "      <td>1706.692315</td>\n",
       "    </tr>\n",
       "    <tr>\n",
       "      <th>NOx</th>\n",
       "      <td>0.198805</td>\n",
       "      <td>-0.343167</td>\n",
       "      <td>0.139344</td>\n",
       "      <td>-0.019000</td>\n",
       "      <td>-0.013833</td>\n",
       "      <td>1055.479541</td>\n",
       "    </tr>\n",
       "    <tr>\n",
       "      <th>VOC</th>\n",
       "      <td>0.109047</td>\n",
       "      <td>0.164833</td>\n",
       "      <td>0.090192</td>\n",
       "      <td>-0.005333</td>\n",
       "      <td>0.008500</td>\n",
       "      <td>2222.803168</td>\n",
       "    </tr>\n",
       "    <tr>\n",
       "      <th>SO2</th>\n",
       "      <td>0.000000</td>\n",
       "      <td>0.000000</td>\n",
       "      <td>-1.031250</td>\n",
       "      <td>-0.362500</td>\n",
       "      <td>-0.545714</td>\n",
       "      <td>1822.880000</td>\n",
       "    </tr>\n",
       "    <tr>\n",
       "      <th>OC</th>\n",
       "      <td>0.000000</td>\n",
       "      <td>0.000000</td>\n",
       "      <td>-0.255714</td>\n",
       "      <td>-0.090000</td>\n",
       "      <td>-0.106167</td>\n",
       "      <td>1822.880000</td>\n",
       "    </tr>\n",
       "    <tr>\n",
       "      <th>BC</th>\n",
       "      <td>0.000000</td>\n",
       "      <td>0.000000</td>\n",
       "      <td>0.148750</td>\n",
       "      <td>0.277500</td>\n",
       "      <td>-0.048571</td>\n",
       "      <td>1822.880000</td>\n",
       "    </tr>\n",
       "    <tr>\n",
       "      <th>NH3</th>\n",
       "      <td>0.000000</td>\n",
       "      <td>0.000000</td>\n",
       "      <td>-0.070000</td>\n",
       "      <td>0.000000</td>\n",
       "      <td>0.000000</td>\n",
       "      <td>1822.880000</td>\n",
       "    </tr>\n",
       "  </tbody>\n",
       "</table>\n",
       "</div>"
      ],
      "text/plain": [
       "                 o3_rf   lifech4       erf       ari        ac          ch4\n",
       "# Experiment                                                               \n",
       "CH4           0.139346  0.206667  0.754323 -0.005500  0.017625  2327.135068\n",
       "N2O           0.030224 -0.035000  0.268516 -0.004333  0.040667  1740.378010\n",
       "HC           -0.112013 -0.049400  0.178762 -0.016750 -0.016667  1706.692315\n",
       "NOx           0.198805 -0.343167  0.139344 -0.019000 -0.013833  1055.479541\n",
       "VOC           0.109047  0.164833  0.090192 -0.005333  0.008500  2222.803168\n",
       "SO2           0.000000  0.000000 -1.031250 -0.362500 -0.545714  1822.880000\n",
       "OC            0.000000  0.000000 -0.255714 -0.090000 -0.106167  1822.880000\n",
       "BC            0.000000  0.000000  0.148750  0.277500 -0.048571  1822.880000\n",
       "NH3           0.000000  0.000000 -0.070000  0.000000  0.000000  1822.880000"
      ]
     },
     "execution_count": 171,
     "metadata": {},
     "output_type": "execute_result"
    }
   ],
   "source": [
    "#print(alpha)\n",
    "ch4 = ch4_2014*(1+lifech4)**alpha\n",
    "inp_df['ch4'] = ch4\n",
    "inp_df\n",
    "#ch4"
   ]
  },
  {
   "cell_type": "code",
   "execution_count": 172,
   "metadata": {},
   "outputs": [
    {
     "data": {
      "text/html": [
       "<div>\n",
       "<style scoped>\n",
       "    .dataframe tbody tr th:only-of-type {\n",
       "        vertical-align: middle;\n",
       "    }\n",
       "\n",
       "    .dataframe tbody tr th {\n",
       "        vertical-align: top;\n",
       "    }\n",
       "\n",
       "    .dataframe thead th {\n",
       "        text-align: right;\n",
       "    }\n",
       "</style>\n",
       "<table border=\"1\" class=\"dataframe\">\n",
       "  <thead>\n",
       "    <tr style=\"text-align: right;\">\n",
       "      <th></th>\n",
       "      <th>o3_rf_sd</th>\n",
       "      <th>lifech4_sd</th>\n",
       "      <th>erf_sd</th>\n",
       "      <th>ari_sd</th>\n",
       "      <th>ac_sd</th>\n",
       "      <th>ch4_sd</th>\n",
       "    </tr>\n",
       "    <tr>\n",
       "      <th># Experiment</th>\n",
       "      <th></th>\n",
       "      <th></th>\n",
       "      <th></th>\n",
       "      <th></th>\n",
       "      <th></th>\n",
       "      <th></th>\n",
       "    </tr>\n",
       "  </thead>\n",
       "  <tbody>\n",
       "    <tr>\n",
       "      <th>CH4</th>\n",
       "      <td>0.028528</td>\n",
       "      <td>0.041820</td>\n",
       "      <td>0.102395</td>\n",
       "      <td>0.004555</td>\n",
       "      <td>0.092581</td>\n",
       "      <td>102.037767</td>\n",
       "    </tr>\n",
       "    <tr>\n",
       "      <th>N2O</th>\n",
       "      <td>0.012021</td>\n",
       "      <td>0.027267</td>\n",
       "      <td>0.076129</td>\n",
       "      <td>0.004190</td>\n",
       "      <td>0.042169</td>\n",
       "      <td>64.274226</td>\n",
       "    </tr>\n",
       "    <tr>\n",
       "      <th>HC</th>\n",
       "      <td>0.060436</td>\n",
       "      <td>0.030683</td>\n",
       "      <td>0.173366</td>\n",
       "      <td>0.004085</td>\n",
       "      <td>0.049554</td>\n",
       "      <td>72.165474</td>\n",
       "    </tr>\n",
       "    <tr>\n",
       "      <th>NOx</th>\n",
       "      <td>0.068652</td>\n",
       "      <td>0.075232</td>\n",
       "      <td>0.130933</td>\n",
       "      <td>0.009416</td>\n",
       "      <td>0.057188</td>\n",
       "      <td>168.235527</td>\n",
       "    </tr>\n",
       "    <tr>\n",
       "      <th>VOC</th>\n",
       "      <td>0.044427</td>\n",
       "      <td>0.059533</td>\n",
       "      <td>0.130796</td>\n",
       "      <td>0.010499</td>\n",
       "      <td>0.098979</td>\n",
       "      <td>144.439804</td>\n",
       "    </tr>\n",
       "    <tr>\n",
       "      <th>SO2</th>\n",
       "      <td>0.000000</td>\n",
       "      <td>0.000000</td>\n",
       "      <td>0.364226</td>\n",
       "      <td>0.127549</td>\n",
       "      <td>0.287693</td>\n",
       "      <td>0.000000</td>\n",
       "    </tr>\n",
       "    <tr>\n",
       "      <th>OC</th>\n",
       "      <td>0.000000</td>\n",
       "      <td>0.000000</td>\n",
       "      <td>0.091473</td>\n",
       "      <td>0.034641</td>\n",
       "      <td>0.100229</td>\n",
       "      <td>0.000000</td>\n",
       "    </tr>\n",
       "    <tr>\n",
       "      <th>BC</th>\n",
       "      <td>0.000000</td>\n",
       "      <td>0.000000</td>\n",
       "      <td>0.168184</td>\n",
       "      <td>0.094703</td>\n",
       "      <td>0.136801</td>\n",
       "      <td>0.000000</td>\n",
       "    </tr>\n",
       "    <tr>\n",
       "      <th>NH3</th>\n",
       "      <td>0.000000</td>\n",
       "      <td>0.000000</td>\n",
       "      <td>0.010000</td>\n",
       "      <td>0.000000</td>\n",
       "      <td>0.000000</td>\n",
       "      <td>0.000000</td>\n",
       "    </tr>\n",
       "  </tbody>\n",
       "</table>\n",
       "</div>"
      ],
      "text/plain": [
       "              o3_rf_sd  lifech4_sd    erf_sd    ari_sd     ac_sd      ch4_sd\n",
       "# Experiment                                                                \n",
       "CH4           0.028528    0.041820  0.102395  0.004555  0.092581  102.037767\n",
       "N2O           0.012021    0.027267  0.076129  0.004190  0.042169   64.274226\n",
       "HC            0.060436    0.030683  0.173366  0.004085  0.049554   72.165474\n",
       "NOx           0.068652    0.075232  0.130933  0.009416  0.057188  168.235527\n",
       "VOC           0.044427    0.059533  0.130796  0.010499  0.098979  144.439804\n",
       "SO2           0.000000    0.000000  0.364226  0.127549  0.287693    0.000000\n",
       "OC            0.000000    0.000000  0.091473  0.034641  0.100229    0.000000\n",
       "BC            0.000000    0.000000  0.168184  0.094703  0.136801    0.000000\n",
       "NH3           0.000000    0.000000  0.010000  0.000000  0.000000    0.000000"
      ]
     },
     "execution_count": 172,
     "metadata": {},
     "output_type": "execute_result"
    }
   ],
   "source": [
    "ch4_sd = (ch4-ch4_2014)*lifech4_sd/lifech4\n",
    "#ch4_sd = np.where(lifech4 == 0, 0., ch4_sd)\n",
    "\n",
    "ch4_sd[lifech4==0] = 0\n",
    "\n",
    "inp_sd_df['ch4_sd'] = ch4_sd\n",
    "inp_sd_df"
   ]
  },
  {
   "cell_type": "code",
   "execution_count": 173,
   "metadata": {},
   "outputs": [
    {
     "data": {
      "text/plain": [
       "0"
      ]
     },
     "execution_count": 173,
     "metadata": {},
     "output_type": "execute_result"
    }
   ],
   "source": [
    "i_ch4"
   ]
  },
  {
   "cell_type": "code",
   "execution_count": 174,
   "metadata": {},
   "outputs": [
    {
     "data": {
      "text/plain": [
       "0.1393461"
      ]
     },
     "execution_count": 174,
     "metadata": {},
     "output_type": "execute_result"
    }
   ],
   "source": [
    "rfo3.loc['CH4']"
   ]
  },
  {
   "cell_type": "code",
   "execution_count": 175,
   "metadata": {},
   "outputs": [
    {
     "data": {
      "text/plain": [
       "0.1393461"
      ]
     },
     "execution_count": 175,
     "metadata": {},
     "output_type": "execute_result"
    }
   ],
   "source": [
    "rfo3[i_ch4]"
   ]
  },
  {
   "cell_type": "code",
   "execution_count": 176,
   "metadata": {},
   "outputs": [
    {
     "data": {
      "text/plain": [
       "0.028527553"
      ]
     },
     "execution_count": 176,
     "metadata": {},
     "output_type": "execute_result"
    }
   ],
   "source": [
    "rfo3_sd['CH4']"
   ]
  },
  {
   "cell_type": "code",
   "execution_count": 177,
   "metadata": {},
   "outputs": [
    {
     "data": {
      "text/plain": [
       "0.00013724893625403827"
      ]
     },
     "execution_count": 177,
     "metadata": {},
     "output_type": "execute_result"
    }
   ],
   "source": [
    "rfo3perch4"
   ]
  },
  {
   "cell_type": "code",
   "execution_count": 178,
   "metadata": {},
   "outputs": [
    {
     "data": {
      "text/plain": [
       "# Experiment\n",
       "CH4    2327.135068\n",
       "N2O    1740.378010\n",
       "HC     1706.692315\n",
       "NOx    1055.479541\n",
       "VOC    2222.803168\n",
       "SO2    1822.880000\n",
       "OC     1822.880000\n",
       "BC     1822.880000\n",
       "NH3    1822.880000\n",
       "Name: lifech4, dtype: float64"
      ]
     },
     "execution_count": 178,
     "metadata": {},
     "output_type": "execute_result"
    }
   ],
   "source": [
    "ch4"
   ]
  },
  {
   "cell_type": "code",
   "execution_count": 179,
   "metadata": {},
   "outputs": [],
   "source": [
    "# Ozone primary mode            \n",
    "rfo3perch4 = rfo3.loc['CH4']/(ch4_2014-ch4_1850) # Use CH4 expt\n",
    "#rfo3perch4_sd = rfo3_sd[i_ch4]/(ch4_2014-ch4_1850) # Use CH4 expt\n",
    "rfo3perch4_sd = rfo3_sd['CH4']/(ch4_2014-ch4_1850) # Use CH4 expt\n",
    "rfo3_prime = rfo3perch4*(ch4-ch4_2014)\n",
    "rfo3_prime_sd = np.sqrt(\n",
    "        (rfo3perch4_sd*(ch4-ch4_2014))**2+\n",
    "# add 15% uncertainty in radiative transfer - from Ragnhild\n",
    "        (rfo3perch4*(ch4-ch4_2014)*0.15)**2)"
   ]
  },
  {
   "cell_type": "code",
   "execution_count": 180,
   "metadata": {},
   "outputs": [
    {
     "data": {
      "text/plain": [
       "# Experiment\n",
       "CH4    0.069208\n",
       "N2O   -0.011323\n",
       "HC    -0.015947\n",
       "NOx   -0.105325\n",
       "VOC    0.054889\n",
       "SO2    0.000000\n",
       "OC     0.000000\n",
       "BC     0.000000\n",
       "NH3    0.000000\n",
       "Name: lifech4, dtype: float64"
      ]
     },
     "execution_count": 180,
     "metadata": {},
     "output_type": "execute_result"
    }
   ],
   "source": [
    "rfo3_prime"
   ]
  },
  {
   "cell_type": "code",
   "execution_count": 181,
   "metadata": {},
   "outputs": [
    {
     "data": {
      "text/plain": [
       "array([1, 2, 3, 4])"
      ]
     },
     "execution_count": 181,
     "metadata": {},
     "output_type": "execute_result"
    }
   ],
   "source": [
    "i_non_ch4"
   ]
  },
  {
   "cell_type": "code",
   "execution_count": 182,
   "metadata": {},
   "outputs": [
    {
     "data": {
      "text/plain": [
       "['N2O', 'HC', 'NOx', 'VOC']"
      ]
     },
     "execution_count": 182,
     "metadata": {},
     "output_type": "execute_result"
    }
   ],
   "source": [
    "labs_non_ch4"
   ]
  },
  {
   "cell_type": "code",
   "execution_count": 183,
   "metadata": {},
   "outputs": [
    {
     "name": "stderr",
     "output_type": "stream",
     "text": [
      "/home/sarambl/miniconda3/envs/rcmip_ch6/lib/python3.7/site-packages/ipykernel_launcher.py:1: FutureWarning: Using a non-tuple sequence for multidimensional indexing is deprecated; use `arr[tuple(seq)]` instead of `arr[seq]`. In the future this will be interpreted as an array index, `arr[np.array(seq)]`, which will result either in an error or a different result.\n",
      "  \"\"\"Entry point for launching an IPython kernel.\n"
     ]
    },
    {
     "data": {
      "text/plain": [
       "array([0.0028738 , 0.00404718, 0.02673097, 0.01393058])"
      ]
     },
     "execution_count": 183,
     "metadata": {},
     "output_type": "execute_result"
    }
   ],
   "source": [
    "np.array(rfo3_prime_sd)[[i_non_ch4]]"
   ]
  },
  {
   "cell_type": "code",
   "execution_count": 184,
   "metadata": {},
   "outputs": [
    {
     "data": {
      "text/plain": [
       "# Experiment\n",
       "CH4    0.069208\n",
       "N2O   -0.011323\n",
       "HC    -0.015947\n",
       "NOx   -0.105325\n",
       "VOC    0.054889\n",
       "SO2    0.000000\n",
       "OC     0.000000\n",
       "BC     0.000000\n",
       "NH3    0.000000\n",
       "Name: lifech4, dtype: float64"
      ]
     },
     "execution_count": 184,
     "metadata": {},
     "output_type": "execute_result"
    }
   ],
   "source": [
    "rfo3_prime"
   ]
  },
  {
   "cell_type": "code",
   "execution_count": 185,
   "metadata": {},
   "outputs": [
    {
     "data": {
      "text/plain": [
       "0.07770581377827238"
      ]
     },
     "execution_count": 185,
     "metadata": {},
     "output_type": "execute_result"
    }
   ],
   "source": [
    "-np.sum(rfo3_prime[labs_non_ch4])"
   ]
  },
  {
   "cell_type": "code",
   "execution_count": 186,
   "metadata": {},
   "outputs": [
    {
     "data": {
      "text/plain": [
       "# Experiment\n",
       "CH4    0.077706\n",
       "N2O   -0.011323\n",
       "HC    -0.015947\n",
       "NOx   -0.105325\n",
       "VOC    0.054889\n",
       "SO2    0.000000\n",
       "OC     0.000000\n",
       "BC     0.000000\n",
       "NH3    0.000000\n",
       "Name: lifech4, dtype: float64"
      ]
     },
     "execution_count": 186,
     "metadata": {},
     "output_type": "execute_result"
    }
   ],
   "source": [
    "# Set ch4 o3 prime to be minus sum of non-ch4 terms\n",
    "# - ensures total sum of prime terms is zero\n",
    "#rfo3_prime[i_ch4] = -np.sum(rfo3_prime[i_non_ch4])\n",
    "rfo3_prime.loc['CH4'] = -np.sum(rfo3_prime[labs_non_ch4])\n",
    "#rfo3_prime_sd[i_ch4] = np.sqrt(np.sum(np.square(rfo3_prime_sd[[i_non_ch4]])))\n",
    "rfo3_prime_sd.loc['CH4'] = np.sqrt(np.sum(np.square(rfo3_prime_sd[labs_non_ch4])))\n",
    "rfo3_prime"
   ]
  },
  {
   "cell_type": "code",
   "execution_count": 188,
   "metadata": {},
   "outputs": [
    {
     "data": {
      "text/plain": [
       "9"
      ]
     },
     "execution_count": 188,
     "metadata": {},
     "output_type": "execute_result"
    }
   ],
   "source": [
    "nspec"
   ]
  },
  {
   "cell_type": "code",
   "execution_count": 189,
   "metadata": {},
   "outputs": [
    {
     "data": {
      "text/plain": [
       "# Experiment\n",
       "CH4    0.0\n",
       "N2O    0.0\n",
       "HC     0.0\n",
       "NOx    0.0\n",
       "VOC    0.0\n",
       "SO2    0.0\n",
       "OC     0.0\n",
       "BC     0.0\n",
       "NH3    0.0\n",
       "dtype: float64"
      ]
     },
     "execution_count": 189,
     "metadata": {},
     "output_type": "execute_result"
    }
   ],
   "source": [
    "# CH4 forcing\n",
    "rfch4 = pd.Series(np.zeros(nspec), index=inp_df.index)\n",
    "rfch4_sd = np.zeros(nspec)\n"
   ]
  },
  {
   "cell_type": "code",
   "execution_count": 10,
   "metadata": {},
   "outputs": [
    {
     "name": "stderr",
     "output_type": "stream",
     "text": [
      "/home/sarambl/miniconda3/envs/rcmip_ch6/lib/python3.7/site-packages/ipykernel_launcher.py:14: FutureWarning: Using a non-tuple sequence for multidimensional indexing is deprecated; use `arr[tuple(seq)]` instead of `arr[seq]`. In the future this will be interpreted as an array index, `arr[np.array(seq)]`, which will result either in an error or a different result.\n",
      "  \n"
     ]
    }
   ],
   "source": [
    "#rfch4 = np.zeros(nspec)\n",
    "#rfch4_sd = np.zeros(nspec)\n",
    "\n",
    "for ispec in np.arange(nspec):\n",
    "    rfch4[ispec] = \\\n",
    "        ch4_forcing_AR6(ch4[ispec], ch4_2014, n2o_2014)*\\\n",
    "        (1+ch4_ra)\n",
    "    rfch4_sd[ispec] = \\\n",
    "        ch4_forcing_AR6(ch4[ispec]+ch4_sd[ispec], ch4_2014, n2o_2014)*\\\n",
    "        (1+ch4_ra)-rfch4[ispec]\n",
    "# rfch4 due to ch4 is minus sum of non-ch4 terms\n",
    "# - ensures total sum of rfch4 changes is zero\n",
    "rfch4[i_ch4] = -np.sum(rfch4[i_non_ch4])\n",
    "rfch4_sd[i_ch4] = np.sqrt(np.sum(np.square(rfch4_sd[[i_non_ch4]])))\n",
    "# Add in 14% spectral uncertainty\n",
    "rfch4_sd=np.sqrt((rfch4*0.14)**2+(rfch4_sd)**2)"
   ]
  },
  {
   "cell_type": "code",
   "execution_count": 12,
   "metadata": {},
   "outputs": [],
   "source": [
    "em_co2 = np.zeros(nspec)\n",
    "em_co2[[i_ch4, i_hc, i_voc]] = [6.6, 0.02, 26.]\n",
    "# From MAGICC input files\n",
    "#  CH4 HC VOC, CO CO2 scalings applied of 75%, 100%, 50%, 100%\n",
    "# Assume 88% of CH4 emitted oxidised (12% remains as CH4)\n",
    "\n",
    "# Assume can attributed present day CO2 change by scaling cumulative emissions\n",
    "co2 = (em_co2/tot_em_co2)*(co2_2014-co2_1850)\n",
    "rfco2=np.zeros(nspec)\n",
    "for ispec in np.arange(nspec):\n",
    "    rfco2[ispec] = \\\n",
    "        co2_forcing_AR6(co2_2014, co2_2014-co2[ispec], n2o_2014)*\\\n",
    "        (1+co2_ra)\n",
    "# co2 contribution from direct co2 emissions\n",
    "rfco2_co2 = co2_forcing_AR6(co2_2014, co2_1850, n2o_2014)*(1+co2_ra) \\\n",
    "            -np.sum(rfco2) # Subtract off non-co2 carbon contributions\n",
    "\n",
    "#Set up WMGHG direct ERFs\n",
    "rfghg = np.zeros(nspec)\n",
    "rfghg[i_ch4] = ch4_erf\n",
    "#rfghg[i_n2o] = n2o_erf\n",
    "rfghg[i_hc] = hc_erf"
   ]
  },
  {
   "cell_type": "code",
   "execution_count": 13,
   "metadata": {},
   "outputs": [],
   "source": [
    "#Aerosols\n",
    "#Set indicies\n",
    "i_bc = np.where(data['Experiment']=='BC')[0][0]\n",
    "i_oc = np.where(data['Experiment']=='OC')[0][0]\n",
    "i_so2 = np.where(data['Experiment']=='SO2')[0][0]\n",
    "i_nh3 = np.where(data['Experiment']=='NH3')[0][0]\n",
    "i_aer = np.array([i_bc, i_oc, i_so2, i_nh3]) # all aerosols\n",
    "i_scat = np.array([i_oc, i_so2, i_nh3]) # scattering aerosols\n",
    "\n",
    "#Set aerosol ari to be erf-ac to ensure components add to erf\n",
    "ari[i_aer] = erf[i_aer]-ac[i_aer]\n",
    "ari_sd[i_aer] = np.sqrt(erf_sd[i_aer]**2 +ac_sd[i_aer]**2)"
   ]
  },
  {
   "cell_type": "code",
   "execution_count": 14,
   "metadata": {},
   "outputs": [
    {
     "name": "stderr",
     "output_type": "stream",
     "text": [
      "/home/sarambl/miniconda3/envs/rcmip_ch6/lib/python3.7/site-packages/ipykernel_launcher.py:23: RuntimeWarning: divide by zero encountered in double_scalars\n",
      "/home/sarambl/miniconda3/envs/rcmip_ch6/lib/python3.7/site-packages/ipykernel_launcher.py:23: RuntimeWarning: invalid value encountered in double_scalars\n"
     ]
    }
   ],
   "source": [
    "# scale SO2+OC to get total ari\n",
    "\n",
    "irf_ari_scat = irf_ari-ari[i_bc] # Set non-BC ari to 7.3.3 FGD\n",
    "ari_scat = np.sum(ari[i_scat])\n",
    "ari[i_scat] = ari[i_scat]*irf_ari_scat/ari_scat \n",
    "ari_sd[i_scat] = ari_sd[i_scat]*irf_ari_scat/ari_scat\n",
    "\n",
    "# scale aci to get total aci from 7.3.3\n",
    "total_aci = np.sum(ac[i_aer])\n",
    "ac[i_aer] = ac[i_aer]*erf_aci/total_aci\n",
    "ac_sd[i_aer] = ac_sd[i_aer]*erf_aci/total_aci\n",
    "\n",
    "\n",
    "#Scale everything to table 7.8\n",
    "rfco2_co2 *= co2_erf_AR6/(rfco2_co2+np.sum(rfco2))\n",
    "\n",
    "rfghg[i_ch4]  *= ch4_erf_AR6/rfghg[i_ch4]\n",
    "rfch4         *= ch4_erf_AR6/rfghg[i_ch4]\n",
    "rfch4_sd      *= ch4_erf_AR6/rfghg[i_ch4]\n",
    "rfo3_prime    *= ch4_erf_AR6/rfghg[i_ch4]\n",
    "rfo3_prime_sd *= ch4_erf_AR6/rfghg[i_ch4]\n",
    "\n",
    "rfghg[i_n2o] *= n2o_erf_AR6/rfghg[i_n2o]\n",
    "\n",
    "rfghg[i_hc] *= hc_erf_AR6/rfghg[i_hc]\n",
    "\n",
    "rfo3    *= o3_erf_AR6/np.sum(rfo3)\n",
    "rfo3_sd *= o3_erf_AR6/np.sum(rfo3)\n",
    "\n",
    "ari *= ari_erf_AR6/np.sum(ari)\n",
    "ari_sd *= ari_erf_AR6/np.sum(ari)\n",
    "\n",
    "ac[i_aer] *= aci_erf_AR6/np.sum(ac[i_aer])\n",
    "ac_sd[i_aer] *= aci_erf_AR6/np.sum(ac[i_aer])\n",
    "\n",
    "rfghg_sd = rfghg*0.14 # assume 14% for all WMGHGs\n",
    "\n",
    "table = np.zeros(nspec+1,\n",
    "                     dtype={'names':\n",
    "                            ['Species', 'CO2', 'GHG', 'CH4_lifetime', 'O3',\n",
    "                             'O3_prime', 'Strat_H2O', 'Aerosol', 'Cloud', 'Total'],\n",
    "                             'formats':\n",
    "                                 ['U20', 'f8', 'f8', 'f8', 'f8',\n",
    "                                  'f8', 'f8', 'f8', 'f8', 'f8']})\n",
    "table_sd = np.zeros(nspec+1,\n",
    "                     dtype={'names':\n",
    "                            ['Species', 'CO2_sd', 'GHG_sd', 'CH4_lifetime_sd',\n",
    "                             'O3_sd', 'O3_prime_sd', 'Strat_H2O_sd',\n",
    "                             'Aerosol_sd', 'Cloud_sd', 'Total_sd'],\n",
    "                             'formats':\n",
    "                                 ['U20', 'f8', 'f8', 'f8', 'f8',\n",
    "                                  'f8', 'f8', 'f8', 'f8', 'f8']})"
   ]
  },
  {
   "cell_type": "code",
   "execution_count": 15,
   "metadata": {},
   "outputs": [],
   "source": [
    "table['Species'][0] = 'CO2'\n",
    "table['CO2'][0] = rfco2_co2\n",
    "table['Total'][0] = rfco2_co2\n",
    "table_sd['Species'][0] = 'CO2'\n",
    "table_sd['CO2_sd'][0] = rfco2_co2*0.12 # 12% uncertainty\n",
    "table_sd['Total_sd'][0] = rfco2_co2*0.12\n",
    "\n",
    "for ispec in np.arange(nspec):\n",
    "    table['Species'][ispec+1] = data['Experiment'][ispec]\n",
    "    table['CO2'][ispec+1] = rfco2[ispec]\n",
    "    table['GHG'][ispec+1] = rfghg[ispec]\n",
    "    table['CH4_lifetime'][ispec+1] = rfch4[ispec]\n",
    "    table['O3'][ispec+1] = rfo3[ispec]\n",
    "    table['O3_prime'][ispec+1] = rfo3_prime[ispec]\n",
    "    table['Aerosol'][ispec+1] = ari[ispec]\n",
    "    table['Cloud'][ispec+1] = ac[ispec]\n",
    "    table['Total'][ispec+1] = np.sum([rfco2[ispec], rfghg[ispec], rfch4[ispec],\n",
    "         rfo3[ispec], rfo3_prime[ispec], ari[ispec], ac[ispec]])\n",
    "    table_sd['Species'][ispec+1] = data['Experiment'][ispec]\n",
    "    table_sd['CO2_sd'][ispec+1] = rfco2[ispec]*0.12\n",
    "    table_sd['GHG_sd'][ispec+1] = rfghg_sd[ispec]\n",
    "    table_sd['CH4_lifetime_sd'][ispec+1] = rfch4_sd[ispec]\n",
    "    table_sd['O3_sd'][ispec+1] = rfo3_sd[ispec]\n",
    "    table_sd['O3_prime_sd'][ispec+1] = rfo3_prime_sd[ispec]\n",
    "    table_sd['Aerosol_sd'][ispec+1] = ari_sd[ispec]\n",
    "    table_sd['Cloud_sd'][ispec+1] = ac_sd[ispec]\n",
    "    table_sd['Total_sd'][ispec+1] = np.sqrt(np.sum(np.square(\n",
    "            [rfco2[ispec]*0.12, rfghg_sd[ispec], rfch4_sd[ispec],\n",
    "             rfo3_sd[ispec]+rfo3_prime_sd[ispec], ari_sd[ispec], ac_sd[ispec]])))\n",
    "table['Strat_H2O'][i_ch4+1] = 0.05\n",
    "table['Total'][i_ch4+1] += 0.05\n",
    "table_sd['Strat_H2O_sd'][i_ch4+1] = 0.05\n",
    "table_sd['Total_sd'][i_ch4+1] = np.sqrt(np.sum(np.square(\n",
    "        [rfco2[i_ch4]*0.12, rfghg_sd[i_ch4]+rfch4_sd[i_ch4],\n",
    "             rfo3_sd[i_ch4]+rfo3_prime_sd[i_ch4], 0.05,\n",
    "             ari_sd[i_ch4], ac_sd[i_ch4]])))\n",
    "\n",
    "np.savetxt(\"attribution_output_1750_2019.csv\", table, delimiter=',',\n",
    "           fmt='%15s'+9*', %8.3f',\n",
    "           header=','.join(table.dtype.names))\n",
    "np.savetxt(\"attribution_output_1750_2019.csv_sd.csv\", table_sd, delimiter=',',\n",
    "           fmt='%15s'+9*', %8.3f',\n",
    "           header=','.join(table_sd.dtype.names))\n",
    " \n",
    "    \n",
    "    "
   ]
  },
  {
   "cell_type": "code",
   "execution_count": null,
   "metadata": {},
   "outputs": [],
   "source": []
  },
  {
   "cell_type": "code",
   "execution_count": 16,
   "metadata": {},
   "outputs": [
    {
     "name": "stdout",
     "output_type": "stream",
     "text": [
      "[2.05755418 0.         0.         0.         0.         0.\n",
      " 0.         0.         0.         0.        ]\n",
      "[2.05755418 0.55754908        nan 0.41005309 0.         0.06949066\n",
      " 0.         0.         0.         0.        ]\n"
     ]
    },
    {
     "data": {
      "image/png": "[encoded data removed]",
      "text/plain": [
       "<Figure size 432x288 with 1 Axes>"
      ]
     },
     "metadata": {
      "needs_background": "light"
     },
     "output_type": "display_data"
    }
   ],
   "source": [
    "    \n",
    "plt.figure()\n",
    "width = 0.7\n",
    "species =[r'CO$_2$', r'CH$_4$', r'N$_2$O', 'Halocarbon', r'NO$_X$', 'VOC', r'SO$_2$',\n",
    "          'Organic Carbon', 'Black Carbon', 'Ammonia']\n",
    "exp_list = \\\n",
    "    np.array([i_ch4, i_n2o, i_hc, i_nox, i_voc, i_so2, i_oc, i_bc, i_nh3])\n",
    "ybar = np.arange(nspec+1, 0, -1)\n",
    "labels = [r'CO$_2$', 'WMGHG',  r'CH$_4$ lifetime', r'O$_3$', 'Aerosol (ari)', 'Cloud']\n",
    "\n",
    "pos_ghg = np.zeros(nspec+1)\n",
    "pos_ch4 = np.zeros(nspec+1)\n",
    "pos_o3 = np.zeros(nspec+1)\n",
    "pos_aer = np.zeros(nspec+1)\n",
    "pos_cloud = np.zeros(nspec+1)\n",
    "pos_h2o = np.zeros(nspec+1)\n",
    "pos_co2 = np.zeros(nspec+1)\n",
    "neg_ch4 = np.zeros(nspec+1)\n",
    "neg_o3 = np.zeros(nspec+1)\n",
    "neg_aer = np.zeros(nspec+1)\n",
    "neg_cloud = np.zeros(nspec+1)\n",
    "\n",
    "#CO2\n",
    "pos_co2[0] =rfco2_co2 ; pos_ghg[0] = pos_co2[0] ; pos_ch4[0] = pos_co2[0]\n",
    "pos_o3[0]=pos_co2[0]; pos_h2o[0] = pos_co2[0]\n",
    "pos_aer[0] = pos_co2[0]; pos_cloud[0] = pos_co2[0]\n",
    "print(pos_ghg)\n",
    "# Gases\n",
    "pos_co2[i_gas+1] = rfco2[i_gas]\n",
    "pos_ghg[i_gas+1] = pos_co2[i_gas+1]+rfghg[i_gas]\n",
    "print(pos_ghg)\n",
    "pos_ch4[i_gas+1] = pos_ghg[i_gas+1]+\\\n",
    "    np.maximum(rfch4[i_gas], 0.)\n",
    "neg_ch4[i_gas+1] = np.minimum(rfch4[i_gas], 0.)\n",
    "pos_o3[i_gas+1] = pos_ch4[i_gas+1]+\\\n",
    "    np.maximum(rfo3[i_gas]+rfo3_prime[i_gas], 0.)\n",
    "neg_o3[i_gas+1] = neg_ch4[i_gas+1]+\\\n",
    "    np.minimum(rfo3[i_gas]+rfo3_prime[i_gas], 0.)\n",
    "pos_h2o[i_gas+1] = pos_o3[i_gas+1]\n",
    "pos_h2o[i_ch4+1] += 0.05 # AR6 FGD\n",
    "pos_aer[i_gas+1] = pos_h2o[i_gas+1]+\\\n",
    "    np.maximum(ari[i_gas], 0.)\n",
    "neg_aer[i_gas+1] = neg_o3[i_gas+1]+\\\n",
    "    np.minimum(ari[i_gas], 0.)\n",
    "pos_cloud[i_gas+1] = pos_aer[i_gas+1]+\\\n",
    "    np.maximum(ac[i_gas], 0.)\n",
    "neg_cloud[i_gas+1] = neg_aer[i_gas+1]+\\\n",
    "    np.minimum(ac[i_gas], 0.)\n",
    "\n",
    "#Aerosols\n",
    "pos_aer[i_aer+1] = np.maximum(ari[i_aer], 0.)\n",
    "neg_aer[i_aer+1] = np.minimum(ari[i_aer], 0.)\n",
    "pos_cloud[i_aer+1] = pos_aer[i_aer+1]+\\\n",
    "    np.maximum(ac[i_aer], 0.)\n",
    "neg_cloud[i_aer+1] = neg_aer[i_aer+1]+\\\n",
    "    np.minimum(ac[i_aer], 0.)\n",
    "\n",
    "\n",
    "error = np.zeros(nspec+1)\n",
    "error[0] = co2[0]*0.12 # 12% uncertainty\n",
    "error[i_ch4+1] = np.sqrt((rfghg_sd[i_ch4]+rfch4_sd[i_ch4])**2+ # CH4\n",
    "                    (rfo3_sd[i_ch4]+rfo3_prime_sd[i_ch4])**2+  # O3\n",
    "                    0.05**2+                                   # Strat H2O\n",
    "                    ari_sd[i_ch4]**2+\n",
    "                    ac_sd[i_ch4]**2)\n",
    "error[i_non_ch4+1] = np.sqrt(rfghg_sd[i_non_ch4]**2+\n",
    "                    rfch4_sd[i_non_ch4]**2+\n",
    "                    (rfo3_sd[i_non_ch4]+rfo3_prime_sd[i_non_ch4])**2+\n",
    "                    ari_sd[i_non_ch4]**2+\n",
    "                    ac_sd[i_non_ch4]**2)\n",
    "error[i_aer+1] = np.sqrt(ari_sd[i_aer]**2+\n",
    "                    ac_sd[i_aer]**2)\n",
    "\n",
    "plt.barh(ybar, pos_co2, width, color='grey', label=labels[0])\n",
    "plt.barh(ybar, pos_ghg-pos_co2, width, left=pos_co2, color='darkred', label=labels[1])\n",
    "plt.barh(ybar, pos_ch4-pos_ghg, width, left=pos_ghg, color='red', label=labels[2])\n",
    "plt.barh(ybar, pos_o3-pos_ch4, width, left=pos_ch4, color='green', label=labels[3])\n",
    "plt.barh(ybar, pos_h2o-pos_o3, width, left=pos_o3, color='darkblue', label=r'H$_2$O(strat)')\n",
    "plt.barh(ybar, pos_aer-pos_h2o, width, left=pos_h2o, color='blue', label=labels[4])\n",
    "plt.barh(ybar, pos_cloud-pos_aer, width, left=pos_aer, color='lightblue', label=labels[5])\n",
    "plt.barh(ybar, neg_ch4, width, color='red')\n",
    "plt.barh(ybar, neg_o3-neg_ch4, width, left=neg_ch4, color='green')\n",
    "plt.barh(ybar, neg_aer-neg_o3, width, left=neg_o3, color='blue')\n",
    "plt.barh(ybar, neg_cloud-neg_aer, width, left=neg_aer, color='lightblue')\n",
    "plt.errorbar(pos_cloud+neg_cloud,ybar, marker='x', linestyle='None', color='k', label='sum', xerr=error)\n",
    "plt.yticks([])\n",
    "for i in np.arange(nspec+1):\n",
    "    plt.text(-1.55, ybar[i], species[i])\n",
    "plt.title('Components of 1750 to 2019 forcing')\n",
    "plt.xlabel(r'W m$^{-2}$')\n",
    "plt.xlim(-1.6, 2.0)\n",
    "plt.legend(loc='lower right')\n",
    "plt.axvline(x=0., color='k', linewidth=0.25)\n",
    "\n",
    "plt.show()"
   ]
  }
 ],
 "metadata": {
  "jupytext": {
   "text_representation": {
    "extension": ".py",
    "format_name": "percent",
    "format_version": "1.3",
    "jupytext_version": "1.3.3"
   }
  },
  "kernelspec": {
   "display_name": "Python 3",
   "language": "python",
   "name": "python3"
  },
  "language_info": {
   "codemirror_mode": {
    "name": "ipython",
    "version": 3
   },
   "file_extension": ".py",
   "mimetype": "text/x-python",
   "name": "python",
   "nbconvert_exporter": "python",
   "pygments_lexer": "ipython3",
   "version": "3.7.6"
  }
 },
 "nbformat": 4,
 "nbformat_minor": 4
}
