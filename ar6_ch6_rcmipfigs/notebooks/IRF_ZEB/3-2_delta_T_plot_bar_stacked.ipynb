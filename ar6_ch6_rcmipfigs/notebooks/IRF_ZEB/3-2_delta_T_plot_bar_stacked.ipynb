{
 "cells": [
  {
   "cell_type": "markdown",
   "metadata": {},
   "source": [
    "# Plot temperature response over time"
   ]
  },
  {
   "cell_type": "markdown",
   "metadata": {},
   "source": [
    "This notebook plots temperature respons to SLCFs AND the total scenario forcing in a fixed nr of years"
   ]
  },
  {
   "cell_type": "markdown",
   "metadata": {},
   "source": [
    "## Imports:"
   ]
  },
  {
   "cell_type": "code",
   "execution_count": 1,
   "metadata": {},
   "outputs": [],
   "source": [
    "import xarray as xr\n",
    "import numpy as np\n",
    "import pandas as pd\n",
    "import matplotlib.pyplot as plt\n",
    "from pandas.plotting import register_matplotlib_converters\n",
    "\n",
    "register_matplotlib_converters()\n",
    "\n",
    "%load_ext autoreload\n",
    "%autoreload 2"
   ]
  },
  {
   "cell_type": "code",
   "execution_count": 2,
   "metadata": {},
   "outputs": [
    {
     "data": {
      "application/javascript": [
       "IPython.OutputArea.prototype._should_scroll = function(lines) { return false; }"
      ],
      "text/plain": [
       "<IPython.core.display.Javascript object>"
      ]
     },
     "metadata": {},
     "output_type": "display_data"
    },
    {
     "name": "stdout",
     "output_type": "stream",
     "text": [
      "/home/sarambl/PHD/IPCC/public/AR6_CH6_RCMIPFIGSv2/ar6_ch6_rcmipfigs\n",
      "/home/sarambl/PHD/IPCC/public/AR6_CH6_RCMIPFIGSv2/ar6_ch6_rcmipfigs/data_in\n"
     ]
    }
   ],
   "source": [
    "from ar6_ch6_rcmipfigs.utils.plot import get_cmap_dic"
   ]
  },
  {
   "cell_type": "code",
   "execution_count": 3,
   "metadata": {},
   "outputs": [],
   "source": [
    "from ar6_ch6_rcmipfigs.constants import OUTPUT_DATA_DIR, RESULTS_DIR\n",
    "\n",
    "# PATH_DATASET = OUTPUT_DATA_DIR + '/forcing_data_rcmip_models.nc'\n",
    "# PATH_DT = OUTPUT_DATA_DIR / '/dT_data_rcmip_models.nc'\n",
    "PATH_DT = OUTPUT_DATA_DIR / 'dT_data_RCMIP.nc'"
   ]
  },
  {
   "cell_type": "markdown",
   "metadata": {},
   "source": [
    "## Set values:"
   ]
  },
  {
   "cell_type": "code",
   "execution_count": 4,
   "metadata": {},
   "outputs": [],
   "source": [
    "first_y = '1750'\n",
    "last_y = '2100'\n",
    "# Years to plot:\n",
    "years = ['2040', '2100']"
   ]
  },
  {
   "cell_type": "markdown",
   "metadata": {},
   "source": [
    "**Set reference year for temperature change:**"
   ]
  },
  {
   "cell_type": "code",
   "execution_count": 5,
   "metadata": {},
   "outputs": [],
   "source": [
    "ref_year = '2021'"
   ]
  },
  {
   "cell_type": "code",
   "execution_count": 6,
   "metadata": {},
   "outputs": [],
   "source": [
    "FIGURE_DIR = RESULTS_DIR / 'figures/'"
   ]
  },
  {
   "cell_type": "code",
   "execution_count": null,
   "metadata": {},
   "outputs": [],
   "source": []
  },
  {
   "cell_type": "code",
   "execution_count": 7,
   "metadata": {},
   "outputs": [],
   "source": [
    "TABS_DIR = RESULTS_DIR / 'tables'"
   ]
  },
  {
   "cell_type": "code",
   "execution_count": 8,
   "metadata": {},
   "outputs": [],
   "source": [
    "\n",
    "climatemodel = 'climatemodel'\n",
    "scenario = 'scenario'\n",
    "variable = 'variable'\n",
    "time = 'time'"
   ]
  },
  {
   "cell_type": "code",
   "execution_count": 9,
   "metadata": {},
   "outputs": [],
   "source": [
    "\n",
    "name_deltaT = 'Delta T'"
   ]
  },
  {
   "cell_type": "markdown",
   "metadata": {},
   "source": [
    "### Define variables to look at:"
   ]
  },
  {
   "cell_type": "code",
   "execution_count": 10,
   "metadata": {},
   "outputs": [],
   "source": [
    "# variables to plot:\n",
    "variables_erf_comp = [\n",
    "    'ch4',\n",
    "    'aerosol-total',\n",
    "    'o3',\n",
    "    'HFCs',\n",
    "    'bc_on_snow']\n",
    "# total ERFs for anthropogenic and total:\n",
    "variables_erf_tot = ['total_anthropogenic',\n",
    "                     'total']\n",
    "variables_all = variables_erf_comp + variables_erf_tot\n",
    "# Scenarios to plot:"
   ]
  },
  {
   "cell_type": "code",
   "execution_count": 11,
   "metadata": {},
   "outputs": [],
   "source": [
    "\n",
    "scenarios_fl_370 = ['ssp370', 'ssp370-lowNTCF-aerchemmip', 'ssp370-lowNTCF-gidden'  # Due to mistake here\n",
    "                    ]"
   ]
  },
  {
   "cell_type": "markdown",
   "metadata": {},
   "source": [
    "### Scenarios:"
   ]
  },
  {
   "cell_type": "code",
   "execution_count": 12,
   "metadata": {},
   "outputs": [],
   "source": [
    "scenarios_fl = ['ssp119',\n",
    "                'ssp126',\n",
    "                'ssp245',\n",
    "                'ssp370',\n",
    "                'ssp370-lowNTCF-aerchemmip',\n",
    "                'ssp370-lowNTCF-gidden',\n",
    "                'ssp585']\n",
    "scenarios_fl_oneNTCF = ['ssp119',\n",
    "                'ssp126',\n",
    "                'ssp245',\n",
    "                'ssp370',\n",
    "                'ssp370-lowNTCF-aerchemmip',\n",
    "                #'ssp370-lowNTCF-gidden',\n",
    "                'ssp585']"
   ]
  },
  {
   "cell_type": "code",
   "execution_count": 13,
   "metadata": {},
   "outputs": [],
   "source": [
    "median = 'median'\n",
    "perc5 = '5th percentile'\n",
    "perc95 = '95th percentile'"
   ]
  },
  {
   "cell_type": "code",
   "execution_count": 14,
   "metadata": {},
   "outputs": [
    {
     "name": "stdout",
     "output_type": "stream",
     "text": [
      "/home/sarambl/PHD/IPCC/public/AR6_CH6_RCMIPFIGSv2/ar6_ch6_rcmipfigs/results/tables/3-2_table_all_scen.csv\n"
     ]
    }
   ],
   "source": [
    "table_csv_name = TABS_DIR /'3-2_table_all_scen.csv'\n",
    "print(table_csv_name)"
   ]
  },
  {
   "cell_type": "code",
   "execution_count": 15,
   "metadata": {},
   "outputs": [],
   "source": [
    "\n",
    "variables_tot = ['Total']\n",
    "variables_sum = ['Sum SLCFs']\n",
    "\n",
    "\n",
    "def setup_table_prop(scenario_n='', yrs=None, _vlist=None, scens=None):\n",
    "    if _vlist is None:\n",
    "        _vlist = variables_erf_comp\n",
    "    if yrs is None:\n",
    "        yrs = ['2040', '2100']\n",
    "    if scens is None:\n",
    "        scens = scenarios_fl\n",
    "    its = [yrs, _vlist]\n",
    "    _i = pd.MultiIndex.from_product(its, names=['', ''])\n",
    "    table = pd.DataFrame(columns=scens, index=_i)  # .transpose()\n",
    "    table.index.name = scenario_n\n",
    "    return table"
   ]
  },
  {
   "cell_type": "markdown",
   "metadata": {},
   "source": [
    "## Open dataset:"
   ]
  },
  {
   "cell_type": "markdown",
   "metadata": {},
   "source": [
    "### Integrate:\n",
    "The code below opens the file generated in [2_compute_delta_T.ipynb](2_compute_delta_T.ipynb) by integrating"
   ]
  },
  {
   "cell_type": "markdown",
   "metadata": {},
   "source": [
    "\\begin{align*} \n",
    "\\Delta T (t) &= \\int_0^t ERF(t') IRF(t-t') dt' \\\\\n",
    "\\end{align*}"
   ]
  },
  {
   "cell_type": "markdown",
   "metadata": {},
   "source": [
    "where IRF is the impulse response function and ERF is the effective radiative forcing from RCMIP. "
   ]
  },
  {
   "cell_type": "code",
   "execution_count": 16,
   "metadata": {
    "lines_to_next_cell": 2
   },
   "outputs": [],
   "source": [
    "ds_DT = xr.open_dataset(PATH_DT)"
   ]
  },
  {
   "cell_type": "markdown",
   "metadata": {},
   "source": [
    "## Compute sum of all SLCF forcers"
   ]
  },
  {
   "cell_type": "code",
   "execution_count": 17,
   "metadata": {},
   "outputs": [],
   "source": [
    "from ar6_ch6_rcmipfigs.utils.plot import get_var_nicename"
   ]
  },
  {
   "cell_type": "code",
   "execution_count": 18,
   "metadata": {},
   "outputs": [],
   "source": [
    "from ar6_ch6_rcmipfigs.utils.plot import get_scenario_c_dic, get_scenario_ls_dic"
   ]
  },
  {
   "cell_type": "code",
   "execution_count": 19,
   "metadata": {},
   "outputs": [],
   "source": [
    "\n",
    "s_y = first_y\n",
    "\n",
    "cdic = get_scenario_c_dic()\n",
    "lsdic = get_scenario_ls_dic()\n",
    "\n",
    "\n",
    "def sum_name(_var):\n",
    "    \"\"\"\n",
    "    Returns the name off the sum o\n",
    "    \"\"\"\n",
    "    return f'{_var} sum '\n",
    "\n",
    "\n",
    "# make xarray with variable as new dimension:\n",
    "_lst_f = []\n",
    "_lst_dt = []\n",
    "# Make list of dataArrays to be concatinated:\n",
    "for var in variables_erf_comp:\n",
    "    _lst_f.append(ds_DT['ERF'].sel(variable=var))\n",
    "    _lst_dt.append(ds_DT[name_deltaT].sel(variable=var))\n",
    "# Name of new var:\n",
    "erf_all = sum_name('ERF')\n",
    "# Name of new var:\n",
    "dt_all = sum_name(name_deltaT)\n",
    "# ds_DT[erf_all] = xr.concat(_lst_f, pd.Index(variables_erf_comp, name='variable'))\n",
    "# ds_DT[dt_all] = xr.concat(_lst_dt, pd.Index(variables_erf_comp, name='variable'))\n",
    "dt_totn = dt_all"
   ]
  },
  {
   "cell_type": "markdown",
   "metadata": {},
   "source": [
    "### compute sum: "
   ]
  },
  {
   "cell_type": "code",
   "execution_count": 20,
   "metadata": {},
   "outputs": [],
   "source": [
    "sum_name = 'Sum SLCFs'\n",
    "ds_sub = ds_DT.sel(variable=variables_erf_comp)\n",
    "ds_sum = ds_sub.sum(variable)\n",
    "ds_sum = ds_sum.assign_coords(coords={variable: sum_name})\n",
    "# add sum to variable coordinate\n",
    "\n",
    "ds_sum = xr.concat([ds_sum, ds_DT.sel(variable=variables_erf_comp)], dim=variable)"
   ]
  },
  {
   "cell_type": "code",
   "execution_count": 21,
   "metadata": {
    "lines_to_next_cell": 2
   },
   "outputs": [
    {
     "data": {
      "text/html": [
       "<pre>&lt;xarray.Dataset&gt;\n",
       "Dimensions:     (percentile: 3, scenario: 10, variable: 6, year: 351)\n",
       "Coordinates:\n",
       "  * year        (year) int64 1750 1751 1752 1753 1754 ... 2097 2098 2099 2100\n",
       "  * percentile  (percentile) object &#x27;5th percentile&#x27; &#x27;median&#x27; &#x27;95th percentile&#x27;\n",
       "  * scenario    (scenario) object &#x27;ssp534-over&#x27; ... &#x27;ssp370-lowNTCF-aerchemmip&#x27;\n",
       "  * variable    (variable) object &#x27;Sum SLCFs&#x27; &#x27;ch4&#x27; ... &#x27;HFCs&#x27; &#x27;bc_on_snow&#x27;\n",
       "Data variables:\n",
       "    time        (year) datetime64[ns] ...\n",
       "    ERF         (scenario, year, variable) float64 0.0 0.0 ... 0.2122 0.02698\n",
       "    delta_t     (variable, year) float64 1.0 1.0 1.0 1.0 1.0 ... 1.0 1.0 1.0 1.0\n",
       "    Delta T     (percentile, scenario, year, variable) float64 0.0 ... 0.03004</pre>"
      ],
      "text/plain": [
       "<xarray.Dataset>\n",
       "Dimensions:     (percentile: 3, scenario: 10, variable: 6, year: 351)\n",
       "Coordinates:\n",
       "  * year        (year) int64 1750 1751 1752 1753 1754 ... 2097 2098 2099 2100\n",
       "  * percentile  (percentile) object '5th percentile' 'median' '95th percentile'\n",
       "  * scenario    (scenario) object 'ssp534-over' ... 'ssp370-lowNTCF-aerchemmip'\n",
       "  * variable    (variable) object 'Sum SLCFs' 'ch4' ... 'HFCs' 'bc_on_snow'\n",
       "Data variables:\n",
       "    time        (year) datetime64[ns] ...\n",
       "    ERF         (scenario, year, variable) float64 0.0 0.0 ... 0.2122 0.02698\n",
       "    delta_t     (variable, year) float64 1.0 1.0 1.0 1.0 1.0 ... 1.0 1.0 1.0 1.0\n",
       "    Delta T     (percentile, scenario, year, variable) float64 0.0 ... 0.03004"
      ]
     },
     "execution_count": 21,
     "metadata": {},
     "output_type": "execute_result"
    }
   ],
   "source": [
    "ds_sum  # .assign_coords(coords={variable:sum_name})"
   ]
  },
  {
   "cell_type": "code",
   "execution_count": null,
   "metadata": {},
   "outputs": [],
   "source": []
  },
  {
   "cell_type": "code",
   "execution_count": 22,
   "metadata": {},
   "outputs": [],
   "source": [
    "scntab_dic = {}\n",
    "\n",
    "\n",
    "# tab_tot = setup_table2()\n",
    "# tab_tot_sd = setup_table2()\n",
    "def table_of_sts(_ds, _scn_fl, variables, tab_vars, _yrs, ref_yr, sts='median'):\n",
    "    \"\"\"\n",
    "    Creates pandas dataframe of statistics (mean, median, standard deviation) for change\n",
    "    in temperature Delta T since year (ref year) for each scenario in scenarios,\n",
    "\n",
    "    :param _ds:\n",
    "    :param _scn_fl:\n",
    "    :param variables:\n",
    "    :param tab_vars:\n",
    "    :param _yrs:\n",
    "    :param ref_yr:\n",
    "    :param sts:\n",
    "    :return:\n",
    "    \"\"\"\n",
    "    tabel = setup_table_prop(yrs=_yrs, _vlist=tab_vars)\n",
    "    for scn in _scn_fl:\n",
    "        for _var, tabvar in zip(variables, tab_vars):\n",
    "            # dtvar =  name_deltaT # if ERF name, changes it here.\n",
    "            tabscn = scn  # Table scenario name the same.\n",
    "            for year in _yrs:\n",
    "                _da = _ds[name_deltaT].sel(scenario=scn, variable=_var)\n",
    "                _da_refy = _da.sel(year=slice(ref_yr, ref_yr)).squeeze()  # ref year value\n",
    "                _da_y = _da.sel(year=slice(year, year))  # year value\n",
    "                _tab_da = _da_y - _da_refy\n",
    "                tabel.loc[(year, tabvar), tabscn] = float(_tab_da.sel(percentile=sts).squeeze().values)  # [0]\n",
    "\n",
    "    return tabel\n",
    "\n",
    "\n",
    "def table_of_stats_varsums(_ds, dsvar, tabvar, yrs, ref_yr, sts='median'):\n",
    "    \"\"\"\n",
    "    Sums up over dimension 'variable' and creates pandas dataframe of statistics (mean, median, standard deviation) for change\n",
    "    in temperature Delta T since year (ref year) for each scenario in scenarios. \n",
    "\n",
    "    :param tabvar:\n",
    "    :param dsvar:\n",
    "    :param _ds:\n",
    "    :param yrs:\n",
    "    :param ref_yr:\n",
    "    :param sts:\n",
    "    :return:\n",
    "    \"\"\"\n",
    "    tabel = setup_table_prop(yrs=yrs, _vlist=[tabvar])\n",
    "    da = _ds[name_deltaT].sel(variable=dsvar)\n",
    "\n",
    "    for scn in scenarios_fl:\n",
    "        tabscn = scn  # Table scenario name the same.\n",
    "        for year in yrs:\n",
    "            _da = da.sel(scenario=scn)  # , variable = dsvar)\n",
    "            _da_refy = _da.sel(year=slice(ref_yr, ref_yr)).squeeze()  # ref year value\n",
    "            _da_y = _da.sel(year=slice(year, year)).squeeze()  # year value\n",
    "            _tab_da = (_da_y - _da_refy).squeeze()\n",
    "\n",
    "            # Do statistics over RCMIP models\n",
    "            tabel.loc[(year, tabvar), tabscn] = float(_tab_da.sel(percentile=sts).squeeze().values)  # [0]\n",
    "\n",
    "    return tabel"
   ]
  },
  {
   "cell_type": "markdown",
   "metadata": {},
   "source": [
    "### Computes statistics:"
   ]
  },
  {
   "cell_type": "code",
   "execution_count": 23,
   "metadata": {},
   "outputs": [
    {
     "data": {
      "text/html": [
       "<pre>&lt;xarray.DataArray &#x27;percentile&#x27; (percentile: 3)&gt;\n",
       "array([&#x27;5th percentile&#x27;, &#x27;median&#x27;, &#x27;95th percentile&#x27;], dtype=object)\n",
       "Coordinates:\n",
       "  * percentile  (percentile) object &#x27;5th percentile&#x27; &#x27;median&#x27; &#x27;95th percentile&#x27;</pre>"
      ],
      "text/plain": [
       "<xarray.DataArray 'percentile' (percentile: 3)>\n",
       "array(['5th percentile', 'median', '95th percentile'], dtype=object)\n",
       "Coordinates:\n",
       "  * percentile  (percentile) object '5th percentile' 'median' '95th percentile'"
      ]
     },
     "execution_count": 23,
     "metadata": {},
     "output_type": "execute_result"
    }
   ],
   "source": [
    "ds_DT.percentile"
   ]
  },
  {
   "cell_type": "code",
   "execution_count": 24,
   "metadata": {},
   "outputs": [
    {
     "data": {
      "text/plain": [
       "array(['co2', 'ch4', 'n2o', 'other_wmghg', 'o3', 'h2o_stratospheric',\n",
       "       'contrails', 'aerosol-radiation_interactions',\n",
       "       'aerosol-cloud_interactions', 'bc_on_snow', 'land_use', 'volcanic',\n",
       "       'solar', 'total_anthropogenic', 'total_natural', 'total',\n",
       "       'aerosol-total', 'aerosol-total-with_bc', 'HFCs'], dtype=object)"
      ]
     },
     "execution_count": 24,
     "metadata": {},
     "output_type": "execute_result"
    }
   ],
   "source": [
    "ds_DT.variable.values"
   ]
  },
  {
   "cell_type": "code",
   "execution_count": null,
   "metadata": {},
   "outputs": [],
   "source": []
  },
  {
   "cell_type": "code",
   "execution_count": 25,
   "metadata": {},
   "outputs": [],
   "source": [
    "from ar6_ch6_rcmipfigs.utils.plot import nice_name_var as nice_name_var_dic"
   ]
  },
  {
   "cell_type": "markdown",
   "metadata": {},
   "source": [
    "## Make csv table:\n"
   ]
  },
  {
   "cell_type": "code",
   "execution_count": null,
   "metadata": {},
   "outputs": [],
   "source": []
  },
  {
   "cell_type": "code",
   "execution_count": 26,
   "metadata": {},
   "outputs": [],
   "source": [
    "# Mean:\n",
    "tabel_dT_slcfs = table_of_sts(ds_DT, scenarios_fl, variables_erf_comp + ['total_anthropogenic'],variables_erf_comp + ['total_anthropogenic'], years,\n",
    "                              ref_year)\n",
    "_tab = tabel_dT_slcfs.transpose()\n",
    "o3 = 'o3'\n",
    "ch4 = 'ch4'\n",
    "HFCs = 'HFCs'\n",
    "_sum = 'CH$_4$+O$_3$+HFCs'\n",
    "for year in ['2040','2100']:\n",
    "    _tab[(year,_sum)] =  _tab[(year,o3)] + _tab[(year,ch4)] + _tab[(year,HFCs)]\n",
    "_tab= _tab.transpose()\n",
    "_tab = _tab.sort_index()#()"
   ]
  },
  {
   "cell_type": "code",
   "execution_count": 27,
   "metadata": {},
   "outputs": [],
   "source": [
    "_tab.rename(nice_name_var_dic)\n",
    "\n",
    "\n",
    "fn =TABS_DIR /'dT_2040_2100_tab.csv'\n",
    "_tab.to_csv(fn)"
   ]
  },
  {
   "cell_type": "code",
   "execution_count": 28,
   "metadata": {},
   "outputs": [],
   "source": [
    "# Statistics on Delta T anthropogenic\n",
    "# Mean\n",
    "tabel_dT_anthrop = table_of_sts(ds_DT, scenarios_fl, ['total_anthropogenic'], ['Total'], years, ref_year)\n",
    "\n",
    "# Standard deviation\n",
    "tabel_dT_anthrop_5th = table_of_sts(ds_DT, scenarios_fl, ['total_anthropogenic'], ['Total'], years, ref_year,\n",
    "                                    sts='5th percentile')\n",
    "tabel_dT_anthrop_95th = table_of_sts(ds_DT, scenarios_fl, ['total_anthropogenic'], ['Total'], years, ref_year,\n",
    "                                     sts='95th percentile')"
   ]
  },
  {
   "cell_type": "code",
   "execution_count": 29,
   "metadata": {},
   "outputs": [],
   "source": [
    "# Mean:\n",
    "tabel_dT_slcfs = table_of_sts(ds_DT, scenarios_fl, variables_erf_comp, variables_erf_comp, years,\n",
    "                              ref_year)\n",
    "# Standard deviation\n",
    "tabel_dT_slcfs_5th = table_of_sts(ds_DT, scenarios_fl, variables_erf_comp, variables_erf_comp,\n",
    "                                  years, ref_year, sts='5th percentile')\n",
    "tabel_dT_slcfs_95th = table_of_sts(ds_DT, scenarios_fl, variables_erf_comp, variables_erf_comp,\n",
    "                                   years, ref_year, sts='5th percentile')\n",
    "\n",
    "# Compute sum of SLCFs\n",
    "_ds = ds_sum.copy()\n",
    "vall = 'Delta T'\n",
    "\n"
   ]
  },
  {
   "cell_type": "code",
   "execution_count": 30,
   "metadata": {},
   "outputs": [
    {
     "data": {
      "text/html": [
       "<div>\n",
       "<style scoped>\n",
       "    .dataframe tbody tr th:only-of-type {\n",
       "        vertical-align: middle;\n",
       "    }\n",
       "\n",
       "    .dataframe tbody tr th {\n",
       "        vertical-align: top;\n",
       "    }\n",
       "\n",
       "    .dataframe thead th {\n",
       "        text-align: right;\n",
       "    }\n",
       "</style>\n",
       "<table border=\"1\" class=\"dataframe\">\n",
       "  <thead>\n",
       "    <tr style=\"text-align: right;\">\n",
       "      <th></th>\n",
       "      <th></th>\n",
       "      <th>ssp119</th>\n",
       "      <th>ssp126</th>\n",
       "      <th>ssp245</th>\n",
       "      <th>ssp370</th>\n",
       "      <th>ssp370-lowNTCF-aerchemmip</th>\n",
       "      <th>ssp370-lowNTCF-gidden</th>\n",
       "      <th>ssp585</th>\n",
       "    </tr>\n",
       "    <tr>\n",
       "      <th></th>\n",
       "      <th></th>\n",
       "      <th></th>\n",
       "      <th></th>\n",
       "      <th></th>\n",
       "      <th></th>\n",
       "      <th></th>\n",
       "      <th></th>\n",
       "      <th></th>\n",
       "    </tr>\n",
       "  </thead>\n",
       "  <tbody>\n",
       "    <tr>\n",
       "      <th rowspan=\"5\" valign=\"top\">2040</th>\n",
       "      <th>ch4</th>\n",
       "      <td>-0.0435992</td>\n",
       "      <td>-0.0295289</td>\n",
       "      <td>0.0385902</td>\n",
       "      <td>0.0763069</td>\n",
       "      <td>0.0763069</td>\n",
       "      <td>-0.0498562</td>\n",
       "      <td>0.0617722</td>\n",
       "    </tr>\n",
       "    <tr>\n",
       "      <th>aerosol-total</th>\n",
       "      <td>0.323866</td>\n",
       "      <td>0.271839</td>\n",
       "      <td>0.0584585</td>\n",
       "      <td>-0.046067</td>\n",
       "      <td>0.120891</td>\n",
       "      <td>0.120891</td>\n",
       "      <td>0.123326</td>\n",
       "    </tr>\n",
       "    <tr>\n",
       "      <th>o3</th>\n",
       "      <td>-0.0852854</td>\n",
       "      <td>-0.0591063</td>\n",
       "      <td>0.0192689</td>\n",
       "      <td>0.074026</td>\n",
       "      <td>0.0273773</td>\n",
       "      <td>-0.0496821</td>\n",
       "      <td>0.0449848</td>\n",
       "    </tr>\n",
       "    <tr>\n",
       "      <th>HFCs</th>\n",
       "      <td>0.00411744</td>\n",
       "      <td>0.0172799</td>\n",
       "      <td>0.0299945</td>\n",
       "      <td>0.0281403</td>\n",
       "      <td>0.0281403</td>\n",
       "      <td>0.028119</td>\n",
       "      <td>0.0457237</td>\n",
       "    </tr>\n",
       "    <tr>\n",
       "      <th>bc_on_snow</th>\n",
       "      <td>-0.0328418</td>\n",
       "      <td>-0.0276422</td>\n",
       "      <td>-0.00782164</td>\n",
       "      <td>0.0135538</td>\n",
       "      <td>-0.00978583</td>\n",
       "      <td>-0.00978583</td>\n",
       "      <td>-0.00495818</td>\n",
       "    </tr>\n",
       "    <tr>\n",
       "      <th rowspan=\"5\" valign=\"top\">2100</th>\n",
       "      <th>ch4</th>\n",
       "      <td>-0.190789</td>\n",
       "      <td>-0.182062</td>\n",
       "      <td>-0.0151432</td>\n",
       "      <td>0.290079</td>\n",
       "      <td>0.290079</td>\n",
       "      <td>-0.147388</td>\n",
       "      <td>0.147688</td>\n",
       "    </tr>\n",
       "    <tr>\n",
       "      <th>aerosol-total</th>\n",
       "      <td>0.506304</td>\n",
       "      <td>0.518272</td>\n",
       "      <td>0.362553</td>\n",
       "      <td>0.00249102</td>\n",
       "      <td>0.372908</td>\n",
       "      <td>0.372908</td>\n",
       "      <td>0.286462</td>\n",
       "    </tr>\n",
       "    <tr>\n",
       "      <th>o3</th>\n",
       "      <td>-0.15895</td>\n",
       "      <td>-0.157794</td>\n",
       "      <td>-0.0529765</td>\n",
       "      <td>0.251216</td>\n",
       "      <td>0.169516</td>\n",
       "      <td>-0.111748</td>\n",
       "      <td>0.0490074</td>\n",
       "    </tr>\n",
       "    <tr>\n",
       "      <th>HFCs</th>\n",
       "      <td>-0.00685072</td>\n",
       "      <td>-0.00439267</td>\n",
       "      <td>0.0605196</td>\n",
       "      <td>0.104603</td>\n",
       "      <td>0.104603</td>\n",
       "      <td>0.0898182</td>\n",
       "      <td>0.243852</td>\n",
       "    </tr>\n",
       "    <tr>\n",
       "      <th>bc_on_snow</th>\n",
       "      <td>-0.0476939</td>\n",
       "      <td>-0.0454972</td>\n",
       "      <td>-0.0455274</td>\n",
       "      <td>0.00433498</td>\n",
       "      <td>-0.0384597</td>\n",
       "      <td>-0.0384597</td>\n",
       "      <td>-0.0405021</td>\n",
       "    </tr>\n",
       "  </tbody>\n",
       "</table>\n",
       "</div>"
      ],
      "text/plain": [
       "                        ssp119      ssp126      ssp245      ssp370  \\\n",
       "                                                                     \n",
       "2040 ch4            -0.0435992  -0.0295289   0.0385902   0.0763069   \n",
       "     aerosol-total    0.323866    0.271839   0.0584585   -0.046067   \n",
       "     o3             -0.0852854  -0.0591063   0.0192689    0.074026   \n",
       "     HFCs           0.00411744   0.0172799   0.0299945   0.0281403   \n",
       "     bc_on_snow     -0.0328418  -0.0276422 -0.00782164   0.0135538   \n",
       "2100 ch4             -0.190789   -0.182062  -0.0151432    0.290079   \n",
       "     aerosol-total    0.506304    0.518272    0.362553  0.00249102   \n",
       "     o3               -0.15895   -0.157794  -0.0529765    0.251216   \n",
       "     HFCs          -0.00685072 -0.00439267   0.0605196    0.104603   \n",
       "     bc_on_snow     -0.0476939  -0.0454972  -0.0455274  0.00433498   \n",
       "\n",
       "                   ssp370-lowNTCF-aerchemmip ssp370-lowNTCF-gidden      ssp585  \n",
       "                                                                                \n",
       "2040 ch4                           0.0763069            -0.0498562   0.0617722  \n",
       "     aerosol-total                  0.120891              0.120891    0.123326  \n",
       "     o3                            0.0273773            -0.0496821   0.0449848  \n",
       "     HFCs                          0.0281403              0.028119   0.0457237  \n",
       "     bc_on_snow                  -0.00978583           -0.00978583 -0.00495818  \n",
       "2100 ch4                            0.290079             -0.147388    0.147688  \n",
       "     aerosol-total                  0.372908              0.372908    0.286462  \n",
       "     o3                             0.169516             -0.111748   0.0490074  \n",
       "     HFCs                           0.104603             0.0898182    0.243852  \n",
       "     bc_on_snow                   -0.0384597            -0.0384597  -0.0405021  "
      ]
     },
     "execution_count": 30,
     "metadata": {},
     "output_type": "execute_result"
    }
   ],
   "source": [
    "tabel_dT_slcfs"
   ]
  },
  {
   "cell_type": "code",
   "execution_count": 31,
   "metadata": {},
   "outputs": [
    {
     "data": {
      "text/html": [
       "<div>\n",
       "<style scoped>\n",
       "    .dataframe tbody tr th:only-of-type {\n",
       "        vertical-align: middle;\n",
       "    }\n",
       "\n",
       "    .dataframe tbody tr th {\n",
       "        vertical-align: top;\n",
       "    }\n",
       "\n",
       "    .dataframe thead th {\n",
       "        text-align: right;\n",
       "    }\n",
       "</style>\n",
       "<table border=\"1\" class=\"dataframe\">\n",
       "  <thead>\n",
       "    <tr style=\"text-align: right;\">\n",
       "      <th></th>\n",
       "      <th></th>\n",
       "      <th>ssp119</th>\n",
       "      <th>ssp126</th>\n",
       "      <th>ssp245</th>\n",
       "      <th>ssp370</th>\n",
       "      <th>ssp370-lowNTCF-aerchemmip</th>\n",
       "      <th>ssp370-lowNTCF-gidden</th>\n",
       "      <th>ssp585</th>\n",
       "    </tr>\n",
       "    <tr>\n",
       "      <th></th>\n",
       "      <th></th>\n",
       "      <th></th>\n",
       "      <th></th>\n",
       "      <th></th>\n",
       "      <th></th>\n",
       "      <th></th>\n",
       "      <th></th>\n",
       "      <th></th>\n",
       "    </tr>\n",
       "  </thead>\n",
       "  <tbody>\n",
       "    <tr>\n",
       "      <th rowspan=\"5\" valign=\"top\">2040</th>\n",
       "      <th>ch4</th>\n",
       "      <td>-0.0435992</td>\n",
       "      <td>-0.0295289</td>\n",
       "      <td>0.0385902</td>\n",
       "      <td>0.0763069</td>\n",
       "      <td>0.0763069</td>\n",
       "      <td>-0.0498562</td>\n",
       "      <td>0.0617722</td>\n",
       "    </tr>\n",
       "    <tr>\n",
       "      <th>aerosol-total</th>\n",
       "      <td>0.323866</td>\n",
       "      <td>0.271839</td>\n",
       "      <td>0.0584585</td>\n",
       "      <td>-0.046067</td>\n",
       "      <td>0.120891</td>\n",
       "      <td>0.120891</td>\n",
       "      <td>0.123326</td>\n",
       "    </tr>\n",
       "    <tr>\n",
       "      <th>o3</th>\n",
       "      <td>-0.0852854</td>\n",
       "      <td>-0.0591063</td>\n",
       "      <td>0.0192689</td>\n",
       "      <td>0.074026</td>\n",
       "      <td>0.0273773</td>\n",
       "      <td>-0.0496821</td>\n",
       "      <td>0.0449848</td>\n",
       "    </tr>\n",
       "    <tr>\n",
       "      <th>HFCs</th>\n",
       "      <td>0.00411744</td>\n",
       "      <td>0.0172799</td>\n",
       "      <td>0.0299945</td>\n",
       "      <td>0.0281403</td>\n",
       "      <td>0.0281403</td>\n",
       "      <td>0.028119</td>\n",
       "      <td>0.0457237</td>\n",
       "    </tr>\n",
       "    <tr>\n",
       "      <th>bc_on_snow</th>\n",
       "      <td>-0.0328418</td>\n",
       "      <td>-0.0276422</td>\n",
       "      <td>-0.00782164</td>\n",
       "      <td>0.0135538</td>\n",
       "      <td>-0.00978583</td>\n",
       "      <td>-0.00978583</td>\n",
       "      <td>-0.00495818</td>\n",
       "    </tr>\n",
       "    <tr>\n",
       "      <th rowspan=\"5\" valign=\"top\">2100</th>\n",
       "      <th>ch4</th>\n",
       "      <td>-0.190789</td>\n",
       "      <td>-0.182062</td>\n",
       "      <td>-0.0151432</td>\n",
       "      <td>0.290079</td>\n",
       "      <td>0.290079</td>\n",
       "      <td>-0.147388</td>\n",
       "      <td>0.147688</td>\n",
       "    </tr>\n",
       "    <tr>\n",
       "      <th>aerosol-total</th>\n",
       "      <td>0.506304</td>\n",
       "      <td>0.518272</td>\n",
       "      <td>0.362553</td>\n",
       "      <td>0.00249102</td>\n",
       "      <td>0.372908</td>\n",
       "      <td>0.372908</td>\n",
       "      <td>0.286462</td>\n",
       "    </tr>\n",
       "    <tr>\n",
       "      <th>o3</th>\n",
       "      <td>-0.15895</td>\n",
       "      <td>-0.157794</td>\n",
       "      <td>-0.0529765</td>\n",
       "      <td>0.251216</td>\n",
       "      <td>0.169516</td>\n",
       "      <td>-0.111748</td>\n",
       "      <td>0.0490074</td>\n",
       "    </tr>\n",
       "    <tr>\n",
       "      <th>HFCs</th>\n",
       "      <td>-0.00685072</td>\n",
       "      <td>-0.00439267</td>\n",
       "      <td>0.0605196</td>\n",
       "      <td>0.104603</td>\n",
       "      <td>0.104603</td>\n",
       "      <td>0.0898182</td>\n",
       "      <td>0.243852</td>\n",
       "    </tr>\n",
       "    <tr>\n",
       "      <th>bc_on_snow</th>\n",
       "      <td>-0.0476939</td>\n",
       "      <td>-0.0454972</td>\n",
       "      <td>-0.0455274</td>\n",
       "      <td>0.00433498</td>\n",
       "      <td>-0.0384597</td>\n",
       "      <td>-0.0384597</td>\n",
       "      <td>-0.0405021</td>\n",
       "    </tr>\n",
       "  </tbody>\n",
       "</table>\n",
       "</div>"
      ],
      "text/plain": [
       "                        ssp119      ssp126      ssp245      ssp370  \\\n",
       "                                                                     \n",
       "2040 ch4            -0.0435992  -0.0295289   0.0385902   0.0763069   \n",
       "     aerosol-total    0.323866    0.271839   0.0584585   -0.046067   \n",
       "     o3             -0.0852854  -0.0591063   0.0192689    0.074026   \n",
       "     HFCs           0.00411744   0.0172799   0.0299945   0.0281403   \n",
       "     bc_on_snow     -0.0328418  -0.0276422 -0.00782164   0.0135538   \n",
       "2100 ch4             -0.190789   -0.182062  -0.0151432    0.290079   \n",
       "     aerosol-total    0.506304    0.518272    0.362553  0.00249102   \n",
       "     o3               -0.15895   -0.157794  -0.0529765    0.251216   \n",
       "     HFCs          -0.00685072 -0.00439267   0.0605196    0.104603   \n",
       "     bc_on_snow     -0.0476939  -0.0454972  -0.0455274  0.00433498   \n",
       "\n",
       "                   ssp370-lowNTCF-aerchemmip ssp370-lowNTCF-gidden      ssp585  \n",
       "                                                                                \n",
       "2040 ch4                           0.0763069            -0.0498562   0.0617722  \n",
       "     aerosol-total                  0.120891              0.120891    0.123326  \n",
       "     o3                            0.0273773            -0.0496821   0.0449848  \n",
       "     HFCs                          0.0281403              0.028119   0.0457237  \n",
       "     bc_on_snow                  -0.00978583           -0.00978583 -0.00495818  \n",
       "2100 ch4                            0.290079             -0.147388    0.147688  \n",
       "     aerosol-total                  0.372908              0.372908    0.286462  \n",
       "     o3                             0.169516             -0.111748   0.0490074  \n",
       "     HFCs                           0.104603             0.0898182    0.243852  \n",
       "     bc_on_snow                   -0.0384597            -0.0384597  -0.0405021  "
      ]
     },
     "execution_count": 31,
     "metadata": {},
     "output_type": "execute_result"
    }
   ],
   "source": [
    "tabel_dT_slcfs"
   ]
  },
  {
   "cell_type": "code",
   "execution_count": 32,
   "metadata": {},
   "outputs": [
    {
     "data": {
      "text/html": [
       "<div>\n",
       "<style scoped>\n",
       "    .dataframe tbody tr th:only-of-type {\n",
       "        vertical-align: middle;\n",
       "    }\n",
       "\n",
       "    .dataframe tbody tr th {\n",
       "        vertical-align: top;\n",
       "    }\n",
       "\n",
       "    .dataframe thead th {\n",
       "        text-align: right;\n",
       "    }\n",
       "</style>\n",
       "<table border=\"1\" class=\"dataframe\">\n",
       "  <thead>\n",
       "    <tr style=\"text-align: right;\">\n",
       "      <th></th>\n",
       "      <th></th>\n",
       "      <th>ssp119</th>\n",
       "      <th>ssp126</th>\n",
       "      <th>ssp245</th>\n",
       "      <th>ssp370</th>\n",
       "      <th>ssp370-lowNTCF-aerchemmip</th>\n",
       "      <th>ssp370-lowNTCF-gidden</th>\n",
       "      <th>ssp585</th>\n",
       "    </tr>\n",
       "    <tr>\n",
       "      <th></th>\n",
       "      <th></th>\n",
       "      <th></th>\n",
       "      <th></th>\n",
       "      <th></th>\n",
       "      <th></th>\n",
       "      <th></th>\n",
       "      <th></th>\n",
       "      <th></th>\n",
       "    </tr>\n",
       "  </thead>\n",
       "  <tbody>\n",
       "    <tr>\n",
       "      <th>2040</th>\n",
       "      <th>Sum SLCFs</th>\n",
       "      <td>0.166257</td>\n",
       "      <td>0.172841</td>\n",
       "      <td>0.13849</td>\n",
       "      <td>0.14596</td>\n",
       "      <td>0.24293</td>\n",
       "      <td>0.0396862</td>\n",
       "      <td>0.270848</td>\n",
       "    </tr>\n",
       "    <tr>\n",
       "      <th>2100</th>\n",
       "      <th>Sum SLCFs</th>\n",
       "      <td>0.10202</td>\n",
       "      <td>0.128527</td>\n",
       "      <td>0.309426</td>\n",
       "      <td>0.652724</td>\n",
       "      <td>0.898647</td>\n",
       "      <td>0.16513</td>\n",
       "      <td>0.686508</td>\n",
       "    </tr>\n",
       "  </tbody>\n",
       "</table>\n",
       "</div>"
      ],
      "text/plain": [
       "                  ssp119    ssp126    ssp245    ssp370  \\\n",
       "                                                         \n",
       "2040 Sum SLCFs  0.166257  0.172841   0.13849   0.14596   \n",
       "2100 Sum SLCFs   0.10202  0.128527  0.309426  0.652724   \n",
       "\n",
       "               ssp370-lowNTCF-aerchemmip ssp370-lowNTCF-gidden    ssp585  \n",
       "                                                                          \n",
       "2040 Sum SLCFs                   0.24293             0.0396862  0.270848  \n",
       "2100 Sum SLCFs                  0.898647               0.16513  0.686508  "
      ]
     },
     "execution_count": 32,
     "metadata": {},
     "output_type": "execute_result"
    }
   ],
   "source": [
    "tabel_dT_sum_slcf = table_of_stats_varsums(ds_sum,  'Sum SLCFs', 'Sum SLCFs', years, ref_year)\n",
    "tabel_dT_sum_slcf_5 = table_of_stats_varsums(ds_sum,  'Sum SLCFs', 'Sum SLCFs', years, ref_year,\n",
    "                                             sts='5th percentile')\n",
    "tabel_dT_sum_slcf_95 = table_of_stats_varsums(ds_sum,  'Sum SLCFs', 'Sum SLCFs', years, ref_year,\n",
    "                                              sts='95th percentile')\n",
    "tabel_dT_sum_slcf"
   ]
  },
  {
   "cell_type": "code",
   "execution_count": 33,
   "metadata": {},
   "outputs": [],
   "source": [
    "rn_dic = {}\n",
    "for v in variables_all:\n",
    "    rn_dic[v] = get_var_nicename(v)"
   ]
  },
  {
   "cell_type": "code",
   "execution_count": 34,
   "metadata": {},
   "outputs": [],
   "source": [
    "tabel_dT_slcfs = tabel_dT_slcfs.rename(rn_dic)"
   ]
  },
  {
   "cell_type": "code",
   "execution_count": 35,
   "metadata": {},
   "outputs": [
    {
     "data": {
      "text/plain": [
       "{'ch4': 'Methane (CH$_4$)',\n",
       " 'aerosol-total': 'Aerosols',\n",
       " 'o3': 'Ozone (O$_3$)',\n",
       " 'HFCs': 'HFCs',\n",
       " 'bc_on_snow': 'BC on snow',\n",
       " 'total_anthropogenic': 'total_anthropogenic',\n",
       " 'total': 'total'}"
      ]
     },
     "execution_count": 35,
     "metadata": {},
     "output_type": "execute_result"
    }
   ],
   "source": [
    "rn_dic"
   ]
  },
  {
   "cell_type": "markdown",
   "metadata": {},
   "source": [
    "## colors"
   ]
  },
  {
   "cell_type": "code",
   "execution_count": 36,
   "metadata": {},
   "outputs": [
    {
     "name": "stderr",
     "output_type": "stream",
     "text": [
      "/home/sarambl/miniconda3/envs/rcmip_ch6/lib/python3.7/site-packages/pandas/core/indexing.py:1761: PerformanceWarning: indexing past lexsort depth may impact performance.\n",
      "  return self._getitem_tuple(key)\n"
     ]
    },
    {
     "data": {
      "text/plain": [
       "[(0.6784313725490196, 0.3686274509803922, 0.0),\n",
       " (0.4, 0.4, 0.37254901960784315),\n",
       " (0.8980392156862745, 0.8549019607843137, 0.2784313725490196),\n",
       " (0.21568627450980393, 0.49411764705882355, 0.7215686274509804),\n",
       " (0.9686274509803922, 0.5058823529411764, 0.7490196078431373)]"
      ]
     },
     "execution_count": 36,
     "metadata": {},
     "output_type": "execute_result"
    }
   ],
   "source": [
    "cdic = get_cmap_dic(variables_erf_comp)  # , palette='colorblind'):\n",
    "ls = [cdic[key] for key in variables_erf_comp]\n",
    "ls"
   ]
  },
  {
   "cell_type": "markdown",
   "metadata": {},
   "source": [
    "## Error bars only from model uncertainty\n",
    "The following uncertainties assume the ECS has a standard deviation of"
   ]
  },
  {
   "cell_type": "code",
   "execution_count": 37,
   "metadata": {},
   "outputs": [
    {
     "data": {
      "image/png": "[encoded data removed]",
      "text/plain": [
       "<Figure size 720x316.8 with 2 Axes>"
      ]
     },
     "metadata": {
      "needs_background": "light"
     },
     "output_type": "display_data"
    }
   ],
   "source": [
    "from ar6_ch6_rcmipfigs.constants import RESULTS_DIR\n",
    "from matplotlib.ticker import (MultipleLocator)\n",
    "\n",
    "fig, axs = plt.subplots(1, len(years), figsize=[10, 4.4], sharex=False, sharey=True)\n",
    "tits = ['Near Term surface temperature change (2040 relative to 2021)',\n",
    "        'Long Term surface T change 2100 relatie to 2021)']\n",
    "tits = ['Change in GSAT in 2040 relative to 2021', 'Change in GSAT in 2100 relative to 2021']\n",
    "for yr, ax, tit in zip(years, axs, tits):\n",
    "    ntot = 'Scenario total'\n",
    "    # Pick out year and do various renames:\n",
    "    # Total antropogenic\n",
    "    tot_yr = tabel_dT_anthrop.loc[yr].rename(\n",
    "        {'Total': ntot, 'ssp370-lowNTCF-aerchemmip': 'ssp370-lowNTCF\\n-aerchemmip'})\n",
    "    # Sum SLCFs\n",
    "    sum_yr = tabel_dT_sum_slcf.loc[yr].rename(\n",
    "        {'Total': ntot, 'ssp370-lowNTCF-aerchemmip': 'ssp370-lowNTCF\\n-aerchemmip'})\n",
    "    # Plot bars for anthropopogenic total:\n",
    "    ax.barh(tot_yr.transpose().index, tot_yr.transpose()[ntot].values, color='k', label='Scenario total', alpha=.2,\n",
    "            )\n",
    "    # Plot bars for SLCFs total:\n",
    "    ntot = 'Sum SLCFs'\n",
    "    s_x = sum_yr.transpose().index\n",
    "    s_y = sum_yr.transpose()[ntot].values\n",
    "\n",
    "    # Plot stacked plot of components:\n",
    "    _tab = tabel_dT_slcfs.loc[yr].transpose().rename({'ssp370-lowNTCF-aerchemmip': 'ssp370-lowNTCF\\n-aerchemmip'})\n",
    "\n",
    "    a = _tab.plot(kind='barh', stacked=True, ax=ax, color=ls, legend=(yr != '2040'))  # , grid=True)#stac)\n",
    "    _t = _tab.sum(axis=1)#, c=100)#.plot(kind='barh', )\n",
    "    ax.scatter(_t, list(_t.reset_index().index), zorder=10, c='w', marker='d')\n",
    "\n",
    "    if not yr == '2040':\n",
    "        ax.legend(frameon=False, ncol=1)  # [l],labels=['Sce!!nario total'], loc = 4)#'lower right')\n",
    "    # Zero line:\n",
    "    ax.axvline(0, linestyle='--', color='k', alpha=0.4)\n",
    "    ax.set_title(tit)\n",
    "    ax.set_xlabel('$\\Delta$ GSAT ($^\\circ$C)')\n",
    "    ax.xaxis.set_minor_locator(MultipleLocator(.1))\n",
    "    # ax.grid(axis='y', which='major')\n",
    "\n",
    "ax = axs[0]\n",
    "\n",
    "ax.spines['right'].set_visible(False)\n",
    "ax.spines['top'].set_visible(False)\n",
    "ax.spines['left'].set_visible(False)\n",
    "ax.tick_params(right=False, left=False)  # , color='w')\n",
    "\n",
    "ax = axs[1]\n",
    "ax.spines['right'].set_visible(False)\n",
    "ax.spines['top'].set_visible(False)\n",
    "ax.spines['left'].set_visible(False)\n",
    "ax.tick_params(labelleft=False, right=False, left=False, color='w')\n",
    "ax.tick_params(labelright=False, labelleft=False, right=False, left=False, color='w')\n",
    "ax.yaxis.set_visible(False)\n",
    "plt.tight_layout()\n",
    "\n",
    "fn = RESULTS_DIR / 'figures/stack_bar_influence_years.png'\n",
    "plt.tight_layout()\n",
    "ax = plt.gca()\n",
    "\n",
    "plt.savefig(fn, dpi=300)"
   ]
  },
  {
   "cell_type": "code",
   "execution_count": 38,
   "metadata": {
    "jupyter": {
     "source_hidden": true
    }
   },
   "outputs": [
    {
     "data": {
      "image/png": "[encoded data removed]",
      "text/plain": [
       "<Figure size 720x316.8 with 2 Axes>"
      ]
     },
     "metadata": {
      "needs_background": "light"
     },
     "output_type": "display_data"
    }
   ],
   "source": [
    "from ar6_ch6_rcmipfigs.constants import RESULTS_DIR\n",
    "from matplotlib.ticker import (MultipleLocator)\n",
    "\n",
    "fig, axs = plt.subplots(1, len(years), figsize=[10, 4.4], sharex=False, sharey=True)\n",
    "tits = ['Near Term surface temperature change (2040 relative to 2021)',\n",
    "        'Long Term surface T change 2100 relatie to 2021)']\n",
    "tits = ['Change in GSAT in 2040 relative to 2021', 'Change in GSAT in 2100 relative to 2021']\n",
    "for yr, ax, tit in zip(years, axs, tits):\n",
    "    ntot = 'Scenario total'\n",
    "    # Pick out year and do various renames:\n",
    "    # Total antropogenic\n",
    "    tot_yr = tabel_dT_anthrop.loc[yr].rename(\n",
    "        {'Total': ntot, 'ssp370-lowNTCF-aerchemmip': 'ssp370-lowNTCF\\n-aerchemmip'})\n",
    "    # Sum SLCFs\n",
    "    sum_yr = tabel_dT_sum_slcf.loc[yr].rename(\n",
    "        {'Total': ntot, 'ssp370-lowNTCF-aerchemmip': 'ssp370-lowNTCF\\n-aerchemmip'})\n",
    "    # Plot bars for anthropopogenic total:\n",
    "    ax.barh(tot_yr.transpose().index, tot_yr.transpose()[ntot].values, color='k', label='Scenario total', alpha=.2,\n",
    "            )\n",
    "    # Plot bars for SLCFs total:\n",
    "    ntot = 'Sum SLCFs'\n",
    "    s_x = sum_yr.transpose().index\n",
    "    s_y = sum_yr.transpose()[ntot].values\n",
    "\n",
    "    # Plot stacked plot of components:\n",
    "    _tab = tabel_dT_slcfs.loc[yr].transpose().rename({'ssp370-lowNTCF-aerchemmip': 'ssp370-lowNTCF\\n-aerchemmip'})\n",
    "\n",
    "    a = _tab.plot(kind='barh', stacked=True, ax=ax, color=ls, legend=(yr != '2040'))  # , grid=True)#stac)\n",
    "    _t = _tab.sum(axis=1)#, c=100)#.plot(kind='barh', )\n",
    "    ax.scatter(_t, list(_t.reset_index().index), zorder=10, c='w', marker='d')\n",
    "\n",
    "    if not yr == '2040':\n",
    "        ax.legend(frameon=False, ncol=1)  # [l],labels=['Sce!!nario total'], loc = 4)#'lower right')\n",
    "    # Zero line:\n",
    "    ax.axvline(0, linestyle='--', color='k', alpha=0.4)\n",
    "    ax.set_title(tit)\n",
    "    ax.set_xlabel('$\\Delta$ GSAT ($^\\circ$C)')\n",
    "    ax.xaxis.set_minor_locator(MultipleLocator(.1))\n",
    "    # ax.grid(axis='y', which='major')\n",
    "\n",
    "ax = axs[0]\n",
    "\n",
    "ax.spines['right'].set_visible(False)\n",
    "ax.spines['top'].set_visible(False)\n",
    "ax.spines['left'].set_visible(False)\n",
    "ax.tick_params(right=False, left=False)  # , color='w')\n",
    "\n",
    "ax = axs[1]\n",
    "ax.spines['right'].set_visible(False)\n",
    "ax.spines['top'].set_visible(False)\n",
    "ax.spines['left'].set_visible(False)\n",
    "ax.tick_params(labelleft=False, right=False, left=False, color='w')\n",
    "ax.tick_params(labelright=False, labelleft=False, right=False, left=False, color='w')\n",
    "ax.yaxis.set_visible(False)\n",
    "plt.tight_layout()\n",
    "\n",
    "fn = RESULTS_DIR / 'figures/stack_bar_influence_years.png'\n",
    "plt.tight_layout()\n",
    "ax = plt.gca()\n",
    "\n",
    "plt.savefig(fn, dpi=300)"
   ]
  },
  {
   "cell_type": "code",
   "execution_count": 39,
   "metadata": {},
   "outputs": [
    {
     "name": "stdout",
     "output_type": "stream",
     "text": [
      "['ssp119', 'ssp126', 'ssp245', 'ssp370', 'ssp585']\n"
     ]
    }
   ],
   "source": [
    "scen_no_lowNTCF = [scn for scn in scenarios_fl if 'lowNTCF' not in scn]\n",
    "print(scen_no_lowNTCF)"
   ]
  },
  {
   "cell_type": "code",
   "execution_count": 40,
   "metadata": {},
   "outputs": [],
   "source": [
    "tabel_dT_anthrop2= tabel_dT_anthrop[scenarios_fl_oneNTCF]\n",
    "tabel_dT_slcfs2= tabel_dT_slcfs[scenarios_fl_oneNTCF]"
   ]
  },
  {
   "cell_type": "code",
   "execution_count": 41,
   "metadata": {},
   "outputs": [
    {
     "data": {
      "text/html": [
       "<div>\n",
       "<style scoped>\n",
       "    .dataframe tbody tr th:only-of-type {\n",
       "        vertical-align: middle;\n",
       "    }\n",
       "\n",
       "    .dataframe tbody tr th {\n",
       "        vertical-align: top;\n",
       "    }\n",
       "\n",
       "    .dataframe thead th {\n",
       "        text-align: right;\n",
       "    }\n",
       "</style>\n",
       "<table border=\"1\" class=\"dataframe\">\n",
       "  <thead>\n",
       "    <tr style=\"text-align: right;\">\n",
       "      <th></th>\n",
       "      <th></th>\n",
       "      <th>ssp119</th>\n",
       "      <th>ssp126</th>\n",
       "      <th>ssp245</th>\n",
       "      <th>ssp370</th>\n",
       "      <th>ssp370-lowNTCF-aerchemmip</th>\n",
       "      <th>ssp585</th>\n",
       "    </tr>\n",
       "    <tr>\n",
       "      <th></th>\n",
       "      <th></th>\n",
       "      <th></th>\n",
       "      <th></th>\n",
       "      <th></th>\n",
       "      <th></th>\n",
       "      <th></th>\n",
       "      <th></th>\n",
       "    </tr>\n",
       "  </thead>\n",
       "  <tbody>\n",
       "    <tr>\n",
       "      <th rowspan=\"5\" valign=\"top\">2040</th>\n",
       "      <th>Methane (CH$_4$)</th>\n",
       "      <td>-0.0435992</td>\n",
       "      <td>-0.0295289</td>\n",
       "      <td>0.0385902</td>\n",
       "      <td>0.0763069</td>\n",
       "      <td>0.0763069</td>\n",
       "      <td>0.0617722</td>\n",
       "    </tr>\n",
       "    <tr>\n",
       "      <th>Aerosols</th>\n",
       "      <td>0.323866</td>\n",
       "      <td>0.271839</td>\n",
       "      <td>0.0584585</td>\n",
       "      <td>-0.046067</td>\n",
       "      <td>0.120891</td>\n",
       "      <td>0.123326</td>\n",
       "    </tr>\n",
       "    <tr>\n",
       "      <th>Ozone (O$_3$)</th>\n",
       "      <td>-0.0852854</td>\n",
       "      <td>-0.0591063</td>\n",
       "      <td>0.0192689</td>\n",
       "      <td>0.074026</td>\n",
       "      <td>0.0273773</td>\n",
       "      <td>0.0449848</td>\n",
       "    </tr>\n",
       "    <tr>\n",
       "      <th>HFCs</th>\n",
       "      <td>0.00411744</td>\n",
       "      <td>0.0172799</td>\n",
       "      <td>0.0299945</td>\n",
       "      <td>0.0281403</td>\n",
       "      <td>0.0281403</td>\n",
       "      <td>0.0457237</td>\n",
       "    </tr>\n",
       "    <tr>\n",
       "      <th>BC on snow</th>\n",
       "      <td>-0.0328418</td>\n",
       "      <td>-0.0276422</td>\n",
       "      <td>-0.00782164</td>\n",
       "      <td>0.0135538</td>\n",
       "      <td>-0.00978583</td>\n",
       "      <td>-0.00495818</td>\n",
       "    </tr>\n",
       "    <tr>\n",
       "      <th rowspan=\"5\" valign=\"top\">2100</th>\n",
       "      <th>Methane (CH$_4$)</th>\n",
       "      <td>-0.190789</td>\n",
       "      <td>-0.182062</td>\n",
       "      <td>-0.0151432</td>\n",
       "      <td>0.290079</td>\n",
       "      <td>0.290079</td>\n",
       "      <td>0.147688</td>\n",
       "    </tr>\n",
       "    <tr>\n",
       "      <th>Aerosols</th>\n",
       "      <td>0.506304</td>\n",
       "      <td>0.518272</td>\n",
       "      <td>0.362553</td>\n",
       "      <td>0.00249102</td>\n",
       "      <td>0.372908</td>\n",
       "      <td>0.286462</td>\n",
       "    </tr>\n",
       "    <tr>\n",
       "      <th>Ozone (O$_3$)</th>\n",
       "      <td>-0.15895</td>\n",
       "      <td>-0.157794</td>\n",
       "      <td>-0.0529765</td>\n",
       "      <td>0.251216</td>\n",
       "      <td>0.169516</td>\n",
       "      <td>0.0490074</td>\n",
       "    </tr>\n",
       "    <tr>\n",
       "      <th>HFCs</th>\n",
       "      <td>-0.00685072</td>\n",
       "      <td>-0.00439267</td>\n",
       "      <td>0.0605196</td>\n",
       "      <td>0.104603</td>\n",
       "      <td>0.104603</td>\n",
       "      <td>0.243852</td>\n",
       "    </tr>\n",
       "    <tr>\n",
       "      <th>BC on snow</th>\n",
       "      <td>-0.0476939</td>\n",
       "      <td>-0.0454972</td>\n",
       "      <td>-0.0455274</td>\n",
       "      <td>0.00433498</td>\n",
       "      <td>-0.0384597</td>\n",
       "      <td>-0.0405021</td>\n",
       "    </tr>\n",
       "  </tbody>\n",
       "</table>\n",
       "</div>"
      ],
      "text/plain": [
       "                           ssp119      ssp126      ssp245      ssp370  \\\n",
       "                                                                        \n",
       "2040 Methane (CH$_4$)  -0.0435992  -0.0295289   0.0385902   0.0763069   \n",
       "     Aerosols            0.323866    0.271839   0.0584585   -0.046067   \n",
       "     Ozone (O$_3$)     -0.0852854  -0.0591063   0.0192689    0.074026   \n",
       "     HFCs              0.00411744   0.0172799   0.0299945   0.0281403   \n",
       "     BC on snow        -0.0328418  -0.0276422 -0.00782164   0.0135538   \n",
       "2100 Methane (CH$_4$)   -0.190789   -0.182062  -0.0151432    0.290079   \n",
       "     Aerosols            0.506304    0.518272    0.362553  0.00249102   \n",
       "     Ozone (O$_3$)       -0.15895   -0.157794  -0.0529765    0.251216   \n",
       "     HFCs             -0.00685072 -0.00439267   0.0605196    0.104603   \n",
       "     BC on snow        -0.0476939  -0.0454972  -0.0455274  0.00433498   \n",
       "\n",
       "                      ssp370-lowNTCF-aerchemmip      ssp585  \n",
       "                                                             \n",
       "2040 Methane (CH$_4$)                 0.0763069   0.0617722  \n",
       "     Aerosols                          0.120891    0.123326  \n",
       "     Ozone (O$_3$)                    0.0273773   0.0449848  \n",
       "     HFCs                             0.0281403   0.0457237  \n",
       "     BC on snow                     -0.00978583 -0.00495818  \n",
       "2100 Methane (CH$_4$)                  0.290079    0.147688  \n",
       "     Aerosols                          0.372908    0.286462  \n",
       "     Ozone (O$_3$)                     0.169516   0.0490074  \n",
       "     HFCs                              0.104603    0.243852  \n",
       "     BC on snow                      -0.0384597  -0.0405021  "
      ]
     },
     "execution_count": 41,
     "metadata": {},
     "output_type": "execute_result"
    }
   ],
   "source": [
    "tabel_dT_slcfs2"
   ]
  },
  {
   "cell_type": "markdown",
   "metadata": {},
   "source": [
    "- Include BC in aerosol total. \n",
    "- aaarggh, sorry, a last request, maybe one version with also SSP370lowNTC with and without CH4 decrease (as it was in SOD) and one without and we will see later which one we choose depending on the discussion which will remain in the TS.\n",
    "- net values. Send. \n",
    "- include total in black. "
   ]
  },
  {
   "cell_type": "code",
   "execution_count": 42,
   "metadata": {},
   "outputs": [
    {
     "data": {
      "image/png": "[encoded data removed]",
      "text/plain": [
       "<Figure size 720x302.4 with 2 Axes>"
      ]
     },
     "metadata": {
      "needs_background": "light"
     },
     "output_type": "display_data"
    }
   ],
   "source": [
    "from ar6_ch6_rcmipfigs.constants import RESULTS_DIR\n",
    "from matplotlib.ticker import (MultipleLocator)\n",
    "\n",
    "fig, axs = plt.subplots(1, len(years), figsize=[10, 4.2], sharex=False, sharey=True)\n",
    "tits = ['Near Term surface temperature change (2040 relative to 2021)',\n",
    "        'Long Term surface T change 2100 relatie to 2021)']\n",
    "tits = ['Change in GSAT in 2040 relative to 2021', 'Change in GSAT in 2100 relative to 2021']\n",
    "for yr, ax, tit in zip(years, axs, tits):\n",
    "    ntot = 'Scenario total'\n",
    "    # Pick out year and do various renames:\n",
    "    # Total antropogenic\n",
    "    tot_yr = tabel_dT_anthrop2.loc[yr].rename(\n",
    "        {'Total': ntot, 'ssp370-lowNTCF-aerchemmip': 'ssp370-lowNTCF\\n-aerchemmip'})\n",
    "    # Sum SLCFs\n",
    "    sum_yr = tabel_dT_sum_slcf.loc[yr].rename(\n",
    "        {'Total': ntot, 'ssp370-lowNTCF-aerchemmip': 'ssp370-lowNTCF\\n-aerchemmip'})\n",
    "    # Plot bars for anthropopogenic total:\n",
    "    ax.barh(tot_yr.transpose().index, tot_yr.transpose()[ntot].values, color='k', label='Scenario total', alpha=.2,\n",
    "            )\n",
    "    # Plot bars for SLCFs total:\n",
    "    ntot = 'Sum SLCFs'\n",
    "    s_x = sum_yr.transpose().index\n",
    "    s_y = sum_yr.transpose()[ntot].values\n",
    "\n",
    "    # Plot stacked plot of components:\n",
    "    _tab = tabel_dT_slcfs2.loc[yr].transpose().rename({'ssp370-lowNTCF-aerchemmip': 'ssp370-lowNTCF\\n-aerchemmip'})\n",
    "\n",
    "    a = _tab.plot(kind='barh', stacked=True, ax=ax, color=ls, legend=(yr != '2040'))  # , grid=True)#stac)\n",
    "    _t = _tab.sum(axis=1)#, c=100)#.plot(kind='barh', )\n",
    "    #ax.scatter(_t, _t.index, zorder=100, c='w', marker='d')\n",
    "    ax.scatter(_t, list(_t.reset_index().index), zorder=10, c='w', marker='d')\n",
    "    \n",
    "    #a = _tab.plot(kind='barh', stacked=True, ax=ax, color=ls, legend=(yr != '2040'))  # , grid=True)#stac)\n",
    "    if not yr == '2040':\n",
    "        ax.legend(frameon=False, ncol=1)  # [l],labels=['Sce!!nario total'], loc = 4)#'lower right')\n",
    "    # Zero line:\n",
    "    ax.axvline(0, linestyle='--', color='k', alpha=0.4)\n",
    "    ax.set_title(tit)\n",
    "    ax.set_xlabel('$\\Delta$ GSAT ($^\\circ$C)')\n",
    "    ax.xaxis.set_minor_locator(MultipleLocator(.1))\n",
    "    # ax.grid(axis='y', which='major')\n",
    "\n",
    "ax = axs[0]\n",
    "\n",
    "ax.spines['right'].set_visible(False)\n",
    "ax.spines['top'].set_visible(False)\n",
    "ax.spines['left'].set_visible(False)\n",
    "ax.tick_params(right=False, left=False)  # , color='w')\n",
    "\n",
    "ax = axs[1]\n",
    "ax.spines['right'].set_visible(False)\n",
    "ax.spines['top'].set_visible(False)\n",
    "ax.spines['left'].set_visible(False)\n",
    "ax.tick_params(labelleft=False, right=False, left=False, color='w')\n",
    "ax.tick_params(labelright=False, labelleft=False, right=False, left=False, color='w')\n",
    "ax.yaxis.set_visible(False)\n",
    "plt.tight_layout()\n",
    "\n",
    "fn = RESULTS_DIR / 'figures/stack_bar_influence_years_one_lowNTCF.png'\n",
    "plt.tight_layout()\n",
    "ax = plt.gca()\n",
    "\n",
    "plt.savefig(fn, dpi=300)"
   ]
  },
  {
   "cell_type": "code",
   "execution_count": 43,
   "metadata": {},
   "outputs": [],
   "source": [
    "tabel_dT_anthrop2= tabel_dT_anthrop[scen_no_lowNTCF]\n",
    "tabel_dT_slcfs2= tabel_dT_slcfs[scen_no_lowNTCF]"
   ]
  },
  {
   "cell_type": "code",
   "execution_count": 44,
   "metadata": {},
   "outputs": [
    {
     "data": {
      "text/html": [
       "<div>\n",
       "<style scoped>\n",
       "    .dataframe tbody tr th:only-of-type {\n",
       "        vertical-align: middle;\n",
       "    }\n",
       "\n",
       "    .dataframe tbody tr th {\n",
       "        vertical-align: top;\n",
       "    }\n",
       "\n",
       "    .dataframe thead th {\n",
       "        text-align: right;\n",
       "    }\n",
       "</style>\n",
       "<table border=\"1\" class=\"dataframe\">\n",
       "  <thead>\n",
       "    <tr style=\"text-align: right;\">\n",
       "      <th></th>\n",
       "      <th></th>\n",
       "      <th>ssp119</th>\n",
       "      <th>ssp126</th>\n",
       "      <th>ssp245</th>\n",
       "      <th>ssp370</th>\n",
       "      <th>ssp585</th>\n",
       "    </tr>\n",
       "    <tr>\n",
       "      <th></th>\n",
       "      <th></th>\n",
       "      <th></th>\n",
       "      <th></th>\n",
       "      <th></th>\n",
       "      <th></th>\n",
       "      <th></th>\n",
       "    </tr>\n",
       "  </thead>\n",
       "  <tbody>\n",
       "    <tr>\n",
       "      <th rowspan=\"5\" valign=\"top\">2040</th>\n",
       "      <th>Methane (CH$_4$)</th>\n",
       "      <td>-0.0435992</td>\n",
       "      <td>-0.0295289</td>\n",
       "      <td>0.0385902</td>\n",
       "      <td>0.0763069</td>\n",
       "      <td>0.0617722</td>\n",
       "    </tr>\n",
       "    <tr>\n",
       "      <th>Aerosols</th>\n",
       "      <td>0.323866</td>\n",
       "      <td>0.271839</td>\n",
       "      <td>0.0584585</td>\n",
       "      <td>-0.046067</td>\n",
       "      <td>0.123326</td>\n",
       "    </tr>\n",
       "    <tr>\n",
       "      <th>Ozone (O$_3$)</th>\n",
       "      <td>-0.0852854</td>\n",
       "      <td>-0.0591063</td>\n",
       "      <td>0.0192689</td>\n",
       "      <td>0.074026</td>\n",
       "      <td>0.0449848</td>\n",
       "    </tr>\n",
       "    <tr>\n",
       "      <th>HFCs</th>\n",
       "      <td>0.00411744</td>\n",
       "      <td>0.0172799</td>\n",
       "      <td>0.0299945</td>\n",
       "      <td>0.0281403</td>\n",
       "      <td>0.0457237</td>\n",
       "    </tr>\n",
       "    <tr>\n",
       "      <th>BC on snow</th>\n",
       "      <td>-0.0328418</td>\n",
       "      <td>-0.0276422</td>\n",
       "      <td>-0.00782164</td>\n",
       "      <td>0.0135538</td>\n",
       "      <td>-0.00495818</td>\n",
       "    </tr>\n",
       "    <tr>\n",
       "      <th rowspan=\"5\" valign=\"top\">2100</th>\n",
       "      <th>Methane (CH$_4$)</th>\n",
       "      <td>-0.190789</td>\n",
       "      <td>-0.182062</td>\n",
       "      <td>-0.0151432</td>\n",
       "      <td>0.290079</td>\n",
       "      <td>0.147688</td>\n",
       "    </tr>\n",
       "    <tr>\n",
       "      <th>Aerosols</th>\n",
       "      <td>0.506304</td>\n",
       "      <td>0.518272</td>\n",
       "      <td>0.362553</td>\n",
       "      <td>0.00249102</td>\n",
       "      <td>0.286462</td>\n",
       "    </tr>\n",
       "    <tr>\n",
       "      <th>Ozone (O$_3$)</th>\n",
       "      <td>-0.15895</td>\n",
       "      <td>-0.157794</td>\n",
       "      <td>-0.0529765</td>\n",
       "      <td>0.251216</td>\n",
       "      <td>0.0490074</td>\n",
       "    </tr>\n",
       "    <tr>\n",
       "      <th>HFCs</th>\n",
       "      <td>-0.00685072</td>\n",
       "      <td>-0.00439267</td>\n",
       "      <td>0.0605196</td>\n",
       "      <td>0.104603</td>\n",
       "      <td>0.243852</td>\n",
       "    </tr>\n",
       "    <tr>\n",
       "      <th>BC on snow</th>\n",
       "      <td>-0.0476939</td>\n",
       "      <td>-0.0454972</td>\n",
       "      <td>-0.0455274</td>\n",
       "      <td>0.00433498</td>\n",
       "      <td>-0.0405021</td>\n",
       "    </tr>\n",
       "  </tbody>\n",
       "</table>\n",
       "</div>"
      ],
      "text/plain": [
       "                           ssp119      ssp126      ssp245      ssp370  \\\n",
       "                                                                        \n",
       "2040 Methane (CH$_4$)  -0.0435992  -0.0295289   0.0385902   0.0763069   \n",
       "     Aerosols            0.323866    0.271839   0.0584585   -0.046067   \n",
       "     Ozone (O$_3$)     -0.0852854  -0.0591063   0.0192689    0.074026   \n",
       "     HFCs              0.00411744   0.0172799   0.0299945   0.0281403   \n",
       "     BC on snow        -0.0328418  -0.0276422 -0.00782164   0.0135538   \n",
       "2100 Methane (CH$_4$)   -0.190789   -0.182062  -0.0151432    0.290079   \n",
       "     Aerosols            0.506304    0.518272    0.362553  0.00249102   \n",
       "     Ozone (O$_3$)       -0.15895   -0.157794  -0.0529765    0.251216   \n",
       "     HFCs             -0.00685072 -0.00439267   0.0605196    0.104603   \n",
       "     BC on snow        -0.0476939  -0.0454972  -0.0455274  0.00433498   \n",
       "\n",
       "                           ssp585  \n",
       "                                   \n",
       "2040 Methane (CH$_4$)   0.0617722  \n",
       "     Aerosols            0.123326  \n",
       "     Ozone (O$_3$)      0.0449848  \n",
       "     HFCs               0.0457237  \n",
       "     BC on snow       -0.00495818  \n",
       "2100 Methane (CH$_4$)    0.147688  \n",
       "     Aerosols            0.286462  \n",
       "     Ozone (O$_3$)      0.0490074  \n",
       "     HFCs                0.243852  \n",
       "     BC on snow        -0.0405021  "
      ]
     },
     "execution_count": 44,
     "metadata": {},
     "output_type": "execute_result"
    }
   ],
   "source": [
    "tabel_dT_slcfs2"
   ]
  },
  {
   "cell_type": "code",
   "execution_count": 45,
   "metadata": {},
   "outputs": [
    {
     "data": {
      "image/png": "[encoded data removed]",
      "text/plain": [
       "<Figure size 720x273.6 with 2 Axes>"
      ]
     },
     "metadata": {
      "needs_background": "light"
     },
     "output_type": "display_data"
    }
   ],
   "source": [
    "from ar6_ch6_rcmipfigs.constants import RESULTS_DIR\n",
    "from matplotlib.ticker import (MultipleLocator)\n",
    "\n",
    "fig, axs = plt.subplots(1, len(years), figsize=[10, 3.8], sharex=False, sharey=True)\n",
    "tits = ['Near Term surface temperature change (2040 relative to 2021)',\n",
    "        'Long Term surface T change 2100 relatie to 2021)']\n",
    "tits = ['Change in GSAT in 2040 relative to 2021', 'Change in GSAT in 2100 relative to 2021']\n",
    "for yr, ax, tit in zip(years, axs, tits):\n",
    "    ntot = 'Scenario total'\n",
    "    # Pick out year and do various renames:\n",
    "    # Total antropogenic\n",
    "    tot_yr = tabel_dT_anthrop2.loc[yr].rename(\n",
    "        {'Total': ntot, 'ssp370-lowNTCF-aerchemmip': 'ssp370-lowNTCF\\n-aerchemmip'})\n",
    "    # Sum SLCFs\n",
    "    sum_yr = tabel_dT_sum_slcf.loc[yr].rename(\n",
    "        {'Total': ntot, 'ssp370-lowNTCF-aerchemmip': 'ssp370-lowNTCF\\n-aerchemmip'})\n",
    "    # Plot bars for anthropopogenic total:\n",
    "    ax.barh(tot_yr.transpose().index, tot_yr.transpose()[ntot].values, color='k', label='Scenario total', alpha=.2,\n",
    "            )\n",
    "    # Plot bars for SLCFs total:\n",
    "    ntot = 'Sum SLCFs'\n",
    "    s_x = sum_yr.transpose().index\n",
    "    s_y = sum_yr.transpose()[ntot].values\n",
    "\n",
    "    # Plot stacked plot of components:\n",
    "    _tab = tabel_dT_slcfs2.loc[yr].transpose().rename({'ssp370-lowNTCF-aerchemmip': 'ssp370-lowNTCF\\n-aerchemmip'})\n",
    "\n",
    "    a = _tab.plot(kind='barh', stacked=True, ax=ax, color=ls, legend=(yr != '2040'))  # , grid=True)#stac)\n",
    "    _t = _tab.sum(axis=1)#, c=100)#.plot(kind='barh', )\n",
    "    #ax.scatter(_t, _t.index, zorder=100, c='w', marker='d')\n",
    "    ax.scatter(_t, list(_t.reset_index().index), zorder=10, c='w', marker='d')\n",
    "    \n",
    "    #a = _tab.plot(kind='barh', stacked=True, ax=ax, color=ls, legend=(yr != '2040'))  # , grid=True)#stac)\n",
    "    if not yr == '2040':\n",
    "        ax.legend(frameon=False, ncol=1)  # [l],labels=['Sce!!nario total'], loc = 4)#'lower right')\n",
    "    # Zero line:\n",
    "    ax.axvline(0, linestyle='--', color='k', alpha=0.4)\n",
    "    ax.set_title(tit)\n",
    "    ax.set_xlabel('$\\Delta$ GSAT ($^\\circ$C)')\n",
    "    ax.xaxis.set_minor_locator(MultipleLocator(.1))\n",
    "    # ax.grid(axis='y', which='major')\n",
    "\n",
    "ax = axs[0]\n",
    "\n",
    "ax.spines['right'].set_visible(False)\n",
    "ax.spines['top'].set_visible(False)\n",
    "ax.spines['left'].set_visible(False)\n",
    "ax.tick_params(right=False, left=False)  # , color='w')\n",
    "\n",
    "ax = axs[1]\n",
    "ax.spines['right'].set_visible(False)\n",
    "ax.spines['top'].set_visible(False)\n",
    "ax.spines['left'].set_visible(False)\n",
    "ax.tick_params(labelleft=False, right=False, left=False, color='w')\n",
    "ax.tick_params(labelright=False, labelleft=False, right=False, left=False, color='w')\n",
    "ax.yaxis.set_visible(False)\n",
    "plt.tight_layout()\n",
    "\n",
    "fn = RESULTS_DIR / 'figures/stack_bar_influence_years_no_lowNTCF.png'\n",
    "plt.tight_layout()\n",
    "ax = plt.gca()\n",
    "\n",
    "plt.savefig(fn, dpi=300)"
   ]
  },
  {
   "cell_type": "code",
   "execution_count": 46,
   "metadata": {},
   "outputs": [
    {
     "data": {
      "text/plain": [
       "['ch4', 'aerosol-total', 'o3', 'HFCs', 'bc_on_snow']"
      ]
     },
     "execution_count": 46,
     "metadata": {},
     "output_type": "execute_result"
    }
   ],
   "source": [
    "variables_erf_comp"
   ]
  },
  {
   "cell_type": "code",
   "execution_count": 47,
   "metadata": {},
   "outputs": [],
   "source": [
    "variables_erf_comp_nbc = ['ch4', 'aerosol-total-with_bc', 'o3', 'HFCs']"
   ]
  },
  {
   "cell_type": "code",
   "execution_count": 48,
   "metadata": {},
   "outputs": [],
   "source": [
    "tabel_dT_slcfs2 = table_of_sts(ds_DT, scenarios_fl, variables_erf_comp_nbc, variables_erf_comp_nbc, years,\n",
    "                              ref_year)\n",
    "tabel_dT_slcfs2 = tabel_dT_slcfs2.rename(nice_name_var_dic)\n",
    "tabel_dT_slcfs2 = tabel_dT_slcfs2[scen_no_lowNTCF]"
   ]
  },
  {
   "cell_type": "code",
   "execution_count": 49,
   "metadata": {},
   "outputs": [
    {
     "data": {
      "text/html": [
       "<div>\n",
       "<style scoped>\n",
       "    .dataframe tbody tr th:only-of-type {\n",
       "        vertical-align: middle;\n",
       "    }\n",
       "\n",
       "    .dataframe tbody tr th {\n",
       "        vertical-align: top;\n",
       "    }\n",
       "\n",
       "    .dataframe thead th {\n",
       "        text-align: right;\n",
       "    }\n",
       "</style>\n",
       "<table border=\"1\" class=\"dataframe\">\n",
       "  <thead>\n",
       "    <tr style=\"text-align: right;\">\n",
       "      <th></th>\n",
       "      <th></th>\n",
       "      <th>ssp119</th>\n",
       "      <th>ssp126</th>\n",
       "      <th>ssp245</th>\n",
       "      <th>ssp370</th>\n",
       "      <th>ssp585</th>\n",
       "    </tr>\n",
       "    <tr>\n",
       "      <th></th>\n",
       "      <th></th>\n",
       "      <th></th>\n",
       "      <th></th>\n",
       "      <th></th>\n",
       "      <th></th>\n",
       "      <th></th>\n",
       "    </tr>\n",
       "  </thead>\n",
       "  <tbody>\n",
       "    <tr>\n",
       "      <th rowspan=\"4\" valign=\"top\">2040</th>\n",
       "      <th>Methane (CH$_4$)</th>\n",
       "      <td>-0.0435992</td>\n",
       "      <td>-0.0295289</td>\n",
       "      <td>0.0385902</td>\n",
       "      <td>0.0763069</td>\n",
       "      <td>0.0617722</td>\n",
       "    </tr>\n",
       "    <tr>\n",
       "      <th>Aerosols (incl BC)</th>\n",
       "      <td>0.291024</td>\n",
       "      <td>0.244197</td>\n",
       "      <td>0.0506368</td>\n",
       "      <td>-0.0325132</td>\n",
       "      <td>0.118367</td>\n",
       "    </tr>\n",
       "    <tr>\n",
       "      <th>Ozone (O$_3$)</th>\n",
       "      <td>-0.0852854</td>\n",
       "      <td>-0.0591063</td>\n",
       "      <td>0.0192689</td>\n",
       "      <td>0.074026</td>\n",
       "      <td>0.0449848</td>\n",
       "    </tr>\n",
       "    <tr>\n",
       "      <th>HFCs</th>\n",
       "      <td>0.00411744</td>\n",
       "      <td>0.0172799</td>\n",
       "      <td>0.0299945</td>\n",
       "      <td>0.0281403</td>\n",
       "      <td>0.0457237</td>\n",
       "    </tr>\n",
       "    <tr>\n",
       "      <th rowspan=\"4\" valign=\"top\">2100</th>\n",
       "      <th>Methane (CH$_4$)</th>\n",
       "      <td>-0.190789</td>\n",
       "      <td>-0.182062</td>\n",
       "      <td>-0.0151432</td>\n",
       "      <td>0.290079</td>\n",
       "      <td>0.147688</td>\n",
       "    </tr>\n",
       "    <tr>\n",
       "      <th>Aerosols (incl BC)</th>\n",
       "      <td>0.45861</td>\n",
       "      <td>0.472775</td>\n",
       "      <td>0.317026</td>\n",
       "      <td>0.006826</td>\n",
       "      <td>0.24596</td>\n",
       "    </tr>\n",
       "    <tr>\n",
       "      <th>Ozone (O$_3$)</th>\n",
       "      <td>-0.15895</td>\n",
       "      <td>-0.157794</td>\n",
       "      <td>-0.0529765</td>\n",
       "      <td>0.251216</td>\n",
       "      <td>0.0490074</td>\n",
       "    </tr>\n",
       "    <tr>\n",
       "      <th>HFCs</th>\n",
       "      <td>-0.00685072</td>\n",
       "      <td>-0.00439267</td>\n",
       "      <td>0.0605196</td>\n",
       "      <td>0.104603</td>\n",
       "      <td>0.243852</td>\n",
       "    </tr>\n",
       "  </tbody>\n",
       "</table>\n",
       "</div>"
      ],
      "text/plain": [
       "                             ssp119      ssp126     ssp245     ssp370  \\\n",
       "                                                                        \n",
       "2040 Methane (CH$_4$)    -0.0435992  -0.0295289  0.0385902  0.0763069   \n",
       "     Aerosols (incl BC)    0.291024    0.244197  0.0506368 -0.0325132   \n",
       "     Ozone (O$_3$)       -0.0852854  -0.0591063  0.0192689   0.074026   \n",
       "     HFCs                0.00411744   0.0172799  0.0299945  0.0281403   \n",
       "2100 Methane (CH$_4$)     -0.190789   -0.182062 -0.0151432   0.290079   \n",
       "     Aerosols (incl BC)     0.45861    0.472775   0.317026   0.006826   \n",
       "     Ozone (O$_3$)         -0.15895   -0.157794 -0.0529765   0.251216   \n",
       "     HFCs               -0.00685072 -0.00439267  0.0605196   0.104603   \n",
       "\n",
       "                            ssp585  \n",
       "                                    \n",
       "2040 Methane (CH$_4$)    0.0617722  \n",
       "     Aerosols (incl BC)   0.118367  \n",
       "     Ozone (O$_3$)       0.0449848  \n",
       "     HFCs                0.0457237  \n",
       "2100 Methane (CH$_4$)     0.147688  \n",
       "     Aerosols (incl BC)    0.24596  \n",
       "     Ozone (O$_3$)       0.0490074  \n",
       "     HFCs                 0.243852  "
      ]
     },
     "execution_count": 49,
     "metadata": {},
     "output_type": "execute_result"
    }
   ],
   "source": [
    "tabel_dT_slcfs2"
   ]
  },
  {
   "cell_type": "code",
   "execution_count": 50,
   "metadata": {},
   "outputs": [
    {
     "data": {
      "image/png": "[encoded data removed]",
      "text/plain": [
       "<Figure size 720x244.8 with 2 Axes>"
      ]
     },
     "metadata": {
      "needs_background": "light"
     },
     "output_type": "display_data"
    }
   ],
   "source": [
    "from ar6_ch6_rcmipfigs.constants import RESULTS_DIR\n",
    "from matplotlib.ticker import (MultipleLocator)\n",
    "\n",
    "fig, axs = plt.subplots(1, len(years), figsize=[10, 3.4], sharex=False, sharey=True)\n",
    "tits = ['Near Term surface temperature change (2040 relative to 2021)',\n",
    "        'Long Term surface T change 2100 relatie to 2021)']\n",
    "tits = ['Change in GSAT in 2040 relative to 2021', 'Change in GSAT in 2100 relative to 2021']\n",
    "for yr, ax, tit in zip(years, axs, tits):\n",
    "    ntot = 'Scenario total'\n",
    "    # Pick out year and do various renames:\n",
    "    # Total antropogenic\n",
    "    tot_yr = tabel_dT_anthrop2.loc[yr].rename(\n",
    "        {'Total': ntot, 'ssp370-lowNTCF-aerchemmip': 'ssp370-lowNTCF\\n-aerchemmip'})\n",
    "    # Sum SLCFs\n",
    "    sum_yr = tabel_dT_sum_slcf.loc[yr].rename(\n",
    "        {'Total': ntot, 'ssp370-lowNTCF-aerchemmip': 'ssp370-lowNTCF\\n-aerchemmip'})\n",
    "    # Plot bars for anthropopogenic total:\n",
    "    ax.barh(tot_yr.transpose().index, tot_yr.transpose()[ntot].values, color='k', label='Scenario total', alpha=.2,\n",
    "            )\n",
    "    # Plot bars for SLCFs total:\n",
    "    ntot = 'Sum SLCFs'\n",
    "    s_x = sum_yr.transpose().index\n",
    "    s_y = sum_yr.transpose()[ntot].values\n",
    "\n",
    "    # Plot stacked plot of components:\n",
    "    _tab = tabel_dT_slcfs2.loc[yr].transpose().rename({'ssp370-lowNTCF-aerchemmip': 'ssp370-lowNTCF\\n-aerchemmip'})\n",
    "    _tab = _tab.rename(nice_name_var_dic)\n",
    "    a = _tab.plot(kind='barh', stacked=True, ax=ax, color=ls, legend=(yr != '2040'))  # , grid=True)#stac)\n",
    "    _t = _tab.sum(axis=1)#, c=100)#.plot(kind='barh', )\n",
    "    #ax.scatter(_t, _t.index, zorder=100, c='w', marker='d')\n",
    "    ax.scatter(_t, list(_t.reset_index().index), zorder=10, c='w', marker='d')\n",
    "    \n",
    "    #a = _tab.plot(kind='barh', stacked=True, ax=ax, color=ls, legend=(yr != '2040'))  # , grid=True)#stac)\n",
    "    if not yr == '2040':\n",
    "        ax.legend(frameon=False, ncol=1)  # [l],labels=['Sce!!nario total'], loc = 4)#'lower right')\n",
    "    # Zero line:\n",
    "    ax.axvline(0, linestyle='--', color='k', alpha=0.4)\n",
    "    ax.set_title(tit)\n",
    "    ax.set_xlabel('$\\Delta$ GSAT ($^\\circ$C)')\n",
    "    ax.xaxis.set_minor_locator(MultipleLocator(.1))\n",
    "    # ax.grid(axis='y', which='major')\n",
    "\n",
    "ax = axs[0]\n",
    "\n",
    "ax.spines['right'].set_visible(False)\n",
    "ax.spines['top'].set_visible(False)\n",
    "ax.spines['left'].set_visible(False)\n",
    "ax.tick_params(right=False, left=False)  # , color='w')\n",
    "\n",
    "ax = axs[1]\n",
    "ax.spines['right'].set_visible(False)\n",
    "ax.spines['top'].set_visible(False)\n",
    "ax.spines['left'].set_visible(False)\n",
    "ax.tick_params(labelleft=False, right=False, left=False, color='w')\n",
    "ax.tick_params(labelright=False, labelleft=False, right=False, left=False, color='w')\n",
    "ax.yaxis.set_visible(False)\n",
    "plt.tight_layout()\n",
    "\n",
    "fn = RESULTS_DIR / 'figures/stack_bar_influence_years_no_lowNTCF_noBC.png'\n",
    "plt.tight_layout()\n",
    "ax = plt.gca()\n",
    "\n",
    "plt.savefig(fn, dpi=300)"
   ]
  },
  {
   "cell_type": "code",
   "execution_count": 51,
   "metadata": {
    "lines_to_next_cell": 2
   },
   "outputs": [],
   "source": [
    "\n",
    "tabel_dT_slcfs2 = table_of_sts(ds_DT, scenarios_fl_oneNTCF, variables_erf_comp_nbc, variables_erf_comp_nbc, years,\n",
    "                              ref_year)\n",
    "tabel_dT_slcfs2 = tabel_dT_slcfs2.rename(nice_name_var_dic)\n",
    "tabel_dT_slcfs2 = tabel_dT_slcfs2[scenarios_fl_oneNTCF]\n",
    "tabel_dT_anthrop2= tabel_dT_anthrop[scenarios_fl_oneNTCF]"
   ]
  },
  {
   "cell_type": "code",
   "execution_count": 52,
   "metadata": {},
   "outputs": [
    {
     "name": "stdout",
     "output_type": "stream",
     "text": [
      "ssp119                         0.166257\n",
      "ssp126                         0.172841\n",
      "ssp245                         0.138490\n",
      "ssp370                         0.145960\n",
      "ssp370-lowNTCF\\n-aerchemmip    0.242930\n",
      "ssp585                         0.270848\n",
      "dtype: float64\n",
      "ssp119                         0.102020\n",
      "ssp126                         0.128527\n",
      "ssp245                         0.309426\n",
      "ssp370                         0.652724\n",
      "ssp370-lowNTCF\\n-aerchemmip    0.898647\n",
      "ssp585                         0.686508\n",
      "dtype: float64\n"
     ]
    },
    {
     "data": {
      "image/png": "[encoded data removed]",
      "text/plain": [
       "<Figure size 720x295.2 with 2 Axes>"
      ]
     },
     "metadata": {
      "needs_background": "light"
     },
     "output_type": "display_data"
    }
   ],
   "source": [
    "from ar6_ch6_rcmipfigs.constants import RESULTS_DIR\n",
    "from matplotlib.ticker import (MultipleLocator)\n",
    "\n",
    "fig, axs = plt.subplots(1, len(years), figsize=[10, 4.1], sharex=False, sharey=True)\n",
    "tits = ['Near Term surface temperature change (2040 relative to 2021)',\n",
    "        'Long Term surface T change 2100 relatie to 2021)']\n",
    "tits = ['Change in GSAT in 2040 relative to 2021', 'Change in GSAT in 2100 relative to 2021']\n",
    "for yr, ax, tit in zip(years, axs, tits):\n",
    "    ntot = 'Scenario total'\n",
    "    # Pick out year and do various renames:\n",
    "    # Total antropogenic\n",
    "    tot_yr = tabel_dT_anthrop2.loc[yr].rename(\n",
    "        {'Total': ntot, 'ssp370-lowNTCF-aerchemmip': 'ssp370-lowNTCF\\n-aerchemmip'})\n",
    "    # Sum SLCFs\n",
    "    sum_yr = tabel_dT_sum_slcf.loc[yr].rename(\n",
    "        {'Total': ntot, 'ssp370-lowNTCF-aerchemmip': 'ssp370-lowNTCF\\n-aerchemmip'})\n",
    "    # Plot bars for anthropopogenic total:\n",
    "    ax.barh(tot_yr.transpose().index, tot_yr.transpose()[ntot].values, color='k', label='Scenario total', alpha=.2,\n",
    "            )\n",
    "    # Plot bars for SLCFs total:\n",
    "    ntot = 'Sum SLCFs'\n",
    "    s_x = sum_yr.transpose().index\n",
    "    s_y = sum_yr.transpose()[ntot].values\n",
    "\n",
    "    # Plot stacked plot of components:\n",
    "    _tab = tabel_dT_slcfs2.loc[yr].transpose().rename({'ssp370-lowNTCF-aerchemmip': 'ssp370-lowNTCF\\n-aerchemmip'})\n",
    "    _tab = _tab.rename(nice_name_var_dic)\n",
    "    a = _tab.plot(kind='barh', stacked=True, ax=ax, color=ls, legend=(yr != '2040'))  # , grid=True)#stac)\n",
    "    _t = _tab.sum(axis=1)#, c=100)#.plot(kind='barh', )\n",
    "    ax.scatter(_t, list(_t.reset_index().index), zorder=10, c='w', marker='d')\n",
    "    print(_t)\n",
    "    #a = _tab.plot(kind='barh', stacked=True, ax=ax, color=ls, legend=(yr != '2040'))  # , grid=True)#stac)\n",
    "    if not yr == '2040':\n",
    "        ax.legend(frameon=False, ncol=1)  # [l],labels=['Sce!!nario total'], loc = 4)#'lower right')\n",
    "    # Zero line:\n",
    "    ax.axvline(0, linestyle='--', color='k', alpha=0.4)\n",
    "    ax.set_title(tit)\n",
    "    ax.set_xlabel('$\\Delta$ GSAT ($^\\circ$C)')\n",
    "    ax.xaxis.set_minor_locator(MultipleLocator(.1))\n",
    "    # ax.grid(axis='y', which='major')\n",
    "\n",
    "ax = axs[0]\n",
    "\n",
    "ax.spines['right'].set_visible(False)\n",
    "ax.spines['top'].set_visible(False)\n",
    "ax.spines['left'].set_visible(False)\n",
    "ax.tick_params(right=False, left=False)  # , color='w')\n",
    "\n",
    "ax = axs[1]\n",
    "ax.spines['right'].set_visible(False)\n",
    "ax.spines['top'].set_visible(False)\n",
    "ax.spines['left'].set_visible(False)\n",
    "ax.tick_params(labelleft=False, right=False, left=False, color='w')\n",
    "ax.tick_params(labelright=False, labelleft=False, right=False, left=False, color='w')\n",
    "ax.yaxis.set_visible(False)\n",
    "plt.tight_layout()\n",
    "\n",
    "fn = RESULTS_DIR / 'figures/stack_bar_influence_years_one_lowNTCF_noBC.png'\n",
    "plt.tight_layout()\n",
    "ax = plt.gca()\n",
    "\n",
    "plt.savefig(fn, dpi=300)"
   ]
  },
  {
   "cell_type": "code",
   "execution_count": 53,
   "metadata": {
    "lines_to_next_cell": 2
   },
   "outputs": [],
   "source": [
    "\n",
    "tabel_dT_slcfs2 = table_of_sts(ds_DT, scenarios_fl, variables_erf_comp_nbc, variables_erf_comp_nbc, years,\n",
    "                              ref_year)\n",
    "tabel_dT_slcfs2 = tabel_dT_slcfs2.rename(nice_name_var_dic)\n",
    "tabel_dT_slcfs2 = tabel_dT_slcfs2[scenarios_fl]\n",
    "tabel_dT_anthrop2= tabel_dT_anthrop[scenarios_fl]"
   ]
  },
  {
   "cell_type": "code",
   "execution_count": 54,
   "metadata": {},
   "outputs": [
    {
     "name": "stdout",
     "output_type": "stream",
     "text": [
      "ssp119                         0.166257\n",
      "ssp126                         0.172841\n",
      "ssp245                         0.138490\n",
      "ssp370                         0.145960\n",
      "ssp370-lowNTCF\\n-aerchemmip    0.242930\n",
      "ssp370-lowNTCF-gidden          0.039686\n",
      "ssp585                         0.270848\n",
      "dtype: float64\n",
      "ssp119                         0.102020\n",
      "ssp126                         0.128527\n",
      "ssp245                         0.309426\n",
      "ssp370                         0.652724\n",
      "ssp370-lowNTCF\\n-aerchemmip    0.898647\n",
      "ssp370-lowNTCF-gidden          0.165130\n",
      "ssp585                         0.686508\n",
      "dtype: float64\n"
     ]
    },
    {
     "data": {
      "image/png": "[encoded data removed]",
      "text/plain": [
       "<Figure size 720x324 with 2 Axes>"
      ]
     },
     "metadata": {
      "needs_background": "light"
     },
     "output_type": "display_data"
    }
   ],
   "source": [
    "from ar6_ch6_rcmipfigs.constants import RESULTS_DIR\n",
    "from matplotlib.ticker import (MultipleLocator)\n",
    "\n",
    "fig, axs = plt.subplots(1, len(years), figsize=[10, 4.5], sharex=False, sharey=True)\n",
    "tits = ['Near Term surface temperature change (2040 relative to 2021)',\n",
    "        'Long Term surface T change 2100 relatie to 2021)']\n",
    "tits = ['Change in GSAT in 2040 relative to 2021', 'Change in GSAT in 2100 relative to 2021']\n",
    "for yr, ax, tit in zip(years, axs, tits):\n",
    "    ntot = 'Scenario total'\n",
    "    # Pick out year and do various renames:\n",
    "    # Total antropogenic\n",
    "    tot_yr = tabel_dT_anthrop2.loc[yr].rename(\n",
    "        {'Total': ntot, 'ssp370-lowNTCF-aerchemmip': 'ssp370-lowNTCF\\n-aerchemmip'})\n",
    "    # Sum SLCFs\n",
    "    sum_yr = tabel_dT_sum_slcf.loc[yr].rename(\n",
    "        {'Total': ntot, 'ssp370-lowNTCF-aerchemmip': 'ssp370-lowNTCF\\n-aerchemmip'})\n",
    "    # Plot bars for anthropopogenic total:\n",
    "    ax.barh(tot_yr.transpose().index, tot_yr.transpose()[ntot].values, color='k', label='Scenario total', alpha=.2,\n",
    "            )\n",
    "    # Plot bars for SLCFs total:\n",
    "    ntot = 'Sum SLCFs'\n",
    "    s_x = sum_yr.transpose().index\n",
    "    s_y = sum_yr.transpose()[ntot].values\n",
    "\n",
    "    # Plot stacked plot of components:\n",
    "    _tab = tabel_dT_slcfs2.loc[yr].transpose().rename({'ssp370-lowNTCF-aerchemmip': 'ssp370-lowNTCF\\n-aerchemmip'})\n",
    "    _tab = _tab.rename(nice_name_var_dic)\n",
    "    a = _tab.plot(kind='barh', stacked=True, ax=ax, color=ls, legend=(yr != '2040'))  # , grid=True)#stac)\n",
    "    _t = _tab.sum(axis=1)#, c=100)#.plot(kind='barh', )\n",
    "    ax.scatter(_t, list(_t.reset_index().index), zorder=10, c='w', marker='d')\n",
    "    print(_t)\n",
    "    #a = _tab.plot(kind='barh', stacked=True, ax=ax, color=ls, legend=(yr != '2040'))  # , grid=True)#stac)\n",
    "    if not yr == '2040':\n",
    "        ax.legend(frameon=False, ncol=1)  # [l],labels=['Sce!!nario total'], loc = 4)#'lower right')\n",
    "    # Zero line:\n",
    "    ax.axvline(0, linestyle='--', color='k', alpha=0.4)\n",
    "    ax.set_title(tit)\n",
    "    ax.set_xlabel('$\\Delta$ GSAT ($^\\circ$C)')\n",
    "    ax.xaxis.set_minor_locator(MultipleLocator(.1))\n",
    "    # ax.grid(axis='y', which='major')\n",
    "\n",
    "ax = axs[0]\n",
    "\n",
    "ax.spines['right'].set_visible(False)\n",
    "ax.spines['top'].set_visible(False)\n",
    "ax.spines['left'].set_visible(False)\n",
    "ax.tick_params(right=False, left=False)  # , color='w')\n",
    "\n",
    "ax = axs[1]\n",
    "ax.spines['right'].set_visible(False)\n",
    "ax.spines['top'].set_visible(False)\n",
    "ax.spines['left'].set_visible(False)\n",
    "ax.tick_params(labelleft=False, right=False, left=False, color='w')\n",
    "ax.tick_params(labelright=False, labelleft=False, right=False, left=False, color='w')\n",
    "ax.yaxis.set_visible(False)\n",
    "plt.tight_layout()\n",
    "\n",
    "fn = RESULTS_DIR / 'figures/stack_bar_influence_years_all_lowNTCF_noBC.png'\n",
    "plt.tight_layout()\n",
    "ax = plt.gca()\n",
    "\n",
    "plt.savefig(fn, dpi=300)"
   ]
  },
  {
   "cell_type": "markdown",
   "metadata": {},
   "source": [
    "## Error bars from model uncertainty AND ECS uncertainty"
   ]
  },
  {
   "cell_type": "markdown",
   "metadata": {},
   "source": [
    "See [Uncertainty_calculation.ipynb](Uncertainty_calculation.ipynb)"
   ]
  },
  {
   "cell_type": "markdown",
   "metadata": {},
   "source": [
    "## Only ssp370:"
   ]
  },
  {
   "cell_type": "code",
   "execution_count": 55,
   "metadata": {},
   "outputs": [],
   "source": [
    "scenario_370 = [sc for sc in scenarios_fl if 'ssp370' in sc]"
   ]
  },
  {
   "cell_type": "code",
   "execution_count": 56,
   "metadata": {},
   "outputs": [
    {
     "data": {
      "image/png": "[encoded data removed]",
      "text/plain": [
       "<Figure size 720x180 with 2 Axes>"
      ]
     },
     "metadata": {
      "needs_background": "light"
     },
     "output_type": "display_data"
    }
   ],
   "source": [
    "from ar6_ch6_rcmipfigs.constants import RESULTS_DIR\n",
    "from matplotlib.ticker import (MultipleLocator)\n",
    "import matplotlib.pyplot as plt\n",
    "\n",
    "fig, axs = plt.subplots(1, len(years), figsize=[10, 2.5], sharex=False, sharey=True)\n",
    "\n",
    "tits = ['Near Term surface temperature change (2040 relative to 2021)',\n",
    "        'Long Term surface T change 2100 relatie to 2021)']\n",
    "tits = ['Change in GSAT in 2040 relative to 2021', 'Change in GSAT in 2100 relative to 2021']\n",
    "for yr, ax, tit in zip(years, axs, tits):\n",
    "    ntot = 'Scenario total'\n",
    "    # Pick out year and do various renames:\n",
    "    # Total antropogenic\n",
    "    tot_yr = tabel_dT_anthrop.loc[yr, scenario_370].rename(\n",
    "        {'Total': ntot, 'ssp370-lowNTCF-aerchemmip': 'ssp370-lowNTCF\\n-aerchemmip'})\n",
    "    # Sum SLCFs\n",
    "    sum_yr = tabel_dT_sum_slcf.loc[yr, scenario_370].rename(\n",
    "        {'Total': ntot, 'ssp370-lowNTCF-aerchemmip': 'ssp370-lowNTCF\\n-aerchemmip'})\n",
    "    # Plot bars for anthropopogenic total:\n",
    "    ax.barh(tot_yr.transpose().index, tot_yr.transpose()[ntot].values, color='k', label='Scenario total', alpha=.2,\n",
    "            )\n",
    "    # Plot bars for SLCFs total:\n",
    "    ntot = 'Sum SLCFs'\n",
    "    s_x = sum_yr.transpose().index\n",
    "    s_y = sum_yr.transpose()[ntot].values\n",
    "\n",
    "    # Plot stacked plot of components:\n",
    "    _tab = tabel_dT_slcfs.loc[yr, scenario_370].transpose().rename(\n",
    "        {'ssp370-lowNTCF-aerchemmip': 'ssp370-lowNTCF\\n-aerchemmip'})\n",
    "\n",
    "    a = _tab.plot(kind='barh', stacked=True, ax=ax, color=ls,\n",
    "                  legend=(yr != '2040'))  # , grid=True)#stac)\n",
    "    if not yr == '2040':\n",
    "        ax.legend(frameon=True, )  # [l],labels=['Sce!!nario total'], loc = 4)#'lower right')\n",
    "    # Zero line:\n",
    "    ax.axvline(0, linestyle='--', color='k', alpha=0.4)\n",
    "    ax.set_title(tit)\n",
    "    ax.set_xlabel('$\\Delta$ GSAT ($^\\circ$C)')\n",
    "    ax.xaxis.set_minor_locator(MultipleLocator(.1))\n",
    "    # ax.grid(axis='y', which='major')\n",
    "\n",
    "ax = axs[0]\n",
    "\n",
    "ax.spines['right'].set_visible(False)\n",
    "ax.spines['top'].set_visible(False)\n",
    "ax.spines['left'].set_visible(False)\n",
    "ax.tick_params(right=False, left=False)  # , color='w')\n",
    "\n",
    "ax = axs[1]\n",
    "ax.spines['right'].set_visible(False)\n",
    "ax.spines['top'].set_visible(False)\n",
    "ax.spines['left'].set_visible(False)\n",
    "ax.tick_params(labelleft=False, right=False, left=False, color='w')\n",
    "ax.tick_params(labelright=False, labelleft=False, right=False, left=False, color='w')\n",
    "ax.yaxis.set_visible(False)\n",
    "plt.tight_layout()\n",
    "fn = RESULTS_DIR / 'figures/stack_bar_influence_years_horiz_errTot_370only.png'\n",
    "\n",
    "plt.tight_layout()\n",
    "ax = plt.gca()\n",
    "\n",
    "plt.savefig(fn, dpi=300)"
   ]
  },
  {
   "cell_type": "code",
   "execution_count": null,
   "metadata": {},
   "outputs": [],
   "source": []
  },
  {
   "cell_type": "code",
   "execution_count": null,
   "metadata": {},
   "outputs": [],
   "source": []
  }
 ],
 "metadata": {
  "ipub": {
   "bibliography": "IPCC_terje.bib",
   "biboptions": [
    "super",
    "sort"
   ],
   "bibstyle": "unsrtnat"
  },
  "jupytext": {
   "encoding": "# -*- coding: utf-8 -*-",
   "text_representation": {
    "extension": ".py",
    "format_name": "percent",
    "format_version": "1.3",
    "jupytext_version": "1.3.3"
   }
  },
  "kernelspec": {
   "display_name": "Python 3",
   "language": "python",
   "name": "python3"
  },
  "language_info": {
   "codemirror_mode": {
    "name": "ipython",
    "version": 3
   },
   "file_extension": ".py",
   "mimetype": "text/x-python",
   "name": "python",
   "nbconvert_exporter": "python",
   "pygments_lexer": "ipython3",
   "version": "3.7.6"
  },
  "latex_metadata": {
   "author": "Sara Blichner, T. K. Berntsen",
   "bibliography": "IPCC_terje",
   "bibstyle": "plain",
   "title": "Comparison of temperature response for various climate gases"
  },
  "pycharm": {
   "stem_cell": {
    "cell_type": "raw",
    "metadata": {
     "collapsed": false
    },
    "source": []
   }
  }
 },
 "nbformat": 4,
 "nbformat_minor": 4
}
