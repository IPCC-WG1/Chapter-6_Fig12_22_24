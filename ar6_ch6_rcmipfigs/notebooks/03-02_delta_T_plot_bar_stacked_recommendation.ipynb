{
 "cells": [
  {
   "cell_type": "markdown",
   "metadata": {},
   "source": [
    "# Plot temperature response over time"
   ]
  },
  {
   "cell_type": "markdown",
   "metadata": {},
   "source": [
    "This notebook plots temperature respons to SLCFs AND the total scenario forcing in a fixed nr of years"
   ]
  },
  {
   "cell_type": "markdown",
   "metadata": {
    "lines_to_next_cell": 0
   },
   "source": [
    "## Imports:\n",
    "\n",
    "import matplotlib.pyplot as plt\n",
    "import pandas as pd"
   ]
  },
  {
   "cell_type": "code",
   "execution_count": 1,
   "metadata": {},
   "outputs": [],
   "source": [
    "import matplotlib.pyplot as plt"
   ]
  },
  {
   "cell_type": "code",
   "execution_count": 2,
   "metadata": {},
   "outputs": [],
   "source": [
    "import xarray as xr\n",
    "from pandas.plotting import register_matplotlib_converters\n",
    "\n",
    "register_matplotlib_converters()\n",
    "\n",
    "%load_ext autoreload\n",
    "%autoreload 2"
   ]
  },
  {
   "cell_type": "code",
   "execution_count": 3,
   "metadata": {},
   "outputs": [
    {
     "data": {
      "application/javascript": [
       "IPython.OutputArea.prototype._should_scroll = function(lines) { return false; }"
      ],
      "text/plain": [
       "<IPython.core.display.Javascript object>"
      ]
     },
     "metadata": {},
     "output_type": "display_data"
    },
    {
     "name": "stdout",
     "output_type": "stream",
     "text": [
      "/home/sarambl/PHD/IPCC/public/AR6_CH6_RCMIPFIGSv2/ar6_ch6_rcmipfigs\n",
      "/home/sarambl/PHD/IPCC/public/AR6_CH6_RCMIPFIGSv2/ar6_ch6_rcmipfigs/data_in\n",
      "hallo\n"
     ]
    }
   ],
   "source": [
    "from ar6_ch6_rcmipfigs.utils.plot import get_cmap_dic\n",
    "from ar6_ch6_rcmipfigs.utils.plot import get_var_nicename"
   ]
  },
  {
   "cell_type": "code",
   "execution_count": 4,
   "metadata": {},
   "outputs": [],
   "source": [
    "from ar6_ch6_rcmipfigs.constants import OUTPUT_DATA_DIR, RESULTS_DIR\n",
    "\n",
    "# PATH_DATASET = OUTPUT_DATA_DIR + '/forcing_data_rcmip_models.nc'\n",
    "# PATH_DT = OUTPUT_DATA_DIR / '/dT_data_rcmip_models.nc'\n",
    "# PATH_DT = OUTPUT_DATA_DIR / 'dT_data_RCMIP.nc'\n",
    "PATH_DT = OUTPUT_DATA_DIR / 'dT_data_RCMIP_recommendation.nc'"
   ]
  },
  {
   "cell_type": "markdown",
   "metadata": {},
   "source": [
    "#### Uncertainty data from Chris"
   ]
  },
  {
   "cell_type": "code",
   "execution_count": 5,
   "metadata": {
    "lines_to_next_cell": 2
   },
   "outputs": [],
   "source": [
    "# PATH_DT_UNCERTAINTY = OUTPUT_DATA_DIR / 'dT_uncertainty_data_FaIR_chris.nc'\n",
    "PATH_DT_UNCERTAINTY = OUTPUT_DATA_DIR / 'dT_uncertainty_data_FaIR_chris_ed02-3.nc'"
   ]
  },
  {
   "cell_type": "markdown",
   "metadata": {},
   "source": [
    "## Set values:"
   ]
  },
  {
   "cell_type": "code",
   "execution_count": 6,
   "metadata": {},
   "outputs": [],
   "source": [
    "first_y = '1750'\n",
    "last_y = '2100'\n",
    "# Years to plot:\n",
    "years = ['2040', '2100']"
   ]
  },
  {
   "cell_type": "markdown",
   "metadata": {},
   "source": [
    "**Set reference year for temperature change:**"
   ]
  },
  {
   "cell_type": "code",
   "execution_count": 7,
   "metadata": {},
   "outputs": [],
   "source": [
    "ref_year = '2019'\n",
    "ref_year_uncertainty = '2020'"
   ]
  },
  {
   "cell_type": "code",
   "execution_count": 8,
   "metadata": {},
   "outputs": [],
   "source": [
    "FIGURE_DIR = RESULTS_DIR / 'figures_recommendation/'\n",
    "\n",
    "TABS_DIR = RESULTS_DIR / 'tables_recommendation/'"
   ]
  },
  {
   "cell_type": "code",
   "execution_count": 9,
   "metadata": {},
   "outputs": [],
   "source": [
    "\n",
    "climatemodel = 'climatemodel'\n",
    "scenario = 'scenario'\n",
    "variable = 'variable'\n",
    "time = 'time'"
   ]
  },
  {
   "cell_type": "code",
   "execution_count": 10,
   "metadata": {},
   "outputs": [],
   "source": [
    "recommendation = 'recommendation'\n",
    "name_deltaT = 'Delta T'\n",
    "sum_v = 'Sum SLCF (Aerosols, Methane, Ozone, HFCs)'\n",
    "\n",
    "scenario_tot = 'Scenario total'"
   ]
  },
  {
   "cell_type": "markdown",
   "metadata": {},
   "source": [
    "### Define variables to look at:"
   ]
  },
  {
   "cell_type": "code",
   "execution_count": 11,
   "metadata": {},
   "outputs": [],
   "source": [
    "variables_erf_comp = [\n",
    "    'aerosol-total-with_bc-snow',\n",
    "    'ch4',\n",
    "    'o3',\n",
    "    'HFCs',\n",
    "]\n",
    "\n",
    "# total ERFs for anthropogenic and total:\n",
    "variables_erf_tot = ['total_anthropogenic',\n",
    "                     'total']\n",
    "variables_all = variables_erf_comp + variables_erf_tot\n",
    "# Scenarios to plot:"
   ]
  },
  {
   "cell_type": "code",
   "execution_count": 12,
   "metadata": {},
   "outputs": [],
   "source": [
    "\n",
    "scenarios_fl_370 = ['ssp370', 'ssp370-lowNTCF-aerchemmip', 'ssp370-lowNTCF-gidden'  # Due to mistake here\n",
    "                    ]"
   ]
  },
  {
   "cell_type": "markdown",
   "metadata": {},
   "source": [
    "### Scenarios:"
   ]
  },
  {
   "cell_type": "code",
   "execution_count": 13,
   "metadata": {},
   "outputs": [],
   "source": [
    "scenarios_fl = ['ssp119',\n",
    "                'ssp126',\n",
    "                'ssp245',\n",
    "                'ssp334',\n",
    "                'ssp370',\n",
    "                'ssp370-lowNTCF-aerchemmip',\n",
    "                'ssp370-lowNTCF-gidden',\n",
    "                'ssp585']\n",
    "scenarios_fl_oneNTCF = ['ssp119',\n",
    "                        'ssp126',\n",
    "                        'ssp245',\n",
    "                        'ssp370',\n",
    "                        'ssp370-lowNTCF-aerchemmip',\n",
    "                        # 'ssp370-lowNTCF-gidden',\n",
    "                        'ssp585']"
   ]
  },
  {
   "cell_type": "code",
   "execution_count": 14,
   "metadata": {},
   "outputs": [],
   "source": [
    "median = 'median'\n",
    "perc5 = '5th percentile'\n",
    "perc95 = '95th percentile'"
   ]
  },
  {
   "cell_type": "code",
   "execution_count": 15,
   "metadata": {},
   "outputs": [
    {
     "name": "stdout",
     "output_type": "stream",
     "text": [
      "/home/sarambl/PHD/IPCC/public/AR6_CH6_RCMIPFIGSv2/ar6_ch6_rcmipfigs/results/tables_recommendation/3-2_table_all_scen.csv\n"
     ]
    }
   ],
   "source": [
    "table_csv_name = TABS_DIR / '3-2_table_all_scen.csv'\n",
    "print(table_csv_name)"
   ]
  },
  {
   "cell_type": "code",
   "execution_count": 16,
   "metadata": {},
   "outputs": [],
   "source": [
    "\n",
    "variables_tot = ['Total']\n",
    "variables_sum = ['Sum SLCFs']\n",
    "\n",
    "\n",
    "def setup_table_prop(scenario_n='', yrs=None, _vlist=None, scens=None):\n",
    "    if _vlist is None:\n",
    "        _vlist = variables_erf_comp\n",
    "    if yrs is None:\n",
    "        yrs = ['2040', '2100']\n",
    "    if scens is None:\n",
    "        scens = scenarios_fl\n",
    "    its = [yrs, _vlist]\n",
    "    _i = pd.MultiIndex.from_product(its, names=['', ''])\n",
    "    table = pd.DataFrame(columns=scens, index=_i)  # .transpose()\n",
    "    table.index.name = scenario_n\n",
    "    return table"
   ]
  },
  {
   "cell_type": "markdown",
   "metadata": {},
   "source": [
    "## Open dataset:"
   ]
  },
  {
   "cell_type": "markdown",
   "metadata": {},
   "source": [
    "### Integrate:\n",
    "The code below opens the file generated in [2_compute_delta_T.ipynb](2_compute_delta_T.ipynb) by integrating"
   ]
  },
  {
   "cell_type": "markdown",
   "metadata": {},
   "source": [
    "\\begin{align*} \n",
    "\\Delta T (t) &= \\int_0^t ERF(t') IRF(t-t') dt' \\\\\n",
    "\\end{align*}"
   ]
  },
  {
   "cell_type": "markdown",
   "metadata": {},
   "source": [
    "where IRF is the impulse response function and ERF is the effective radiative forcing from RCMIP. "
   ]
  },
  {
   "cell_type": "code",
   "execution_count": 17,
   "metadata": {},
   "outputs": [],
   "source": [
    "ds_DT = xr.open_dataset(PATH_DT)\n",
    "ds_uncertainty = xr.open_dataset(PATH_DT_UNCERTAINTY)"
   ]
  },
  {
   "cell_type": "code",
   "execution_count": 18,
   "metadata": {},
   "outputs": [
    {
     "name": "stdout",
     "output_type": "stream",
     "text": [
      "/home/sarambl/PHD/IPCC/public/AR6_CH6_RCMIPFIGSv2/ar6_ch6_rcmipfigs/data_out/dT_data_RCMIP_recommendation.nc\n"
     ]
    }
   ],
   "source": [
    "print(PATH_DT)"
   ]
  },
  {
   "cell_type": "markdown",
   "metadata": {},
   "source": [
    "## Add sum as variable:"
   ]
  },
  {
   "cell_type": "code",
   "execution_count": 19,
   "metadata": {},
   "outputs": [
    {
     "name": "stdout",
     "output_type": "stream",
     "text": [
      "Sum SLCF (Aerosols, Methane, Ozone, HFCs)\n"
     ]
    }
   ],
   "source": [
    "_str = ''\n",
    "_vl = [get_var_nicename(var).split('(')[0].strip() for var in variables_erf_comp]\n",
    "for var in _vl:\n",
    "    _str += f'{var}, '\n",
    "\n",
    "# ax.set_title('Temperature change, sum SLCF  (%s)' % _str[:-2])\n",
    "\n",
    "\n",
    "vn_sum = 'Sum SLCF (%s)' % _str[:-2]\n",
    "print(vn_sum)\n",
    "\n",
    "# _st = vn_sum.replace('(','').replace(')','').replace(' ','_').replace(',','')+'.csv'\n",
    "\n",
    "\n",
    "_da_sum = ds_DT[name_deltaT].sel(variable=variables_erf_comp).sum(variable)\n",
    "# _da = ds_DT[name_deltaT].sel(variable=variables_erf_comp).sum(variable).sel(year=slice(int(s_y2), int(e_y2))) - ds_DT_sy\n",
    "_da_sum  # .assin_coord()\n",
    "# _ds_check = ds_DT.copy()\n",
    "ds_DT\n",
    "# xr.concat([_ds_check[name_deltaT],_da_sum], dim=variable)\n",
    "\n",
    "dd1 = _da_sum.expand_dims(\n",
    "    {'variable':\n",
    "         ['Sum SLCF (Aerosols, Methane, Ozone, HFCs)']})\n",
    "# dd1=dd1.to_dataset()\n",
    "\n",
    "ds_DT = xr.merge([ds_DT, dd1])"
   ]
  },
  {
   "cell_type": "markdown",
   "metadata": {
    "lines_to_next_cell": 2
   },
   "source": [
    "## Compute sum of all SLCF forcers"
   ]
  },
  {
   "cell_type": "code",
   "execution_count": 20,
   "metadata": {},
   "outputs": [],
   "source": [
    "from ar6_ch6_rcmipfigs.utils.plot import get_scenario_c_dic, get_scenario_ls_dic"
   ]
  },
  {
   "cell_type": "code",
   "execution_count": 21,
   "metadata": {},
   "outputs": [],
   "source": [
    "\n",
    "\n",
    "cdic = get_scenario_c_dic()\n",
    "lsdic = get_scenario_ls_dic()\n",
    "\n",
    "\n",
    "def sum_name(_var):\n",
    "    \"\"\"\n",
    "    Returns the name off the sum o\n",
    "    \"\"\"\n",
    "    return f'{_var} sum '"
   ]
  },
  {
   "cell_type": "markdown",
   "metadata": {},
   "source": [
    "### compute sum: "
   ]
  },
  {
   "cell_type": "markdown",
   "metadata": {},
   "source": [
    "sum_name = 'Sum SLCFs'\n",
    "ds_sub = ds_DT.sel(variable=variables_erf_comp)\n",
    "ds_sum = ds_sub.sum(variable)\n",
    "ds_sum = ds_sum.assign_coords(coords={variable: sum_name})\n",
    "# add sum to variable coordinatem\n",
    "\n",
    "ds_sum = xr.concat([ds_sum, ds_DT.sel(variable=variables_erf_comp)], dim=variable)"
   ]
  },
  {
   "cell_type": "code",
   "execution_count": 22,
   "metadata": {},
   "outputs": [],
   "source": [
    "ds_sum = ds_DT  # .assign_coords(coords={variable:sum_name})\n",
    "\n",
    "rn_dic = {}\n",
    "for v in variables_all:\n",
    "    rn_dic[v] = get_var_nicename(v)\n",
    "\n",
    "from ar6_ch6_rcmipfigs.utils.plot import scn_dic\n",
    "\n",
    "rn_dic_scen = scn_dic"
   ]
  },
  {
   "cell_type": "code",
   "execution_count": 23,
   "metadata": {
    "lines_to_next_cell": 0
   },
   "outputs": [],
   "source": [
    "def fix_names(df):\n",
    "    df = df.rename(rn_dic)\n",
    "    df = df.rename(rn_dic_scen, axis=1)\n",
    "    return df"
   ]
  },
  {
   "cell_type": "code",
   "execution_count": 24,
   "metadata": {},
   "outputs": [],
   "source": [
    "scntab_dic = {}\n",
    "\n",
    "\n",
    "# tab_tot = setup_table2()\n",
    "# tab_tot_sd = setup_table2()\n",
    "def table_of_sts(_ds, _scn_fl, variables, tab_vars, _yrs, ref_yr, sts=recommendation):\n",
    "    \"\"\"\n",
    "    Creates pandas dataframe of statistics (mean, median, standard deviation) for change\n",
    "    in temperature Delta T since year (ref year) for each scenario in scenarios,\n",
    "\n",
    "    :param _ds:\n",
    "    :param _scn_fl:\n",
    "    :param variables:\n",
    "    :param tab_vars:\n",
    "    :param _yrs:\n",
    "    :param ref_yr:\n",
    "    :param sts:\n",
    "    :return:\n",
    "    \"\"\"\n",
    "    tabel = setup_table_prop(yrs=_yrs, _vlist=tab_vars)\n",
    "    for scn in _scn_fl:\n",
    "        for _var, tabvar in zip(variables, tab_vars):\n",
    "            # dtvar =  name_deltaT # if ERF name, changes it here.\n",
    "            tabscn = scn  # Table scenario name the same.\n",
    "            for year in _yrs:\n",
    "                _da = _ds[name_deltaT].sel(scenario=scn, variable=_var)\n",
    "                _da_refy = _da.sel(year=slice(ref_yr, ref_yr)).squeeze()  # ref year value\n",
    "                _da_y = _da.sel(year=slice(year, year))  # year value\n",
    "                _tab_da = _da_y - _da_refy\n",
    "                tabel.loc[(year, tabvar), tabscn] = float(_tab_da.sel(percentile=sts).squeeze().values)  # [0]\n",
    "    return fix_names(tabel)\n",
    "    # return tabel\n",
    "\n",
    "\n",
    "def table_of_stats_varsums(_ds, dsvar, tabvar, yrs, ref_yr, sts=recommendation):\n",
    "    \"\"\"\n",
    "    Sums up over dimension 'variable' and creates pandas dataframe of statistics (mean, median, standard deviation) for change\n",
    "    in temperature Delta T since year (ref year) for each scenario in scenarios. \n",
    "\n",
    "    :param tabvar:\n",
    "    :param dsvar:\n",
    "    :param _ds:\n",
    "    :param yrs:\n",
    "    :param ref_yr:\n",
    "    :param sts:\n",
    "    :return:\n",
    "    \"\"\"\n",
    "    tabel = setup_table_prop(yrs=yrs, _vlist=[tabvar])\n",
    "    da = _ds[name_deltaT].sel(variable=dsvar)\n",
    "\n",
    "    for scn in scenarios_fl:\n",
    "        tabscn = scn  # Table scenario name the same.\n",
    "        for year in yrs:\n",
    "            _da = da.sel(scenario=scn, percentile=sts)  # , variable = dsvar)\n",
    "            _da_refy = _da.sel(year=slice(ref_yr, ref_yr)).squeeze()  # ref year value\n",
    "            _da_y = _da.sel(year=slice(year, year)).squeeze()  # year value\n",
    "            _tab_da = (_da_y - _da_refy).squeeze()\n",
    "\n",
    "            # Do statistics over RCMIP models\n",
    "            tabel.loc[(year, tabvar), tabscn] = float(_tab_da.squeeze().values)  # [0]\n",
    "\n",
    "    return tabel"
   ]
  },
  {
   "cell_type": "markdown",
   "metadata": {},
   "source": [
    "### Computes statistics:"
   ]
  },
  {
   "cell_type": "code",
   "execution_count": 25,
   "metadata": {},
   "outputs": [
    {
     "data": {
      "text/html": [
       "<pre>&lt;xarray.Dataset&gt;\n",
       "Dimensions:      (base_period: 1, percentile: 10, scenario: 11, variable: 8, year: 81)\n",
       "Coordinates:\n",
       "  * year         (year) int64 2020 2021 2022 2023 2024 ... 2097 2098 2099 2100\n",
       "  * base_period  (base_period) int64 2020\n",
       "  * scenario     (scenario) object &#x27;ssp119&#x27; &#x27;ssp126&#x27; ... &#x27;ssp534-over&#x27; &#x27;ssp585&#x27;\n",
       "  * variable     (variable) object &#x27;HFCs&#x27; ... &#x27;aerosol-total-with_bc-snow&#x27;\n",
       "  * percentile   (percentile) &lt;U7 &#x27;p05&#x27; &#x27;p16&#x27; &#x27;p50&#x27; ... &#x27;p84-p50&#x27; &#x27;p95-p50&#x27;\n",
       "Data variables:\n",
       "    Delta T      (percentile, scenario, variable, year, base_period) float64 0.0 ... 0.1942</pre>"
      ],
      "text/plain": [
       "<xarray.Dataset>\n",
       "Dimensions:      (base_period: 1, percentile: 10, scenario: 11, variable: 8, year: 81)\n",
       "Coordinates:\n",
       "  * year         (year) int64 2020 2021 2022 2023 2024 ... 2097 2098 2099 2100\n",
       "  * base_period  (base_period) int64 2020\n",
       "  * scenario     (scenario) object 'ssp119' 'ssp126' ... 'ssp534-over' 'ssp585'\n",
       "  * variable     (variable) object 'HFCs' ... 'aerosol-total-with_bc-snow'\n",
       "  * percentile   (percentile) <U7 'p05' 'p16' 'p50' ... 'p84-p50' 'p95-p50'\n",
       "Data variables:\n",
       "    Delta T      (percentile, scenario, variable, year, base_period) float64 0.0 ... 0.1942"
      ]
     },
     "execution_count": 25,
     "metadata": {},
     "output_type": "execute_result"
    }
   ],
   "source": [
    "ds_uncertainty = ds_uncertainty.to_array('percentile').rename(name_deltaT).to_dataset()\n",
    "ds_uncertainty"
   ]
  },
  {
   "cell_type": "code",
   "execution_count": 26,
   "metadata": {},
   "outputs": [],
   "source": [
    "from ar6_ch6_rcmipfigs.utils.plot import nice_name_var as nice_name_var_dic"
   ]
  },
  {
   "cell_type": "markdown",
   "metadata": {},
   "source": [
    "## Get values:\n"
   ]
  },
  {
   "cell_type": "code",
   "execution_count": 27,
   "metadata": {},
   "outputs": [],
   "source": [
    "import pandas as pd"
   ]
  },
  {
   "cell_type": "code",
   "execution_count": 28,
   "metadata": {},
   "outputs": [],
   "source": [
    "# Mean:\n",
    "o3 = 'Ozone (O$_3$)'\n",
    "ch4 = 'Methane (CH$_4$)'\n",
    "HFCs = 'HFCs'\n",
    "_sum = 'CH$_4$+O$_3$+HFCs'\n",
    "sum_v\n",
    "\n",
    "# Statistics on Delta T anthropogenic\n",
    "# Mean\n",
    "scenario_tot = 'Scenario total'"
   ]
  },
  {
   "cell_type": "code",
   "execution_count": 29,
   "metadata": {},
   "outputs": [
    {
     "data": {
      "text/html": [
       "<div>\n",
       "<style scoped>\n",
       "    .dataframe tbody tr th:only-of-type {\n",
       "        vertical-align: middle;\n",
       "    }\n",
       "\n",
       "    .dataframe tbody tr th {\n",
       "        vertical-align: top;\n",
       "    }\n",
       "\n",
       "    .dataframe thead th {\n",
       "        text-align: right;\n",
       "    }\n",
       "</style>\n",
       "<table border=\"1\" class=\"dataframe\">\n",
       "  <thead>\n",
       "    <tr style=\"text-align: right;\">\n",
       "      <th></th>\n",
       "      <th>SSP1-1.9</th>\n",
       "      <th>SSP1-2.6</th>\n",
       "      <th>SSP2-4.5</th>\n",
       "      <th>SSP3-3.4</th>\n",
       "      <th>SSP3-7.0</th>\n",
       "      <th>SSP3-7.0-LowSLCF-HighCH$_4$</th>\n",
       "      <th>SSP3-7.0-LowSLCF-LowCH$_4$</th>\n",
       "      <th>SSP5-8.5</th>\n",
       "    </tr>\n",
       "    <tr>\n",
       "      <th></th>\n",
       "      <th></th>\n",
       "      <th></th>\n",
       "      <th></th>\n",
       "      <th></th>\n",
       "      <th></th>\n",
       "      <th></th>\n",
       "      <th></th>\n",
       "      <th></th>\n",
       "    </tr>\n",
       "  </thead>\n",
       "  <tbody>\n",
       "    <tr>\n",
       "      <th>Scenario total</th>\n",
       "      <td>0.182997</td>\n",
       "      <td>0.185355</td>\n",
       "      <td>0.15336</td>\n",
       "      <td>0.142286</td>\n",
       "      <td>0.153791</td>\n",
       "      <td>0.184775</td>\n",
       "      <td>0.163584</td>\n",
       "      <td>0.209253</td>\n",
       "    </tr>\n",
       "  </tbody>\n",
       "</table>\n",
       "</div>"
      ],
      "text/plain": [
       "                SSP1-1.9  SSP1-2.6 SSP2-4.5  SSP3-3.4  SSP3-7.0  \\\n",
       "                                                                  \n",
       "Scenario total  0.182997  0.185355  0.15336  0.142286  0.153791   \n",
       "\n",
       "               SSP3-7.0-LowSLCF-HighCH$_4$ SSP3-7.0-LowSLCF-LowCH$_4$  \\\n",
       "                                                                        \n",
       "Scenario total                    0.184775                   0.163584   \n",
       "\n",
       "                SSP5-8.5  \n",
       "                          \n",
       "Scenario total  0.209253  "
      ]
     },
     "execution_count": 29,
     "metadata": {},
     "output_type": "execute_result"
    }
   ],
   "source": [
    "tabel_dT_anthrop = table_of_sts(ds_DT, scenarios_fl, ['total_anthropogenic'], [scenario_tot], years, ref_year)\n",
    "# 5th\n",
    "tabel_dT_anthrop_5th = -table_of_sts(ds_uncertainty,\n",
    "                                     scenarios_fl,\n",
    "                                     ['total_anthropogenic'],\n",
    "                                     [scenario_tot],\n",
    "                                     years,\n",
    "                                     ref_year_uncertainty,\n",
    "                                     sts='p05-p50'\n",
    "                                     )\n",
    "# 95th\n",
    "\n",
    "tabel_dT_anthrop_95th = table_of_sts(ds_uncertainty, scenarios_fl, ['total_anthropogenic'], [scenario_tot], years,\n",
    "                                     ref_year_uncertainty,\n",
    "                                     sts='p95-p50')\n",
    "tabel_dT_anthrop_95th.loc['2040']\n",
    "tabel_dT_anthrop_5th.loc['2040']"
   ]
  },
  {
   "cell_type": "code",
   "execution_count": 30,
   "metadata": {},
   "outputs": [
    {
     "data": {
      "text/html": [
       "<pre>&lt;xarray.Dataset&gt;\n",
       "Dimensions:      (base_period: 1)\n",
       "Coordinates:\n",
       "    year         int64 2040\n",
       "  * base_period  (base_period) int64 2020\n",
       "    scenario     &lt;U6 &#x27;ssp119&#x27;\n",
       "    variable     &lt;U41 &#x27;Sum SLCF (Aerosols, Methane, Ozone, HFCs)&#x27;\n",
       "    percentile   &lt;U7 &#x27;p05-p50&#x27;\n",
       "Data variables:\n",
       "    Delta T      (base_period) float64 -0.1267</pre>"
      ],
      "text/plain": [
       "<xarray.Dataset>\n",
       "Dimensions:      (base_period: 1)\n",
       "Coordinates:\n",
       "    year         int64 2040\n",
       "  * base_period  (base_period) int64 2020\n",
       "    scenario     <U6 'ssp119'\n",
       "    variable     <U41 'Sum SLCF (Aerosols, Methane, Ozone, HFCs)'\n",
       "    percentile   <U7 'p05-p50'\n",
       "Data variables:\n",
       "    Delta T      (base_period) float64 -0.1267"
      ]
     },
     "execution_count": 30,
     "metadata": {},
     "output_type": "execute_result"
    }
   ],
   "source": [
    "# Mean:\n",
    "tabel_dT_slcfs = table_of_sts(ds_DT, scenarios_fl, variables_erf_comp, variables_erf_comp, years,\n",
    "                              ref_year)\n",
    "\n",
    "# Compute sum of SLCFs\n",
    "_ds = ds_sum.copy()\n",
    "\n",
    "v_sum = 'Sum SLCF (Aerosols, Methane, Ozone, HFCs)'\n",
    "ds_uncertainty.sel(year=2040, scenario='ssp119', percentile='p05-p50',\n",
    "                   variable=v_sum)\n"
   ]
  },
  {
   "cell_type": "code",
   "execution_count": 31,
   "metadata": {},
   "outputs": [],
   "source": [
    "\n",
    "tabel_dT_sum_slcf_5 = - table_of_sts(ds_uncertainty,\n",
    "                                     scenarios_fl,\n",
    "                                     [sum_v],\n",
    "                                     ['Sum SLCFs'],\n",
    "                                     years,\n",
    "                                     ref_year_uncertainty,\n",
    "                                     sts='p05-p50')\n",
    "tabel_dT_sum_slcf_95 = table_of_sts(ds_uncertainty,\n",
    "                                    scenarios_fl,\n",
    "                                    [sum_v],\n",
    "                                    ['Sum SLCFs'],\n",
    "                                    years,\n",
    "                                    ref_year_uncertainty,\n",
    "                                    sts='p95-p50')"
   ]
  },
  {
   "cell_type": "code",
   "execution_count": 32,
   "metadata": {},
   "outputs": [
    {
     "data": {
      "text/html": [
       "<div>\n",
       "<style scoped>\n",
       "    .dataframe tbody tr th:only-of-type {\n",
       "        vertical-align: middle;\n",
       "    }\n",
       "\n",
       "    .dataframe tbody tr th {\n",
       "        vertical-align: top;\n",
       "    }\n",
       "\n",
       "    .dataframe thead th {\n",
       "        text-align: right;\n",
       "    }\n",
       "</style>\n",
       "<table border=\"1\" class=\"dataframe\">\n",
       "  <thead>\n",
       "    <tr style=\"text-align: right;\">\n",
       "      <th></th>\n",
       "      <th></th>\n",
       "      <th>SSP1-1.9</th>\n",
       "      <th>SSP1-2.6</th>\n",
       "      <th>SSP2-4.5</th>\n",
       "      <th>SSP3-3.4</th>\n",
       "      <th>SSP3-7.0</th>\n",
       "      <th>SSP3-7.0-LowSLCF-HighCH$_4$</th>\n",
       "      <th>SSP3-7.0-LowSLCF-LowCH$_4$</th>\n",
       "      <th>SSP5-8.5</th>\n",
       "    </tr>\n",
       "    <tr>\n",
       "      <th></th>\n",
       "      <th></th>\n",
       "      <th></th>\n",
       "      <th></th>\n",
       "      <th></th>\n",
       "      <th></th>\n",
       "      <th></th>\n",
       "      <th></th>\n",
       "      <th></th>\n",
       "      <th></th>\n",
       "    </tr>\n",
       "  </thead>\n",
       "  <tbody>\n",
       "    <tr>\n",
       "      <th rowspan=\"4\" valign=\"top\">2040</th>\n",
       "      <th>Aerosols</th>\n",
       "      <td>0.2919</td>\n",
       "      <td>0.244711</td>\n",
       "      <td>0.0567248</td>\n",
       "      <td>0.0522341</td>\n",
       "      <td>-0.061394</td>\n",
       "      <td>0.0865772</td>\n",
       "      <td>0.0865772</td>\n",
       "      <td>0.143221</td>\n",
       "    </tr>\n",
       "    <tr>\n",
       "      <th>Methane (CH$_4$)</th>\n",
       "      <td>-0.030381</td>\n",
       "      <td>-0.018502</td>\n",
       "      <td>0.0461963</td>\n",
       "      <td>0.0528061</td>\n",
       "      <td>0.0816393</td>\n",
       "      <td>0.0816393</td>\n",
       "      <td>-0.0326403</td>\n",
       "      <td>0.0663295</td>\n",
       "    </tr>\n",
       "    <tr>\n",
       "      <th>Ozone (O$_3$)</th>\n",
       "      <td>-0.0875336</td>\n",
       "      <td>-0.0643342</td>\n",
       "      <td>0.0144792</td>\n",
       "      <td>-0.0233704</td>\n",
       "      <td>0.0745486</td>\n",
       "      <td>0.0261561</td>\n",
       "      <td>-0.0437328</td>\n",
       "      <td>0.0419436</td>\n",
       "    </tr>\n",
       "    <tr>\n",
       "      <th>HFCs</th>\n",
       "      <td>0.00681278</td>\n",
       "      <td>0.018659</td>\n",
       "      <td>0.0303215</td>\n",
       "      <td>0.00681278</td>\n",
       "      <td>0.0281637</td>\n",
       "      <td>0.0281637</td>\n",
       "      <td>0.0281684</td>\n",
       "      <td>0.0443504</td>\n",
       "    </tr>\n",
       "    <tr>\n",
       "      <th rowspan=\"4\" valign=\"top\">2100</th>\n",
       "      <th>Aerosols</th>\n",
       "      <td>0.445276</td>\n",
       "      <td>0.454098</td>\n",
       "      <td>0.296192</td>\n",
       "      <td>0.302949</td>\n",
       "      <td>-0.03541</td>\n",
       "      <td>0.287903</td>\n",
       "      <td>0.287903</td>\n",
       "      <td>0.254679</td>\n",
       "    </tr>\n",
       "    <tr>\n",
       "      <th>Methane (CH$_4$)</th>\n",
       "      <td>-0.163022</td>\n",
       "      <td>-0.155442</td>\n",
       "      <td>0.00250472</td>\n",
       "      <td>-0.00081127</td>\n",
       "      <td>0.285313</td>\n",
       "      <td>0.285313</td>\n",
       "      <td>-0.120541</td>\n",
       "      <td>0.153352</td>\n",
       "    </tr>\n",
       "    <tr>\n",
       "      <th>Ozone (O$_3$)</th>\n",
       "      <td>-0.154183</td>\n",
       "      <td>-0.153245</td>\n",
       "      <td>-0.0476062</td>\n",
       "      <td>-0.0731102</td>\n",
       "      <td>0.243788</td>\n",
       "      <td>0.161463</td>\n",
       "      <td>-0.0992323</td>\n",
       "      <td>0.0526531</td>\n",
       "    </tr>\n",
       "    <tr>\n",
       "      <th>HFCs</th>\n",
       "      <td>-0.00254577</td>\n",
       "      <td>-0.000206338</td>\n",
       "      <td>0.0599126</td>\n",
       "      <td>-0.00254577</td>\n",
       "      <td>0.0998195</td>\n",
       "      <td>0.0998195</td>\n",
       "      <td>0.0863879</td>\n",
       "      <td>0.22836</td>\n",
       "    </tr>\n",
       "  </tbody>\n",
       "</table>\n",
       "</div>"
      ],
      "text/plain": [
       "                         SSP1-1.9     SSP1-2.6    SSP2-4.5    SSP3-3.4  \\\n",
       "                                                                         \n",
       "2040 Aerosols              0.2919     0.244711   0.0567248   0.0522341   \n",
       "     Methane (CH$_4$)   -0.030381    -0.018502   0.0461963   0.0528061   \n",
       "     Ozone (O$_3$)     -0.0875336   -0.0643342   0.0144792  -0.0233704   \n",
       "     HFCs              0.00681278     0.018659   0.0303215  0.00681278   \n",
       "2100 Aerosols            0.445276     0.454098    0.296192    0.302949   \n",
       "     Methane (CH$_4$)   -0.163022    -0.155442  0.00250472 -0.00081127   \n",
       "     Ozone (O$_3$)      -0.154183    -0.153245  -0.0476062  -0.0731102   \n",
       "     HFCs             -0.00254577 -0.000206338   0.0599126 -0.00254577   \n",
       "\n",
       "                        SSP3-7.0 SSP3-7.0-LowSLCF-HighCH$_4$  \\\n",
       "                                                               \n",
       "2040 Aerosols          -0.061394                   0.0865772   \n",
       "     Methane (CH$_4$)  0.0816393                   0.0816393   \n",
       "     Ozone (O$_3$)     0.0745486                   0.0261561   \n",
       "     HFCs              0.0281637                   0.0281637   \n",
       "2100 Aerosols           -0.03541                    0.287903   \n",
       "     Methane (CH$_4$)   0.285313                    0.285313   \n",
       "     Ozone (O$_3$)      0.243788                    0.161463   \n",
       "     HFCs              0.0998195                   0.0998195   \n",
       "\n",
       "                      SSP3-7.0-LowSLCF-LowCH$_4$   SSP5-8.5  \n",
       "                                                             \n",
       "2040 Aerosols                          0.0865772   0.143221  \n",
       "     Methane (CH$_4$)                 -0.0326403  0.0663295  \n",
       "     Ozone (O$_3$)                    -0.0437328  0.0419436  \n",
       "     HFCs                              0.0281684  0.0443504  \n",
       "2100 Aerosols                           0.287903   0.254679  \n",
       "     Methane (CH$_4$)                  -0.120541   0.153352  \n",
       "     Ozone (O$_3$)                    -0.0992323  0.0526531  \n",
       "     HFCs                              0.0863879    0.22836  "
      ]
     },
     "execution_count": 32,
     "metadata": {},
     "output_type": "execute_result"
    }
   ],
   "source": [
    "\n",
    "tabel_dT_slcfs = fix_names(tabel_dT_slcfs)  \n",
    "tabel_dT_slcfs  \n"
   ]
  },
  {
   "cell_type": "markdown",
   "metadata": {},
   "source": [
    "## colors"
   ]
  },
  {
   "cell_type": "code",
   "execution_count": 33,
   "metadata": {},
   "outputs": [
    {
     "name": "stdout",
     "output_type": "stream",
     "text": [
      "(0.5607843137254902, 0.0, 0.6470588235294118)\n",
      "(1.0, 0.4196078431372549, 0.07450980392156863)\n",
      "(0.5254901960784314, 0.7803921568627451, 0.29411764705882354)\n",
      "(0.21568627450980393, 0.49411764705882355, 0.7215686274509804)\n"
     ]
    }
   ],
   "source": [
    "cdic = get_cmap_dic(variables_erf_comp)  # , palette='colorblind'):\n",
    "ls = [cdic[key] for key in variables_erf_comp]\n"
   ]
  },
  {
   "cell_type": "markdown",
   "metadata": {},
   "source": [
    "## Error bars only from model uncertainty\n",
    "The following uncertainties assume the ECS has a standard deviation of"
   ]
  },
  {
   "cell_type": "code",
   "execution_count": 34,
   "metadata": {
    "lines_to_next_cell": 1
   },
   "outputs": [],
   "source": [
    "from ar6_ch6_rcmipfigs.utils.plot import scn_dic"
   ]
  },
  {
   "cell_type": "code",
   "execution_count": 35,
   "metadata": {
    "lines_to_next_cell": 1
   },
   "outputs": [],
   "source": [
    "\n",
    "def plt_stacked(fig, axs, tabel_dT_anthrop, tabel_dT_slcfs, tabel_dT_anthrop_5th, tabel_dT_anthrop_95th,\n",
    "                tabel_dT_sum_slcf_5, tabel_dT_sum_slcf_95):\n",
    "    tits = ['Change in GSAT in 2040 relative to 2019', 'Change in GSAT in 2100 relative to 2019']\n",
    "    for yr, ax, tit in zip(years, axs, tits):\n",
    "        # Pick out year and do various renames:\n",
    "        # Total antropogenic\n",
    "        tot_yr = tabel_dT_anthrop.loc[yr].rename(scn_dic, axis=1)\n",
    "        # Sum SLCFs\n",
    "        # uncertainty:\n",
    "        bot = tabel_dT_anthrop_5th.loc[yr].rename(scn_dic, axis=1)\n",
    "        top = tabel_dT_anthrop_95th.loc[yr].rename(scn_dic, axis=1)\n",
    "        err = pd.merge(bot, top, how='outer').values\n",
    "        # Plot bars for anthropopogenic total:\n",
    "        ax.barh(tot_yr.transpose().index, tot_yr.transpose()[scenario_tot].values,\n",
    "                color='k',\n",
    "                xerr=err,\n",
    "                error_kw=dict(ecolor='gray', lw=2, capsize=5, capthick=2),\n",
    "                label='Scenario total', alpha=.2,\n",
    "                )\n",
    "        # Plot bars for SLCFs total:\n",
    "\n",
    "        # Plot stacked plot of components:\n",
    "        _tab = tabel_dT_slcfs.loc[yr].transpose().rename(\n",
    "            {'ssp370-lowNTCF-aerchemmip': 'ssp370-lowNTCF\\n-aerchemmip'})\n",
    "        _tab = _tab.rename(scn_dic, axis=0)\n",
    "        a = _tab.plot(kind='barh', stacked=True, ax=ax, color=ls, legend=(yr != '2040'))  # , grid=True)#stac)\n",
    "        _t = _tab.sum(axis=1)  # , c=100)#.plot(kind='barh', )\n",
    "        # ax.scatter(_t, list(_t.reset_index().index), zorder=10, c='w', marker='d')\n",
    "        # uncertainty:\n",
    "        bot = tabel_dT_sum_slcf_5.loc[yr].rename(scn_dic, axis=1)\n",
    "        top = tabel_dT_sum_slcf_95.loc[yr].rename(scn_dic, axis=1)\n",
    "        err = pd.merge(bot, top, how='outer').values\n",
    "\n",
    "        ax.errorbar(_t, list(_t.reset_index().index), xerr=err, label='__nolabel__', color='w', fmt='d',\n",
    "                    linestyle=\"None\")  # ,\n",
    "\n",
    "        if not yr == '2040':\n",
    "            ax.legend(frameon=False, ncol=1)  # [l],labels=['Sce!!nario total'], loc = 4)#'lower right')\n",
    "        # Zero line:\n",
    "        ax.axvline(0, linestyle='--', color='k', alpha=0.4)\n",
    "        ax.set_title(tit)\n",
    "        ax.set_xlabel('Change in GSAT ($^\\circ$C)')\n",
    "        ax.xaxis.set_minor_locator(MultipleLocator(.1))\n",
    "\n",
    "def fix_axs(axs):\n",
    "    ax = axs[0]\n",
    "\n",
    "    ax.spines['right'].set_visible(False)\n",
    "    ax.spines['top'].set_visible(False)\n",
    "    ax.spines['left'].set_visible(False)\n",
    "    ax.tick_params(right=False, left=False)  # , color='w')\n",
    "\n",
    "    ax = axs[1]\n",
    "    ax.spines['right'].set_visible(False)\n",
    "    ax.spines['top'].set_visible(False)\n",
    "    ax.spines['left'].set_visible(False)\n",
    "    ax.tick_params(labelleft=False, right=False, left=False, color='w')\n",
    "    ax.tick_params(labelright=False, labelleft=False, right=False, left=False, color='w')\n",
    "    ax.yaxis.set_visible(False)\n",
    "    plt.tight_layout()"
   ]
  },
  {
   "cell_type": "code",
   "execution_count": 36,
   "metadata": {},
   "outputs": [
    {
     "data": {
      "text/html": [
       "<div>\n",
       "<style scoped>\n",
       "    .dataframe tbody tr th:only-of-type {\n",
       "        vertical-align: middle;\n",
       "    }\n",
       "\n",
       "    .dataframe tbody tr th {\n",
       "        vertical-align: top;\n",
       "    }\n",
       "\n",
       "    .dataframe thead th {\n",
       "        text-align: right;\n",
       "    }\n",
       "</style>\n",
       "<table border=\"1\" class=\"dataframe\">\n",
       "  <thead>\n",
       "    <tr style=\"text-align: right;\">\n",
       "      <th></th>\n",
       "      <th></th>\n",
       "      <th>SSP1-1.9</th>\n",
       "      <th>SSP1-2.6</th>\n",
       "      <th>SSP2-4.5</th>\n",
       "      <th>SSP3-3.4</th>\n",
       "      <th>SSP3-7.0</th>\n",
       "      <th>SSP3-7.0-LowSLCF-HighCH$_4$</th>\n",
       "      <th>SSP3-7.0-LowSLCF-LowCH$_4$</th>\n",
       "      <th>SSP5-8.5</th>\n",
       "    </tr>\n",
       "    <tr>\n",
       "      <th></th>\n",
       "      <th></th>\n",
       "      <th></th>\n",
       "      <th></th>\n",
       "      <th></th>\n",
       "      <th></th>\n",
       "      <th></th>\n",
       "      <th></th>\n",
       "      <th></th>\n",
       "      <th></th>\n",
       "    </tr>\n",
       "  </thead>\n",
       "  <tbody>\n",
       "    <tr>\n",
       "      <th>2040</th>\n",
       "      <th>Scenario total</th>\n",
       "      <td>0.441451</td>\n",
       "      <td>0.549258</td>\n",
       "      <td>0.631925</td>\n",
       "      <td>0.542039</td>\n",
       "      <td>0.700191</td>\n",
       "      <td>0.799816</td>\n",
       "      <td>0.606025</td>\n",
       "      <td>0.8999</td>\n",
       "    </tr>\n",
       "    <tr>\n",
       "      <th>2100</th>\n",
       "      <th>Scenario total</th>\n",
       "      <td>0.154063</td>\n",
       "      <td>0.587645</td>\n",
       "      <td>1.82018</td>\n",
       "      <td>0.919342</td>\n",
       "      <td>3.22891</td>\n",
       "      <td>3.45874</td>\n",
       "      <td>2.7216</td>\n",
       "      <td>4.23102</td>\n",
       "    </tr>\n",
       "  </tbody>\n",
       "</table>\n",
       "</div>"
      ],
      "text/plain": [
       "                     SSP1-1.9  SSP1-2.6  SSP2-4.5  SSP3-3.4  SSP3-7.0  \\\n",
       "                                                                        \n",
       "2040 Scenario total  0.441451  0.549258  0.631925  0.542039  0.700191   \n",
       "2100 Scenario total  0.154063  0.587645   1.82018  0.919342   3.22891   \n",
       "\n",
       "                    SSP3-7.0-LowSLCF-HighCH$_4$ SSP3-7.0-LowSLCF-LowCH$_4$  \\\n",
       "                                                                             \n",
       "2040 Scenario total                    0.799816                   0.606025   \n",
       "2100 Scenario total                     3.45874                     2.7216   \n",
       "\n",
       "                    SSP5-8.5  \n",
       "                              \n",
       "2040 Scenario total   0.8999  \n",
       "2100 Scenario total  4.23102  "
      ]
     },
     "metadata": {},
     "output_type": "display_data"
    },
    {
     "data": {
      "text/html": [
       "<div>\n",
       "<style scoped>\n",
       "    .dataframe tbody tr th:only-of-type {\n",
       "        vertical-align: middle;\n",
       "    }\n",
       "\n",
       "    .dataframe tbody tr th {\n",
       "        vertical-align: top;\n",
       "    }\n",
       "\n",
       "    .dataframe thead th {\n",
       "        text-align: right;\n",
       "    }\n",
       "</style>\n",
       "<table border=\"1\" class=\"dataframe\">\n",
       "  <thead>\n",
       "    <tr style=\"text-align: right;\">\n",
       "      <th></th>\n",
       "      <th></th>\n",
       "      <th>SSP1-1.9</th>\n",
       "      <th>SSP1-2.6</th>\n",
       "      <th>SSP2-4.5</th>\n",
       "      <th>SSP3-3.4</th>\n",
       "      <th>SSP3-7.0</th>\n",
       "      <th>SSP3-7.0-LowSLCF-HighCH$_4$</th>\n",
       "      <th>SSP3-7.0-LowSLCF-LowCH$_4$</th>\n",
       "      <th>SSP5-8.5</th>\n",
       "    </tr>\n",
       "    <tr>\n",
       "      <th></th>\n",
       "      <th></th>\n",
       "      <th></th>\n",
       "      <th></th>\n",
       "      <th></th>\n",
       "      <th></th>\n",
       "      <th></th>\n",
       "      <th></th>\n",
       "      <th></th>\n",
       "      <th></th>\n",
       "    </tr>\n",
       "  </thead>\n",
       "  <tbody>\n",
       "    <tr>\n",
       "      <th rowspan=\"4\" valign=\"top\">2040</th>\n",
       "      <th>Aerosols</th>\n",
       "      <td>0.2919</td>\n",
       "      <td>0.244711</td>\n",
       "      <td>0.0567248</td>\n",
       "      <td>0.0522341</td>\n",
       "      <td>-0.061394</td>\n",
       "      <td>0.0865772</td>\n",
       "      <td>0.0865772</td>\n",
       "      <td>0.143221</td>\n",
       "    </tr>\n",
       "    <tr>\n",
       "      <th>Methane (CH$_4$)</th>\n",
       "      <td>-0.030381</td>\n",
       "      <td>-0.018502</td>\n",
       "      <td>0.0461963</td>\n",
       "      <td>0.0528061</td>\n",
       "      <td>0.0816393</td>\n",
       "      <td>0.0816393</td>\n",
       "      <td>-0.0326403</td>\n",
       "      <td>0.0663295</td>\n",
       "    </tr>\n",
       "    <tr>\n",
       "      <th>Ozone (O$_3$)</th>\n",
       "      <td>-0.0875336</td>\n",
       "      <td>-0.0643342</td>\n",
       "      <td>0.0144792</td>\n",
       "      <td>-0.0233704</td>\n",
       "      <td>0.0745486</td>\n",
       "      <td>0.0261561</td>\n",
       "      <td>-0.0437328</td>\n",
       "      <td>0.0419436</td>\n",
       "    </tr>\n",
       "    <tr>\n",
       "      <th>HFCs</th>\n",
       "      <td>0.00681278</td>\n",
       "      <td>0.018659</td>\n",
       "      <td>0.0303215</td>\n",
       "      <td>0.00681278</td>\n",
       "      <td>0.0281637</td>\n",
       "      <td>0.0281637</td>\n",
       "      <td>0.0281684</td>\n",
       "      <td>0.0443504</td>\n",
       "    </tr>\n",
       "    <tr>\n",
       "      <th rowspan=\"4\" valign=\"top\">2100</th>\n",
       "      <th>Aerosols</th>\n",
       "      <td>0.445276</td>\n",
       "      <td>0.454098</td>\n",
       "      <td>0.296192</td>\n",
       "      <td>0.302949</td>\n",
       "      <td>-0.03541</td>\n",
       "      <td>0.287903</td>\n",
       "      <td>0.287903</td>\n",
       "      <td>0.254679</td>\n",
       "    </tr>\n",
       "    <tr>\n",
       "      <th>Methane (CH$_4$)</th>\n",
       "      <td>-0.163022</td>\n",
       "      <td>-0.155442</td>\n",
       "      <td>0.00250472</td>\n",
       "      <td>-0.00081127</td>\n",
       "      <td>0.285313</td>\n",
       "      <td>0.285313</td>\n",
       "      <td>-0.120541</td>\n",
       "      <td>0.153352</td>\n",
       "    </tr>\n",
       "    <tr>\n",
       "      <th>Ozone (O$_3$)</th>\n",
       "      <td>-0.154183</td>\n",
       "      <td>-0.153245</td>\n",
       "      <td>-0.0476062</td>\n",
       "      <td>-0.0731102</td>\n",
       "      <td>0.243788</td>\n",
       "      <td>0.161463</td>\n",
       "      <td>-0.0992323</td>\n",
       "      <td>0.0526531</td>\n",
       "    </tr>\n",
       "    <tr>\n",
       "      <th>HFCs</th>\n",
       "      <td>-0.00254577</td>\n",
       "      <td>-0.000206338</td>\n",
       "      <td>0.0599126</td>\n",
       "      <td>-0.00254577</td>\n",
       "      <td>0.0998195</td>\n",
       "      <td>0.0998195</td>\n",
       "      <td>0.0863879</td>\n",
       "      <td>0.22836</td>\n",
       "    </tr>\n",
       "  </tbody>\n",
       "</table>\n",
       "</div>"
      ],
      "text/plain": [
       "                         SSP1-1.9     SSP1-2.6    SSP2-4.5    SSP3-3.4  \\\n",
       "                                                                         \n",
       "2040 Aerosols              0.2919     0.244711   0.0567248   0.0522341   \n",
       "     Methane (CH$_4$)   -0.030381    -0.018502   0.0461963   0.0528061   \n",
       "     Ozone (O$_3$)     -0.0875336   -0.0643342   0.0144792  -0.0233704   \n",
       "     HFCs              0.00681278     0.018659   0.0303215  0.00681278   \n",
       "2100 Aerosols            0.445276     0.454098    0.296192    0.302949   \n",
       "     Methane (CH$_4$)   -0.163022    -0.155442  0.00250472 -0.00081127   \n",
       "     Ozone (O$_3$)      -0.154183    -0.153245  -0.0476062  -0.0731102   \n",
       "     HFCs             -0.00254577 -0.000206338   0.0599126 -0.00254577   \n",
       "\n",
       "                        SSP3-7.0 SSP3-7.0-LowSLCF-HighCH$_4$  \\\n",
       "                                                               \n",
       "2040 Aerosols          -0.061394                   0.0865772   \n",
       "     Methane (CH$_4$)  0.0816393                   0.0816393   \n",
       "     Ozone (O$_3$)     0.0745486                   0.0261561   \n",
       "     HFCs              0.0281637                   0.0281637   \n",
       "2100 Aerosols           -0.03541                    0.287903   \n",
       "     Methane (CH$_4$)   0.285313                    0.285313   \n",
       "     Ozone (O$_3$)      0.243788                    0.161463   \n",
       "     HFCs              0.0998195                   0.0998195   \n",
       "\n",
       "                      SSP3-7.0-LowSLCF-LowCH$_4$   SSP5-8.5  \n",
       "                                                             \n",
       "2040 Aerosols                          0.0865772   0.143221  \n",
       "     Methane (CH$_4$)                 -0.0326403  0.0663295  \n",
       "     Ozone (O$_3$)                    -0.0437328  0.0419436  \n",
       "     HFCs                              0.0281684  0.0443504  \n",
       "2100 Aerosols                           0.287903   0.254679  \n",
       "     Methane (CH$_4$)                  -0.120541   0.153352  \n",
       "     Ozone (O$_3$)                    -0.0992323  0.0526531  \n",
       "     HFCs                              0.0863879    0.22836  "
      ]
     },
     "metadata": {},
     "output_type": "display_data"
    }
   ],
   "source": [
    "for tab in [tabel_dT_anthrop, tabel_dT_slcfs]:\n",
    "    display(tab)"
   ]
  },
  {
   "cell_type": "code",
   "execution_count": 37,
   "metadata": {},
   "outputs": [],
   "source": [
    "from matplotlib.ticker import MultipleLocator"
   ]
  },
  {
   "cell_type": "code",
   "execution_count": 38,
   "metadata": {},
   "outputs": [
    {
     "data": {
      "image/png": "[encoded data removed]",
      "text/plain": [
       "<Figure size 720x316.8 with 2 Axes>"
      ]
     },
     "metadata": {
      "needs_background": "light"
     },
     "output_type": "display_data"
    }
   ],
   "source": [
    "fig, axs = plt.subplots(1, len(years), figsize=[10, 4.4], sharex=False, sharey=True)\n",
    "plt_stacked(fig, axs, tabel_dT_anthrop, tabel_dT_slcfs, tabel_dT_anthrop_5th, tabel_dT_anthrop_95th,\n",
    "            tabel_dT_sum_slcf_5, tabel_dT_sum_slcf_95)\n",
    "\n",
    "fix_axs(axs)\n",
    "\n",
    "fn = FIGURE_DIR / 'stack_bar_influence_years.png'\n",
    "plt.tight_layout()\n",
    "# ax = plt.gca()\n",
    "\n",
    "plt.savefig(fn, dpi=300)\n",
    "plt.savefig(fn.with_suffix('.pdf'), dpi=300)\n",
    "plt.show()"
   ]
  },
  {
   "cell_type": "code",
   "execution_count": 39,
   "metadata": {
    "lines_to_next_cell": 0
   },
   "outputs": [
    {
     "name": "stdout",
     "output_type": "stream",
     "text": [
      "['ssp119', 'ssp126', 'ssp245', 'ssp334', 'ssp370', 'ssp585']\n"
     ]
    }
   ],
   "source": [
    "\n",
    "scen_no_lowNTCF = [scn for scn in scenarios_fl if 'lowNTCF' not in scn]\n",
    "print(scen_no_lowNTCF)"
   ]
  },
  {
   "cell_type": "code",
   "execution_count": 40,
   "metadata": {
    "lines_to_next_cell": 0
   },
   "outputs": [],
   "source": [
    "subset_scenarios = list(pd.Series(scenarios_fl_oneNTCF).replace(rn_dic_scen))"
   ]
  },
  {
   "cell_type": "code",
   "execution_count": 41,
   "metadata": {},
   "outputs": [],
   "source": [
    "tabel_dT_anthrop2 = tabel_dT_anthrop[subset_scenarios]\n",
    "tabel_dT_slcfs2 = tabel_dT_slcfs[subset_scenarios]\n",
    "tabel_dT_anthrop2_5th = tabel_dT_anthrop_5th[subset_scenarios]\n",
    "tabel_dT_anthrop2_95th = tabel_dT_anthrop_95th[subset_scenarios]\n",
    "tabel_dT_sum_slcf2_5 = tabel_dT_sum_slcf_5[subset_scenarios]\n",
    "tabel_dT_sum_slcf2_95 = tabel_dT_sum_slcf_95[subset_scenarios]"
   ]
  },
  {
   "cell_type": "code",
   "execution_count": 42,
   "metadata": {},
   "outputs": [
    {
     "data": {
      "text/html": [
       "<div>\n",
       "<style scoped>\n",
       "    .dataframe tbody tr th:only-of-type {\n",
       "        vertical-align: middle;\n",
       "    }\n",
       "\n",
       "    .dataframe tbody tr th {\n",
       "        vertical-align: top;\n",
       "    }\n",
       "\n",
       "    .dataframe thead th {\n",
       "        text-align: right;\n",
       "    }\n",
       "</style>\n",
       "<table border=\"1\" class=\"dataframe\">\n",
       "  <thead>\n",
       "    <tr style=\"text-align: right;\">\n",
       "      <th></th>\n",
       "      <th></th>\n",
       "      <th>SSP1-1.9</th>\n",
       "      <th>SSP1-2.6</th>\n",
       "      <th>SSP2-4.5</th>\n",
       "      <th>SSP3-7.0</th>\n",
       "      <th>SSP3-7.0-LowSLCF-HighCH$_4$</th>\n",
       "      <th>SSP5-8.5</th>\n",
       "    </tr>\n",
       "    <tr>\n",
       "      <th></th>\n",
       "      <th></th>\n",
       "      <th></th>\n",
       "      <th></th>\n",
       "      <th></th>\n",
       "      <th></th>\n",
       "      <th></th>\n",
       "      <th></th>\n",
       "    </tr>\n",
       "  </thead>\n",
       "  <tbody>\n",
       "    <tr>\n",
       "      <th rowspan=\"4\" valign=\"top\">2040</th>\n",
       "      <th>Aerosols</th>\n",
       "      <td>0.2919</td>\n",
       "      <td>0.244711</td>\n",
       "      <td>0.0567248</td>\n",
       "      <td>-0.061394</td>\n",
       "      <td>0.0865772</td>\n",
       "      <td>0.143221</td>\n",
       "    </tr>\n",
       "    <tr>\n",
       "      <th>Methane (CH$_4$)</th>\n",
       "      <td>-0.030381</td>\n",
       "      <td>-0.018502</td>\n",
       "      <td>0.0461963</td>\n",
       "      <td>0.0816393</td>\n",
       "      <td>0.0816393</td>\n",
       "      <td>0.0663295</td>\n",
       "    </tr>\n",
       "    <tr>\n",
       "      <th>Ozone (O$_3$)</th>\n",
       "      <td>-0.0875336</td>\n",
       "      <td>-0.0643342</td>\n",
       "      <td>0.0144792</td>\n",
       "      <td>0.0745486</td>\n",
       "      <td>0.0261561</td>\n",
       "      <td>0.0419436</td>\n",
       "    </tr>\n",
       "    <tr>\n",
       "      <th>HFCs</th>\n",
       "      <td>0.00681278</td>\n",
       "      <td>0.018659</td>\n",
       "      <td>0.0303215</td>\n",
       "      <td>0.0281637</td>\n",
       "      <td>0.0281637</td>\n",
       "      <td>0.0443504</td>\n",
       "    </tr>\n",
       "    <tr>\n",
       "      <th rowspan=\"4\" valign=\"top\">2100</th>\n",
       "      <th>Aerosols</th>\n",
       "      <td>0.445276</td>\n",
       "      <td>0.454098</td>\n",
       "      <td>0.296192</td>\n",
       "      <td>-0.03541</td>\n",
       "      <td>0.287903</td>\n",
       "      <td>0.254679</td>\n",
       "    </tr>\n",
       "    <tr>\n",
       "      <th>Methane (CH$_4$)</th>\n",
       "      <td>-0.163022</td>\n",
       "      <td>-0.155442</td>\n",
       "      <td>0.00250472</td>\n",
       "      <td>0.285313</td>\n",
       "      <td>0.285313</td>\n",
       "      <td>0.153352</td>\n",
       "    </tr>\n",
       "    <tr>\n",
       "      <th>Ozone (O$_3$)</th>\n",
       "      <td>-0.154183</td>\n",
       "      <td>-0.153245</td>\n",
       "      <td>-0.0476062</td>\n",
       "      <td>0.243788</td>\n",
       "      <td>0.161463</td>\n",
       "      <td>0.0526531</td>\n",
       "    </tr>\n",
       "    <tr>\n",
       "      <th>HFCs</th>\n",
       "      <td>-0.00254577</td>\n",
       "      <td>-0.000206338</td>\n",
       "      <td>0.0599126</td>\n",
       "      <td>0.0998195</td>\n",
       "      <td>0.0998195</td>\n",
       "      <td>0.22836</td>\n",
       "    </tr>\n",
       "  </tbody>\n",
       "</table>\n",
       "</div>"
      ],
      "text/plain": [
       "                         SSP1-1.9     SSP1-2.6    SSP2-4.5   SSP3-7.0  \\\n",
       "                                                                        \n",
       "2040 Aerosols              0.2919     0.244711   0.0567248  -0.061394   \n",
       "     Methane (CH$_4$)   -0.030381    -0.018502   0.0461963  0.0816393   \n",
       "     Ozone (O$_3$)     -0.0875336   -0.0643342   0.0144792  0.0745486   \n",
       "     HFCs              0.00681278     0.018659   0.0303215  0.0281637   \n",
       "2100 Aerosols            0.445276     0.454098    0.296192   -0.03541   \n",
       "     Methane (CH$_4$)   -0.163022    -0.155442  0.00250472   0.285313   \n",
       "     Ozone (O$_3$)      -0.154183    -0.153245  -0.0476062   0.243788   \n",
       "     HFCs             -0.00254577 -0.000206338   0.0599126  0.0998195   \n",
       "\n",
       "                      SSP3-7.0-LowSLCF-HighCH$_4$   SSP5-8.5  \n",
       "                                                              \n",
       "2040 Aerosols                           0.0865772   0.143221  \n",
       "     Methane (CH$_4$)                   0.0816393  0.0663295  \n",
       "     Ozone (O$_3$)                      0.0261561  0.0419436  \n",
       "     HFCs                               0.0281637  0.0443504  \n",
       "2100 Aerosols                            0.287903   0.254679  \n",
       "     Methane (CH$_4$)                    0.285313   0.153352  \n",
       "     Ozone (O$_3$)                       0.161463  0.0526531  \n",
       "     HFCs                               0.0998195    0.22836  "
      ]
     },
     "execution_count": 42,
     "metadata": {},
     "output_type": "execute_result"
    }
   ],
   "source": [
    "tabel_dT_slcfs2"
   ]
  },
  {
   "cell_type": "markdown",
   "metadata": {},
   "source": [
    "- Include BC in aerosol total.\n",
    "- aaarggh, sorry, a last request, maybe one version with also SSP370lowNTC with and without CH4 decrease (as it was in SOD) and one without and we will see later which one we choose depending on the discussion which will remain in the TS.\n",
    "- net values. Send.\n",
    "- include total in black."
   ]
  },
  {
   "cell_type": "code",
   "execution_count": 43,
   "metadata": {
    "lines_to_next_cell": 0
   },
   "outputs": [
    {
     "data": {
      "image/png": "[encoded data removed]",
      "text/plain": [
       "<Figure size 720x316.8 with 2 Axes>"
      ]
     },
     "metadata": {
      "needs_background": "light"
     },
     "output_type": "display_data"
    }
   ],
   "source": [
    "\n",
    "fig, axs = plt.subplots(1, len(years), figsize=[10, 4.4], sharex=False, sharey=True)\n",
    "plt_stacked(fig, axs, tabel_dT_anthrop2, tabel_dT_slcfs2, tabel_dT_anthrop2_5th,\n",
    "            tabel_dT_anthrop2_95th, tabel_dT_sum_slcf2_5, tabel_dT_sum_slcf2_95)\n",
    "\n",
    "fix_axs(axs)\n",
    "fn = FIGURE_DIR / 'stack_bar_influence_years_one_lowNTCF.png'\n",
    "plt.tight_layout()\n",
    "ax = plt.gca()\n",
    "\n",
    "plt.savefig(fn, dpi=300)\n",
    "plt.savefig(fn.with_suffix('.pdf'), dpi=300)\n",
    "\n",
    "plt.show()"
   ]
  },
  {
   "cell_type": "code",
   "execution_count": null,
   "metadata": {},
   "outputs": [],
   "source": []
  },
  {
   "cell_type": "code",
   "execution_count": 44,
   "metadata": {
    "lines_to_next_cell": 0
   },
   "outputs": [],
   "source": [
    "# tabel_dT_anthrop2 = tabel_dT_anthrop[scen_no_lowNTCF]\n",
    "# tabel_dT_slcfs2 = tabel_dT_slcfs[scen_no_lowNTCF]\n",
    "\n",
    "subset_scenarios = list(pd.Series(scen_no_lowNTCF).replace(rn_dic_scen))"
   ]
  },
  {
   "cell_type": "code",
   "execution_count": 45,
   "metadata": {},
   "outputs": [],
   "source": [
    "tabel_dT_anthrop2 = tabel_dT_anthrop[subset_scenarios]\n",
    "tabel_dT_slcfs2 = tabel_dT_slcfs[subset_scenarios]\n",
    "tabel_dT_anthrop2_5th = tabel_dT_anthrop_5th[subset_scenarios]\n",
    "tabel_dT_anthrop2_95th = tabel_dT_anthrop_95th[subset_scenarios]\n",
    "tabel_dT_sum_slcf2_5 = tabel_dT_sum_slcf_5[subset_scenarios]\n",
    "tabel_dT_sum_slcf2_95 = tabel_dT_sum_slcf_95[subset_scenarios]"
   ]
  },
  {
   "cell_type": "code",
   "execution_count": 46,
   "metadata": {},
   "outputs": [
    {
     "data": {
      "text/html": [
       "<div>\n",
       "<style scoped>\n",
       "    .dataframe tbody tr th:only-of-type {\n",
       "        vertical-align: middle;\n",
       "    }\n",
       "\n",
       "    .dataframe tbody tr th {\n",
       "        vertical-align: top;\n",
       "    }\n",
       "\n",
       "    .dataframe thead th {\n",
       "        text-align: right;\n",
       "    }\n",
       "</style>\n",
       "<table border=\"1\" class=\"dataframe\">\n",
       "  <thead>\n",
       "    <tr style=\"text-align: right;\">\n",
       "      <th></th>\n",
       "      <th></th>\n",
       "      <th>SSP1-1.9</th>\n",
       "      <th>SSP1-2.6</th>\n",
       "      <th>SSP2-4.5</th>\n",
       "      <th>SSP3-3.4</th>\n",
       "      <th>SSP3-7.0</th>\n",
       "      <th>SSP5-8.5</th>\n",
       "    </tr>\n",
       "    <tr>\n",
       "      <th></th>\n",
       "      <th></th>\n",
       "      <th></th>\n",
       "      <th></th>\n",
       "      <th></th>\n",
       "      <th></th>\n",
       "      <th></th>\n",
       "      <th></th>\n",
       "    </tr>\n",
       "  </thead>\n",
       "  <tbody>\n",
       "    <tr>\n",
       "      <th rowspan=\"4\" valign=\"top\">2040</th>\n",
       "      <th>Aerosols</th>\n",
       "      <td>0.2919</td>\n",
       "      <td>0.244711</td>\n",
       "      <td>0.0567248</td>\n",
       "      <td>0.0522341</td>\n",
       "      <td>-0.061394</td>\n",
       "      <td>0.143221</td>\n",
       "    </tr>\n",
       "    <tr>\n",
       "      <th>Methane (CH$_4$)</th>\n",
       "      <td>-0.030381</td>\n",
       "      <td>-0.018502</td>\n",
       "      <td>0.0461963</td>\n",
       "      <td>0.0528061</td>\n",
       "      <td>0.0816393</td>\n",
       "      <td>0.0663295</td>\n",
       "    </tr>\n",
       "    <tr>\n",
       "      <th>Ozone (O$_3$)</th>\n",
       "      <td>-0.0875336</td>\n",
       "      <td>-0.0643342</td>\n",
       "      <td>0.0144792</td>\n",
       "      <td>-0.0233704</td>\n",
       "      <td>0.0745486</td>\n",
       "      <td>0.0419436</td>\n",
       "    </tr>\n",
       "    <tr>\n",
       "      <th>HFCs</th>\n",
       "      <td>0.00681278</td>\n",
       "      <td>0.018659</td>\n",
       "      <td>0.0303215</td>\n",
       "      <td>0.00681278</td>\n",
       "      <td>0.0281637</td>\n",
       "      <td>0.0443504</td>\n",
       "    </tr>\n",
       "    <tr>\n",
       "      <th rowspan=\"4\" valign=\"top\">2100</th>\n",
       "      <th>Aerosols</th>\n",
       "      <td>0.445276</td>\n",
       "      <td>0.454098</td>\n",
       "      <td>0.296192</td>\n",
       "      <td>0.302949</td>\n",
       "      <td>-0.03541</td>\n",
       "      <td>0.254679</td>\n",
       "    </tr>\n",
       "    <tr>\n",
       "      <th>Methane (CH$_4$)</th>\n",
       "      <td>-0.163022</td>\n",
       "      <td>-0.155442</td>\n",
       "      <td>0.00250472</td>\n",
       "      <td>-0.00081127</td>\n",
       "      <td>0.285313</td>\n",
       "      <td>0.153352</td>\n",
       "    </tr>\n",
       "    <tr>\n",
       "      <th>Ozone (O$_3$)</th>\n",
       "      <td>-0.154183</td>\n",
       "      <td>-0.153245</td>\n",
       "      <td>-0.0476062</td>\n",
       "      <td>-0.0731102</td>\n",
       "      <td>0.243788</td>\n",
       "      <td>0.0526531</td>\n",
       "    </tr>\n",
       "    <tr>\n",
       "      <th>HFCs</th>\n",
       "      <td>-0.00254577</td>\n",
       "      <td>-0.000206338</td>\n",
       "      <td>0.0599126</td>\n",
       "      <td>-0.00254577</td>\n",
       "      <td>0.0998195</td>\n",
       "      <td>0.22836</td>\n",
       "    </tr>\n",
       "  </tbody>\n",
       "</table>\n",
       "</div>"
      ],
      "text/plain": [
       "                         SSP1-1.9     SSP1-2.6    SSP2-4.5    SSP3-3.4  \\\n",
       "                                                                         \n",
       "2040 Aerosols              0.2919     0.244711   0.0567248   0.0522341   \n",
       "     Methane (CH$_4$)   -0.030381    -0.018502   0.0461963   0.0528061   \n",
       "     Ozone (O$_3$)     -0.0875336   -0.0643342   0.0144792  -0.0233704   \n",
       "     HFCs              0.00681278     0.018659   0.0303215  0.00681278   \n",
       "2100 Aerosols            0.445276     0.454098    0.296192    0.302949   \n",
       "     Methane (CH$_4$)   -0.163022    -0.155442  0.00250472 -0.00081127   \n",
       "     Ozone (O$_3$)      -0.154183    -0.153245  -0.0476062  -0.0731102   \n",
       "     HFCs             -0.00254577 -0.000206338   0.0599126 -0.00254577   \n",
       "\n",
       "                        SSP3-7.0   SSP5-8.5  \n",
       "                                             \n",
       "2040 Aerosols          -0.061394   0.143221  \n",
       "     Methane (CH$_4$)  0.0816393  0.0663295  \n",
       "     Ozone (O$_3$)     0.0745486  0.0419436  \n",
       "     HFCs              0.0281637  0.0443504  \n",
       "2100 Aerosols           -0.03541   0.254679  \n",
       "     Methane (CH$_4$)   0.285313   0.153352  \n",
       "     Ozone (O$_3$)      0.243788  0.0526531  \n",
       "     HFCs              0.0998195    0.22836  "
      ]
     },
     "execution_count": 46,
     "metadata": {},
     "output_type": "execute_result"
    }
   ],
   "source": [
    "tabel_dT_slcfs2"
   ]
  },
  {
   "cell_type": "code",
   "execution_count": 47,
   "metadata": {},
   "outputs": [
    {
     "data": {
      "image/png": "[encoded data removed]",
      "text/plain": [
       "<Figure size 720x273.6 with 2 Axes>"
      ]
     },
     "metadata": {
      "needs_background": "light"
     },
     "output_type": "display_data"
    }
   ],
   "source": [
    "\n",
    "fig, axs = plt.subplots(1, len(years), figsize=[10, 3.8], sharex=False, sharey=True)\n",
    "plt_stacked(fig, axs, tabel_dT_anthrop2, tabel_dT_slcfs2, tabel_dT_anthrop2_5th,\n",
    "            tabel_dT_anthrop2_95th, tabel_dT_sum_slcf2_5, tabel_dT_sum_slcf2_95)\n",
    "\n",
    "fix_axs(axs)\n",
    "\n",
    "fn = FIGURE_DIR / 'stack_bar_influence_years_no_lowNTCF.png'\n",
    "plt.tight_layout()\n",
    "ax = plt.gca()\n",
    "\n",
    "plt.savefig(fn, dpi=300)\n",
    "plt.savefig(fn.with_suffix('.pdf'), dpi=300)"
   ]
  },
  {
   "cell_type": "code",
   "execution_count": 48,
   "metadata": {
    "lines_to_next_cell": 0
   },
   "outputs": [],
   "source": [
    "# tabel_dT_anthrop2 = tabel_dT_anthrop[scen_no_lowNTCF]\n",
    "# tabel_dT_slcfs2 = tabel_dT_slcfs[scen_no_lowNTCF]\n",
    "\n",
    "scenario_370 = [sc for sc in scenarios_fl if 'ssp370' in sc]\n",
    "subset_scenarios = list(pd.Series(scenario_370).replace(rn_dic_scen))"
   ]
  },
  {
   "cell_type": "code",
   "execution_count": 49,
   "metadata": {},
   "outputs": [],
   "source": [
    "tabel_dT_anthrop2 = tabel_dT_anthrop[subset_scenarios]\n",
    "tabel_dT_slcfs2 = tabel_dT_slcfs[subset_scenarios]\n",
    "tabel_dT_anthrop2_5th = tabel_dT_anthrop_5th[subset_scenarios]\n",
    "tabel_dT_anthrop2_95th = tabel_dT_anthrop_95th[subset_scenarios]\n",
    "tabel_dT_sum_slcf2_5 = tabel_dT_sum_slcf_5[subset_scenarios]\n",
    "tabel_dT_sum_slcf2_95 = tabel_dT_sum_slcf_95[subset_scenarios]"
   ]
  },
  {
   "cell_type": "code",
   "execution_count": 50,
   "metadata": {},
   "outputs": [
    {
     "data": {
      "image/png": "[encoded data removed]",
      "text/plain": [
       "<Figure size 720x180 with 2 Axes>"
      ]
     },
     "metadata": {
      "needs_background": "light"
     },
     "output_type": "display_data"
    }
   ],
   "source": [
    "\n",
    "fig, axs = plt.subplots(1, len(years), figsize=[10, 2.5], sharex=False, sharey=True)\n",
    "\n",
    "plt_stacked(fig, axs, tabel_dT_anthrop2, tabel_dT_slcfs2, tabel_dT_anthrop2_5th,\n",
    "            tabel_dT_anthrop2_95th, tabel_dT_sum_slcf2_5, tabel_dT_sum_slcf2_95)\n",
    "\n",
    "fix_axs(axs)\n",
    "\n",
    "fn = FIGURE_DIR / 'stack_bar_influence_years_horiz_errTot_370only.png'\n",
    "\n",
    "plt.tight_layout()\n",
    "ax = plt.gca()\n",
    "\n",
    "plt.savefig(fn, dpi=300)\n",
    "plt.savefig(fn.with_suffix('.pdf'), dpi=300)"
   ]
  },
  {
   "cell_type": "code",
   "execution_count": 51,
   "metadata": {},
   "outputs": [
    {
     "data": {
      "text/plain": [
       "['aerosol-total-with_bc-snow', 'ch4', 'o3', 'HFCs']"
      ]
     },
     "execution_count": 51,
     "metadata": {},
     "output_type": "execute_result"
    }
   ],
   "source": [
    "variables_erf_comp"
   ]
  },
  {
   "cell_type": "code",
   "execution_count": 52,
   "metadata": {},
   "outputs": [],
   "source": [
    "variables_erf_comp_nbc = ['ch4', 'aerosol-total-with_bc-snow', 'o3', 'HFCs']"
   ]
  },
  {
   "cell_type": "code",
   "execution_count": 53,
   "metadata": {},
   "outputs": [
    {
     "data": {
      "text/html": [
       "<div>\n",
       "<style scoped>\n",
       "    .dataframe tbody tr th:only-of-type {\n",
       "        vertical-align: middle;\n",
       "    }\n",
       "\n",
       "    .dataframe tbody tr th {\n",
       "        vertical-align: top;\n",
       "    }\n",
       "\n",
       "    .dataframe thead th {\n",
       "        text-align: right;\n",
       "    }\n",
       "</style>\n",
       "<table border=\"1\" class=\"dataframe\">\n",
       "  <thead>\n",
       "    <tr style=\"text-align: right;\">\n",
       "      <th></th>\n",
       "      <th></th>\n",
       "      <th>SSP1-1.9</th>\n",
       "      <th>SSP1-2.6</th>\n",
       "      <th>SSP2-4.5</th>\n",
       "      <th>SSP3-3.4</th>\n",
       "      <th>SSP3-7.0</th>\n",
       "      <th>SSP3-7.0-LowSLCF-HighCH$_4$</th>\n",
       "      <th>SSP3-7.0-LowSLCF-LowCH$_4$</th>\n",
       "      <th>SSP5-8.5</th>\n",
       "    </tr>\n",
       "    <tr>\n",
       "      <th></th>\n",
       "      <th></th>\n",
       "      <th></th>\n",
       "      <th></th>\n",
       "      <th></th>\n",
       "      <th></th>\n",
       "      <th></th>\n",
       "      <th></th>\n",
       "      <th></th>\n",
       "      <th></th>\n",
       "    </tr>\n",
       "  </thead>\n",
       "  <tbody>\n",
       "    <tr>\n",
       "      <th>2040</th>\n",
       "      <th>Scenario total</th>\n",
       "      <td>0.441451</td>\n",
       "      <td>0.549258</td>\n",
       "      <td>0.631925</td>\n",
       "      <td>0.542039</td>\n",
       "      <td>0.700191</td>\n",
       "      <td>0.799816</td>\n",
       "      <td>0.606025</td>\n",
       "      <td>0.8999</td>\n",
       "    </tr>\n",
       "    <tr>\n",
       "      <th>2100</th>\n",
       "      <th>Scenario total</th>\n",
       "      <td>0.154063</td>\n",
       "      <td>0.587645</td>\n",
       "      <td>1.82018</td>\n",
       "      <td>0.919342</td>\n",
       "      <td>3.22891</td>\n",
       "      <td>3.45874</td>\n",
       "      <td>2.7216</td>\n",
       "      <td>4.23102</td>\n",
       "    </tr>\n",
       "  </tbody>\n",
       "</table>\n",
       "</div>"
      ],
      "text/plain": [
       "                     SSP1-1.9  SSP1-2.6  SSP2-4.5  SSP3-3.4  SSP3-7.0  \\\n",
       "                                                                        \n",
       "2040 Scenario total  0.441451  0.549258  0.631925  0.542039  0.700191   \n",
       "2100 Scenario total  0.154063  0.587645   1.82018  0.919342   3.22891   \n",
       "\n",
       "                    SSP3-7.0-LowSLCF-HighCH$_4$ SSP3-7.0-LowSLCF-LowCH$_4$  \\\n",
       "                                                                             \n",
       "2040 Scenario total                    0.799816                   0.606025   \n",
       "2100 Scenario total                     3.45874                     2.7216   \n",
       "\n",
       "                    SSP5-8.5  \n",
       "                              \n",
       "2040 Scenario total   0.8999  \n",
       "2100 Scenario total  4.23102  "
      ]
     },
     "execution_count": 53,
     "metadata": {},
     "output_type": "execute_result"
    }
   ],
   "source": [
    "tabel_dT_anthrop"
   ]
  },
  {
   "cell_type": "code",
   "execution_count": 55,
   "metadata": {},
   "outputs": [
    {
     "data": {
      "text/plain": [
       "['SSP3-7.0', 'SSP3-7.0-LowSLCF-HighCH$_4$', 'SSP3-7.0-LowSLCF-LowCH$_4$']"
      ]
     },
     "execution_count": 55,
     "metadata": {},
     "output_type": "execute_result"
    }
   ],
   "source": [
    "subset_scenarios"
   ]
  },
  {
   "cell_type": "code",
   "execution_count": 56,
   "metadata": {},
   "outputs": [],
   "source": [
    "subset_scenarios_nn =   subset_scenarios"
   ]
  },
  {
   "cell_type": "code",
   "execution_count": 57,
   "metadata": {},
   "outputs": [],
   "source": [
    "subset_scen_fl = list(pd.Series(scenarios_fl_oneNTCF).replace(rn_dic_scen))\n",
    "tabel_dT_slcfs_noBC = table_of_sts(ds_DT, scenarios_fl_oneNTCF, variables_erf_comp_nbc, variables_erf_comp_nbc,\n",
    "                                   years,\n",
    "                                   ref_year)"
   ]
  },
  {
   "cell_type": "code",
   "execution_count": 58,
   "metadata": {},
   "outputs": [],
   "source": [
    "subset_scenarios = subset_scen_fl\n",
    "tabel_dT_anthrop2 = tabel_dT_anthrop[subset_scenarios]\n",
    "tabel_dT_slcfs2 = tabel_dT_slcfs_noBC[subset_scenarios]"
   ]
  },
  {
   "cell_type": "code",
   "execution_count": 59,
   "metadata": {},
   "outputs": [],
   "source": [
    "subset_scen_fl = list(pd.Series(scenarios_fl).replace(rn_dic_scen))\n",
    "tabel_dT_slcfs2 = table_of_sts(ds_DT, scenarios_fl, variables_erf_comp_nbc, variables_erf_comp_nbc, years,\n",
    "                               ref_year)\n",
    "tabel_dT_slcfs2 = tabel_dT_slcfs2.rename(nice_name_var_dic)\n",
    "tabel_dT_slcfs2 = tabel_dT_slcfs2[subset_scen_fl]\n",
    "tabel_dT_anthrop2 = tabel_dT_anthrop[subset_scen_fl]"
   ]
  },
  {
   "cell_type": "code",
   "execution_count": 60,
   "metadata": {},
   "outputs": [
    {
     "name": "stdout",
     "output_type": "stream",
     "text": [
      "SSP1-1.9                       0.180799\n",
      "SSP1-2.6                       0.180534\n",
      "SSP2-4.5                       0.147722\n",
      "SSP3-3.4                       0.088483\n",
      "SSP3-7.0                       0.122958\n",
      "SSP3-7.0-LowSLCF-HighCH$_4$    0.222536\n",
      "SSP3-7.0-LowSLCF-LowCH$_4$     0.038372\n",
      "SSP5-8.5                       0.295845\n",
      "dtype: float64\n",
      "SSP1-1.9                       0.125524\n",
      "SSP1-2.6                       0.145206\n",
      "SSP2-4.5                       0.311004\n",
      "SSP3-3.4                       0.226482\n",
      "SSP3-7.0                       0.593510\n",
      "SSP3-7.0-LowSLCF-HighCH$_4$    0.834498\n",
      "SSP3-7.0-LowSLCF-LowCH$_4$     0.154517\n",
      "SSP5-8.5                       0.689044\n",
      "dtype: float64\n"
     ]
    },
    {
     "data": {
      "image/png": "[encoded data removed]",
      "text/plain": [
       "<Figure size 720x324 with 2 Axes>"
      ]
     },
     "metadata": {
      "needs_background": "light"
     },
     "output_type": "display_data"
    }
   ],
   "source": [
    "\n",
    "fig, axs = plt.subplots(1, len(years), figsize=[10, 4.5], sharex=False, sharey=True)\n",
    "tits = ['Change in GSAT in 2040 relative to 2019', 'Change in GSAT in 2100 relative to 2019']\n",
    "for yr, ax, tit in zip(years, axs, tits):\n",
    "    scenario_tot = 'Scenario total'\n",
    "    # Pick out year and do various renames:\n",
    "    # Total antropogenic\n",
    "    tot_yr = tabel_dT_anthrop2.loc[yr].rename(\n",
    "        {\n",
    "            'Total': scenario_tot,\n",
    "            'ssp370-lowNTCF-aerchemmip': 'ssp370-lowNTCF\\n-aerchemmip'\n",
    "        }\n",
    "    )\n",
    "    # Sum SLCFs\n",
    "    # Plot bars for anthropopogenic total:\n",
    "    ax.barh(tot_yr.transpose().index, tot_yr.transpose()[scenario_tot].values, color='k', label='Scenario total',\n",
    "            alpha=.2,\n",
    "            )\n",
    "    # Plot bars for SLCFs total:\n",
    "    scenario_tot = 'Sum SLCFs'\n",
    "\n",
    "    # Plot stacked plot of components:\n",
    "    _tab = tabel_dT_slcfs2.loc[yr].transpose().rename({'ssp370-lowNTCF-aerchemmip': 'ssp370-lowNTCF\\n-aerchemmip'})\n",
    "    _tab = _tab.rename(nice_name_var_dic)\n",
    "    a = _tab.plot(kind='barh', stacked=True, ax=ax, color=ls, legend=(yr != '2040'))  # , grid=True)#stac)\n",
    "    _t = _tab.sum(axis=1)  # , c=100)#.plot(kind='barh', )\n",
    "    ax.scatter(_t, list(_t.reset_index().index), zorder=10, c='w', marker='d')\n",
    "    print(_t)\n",
    "    # a = _tab.plot(kind='barh', stacked=True, ax=ax, color=ls, legend=(yr != '2040'))  # , grid=True)#stac)\n",
    "    if not yr == '2040':\n",
    "        ax.legend(frameon=False, ncol=1)  # [l],labels=['Sce!!nario total'], loc = 4)#'lower right')\n",
    "    # Zero line:\n",
    "    ax.axvline(0, linestyle='--', color='k', alpha=0.4)\n",
    "    ax.set_title(tit)\n",
    "    ax.set_xlabel('$\\Delta$ GSAT ($^\\circ$C)')\n",
    "    ax.xaxis.set_minor_locator(MultipleLocator(.1))\n",
    "    # ax.grid(axis='y', which='major')\n",
    "\n",
    "ax = axs[0]\n",
    "\n",
    "ax.spines['right'].set_visible(False)\n",
    "ax.spines['top'].set_visible(False)\n",
    "ax.spines['left'].set_visible(False)\n",
    "ax.tick_params(right=False, left=False)  # , color='w')\n",
    "\n",
    "ax = axs[1]\n",
    "ax.spines['right'].set_visible(False)\n",
    "ax.spines['top'].set_visible(False)\n",
    "ax.spines['left'].set_visible(False)\n",
    "ax.tick_params(labelleft=False, right=False, left=False, color='w')\n",
    "ax.tick_params(labelright=False, labelleft=False, right=False, left=False, color='w')\n",
    "ax.yaxis.set_visible(False)\n",
    "plt.tight_layout()\n",
    "\n",
    "fn = FIGURE_DIR / 'stack_bar_influence_years_all_lowNTCF_noBC.png'\n",
    "plt.tight_layout()\n",
    "ax = plt.gca()\n",
    "\n",
    "plt.savefig(fn, dpi=300)\n",
    "plt.savefig(fn.with_suffix('.pdf'), dpi=300)"
   ]
  },
  {
   "cell_type": "code",
   "execution_count": null,
   "metadata": {},
   "outputs": [],
   "source": []
  }
 ],
 "metadata": {
  "ipub": {
   "bibliography": "IPCC_terje.bib",
   "biboptions": [
    "super",
    "sort"
   ],
   "bibstyle": "unsrtnat"
  },
  "jupytext": {
   "encoding": "# -*- coding: utf-8 -*-",
   "text_representation": {
    "extension": ".py",
    "format_name": "percent",
    "format_version": "1.3",
    "jupytext_version": "1.3.3"
   }
  },
  "kernelspec": {
   "display_name": "Python 3",
   "language": "python",
   "name": "python3"
  },
  "language_info": {
   "codemirror_mode": {
    "name": "ipython",
    "version": 3
   },
   "file_extension": ".py",
   "mimetype": "text/x-python",
   "name": "python",
   "nbconvert_exporter": "python",
   "pygments_lexer": "ipython3",
   "version": "3.7.6"
  },
  "latex_metadata": {
   "author": "Sara Blichner, T. K. Berntsen",
   "bibliography": "IPCC_terje",
   "bibstyle": "plain",
   "title": "Comparison of temperature response for various climate gases"
  },
  "pycharm": {
   "stem_cell": {
    "cell_type": "raw",
    "metadata": {
     "collapsed": false
    },
    "source": []
   }
  }
 },
 "nbformat": 4,
 "nbformat_minor": 4
}
