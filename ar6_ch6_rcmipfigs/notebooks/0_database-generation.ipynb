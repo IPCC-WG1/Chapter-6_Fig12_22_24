{
 "cells": [
  {
   "cell_type": "code",
   "execution_count": null,
   "metadata": {},
   "outputs": [],
   "source": [
    "from ar6_ch6_rcmipfigs.constants import INPUT_DATA_DIR\n",
    "\n",
    "__depends__ = []\n",
    "__dest__ = [INPUT_DATA_DIR+\n",
    "    \"/data/database-results/phase-1/timestamp.txt\",\n",
    "    INPUT_DATA_DIR+\"/data/database-observations/timestamp.txt\",\n",
    "]"
   ]
  },
  {
   "cell_type": "code",
   "execution_count": 2,
   "metadata": {},
   "outputs": [
    {
     "data": {
      "application/javascript": [
       "\n",
       "            setTimeout(function() {\n",
       "                var nbb_cell_id = 2;\n",
       "                var nbb_formatted_code = \"%load_ext nb_black\";\n",
       "                var nbb_cells = Jupyter.notebook.get_cells();\n",
       "                for (var i = 0; i < nbb_cells.length; ++i) {\n",
       "                    if (nbb_cells[i].input_prompt_number == nbb_cell_id) {\n",
       "                        nbb_cells[i].set_text(nbb_formatted_code);\n",
       "                        break;\n",
       "                    }\n",
       "                }\n",
       "            }, 500);\n",
       "            "
      ],
      "text/plain": [
       "<IPython.core.display.Javascript object>"
      ]
     },
     "metadata": {},
     "output_type": "display_data"
    }
   ],
   "source": [
    "%load_ext nb_black"
   ]
  },
  {
   "cell_type": "code",
   "execution_count": 24,
   "metadata": {},
   "outputs": [
    {
     "data": {
      "application/javascript": [
       "\n",
       "            setTimeout(function() {\n",
       "                var nbb_cell_id = 24;\n",
       "                var nbb_formatted_code = \"# TODO: clean up more\";\n",
       "                var nbb_cells = Jupyter.notebook.get_cells();\n",
       "                for (var i = 0; i < nbb_cells.length; ++i) {\n",
       "                    if (nbb_cells[i].input_prompt_number == nbb_cell_id) {\n",
       "                        nbb_cells[i].set_text(nbb_formatted_code);\n",
       "                        break;\n",
       "                    }\n",
       "                }\n",
       "            }, 500);\n",
       "            "
      ],
      "text/plain": [
       "<IPython.core.display.Javascript object>"
      ]
     },
     "metadata": {},
     "output_type": "display_data"
    }
   ],
   "source": [
    "#TODO: clean up more\n"
   ]
  },
  {
   "cell_type": "markdown",
   "metadata": {},
   "source": [
    "# Database generation\n",
    "\n",
    "In this notebook we process the data into a database we can later query to make plots/do analysis etc."
   ]
  },
  {
   "cell_type": "markdown",
   "metadata": {},
   "source": [
    "## Imports"
   ]
  },
  {
   "cell_type": "code",
   "execution_count": 3,
   "metadata": {},
   "outputs": [
    {
     "data": {
      "application/javascript": [
       "IPython.OutputArea.prototype._should_scroll = function(lines) { return false; }"
      ],
      "text/plain": [
       "<IPython.core.display.Javascript object>"
      ]
     },
     "metadata": {},
     "output_type": "display_data"
    },
    {
     "data": {
      "application/javascript": [
       "\n",
       "            setTimeout(function() {\n",
       "                var nbb_cell_id = 3;\n",
       "                var nbb_formatted_code = \"import logging\\nimport os.path\\nimport re\\nfrom pathlib import Path\\nfrom distutils.util import strtobool\\n\\nimport pandas as pd\\nimport pyam\\nimport tqdm\\nfrom scmdata import ScmDataFrame, df_append\";\n",
       "                var nbb_cells = Jupyter.notebook.get_cells();\n",
       "                for (var i = 0; i < nbb_cells.length; ++i) {\n",
       "                    if (nbb_cells[i].input_prompt_number == nbb_cell_id) {\n",
       "                        nbb_cells[i].set_text(nbb_formatted_code);\n",
       "                        break;\n",
       "                    }\n",
       "                }\n",
       "            }, 500);\n",
       "            "
      ],
      "text/plain": [
       "<IPython.core.display.Javascript object>"
      ]
     },
     "metadata": {},
     "output_type": "display_data"
    }
   ],
   "source": [
    "import logging\n",
    "import os.path\n",
    "import re\n",
    "from pathlib import Path\n",
    "from distutils.util import strtobool\n",
    "\n",
    "import pandas as pd\n",
    "import pyam\n",
    "import tqdm\n",
    "from scmdata import ScmDataFrame, df_append"
   ]
  },
  {
   "cell_type": "code",
   "execution_count": 4,
   "metadata": {},
   "outputs": [
    {
     "data": {
      "text/plain": [
       "False"
      ]
     },
     "execution_count": 4,
     "metadata": {},
     "output_type": "execute_result"
    },
    {
     "data": {
      "application/javascript": [
       "\n",
       "            setTimeout(function() {\n",
       "                var nbb_cell_id = 4;\n",
       "                var nbb_formatted_code = \"from ar6_ch6_rcmipfigs.utils.database_generation import (\\n    check_all_variables_and_units_as_in_protocol,\\n    check_all_scenarios_as_in_protocol,\\n    unify_units,\\n    save_into_database,\\n    mce_get_quantile,\\n    hector_get_quantile,\\n)\\n\\nTEST_RUN = strtobool(os.getenv(\\\"CI\\\", \\\"False\\\")) or False\\nTEST_RUN\";\n",
       "                var nbb_cells = Jupyter.notebook.get_cells();\n",
       "                for (var i = 0; i < nbb_cells.length; ++i) {\n",
       "                    if (nbb_cells[i].input_prompt_number == nbb_cell_id) {\n",
       "                        nbb_cells[i].set_text(nbb_formatted_code);\n",
       "                        break;\n",
       "                    }\n",
       "                }\n",
       "            }, 500);\n",
       "            "
      ],
      "text/plain": [
       "<IPython.core.display.Javascript object>"
      ]
     },
     "metadata": {},
     "output_type": "display_data"
    }
   ],
   "source": [
    "from ar6_ch6_rcmipfigs.utils.database_generation import check_all_variables_and_units_as_in_protocol, \\\n",
    "    check_all_scenarios_as_in_protocol, unify_units, save_into_database, mce_get_quantile, hector_get_quantile\n",
    "\n",
    "TEST_RUN = strtobool(os.getenv(\"CI\", \"False\")) or False\n",
    "TEST_RUN"
   ]
  },
  {
   "cell_type": "code",
   "execution_count": 5,
   "metadata": {},
   "outputs": [
    {
     "data": {
      "application/javascript": [
       "\n",
       "            setTimeout(function() {\n",
       "                var nbb_cell_id = 5;\n",
       "                var nbb_formatted_code = \"logger = logging.getLogger()\";\n",
       "                var nbb_cells = Jupyter.notebook.get_cells();\n",
       "                for (var i = 0; i < nbb_cells.length; ++i) {\n",
       "                    if (nbb_cells[i].input_prompt_number == nbb_cell_id) {\n",
       "                        nbb_cells[i].set_text(nbb_formatted_code);\n",
       "                        break;\n",
       "                    }\n",
       "                }\n",
       "            }, 500);\n",
       "            "
      ],
      "text/plain": [
       "<IPython.core.display.Javascript object>"
      ]
     },
     "metadata": {},
     "output_type": "display_data"
    }
   ],
   "source": [
    "logger = logging.getLogger()"
   ]
  },
  {
   "cell_type": "markdown",
   "metadata": {},
   "source": [
    "## Constants"
   ]
  },
  {
   "cell_type": "code",
   "execution_count": 6,
   "metadata": {},
   "outputs": [
    {
     "data": {
      "application/javascript": [
       "\n",
       "            setTimeout(function() {\n",
       "                var nbb_cell_id = 6;\n",
       "                var nbb_formatted_code = \"from ar6_ch6_rcmipfigs.constants import INPUT_DATA_DIR\\n\\nOUTPUT_DATABASE_PATH = os.path.join(INPUT_DATA_DIR, \\\"database-results\\\", \\\"phase-1/\\\")\\n\\nOBS_DATABASE_PATH = os.path.join(INPUT_DATA_DIR, \\\"database-observations/\\\")\";\n",
       "                var nbb_cells = Jupyter.notebook.get_cells();\n",
       "                for (var i = 0; i < nbb_cells.length; ++i) {\n",
       "                    if (nbb_cells[i].input_prompt_number == nbb_cell_id) {\n",
       "                        nbb_cells[i].set_text(nbb_formatted_code);\n",
       "                        break;\n",
       "                    }\n",
       "                }\n",
       "            }, 500);\n",
       "            "
      ],
      "text/plain": [
       "<IPython.core.display.Javascript object>"
      ]
     },
     "metadata": {},
     "output_type": "display_data"
    }
   ],
   "source": [
    "from ar6_ch6_rcmipfigs.constants import  INPUT_DATA_DIR\n",
    "OUTPUT_DATABASE_PATH = os.path.join(INPUT_DATA_DIR, \"database-results\", \"phase-1/\")\n",
    "\n",
    "OBS_DATABASE_PATH = os.path.join(INPUT_DATA_DIR, \"database-observations/\")"
   ]
  },
  {
   "cell_type": "code",
   "execution_count": 7,
   "metadata": {
    "lines_to_next_cell": 2
   },
   "outputs": [
    {
     "data": {
      "application/javascript": [
       "\n",
       "            setTimeout(function() {\n",
       "                var nbb_cell_id = 7;\n",
       "                var nbb_formatted_code = \"from ar6_ch6_rcmipfigs.utils.misc import make_folders\\n\\nif not os.path.isdir(OUTPUT_DATABASE_PATH):\\n    make_folders(OUTPUT_DATABASE_PATH)\\n\\nif not os.path.isdir(OBS_DATABASE_PATH):\\n    make_folders(OBS_DATABASE_PATH)\";\n",
       "                var nbb_cells = Jupyter.notebook.get_cells();\n",
       "                for (var i = 0; i < nbb_cells.length; ++i) {\n",
       "                    if (nbb_cells[i].input_prompt_number == nbb_cell_id) {\n",
       "                        nbb_cells[i].set_text(nbb_formatted_code);\n",
       "                        break;\n",
       "                    }\n",
       "                }\n",
       "            }, 500);\n",
       "            "
      ],
      "text/plain": [
       "<IPython.core.display.Javascript object>"
      ]
     },
     "metadata": {},
     "output_type": "display_data"
    }
   ],
   "source": [
    "from ar6_ch6_rcmipfigs.utils.misc import make_folders\n",
    "if not os.path.isdir(OUTPUT_DATABASE_PATH):\n",
    "    make_folders(OUTPUT_DATABASE_PATH)\n",
    "\n",
    "if not os.path.isdir(OBS_DATABASE_PATH):\n",
    "    make_folders(OBS_DATABASE_PATH)"
   ]
  },
  {
   "cell_type": "markdown",
   "metadata": {
    "lines_to_next_cell": 2
   },
   "source": []
  },
  {
   "cell_type": "markdown",
   "metadata": {},
   "source": [
    "## Protocol"
   ]
  },
  {
   "cell_type": "code",
   "execution_count": 8,
   "metadata": {},
   "outputs": [
    {
     "data": {
      "application/javascript": [
       "\n",
       "            setTimeout(function() {\n",
       "                var nbb_cell_id = 8;\n",
       "                var nbb_formatted_code = \"SCENARIO_PROTOCOL = os.path.join(\\n    INPUT_DATA_DIR, \\\"data\\\", \\\"protocol\\\", \\\"rcmip-emissions-annual-means.csv\\\"\\n)\";\n",
       "                var nbb_cells = Jupyter.notebook.get_cells();\n",
       "                for (var i = 0; i < nbb_cells.length; ++i) {\n",
       "                    if (nbb_cells[i].input_prompt_number == nbb_cell_id) {\n",
       "                        nbb_cells[i].set_text(nbb_formatted_code);\n",
       "                        break;\n",
       "                    }\n",
       "                }\n",
       "            }, 500);\n",
       "            "
      ],
      "text/plain": [
       "<IPython.core.display.Javascript object>"
      ]
     },
     "metadata": {},
     "output_type": "display_data"
    }
   ],
   "source": [
    "SCENARIO_PROTOCOL = os.path.join(INPUT_DATA_DIR, \"data\", \"protocol\", \"rcmip-emissions-annual-means.csv\"\n",
    ")"
   ]
  },
  {
   "cell_type": "code",
   "execution_count": 9,
   "metadata": {},
   "outputs": [
    {
     "data": {
      "text/html": [
       "<div>\n",
       "<style scoped>\n",
       "    .dataframe tbody tr th:only-of-type {\n",
       "        vertical-align: middle;\n",
       "    }\n",
       "\n",
       "    .dataframe tbody tr th {\n",
       "        vertical-align: top;\n",
       "    }\n",
       "\n",
       "    .dataframe thead th {\n",
       "        text-align: right;\n",
       "    }\n",
       "</style>\n",
       "<table border=\"1\" class=\"dataframe\">\n",
       "  <thead>\n",
       "    <tr style=\"text-align: right;\">\n",
       "      <th></th>\n",
       "      <th></th>\n",
       "      <th></th>\n",
       "      <th></th>\n",
       "      <th></th>\n",
       "      <th></th>\n",
       "      <th>time</th>\n",
       "      <th>1750-01-01 00:00:00</th>\n",
       "      <th>1751-01-01 00:00:00</th>\n",
       "      <th>1752-01-01 00:00:00</th>\n",
       "      <th>1753-01-01 00:00:00</th>\n",
       "      <th>1754-01-01 00:00:00</th>\n",
       "      <th>1755-01-01 00:00:00</th>\n",
       "      <th>1756-01-01 00:00:00</th>\n",
       "      <th>1757-01-01 00:00:00</th>\n",
       "      <th>1758-01-01 00:00:00</th>\n",
       "      <th>1759-01-01 00:00:00</th>\n",
       "      <th>...</th>\n",
       "      <th>2491-01-01 00:00:00</th>\n",
       "      <th>2492-01-01 00:00:00</th>\n",
       "      <th>2493-01-01 00:00:00</th>\n",
       "      <th>2494-01-01 00:00:00</th>\n",
       "      <th>2495-01-01 00:00:00</th>\n",
       "      <th>2496-01-01 00:00:00</th>\n",
       "      <th>2497-01-01 00:00:00</th>\n",
       "      <th>2498-01-01 00:00:00</th>\n",
       "      <th>2499-01-01 00:00:00</th>\n",
       "      <th>2500-01-01 00:00:00</th>\n",
       "    </tr>\n",
       "    <tr>\n",
       "      <th>model</th>\n",
       "      <th>scenario</th>\n",
       "      <th>region</th>\n",
       "      <th>variable</th>\n",
       "      <th>unit</th>\n",
       "      <th>activity_id</th>\n",
       "      <th>mip_era</th>\n",
       "      <th></th>\n",
       "      <th></th>\n",
       "      <th></th>\n",
       "      <th></th>\n",
       "      <th></th>\n",
       "      <th></th>\n",
       "      <th></th>\n",
       "      <th></th>\n",
       "      <th></th>\n",
       "      <th></th>\n",
       "      <th></th>\n",
       "      <th></th>\n",
       "      <th></th>\n",
       "      <th></th>\n",
       "      <th></th>\n",
       "      <th></th>\n",
       "      <th></th>\n",
       "      <th></th>\n",
       "      <th></th>\n",
       "      <th></th>\n",
       "      <th></th>\n",
       "    </tr>\n",
       "  </thead>\n",
       "  <tbody>\n",
       "    <tr>\n",
       "      <th rowspan=\"5\" valign=\"top\">AIM</th>\n",
       "      <th rowspan=\"5\" valign=\"top\">rcp60</th>\n",
       "      <th rowspan=\"5\" valign=\"top\">World</th>\n",
       "      <th>Emissions|BC</th>\n",
       "      <th>Mt BC/yr</th>\n",
       "      <th>not_applicable</th>\n",
       "      <th>CMIP5</th>\n",
       "      <td>NaN</td>\n",
       "      <td>NaN</td>\n",
       "      <td>NaN</td>\n",
       "      <td>NaN</td>\n",
       "      <td>NaN</td>\n",
       "      <td>NaN</td>\n",
       "      <td>NaN</td>\n",
       "      <td>NaN</td>\n",
       "      <td>NaN</td>\n",
       "      <td>NaN</td>\n",
       "      <td>...</td>\n",
       "      <td>4.361500</td>\n",
       "      <td>4.361500</td>\n",
       "      <td>4.36150</td>\n",
       "      <td>4.361500</td>\n",
       "      <td>4.361500</td>\n",
       "      <td>4.36150</td>\n",
       "      <td>4.361500</td>\n",
       "      <td>4.361500</td>\n",
       "      <td>4.36150</td>\n",
       "      <td>4.361500</td>\n",
       "    </tr>\n",
       "    <tr>\n",
       "      <th>Emissions|CH4</th>\n",
       "      <th>Mt CH4/yr</th>\n",
       "      <th>not_applicable</th>\n",
       "      <th>CMIP5</th>\n",
       "      <td>NaN</td>\n",
       "      <td>NaN</td>\n",
       "      <td>NaN</td>\n",
       "      <td>NaN</td>\n",
       "      <td>NaN</td>\n",
       "      <td>NaN</td>\n",
       "      <td>NaN</td>\n",
       "      <td>NaN</td>\n",
       "      <td>NaN</td>\n",
       "      <td>NaN</td>\n",
       "      <td>...</td>\n",
       "      <td>254.567840</td>\n",
       "      <td>254.577630</td>\n",
       "      <td>254.58741</td>\n",
       "      <td>254.597200</td>\n",
       "      <td>254.606980</td>\n",
       "      <td>254.61676</td>\n",
       "      <td>254.626550</td>\n",
       "      <td>254.636330</td>\n",
       "      <td>254.64612</td>\n",
       "      <td>254.655900</td>\n",
       "    </tr>\n",
       "    <tr>\n",
       "      <th>Emissions|CO</th>\n",
       "      <th>Mt CO/yr</th>\n",
       "      <th>not_applicable</th>\n",
       "      <th>CMIP5</th>\n",
       "      <td>NaN</td>\n",
       "      <td>NaN</td>\n",
       "      <td>NaN</td>\n",
       "      <td>NaN</td>\n",
       "      <td>NaN</td>\n",
       "      <td>NaN</td>\n",
       "      <td>NaN</td>\n",
       "      <td>NaN</td>\n",
       "      <td>NaN</td>\n",
       "      <td>NaN</td>\n",
       "      <td>...</td>\n",
       "      <td>792.225700</td>\n",
       "      <td>792.225700</td>\n",
       "      <td>792.22570</td>\n",
       "      <td>792.225700</td>\n",
       "      <td>792.225700</td>\n",
       "      <td>792.22570</td>\n",
       "      <td>792.225700</td>\n",
       "      <td>792.225700</td>\n",
       "      <td>792.22570</td>\n",
       "      <td>792.225700</td>\n",
       "    </tr>\n",
       "    <tr>\n",
       "      <th>Emissions|CO2</th>\n",
       "      <th>Mt CO2/yr</th>\n",
       "      <th>not_applicable</th>\n",
       "      <th>CMIP5</th>\n",
       "      <td>NaN</td>\n",
       "      <td>NaN</td>\n",
       "      <td>NaN</td>\n",
       "      <td>NaN</td>\n",
       "      <td>NaN</td>\n",
       "      <td>NaN</td>\n",
       "      <td>NaN</td>\n",
       "      <td>NaN</td>\n",
       "      <td>NaN</td>\n",
       "      <td>NaN</td>\n",
       "      <td>...</td>\n",
       "      <td>3165.917333</td>\n",
       "      <td>3162.074667</td>\n",
       "      <td>3158.23200</td>\n",
       "      <td>3154.389333</td>\n",
       "      <td>3150.546667</td>\n",
       "      <td>3146.70400</td>\n",
       "      <td>3142.861333</td>\n",
       "      <td>3139.018667</td>\n",
       "      <td>3135.17600</td>\n",
       "      <td>3131.333333</td>\n",
       "    </tr>\n",
       "    <tr>\n",
       "      <th>Emissions|CO2|MAGICC AFOLU</th>\n",
       "      <th>Mt CO2/yr</th>\n",
       "      <th>not_applicable</th>\n",
       "      <th>CMIP5</th>\n",
       "      <td>NaN</td>\n",
       "      <td>NaN</td>\n",
       "      <td>NaN</td>\n",
       "      <td>NaN</td>\n",
       "      <td>NaN</td>\n",
       "      <td>NaN</td>\n",
       "      <td>NaN</td>\n",
       "      <td>NaN</td>\n",
       "      <td>NaN</td>\n",
       "      <td>NaN</td>\n",
       "      <td>...</td>\n",
       "      <td>0.000000</td>\n",
       "      <td>0.000000</td>\n",
       "      <td>0.00000</td>\n",
       "      <td>0.000000</td>\n",
       "      <td>0.000000</td>\n",
       "      <td>0.00000</td>\n",
       "      <td>0.000000</td>\n",
       "      <td>0.000000</td>\n",
       "      <td>0.00000</td>\n",
       "      <td>0.000000</td>\n",
       "    </tr>\n",
       "  </tbody>\n",
       "</table>\n",
       "<p>5 rows × 751 columns</p>\n",
       "</div>"
      ],
      "text/plain": [
       "time                                                                               1750-01-01 00:00:00  \\\n",
       "model scenario region variable                   unit      activity_id    mip_era                        \n",
       "AIM   rcp60    World  Emissions|BC               Mt BC/yr  not_applicable CMIP5                    NaN   \n",
       "                      Emissions|CH4              Mt CH4/yr not_applicable CMIP5                    NaN   \n",
       "                      Emissions|CO               Mt CO/yr  not_applicable CMIP5                    NaN   \n",
       "                      Emissions|CO2              Mt CO2/yr not_applicable CMIP5                    NaN   \n",
       "                      Emissions|CO2|MAGICC AFOLU Mt CO2/yr not_applicable CMIP5                    NaN   \n",
       "\n",
       "time                                                                               1751-01-01 00:00:00  \\\n",
       "model scenario region variable                   unit      activity_id    mip_era                        \n",
       "AIM   rcp60    World  Emissions|BC               Mt BC/yr  not_applicable CMIP5                    NaN   \n",
       "                      Emissions|CH4              Mt CH4/yr not_applicable CMIP5                    NaN   \n",
       "                      Emissions|CO               Mt CO/yr  not_applicable CMIP5                    NaN   \n",
       "                      Emissions|CO2              Mt CO2/yr not_applicable CMIP5                    NaN   \n",
       "                      Emissions|CO2|MAGICC AFOLU Mt CO2/yr not_applicable CMIP5                    NaN   \n",
       "\n",
       "time                                                                               1752-01-01 00:00:00  \\\n",
       "model scenario region variable                   unit      activity_id    mip_era                        \n",
       "AIM   rcp60    World  Emissions|BC               Mt BC/yr  not_applicable CMIP5                    NaN   \n",
       "                      Emissions|CH4              Mt CH4/yr not_applicable CMIP5                    NaN   \n",
       "                      Emissions|CO               Mt CO/yr  not_applicable CMIP5                    NaN   \n",
       "                      Emissions|CO2              Mt CO2/yr not_applicable CMIP5                    NaN   \n",
       "                      Emissions|CO2|MAGICC AFOLU Mt CO2/yr not_applicable CMIP5                    NaN   \n",
       "\n",
       "time                                                                               1753-01-01 00:00:00  \\\n",
       "model scenario region variable                   unit      activity_id    mip_era                        \n",
       "AIM   rcp60    World  Emissions|BC               Mt BC/yr  not_applicable CMIP5                    NaN   \n",
       "                      Emissions|CH4              Mt CH4/yr not_applicable CMIP5                    NaN   \n",
       "                      Emissions|CO               Mt CO/yr  not_applicable CMIP5                    NaN   \n",
       "                      Emissions|CO2              Mt CO2/yr not_applicable CMIP5                    NaN   \n",
       "                      Emissions|CO2|MAGICC AFOLU Mt CO2/yr not_applicable CMIP5                    NaN   \n",
       "\n",
       "time                                                                               1754-01-01 00:00:00  \\\n",
       "model scenario region variable                   unit      activity_id    mip_era                        \n",
       "AIM   rcp60    World  Emissions|BC               Mt BC/yr  not_applicable CMIP5                    NaN   \n",
       "                      Emissions|CH4              Mt CH4/yr not_applicable CMIP5                    NaN   \n",
       "                      Emissions|CO               Mt CO/yr  not_applicable CMIP5                    NaN   \n",
       "                      Emissions|CO2              Mt CO2/yr not_applicable CMIP5                    NaN   \n",
       "                      Emissions|CO2|MAGICC AFOLU Mt CO2/yr not_applicable CMIP5                    NaN   \n",
       "\n",
       "time                                                                               1755-01-01 00:00:00  \\\n",
       "model scenario region variable                   unit      activity_id    mip_era                        \n",
       "AIM   rcp60    World  Emissions|BC               Mt BC/yr  not_applicable CMIP5                    NaN   \n",
       "                      Emissions|CH4              Mt CH4/yr not_applicable CMIP5                    NaN   \n",
       "                      Emissions|CO               Mt CO/yr  not_applicable CMIP5                    NaN   \n",
       "                      Emissions|CO2              Mt CO2/yr not_applicable CMIP5                    NaN   \n",
       "                      Emissions|CO2|MAGICC AFOLU Mt CO2/yr not_applicable CMIP5                    NaN   \n",
       "\n",
       "time                                                                               1756-01-01 00:00:00  \\\n",
       "model scenario region variable                   unit      activity_id    mip_era                        \n",
       "AIM   rcp60    World  Emissions|BC               Mt BC/yr  not_applicable CMIP5                    NaN   \n",
       "                      Emissions|CH4              Mt CH4/yr not_applicable CMIP5                    NaN   \n",
       "                      Emissions|CO               Mt CO/yr  not_applicable CMIP5                    NaN   \n",
       "                      Emissions|CO2              Mt CO2/yr not_applicable CMIP5                    NaN   \n",
       "                      Emissions|CO2|MAGICC AFOLU Mt CO2/yr not_applicable CMIP5                    NaN   \n",
       "\n",
       "time                                                                               1757-01-01 00:00:00  \\\n",
       "model scenario region variable                   unit      activity_id    mip_era                        \n",
       "AIM   rcp60    World  Emissions|BC               Mt BC/yr  not_applicable CMIP5                    NaN   \n",
       "                      Emissions|CH4              Mt CH4/yr not_applicable CMIP5                    NaN   \n",
       "                      Emissions|CO               Mt CO/yr  not_applicable CMIP5                    NaN   \n",
       "                      Emissions|CO2              Mt CO2/yr not_applicable CMIP5                    NaN   \n",
       "                      Emissions|CO2|MAGICC AFOLU Mt CO2/yr not_applicable CMIP5                    NaN   \n",
       "\n",
       "time                                                                               1758-01-01 00:00:00  \\\n",
       "model scenario region variable                   unit      activity_id    mip_era                        \n",
       "AIM   rcp60    World  Emissions|BC               Mt BC/yr  not_applicable CMIP5                    NaN   \n",
       "                      Emissions|CH4              Mt CH4/yr not_applicable CMIP5                    NaN   \n",
       "                      Emissions|CO               Mt CO/yr  not_applicable CMIP5                    NaN   \n",
       "                      Emissions|CO2              Mt CO2/yr not_applicable CMIP5                    NaN   \n",
       "                      Emissions|CO2|MAGICC AFOLU Mt CO2/yr not_applicable CMIP5                    NaN   \n",
       "\n",
       "time                                                                               1759-01-01 00:00:00  \\\n",
       "model scenario region variable                   unit      activity_id    mip_era                        \n",
       "AIM   rcp60    World  Emissions|BC               Mt BC/yr  not_applicable CMIP5                    NaN   \n",
       "                      Emissions|CH4              Mt CH4/yr not_applicable CMIP5                    NaN   \n",
       "                      Emissions|CO               Mt CO/yr  not_applicable CMIP5                    NaN   \n",
       "                      Emissions|CO2              Mt CO2/yr not_applicable CMIP5                    NaN   \n",
       "                      Emissions|CO2|MAGICC AFOLU Mt CO2/yr not_applicable CMIP5                    NaN   \n",
       "\n",
       "time                                                                               ...  \\\n",
       "model scenario region variable                   unit      activity_id    mip_era  ...   \n",
       "AIM   rcp60    World  Emissions|BC               Mt BC/yr  not_applicable CMIP5    ...   \n",
       "                      Emissions|CH4              Mt CH4/yr not_applicable CMIP5    ...   \n",
       "                      Emissions|CO               Mt CO/yr  not_applicable CMIP5    ...   \n",
       "                      Emissions|CO2              Mt CO2/yr not_applicable CMIP5    ...   \n",
       "                      Emissions|CO2|MAGICC AFOLU Mt CO2/yr not_applicable CMIP5    ...   \n",
       "\n",
       "time                                                                               2491-01-01 00:00:00  \\\n",
       "model scenario region variable                   unit      activity_id    mip_era                        \n",
       "AIM   rcp60    World  Emissions|BC               Mt BC/yr  not_applicable CMIP5               4.361500   \n",
       "                      Emissions|CH4              Mt CH4/yr not_applicable CMIP5             254.567840   \n",
       "                      Emissions|CO               Mt CO/yr  not_applicable CMIP5             792.225700   \n",
       "                      Emissions|CO2              Mt CO2/yr not_applicable CMIP5            3165.917333   \n",
       "                      Emissions|CO2|MAGICC AFOLU Mt CO2/yr not_applicable CMIP5               0.000000   \n",
       "\n",
       "time                                                                               2492-01-01 00:00:00  \\\n",
       "model scenario region variable                   unit      activity_id    mip_era                        \n",
       "AIM   rcp60    World  Emissions|BC               Mt BC/yr  not_applicable CMIP5               4.361500   \n",
       "                      Emissions|CH4              Mt CH4/yr not_applicable CMIP5             254.577630   \n",
       "                      Emissions|CO               Mt CO/yr  not_applicable CMIP5             792.225700   \n",
       "                      Emissions|CO2              Mt CO2/yr not_applicable CMIP5            3162.074667   \n",
       "                      Emissions|CO2|MAGICC AFOLU Mt CO2/yr not_applicable CMIP5               0.000000   \n",
       "\n",
       "time                                                                               2493-01-01 00:00:00  \\\n",
       "model scenario region variable                   unit      activity_id    mip_era                        \n",
       "AIM   rcp60    World  Emissions|BC               Mt BC/yr  not_applicable CMIP5                4.36150   \n",
       "                      Emissions|CH4              Mt CH4/yr not_applicable CMIP5              254.58741   \n",
       "                      Emissions|CO               Mt CO/yr  not_applicable CMIP5              792.22570   \n",
       "                      Emissions|CO2              Mt CO2/yr not_applicable CMIP5             3158.23200   \n",
       "                      Emissions|CO2|MAGICC AFOLU Mt CO2/yr not_applicable CMIP5                0.00000   \n",
       "\n",
       "time                                                                               2494-01-01 00:00:00  \\\n",
       "model scenario region variable                   unit      activity_id    mip_era                        \n",
       "AIM   rcp60    World  Emissions|BC               Mt BC/yr  not_applicable CMIP5               4.361500   \n",
       "                      Emissions|CH4              Mt CH4/yr not_applicable CMIP5             254.597200   \n",
       "                      Emissions|CO               Mt CO/yr  not_applicable CMIP5             792.225700   \n",
       "                      Emissions|CO2              Mt CO2/yr not_applicable CMIP5            3154.389333   \n",
       "                      Emissions|CO2|MAGICC AFOLU Mt CO2/yr not_applicable CMIP5               0.000000   \n",
       "\n",
       "time                                                                               2495-01-01 00:00:00  \\\n",
       "model scenario region variable                   unit      activity_id    mip_era                        \n",
       "AIM   rcp60    World  Emissions|BC               Mt BC/yr  not_applicable CMIP5               4.361500   \n",
       "                      Emissions|CH4              Mt CH4/yr not_applicable CMIP5             254.606980   \n",
       "                      Emissions|CO               Mt CO/yr  not_applicable CMIP5             792.225700   \n",
       "                      Emissions|CO2              Mt CO2/yr not_applicable CMIP5            3150.546667   \n",
       "                      Emissions|CO2|MAGICC AFOLU Mt CO2/yr not_applicable CMIP5               0.000000   \n",
       "\n",
       "time                                                                               2496-01-01 00:00:00  \\\n",
       "model scenario region variable                   unit      activity_id    mip_era                        \n",
       "AIM   rcp60    World  Emissions|BC               Mt BC/yr  not_applicable CMIP5                4.36150   \n",
       "                      Emissions|CH4              Mt CH4/yr not_applicable CMIP5              254.61676   \n",
       "                      Emissions|CO               Mt CO/yr  not_applicable CMIP5              792.22570   \n",
       "                      Emissions|CO2              Mt CO2/yr not_applicable CMIP5             3146.70400   \n",
       "                      Emissions|CO2|MAGICC AFOLU Mt CO2/yr not_applicable CMIP5                0.00000   \n",
       "\n",
       "time                                                                               2497-01-01 00:00:00  \\\n",
       "model scenario region variable                   unit      activity_id    mip_era                        \n",
       "AIM   rcp60    World  Emissions|BC               Mt BC/yr  not_applicable CMIP5               4.361500   \n",
       "                      Emissions|CH4              Mt CH4/yr not_applicable CMIP5             254.626550   \n",
       "                      Emissions|CO               Mt CO/yr  not_applicable CMIP5             792.225700   \n",
       "                      Emissions|CO2              Mt CO2/yr not_applicable CMIP5            3142.861333   \n",
       "                      Emissions|CO2|MAGICC AFOLU Mt CO2/yr not_applicable CMIP5               0.000000   \n",
       "\n",
       "time                                                                               2498-01-01 00:00:00  \\\n",
       "model scenario region variable                   unit      activity_id    mip_era                        \n",
       "AIM   rcp60    World  Emissions|BC               Mt BC/yr  not_applicable CMIP5               4.361500   \n",
       "                      Emissions|CH4              Mt CH4/yr not_applicable CMIP5             254.636330   \n",
       "                      Emissions|CO               Mt CO/yr  not_applicable CMIP5             792.225700   \n",
       "                      Emissions|CO2              Mt CO2/yr not_applicable CMIP5            3139.018667   \n",
       "                      Emissions|CO2|MAGICC AFOLU Mt CO2/yr not_applicable CMIP5               0.000000   \n",
       "\n",
       "time                                                                               2499-01-01 00:00:00  \\\n",
       "model scenario region variable                   unit      activity_id    mip_era                        \n",
       "AIM   rcp60    World  Emissions|BC               Mt BC/yr  not_applicable CMIP5                4.36150   \n",
       "                      Emissions|CH4              Mt CH4/yr not_applicable CMIP5              254.64612   \n",
       "                      Emissions|CO               Mt CO/yr  not_applicable CMIP5              792.22570   \n",
       "                      Emissions|CO2              Mt CO2/yr not_applicable CMIP5             3135.17600   \n",
       "                      Emissions|CO2|MAGICC AFOLU Mt CO2/yr not_applicable CMIP5                0.00000   \n",
       "\n",
       "time                                                                               2500-01-01 00:00:00  \n",
       "model scenario region variable                   unit      activity_id    mip_era                       \n",
       "AIM   rcp60    World  Emissions|BC               Mt BC/yr  not_applicable CMIP5               4.361500  \n",
       "                      Emissions|CH4              Mt CH4/yr not_applicable CMIP5             254.655900  \n",
       "                      Emissions|CO               Mt CO/yr  not_applicable CMIP5             792.225700  \n",
       "                      Emissions|CO2              Mt CO2/yr not_applicable CMIP5            3131.333333  \n",
       "                      Emissions|CO2|MAGICC AFOLU Mt CO2/yr not_applicable CMIP5               0.000000  \n",
       "\n",
       "[5 rows x 751 columns]"
      ]
     },
     "execution_count": 9,
     "metadata": {},
     "output_type": "execute_result"
    },
    {
     "data": {
      "application/javascript": [
       "\n",
       "            setTimeout(function() {\n",
       "                var nbb_cell_id = 9;\n",
       "                var nbb_formatted_code = \"protocol_db = ScmDataFrame(SCENARIO_PROTOCOL)\\nprotocol_db.head()\";\n",
       "                var nbb_cells = Jupyter.notebook.get_cells();\n",
       "                for (var i = 0; i < nbb_cells.length; ++i) {\n",
       "                    if (nbb_cells[i].input_prompt_number == nbb_cell_id) {\n",
       "                        nbb_cells[i].set_text(nbb_formatted_code);\n",
       "                        break;\n",
       "                    }\n",
       "                }\n",
       "            }, 500);\n",
       "            "
      ],
      "text/plain": [
       "<IPython.core.display.Javascript object>"
      ]
     },
     "metadata": {},
     "output_type": "display_data"
    }
   ],
   "source": [
    "protocol_db = ScmDataFrame(SCENARIO_PROTOCOL)\n",
    "protocol_db.head()"
   ]
  },
  {
   "cell_type": "code",
   "execution_count": 10,
   "metadata": {},
   "outputs": [
    {
     "data": {
      "text/plain": [
       "array(['rcp60', 'ssp370', 'ssp370-lowNTCF-aerchemmip',\n",
       "       'ssp370-lowNTCF-gidden', 'historical', 'ssp434', 'ssp460', 'rcp26',\n",
       "       'ssp119', 'ssp126', 'rcp85', 'ssp245', 'rcp45', 'ssp534-over',\n",
       "       'ssp585', 'esm-bell-1000PgC', 'esm-bell-2000PgC',\n",
       "       'esm-bell-750PgC', 'esm-pi-CO2pulse', 'esm-pi-cdr-pulse',\n",
       "       'esm-piControl', 'historical-cmip5'], dtype=object)"
      ]
     },
     "execution_count": 10,
     "metadata": {},
     "output_type": "execute_result"
    },
    {
     "data": {
      "application/javascript": [
       "\n",
       "            setTimeout(function() {\n",
       "                var nbb_cell_id = 10;\n",
       "                var nbb_formatted_code = \"protocol_db[\\\"scenario\\\"].unique()\";\n",
       "                var nbb_cells = Jupyter.notebook.get_cells();\n",
       "                for (var i = 0; i < nbb_cells.length; ++i) {\n",
       "                    if (nbb_cells[i].input_prompt_number == nbb_cell_id) {\n",
       "                        nbb_cells[i].set_text(nbb_formatted_code);\n",
       "                        break;\n",
       "                    }\n",
       "                }\n",
       "            }, 500);\n",
       "            "
      ],
      "text/plain": [
       "<IPython.core.display.Javascript object>"
      ]
     },
     "metadata": {},
     "output_type": "display_data"
    }
   ],
   "source": [
    "protocol_db[\"scenario\"].unique()"
   ]
  },
  {
   "cell_type": "code",
   "execution_count": 11,
   "metadata": {},
   "outputs": [
    {
     "data": {
      "application/javascript": [
       "\n",
       "            setTimeout(function() {\n",
       "                var nbb_cell_id = 11;\n",
       "                var nbb_formatted_code = \"DATA_PROTOCOL = os.path.join(\\n    INPUT_DATA_DIR, \\\"data\\\", \\\"submission-template\\\", \\\"rcmip-data-submission-template.xlsx\\\"\\n)\";\n",
       "                var nbb_cells = Jupyter.notebook.get_cells();\n",
       "                for (var i = 0; i < nbb_cells.length; ++i) {\n",
       "                    if (nbb_cells[i].input_prompt_number == nbb_cell_id) {\n",
       "                        nbb_cells[i].set_text(nbb_formatted_code);\n",
       "                        break;\n",
       "                    }\n",
       "                }\n",
       "            }, 500);\n",
       "            "
      ],
      "text/plain": [
       "<IPython.core.display.Javascript object>"
      ]
     },
     "metadata": {},
     "output_type": "display_data"
    }
   ],
   "source": [
    "DATA_PROTOCOL = os.path.join(INPUT_DATA_DIR,\n",
    "    \"data\",\n",
    "    \"submission-template\",\n",
    "    \"rcmip-data-submission-template.xlsx\",\n",
    ")"
   ]
  },
  {
   "cell_type": "code",
   "execution_count": 12,
   "metadata": {},
   "outputs": [
    {
     "data": {
      "text/html": [
       "<div>\n",
       "<style scoped>\n",
       "    .dataframe tbody tr th:only-of-type {\n",
       "        vertical-align: middle;\n",
       "    }\n",
       "\n",
       "    .dataframe tbody tr th {\n",
       "        vertical-align: top;\n",
       "    }\n",
       "\n",
       "    .dataframe thead th {\n",
       "        text-align: right;\n",
       "    }\n",
       "</style>\n",
       "<table border=\"1\" class=\"dataframe\">\n",
       "  <thead>\n",
       "    <tr style=\"text-align: right;\">\n",
       "      <th></th>\n",
       "      <th>idx</th>\n",
       "      <th>category</th>\n",
       "      <th>variable</th>\n",
       "      <th>unit</th>\n",
       "      <th>definition</th>\n",
       "      <th>tier</th>\n",
       "    </tr>\n",
       "  </thead>\n",
       "  <tbody>\n",
       "    <tr>\n",
       "      <th>0</th>\n",
       "      <td>1</td>\n",
       "      <td>Atmospheric Concentrations</td>\n",
       "      <td>Atmospheric Concentrations|CH4</td>\n",
       "      <td>ppb</td>\n",
       "      <td>atmospheric concentrations of CH4</td>\n",
       "      <td>1</td>\n",
       "    </tr>\n",
       "    <tr>\n",
       "      <th>1</th>\n",
       "      <td>2</td>\n",
       "      <td>Atmospheric Concentrations</td>\n",
       "      <td>Atmospheric Concentrations|CO2</td>\n",
       "      <td>ppm</td>\n",
       "      <td>atmospheric concentrations of CO2</td>\n",
       "      <td>1</td>\n",
       "    </tr>\n",
       "    <tr>\n",
       "      <th>2</th>\n",
       "      <td>3</td>\n",
       "      <td>Atmospheric Concentrations</td>\n",
       "      <td>Atmospheric Concentrations|F-Gases</td>\n",
       "      <td>ppm</td>\n",
       "      <td>equivalent species atmospheric concentrations ...</td>\n",
       "      <td>3</td>\n",
       "    </tr>\n",
       "    <tr>\n",
       "      <th>3</th>\n",
       "      <td>4</td>\n",
       "      <td>Atmospheric Concentrations</td>\n",
       "      <td>Atmospheric Concentrations|F-Gases|HFC</td>\n",
       "      <td>ppm</td>\n",
       "      <td>equivalent species atmospheric concentrations ...</td>\n",
       "      <td>3</td>\n",
       "    </tr>\n",
       "    <tr>\n",
       "      <th>4</th>\n",
       "      <td>5</td>\n",
       "      <td>Atmospheric Concentrations</td>\n",
       "      <td>Atmospheric Concentrations|F-Gases|HFC|HFC125</td>\n",
       "      <td>ppt</td>\n",
       "      <td>atmospheric concentrations of HFC125</td>\n",
       "      <td>2</td>\n",
       "    </tr>\n",
       "  </tbody>\n",
       "</table>\n",
       "</div>"
      ],
      "text/plain": [
       "   idx                    category  \\\n",
       "0    1  Atmospheric Concentrations   \n",
       "1    2  Atmospheric Concentrations   \n",
       "2    3  Atmospheric Concentrations   \n",
       "3    4  Atmospheric Concentrations   \n",
       "4    5  Atmospheric Concentrations   \n",
       "\n",
       "                                        variable unit  \\\n",
       "0                 Atmospheric Concentrations|CH4  ppb   \n",
       "1                 Atmospheric Concentrations|CO2  ppm   \n",
       "2             Atmospheric Concentrations|F-Gases  ppm   \n",
       "3         Atmospheric Concentrations|F-Gases|HFC  ppm   \n",
       "4  Atmospheric Concentrations|F-Gases|HFC|HFC125  ppt   \n",
       "\n",
       "                                          definition  tier  \n",
       "0                  atmospheric concentrations of CH4     1  \n",
       "1                  atmospheric concentrations of CO2     1  \n",
       "2  equivalent species atmospheric concentrations ...     3  \n",
       "3  equivalent species atmospheric concentrations ...     3  \n",
       "4               atmospheric concentrations of HFC125     2  "
      ]
     },
     "execution_count": 12,
     "metadata": {},
     "output_type": "execute_result"
    },
    {
     "data": {
      "application/javascript": [
       "\n",
       "            setTimeout(function() {\n",
       "                var nbb_cell_id = 12;\n",
       "                var nbb_formatted_code = \"protocol_variables = pd.read_excel(DATA_PROTOCOL, sheet_name=\\\"variable_definitions\\\")\\nprotocol_variables.columns = protocol_variables.columns.str.lower()\\nprotocol_variables.head()\";\n",
       "                var nbb_cells = Jupyter.notebook.get_cells();\n",
       "                for (var i = 0; i < nbb_cells.length; ++i) {\n",
       "                    if (nbb_cells[i].input_prompt_number == nbb_cell_id) {\n",
       "                        nbb_cells[i].set_text(nbb_formatted_code);\n",
       "                        break;\n",
       "                    }\n",
       "                }\n",
       "            }, 500);\n",
       "            "
      ],
      "text/plain": [
       "<IPython.core.display.Javascript object>"
      ]
     },
     "metadata": {},
     "output_type": "display_data"
    }
   ],
   "source": [
    "protocol_variables = pd.read_excel(DATA_PROTOCOL, sheet_name=\"variable_definitions\")\n",
    "protocol_variables.columns = protocol_variables.columns.str.lower()\n",
    "protocol_variables.head()"
   ]
  },
  {
   "cell_type": "code",
   "execution_count": 13,
   "metadata": {},
   "outputs": [
    {
     "data": {
      "text/html": [
       "<div>\n",
       "<style scoped>\n",
       "    .dataframe tbody tr th:only-of-type {\n",
       "        vertical-align: middle;\n",
       "    }\n",
       "\n",
       "    .dataframe tbody tr th {\n",
       "        vertical-align: top;\n",
       "    }\n",
       "\n",
       "    .dataframe thead th {\n",
       "        text-align: right;\n",
       "    }\n",
       "</style>\n",
       "<table border=\"1\" class=\"dataframe\">\n",
       "  <thead>\n",
       "    <tr style=\"text-align: right;\">\n",
       "      <th></th>\n",
       "      <th>unnamed: 0</th>\n",
       "      <th>scenario</th>\n",
       "      <th>description of scenario</th>\n",
       "      <th>detailed scenario description</th>\n",
       "      <th>priority</th>\n",
       "    </tr>\n",
       "  </thead>\n",
       "  <tbody>\n",
       "    <tr>\n",
       "      <th>0</th>\n",
       "      <td>Instructions/Details</td>\n",
       "      <td>Scenario identifier used in the CMIP6 modeling...</td>\n",
       "      <td>Brief description of scenario</td>\n",
       "      <td>Documentation on es-doc + some other clarifyin...</td>\n",
       "      <td>Top priority is Tier 1, additional runs are Ti...</td>\n",
       "    </tr>\n",
       "    <tr>\n",
       "      <th>1</th>\n",
       "      <td>Answers</td>\n",
       "      <td># Scenario ID</td>\n",
       "      <td># Scenario Description</td>\n",
       "      <td>#Scenario Specification</td>\n",
       "      <td># Tier in RCMP</td>\n",
       "    </tr>\n",
       "    <tr>\n",
       "      <th>2</th>\n",
       "      <td>NaN</td>\n",
       "      <td>piControl</td>\n",
       "      <td>pre-industrial control simulation (i.e. consta...</td>\n",
       "      <td>groups should run as long as is sensible/they ...</td>\n",
       "      <td>1</td>\n",
       "    </tr>\n",
       "    <tr>\n",
       "      <th>3</th>\n",
       "      <td>NaN</td>\n",
       "      <td>esm-piControl</td>\n",
       "      <td>pre-industrial control simulation with zero an...</td>\n",
       "      <td>should be identical to piControl except CO2 is...</td>\n",
       "      <td>1</td>\n",
       "    </tr>\n",
       "    <tr>\n",
       "      <th>4</th>\n",
       "      <td>NaN</td>\n",
       "      <td>esm-piControl-allGHG</td>\n",
       "      <td>pre-industrial control simulation with zero an...</td>\n",
       "      <td>should be identical to piControl except all GH...</td>\n",
       "      <td>2</td>\n",
       "    </tr>\n",
       "  </tbody>\n",
       "</table>\n",
       "</div>"
      ],
      "text/plain": [
       "             unnamed: 0                                           scenario  \\\n",
       "0  Instructions/Details  Scenario identifier used in the CMIP6 modeling...   \n",
       "1               Answers                                      # Scenario ID   \n",
       "2                   NaN                                          piControl   \n",
       "3                   NaN                                      esm-piControl   \n",
       "4                   NaN                               esm-piControl-allGHG   \n",
       "\n",
       "                             description of scenario  \\\n",
       "0                     Brief description of scenario    \n",
       "1                             # Scenario Description   \n",
       "2  pre-industrial control simulation (i.e. consta...   \n",
       "3  pre-industrial control simulation with zero an...   \n",
       "4  pre-industrial control simulation with zero an...   \n",
       "\n",
       "                       detailed scenario description  \\\n",
       "0  Documentation on es-doc + some other clarifyin...   \n",
       "1                            #Scenario Specification   \n",
       "2  groups should run as long as is sensible/they ...   \n",
       "3  should be identical to piControl except CO2 is...   \n",
       "4  should be identical to piControl except all GH...   \n",
       "\n",
       "                                            priority  \n",
       "0  Top priority is Tier 1, additional runs are Ti...  \n",
       "1                                     # Tier in RCMP  \n",
       "2                                                  1  \n",
       "3                                                  1  \n",
       "4                                                  2  "
      ]
     },
     "execution_count": 13,
     "metadata": {},
     "output_type": "execute_result"
    },
    {
     "data": {
      "application/javascript": [
       "\n",
       "            setTimeout(function() {\n",
       "                var nbb_cell_id = 13;\n",
       "                var nbb_formatted_code = \"protocol_scenarios = pd.read_excel(\\n    DATA_PROTOCOL, sheet_name=\\\"scenario_info\\\", skip_rows=2\\n)\\nprotocol_scenarios.columns = protocol_scenarios.columns.str.lower()\\nprotocol_scenarios.head()\";\n",
       "                var nbb_cells = Jupyter.notebook.get_cells();\n",
       "                for (var i = 0; i < nbb_cells.length; ++i) {\n",
       "                    if (nbb_cells[i].input_prompt_number == nbb_cell_id) {\n",
       "                        nbb_cells[i].set_text(nbb_formatted_code);\n",
       "                        break;\n",
       "                    }\n",
       "                }\n",
       "            }, 500);\n",
       "            "
      ],
      "text/plain": [
       "<IPython.core.display.Javascript object>"
      ]
     },
     "metadata": {},
     "output_type": "display_data"
    }
   ],
   "source": [
    "protocol_scenarios = pd.read_excel(\n",
    "    DATA_PROTOCOL, sheet_name=\"scenario_info\", skip_rows=2\n",
    ")\n",
    "protocol_scenarios.columns = protocol_scenarios.columns.str.lower()\n",
    "protocol_scenarios.head()"
   ]
  },
  {
   "cell_type": "markdown",
   "metadata": {},
   "source": [
    "## Observations"
   ]
  },
  {
   "cell_type": "markdown",
   "metadata": {},
   "source": [
    "### tas observations\n",
    "\n",
    "These come from Chris Smith (personal email). TODO: get details from Chris about what these are."
   ]
  },
  {
   "cell_type": "code",
   "execution_count": 14,
   "metadata": {},
   "outputs": [
    {
     "data": {
      "application/javascript": [
       "\n",
       "            setTimeout(function() {\n",
       "                var nbb_cell_id = 14;\n",
       "                var nbb_formatted_code = \"TAS_OBS_PATH = os.path.join(\\n    INPUT_DATA_DIR, \\\"data\\\", \\\"priestley-centre\\\", \\\"observations\\\", \\\"tas_obs.txt\\\"\\n)\";\n",
       "                var nbb_cells = Jupyter.notebook.get_cells();\n",
       "                for (var i = 0; i < nbb_cells.length; ++i) {\n",
       "                    if (nbb_cells[i].input_prompt_number == nbb_cell_id) {\n",
       "                        nbb_cells[i].set_text(nbb_formatted_code);\n",
       "                        break;\n",
       "                    }\n",
       "                }\n",
       "            }, 500);\n",
       "            "
      ],
      "text/plain": [
       "<IPython.core.display.Javascript object>"
      ]
     },
     "metadata": {},
     "output_type": "display_data"
    }
   ],
   "source": [
    "TAS_OBS_PATH = os.path.join(\n",
    "    INPUT_DATA_DIR, \"data\", \"priestley-centre\", \"observations\", \"tas_obs.txt\"\n",
    ")"
   ]
  },
  {
   "cell_type": "code",
   "execution_count": 15,
   "metadata": {
    "scrolled": true
   },
   "outputs": [
    {
     "data": {
      "text/html": [
       "<div>\n",
       "<style scoped>\n",
       "    .dataframe tbody tr th:only-of-type {\n",
       "        vertical-align: middle;\n",
       "    }\n",
       "\n",
       "    .dataframe tbody tr th {\n",
       "        vertical-align: top;\n",
       "    }\n",
       "\n",
       "    .dataframe thead th {\n",
       "        text-align: right;\n",
       "    }\n",
       "</style>\n",
       "<table border=\"1\" class=\"dataframe\">\n",
       "  <thead>\n",
       "    <tr style=\"text-align: right;\">\n",
       "      <th></th>\n",
       "      <th>model</th>\n",
       "      <th>scenario</th>\n",
       "      <th>region</th>\n",
       "      <th>variable</th>\n",
       "      <th>unit</th>\n",
       "      <th>year</th>\n",
       "      <th>climatemodel</th>\n",
       "      <th>value</th>\n",
       "    </tr>\n",
       "  </thead>\n",
       "  <tbody>\n",
       "    <tr>\n",
       "      <th>0</th>\n",
       "      <td>unspecified</td>\n",
       "      <td>historical</td>\n",
       "      <td>World</td>\n",
       "      <td>Surface Air Temperature Change</td>\n",
       "      <td>K</td>\n",
       "      <td>1850.0</td>\n",
       "      <td>Observations (Priestley Centre)</td>\n",
       "      <td>-0.042412</td>\n",
       "    </tr>\n",
       "    <tr>\n",
       "      <th>1</th>\n",
       "      <td>unspecified</td>\n",
       "      <td>historical</td>\n",
       "      <td>World</td>\n",
       "      <td>Surface Air Temperature Change</td>\n",
       "      <td>K</td>\n",
       "      <td>1851.0</td>\n",
       "      <td>Observations (Priestley Centre)</td>\n",
       "      <td>0.123588</td>\n",
       "    </tr>\n",
       "    <tr>\n",
       "      <th>2</th>\n",
       "      <td>unspecified</td>\n",
       "      <td>historical</td>\n",
       "      <td>World</td>\n",
       "      <td>Surface Air Temperature Change</td>\n",
       "      <td>K</td>\n",
       "      <td>1852.0</td>\n",
       "      <td>Observations (Priestley Centre)</td>\n",
       "      <td>0.085588</td>\n",
       "    </tr>\n",
       "    <tr>\n",
       "      <th>3</th>\n",
       "      <td>unspecified</td>\n",
       "      <td>historical</td>\n",
       "      <td>World</td>\n",
       "      <td>Surface Air Temperature Change</td>\n",
       "      <td>K</td>\n",
       "      <td>1853.0</td>\n",
       "      <td>Observations (Priestley Centre)</td>\n",
       "      <td>0.025588</td>\n",
       "    </tr>\n",
       "    <tr>\n",
       "      <th>4</th>\n",
       "      <td>unspecified</td>\n",
       "      <td>historical</td>\n",
       "      <td>World</td>\n",
       "      <td>Surface Air Temperature Change</td>\n",
       "      <td>K</td>\n",
       "      <td>1854.0</td>\n",
       "      <td>Observations (Priestley Centre)</td>\n",
       "      <td>0.086588</td>\n",
       "    </tr>\n",
       "  </tbody>\n",
       "</table>\n",
       "</div>"
      ],
      "text/plain": [
       "         model    scenario region                        variable unit  \\\n",
       "0  unspecified  historical  World  Surface Air Temperature Change    K   \n",
       "1  unspecified  historical  World  Surface Air Temperature Change    K   \n",
       "2  unspecified  historical  World  Surface Air Temperature Change    K   \n",
       "3  unspecified  historical  World  Surface Air Temperature Change    K   \n",
       "4  unspecified  historical  World  Surface Air Temperature Change    K   \n",
       "\n",
       "     year                     climatemodel     value  \n",
       "0  1850.0  Observations (Priestley Centre) -0.042412  \n",
       "1  1851.0  Observations (Priestley Centre)  0.123588  \n",
       "2  1852.0  Observations (Priestley Centre)  0.085588  \n",
       "3  1853.0  Observations (Priestley Centre)  0.025588  \n",
       "4  1854.0  Observations (Priestley Centre)  0.086588  "
      ]
     },
     "execution_count": 15,
     "metadata": {},
     "output_type": "execute_result"
    },
    {
     "data": {
      "application/javascript": [
       "\n",
       "            setTimeout(function() {\n",
       "                var nbb_cell_id = 15;\n",
       "                var nbb_formatted_code = \"tas_obs_df = pd.read_csv(TAS_OBS_PATH, header=None, delim_whitespace=True)\\ntas_obs_df.columns = [\\\"year\\\", \\\"value\\\"]\\ntas_obs_df[\\\"model\\\"] = \\\"unspecified\\\"\\ntas_obs_df[\\\"climatemodel\\\"] = \\\"Observations (Priestley Centre)\\\"\\ntas_obs_df[\\\"scenario\\\"] = \\\"historical\\\"\\ntas_obs_df[\\\"variable\\\"] = \\\"Surface Air Temperature Change\\\"\\ntas_obs_df[\\\"unit\\\"] = \\\"K\\\"\\ntas_obs_df[\\\"region\\\"] = \\\"World\\\"\\ntas_obs_df = pyam.IamDataFrame(tas_obs_df)\\ntas_obs_df.head()\";\n",
       "                var nbb_cells = Jupyter.notebook.get_cells();\n",
       "                for (var i = 0; i < nbb_cells.length; ++i) {\n",
       "                    if (nbb_cells[i].input_prompt_number == nbb_cell_id) {\n",
       "                        nbb_cells[i].set_text(nbb_formatted_code);\n",
       "                        break;\n",
       "                    }\n",
       "                }\n",
       "            }, 500);\n",
       "            "
      ],
      "text/plain": [
       "<IPython.core.display.Javascript object>"
      ]
     },
     "metadata": {},
     "output_type": "display_data"
    }
   ],
   "source": [
    "tas_obs_df = pd.read_csv(TAS_OBS_PATH, header=None, delim_whitespace=True)\n",
    "tas_obs_df.columns = [\"year\", \"value\"]\n",
    "tas_obs_df[\"model\"] = \"unspecified\"\n",
    "tas_obs_df[\"climatemodel\"] = \"Observations (Priestley Centre)\"\n",
    "tas_obs_df[\"scenario\"] = \"historical\"\n",
    "tas_obs_df[\"variable\"] = \"Surface Air Temperature Change\"\n",
    "tas_obs_df[\"unit\"] = \"K\"\n",
    "tas_obs_df[\"region\"] = \"World\"\n",
    "tas_obs_df = pyam.IamDataFrame(tas_obs_df)\n",
    "tas_obs_df.head()"
   ]
  },
  {
   "cell_type": "code",
   "execution_count": 16,
   "metadata": {},
   "outputs": [
    {
     "data": {
      "text/html": [
       "<div>\n",
       "<style scoped>\n",
       "    .dataframe tbody tr th:only-of-type {\n",
       "        vertical-align: middle;\n",
       "    }\n",
       "\n",
       "    .dataframe tbody tr th {\n",
       "        vertical-align: top;\n",
       "    }\n",
       "\n",
       "    .dataframe thead th {\n",
       "        text-align: right;\n",
       "    }\n",
       "</style>\n",
       "<table border=\"1\" class=\"dataframe\">\n",
       "  <thead>\n",
       "    <tr style=\"text-align: right;\">\n",
       "      <th></th>\n",
       "      <th>model</th>\n",
       "      <th>scenario</th>\n",
       "      <th>region</th>\n",
       "      <th>variable</th>\n",
       "      <th>unit</th>\n",
       "      <th>year</th>\n",
       "      <th>climatemodel</th>\n",
       "      <th>value</th>\n",
       "    </tr>\n",
       "  </thead>\n",
       "  <tbody>\n",
       "    <tr>\n",
       "      <th>0</th>\n",
       "      <td>unspecified</td>\n",
       "      <td>historical</td>\n",
       "      <td>World</td>\n",
       "      <td>Surface Air Temperature Change</td>\n",
       "      <td>K</td>\n",
       "      <td>1850.0</td>\n",
       "      <td>Observations (Priestley Centre)</td>\n",
       "      <td>-0.042412</td>\n",
       "    </tr>\n",
       "    <tr>\n",
       "      <th>1</th>\n",
       "      <td>unspecified</td>\n",
       "      <td>historical</td>\n",
       "      <td>World</td>\n",
       "      <td>Surface Air Temperature Change</td>\n",
       "      <td>K</td>\n",
       "      <td>1851.0</td>\n",
       "      <td>Observations (Priestley Centre)</td>\n",
       "      <td>0.123588</td>\n",
       "    </tr>\n",
       "    <tr>\n",
       "      <th>2</th>\n",
       "      <td>unspecified</td>\n",
       "      <td>historical</td>\n",
       "      <td>World</td>\n",
       "      <td>Surface Air Temperature Change</td>\n",
       "      <td>K</td>\n",
       "      <td>1852.0</td>\n",
       "      <td>Observations (Priestley Centre)</td>\n",
       "      <td>0.085588</td>\n",
       "    </tr>\n",
       "    <tr>\n",
       "      <th>3</th>\n",
       "      <td>unspecified</td>\n",
       "      <td>historical</td>\n",
       "      <td>World</td>\n",
       "      <td>Surface Air Temperature Change</td>\n",
       "      <td>K</td>\n",
       "      <td>1853.0</td>\n",
       "      <td>Observations (Priestley Centre)</td>\n",
       "      <td>0.025588</td>\n",
       "    </tr>\n",
       "    <tr>\n",
       "      <th>4</th>\n",
       "      <td>unspecified</td>\n",
       "      <td>historical</td>\n",
       "      <td>World</td>\n",
       "      <td>Surface Air Temperature Change</td>\n",
       "      <td>K</td>\n",
       "      <td>1854.0</td>\n",
       "      <td>Observations (Priestley Centre)</td>\n",
       "      <td>0.086588</td>\n",
       "    </tr>\n",
       "  </tbody>\n",
       "</table>\n",
       "</div>"
      ],
      "text/plain": [
       "         model    scenario region                        variable unit  \\\n",
       "0  unspecified  historical  World  Surface Air Temperature Change    K   \n",
       "1  unspecified  historical  World  Surface Air Temperature Change    K   \n",
       "2  unspecified  historical  World  Surface Air Temperature Change    K   \n",
       "3  unspecified  historical  World  Surface Air Temperature Change    K   \n",
       "4  unspecified  historical  World  Surface Air Temperature Change    K   \n",
       "\n",
       "     year                     climatemodel     value  \n",
       "0  1850.0  Observations (Priestley Centre) -0.042412  \n",
       "1  1851.0  Observations (Priestley Centre)  0.123588  \n",
       "2  1852.0  Observations (Priestley Centre)  0.085588  \n",
       "3  1853.0  Observations (Priestley Centre)  0.025588  \n",
       "4  1854.0  Observations (Priestley Centre)  0.086588  "
      ]
     },
     "execution_count": 16,
     "metadata": {},
     "output_type": "execute_result"
    },
    {
     "data": {
      "application/javascript": [
       "\n",
       "            setTimeout(function() {\n",
       "                var nbb_cell_id = 16;\n",
       "                var nbb_formatted_code = \"db_obs = pyam.concat([tas_obs_df])\\ndb_obs.head()\";\n",
       "                var nbb_cells = Jupyter.notebook.get_cells();\n",
       "                for (var i = 0; i < nbb_cells.length; ++i) {\n",
       "                    if (nbb_cells[i].input_prompt_number == nbb_cell_id) {\n",
       "                        nbb_cells[i].set_text(nbb_formatted_code);\n",
       "                        break;\n",
       "                    }\n",
       "                }\n",
       "            }, 500);\n",
       "            "
      ],
      "text/plain": [
       "<IPython.core.display.Javascript object>"
      ]
     },
     "metadata": {},
     "output_type": "display_data"
    }
   ],
   "source": [
    "db_obs = pyam.concat([tas_obs_df])\n",
    "db_obs.head()"
   ]
  },
  {
   "cell_type": "code",
   "execution_count": 17,
   "metadata": {},
   "outputs": [
    {
     "data": {
      "application/vnd.jupyter.widget-view+json": {
       "model_id": "73986c174b71466e9e32c9c49c2c0da8",
       "version_major": 2,
       "version_minor": 0
      },
      "text/plain": [
       "HBox(children=(IntProgress(value=0, description='Climate models', max=1, style=ProgressStyle(description_width…"
      ]
     },
     "metadata": {},
     "output_type": "display_data"
    },
    {
     "data": {
      "application/vnd.jupyter.widget-view+json": {
       "model_id": "ab8ca2ceeafa4c4fb2f694c7ffd09063",
       "version_major": 2,
       "version_minor": 0
      },
      "text/plain": [
       "HBox(children=(IntProgress(value=0, description='Regions', max=1, style=ProgressStyle(description_width='initi…"
      ]
     },
     "metadata": {},
     "output_type": "display_data"
    },
    {
     "data": {
      "application/vnd.jupyter.widget-view+json": {
       "model_id": "82fe411f8cb94664b42c4022101174c9",
       "version_major": 2,
       "version_minor": 0
      },
      "text/plain": [
       "HBox(children=(IntProgress(value=0, description='Variables', max=1, style=ProgressStyle(description_width='ini…"
      ]
     },
     "metadata": {},
     "output_type": "display_data"
    },
    {
     "name": "stdout",
     "output_type": "stream",
     "text": [
      "\r"
     ]
    },
    {
     "data": {
      "application/javascript": [
       "\n",
       "            setTimeout(function() {\n",
       "                var nbb_cell_id = 17;\n",
       "                var nbb_formatted_code = \"save_into_database(db_obs, OBS_DATABASE_PATH, \\\"rcmip-observations\\\")\";\n",
       "                var nbb_cells = Jupyter.notebook.get_cells();\n",
       "                for (var i = 0; i < nbb_cells.length; ++i) {\n",
       "                    if (nbb_cells[i].input_prompt_number == nbb_cell_id) {\n",
       "                        nbb_cells[i].set_text(nbb_formatted_code);\n",
       "                        break;\n",
       "                    }\n",
       "                }\n",
       "            }, 500);\n",
       "            "
      ],
      "text/plain": [
       "<IPython.core.display.Javascript object>"
      ]
     },
     "metadata": {},
     "output_type": "display_data"
    }
   ],
   "source": [
    "save_into_database(db_obs, OBS_DATABASE_PATH, \"rcmip-observations\")"
   ]
  },
  {
   "cell_type": "markdown",
   "metadata": {},
   "source": [
    "## Model output"
   ]
  },
  {
   "cell_type": "code",
   "execution_count": 18,
   "metadata": {},
   "outputs": [
    {
     "data": {
      "application/javascript": [
       "\n",
       "            setTimeout(function() {\n",
       "                var nbb_cell_id = 18;\n",
       "                var nbb_formatted_code = \"RESULTS_PATH = os.path.join(INPUT_DATA_DIR, \\\"data\\\", \\\"results\\\", \\\"phase-1\\\")\";\n",
       "                var nbb_cells = Jupyter.notebook.get_cells();\n",
       "                for (var i = 0; i < nbb_cells.length; ++i) {\n",
       "                    if (nbb_cells[i].input_prompt_number == nbb_cell_id) {\n",
       "                        nbb_cells[i].set_text(nbb_formatted_code);\n",
       "                        break;\n",
       "                    }\n",
       "                }\n",
       "            }, 500);\n",
       "            "
      ],
      "text/plain": [
       "<IPython.core.display.Javascript object>"
      ]
     },
     "metadata": {},
     "output_type": "display_data"
    }
   ],
   "source": [
    "RESULTS_PATH = os.path.join(INPUT_DATA_DIR, \"data\", \"results\", \"phase-1\")"
   ]
  },
  {
   "cell_type": "code",
   "execution_count": 19,
   "metadata": {
    "scrolled": true
   },
   "outputs": [
    {
     "name": "stdout",
     "output_type": "stream",
     "text": [
      "453\n"
     ]
    },
    {
     "data": {
      "text/plain": [
       "[PosixPath('/home/sarambl/PHD/IPCC/public/AR6_CH6_RCMIPFIGS/ar6_ch6_rcmipfigs/data_in/data/results/phase-1/acc2/rcmip_phase-1_acc2_v1-0-0.xlsx'),\n",
       " PosixPath('/home/sarambl/PHD/IPCC/public/AR6_CH6_RCMIPFIGS/ar6_ch6_rcmipfigs/data_in/data/results/phase-1/acc2/rcmip_phase-1_acc2_v1-0-1.xlsx'),\n",
       " PosixPath('/home/sarambl/PHD/IPCC/public/AR6_CH6_RCMIPFIGS/ar6_ch6_rcmipfigs/data_in/data/results/phase-1/acc2/rcmip_phase-1_acc2_v2-0-0.xlsx'),\n",
       " PosixPath('/home/sarambl/PHD/IPCC/public/AR6_CH6_RCMIPFIGS/ar6_ch6_rcmipfigs/data_in/data/results/phase-1/acc2/rcmip_phase-1_acc2_v2-0-1.xlsx'),\n",
       " PosixPath('/home/sarambl/PHD/IPCC/public/AR6_CH6_RCMIPFIGS/ar6_ch6_rcmipfigs/data_in/data/results/phase-1/ar5ir/ar5ir-phase-1-results-v1-0-0.csv'),\n",
       " PosixPath('/home/sarambl/PHD/IPCC/public/AR6_CH6_RCMIPFIGS/ar6_ch6_rcmipfigs/data_in/data/results/phase-1/ar5ir/ar5ir-phase-1-results-v1-0-1.csv'),\n",
       " PosixPath('/home/sarambl/PHD/IPCC/public/AR6_CH6_RCMIPFIGS/ar6_ch6_rcmipfigs/data_in/data/results/phase-1/ar5ir/ar5ir-phase-1-results-v2-0-0.csv'),\n",
       " PosixPath('/home/sarambl/PHD/IPCC/public/AR6_CH6_RCMIPFIGS/ar6_ch6_rcmipfigs/data_in/data/results/phase-1/ar5ir/rcmip-data-submission-template-ar5ir.xlsx'),\n",
       " PosixPath('/home/sarambl/PHD/IPCC/public/AR6_CH6_RCMIPFIGS/ar6_ch6_rcmipfigs/data_in/data/results/phase-1/cicero-scm/RCMIP_metascenario_Cicero-SCM-ECS3-v1-0-0.csv'),\n",
       " PosixPath('/home/sarambl/PHD/IPCC/public/AR6_CH6_RCMIPFIGS/ar6_ch6_rcmipfigs/data_in/data/results/phase-1/cicero-scm/RCMIP_metascenario_Cicero-SCM-ECS3-v1-0-1.csv'),\n",
       " PosixPath('/home/sarambl/PHD/IPCC/public/AR6_CH6_RCMIPFIGS/ar6_ch6_rcmipfigs/data_in/data/results/phase-1/cicero-scm/RCMIP_metascenario_Cicero-SCM-ECS3-v2-0-0.csv'),\n",
       " PosixPath('/home/sarambl/PHD/IPCC/public/AR6_CH6_RCMIPFIGS/ar6_ch6_rcmipfigs/data_in/data/results/phase-1/cicero-scm/RCMIP_metascenario_Cicero-SCM-ECS3-v3-0-0.csv'),\n",
       " PosixPath('/home/sarambl/PHD/IPCC/public/AR6_CH6_RCMIPFIGS/ar6_ch6_rcmipfigs/data_in/data/results/phase-1/cicero-scm/RCMIP_metascenario_Cicero-SCM-ECS3-v3-0-1.csv'),\n",
       " PosixPath('/home/sarambl/PHD/IPCC/public/AR6_CH6_RCMIPFIGS/ar6_ch6_rcmipfigs/data_in/data/results/phase-1/cicero-scm/RCMIP_metascenario_Cicero-SCM-v1-0-0.csv'),\n",
       " PosixPath('/home/sarambl/PHD/IPCC/public/AR6_CH6_RCMIPFIGS/ar6_ch6_rcmipfigs/data_in/data/results/phase-1/cicero-scm/RCMIP_metascenario_Cicero-SCM-v1-0-1.csv'),\n",
       " PosixPath('/home/sarambl/PHD/IPCC/public/AR6_CH6_RCMIPFIGS/ar6_ch6_rcmipfigs/data_in/data/results/phase-1/cicero-scm/RCMIP_metascenario_Cicero-SCM-v2-0-0.csv'),\n",
       " PosixPath('/home/sarambl/PHD/IPCC/public/AR6_CH6_RCMIPFIGS/ar6_ch6_rcmipfigs/data_in/data/results/phase-1/cicero-scm/RCMIP_metascenario_Cicero-SCM-v3-0-0.csv'),\n",
       " PosixPath('/home/sarambl/PHD/IPCC/public/AR6_CH6_RCMIPFIGS/ar6_ch6_rcmipfigs/data_in/data/results/phase-1/cicero-scm/RCMIP_metascenario_Cicero-SCM-v3-0-1.csv'),\n",
       " PosixPath('/home/sarambl/PHD/IPCC/public/AR6_CH6_RCMIPFIGS/ar6_ch6_rcmipfigs/data_in/data/results/phase-1/cicero-scm/rcmip-data-submission-Cicero-SCM-phase1-v1-0-0.xlsx'),\n",
       " PosixPath('/home/sarambl/PHD/IPCC/public/AR6_CH6_RCMIPFIGS/ar6_ch6_rcmipfigs/data_in/data/results/phase-1/cicero-scm/rcmip_phase-1_cicero-scm-ecs3_v1-0-0.csv'),\n",
       " PosixPath('/home/sarambl/PHD/IPCC/public/AR6_CH6_RCMIPFIGS/ar6_ch6_rcmipfigs/data_in/data/results/phase-1/cicero-scm/rcmip_phase-1_cicero-scm-ecs3_v1-0-1.csv'),\n",
       " PosixPath('/home/sarambl/PHD/IPCC/public/AR6_CH6_RCMIPFIGS/ar6_ch6_rcmipfigs/data_in/data/results/phase-1/cicero-scm/rcmip_phase-1_cicero-scm-ecs3_v2-0-0.csv'),\n",
       " PosixPath('/home/sarambl/PHD/IPCC/public/AR6_CH6_RCMIPFIGS/ar6_ch6_rcmipfigs/data_in/data/results/phase-1/cicero-scm/rcmip_phase-1_cicero-scm-ecs3_v3-0-0.csv'),\n",
       " PosixPath('/home/sarambl/PHD/IPCC/public/AR6_CH6_RCMIPFIGS/ar6_ch6_rcmipfigs/data_in/data/results/phase-1/cicero-scm/rcmip_phase-1_cicero-scm-ecs3_v3-0-1.csv'),\n",
       " PosixPath('/home/sarambl/PHD/IPCC/public/AR6_CH6_RCMIPFIGS/ar6_ch6_rcmipfigs/data_in/data/results/phase-1/cicero-scm/rcmip_phase-1_cicero-scm-ecs3_v4-0-0.csv'),\n",
       " PosixPath('/home/sarambl/PHD/IPCC/public/AR6_CH6_RCMIPFIGS/ar6_ch6_rcmipfigs/data_in/data/results/phase-1/cicero-scm/rcmip_phase-1_cicero-scm-ecs3_v5-0-0.csv'),\n",
       " PosixPath('/home/sarambl/PHD/IPCC/public/AR6_CH6_RCMIPFIGS/ar6_ch6_rcmipfigs/data_in/data/results/phase-1/cicero-scm/rcmip_phase-1_cicero-scm_v1-0-0.csv'),\n",
       " PosixPath('/home/sarambl/PHD/IPCC/public/AR6_CH6_RCMIPFIGS/ar6_ch6_rcmipfigs/data_in/data/results/phase-1/cicero-scm/rcmip_phase-1_cicero-scm_v1-0-1.csv'),\n",
       " PosixPath('/home/sarambl/PHD/IPCC/public/AR6_CH6_RCMIPFIGS/ar6_ch6_rcmipfigs/data_in/data/results/phase-1/cicero-scm/rcmip_phase-1_cicero-scm_v2-0-0.csv'),\n",
       " PosixPath('/home/sarambl/PHD/IPCC/public/AR6_CH6_RCMIPFIGS/ar6_ch6_rcmipfigs/data_in/data/results/phase-1/cicero-scm/rcmip_phase-1_cicero-scm_v3-0-0.csv'),\n",
       " PosixPath('/home/sarambl/PHD/IPCC/public/AR6_CH6_RCMIPFIGS/ar6_ch6_rcmipfigs/data_in/data/results/phase-1/cicero-scm/rcmip_phase-1_cicero-scm_v3-0-1.csv'),\n",
       " PosixPath('/home/sarambl/PHD/IPCC/public/AR6_CH6_RCMIPFIGS/ar6_ch6_rcmipfigs/data_in/data/results/phase-1/cicero-scm/rcmip_phase-1_cicero-scm_v4-0-0.csv'),\n",
       " PosixPath('/home/sarambl/PHD/IPCC/public/AR6_CH6_RCMIPFIGS/ar6_ch6_rcmipfigs/data_in/data/results/phase-1/cicero-scm/rcmip_phase-1_cicero-scm_v5-0-0.csv'),\n",
       " PosixPath('/home/sarambl/PHD/IPCC/public/AR6_CH6_RCMIPFIGS/ar6_ch6_rcmipfigs/data_in/data/results/phase-1/escimo/escimo-phase-1-v1-0-0.xlsx'),\n",
       " PosixPath('/home/sarambl/PHD/IPCC/public/AR6_CH6_RCMIPFIGS/ar6_ch6_rcmipfigs/data_in/data/results/phase-1/escimo/escimo-phase-1-v1-0-1.xlsx'),\n",
       " PosixPath('/home/sarambl/PHD/IPCC/public/AR6_CH6_RCMIPFIGS/ar6_ch6_rcmipfigs/data_in/data/results/phase-1/escimo/escimo-phase-1-v2-0-0.xlsx'),\n",
       " PosixPath('/home/sarambl/PHD/IPCC/public/AR6_CH6_RCMIPFIGS/ar6_ch6_rcmipfigs/data_in/data/results/phase-1/escimo/escimo-phase-1-v2-0-1.xlsx'),\n",
       " PosixPath('/home/sarambl/PHD/IPCC/public/AR6_CH6_RCMIPFIGS/ar6_ch6_rcmipfigs/data_in/data/results/phase-1/fair/rcmip-data-submission-template-v3-1-0.xlsx'),\n",
       " PosixPath('/home/sarambl/PHD/IPCC/public/AR6_CH6_RCMIPFIGS/ar6_ch6_rcmipfigs/data_in/data/results/phase-1/fair/rcmip_phase-1_fair-1.5-default-1pctCO2-4xext_v1-0-0.csv'),\n",
       " PosixPath('/home/sarambl/PHD/IPCC/public/AR6_CH6_RCMIPFIGS/ar6_ch6_rcmipfigs/data_in/data/results/phase-1/fair/rcmip_phase-1_fair-1.5-default-1pctCO2-4xext_v1-0-1.csv'),\n",
       " PosixPath('/home/sarambl/PHD/IPCC/public/AR6_CH6_RCMIPFIGS/ar6_ch6_rcmipfigs/data_in/data/results/phase-1/fair/rcmip_phase-1_fair-1.5-default-1pctCO2-bgc_v1-0-0.csv'),\n",
       " PosixPath('/home/sarambl/PHD/IPCC/public/AR6_CH6_RCMIPFIGS/ar6_ch6_rcmipfigs/data_in/data/results/phase-1/fair/rcmip_phase-1_fair-1.5-default-1pctCO2-bgc_v1-0-1.csv'),\n",
       " PosixPath('/home/sarambl/PHD/IPCC/public/AR6_CH6_RCMIPFIGS/ar6_ch6_rcmipfigs/data_in/data/results/phase-1/fair/rcmip_phase-1_fair-1.5-default-1pctCO2-cdr_v1-0-0.csv'),\n",
       " PosixPath('/home/sarambl/PHD/IPCC/public/AR6_CH6_RCMIPFIGS/ar6_ch6_rcmipfigs/data_in/data/results/phase-1/fair/rcmip_phase-1_fair-1.5-default-1pctCO2-cdr_v1-0-1.csv'),\n",
       " PosixPath('/home/sarambl/PHD/IPCC/public/AR6_CH6_RCMIPFIGS/ar6_ch6_rcmipfigs/data_in/data/results/phase-1/fair/rcmip_phase-1_fair-1.5-default-1pctCO2-rad_v1-0-0.csv'),\n",
       " PosixPath('/home/sarambl/PHD/IPCC/public/AR6_CH6_RCMIPFIGS/ar6_ch6_rcmipfigs/data_in/data/results/phase-1/fair/rcmip_phase-1_fair-1.5-default-1pctCO2-rad_v1-0-1.csv'),\n",
       " PosixPath('/home/sarambl/PHD/IPCC/public/AR6_CH6_RCMIPFIGS/ar6_ch6_rcmipfigs/data_in/data/results/phase-1/fair/rcmip_phase-1_fair-1.5-default-1pctCO2_v1-0-0.csv'),\n",
       " PosixPath('/home/sarambl/PHD/IPCC/public/AR6_CH6_RCMIPFIGS/ar6_ch6_rcmipfigs/data_in/data/results/phase-1/fair/rcmip_phase-1_fair-1.5-default-1pctCO2_v1-0-1.csv'),\n",
       " PosixPath('/home/sarambl/PHD/IPCC/public/AR6_CH6_RCMIPFIGS/ar6_ch6_rcmipfigs/data_in/data/results/phase-1/fair/rcmip_phase-1_fair-1.5-default-abrupt-0p5xCO2_v1-0-0.csv'),\n",
       " PosixPath('/home/sarambl/PHD/IPCC/public/AR6_CH6_RCMIPFIGS/ar6_ch6_rcmipfigs/data_in/data/results/phase-1/fair/rcmip_phase-1_fair-1.5-default-abrupt-0p5xCO2_v1-0-1.csv'),\n",
       " PosixPath('/home/sarambl/PHD/IPCC/public/AR6_CH6_RCMIPFIGS/ar6_ch6_rcmipfigs/data_in/data/results/phase-1/fair/rcmip_phase-1_fair-1.5-default-abrupt-2xCO2_v1-0-0.csv'),\n",
       " PosixPath('/home/sarambl/PHD/IPCC/public/AR6_CH6_RCMIPFIGS/ar6_ch6_rcmipfigs/data_in/data/results/phase-1/fair/rcmip_phase-1_fair-1.5-default-abrupt-2xCO2_v1-0-1.csv'),\n",
       " PosixPath('/home/sarambl/PHD/IPCC/public/AR6_CH6_RCMIPFIGS/ar6_ch6_rcmipfigs/data_in/data/results/phase-1/fair/rcmip_phase-1_fair-1.5-default-abrupt-4xCO2_v1-0-0.csv'),\n",
       " PosixPath('/home/sarambl/PHD/IPCC/public/AR6_CH6_RCMIPFIGS/ar6_ch6_rcmipfigs/data_in/data/results/phase-1/fair/rcmip_phase-1_fair-1.5-default-abrupt-4xCO2_v1-0-1.csv'),\n",
       " PosixPath('/home/sarambl/PHD/IPCC/public/AR6_CH6_RCMIPFIGS/ar6_ch6_rcmipfigs/data_in/data/results/phase-1/fair/rcmip_phase-1_fair-1.5-default-esm-1pct-brch-1000PgC_v1-0-0.csv'),\n",
       " PosixPath('/home/sarambl/PHD/IPCC/public/AR6_CH6_RCMIPFIGS/ar6_ch6_rcmipfigs/data_in/data/results/phase-1/fair/rcmip_phase-1_fair-1.5-default-esm-1pct-brch-1000PgC_v1-0-1.csv'),\n",
       " PosixPath('/home/sarambl/PHD/IPCC/public/AR6_CH6_RCMIPFIGS/ar6_ch6_rcmipfigs/data_in/data/results/phase-1/fair/rcmip_phase-1_fair-1.5-default-esm-1pct-brch-2000PgC_v1-0-0.csv'),\n",
       " PosixPath('/home/sarambl/PHD/IPCC/public/AR6_CH6_RCMIPFIGS/ar6_ch6_rcmipfigs/data_in/data/results/phase-1/fair/rcmip_phase-1_fair-1.5-default-esm-1pct-brch-2000PgC_v1-0-1.csv'),\n",
       " PosixPath('/home/sarambl/PHD/IPCC/public/AR6_CH6_RCMIPFIGS/ar6_ch6_rcmipfigs/data_in/data/results/phase-1/fair/rcmip_phase-1_fair-1.5-default-esm-1pct-brch-750PgC_v1-0-0.csv'),\n",
       " PosixPath('/home/sarambl/PHD/IPCC/public/AR6_CH6_RCMIPFIGS/ar6_ch6_rcmipfigs/data_in/data/results/phase-1/fair/rcmip_phase-1_fair-1.5-default-esm-1pct-brch-750PgC_v1-0-1.csv'),\n",
       " PosixPath('/home/sarambl/PHD/IPCC/public/AR6_CH6_RCMIPFIGS/ar6_ch6_rcmipfigs/data_in/data/results/phase-1/fair/rcmip_phase-1_fair-1.5-default-esm-bell-1000PgC_v1-0-0.csv'),\n",
       " PosixPath('/home/sarambl/PHD/IPCC/public/AR6_CH6_RCMIPFIGS/ar6_ch6_rcmipfigs/data_in/data/results/phase-1/fair/rcmip_phase-1_fair-1.5-default-esm-bell-1000PgC_v1-0-1.csv'),\n",
       " PosixPath('/home/sarambl/PHD/IPCC/public/AR6_CH6_RCMIPFIGS/ar6_ch6_rcmipfigs/data_in/data/results/phase-1/fair/rcmip_phase-1_fair-1.5-default-esm-bell-2000PgC_v1-0-0.csv'),\n",
       " PosixPath('/home/sarambl/PHD/IPCC/public/AR6_CH6_RCMIPFIGS/ar6_ch6_rcmipfigs/data_in/data/results/phase-1/fair/rcmip_phase-1_fair-1.5-default-esm-bell-2000PgC_v1-0-1.csv'),\n",
       " PosixPath('/home/sarambl/PHD/IPCC/public/AR6_CH6_RCMIPFIGS/ar6_ch6_rcmipfigs/data_in/data/results/phase-1/fair/rcmip_phase-1_fair-1.5-default-esm-bell-750PgC_v1-0-0.csv'),\n",
       " PosixPath('/home/sarambl/PHD/IPCC/public/AR6_CH6_RCMIPFIGS/ar6_ch6_rcmipfigs/data_in/data/results/phase-1/fair/rcmip_phase-1_fair-1.5-default-esm-bell-750PgC_v1-0-1.csv'),\n",
       " PosixPath('/home/sarambl/PHD/IPCC/public/AR6_CH6_RCMIPFIGS/ar6_ch6_rcmipfigs/data_in/data/results/phase-1/fair/rcmip_phase-1_fair-1.5-default-esm-hist-allGHG_v1-0-0.csv'),\n",
       " PosixPath('/home/sarambl/PHD/IPCC/public/AR6_CH6_RCMIPFIGS/ar6_ch6_rcmipfigs/data_in/data/results/phase-1/fair/rcmip_phase-1_fair-1.5-default-esm-hist-allGHG_v1-0-1.csv'),\n",
       " PosixPath('/home/sarambl/PHD/IPCC/public/AR6_CH6_RCMIPFIGS/ar6_ch6_rcmipfigs/data_in/data/results/phase-1/fair/rcmip_phase-1_fair-1.5-default-esm-hist-cmip5_v1-0-0.csv'),\n",
       " PosixPath('/home/sarambl/PHD/IPCC/public/AR6_CH6_RCMIPFIGS/ar6_ch6_rcmipfigs/data_in/data/results/phase-1/fair/rcmip_phase-1_fair-1.5-default-esm-hist-cmip5_v1-0-1.csv'),\n",
       " PosixPath('/home/sarambl/PHD/IPCC/public/AR6_CH6_RCMIPFIGS/ar6_ch6_rcmipfigs/data_in/data/results/phase-1/fair/rcmip_phase-1_fair-1.5-default-esm-hist_v1-0-0.csv'),\n",
       " PosixPath('/home/sarambl/PHD/IPCC/public/AR6_CH6_RCMIPFIGS/ar6_ch6_rcmipfigs/data_in/data/results/phase-1/fair/rcmip_phase-1_fair-1.5-default-esm-hist_v1-0-1.csv'),\n",
       " PosixPath('/home/sarambl/PHD/IPCC/public/AR6_CH6_RCMIPFIGS/ar6_ch6_rcmipfigs/data_in/data/results/phase-1/fair/rcmip_phase-1_fair-1.5-default-esm-pi-CO2pulse_v1-0-0.csv'),\n",
       " PosixPath('/home/sarambl/PHD/IPCC/public/AR6_CH6_RCMIPFIGS/ar6_ch6_rcmipfigs/data_in/data/results/phase-1/fair/rcmip_phase-1_fair-1.5-default-esm-pi-CO2pulse_v1-0-1.csv'),\n",
       " PosixPath('/home/sarambl/PHD/IPCC/public/AR6_CH6_RCMIPFIGS/ar6_ch6_rcmipfigs/data_in/data/results/phase-1/fair/rcmip_phase-1_fair-1.5-default-esm-pi-cdr-pulse_v1-0-0.csv'),\n",
       " PosixPath('/home/sarambl/PHD/IPCC/public/AR6_CH6_RCMIPFIGS/ar6_ch6_rcmipfigs/data_in/data/results/phase-1/fair/rcmip_phase-1_fair-1.5-default-esm-pi-cdr-pulse_v1-0-1.csv'),\n",
       " PosixPath('/home/sarambl/PHD/IPCC/public/AR6_CH6_RCMIPFIGS/ar6_ch6_rcmipfigs/data_in/data/results/phase-1/fair/rcmip_phase-1_fair-1.5-default-esm-piControl-allGHG_v1-0-0.csv'),\n",
       " PosixPath('/home/sarambl/PHD/IPCC/public/AR6_CH6_RCMIPFIGS/ar6_ch6_rcmipfigs/data_in/data/results/phase-1/fair/rcmip_phase-1_fair-1.5-default-esm-piControl-allGHG_v1-0-1.csv'),\n",
       " PosixPath('/home/sarambl/PHD/IPCC/public/AR6_CH6_RCMIPFIGS/ar6_ch6_rcmipfigs/data_in/data/results/phase-1/fair/rcmip_phase-1_fair-1.5-default-esm-rcp26-allGHG_v1-0-0.csv'),\n",
       " PosixPath('/home/sarambl/PHD/IPCC/public/AR6_CH6_RCMIPFIGS/ar6_ch6_rcmipfigs/data_in/data/results/phase-1/fair/rcmip_phase-1_fair-1.5-default-esm-rcp26-allGHG_v1-0-1.csv'),\n",
       " PosixPath('/home/sarambl/PHD/IPCC/public/AR6_CH6_RCMIPFIGS/ar6_ch6_rcmipfigs/data_in/data/results/phase-1/fair/rcmip_phase-1_fair-1.5-default-esm-rcp26_v1-0-0.csv'),\n",
       " PosixPath('/home/sarambl/PHD/IPCC/public/AR6_CH6_RCMIPFIGS/ar6_ch6_rcmipfigs/data_in/data/results/phase-1/fair/rcmip_phase-1_fair-1.5-default-esm-rcp26_v1-0-1.csv'),\n",
       " PosixPath('/home/sarambl/PHD/IPCC/public/AR6_CH6_RCMIPFIGS/ar6_ch6_rcmipfigs/data_in/data/results/phase-1/fair/rcmip_phase-1_fair-1.5-default-esm-rcp45-allGHG_v1-0-0.csv'),\n",
       " PosixPath('/home/sarambl/PHD/IPCC/public/AR6_CH6_RCMIPFIGS/ar6_ch6_rcmipfigs/data_in/data/results/phase-1/fair/rcmip_phase-1_fair-1.5-default-esm-rcp45-allGHG_v1-0-1.csv'),\n",
       " PosixPath('/home/sarambl/PHD/IPCC/public/AR6_CH6_RCMIPFIGS/ar6_ch6_rcmipfigs/data_in/data/results/phase-1/fair/rcmip_phase-1_fair-1.5-default-esm-rcp45_v1-0-0.csv'),\n",
       " PosixPath('/home/sarambl/PHD/IPCC/public/AR6_CH6_RCMIPFIGS/ar6_ch6_rcmipfigs/data_in/data/results/phase-1/fair/rcmip_phase-1_fair-1.5-default-esm-rcp45_v1-0-1.csv'),\n",
       " PosixPath('/home/sarambl/PHD/IPCC/public/AR6_CH6_RCMIPFIGS/ar6_ch6_rcmipfigs/data_in/data/results/phase-1/fair/rcmip_phase-1_fair-1.5-default-esm-rcp60-allGHG_v1-0-0.csv'),\n",
       " PosixPath('/home/sarambl/PHD/IPCC/public/AR6_CH6_RCMIPFIGS/ar6_ch6_rcmipfigs/data_in/data/results/phase-1/fair/rcmip_phase-1_fair-1.5-default-esm-rcp60-allGHG_v1-0-1.csv'),\n",
       " PosixPath('/home/sarambl/PHD/IPCC/public/AR6_CH6_RCMIPFIGS/ar6_ch6_rcmipfigs/data_in/data/results/phase-1/fair/rcmip_phase-1_fair-1.5-default-esm-rcp60_v1-0-0.csv'),\n",
       " PosixPath('/home/sarambl/PHD/IPCC/public/AR6_CH6_RCMIPFIGS/ar6_ch6_rcmipfigs/data_in/data/results/phase-1/fair/rcmip_phase-1_fair-1.5-default-esm-rcp60_v1-0-1.csv'),\n",
       " PosixPath('/home/sarambl/PHD/IPCC/public/AR6_CH6_RCMIPFIGS/ar6_ch6_rcmipfigs/data_in/data/results/phase-1/fair/rcmip_phase-1_fair-1.5-default-esm-rcp85-allGHG_v1-0-0.csv'),\n",
       " PosixPath('/home/sarambl/PHD/IPCC/public/AR6_CH6_RCMIPFIGS/ar6_ch6_rcmipfigs/data_in/data/results/phase-1/fair/rcmip_phase-1_fair-1.5-default-esm-rcp85-allGHG_v1-0-1.csv'),\n",
       " PosixPath('/home/sarambl/PHD/IPCC/public/AR6_CH6_RCMIPFIGS/ar6_ch6_rcmipfigs/data_in/data/results/phase-1/fair/rcmip_phase-1_fair-1.5-default-esm-rcp85_v1-0-0.csv'),\n",
       " PosixPath('/home/sarambl/PHD/IPCC/public/AR6_CH6_RCMIPFIGS/ar6_ch6_rcmipfigs/data_in/data/results/phase-1/fair/rcmip_phase-1_fair-1.5-default-esm-rcp85_v1-0-1.csv'),\n",
       " PosixPath('/home/sarambl/PHD/IPCC/public/AR6_CH6_RCMIPFIGS/ar6_ch6_rcmipfigs/data_in/data/results/phase-1/fair/rcmip_phase-1_fair-1.5-default-esm-spp119-allGHG_v1-0-0.csv'),\n",
       " PosixPath('/home/sarambl/PHD/IPCC/public/AR6_CH6_RCMIPFIGS/ar6_ch6_rcmipfigs/data_in/data/results/phase-1/fair/rcmip_phase-1_fair-1.5-default-esm-spp119-allGHG_v1-0-1.csv'),\n",
       " PosixPath('/home/sarambl/PHD/IPCC/public/AR6_CH6_RCMIPFIGS/ar6_ch6_rcmipfigs/data_in/data/results/phase-1/fair/rcmip_phase-1_fair-1.5-default-esm-ssp119_v1-0-0.csv'),\n",
       " PosixPath('/home/sarambl/PHD/IPCC/public/AR6_CH6_RCMIPFIGS/ar6_ch6_rcmipfigs/data_in/data/results/phase-1/fair/rcmip_phase-1_fair-1.5-default-esm-ssp119_v1-0-1.csv'),\n",
       " PosixPath('/home/sarambl/PHD/IPCC/public/AR6_CH6_RCMIPFIGS/ar6_ch6_rcmipfigs/data_in/data/results/phase-1/fair/rcmip_phase-1_fair-1.5-default-esm-ssp126-allGHG_v1-0-0.csv'),\n",
       " PosixPath('/home/sarambl/PHD/IPCC/public/AR6_CH6_RCMIPFIGS/ar6_ch6_rcmipfigs/data_in/data/results/phase-1/fair/rcmip_phase-1_fair-1.5-default-esm-ssp126-allGHG_v1-0-1.csv'),\n",
       " PosixPath('/home/sarambl/PHD/IPCC/public/AR6_CH6_RCMIPFIGS/ar6_ch6_rcmipfigs/data_in/data/results/phase-1/fair/rcmip_phase-1_fair-1.5-default-esm-ssp126_v1-0-0.csv'),\n",
       " PosixPath('/home/sarambl/PHD/IPCC/public/AR6_CH6_RCMIPFIGS/ar6_ch6_rcmipfigs/data_in/data/results/phase-1/fair/rcmip_phase-1_fair-1.5-default-esm-ssp126_v1-0-1.csv'),\n",
       " PosixPath('/home/sarambl/PHD/IPCC/public/AR6_CH6_RCMIPFIGS/ar6_ch6_rcmipfigs/data_in/data/results/phase-1/fair/rcmip_phase-1_fair-1.5-default-esm-ssp245-allGHG_v1-0-0.csv'),\n",
       " PosixPath('/home/sarambl/PHD/IPCC/public/AR6_CH6_RCMIPFIGS/ar6_ch6_rcmipfigs/data_in/data/results/phase-1/fair/rcmip_phase-1_fair-1.5-default-esm-ssp245-allGHG_v1-0-1.csv'),\n",
       " PosixPath('/home/sarambl/PHD/IPCC/public/AR6_CH6_RCMIPFIGS/ar6_ch6_rcmipfigs/data_in/data/results/phase-1/fair/rcmip_phase-1_fair-1.5-default-esm-ssp245_v1-0-0.csv'),\n",
       " PosixPath('/home/sarambl/PHD/IPCC/public/AR6_CH6_RCMIPFIGS/ar6_ch6_rcmipfigs/data_in/data/results/phase-1/fair/rcmip_phase-1_fair-1.5-default-esm-ssp245_v1-0-1.csv'),\n",
       " PosixPath('/home/sarambl/PHD/IPCC/public/AR6_CH6_RCMIPFIGS/ar6_ch6_rcmipfigs/data_in/data/results/phase-1/fair/rcmip_phase-1_fair-1.5-default-esm-ssp370-allGHG_v1-0-0.csv'),\n",
       " PosixPath('/home/sarambl/PHD/IPCC/public/AR6_CH6_RCMIPFIGS/ar6_ch6_rcmipfigs/data_in/data/results/phase-1/fair/rcmip_phase-1_fair-1.5-default-esm-ssp370-allGHG_v1-0-1.csv'),\n",
       " PosixPath('/home/sarambl/PHD/IPCC/public/AR6_CH6_RCMIPFIGS/ar6_ch6_rcmipfigs/data_in/data/results/phase-1/fair/rcmip_phase-1_fair-1.5-default-esm-ssp370-lowNTCF-aerchemmip-allGHG_v1-0-0.csv'),\n",
       " PosixPath('/home/sarambl/PHD/IPCC/public/AR6_CH6_RCMIPFIGS/ar6_ch6_rcmipfigs/data_in/data/results/phase-1/fair/rcmip_phase-1_fair-1.5-default-esm-ssp370-lowNTCF-aerchemmip-allGHG_v1-0-1.csv'),\n",
       " PosixPath('/home/sarambl/PHD/IPCC/public/AR6_CH6_RCMIPFIGS/ar6_ch6_rcmipfigs/data_in/data/results/phase-1/fair/rcmip_phase-1_fair-1.5-default-esm-ssp370-lowNTCF-aerchemmip_v1-0-0.csv'),\n",
       " PosixPath('/home/sarambl/PHD/IPCC/public/AR6_CH6_RCMIPFIGS/ar6_ch6_rcmipfigs/data_in/data/results/phase-1/fair/rcmip_phase-1_fair-1.5-default-esm-ssp370-lowNTCF-aerchemmip_v1-0-1.csv'),\n",
       " PosixPath('/home/sarambl/PHD/IPCC/public/AR6_CH6_RCMIPFIGS/ar6_ch6_rcmipfigs/data_in/data/results/phase-1/fair/rcmip_phase-1_fair-1.5-default-esm-ssp370-lowNTCF-allGHG_v1-0-0.csv'),\n",
       " PosixPath('/home/sarambl/PHD/IPCC/public/AR6_CH6_RCMIPFIGS/ar6_ch6_rcmipfigs/data_in/data/results/phase-1/fair/rcmip_phase-1_fair-1.5-default-esm-ssp370-lowNTCF-allGHG_v1-0-1.csv'),\n",
       " PosixPath('/home/sarambl/PHD/IPCC/public/AR6_CH6_RCMIPFIGS/ar6_ch6_rcmipfigs/data_in/data/results/phase-1/fair/rcmip_phase-1_fair-1.5-default-esm-ssp370-lowNTCF_v1-0-0.csv'),\n",
       " PosixPath('/home/sarambl/PHD/IPCC/public/AR6_CH6_RCMIPFIGS/ar6_ch6_rcmipfigs/data_in/data/results/phase-1/fair/rcmip_phase-1_fair-1.5-default-esm-ssp370-lowNTCF_v1-0-1.csv'),\n",
       " PosixPath('/home/sarambl/PHD/IPCC/public/AR6_CH6_RCMIPFIGS/ar6_ch6_rcmipfigs/data_in/data/results/phase-1/fair/rcmip_phase-1_fair-1.5-default-esm-ssp370_v1-0-0.csv'),\n",
       " PosixPath('/home/sarambl/PHD/IPCC/public/AR6_CH6_RCMIPFIGS/ar6_ch6_rcmipfigs/data_in/data/results/phase-1/fair/rcmip_phase-1_fair-1.5-default-esm-ssp370_v1-0-1.csv'),\n",
       " PosixPath('/home/sarambl/PHD/IPCC/public/AR6_CH6_RCMIPFIGS/ar6_ch6_rcmipfigs/data_in/data/results/phase-1/fair/rcmip_phase-1_fair-1.5-default-esm-ssp434-allGHG_v1-0-0.csv'),\n",
       " PosixPath('/home/sarambl/PHD/IPCC/public/AR6_CH6_RCMIPFIGS/ar6_ch6_rcmipfigs/data_in/data/results/phase-1/fair/rcmip_phase-1_fair-1.5-default-esm-ssp434-allGHG_v1-0-1.csv'),\n",
       " PosixPath('/home/sarambl/PHD/IPCC/public/AR6_CH6_RCMIPFIGS/ar6_ch6_rcmipfigs/data_in/data/results/phase-1/fair/rcmip_phase-1_fair-1.5-default-esm-ssp434_v1-0-0.csv'),\n",
       " PosixPath('/home/sarambl/PHD/IPCC/public/AR6_CH6_RCMIPFIGS/ar6_ch6_rcmipfigs/data_in/data/results/phase-1/fair/rcmip_phase-1_fair-1.5-default-esm-ssp434_v1-0-1.csv'),\n",
       " PosixPath('/home/sarambl/PHD/IPCC/public/AR6_CH6_RCMIPFIGS/ar6_ch6_rcmipfigs/data_in/data/results/phase-1/fair/rcmip_phase-1_fair-1.5-default-esm-ssp460-allGHG_v1-0-0.csv'),\n",
       " PosixPath('/home/sarambl/PHD/IPCC/public/AR6_CH6_RCMIPFIGS/ar6_ch6_rcmipfigs/data_in/data/results/phase-1/fair/rcmip_phase-1_fair-1.5-default-esm-ssp460-allGHG_v1-0-1.csv'),\n",
       " PosixPath('/home/sarambl/PHD/IPCC/public/AR6_CH6_RCMIPFIGS/ar6_ch6_rcmipfigs/data_in/data/results/phase-1/fair/rcmip_phase-1_fair-1.5-default-esm-ssp460_v1-0-0.csv'),\n",
       " PosixPath('/home/sarambl/PHD/IPCC/public/AR6_CH6_RCMIPFIGS/ar6_ch6_rcmipfigs/data_in/data/results/phase-1/fair/rcmip_phase-1_fair-1.5-default-esm-ssp460_v1-0-1.csv'),\n",
       " PosixPath('/home/sarambl/PHD/IPCC/public/AR6_CH6_RCMIPFIGS/ar6_ch6_rcmipfigs/data_in/data/results/phase-1/fair/rcmip_phase-1_fair-1.5-default-esm-ssp534-over-allGHG_v1-0-0.csv'),\n",
       " PosixPath('/home/sarambl/PHD/IPCC/public/AR6_CH6_RCMIPFIGS/ar6_ch6_rcmipfigs/data_in/data/results/phase-1/fair/rcmip_phase-1_fair-1.5-default-esm-ssp534-over-allGHG_v1-0-1.csv'),\n",
       " PosixPath('/home/sarambl/PHD/IPCC/public/AR6_CH6_RCMIPFIGS/ar6_ch6_rcmipfigs/data_in/data/results/phase-1/fair/rcmip_phase-1_fair-1.5-default-esm-ssp534-over_v1-0-0.csv'),\n",
       " PosixPath('/home/sarambl/PHD/IPCC/public/AR6_CH6_RCMIPFIGS/ar6_ch6_rcmipfigs/data_in/data/results/phase-1/fair/rcmip_phase-1_fair-1.5-default-esm-ssp534-over_v1-0-1.csv'),\n",
       " PosixPath('/home/sarambl/PHD/IPCC/public/AR6_CH6_RCMIPFIGS/ar6_ch6_rcmipfigs/data_in/data/results/phase-1/fair/rcmip_phase-1_fair-1.5-default-esm-ssp585-allGHG_v1-0-0.csv'),\n",
       " PosixPath('/home/sarambl/PHD/IPCC/public/AR6_CH6_RCMIPFIGS/ar6_ch6_rcmipfigs/data_in/data/results/phase-1/fair/rcmip_phase-1_fair-1.5-default-esm-ssp585-allGHG_v1-0-1.csv'),\n",
       " PosixPath('/home/sarambl/PHD/IPCC/public/AR6_CH6_RCMIPFIGS/ar6_ch6_rcmipfigs/data_in/data/results/phase-1/fair/rcmip_phase-1_fair-1.5-default-esm-ssp585_v1-0-0.csv'),\n",
       " PosixPath('/home/sarambl/PHD/IPCC/public/AR6_CH6_RCMIPFIGS/ar6_ch6_rcmipfigs/data_in/data/results/phase-1/fair/rcmip_phase-1_fair-1.5-default-esm-ssp585_v1-0-1.csv'),\n",
       " PosixPath('/home/sarambl/PHD/IPCC/public/AR6_CH6_RCMIPFIGS/ar6_ch6_rcmipfigs/data_in/data/results/phase-1/fair/rcmip_phase-1_fair-1.5-default-hist-CO2_v1-0-0.csv'),\n",
       " PosixPath('/home/sarambl/PHD/IPCC/public/AR6_CH6_RCMIPFIGS/ar6_ch6_rcmipfigs/data_in/data/results/phase-1/fair/rcmip_phase-1_fair-1.5-default-hist-CO2_v1-0-1.csv'),\n",
       " PosixPath('/home/sarambl/PHD/IPCC/public/AR6_CH6_RCMIPFIGS/ar6_ch6_rcmipfigs/data_in/data/results/phase-1/fair/rcmip_phase-1_fair-1.5-default-hist-GHG_v1-0-0.csv'),\n",
       " PosixPath('/home/sarambl/PHD/IPCC/public/AR6_CH6_RCMIPFIGS/ar6_ch6_rcmipfigs/data_in/data/results/phase-1/fair/rcmip_phase-1_fair-1.5-default-hist-GHG_v1-0-1.csv'),\n",
       " PosixPath('/home/sarambl/PHD/IPCC/public/AR6_CH6_RCMIPFIGS/ar6_ch6_rcmipfigs/data_in/data/results/phase-1/fair/rcmip_phase-1_fair-1.5-default-hist-aer_v1-0-0.csv'),\n",
       " PosixPath('/home/sarambl/PHD/IPCC/public/AR6_CH6_RCMIPFIGS/ar6_ch6_rcmipfigs/data_in/data/results/phase-1/fair/rcmip_phase-1_fair-1.5-default-hist-aer_v1-0-1.csv'),\n",
       " PosixPath('/home/sarambl/PHD/IPCC/public/AR6_CH6_RCMIPFIGS/ar6_ch6_rcmipfigs/data_in/data/results/phase-1/fair/rcmip_phase-1_fair-1.5-default-hist-nat_v1-0-0.csv'),\n",
       " PosixPath('/home/sarambl/PHD/IPCC/public/AR6_CH6_RCMIPFIGS/ar6_ch6_rcmipfigs/data_in/data/results/phase-1/fair/rcmip_phase-1_fair-1.5-default-hist-nat_v1-0-1.csv'),\n",
       " PosixPath('/home/sarambl/PHD/IPCC/public/AR6_CH6_RCMIPFIGS/ar6_ch6_rcmipfigs/data_in/data/results/phase-1/fair/rcmip_phase-1_fair-1.5-default-hist-sol_v1-0-0.csv'),\n",
       " PosixPath('/home/sarambl/PHD/IPCC/public/AR6_CH6_RCMIPFIGS/ar6_ch6_rcmipfigs/data_in/data/results/phase-1/fair/rcmip_phase-1_fair-1.5-default-hist-sol_v1-0-1.csv'),\n",
       " PosixPath('/home/sarambl/PHD/IPCC/public/AR6_CH6_RCMIPFIGS/ar6_ch6_rcmipfigs/data_in/data/results/phase-1/fair/rcmip_phase-1_fair-1.5-default-hist-volc_v1-0-0.csv'),\n",
       " PosixPath('/home/sarambl/PHD/IPCC/public/AR6_CH6_RCMIPFIGS/ar6_ch6_rcmipfigs/data_in/data/results/phase-1/fair/rcmip_phase-1_fair-1.5-default-hist-volc_v1-0-1.csv'),\n",
       " PosixPath('/home/sarambl/PHD/IPCC/public/AR6_CH6_RCMIPFIGS/ar6_ch6_rcmipfigs/data_in/data/results/phase-1/fair/rcmip_phase-1_fair-1.5-default-historical-cmip5_v1-0-0.csv'),\n",
       " PosixPath('/home/sarambl/PHD/IPCC/public/AR6_CH6_RCMIPFIGS/ar6_ch6_rcmipfigs/data_in/data/results/phase-1/fair/rcmip_phase-1_fair-1.5-default-historical-cmip5_v1-0-1.csv'),\n",
       " PosixPath('/home/sarambl/PHD/IPCC/public/AR6_CH6_RCMIPFIGS/ar6_ch6_rcmipfigs/data_in/data/results/phase-1/fair/rcmip_phase-1_fair-1.5-default-historical_v1-0-0.csv'),\n",
       " PosixPath('/home/sarambl/PHD/IPCC/public/AR6_CH6_RCMIPFIGS/ar6_ch6_rcmipfigs/data_in/data/results/phase-1/fair/rcmip_phase-1_fair-1.5-default-historical_v1-0-1.csv'),\n",
       " PosixPath('/home/sarambl/PHD/IPCC/public/AR6_CH6_RCMIPFIGS/ar6_ch6_rcmipfigs/data_in/data/results/phase-1/fair/rcmip_phase-1_fair-1.5-default-piControl_v1-0-0.csv'),\n",
       " PosixPath('/home/sarambl/PHD/IPCC/public/AR6_CH6_RCMIPFIGS/ar6_ch6_rcmipfigs/data_in/data/results/phase-1/fair/rcmip_phase-1_fair-1.5-default-piControl_v1-0-1.csv'),\n",
       " PosixPath('/home/sarambl/PHD/IPCC/public/AR6_CH6_RCMIPFIGS/ar6_ch6_rcmipfigs/data_in/data/results/phase-1/fair/rcmip_phase-1_fair-1.5-default-rcp26_v1-0-0.csv'),\n",
       " PosixPath('/home/sarambl/PHD/IPCC/public/AR6_CH6_RCMIPFIGS/ar6_ch6_rcmipfigs/data_in/data/results/phase-1/fair/rcmip_phase-1_fair-1.5-default-rcp26_v1-0-1.csv'),\n",
       " PosixPath('/home/sarambl/PHD/IPCC/public/AR6_CH6_RCMIPFIGS/ar6_ch6_rcmipfigs/data_in/data/results/phase-1/fair/rcmip_phase-1_fair-1.5-default-rcp45_v1-0-0.csv'),\n",
       " PosixPath('/home/sarambl/PHD/IPCC/public/AR6_CH6_RCMIPFIGS/ar6_ch6_rcmipfigs/data_in/data/results/phase-1/fair/rcmip_phase-1_fair-1.5-default-rcp45_v1-0-1.csv'),\n",
       " PosixPath('/home/sarambl/PHD/IPCC/public/AR6_CH6_RCMIPFIGS/ar6_ch6_rcmipfigs/data_in/data/results/phase-1/fair/rcmip_phase-1_fair-1.5-default-rcp60_v1-0-0.csv'),\n",
       " PosixPath('/home/sarambl/PHD/IPCC/public/AR6_CH6_RCMIPFIGS/ar6_ch6_rcmipfigs/data_in/data/results/phase-1/fair/rcmip_phase-1_fair-1.5-default-rcp60_v1-0-1.csv'),\n",
       " PosixPath('/home/sarambl/PHD/IPCC/public/AR6_CH6_RCMIPFIGS/ar6_ch6_rcmipfigs/data_in/data/results/phase-1/fair/rcmip_phase-1_fair-1.5-default-rcp85_v1-0-0.csv'),\n",
       " PosixPath('/home/sarambl/PHD/IPCC/public/AR6_CH6_RCMIPFIGS/ar6_ch6_rcmipfigs/data_in/data/results/phase-1/fair/rcmip_phase-1_fair-1.5-default-rcp85_v1-0-1.csv'),\n",
       " PosixPath('/home/sarambl/PHD/IPCC/public/AR6_CH6_RCMIPFIGS/ar6_ch6_rcmipfigs/data_in/data/results/phase-1/fair/rcmip_phase-1_fair-1.5-default-ssp119_v1-0-0.csv'),\n",
       " PosixPath('/home/sarambl/PHD/IPCC/public/AR6_CH6_RCMIPFIGS/ar6_ch6_rcmipfigs/data_in/data/results/phase-1/fair/rcmip_phase-1_fair-1.5-default-ssp119_v1-0-1.csv'),\n",
       " PosixPath('/home/sarambl/PHD/IPCC/public/AR6_CH6_RCMIPFIGS/ar6_ch6_rcmipfigs/data_in/data/results/phase-1/fair/rcmip_phase-1_fair-1.5-default-ssp126_v1-0-0.csv'),\n",
       " PosixPath('/home/sarambl/PHD/IPCC/public/AR6_CH6_RCMIPFIGS/ar6_ch6_rcmipfigs/data_in/data/results/phase-1/fair/rcmip_phase-1_fair-1.5-default-ssp126_v1-0-1.csv'),\n",
       " PosixPath('/home/sarambl/PHD/IPCC/public/AR6_CH6_RCMIPFIGS/ar6_ch6_rcmipfigs/data_in/data/results/phase-1/fair/rcmip_phase-1_fair-1.5-default-ssp245-GHG_v1-0-0.csv'),\n",
       " PosixPath('/home/sarambl/PHD/IPCC/public/AR6_CH6_RCMIPFIGS/ar6_ch6_rcmipfigs/data_in/data/results/phase-1/fair/rcmip_phase-1_fair-1.5-default-ssp245-GHG_v1-0-1.csv'),\n",
       " PosixPath('/home/sarambl/PHD/IPCC/public/AR6_CH6_RCMIPFIGS/ar6_ch6_rcmipfigs/data_in/data/results/phase-1/fair/rcmip_phase-1_fair-1.5-default-ssp245-aer_v1-0-0.csv'),\n",
       " PosixPath('/home/sarambl/PHD/IPCC/public/AR6_CH6_RCMIPFIGS/ar6_ch6_rcmipfigs/data_in/data/results/phase-1/fair/rcmip_phase-1_fair-1.5-default-ssp245-aer_v1-0-1.csv'),\n",
       " PosixPath('/home/sarambl/PHD/IPCC/public/AR6_CH6_RCMIPFIGS/ar6_ch6_rcmipfigs/data_in/data/results/phase-1/fair/rcmip_phase-1_fair-1.5-default-ssp245-nat_v1-0-0.csv'),\n",
       " PosixPath('/home/sarambl/PHD/IPCC/public/AR6_CH6_RCMIPFIGS/ar6_ch6_rcmipfigs/data_in/data/results/phase-1/fair/rcmip_phase-1_fair-1.5-default-ssp245-nat_v1-0-1.csv'),\n",
       " PosixPath('/home/sarambl/PHD/IPCC/public/AR6_CH6_RCMIPFIGS/ar6_ch6_rcmipfigs/data_in/data/results/phase-1/fair/rcmip_phase-1_fair-1.5-default-ssp245-stratO3_v1-0-0.csv'),\n",
       " PosixPath('/home/sarambl/PHD/IPCC/public/AR6_CH6_RCMIPFIGS/ar6_ch6_rcmipfigs/data_in/data/results/phase-1/fair/rcmip_phase-1_fair-1.5-default-ssp245-stratO3_v1-0-1.csv'),\n",
       " PosixPath('/home/sarambl/PHD/IPCC/public/AR6_CH6_RCMIPFIGS/ar6_ch6_rcmipfigs/data_in/data/results/phase-1/fair/rcmip_phase-1_fair-1.5-default-ssp245_v1-0-0.csv'),\n",
       " PosixPath('/home/sarambl/PHD/IPCC/public/AR6_CH6_RCMIPFIGS/ar6_ch6_rcmipfigs/data_in/data/results/phase-1/fair/rcmip_phase-1_fair-1.5-default-ssp245_v1-0-1.csv'),\n",
       " PosixPath('/home/sarambl/PHD/IPCC/public/AR6_CH6_RCMIPFIGS/ar6_ch6_rcmipfigs/data_in/data/results/phase-1/fair/rcmip_phase-1_fair-1.5-default-ssp370-lowNTCF-aerchemmip_v1-0-0.csv'),\n",
       " PosixPath('/home/sarambl/PHD/IPCC/public/AR6_CH6_RCMIPFIGS/ar6_ch6_rcmipfigs/data_in/data/results/phase-1/fair/rcmip_phase-1_fair-1.5-default-ssp370-lowNTCF-aerchemmip_v1-0-1.csv'),\n",
       " PosixPath('/home/sarambl/PHD/IPCC/public/AR6_CH6_RCMIPFIGS/ar6_ch6_rcmipfigs/data_in/data/results/phase-1/fair/rcmip_phase-1_fair-1.5-default-ssp370-lowNTCF_v1-0-0.csv'),\n",
       " PosixPath('/home/sarambl/PHD/IPCC/public/AR6_CH6_RCMIPFIGS/ar6_ch6_rcmipfigs/data_in/data/results/phase-1/fair/rcmip_phase-1_fair-1.5-default-ssp370-lowNTCF_v1-0-1.csv'),\n",
       " PosixPath('/home/sarambl/PHD/IPCC/public/AR6_CH6_RCMIPFIGS/ar6_ch6_rcmipfigs/data_in/data/results/phase-1/fair/rcmip_phase-1_fair-1.5-default-ssp370_v1-0-0.csv'),\n",
       " PosixPath('/home/sarambl/PHD/IPCC/public/AR6_CH6_RCMIPFIGS/ar6_ch6_rcmipfigs/data_in/data/results/phase-1/fair/rcmip_phase-1_fair-1.5-default-ssp370_v1-0-1.csv'),\n",
       " PosixPath('/home/sarambl/PHD/IPCC/public/AR6_CH6_RCMIPFIGS/ar6_ch6_rcmipfigs/data_in/data/results/phase-1/fair/rcmip_phase-1_fair-1.5-default-ssp434_v1-0-0.csv'),\n",
       " PosixPath('/home/sarambl/PHD/IPCC/public/AR6_CH6_RCMIPFIGS/ar6_ch6_rcmipfigs/data_in/data/results/phase-1/fair/rcmip_phase-1_fair-1.5-default-ssp434_v1-0-1.csv'),\n",
       " PosixPath('/home/sarambl/PHD/IPCC/public/AR6_CH6_RCMIPFIGS/ar6_ch6_rcmipfigs/data_in/data/results/phase-1/fair/rcmip_phase-1_fair-1.5-default-ssp460_v1-0-0.csv'),\n",
       " PosixPath('/home/sarambl/PHD/IPCC/public/AR6_CH6_RCMIPFIGS/ar6_ch6_rcmipfigs/data_in/data/results/phase-1/fair/rcmip_phase-1_fair-1.5-default-ssp460_v1-0-1.csv'),\n",
       " PosixPath('/home/sarambl/PHD/IPCC/public/AR6_CH6_RCMIPFIGS/ar6_ch6_rcmipfigs/data_in/data/results/phase-1/fair/rcmip_phase-1_fair-1.5-default-ssp534-over_v1-0-0.csv'),\n",
       " PosixPath('/home/sarambl/PHD/IPCC/public/AR6_CH6_RCMIPFIGS/ar6_ch6_rcmipfigs/data_in/data/results/phase-1/fair/rcmip_phase-1_fair-1.5-default-ssp534-over_v1-0-1.csv'),\n",
       " PosixPath('/home/sarambl/PHD/IPCC/public/AR6_CH6_RCMIPFIGS/ar6_ch6_rcmipfigs/data_in/data/results/phase-1/fair/rcmip_phase-1_fair-1.5-default-ssp585_v1-0-0.csv'),\n",
       " PosixPath('/home/sarambl/PHD/IPCC/public/AR6_CH6_RCMIPFIGS/ar6_ch6_rcmipfigs/data_in/data/results/phase-1/fair/rcmip_phase-1_fair-1.5-default-ssp585_v1-0-1.csv'),\n",
       " PosixPath('/home/sarambl/PHD/IPCC/public/AR6_CH6_RCMIPFIGS/ar6_ch6_rcmipfigs/data_in/data/results/phase-1/fair/rcmip_phase-1_fair-1.5-ens-1pctCO2-4xext_v1-0-0.csv'),\n",
       " PosixPath('/home/sarambl/PHD/IPCC/public/AR6_CH6_RCMIPFIGS/ar6_ch6_rcmipfigs/data_in/data/results/phase-1/fair/rcmip_phase-1_fair-1.5-ens-1pctCO2-4xext_v1-0-1.csv'),\n",
       " PosixPath('/home/sarambl/PHD/IPCC/public/AR6_CH6_RCMIPFIGS/ar6_ch6_rcmipfigs/data_in/data/results/phase-1/fair/rcmip_phase-1_fair-1.5-ens-1pctCO2-bgc_v1-0-0.csv'),\n",
       " PosixPath('/home/sarambl/PHD/IPCC/public/AR6_CH6_RCMIPFIGS/ar6_ch6_rcmipfigs/data_in/data/results/phase-1/fair/rcmip_phase-1_fair-1.5-ens-1pctCO2-bgc_v1-0-1.csv'),\n",
       " PosixPath('/home/sarambl/PHD/IPCC/public/AR6_CH6_RCMIPFIGS/ar6_ch6_rcmipfigs/data_in/data/results/phase-1/fair/rcmip_phase-1_fair-1.5-ens-1pctCO2-cdr_v1-0-0.csv'),\n",
       " PosixPath('/home/sarambl/PHD/IPCC/public/AR6_CH6_RCMIPFIGS/ar6_ch6_rcmipfigs/data_in/data/results/phase-1/fair/rcmip_phase-1_fair-1.5-ens-1pctCO2-cdr_v1-0-1.csv'),\n",
       " PosixPath('/home/sarambl/PHD/IPCC/public/AR6_CH6_RCMIPFIGS/ar6_ch6_rcmipfigs/data_in/data/results/phase-1/fair/rcmip_phase-1_fair-1.5-ens-1pctCO2-rad_v1-0-0.csv'),\n",
       " PosixPath('/home/sarambl/PHD/IPCC/public/AR6_CH6_RCMIPFIGS/ar6_ch6_rcmipfigs/data_in/data/results/phase-1/fair/rcmip_phase-1_fair-1.5-ens-1pctCO2-rad_v1-0-1.csv'),\n",
       " PosixPath('/home/sarambl/PHD/IPCC/public/AR6_CH6_RCMIPFIGS/ar6_ch6_rcmipfigs/data_in/data/results/phase-1/fair/rcmip_phase-1_fair-1.5-ens-1pctCO2_v1-0-0.csv'),\n",
       " PosixPath('/home/sarambl/PHD/IPCC/public/AR6_CH6_RCMIPFIGS/ar6_ch6_rcmipfigs/data_in/data/results/phase-1/fair/rcmip_phase-1_fair-1.5-ens-1pctCO2_v1-0-1.csv'),\n",
       " PosixPath('/home/sarambl/PHD/IPCC/public/AR6_CH6_RCMIPFIGS/ar6_ch6_rcmipfigs/data_in/data/results/phase-1/fair/rcmip_phase-1_fair-1.5-ens-abrupt-0p5xCO2_v1-0-0.csv'),\n",
       " PosixPath('/home/sarambl/PHD/IPCC/public/AR6_CH6_RCMIPFIGS/ar6_ch6_rcmipfigs/data_in/data/results/phase-1/fair/rcmip_phase-1_fair-1.5-ens-abrupt-0p5xCO2_v1-0-1.csv'),\n",
       " PosixPath('/home/sarambl/PHD/IPCC/public/AR6_CH6_RCMIPFIGS/ar6_ch6_rcmipfigs/data_in/data/results/phase-1/fair/rcmip_phase-1_fair-1.5-ens-abrupt-2xCO2_v1-0-0.csv'),\n",
       " PosixPath('/home/sarambl/PHD/IPCC/public/AR6_CH6_RCMIPFIGS/ar6_ch6_rcmipfigs/data_in/data/results/phase-1/fair/rcmip_phase-1_fair-1.5-ens-abrupt-2xCO2_v1-0-1.csv'),\n",
       " PosixPath('/home/sarambl/PHD/IPCC/public/AR6_CH6_RCMIPFIGS/ar6_ch6_rcmipfigs/data_in/data/results/phase-1/fair/rcmip_phase-1_fair-1.5-ens-abrupt-4xCO2_v1-0-0.csv'),\n",
       " PosixPath('/home/sarambl/PHD/IPCC/public/AR6_CH6_RCMIPFIGS/ar6_ch6_rcmipfigs/data_in/data/results/phase-1/fair/rcmip_phase-1_fair-1.5-ens-abrupt-4xCO2_v1-0-1.csv'),\n",
       " PosixPath('/home/sarambl/PHD/IPCC/public/AR6_CH6_RCMIPFIGS/ar6_ch6_rcmipfigs/data_in/data/results/phase-1/fair/rcmip_phase-1_fair-1.5-ens-esm-1pct-brch-1000PgC_v1-0-0.csv'),\n",
       " PosixPath('/home/sarambl/PHD/IPCC/public/AR6_CH6_RCMIPFIGS/ar6_ch6_rcmipfigs/data_in/data/results/phase-1/fair/rcmip_phase-1_fair-1.5-ens-esm-1pct-brch-1000PgC_v1-0-1.csv'),\n",
       " PosixPath('/home/sarambl/PHD/IPCC/public/AR6_CH6_RCMIPFIGS/ar6_ch6_rcmipfigs/data_in/data/results/phase-1/fair/rcmip_phase-1_fair-1.5-ens-esm-1pct-brch-2000PgC_v1-0-0.csv'),\n",
       " PosixPath('/home/sarambl/PHD/IPCC/public/AR6_CH6_RCMIPFIGS/ar6_ch6_rcmipfigs/data_in/data/results/phase-1/fair/rcmip_phase-1_fair-1.5-ens-esm-1pct-brch-2000PgC_v1-0-1.csv'),\n",
       " PosixPath('/home/sarambl/PHD/IPCC/public/AR6_CH6_RCMIPFIGS/ar6_ch6_rcmipfigs/data_in/data/results/phase-1/fair/rcmip_phase-1_fair-1.5-ens-esm-1pct-brch-750PgC_v1-0-0.csv'),\n",
       " PosixPath('/home/sarambl/PHD/IPCC/public/AR6_CH6_RCMIPFIGS/ar6_ch6_rcmipfigs/data_in/data/results/phase-1/fair/rcmip_phase-1_fair-1.5-ens-esm-1pct-brch-750PgC_v1-0-1.csv'),\n",
       " PosixPath('/home/sarambl/PHD/IPCC/public/AR6_CH6_RCMIPFIGS/ar6_ch6_rcmipfigs/data_in/data/results/phase-1/fair/rcmip_phase-1_fair-1.5-ens-esm-bell-1000PgC_v1-0-0.csv'),\n",
       " PosixPath('/home/sarambl/PHD/IPCC/public/AR6_CH6_RCMIPFIGS/ar6_ch6_rcmipfigs/data_in/data/results/phase-1/fair/rcmip_phase-1_fair-1.5-ens-esm-bell-1000PgC_v1-0-1.csv'),\n",
       " PosixPath('/home/sarambl/PHD/IPCC/public/AR6_CH6_RCMIPFIGS/ar6_ch6_rcmipfigs/data_in/data/results/phase-1/fair/rcmip_phase-1_fair-1.5-ens-esm-bell-2000PgC_v1-0-0.csv'),\n",
       " PosixPath('/home/sarambl/PHD/IPCC/public/AR6_CH6_RCMIPFIGS/ar6_ch6_rcmipfigs/data_in/data/results/phase-1/fair/rcmip_phase-1_fair-1.5-ens-esm-bell-2000PgC_v1-0-1.csv'),\n",
       " PosixPath('/home/sarambl/PHD/IPCC/public/AR6_CH6_RCMIPFIGS/ar6_ch6_rcmipfigs/data_in/data/results/phase-1/fair/rcmip_phase-1_fair-1.5-ens-esm-bell-750PgC_v1-0-0.csv'),\n",
       " PosixPath('/home/sarambl/PHD/IPCC/public/AR6_CH6_RCMIPFIGS/ar6_ch6_rcmipfigs/data_in/data/results/phase-1/fair/rcmip_phase-1_fair-1.5-ens-esm-bell-750PgC_v1-0-1.csv'),\n",
       " PosixPath('/home/sarambl/PHD/IPCC/public/AR6_CH6_RCMIPFIGS/ar6_ch6_rcmipfigs/data_in/data/results/phase-1/fair/rcmip_phase-1_fair-1.5-ens-esm-hist-allGHG_v1-0-0.csv'),\n",
       " PosixPath('/home/sarambl/PHD/IPCC/public/AR6_CH6_RCMIPFIGS/ar6_ch6_rcmipfigs/data_in/data/results/phase-1/fair/rcmip_phase-1_fair-1.5-ens-esm-hist-allGHG_v1-0-1.csv'),\n",
       " PosixPath('/home/sarambl/PHD/IPCC/public/AR6_CH6_RCMIPFIGS/ar6_ch6_rcmipfigs/data_in/data/results/phase-1/fair/rcmip_phase-1_fair-1.5-ens-esm-pi-CO2pulse_v1-0-0.csv'),\n",
       " PosixPath('/home/sarambl/PHD/IPCC/public/AR6_CH6_RCMIPFIGS/ar6_ch6_rcmipfigs/data_in/data/results/phase-1/fair/rcmip_phase-1_fair-1.5-ens-esm-pi-CO2pulse_v1-0-1.csv'),\n",
       " PosixPath('/home/sarambl/PHD/IPCC/public/AR6_CH6_RCMIPFIGS/ar6_ch6_rcmipfigs/data_in/data/results/phase-1/fair/rcmip_phase-1_fair-1.5-ens-esm-pi-cdr-pulse_v1-0-0.csv'),\n",
       " PosixPath('/home/sarambl/PHD/IPCC/public/AR6_CH6_RCMIPFIGS/ar6_ch6_rcmipfigs/data_in/data/results/phase-1/fair/rcmip_phase-1_fair-1.5-ens-esm-pi-cdr-pulse_v1-0-1.csv'),\n",
       " PosixPath('/home/sarambl/PHD/IPCC/public/AR6_CH6_RCMIPFIGS/ar6_ch6_rcmipfigs/data_in/data/results/phase-1/fair/rcmip_phase-1_fair-1.5-ens-esm-rcp26-allGHG_v1-0-0.csv'),\n",
       " PosixPath('/home/sarambl/PHD/IPCC/public/AR6_CH6_RCMIPFIGS/ar6_ch6_rcmipfigs/data_in/data/results/phase-1/fair/rcmip_phase-1_fair-1.5-ens-esm-rcp26-allGHG_v1-0-1.csv'),\n",
       " PosixPath('/home/sarambl/PHD/IPCC/public/AR6_CH6_RCMIPFIGS/ar6_ch6_rcmipfigs/data_in/data/results/phase-1/fair/rcmip_phase-1_fair-1.5-ens-esm-rcp45-allGHG_v1-0-0.csv'),\n",
       " PosixPath('/home/sarambl/PHD/IPCC/public/AR6_CH6_RCMIPFIGS/ar6_ch6_rcmipfigs/data_in/data/results/phase-1/fair/rcmip_phase-1_fair-1.5-ens-esm-rcp45-allGHG_v1-0-1.csv'),\n",
       " PosixPath('/home/sarambl/PHD/IPCC/public/AR6_CH6_RCMIPFIGS/ar6_ch6_rcmipfigs/data_in/data/results/phase-1/fair/rcmip_phase-1_fair-1.5-ens-esm-rcp60-allGHG_v1-0-0.csv'),\n",
       " PosixPath('/home/sarambl/PHD/IPCC/public/AR6_CH6_RCMIPFIGS/ar6_ch6_rcmipfigs/data_in/data/results/phase-1/fair/rcmip_phase-1_fair-1.5-ens-esm-rcp60-allGHG_v1-0-1.csv'),\n",
       " PosixPath('/home/sarambl/PHD/IPCC/public/AR6_CH6_RCMIPFIGS/ar6_ch6_rcmipfigs/data_in/data/results/phase-1/fair/rcmip_phase-1_fair-1.5-ens-esm-rcp85-allGHG_v1-0-0.csv'),\n",
       " PosixPath('/home/sarambl/PHD/IPCC/public/AR6_CH6_RCMIPFIGS/ar6_ch6_rcmipfigs/data_in/data/results/phase-1/fair/rcmip_phase-1_fair-1.5-ens-esm-rcp85-allGHG_v1-0-1.csv'),\n",
       " PosixPath('/home/sarambl/PHD/IPCC/public/AR6_CH6_RCMIPFIGS/ar6_ch6_rcmipfigs/data_in/data/results/phase-1/fair/rcmip_phase-1_fair-1.5-ens-esm-ssp119-allGHG_v1-0-0.csv'),\n",
       " PosixPath('/home/sarambl/PHD/IPCC/public/AR6_CH6_RCMIPFIGS/ar6_ch6_rcmipfigs/data_in/data/results/phase-1/fair/rcmip_phase-1_fair-1.5-ens-esm-ssp119-allGHG_v1-0-1.csv'),\n",
       " PosixPath('/home/sarambl/PHD/IPCC/public/AR6_CH6_RCMIPFIGS/ar6_ch6_rcmipfigs/data_in/data/results/phase-1/fair/rcmip_phase-1_fair-1.5-ens-esm-ssp126-allGHG_v1-0-0.csv'),\n",
       " PosixPath('/home/sarambl/PHD/IPCC/public/AR6_CH6_RCMIPFIGS/ar6_ch6_rcmipfigs/data_in/data/results/phase-1/fair/rcmip_phase-1_fair-1.5-ens-esm-ssp126-allGHG_v1-0-1.csv'),\n",
       " PosixPath('/home/sarambl/PHD/IPCC/public/AR6_CH6_RCMIPFIGS/ar6_ch6_rcmipfigs/data_in/data/results/phase-1/fair/rcmip_phase-1_fair-1.5-ens-esm-ssp245-allGHG_v1-0-0.csv'),\n",
       " PosixPath('/home/sarambl/PHD/IPCC/public/AR6_CH6_RCMIPFIGS/ar6_ch6_rcmipfigs/data_in/data/results/phase-1/fair/rcmip_phase-1_fair-1.5-ens-esm-ssp245-allGHG_v1-0-1.csv'),\n",
       " PosixPath('/home/sarambl/PHD/IPCC/public/AR6_CH6_RCMIPFIGS/ar6_ch6_rcmipfigs/data_in/data/results/phase-1/fair/rcmip_phase-1_fair-1.5-ens-esm-ssp370-allGHG_v1-0-0.csv'),\n",
       " PosixPath('/home/sarambl/PHD/IPCC/public/AR6_CH6_RCMIPFIGS/ar6_ch6_rcmipfigs/data_in/data/results/phase-1/fair/rcmip_phase-1_fair-1.5-ens-esm-ssp370-allGHG_v1-0-1.csv'),\n",
       " PosixPath('/home/sarambl/PHD/IPCC/public/AR6_CH6_RCMIPFIGS/ar6_ch6_rcmipfigs/data_in/data/results/phase-1/fair/rcmip_phase-1_fair-1.5-ens-esm-ssp370-lowNTCF-aerchemmip-allGHG_v1-0-0.csv'),\n",
       " PosixPath('/home/sarambl/PHD/IPCC/public/AR6_CH6_RCMIPFIGS/ar6_ch6_rcmipfigs/data_in/data/results/phase-1/fair/rcmip_phase-1_fair-1.5-ens-esm-ssp370-lowNTCF-aerchemmip-allGHG_v1-0-1.csv'),\n",
       " PosixPath('/home/sarambl/PHD/IPCC/public/AR6_CH6_RCMIPFIGS/ar6_ch6_rcmipfigs/data_in/data/results/phase-1/fair/rcmip_phase-1_fair-1.5-ens-esm-ssp370-lowNTCF-allGHG_v1-0-0.csv'),\n",
       " PosixPath('/home/sarambl/PHD/IPCC/public/AR6_CH6_RCMIPFIGS/ar6_ch6_rcmipfigs/data_in/data/results/phase-1/fair/rcmip_phase-1_fair-1.5-ens-esm-ssp370-lowNTCF-allGHG_v1-0-1.csv'),\n",
       " PosixPath('/home/sarambl/PHD/IPCC/public/AR6_CH6_RCMIPFIGS/ar6_ch6_rcmipfigs/data_in/data/results/phase-1/fair/rcmip_phase-1_fair-1.5-ens-esm-ssp434-allGHG_v1-0-0.csv'),\n",
       " PosixPath('/home/sarambl/PHD/IPCC/public/AR6_CH6_RCMIPFIGS/ar6_ch6_rcmipfigs/data_in/data/results/phase-1/fair/rcmip_phase-1_fair-1.5-ens-esm-ssp434-allGHG_v1-0-1.csv'),\n",
       " PosixPath('/home/sarambl/PHD/IPCC/public/AR6_CH6_RCMIPFIGS/ar6_ch6_rcmipfigs/data_in/data/results/phase-1/fair/rcmip_phase-1_fair-1.5-ens-esm-ssp460-allGHG_v1-0-0.csv'),\n",
       " PosixPath('/home/sarambl/PHD/IPCC/public/AR6_CH6_RCMIPFIGS/ar6_ch6_rcmipfigs/data_in/data/results/phase-1/fair/rcmip_phase-1_fair-1.5-ens-esm-ssp460-allGHG_v1-0-1.csv'),\n",
       " PosixPath('/home/sarambl/PHD/IPCC/public/AR6_CH6_RCMIPFIGS/ar6_ch6_rcmipfigs/data_in/data/results/phase-1/fair/rcmip_phase-1_fair-1.5-ens-esm-ssp534-over-allGHG_v1-0-0.csv'),\n",
       " PosixPath('/home/sarambl/PHD/IPCC/public/AR6_CH6_RCMIPFIGS/ar6_ch6_rcmipfigs/data_in/data/results/phase-1/fair/rcmip_phase-1_fair-1.5-ens-esm-ssp534-over-allGHG_v1-0-1.csv'),\n",
       " PosixPath('/home/sarambl/PHD/IPCC/public/AR6_CH6_RCMIPFIGS/ar6_ch6_rcmipfigs/data_in/data/results/phase-1/fair/rcmip_phase-1_fair-1.5-ens-esm-ssp585-allGHG_v1-0-0.csv'),\n",
       " PosixPath('/home/sarambl/PHD/IPCC/public/AR6_CH6_RCMIPFIGS/ar6_ch6_rcmipfigs/data_in/data/results/phase-1/fair/rcmip_phase-1_fair-1.5-ens-esm-ssp585-allGHG_v1-0-1.csv'),\n",
       " PosixPath('/home/sarambl/PHD/IPCC/public/AR6_CH6_RCMIPFIGS/ar6_ch6_rcmipfigs/data_in/data/results/phase-1/fair/rcmip_phase-1_fair-1.5-ens-hist-CO2_v1-0-0.csv'),\n",
       " PosixPath('/home/sarambl/PHD/IPCC/public/AR6_CH6_RCMIPFIGS/ar6_ch6_rcmipfigs/data_in/data/results/phase-1/fair/rcmip_phase-1_fair-1.5-ens-hist-CO2_v1-0-1.csv'),\n",
       " PosixPath('/home/sarambl/PHD/IPCC/public/AR6_CH6_RCMIPFIGS/ar6_ch6_rcmipfigs/data_in/data/results/phase-1/fair/rcmip_phase-1_fair-1.5-ens-hist-aer_v1-0-0.csv'),\n",
       " PosixPath('/home/sarambl/PHD/IPCC/public/AR6_CH6_RCMIPFIGS/ar6_ch6_rcmipfigs/data_in/data/results/phase-1/fair/rcmip_phase-1_fair-1.5-ens-hist-aer_v1-0-1.csv'),\n",
       " PosixPath('/home/sarambl/PHD/IPCC/public/AR6_CH6_RCMIPFIGS/ar6_ch6_rcmipfigs/data_in/data/results/phase-1/fair/rcmip_phase-1_fair-1.5-ens-hist-ghg_v1-0-0.csv'),\n",
       " PosixPath('/home/sarambl/PHD/IPCC/public/AR6_CH6_RCMIPFIGS/ar6_ch6_rcmipfigs/data_in/data/results/phase-1/fair/rcmip_phase-1_fair-1.5-ens-hist-ghg_v1-0-1.csv'),\n",
       " PosixPath('/home/sarambl/PHD/IPCC/public/AR6_CH6_RCMIPFIGS/ar6_ch6_rcmipfigs/data_in/data/results/phase-1/fair/rcmip_phase-1_fair-1.5-ens-hist-nat_v1-0-0.csv'),\n",
       " PosixPath('/home/sarambl/PHD/IPCC/public/AR6_CH6_RCMIPFIGS/ar6_ch6_rcmipfigs/data_in/data/results/phase-1/fair/rcmip_phase-1_fair-1.5-ens-hist-nat_v1-0-1.csv'),\n",
       " PosixPath('/home/sarambl/PHD/IPCC/public/AR6_CH6_RCMIPFIGS/ar6_ch6_rcmipfigs/data_in/data/results/phase-1/fair/rcmip_phase-1_fair-1.5-ens-hist-sol_v1-0-0.csv'),\n",
       " PosixPath('/home/sarambl/PHD/IPCC/public/AR6_CH6_RCMIPFIGS/ar6_ch6_rcmipfigs/data_in/data/results/phase-1/fair/rcmip_phase-1_fair-1.5-ens-hist-sol_v1-0-1.csv'),\n",
       " PosixPath('/home/sarambl/PHD/IPCC/public/AR6_CH6_RCMIPFIGS/ar6_ch6_rcmipfigs/data_in/data/results/phase-1/fair/rcmip_phase-1_fair-1.5-ens-hist-volc_v1-0-0.csv'),\n",
       " PosixPath('/home/sarambl/PHD/IPCC/public/AR6_CH6_RCMIPFIGS/ar6_ch6_rcmipfigs/data_in/data/results/phase-1/fair/rcmip_phase-1_fair-1.5-ens-hist-volc_v1-0-1.csv'),\n",
       " PosixPath('/home/sarambl/PHD/IPCC/public/AR6_CH6_RCMIPFIGS/ar6_ch6_rcmipfigs/data_in/data/results/phase-1/fair/rcmip_phase-1_fair-1.5-ens-historical-cmip5_v1-0-0.csv'),\n",
       " PosixPath('/home/sarambl/PHD/IPCC/public/AR6_CH6_RCMIPFIGS/ar6_ch6_rcmipfigs/data_in/data/results/phase-1/fair/rcmip_phase-1_fair-1.5-ens-historical-cmip5_v1-0-1.csv'),\n",
       " PosixPath('/home/sarambl/PHD/IPCC/public/AR6_CH6_RCMIPFIGS/ar6_ch6_rcmipfigs/data_in/data/results/phase-1/fair/rcmip_phase-1_fair-1.5-ens-historical_v1-0-0.csv'),\n",
       " PosixPath('/home/sarambl/PHD/IPCC/public/AR6_CH6_RCMIPFIGS/ar6_ch6_rcmipfigs/data_in/data/results/phase-1/fair/rcmip_phase-1_fair-1.5-ens-historical_v1-0-1.csv'),\n",
       " PosixPath('/home/sarambl/PHD/IPCC/public/AR6_CH6_RCMIPFIGS/ar6_ch6_rcmipfigs/data_in/data/results/phase-1/fair/rcmip_phase-1_fair-1.5-ens-rcp26_v1-0-0.csv'),\n",
       " PosixPath('/home/sarambl/PHD/IPCC/public/AR6_CH6_RCMIPFIGS/ar6_ch6_rcmipfigs/data_in/data/results/phase-1/fair/rcmip_phase-1_fair-1.5-ens-rcp26_v1-0-1.csv'),\n",
       " PosixPath('/home/sarambl/PHD/IPCC/public/AR6_CH6_RCMIPFIGS/ar6_ch6_rcmipfigs/data_in/data/results/phase-1/fair/rcmip_phase-1_fair-1.5-ens-rcp45_v1-0-0.csv'),\n",
       " PosixPath('/home/sarambl/PHD/IPCC/public/AR6_CH6_RCMIPFIGS/ar6_ch6_rcmipfigs/data_in/data/results/phase-1/fair/rcmip_phase-1_fair-1.5-ens-rcp45_v1-0-1.csv'),\n",
       " PosixPath('/home/sarambl/PHD/IPCC/public/AR6_CH6_RCMIPFIGS/ar6_ch6_rcmipfigs/data_in/data/results/phase-1/fair/rcmip_phase-1_fair-1.5-ens-rcp60_v1-0-0.csv'),\n",
       " PosixPath('/home/sarambl/PHD/IPCC/public/AR6_CH6_RCMIPFIGS/ar6_ch6_rcmipfigs/data_in/data/results/phase-1/fair/rcmip_phase-1_fair-1.5-ens-rcp60_v1-0-1.csv'),\n",
       " PosixPath('/home/sarambl/PHD/IPCC/public/AR6_CH6_RCMIPFIGS/ar6_ch6_rcmipfigs/data_in/data/results/phase-1/fair/rcmip_phase-1_fair-1.5-ens-rcp85_v1-0-0.csv'),\n",
       " PosixPath('/home/sarambl/PHD/IPCC/public/AR6_CH6_RCMIPFIGS/ar6_ch6_rcmipfigs/data_in/data/results/phase-1/fair/rcmip_phase-1_fair-1.5-ens-rcp85_v1-0-1.csv'),\n",
       " PosixPath('/home/sarambl/PHD/IPCC/public/AR6_CH6_RCMIPFIGS/ar6_ch6_rcmipfigs/data_in/data/results/phase-1/fair/rcmip_phase-1_fair-1.5-ens-ssp119_v1-0-0.csv'),\n",
       " PosixPath('/home/sarambl/PHD/IPCC/public/AR6_CH6_RCMIPFIGS/ar6_ch6_rcmipfigs/data_in/data/results/phase-1/fair/rcmip_phase-1_fair-1.5-ens-ssp119_v1-0-1.csv'),\n",
       " PosixPath('/home/sarambl/PHD/IPCC/public/AR6_CH6_RCMIPFIGS/ar6_ch6_rcmipfigs/data_in/data/results/phase-1/fair/rcmip_phase-1_fair-1.5-ens-ssp126_v1-0-0.csv'),\n",
       " PosixPath('/home/sarambl/PHD/IPCC/public/AR6_CH6_RCMIPFIGS/ar6_ch6_rcmipfigs/data_in/data/results/phase-1/fair/rcmip_phase-1_fair-1.5-ens-ssp126_v1-0-1.csv'),\n",
       " PosixPath('/home/sarambl/PHD/IPCC/public/AR6_CH6_RCMIPFIGS/ar6_ch6_rcmipfigs/data_in/data/results/phase-1/fair/rcmip_phase-1_fair-1.5-ens-ssp245-GHG_v1-0-0.csv'),\n",
       " PosixPath('/home/sarambl/PHD/IPCC/public/AR6_CH6_RCMIPFIGS/ar6_ch6_rcmipfigs/data_in/data/results/phase-1/fair/rcmip_phase-1_fair-1.5-ens-ssp245-GHG_v1-0-1.csv'),\n",
       " PosixPath('/home/sarambl/PHD/IPCC/public/AR6_CH6_RCMIPFIGS/ar6_ch6_rcmipfigs/data_in/data/results/phase-1/fair/rcmip_phase-1_fair-1.5-ens-ssp245-aer_v1-0-0.csv'),\n",
       " PosixPath('/home/sarambl/PHD/IPCC/public/AR6_CH6_RCMIPFIGS/ar6_ch6_rcmipfigs/data_in/data/results/phase-1/fair/rcmip_phase-1_fair-1.5-ens-ssp245-aer_v1-0-1.csv'),\n",
       " PosixPath('/home/sarambl/PHD/IPCC/public/AR6_CH6_RCMIPFIGS/ar6_ch6_rcmipfigs/data_in/data/results/phase-1/fair/rcmip_phase-1_fair-1.5-ens-ssp245-nat_v1-0-0.csv'),\n",
       " PosixPath('/home/sarambl/PHD/IPCC/public/AR6_CH6_RCMIPFIGS/ar6_ch6_rcmipfigs/data_in/data/results/phase-1/fair/rcmip_phase-1_fair-1.5-ens-ssp245-nat_v1-0-1.csv'),\n",
       " PosixPath('/home/sarambl/PHD/IPCC/public/AR6_CH6_RCMIPFIGS/ar6_ch6_rcmipfigs/data_in/data/results/phase-1/fair/rcmip_phase-1_fair-1.5-ens-ssp245-stratO3_v1-0-0.csv'),\n",
       " PosixPath('/home/sarambl/PHD/IPCC/public/AR6_CH6_RCMIPFIGS/ar6_ch6_rcmipfigs/data_in/data/results/phase-1/fair/rcmip_phase-1_fair-1.5-ens-ssp245-stratO3_v1-0-1.csv'),\n",
       " PosixPath('/home/sarambl/PHD/IPCC/public/AR6_CH6_RCMIPFIGS/ar6_ch6_rcmipfigs/data_in/data/results/phase-1/fair/rcmip_phase-1_fair-1.5-ens-ssp245_v1-0-0.csv'),\n",
       " PosixPath('/home/sarambl/PHD/IPCC/public/AR6_CH6_RCMIPFIGS/ar6_ch6_rcmipfigs/data_in/data/results/phase-1/fair/rcmip_phase-1_fair-1.5-ens-ssp245_v1-0-1.csv'),\n",
       " PosixPath('/home/sarambl/PHD/IPCC/public/AR6_CH6_RCMIPFIGS/ar6_ch6_rcmipfigs/data_in/data/results/phase-1/fair/rcmip_phase-1_fair-1.5-ens-ssp370-lowNTCF-aerchemmip_v1-0-0.csv'),\n",
       " PosixPath('/home/sarambl/PHD/IPCC/public/AR6_CH6_RCMIPFIGS/ar6_ch6_rcmipfigs/data_in/data/results/phase-1/fair/rcmip_phase-1_fair-1.5-ens-ssp370-lowNTCF-aerchemmip_v1-0-1.csv'),\n",
       " PosixPath('/home/sarambl/PHD/IPCC/public/AR6_CH6_RCMIPFIGS/ar6_ch6_rcmipfigs/data_in/data/results/phase-1/fair/rcmip_phase-1_fair-1.5-ens-ssp370-lowNTCF_v1-0-0.csv'),\n",
       " PosixPath('/home/sarambl/PHD/IPCC/public/AR6_CH6_RCMIPFIGS/ar6_ch6_rcmipfigs/data_in/data/results/phase-1/fair/rcmip_phase-1_fair-1.5-ens-ssp370-lowNTCF_v1-0-1.csv'),\n",
       " PosixPath('/home/sarambl/PHD/IPCC/public/AR6_CH6_RCMIPFIGS/ar6_ch6_rcmipfigs/data_in/data/results/phase-1/fair/rcmip_phase-1_fair-1.5-ens-ssp370_v1-0-0.csv'),\n",
       " PosixPath('/home/sarambl/PHD/IPCC/public/AR6_CH6_RCMIPFIGS/ar6_ch6_rcmipfigs/data_in/data/results/phase-1/fair/rcmip_phase-1_fair-1.5-ens-ssp370_v1-0-1.csv'),\n",
       " PosixPath('/home/sarambl/PHD/IPCC/public/AR6_CH6_RCMIPFIGS/ar6_ch6_rcmipfigs/data_in/data/results/phase-1/fair/rcmip_phase-1_fair-1.5-ens-ssp434_v1-0-0.csv'),\n",
       " PosixPath('/home/sarambl/PHD/IPCC/public/AR6_CH6_RCMIPFIGS/ar6_ch6_rcmipfigs/data_in/data/results/phase-1/fair/rcmip_phase-1_fair-1.5-ens-ssp434_v1-0-1.csv'),\n",
       " PosixPath('/home/sarambl/PHD/IPCC/public/AR6_CH6_RCMIPFIGS/ar6_ch6_rcmipfigs/data_in/data/results/phase-1/fair/rcmip_phase-1_fair-1.5-ens-ssp460_v1-0-0.csv'),\n",
       " PosixPath('/home/sarambl/PHD/IPCC/public/AR6_CH6_RCMIPFIGS/ar6_ch6_rcmipfigs/data_in/data/results/phase-1/fair/rcmip_phase-1_fair-1.5-ens-ssp460_v1-0-1.csv'),\n",
       " PosixPath('/home/sarambl/PHD/IPCC/public/AR6_CH6_RCMIPFIGS/ar6_ch6_rcmipfigs/data_in/data/results/phase-1/fair/rcmip_phase-1_fair-1.5-ens-ssp534-over_v1-0-0.csv'),\n",
       " PosixPath('/home/sarambl/PHD/IPCC/public/AR6_CH6_RCMIPFIGS/ar6_ch6_rcmipfigs/data_in/data/results/phase-1/fair/rcmip_phase-1_fair-1.5-ens-ssp534-over_v1-0-1.csv'),\n",
       " PosixPath('/home/sarambl/PHD/IPCC/public/AR6_CH6_RCMIPFIGS/ar6_ch6_rcmipfigs/data_in/data/results/phase-1/fair/rcmip_phase-1_fair-1.5-ens-ssp585_v1-0-0.csv'),\n",
       " PosixPath('/home/sarambl/PHD/IPCC/public/AR6_CH6_RCMIPFIGS/ar6_ch6_rcmipfigs/data_in/data/results/phase-1/fair/rcmip_phase-1_fair-1.5-ens-ssp585_v1-0-1.csv'),\n",
       " PosixPath('/home/sarambl/PHD/IPCC/public/AR6_CH6_RCMIPFIGS/ar6_ch6_rcmipfigs/data_in/data/results/phase-1/gir/rcmip-data-submission-gir-phase1-v1-0-0.xlsx'),\n",
       " PosixPath('/home/sarambl/PHD/IPCC/public/AR6_CH6_RCMIPFIGS/ar6_ch6_rcmipfigs/data_in/data/results/phase-1/gir/rcmip_phase-1_gir-1pctCO2-4xext_v1-0-0.csv'),\n",
       " PosixPath('/home/sarambl/PHD/IPCC/public/AR6_CH6_RCMIPFIGS/ar6_ch6_rcmipfigs/data_in/data/results/phase-1/gir/rcmip_phase-1_gir-1pctCO2_v1-0-0.csv'),\n",
       " PosixPath('/home/sarambl/PHD/IPCC/public/AR6_CH6_RCMIPFIGS/ar6_ch6_rcmipfigs/data_in/data/results/phase-1/gir/rcmip_phase-1_gir-abrupt-0p5xCO2_v1-0-0.csv'),\n",
       " PosixPath('/home/sarambl/PHD/IPCC/public/AR6_CH6_RCMIPFIGS/ar6_ch6_rcmipfigs/data_in/data/results/phase-1/gir/rcmip_phase-1_gir-abrupt-2xCO2_v1-0-0.csv'),\n",
       " PosixPath('/home/sarambl/PHD/IPCC/public/AR6_CH6_RCMIPFIGS/ar6_ch6_rcmipfigs/data_in/data/results/phase-1/gir/rcmip_phase-1_gir-abrupt-4xCO2_v1-0-0.csv'),\n",
       " PosixPath('/home/sarambl/PHD/IPCC/public/AR6_CH6_RCMIPFIGS/ar6_ch6_rcmipfigs/data_in/data/results/phase-1/gir/rcmip_phase-1_gir-esm-1pct-brch-1000PgC_v1-0-0.csv'),\n",
       " PosixPath('/home/sarambl/PHD/IPCC/public/AR6_CH6_RCMIPFIGS/ar6_ch6_rcmipfigs/data_in/data/results/phase-1/gir/rcmip_phase-1_gir-esm-1pct-brch-2000PgC_v1-0-0.csv'),\n",
       " PosixPath('/home/sarambl/PHD/IPCC/public/AR6_CH6_RCMIPFIGS/ar6_ch6_rcmipfigs/data_in/data/results/phase-1/gir/rcmip_phase-1_gir-esm-1pct-brch-750PgC_v1-0-0.csv'),\n",
       " PosixPath('/home/sarambl/PHD/IPCC/public/AR6_CH6_RCMIPFIGS/ar6_ch6_rcmipfigs/data_in/data/results/phase-1/gir/rcmip_phase-1_gir-esm-bell-1000PgC_v1-0-0.csv'),\n",
       " PosixPath('/home/sarambl/PHD/IPCC/public/AR6_CH6_RCMIPFIGS/ar6_ch6_rcmipfigs/data_in/data/results/phase-1/gir/rcmip_phase-1_gir-esm-bell-2000PgC_v1-0-0.csv'),\n",
       " PosixPath('/home/sarambl/PHD/IPCC/public/AR6_CH6_RCMIPFIGS/ar6_ch6_rcmipfigs/data_in/data/results/phase-1/gir/rcmip_phase-1_gir-esm-bell-750PgC_v1-0-0.csv'),\n",
       " PosixPath('/home/sarambl/PHD/IPCC/public/AR6_CH6_RCMIPFIGS/ar6_ch6_rcmipfigs/data_in/data/results/phase-1/gir/rcmip_phase-1_gir-esm-hist-allGHG_v1-0-0.csv'),\n",
       " PosixPath('/home/sarambl/PHD/IPCC/public/AR6_CH6_RCMIPFIGS/ar6_ch6_rcmipfigs/data_in/data/results/phase-1/gir/rcmip_phase-1_gir-esm-hist-cmip5-allGHG_v1-0-0.csv'),\n",
       " PosixPath('/home/sarambl/PHD/IPCC/public/AR6_CH6_RCMIPFIGS/ar6_ch6_rcmipfigs/data_in/data/results/phase-1/gir/rcmip_phase-1_gir-esm-hist-cmip5_v1-0-0.csv'),\n",
       " PosixPath('/home/sarambl/PHD/IPCC/public/AR6_CH6_RCMIPFIGS/ar6_ch6_rcmipfigs/data_in/data/results/phase-1/gir/rcmip_phase-1_gir-esm-hist_v1-0-0.csv'),\n",
       " PosixPath('/home/sarambl/PHD/IPCC/public/AR6_CH6_RCMIPFIGS/ar6_ch6_rcmipfigs/data_in/data/results/phase-1/gir/rcmip_phase-1_gir-esm-pi-CO2pulse_v1-0-0.csv'),\n",
       " PosixPath('/home/sarambl/PHD/IPCC/public/AR6_CH6_RCMIPFIGS/ar6_ch6_rcmipfigs/data_in/data/results/phase-1/gir/rcmip_phase-1_gir-esm-pi-cdr-pulse_v1-0-0.csv'),\n",
       " PosixPath('/home/sarambl/PHD/IPCC/public/AR6_CH6_RCMIPFIGS/ar6_ch6_rcmipfigs/data_in/data/results/phase-1/gir/rcmip_phase-1_gir-esm-rcp26-allGHG_v1-0-0.csv'),\n",
       " PosixPath('/home/sarambl/PHD/IPCC/public/AR6_CH6_RCMIPFIGS/ar6_ch6_rcmipfigs/data_in/data/results/phase-1/gir/rcmip_phase-1_gir-esm-rcp26_v1-0-0.csv'),\n",
       " PosixPath('/home/sarambl/PHD/IPCC/public/AR6_CH6_RCMIPFIGS/ar6_ch6_rcmipfigs/data_in/data/results/phase-1/gir/rcmip_phase-1_gir-esm-rcp45-allGHG_v1-0-0.csv'),\n",
       " PosixPath('/home/sarambl/PHD/IPCC/public/AR6_CH6_RCMIPFIGS/ar6_ch6_rcmipfigs/data_in/data/results/phase-1/gir/rcmip_phase-1_gir-esm-rcp45_v1-0-0.csv'),\n",
       " PosixPath('/home/sarambl/PHD/IPCC/public/AR6_CH6_RCMIPFIGS/ar6_ch6_rcmipfigs/data_in/data/results/phase-1/gir/rcmip_phase-1_gir-esm-rcp60-allGHG_v1-0-0.csv'),\n",
       " PosixPath('/home/sarambl/PHD/IPCC/public/AR6_CH6_RCMIPFIGS/ar6_ch6_rcmipfigs/data_in/data/results/phase-1/gir/rcmip_phase-1_gir-esm-rcp60_v1-0-0.csv'),\n",
       " PosixPath('/home/sarambl/PHD/IPCC/public/AR6_CH6_RCMIPFIGS/ar6_ch6_rcmipfigs/data_in/data/results/phase-1/gir/rcmip_phase-1_gir-esm-rcp85-allGHG_v1-0-0.csv'),\n",
       " PosixPath('/home/sarambl/PHD/IPCC/public/AR6_CH6_RCMIPFIGS/ar6_ch6_rcmipfigs/data_in/data/results/phase-1/gir/rcmip_phase-1_gir-esm-rcp85_v1-0-0.csv'),\n",
       " PosixPath('/home/sarambl/PHD/IPCC/public/AR6_CH6_RCMIPFIGS/ar6_ch6_rcmipfigs/data_in/data/results/phase-1/gir/rcmip_phase-1_gir-esm-ssp119-allGHG_v1-0-0.csv'),\n",
       " PosixPath('/home/sarambl/PHD/IPCC/public/AR6_CH6_RCMIPFIGS/ar6_ch6_rcmipfigs/data_in/data/results/phase-1/gir/rcmip_phase-1_gir-esm-ssp119_v1-0-0.csv'),\n",
       " PosixPath('/home/sarambl/PHD/IPCC/public/AR6_CH6_RCMIPFIGS/ar6_ch6_rcmipfigs/data_in/data/results/phase-1/gir/rcmip_phase-1_gir-esm-ssp126-allGHG_v1-0-0.csv'),\n",
       " PosixPath('/home/sarambl/PHD/IPCC/public/AR6_CH6_RCMIPFIGS/ar6_ch6_rcmipfigs/data_in/data/results/phase-1/gir/rcmip_phase-1_gir-esm-ssp126_v1-0-0.csv'),\n",
       " PosixPath('/home/sarambl/PHD/IPCC/public/AR6_CH6_RCMIPFIGS/ar6_ch6_rcmipfigs/data_in/data/results/phase-1/gir/rcmip_phase-1_gir-esm-ssp245-allGHG_v1-0-0.csv'),\n",
       " PosixPath('/home/sarambl/PHD/IPCC/public/AR6_CH6_RCMIPFIGS/ar6_ch6_rcmipfigs/data_in/data/results/phase-1/gir/rcmip_phase-1_gir-esm-ssp245_v1-0-0.csv'),\n",
       " PosixPath('/home/sarambl/PHD/IPCC/public/AR6_CH6_RCMIPFIGS/ar6_ch6_rcmipfigs/data_in/data/results/phase-1/gir/rcmip_phase-1_gir-esm-ssp370-allGHG_v1-0-0.csv'),\n",
       " PosixPath('/home/sarambl/PHD/IPCC/public/AR6_CH6_RCMIPFIGS/ar6_ch6_rcmipfigs/data_in/data/results/phase-1/gir/rcmip_phase-1_gir-esm-ssp370-lowNTCF-allGHG_v1-0-0.csv'),\n",
       " PosixPath('/home/sarambl/PHD/IPCC/public/AR6_CH6_RCMIPFIGS/ar6_ch6_rcmipfigs/data_in/data/results/phase-1/gir/rcmip_phase-1_gir-esm-ssp370-lowNTCF_v1-0-0.csv'),\n",
       " PosixPath('/home/sarambl/PHD/IPCC/public/AR6_CH6_RCMIPFIGS/ar6_ch6_rcmipfigs/data_in/data/results/phase-1/gir/rcmip_phase-1_gir-esm-ssp370_v1-0-0.csv'),\n",
       " PosixPath('/home/sarambl/PHD/IPCC/public/AR6_CH6_RCMIPFIGS/ar6_ch6_rcmipfigs/data_in/data/results/phase-1/gir/rcmip_phase-1_gir-esm-ssp434-allGHG_v1-0-0.csv'),\n",
       " PosixPath('/home/sarambl/PHD/IPCC/public/AR6_CH6_RCMIPFIGS/ar6_ch6_rcmipfigs/data_in/data/results/phase-1/gir/rcmip_phase-1_gir-esm-ssp434_v1-0-0.csv'),\n",
       " PosixPath('/home/sarambl/PHD/IPCC/public/AR6_CH6_RCMIPFIGS/ar6_ch6_rcmipfigs/data_in/data/results/phase-1/gir/rcmip_phase-1_gir-esm-ssp460-allGHG_v1-0-0.csv'),\n",
       " PosixPath('/home/sarambl/PHD/IPCC/public/AR6_CH6_RCMIPFIGS/ar6_ch6_rcmipfigs/data_in/data/results/phase-1/gir/rcmip_phase-1_gir-esm-ssp460_v1-0-0.csv'),\n",
       " PosixPath('/home/sarambl/PHD/IPCC/public/AR6_CH6_RCMIPFIGS/ar6_ch6_rcmipfigs/data_in/data/results/phase-1/gir/rcmip_phase-1_gir-esm-ssp534-over-allGHG_v1-0-0.csv'),\n",
       " PosixPath('/home/sarambl/PHD/IPCC/public/AR6_CH6_RCMIPFIGS/ar6_ch6_rcmipfigs/data_in/data/results/phase-1/gir/rcmip_phase-1_gir-esm-ssp534-over_v1-0-0.csv'),\n",
       " PosixPath('/home/sarambl/PHD/IPCC/public/AR6_CH6_RCMIPFIGS/ar6_ch6_rcmipfigs/data_in/data/results/phase-1/gir/rcmip_phase-1_gir-esm-ssp585-allGHG_v1-0-0.csv'),\n",
       " PosixPath('/home/sarambl/PHD/IPCC/public/AR6_CH6_RCMIPFIGS/ar6_ch6_rcmipfigs/data_in/data/results/phase-1/gir/rcmip_phase-1_gir-esm-ssp585_v1-0-0.csv'),\n",
       " PosixPath('/home/sarambl/PHD/IPCC/public/AR6_CH6_RCMIPFIGS/ar6_ch6_rcmipfigs/data_in/data/results/phase-1/gir/rcmip_phase-1_gir-historical-cmip5_v1-0-0.csv'),\n",
       " PosixPath('/home/sarambl/PHD/IPCC/public/AR6_CH6_RCMIPFIGS/ar6_ch6_rcmipfigs/data_in/data/results/phase-1/gir/rcmip_phase-1_gir-historical_v1-0-0.csv'),\n",
       " PosixPath('/home/sarambl/PHD/IPCC/public/AR6_CH6_RCMIPFIGS/ar6_ch6_rcmipfigs/data_in/data/results/phase-1/gir/rcmip_phase-1_gir-rcp26_v1-0-0.csv'),\n",
       " PosixPath('/home/sarambl/PHD/IPCC/public/AR6_CH6_RCMIPFIGS/ar6_ch6_rcmipfigs/data_in/data/results/phase-1/gir/rcmip_phase-1_gir-rcp45_v1-0-0.csv'),\n",
       " PosixPath('/home/sarambl/PHD/IPCC/public/AR6_CH6_RCMIPFIGS/ar6_ch6_rcmipfigs/data_in/data/results/phase-1/gir/rcmip_phase-1_gir-rcp60_v1-0-0.csv'),\n",
       " PosixPath('/home/sarambl/PHD/IPCC/public/AR6_CH6_RCMIPFIGS/ar6_ch6_rcmipfigs/data_in/data/results/phase-1/gir/rcmip_phase-1_gir-rcp85_v1-0-0.csv'),\n",
       " PosixPath('/home/sarambl/PHD/IPCC/public/AR6_CH6_RCMIPFIGS/ar6_ch6_rcmipfigs/data_in/data/results/phase-1/gir/rcmip_phase-1_gir-ssp119_v1-0-0.csv'),\n",
       " PosixPath('/home/sarambl/PHD/IPCC/public/AR6_CH6_RCMIPFIGS/ar6_ch6_rcmipfigs/data_in/data/results/phase-1/gir/rcmip_phase-1_gir-ssp126_v1-0-0.csv'),\n",
       " PosixPath('/home/sarambl/PHD/IPCC/public/AR6_CH6_RCMIPFIGS/ar6_ch6_rcmipfigs/data_in/data/results/phase-1/gir/rcmip_phase-1_gir-ssp245_v1-0-0.csv'),\n",
       " PosixPath('/home/sarambl/PHD/IPCC/public/AR6_CH6_RCMIPFIGS/ar6_ch6_rcmipfigs/data_in/data/results/phase-1/gir/rcmip_phase-1_gir-ssp370-lowNTCF_v1-0-0.csv'),\n",
       " PosixPath('/home/sarambl/PHD/IPCC/public/AR6_CH6_RCMIPFIGS/ar6_ch6_rcmipfigs/data_in/data/results/phase-1/gir/rcmip_phase-1_gir-ssp370_v1-0-0.csv'),\n",
       " PosixPath('/home/sarambl/PHD/IPCC/public/AR6_CH6_RCMIPFIGS/ar6_ch6_rcmipfigs/data_in/data/results/phase-1/gir/rcmip_phase-1_gir-ssp434_v1-0-0.csv'),\n",
       " PosixPath('/home/sarambl/PHD/IPCC/public/AR6_CH6_RCMIPFIGS/ar6_ch6_rcmipfigs/data_in/data/results/phase-1/gir/rcmip_phase-1_gir-ssp460_v1-0-0.csv'),\n",
       " PosixPath('/home/sarambl/PHD/IPCC/public/AR6_CH6_RCMIPFIGS/ar6_ch6_rcmipfigs/data_in/data/results/phase-1/gir/rcmip_phase-1_gir-ssp534-over_v1-0-0.csv'),\n",
       " PosixPath('/home/sarambl/PHD/IPCC/public/AR6_CH6_RCMIPFIGS/ar6_ch6_rcmipfigs/data_in/data/results/phase-1/gir/rcmip_phase-1_gir-ssp585_v1-0-0.csv'),\n",
       " PosixPath('/home/sarambl/PHD/IPCC/public/AR6_CH6_RCMIPFIGS/ar6_ch6_rcmipfigs/data_in/data/results/phase-1/greb/rcmip_phase-1_greb_v1-0-0.xlsx'),\n",
       " PosixPath('/home/sarambl/PHD/IPCC/public/AR6_CH6_RCMIPFIGS/ar6_ch6_rcmipfigs/data_in/data/results/phase-1/greb/rcmip_phase-1_greb_v2-0-0.xlsx'),\n",
       " PosixPath('/home/sarambl/PHD/IPCC/public/AR6_CH6_RCMIPFIGS/ar6_ch6_rcmipfigs/data_in/data/results/phase-1/hector/rcmip_phase-1_hector_v1-0-0.xlsx'),\n",
       " PosixPath('/home/sarambl/PHD/IPCC/public/AR6_CH6_RCMIPFIGS/ar6_ch6_rcmipfigs/data_in/data/results/phase-1/hector/rcmip_phase-1_hector_v2-0-0.xlsx'),\n",
       " PosixPath('/home/sarambl/PHD/IPCC/public/AR6_CH6_RCMIPFIGS/ar6_ch6_rcmipfigs/data_in/data/results/phase-1/held-two-layer-uom/held-two-layer-uom-phase-1-results-v1-0-0.csv'),\n",
       " PosixPath('/home/sarambl/PHD/IPCC/public/AR6_CH6_RCMIPFIGS/ar6_ch6_rcmipfigs/data_in/data/results/phase-1/held-two-layer-uom/held-two-layer-uom-phase-1-results-v1-0-1.csv'),\n",
       " PosixPath('/home/sarambl/PHD/IPCC/public/AR6_CH6_RCMIPFIGS/ar6_ch6_rcmipfigs/data_in/data/results/phase-1/held-two-layer-uom/rcmip-data-submission-template-held-two-layer.xlsx'),\n",
       " PosixPath('/home/sarambl/PHD/IPCC/public/AR6_CH6_RCMIPFIGS/ar6_ch6_rcmipfigs/data_in/data/results/phase-1/magicc7/rcmip_phase-1_magicc7.1.0.beta-awi-cm-1-1-mr-r1i1p1f1_v1-0-0.csv'),\n",
       " PosixPath('/home/sarambl/PHD/IPCC/public/AR6_CH6_RCMIPFIGS/ar6_ch6_rcmipfigs/data_in/data/results/phase-1/magicc7/rcmip_phase-1_magicc7.1.0.beta-bcc-csm2-mr-r1i1p1f1_v1-0-0.csv'),\n",
       " PosixPath('/home/sarambl/PHD/IPCC/public/AR6_CH6_RCMIPFIGS/ar6_ch6_rcmipfigs/data_in/data/results/phase-1/magicc7/rcmip_phase-1_magicc7.1.0.beta-bcc-esm1-r1i1p1f1_v1-0-0.csv'),\n",
       " PosixPath('/home/sarambl/PHD/IPCC/public/AR6_CH6_RCMIPFIGS/ar6_ch6_rcmipfigs/data_in/data/results/phase-1/magicc7/rcmip_phase-1_magicc7.1.0.beta-canesm5-r10i1p1f1_v1-0-0.csv'),\n",
       " PosixPath('/home/sarambl/PHD/IPCC/public/AR6_CH6_RCMIPFIGS/ar6_ch6_rcmipfigs/data_in/data/results/phase-1/magicc7/rcmip_phase-1_magicc7.1.0.beta-canesm5-r1i1p1f1_v1-0-0.csv'),\n",
       " PosixPath('/home/sarambl/PHD/IPCC/public/AR6_CH6_RCMIPFIGS/ar6_ch6_rcmipfigs/data_in/data/results/phase-1/magicc7/rcmip_phase-1_magicc7.1.0.beta-canesm5-r1i1p2f1_v1-0-0.csv'),\n",
       " PosixPath('/home/sarambl/PHD/IPCC/public/AR6_CH6_RCMIPFIGS/ar6_ch6_rcmipfigs/data_in/data/results/phase-1/magicc7/rcmip_phase-1_magicc7.1.0.beta-cesm2-r1i1p1f1_v1-0-0.csv'),\n",
       " PosixPath('/home/sarambl/PHD/IPCC/public/AR6_CH6_RCMIPFIGS/ar6_ch6_rcmipfigs/data_in/data/results/phase-1/magicc7/rcmip_phase-1_magicc7.1.0.beta-cesm2-waccm-r1i1p1f1_v1-0-0.csv'),\n",
       " PosixPath('/home/sarambl/PHD/IPCC/public/AR6_CH6_RCMIPFIGS/ar6_ch6_rcmipfigs/data_in/data/results/phase-1/magicc7/rcmip_phase-1_magicc7.1.0.beta-cnrm-cm6-1-hr-r1i1p1f2_v1-0-0.csv'),\n",
       " PosixPath('/home/sarambl/PHD/IPCC/public/AR6_CH6_RCMIPFIGS/ar6_ch6_rcmipfigs/data_in/data/results/phase-1/magicc7/rcmip_phase-1_magicc7.1.0.beta-cnrm-cm6-1-r1i1p1f2_v1-0-0.csv'),\n",
       " PosixPath('/home/sarambl/PHD/IPCC/public/AR6_CH6_RCMIPFIGS/ar6_ch6_rcmipfigs/data_in/data/results/phase-1/magicc7/rcmip_phase-1_magicc7.1.0.beta-cnrm-esm2-1-r1i1p1f2_v1-0-0.csv'),\n",
       " PosixPath('/home/sarambl/PHD/IPCC/public/AR6_CH6_RCMIPFIGS/ar6_ch6_rcmipfigs/data_in/data/results/phase-1/magicc7/rcmip_phase-1_magicc7.1.0.beta-e3sm-1-0-r1i1p1f1_v1-0-0.csv'),\n",
       " PosixPath('/home/sarambl/PHD/IPCC/public/AR6_CH6_RCMIPFIGS/ar6_ch6_rcmipfigs/data_in/data/results/phase-1/magicc7/rcmip_phase-1_magicc7.1.0.beta-ec-earth3-veg-r1i1p1f1_v1-0-0.csv'),\n",
       " PosixPath('/home/sarambl/PHD/IPCC/public/AR6_CH6_RCMIPFIGS/ar6_ch6_rcmipfigs/data_in/data/results/phase-1/magicc7/rcmip_phase-1_magicc7.1.0.beta-fgoals-g3-r1i1p1f1_v1-0-0.csv'),\n",
       " PosixPath('/home/sarambl/PHD/IPCC/public/AR6_CH6_RCMIPFIGS/ar6_ch6_rcmipfigs/data_in/data/results/phase-1/magicc7/rcmip_phase-1_magicc7.1.0.beta-giss-e2-1-g-r1i1p1f1_v1-0-0.csv'),\n",
       " PosixPath('/home/sarambl/PHD/IPCC/public/AR6_CH6_RCMIPFIGS/ar6_ch6_rcmipfigs/data_in/data/results/phase-1/magicc7/rcmip_phase-1_magicc7.1.0.beta-giss-e2-1-h-r1i1p1f1_v1-0-0.csv'),\n",
       " PosixPath('/home/sarambl/PHD/IPCC/public/AR6_CH6_RCMIPFIGS/ar6_ch6_rcmipfigs/data_in/data/results/phase-1/magicc7/rcmip_phase-1_magicc7.1.0.beta-giss-e2-2-g-r1i1p1f1_v1-0-0.csv'),\n",
       " PosixPath('/home/sarambl/PHD/IPCC/public/AR6_CH6_RCMIPFIGS/ar6_ch6_rcmipfigs/data_in/data/results/phase-1/magicc7/rcmip_phase-1_magicc7.1.0.beta-ipsl-cm6a-lr-r10i1p1f1_v1-0-0.csv'),\n",
       " PosixPath('/home/sarambl/PHD/IPCC/public/AR6_CH6_RCMIPFIGS/ar6_ch6_rcmipfigs/data_in/data/results/phase-1/magicc7/rcmip_phase-1_magicc7.1.0.beta-ipsl-cm6a-lr-r1i1p1f1_v1-0-0.csv'),\n",
       " PosixPath('/home/sarambl/PHD/IPCC/public/AR6_CH6_RCMIPFIGS/ar6_ch6_rcmipfigs/data_in/data/results/phase-1/magicc7/rcmip_phase-1_magicc7.1.0.beta-ipsl-cm6a-lr-r1i1p1f2_v1-0-0.csv'),\n",
       " PosixPath('/home/sarambl/PHD/IPCC/public/AR6_CH6_RCMIPFIGS/ar6_ch6_rcmipfigs/data_in/data/results/phase-1/magicc7/rcmip_phase-1_magicc7.1.0.beta-mcm-ua-1-0-r1i1p1f2_v1-0-0.csv'),\n",
       " PosixPath('/home/sarambl/PHD/IPCC/public/AR6_CH6_RCMIPFIGS/ar6_ch6_rcmipfigs/data_in/data/results/phase-1/magicc7/rcmip_phase-1_magicc7.1.0.beta-miroc-es2l-r1i1p1f2_v1-0-0.csv'),\n",
       " PosixPath('/home/sarambl/PHD/IPCC/public/AR6_CH6_RCMIPFIGS/ar6_ch6_rcmipfigs/data_in/data/results/phase-1/magicc7/rcmip_phase-1_magicc7.1.0.beta-miroc6-r1i1p1f1_v1-0-0.csv'),\n",
       " PosixPath('/home/sarambl/PHD/IPCC/public/AR6_CH6_RCMIPFIGS/ar6_ch6_rcmipfigs/data_in/data/results/phase-1/magicc7/rcmip_phase-1_magicc7.1.0.beta-mpi-esm1-2-hr-r1i1p1f1_v1-0-0.csv'),\n",
       " PosixPath('/home/sarambl/PHD/IPCC/public/AR6_CH6_RCMIPFIGS/ar6_ch6_rcmipfigs/data_in/data/results/phase-1/magicc7/rcmip_phase-1_magicc7.1.0.beta-norcpm1-r1i1p1f1_v1-0-0.csv'),\n",
       " PosixPath('/home/sarambl/PHD/IPCC/public/AR6_CH6_RCMIPFIGS/ar6_ch6_rcmipfigs/data_in/data/results/phase-1/magicc7/rcmip_phase-1_magicc7.1.0.beta-noresm2-lm-r1i1p1f1_v1-0-0.csv'),\n",
       " PosixPath('/home/sarambl/PHD/IPCC/public/AR6_CH6_RCMIPFIGS/ar6_ch6_rcmipfigs/data_in/data/results/phase-1/magicc7/rcmip_phase-1_magicc7.1.0.beta-sam0-unicon-r1i1p1f1_v1-0-0.csv'),\n",
       " PosixPath('/home/sarambl/PHD/IPCC/public/AR6_CH6_RCMIPFIGS/ar6_ch6_rcmipfigs/data_in/data/results/phase-1/magicc7/rcmip_phase-1_magicc7.1.0.beta-ukesm1-0-ll-r1i1p1f2_v1-0-0.csv'),\n",
       " PosixPath('/home/sarambl/PHD/IPCC/public/AR6_CH6_RCMIPFIGS/ar6_ch6_rcmipfigs/data_in/data/results/phase-1/magicc7/rcmip_phase-1_magicc7.1.0.beta_v1-0-0.csv'),\n",
       " PosixPath('/home/sarambl/PHD/IPCC/public/AR6_CH6_RCMIPFIGS/ar6_ch6_rcmipfigs/data_in/data/results/phase-1/mce/rcmip_phase-1_mce-0_v1-0-0.xlsx'),\n",
       " PosixPath('/home/sarambl/PHD/IPCC/public/AR6_CH6_RCMIPFIGS/ar6_ch6_rcmipfigs/data_in/data/results/phase-1/mce/rcmip_phase-1_mce-0_v2-0-0.xlsx'),\n",
       " PosixPath('/home/sarambl/PHD/IPCC/public/AR6_CH6_RCMIPFIGS/ar6_ch6_rcmipfigs/data_in/data/results/phase-1/mce/rcmip_phase-1_mce-0_v2-0-1.xlsx'),\n",
       " PosixPath('/home/sarambl/PHD/IPCC/public/AR6_CH6_RCMIPFIGS/ar6_ch6_rcmipfigs/data_in/data/results/phase-1/mce/rcmip_phase-1_mce-1_v1-0-0.xlsx'),\n",
       " PosixPath('/home/sarambl/PHD/IPCC/public/AR6_CH6_RCMIPFIGS/ar6_ch6_rcmipfigs/data_in/data/results/phase-1/mce/rcmip_phase-1_mce-1_v2-0-0.xlsx'),\n",
       " PosixPath('/home/sarambl/PHD/IPCC/public/AR6_CH6_RCMIPFIGS/ar6_ch6_rcmipfigs/data_in/data/results/phase-1/mce/rcmip_phase-1_mce-1_v2-0-1.xlsx'),\n",
       " PosixPath('/home/sarambl/PHD/IPCC/public/AR6_CH6_RCMIPFIGS/ar6_ch6_rcmipfigs/data_in/data/results/phase-1/mce/rcmip_phase-1_mce-1_v2-0-2.xlsx'),\n",
       " PosixPath('/home/sarambl/PHD/IPCC/public/AR6_CH6_RCMIPFIGS/ar6_ch6_rcmipfigs/data_in/data/results/phase-1/mce/rcmip_phase-1_mce-1_v3-0-0.xlsx'),\n",
       " PosixPath('/home/sarambl/PHD/IPCC/public/AR6_CH6_RCMIPFIGS/ar6_ch6_rcmipfigs/data_in/data/results/phase-1/mce/rcmip_phase-1_mce-2_v1-0-0.xlsx'),\n",
       " PosixPath('/home/sarambl/PHD/IPCC/public/AR6_CH6_RCMIPFIGS/ar6_ch6_rcmipfigs/data_in/data/results/phase-1/mce/rcmip_phase-1_mce-2_v2-0-0.xlsx'),\n",
       " PosixPath('/home/sarambl/PHD/IPCC/public/AR6_CH6_RCMIPFIGS/ar6_ch6_rcmipfigs/data_in/data/results/phase-1/mce/rcmip_phase-1_mce-2_v2-0-1.xlsx'),\n",
       " PosixPath('/home/sarambl/PHD/IPCC/public/AR6_CH6_RCMIPFIGS/ar6_ch6_rcmipfigs/data_in/data/results/phase-1/mce/rcmip_phase-1_mce-2_v2-0-2.xlsx'),\n",
       " PosixPath('/home/sarambl/PHD/IPCC/public/AR6_CH6_RCMIPFIGS/ar6_ch6_rcmipfigs/data_in/data/results/phase-1/mce/rcmip_phase-1_mce-2_v3-0-0.xlsx'),\n",
       " PosixPath('/home/sarambl/PHD/IPCC/public/AR6_CH6_RCMIPFIGS/ar6_ch6_rcmipfigs/data_in/data/results/phase-1/mce/rcmip_phase-1_mce-3_v1-0-0.xlsx'),\n",
       " PosixPath('/home/sarambl/PHD/IPCC/public/AR6_CH6_RCMIPFIGS/ar6_ch6_rcmipfigs/data_in/data/results/phase-1/mce/rcmip_phase-1_mce-3_v2-0-0.xlsx'),\n",
       " PosixPath('/home/sarambl/PHD/IPCC/public/AR6_CH6_RCMIPFIGS/ar6_ch6_rcmipfigs/data_in/data/results/phase-1/mce/rcmip_phase-1_mce-3_v2-0-1.xlsx'),\n",
       " PosixPath('/home/sarambl/PHD/IPCC/public/AR6_CH6_RCMIPFIGS/ar6_ch6_rcmipfigs/data_in/data/results/phase-1/mce/rcmip_phase-1_mce-3_v2-0-2.xlsx'),\n",
       " PosixPath('/home/sarambl/PHD/IPCC/public/AR6_CH6_RCMIPFIGS/ar6_ch6_rcmipfigs/data_in/data/results/phase-1/mce/rcmip_phase-1_mce-3_v3-0-0.xlsx'),\n",
       " PosixPath('/home/sarambl/PHD/IPCC/public/AR6_CH6_RCMIPFIGS/ar6_ch6_rcmipfigs/data_in/data/results/phase-1/mce/rcmip_phase-1_mce-4_v1-0-0.xlsx'),\n",
       " PosixPath('/home/sarambl/PHD/IPCC/public/AR6_CH6_RCMIPFIGS/ar6_ch6_rcmipfigs/data_in/data/results/phase-1/mce/rcmip_phase-1_mce-4_v2-0-0.xlsx'),\n",
       " PosixPath('/home/sarambl/PHD/IPCC/public/AR6_CH6_RCMIPFIGS/ar6_ch6_rcmipfigs/data_in/data/results/phase-1/mce/rcmip_phase-1_mce-4_v2-0-1.xlsx'),\n",
       " PosixPath('/home/sarambl/PHD/IPCC/public/AR6_CH6_RCMIPFIGS/ar6_ch6_rcmipfigs/data_in/data/results/phase-1/mce/rcmip_phase-1_mce-4_v2-0-2.xlsx'),\n",
       " PosixPath('/home/sarambl/PHD/IPCC/public/AR6_CH6_RCMIPFIGS/ar6_ch6_rcmipfigs/data_in/data/results/phase-1/mce/rcmip_phase-1_mce-4_v3-0-0.xlsx'),\n",
       " PosixPath('/home/sarambl/PHD/IPCC/public/AR6_CH6_RCMIPFIGS/ar6_ch6_rcmipfigs/data_in/data/results/phase-1/mce/rcmip_phase-1_mce-5_v1-0-0.xlsx'),\n",
       " PosixPath('/home/sarambl/PHD/IPCC/public/AR6_CH6_RCMIPFIGS/ar6_ch6_rcmipfigs/data_in/data/results/phase-1/mce/rcmip_phase-1_mce-5_v2-0-0.xlsx'),\n",
       " PosixPath('/home/sarambl/PHD/IPCC/public/AR6_CH6_RCMIPFIGS/ar6_ch6_rcmipfigs/data_in/data/results/phase-1/mce/rcmip_phase-1_mce-5_v2-0-1.xlsx'),\n",
       " PosixPath('/home/sarambl/PHD/IPCC/public/AR6_CH6_RCMIPFIGS/ar6_ch6_rcmipfigs/data_in/data/results/phase-1/mce/rcmip_phase-1_mce-5_v2-0-2.xlsx'),\n",
       " PosixPath('/home/sarambl/PHD/IPCC/public/AR6_CH6_RCMIPFIGS/ar6_ch6_rcmipfigs/data_in/data/results/phase-1/mce/rcmip_phase-1_mce-5_v3-0-0.xlsx'),\n",
       " PosixPath('/home/sarambl/PHD/IPCC/public/AR6_CH6_RCMIPFIGS/ar6_ch6_rcmipfigs/data_in/data/results/phase-1/mce/rcmip_phase-1_mce-6_v1-0-0.xlsx'),\n",
       " PosixPath('/home/sarambl/PHD/IPCC/public/AR6_CH6_RCMIPFIGS/ar6_ch6_rcmipfigs/data_in/data/results/phase-1/mce/rcmip_phase-1_mce-6_v2-0-0.xlsx'),\n",
       " PosixPath('/home/sarambl/PHD/IPCC/public/AR6_CH6_RCMIPFIGS/ar6_ch6_rcmipfigs/data_in/data/results/phase-1/mce/rcmip_phase-1_mce-6_v2-0-1.xlsx'),\n",
       " PosixPath('/home/sarambl/PHD/IPCC/public/AR6_CH6_RCMIPFIGS/ar6_ch6_rcmipfigs/data_in/data/results/phase-1/mce/rcmip_phase-1_mce-6_v2-0-2.xlsx'),\n",
       " PosixPath('/home/sarambl/PHD/IPCC/public/AR6_CH6_RCMIPFIGS/ar6_ch6_rcmipfigs/data_in/data/results/phase-1/mce/rcmip_phase-1_mce-6_v3-0-0.xlsx'),\n",
       " PosixPath('/home/sarambl/PHD/IPCC/public/AR6_CH6_RCMIPFIGS/ar6_ch6_rcmipfigs/data_in/data/results/phase-1/mce/rcmip_phase-1_mce-7_v1-0-0.xlsx'),\n",
       " PosixPath('/home/sarambl/PHD/IPCC/public/AR6_CH6_RCMIPFIGS/ar6_ch6_rcmipfigs/data_in/data/results/phase-1/mce/rcmip_phase-1_mce-7_v2-0-0.xlsx'),\n",
       " PosixPath('/home/sarambl/PHD/IPCC/public/AR6_CH6_RCMIPFIGS/ar6_ch6_rcmipfigs/data_in/data/results/phase-1/mce/rcmip_phase-1_mce-7_v2-0-1.xlsx'),\n",
       " PosixPath('/home/sarambl/PHD/IPCC/public/AR6_CH6_RCMIPFIGS/ar6_ch6_rcmipfigs/data_in/data/results/phase-1/mce/rcmip_phase-1_mce-7_v2-0-2.xlsx'),\n",
       " PosixPath('/home/sarambl/PHD/IPCC/public/AR6_CH6_RCMIPFIGS/ar6_ch6_rcmipfigs/data_in/data/results/phase-1/mce/rcmip_phase-1_mce-7_v3-0-0.xlsx'),\n",
       " PosixPath('/home/sarambl/PHD/IPCC/public/AR6_CH6_RCMIPFIGS/ar6_ch6_rcmipfigs/data_in/data/results/phase-1/mce/rcmip_phase-1_mce-8_v3-0-0.xlsx'),\n",
       " PosixPath('/home/sarambl/PHD/IPCC/public/AR6_CH6_RCMIPFIGS/ar6_ch6_rcmipfigs/data_in/data/results/phase-1/mce/rcmip_phase-1_mce-9_v3-0-0.xlsx'),\n",
       " PosixPath('/home/sarambl/PHD/IPCC/public/AR6_CH6_RCMIPFIGS/ar6_ch6_rcmipfigs/data_in/data/results/phase-1/oscar/rcmip_phase-1_oscar-v3-0-part-1_v1-0-0.xlsx'),\n",
       " PosixPath('/home/sarambl/PHD/IPCC/public/AR6_CH6_RCMIPFIGS/ar6_ch6_rcmipfigs/data_in/data/results/phase-1/oscar/rcmip_phase-1_oscar-v3-0-part-1_v1-0-1.xlsx'),\n",
       " PosixPath('/home/sarambl/PHD/IPCC/public/AR6_CH6_RCMIPFIGS/ar6_ch6_rcmipfigs/data_in/data/results/phase-1/oscar/rcmip_phase-1_oscar-v3-0-part-2_v1-0-0.xlsx'),\n",
       " PosixPath('/home/sarambl/PHD/IPCC/public/AR6_CH6_RCMIPFIGS/ar6_ch6_rcmipfigs/data_in/data/results/phase-1/oscar/rcmip_phase-1_oscar-v3-0-part-2_v1-0-1.xlsx'),\n",
       " PosixPath('/home/sarambl/PHD/IPCC/public/AR6_CH6_RCMIPFIGS/ar6_ch6_rcmipfigs/data_in/data/results/phase-1/wasp/rcmip_phase-1_wasp-0_v1-0-0.xlsx'),\n",
       " PosixPath('/home/sarambl/PHD/IPCC/public/AR6_CH6_RCMIPFIGS/ar6_ch6_rcmipfigs/data_in/data/results/phase-1/wasp/rcmip_phase-1_wasp-0_v1-0-1.xlsx'),\n",
       " PosixPath('/home/sarambl/PHD/IPCC/public/AR6_CH6_RCMIPFIGS/ar6_ch6_rcmipfigs/data_in/data/results/phase-1/wasp/rcmip_phase-1_wasp-0_v1-0-2.xlsx'),\n",
       " PosixPath('/home/sarambl/PHD/IPCC/public/AR6_CH6_RCMIPFIGS/ar6_ch6_rcmipfigs/data_in/data/results/phase-1/wasp/rcmip_phase-1_wasp-1_v1-0-0.xlsx'),\n",
       " PosixPath('/home/sarambl/PHD/IPCC/public/AR6_CH6_RCMIPFIGS/ar6_ch6_rcmipfigs/data_in/data/results/phase-1/wasp/rcmip_phase-1_wasp-1_v1-0-1.xlsx'),\n",
       " PosixPath('/home/sarambl/PHD/IPCC/public/AR6_CH6_RCMIPFIGS/ar6_ch6_rcmipfigs/data_in/data/results/phase-1/wasp/rcmip_phase-1_wasp-1_v1-0-2.xlsx'),\n",
       " PosixPath('/home/sarambl/PHD/IPCC/public/AR6_CH6_RCMIPFIGS/ar6_ch6_rcmipfigs/data_in/data/results/phase-1/wasp/rcmip_phase-1_wasp-2_v1-0-0.xlsx'),\n",
       " PosixPath('/home/sarambl/PHD/IPCC/public/AR6_CH6_RCMIPFIGS/ar6_ch6_rcmipfigs/data_in/data/results/phase-1/wasp/rcmip_phase-1_wasp-2_v1-0-1.xlsx'),\n",
       " PosixPath('/home/sarambl/PHD/IPCC/public/AR6_CH6_RCMIPFIGS/ar6_ch6_rcmipfigs/data_in/data/results/phase-1/wasp/rcmip_phase-1_wasp-2_v1-0-2.xlsx'),\n",
       " PosixPath('/home/sarambl/PHD/IPCC/public/AR6_CH6_RCMIPFIGS/ar6_ch6_rcmipfigs/data_in/data/results/phase-1/wasp/rcmip_phase-1_wasp-3_v1-0-0.xlsx'),\n",
       " PosixPath('/home/sarambl/PHD/IPCC/public/AR6_CH6_RCMIPFIGS/ar6_ch6_rcmipfigs/data_in/data/results/phase-1/wasp/rcmip_phase-1_wasp-3_v1-0-1.xlsx'),\n",
       " PosixPath('/home/sarambl/PHD/IPCC/public/AR6_CH6_RCMIPFIGS/ar6_ch6_rcmipfigs/data_in/data/results/phase-1/wasp/rcmip_phase-1_wasp-3_v1-0-2.xlsx')]"
      ]
     },
     "execution_count": 19,
     "metadata": {},
     "output_type": "execute_result"
    },
    {
     "data": {
      "application/javascript": [
       "\n",
       "            setTimeout(function() {\n",
       "                var nbb_cell_id = 19;\n",
       "                var nbb_formatted_code = \"_results_files = list(Path(RESULTS_PATH).rglob(\\\"*.csv\\\")) + list(\\n    Path(RESULTS_PATH).rglob(\\\"*.xlsx\\\")\\n)\\nprint(len(_results_files))\\nsorted(_results_files)\";\n",
       "                var nbb_cells = Jupyter.notebook.get_cells();\n",
       "                for (var i = 0; i < nbb_cells.length; ++i) {\n",
       "                    if (nbb_cells[i].input_prompt_number == nbb_cell_id) {\n",
       "                        nbb_cells[i].set_text(nbb_formatted_code);\n",
       "                        break;\n",
       "                    }\n",
       "                }\n",
       "            }, 500);\n",
       "            "
      ],
      "text/plain": [
       "<IPython.core.display.Javascript object>"
      ]
     },
     "metadata": {},
     "output_type": "display_data"
    }
   ],
   "source": [
    "_results_files = list(Path(RESULTS_PATH).rglob(\"*.csv\")) + list(\n",
    "    Path(RESULTS_PATH).rglob(\"*.xlsx\")\n",
    ")\n",
    "print(len(_results_files))\n",
    "sorted(_results_files)"
   ]
  },
  {
   "cell_type": "code",
   "execution_count": null,
   "metadata": {
    "lines_to_next_cell": 2
   },
   "outputs": [],
   "source": []
  },
  {
   "cell_type": "raw",
   "metadata": {},
   "source": [
    "model_of_interest = [\n",
    "    \".*acc2.*v2-0-1.*\",\n",
    "    #     \".*ar5ir.*v2-0-0.*\",\n",
    "    #     \".*rcmip_phase-1_cicero-scm.*v5-0-0.*\",\n",
    "    #     \".*escimo.*v2-0-1.*\",\n",
    "    #     \".*fair-1.5.*v1-0-1.*\",\n",
    "    #     \".*rcmip_phase-1_gir.*\",\n",
    "    #     \".*greb.*v2-0-0.*\",\n",
    "    #     \".*hector.*v2-0-0.*\",\n",
    "    #     \".*held-two-layer-uom.*v1-0-1.*\",\n",
    "    #     \".*magicc7.1.0.beta.*v1-0-0.*\",\n",
    "    #     \".*mce.*v3-0-0.*\",\n",
    "    #     \".*oscar.*v1-0-1.*\",\n",
    "    #     \".*wasp.*v1-0-2.*\",\n",
    "]"
   ]
  },
  {
   "cell_type": "code",
   "execution_count": 20,
   "metadata": {},
   "outputs": [
    {
     "data": {
      "application/javascript": [
       "\n",
       "            setTimeout(function() {\n",
       "                var nbb_cell_id = 20;\n",
       "                var nbb_formatted_code = \"model_of_interest = [\\n    #    \\\".*acc2.*v2-0-1.*\\\",\\n    \\\".*rcmip_phase-1_cicero-scm.*v5-0-0.*\\\",\\n    #    \\\".*escimo.*v2-0-1.*\\\",\\n    \\\".*fair-1.5-default.*v1-0-1.csv\\\",\\n    #    \\\".*rcmip_phase-1_gir.*\\\",\\n    #    \\\".*greb.*v2-0-0.*\\\",\\n    #    \\\".*hector.*v2-0-0.*\\\",\\n    #    \\\".*MAGICC7.1.0aX-rcmip-phase-1.*\\\",\\n    \\\".*rcmip_phase-1_magicc7.1.0.beta_v1-0-0.*\\\",\\n    #    \\\".*MAGICC7.1.0aX.*\\\",\\n    #    \\\".*mce.*v2-0-1.*\\\",\\n    #    \\\".*oscar-v3-0*v1-0-1.*\\\",\\n    \\\".*oscar-v3-0.*v1-0-1.*\\\"\\n    #    \\\".*wasp.*v1-0-1.*\\\",\\n]\";\n",
       "                var nbb_cells = Jupyter.notebook.get_cells();\n",
       "                for (var i = 0; i < nbb_cells.length; ++i) {\n",
       "                    if (nbb_cells[i].input_prompt_number == nbb_cell_id) {\n",
       "                        nbb_cells[i].set_text(nbb_formatted_code);\n",
       "                        break;\n",
       "                    }\n",
       "                }\n",
       "            }, 500);\n",
       "            "
      ],
      "text/plain": [
       "<IPython.core.display.Javascript object>"
      ]
     },
     "metadata": {},
     "output_type": "display_data"
    }
   ],
   "source": [
    "model_of_interest = [\n",
    "#    \".*acc2.*v2-0-1.*\",\n",
    "    \".*rcmip_phase-1_cicero-scm.*v5-0-0.*\",\n",
    "#    \".*escimo.*v2-0-1.*\",\n",
    "    \".*fair-1.5-default.*v1-0-1.csv\",\n",
    "#    \".*rcmip_phase-1_gir.*\",\n",
    "#    \".*greb.*v2-0-0.*\",\n",
    "#    \".*hector.*v2-0-0.*\",\n",
    "#    \".*MAGICC7.1.0aX-rcmip-phase-1.*\",\n",
    "    \".*rcmip_phase-1_magicc7.1.0.beta_v1-0-0.*\",\n",
    "#    \".*MAGICC7.1.0aX.*\",\n",
    "#    \".*mce.*v2-0-1.*\",\n",
    "#    \".*oscar-v3-0*v1-0-1.*\",\n",
    "    \".*oscar-v3-0.*v1-0-1.*\"\n",
    "#    \".*wasp.*v1-0-1.*\",\n",
    "]"
   ]
  },
  {
   "cell_type": "code",
   "execution_count": 21,
   "metadata": {},
   "outputs": [
    {
     "name": "stdout",
     "output_type": "stream",
     "text": [
      "80\n"
     ]
    },
    {
     "data": {
      "text/plain": [
       "['/home/sarambl/PHD/IPCC/public/AR6_CH6_RCMIPFIGS/ar6_ch6_rcmipfigs/data_in/data/results/phase-1/cicero-scm/rcmip_phase-1_cicero-scm-ecs3_v5-0-0.csv',\n",
       " '/home/sarambl/PHD/IPCC/public/AR6_CH6_RCMIPFIGS/ar6_ch6_rcmipfigs/data_in/data/results/phase-1/cicero-scm/rcmip_phase-1_cicero-scm_v5-0-0.csv',\n",
       " '/home/sarambl/PHD/IPCC/public/AR6_CH6_RCMIPFIGS/ar6_ch6_rcmipfigs/data_in/data/results/phase-1/fair/rcmip_phase-1_fair-1.5-default-1pctCO2-4xext_v1-0-1.csv',\n",
       " '/home/sarambl/PHD/IPCC/public/AR6_CH6_RCMIPFIGS/ar6_ch6_rcmipfigs/data_in/data/results/phase-1/fair/rcmip_phase-1_fair-1.5-default-1pctCO2-bgc_v1-0-1.csv',\n",
       " '/home/sarambl/PHD/IPCC/public/AR6_CH6_RCMIPFIGS/ar6_ch6_rcmipfigs/data_in/data/results/phase-1/fair/rcmip_phase-1_fair-1.5-default-1pctCO2-cdr_v1-0-1.csv',\n",
       " '/home/sarambl/PHD/IPCC/public/AR6_CH6_RCMIPFIGS/ar6_ch6_rcmipfigs/data_in/data/results/phase-1/fair/rcmip_phase-1_fair-1.5-default-1pctCO2-rad_v1-0-1.csv',\n",
       " '/home/sarambl/PHD/IPCC/public/AR6_CH6_RCMIPFIGS/ar6_ch6_rcmipfigs/data_in/data/results/phase-1/fair/rcmip_phase-1_fair-1.5-default-1pctCO2_v1-0-1.csv',\n",
       " '/home/sarambl/PHD/IPCC/public/AR6_CH6_RCMIPFIGS/ar6_ch6_rcmipfigs/data_in/data/results/phase-1/fair/rcmip_phase-1_fair-1.5-default-abrupt-0p5xCO2_v1-0-1.csv',\n",
       " '/home/sarambl/PHD/IPCC/public/AR6_CH6_RCMIPFIGS/ar6_ch6_rcmipfigs/data_in/data/results/phase-1/fair/rcmip_phase-1_fair-1.5-default-abrupt-2xCO2_v1-0-1.csv',\n",
       " '/home/sarambl/PHD/IPCC/public/AR6_CH6_RCMIPFIGS/ar6_ch6_rcmipfigs/data_in/data/results/phase-1/fair/rcmip_phase-1_fair-1.5-default-abrupt-4xCO2_v1-0-1.csv',\n",
       " '/home/sarambl/PHD/IPCC/public/AR6_CH6_RCMIPFIGS/ar6_ch6_rcmipfigs/data_in/data/results/phase-1/fair/rcmip_phase-1_fair-1.5-default-esm-1pct-brch-1000PgC_v1-0-1.csv',\n",
       " '/home/sarambl/PHD/IPCC/public/AR6_CH6_RCMIPFIGS/ar6_ch6_rcmipfigs/data_in/data/results/phase-1/fair/rcmip_phase-1_fair-1.5-default-esm-1pct-brch-2000PgC_v1-0-1.csv',\n",
       " '/home/sarambl/PHD/IPCC/public/AR6_CH6_RCMIPFIGS/ar6_ch6_rcmipfigs/data_in/data/results/phase-1/fair/rcmip_phase-1_fair-1.5-default-esm-1pct-brch-750PgC_v1-0-1.csv',\n",
       " '/home/sarambl/PHD/IPCC/public/AR6_CH6_RCMIPFIGS/ar6_ch6_rcmipfigs/data_in/data/results/phase-1/fair/rcmip_phase-1_fair-1.5-default-esm-bell-1000PgC_v1-0-1.csv',\n",
       " '/home/sarambl/PHD/IPCC/public/AR6_CH6_RCMIPFIGS/ar6_ch6_rcmipfigs/data_in/data/results/phase-1/fair/rcmip_phase-1_fair-1.5-default-esm-bell-2000PgC_v1-0-1.csv',\n",
       " '/home/sarambl/PHD/IPCC/public/AR6_CH6_RCMIPFIGS/ar6_ch6_rcmipfigs/data_in/data/results/phase-1/fair/rcmip_phase-1_fair-1.5-default-esm-bell-750PgC_v1-0-1.csv',\n",
       " '/home/sarambl/PHD/IPCC/public/AR6_CH6_RCMIPFIGS/ar6_ch6_rcmipfigs/data_in/data/results/phase-1/fair/rcmip_phase-1_fair-1.5-default-esm-hist-allGHG_v1-0-1.csv',\n",
       " '/home/sarambl/PHD/IPCC/public/AR6_CH6_RCMIPFIGS/ar6_ch6_rcmipfigs/data_in/data/results/phase-1/fair/rcmip_phase-1_fair-1.5-default-esm-hist-cmip5_v1-0-1.csv',\n",
       " '/home/sarambl/PHD/IPCC/public/AR6_CH6_RCMIPFIGS/ar6_ch6_rcmipfigs/data_in/data/results/phase-1/fair/rcmip_phase-1_fair-1.5-default-esm-hist_v1-0-1.csv',\n",
       " '/home/sarambl/PHD/IPCC/public/AR6_CH6_RCMIPFIGS/ar6_ch6_rcmipfigs/data_in/data/results/phase-1/fair/rcmip_phase-1_fair-1.5-default-esm-pi-CO2pulse_v1-0-1.csv',\n",
       " '/home/sarambl/PHD/IPCC/public/AR6_CH6_RCMIPFIGS/ar6_ch6_rcmipfigs/data_in/data/results/phase-1/fair/rcmip_phase-1_fair-1.5-default-esm-pi-cdr-pulse_v1-0-1.csv',\n",
       " '/home/sarambl/PHD/IPCC/public/AR6_CH6_RCMIPFIGS/ar6_ch6_rcmipfigs/data_in/data/results/phase-1/fair/rcmip_phase-1_fair-1.5-default-esm-piControl-allGHG_v1-0-1.csv',\n",
       " '/home/sarambl/PHD/IPCC/public/AR6_CH6_RCMIPFIGS/ar6_ch6_rcmipfigs/data_in/data/results/phase-1/fair/rcmip_phase-1_fair-1.5-default-esm-rcp26-allGHG_v1-0-1.csv',\n",
       " '/home/sarambl/PHD/IPCC/public/AR6_CH6_RCMIPFIGS/ar6_ch6_rcmipfigs/data_in/data/results/phase-1/fair/rcmip_phase-1_fair-1.5-default-esm-rcp26_v1-0-1.csv',\n",
       " '/home/sarambl/PHD/IPCC/public/AR6_CH6_RCMIPFIGS/ar6_ch6_rcmipfigs/data_in/data/results/phase-1/fair/rcmip_phase-1_fair-1.5-default-esm-rcp45-allGHG_v1-0-1.csv',\n",
       " '/home/sarambl/PHD/IPCC/public/AR6_CH6_RCMIPFIGS/ar6_ch6_rcmipfigs/data_in/data/results/phase-1/fair/rcmip_phase-1_fair-1.5-default-esm-rcp45_v1-0-1.csv',\n",
       " '/home/sarambl/PHD/IPCC/public/AR6_CH6_RCMIPFIGS/ar6_ch6_rcmipfigs/data_in/data/results/phase-1/fair/rcmip_phase-1_fair-1.5-default-esm-rcp60-allGHG_v1-0-1.csv',\n",
       " '/home/sarambl/PHD/IPCC/public/AR6_CH6_RCMIPFIGS/ar6_ch6_rcmipfigs/data_in/data/results/phase-1/fair/rcmip_phase-1_fair-1.5-default-esm-rcp60_v1-0-1.csv',\n",
       " '/home/sarambl/PHD/IPCC/public/AR6_CH6_RCMIPFIGS/ar6_ch6_rcmipfigs/data_in/data/results/phase-1/fair/rcmip_phase-1_fair-1.5-default-esm-rcp85-allGHG_v1-0-1.csv',\n",
       " '/home/sarambl/PHD/IPCC/public/AR6_CH6_RCMIPFIGS/ar6_ch6_rcmipfigs/data_in/data/results/phase-1/fair/rcmip_phase-1_fair-1.5-default-esm-rcp85_v1-0-1.csv',\n",
       " '/home/sarambl/PHD/IPCC/public/AR6_CH6_RCMIPFIGS/ar6_ch6_rcmipfigs/data_in/data/results/phase-1/fair/rcmip_phase-1_fair-1.5-default-esm-spp119-allGHG_v1-0-1.csv',\n",
       " '/home/sarambl/PHD/IPCC/public/AR6_CH6_RCMIPFIGS/ar6_ch6_rcmipfigs/data_in/data/results/phase-1/fair/rcmip_phase-1_fair-1.5-default-esm-ssp119_v1-0-1.csv',\n",
       " '/home/sarambl/PHD/IPCC/public/AR6_CH6_RCMIPFIGS/ar6_ch6_rcmipfigs/data_in/data/results/phase-1/fair/rcmip_phase-1_fair-1.5-default-esm-ssp126-allGHG_v1-0-1.csv',\n",
       " '/home/sarambl/PHD/IPCC/public/AR6_CH6_RCMIPFIGS/ar6_ch6_rcmipfigs/data_in/data/results/phase-1/fair/rcmip_phase-1_fair-1.5-default-esm-ssp126_v1-0-1.csv',\n",
       " '/home/sarambl/PHD/IPCC/public/AR6_CH6_RCMIPFIGS/ar6_ch6_rcmipfigs/data_in/data/results/phase-1/fair/rcmip_phase-1_fair-1.5-default-esm-ssp245-allGHG_v1-0-1.csv',\n",
       " '/home/sarambl/PHD/IPCC/public/AR6_CH6_RCMIPFIGS/ar6_ch6_rcmipfigs/data_in/data/results/phase-1/fair/rcmip_phase-1_fair-1.5-default-esm-ssp245_v1-0-1.csv',\n",
       " '/home/sarambl/PHD/IPCC/public/AR6_CH6_RCMIPFIGS/ar6_ch6_rcmipfigs/data_in/data/results/phase-1/fair/rcmip_phase-1_fair-1.5-default-esm-ssp370-allGHG_v1-0-1.csv',\n",
       " '/home/sarambl/PHD/IPCC/public/AR6_CH6_RCMIPFIGS/ar6_ch6_rcmipfigs/data_in/data/results/phase-1/fair/rcmip_phase-1_fair-1.5-default-esm-ssp370-lowNTCF-aerchemmip-allGHG_v1-0-1.csv',\n",
       " '/home/sarambl/PHD/IPCC/public/AR6_CH6_RCMIPFIGS/ar6_ch6_rcmipfigs/data_in/data/results/phase-1/fair/rcmip_phase-1_fair-1.5-default-esm-ssp370-lowNTCF-aerchemmip_v1-0-1.csv',\n",
       " '/home/sarambl/PHD/IPCC/public/AR6_CH6_RCMIPFIGS/ar6_ch6_rcmipfigs/data_in/data/results/phase-1/fair/rcmip_phase-1_fair-1.5-default-esm-ssp370-lowNTCF-allGHG_v1-0-1.csv',\n",
       " '/home/sarambl/PHD/IPCC/public/AR6_CH6_RCMIPFIGS/ar6_ch6_rcmipfigs/data_in/data/results/phase-1/fair/rcmip_phase-1_fair-1.5-default-esm-ssp370-lowNTCF_v1-0-1.csv',\n",
       " '/home/sarambl/PHD/IPCC/public/AR6_CH6_RCMIPFIGS/ar6_ch6_rcmipfigs/data_in/data/results/phase-1/fair/rcmip_phase-1_fair-1.5-default-esm-ssp370_v1-0-1.csv',\n",
       " '/home/sarambl/PHD/IPCC/public/AR6_CH6_RCMIPFIGS/ar6_ch6_rcmipfigs/data_in/data/results/phase-1/fair/rcmip_phase-1_fair-1.5-default-esm-ssp434-allGHG_v1-0-1.csv',\n",
       " '/home/sarambl/PHD/IPCC/public/AR6_CH6_RCMIPFIGS/ar6_ch6_rcmipfigs/data_in/data/results/phase-1/fair/rcmip_phase-1_fair-1.5-default-esm-ssp434_v1-0-1.csv',\n",
       " '/home/sarambl/PHD/IPCC/public/AR6_CH6_RCMIPFIGS/ar6_ch6_rcmipfigs/data_in/data/results/phase-1/fair/rcmip_phase-1_fair-1.5-default-esm-ssp460-allGHG_v1-0-1.csv',\n",
       " '/home/sarambl/PHD/IPCC/public/AR6_CH6_RCMIPFIGS/ar6_ch6_rcmipfigs/data_in/data/results/phase-1/fair/rcmip_phase-1_fair-1.5-default-esm-ssp460_v1-0-1.csv',\n",
       " '/home/sarambl/PHD/IPCC/public/AR6_CH6_RCMIPFIGS/ar6_ch6_rcmipfigs/data_in/data/results/phase-1/fair/rcmip_phase-1_fair-1.5-default-esm-ssp534-over-allGHG_v1-0-1.csv',\n",
       " '/home/sarambl/PHD/IPCC/public/AR6_CH6_RCMIPFIGS/ar6_ch6_rcmipfigs/data_in/data/results/phase-1/fair/rcmip_phase-1_fair-1.5-default-esm-ssp534-over_v1-0-1.csv',\n",
       " '/home/sarambl/PHD/IPCC/public/AR6_CH6_RCMIPFIGS/ar6_ch6_rcmipfigs/data_in/data/results/phase-1/fair/rcmip_phase-1_fair-1.5-default-esm-ssp585-allGHG_v1-0-1.csv',\n",
       " '/home/sarambl/PHD/IPCC/public/AR6_CH6_RCMIPFIGS/ar6_ch6_rcmipfigs/data_in/data/results/phase-1/fair/rcmip_phase-1_fair-1.5-default-esm-ssp585_v1-0-1.csv',\n",
       " '/home/sarambl/PHD/IPCC/public/AR6_CH6_RCMIPFIGS/ar6_ch6_rcmipfigs/data_in/data/results/phase-1/fair/rcmip_phase-1_fair-1.5-default-hist-CO2_v1-0-1.csv',\n",
       " '/home/sarambl/PHD/IPCC/public/AR6_CH6_RCMIPFIGS/ar6_ch6_rcmipfigs/data_in/data/results/phase-1/fair/rcmip_phase-1_fair-1.5-default-hist-GHG_v1-0-1.csv',\n",
       " '/home/sarambl/PHD/IPCC/public/AR6_CH6_RCMIPFIGS/ar6_ch6_rcmipfigs/data_in/data/results/phase-1/fair/rcmip_phase-1_fair-1.5-default-hist-aer_v1-0-1.csv',\n",
       " '/home/sarambl/PHD/IPCC/public/AR6_CH6_RCMIPFIGS/ar6_ch6_rcmipfigs/data_in/data/results/phase-1/fair/rcmip_phase-1_fair-1.5-default-hist-nat_v1-0-1.csv',\n",
       " '/home/sarambl/PHD/IPCC/public/AR6_CH6_RCMIPFIGS/ar6_ch6_rcmipfigs/data_in/data/results/phase-1/fair/rcmip_phase-1_fair-1.5-default-hist-sol_v1-0-1.csv',\n",
       " '/home/sarambl/PHD/IPCC/public/AR6_CH6_RCMIPFIGS/ar6_ch6_rcmipfigs/data_in/data/results/phase-1/fair/rcmip_phase-1_fair-1.5-default-hist-volc_v1-0-1.csv',\n",
       " '/home/sarambl/PHD/IPCC/public/AR6_CH6_RCMIPFIGS/ar6_ch6_rcmipfigs/data_in/data/results/phase-1/fair/rcmip_phase-1_fair-1.5-default-historical-cmip5_v1-0-1.csv',\n",
       " '/home/sarambl/PHD/IPCC/public/AR6_CH6_RCMIPFIGS/ar6_ch6_rcmipfigs/data_in/data/results/phase-1/fair/rcmip_phase-1_fair-1.5-default-historical_v1-0-1.csv',\n",
       " '/home/sarambl/PHD/IPCC/public/AR6_CH6_RCMIPFIGS/ar6_ch6_rcmipfigs/data_in/data/results/phase-1/fair/rcmip_phase-1_fair-1.5-default-piControl_v1-0-1.csv',\n",
       " '/home/sarambl/PHD/IPCC/public/AR6_CH6_RCMIPFIGS/ar6_ch6_rcmipfigs/data_in/data/results/phase-1/fair/rcmip_phase-1_fair-1.5-default-rcp26_v1-0-1.csv',\n",
       " '/home/sarambl/PHD/IPCC/public/AR6_CH6_RCMIPFIGS/ar6_ch6_rcmipfigs/data_in/data/results/phase-1/fair/rcmip_phase-1_fair-1.5-default-rcp45_v1-0-1.csv',\n",
       " '/home/sarambl/PHD/IPCC/public/AR6_CH6_RCMIPFIGS/ar6_ch6_rcmipfigs/data_in/data/results/phase-1/fair/rcmip_phase-1_fair-1.5-default-rcp60_v1-0-1.csv',\n",
       " '/home/sarambl/PHD/IPCC/public/AR6_CH6_RCMIPFIGS/ar6_ch6_rcmipfigs/data_in/data/results/phase-1/fair/rcmip_phase-1_fair-1.5-default-rcp85_v1-0-1.csv',\n",
       " '/home/sarambl/PHD/IPCC/public/AR6_CH6_RCMIPFIGS/ar6_ch6_rcmipfigs/data_in/data/results/phase-1/fair/rcmip_phase-1_fair-1.5-default-ssp119_v1-0-1.csv',\n",
       " '/home/sarambl/PHD/IPCC/public/AR6_CH6_RCMIPFIGS/ar6_ch6_rcmipfigs/data_in/data/results/phase-1/fair/rcmip_phase-1_fair-1.5-default-ssp126_v1-0-1.csv',\n",
       " '/home/sarambl/PHD/IPCC/public/AR6_CH6_RCMIPFIGS/ar6_ch6_rcmipfigs/data_in/data/results/phase-1/fair/rcmip_phase-1_fair-1.5-default-ssp245-GHG_v1-0-1.csv',\n",
       " '/home/sarambl/PHD/IPCC/public/AR6_CH6_RCMIPFIGS/ar6_ch6_rcmipfigs/data_in/data/results/phase-1/fair/rcmip_phase-1_fair-1.5-default-ssp245-aer_v1-0-1.csv',\n",
       " '/home/sarambl/PHD/IPCC/public/AR6_CH6_RCMIPFIGS/ar6_ch6_rcmipfigs/data_in/data/results/phase-1/fair/rcmip_phase-1_fair-1.5-default-ssp245-nat_v1-0-1.csv',\n",
       " '/home/sarambl/PHD/IPCC/public/AR6_CH6_RCMIPFIGS/ar6_ch6_rcmipfigs/data_in/data/results/phase-1/fair/rcmip_phase-1_fair-1.5-default-ssp245-stratO3_v1-0-1.csv',\n",
       " '/home/sarambl/PHD/IPCC/public/AR6_CH6_RCMIPFIGS/ar6_ch6_rcmipfigs/data_in/data/results/phase-1/fair/rcmip_phase-1_fair-1.5-default-ssp245_v1-0-1.csv',\n",
       " '/home/sarambl/PHD/IPCC/public/AR6_CH6_RCMIPFIGS/ar6_ch6_rcmipfigs/data_in/data/results/phase-1/fair/rcmip_phase-1_fair-1.5-default-ssp370-lowNTCF-aerchemmip_v1-0-1.csv',\n",
       " '/home/sarambl/PHD/IPCC/public/AR6_CH6_RCMIPFIGS/ar6_ch6_rcmipfigs/data_in/data/results/phase-1/fair/rcmip_phase-1_fair-1.5-default-ssp370-lowNTCF_v1-0-1.csv',\n",
       " '/home/sarambl/PHD/IPCC/public/AR6_CH6_RCMIPFIGS/ar6_ch6_rcmipfigs/data_in/data/results/phase-1/fair/rcmip_phase-1_fair-1.5-default-ssp370_v1-0-1.csv',\n",
       " '/home/sarambl/PHD/IPCC/public/AR6_CH6_RCMIPFIGS/ar6_ch6_rcmipfigs/data_in/data/results/phase-1/fair/rcmip_phase-1_fair-1.5-default-ssp434_v1-0-1.csv',\n",
       " '/home/sarambl/PHD/IPCC/public/AR6_CH6_RCMIPFIGS/ar6_ch6_rcmipfigs/data_in/data/results/phase-1/fair/rcmip_phase-1_fair-1.5-default-ssp460_v1-0-1.csv',\n",
       " '/home/sarambl/PHD/IPCC/public/AR6_CH6_RCMIPFIGS/ar6_ch6_rcmipfigs/data_in/data/results/phase-1/fair/rcmip_phase-1_fair-1.5-default-ssp534-over_v1-0-1.csv',\n",
       " '/home/sarambl/PHD/IPCC/public/AR6_CH6_RCMIPFIGS/ar6_ch6_rcmipfigs/data_in/data/results/phase-1/fair/rcmip_phase-1_fair-1.5-default-ssp585_v1-0-1.csv',\n",
       " '/home/sarambl/PHD/IPCC/public/AR6_CH6_RCMIPFIGS/ar6_ch6_rcmipfigs/data_in/data/results/phase-1/magicc7/rcmip_phase-1_magicc7.1.0.beta_v1-0-0.csv',\n",
       " '/home/sarambl/PHD/IPCC/public/AR6_CH6_RCMIPFIGS/ar6_ch6_rcmipfigs/data_in/data/results/phase-1/oscar/rcmip_phase-1_oscar-v3-0-part-1_v1-0-1.xlsx',\n",
       " '/home/sarambl/PHD/IPCC/public/AR6_CH6_RCMIPFIGS/ar6_ch6_rcmipfigs/data_in/data/results/phase-1/oscar/rcmip_phase-1_oscar-v3-0-part-2_v1-0-1.xlsx']"
      ]
     },
     "execution_count": 21,
     "metadata": {},
     "output_type": "execute_result"
    },
    {
     "data": {
      "application/javascript": [
       "\n",
       "            setTimeout(function() {\n",
       "                var nbb_cell_id = 21;\n",
       "                var nbb_formatted_code = \"if TEST_RUN:\\n    model_of_interest = [\\n        \\\".*escimo-phase-1-v2-0-1.*\\\",\\n        \\\".*greb.*\\\",\\n        \\\".*rcmip_phase-1_cicero-scm.*v5-0-0.*\\\",\\n    ]\\n\\nresults_files = [\\n    str(p)\\n    for p in _results_files\\n    if any([bool(re.match(m, str(p))) for m in model_of_interest]) and \\\"$\\\" not in str(p)\\n]\\nprint(len(results_files))\\nsorted(results_files)\";\n",
       "                var nbb_cells = Jupyter.notebook.get_cells();\n",
       "                for (var i = 0; i < nbb_cells.length; ++i) {\n",
       "                    if (nbb_cells[i].input_prompt_number == nbb_cell_id) {\n",
       "                        nbb_cells[i].set_text(nbb_formatted_code);\n",
       "                        break;\n",
       "                    }\n",
       "                }\n",
       "            }, 500);\n",
       "            "
      ],
      "text/plain": [
       "<IPython.core.display.Javascript object>"
      ]
     },
     "metadata": {},
     "output_type": "display_data"
    }
   ],
   "source": [
    "if TEST_RUN:\n",
    "    model_of_interest = [\n",
    "        \".*escimo-phase-1-v2-0-1.*\",\n",
    "        \".*greb.*\",\n",
    "        \".*rcmip_phase-1_cicero-scm.*v5-0-0.*\",\n",
    "    ]\n",
    "\n",
    "results_files = [\n",
    "    str(p)\n",
    "    for p in _results_files\n",
    "    if any([bool(re.match(m, str(p))) for m in model_of_interest]) and \"$\" not in str(p)\n",
    "]\n",
    "print(len(results_files))\n",
    "sorted(results_files)"
   ]
  },
  {
   "cell_type": "code",
   "execution_count": 22,
   "metadata": {},
   "outputs": [
    {
     "data": {
      "text/plain": [
       "['/home/sarambl/PHD/IPCC/public/AR6_CH6_RCMIPFIGS/ar6_ch6_rcmipfigs/data_in/data/results/phase-1/magicc7/rcmip_phase-1_magicc7.1.0.beta_v1-0-0.csv']"
      ]
     },
     "execution_count": 22,
     "metadata": {},
     "output_type": "execute_result"
    },
    {
     "data": {
      "application/javascript": [
       "\n",
       "            setTimeout(function() {\n",
       "                var nbb_cell_id = 22;\n",
       "                var nbb_formatted_code = \"[\\n    str(p) for p in results_files if \\\"magicc\\\" in str(p)\\n]  # for m in model_of_interest]) and \\\"$\\\" not in str(p)\\n# ]\";\n",
       "                var nbb_cells = Jupyter.notebook.get_cells();\n",
       "                for (var i = 0; i < nbb_cells.length; ++i) {\n",
       "                    if (nbb_cells[i].input_prompt_number == nbb_cell_id) {\n",
       "                        nbb_cells[i].set_text(nbb_formatted_code);\n",
       "                        break;\n",
       "                    }\n",
       "                }\n",
       "            }, 500);\n",
       "            "
      ],
      "text/plain": [
       "<IPython.core.display.Javascript object>"
      ]
     },
     "metadata": {},
     "output_type": "display_data"
    }
   ],
   "source": [
    "[\n",
    "    str(p)\n",
    "    for p in results_files\n",
    "    if 'magicc' in str(p)] #for m in model_of_interest]) and \"$\" not in str(p)\n",
    "#]"
   ]
  },
  {
   "cell_type": "code",
   "execution_count": 23,
   "metadata": {},
   "outputs": [
    {
     "data": {
      "application/vnd.jupyter.widget-view+json": {
       "model_id": "fdc3dd6e7928495db0ad62c3332c85e2",
       "version_major": 2,
       "version_minor": 0
      },
      "text/plain": [
       "HBox(children=(IntProgress(value=0, max=80), HTML(value='')))"
      ]
     },
     "metadata": {},
     "output_type": "display_data"
    },
    {
     "ename": "KeyboardInterrupt",
     "evalue": "",
     "output_type": "error",
     "traceback": [
      "\u001b[0;31m---------------------------------------------------------------------------\u001b[0m",
      "\u001b[0;31mKeyboardInterrupt\u001b[0m                         Traceback (most recent call last)",
      "\u001b[0;32m<ipython-input-23-7cef0401a132>\u001b[0m in \u001b[0;36m<module>\u001b[0;34m\u001b[0m\n\u001b[1;32m      4\u001b[0m         \u001b[0mloaded\u001b[0m \u001b[0;34m=\u001b[0m \u001b[0mScmDataFrame\u001b[0m\u001b[0;34m(\u001b[0m\u001b[0mrf\u001b[0m\u001b[0;34m)\u001b[0m\u001b[0;34m\u001b[0m\u001b[0;34m\u001b[0m\u001b[0m\n\u001b[1;32m      5\u001b[0m     \u001b[0;32melse\u001b[0m\u001b[0;34m:\u001b[0m\u001b[0;34m\u001b[0m\u001b[0;34m\u001b[0m\u001b[0m\n\u001b[0;32m----> 6\u001b[0;31m         \u001b[0mloaded\u001b[0m \u001b[0;34m=\u001b[0m \u001b[0mScmDataFrame\u001b[0m\u001b[0;34m(\u001b[0m\u001b[0mrf\u001b[0m\u001b[0;34m,\u001b[0m \u001b[0msheet_name\u001b[0m\u001b[0;34m=\u001b[0m\u001b[0;34m\"your_data\"\u001b[0m\u001b[0;34m)\u001b[0m\u001b[0;34m\u001b[0m\u001b[0;34m\u001b[0m\u001b[0m\n\u001b[0m\u001b[1;32m      7\u001b[0m     \u001b[0mdb\u001b[0m\u001b[0;34m.\u001b[0m\u001b[0mappend\u001b[0m\u001b[0;34m(\u001b[0m\u001b[0mloaded\u001b[0m\u001b[0;34m)\u001b[0m\u001b[0;34m\u001b[0m\u001b[0;34m\u001b[0m\u001b[0m\n\u001b[1;32m      8\u001b[0m \u001b[0;34m\u001b[0m\u001b[0m\n",
      "\u001b[0;32m~/miniconda3/envs/rcmip_smb/lib/python3.7/site-packages/scmdata/dataframe.py\u001b[0m in \u001b[0;36m__init__\u001b[0;34m(self, data, index, columns, **kwargs)\u001b[0m\n\u001b[1;32m    379\u001b[0m                 \u001b[0;32mraise\u001b[0m \u001b[0mTypeError\u001b[0m\u001b[0;34m(\u001b[0m\u001b[0merror_msg\u001b[0m\u001b[0;34m)\u001b[0m\u001b[0;34m\u001b[0m\u001b[0;34m\u001b[0m\u001b[0m\n\u001b[1;32m    380\u001b[0m \u001b[0;34m\u001b[0m\u001b[0m\n\u001b[0;32m--> 381\u001b[0;31m             \u001b[0;34m(\u001b[0m\u001b[0m_df\u001b[0m\u001b[0;34m,\u001b[0m \u001b[0m_meta\u001b[0m\u001b[0;34m)\u001b[0m \u001b[0;34m=\u001b[0m \u001b[0m_read_file\u001b[0m\u001b[0;34m(\u001b[0m\u001b[0mdata\u001b[0m\u001b[0;34m,\u001b[0m \u001b[0;34m**\u001b[0m\u001b[0mkwargs\u001b[0m\u001b[0;34m)\u001b[0m\u001b[0;34m\u001b[0m\u001b[0;34m\u001b[0m\u001b[0m\n\u001b[0m\u001b[1;32m    382\u001b[0m \u001b[0;34m\u001b[0m\u001b[0m\n\u001b[1;32m    383\u001b[0m         \u001b[0mself\u001b[0m\u001b[0;34m.\u001b[0m\u001b[0m_time_points\u001b[0m \u001b[0;34m=\u001b[0m \u001b[0mTimePoints\u001b[0m\u001b[0;34m(\u001b[0m\u001b[0m_df\u001b[0m\u001b[0;34m.\u001b[0m\u001b[0mindex\u001b[0m\u001b[0;34m.\u001b[0m\u001b[0mvalues\u001b[0m\u001b[0;34m)\u001b[0m\u001b[0;34m\u001b[0m\u001b[0;34m\u001b[0m\u001b[0m\n",
      "\u001b[0;32m~/miniconda3/envs/rcmip_smb/lib/python3.7/site-packages/scmdata/dataframe.py\u001b[0m in \u001b[0;36m_read_file\u001b[0;34m(fnames, *args, **kwargs)\u001b[0m\n\u001b[1;32m     58\u001b[0m     \u001b[0m_logger\u001b[0m\u001b[0;34m.\u001b[0m\u001b[0minfo\u001b[0m\u001b[0;34m(\u001b[0m\u001b[0;34m\"Reading %s\"\u001b[0m\u001b[0;34m,\u001b[0m \u001b[0mfnames\u001b[0m\u001b[0;34m)\u001b[0m\u001b[0;34m\u001b[0m\u001b[0;34m\u001b[0m\u001b[0m\n\u001b[1;32m     59\u001b[0m \u001b[0;34m\u001b[0m\u001b[0m\n\u001b[0;32m---> 60\u001b[0;31m     \u001b[0;32mreturn\u001b[0m \u001b[0m_format_data\u001b[0m\u001b[0;34m(\u001b[0m\u001b[0m_read_pandas\u001b[0m\u001b[0;34m(\u001b[0m\u001b[0mfnames\u001b[0m\u001b[0;34m,\u001b[0m \u001b[0;34m*\u001b[0m\u001b[0margs\u001b[0m\u001b[0;34m,\u001b[0m \u001b[0;34m**\u001b[0m\u001b[0mkwargs\u001b[0m\u001b[0;34m)\u001b[0m\u001b[0;34m)\u001b[0m\u001b[0;34m\u001b[0m\u001b[0;34m\u001b[0m\u001b[0m\n\u001b[0m\u001b[1;32m     61\u001b[0m \u001b[0;34m\u001b[0m\u001b[0m\n\u001b[1;32m     62\u001b[0m \u001b[0;34m\u001b[0m\u001b[0m\n",
      "\u001b[0;32m~/miniconda3/envs/rcmip_smb/lib/python3.7/site-packages/scmdata/dataframe.py\u001b[0m in \u001b[0;36m_read_pandas\u001b[0;34m(fname, *args, **kwargs)\u001b[0m\n\u001b[1;32m     91\u001b[0m         \u001b[0mdf\u001b[0m \u001b[0;34m=\u001b[0m \u001b[0mpd\u001b[0m\u001b[0;34m.\u001b[0m\u001b[0mread_csv\u001b[0m\u001b[0;34m(\u001b[0m\u001b[0mfname\u001b[0m\u001b[0;34m,\u001b[0m \u001b[0;34m*\u001b[0m\u001b[0margs\u001b[0m\u001b[0;34m,\u001b[0m \u001b[0;34m**\u001b[0m\u001b[0mkwargs\u001b[0m\u001b[0;34m)\u001b[0m\u001b[0;34m\u001b[0m\u001b[0;34m\u001b[0m\u001b[0m\n\u001b[1;32m     92\u001b[0m     \u001b[0;32melse\u001b[0m\u001b[0;34m:\u001b[0m\u001b[0;34m\u001b[0m\u001b[0;34m\u001b[0m\u001b[0m\n\u001b[0;32m---> 93\u001b[0;31m         \u001b[0mxl\u001b[0m \u001b[0;34m=\u001b[0m \u001b[0mpd\u001b[0m\u001b[0;34m.\u001b[0m\u001b[0mExcelFile\u001b[0m\u001b[0;34m(\u001b[0m\u001b[0mfname\u001b[0m\u001b[0;34m)\u001b[0m\u001b[0;34m\u001b[0m\u001b[0;34m\u001b[0m\u001b[0m\n\u001b[0m\u001b[1;32m     94\u001b[0m         \u001b[0;32mif\u001b[0m \u001b[0mlen\u001b[0m\u001b[0;34m(\u001b[0m\u001b[0mxl\u001b[0m\u001b[0;34m.\u001b[0m\u001b[0msheet_names\u001b[0m\u001b[0;34m)\u001b[0m \u001b[0;34m>\u001b[0m \u001b[0;36m1\u001b[0m \u001b[0;32mand\u001b[0m \u001b[0;34m\"sheet_name\"\u001b[0m \u001b[0;32mnot\u001b[0m \u001b[0;32min\u001b[0m \u001b[0mkwargs\u001b[0m\u001b[0;34m:\u001b[0m\u001b[0;34m\u001b[0m\u001b[0;34m\u001b[0m\u001b[0m\n\u001b[1;32m     95\u001b[0m             \u001b[0mkwargs\u001b[0m\u001b[0;34m[\u001b[0m\u001b[0;34m\"sheet_name\"\u001b[0m\u001b[0;34m]\u001b[0m \u001b[0;34m=\u001b[0m \u001b[0;34m\"data\"\u001b[0m\u001b[0;34m\u001b[0m\u001b[0;34m\u001b[0m\u001b[0m\n",
      "\u001b[0;32m~/miniconda3/envs/rcmip_smb/lib/python3.7/site-packages/pandas/io/excel/_base.py\u001b[0m in \u001b[0;36m__init__\u001b[0;34m(self, io, engine)\u001b[0m\n\u001b[1;32m    817\u001b[0m         \u001b[0mself\u001b[0m\u001b[0;34m.\u001b[0m\u001b[0m_io\u001b[0m \u001b[0;34m=\u001b[0m \u001b[0m_stringify_path\u001b[0m\u001b[0;34m(\u001b[0m\u001b[0mio\u001b[0m\u001b[0;34m)\u001b[0m\u001b[0;34m\u001b[0m\u001b[0;34m\u001b[0m\u001b[0m\n\u001b[1;32m    818\u001b[0m \u001b[0;34m\u001b[0m\u001b[0m\n\u001b[0;32m--> 819\u001b[0;31m         \u001b[0mself\u001b[0m\u001b[0;34m.\u001b[0m\u001b[0m_reader\u001b[0m \u001b[0;34m=\u001b[0m \u001b[0mself\u001b[0m\u001b[0;34m.\u001b[0m\u001b[0m_engines\u001b[0m\u001b[0;34m[\u001b[0m\u001b[0mengine\u001b[0m\u001b[0;34m]\u001b[0m\u001b[0;34m(\u001b[0m\u001b[0mself\u001b[0m\u001b[0;34m.\u001b[0m\u001b[0m_io\u001b[0m\u001b[0;34m)\u001b[0m\u001b[0;34m\u001b[0m\u001b[0;34m\u001b[0m\u001b[0m\n\u001b[0m\u001b[1;32m    820\u001b[0m \u001b[0;34m\u001b[0m\u001b[0m\n\u001b[1;32m    821\u001b[0m     \u001b[0;32mdef\u001b[0m \u001b[0m__fspath__\u001b[0m\u001b[0;34m(\u001b[0m\u001b[0mself\u001b[0m\u001b[0;34m)\u001b[0m\u001b[0;34m:\u001b[0m\u001b[0;34m\u001b[0m\u001b[0;34m\u001b[0m\u001b[0m\n",
      "\u001b[0;32m~/miniconda3/envs/rcmip_smb/lib/python3.7/site-packages/pandas/io/excel/_xlrd.py\u001b[0m in \u001b[0;36m__init__\u001b[0;34m(self, filepath_or_buffer)\u001b[0m\n\u001b[1;32m     19\u001b[0m         \u001b[0merr_msg\u001b[0m \u001b[0;34m=\u001b[0m \u001b[0;34m\"Install xlrd >= 1.0.0 for Excel support\"\u001b[0m\u001b[0;34m\u001b[0m\u001b[0;34m\u001b[0m\u001b[0m\n\u001b[1;32m     20\u001b[0m         \u001b[0mimport_optional_dependency\u001b[0m\u001b[0;34m(\u001b[0m\u001b[0;34m\"xlrd\"\u001b[0m\u001b[0;34m,\u001b[0m \u001b[0mextra\u001b[0m\u001b[0;34m=\u001b[0m\u001b[0merr_msg\u001b[0m\u001b[0;34m)\u001b[0m\u001b[0;34m\u001b[0m\u001b[0;34m\u001b[0m\u001b[0m\n\u001b[0;32m---> 21\u001b[0;31m         \u001b[0msuper\u001b[0m\u001b[0;34m(\u001b[0m\u001b[0;34m)\u001b[0m\u001b[0;34m.\u001b[0m\u001b[0m__init__\u001b[0m\u001b[0;34m(\u001b[0m\u001b[0mfilepath_or_buffer\u001b[0m\u001b[0;34m)\u001b[0m\u001b[0;34m\u001b[0m\u001b[0;34m\u001b[0m\u001b[0m\n\u001b[0m\u001b[1;32m     22\u001b[0m \u001b[0;34m\u001b[0m\u001b[0m\n\u001b[1;32m     23\u001b[0m     \u001b[0;34m@\u001b[0m\u001b[0mproperty\u001b[0m\u001b[0;34m\u001b[0m\u001b[0;34m\u001b[0m\u001b[0m\n",
      "\u001b[0;32m~/miniconda3/envs/rcmip_smb/lib/python3.7/site-packages/pandas/io/excel/_base.py\u001b[0m in \u001b[0;36m__init__\u001b[0;34m(self, filepath_or_buffer)\u001b[0m\n\u001b[1;32m    357\u001b[0m             \u001b[0mself\u001b[0m\u001b[0;34m.\u001b[0m\u001b[0mbook\u001b[0m \u001b[0;34m=\u001b[0m \u001b[0mself\u001b[0m\u001b[0;34m.\u001b[0m\u001b[0mload_workbook\u001b[0m\u001b[0;34m(\u001b[0m\u001b[0mfilepath_or_buffer\u001b[0m\u001b[0;34m)\u001b[0m\u001b[0;34m\u001b[0m\u001b[0;34m\u001b[0m\u001b[0m\n\u001b[1;32m    358\u001b[0m         \u001b[0;32melif\u001b[0m \u001b[0misinstance\u001b[0m\u001b[0;34m(\u001b[0m\u001b[0mfilepath_or_buffer\u001b[0m\u001b[0;34m,\u001b[0m \u001b[0mstr\u001b[0m\u001b[0;34m)\u001b[0m\u001b[0;34m:\u001b[0m\u001b[0;34m\u001b[0m\u001b[0;34m\u001b[0m\u001b[0m\n\u001b[0;32m--> 359\u001b[0;31m             \u001b[0mself\u001b[0m\u001b[0;34m.\u001b[0m\u001b[0mbook\u001b[0m \u001b[0;34m=\u001b[0m \u001b[0mself\u001b[0m\u001b[0;34m.\u001b[0m\u001b[0mload_workbook\u001b[0m\u001b[0;34m(\u001b[0m\u001b[0mfilepath_or_buffer\u001b[0m\u001b[0;34m)\u001b[0m\u001b[0;34m\u001b[0m\u001b[0;34m\u001b[0m\u001b[0m\n\u001b[0m\u001b[1;32m    360\u001b[0m         \u001b[0;32melse\u001b[0m\u001b[0;34m:\u001b[0m\u001b[0;34m\u001b[0m\u001b[0;34m\u001b[0m\u001b[0m\n\u001b[1;32m    361\u001b[0m             raise ValueError(\n",
      "\u001b[0;32m~/miniconda3/envs/rcmip_smb/lib/python3.7/site-packages/pandas/io/excel/_xlrd.py\u001b[0m in \u001b[0;36mload_workbook\u001b[0;34m(self, filepath_or_buffer)\u001b[0m\n\u001b[1;32m     34\u001b[0m             \u001b[0;32mreturn\u001b[0m \u001b[0mopen_workbook\u001b[0m\u001b[0;34m(\u001b[0m\u001b[0mfile_contents\u001b[0m\u001b[0;34m=\u001b[0m\u001b[0mdata\u001b[0m\u001b[0;34m)\u001b[0m\u001b[0;34m\u001b[0m\u001b[0;34m\u001b[0m\u001b[0m\n\u001b[1;32m     35\u001b[0m         \u001b[0;32melse\u001b[0m\u001b[0;34m:\u001b[0m\u001b[0;34m\u001b[0m\u001b[0;34m\u001b[0m\u001b[0m\n\u001b[0;32m---> 36\u001b[0;31m             \u001b[0;32mreturn\u001b[0m \u001b[0mopen_workbook\u001b[0m\u001b[0;34m(\u001b[0m\u001b[0mfilepath_or_buffer\u001b[0m\u001b[0;34m)\u001b[0m\u001b[0;34m\u001b[0m\u001b[0;34m\u001b[0m\u001b[0m\n\u001b[0m\u001b[1;32m     37\u001b[0m \u001b[0;34m\u001b[0m\u001b[0m\n\u001b[1;32m     38\u001b[0m     \u001b[0;34m@\u001b[0m\u001b[0mproperty\u001b[0m\u001b[0;34m\u001b[0m\u001b[0;34m\u001b[0m\u001b[0m\n",
      "\u001b[0;32m~/miniconda3/envs/rcmip_smb/lib/python3.7/site-packages/xlrd/__init__.py\u001b[0m in \u001b[0;36mopen_workbook\u001b[0;34m(filename, logfile, verbosity, use_mmap, file_contents, encoding_override, formatting_info, on_demand, ragged_rows)\u001b[0m\n\u001b[1;32m    136\u001b[0m                 \u001b[0mformatting_info\u001b[0m\u001b[0;34m=\u001b[0m\u001b[0mformatting_info\u001b[0m\u001b[0;34m,\u001b[0m\u001b[0;34m\u001b[0m\u001b[0;34m\u001b[0m\u001b[0m\n\u001b[1;32m    137\u001b[0m                 \u001b[0mon_demand\u001b[0m\u001b[0;34m=\u001b[0m\u001b[0mon_demand\u001b[0m\u001b[0;34m,\u001b[0m\u001b[0;34m\u001b[0m\u001b[0;34m\u001b[0m\u001b[0m\n\u001b[0;32m--> 138\u001b[0;31m                 \u001b[0mragged_rows\u001b[0m\u001b[0;34m=\u001b[0m\u001b[0mragged_rows\u001b[0m\u001b[0;34m,\u001b[0m\u001b[0;34m\u001b[0m\u001b[0;34m\u001b[0m\u001b[0m\n\u001b[0m\u001b[1;32m    139\u001b[0m             )\n\u001b[1;32m    140\u001b[0m             \u001b[0;32mreturn\u001b[0m \u001b[0mbk\u001b[0m\u001b[0;34m\u001b[0m\u001b[0;34m\u001b[0m\u001b[0m\n",
      "\u001b[0;32m~/miniconda3/envs/rcmip_smb/lib/python3.7/site-packages/xlrd/xlsx.py\u001b[0m in \u001b[0;36mopen_workbook_2007_xml\u001b[0;34m(zf, component_names, logfile, verbosity, use_mmap, formatting_info, on_demand, ragged_rows)\u001b[0m\n\u001b[1;32m    839\u001b[0m         \u001b[0mx12sheet\u001b[0m \u001b[0;34m=\u001b[0m \u001b[0mX12Sheet\u001b[0m\u001b[0;34m(\u001b[0m\u001b[0msheet\u001b[0m\u001b[0;34m,\u001b[0m \u001b[0mlogfile\u001b[0m\u001b[0;34m,\u001b[0m \u001b[0mverbosity\u001b[0m\u001b[0;34m)\u001b[0m\u001b[0;34m\u001b[0m\u001b[0;34m\u001b[0m\u001b[0m\n\u001b[1;32m    840\u001b[0m         \u001b[0mheading\u001b[0m \u001b[0;34m=\u001b[0m \u001b[0;34m\"Sheet %r (sheetx=%d) from %r\"\u001b[0m \u001b[0;34m%\u001b[0m \u001b[0;34m(\u001b[0m\u001b[0msheet\u001b[0m\u001b[0;34m.\u001b[0m\u001b[0mname\u001b[0m\u001b[0;34m,\u001b[0m \u001b[0msheetx\u001b[0m\u001b[0;34m,\u001b[0m \u001b[0mfname\u001b[0m\u001b[0;34m)\u001b[0m\u001b[0;34m\u001b[0m\u001b[0;34m\u001b[0m\u001b[0m\n\u001b[0;32m--> 841\u001b[0;31m         \u001b[0mx12sheet\u001b[0m\u001b[0;34m.\u001b[0m\u001b[0mprocess_stream\u001b[0m\u001b[0;34m(\u001b[0m\u001b[0mzflo\u001b[0m\u001b[0;34m,\u001b[0m \u001b[0mheading\u001b[0m\u001b[0;34m)\u001b[0m\u001b[0;34m\u001b[0m\u001b[0;34m\u001b[0m\u001b[0m\n\u001b[0m\u001b[1;32m    842\u001b[0m         \u001b[0;32mdel\u001b[0m \u001b[0mzflo\u001b[0m\u001b[0;34m\u001b[0m\u001b[0;34m\u001b[0m\u001b[0m\n\u001b[1;32m    843\u001b[0m \u001b[0;34m\u001b[0m\u001b[0m\n",
      "\u001b[0;32m~/miniconda3/envs/rcmip_smb/lib/python3.7/site-packages/xlrd/xlsx.py\u001b[0m in \u001b[0;36mown_process_stream\u001b[0;34m(self, stream, heading)\u001b[0m\n\u001b[1;32m    546\u001b[0m         \u001b[0mrow_tag\u001b[0m \u001b[0;34m=\u001b[0m \u001b[0mU_SSML12\u001b[0m \u001b[0;34m+\u001b[0m \u001b[0;34m\"row\"\u001b[0m\u001b[0;34m\u001b[0m\u001b[0;34m\u001b[0m\u001b[0m\n\u001b[1;32m    547\u001b[0m         \u001b[0mself_do_row\u001b[0m \u001b[0;34m=\u001b[0m \u001b[0mself\u001b[0m\u001b[0;34m.\u001b[0m\u001b[0mdo_row\u001b[0m\u001b[0;34m\u001b[0m\u001b[0;34m\u001b[0m\u001b[0m\n\u001b[0;32m--> 548\u001b[0;31m         \u001b[0;32mfor\u001b[0m \u001b[0mevent\u001b[0m\u001b[0;34m,\u001b[0m \u001b[0melem\u001b[0m \u001b[0;32min\u001b[0m \u001b[0mET\u001b[0m\u001b[0;34m.\u001b[0m\u001b[0miterparse\u001b[0m\u001b[0;34m(\u001b[0m\u001b[0mstream\u001b[0m\u001b[0;34m)\u001b[0m\u001b[0;34m:\u001b[0m\u001b[0;34m\u001b[0m\u001b[0;34m\u001b[0m\u001b[0m\n\u001b[0m\u001b[1;32m    549\u001b[0m             \u001b[0;32mif\u001b[0m \u001b[0melem\u001b[0m\u001b[0;34m.\u001b[0m\u001b[0mtag\u001b[0m \u001b[0;34m==\u001b[0m \u001b[0mrow_tag\u001b[0m\u001b[0;34m:\u001b[0m\u001b[0;34m\u001b[0m\u001b[0;34m\u001b[0m\u001b[0m\n\u001b[1;32m    550\u001b[0m                 \u001b[0mself_do_row\u001b[0m\u001b[0;34m(\u001b[0m\u001b[0melem\u001b[0m\u001b[0;34m)\u001b[0m\u001b[0;34m\u001b[0m\u001b[0;34m\u001b[0m\u001b[0m\n",
      "\u001b[0;32m~/miniconda3/envs/rcmip_smb/lib/python3.7/xml/etree/ElementTree.py\u001b[0m in \u001b[0;36miterator\u001b[0;34m()\u001b[0m\n\u001b[1;32m   1225\u001b[0m                 \u001b[0;32mif\u001b[0m \u001b[0;32mnot\u001b[0m \u001b[0mdata\u001b[0m\u001b[0;34m:\u001b[0m\u001b[0;34m\u001b[0m\u001b[0;34m\u001b[0m\u001b[0m\n\u001b[1;32m   1226\u001b[0m                     \u001b[0;32mbreak\u001b[0m\u001b[0;34m\u001b[0m\u001b[0;34m\u001b[0m\u001b[0m\n\u001b[0;32m-> 1227\u001b[0;31m                 \u001b[0mpullparser\u001b[0m\u001b[0;34m.\u001b[0m\u001b[0mfeed\u001b[0m\u001b[0;34m(\u001b[0m\u001b[0mdata\u001b[0m\u001b[0;34m)\u001b[0m\u001b[0;34m\u001b[0m\u001b[0;34m\u001b[0m\u001b[0m\n\u001b[0m\u001b[1;32m   1228\u001b[0m             \u001b[0mroot\u001b[0m \u001b[0;34m=\u001b[0m \u001b[0mpullparser\u001b[0m\u001b[0;34m.\u001b[0m\u001b[0m_close_and_return_root\u001b[0m\u001b[0;34m(\u001b[0m\u001b[0;34m)\u001b[0m\u001b[0;34m\u001b[0m\u001b[0;34m\u001b[0m\u001b[0m\n\u001b[1;32m   1229\u001b[0m             \u001b[0;32myield\u001b[0m \u001b[0;32mfrom\u001b[0m \u001b[0mpullparser\u001b[0m\u001b[0;34m.\u001b[0m\u001b[0mread_events\u001b[0m\u001b[0;34m(\u001b[0m\u001b[0;34m)\u001b[0m\u001b[0;34m\u001b[0m\u001b[0;34m\u001b[0m\u001b[0m\n",
      "\u001b[0;32m~/miniconda3/envs/rcmip_smb/lib/python3.7/xml/etree/ElementTree.py\u001b[0m in \u001b[0;36mfeed\u001b[0;34m(self, data)\u001b[0m\n\u001b[1;32m   1267\u001b[0m         \u001b[0;32mif\u001b[0m \u001b[0mdata\u001b[0m\u001b[0;34m:\u001b[0m\u001b[0;34m\u001b[0m\u001b[0;34m\u001b[0m\u001b[0m\n\u001b[1;32m   1268\u001b[0m             \u001b[0;32mtry\u001b[0m\u001b[0;34m:\u001b[0m\u001b[0;34m\u001b[0m\u001b[0;34m\u001b[0m\u001b[0m\n\u001b[0;32m-> 1269\u001b[0;31m                 \u001b[0mself\u001b[0m\u001b[0;34m.\u001b[0m\u001b[0m_parser\u001b[0m\u001b[0;34m.\u001b[0m\u001b[0mfeed\u001b[0m\u001b[0;34m(\u001b[0m\u001b[0mdata\u001b[0m\u001b[0;34m)\u001b[0m\u001b[0;34m\u001b[0m\u001b[0;34m\u001b[0m\u001b[0m\n\u001b[0m\u001b[1;32m   1270\u001b[0m             \u001b[0;32mexcept\u001b[0m \u001b[0mSyntaxError\u001b[0m \u001b[0;32mas\u001b[0m \u001b[0mexc\u001b[0m\u001b[0;34m:\u001b[0m\u001b[0;34m\u001b[0m\u001b[0;34m\u001b[0m\u001b[0m\n\u001b[1;32m   1271\u001b[0m                 \u001b[0mself\u001b[0m\u001b[0;34m.\u001b[0m\u001b[0m_events_queue\u001b[0m\u001b[0;34m.\u001b[0m\u001b[0mappend\u001b[0m\u001b[0;34m(\u001b[0m\u001b[0mexc\u001b[0m\u001b[0;34m)\u001b[0m\u001b[0;34m\u001b[0m\u001b[0;34m\u001b[0m\u001b[0m\n",
      "\u001b[0;32m~/miniconda3/envs/rcmip_smb/lib/python3.7/xml/etree/ElementTree.py\u001b[0m in \u001b[0;36mfeed\u001b[0;34m(self, data)\u001b[0m\n\u001b[1;32m   1628\u001b[0m         \u001b[0;34m\"\"\"Feed encoded data to parser.\"\"\"\u001b[0m\u001b[0;34m\u001b[0m\u001b[0;34m\u001b[0m\u001b[0m\n\u001b[1;32m   1629\u001b[0m         \u001b[0;32mtry\u001b[0m\u001b[0;34m:\u001b[0m\u001b[0;34m\u001b[0m\u001b[0;34m\u001b[0m\u001b[0m\n\u001b[0;32m-> 1630\u001b[0;31m             \u001b[0mself\u001b[0m\u001b[0;34m.\u001b[0m\u001b[0mparser\u001b[0m\u001b[0;34m.\u001b[0m\u001b[0mParse\u001b[0m\u001b[0;34m(\u001b[0m\u001b[0mdata\u001b[0m\u001b[0;34m,\u001b[0m \u001b[0;36m0\u001b[0m\u001b[0;34m)\u001b[0m\u001b[0;34m\u001b[0m\u001b[0;34m\u001b[0m\u001b[0m\n\u001b[0m\u001b[1;32m   1631\u001b[0m         \u001b[0;32mexcept\u001b[0m \u001b[0mself\u001b[0m\u001b[0;34m.\u001b[0m\u001b[0m_error\u001b[0m \u001b[0;32mas\u001b[0m \u001b[0mv\u001b[0m\u001b[0;34m:\u001b[0m\u001b[0;34m\u001b[0m\u001b[0;34m\u001b[0m\u001b[0m\n\u001b[1;32m   1632\u001b[0m             \u001b[0mself\u001b[0m\u001b[0;34m.\u001b[0m\u001b[0m_raiseerror\u001b[0m\u001b[0;34m(\u001b[0m\u001b[0mv\u001b[0m\u001b[0;34m)\u001b[0m\u001b[0;34m\u001b[0m\u001b[0;34m\u001b[0m\u001b[0m\n",
      "\u001b[0;32m/home/conda/feedstock_root/build_artifacts/python_1578433408510/work/Modules/pyexpat.c\u001b[0m in \u001b[0;36mEndElement\u001b[0;34m()\u001b[0m\n",
      "\u001b[0;32m~/miniconda3/envs/rcmip_smb/lib/python3.7/xml/etree/ElementTree.py\u001b[0m in \u001b[0;36mhandler\u001b[0;34m(tag, event, append, end)\u001b[0m\n\u001b[1;32m   1510\u001b[0m                 \u001b[0mparser\u001b[0m\u001b[0;34m.\u001b[0m\u001b[0mStartElementHandler\u001b[0m \u001b[0;34m=\u001b[0m \u001b[0mhandler\u001b[0m\u001b[0;34m\u001b[0m\u001b[0;34m\u001b[0m\u001b[0m\n\u001b[1;32m   1511\u001b[0m             \u001b[0;32melif\u001b[0m \u001b[0mevent_name\u001b[0m \u001b[0;34m==\u001b[0m \u001b[0;34m\"end\"\u001b[0m\u001b[0;34m:\u001b[0m\u001b[0;34m\u001b[0m\u001b[0;34m\u001b[0m\u001b[0m\n\u001b[0;32m-> 1512\u001b[0;31m                 def handler(tag, event=event_name, append=append,\n\u001b[0m\u001b[1;32m   1513\u001b[0m                             end=self._end):\n\u001b[1;32m   1514\u001b[0m                     \u001b[0mappend\u001b[0m\u001b[0;34m(\u001b[0m\u001b[0;34m(\u001b[0m\u001b[0mevent\u001b[0m\u001b[0;34m,\u001b[0m \u001b[0mend\u001b[0m\u001b[0;34m(\u001b[0m\u001b[0mtag\u001b[0m\u001b[0;34m)\u001b[0m\u001b[0;34m)\u001b[0m\u001b[0;34m)\u001b[0m\u001b[0;34m\u001b[0m\u001b[0;34m\u001b[0m\u001b[0m\n",
      "\u001b[0;31mKeyboardInterrupt\u001b[0m: "
     ]
    },
    {
     "data": {
      "application/javascript": [
       "\n",
       "            setTimeout(function() {\n",
       "                var nbb_cell_id = 23;\n",
       "                var nbb_formatted_code = \"db = []\\nfor rf in tqdm.tqdm_notebook(results_files):\\n    if rf.endswith(\\\".csv\\\"):\\n        loaded = ScmDataFrame(rf)\\n    else:\\n        loaded = ScmDataFrame(rf, sheet_name=\\\"your_data\\\")\\n    db.append(loaded)\\n\\ndb = df_append(db).timeseries().reset_index()\\ndb[\\\"unit\\\"] = db[\\\"unit\\\"].apply(\\n    lambda x: x.replace(\\\"Dimensionless\\\", \\\"dimensionless\\\") if isinstance(x, str) else x\\n)\\ndb = ScmDataFrame(db)\\ndb.head()\";\n",
       "                var nbb_cells = Jupyter.notebook.get_cells();\n",
       "                for (var i = 0; i < nbb_cells.length; ++i) {\n",
       "                    if (nbb_cells[i].input_prompt_number == nbb_cell_id) {\n",
       "                        nbb_cells[i].set_text(nbb_formatted_code);\n",
       "                        break;\n",
       "                    }\n",
       "                }\n",
       "            }, 500);\n",
       "            "
      ],
      "text/plain": [
       "<IPython.core.display.Javascript object>"
      ]
     },
     "metadata": {},
     "output_type": "display_data"
    }
   ],
   "source": [
    "db = []\n",
    "for rf in tqdm.tqdm_notebook(results_files):\n",
    "    if rf.endswith(\".csv\"):\n",
    "        loaded = ScmDataFrame(rf)\n",
    "    else:\n",
    "        loaded = ScmDataFrame(rf, sheet_name=\"your_data\")\n",
    "    db.append(loaded)\n",
    "\n",
    "db = df_append(db).timeseries().reset_index()\n",
    "db[\"unit\"] = db[\"unit\"].apply(\n",
    "    lambda x: x.replace(\"Dimensionless\", \"dimensionless\") if isinstance(x, str) else x\n",
    ")\n",
    "db = ScmDataFrame(db)\n",
    "db.head()"
   ]
  },
  {
   "cell_type": "code",
   "execution_count": null,
   "metadata": {},
   "outputs": [],
   "source": [
    "db.filter(climatemodel=\"*cicero*\").head()"
   ]
  },
  {
   "cell_type": "code",
   "execution_count": null,
   "metadata": {},
   "outputs": [],
   "source": [
    "db[\"climatemodel\"].unique()"
   ]
  },
  {
   "cell_type": "markdown",
   "metadata": {},
   "source": [
    "### Minor quick fixes"
   ]
  },
  {
   "cell_type": "markdown",
   "metadata": {},
   "source": [
    "We relabel all the ssp370-lowNTCF data to remove ambiguity."
   ]
  },
  {
   "cell_type": "code",
   "execution_count": null,
   "metadata": {},
   "outputs": [],
   "source": [
    "db = db.timeseries().reset_index()\n",
    "db[\"scenario\"] = db[\"scenario\"].apply(\n",
    "    lambda x: \"ssp370-lowNTCF-gidden\" if x == \"ssp370-lowNTCF\" else x\n",
    ")\n",
    "db[\"scenario\"] = db[\"scenario\"].apply(\n",
    "    lambda x: \"esm-ssp370-lowNTCF-gidden\" if x == \"esm-ssp370-lowNTCF\" else x\n",
    ")\n",
    "db[\"scenario\"] = db[\"scenario\"].apply(\n",
    "    lambda x: \"esm-ssp370-lowNTCF-gidden-allGHG\"\n",
    "    if x == \"esm-ssp370-lowNTCF-allGHG\"\n",
    "    else x\n",
    ")\n",
    "db = ScmDataFrame(db)"
   ]
  },
  {
   "cell_type": "code",
   "execution_count": null,
   "metadata": {},
   "outputs": [],
   "source": [
    "assert \"ssp370-lowNTCF\" not in db[\"scenario\"].unique().tolist()\n",
    "assert \"esm-ssp370-lowNTCF\" not in db[\"scenario\"].unique().tolist()\n",
    "assert \"esm-ssp370-lowNTCF-allGHG\" not in db[\"scenario\"].unique().tolist()"
   ]
  },
  {
   "cell_type": "markdown",
   "metadata": {},
   "source": [
    "The Hector and MCE data is mislabelled so we do a quick fix here. I also have changed my mind about how to format the quantiles so tweak the FaIR and WASP data too. TODO: email modelling groups so they can fix it for phase 2."
   ]
  },
  {
   "cell_type": "code",
   "execution_count": null,
   "metadata": {},
   "outputs": [],
   "source": [
    "mce_prob_data = db.filter(climatemodel=\"MCE*PROB*\")\n",
    "mce_prob_data[\"climatemodel\"].unique()\n",
    "if not mce_prob_data.timeseries().empty:\n",
    "    mce_prob_data = mce_prob_data.timeseries().reset_index()\n",
    "\n",
    "    mce_prob_data[\"variable\"] = (\n",
    "        mce_prob_data[\"variable\"]\n",
    "        + \"|\"\n",
    "        + mce_prob_data[\"climatemodel\"].apply(mce_get_quantile)\n",
    "        + \"th quantile\"\n",
    "    )\n",
    "\n",
    "    mce_prob_data[\"climatemodel\"] = mce_prob_data[\"climatemodel\"].apply(\n",
    "        lambda x: \"-\".join(x.split(\"-\")[:-1])\n",
    "    )\n",
    "\n",
    "    db = db.filter(climatemodel=\"MCE*PROB*\", keep=False).append(mce_prob_data)\n",
    "\n",
    "db.filter(climatemodel=\"MCE*PROB\").head(10)"
   ]
  },
  {
   "cell_type": "code",
   "execution_count": null,
   "metadata": {},
   "outputs": [],
   "source": [
    "hector_prob_data = db.filter(climatemodel=\"hector*HISTCALIB*\")\n",
    "if not hector_prob_data.timeseries().empty:\n",
    "    hector_prob_data = hector_prob_data.timeseries().reset_index()\n",
    "\n",
    "    hector_prob_data[\"variable\"] = (\n",
    "        hector_prob_data[\"variable\"]\n",
    "        + \"|\"\n",
    "        + hector_prob_data[\"climatemodel\"].apply(hector_get_quantile)\n",
    "    )\n",
    "\n",
    "    hector_prob_data[\"climatemodel\"] = hector_prob_data[\"climatemodel\"].apply(\n",
    "        lambda x: x.split(\"-\")[0]\n",
    "    )\n",
    "\n",
    "    db = db.filter(climatemodel=\"hector*HISTCALIB*\", keep=False).append(\n",
    "        hector_prob_data\n",
    "    )\n",
    "\n",
    "db.filter(climatemodel=\"hector*HISTCALIB\").head(10)"
   ]
  },
  {
   "cell_type": "code",
   "execution_count": null,
   "metadata": {},
   "outputs": [],
   "source": [
    "fair_prob_data = db.filter(climatemodel=\"*FaIR*\")\n",
    "if not fair_prob_data.timeseries().empty:\n",
    "    fair_prob_data = fair_prob_data.timeseries().reset_index()\n",
    "\n",
    "    fair_prob_data[\"variable\"] = fair_prob_data[\"variable\"].apply(\n",
    "        lambda x: x.replace(\"|00th\", \"|0th\").replace(\"|05th\", \"|5th\")\n",
    "    )\n",
    "\n",
    "    db = db.filter(climatemodel=\"*FaIR*\", keep=False).append(\n",
    "        ScmDataFrame(fair_prob_data)\n",
    "    )\n",
    "\n",
    "db.filter(climatemodel=\"*FaIR*\").head(10)"
   ]
  },
  {
   "cell_type": "code",
   "execution_count": null,
   "metadata": {},
   "outputs": [],
   "source": [
    "wasp_prob_data = db.filter(climatemodel=\"*WASP*\")\n",
    "if not wasp_prob_data.timeseries().empty:\n",
    "    wasp_prob_data = wasp_prob_data.timeseries().reset_index()\n",
    "\n",
    "    wasp_prob_data[\"variable\"] = wasp_prob_data[\"variable\"].apply(\n",
    "        lambda x: x.replace(\"|00th\", \"|0th\").replace(\"|05th\", \"|5th\")\n",
    "    )\n",
    "\n",
    "    db = db.filter(climatemodel=\"*WASP*\", keep=False).append(\n",
    "        ScmDataFrame(wasp_prob_data)\n",
    "    )\n",
    "\n",
    "db.filter(climatemodel=\"*WASP*\").head(10)"
   ]
  },
  {
   "cell_type": "markdown",
   "metadata": {},
   "source": [
    "## Unify units and check names\n",
    "\n",
    "Here we loop over the submissions and unify their units as well as checking their naming matches what we expect."
   ]
  },
  {
   "cell_type": "code",
   "execution_count": null,
   "metadata": {},
   "outputs": [],
   "source": [
    "base_df = db.timeseries()\n",
    "any_failures = False\n",
    "\n",
    "clean_db = []\n",
    "for climatemodel, cdf in tqdm.tqdm_notebook(\n",
    "    base_df.groupby(\"climatemodel\"), desc=\"Climate model\"\n",
    "):\n",
    "    print(climatemodel)\n",
    "    print(\"-\" * len(climatemodel))\n",
    "\n",
    "    any_failures_climatemodel = False\n",
    "\n",
    "    cdf = ScmDataFrame(cdf)\n",
    "    cdf_converted_units = unify_units(cdf, protocol_variables)\n",
    "    try:\n",
    "        check_all_scenarios_as_in_protocol(cdf_converted_units, protocol_scenarios)\n",
    "        check_all_variables_and_units_as_in_protocol(\n",
    "            cdf_converted_units, protocol_variables\n",
    "        )\n",
    "    except AssertionError as e:\n",
    "        print(e)\n",
    "        any_failures_climatemodel = True\n",
    "    #     # currently not possible as groups weren't told to obey variable hierarchy,\n",
    "    #     # add this in phase 2\n",
    "    #     for v_top in cdf_converted_units.filter(level=0)[\"variable\"].unique():\n",
    "    #         print(v_top)\n",
    "    #         cdf_pyam = cdf_converted_units.filter(variable=\"{}*\".format(v_top)).timeseries()\n",
    "    #         cdf_pyam.columns = cdf_pyam.columns.map(lambda x: x.year)\n",
    "\n",
    "    #         cdf_consistency_checker = pyam.IamDataFrame(cdf_pyam)\n",
    "    #         if cdf_consistency_checker.check_internal_consistency() is not None:\n",
    "    #             print(\"Failed for {}\".format(v_top))\n",
    "    #             any_failures_climatemodel = True\n",
    "    #             failing_set = cdf_consistency_checker.copy()\n",
    "\n",
    "    print()\n",
    "    if not any_failures_climatemodel:\n",
    "        clean_db.append(cdf_converted_units)\n",
    "        print(\"All clear for {}\".format(climatemodel))\n",
    "    else:\n",
    "        print(\"Failed {}\".format(climatemodel))\n",
    "        print(\"X\" * len(\"Failed\"))\n",
    "        any_failures = True\n",
    "\n",
    "    print()\n",
    "    print()\n",
    "\n",
    "if any_failures:\n",
    "    raise AssertionError(\"database isn't ready yet\")\n",
    "else:\n",
    "    clean_db = df_append(clean_db)\n",
    "    clean_db.head()"
   ]
  },
  {
   "cell_type": "code",
   "execution_count": null,
   "metadata": {},
   "outputs": [],
   "source": [
    "clean_db.head()"
   ]
  },
  {
   "cell_type": "markdown",
   "metadata": {},
   "source": [
    "Notes whilst doing this:\n",
    "\n",
    "- I wasn't clear that the variable hierarchy needs to be obeyed, hence doing internal consistency checks isn't going to work\n",
    "\n",
    "For phase 2:\n",
    "\n",
    "- checking internal consistency super slow, worth looping over top level variables when doing this to speed up filtering\n",
    "- need to decide what a sensible tolerance is\n",
    "- might have to go back to model notes to work out why there are inconsistencies\n",
    "- will have to implement a custom hack to deal with the double counting in the direct aerosol forcing hierarchy"
   ]
  },
  {
   "cell_type": "markdown",
   "metadata": {},
   "source": [
    "## Creating a database"
   ]
  },
  {
   "cell_type": "code",
   "execution_count": null,
   "metadata": {},
   "outputs": [],
   "source": [
    "save_into_database(clean_db, OUTPUT_DATABASE_PATH, \"rcmip-phase-1\")"
   ]
  },
  {
   "cell_type": "code",
   "execution_count": null,
   "metadata": {},
   "outputs": [],
   "source": []
  }
 ],
 "metadata": {
  "jupytext": {
   "text_representation": {
    "extension": ".py",
    "format_name": "percent",
    "format_version": "1.3",
    "jupytext_version": "1.3.3"
   }
  },
  "kernelspec": {
   "display_name": "Python 3",
   "language": "python",
   "name": "python3"
  },
  "language_info": {
   "codemirror_mode": {
    "name": "ipython",
    "version": 3
   },
   "file_extension": ".py",
   "mimetype": "text/x-python",
   "name": "python",
   "nbconvert_exporter": "python",
   "pygments_lexer": "ipython3",
   "version": "3.7.6"
  }
 },
 "nbformat": 4,
 "nbformat_minor": 4
}
