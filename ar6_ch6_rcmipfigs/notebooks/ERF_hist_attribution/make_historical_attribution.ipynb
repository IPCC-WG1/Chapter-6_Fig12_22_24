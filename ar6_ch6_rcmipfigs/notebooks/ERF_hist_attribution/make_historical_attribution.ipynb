{
 "cells": [
  {
   "cell_type": "markdown",
   "metadata": {},
   "source": [
    "## Make plot ERF 2019"
   ]
  },
  {
   "cell_type": "code",
   "execution_count": 1,
   "metadata": {
    "lines_to_next_cell": 2
   },
   "outputs": [
    {
     "data": {
      "application/javascript": [
       "IPython.OutputArea.prototype._should_scroll = function(lines) { return false; }"
      ],
      "text/plain": [
       "<IPython.core.display.Javascript object>"
      ]
     },
     "metadata": {},
     "output_type": "display_data"
    },
    {
     "name": "stdout",
     "output_type": "stream",
     "text": [
      "/home/sarambl/PHD/IPCC/public/AR6_CH6_RCMIPFIGSv2/ar6_ch6_rcmipfigs\n",
      "/home/sarambl/PHD/IPCC/public/AR6_CH6_RCMIPFIGSv2/ar6_ch6_rcmipfigs/data_in\n",
      "hallo\n"
     ]
    }
   ],
   "source": [
    "import pandas as pd\n",
    "import numpy.testing\n",
    "from numpy.testing import assert_allclose\n",
    "from ar6_ch6_rcmipfigs.utils.plot import get_chem_col\n",
    "from ar6_ch6_rcmipfigs.constants import RESULTS_DIR, INPUT_DATA_DIR\n",
    "from pathlib import  Path\n",
    "import numpy as np\n",
    "import matplotlib.pyplot as plt"
   ]
  },
  {
   "cell_type": "markdown",
   "metadata": {},
   "source": [
    "## Get tables from script from Bill"
   ]
  },
  {
   "cell_type": "code",
   "execution_count": 2,
   "metadata": {},
   "outputs": [],
   "source": [
    "from ar6_ch6_rcmipfigs.notebooks.ERF_hist_attribution import attribution_1750_2019_v2_smb"
   ]
  },
  {
   "cell_type": "code",
   "execution_count": 3,
   "metadata": {},
   "outputs": [
    {
     "name": "stderr",
     "output_type": "stream",
     "text": [
      "/home/sarambl/PHD/IPCC/public/AR6_CH6_RCMIPFIGSv2/ar6_ch6_rcmipfigs/notebooks/ERF_hist_attribution/attribution_1750_2019_v2_smb.py:92: RuntimeWarning: invalid value encountered in true_divide\n",
      "  ch4_sd = (ch4-ch4_2014)*lifech4_sd/lifech4\n"
     ]
    },
    {
     "name": "stdout",
     "output_type": "stream",
     "text": [
      "[2.05755418 0.         0.         0.         0.         0.\n",
      " 0.         0.         0.         0.        ]\n",
      "(0.9568627450980393, 0.796078431372549, 0.21176470588235294)\n",
      "(0.30980392156862746, 0.3215686274509804, 0.7176470588235294)\n",
      "(1.0, 0.4196078431372549, 0.07450980392156863)\n",
      "(0.5254901960784314, 0.7803921568627451, 0.29411764705882354)\n",
      "(0.47843137254901963, 0.5058823529411764, 0.5058823529411764)\n",
      "(0.792156862745098, 0.6980392156862745, 0.8392156862745098)\n",
      "(0.5607843137254902, 0.0, 0.6470588235294118)\n",
      "(1.0, 0.4196078431372549, 0.07450980392156863)\n",
      "(0.5254901960784314, 0.7803921568627451, 0.29411764705882354)\n",
      "(0.792156862745098, 0.6980392156862745, 0.8392156862745098)\n",
      "(0.5607843137254902, 0.0, 0.6470588235294118)\n"
     ]
    },
    {
     "data": {
      "image/png": "[encoded data removed]",
      "text/plain": [
       "<Figure size 432x288 with 1 Axes>"
      ]
     },
     "metadata": {
      "needs_background": "light"
     },
     "output_type": "display_data"
    }
   ],
   "source": [
    "table, table_sd = attribution_1750_2019_v2_smb.main(plot=True)"
   ]
  },
  {
   "cell_type": "code",
   "execution_count": 4,
   "metadata": {},
   "outputs": [
    {
     "data": {
      "text/plain": [
       "CO2             2.144647\n",
       "GHG             0.620000\n",
       "CH4_lifetime    0.540000\n",
       "O3              0.480930\n",
       "O3_prime       -0.010930\n",
       "Strat_H2O       0.050000\n",
       "Aerosol        -0.220000\n",
       "Cloud          -0.803708\n",
       "Total           2.800939\n",
       "dtype: float64"
      ]
     },
     "execution_count": 4,
     "metadata": {},
     "output_type": "execute_result"
    }
   ],
   "source": [
    "table.sum()#_sd"
   ]
  },
  {
   "cell_type": "code",
   "execution_count": 5,
   "metadata": {},
   "outputs": [],
   "source": [
    "import matplotlib.pyplot as plt\n",
    "import numpy as np"
   ]
  },
  {
   "cell_type": "markdown",
   "metadata": {},
   "source": [
    "## Scale cloud forcing to fit mest estimate 0.84"
   ]
  },
  {
   "cell_type": "code",
   "execution_count": 6,
   "metadata": {},
   "outputs": [
    {
     "data": {
      "text/plain": [
       "-0.803708333"
      ]
     },
     "execution_count": 6,
     "metadata": {},
     "output_type": "execute_result"
    }
   ],
   "source": [
    "table.sum()['Cloud']"
   ]
  },
  {
   "cell_type": "code",
   "execution_count": 7,
   "metadata": {},
   "outputs": [
    {
     "ename": "NameError",
     "evalue": "name 'correct_cloud_forcing' is not defined",
     "output_type": "error",
     "traceback": [
      "\u001b[0;31m---------------------------------------------------------------------------\u001b[0m",
      "\u001b[0;31mNameError\u001b[0m                                 Traceback (most recent call last)",
      "\u001b[0;32m<ipython-input-7-9bdecefaffc6>\u001b[0m in \u001b[0;36m<module>\u001b[0;34m\u001b[0m\n\u001b[0;32m----> 1\u001b[0;31m \u001b[0;34m(\u001b[0m\u001b[0mcorrect_cloud_forcing\u001b[0m\u001b[0;34m*\u001b[0m\u001b[0mtable\u001b[0m\u001b[0;34m[\u001b[0m\u001b[0;34m'Cloud'\u001b[0m\u001b[0;34m]\u001b[0m\u001b[0;34m.\u001b[0m\u001b[0msum\u001b[0m\u001b[0;34m(\u001b[0m\u001b[0;34m)\u001b[0m\u001b[0;34m)\u001b[0m\u001b[0;31m#.sum()\u001b[0m\u001b[0;34m\u001b[0m\u001b[0;34m\u001b[0m\u001b[0m\n\u001b[0m",
      "\u001b[0;31mNameError\u001b[0m: name 'correct_cloud_forcing' is not defined"
     ]
    }
   ],
   "source": [
    "(correct_cloud_forcing*table['Cloud'].sum())#.sum()"
   ]
  },
  {
   "cell_type": "code",
   "execution_count": null,
   "metadata": {},
   "outputs": [],
   "source": [
    "table_c = table.copy()\n",
    "correct_cloud_forcing = -0.84\n",
    "scale_fac = correct_cloud_forcing/table.sum()['Cloud']\n",
    "table_c['Cloud']=scale_fac*table['Cloud']\n",
    "table_c.sum()\n"
   ]
  },
  {
   "cell_type": "markdown",
   "metadata": {},
   "source": [
    "## Add together O3 primary and O3"
   ]
  },
  {
   "cell_type": "code",
   "execution_count": null,
   "metadata": {},
   "outputs": [],
   "source": [
    "o3_sum = table_c['O3']+table_c['O3_prime']\n",
    "tab2 = table_c.copy(deep=True).drop(['O3','O3_prime','Total'], axis=1)\n",
    "tab2['O3'] = o3_sum"
   ]
  },
  {
   "cell_type": "markdown",
   "metadata": {},
   "source": [
    "## Replace GHG with N2O and HC"
   ]
  },
  {
   "cell_type": "code",
   "execution_count": null,
   "metadata": {},
   "outputs": [],
   "source": [
    "table_ed = tab2.copy(deep=True)\n",
    "_ghg = tab2.loc['HC','GHG']\n",
    "table_ed.loc['HC','GHG'] = 0\n",
    "table_ed['HC'] = 0\n",
    "table_ed.loc['HC','HC']=_ghg\n",
    "table_ed\n",
    "_ghg = tab2.loc['N2O','GHG']\n",
    "table_ed.loc['N2O','GHG'] = 0\n",
    "table_ed['N2O']=0\n",
    "table_ed.loc['N2O','N2O']=_ghg\n",
    "table_ed = table_ed.drop('GHG', axis=1)\n",
    "table_ed"
   ]
  },
  {
   "cell_type": "markdown",
   "metadata": {},
   "source": [
    " No need to fix std because we only use the total (which is not influenced by the summation above). "
   ]
  },
  {
   "cell_type": "code",
   "execution_count": null,
   "metadata": {},
   "outputs": [],
   "source": [
    "table_sd"
   ]
  },
  {
   "cell_type": "markdown",
   "metadata": {},
   "source": [
    "Write tables to file."
   ]
  },
  {
   "cell_type": "code",
   "execution_count": null,
   "metadata": {},
   "outputs": [],
   "source": [
    "table_ed.to_csv(RESULTS_DIR/'tables_historic_attribution/table_mean_smb_orignames.csv')\n",
    "table_sd.to_csv(RESULTS_DIR/'tables_historic_attribution/table_std_smb_orignames.csv')"
   ]
  },
  {
   "cell_type": "code",
   "execution_count": null,
   "metadata": {},
   "outputs": [],
   "source": [
    "from ar6_ch6_rcmipfigs.utils.plot import get_chem_col"
   ]
  },
  {
   "cell_type": "markdown",
   "metadata": {},
   "source": [
    "Variables in the rigth order:"
   ]
  },
  {
   "cell_type": "code",
   "execution_count": null,
   "metadata": {},
   "outputs": [],
   "source": [
    "varn = ['co2','N2O','HC','ch4','o3','H2O_strat','ari','aci']\n",
    "var_dir = ['CO2','N2O','HC','CH4_lifetime','O3','Strat_H2O','Aerosol','Cloud']"
   ]
  },
  {
   "cell_type": "markdown",
   "metadata": {},
   "source": [
    "Colors:"
   ]
  },
  {
   "cell_type": "code",
   "execution_count": null,
   "metadata": {},
   "outputs": [],
   "source": [
    "cols = [get_chem_col(var) for var in varn]"
   ]
  },
  {
   "cell_type": "markdown",
   "metadata": {},
   "source": [
    "## Uncertainty:"
   ]
  },
  {
   "cell_type": "markdown",
   "metadata": {},
   "source": [
    "We have the standard deviation, but would like the use the standard error of the mean AND we would like to calculate the 5-95th percentile. "
   ]
  },
  {
   "cell_type": "markdown",
   "metadata": {},
   "source": [
    "We have the standard deviation (as far as I can tell, not the unbiased one)"
   ]
  },
  {
   "cell_type": "markdown",
   "metadata": {},
   "source": [
    "$\\sigma=\\sqrt {\\frac {\\sum _{i=1}^{n}(x_{i}-{\\overline {x}})^{2}}{n}}$"
   ]
  },
  {
   "cell_type": "markdown",
   "metadata": {},
   "source": [
    "The unbiased estimator would be:"
   ]
  },
  {
   "cell_type": "markdown",
   "metadata": {},
   "source": [
    "$s=\\sqrt {\\frac {\\sum _{i=1}^{n}(x_{i}-{\\overline {x}})^{2}}{n-1}} = \\sigma \\cdot \\sqrt{ \\frac{n}{n-1}}$"
   ]
  },
  {
   "cell_type": "markdown",
   "metadata": {},
   "source": [
    "The standard error is:\n",
    "\n",
    "$SE = \\frac{\\sigma}{n}$"
   ]
  },
  {
   "cell_type": "markdown",
   "metadata": {},
   "source": [
    "Finally, we want 5-95th percentile. Assuming normal distribution, this amounts to multiplying the standard error by 1.645"
   ]
  },
  {
   "cell_type": "code",
   "execution_count": null,
   "metadata": {},
   "outputs": [],
   "source": [
    "std_2_95th = 1.645"
   ]
  },
  {
   "cell_type": "code",
   "execution_count": null,
   "metadata": {},
   "outputs": [],
   "source": [
    "import pandas as pd\n",
    "num_mod_lab = 'Number of models (Thornhill 2020)'\n",
    "thornhill = pd.read_csv(INPUT_DATA_DIR/'table2_thornhill2020.csv', index_col=0)\n",
    "thornhill.index = thornhill.index.rename('Species')\n",
    "thornhill"
   ]
  },
  {
   "cell_type": "markdown",
   "metadata": {},
   "source": [
    "![](thornhill.jpg)"
   ]
  },
  {
   "cell_type": "code",
   "execution_count": null,
   "metadata": {},
   "outputs": [],
   "source": [
    "sd_tot = table_sd['Total_sd']\n",
    "df_err= pd.DataFrame(sd_tot.rename('std'))\n",
    "df_err['SE'] = df_err\n",
    "\n",
    "df_err['SE'] = df_err['std']/np.sqrt(thornhill[num_mod_lab])\n",
    "df_err['95-50_SE'] = df_err['SE']*std_2_95th\n",
    "df_err.loc['CO2','95-50_SE']= df_err.loc['CO2','std']\n",
    "df_err\n",
    "\n",
    "df_err['95-50'] = df_err['std']*std_2_95th\n",
    "df_err.loc['CO2','95-50']= df_err.loc['CO2','std']\n",
    "df_err"
   ]
  },
  {
   "cell_type": "markdown",
   "metadata": {},
   "source": [
    "## Rename some variables"
   ]
  },
  {
   "cell_type": "code",
   "execution_count": null,
   "metadata": {},
   "outputs": [],
   "source": [
    "rename_dic_cat = {\n",
    "    'CO2':'Carbon dioxide (CO$_2$)',\n",
    "    'GHG':'WMGHG',\n",
    "    'CH4_lifetime': 'Methane (CH$_4$)',\n",
    "    'O3': 'Ozone (O$_3$)',\n",
    "    'Strat_H2O':'H$_2$O (strat)',\n",
    "    'Aerosol':'Aerosol-radiation',\n",
    "    'Cloud':'Aerosol-cloud',\n",
    "    'N2O':'N$_2$O',\n",
    "    'HC':'CFC + HCFC',\n",
    "\n",
    "}\n",
    "rename_dic_cols ={\n",
    "    'CO2':'CO$_2$',\n",
    "    'CH4':'CH$_4$',\n",
    "    'N2O':'N$_2$O',\n",
    "    'HC':'CFC + HCFC',\n",
    "    'NOx':'NO$_x$',\n",
    "    'VOC':'NMVOC + CO',\n",
    "    'SO2':'SO$_2$',\n",
    "    'OC':'Organic carbon',\n",
    "    'BC':'Black carbon',\n",
    "    'NH3':'Ammonia'\n",
    "}\n",
    "tab_plt = table_ed.loc[::-1,var_dir].rename(rename_dic_cat, axis=1).rename(rename_dic_cols, axis=0)\n",
    "tab_plt"
   ]
  },
  {
   "cell_type": "code",
   "execution_count": null,
   "metadata": {
    "lines_to_next_cell": 2
   },
   "outputs": [],
   "source": [
    "fn_sd = RESULTS_DIR/'tables_historic_attribution/table_uncertainties_smb_plt.csv'\n",
    "fn_mean = RESULTS_DIR/'tables_historic_attribution/table_mean_smb_plt.csv'"
   ]
  },
  {
   "cell_type": "code",
   "execution_count": null,
   "metadata": {},
   "outputs": [],
   "source": [
    "df_err = df_err.rename(rename_dic_cols, axis=0)\n",
    "df_err.to_csv(fn_sd)\n",
    "tab_plt.to_csv(fn_mean)"
   ]
  },
  {
   "cell_type": "code",
   "execution_count": null,
   "metadata": {
    "lines_to_next_cell": 2
   },
   "outputs": [],
   "source": [
    "width = 0.7\n",
    "kwargs = {'linewidth':.1,'edgecolor':'k'}"
   ]
  },
  {
   "cell_type": "code",
   "execution_count": null,
   "metadata": {},
   "outputs": [],
   "source": [
    "import seaborn as sns"
   ]
  },
  {
   "cell_type": "code",
   "execution_count": null,
   "metadata": {},
   "outputs": [],
   "source": [
    "ybar = np.arange(len(tab_plt)+1)#, -1)\n",
    "ybar"
   ]
  },
  {
   "cell_type": "code",
   "execution_count": null,
   "metadata": {},
   "outputs": [],
   "source": [
    "table_ed.sum(axis=0)"
   ]
  },
  {
   "cell_type": "code",
   "execution_count": null,
   "metadata": {
    "lines_to_next_cell": 2
   },
   "outputs": [],
   "source": [
    "fig, ax = plt.subplots(dpi=150)#figsize=[10,10])\n",
    "\n",
    "\n",
    "tab_plt.plot.barh(stacked=True, color=cols, linewidth=.0, edgecolor='k',ax=ax, width=width)\n",
    "tot = table_ed.sum(axis=1)[::-1]#table_ed['Total'][::-1]\n",
    "xerr = df_err['95-50'][::-1]\n",
    "y = np.arange(len(tot))\n",
    "plt.errorbar(tot, y,xerr=xerr,marker='d', linestyle='None', color='k', label='Sum', )\n",
    "plt.legend(frameon=False)\n",
    "ax.set_ylabel('')\n",
    "sns.despine()\n",
    "\n",
    "\n",
    "\n",
    "\n",
    "\n",
    "for lab, y in zip(tab_plt.index, ybar):\n",
    "        #plt.text(-1.55, ybar[i], species[i],  ha='left')#, va='left')\n",
    "    plt.text(-1.9, y-0.1, lab,  ha='left')#, va='left')\n",
    "plt.title('Change in effective radiative forcing from  1750 to 2019')\n",
    "plt.xlabel(r'Effective radiative forcing, W m$^{-2}$')\n",
    "plt.xlim(-1.5, 2.6)\n",
    "    #plt.xlim(-1.6, 2.0)\n",
    "sns.despine(fig, left=True, trim=True)\n",
    "plt.legend(loc='lower right', frameon=False)\n",
    "plt.axvline(x=0., color='k', linewidth=0.25)\n",
    "fn = 'attribution_1750_2019_5-95th.png'\n",
    "fp = RESULTS_DIR /'figures_historic_attribution'/fn\n",
    "fp.parent.mkdir(parents=True, exist_ok=True)\n",
    "ax.set_yticks([])\n",
    "\n",
    "plt.savefig(fp, dpi=300)\n",
    "plt.savefig(fp.with_suffix('.pdf'), dpi=300)\n",
    "plt.show()"
   ]
  },
  {
   "cell_type": "code",
   "execution_count": null,
   "metadata": {},
   "outputs": [],
   "source": []
  },
  {
   "cell_type": "code",
   "execution_count": null,
   "metadata": {},
   "outputs": [],
   "source": []
  }
 ],
 "metadata": {
  "jupytext": {
   "text_representation": {
    "extension": ".py",
    "format_name": "percent",
    "format_version": "1.3",
    "jupytext_version": "1.3.3"
   }
  },
  "kernelspec": {
   "display_name": "Python 3",
   "language": "python",
   "name": "python3"
  },
  "language_info": {
   "codemirror_mode": {
    "name": "ipython",
    "version": 3
   },
   "file_extension": ".py",
   "mimetype": "text/x-python",
   "name": "python",
   "nbconvert_exporter": "python",
   "pygments_lexer": "ipython3",
   "version": "3.7.6"
  }
 },
 "nbformat": 4,
 "nbformat_minor": 4
}
