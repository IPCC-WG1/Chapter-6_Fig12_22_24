{
 "cells": [
  {
   "cell_type": "code",
   "execution_count": 269,
   "metadata": {},
   "outputs": [
    {
     "name": "stdout",
     "output_type": "stream",
     "text": [
      "The autoreload extension is already loaded. To reload it, use:\n",
      "  %reload_ext autoreload\n"
     ]
    }
   ],
   "source": [
    "import pandas as pd\n",
    "import xarray as xr\n",
    "from IPython.display import clear_output\n",
    "import numpy as np\n",
    "import pandas as pd\n",
    "import matplotlib.pyplot as plt\n",
    "\n",
    "%load_ext autoreload\n",
    "%autoreload 2\n",
    "from ar6_ch6_rcmipfigs.constants import INPUT_DATA_DIR"
   ]
  },
  {
   "cell_type": "markdown",
   "metadata": {
    "lines_to_next_cell": 0
   },
   "source": [
    "### General about computing $\\Delta T$:"
   ]
  },
  {
   "cell_type": "markdown",
   "metadata": {},
   "source": [
    "# Code + figures"
   ]
  },
  {
   "cell_type": "markdown",
   "metadata": {},
   "source": [
    "### Path input data"
   ]
  },
  {
   "cell_type": "code",
   "execution_count": 270,
   "metadata": {
    "collapsed": false,
    "jupyter": {
     "outputs_hidden": false
    },
    "lines_to_next_cell": 2,
    "pycharm": {
     "name": "#%%\n"
    }
   },
   "outputs": [],
   "source": [
    "from ar6_ch6_rcmipfigs.constants import OUTPUT_DATA_DIR, RESULTS_DIR, BASE_DIR\n",
    "\n",
    "#PATH_DATASET = OUTPUT_DATA_DIR / 'ERF_data.nc'\n",
    "PATH_DATASET = OUTPUT_DATA_DIR/'historic_delta_GSAT/dT_data_hist_recommendation.nc'\n",
    "\n",
    "\n",
    "\n",
    "\n",
    "\n",
    "\n"
   ]
  },
  {
   "cell_type": "markdown",
   "metadata": {},
   "source": [
    "## Path output data"
   ]
  },
  {
   "cell_type": "code",
   "execution_count": 271,
   "metadata": {
    "collapsed": false,
    "jupyter": {
     "outputs_hidden": false
    },
    "lines_to_next_cell": 2,
    "pycharm": {
     "name": "#%%\n"
    }
   },
   "outputs": [
    {
     "name": "stdout",
     "output_type": "stream",
     "text": [
      "/home/sarambl/PHD/IPCC/public/AR6_CH6_RCMIPFIGSv2/ar6_ch6_rcmipfigs/data_out/historic_delta_GSAT/dT_data_hist_recommendation.csv\n"
     ]
    }
   ],
   "source": [
    "#PATH_DT_TAB_OUTPUT = RESULTS_DIR / 'tables' / 'table_sens_dT_cs_recommandetion.csv'\n",
    "PATH_DF_OUTPUT = OUTPUT_DATA_DIR / 'historic_delta_GSAT/dT_data_hist_recommendation.csv'\n",
    "\n",
    "print(PATH_DF_OUTPUT)"
   ]
  },
  {
   "cell_type": "markdown",
   "metadata": {},
   "source": [
    "## various definitions"
   ]
  },
  {
   "cell_type": "markdown",
   "metadata": {},
   "source": [
    "Year to integrate from and to:"
   ]
  },
  {
   "cell_type": "code",
   "execution_count": 272,
   "metadata": {},
   "outputs": [],
   "source": [
    "first_y = 1750\n",
    "last_y = 2019"
   ]
  },
  {
   "cell_type": "markdown",
   "metadata": {},
   "source": [
    "**Set reference year for temperature change:**"
   ]
  },
  {
   "cell_type": "code",
   "execution_count": 273,
   "metadata": {},
   "outputs": [],
   "source": [
    "ref_year = 1750"
   ]
  },
  {
   "cell_type": "markdown",
   "metadata": {},
   "source": [
    "### Define variables to look at:"
   ]
  },
  {
   "cell_type": "code",
   "execution_count": 274,
   "metadata": {},
   "outputs": [],
   "source": [
    "# variables to plot:\n",
    "variables_erf_comp = [\n",
    "    'CO2', 'N2O', 'CH4', 'HC', 'NOx', 'SO2', 'BC', 'OC', 'NH3','VOC'\n",
    "]\n",
    "# total ERFs for anthropogenic and total:\n",
    "variables_erf_tot = []\n",
    "variables_all = variables_erf_comp + variables_erf_tot\n",
    "# Scenarios to plot:\n",
    "scenarios_fl = []"
   ]
  },
  {
   "cell_type": "markdown",
   "metadata": {},
   "source": [
    "### Open ERF dataset:"
   ]
  },
  {
   "cell_type": "code",
   "execution_count": 275,
   "metadata": {},
   "outputs": [
    {
     "data": {
      "text/html": [
       "<pre>&lt;xarray.DataArray &#x27;Delta T&#x27; (percentile: 1, variable: 10, year: 270)&gt;\n",
       "array([[[0.000000e+00, 1.446359e-04, ..., 1.062350e+00, 1.083193e+00],\n",
       "        [0.000000e+00, 9.791198e-06, ..., 1.242319e-01, 1.262741e-01],\n",
       "        ...,\n",
       "        [0.000000e+00, 2.272272e-05, ..., 2.796366e-01, 2.765587e-01],\n",
       "        [0.000000e+00, 0.000000e+00, ..., 1.094546e-01, 1.103132e-01]]])\n",
       "Coordinates:\n",
       "  * year        (year) int64 1750 1751 1752 1753 1754 ... 2016 2017 2018 2019\n",
       "  * variable    (variable) object &#x27;CO2&#x27; &#x27;N2O&#x27; &#x27;CH4&#x27; &#x27;NOx&#x27; ... &#x27;NH3&#x27; &#x27;VOC&#x27; &#x27;HC&#x27;\n",
       "  * percentile  (percentile) object &#x27;recommendation&#x27;</pre>"
      ],
      "text/plain": [
       "<xarray.DataArray 'Delta T' (percentile: 1, variable: 10, year: 270)>\n",
       "array([[[0.000000e+00, 1.446359e-04, ..., 1.062350e+00, 1.083193e+00],\n",
       "        [0.000000e+00, 9.791198e-06, ..., 1.242319e-01, 1.262741e-01],\n",
       "        ...,\n",
       "        [0.000000e+00, 2.272272e-05, ..., 2.796366e-01, 2.765587e-01],\n",
       "        [0.000000e+00, 0.000000e+00, ..., 1.094546e-01, 1.103132e-01]]])\n",
       "Coordinates:\n",
       "  * year        (year) int64 1750 1751 1752 1753 1754 ... 2016 2017 2018 2019\n",
       "  * variable    (variable) object 'CO2' 'N2O' 'CH4' 'NOx' ... 'NH3' 'VOC' 'HC'\n",
       "  * percentile  (percentile) object 'recommendation'"
      ]
     },
     "execution_count": 275,
     "metadata": {},
     "output_type": "execute_result"
    }
   ],
   "source": [
    "ds = xr.open_dataset(PATH_DATASET)\n",
    "ds['Delta T']"
   ]
  },
  {
   "cell_type": "code",
   "execution_count": 276,
   "metadata": {},
   "outputs": [
    {
     "data": {
      "text/html": [
       "<pre>&lt;xarray.DataArray &#x27;variable&#x27; (variable: 10)&gt;\n",
       "array([&#x27;CO2&#x27;, &#x27;N2O&#x27;, &#x27;CH4&#x27;, &#x27;NOx&#x27;, &#x27;SO2&#x27;, &#x27;BC&#x27;, &#x27;OC&#x27;, &#x27;NH3&#x27;, &#x27;VOC&#x27;, &#x27;HC&#x27;],\n",
       "      dtype=object)\n",
       "Coordinates:\n",
       "  * variable  (variable) object &#x27;CO2&#x27; &#x27;N2O&#x27; &#x27;CH4&#x27; &#x27;NOx&#x27; ... &#x27;NH3&#x27; &#x27;VOC&#x27; &#x27;HC&#x27;</pre>"
      ],
      "text/plain": [
       "<xarray.DataArray 'variable' (variable: 10)>\n",
       "array(['CO2', 'N2O', 'CH4', 'NOx', 'SO2', 'BC', 'OC', 'NH3', 'VOC', 'HC'],\n",
       "      dtype=object)\n",
       "Coordinates:\n",
       "  * variable  (variable) object 'CO2' 'N2O' 'CH4' 'NOx' ... 'NH3' 'VOC' 'HC'"
      ]
     },
     "execution_count": 276,
     "metadata": {},
     "output_type": "execute_result"
    }
   ],
   "source": [
    "ds['variable']"
   ]
  },
  {
   "cell_type": "code",
   "execution_count": 277,
   "metadata": {},
   "outputs": [],
   "source": [
    "from ar6_ch6_rcmipfigs.utils.plot import get_cmap_dic"
   ]
  },
  {
   "cell_type": "code",
   "execution_count": 278,
   "metadata": {},
   "outputs": [
    {
     "data": {
      "image/png": "[encoded data removed]",
      "text/plain": [
       "<Figure size 432x432 with 2 Axes>"
      ]
     },
     "metadata": {
      "needs_background": "light"
     },
     "output_type": "display_data"
    }
   ],
   "source": [
    "fig, axs = plt.subplots(2, sharex=True, figsize=[6,6])\n",
    "\n",
    "ax_erf = axs[0]\n",
    "ax_dT = axs[1]\n",
    "for v in ds['variable'].values:\n",
    "    ds.sel(variable=v)['Delta T'].plot(ax=ax_dT, label=v, c=cols[v])\n",
    "    ds.sel(variable=v)['ERF'].plot(ax=ax_erf, c=cols[v])\n",
    "ds.sum('variable')['Delta T'].plot(ax=ax_dT, label='Sum', c='k',linewidth=2)\n",
    "ds.sum('variable')['ERF'].plot(ax=ax_erf, c='k',linewidth=2)\n",
    "    \n",
    "ax_dT.set_title('Temperature change')\n",
    "ax_erf.set_title('ERF')\n",
    "ax_erf.set_ylabel('ERF [W m$^{-2}$]')\n",
    "ax_dT.set_ylabel('$\\Delta$ GSAT [$^{\\circ}$C]')\n",
    "ax_erf.set_xlabel('')\n",
    "ax_dT.legend(ncol=4, loc='upper left', frameon=False)\n",
    "plt.tight_layout()\n",
    "fig.savefig('hist_timeseries_ERF_dT.png', dpi=300)"
   ]
  },
  {
   "cell_type": "code",
   "execution_count": 279,
   "metadata": {},
   "outputs": [
    {
     "data": {
      "image/png": "[encoded data removed]",
      "text/plain": [
       "<Figure size 432x432 with 2 Axes>"
      ]
     },
     "metadata": {
      "needs_background": "light"
     },
     "output_type": "display_data"
    }
   ],
   "source": [
    "fig, axs = plt.subplots(2, sharex=True, figsize=[6,6])\n",
    "\n",
    "ax_erf = axs[0]\n",
    "ax_dT = axs[1]\n",
    "for v in ds['variable'].values:\n",
    "    ds.sel(variable=v)['Delta T'].plot(ax=ax_dT, label=v, c=cols[v])\n",
    "    ds.sel(variable=v)['ERF'].plot(ax=ax_erf, c=cols[v])\n",
    "ax_dT.set_title('Temperature change')\n",
    "ax_erf.set_title('ERF')\n",
    "ax_erf.set_ylabel('ERF [W m$^{-2}$]')\n",
    "ax_dT.set_ylabel('$\\Delta$ GSAT [$^{\\circ}$C]')\n",
    "ax_erf.set_xlabel('')\n",
    "ax_dT.legend(ncol=4, loc='upper left', frameon=False)\n",
    "plt.tight_layout()"
   ]
  },
  {
   "cell_type": "code",
   "execution_count": 280,
   "metadata": {},
   "outputs": [
    {
     "data": {
      "text/plain": [
       "Text(0,0.5,'$\\\\Delta$ T ($^\\\\circ$ C)')"
      ]
     },
     "execution_count": 280,
     "metadata": {},
     "output_type": "execute_result"
    },
    {
     "data": {
      "image/png": "[encoded data removed]",
      "text/plain": [
       "<Figure size 720x360 with 1 Axes>"
      ]
     },
     "metadata": {
      "needs_background": "light"
     },
     "output_type": "display_data"
    }
   ],
   "source": [
    "df_deltaT = ds['Delta T'].squeeze().drop('percentile').to_dataframe().unstack('variable')['Delta T']\n",
    "fig, ax = plt.subplots(figsize=[10,5])\n",
    "for v in variables_all:\n",
    "    df_deltaT[variables_all][v].plot(linewidth=3,ax = ax, label=v, color=cols[v])#, color=cols.items())\n",
    "plt.legend(loc='upper left')\n",
    "plt.ylabel('$\\Delta$ T ($^\\circ$ C)')"
   ]
  },
  {
   "cell_type": "code",
   "execution_count": 281,
   "metadata": {
    "lines_to_next_cell": 2
   },
   "outputs": [
    {
     "data": {
      "text/plain": [
       "[(0.5411764705882353, 0.2235294117647059, 0.0),\n",
       " (1.0, 0.4196078431372549, 0.07450980392156863),\n",
       " (0.9568627450980393, 0.796078431372549, 0.21176470588235294),\n",
       " (0.47843137254901963, 0.5058823529411764, 0.5058823529411764),\n",
       " (0.8274509803921568, 0.0, 0.1568627450980392),\n",
       " (0.0, 0.6901960784313725, 0.6039215686274509),\n",
       " (0.26666666666666666, 0.0, 0.5254901960784314),\n",
       " (0.4745098039215686, 0.792156862745098, 0.9333333333333333),\n",
       " (0.3764705882352941, 0.5725490196078431, 0.796078431372549),\n",
       " (0.0, 0.5019607843137255, 0.23137254901960785)]"
      ]
     },
     "execution_count": 281,
     "metadata": {},
     "output_type": "execute_result"
    }
   ],
   "source": [
    "col_list = [cols[c] for c in df_deltaT.columns]\n",
    "col_list"
   ]
  },
  {
   "cell_type": "code",
   "execution_count": 282,
   "metadata": {},
   "outputs": [],
   "source": [
    "import seaborn as sns"
   ]
  },
  {
   "cell_type": "code",
   "execution_count": 283,
   "metadata": {},
   "outputs": [
    {
     "data": {
      "image/png": "[encoded data removed]",
      "text/plain": [
       "<Figure size 720x360 with 1 Axes>"
      ]
     },
     "metadata": {
      "needs_background": "light"
     },
     "output_type": "display_data"
    }
   ],
   "source": [
    "df_deltaT = ds['Delta T'].squeeze().drop('percentile').to_dataframe().unstack('variable')['Delta T']\n",
    "\n",
    "fig, ax = plt.subplots(figsize=[10,5])\n",
    "ax.hlines(0,1740,2028, linestyle='solid',alpha=0.9, color='k', linewidth=0.5)#.sum(axis=1).plot(linestyle='dashed', color='k', linewidth=3)\n",
    "\n",
    "df_deltaT.plot.area( color=col_list, ax=ax)\n",
    "df_deltaT.sum(axis=1).plot(linestyle='dashed', color='k', linewidth=3, label='Sum')\n",
    "plt.legend(loc='upper left',ncol=3, frameon=False)\n",
    "plt.ylabel('$\\Delta$ GSAT ($^\\circ$ C)')\n",
    "ax.set_xlim([1740,2028])\n",
    "sns.despine()"
   ]
  },
  {
   "cell_type": "code",
   "execution_count": 284,
   "metadata": {
    "lines_to_next_cell": 2
   },
   "outputs": [],
   "source": [
    "import seaborn as sns"
   ]
  },
  {
   "cell_type": "code",
   "execution_count": 285,
   "metadata": {},
   "outputs": [
    {
     "data": {
      "image/png": "[encoded data removed]",
      "text/plain": [
       "<Figure size 432x288 with 1 Axes>"
      ]
     },
     "metadata": {
      "needs_background": "light"
     },
     "output_type": "display_data"
    }
   ],
   "source": [
    "fig, ax = plt.subplots()\n",
    "ax.vlines(0,-1,3, linestyle='dashed',alpha=0.4)\n",
    "yrs = [1950,1960,1970,1980,1990,2000, 2019,]\n",
    "labs ={y:f'{y}-1750' for y in yrs}\n",
    "df_deltaT.loc[yrs].rename(labs,axis=0).plot.barh(stacked=True, color=col_list, ax=ax)\n",
    "plt.legend(frameon=False)\n",
    "sns.despine(fig, left=True)\n",
    "ax.set_xlim([-1,2.3])\n",
    "ax.set_xlabel('$\\Delta$GSAT$^\\circ$C')\n",
    "ax.set_ylabel('')\n",
    "plt.show()"
   ]
  },
  {
   "cell_type": "markdown",
   "metadata": {},
   "source": [
    "## Split up into components"
   ]
  },
  {
   "cell_type": "markdown",
   "metadata": {},
   "source": [
    "We use the original split up from bill collins plot "
   ]
  },
  {
   "cell_type": "code",
   "execution_count": 297,
   "metadata": {},
   "outputs": [],
   "source": [
    "from ar6_ch6_rcmipfigs.constants import BASE_DIR\n",
    "# file path table of ERF 2019-1750\n",
    "fp_collins = BASE_DIR/'notebooks/bill_collins/table_mean_smb_orignames.csv'\n",
    "fp_collins_sd = BASE_DIR/'notebooks/bill_collins/table_std_smb_orignames.csv'"
   ]
  },
  {
   "cell_type": "code",
   "execution_count": 287,
   "metadata": {},
   "outputs": [
    {
     "data": {
      "text/plain": [
       "PosixPath('/home/sarambl/PHD/IPCC/public/AR6_CH6_RCMIPFIGSv2/ar6_ch6_rcmipfigs/notebooks/bill_collins/table_mean_smb_orignames.csv')"
      ]
     },
     "execution_count": 287,
     "metadata": {},
     "output_type": "execute_result"
    }
   ],
   "source": [
    "fp_collins"
   ]
  },
  {
   "cell_type": "code",
   "execution_count": 288,
   "metadata": {},
   "outputs": [],
   "source": [
    "import pandas as pd"
   ]
  },
  {
   "cell_type": "code",
   "execution_count": 299,
   "metadata": {},
   "outputs": [
    {
     "data": {
      "text/html": [
       "<div>\n",
       "<style scoped>\n",
       "    .dataframe tbody tr th:only-of-type {\n",
       "        vertical-align: middle;\n",
       "    }\n",
       "\n",
       "    .dataframe tbody tr th {\n",
       "        vertical-align: top;\n",
       "    }\n",
       "\n",
       "    .dataframe thead th {\n",
       "        text-align: right;\n",
       "    }\n",
       "</style>\n",
       "<table border=\"1\" class=\"dataframe\">\n",
       "  <thead>\n",
       "    <tr style=\"text-align: right;\">\n",
       "      <th></th>\n",
       "      <th>CO2</th>\n",
       "      <th>GHG</th>\n",
       "      <th>CH4_lifetime</th>\n",
       "      <th>Strat_H2O</th>\n",
       "      <th>Aerosol</th>\n",
       "      <th>Cloud</th>\n",
       "      <th>O3</th>\n",
       "      <th>HC</th>\n",
       "      <th>N2O</th>\n",
       "    </tr>\n",
       "    <tr>\n",
       "      <th>emission_experiment</th>\n",
       "      <th></th>\n",
       "      <th></th>\n",
       "      <th></th>\n",
       "      <th></th>\n",
       "      <th></th>\n",
       "      <th></th>\n",
       "      <th></th>\n",
       "      <th></th>\n",
       "      <th></th>\n",
       "    </tr>\n",
       "  </thead>\n",
       "  <tbody>\n",
       "    <tr>\n",
       "      <th>CO2</th>\n",
       "      <td>2.057554</td>\n",
       "      <td>0.0</td>\n",
       "      <td>0.000000</td>\n",
       "      <td>0.00</td>\n",
       "      <td>0.000000</td>\n",
       "      <td>0.000000</td>\n",
       "      <td>0.000000</td>\n",
       "      <td>0.00</td>\n",
       "      <td>0.00</td>\n",
       "    </tr>\n",
       "    <tr>\n",
       "      <th>CH4</th>\n",
       "      <td>0.017549</td>\n",
       "      <td>0.0</td>\n",
       "      <td>0.844457</td>\n",
       "      <td>0.05</td>\n",
       "      <td>-0.003448</td>\n",
       "      <td>0.017625</td>\n",
       "      <td>0.279179</td>\n",
       "      <td>0.00</td>\n",
       "      <td>0.00</td>\n",
       "    </tr>\n",
       "    <tr>\n",
       "      <th>N2O</th>\n",
       "      <td>0.000000</td>\n",
       "      <td>0.0</td>\n",
       "      <td>-0.035967</td>\n",
       "      <td>0.00</td>\n",
       "      <td>-0.002717</td>\n",
       "      <td>0.040667</td>\n",
       "      <td>0.024311</td>\n",
       "      <td>0.00</td>\n",
       "      <td>0.21</td>\n",
       "    </tr>\n",
       "    <tr>\n",
       "      <th>HC</th>\n",
       "      <td>0.000053</td>\n",
       "      <td>0.0</td>\n",
       "      <td>-0.050927</td>\n",
       "      <td>0.00</td>\n",
       "      <td>-0.010501</td>\n",
       "      <td>-0.016667</td>\n",
       "      <td>-0.164586</td>\n",
       "      <td>0.41</td>\n",
       "      <td>0.00</td>\n",
       "    </tr>\n",
       "    <tr>\n",
       "      <th>NOx</th>\n",
       "      <td>0.000000</td>\n",
       "      <td>0.0</td>\n",
       "      <td>-0.380025</td>\n",
       "      <td>0.00</td>\n",
       "      <td>-0.011912</td>\n",
       "      <td>-0.013833</td>\n",
       "      <td>0.120237</td>\n",
       "      <td>0.00</td>\n",
       "      <td>0.00</td>\n",
       "    </tr>\n",
       "    <tr>\n",
       "      <th>VOC</th>\n",
       "      <td>0.069491</td>\n",
       "      <td>0.0</td>\n",
       "      <td>0.162462</td>\n",
       "      <td>0.00</td>\n",
       "      <td>-0.003344</td>\n",
       "      <td>0.008500</td>\n",
       "      <td>0.210860</td>\n",
       "      <td>0.00</td>\n",
       "      <td>0.00</td>\n",
       "    </tr>\n",
       "    <tr>\n",
       "      <th>SO2</th>\n",
       "      <td>0.000000</td>\n",
       "      <td>0.0</td>\n",
       "      <td>0.000000</td>\n",
       "      <td>0.00</td>\n",
       "      <td>-0.214702</td>\n",
       "      <td>-0.654434</td>\n",
       "      <td>0.000000</td>\n",
       "      <td>0.00</td>\n",
       "      <td>0.00</td>\n",
       "    </tr>\n",
       "    <tr>\n",
       "      <th>OC</th>\n",
       "      <td>0.000000</td>\n",
       "      <td>0.0</td>\n",
       "      <td>0.000000</td>\n",
       "      <td>0.00</td>\n",
       "      <td>-0.066129</td>\n",
       "      <td>-0.127318</td>\n",
       "      <td>0.000000</td>\n",
       "      <td>0.00</td>\n",
       "      <td>0.00</td>\n",
       "    </tr>\n",
       "    <tr>\n",
       "      <th>BC</th>\n",
       "      <td>0.000000</td>\n",
       "      <td>0.0</td>\n",
       "      <td>0.000000</td>\n",
       "      <td>0.00</td>\n",
       "      <td>0.123707</td>\n",
       "      <td>-0.058248</td>\n",
       "      <td>0.000000</td>\n",
       "      <td>0.00</td>\n",
       "      <td>0.00</td>\n",
       "    </tr>\n",
       "    <tr>\n",
       "      <th>NH3</th>\n",
       "      <td>0.000000</td>\n",
       "      <td>0.0</td>\n",
       "      <td>0.000000</td>\n",
       "      <td>0.00</td>\n",
       "      <td>-0.030954</td>\n",
       "      <td>0.000000</td>\n",
       "      <td>0.000000</td>\n",
       "      <td>0.00</td>\n",
       "      <td>0.00</td>\n",
       "    </tr>\n",
       "  </tbody>\n",
       "</table>\n",
       "</div>"
      ],
      "text/plain": [
       "                          CO2  GHG  CH4_lifetime  Strat_H2O   Aerosol  \\\n",
       "emission_experiment                                                     \n",
       "CO2                  2.057554  0.0      0.000000       0.00  0.000000   \n",
       "CH4                  0.017549  0.0      0.844457       0.05 -0.003448   \n",
       "N2O                  0.000000  0.0     -0.035967       0.00 -0.002717   \n",
       "HC                   0.000053  0.0     -0.050927       0.00 -0.010501   \n",
       "NOx                  0.000000  0.0     -0.380025       0.00 -0.011912   \n",
       "VOC                  0.069491  0.0      0.162462       0.00 -0.003344   \n",
       "SO2                  0.000000  0.0      0.000000       0.00 -0.214702   \n",
       "OC                   0.000000  0.0      0.000000       0.00 -0.066129   \n",
       "BC                   0.000000  0.0      0.000000       0.00  0.123707   \n",
       "NH3                  0.000000  0.0      0.000000       0.00 -0.030954   \n",
       "\n",
       "                        Cloud        O3    HC   N2O  \n",
       "emission_experiment                                  \n",
       "CO2                  0.000000  0.000000  0.00  0.00  \n",
       "CH4                  0.017625  0.279179  0.00  0.00  \n",
       "N2O                  0.040667  0.024311  0.00  0.21  \n",
       "HC                  -0.016667 -0.164586  0.41  0.00  \n",
       "NOx                 -0.013833  0.120237  0.00  0.00  \n",
       "VOC                  0.008500  0.210860  0.00  0.00  \n",
       "SO2                 -0.654434  0.000000  0.00  0.00  \n",
       "OC                  -0.127318  0.000000  0.00  0.00  \n",
       "BC                  -0.058248  0.000000  0.00  0.00  \n",
       "NH3                  0.000000  0.000000  0.00  0.00  "
      ]
     },
     "execution_count": 299,
     "metadata": {},
     "output_type": "execute_result"
    }
   ],
   "source": [
    "df_collins = pd.read_csv(fp_collins, index_col=0)\n",
    "df_collins.index = df_collins.index.rename('emission_experiment')\n",
    "df_collins_sd = pd.read_csv(fp_collins_sd, index_col=0)\n",
    "df_collins"
   ]
  },
  {
   "cell_type": "code",
   "execution_count": 301,
   "metadata": {},
   "outputs": [],
   "source": [
    "varn = ['co2','N2O','HC','WMGHG','ch4','o3','H2O_strat','ari','aci']\n",
    "var_dir = ['CO2','N2O','HC','GHG','CH4_lifetime','O3','Strat_H2O','Aerosol','Cloud']"
   ]
  },
  {
   "cell_type": "code",
   "execution_count": 386,
   "metadata": {},
   "outputs": [
    {
     "data": {
      "text/html": [
       "<div>\n",
       "<style scoped>\n",
       "    .dataframe tbody tr th:only-of-type {\n",
       "        vertical-align: middle;\n",
       "    }\n",
       "\n",
       "    .dataframe tbody tr th {\n",
       "        vertical-align: top;\n",
       "    }\n",
       "\n",
       "    .dataframe thead th {\n",
       "        text-align: right;\n",
       "    }\n",
       "</style>\n",
       "<table border=\"1\" class=\"dataframe\">\n",
       "  <thead>\n",
       "    <tr style=\"text-align: right;\">\n",
       "      <th></th>\n",
       "      <th>Carbon dioxide (CO$_2$)</th>\n",
       "      <th>N$_2$O</th>\n",
       "      <th>CFC + HCFC</th>\n",
       "      <th>WMGHG</th>\n",
       "      <th>Methane (CH$_4$)</th>\n",
       "      <th>Ozone (O$_3$)</th>\n",
       "      <th>H$_2$O (strat)</th>\n",
       "      <th>Aerosol-radiation</th>\n",
       "      <th>Aerosol-cloud</th>\n",
       "    </tr>\n",
       "    <tr>\n",
       "      <th>emission_experiment</th>\n",
       "      <th></th>\n",
       "      <th></th>\n",
       "      <th></th>\n",
       "      <th></th>\n",
       "      <th></th>\n",
       "      <th></th>\n",
       "      <th></th>\n",
       "      <th></th>\n",
       "      <th></th>\n",
       "    </tr>\n",
       "  </thead>\n",
       "  <tbody>\n",
       "    <tr>\n",
       "      <th>Ammonia</th>\n",
       "      <td>0.000000</td>\n",
       "      <td>0.00</td>\n",
       "      <td>0.00</td>\n",
       "      <td>0.0</td>\n",
       "      <td>0.000000</td>\n",
       "      <td>0.000000</td>\n",
       "      <td>0.00</td>\n",
       "      <td>-0.030954</td>\n",
       "      <td>0.000000</td>\n",
       "    </tr>\n",
       "    <tr>\n",
       "      <th>Black carbon</th>\n",
       "      <td>0.000000</td>\n",
       "      <td>0.00</td>\n",
       "      <td>0.00</td>\n",
       "      <td>0.0</td>\n",
       "      <td>0.000000</td>\n",
       "      <td>0.000000</td>\n",
       "      <td>0.00</td>\n",
       "      <td>0.123707</td>\n",
       "      <td>-0.058248</td>\n",
       "    </tr>\n",
       "    <tr>\n",
       "      <th>Organic carbon</th>\n",
       "      <td>0.000000</td>\n",
       "      <td>0.00</td>\n",
       "      <td>0.00</td>\n",
       "      <td>0.0</td>\n",
       "      <td>0.000000</td>\n",
       "      <td>0.000000</td>\n",
       "      <td>0.00</td>\n",
       "      <td>-0.066129</td>\n",
       "      <td>-0.127318</td>\n",
       "    </tr>\n",
       "    <tr>\n",
       "      <th>SO$_2$</th>\n",
       "      <td>0.000000</td>\n",
       "      <td>0.00</td>\n",
       "      <td>0.00</td>\n",
       "      <td>0.0</td>\n",
       "      <td>0.000000</td>\n",
       "      <td>0.000000</td>\n",
       "      <td>0.00</td>\n",
       "      <td>-0.214702</td>\n",
       "      <td>-0.654434</td>\n",
       "    </tr>\n",
       "    <tr>\n",
       "      <th>NMVOC + CO</th>\n",
       "      <td>0.069491</td>\n",
       "      <td>0.00</td>\n",
       "      <td>0.00</td>\n",
       "      <td>0.0</td>\n",
       "      <td>0.162462</td>\n",
       "      <td>0.210860</td>\n",
       "      <td>0.00</td>\n",
       "      <td>-0.003344</td>\n",
       "      <td>0.008500</td>\n",
       "    </tr>\n",
       "    <tr>\n",
       "      <th>NO$_x$</th>\n",
       "      <td>0.000000</td>\n",
       "      <td>0.00</td>\n",
       "      <td>0.00</td>\n",
       "      <td>0.0</td>\n",
       "      <td>-0.380025</td>\n",
       "      <td>0.120237</td>\n",
       "      <td>0.00</td>\n",
       "      <td>-0.011912</td>\n",
       "      <td>-0.013833</td>\n",
       "    </tr>\n",
       "    <tr>\n",
       "      <th>CFC + HCFC</th>\n",
       "      <td>0.000053</td>\n",
       "      <td>0.00</td>\n",
       "      <td>0.41</td>\n",
       "      <td>0.0</td>\n",
       "      <td>-0.050927</td>\n",
       "      <td>-0.164586</td>\n",
       "      <td>0.00</td>\n",
       "      <td>-0.010501</td>\n",
       "      <td>-0.016667</td>\n",
       "    </tr>\n",
       "    <tr>\n",
       "      <th>N$_2$O</th>\n",
       "      <td>0.000000</td>\n",
       "      <td>0.21</td>\n",
       "      <td>0.00</td>\n",
       "      <td>0.0</td>\n",
       "      <td>-0.035967</td>\n",
       "      <td>0.024311</td>\n",
       "      <td>0.00</td>\n",
       "      <td>-0.002717</td>\n",
       "      <td>0.040667</td>\n",
       "    </tr>\n",
       "    <tr>\n",
       "      <th>CH$_4$</th>\n",
       "      <td>0.017549</td>\n",
       "      <td>0.00</td>\n",
       "      <td>0.00</td>\n",
       "      <td>0.0</td>\n",
       "      <td>0.844457</td>\n",
       "      <td>0.279179</td>\n",
       "      <td>0.05</td>\n",
       "      <td>-0.003448</td>\n",
       "      <td>0.017625</td>\n",
       "    </tr>\n",
       "    <tr>\n",
       "      <th>CO$_2$</th>\n",
       "      <td>2.057554</td>\n",
       "      <td>0.00</td>\n",
       "      <td>0.00</td>\n",
       "      <td>0.0</td>\n",
       "      <td>0.000000</td>\n",
       "      <td>0.000000</td>\n",
       "      <td>0.00</td>\n",
       "      <td>0.000000</td>\n",
       "      <td>0.000000</td>\n",
       "    </tr>\n",
       "  </tbody>\n",
       "</table>\n",
       "</div>"
      ],
      "text/plain": [
       "                     Carbon dioxide (CO$_2$)  N$_2$O  CFC + HCFC  WMGHG  \\\n",
       "emission_experiment                                                       \n",
       "Ammonia                             0.000000    0.00        0.00    0.0   \n",
       "Black carbon                        0.000000    0.00        0.00    0.0   \n",
       "Organic carbon                      0.000000    0.00        0.00    0.0   \n",
       "SO$_2$                              0.000000    0.00        0.00    0.0   \n",
       "NMVOC + CO                          0.069491    0.00        0.00    0.0   \n",
       "NO$_x$                              0.000000    0.00        0.00    0.0   \n",
       "CFC + HCFC                          0.000053    0.00        0.41    0.0   \n",
       "N$_2$O                              0.000000    0.21        0.00    0.0   \n",
       "CH$_4$                              0.017549    0.00        0.00    0.0   \n",
       "CO$_2$                              2.057554    0.00        0.00    0.0   \n",
       "\n",
       "                     Methane (CH$_4$)  Ozone (O$_3$)  H$_2$O (strat)  \\\n",
       "emission_experiment                                                    \n",
       "Ammonia                      0.000000       0.000000            0.00   \n",
       "Black carbon                 0.000000       0.000000            0.00   \n",
       "Organic carbon               0.000000       0.000000            0.00   \n",
       "SO$_2$                       0.000000       0.000000            0.00   \n",
       "NMVOC + CO                   0.162462       0.210860            0.00   \n",
       "NO$_x$                      -0.380025       0.120237            0.00   \n",
       "CFC + HCFC                  -0.050927      -0.164586            0.00   \n",
       "N$_2$O                      -0.035967       0.024311            0.00   \n",
       "CH$_4$                       0.844457       0.279179            0.05   \n",
       "CO$_2$                       0.000000       0.000000            0.00   \n",
       "\n",
       "                     Aerosol-radiation  Aerosol-cloud  \n",
       "emission_experiment                                    \n",
       "Ammonia                      -0.030954       0.000000  \n",
       "Black carbon                  0.123707      -0.058248  \n",
       "Organic carbon               -0.066129      -0.127318  \n",
       "SO$_2$                       -0.214702      -0.654434  \n",
       "NMVOC + CO                   -0.003344       0.008500  \n",
       "NO$_x$                       -0.011912      -0.013833  \n",
       "CFC + HCFC                   -0.010501      -0.016667  \n",
       "N$_2$O                       -0.002717       0.040667  \n",
       "CH$_4$                       -0.003448       0.017625  \n",
       "CO$_2$                        0.000000       0.000000  "
      ]
     },
     "execution_count": 386,
     "metadata": {},
     "output_type": "execute_result"
    }
   ],
   "source": [
    "rename_dic_cat = {\n",
    "    'CO2':'Carbon dioxide (CO$_2$)',\n",
    "    'GHG':'WMGHG',\n",
    "    'CH4_lifetime': 'Methane (CH$_4$)',\n",
    "    'O3': 'Ozone (O$_3$)',\n",
    "    'Strat_H2O':'H$_2$O (strat)',\n",
    "    'Aerosol':'Aerosol-radiation',\n",
    "    'Cloud':'Aerosol-cloud',\n",
    "    'N2O':'N$_2$O',\n",
    "    'HC':'CFC + HCFC',\n",
    "\n",
    "}\n",
    "rename_dic_cols ={\n",
    "    'CO2':'CO$_2$',\n",
    "    'CH4':'CH$_4$',\n",
    "    'N2O':'N$_2$O',\n",
    "    'HC':'CFC + HCFC',\n",
    "    'NOx':'NO$_x$',\n",
    "    'VOC':'NMVOC + CO',\n",
    "    'SO2':'SO$_2$',\n",
    "    'OC':'Organic carbon',\n",
    "    'BC':'Black carbon',\n",
    "    'NH3':'Ammonia'\n",
    "}\n",
    "tab_plt_ERF = df_collins.loc[::-1,var_dir].rename(rename_dic_cat, axis=1).rename(rename_dic_cols, axis=0)#.transpose()\n",
    "tab_plt = tab_plt_ERF\n",
    "tab_plt_ERF\n"
   ]
  },
  {
   "cell_type": "code",
   "execution_count": 306,
   "metadata": {},
   "outputs": [
    {
     "data": {
      "text/html": [
       "<div>\n",
       "<style scoped>\n",
       "    .dataframe tbody tr th:only-of-type {\n",
       "        vertical-align: middle;\n",
       "    }\n",
       "\n",
       "    .dataframe tbody tr th {\n",
       "        vertical-align: top;\n",
       "    }\n",
       "\n",
       "    .dataframe thead th {\n",
       "        text-align: right;\n",
       "    }\n",
       "</style>\n",
       "<table border=\"1\" class=\"dataframe\">\n",
       "  <thead>\n",
       "    <tr style=\"text-align: right;\">\n",
       "      <th></th>\n",
       "      <th>std</th>\n",
       "      <th>SE</th>\n",
       "      <th>95-50_SE</th>\n",
       "      <th>95-50</th>\n",
       "    </tr>\n",
       "    <tr>\n",
       "      <th>Species</th>\n",
       "      <th></th>\n",
       "      <th></th>\n",
       "      <th></th>\n",
       "      <th></th>\n",
       "    </tr>\n",
       "  </thead>\n",
       "  <tbody>\n",
       "    <tr>\n",
       "      <th>CO2</th>\n",
       "      <td>0.246907</td>\n",
       "      <td>NaN</td>\n",
       "      <td>0.246907</td>\n",
       "      <td>0.246907</td>\n",
       "    </tr>\n",
       "    <tr>\n",
       "      <th>CH4</th>\n",
       "      <td>0.182717</td>\n",
       "      <td>0.064600</td>\n",
       "      <td>0.106267</td>\n",
       "      <td>0.300569</td>\n",
       "    </tr>\n",
       "    <tr>\n",
       "      <th>N2O</th>\n",
       "      <td>0.061899</td>\n",
       "      <td>0.027682</td>\n",
       "      <td>0.045537</td>\n",
       "      <td>0.101825</td>\n",
       "    </tr>\n",
       "    <tr>\n",
       "      <th>HC</th>\n",
       "      <td>0.117053</td>\n",
       "      <td>0.047787</td>\n",
       "      <td>0.078609</td>\n",
       "      <td>0.192552</td>\n",
       "    </tr>\n",
       "    <tr>\n",
       "      <th>NOx</th>\n",
       "      <td>0.173085</td>\n",
       "      <td>0.077406</td>\n",
       "      <td>0.127333</td>\n",
       "      <td>0.284725</td>\n",
       "    </tr>\n",
       "    <tr>\n",
       "      <th>VOC</th>\n",
       "      <td>0.137949</td>\n",
       "      <td>0.061693</td>\n",
       "      <td>0.101484</td>\n",
       "      <td>0.226926</td>\n",
       "    </tr>\n",
       "    <tr>\n",
       "      <th>SO2</th>\n",
       "      <td>0.401442</td>\n",
       "      <td>0.163888</td>\n",
       "      <td>0.269596</td>\n",
       "      <td>0.660372</td>\n",
       "    </tr>\n",
       "    <tr>\n",
       "      <th>OC</th>\n",
       "      <td>0.134342</td>\n",
       "      <td>0.054845</td>\n",
       "      <td>0.090220</td>\n",
       "      <td>0.220992</td>\n",
       "    </tr>\n",
       "    <tr>\n",
       "      <th>BC</th>\n",
       "      <td>0.213043</td>\n",
       "      <td>0.080523</td>\n",
       "      <td>0.132460</td>\n",
       "      <td>0.350455</td>\n",
       "    </tr>\n",
       "    <tr>\n",
       "      <th>NH3</th>\n",
       "      <td>0.004422</td>\n",
       "      <td>0.003127</td>\n",
       "      <td>0.005144</td>\n",
       "      <td>0.007274</td>\n",
       "    </tr>\n",
       "  </tbody>\n",
       "</table>\n",
       "</div>"
      ],
      "text/plain": [
       "              std        SE  95-50_SE     95-50\n",
       "Species                                        \n",
       "CO2      0.246907       NaN  0.246907  0.246907\n",
       "CH4      0.182717  0.064600  0.106267  0.300569\n",
       "N2O      0.061899  0.027682  0.045537  0.101825\n",
       "HC       0.117053  0.047787  0.078609  0.192552\n",
       "NOx      0.173085  0.077406  0.127333  0.284725\n",
       "VOC      0.137949  0.061693  0.101484  0.226926\n",
       "SO2      0.401442  0.163888  0.269596  0.660372\n",
       "OC       0.134342  0.054845  0.090220  0.220992\n",
       "BC       0.213043  0.080523  0.132460  0.350455\n",
       "NH3      0.004422  0.003127  0.005144  0.007274"
      ]
     },
     "execution_count": 306,
     "metadata": {},
     "output_type": "execute_result"
    }
   ],
   "source": [
    "import pandas as pd\n",
    "num_mod_lab = 'Number of models (Thornhill 2020)'\n",
    "thornhill = pd.read_csv('../bill_collins/table2_thornhill2020.csv', index_col=0)\n",
    "thornhill.index = thornhill.index.rename('Species')\n",
    "thornhill\n",
    "\n",
    "std_2_95th = 1.645\n",
    "\n",
    "sd_tot = df_collins_sd['Total_sd']\n",
    "df_err= pd.DataFrame(sd_tot.rename('std'))\n",
    "df_err['SE'] = df_err\n",
    "\n",
    "df_err['SE'] = df_err['std']/np.sqrt(thornhill[num_mod_lab])\n",
    "df_err['95-50_SE'] = df_err['SE']*std_2_95th\n",
    "df_err.loc['CO2','95-50_SE']= df_err.loc['CO2','std']\n",
    "df_err\n",
    "\n",
    "df_err['95-50'] = df_err['std']*std_2_95th\n",
    "df_err.loc['CO2','95-50']= df_err.loc['CO2','std']\n",
    "df_err"
   ]
  },
  {
   "cell_type": "code",
   "execution_count": 307,
   "metadata": {},
   "outputs": [],
   "source": [
    "df_err = df_err.rename(rename_dic_cols, axis=0)"
   ]
  },
  {
   "cell_type": "code",
   "execution_count": 308,
   "metadata": {
    "lines_to_next_cell": 2
   },
   "outputs": [],
   "source": [
    "width = 0.7\n",
    "kwargs = {'linewidth':.1,'edgecolor':'k'}"
   ]
  },
  {
   "cell_type": "code",
   "execution_count": 309,
   "metadata": {},
   "outputs": [],
   "source": [
    "import seaborn as sns"
   ]
  },
  {
   "cell_type": "code",
   "execution_count": 310,
   "metadata": {},
   "outputs": [
    {
     "data": {
      "text/plain": [
       "array([ 0,  1,  2,  3,  4,  5,  6,  7,  8,  9, 10])"
      ]
     },
     "execution_count": 310,
     "metadata": {},
     "output_type": "execute_result"
    }
   ],
   "source": [
    "ybar = np.arange(len(tab_plt)+1)#, -1)\n",
    "ybar"
   ]
  },
  {
   "cell_type": "code",
   "execution_count": null,
   "metadata": {},
   "outputs": [],
   "source": [
    "col"
   ]
  },
  {
   "cell_type": "code",
   "execution_count": 319,
   "metadata": {
    "lines_to_next_cell": 2
   },
   "outputs": [
    {
     "name": "stdout",
     "output_type": "stream",
     "text": [
      "(0.9568627450980393, 0.796078431372549, 0.21176470588235294)\n",
      "(0.8274509803921568, 0.0, 0.1568627450980392)\n",
      "(0.47843137254901963, 0.5058823529411764, 0.5058823529411764)\n",
      "(0.30980392156862746, 0.3215686274509804, 0.7176470588235294)\n",
      "(1.0, 0.4196078431372549, 0.07450980392156863)\n",
      "(0.5254901960784314, 0.7803921568627451, 0.29411764705882354)\n",
      "(0.47843137254901963, 0.5058823529411764, 0.5058823529411764)\n",
      "(0.792156862745098, 0.6980392156862745, 0.8392156862745098)\n",
      "(0.5607843137254902, 0.0, 0.6470588235294118)\n"
     ]
    },
    {
     "data": {
      "image/png": "[encoded data removed]",
      "text/plain": [
       "<Figure size 432x288 with 1 Axes>"
      ]
     },
     "metadata": {
      "needs_background": "light"
     },
     "output_type": "display_data"
    }
   ],
   "source": [
    "fig, ax = plt.subplots()#figsize=[10,10])\n",
    "cmap = get_cmap_dic(var_dir)\n",
    "col_ls = [cmap[v] for v in var_dir]\n",
    "tab_plt.plot.barh(stacked=True, color=col_ls, linewidth=.0, edgecolor='k',ax=ax, width=width)\n",
    "#tot = table['Total'][::-1]\n",
    "tot = tab_plt.sum(axis=1)#tab_plt\n",
    "xerr = df_err['95-50'][::-1]\n",
    "y = np.arange(len(tot))\n",
    "plt.errorbar(tot, y,xerr=xerr,marker='d', linestyle='None', color='k', label='Sum', )\n",
    "plt.legend(frameon=False)\n",
    "ax.set_ylabel('')\n",
    "sns.despine()\n",
    "\n",
    "\n",
    "\n",
    "\n",
    "\n",
    "for lab, y in zip(tab_plt.index, ybar):\n",
    "        #plt.text(-1.55, ybar[i], species[i],  ha='left')#, va='left')\n",
    "    plt.text(-1.9, y-0.1, lab,  ha='left')#, va='left')\n",
    "plt.title('Change in effective radiative forcing from  1750 to 2019')\n",
    "plt.xlabel(r'Effective radiative forcing, W m$^{-2}$')\n",
    "plt.xlim(-1.5, 2.6)\n",
    "    #plt.xlim(-1.6, 2.0)\n",
    "sns.despine(fig, left=True, trim=True)\n",
    "plt.legend(loc='lower right', frameon=False)\n",
    "plt.axvline(x=0., color='k', linewidth=0.25)\n",
    "fn = 'attribution_1750_2019_5-95th.png'\n",
    "fp = RESULTS_DIR /'figures_historic_attribution'/fn\n",
    "fp.parent.mkdir(parents=True, exist_ok=True)\n",
    "ax.set_yticks([])\n",
    "\n",
    "#plt.savefig(fp, dpi=300)\n",
    "#plt.savefig(fp.with_suffix('.pdf'), dpi=300)\n",
    "plt.show()"
   ]
  },
  {
   "cell_type": "markdown",
   "metadata": {},
   "source": [
    "## Scale delta GSAT by ERF "
   ]
  },
  {
   "cell_type": "code",
   "execution_count": 320,
   "metadata": {},
   "outputs": [
    {
     "data": {
      "text/html": [
       "<div>\n",
       "<style scoped>\n",
       "    .dataframe tbody tr th:only-of-type {\n",
       "        vertical-align: middle;\n",
       "    }\n",
       "\n",
       "    .dataframe tbody tr th {\n",
       "        vertical-align: top;\n",
       "    }\n",
       "\n",
       "    .dataframe thead th {\n",
       "        text-align: right;\n",
       "    }\n",
       "</style>\n",
       "<table border=\"1\" class=\"dataframe\">\n",
       "  <thead>\n",
       "    <tr style=\"text-align: right;\">\n",
       "      <th></th>\n",
       "      <th>CO2</th>\n",
       "      <th>GHG</th>\n",
       "      <th>CH4_lifetime</th>\n",
       "      <th>Strat_H2O</th>\n",
       "      <th>Aerosol</th>\n",
       "      <th>Cloud</th>\n",
       "      <th>O3</th>\n",
       "      <th>HC</th>\n",
       "      <th>N2O</th>\n",
       "    </tr>\n",
       "    <tr>\n",
       "      <th>emission_experiment</th>\n",
       "      <th></th>\n",
       "      <th></th>\n",
       "      <th></th>\n",
       "      <th></th>\n",
       "      <th></th>\n",
       "      <th></th>\n",
       "      <th></th>\n",
       "      <th></th>\n",
       "      <th></th>\n",
       "    </tr>\n",
       "  </thead>\n",
       "  <tbody>\n",
       "    <tr>\n",
       "      <th>CO2</th>\n",
       "      <td>2.057554</td>\n",
       "      <td>0.0</td>\n",
       "      <td>0.000000</td>\n",
       "      <td>0.00</td>\n",
       "      <td>0.000000</td>\n",
       "      <td>0.000000</td>\n",
       "      <td>0.000000</td>\n",
       "      <td>0.00</td>\n",
       "      <td>0.00</td>\n",
       "    </tr>\n",
       "    <tr>\n",
       "      <th>CH4</th>\n",
       "      <td>0.017549</td>\n",
       "      <td>0.0</td>\n",
       "      <td>0.844457</td>\n",
       "      <td>0.05</td>\n",
       "      <td>-0.003448</td>\n",
       "      <td>0.017625</td>\n",
       "      <td>0.279179</td>\n",
       "      <td>0.00</td>\n",
       "      <td>0.00</td>\n",
       "    </tr>\n",
       "    <tr>\n",
       "      <th>N2O</th>\n",
       "      <td>0.000000</td>\n",
       "      <td>0.0</td>\n",
       "      <td>-0.035967</td>\n",
       "      <td>0.00</td>\n",
       "      <td>-0.002717</td>\n",
       "      <td>0.040667</td>\n",
       "      <td>0.024311</td>\n",
       "      <td>0.00</td>\n",
       "      <td>0.21</td>\n",
       "    </tr>\n",
       "    <tr>\n",
       "      <th>HC</th>\n",
       "      <td>0.000053</td>\n",
       "      <td>0.0</td>\n",
       "      <td>-0.050927</td>\n",
       "      <td>0.00</td>\n",
       "      <td>-0.010501</td>\n",
       "      <td>-0.016667</td>\n",
       "      <td>-0.164586</td>\n",
       "      <td>0.41</td>\n",
       "      <td>0.00</td>\n",
       "    </tr>\n",
       "    <tr>\n",
       "      <th>NOx</th>\n",
       "      <td>0.000000</td>\n",
       "      <td>0.0</td>\n",
       "      <td>-0.380025</td>\n",
       "      <td>0.00</td>\n",
       "      <td>-0.011912</td>\n",
       "      <td>-0.013833</td>\n",
       "      <td>0.120237</td>\n",
       "      <td>0.00</td>\n",
       "      <td>0.00</td>\n",
       "    </tr>\n",
       "    <tr>\n",
       "      <th>VOC</th>\n",
       "      <td>0.069491</td>\n",
       "      <td>0.0</td>\n",
       "      <td>0.162462</td>\n",
       "      <td>0.00</td>\n",
       "      <td>-0.003344</td>\n",
       "      <td>0.008500</td>\n",
       "      <td>0.210860</td>\n",
       "      <td>0.00</td>\n",
       "      <td>0.00</td>\n",
       "    </tr>\n",
       "    <tr>\n",
       "      <th>SO2</th>\n",
       "      <td>0.000000</td>\n",
       "      <td>0.0</td>\n",
       "      <td>0.000000</td>\n",
       "      <td>0.00</td>\n",
       "      <td>-0.214702</td>\n",
       "      <td>-0.654434</td>\n",
       "      <td>0.000000</td>\n",
       "      <td>0.00</td>\n",
       "      <td>0.00</td>\n",
       "    </tr>\n",
       "    <tr>\n",
       "      <th>OC</th>\n",
       "      <td>0.000000</td>\n",
       "      <td>0.0</td>\n",
       "      <td>0.000000</td>\n",
       "      <td>0.00</td>\n",
       "      <td>-0.066129</td>\n",
       "      <td>-0.127318</td>\n",
       "      <td>0.000000</td>\n",
       "      <td>0.00</td>\n",
       "      <td>0.00</td>\n",
       "    </tr>\n",
       "    <tr>\n",
       "      <th>BC</th>\n",
       "      <td>0.000000</td>\n",
       "      <td>0.0</td>\n",
       "      <td>0.000000</td>\n",
       "      <td>0.00</td>\n",
       "      <td>0.123707</td>\n",
       "      <td>-0.058248</td>\n",
       "      <td>0.000000</td>\n",
       "      <td>0.00</td>\n",
       "      <td>0.00</td>\n",
       "    </tr>\n",
       "    <tr>\n",
       "      <th>NH3</th>\n",
       "      <td>0.000000</td>\n",
       "      <td>0.0</td>\n",
       "      <td>0.000000</td>\n",
       "      <td>0.00</td>\n",
       "      <td>-0.030954</td>\n",
       "      <td>0.000000</td>\n",
       "      <td>0.000000</td>\n",
       "      <td>0.00</td>\n",
       "      <td>0.00</td>\n",
       "    </tr>\n",
       "  </tbody>\n",
       "</table>\n",
       "</div>"
      ],
      "text/plain": [
       "                          CO2  GHG  CH4_lifetime  Strat_H2O   Aerosol  \\\n",
       "emission_experiment                                                     \n",
       "CO2                  2.057554  0.0      0.000000       0.00  0.000000   \n",
       "CH4                  0.017549  0.0      0.844457       0.05 -0.003448   \n",
       "N2O                  0.000000  0.0     -0.035967       0.00 -0.002717   \n",
       "HC                   0.000053  0.0     -0.050927       0.00 -0.010501   \n",
       "NOx                  0.000000  0.0     -0.380025       0.00 -0.011912   \n",
       "VOC                  0.069491  0.0      0.162462       0.00 -0.003344   \n",
       "SO2                  0.000000  0.0      0.000000       0.00 -0.214702   \n",
       "OC                   0.000000  0.0      0.000000       0.00 -0.066129   \n",
       "BC                   0.000000  0.0      0.000000       0.00  0.123707   \n",
       "NH3                  0.000000  0.0      0.000000       0.00 -0.030954   \n",
       "\n",
       "                        Cloud        O3    HC   N2O  \n",
       "emission_experiment                                  \n",
       "CO2                  0.000000  0.000000  0.00  0.00  \n",
       "CH4                  0.017625  0.279179  0.00  0.00  \n",
       "N2O                  0.040667  0.024311  0.00  0.21  \n",
       "HC                  -0.016667 -0.164586  0.41  0.00  \n",
       "NOx                 -0.013833  0.120237  0.00  0.00  \n",
       "VOC                  0.008500  0.210860  0.00  0.00  \n",
       "SO2                 -0.654434  0.000000  0.00  0.00  \n",
       "OC                  -0.127318  0.000000  0.00  0.00  \n",
       "BC                  -0.058248  0.000000  0.00  0.00  \n",
       "NH3                  0.000000  0.000000  0.00  0.00  "
      ]
     },
     "execution_count": 320,
     "metadata": {},
     "output_type": "execute_result"
    }
   ],
   "source": [
    "df_collins#.columns"
   ]
  },
  {
   "cell_type": "markdown",
   "metadata": {},
   "source": [
    "## Source of delta T equal to source of ERF"
   ]
  },
  {
   "cell_type": "code",
   "execution_count": 352,
   "metadata": {},
   "outputs": [
    {
     "data": {
      "text/plain": [
       "<matplotlib.axes._subplots.AxesSubplot at 0x7f51591b8750>"
      ]
     },
     "execution_count": 352,
     "metadata": {},
     "output_type": "execute_result"
    },
    {
     "data": {
      "image/png": "[encoded data removed]",
      "text/plain": [
       "<Figure size 432x288 with 1 Axes>"
      ]
     },
     "metadata": {
      "needs_background": "light"
     },
     "output_type": "display_data"
    }
   ],
   "source": [
    "dT_2019 = pd.DataFrame(df_deltaT.loc[2019])\n",
    "dT_2019.index= dT_2019.index.rename('emission_experiment')\n",
    "df_coll_t = df_collins.transpose()\n",
    "if 'Total' in df_coll_t.index:\n",
    "    df_coll_t = df_coll_t.drop('Total')\n",
    "# scale by total:\n",
    "scale = df_coll_t.sum()\n",
    "# normalized ERF: \n",
    "df_col_normalized = df_coll_t/scale\n",
    "#\n",
    "df_col_normalized.transpose().plot.barh(stacked=True)"
   ]
  },
  {
   "cell_type": "markdown",
   "metadata": {},
   "source": [
    "We multiply the change in GSAT in 2019 by the matrix describing the source distribution from the ERF:"
   ]
  },
  {
   "cell_type": "code",
   "execution_count": 340,
   "metadata": {},
   "outputs": [],
   "source": [
    "df_dt_sep = dT_2019[2019]*df_col_normalized\n",
    "df_dt_sep=df_dt_sep.transpose()"
   ]
  },
  {
   "cell_type": "code",
   "execution_count": 353,
   "metadata": {},
   "outputs": [
    {
     "data": {
      "text/plain": [
       "<matplotlib.axes._subplots.AxesSubplot at 0x7f515919c850>"
      ]
     },
     "execution_count": 353,
     "metadata": {},
     "output_type": "execute_result"
    },
    {
     "data": {
      "image/png": "[encoded data removed]",
      "text/plain": [
       "<Figure size 432x288 with 1 Axes>"
      ]
     },
     "metadata": {
      "needs_background": "light"
     },
     "output_type": "display_data"
    }
   ],
   "source": [
    "df_dt_sep.plot.bar(stacked=True)"
   ]
  },
  {
   "cell_type": "code",
   "execution_count": 354,
   "metadata": {},
   "outputs": [
    {
     "data": {
      "text/plain": [
       "<matplotlib.axes._subplots.AxesSubplot at 0x7f515926bad0>"
      ]
     },
     "execution_count": 354,
     "metadata": {},
     "output_type": "execute_result"
    },
    {
     "data": {
      "image/png": "[encoded data removed]",
      "text/plain": [
       "<Figure size 432x288 with 1 Axes>"
      ]
     },
     "metadata": {
      "needs_background": "light"
     },
     "output_type": "display_data"
    }
   ],
   "source": [
    "df_dt_sep.transpose().sum().plot.line()\n",
    "\n",
    "df_deltaT.loc[2019].plot.line()#bar(stacked=True)"
   ]
  },
  {
   "cell_type": "code",
   "execution_count": 355,
   "metadata": {},
   "outputs": [
    {
     "data": {
      "text/html": [
       "<div>\n",
       "<style scoped>\n",
       "    .dataframe tbody tr th:only-of-type {\n",
       "        vertical-align: middle;\n",
       "    }\n",
       "\n",
       "    .dataframe tbody tr th {\n",
       "        vertical-align: top;\n",
       "    }\n",
       "\n",
       "    .dataframe thead th {\n",
       "        text-align: right;\n",
       "    }\n",
       "</style>\n",
       "<table border=\"1\" class=\"dataframe\">\n",
       "  <thead>\n",
       "    <tr style=\"text-align: right;\">\n",
       "      <th></th>\n",
       "      <th>CO2</th>\n",
       "      <th>N2O</th>\n",
       "      <th>HC</th>\n",
       "      <th>GHG</th>\n",
       "      <th>CH4_lifetime</th>\n",
       "      <th>O3</th>\n",
       "      <th>Strat_H2O</th>\n",
       "      <th>Aerosol</th>\n",
       "      <th>Cloud</th>\n",
       "    </tr>\n",
       "    <tr>\n",
       "      <th>emission_experiment</th>\n",
       "      <th></th>\n",
       "      <th></th>\n",
       "      <th></th>\n",
       "      <th></th>\n",
       "      <th></th>\n",
       "      <th></th>\n",
       "      <th></th>\n",
       "      <th></th>\n",
       "      <th></th>\n",
       "    </tr>\n",
       "  </thead>\n",
       "  <tbody>\n",
       "    <tr>\n",
       "      <th>VOC</th>\n",
       "      <td>0.042901</td>\n",
       "      <td>0.000000</td>\n",
       "      <td>0.000000</td>\n",
       "      <td>0.0</td>\n",
       "      <td>0.100298</td>\n",
       "      <td>0.130177</td>\n",
       "      <td>0.000000</td>\n",
       "      <td>-0.002064</td>\n",
       "      <td>0.005248</td>\n",
       "    </tr>\n",
       "    <tr>\n",
       "      <th>SO2</th>\n",
       "      <td>0.000000</td>\n",
       "      <td>0.000000</td>\n",
       "      <td>0.000000</td>\n",
       "      <td>0.0</td>\n",
       "      <td>0.000000</td>\n",
       "      <td>0.000000</td>\n",
       "      <td>0.000000</td>\n",
       "      <td>-0.141534</td>\n",
       "      <td>-0.431411</td>\n",
       "    </tr>\n",
       "    <tr>\n",
       "      <th>OC</th>\n",
       "      <td>0.000000</td>\n",
       "      <td>0.000000</td>\n",
       "      <td>0.000000</td>\n",
       "      <td>0.0</td>\n",
       "      <td>0.000000</td>\n",
       "      <td>0.000000</td>\n",
       "      <td>0.000000</td>\n",
       "      <td>-0.038984</td>\n",
       "      <td>-0.075055</td>\n",
       "    </tr>\n",
       "    <tr>\n",
       "      <th>NOx</th>\n",
       "      <td>0.000000</td>\n",
       "      <td>0.000000</td>\n",
       "      <td>0.000000</td>\n",
       "      <td>0.0</td>\n",
       "      <td>-0.218494</td>\n",
       "      <td>0.069130</td>\n",
       "      <td>0.000000</td>\n",
       "      <td>-0.006849</td>\n",
       "      <td>-0.007953</td>\n",
       "    </tr>\n",
       "    <tr>\n",
       "      <th>NH3</th>\n",
       "      <td>0.000000</td>\n",
       "      <td>0.000000</td>\n",
       "      <td>0.000000</td>\n",
       "      <td>0.0</td>\n",
       "      <td>0.000000</td>\n",
       "      <td>0.000000</td>\n",
       "      <td>0.000000</td>\n",
       "      <td>-0.016803</td>\n",
       "      <td>0.000000</td>\n",
       "    </tr>\n",
       "    <tr>\n",
       "      <th>N2O</th>\n",
       "      <td>0.000000</td>\n",
       "      <td>0.112223</td>\n",
       "      <td>0.000000</td>\n",
       "      <td>0.0</td>\n",
       "      <td>-0.019221</td>\n",
       "      <td>0.012991</td>\n",
       "      <td>0.000000</td>\n",
       "      <td>-0.001452</td>\n",
       "      <td>0.021732</td>\n",
       "    </tr>\n",
       "    <tr>\n",
       "      <th>HC</th>\n",
       "      <td>0.000035</td>\n",
       "      <td>0.000000</td>\n",
       "      <td>0.270226</td>\n",
       "      <td>0.0</td>\n",
       "      <td>-0.033565</td>\n",
       "      <td>-0.108477</td>\n",
       "      <td>0.000000</td>\n",
       "      <td>-0.006921</td>\n",
       "      <td>-0.010985</td>\n",
       "    </tr>\n",
       "    <tr>\n",
       "      <th>CO2</th>\n",
       "      <td>1.083193</td>\n",
       "      <td>0.000000</td>\n",
       "      <td>0.000000</td>\n",
       "      <td>0.0</td>\n",
       "      <td>0.000000</td>\n",
       "      <td>0.000000</td>\n",
       "      <td>0.000000</td>\n",
       "      <td>0.000000</td>\n",
       "      <td>0.000000</td>\n",
       "    </tr>\n",
       "    <tr>\n",
       "      <th>CH4</th>\n",
       "      <td>0.009846</td>\n",
       "      <td>0.000000</td>\n",
       "      <td>0.000000</td>\n",
       "      <td>0.0</td>\n",
       "      <td>0.473787</td>\n",
       "      <td>0.156635</td>\n",
       "      <td>0.028053</td>\n",
       "      <td>-0.001935</td>\n",
       "      <td>0.009889</td>\n",
       "    </tr>\n",
       "    <tr>\n",
       "      <th>BC</th>\n",
       "      <td>0.000000</td>\n",
       "      <td>0.000000</td>\n",
       "      <td>0.000000</td>\n",
       "      <td>0.0</td>\n",
       "      <td>0.000000</td>\n",
       "      <td>0.000000</td>\n",
       "      <td>0.000000</td>\n",
       "      <td>0.073458</td>\n",
       "      <td>-0.034588</td>\n",
       "    </tr>\n",
       "  </tbody>\n",
       "</table>\n",
       "</div>"
      ],
      "text/plain": [
       "                          CO2       N2O        HC  GHG  CH4_lifetime  \\\n",
       "emission_experiment                                                    \n",
       "VOC                  0.042901  0.000000  0.000000  0.0      0.100298   \n",
       "SO2                  0.000000  0.000000  0.000000  0.0      0.000000   \n",
       "OC                   0.000000  0.000000  0.000000  0.0      0.000000   \n",
       "NOx                  0.000000  0.000000  0.000000  0.0     -0.218494   \n",
       "NH3                  0.000000  0.000000  0.000000  0.0      0.000000   \n",
       "N2O                  0.000000  0.112223  0.000000  0.0     -0.019221   \n",
       "HC                   0.000035  0.000000  0.270226  0.0     -0.033565   \n",
       "CO2                  1.083193  0.000000  0.000000  0.0      0.000000   \n",
       "CH4                  0.009846  0.000000  0.000000  0.0      0.473787   \n",
       "BC                   0.000000  0.000000  0.000000  0.0      0.000000   \n",
       "\n",
       "                           O3  Strat_H2O   Aerosol     Cloud  \n",
       "emission_experiment                                           \n",
       "VOC                  0.130177   0.000000 -0.002064  0.005248  \n",
       "SO2                  0.000000   0.000000 -0.141534 -0.431411  \n",
       "OC                   0.000000   0.000000 -0.038984 -0.075055  \n",
       "NOx                  0.069130   0.000000 -0.006849 -0.007953  \n",
       "NH3                  0.000000   0.000000 -0.016803  0.000000  \n",
       "N2O                  0.012991   0.000000 -0.001452  0.021732  \n",
       "HC                  -0.108477   0.000000 -0.006921 -0.010985  \n",
       "CO2                  0.000000   0.000000  0.000000  0.000000  \n",
       "CH4                  0.156635   0.028053 -0.001935  0.009889  \n",
       "BC                   0.000000   0.000000  0.073458 -0.034588  "
      ]
     },
     "execution_count": 355,
     "metadata": {},
     "output_type": "execute_result"
    }
   ],
   "source": [
    "rename_dic_cat = {\n",
    "    'CO2':'Carbon dioxide (CO$_2$)',\n",
    "    'GHG':'WMGHG',\n",
    "    'CH4_lifetime': 'Methane (CH$_4$)',\n",
    "    'O3': 'Ozone (O$_3$)',\n",
    "    'Strat_H2O':'H$_2$O (strat)',\n",
    "    'Aerosol':'Aerosol-radiation',\n",
    "    'Cloud':'Aerosol-cloud'\n",
    "}\n",
    "rename_dic_cols ={\n",
    "    'CO2':'CO$_2$',\n",
    "    'CH4':'CH$_4$',\n",
    "    'N2O':'N$_2$O',\n",
    "    'HC':'CFC + HCFC',\n",
    "    'NOx':'NO$_x$',\n",
    "    'VOC':'VOC + CO',\n",
    "    'SO2':'SO$_2$',\n",
    "    'OC':'Organic carbon',\n",
    "    'BC':'Black carbon',\n",
    "    'NH3':'Ammonia'\n",
    "}\n"
   ]
  },
  {
   "cell_type": "code",
   "execution_count": 178,
   "metadata": {},
   "outputs": [
    {
     "data": {
      "text/plain": [
       "array([ 0,  1,  2,  3,  4,  5,  6,  7,  8,  9, 10])"
      ]
     },
     "execution_count": 178,
     "metadata": {},
     "output_type": "execute_result"
    }
   ],
   "source": [
    "ybar = np.arange(len(tab_plt)+1)#, -1)\n",
    "ybar"
   ]
  },
  {
   "cell_type": "code",
   "execution_count": 356,
   "metadata": {},
   "outputs": [],
   "source": [
    "col_ls = [cols[c] for c in cols.keys()]"
   ]
  },
  {
   "cell_type": "code",
   "execution_count": 359,
   "metadata": {},
   "outputs": [],
   "source": [
    "exps_ls = ['CO2', 'CH4', 'N2O', 'HC', 'NOx', 'VOC', 'SO2', 'OC', 'BC', 'NH3']"
   ]
  },
  {
   "cell_type": "code",
   "execution_count": 410,
   "metadata": {},
   "outputs": [],
   "source": [
    "tab_plt_dT = df_dt_sep.loc[::-1,var_dir]#.rename(rename_dic_cat, axis=1).rename(rename_dic_cols, axis=0)\n",
    "tab_plt_dT=tab_plt_dT.loc[exps_ls]\n",
    "tab_plt_dT =tab_plt_dT.rename(rename_dic_cat, axis=1).rename(rename_dic_cols, axis=0)"
   ]
  },
  {
   "cell_type": "code",
   "execution_count": 368,
   "metadata": {},
   "outputs": [
    {
     "name": "stdout",
     "output_type": "stream",
     "text": [
      "(0.9568627450980393, 0.796078431372549, 0.21176470588235294)\n",
      "(0.8274509803921568, 0.0, 0.1568627450980392)\n",
      "(0.47843137254901963, 0.5058823529411764, 0.5058823529411764)\n",
      "(0.30980392156862746, 0.3215686274509804, 0.7176470588235294)\n",
      "(1.0, 0.4196078431372549, 0.07450980392156863)\n",
      "(0.5254901960784314, 0.7803921568627451, 0.29411764705882354)\n",
      "(0.47843137254901963, 0.5058823529411764, 0.5058823529411764)\n",
      "(0.792156862745098, 0.6980392156862745, 0.8392156862745098)\n",
      "(0.5607843137254902, 0.0, 0.6470588235294118)\n"
     ]
    }
   ],
   "source": [
    "cmap = get_cmap_dic(tab_plt.columns)\n",
    "col_ls = [cmap[c] for c in cmap.keys()]"
   ]
  },
  {
   "cell_type": "code",
   "execution_count": 377,
   "metadata": {},
   "outputs": [
    {
     "data": {
      "text/plain": [
       "emission_experiment\n",
       "NH3   -0.016803\n",
       "BC     0.038870\n",
       "OC    -0.114039\n",
       "SO2   -0.572946\n",
       "VOC    0.276559\n",
       "NOx   -0.164167\n",
       "HC     0.110313\n",
       "N2O    0.126274\n",
       "CH4    0.676275\n",
       "CO2    1.083193\n",
       "dtype: float64"
      ]
     },
     "execution_count": 377,
     "metadata": {},
     "output_type": "execute_result"
    }
   ],
   "source": [
    "tab_plt.sum(axis=1)[::-1]"
   ]
  },
  {
   "cell_type": "code",
   "execution_count": 430,
   "metadata": {
    "lines_to_next_cell": 2
   },
   "outputs": [
    {
     "data": {
      "image/png": "[encoded data removed]",
      "text/plain": [
       "<Figure size 1500x600 with 2 Axes>"
      ]
     },
     "metadata": {
      "needs_background": "light"
     },
     "output_type": "display_data"
    }
   ],
   "source": [
    "fig, axs = plt.subplots(1,2,dpi=150, figsize=[10,4])\n",
    "width=.8\n",
    "kws = {\n",
    "    'width':.8,\n",
    "    'linewidth':.1,\n",
    "    'edgecolor':'k',\n",
    "    \n",
    "}\n",
    "\n",
    "ax=axs[0]\n",
    "tab_plt_ERF.plot.barh(stacked=True, color=col_ls, ax=ax,**kws)\n",
    "#tot = table['Total'][::-1]\n",
    "tot = tab_plt_ERF.sum(axis=1)#tab_plt\n",
    "xerr = df_err['95-50'][::-1]\n",
    "y = np.arange(len(tot))\n",
    "ax.errorbar(tot, y,xerr=xerr,marker='d', linestyle='None', color='k', label='Sum', )\n",
    "#ax.legend(frameon=False)\n",
    "ax.set_ylabel('')\n",
    "\n",
    "\n",
    "for lab, y in zip(tab_plt.index, ybar):\n",
    "        #plt.text(-1.55, ybar[i], species[i],  ha='left')#, va='left')\n",
    "    ax.text(-1.9, y-0.1, lab,  ha='left')#, va='left')\n",
    "ax.set_title('Effective radiative forcing, 1750 to 2019')\n",
    "ax.set_xlabel(r'Effective radiative forcing, W m$^{-2}$')\n",
    "#ax.set_xlim(-1.5, 2.6)\n",
    "    #plt.xlim(-1.6, 2.0)\n",
    "#sns.despine(fig, left=True, trim=True)\n",
    "ax.legend(loc='lower right', frameon=False)\n",
    "ax.axvline(x=0., color='k', linewidth=0.25)\n",
    "ax.set_yticks([])\n",
    "\n",
    "ax.get_legend().remove()\n",
    "\n",
    "\n",
    "\n",
    "\n",
    "\n",
    "ax=axs[1]\n",
    "tab_plt_dT[::-1].plot.barh(stacked=True, color=col_ls, ax=ax,**kws)\n",
    "tot = tab_plt_dT.sum(axis=1)[::-1]\n",
    "#xerr =0# df_err['95-50'][::-1]\n",
    "y = np.arange(len(tot))\n",
    "ax.errorbar(tot, y,marker='d', linestyle='None', color='k', label='Sum', )\n",
    "#ax.legend(frameon=False)\n",
    "ax.set_ylabel('')\n",
    "\n",
    "\n",
    "\n",
    "\n",
    "\n",
    "##for lab, y in zip(tab_plt_dT[::-1].index, ybar):\n",
    "        #plt.text(-1.55, ybar[i], species[i],  ha='left')#, va='left')\n",
    "#    ax.text(-.8, y-0.1, lab,  ha='left')#, va='left')\n",
    "ax.set_title('Change in GSAT,  1750 to 2019')\n",
    "ax.set_xlabel(r'Change in GSAT ($^{\\circ}$C)')\n",
    "ax.set_xlim(-.6, 1.8)\n",
    "\n",
    "\n",
    "sns.despine(fig, left=True, trim=True)\n",
    "ax.spines['bottom'].set_bounds(-.5,1.5)\n",
    "\n",
    "ax.legend(loc='lower right', frameon=False)\n",
    "ax.axvline(x=0., color='k', linewidth=0.25)\n",
    "fn = 'attribution_1750_2019.png'\n",
    "#fp = RESULTS_DIR /'figures_historic_attribution_DT'/fn\n",
    "#fp.parent.mkdir(parents=True, exist_ok=True)\n",
    "ax.set_yticks([])\n",
    "\n",
    "#plt.savefig(fp, dpi=300)\n",
    "#plt.savefig(fp.with_suffix('.pdf'), dpi=300)\n",
    "plt.show()"
   ]
  },
  {
   "cell_type": "code",
   "execution_count": 91,
   "metadata": {},
   "outputs": [
    {
     "data": {
      "text/plain": [
       "<matplotlib.axes._subplots.AxesSubplot at 0x7f515fa0f110>"
      ]
     },
     "execution_count": 91,
     "metadata": {},
     "output_type": "execute_result"
    },
    {
     "data": {
      "image/png": "[encoded data removed]",
      "text/plain": [
       "<Figure size 432x288 with 1 Axes>"
      ]
     },
     "metadata": {
      "needs_background": "light"
     },
     "output_type": "display_data"
    }
   ],
   "source": [
    "(dT_2019[2019]*df_col_normalized).transpose().plot.barh(stacked=True)"
   ]
  },
  {
   "cell_type": "code",
   "execution_count": 88,
   "metadata": {},
   "outputs": [
    {
     "data": {
      "text/plain": [
       "<matplotlib.axes._subplots.AxesSubplot at 0x7f515fc166d0>"
      ]
     },
     "execution_count": 88,
     "metadata": {},
     "output_type": "execute_result"
    },
    {
     "data": {
      "image/png": "[encoded data removed]",
      "text/plain": [
       "<Figure size 432x288 with 1 Axes>"
      ]
     },
     "metadata": {
      "needs_background": "light"
     },
     "output_type": "display_data"
    }
   ],
   "source": [
    "dT_2019[2019].plot.barh(stacked=True)"
   ]
  },
  {
   "cell_type": "code",
   "execution_count": 71,
   "metadata": {},
   "outputs": [],
   "source": [
    "scale = np.abs(df_coll_t.drop('Total')).sum()#).transpose().plot.barh(stacked=True)"
   ]
  },
  {
   "cell_type": "code",
   "execution_count": 70,
   "metadata": {},
   "outputs": [
    {
     "data": {
      "text/plain": [
       "emission_experiment\n",
       "CO2    1.0\n",
       "CH4    1.0\n",
       "N2O    1.0\n",
       "HC     1.0\n",
       "NOx    1.0\n",
       "VOC    1.0\n",
       "SO2    1.0\n",
       "OC     1.0\n",
       "BC     1.0\n",
       "NH3    1.0\n",
       "dtype: float64"
      ]
     },
     "execution_count": 70,
     "metadata": {},
     "output_type": "execute_result"
    }
   ],
   "source": [
    "np.abs((df_coll_t.drop('Total')/np.abs(df_coll_t.drop('Total')).sum()).transpose()).sum(axis=1)#.plot.barh(stacked=True)"
   ]
  },
  {
   "cell_type": "code",
   "execution_count": 16,
   "metadata": {},
   "outputs": [],
   "source": [
    "forcing_total_collins = df_collins['Total']"
   ]
  },
  {
   "cell_type": "code",
   "execution_count": 21,
   "metadata": {},
   "outputs": [
    {
     "ename": "NameError",
     "evalue": "name 'table_sd' is not defined",
     "output_type": "error",
     "traceback": [
      "\u001b[0;31m---------------------------------------------------------------------------\u001b[0m",
      "\u001b[0;31mNameError\u001b[0m                                 Traceback (most recent call last)",
      "\u001b[0;32m<ipython-input-21-e97a8a83f3b0>\u001b[0m in \u001b[0;36m<module>\u001b[0;34m\u001b[0m\n\u001b[0;32m----> 1\u001b[0;31m \u001b[0msd_tot\u001b[0m \u001b[0;34m=\u001b[0m \u001b[0mtable_sd\u001b[0m\u001b[0;34m[\u001b[0m\u001b[0;34m'Total_sd'\u001b[0m\u001b[0;34m]\u001b[0m\u001b[0;34m\u001b[0m\u001b[0;34m\u001b[0m\u001b[0m\n\u001b[0m\u001b[1;32m      2\u001b[0m \u001b[0mdf_err\u001b[0m\u001b[0;34m=\u001b[0m \u001b[0mpd\u001b[0m\u001b[0;34m.\u001b[0m\u001b[0mDataFrame\u001b[0m\u001b[0;34m(\u001b[0m\u001b[0msd_tot\u001b[0m\u001b[0;34m.\u001b[0m\u001b[0mrename\u001b[0m\u001b[0;34m(\u001b[0m\u001b[0;34m'std'\u001b[0m\u001b[0;34m)\u001b[0m\u001b[0;34m)\u001b[0m\u001b[0;34m\u001b[0m\u001b[0;34m\u001b[0m\u001b[0m\n\u001b[1;32m      3\u001b[0m \u001b[0mdf_err\u001b[0m\u001b[0;34m[\u001b[0m\u001b[0;34m'SE'\u001b[0m\u001b[0;34m]\u001b[0m \u001b[0;34m=\u001b[0m \u001b[0mdf_err\u001b[0m\u001b[0;34m\u001b[0m\u001b[0;34m\u001b[0m\u001b[0m\n",
      "\u001b[0;31mNameError\u001b[0m: name 'table_sd' is not defined"
     ]
    }
   ],
   "source": [
    "sd_tot = table_sd['Total_sd']\n",
    "df_err= pd.DataFrame(sd_tot.rename('std'))\n",
    "df_err['SE'] = df_err"
   ]
  },
  {
   "cell_type": "code",
   "execution_count": null,
   "metadata": {
    "lines_to_next_cell": 2
   },
   "outputs": [],
   "source": [
    "\n",
    "std_2_95th = 1.645#df_err['SE'] = df_err['std']/np.sqrt(thornhill[num_mod_lab])\n",
    "df_err['95-50_SE'] = df_err['SE']*std_2_95th\n",
    "df_err.loc['CO2','95-50_SE']= df_err.loc['CO2','std']"
   ]
  },
  {
   "cell_type": "code",
   "execution_count": null,
   "metadata": {},
   "outputs": [],
   "source": [
    "df_err['95-50'] = df_err['std']*std_2_95th\n",
    "df_err.loc['CO2','95-50']= df_err.loc['CO2','std']\n",
    "df_err"
   ]
  },
  {
   "cell_type": "code",
   "execution_count": null,
   "metadata": {},
   "outputs": [],
   "source": [
    "std_2_95th = 1.645"
   ]
  },
  {
   "cell_type": "code",
   "execution_count": null,
   "metadata": {},
   "outputs": [],
   "source": [
    "var_dir"
   ]
  },
  {
   "cell_type": "code",
   "execution_count": null,
   "metadata": {},
   "outputs": [],
   "source": [
    "cmap = get_cmap_dic(var_dir)\n",
    "\n",
    "cmap\n",
    "\n",
    "cols = [cmap[c] for c in var_dir]"
   ]
  },
  {
   "cell_type": "code",
   "execution_count": null,
   "metadata": {},
   "outputs": [],
   "source": []
  },
  {
   "cell_type": "code",
   "execution_count": null,
   "metadata": {},
   "outputs": [],
   "source": [
    "ybar = np.arange(len(tab_plt)+1)#, -1)\n",
    "ybar"
   ]
  },
  {
   "cell_type": "code",
   "execution_count": null,
   "metadata": {},
   "outputs": [],
   "source": [
    "tab_plt= pd.read_csv(BASE_DIR/'notebooks/bill_collins/plt_tab.csv',index_col=0)\n",
    "tot=pd.read_csv(BASE_DIR/'notebooks/bill_collins/tot.csv',index_col=0)\n",
    "xerr= pd.read_csv(BASE_DIR/'notebooks/bill_collins/xerr.csv',index_col=0)"
   ]
  },
  {
   "cell_type": "code",
   "execution_count": null,
   "metadata": {},
   "outputs": [],
   "source": [
    "width = 0.7\n",
    "kwargs = {'linewidth':.1,'edgecolor':'k'}"
   ]
  },
  {
   "cell_type": "code",
   "execution_count": null,
   "metadata": {
    "lines_to_next_cell": 2
   },
   "outputs": [],
   "source": [
    "fig, ax = plt.subplots()#figsize=[10,10])\n",
    "\n",
    "\n",
    "tab_plt.plot.barh(stacked=True, color=cols, linewidth=.0, edgecolor='k',ax=ax, width=width)\n",
    "#tot = table['Total']#[::-1]\n",
    "#xerr = df_err['95-50']#[::-1]\n",
    "y = np.arange(len(tot))\n",
    "plt.errorbar(tot['Total'], y,xerr=xerr['95-50'],marker='d', linestyle='None', color='k', label='Sum', )\n",
    "plt.legend(frameon=False)\n",
    "ax.set_ylabel('')\n",
    "sns.despine()\n",
    "\n",
    "\n",
    "\n",
    "\n",
    "\n",
    "for lab, y in zip(tab_plt.index, ybar):\n",
    "        #plt.text(-1.55, ybar[i], species[i],  ha='left')#, va='left')\n",
    "    plt.text(-1.9, y-0.1, lab,  ha='left')#, va='left')\n",
    "plt.title('Change in effective radiative forcing from  1750 to 2019')\n",
    "plt.xlabel(r'Effective radiative forcing, W m$^{-2}$')\n",
    "plt.xlim(-1.5, 2.6)\n",
    "    #plt.xlim(-1.6, 2.0)\n",
    "sns.despine(fig, left=True, trim=True)\n",
    "plt.legend(loc='lower right', frameon=False)\n",
    "plt.axvline(x=0., color='k', linewidth=0.25)\n",
    "fn = 'attribution_1750_2019_5-95th.png'\n",
    "fp = RESULTS_DIR /'figures_historic_attribution'/fn\n",
    "fp.parent.mkdir(parents=True, exist_ok=True)\n",
    "ax.set_yticks([])\n",
    "\n",
    "#plt.savefig(fp, dpi=300)\n",
    "#plt.savefig(fp.with_suffix('.pdf'), dpi=300)\n",
    "plt.show()"
   ]
  },
  {
   "cell_type": "code",
   "execution_count": null,
   "metadata": {
    "lines_to_next_cell": 2
   },
   "outputs": [],
   "source": [
    "df_deltaT.loc[yrs].rename(labs,axis=0).plot.barh(stacked=True, color=col_list, ax=ax)"
   ]
  },
  {
   "cell_type": "code",
   "execution_count": null,
   "metadata": {
    "lines_to_next_cell": 2
   },
   "outputs": [],
   "source": [
    "fig, (ax,ax2) = plt.subplots(2,  gridspec_kw={'height_ratios': [3, 1]},figsize=[10,10])\n",
    "\n",
    "\n",
    "tab_plt.plot.barh(stacked=True, color=cols, linewidth=.0, edgecolor='k',ax=ax, width=width)\n",
    "#tot = table['Total']#[::-1]\n",
    "#xerr = df_err['95-50']#[::-1]\n",
    "y = np.arange(len(tot))\n",
    "ax.errorbar(tot['Total'], y,xerr=xerr['95-50'],marker='d', linestyle='None', color='k', label='Sum', )\n",
    "ax.legend(frameon=False, loc='lower right')\n",
    "ax.set_ylabel('')\n",
    "sns.despine(fig)\n",
    "\n",
    "\n",
    "\n",
    "\n",
    "\n",
    "for lab, y in zip(tab_plt.index, ybar):\n",
    "        #plt.text(-1.55, ybar[i], species[i],  ha='left')#, va='left')\n",
    "    ax.text(-1.9, y-0.1, lab,  ha='left')#, va='left')\n",
    "plt.title('Change in effective radiative forcing from  1750 to 2019')\n",
    "plt.xlabel(r'Effective radiative forcing, W m$^{-2}$')\n",
    "plt.xlim(-1.5, 2.6)\n",
    "    #plt.xlim(-1.6, 2.0)\n",
    "sns.despine(fig, left=True, trim=True)\n",
    "plt.legend(loc='lower right', frameon=False)\n",
    "plt.axvline(x=0., color='k', linewidth=0.25)\n",
    "fn = 'attribution_1750_2019_5-95th.png'\n",
    "fp = RESULTS_DIR /'figures_historic_attribution'/fn\n",
    "fp.parent.mkdir(parents=True, exist_ok=True)\n",
    "ax.set_yticks([])\n",
    "\n",
    "#plt.savefig(fp, dpi=300)\n",
    "#plt.savefig(fp.with_suffix('.pdf'), dpi=300)\n",
    "\n",
    "\n",
    "\n",
    "\n"
   ]
  },
  {
   "cell_type": "code",
   "execution_count": null,
   "metadata": {},
   "outputs": [],
   "source": [
    "fig, ax = plt.subplots()\n",
    "ax.vlines(0,-1,3, linestyle='dashed',alpha=0.4)\n",
    "yrs = [1950,1960,1970,1980,1990,2000, 2019,]\n",
    "labs ={y:f'{y}-1750' for y in yrs}\n",
    "df_deltaT.loc[yrs].rename(labs,axis=0).plot.barh(stacked=True, color=col_list, ax=ax)\n",
    "plt.legend(frameon=False)\n",
    "sns.despine(fig, left=True)\n",
    "ax.set_xlim([-1,2.3])\n",
    "ax.set_xlabel('$\\Delta$GSAT$^\\circ$C')\n",
    "ax.set_ylabel('')\n",
    "plt.show()"
   ]
  },
  {
   "cell_type": "code",
   "execution_count": null,
   "metadata": {},
   "outputs": [],
   "source": [
    "type(xerr)"
   ]
  },
  {
   "cell_type": "markdown",
   "metadata": {},
   "source": [
    "## Meeting notes:\n",
    "\n",
    "\n",
    "- Replace WMGHG by N2O /halogenated (posibilitity to split in blue/darkblue??)\n",
    "- VOC should be NMVOC\n",
    "- Title “Emission based ERF in 2019 relative to 1750”\n",
    "- Add HFCs\n",
    "Idealized delta GSAT:\n",
    "- Mock up for zoom out from the bigger one\n",
    "- Add the emissions protocol in a corner,\n",
    "- Title is it “mitigation” and not idealized sustained reductions?\n",
    "\n",
    "\n",
    "\n",
    "## GSAT timeseries\n",
    "- _Giddens and aerc_\n",
    "- _impact --> effect_\n",
    "\n",
    "- _Replace low NTCF by low SLCF low CH4 or low SLCF high CH4_\n",
    "- _Giddens: low CH4_\n",
    "- _aerchemip: high CH4_\n",
    "- Impact SHOULD BE effect!!\n",
    "- Add above the uncertainty bar what it represent (on the figure)\n",
    "- Add °C for the top 2 left panels\n",
    "\n",
    "- Add a second y-axis for absolute change comp w 1850\n",
    "\n",
    "\n",
    "- _relative to 2019 \n",
    "\n",
    "- Add relative to 1750\n",
    "- \n",
    "\n",
    "## SSP bar plot:\n",
    "\n",
    "\n",
    "- _Replace low NTCF by low SLCF low CH4 or low SLCF high CH4_\n",
    "- _Replace delta by GSAT change_\n",
    "- _relative to 2019_"
   ]
  }
 ],
 "metadata": {
  "jupytext": {
   "encoding": "# -*- coding: utf-8 -*-",
   "text_representation": {
    "extension": ".py",
    "format_name": "percent",
    "format_version": "1.3",
    "jupytext_version": "1.3.3"
   }
  },
  "kernelspec": {
   "display_name": "Python 3",
   "language": "python",
   "name": "python3"
  },
  "language_info": {
   "codemirror_mode": {
    "name": "ipython",
    "version": 3
   },
   "file_extension": ".py",
   "mimetype": "text/x-python",
   "name": "python",
   "nbconvert_exporter": "python",
   "pygments_lexer": "ipython3",
   "version": "3.7.6"
  }
 },
 "nbformat": 4,
 "nbformat_minor": 4
}
