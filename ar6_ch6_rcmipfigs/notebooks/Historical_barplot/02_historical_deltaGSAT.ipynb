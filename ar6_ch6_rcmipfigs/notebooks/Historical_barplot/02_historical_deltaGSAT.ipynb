{
 "cells": [
  {
   "cell_type": "markdown",
   "metadata": {},
   "source": [
    "# Compute $\\Delta T$"
   ]
  },
  {
   "cell_type": "markdown",
   "metadata": {},
   "source": [
    "### Imports\n"
   ]
  },
  {
   "cell_type": "code",
   "execution_count": 1,
   "metadata": {},
   "outputs": [
    {
     "name": "stdout",
     "output_type": "stream",
     "text": [
      "/home/sarambl/PHD/IPCC/public/AR6_CH6_RCMIPFIGSv2/ar6_ch6_rcmipfigs\n",
      "/home/sarambl/PHD/IPCC/public/AR6_CH6_RCMIPFIGSv2/ar6_ch6_rcmipfigs/data_in\n"
     ]
    }
   ],
   "source": [
    "import pandas as pd\n",
    "import xarray as xr\n",
    "from IPython.display import clear_output\n",
    "import numpy as np\n",
    "import pandas as pd\n",
    "import matplotlib.pyplot as plt\n",
    "\n",
    "%load_ext autoreload\n",
    "%autoreload 2\n",
    "from ar6_ch6_rcmipfigs.constants import INPUT_DATA_DIR"
   ]
  },
  {
   "cell_type": "markdown",
   "metadata": {
    "lines_to_next_cell": 0
   },
   "source": [
    "### General about computing $\\Delta T$:"
   ]
  },
  {
   "cell_type": "markdown",
   "metadata": {
    "lines_to_next_cell": 0
   },
   "source": [
    "We compute the change in GSAT temperature ($\\Delta T$) from the effective radiative forcing (ERF) from MAGICC?????? (#TODO: check model and reference), by integrating with the impulse response function (IRF(t-t'))\n",
    "\n",
    "#todo: check for ref for IRF\n",
    "(Geoffroy at al 2013).\n",
    "\n",
    "For any forcing agent $x$, with estimated ERF$_x$, the change in temperature $\\Delta T$ is calculated as:\n"
   ]
  },
  {
   "cell_type": "markdown",
   "metadata": {
    "lines_to_next_cell": 0
   },
   "source": [
    "\\begin{align*}\n",
    "\\Delta T_x (t) &= \\int_0^t ERF_x(t') IRF(t-t') dt' \\\\\n",
    "\\end{align*}"
   ]
  },
  {
   "cell_type": "markdown",
   "metadata": {
    "lines_to_next_cell": 0
   },
   "source": [
    "#### The Impulse response function (IRF):\n",
    "In these calculations we use:\n",
    "\\begin{align*}\n",
    "IRF(t) = \\frac{q_1}{d_1} \\exp\\Big(\\frac{-t}{d_1}\\Big) + \\frac{q_2}{d_2} \\exp\\Big(\\frac{-t}{d_2}\\Big)\n",
    "\\end{align*}\n",
    "\n",
    "Where the constants, $q_i$ and $d_i$ are shown below. \n",
    "\n"
   ]
  },
  {
   "cell_type": "markdown",
   "metadata": {},
   "source": [
    "# Code + figures"
   ]
  },
  {
   "cell_type": "code",
   "execution_count": 2,
   "metadata": {},
   "outputs": [
    {
     "data": {
      "text/html": [
       "<div>\n",
       "<style scoped>\n",
       "    .dataframe tbody tr th:only-of-type {\n",
       "        vertical-align: middle;\n",
       "    }\n",
       "\n",
       "    .dataframe tbody tr th {\n",
       "        vertical-align: top;\n",
       "    }\n",
       "\n",
       "    .dataframe thead th {\n",
       "        text-align: right;\n",
       "    }\n",
       "</style>\n",
       "<table border=\"1\" class=\"dataframe\">\n",
       "  <thead>\n",
       "    <tr style=\"text-align: right;\">\n",
       "      <th></th>\n",
       "      <th>C (W yr / m^2 / K)</th>\n",
       "      <th>C_d (W yr / m^2 / K)</th>\n",
       "      <th>alpha (W / m^2 / K)</th>\n",
       "      <th>eta (dimensionless)</th>\n",
       "      <th>kappa (W / m^2 / K)</th>\n",
       "      <th>d1 (yr)</th>\n",
       "      <th>d2 (yr)</th>\n",
       "      <th>q1 (K / (W / m^2))</th>\n",
       "      <th>q2 (K / (W / m^2))</th>\n",
       "      <th>efficacy (dimensionless)</th>\n",
       "      <th>ecs (K)</th>\n",
       "      <th>tcr (K)</th>\n",
       "      <th>rf2xCO2 (W / m^2)</th>\n",
       "    </tr>\n",
       "    <tr>\n",
       "      <th>id</th>\n",
       "      <th></th>\n",
       "      <th></th>\n",
       "      <th></th>\n",
       "      <th></th>\n",
       "      <th></th>\n",
       "      <th></th>\n",
       "      <th></th>\n",
       "      <th></th>\n",
       "      <th></th>\n",
       "      <th></th>\n",
       "      <th></th>\n",
       "      <th></th>\n",
       "      <th></th>\n",
       "    </tr>\n",
       "  </thead>\n",
       "  <tbody>\n",
       "    <tr>\n",
       "      <th>recommendation</th>\n",
       "      <td>7.786045</td>\n",
       "      <td>149.789917</td>\n",
       "      <td>1.333333</td>\n",
       "      <td>1.027856</td>\n",
       "      <td>0.896322</td>\n",
       "      <td>3.424102</td>\n",
       "      <td>285.003478</td>\n",
       "      <td>0.436002</td>\n",
       "      <td>0.313998</td>\n",
       "      <td>1.027856</td>\n",
       "      <td>3.0</td>\n",
       "      <td>1.801052</td>\n",
       "      <td>4.0</td>\n",
       "    </tr>\n",
       "  </tbody>\n",
       "</table>\n",
       "</div>"
      ],
      "text/plain": [
       "                C (W yr / m^2 / K)  C_d (W yr / m^2 / K)  alpha (W / m^2 / K)  \\\n",
       "id                                                                              \n",
       "recommendation            7.786045            149.789917             1.333333   \n",
       "\n",
       "                eta (dimensionless)  kappa (W / m^2 / K)   d1 (yr)  \\\n",
       "id                                                                   \n",
       "recommendation             1.027856             0.896322  3.424102   \n",
       "\n",
       "                   d2 (yr)  q1 (K / (W / m^2))  q2 (K / (W / m^2))  \\\n",
       "id                                                                   \n",
       "recommendation  285.003478            0.436002            0.313998   \n",
       "\n",
       "                efficacy (dimensionless)  ecs (K)   tcr (K)  rf2xCO2 (W / m^2)  \n",
       "id                                                                              \n",
       "recommendation                  1.027856      3.0  1.801052                4.0  "
      ]
     },
     "execution_count": 2,
     "metadata": {},
     "output_type": "execute_result"
    }
   ],
   "source": [
    "#fn_IRF_constants = INPUT_DATA_DIR / 'irf_from_2xCO2_2020_12_02_050025-1.csv'\n",
    "#fn_IRF_constants = INPUT_DATA_DIR / 'irf_from_2xCO2_2021_02_02_025721.csv'\n",
    "#fn_IRF_constants = INPUT_DATA_DIR / 'recommended_irf_from_2xCO2_2021_02_03_045947.csv'\n",
    "fn_IRF_constants = INPUT_DATA_DIR / 'recommended_irf_from_2xCO2_2021_02_07_223156.csv'\n",
    "fn_IRF_constants = INPUT_DATA_DIR / 'recommended_irf_from_2xCO2_2021_02_17_233041.csv'\n",
    "\n",
    "irf_consts = pd.read_csv(fn_IRF_constants).set_index('id')\n",
    "\n",
    "ld1 = 'd1 (yr)'\n",
    "ld2 = 'd2 (yr)'\n",
    "lq1 = 'q1 (K / (W / m^2))'\n",
    "lq2 = 'q2 (K / (W / m^2))'\n",
    "median = 'median'\n",
    "perc5 = '5th percentile'\n",
    "perc95 = '95th percentile'\n",
    "recommendation = 'recommendation'\n",
    "irf_consts  # [d1]"
   ]
  },
  {
   "cell_type": "code",
   "execution_count": 3,
   "metadata": {
    "lines_to_next_cell": 2
   },
   "outputs": [
    {
     "name": "stdout",
     "output_type": "stream",
     "text": [
      "d1=10.0, d2=285.00347784191143, q1=0.4360017936279869, q2=0.31399820637201514\n"
     ]
    }
   ],
   "source": [
    "# lets get the irf values from 0 until i\n",
    "d1 = 10.#float(irf_consts[ld1])\n",
    "d2 = float(irf_consts[ld2])\n",
    "q1 = float(irf_consts[lq1])\n",
    "q2 = float(irf_consts[lq2])\n",
    "\n",
    "print(f'd1={d1}, d2={d2}, q1={q1}, q2={q2}')"
   ]
  },
  {
   "cell_type": "markdown",
   "metadata": {},
   "source": [
    "### Path input data"
   ]
  },
  {
   "cell_type": "code",
   "execution_count": 4,
   "metadata": {
    "collapsed": false,
    "jupyter": {
     "outputs_hidden": false
    },
    "lines_to_next_cell": 2,
    "pycharm": {
     "name": "#%%\n"
    }
   },
   "outputs": [],
   "source": [
    "from ar6_ch6_rcmipfigs.constants import OUTPUT_DATA_DIR, RESULTS_DIR\n",
    "\n",
    "#PATH_DATASET = OUTPUT_DATA_DIR / 'ERF_data.nc'\n",
    "PATH_DATASET = OUTPUT_DATA_DIR/'historic_delta_GSAT/hist_ERF_est.csv'\n",
    "\n",
    "\n"
   ]
  },
  {
   "cell_type": "markdown",
   "metadata": {},
   "source": [
    "## Path output data"
   ]
  },
  {
   "cell_type": "code",
   "execution_count": 5,
   "metadata": {
    "collapsed": false,
    "jupyter": {
     "outputs_hidden": false
    },
    "lines_to_next_cell": 2,
    "pycharm": {
     "name": "#%%\n"
    }
   },
   "outputs": [
    {
     "name": "stdout",
     "output_type": "stream",
     "text": [
      "/home/sarambl/PHD/IPCC/public/AR6_CH6_RCMIPFIGSv2/ar6_ch6_rcmipfigs/data_out/historic_delta_GSAT/dT_data_hist_recommendation.csv\n"
     ]
    }
   ],
   "source": [
    "#PATH_DT_TAB_OUTPUT = RESULTS_DIR / 'tables' / 'table_sens_dT_cs_recommandetion.csv'\n",
    "PATH_DF_OUTPUT = OUTPUT_DATA_DIR / 'historic_delta_GSAT/dT_data_hist_recommendation.csv'\n",
    "\n",
    "print(PATH_DF_OUTPUT)"
   ]
  },
  {
   "cell_type": "markdown",
   "metadata": {},
   "source": [
    "## various definitions"
   ]
  },
  {
   "cell_type": "code",
   "execution_count": 6,
   "metadata": {},
   "outputs": [],
   "source": [
    "# name of output variable\n",
    "name_deltaT = 'Delta T'\n",
    "\n",
    "climatemodel = 'climatemodel'\n",
    "scenario = 'scenario'\n",
    "variable = 'variable'\n",
    "time = 'time'\n",
    "percentile = 'percentile'"
   ]
  },
  {
   "cell_type": "markdown",
   "metadata": {},
   "source": [
    "## Set values:"
   ]
  },
  {
   "cell_type": "markdown",
   "metadata": {},
   "source": [
    "We only compute for the recommendation (not e.g. percentiles):"
   ]
  },
  {
   "cell_type": "code",
   "execution_count": 7,
   "metadata": {},
   "outputs": [],
   "source": [
    "IRFpercentiles = [recommendation]\n",
    "# {'ECS = 2K':0.526, 'ECS = 3.4K':0.884, 'ECS = 5K': 1.136 }"
   ]
  },
  {
   "cell_type": "markdown",
   "metadata": {},
   "source": [
    "Year to integrate from and to:"
   ]
  },
  {
   "cell_type": "code",
   "execution_count": 8,
   "metadata": {},
   "outputs": [],
   "source": [
    "first_y = 1750\n",
    "last_y = 2020"
   ]
  },
  {
   "cell_type": "markdown",
   "metadata": {},
   "source": [
    "**Set reference year for temperature change:**"
   ]
  },
  {
   "cell_type": "code",
   "execution_count": 9,
   "metadata": {},
   "outputs": [],
   "source": [
    "ref_year = 1750"
   ]
  },
  {
   "cell_type": "markdown",
   "metadata": {},
   "source": [
    "### Define variables to look at:"
   ]
  },
  {
   "cell_type": "code",
   "execution_count": 10,
   "metadata": {},
   "outputs": [],
   "source": [
    "# variables to plot:\n",
    "variables_erf_comp = [\n",
    "    'CO2', 'N2O', 'CH4', 'HC', 'NOx', 'SO2', 'BC', 'OC', 'NH3'\n",
    "]\n",
    "# total ERFs for anthropogenic and total:\n",
    "variables_erf_tot = []\n",
    "variables_all = variables_erf_comp + variables_erf_tot\n",
    "# Scenarios to plot:\n",
    "scenarios_fl = []"
   ]
  },
  {
   "cell_type": "markdown",
   "metadata": {},
   "source": [
    "## IRF function: "
   ]
  },
  {
   "cell_type": "code",
   "execution_count": 11,
   "metadata": {},
   "outputs": [],
   "source": [
    "\n",
    "def IRF(t, d1, q1, d2, q2):\n",
    "    \"\"\"\n",
    "    Returns the IRF function for:\n",
    "    :param q2:\n",
    "    :param d2:\n",
    "    :param q1:\n",
    "    :param d1:\n",
    "    :param t: Time in years\n",
    "    :return:\n",
    "    IRF\n",
    "    \"\"\"\n",
    "    irf = q1 / d1 * np.exp(-t / d1) + q2 / d2 * np.exp(-t / d2)\n",
    "    return irf\n",
    "    # l * (alpha1 * np.exp(-t / tau1) + alpha2 * np.exp(-t / tau2))"
   ]
  },
  {
   "cell_type": "markdown",
   "metadata": {},
   "source": [
    "### Open ERF dataset:"
   ]
  },
  {
   "cell_type": "code",
   "execution_count": 12,
   "metadata": {},
   "outputs": [
    {
     "data": {
      "text/html": [
       "<pre>&lt;xarray.Dataset&gt;\n",
       "Dimensions:   (variable: 10, year: 270)\n",
       "Coordinates:\n",
       "  * year      (year) int64 1750 1751 1752 1753 1754 ... 2015 2016 2017 2018 2019\n",
       "  * variable  (variable) &lt;U3 &#x27;CO2&#x27; &#x27;N2O&#x27; &#x27;CH4&#x27; &#x27;NOx&#x27; ... &#x27;OC&#x27; &#x27;NH3&#x27; &#x27;VOC&#x27; &#x27;HC&#x27;\n",
       "Data variables:\n",
       "    ERF       (variable, year) float64 0.0 0.001126 0.002252 ... 0.2058 0.2071</pre>"
      ],
      "text/plain": [
       "<xarray.Dataset>\n",
       "Dimensions:   (variable: 10, year: 270)\n",
       "Coordinates:\n",
       "  * year      (year) int64 1750 1751 1752 1753 1754 ... 2015 2016 2017 2018 2019\n",
       "  * variable  (variable) <U3 'CO2' 'N2O' 'CH4' 'NOx' ... 'OC' 'NH3' 'VOC' 'HC'\n",
       "Data variables:\n",
       "    ERF       (variable, year) float64 0.0 0.001126 0.002252 ... 0.2058 0.2071"
      ]
     },
     "execution_count": 12,
     "metadata": {},
     "output_type": "execute_result"
    }
   ],
   "source": [
    "df = pd.read_csv(PATH_DATASET, index_col=0)\n",
    "da_ERF = df.to_xarray().to_array()#'variable'\n",
    "da_ERF = da_ERF.rename({'index':'year'})\n",
    "#ds = xr.open_dataset(PATH_DATASET).sel(year=slice(1700, 2200))  # we need only years until 1700\n",
    "ds = xr.Dataset({'ERF':da_ERF})\n",
    "ds\n",
    "#da_ERF = ds['ERF']"
   ]
  },
  {
   "cell_type": "markdown",
   "metadata": {},
   "source": [
    "#### Simple pre-processing"
   ]
  },
  {
   "cell_type": "code",
   "execution_count": 13,
   "metadata": {},
   "outputs": [
    {
     "data": {
      "text/html": [
       "<pre>&lt;xarray.Dataset&gt;\n",
       "Dimensions:   (variable: 10, year: 270)\n",
       "Coordinates:\n",
       "  * year      (year) int64 1750 1751 1752 1753 1754 ... 2015 2016 2017 2018 2019\n",
       "  * variable  (variable) &lt;U3 &#x27;CO2&#x27; &#x27;N2O&#x27; &#x27;CH4&#x27; &#x27;NOx&#x27; ... &#x27;OC&#x27; &#x27;NH3&#x27; &#x27;VOC&#x27; &#x27;HC&#x27;\n",
       "Data variables:\n",
       "    ERF       (variable, year) float64 0.0 0.001126 0.002252 ... 0.2058 0.2071\n",
       "    time      (year) datetime64[ns] 1750-01-01 1751-01-01 ... 2019-01-01\n",
       "    delta_t   (year) float64 1.0 1.0 1.0 1.0 1.0 1.0 ... 1.0 1.0 1.0 1.0 1.0 1.0</pre>"
      ],
      "text/plain": [
       "<xarray.Dataset>\n",
       "Dimensions:   (variable: 10, year: 270)\n",
       "Coordinates:\n",
       "  * year      (year) int64 1750 1751 1752 1753 1754 ... 2015 2016 2017 2018 2019\n",
       "  * variable  (variable) <U3 'CO2' 'N2O' 'CH4' 'NOx' ... 'OC' 'NH3' 'VOC' 'HC'\n",
       "Data variables:\n",
       "    ERF       (variable, year) float64 0.0 0.001126 0.002252 ... 0.2058 0.2071\n",
       "    time      (year) datetime64[ns] 1750-01-01 1751-01-01 ... 2019-01-01\n",
       "    delta_t   (year) float64 1.0 1.0 1.0 1.0 1.0 1.0 ... 1.0 1.0 1.0 1.0 1.0 1.0"
      ]
     },
     "execution_count": 13,
     "metadata": {},
     "output_type": "execute_result"
    }
   ],
   "source": [
    "ds['time'] = pd.to_datetime(ds['year'].to_pandas().index.map(str), format='%Y')\n",
    "\n",
    "# delta_t is 1 (year)\n",
    "ds['delta_t'] = xr.DataArray(np.ones(len(ds['year'])), dims='year', coords={'year': ds['year']})\n",
    "ds"
   ]
  },
  {
   "cell_type": "markdown",
   "metadata": {},
   "source": [
    "## Integrate and compute $\\Delta T$:\n",
    "The code below integrates the read in ERFs with the pre defined impulse response function (IRF)."
   ]
  },
  {
   "cell_type": "markdown",
   "metadata": {},
   "source": [
    "\\begin{align*} \n",
    "\\Delta T (t) &= \\int_0^t ERF(t') IRF(t-t') dt' \\\\\n",
    "\\end{align*}"
   ]
  },
  {
   "cell_type": "code",
   "execution_count": 14,
   "metadata": {},
   "outputs": [],
   "source": [
    "\n",
    "\n",
    "def integrate_(i, _var, _nvar, ds_in: xr.Dataset, ds_DT, irf_cnst: dict):\n",
    "    \"\"\"\n",
    "\n",
    "    :param i:\n",
    "    :param _var:\n",
    "    :param _nvar:\n",
    "    :param ds_in:\n",
    "    :param ds_DT:\n",
    "    :param irf_cnst: dictionary\n",
    "    :return:\n",
    "    \"\"\"\n",
    "    # lets create a ds that goes from 0 to i inclusive\n",
    "    ds_short = ds_in[{'year': slice(0, i + 1)}].copy()\n",
    "    #print(ds_short)\n",
    "    # lets get the current year\n",
    "    current_year = ds_short['year'][{'year': i}]  # .dt.year\n",
    "    # lets get a list of years\n",
    "    _years = ds_short['year']  # .dt.year\n",
    "    # lets get the year delta until current year(i)\n",
    "    ds_short['end_year_delta'] = current_year - _years\n",
    "\n",
    "    # lets get the irf values from 0 until i\n",
    "    d1 = irf_cnst[ld1]\n",
    "    d2 = irf_cnst[ld2]\n",
    "    q1 = irf_cnst[lq1]\n",
    "    q2 = irf_cnst[lq2]\n",
    "\n",
    "    ds_short['irf'] = IRF(\n",
    "        ds_short['end_year_delta'] * ds_short['delta_t'], d1, q1, d2, q2)\n",
    "\n",
    "    # lets do the famous integral\n",
    "    ds_short['to_integrate'] = \\\n",
    "        ds_short[_var] * \\\n",
    "        ds_short['irf'] * \\\n",
    "        ds_short['delta_t']\n",
    "\n",
    "    # lets sum all the values up until i and set\n",
    "    # this value at ds_DT\n",
    "    # If whole array is null, set value to nan\n",
    "    if np.all(ds_short['to_integrate'].isnull()):  # or last_null:\n",
    "        _val = np.nan\n",
    "    else:\n",
    "        # \n",
    "\n",
    "        _ds_int = ds_short['to_integrate'].sum(['year'])\n",
    "        # mask where last value is null (in order to not get intgral \n",
    "        _ds_m1 = ds_short['to_integrate'].isel(year=-1)\n",
    "        # where no forcing data)\n",
    "        _val = _ds_int.where(_ds_m1.notnull())\n",
    "    # set value in dataframe:\n",
    "    ds_DT[_nvar][{'year': i}] = _val\n",
    "\n",
    "\n",
    "def integrate_to_dT(_ds, from_t, to_t, irf_cnsts, int_var='ERF'):\n",
    "    \"\"\"\n",
    "    Integrate forcing to temperature change.\n",
    "\n",
    "    :param _ds: dataset containing the forcings\n",
    "    :param from_t: start year\n",
    "    :param to_t: end year\n",
    "    :param int_var: variables to integrate\n",
    "    :param irf_cnsts: irf constants\n",
    "    :return:\n",
    "    \"\"\"\n",
    "    # slice dataset\n",
    "    ds_sl = _ds.sel(year=slice(from_t, to_t))\n",
    "    len_time = len(ds_sl['year'])\n",
    "    # lets create a result DS\n",
    "    ds_DT = ds_sl.copy()\n",
    "\n",
    "    # lets define the vars of the ds\n",
    "    namevar = name_deltaT\n",
    "    # set all values to zero for results dataarray:\n",
    "    ds_DT[namevar] = ds_DT[int_var] * 0\n",
    "    # Units Kelvin:\n",
    "    ds_DT[namevar].attrs['unit'] = 'K'\n",
    "    if 'unit' in ds_DT[namevar].coords:\n",
    "        ds_DT[namevar].coords['unit'] = 'K'\n",
    "\n",
    "    for i in range(len_time):\n",
    "        # da = ds[var]\n",
    "        if (i % 20) == 0:\n",
    "            print('%s of %s done' % (i, len_time))\n",
    "        integrate_(i, int_var, namevar, ds_sl, ds_DT, irf_cnsts)\n",
    "    clear_output()\n",
    "    # fn = 'DT_%s-%s.nc' % (from_t, to_t)\n",
    "    #fname = OUTPUT_DATA_DIR/ fn#'DT_%s-%s.nc' % (from_t, to_t)\n",
    "    # save dataset.\n",
    "    #ds_DT.to_netcdf(fname)\n",
    "    return ds_DT"
   ]
  },
  {
   "cell_type": "code",
   "execution_count": 15,
   "metadata": {
    "collapsed": false,
    "jupyter": {
     "outputs_hidden": false
    },
    "pycharm": {
     "name": "#%%\n"
    }
   },
   "outputs": [],
   "source": [
    "dic_ds = {}\n",
    "for key in IRFpercentiles:\n",
    "    dic_ds[key] = integrate_to_dT(ds, first_y, last_y, irf_consts.loc[key], int_var='ERF')"
   ]
  },
  {
   "cell_type": "markdown",
   "metadata": {},
   "source": [
    "## check:"
   ]
  },
  {
   "cell_type": "code",
   "execution_count": 16,
   "metadata": {},
   "outputs": [
    {
     "data": {
      "image/png": "[encoded data removed]",
      "text/plain": [
       "<Figure size 432x288 with 1 Axes>"
      ]
     },
     "metadata": {
      "needs_background": "light"
     },
     "output_type": "display_data"
    }
   ],
   "source": [
    "for per in IRFpercentiles:\n",
    "    dic_ds[per].isel( variable=0)[name_deltaT].plot()"
   ]
  },
  {
   "cell_type": "markdown",
   "metadata": {},
   "source": [
    "### Make datset with percentile as dimension:\n",
    "Does really only make sense with percentiles..."
   ]
  },
  {
   "cell_type": "code",
   "execution_count": 17,
   "metadata": {},
   "outputs": [],
   "source": [
    "ds_tmp = xr.Dataset(coords=dic_ds[recommendation].coords)\n",
    "ds_tmp\n",
    "for key in IRFpercentiles:\n",
    "    ds_tmp[key] = dic_ds[key]['Delta T']  # .dims,dic_ds[key],)\n",
    "ds['Delta T'] = ds_tmp.to_array('percentile')"
   ]
  },
  {
   "cell_type": "code",
   "execution_count": 18,
   "metadata": {},
   "outputs": [
    {
     "data": {
      "text/html": [
       "<pre>&lt;xarray.Dataset&gt;\n",
       "Dimensions:     (percentile: 1, variable: 10, year: 270)\n",
       "Coordinates:\n",
       "  * year        (year) int64 1750 1751 1752 1753 1754 ... 2016 2017 2018 2019\n",
       "  * variable    (variable) &lt;U3 &#x27;CO2&#x27; &#x27;N2O&#x27; &#x27;CH4&#x27; &#x27;NOx&#x27; ... &#x27;OC&#x27; &#x27;NH3&#x27; &#x27;VOC&#x27; &#x27;HC&#x27;\n",
       "  * percentile  (percentile) &lt;U14 &#x27;recommendation&#x27;\n",
       "Data variables:\n",
       "    ERF         (variable, year) float64 0.0 0.001126 0.002252 ... 0.2058 0.2071\n",
       "    time        (year) datetime64[ns] 1750-01-01 1751-01-01 ... 2019-01-01\n",
       "    delta_t     (year) float64 1.0 1.0 1.0 1.0 1.0 1.0 ... 1.0 1.0 1.0 1.0 1.0\n",
       "    Delta T     (percentile, variable, year) float64 0.0 0.0001446 ... 0.1103</pre>"
      ],
      "text/plain": [
       "<xarray.Dataset>\n",
       "Dimensions:     (percentile: 1, variable: 10, year: 270)\n",
       "Coordinates:\n",
       "  * year        (year) int64 1750 1751 1752 1753 1754 ... 2016 2017 2018 2019\n",
       "  * variable    (variable) <U3 'CO2' 'N2O' 'CH4' 'NOx' ... 'OC' 'NH3' 'VOC' 'HC'\n",
       "  * percentile  (percentile) <U14 'recommendation'\n",
       "Data variables:\n",
       "    ERF         (variable, year) float64 0.0 0.001126 0.002252 ... 0.2058 0.2071\n",
       "    time        (year) datetime64[ns] 1750-01-01 1751-01-01 ... 2019-01-01\n",
       "    delta_t     (year) float64 1.0 1.0 1.0 1.0 1.0 1.0 ... 1.0 1.0 1.0 1.0 1.0\n",
       "    Delta T     (percentile, variable, year) float64 0.0 0.0001446 ... 0.1103"
      ]
     },
     "execution_count": 18,
     "metadata": {},
     "output_type": "execute_result"
    }
   ],
   "source": [
    "ds"
   ]
  },
  {
   "cell_type": "markdown",
   "metadata": {},
   "source": [
    "# Save dataset:"
   ]
  },
  {
   "cell_type": "code",
   "execution_count": 19,
   "metadata": {},
   "outputs": [
    {
     "name": "stdout",
     "output_type": "stream",
     "text": [
      "Saved to \n",
      "/home/sarambl/PHD/IPCC/public/AR6_CH6_RCMIPFIGSv2/ar6_ch6_rcmipfigs/data_out/historic_delta_GSAT/dT_data_hist_recommendation.nc\n"
     ]
    }
   ],
   "source": [
    "ds.sel(year=slice(first_y, last_y)).to_netcdf(PATH_DF_OUTPUT.with_suffix('.nc'))\n",
    "print(f'Saved to ')\n",
    "print(PATH_DF_OUTPUT.with_suffix('.nc'))\n",
    "# ds_DT.to_array('percentile')\n",
    "# dic_ds[key]['Delta T']"
   ]
  },
  {
   "cell_type": "code",
   "execution_count": 20,
   "metadata": {},
   "outputs": [
    {
     "data": {
      "application/javascript": [
       "IPython.OutputArea.prototype._should_scroll = function(lines) { return false; }"
      ],
      "text/plain": [
       "<IPython.core.display.Javascript object>"
      ]
     },
     "metadata": {},
     "output_type": "display_data"
    },
    {
     "name": "stdout",
     "output_type": "stream",
     "text": [
      "hallo\n"
     ]
    }
   ],
   "source": [
    "from ar6_ch6_rcmipfigs.utils.plot import get_cmap_dic"
   ]
  },
  {
   "cell_type": "code",
   "execution_count": 21,
   "metadata": {},
   "outputs": [
    {
     "name": "stdout",
     "output_type": "stream",
     "text": [
      "(0.9568627450980393, 0.796078431372549, 0.21176470588235294)\n",
      "(0.8274509803921568, 0.0, 0.1568627450980392)\n",
      "(1.0, 0.4196078431372549, 0.07450980392156863)\n",
      "(0.47843137254901963, 0.5058823529411764, 0.5058823529411764)\n",
      "(0.26666666666666666, 0.0, 0.5254901960784314)\n",
      "(0.3764705882352941, 0.5725490196078431, 0.796078431372549)\n",
      "(0.5411764705882353, 0.2235294117647059, 0.0)\n",
      "(0.4745098039215686, 0.792156862745098, 0.9333333333333333)\n",
      "(0.0, 0.6901960784313725, 0.6039215686274509)\n"
     ]
    }
   ],
   "source": [
    "cols = get_cmap_dic(variables_all)"
   ]
  },
  {
   "cell_type": "code",
   "execution_count": 22,
   "metadata": {},
   "outputs": [],
   "source": [
    "df_deltaT = ds[name_deltaT].squeeze().drop('percentile').to_dataframe().unstack('variable')['Delta T']"
   ]
  },
  {
   "cell_type": "code",
   "execution_count": 23,
   "metadata": {},
   "outputs": [],
   "source": [
    "df_deltaT.to_csv(PATH_DF_OUTPUT)"
   ]
  },
  {
   "cell_type": "code",
   "execution_count": 24,
   "metadata": {},
   "outputs": [
    {
     "data": {
      "text/plain": [
       "Text(0,0.5,'$\\\\Delta$ T ($^\\\\circ$ C)')"
      ]
     },
     "execution_count": 24,
     "metadata": {},
     "output_type": "execute_result"
    },
    {
     "data": {
      "image/png": "[encoded data removed]",
      "text/plain": [
       "<Figure size 720x360 with 1 Axes>"
      ]
     },
     "metadata": {
      "needs_background": "light"
     },
     "output_type": "display_data"
    }
   ],
   "source": [
    "fig, ax = plt.subplots(figsize=[10,5])\n",
    "for v in variables_all:\n",
    "    df_deltaT[variables_all][v].plot(linewidth=3,ax = ax, label=v, color=cols[v])#, color=cols.items())\n",
    "plt.legend(loc='upper left')\n",
    "plt.ylabel('$\\Delta$ T ($^\\circ$ C)')"
   ]
  },
  {
   "cell_type": "code",
   "execution_count": 25,
   "metadata": {},
   "outputs": [
    {
     "data": {
      "text/plain": [
       "Text(0,0.5,'$\\\\Delta$ T ($^\\\\circ$ C)')"
      ]
     },
     "execution_count": 25,
     "metadata": {},
     "output_type": "execute_result"
    },
    {
     "data": {
      "image/png": "[encoded data removed]",
      "text/plain": [
       "<Figure size 720x360 with 1 Axes>"
      ]
     },
     "metadata": {
      "needs_background": "light"
     },
     "output_type": "display_data"
    }
   ],
   "source": [
    "df_deltaT = ds[name_deltaT].squeeze().drop('percentile').to_dataframe().unstack('variable')['Delta T']\n",
    "fig, ax = plt.subplots(figsize=[10,5])\n",
    "df_deltaT[variables_all].sum(axis=1).plot(linewidth=3,ax = ax, label=v, color=cols[v])#, color=cols.items())\n",
    "plt.legend(loc='upper left')\n",
    "plt.ylabel('$\\Delta$ T ($^\\circ$ C)')"
   ]
  },
  {
   "cell_type": "code",
   "execution_count": 26,
   "metadata": {},
   "outputs": [
    {
     "data": {
      "text/plain": [
       "Text(0,0.5,'$\\\\Delta$ T ($^\\\\circ$ C)')"
      ]
     },
     "execution_count": 26,
     "metadata": {},
     "output_type": "execute_result"
    },
    {
     "data": {
      "image/png": "[encoded data removed]",
      "text/plain": [
       "<Figure size 720x360 with 1 Axes>"
      ]
     },
     "metadata": {
      "needs_background": "light"
     },
     "output_type": "display_data"
    }
   ],
   "source": [
    "df_deltaT = ds[name_deltaT].squeeze().drop('percentile').to_dataframe().unstack('variable')['Delta T']\n",
    "fig, ax = plt.subplots(figsize=[10,5])\n",
    "for v in variables_all:\n",
    "    df_deltaT[variables_all][v].plot(linewidth=3,ax = ax, label=v, color=cols[v])#, color=cols.items())\n",
    "plt.legend(loc='upper left')\n",
    "plt.ylabel('$\\Delta$ T ($^\\circ$ C)')"
   ]
  },
  {
   "cell_type": "code",
   "execution_count": 27,
   "metadata": {},
   "outputs": [
    {
     "data": {
      "text/plain": [
       "Text(0,0.5,'$\\\\Delta$ T ($^\\\\circ$ C)')"
      ]
     },
     "execution_count": 27,
     "metadata": {},
     "output_type": "execute_result"
    },
    {
     "data": {
      "image/png": "[encoded data removed]",
      "text/plain": [
       "<Figure size 720x360 with 1 Axes>"
      ]
     },
     "metadata": {
      "needs_background": "light"
     },
     "output_type": "display_data"
    }
   ],
   "source": [
    "df_deltaT = ds[name_deltaT].squeeze().drop('percentile').to_dataframe().unstack('variable')['Delta T']\n",
    "fig, ax = plt.subplots(figsize=[10,5])\n",
    "df_deltaT[variables_all].sum(axis=1).plot(linewidth=3,ax = ax, label='sum', color=cols[v])#, color=cols.items())\n",
    "plt.legend(loc='upper left')\n",
    "plt.ylabel('$\\Delta$ T ($^\\circ$ C)')"
   ]
  },
  {
   "cell_type": "code",
   "execution_count": 28,
   "metadata": {},
   "outputs": [
    {
     "data": {
      "text/html": [
       "<div>\n",
       "<style scoped>\n",
       "    .dataframe tbody tr th:only-of-type {\n",
       "        vertical-align: middle;\n",
       "    }\n",
       "\n",
       "    .dataframe tbody tr th {\n",
       "        vertical-align: top;\n",
       "    }\n",
       "\n",
       "    .dataframe thead th {\n",
       "        text-align: right;\n",
       "    }\n",
       "</style>\n",
       "<table border=\"1\" class=\"dataframe\">\n",
       "  <thead>\n",
       "    <tr style=\"text-align: right;\">\n",
       "      <th>variable</th>\n",
       "      <th>BC</th>\n",
       "      <th>CH4</th>\n",
       "      <th>CO2</th>\n",
       "      <th>HC</th>\n",
       "      <th>N2O</th>\n",
       "      <th>NH3</th>\n",
       "      <th>NOx</th>\n",
       "      <th>OC</th>\n",
       "      <th>SO2</th>\n",
       "      <th>VOC</th>\n",
       "    </tr>\n",
       "    <tr>\n",
       "      <th>year</th>\n",
       "      <th></th>\n",
       "      <th></th>\n",
       "      <th></th>\n",
       "      <th></th>\n",
       "      <th></th>\n",
       "      <th></th>\n",
       "      <th></th>\n",
       "      <th></th>\n",
       "      <th></th>\n",
       "      <th></th>\n",
       "    </tr>\n",
       "  </thead>\n",
       "  <tbody>\n",
       "    <tr>\n",
       "      <th>1750</th>\n",
       "      <td>0.000000</td>\n",
       "      <td>0.000000</td>\n",
       "      <td>0.000000</td>\n",
       "      <td>0.000000</td>\n",
       "      <td>0.000000</td>\n",
       "      <td>0.000000e+00</td>\n",
       "      <td>0.000000e+00</td>\n",
       "      <td>0.000000</td>\n",
       "      <td>0.000000</td>\n",
       "      <td>0.000000</td>\n",
       "    </tr>\n",
       "    <tr>\n",
       "      <th>1751</th>\n",
       "      <td>0.000002</td>\n",
       "      <td>0.000107</td>\n",
       "      <td>0.000145</td>\n",
       "      <td>0.000000</td>\n",
       "      <td>0.000010</td>\n",
       "      <td>-6.139440e-07</td>\n",
       "      <td>-1.504269e-07</td>\n",
       "      <td>-0.000015</td>\n",
       "      <td>-0.000007</td>\n",
       "      <td>0.000023</td>\n",
       "    </tr>\n",
       "    <tr>\n",
       "      <th>1752</th>\n",
       "      <td>0.000005</td>\n",
       "      <td>0.000293</td>\n",
       "      <td>0.000398</td>\n",
       "      <td>0.000000</td>\n",
       "      <td>0.000027</td>\n",
       "      <td>-1.687564e-06</td>\n",
       "      <td>-4.146872e-07</td>\n",
       "      <td>-0.000041</td>\n",
       "      <td>-0.000016</td>\n",
       "      <td>0.000062</td>\n",
       "    </tr>\n",
       "    <tr>\n",
       "      <th>1753</th>\n",
       "      <td>0.000010</td>\n",
       "      <td>0.000540</td>\n",
       "      <td>0.000732</td>\n",
       "      <td>0.000000</td>\n",
       "      <td>0.000050</td>\n",
       "      <td>-3.105657e-06</td>\n",
       "      <td>-7.628853e-07</td>\n",
       "      <td>-0.000075</td>\n",
       "      <td>-0.000028</td>\n",
       "      <td>0.000115</td>\n",
       "    </tr>\n",
       "    <tr>\n",
       "      <th>1754</th>\n",
       "      <td>0.000015</td>\n",
       "      <td>0.000832</td>\n",
       "      <td>0.001127</td>\n",
       "      <td>0.000000</td>\n",
       "      <td>0.000076</td>\n",
       "      <td>-4.782194e-06</td>\n",
       "      <td>-1.175264e-06</td>\n",
       "      <td>-0.000115</td>\n",
       "      <td>-0.000041</td>\n",
       "      <td>0.000177</td>\n",
       "    </tr>\n",
       "    <tr>\n",
       "      <th>...</th>\n",
       "      <td>...</td>\n",
       "      <td>...</td>\n",
       "      <td>...</td>\n",
       "      <td>...</td>\n",
       "      <td>...</td>\n",
       "      <td>...</td>\n",
       "      <td>...</td>\n",
       "      <td>...</td>\n",
       "      <td>...</td>\n",
       "      <td>...</td>\n",
       "    </tr>\n",
       "    <tr>\n",
       "      <th>2015</th>\n",
       "      <td>0.040037</td>\n",
       "      <td>0.655946</td>\n",
       "      <td>0.999799</td>\n",
       "      <td>0.107093</td>\n",
       "      <td>0.118261</td>\n",
       "      <td>-1.609503e-02</td>\n",
       "      <td>-1.680721e-01</td>\n",
       "      <td>-0.113903</td>\n",
       "      <td>-0.635773</td>\n",
       "      <td>0.291086</td>\n",
       "    </tr>\n",
       "    <tr>\n",
       "      <th>2016</th>\n",
       "      <td>0.039653</td>\n",
       "      <td>0.660951</td>\n",
       "      <td>1.021045</td>\n",
       "      <td>0.107828</td>\n",
       "      <td>0.120206</td>\n",
       "      <td>-1.626803e-02</td>\n",
       "      <td>-1.668520e-01</td>\n",
       "      <td>-0.114066</td>\n",
       "      <td>-0.617164</td>\n",
       "      <td>0.286948</td>\n",
       "    </tr>\n",
       "    <tr>\n",
       "      <th>2017</th>\n",
       "      <td>0.039375</td>\n",
       "      <td>0.665907</td>\n",
       "      <td>1.041681</td>\n",
       "      <td>0.108611</td>\n",
       "      <td>0.122159</td>\n",
       "      <td>-1.644816e-02</td>\n",
       "      <td>-1.659615e-01</td>\n",
       "      <td>-0.114235</td>\n",
       "      <td>-0.599065</td>\n",
       "      <td>0.283083</td>\n",
       "    </tr>\n",
       "    <tr>\n",
       "      <th>2018</th>\n",
       "      <td>0.039121</td>\n",
       "      <td>0.671028</td>\n",
       "      <td>1.062350</td>\n",
       "      <td>0.109455</td>\n",
       "      <td>0.124232</td>\n",
       "      <td>-1.662591e-02</td>\n",
       "      <td>-1.650961e-01</td>\n",
       "      <td>-0.114228</td>\n",
       "      <td>-0.585059</td>\n",
       "      <td>0.279637</td>\n",
       "    </tr>\n",
       "    <tr>\n",
       "      <th>2019</th>\n",
       "      <td>0.038870</td>\n",
       "      <td>0.676275</td>\n",
       "      <td>1.083193</td>\n",
       "      <td>0.110313</td>\n",
       "      <td>0.126274</td>\n",
       "      <td>-1.680333e-02</td>\n",
       "      <td>-1.641666e-01</td>\n",
       "      <td>-0.114039</td>\n",
       "      <td>-0.572946</td>\n",
       "      <td>0.276559</td>\n",
       "    </tr>\n",
       "  </tbody>\n",
       "</table>\n",
       "<p>270 rows × 10 columns</p>\n",
       "</div>"
      ],
      "text/plain": [
       "variable        BC       CH4       CO2        HC       N2O           NH3  \\\n",
       "year                                                                       \n",
       "1750      0.000000  0.000000  0.000000  0.000000  0.000000  0.000000e+00   \n",
       "1751      0.000002  0.000107  0.000145  0.000000  0.000010 -6.139440e-07   \n",
       "1752      0.000005  0.000293  0.000398  0.000000  0.000027 -1.687564e-06   \n",
       "1753      0.000010  0.000540  0.000732  0.000000  0.000050 -3.105657e-06   \n",
       "1754      0.000015  0.000832  0.001127  0.000000  0.000076 -4.782194e-06   \n",
       "...            ...       ...       ...       ...       ...           ...   \n",
       "2015      0.040037  0.655946  0.999799  0.107093  0.118261 -1.609503e-02   \n",
       "2016      0.039653  0.660951  1.021045  0.107828  0.120206 -1.626803e-02   \n",
       "2017      0.039375  0.665907  1.041681  0.108611  0.122159 -1.644816e-02   \n",
       "2018      0.039121  0.671028  1.062350  0.109455  0.124232 -1.662591e-02   \n",
       "2019      0.038870  0.676275  1.083193  0.110313  0.126274 -1.680333e-02   \n",
       "\n",
       "variable           NOx        OC       SO2       VOC  \n",
       "year                                                  \n",
       "1750      0.000000e+00  0.000000  0.000000  0.000000  \n",
       "1751     -1.504269e-07 -0.000015 -0.000007  0.000023  \n",
       "1752     -4.146872e-07 -0.000041 -0.000016  0.000062  \n",
       "1753     -7.628853e-07 -0.000075 -0.000028  0.000115  \n",
       "1754     -1.175264e-06 -0.000115 -0.000041  0.000177  \n",
       "...                ...       ...       ...       ...  \n",
       "2015     -1.680721e-01 -0.113903 -0.635773  0.291086  \n",
       "2016     -1.668520e-01 -0.114066 -0.617164  0.286948  \n",
       "2017     -1.659615e-01 -0.114235 -0.599065  0.283083  \n",
       "2018     -1.650961e-01 -0.114228 -0.585059  0.279637  \n",
       "2019     -1.641666e-01 -0.114039 -0.572946  0.276559  \n",
       "\n",
       "[270 rows x 10 columns]"
      ]
     },
     "execution_count": 28,
     "metadata": {},
     "output_type": "execute_result"
    }
   ],
   "source": [
    "df_deltaT"
   ]
  },
  {
   "cell_type": "code",
   "execution_count": 29,
   "metadata": {},
   "outputs": [
    {
     "data": {
      "text/plain": [
       "Text(0,0.5,'$\\\\Delta$ T ($^\\\\circ$ C)')"
      ]
     },
     "execution_count": 29,
     "metadata": {},
     "output_type": "execute_result"
    },
    {
     "data": {
      "image/png": "[encoded data removed]",
      "text/plain": [
       "<Figure size 720x360 with 1 Axes>"
      ]
     },
     "metadata": {
      "needs_background": "light"
     },
     "output_type": "display_data"
    }
   ],
   "source": [
    "df_deltaT = ds[name_deltaT].squeeze().drop('percentile').to_dataframe().unstack('variable')['Delta T']\n",
    "fig, ax = plt.subplots(figsize=[10,5])\n",
    "for v in variables_all:\n",
    "    df_deltaT[variables_all][v].plot(linewidth=3,ax = ax, label=v, color=cols[v])#, color=cols.items())\n",
    "plt.legend(loc='upper left')\n",
    "plt.ylabel('$\\Delta$ T ($^\\circ$ C)')"
   ]
  },
  {
   "cell_type": "code",
   "execution_count": null,
   "metadata": {},
   "outputs": [],
   "source": []
  }
 ],
 "metadata": {
  "jupytext": {
   "text_representation": {
    "extension": ".py",
    "format_name": "percent",
    "format_version": "1.3",
    "jupytext_version": "1.3.3"
   }
  },
  "kernelspec": {
   "display_name": "Python 3",
   "language": "python",
   "name": "python3"
  },
  "language_info": {
   "codemirror_mode": {
    "name": "ipython",
    "version": 3
   },
   "file_extension": ".py",
   "mimetype": "text/x-python",
   "name": "python",
   "nbconvert_exporter": "python",
   "pygments_lexer": "ipython3",
   "version": "3.7.6"
  }
 },
 "nbformat": 4,
 "nbformat_minor": 4
}
