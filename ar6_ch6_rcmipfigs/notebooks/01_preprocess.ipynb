{
 "cells": [
  {
   "cell_type": "code",
   "execution_count": 1,
   "metadata": {},
   "outputs": [],
   "source": [
    "import matplotlib.pyplot as plt\n",
    "import pandas as pd"
   ]
  },
  {
   "cell_type": "code",
   "execution_count": 2,
   "metadata": {},
   "outputs": [
    {
     "name": "stdout",
     "output_type": "stream",
     "text": [
      "/home/sarambl/PHD/IPCC/public/AR6_CH6_RCMIPFIGSv2/ar6_ch6_rcmipfigs\n",
      "/home/sarambl/PHD/IPCC/public/AR6_CH6_RCMIPFIGSv2/ar6_ch6_rcmipfigs/data_in\n"
     ]
    }
   ],
   "source": [
    "from ar6_ch6_rcmipfigs import constants\n",
    "\n",
    "%load_ext autoreload\n",
    "%autoreload 2"
   ]
  },
  {
   "cell_type": "markdown",
   "metadata": {},
   "source": [
    "Load data:"
   ]
  },
  {
   "cell_type": "code",
   "execution_count": 3,
   "metadata": {
    "collapsed": false,
    "jupyter": {
     "outputs_hidden": false
    },
    "pycharm": {
     "name": "#%%\n"
    }
   },
   "outputs": [
    {
     "data": {
      "text/plain": [
       "[PosixPath('/home/sarambl/PHD/IPCC/public/AR6_CH6_RCMIPFIGSv2/ar6_ch6_rcmipfigs/data_in/SSPs/ERF_ssp534-over_1750-2500.csv'),\n",
       " PosixPath('/home/sarambl/PHD/IPCC/public/AR6_CH6_RCMIPFIGSv2/ar6_ch6_rcmipfigs/data_in/SSPs/ERF_ssp370-lowNTCF-gidden_minorGHGs_1750-2500.csv'),\n",
       " PosixPath('/home/sarambl/PHD/IPCC/public/AR6_CH6_RCMIPFIGSv2/ar6_ch6_rcmipfigs/data_in/SSPs/ERF_ssp119_minorGHGs_1750-2500.csv'),\n",
       " PosixPath('/home/sarambl/PHD/IPCC/public/AR6_CH6_RCMIPFIGSv2/ar6_ch6_rcmipfigs/data_in/SSPs/ERF_ssp370_minorGHGs_1750-2500.csv'),\n",
       " PosixPath('/home/sarambl/PHD/IPCC/public/AR6_CH6_RCMIPFIGSv2/ar6_ch6_rcmipfigs/data_in/SSPs/ERF_ssp434_minorGHGs_1750-2500.csv'),\n",
       " PosixPath('/home/sarambl/PHD/IPCC/public/AR6_CH6_RCMIPFIGSv2/ar6_ch6_rcmipfigs/data_in/SSPs/ERF_ssp119_1750-2500.csv'),\n",
       " PosixPath('/home/sarambl/PHD/IPCC/public/AR6_CH6_RCMIPFIGSv2/ar6_ch6_rcmipfigs/data_in/SSPs/ERF_ssp460_1750-2500.csv'),\n",
       " PosixPath('/home/sarambl/PHD/IPCC/public/AR6_CH6_RCMIPFIGSv2/ar6_ch6_rcmipfigs/data_in/SSPs/ERF_ssp585_1750-2500.csv'),\n",
       " PosixPath('/home/sarambl/PHD/IPCC/public/AR6_CH6_RCMIPFIGSv2/ar6_ch6_rcmipfigs/data_in/SSPs/ERF_ssp126_minorGHGs_1750-2500.csv'),\n",
       " PosixPath('/home/sarambl/PHD/IPCC/public/AR6_CH6_RCMIPFIGSv2/ar6_ch6_rcmipfigs/data_in/SSPs/ERF_ssp245_minorGHGs_1750-2500.csv'),\n",
       " PosixPath('/home/sarambl/PHD/IPCC/public/AR6_CH6_RCMIPFIGSv2/ar6_ch6_rcmipfigs/data_in/SSPs/ERF_ssp370_1750-2500.csv'),\n",
       " PosixPath('/home/sarambl/PHD/IPCC/public/AR6_CH6_RCMIPFIGSv2/ar6_ch6_rcmipfigs/data_in/SSPs/ERF_ssp370-lowNTCF-aerchemmip_minorGHGs_1750-2500.csv'),\n",
       " PosixPath('/home/sarambl/PHD/IPCC/public/AR6_CH6_RCMIPFIGSv2/ar6_ch6_rcmipfigs/data_in/SSPs/ERF_ssp370-lowNTCF-aerchemmip_1750-2500.csv'),\n",
       " PosixPath('/home/sarambl/PHD/IPCC/public/AR6_CH6_RCMIPFIGSv2/ar6_ch6_rcmipfigs/data_in/SSPs/ERF_ssp460_minorGHGs_1750-2500.csv'),\n",
       " PosixPath('/home/sarambl/PHD/IPCC/public/AR6_CH6_RCMIPFIGSv2/ar6_ch6_rcmipfigs/data_in/SSPs/ERF_ssp126_1750-2500.csv'),\n",
       " PosixPath('/home/sarambl/PHD/IPCC/public/AR6_CH6_RCMIPFIGSv2/ar6_ch6_rcmipfigs/data_in/SSPs/ERF_ssp245_1750-2500.csv'),\n",
       " PosixPath('/home/sarambl/PHD/IPCC/public/AR6_CH6_RCMIPFIGSv2/ar6_ch6_rcmipfigs/data_in/SSPs/ERF_ssp434_1750-2500.csv'),\n",
       " PosixPath('/home/sarambl/PHD/IPCC/public/AR6_CH6_RCMIPFIGSv2/ar6_ch6_rcmipfigs/data_in/SSPs/ERF_ssp534-over_minorGHGs_1750-2500.csv'),\n",
       " PosixPath('/home/sarambl/PHD/IPCC/public/AR6_CH6_RCMIPFIGSv2/ar6_ch6_rcmipfigs/data_in/SSPs/ERF_ssp370-lowNTCF-gidden_1750-2500.csv'),\n",
       " PosixPath('/home/sarambl/PHD/IPCC/public/AR6_CH6_RCMIPFIGSv2/ar6_ch6_rcmipfigs/data_in/SSPs/ERF_ssp585_minorGHGs_1750-2500.csv')]"
      ]
     },
     "execution_count": 3,
     "metadata": {},
     "output_type": "execute_result"
    }
   ],
   "source": [
    "path_ssps = constants.INPUT_DATA_DIR / 'SSPs'\n",
    "paths = path_ssps.glob('*')  # '^(minor).)*$')\n",
    "files = [x for x in paths if x.is_file()]\n",
    "files"
   ]
  },
  {
   "cell_type": "code",
   "execution_count": 4,
   "metadata": {
    "collapsed": false,
    "jupyter": {
     "outputs_hidden": false
    },
    "pycharm": {
     "name": "#%%\n"
    }
   },
   "outputs": [
    {
     "data": {
      "text/plain": [
       "PosixPath('/home/sarambl/PHD/IPCC/public/AR6_CH6_RCMIPFIGSv2/ar6_ch6_rcmipfigs/data_out/ERF_data.nc')"
      ]
     },
     "execution_count": 4,
     "metadata": {},
     "output_type": "execute_result"
    }
   ],
   "source": [
    "from ar6_ch6_rcmipfigs.constants import OUTPUT_DATA_DIR\n",
    "\n",
    "SAVEPATH_DATASET = OUTPUT_DATA_DIR / 'ERF_data.nc'\n",
    "# just minorGHGs_data here\n",
    "SAVEPATH_DATASET_minor = OUTPUT_DATA_DIR / 'ERF_minorGHGs_data.nc'\n",
    "SAVEPATH_DATASET"
   ]
  },
  {
   "cell_type": "code",
   "execution_count": 5,
   "metadata": {
    "collapsed": false,
    "jupyter": {
     "outputs_hidden": false
    },
    "lines_to_next_cell": 2,
    "pycharm": {
     "name": "#%%\n"
    }
   },
   "outputs": [
    {
     "name": "stdout",
     "output_type": "stream",
     "text": [
      "ssp534-over\n",
      "/home/sarambl/PHD/IPCC/public/AR6_CH6_RCMIPFIGSv2/ar6_ch6_rcmipfigs/data_in/SSPs/ERF_ssp534-over_1750-2500.csv\n",
      "ssp370-lowNTCF-gidden\n",
      "/home/sarambl/PHD/IPCC/public/AR6_CH6_RCMIPFIGSv2/ar6_ch6_rcmipfigs/data_in/SSPs/ERF_ssp370-lowNTCF-gidden_minorGHGs_1750-2500.csv\n",
      "ssp119\n",
      "/home/sarambl/PHD/IPCC/public/AR6_CH6_RCMIPFIGSv2/ar6_ch6_rcmipfigs/data_in/SSPs/ERF_ssp119_minorGHGs_1750-2500.csv\n",
      "ssp370\n",
      "/home/sarambl/PHD/IPCC/public/AR6_CH6_RCMIPFIGSv2/ar6_ch6_rcmipfigs/data_in/SSPs/ERF_ssp370_minorGHGs_1750-2500.csv\n",
      "ssp434\n",
      "/home/sarambl/PHD/IPCC/public/AR6_CH6_RCMIPFIGSv2/ar6_ch6_rcmipfigs/data_in/SSPs/ERF_ssp434_minorGHGs_1750-2500.csv\n",
      "ssp119\n",
      "/home/sarambl/PHD/IPCC/public/AR6_CH6_RCMIPFIGSv2/ar6_ch6_rcmipfigs/data_in/SSPs/ERF_ssp119_1750-2500.csv\n",
      "ssp460\n",
      "/home/sarambl/PHD/IPCC/public/AR6_CH6_RCMIPFIGSv2/ar6_ch6_rcmipfigs/data_in/SSPs/ERF_ssp460_1750-2500.csv\n",
      "ssp585\n",
      "/home/sarambl/PHD/IPCC/public/AR6_CH6_RCMIPFIGSv2/ar6_ch6_rcmipfigs/data_in/SSPs/ERF_ssp585_1750-2500.csv\n",
      "ssp126\n",
      "/home/sarambl/PHD/IPCC/public/AR6_CH6_RCMIPFIGSv2/ar6_ch6_rcmipfigs/data_in/SSPs/ERF_ssp126_minorGHGs_1750-2500.csv\n",
      "ssp245\n",
      "/home/sarambl/PHD/IPCC/public/AR6_CH6_RCMIPFIGSv2/ar6_ch6_rcmipfigs/data_in/SSPs/ERF_ssp245_minorGHGs_1750-2500.csv\n",
      "ssp370\n",
      "/home/sarambl/PHD/IPCC/public/AR6_CH6_RCMIPFIGSv2/ar6_ch6_rcmipfigs/data_in/SSPs/ERF_ssp370_1750-2500.csv\n",
      "ssp370-lowNTCF-aerchemmip\n",
      "/home/sarambl/PHD/IPCC/public/AR6_CH6_RCMIPFIGSv2/ar6_ch6_rcmipfigs/data_in/SSPs/ERF_ssp370-lowNTCF-aerchemmip_minorGHGs_1750-2500.csv\n",
      "ssp370-lowNTCF-aerchemmip\n",
      "/home/sarambl/PHD/IPCC/public/AR6_CH6_RCMIPFIGSv2/ar6_ch6_rcmipfigs/data_in/SSPs/ERF_ssp370-lowNTCF-aerchemmip_1750-2500.csv\n",
      "ssp460\n",
      "/home/sarambl/PHD/IPCC/public/AR6_CH6_RCMIPFIGSv2/ar6_ch6_rcmipfigs/data_in/SSPs/ERF_ssp460_minorGHGs_1750-2500.csv\n",
      "ssp126\n",
      "/home/sarambl/PHD/IPCC/public/AR6_CH6_RCMIPFIGSv2/ar6_ch6_rcmipfigs/data_in/SSPs/ERF_ssp126_1750-2500.csv\n",
      "ssp245\n",
      "/home/sarambl/PHD/IPCC/public/AR6_CH6_RCMIPFIGSv2/ar6_ch6_rcmipfigs/data_in/SSPs/ERF_ssp245_1750-2500.csv\n",
      "ssp434\n",
      "/home/sarambl/PHD/IPCC/public/AR6_CH6_RCMIPFIGSv2/ar6_ch6_rcmipfigs/data_in/SSPs/ERF_ssp434_1750-2500.csv\n",
      "ssp534-over\n",
      "/home/sarambl/PHD/IPCC/public/AR6_CH6_RCMIPFIGSv2/ar6_ch6_rcmipfigs/data_in/SSPs/ERF_ssp534-over_minorGHGs_1750-2500.csv\n",
      "ssp370-lowNTCF-gidden\n",
      "/home/sarambl/PHD/IPCC/public/AR6_CH6_RCMIPFIGSv2/ar6_ch6_rcmipfigs/data_in/SSPs/ERF_ssp370-lowNTCF-gidden_1750-2500.csv\n",
      "ssp585\n",
      "/home/sarambl/PHD/IPCC/public/AR6_CH6_RCMIPFIGSv2/ar6_ch6_rcmipfigs/data_in/SSPs/ERF_ssp585_minorGHGs_1750-2500.csv\n"
     ]
    }
   ],
   "source": [
    "ERFs = {}\n",
    "ERFs_minor = {}\n",
    "nms = []\n",
    "for file in files:\n",
    "    fn = file.name  # filename\n",
    "\n",
    "    _ls = fn.split('_')  # [1]\n",
    "    nm = _ls[1]\n",
    "    print(nm)\n",
    "    print(file)\n",
    "    if 'minorGHGs' in fn:\n",
    "        ERFs_minor[nm] = pd.read_csv(file, index_col=0).copy()\n",
    "    else:\n",
    "        ERFs[nm] = pd.read_csv(file, index_col=0).copy()\n",
    "    nms.append(nm)"
   ]
  },
  {
   "cell_type": "code",
   "execution_count": 6,
   "metadata": {},
   "outputs": [
    {
     "data": {
      "text/html": [
       "<div>\n",
       "<style scoped>\n",
       "    .dataframe tbody tr th:only-of-type {\n",
       "        vertical-align: middle;\n",
       "    }\n",
       "\n",
       "    .dataframe tbody tr th {\n",
       "        vertical-align: top;\n",
       "    }\n",
       "\n",
       "    .dataframe thead th {\n",
       "        text-align: right;\n",
       "    }\n",
       "</style>\n",
       "<table border=\"1\" class=\"dataframe\">\n",
       "  <thead>\n",
       "    <tr style=\"text-align: right;\">\n",
       "      <th></th>\n",
       "      <th>HFC-134a</th>\n",
       "      <th>HFC-23</th>\n",
       "      <th>HFC-32</th>\n",
       "      <th>HFC-125</th>\n",
       "      <th>HFC-143a</th>\n",
       "      <th>HFC-152a</th>\n",
       "      <th>HFC-227ea</th>\n",
       "      <th>HFC-236fa</th>\n",
       "      <th>HFC-245fa</th>\n",
       "      <th>HFC-365mfc</th>\n",
       "      <th>...</th>\n",
       "      <th>i-C6F14</th>\n",
       "      <th>C7F16</th>\n",
       "      <th>C8F18</th>\n",
       "      <th>CFC-112</th>\n",
       "      <th>CFC-112a</th>\n",
       "      <th>CFC-113a</th>\n",
       "      <th>CFC-114a</th>\n",
       "      <th>HCFC-133a</th>\n",
       "      <th>HCFC-31</th>\n",
       "      <th>HCFC-124</th>\n",
       "    </tr>\n",
       "    <tr>\n",
       "      <th>year</th>\n",
       "      <th></th>\n",
       "      <th></th>\n",
       "      <th></th>\n",
       "      <th></th>\n",
       "      <th></th>\n",
       "      <th></th>\n",
       "      <th></th>\n",
       "      <th></th>\n",
       "      <th></th>\n",
       "      <th></th>\n",
       "      <th></th>\n",
       "      <th></th>\n",
       "      <th></th>\n",
       "      <th></th>\n",
       "      <th></th>\n",
       "      <th></th>\n",
       "      <th></th>\n",
       "      <th></th>\n",
       "      <th></th>\n",
       "      <th></th>\n",
       "      <th></th>\n",
       "    </tr>\n",
       "  </thead>\n",
       "  <tbody>\n",
       "    <tr>\n",
       "      <th>1750</th>\n",
       "      <td>0.0</td>\n",
       "      <td>0.000000</td>\n",
       "      <td>0.000000e+00</td>\n",
       "      <td>0.000000e+00</td>\n",
       "      <td>0.000000</td>\n",
       "      <td>0.0</td>\n",
       "      <td>0.000000e+00</td>\n",
       "      <td>0.000000</td>\n",
       "      <td>0.0</td>\n",
       "      <td>0.0</td>\n",
       "      <td>...</td>\n",
       "      <td>0.0</td>\n",
       "      <td>0.000000</td>\n",
       "      <td>0.000000</td>\n",
       "      <td>0.0</td>\n",
       "      <td>0.0</td>\n",
       "      <td>0.0</td>\n",
       "      <td>0.0</td>\n",
       "      <td>0.0</td>\n",
       "      <td>0.0</td>\n",
       "      <td>0.0</td>\n",
       "    </tr>\n",
       "    <tr>\n",
       "      <th>1751</th>\n",
       "      <td>0.0</td>\n",
       "      <td>0.000000</td>\n",
       "      <td>0.000000e+00</td>\n",
       "      <td>0.000000e+00</td>\n",
       "      <td>0.000000</td>\n",
       "      <td>0.0</td>\n",
       "      <td>0.000000e+00</td>\n",
       "      <td>0.000000</td>\n",
       "      <td>0.0</td>\n",
       "      <td>0.0</td>\n",
       "      <td>...</td>\n",
       "      <td>0.0</td>\n",
       "      <td>0.000000</td>\n",
       "      <td>0.000000</td>\n",
       "      <td>0.0</td>\n",
       "      <td>0.0</td>\n",
       "      <td>0.0</td>\n",
       "      <td>0.0</td>\n",
       "      <td>0.0</td>\n",
       "      <td>0.0</td>\n",
       "      <td>0.0</td>\n",
       "    </tr>\n",
       "    <tr>\n",
       "      <th>1752</th>\n",
       "      <td>0.0</td>\n",
       "      <td>0.000000</td>\n",
       "      <td>0.000000e+00</td>\n",
       "      <td>0.000000e+00</td>\n",
       "      <td>0.000000</td>\n",
       "      <td>0.0</td>\n",
       "      <td>0.000000e+00</td>\n",
       "      <td>0.000000</td>\n",
       "      <td>0.0</td>\n",
       "      <td>0.0</td>\n",
       "      <td>...</td>\n",
       "      <td>0.0</td>\n",
       "      <td>0.000000</td>\n",
       "      <td>0.000000</td>\n",
       "      <td>0.0</td>\n",
       "      <td>0.0</td>\n",
       "      <td>0.0</td>\n",
       "      <td>0.0</td>\n",
       "      <td>0.0</td>\n",
       "      <td>0.0</td>\n",
       "      <td>0.0</td>\n",
       "    </tr>\n",
       "    <tr>\n",
       "      <th>1753</th>\n",
       "      <td>0.0</td>\n",
       "      <td>0.000000</td>\n",
       "      <td>0.000000e+00</td>\n",
       "      <td>0.000000e+00</td>\n",
       "      <td>0.000000</td>\n",
       "      <td>0.0</td>\n",
       "      <td>0.000000e+00</td>\n",
       "      <td>0.000000</td>\n",
       "      <td>0.0</td>\n",
       "      <td>0.0</td>\n",
       "      <td>...</td>\n",
       "      <td>0.0</td>\n",
       "      <td>0.000000</td>\n",
       "      <td>0.000000</td>\n",
       "      <td>0.0</td>\n",
       "      <td>0.0</td>\n",
       "      <td>0.0</td>\n",
       "      <td>0.0</td>\n",
       "      <td>0.0</td>\n",
       "      <td>0.0</td>\n",
       "      <td>0.0</td>\n",
       "    </tr>\n",
       "    <tr>\n",
       "      <th>1754</th>\n",
       "      <td>0.0</td>\n",
       "      <td>0.000000</td>\n",
       "      <td>0.000000e+00</td>\n",
       "      <td>0.000000e+00</td>\n",
       "      <td>0.000000</td>\n",
       "      <td>0.0</td>\n",
       "      <td>0.000000e+00</td>\n",
       "      <td>0.000000</td>\n",
       "      <td>0.0</td>\n",
       "      <td>0.0</td>\n",
       "      <td>...</td>\n",
       "      <td>0.0</td>\n",
       "      <td>0.000000</td>\n",
       "      <td>0.000000</td>\n",
       "      <td>0.0</td>\n",
       "      <td>0.0</td>\n",
       "      <td>0.0</td>\n",
       "      <td>0.0</td>\n",
       "      <td>0.0</td>\n",
       "      <td>0.0</td>\n",
       "      <td>0.0</td>\n",
       "    </tr>\n",
       "    <tr>\n",
       "      <th>...</th>\n",
       "      <td>...</td>\n",
       "      <td>...</td>\n",
       "      <td>...</td>\n",
       "      <td>...</td>\n",
       "      <td>...</td>\n",
       "      <td>...</td>\n",
       "      <td>...</td>\n",
       "      <td>...</td>\n",
       "      <td>...</td>\n",
       "      <td>...</td>\n",
       "      <td>...</td>\n",
       "      <td>...</td>\n",
       "      <td>...</td>\n",
       "      <td>...</td>\n",
       "      <td>...</td>\n",
       "      <td>...</td>\n",
       "      <td>...</td>\n",
       "      <td>...</td>\n",
       "      <td>...</td>\n",
       "      <td>...</td>\n",
       "      <td>...</td>\n",
       "    </tr>\n",
       "    <tr>\n",
       "      <th>2496</th>\n",
       "      <td>0.0</td>\n",
       "      <td>0.000416</td>\n",
       "      <td>-2.433726e-08</td>\n",
       "      <td>2.952618e-07</td>\n",
       "      <td>0.000037</td>\n",
       "      <td>0.0</td>\n",
       "      <td>2.031220e-08</td>\n",
       "      <td>0.000347</td>\n",
       "      <td>0.0</td>\n",
       "      <td>0.0</td>\n",
       "      <td>...</td>\n",
       "      <td>0.0</td>\n",
       "      <td>0.000134</td>\n",
       "      <td>0.000077</td>\n",
       "      <td>0.0</td>\n",
       "      <td>0.0</td>\n",
       "      <td>0.0</td>\n",
       "      <td>0.0</td>\n",
       "      <td>0.0</td>\n",
       "      <td>0.0</td>\n",
       "      <td>0.0</td>\n",
       "    </tr>\n",
       "    <tr>\n",
       "      <th>2497</th>\n",
       "      <td>0.0</td>\n",
       "      <td>0.000414</td>\n",
       "      <td>-2.433726e-08</td>\n",
       "      <td>2.816652e-07</td>\n",
       "      <td>0.000036</td>\n",
       "      <td>0.0</td>\n",
       "      <td>1.946884e-08</td>\n",
       "      <td>0.000345</td>\n",
       "      <td>0.0</td>\n",
       "      <td>0.0</td>\n",
       "      <td>...</td>\n",
       "      <td>0.0</td>\n",
       "      <td>0.000134</td>\n",
       "      <td>0.000077</td>\n",
       "      <td>0.0</td>\n",
       "      <td>0.0</td>\n",
       "      <td>0.0</td>\n",
       "      <td>0.0</td>\n",
       "      <td>0.0</td>\n",
       "      <td>0.0</td>\n",
       "      <td>0.0</td>\n",
       "    </tr>\n",
       "    <tr>\n",
       "      <th>2498</th>\n",
       "      <td>0.0</td>\n",
       "      <td>0.000411</td>\n",
       "      <td>-2.433726e-08</td>\n",
       "      <td>2.686974e-07</td>\n",
       "      <td>0.000035</td>\n",
       "      <td>0.0</td>\n",
       "      <td>1.865874e-08</td>\n",
       "      <td>0.000342</td>\n",
       "      <td>0.0</td>\n",
       "      <td>0.0</td>\n",
       "      <td>...</td>\n",
       "      <td>0.0</td>\n",
       "      <td>0.000134</td>\n",
       "      <td>0.000077</td>\n",
       "      <td>0.0</td>\n",
       "      <td>0.0</td>\n",
       "      <td>0.0</td>\n",
       "      <td>0.0</td>\n",
       "      <td>0.0</td>\n",
       "      <td>0.0</td>\n",
       "      <td>0.0</td>\n",
       "    </tr>\n",
       "    <tr>\n",
       "      <th>2499</th>\n",
       "      <td>0.0</td>\n",
       "      <td>0.000409</td>\n",
       "      <td>-2.433726e-08</td>\n",
       "      <td>2.563234e-07</td>\n",
       "      <td>0.000034</td>\n",
       "      <td>0.0</td>\n",
       "      <td>1.788060e-08</td>\n",
       "      <td>0.000340</td>\n",
       "      <td>0.0</td>\n",
       "      <td>0.0</td>\n",
       "      <td>...</td>\n",
       "      <td>0.0</td>\n",
       "      <td>0.000134</td>\n",
       "      <td>0.000077</td>\n",
       "      <td>0.0</td>\n",
       "      <td>0.0</td>\n",
       "      <td>0.0</td>\n",
       "      <td>0.0</td>\n",
       "      <td>0.0</td>\n",
       "      <td>0.0</td>\n",
       "      <td>0.0</td>\n",
       "    </tr>\n",
       "    <tr>\n",
       "      <th>2500</th>\n",
       "      <td>0.0</td>\n",
       "      <td>0.000407</td>\n",
       "      <td>-2.433726e-08</td>\n",
       "      <td>2.502849e-07</td>\n",
       "      <td>0.000033</td>\n",
       "      <td>0.0</td>\n",
       "      <td>1.749937e-08</td>\n",
       "      <td>0.000339</td>\n",
       "      <td>0.0</td>\n",
       "      <td>0.0</td>\n",
       "      <td>...</td>\n",
       "      <td>0.0</td>\n",
       "      <td>0.000134</td>\n",
       "      <td>0.000077</td>\n",
       "      <td>0.0</td>\n",
       "      <td>0.0</td>\n",
       "      <td>0.0</td>\n",
       "      <td>0.0</td>\n",
       "      <td>0.0</td>\n",
       "      <td>0.0</td>\n",
       "      <td>0.0</td>\n",
       "    </tr>\n",
       "  </tbody>\n",
       "</table>\n",
       "<p>751 rows × 49 columns</p>\n",
       "</div>"
      ],
      "text/plain": [
       "      HFC-134a    HFC-23        HFC-32       HFC-125  HFC-143a  HFC-152a  \\\n",
       "year                                                                       \n",
       "1750       0.0  0.000000  0.000000e+00  0.000000e+00  0.000000       0.0   \n",
       "1751       0.0  0.000000  0.000000e+00  0.000000e+00  0.000000       0.0   \n",
       "1752       0.0  0.000000  0.000000e+00  0.000000e+00  0.000000       0.0   \n",
       "1753       0.0  0.000000  0.000000e+00  0.000000e+00  0.000000       0.0   \n",
       "1754       0.0  0.000000  0.000000e+00  0.000000e+00  0.000000       0.0   \n",
       "...        ...       ...           ...           ...       ...       ...   \n",
       "2496       0.0  0.000416 -2.433726e-08  2.952618e-07  0.000037       0.0   \n",
       "2497       0.0  0.000414 -2.433726e-08  2.816652e-07  0.000036       0.0   \n",
       "2498       0.0  0.000411 -2.433726e-08  2.686974e-07  0.000035       0.0   \n",
       "2499       0.0  0.000409 -2.433726e-08  2.563234e-07  0.000034       0.0   \n",
       "2500       0.0  0.000407 -2.433726e-08  2.502849e-07  0.000033       0.0   \n",
       "\n",
       "         HFC-227ea  HFC-236fa  HFC-245fa  HFC-365mfc  ...  i-C6F14     C7F16  \\\n",
       "year                                                  ...                      \n",
       "1750  0.000000e+00   0.000000        0.0         0.0  ...      0.0  0.000000   \n",
       "1751  0.000000e+00   0.000000        0.0         0.0  ...      0.0  0.000000   \n",
       "1752  0.000000e+00   0.000000        0.0         0.0  ...      0.0  0.000000   \n",
       "1753  0.000000e+00   0.000000        0.0         0.0  ...      0.0  0.000000   \n",
       "1754  0.000000e+00   0.000000        0.0         0.0  ...      0.0  0.000000   \n",
       "...            ...        ...        ...         ...  ...      ...       ...   \n",
       "2496  2.031220e-08   0.000347        0.0         0.0  ...      0.0  0.000134   \n",
       "2497  1.946884e-08   0.000345        0.0         0.0  ...      0.0  0.000134   \n",
       "2498  1.865874e-08   0.000342        0.0         0.0  ...      0.0  0.000134   \n",
       "2499  1.788060e-08   0.000340        0.0         0.0  ...      0.0  0.000134   \n",
       "2500  1.749937e-08   0.000339        0.0         0.0  ...      0.0  0.000134   \n",
       "\n",
       "         C8F18  CFC-112  CFC-112a  CFC-113a  CFC-114a  HCFC-133a  HCFC-31  \\\n",
       "year                                                                        \n",
       "1750  0.000000      0.0       0.0       0.0       0.0        0.0      0.0   \n",
       "1751  0.000000      0.0       0.0       0.0       0.0        0.0      0.0   \n",
       "1752  0.000000      0.0       0.0       0.0       0.0        0.0      0.0   \n",
       "1753  0.000000      0.0       0.0       0.0       0.0        0.0      0.0   \n",
       "1754  0.000000      0.0       0.0       0.0       0.0        0.0      0.0   \n",
       "...        ...      ...       ...       ...       ...        ...      ...   \n",
       "2496  0.000077      0.0       0.0       0.0       0.0        0.0      0.0   \n",
       "2497  0.000077      0.0       0.0       0.0       0.0        0.0      0.0   \n",
       "2498  0.000077      0.0       0.0       0.0       0.0        0.0      0.0   \n",
       "2499  0.000077      0.0       0.0       0.0       0.0        0.0      0.0   \n",
       "2500  0.000077      0.0       0.0       0.0       0.0        0.0      0.0   \n",
       "\n",
       "      HCFC-124  \n",
       "year            \n",
       "1750       0.0  \n",
       "1751       0.0  \n",
       "1752       0.0  \n",
       "1753       0.0  \n",
       "1754       0.0  \n",
       "...        ...  \n",
       "2496       0.0  \n",
       "2497       0.0  \n",
       "2498       0.0  \n",
       "2499       0.0  \n",
       "2500       0.0  \n",
       "\n",
       "[751 rows x 49 columns]"
      ]
     },
     "execution_count": 6,
     "metadata": {},
     "output_type": "execute_result"
    }
   ],
   "source": [
    "ERFs_minor[nm]"
   ]
  },
  {
   "cell_type": "code",
   "execution_count": 7,
   "metadata": {},
   "outputs": [
    {
     "data": {
      "text/plain": [
       "<matplotlib.axes._subplots.AxesSubplot at 0x7f8d077e0110>"
      ]
     },
     "execution_count": 7,
     "metadata": {},
     "output_type": "execute_result"
    },
    {
     "data": {
      "image/png": "[encoded data removed]",
      "text/plain": [
       "<Figure size 432x288 with 1 Axes>"
      ]
     },
     "metadata": {
      "needs_background": "light"
     },
     "output_type": "display_data"
    }
   ],
   "source": [
    "ERFs[nm].plot()"
   ]
  },
  {
   "cell_type": "code",
   "execution_count": 8,
   "metadata": {},
   "outputs": [
    {
     "data": {
      "text/plain": [
       "<matplotlib.legend.Legend at 0x7f8d076b6bd0>"
      ]
     },
     "execution_count": 8,
     "metadata": {},
     "output_type": "execute_result"
    },
    {
     "data": {
      "image/png": "[encoded data removed]",
      "text/plain": [
       "<Figure size 432x288 with 1 Axes>"
      ]
     },
     "metadata": {
      "needs_background": "light"
     },
     "output_type": "display_data"
    }
   ],
   "source": [
    "for scn in ERFs.keys():\n",
    "    ERFs[scn]['total_anthropogenic'].plot(label=scn)\n",
    "plt.legend(bbox_to_anchor=(1.05, 1), loc='upper left', )"
   ]
  },
  {
   "cell_type": "code",
   "execution_count": 9,
   "metadata": {},
   "outputs": [
    {
     "data": {
      "text/plain": [
       "Index(['co2', 'ch4', 'n2o', 'other_wmghg', 'o3', 'h2o_stratospheric',\n",
       "       'contrails', 'aerosol-radiation_interactions',\n",
       "       'aerosol-cloud_interactions', 'bc_on_snow', 'land_use', 'volcanic',\n",
       "       'solar', 'total_anthropogenic', 'total_natural', 'total'],\n",
       "      dtype='object')"
      ]
     },
     "execution_count": 9,
     "metadata": {},
     "output_type": "execute_result"
    }
   ],
   "source": [
    "ERFs['ssp534-over'].columns  # [scn]#.columns"
   ]
  },
  {
   "cell_type": "markdown",
   "metadata": {},
   "source": [
    "## Add together aerosol forcing:"
   ]
  },
  {
   "cell_type": "code",
   "execution_count": 10,
   "metadata": {},
   "outputs": [],
   "source": [
    "aero_tot = 'aerosol-total'\n",
    "aero_cld = 'aerosol-cloud_interactions'\n",
    "aero_rad = 'aerosol-radiation_interactions'\n",
    "for scn in ERFs.keys():\n",
    "    # add together:\n",
    "    ERFs[scn][aero_tot] = ERFs[scn][aero_cld] + ERFs[scn][aero_rad]"
   ]
  },
  {
   "cell_type": "code",
   "execution_count": 11,
   "metadata": {},
   "outputs": [
    {
     "data": {
      "text/plain": [
       "Index(['co2', 'ch4', 'n2o', 'other_wmghg', 'o3', 'h2o_stratospheric',\n",
       "       'contrails', 'aerosol-radiation_interactions',\n",
       "       'aerosol-cloud_interactions', 'bc_on_snow', 'land_use', 'volcanic',\n",
       "       'solar', 'total_anthropogenic', 'total_natural', 'total',\n",
       "       'aerosol-total'],\n",
       "      dtype='object')"
      ]
     },
     "execution_count": 11,
     "metadata": {},
     "output_type": "execute_result"
    }
   ],
   "source": [
    "ERFs['ssp534-over'].columns  # [scn]#.columns"
   ]
  },
  {
   "cell_type": "markdown",
   "metadata": {},
   "source": [
    "## SUM OF HCF"
   ]
  },
  {
   "cell_type": "code",
   "execution_count": 12,
   "metadata": {},
   "outputs": [
    {
     "data": {
      "text/plain": [
       "['HFC-134a',\n",
       " 'HFC-23',\n",
       " 'HFC-32',\n",
       " 'HFC-125',\n",
       " 'HFC-143a',\n",
       " 'HFC-152a',\n",
       " 'HFC-227ea',\n",
       " 'HFC-236fa',\n",
       " 'HFC-245fa',\n",
       " 'HFC-365mfc',\n",
       " 'HFC-43-10mee']"
      ]
     },
     "execution_count": 12,
     "metadata": {},
     "output_type": "execute_result"
    }
   ],
   "source": [
    "HFCs_name = 'HFCs'\n",
    "# list of variables\n",
    "ls = list(ERFs_minor['ssp119'].columns)\n",
    "# chocose only those with HFC in them\n",
    "vars_HFCs = [v for v in ls if 'HFC' in v]\n",
    "\n",
    "vars_HFCs"
   ]
  },
  {
   "cell_type": "code",
   "execution_count": 7,
   "metadata": {},
   "outputs": [
    {
     "data": {
      "text/plain": [
       "['HFC-134a',\n",
       " 'HFC-23',\n",
       " 'HFC-32',\n",
       " 'HFC-125',\n",
       " 'HFC-143a',\n",
       " 'HFC-152a',\n",
       " 'HFC-227ea',\n",
       " 'HFC-236fa',\n",
       " 'HFC-245fa',\n",
       " 'HFC-365mfc',\n",
       " 'HFC-43-10mee']"
      ]
     },
     "execution_count": 7,
     "metadata": {},
     "output_type": "execute_result"
    }
   ],
   "source": [
    "HFCs_name = 'HFCs'\n",
    "# list of variables\n",
    "ls = list(ERFs_minor['ssp370-lowNTCF-aerchemmip'].columns)\n",
    "# chocose only those with HFC in them\n",
    "vars_HFCs = [v for v in ls if 'HFC' in v]\n",
    "\n",
    "vars_HFCs"
   ]
  },
  {
   "cell_type": "code",
   "execution_count": 20,
   "metadata": {},
   "outputs": [
    {
     "data": {
      "text/plain": [
       "<matplotlib.axes._subplots.AxesSubplot at 0x7f1e187035d0>"
      ]
     },
     "execution_count": 20,
     "metadata": {},
     "output_type": "execute_result"
    },
    {
     "data": {
      "image/png": "[encoded data removed]",
      "text/plain": [
       "<Figure size 432x288 with 1 Axes>"
      ]
     },
     "metadata": {
      "needs_background": "light"
     },
     "output_type": "display_data"
    },
    {
     "data": {
      "image/png": "[encoded data removed]",
      "text/plain": [
       "<Figure size 432x288 with 1 Axes>"
      ]
     },
     "metadata": {
      "needs_background": "light"
     },
     "output_type": "display_data"
    },
    {
     "data": {
      "image/png": "[encoded data removed]",
      "text/plain": [
       "<Figure size 432x288 with 1 Axes>"
      ]
     },
     "metadata": {
      "needs_background": "light"
     },
     "output_type": "display_data"
    }
   ],
   "source": [
    "\n",
    "ERFs_minor['ssp370-lowNTCF-gidden'][vars_HFCs].plot(linestyle='dashed', title='gidden')\n",
    "ERFs_minor['ssp370-lowNTCF-aerchemmip'][vars_HFCs].plot(linestyle='dashed', title='aerchemip')\n",
    "\n",
    "ERFs_minor['ssp370'][vars_HFCs].plot(title='ssp370')"
   ]
  },
  {
   "cell_type": "code",
   "execution_count": null,
   "metadata": {},
   "outputs": [],
   "source": []
  },
  {
   "cell_type": "code",
   "execution_count": 13,
   "metadata": {},
   "outputs": [
    {
     "data": {
      "text/html": [
       "<div>\n",
       "<style scoped>\n",
       "    .dataframe tbody tr th:only-of-type {\n",
       "        vertical-align: middle;\n",
       "    }\n",
       "\n",
       "    .dataframe tbody tr th {\n",
       "        vertical-align: top;\n",
       "    }\n",
       "\n",
       "    .dataframe thead th {\n",
       "        text-align: right;\n",
       "    }\n",
       "</style>\n",
       "<table border=\"1\" class=\"dataframe\">\n",
       "  <thead>\n",
       "    <tr style=\"text-align: right;\">\n",
       "      <th></th>\n",
       "      <th>co2</th>\n",
       "      <th>ch4</th>\n",
       "      <th>n2o</th>\n",
       "      <th>other_wmghg</th>\n",
       "      <th>o3</th>\n",
       "      <th>h2o_stratospheric</th>\n",
       "      <th>contrails</th>\n",
       "      <th>aerosol-radiation_interactions</th>\n",
       "      <th>aerosol-cloud_interactions</th>\n",
       "      <th>bc_on_snow</th>\n",
       "      <th>land_use</th>\n",
       "      <th>volcanic</th>\n",
       "      <th>solar</th>\n",
       "      <th>total_anthropogenic</th>\n",
       "      <th>total_natural</th>\n",
       "      <th>total</th>\n",
       "      <th>aerosol-total</th>\n",
       "      <th>HFCs</th>\n",
       "    </tr>\n",
       "    <tr>\n",
       "      <th>year</th>\n",
       "      <th></th>\n",
       "      <th></th>\n",
       "      <th></th>\n",
       "      <th></th>\n",
       "      <th></th>\n",
       "      <th></th>\n",
       "      <th></th>\n",
       "      <th></th>\n",
       "      <th></th>\n",
       "      <th></th>\n",
       "      <th></th>\n",
       "      <th></th>\n",
       "      <th></th>\n",
       "      <th></th>\n",
       "      <th></th>\n",
       "      <th></th>\n",
       "      <th></th>\n",
       "      <th></th>\n",
       "    </tr>\n",
       "  </thead>\n",
       "  <tbody>\n",
       "    <tr>\n",
       "      <th>1750</th>\n",
       "      <td>0.000000</td>\n",
       "      <td>0.000000</td>\n",
       "      <td>0.000000</td>\n",
       "      <td>0.000000e+00</td>\n",
       "      <td>0.000000</td>\n",
       "      <td>0.000000</td>\n",
       "      <td>0.0</td>\n",
       "      <td>0.000000</td>\n",
       "      <td>0.000000</td>\n",
       "      <td>0.000000</td>\n",
       "      <td>0.000000</td>\n",
       "      <td>0.199978</td>\n",
       "      <td>0.097590</td>\n",
       "      <td>0.000000</td>\n",
       "      <td>0.297568</td>\n",
       "      <td>0.297568</td>\n",
       "      <td>0.000000</td>\n",
       "      <td>0.000000</td>\n",
       "    </tr>\n",
       "    <tr>\n",
       "      <th>1751</th>\n",
       "      <td>0.001416</td>\n",
       "      <td>0.000508</td>\n",
       "      <td>0.000074</td>\n",
       "      <td>7.958010e-10</td>\n",
       "      <td>0.000300</td>\n",
       "      <td>0.000047</td>\n",
       "      <td>0.0</td>\n",
       "      <td>0.000601</td>\n",
       "      <td>0.004671</td>\n",
       "      <td>-0.000358</td>\n",
       "      <td>-0.000229</td>\n",
       "      <td>0.199990</td>\n",
       "      <td>0.079244</td>\n",
       "      <td>0.007029</td>\n",
       "      <td>0.279234</td>\n",
       "      <td>0.286264</td>\n",
       "      <td>0.005272</td>\n",
       "      <td>0.000000</td>\n",
       "    </tr>\n",
       "    <tr>\n",
       "      <th>1752</th>\n",
       "      <td>0.002832</td>\n",
       "      <td>0.001016</td>\n",
       "      <td>0.000148</td>\n",
       "      <td>1.591602e-09</td>\n",
       "      <td>0.000600</td>\n",
       "      <td>0.000093</td>\n",
       "      <td>0.0</td>\n",
       "      <td>0.001247</td>\n",
       "      <td>0.007276</td>\n",
       "      <td>-0.000483</td>\n",
       "      <td>-0.000458</td>\n",
       "      <td>0.199995</td>\n",
       "      <td>0.049166</td>\n",
       "      <td>0.012272</td>\n",
       "      <td>0.249161</td>\n",
       "      <td>0.261432</td>\n",
       "      <td>0.008523</td>\n",
       "      <td>0.000000</td>\n",
       "    </tr>\n",
       "    <tr>\n",
       "      <th>1753</th>\n",
       "      <td>0.004247</td>\n",
       "      <td>0.001524</td>\n",
       "      <td>0.000222</td>\n",
       "      <td>2.387403e-09</td>\n",
       "      <td>0.000900</td>\n",
       "      <td>0.000140</td>\n",
       "      <td>0.0</td>\n",
       "      <td>0.000537</td>\n",
       "      <td>0.004738</td>\n",
       "      <td>-0.000373</td>\n",
       "      <td>-0.000687</td>\n",
       "      <td>0.199996</td>\n",
       "      <td>0.012988</td>\n",
       "      <td>0.011248</td>\n",
       "      <td>0.212984</td>\n",
       "      <td>0.224232</td>\n",
       "      <td>0.005275</td>\n",
       "      <td>0.000000</td>\n",
       "    </tr>\n",
       "    <tr>\n",
       "      <th>1754</th>\n",
       "      <td>0.005662</td>\n",
       "      <td>0.002031</td>\n",
       "      <td>0.000296</td>\n",
       "      <td>3.183204e-09</td>\n",
       "      <td>0.001200</td>\n",
       "      <td>0.000187</td>\n",
       "      <td>0.0</td>\n",
       "      <td>-0.000875</td>\n",
       "      <td>-0.001996</td>\n",
       "      <td>0.000023</td>\n",
       "      <td>-0.000916</td>\n",
       "      <td>0.199996</td>\n",
       "      <td>-0.021427</td>\n",
       "      <td>0.005612</td>\n",
       "      <td>0.178570</td>\n",
       "      <td>0.184182</td>\n",
       "      <td>-0.002870</td>\n",
       "      <td>0.000000</td>\n",
       "    </tr>\n",
       "    <tr>\n",
       "      <th>...</th>\n",
       "      <td>...</td>\n",
       "      <td>...</td>\n",
       "      <td>...</td>\n",
       "      <td>...</td>\n",
       "      <td>...</td>\n",
       "      <td>...</td>\n",
       "      <td>...</td>\n",
       "      <td>...</td>\n",
       "      <td>...</td>\n",
       "      <td>...</td>\n",
       "      <td>...</td>\n",
       "      <td>...</td>\n",
       "      <td>...</td>\n",
       "      <td>...</td>\n",
       "      <td>...</td>\n",
       "      <td>...</td>\n",
       "      <td>...</td>\n",
       "      <td>...</td>\n",
       "    </tr>\n",
       "    <tr>\n",
       "      <th>2496</th>\n",
       "      <td>12.020404</td>\n",
       "      <td>0.168752</td>\n",
       "      <td>0.414101</td>\n",
       "      <td>5.932631e-02</td>\n",
       "      <td>-0.057579</td>\n",
       "      <td>0.015511</td>\n",
       "      <td>0.0</td>\n",
       "      <td>-0.141513</td>\n",
       "      <td>0.025636</td>\n",
       "      <td>-0.006410</td>\n",
       "      <td>-0.220174</td>\n",
       "      <td>0.000000</td>\n",
       "      <td>0.000000</td>\n",
       "      <td>12.278054</td>\n",
       "      <td>0.000000</td>\n",
       "      <td>12.278054</td>\n",
       "      <td>-0.115878</td>\n",
       "      <td>0.000800</td>\n",
       "    </tr>\n",
       "    <tr>\n",
       "      <th>2497</th>\n",
       "      <td>12.018382</td>\n",
       "      <td>0.168662</td>\n",
       "      <td>0.414094</td>\n",
       "      <td>5.929201e-02</td>\n",
       "      <td>-0.057676</td>\n",
       "      <td>0.015503</td>\n",
       "      <td>0.0</td>\n",
       "      <td>-0.141513</td>\n",
       "      <td>0.025636</td>\n",
       "      <td>-0.006410</td>\n",
       "      <td>-0.220174</td>\n",
       "      <td>0.000000</td>\n",
       "      <td>0.000000</td>\n",
       "      <td>12.275795</td>\n",
       "      <td>0.000000</td>\n",
       "      <td>12.275795</td>\n",
       "      <td>-0.115878</td>\n",
       "      <td>0.000794</td>\n",
       "    </tr>\n",
       "    <tr>\n",
       "      <th>2498</th>\n",
       "      <td>12.016389</td>\n",
       "      <td>0.168572</td>\n",
       "      <td>0.414085</td>\n",
       "      <td>5.925787e-02</td>\n",
       "      <td>-0.057773</td>\n",
       "      <td>0.015494</td>\n",
       "      <td>0.0</td>\n",
       "      <td>-0.141513</td>\n",
       "      <td>0.025636</td>\n",
       "      <td>-0.006410</td>\n",
       "      <td>-0.220174</td>\n",
       "      <td>0.000000</td>\n",
       "      <td>0.000000</td>\n",
       "      <td>12.273563</td>\n",
       "      <td>0.000000</td>\n",
       "      <td>12.273563</td>\n",
       "      <td>-0.115878</td>\n",
       "      <td>0.000789</td>\n",
       "    </tr>\n",
       "    <tr>\n",
       "      <th>2499</th>\n",
       "      <td>12.014426</td>\n",
       "      <td>0.168482</td>\n",
       "      <td>0.414075</td>\n",
       "      <td>5.922385e-02</td>\n",
       "      <td>-0.057871</td>\n",
       "      <td>0.015486</td>\n",
       "      <td>0.0</td>\n",
       "      <td>-0.141513</td>\n",
       "      <td>0.025636</td>\n",
       "      <td>-0.006410</td>\n",
       "      <td>-0.220174</td>\n",
       "      <td>0.000000</td>\n",
       "      <td>0.000000</td>\n",
       "      <td>12.271360</td>\n",
       "      <td>0.000000</td>\n",
       "      <td>12.271360</td>\n",
       "      <td>-0.115878</td>\n",
       "      <td>0.000783</td>\n",
       "    </tr>\n",
       "    <tr>\n",
       "      <th>2500</th>\n",
       "      <td>12.013398</td>\n",
       "      <td>0.168435</td>\n",
       "      <td>0.414070</td>\n",
       "      <td>5.920689e-02</td>\n",
       "      <td>-0.057945</td>\n",
       "      <td>0.015482</td>\n",
       "      <td>0.0</td>\n",
       "      <td>-0.141513</td>\n",
       "      <td>0.025636</td>\n",
       "      <td>-0.006410</td>\n",
       "      <td>-0.220174</td>\n",
       "      <td>0.000000</td>\n",
       "      <td>0.000000</td>\n",
       "      <td>12.270185</td>\n",
       "      <td>0.000000</td>\n",
       "      <td>12.270185</td>\n",
       "      <td>-0.115878</td>\n",
       "      <td>0.000780</td>\n",
       "    </tr>\n",
       "  </tbody>\n",
       "</table>\n",
       "<p>751 rows × 18 columns</p>\n",
       "</div>"
      ],
      "text/plain": [
       "            co2       ch4       n2o   other_wmghg        o3  \\\n",
       "year                                                          \n",
       "1750   0.000000  0.000000  0.000000  0.000000e+00  0.000000   \n",
       "1751   0.001416  0.000508  0.000074  7.958010e-10  0.000300   \n",
       "1752   0.002832  0.001016  0.000148  1.591602e-09  0.000600   \n",
       "1753   0.004247  0.001524  0.000222  2.387403e-09  0.000900   \n",
       "1754   0.005662  0.002031  0.000296  3.183204e-09  0.001200   \n",
       "...         ...       ...       ...           ...       ...   \n",
       "2496  12.020404  0.168752  0.414101  5.932631e-02 -0.057579   \n",
       "2497  12.018382  0.168662  0.414094  5.929201e-02 -0.057676   \n",
       "2498  12.016389  0.168572  0.414085  5.925787e-02 -0.057773   \n",
       "2499  12.014426  0.168482  0.414075  5.922385e-02 -0.057871   \n",
       "2500  12.013398  0.168435  0.414070  5.920689e-02 -0.057945   \n",
       "\n",
       "      h2o_stratospheric  contrails  aerosol-radiation_interactions  \\\n",
       "year                                                                 \n",
       "1750           0.000000        0.0                        0.000000   \n",
       "1751           0.000047        0.0                        0.000601   \n",
       "1752           0.000093        0.0                        0.001247   \n",
       "1753           0.000140        0.0                        0.000537   \n",
       "1754           0.000187        0.0                       -0.000875   \n",
       "...                 ...        ...                             ...   \n",
       "2496           0.015511        0.0                       -0.141513   \n",
       "2497           0.015503        0.0                       -0.141513   \n",
       "2498           0.015494        0.0                       -0.141513   \n",
       "2499           0.015486        0.0                       -0.141513   \n",
       "2500           0.015482        0.0                       -0.141513   \n",
       "\n",
       "      aerosol-cloud_interactions  bc_on_snow  land_use  volcanic     solar  \\\n",
       "year                                                                         \n",
       "1750                    0.000000    0.000000  0.000000  0.199978  0.097590   \n",
       "1751                    0.004671   -0.000358 -0.000229  0.199990  0.079244   \n",
       "1752                    0.007276   -0.000483 -0.000458  0.199995  0.049166   \n",
       "1753                    0.004738   -0.000373 -0.000687  0.199996  0.012988   \n",
       "1754                   -0.001996    0.000023 -0.000916  0.199996 -0.021427   \n",
       "...                          ...         ...       ...       ...       ...   \n",
       "2496                    0.025636   -0.006410 -0.220174  0.000000  0.000000   \n",
       "2497                    0.025636   -0.006410 -0.220174  0.000000  0.000000   \n",
       "2498                    0.025636   -0.006410 -0.220174  0.000000  0.000000   \n",
       "2499                    0.025636   -0.006410 -0.220174  0.000000  0.000000   \n",
       "2500                    0.025636   -0.006410 -0.220174  0.000000  0.000000   \n",
       "\n",
       "      total_anthropogenic  total_natural      total  aerosol-total      HFCs  \n",
       "year                                                                          \n",
       "1750             0.000000       0.297568   0.297568       0.000000  0.000000  \n",
       "1751             0.007029       0.279234   0.286264       0.005272  0.000000  \n",
       "1752             0.012272       0.249161   0.261432       0.008523  0.000000  \n",
       "1753             0.011248       0.212984   0.224232       0.005275  0.000000  \n",
       "1754             0.005612       0.178570   0.184182      -0.002870  0.000000  \n",
       "...                   ...            ...        ...            ...       ...  \n",
       "2496            12.278054       0.000000  12.278054      -0.115878  0.000800  \n",
       "2497            12.275795       0.000000  12.275795      -0.115878  0.000794  \n",
       "2498            12.273563       0.000000  12.273563      -0.115878  0.000789  \n",
       "2499            12.271360       0.000000  12.271360      -0.115878  0.000783  \n",
       "2500            12.270185       0.000000  12.270185      -0.115878  0.000780  \n",
       "\n",
       "[751 rows x 18 columns]"
      ]
     },
     "execution_count": 13,
     "metadata": {},
     "output_type": "execute_result"
    }
   ],
   "source": [
    "for scn in ERFs_minor.keys():\n",
    "    # sum over HFC variables\n",
    "    ERFs_minor[scn][HFCs_name] = ERFs_minor[scn][vars_HFCs].sum(axis=1)\n",
    "    # add row to ERFs as well\n",
    "    ERFs[scn][HFCs_name] = ERFs_minor[scn][HFCs_name]\n",
    "ERFs[scn]"
   ]
  },
  {
   "cell_type": "code",
   "execution_count": 14,
   "metadata": {},
   "outputs": [
    {
     "data": {
      "text/plain": [
       "dict_keys(['ssp534-over', 'ssp119', 'ssp460', 'ssp585', 'ssp370', 'ssp370-lowNTCF-aerchemmip', 'ssp126', 'ssp245', 'ssp434', 'ssp370-lowNTCF-gidden'])"
      ]
     },
     "execution_count": 14,
     "metadata": {},
     "output_type": "execute_result"
    }
   ],
   "source": [
    "ERFs.keys()"
   ]
  },
  {
   "cell_type": "code",
   "execution_count": 15,
   "metadata": {
    "collapsed": false,
    "jupyter": {
     "outputs_hidden": false
    },
    "pycharm": {
     "name": "#%%\n"
    }
   },
   "outputs": [],
   "source": [
    "import xarray as xr\n",
    "\n",
    "das = []\n",
    "for nm in nms:\n",
    "    # convert to xarray\n",
    "    ds = ERFs[nm].to_xarray()  # .squeeze()\n",
    "    # concatubate variables as new dimension\n",
    "    da = ds.to_array('variable')\n",
    "    # give scenario name\n",
    "    da = da.rename(nm)\n",
    "\n",
    "    das.append(da)"
   ]
  },
  {
   "cell_type": "code",
   "execution_count": 16,
   "metadata": {
    "collapsed": false,
    "jupyter": {
     "outputs_hidden": false
    },
    "pycharm": {
     "name": "#%%\n"
    }
   },
   "outputs": [
    {
     "data": {
      "text/html": [
       "<pre>&lt;xarray.Dataset&gt;\n",
       "Dimensions:   (scenario: 10, variable: 18, year: 751)\n",
       "Coordinates:\n",
       "  * year      (year) int64 1750 1751 1752 1753 1754 ... 2496 2497 2498 2499 2500\n",
       "  * variable  (variable) &lt;U30 &#x27;co2&#x27; &#x27;ch4&#x27; &#x27;n2o&#x27; ... &#x27;aerosol-total&#x27; &#x27;HFCs&#x27;\n",
       "  * scenario  (scenario) &lt;U25 &#x27;ssp534-over&#x27; ... &#x27;ssp370-lowNTCF-aerchemmip&#x27;\n",
       "Data variables:\n",
       "    ERF       (scenario, variable, year) float64 0.0 0.001416 ... 0.0009102</pre>"
      ],
      "text/plain": [
       "<xarray.Dataset>\n",
       "Dimensions:   (scenario: 10, variable: 18, year: 751)\n",
       "Coordinates:\n",
       "  * year      (year) int64 1750 1751 1752 1753 1754 ... 2496 2497 2498 2499 2500\n",
       "  * variable  (variable) <U30 'co2' 'ch4' 'n2o' ... 'aerosol-total' 'HFCs'\n",
       "  * scenario  (scenario) <U25 'ssp534-over' ... 'ssp370-lowNTCF-aerchemmip'\n",
       "Data variables:\n",
       "    ERF       (scenario, variable, year) float64 0.0 0.001416 ... 0.0009102"
      ]
     },
     "execution_count": 16,
     "metadata": {},
     "output_type": "execute_result"
    }
   ],
   "source": [
    "# let the new dimension be called scenario:\n",
    "da_tot = xr.merge(das).to_array('scenario')\n",
    "# rename the dataset to ERF\n",
    "da_tot = da_tot.rename('ERF')\n",
    "# save\n",
    "da_tot.to_netcdf(SAVEPATH_DATASET)\n",
    "da_tot.to_dataset()"
   ]
  },
  {
   "cell_type": "code",
   "execution_count": 17,
   "metadata": {
    "collapsed": false,
    "jupyter": {
     "outputs_hidden": false
    },
    "pycharm": {
     "name": "#%%\n"
    }
   },
   "outputs": [],
   "source": [
    "import xarray as xr\n",
    "\n",
    "das = []\n",
    "for nm in nms:\n",
    "    ds = ERFs_minor[nm].to_xarray()  # .squeeze()\n",
    "    da = ds.to_array('variable')\n",
    "    da = da.rename(nm)\n",
    "    das.append(da)"
   ]
  },
  {
   "cell_type": "code",
   "execution_count": 18,
   "metadata": {
    "collapsed": false,
    "jupyter": {
     "outputs_hidden": false
    },
    "pycharm": {
     "name": "#%%\n"
    }
   },
   "outputs": [
    {
     "data": {
      "text/html": [
       "<pre>&lt;xarray.Dataset&gt;\n",
       "Dimensions:   (scenario: 10, variable: 50, year: 751)\n",
       "Coordinates:\n",
       "  * year      (year) int64 1750 1751 1752 1753 1754 ... 2496 2497 2498 2499 2500\n",
       "  * variable  (variable) &lt;U12 &#x27;HFC-134a&#x27; &#x27;HFC-23&#x27; &#x27;HFC-32&#x27; ... &#x27;HCFC-124&#x27; &#x27;HFCs&#x27;\n",
       "  * scenario  (scenario) &lt;U25 &#x27;ssp534-over&#x27; ... &#x27;ssp370-lowNTCF-aerchemmip&#x27;\n",
       "Data variables:\n",
       "    ERF       (scenario, variable, year) float64 0.0 0.0 ... 0.0009132 0.0009102</pre>"
      ],
      "text/plain": [
       "<xarray.Dataset>\n",
       "Dimensions:   (scenario: 10, variable: 50, year: 751)\n",
       "Coordinates:\n",
       "  * year      (year) int64 1750 1751 1752 1753 1754 ... 2496 2497 2498 2499 2500\n",
       "  * variable  (variable) <U12 'HFC-134a' 'HFC-23' 'HFC-32' ... 'HCFC-124' 'HFCs'\n",
       "  * scenario  (scenario) <U25 'ssp534-over' ... 'ssp370-lowNTCF-aerchemmip'\n",
       "Data variables:\n",
       "    ERF       (scenario, variable, year) float64 0.0 0.0 ... 0.0009132 0.0009102"
      ]
     },
     "execution_count": 18,
     "metadata": {},
     "output_type": "execute_result"
    }
   ],
   "source": [
    "da_tot_minor = xr.merge(das).to_array('scenario')\n",
    "da_tot_minor = da_tot_minor.rename('ERF')\n",
    "da_tot_minor.to_netcdf(SAVEPATH_DATASET_minor)\n",
    "da_tot_minor.to_dataset()"
   ]
  },
  {
   "cell_type": "code",
   "execution_count": 19,
   "metadata": {
    "collapsed": false,
    "jupyter": {
     "outputs_hidden": false
    },
    "pycharm": {
     "name": "#%%\n"
    }
   },
   "outputs": [
    {
     "data": {
      "text/html": [
       "<pre>&lt;xarray.Dataset&gt;\n",
       "Dimensions:   (scenario: 10, variable: 18, year: 751)\n",
       "Coordinates:\n",
       "  * year      (year) int64 1750 1751 1752 1753 1754 ... 2496 2497 2498 2499 2500\n",
       "  * variable  (variable) object &#x27;co2&#x27; &#x27;ch4&#x27; &#x27;n2o&#x27; ... &#x27;aerosol-total&#x27; &#x27;HFCs&#x27;\n",
       "  * scenario  (scenario) object &#x27;ssp534-over&#x27; ... &#x27;ssp370-lowNTCF-aerchemmip&#x27;\n",
       "Data variables:\n",
       "    ERF       (scenario, variable, year) float64 ...</pre>"
      ],
      "text/plain": [
       "<xarray.Dataset>\n",
       "Dimensions:   (scenario: 10, variable: 18, year: 751)\n",
       "Coordinates:\n",
       "  * year      (year) int64 1750 1751 1752 1753 1754 ... 2496 2497 2498 2499 2500\n",
       "  * variable  (variable) object 'co2' 'ch4' 'n2o' ... 'aerosol-total' 'HFCs'\n",
       "  * scenario  (scenario) object 'ssp534-over' ... 'ssp370-lowNTCF-aerchemmip'\n",
       "Data variables:\n",
       "    ERF       (scenario, variable, year) float64 ..."
      ]
     },
     "execution_count": 19,
     "metadata": {},
     "output_type": "execute_result"
    }
   ],
   "source": [
    "da_check = xr.open_dataset(SAVEPATH_DATASET)\n",
    "da_check"
   ]
  },
  {
   "cell_type": "code",
   "execution_count": 20,
   "metadata": {},
   "outputs": [],
   "source": [
    "import matplotlib.pyplot as plt"
   ]
  },
  {
   "cell_type": "code",
   "execution_count": 21,
   "metadata": {},
   "outputs": [
    {
     "data": {
      "text/plain": [
       "<matplotlib.legend.Legend at 0x7f8d05813e50>"
      ]
     },
     "execution_count": 21,
     "metadata": {},
     "output_type": "execute_result"
    },
    {
     "data": {
      "image/png": "[encoded data removed]",
      "text/plain": [
       "<Figure size 432x288 with 1 Axes>"
      ]
     },
     "metadata": {
      "needs_background": "light"
     },
     "output_type": "display_data"
    }
   ],
   "source": [
    "for scn in da_check.scenario:\n",
    "    da_check.sel(variable='total_anthropogenic')['ERF'].sel(scenario=scn).plot(label=scn.values)\n",
    "plt.legend(bbox_to_anchor=(1.05, 1), loc='upper left', )"
   ]
  },
  {
   "cell_type": "code",
   "execution_count": 22,
   "metadata": {},
   "outputs": [
    {
     "data": {
      "text/plain": [
       "PosixPath('/home/sarambl/PHD/IPCC/public/AR6_CH6_RCMIPFIGSv2/ar6_ch6_rcmipfigs/data_out/ERF_data.nc')"
      ]
     },
     "execution_count": 22,
     "metadata": {},
     "output_type": "execute_result"
    }
   ],
   "source": [
    "SAVEPATH_DATASET"
   ]
  },
  {
   "cell_type": "code",
   "execution_count": null,
   "metadata": {},
   "outputs": [],
   "source": []
  }
 ],
 "metadata": {
  "jupytext": {
   "text_representation": {
    "extension": ".py",
    "format_name": "percent",
    "format_version": "1.3",
    "jupytext_version": "1.3.3"
   }
  },
  "kernelspec": {
   "display_name": "Python 3",
   "language": "python",
   "name": "python3"
  },
  "language_info": {
   "codemirror_mode": {
    "name": "ipython",
    "version": 3
   },
   "file_extension": ".py",
   "mimetype": "text/x-python",
   "name": "python",
   "nbconvert_exporter": "python",
   "pygments_lexer": "ipython3",
   "version": "3.7.6"
  }
 },
 "nbformat": 4,
 "nbformat_minor": 4
}
