{
 "cells": [
  {
   "cell_type": "code",
   "execution_count": 7,
   "metadata": {},
   "outputs": [
    {
     "name": "stdout",
     "output_type": "stream",
     "text": [
      "The autoreload extension is already loaded. To reload it, use:\n",
      "  %reload_ext autoreload\n"
     ]
    }
   ],
   "source": [
    "import pandas as pd\n",
    "import xarray as xr\n",
    "from IPython.display import clear_output\n",
    "import numpy as np\n",
    "import pandas as pd\n",
    "import matplotlib.pyplot as plt\n",
    "\n",
    "%load_ext autoreload\n",
    "%autoreload 2\n",
    "from ar6_ch6_rcmipfigs.constants import INPUT_DATA_DIR"
   ]
  },
  {
   "cell_type": "code",
   "execution_count": 8,
   "metadata": {},
   "outputs": [],
   "source": [
    "import seaborn as sns"
   ]
  },
  {
   "cell_type": "markdown",
   "metadata": {
    "lines_to_next_cell": 0
   },
   "source": [
    "### General about computing $\\Delta T$:"
   ]
  },
  {
   "cell_type": "markdown",
   "metadata": {},
   "source": [
    "# Code + figures"
   ]
  },
  {
   "cell_type": "code",
   "execution_count": 9,
   "metadata": {},
   "outputs": [],
   "source": [
    "output_name = 'fig_em_based_ERF_GSAT'"
   ]
  },
  {
   "cell_type": "markdown",
   "metadata": {},
   "source": [
    "### Path input data"
   ]
  },
  {
   "cell_type": "code",
   "execution_count": 10,
   "metadata": {
    "collapsed": false,
    "jupyter": {
     "outputs_hidden": false
    },
    "lines_to_next_cell": 2,
    "pycharm": {
     "name": "#%%\n"
    }
   },
   "outputs": [],
   "source": [
    "from ar6_ch6_rcmipfigs.constants import OUTPUT_DATA_DIR, RESULTS_DIR, BASE_DIR\n",
    "\n",
    "#PATH_DATASET = OUTPUT_DATA_DIR / 'ERF_data.nc'\n",
    "PATH_DATASET = OUTPUT_DATA_DIR/'historic_delta_GSAT/dT_data_hist_recommendation.nc'\n",
    "\n",
    "\n",
    "\n",
    "\n",
    "\n",
    "\n",
    "fn_erf_decomposition = OUTPUT_DATA_DIR / 'historic_delta_GSAT/hist_ERF_est_decomp.csv'\n",
    "fn_ERF_2019= OUTPUT_DATA_DIR/'historic_delta_GSAT/2019_ERF_est.csv'\n",
    "#fn_output_decomposition = OUTPUT_DATA_DIR / 'historic_delta_GSAT/hist_ERF_est_decomp.csv'"
   ]
  },
  {
   "cell_type": "markdown",
   "metadata": {},
   "source": [
    "## Path output data"
   ]
  },
  {
   "cell_type": "code",
   "execution_count": 11,
   "metadata": {
    "collapsed": false,
    "jupyter": {
     "outputs_hidden": false
    },
    "lines_to_next_cell": 2,
    "pycharm": {
     "name": "#%%\n"
    }
   },
   "outputs": [
    {
     "name": "stdout",
     "output_type": "stream",
     "text": [
      "/Users/sarablichner/science/PHD/IPCC/public/AR6_CH6_RCMIPFIGSv2/ar6_ch6_rcmipfigs/data_out/historic_delta_GSAT/dT_data_hist_recommendation.csv\n"
     ]
    }
   ],
   "source": [
    "#PATH_DT_TAB_OUTPUT = RESULTS_DIR / 'tables' / 'table_sens_dT_cs_recommandetion.csv'\n",
    "PATH_DF_OUTPUT = OUTPUT_DATA_DIR / 'historic_delta_GSAT/dT_data_hist_recommendation.csv'\n",
    "\n",
    "print(PATH_DF_OUTPUT)"
   ]
  },
  {
   "cell_type": "markdown",
   "metadata": {},
   "source": [
    "## various definitions"
   ]
  },
  {
   "cell_type": "markdown",
   "metadata": {},
   "source": [
    "Year to integrate from and to:"
   ]
  },
  {
   "cell_type": "code",
   "execution_count": 12,
   "metadata": {},
   "outputs": [],
   "source": [
    "first_y = 1750\n",
    "last_y = 2019"
   ]
  },
  {
   "cell_type": "markdown",
   "metadata": {},
   "source": [
    "**Set reference year for temperature change:**"
   ]
  },
  {
   "cell_type": "code",
   "execution_count": 13,
   "metadata": {},
   "outputs": [],
   "source": [
    "ref_year = 1750"
   ]
  },
  {
   "cell_type": "markdown",
   "metadata": {},
   "source": [
    "### Define variables to look at:"
   ]
  },
  {
   "cell_type": "code",
   "execution_count": 14,
   "metadata": {},
   "outputs": [],
   "source": [
    "# variables to plot:\n",
    "variables_erf_comp = [\n",
    "    'CO2', 'N2O', 'CH4', 'HC', 'NOx', 'SO2', 'BC', 'OC', 'NH3','VOC'\n",
    "]\n",
    "# total ERFs for anthropogenic and total:\n",
    "variables_erf_tot = []\n",
    "variables_all = variables_erf_comp + variables_erf_tot\n",
    "# Scenarios to plot:\n",
    "scenarios_fl = []"
   ]
  },
  {
   "cell_type": "markdown",
   "metadata": {},
   "source": [
    "### Open ERF dataset:"
   ]
  },
  {
   "cell_type": "code",
   "execution_count": 15,
   "metadata": {},
   "outputs": [
    {
     "data": {
      "text/html": [
       "<div><svg style=\"position: absolute; width: 0; height: 0; overflow: hidden\">\n",
       "<defs>\n",
       "<symbol id=\"icon-database\" viewBox=\"0 0 32 32\">\n",
       "<path d=\"M16 0c-8.837 0-16 2.239-16 5v4c0 2.761 7.163 5 16 5s16-2.239 16-5v-4c0-2.761-7.163-5-16-5z\"></path>\n",
       "<path d=\"M16 17c-8.837 0-16-2.239-16-5v6c0 2.761 7.163 5 16 5s16-2.239 16-5v-6c0 2.761-7.163 5-16 5z\"></path>\n",
       "<path d=\"M16 26c-8.837 0-16-2.239-16-5v6c0 2.761 7.163 5 16 5s16-2.239 16-5v-6c0 2.761-7.163 5-16 5z\"></path>\n",
       "</symbol>\n",
       "<symbol id=\"icon-file-text2\" viewBox=\"0 0 32 32\">\n",
       "<path d=\"M28.681 7.159c-0.694-0.947-1.662-2.053-2.724-3.116s-2.169-2.030-3.116-2.724c-1.612-1.182-2.393-1.319-2.841-1.319h-15.5c-1.378 0-2.5 1.121-2.5 2.5v27c0 1.378 1.122 2.5 2.5 2.5h23c1.378 0 2.5-1.122 2.5-2.5v-19.5c0-0.448-0.137-1.23-1.319-2.841zM24.543 5.457c0.959 0.959 1.712 1.825 2.268 2.543h-4.811v-4.811c0.718 0.556 1.584 1.309 2.543 2.268zM28 29.5c0 0.271-0.229 0.5-0.5 0.5h-23c-0.271 0-0.5-0.229-0.5-0.5v-27c0-0.271 0.229-0.5 0.5-0.5 0 0 15.499-0 15.5 0v7c0 0.552 0.448 1 1 1h7v19.5z\"></path>\n",
       "<path d=\"M23 26h-14c-0.552 0-1-0.448-1-1s0.448-1 1-1h14c0.552 0 1 0.448 1 1s-0.448 1-1 1z\"></path>\n",
       "<path d=\"M23 22h-14c-0.552 0-1-0.448-1-1s0.448-1 1-1h14c0.552 0 1 0.448 1 1s-0.448 1-1 1z\"></path>\n",
       "<path d=\"M23 18h-14c-0.552 0-1-0.448-1-1s0.448-1 1-1h14c0.552 0 1 0.448 1 1s-0.448 1-1 1z\"></path>\n",
       "</symbol>\n",
       "</defs>\n",
       "</svg>\n",
       "<style>/* CSS stylesheet for displaying xarray objects in jupyterlab.\n",
       " *\n",
       " */\n",
       "\n",
       ":root {\n",
       "  --xr-font-color0: var(--jp-content-font-color0, rgba(0, 0, 0, 1));\n",
       "  --xr-font-color2: var(--jp-content-font-color2, rgba(0, 0, 0, 0.54));\n",
       "  --xr-font-color3: var(--jp-content-font-color3, rgba(0, 0, 0, 0.38));\n",
       "  --xr-border-color: var(--jp-border-color2, #e0e0e0);\n",
       "  --xr-disabled-color: var(--jp-layout-color3, #bdbdbd);\n",
       "  --xr-background-color: var(--jp-layout-color0, white);\n",
       "  --xr-background-color-row-even: var(--jp-layout-color1, white);\n",
       "  --xr-background-color-row-odd: var(--jp-layout-color2, #eeeeee);\n",
       "}\n",
       "\n",
       "html[theme=dark],\n",
       "body.vscode-dark {\n",
       "  --xr-font-color0: rgba(255, 255, 255, 1);\n",
       "  --xr-font-color2: rgba(255, 255, 255, 0.54);\n",
       "  --xr-font-color3: rgba(255, 255, 255, 0.38);\n",
       "  --xr-border-color: #1F1F1F;\n",
       "  --xr-disabled-color: #515151;\n",
       "  --xr-background-color: #111111;\n",
       "  --xr-background-color-row-even: #111111;\n",
       "  --xr-background-color-row-odd: #313131;\n",
       "}\n",
       "\n",
       ".xr-wrap {\n",
       "  display: block;\n",
       "  min-width: 300px;\n",
       "  max-width: 700px;\n",
       "}\n",
       "\n",
       ".xr-text-repr-fallback {\n",
       "  /* fallback to plain text repr when CSS is not injected (untrusted notebook) */\n",
       "  display: none;\n",
       "}\n",
       "\n",
       ".xr-header {\n",
       "  padding-top: 6px;\n",
       "  padding-bottom: 6px;\n",
       "  margin-bottom: 4px;\n",
       "  border-bottom: solid 1px var(--xr-border-color);\n",
       "}\n",
       "\n",
       ".xr-header > div,\n",
       ".xr-header > ul {\n",
       "  display: inline;\n",
       "  margin-top: 0;\n",
       "  margin-bottom: 0;\n",
       "}\n",
       "\n",
       ".xr-obj-type,\n",
       ".xr-array-name {\n",
       "  margin-left: 2px;\n",
       "  margin-right: 10px;\n",
       "}\n",
       "\n",
       ".xr-obj-type {\n",
       "  color: var(--xr-font-color2);\n",
       "}\n",
       "\n",
       ".xr-sections {\n",
       "  padding-left: 0 !important;\n",
       "  display: grid;\n",
       "  grid-template-columns: 150px auto auto 1fr 20px 20px;\n",
       "}\n",
       "\n",
       ".xr-section-item {\n",
       "  display: contents;\n",
       "}\n",
       "\n",
       ".xr-section-item input {\n",
       "  display: none;\n",
       "}\n",
       "\n",
       ".xr-section-item input + label {\n",
       "  color: var(--xr-disabled-color);\n",
       "}\n",
       "\n",
       ".xr-section-item input:enabled + label {\n",
       "  cursor: pointer;\n",
       "  color: var(--xr-font-color2);\n",
       "}\n",
       "\n",
       ".xr-section-item input:enabled + label:hover {\n",
       "  color: var(--xr-font-color0);\n",
       "}\n",
       "\n",
       ".xr-section-summary {\n",
       "  grid-column: 1;\n",
       "  color: var(--xr-font-color2);\n",
       "  font-weight: 500;\n",
       "}\n",
       "\n",
       ".xr-section-summary > span {\n",
       "  display: inline-block;\n",
       "  padding-left: 0.5em;\n",
       "}\n",
       "\n",
       ".xr-section-summary-in:disabled + label {\n",
       "  color: var(--xr-font-color2);\n",
       "}\n",
       "\n",
       ".xr-section-summary-in + label:before {\n",
       "  display: inline-block;\n",
       "  content: '►';\n",
       "  font-size: 11px;\n",
       "  width: 15px;\n",
       "  text-align: center;\n",
       "}\n",
       "\n",
       ".xr-section-summary-in:disabled + label:before {\n",
       "  color: var(--xr-disabled-color);\n",
       "}\n",
       "\n",
       ".xr-section-summary-in:checked + label:before {\n",
       "  content: '▼';\n",
       "}\n",
       "\n",
       ".xr-section-summary-in:checked + label > span {\n",
       "  display: none;\n",
       "}\n",
       "\n",
       ".xr-section-summary,\n",
       ".xr-section-inline-details {\n",
       "  padding-top: 4px;\n",
       "  padding-bottom: 4px;\n",
       "}\n",
       "\n",
       ".xr-section-inline-details {\n",
       "  grid-column: 2 / -1;\n",
       "}\n",
       "\n",
       ".xr-section-details {\n",
       "  display: none;\n",
       "  grid-column: 1 / -1;\n",
       "  margin-bottom: 5px;\n",
       "}\n",
       "\n",
       ".xr-section-summary-in:checked ~ .xr-section-details {\n",
       "  display: contents;\n",
       "}\n",
       "\n",
       ".xr-array-wrap {\n",
       "  grid-column: 1 / -1;\n",
       "  display: grid;\n",
       "  grid-template-columns: 20px auto;\n",
       "}\n",
       "\n",
       ".xr-array-wrap > label {\n",
       "  grid-column: 1;\n",
       "  vertical-align: top;\n",
       "}\n",
       "\n",
       ".xr-preview {\n",
       "  color: var(--xr-font-color3);\n",
       "}\n",
       "\n",
       ".xr-array-preview,\n",
       ".xr-array-data {\n",
       "  padding: 0 5px !important;\n",
       "  grid-column: 2;\n",
       "}\n",
       "\n",
       ".xr-array-data,\n",
       ".xr-array-in:checked ~ .xr-array-preview {\n",
       "  display: none;\n",
       "}\n",
       "\n",
       ".xr-array-in:checked ~ .xr-array-data,\n",
       ".xr-array-preview {\n",
       "  display: inline-block;\n",
       "}\n",
       "\n",
       ".xr-dim-list {\n",
       "  display: inline-block !important;\n",
       "  list-style: none;\n",
       "  padding: 0 !important;\n",
       "  margin: 0;\n",
       "}\n",
       "\n",
       ".xr-dim-list li {\n",
       "  display: inline-block;\n",
       "  padding: 0;\n",
       "  margin: 0;\n",
       "}\n",
       "\n",
       ".xr-dim-list:before {\n",
       "  content: '(';\n",
       "}\n",
       "\n",
       ".xr-dim-list:after {\n",
       "  content: ')';\n",
       "}\n",
       "\n",
       ".xr-dim-list li:not(:last-child):after {\n",
       "  content: ',';\n",
       "  padding-right: 5px;\n",
       "}\n",
       "\n",
       ".xr-has-index {\n",
       "  font-weight: bold;\n",
       "}\n",
       "\n",
       ".xr-var-list,\n",
       ".xr-var-item {\n",
       "  display: contents;\n",
       "}\n",
       "\n",
       ".xr-var-item > div,\n",
       ".xr-var-item label,\n",
       ".xr-var-item > .xr-var-name span {\n",
       "  background-color: var(--xr-background-color-row-even);\n",
       "  margin-bottom: 0;\n",
       "}\n",
       "\n",
       ".xr-var-item > .xr-var-name:hover span {\n",
       "  padding-right: 5px;\n",
       "}\n",
       "\n",
       ".xr-var-list > li:nth-child(odd) > div,\n",
       ".xr-var-list > li:nth-child(odd) > label,\n",
       ".xr-var-list > li:nth-child(odd) > .xr-var-name span {\n",
       "  background-color: var(--xr-background-color-row-odd);\n",
       "}\n",
       "\n",
       ".xr-var-name {\n",
       "  grid-column: 1;\n",
       "}\n",
       "\n",
       ".xr-var-dims {\n",
       "  grid-column: 2;\n",
       "}\n",
       "\n",
       ".xr-var-dtype {\n",
       "  grid-column: 3;\n",
       "  text-align: right;\n",
       "  color: var(--xr-font-color2);\n",
       "}\n",
       "\n",
       ".xr-var-preview {\n",
       "  grid-column: 4;\n",
       "}\n",
       "\n",
       ".xr-var-name,\n",
       ".xr-var-dims,\n",
       ".xr-var-dtype,\n",
       ".xr-preview,\n",
       ".xr-attrs dt {\n",
       "  white-space: nowrap;\n",
       "  overflow: hidden;\n",
       "  text-overflow: ellipsis;\n",
       "  padding-right: 10px;\n",
       "}\n",
       "\n",
       ".xr-var-name:hover,\n",
       ".xr-var-dims:hover,\n",
       ".xr-var-dtype:hover,\n",
       ".xr-attrs dt:hover {\n",
       "  overflow: visible;\n",
       "  width: auto;\n",
       "  z-index: 1;\n",
       "}\n",
       "\n",
       ".xr-var-attrs,\n",
       ".xr-var-data {\n",
       "  display: none;\n",
       "  background-color: var(--xr-background-color) !important;\n",
       "  padding-bottom: 5px !important;\n",
       "}\n",
       "\n",
       ".xr-var-attrs-in:checked ~ .xr-var-attrs,\n",
       ".xr-var-data-in:checked ~ .xr-var-data {\n",
       "  display: block;\n",
       "}\n",
       "\n",
       ".xr-var-data > table {\n",
       "  float: right;\n",
       "}\n",
       "\n",
       ".xr-var-name span,\n",
       ".xr-var-data,\n",
       ".xr-attrs {\n",
       "  padding-left: 25px !important;\n",
       "}\n",
       "\n",
       ".xr-attrs,\n",
       ".xr-var-attrs,\n",
       ".xr-var-data {\n",
       "  grid-column: 1 / -1;\n",
       "}\n",
       "\n",
       "dl.xr-attrs {\n",
       "  padding: 0;\n",
       "  margin: 0;\n",
       "  display: grid;\n",
       "  grid-template-columns: 125px auto;\n",
       "}\n",
       "\n",
       ".xr-attrs dt,\n",
       ".xr-attrs dd {\n",
       "  padding: 0;\n",
       "  margin: 0;\n",
       "  float: left;\n",
       "  padding-right: 10px;\n",
       "  width: auto;\n",
       "}\n",
       "\n",
       ".xr-attrs dt {\n",
       "  font-weight: normal;\n",
       "  grid-column: 1;\n",
       "}\n",
       "\n",
       ".xr-attrs dt:hover span {\n",
       "  display: inline-block;\n",
       "  background: var(--xr-background-color);\n",
       "  padding-right: 10px;\n",
       "}\n",
       "\n",
       ".xr-attrs dd {\n",
       "  grid-column: 2;\n",
       "  white-space: pre-wrap;\n",
       "  word-break: break-all;\n",
       "}\n",
       "\n",
       ".xr-icon-database,\n",
       ".xr-icon-file-text2 {\n",
       "  display: inline-block;\n",
       "  vertical-align: middle;\n",
       "  width: 1em;\n",
       "  height: 1.5em !important;\n",
       "  stroke-width: 0;\n",
       "  stroke: currentColor;\n",
       "  fill: currentColor;\n",
       "}\n",
       "</style><pre class='xr-text-repr-fallback'>&lt;xarray.DataArray &#x27;Delta T&#x27; (percentile: 1, variable: 10, year: 270)&gt;\n",
       "array([[[0.      , 0.      , ..., 0.93289 , 0.951383],\n",
       "        [0.      , 0.      , ..., 0.110333, 0.112206],\n",
       "        ...,\n",
       "        [0.      , 0.      , ..., 0.255489, 0.252492],\n",
       "        [0.      , 0.      , ..., 0.096516, 0.097289]]])\n",
       "Coordinates:\n",
       "  * year        (year) int64 1750 1751 1752 1753 1754 ... 2016 2017 2018 2019\n",
       "  * variable    (variable) object &#x27;CO2&#x27; &#x27;N2O&#x27; &#x27;CH4&#x27; &#x27;NOx&#x27; ... &#x27;NH3&#x27; &#x27;VOC&#x27; &#x27;HC&#x27;\n",
       "  * percentile  (percentile) object &#x27;recommendation&#x27;</pre><div class='xr-wrap' hidden><div class='xr-header'><div class='xr-obj-type'>xarray.DataArray</div><div class='xr-array-name'>'Delta T'</div><ul class='xr-dim-list'><li><span class='xr-has-index'>percentile</span>: 1</li><li><span class='xr-has-index'>variable</span>: 10</li><li><span class='xr-has-index'>year</span>: 270</li></ul></div><ul class='xr-sections'><li class='xr-section-item'><div class='xr-array-wrap'><input id='section-34a9069d-d18d-439e-bcd6-e0cff2349c6a' class='xr-array-in' type='checkbox' checked><label for='section-34a9069d-d18d-439e-bcd6-e0cff2349c6a' title='Show/hide data repr'><svg class='icon xr-icon-database'><use xlink:href='#icon-database'></use></svg></label><div class='xr-array-preview xr-preview'><span>0.0 0.0 0.0001278 0.0003514 ... 0.09512 0.0958 0.09652 0.09729</span></div><div class='xr-array-data'><pre>array([[[0.      , 0.      , ..., 0.93289 , 0.951383],\n",
       "        [0.      , 0.      , ..., 0.110333, 0.112206],\n",
       "        ...,\n",
       "        [0.      , 0.      , ..., 0.255489, 0.252492],\n",
       "        [0.      , 0.      , ..., 0.096516, 0.097289]]])</pre></div></div></li><li class='xr-section-item'><input id='section-fe0c2a5d-2da6-45ec-a8bc-8498a9d8b92f' class='xr-section-summary-in' type='checkbox'  checked><label for='section-fe0c2a5d-2da6-45ec-a8bc-8498a9d8b92f' class='xr-section-summary' >Coordinates: <span>(3)</span></label><div class='xr-section-inline-details'></div><div class='xr-section-details'><ul class='xr-var-list'><li class='xr-var-item'><div class='xr-var-name'><span class='xr-has-index'>year</span></div><div class='xr-var-dims'>(year)</div><div class='xr-var-dtype'>int64</div><div class='xr-var-preview xr-preview'>1750 1751 1752 ... 2017 2018 2019</div><input id='attrs-5d06782f-51a6-41d3-9388-0fc44ac41218' class='xr-var-attrs-in' type='checkbox' disabled><label for='attrs-5d06782f-51a6-41d3-9388-0fc44ac41218' title='Show/Hide attributes'><svg class='icon xr-icon-file-text2'><use xlink:href='#icon-file-text2'></use></svg></label><input id='data-ca3ab745-672e-483f-86f3-61168229911e' class='xr-var-data-in' type='checkbox'><label for='data-ca3ab745-672e-483f-86f3-61168229911e' title='Show/Hide data repr'><svg class='icon xr-icon-database'><use xlink:href='#icon-database'></use></svg></label><div class='xr-var-attrs'><dl class='xr-attrs'></dl></div><div class='xr-var-data'><pre>array([1750, 1751, 1752, ..., 2017, 2018, 2019])</pre></div></li><li class='xr-var-item'><div class='xr-var-name'><span class='xr-has-index'>variable</span></div><div class='xr-var-dims'>(variable)</div><div class='xr-var-dtype'>object</div><div class='xr-var-preview xr-preview'>&#x27;CO2&#x27; &#x27;N2O&#x27; &#x27;CH4&#x27; ... &#x27;VOC&#x27; &#x27;HC&#x27;</div><input id='attrs-fc61ea1c-6421-4aaa-9870-6d6018db0953' class='xr-var-attrs-in' type='checkbox' disabled><label for='attrs-fc61ea1c-6421-4aaa-9870-6d6018db0953' title='Show/Hide attributes'><svg class='icon xr-icon-file-text2'><use xlink:href='#icon-file-text2'></use></svg></label><input id='data-1228bb4c-9447-4137-9f90-c4b5d280562d' class='xr-var-data-in' type='checkbox'><label for='data-1228bb4c-9447-4137-9f90-c4b5d280562d' title='Show/Hide data repr'><svg class='icon xr-icon-database'><use xlink:href='#icon-database'></use></svg></label><div class='xr-var-attrs'><dl class='xr-attrs'></dl></div><div class='xr-var-data'><pre>array([&#x27;CO2&#x27;, &#x27;N2O&#x27;, &#x27;CH4&#x27;, &#x27;NOx&#x27;, &#x27;SO2&#x27;, &#x27;BC&#x27;, &#x27;OC&#x27;, &#x27;NH3&#x27;, &#x27;VOC&#x27;, &#x27;HC&#x27;],\n",
       "      dtype=object)</pre></div></li><li class='xr-var-item'><div class='xr-var-name'><span class='xr-has-index'>percentile</span></div><div class='xr-var-dims'>(percentile)</div><div class='xr-var-dtype'>object</div><div class='xr-var-preview xr-preview'>&#x27;recommendation&#x27;</div><input id='attrs-1893b41d-58e6-4ac1-b9fa-d6c42fb25de5' class='xr-var-attrs-in' type='checkbox' disabled><label for='attrs-1893b41d-58e6-4ac1-b9fa-d6c42fb25de5' title='Show/Hide attributes'><svg class='icon xr-icon-file-text2'><use xlink:href='#icon-file-text2'></use></svg></label><input id='data-c09b6f3f-75d1-41bc-9141-1506b8512364' class='xr-var-data-in' type='checkbox'><label for='data-c09b6f3f-75d1-41bc-9141-1506b8512364' title='Show/Hide data repr'><svg class='icon xr-icon-database'><use xlink:href='#icon-database'></use></svg></label><div class='xr-var-attrs'><dl class='xr-attrs'></dl></div><div class='xr-var-data'><pre>array([&#x27;recommendation&#x27;], dtype=object)</pre></div></li></ul></div></li><li class='xr-section-item'><input id='section-6fbdc3a7-5e15-48ea-8c01-903555db9f9e' class='xr-section-summary-in' type='checkbox' disabled ><label for='section-6fbdc3a7-5e15-48ea-8c01-903555db9f9e' class='xr-section-summary'  title='Expand/collapse section'>Attributes: <span>(0)</span></label><div class='xr-section-inline-details'></div><div class='xr-section-details'><dl class='xr-attrs'></dl></div></li></ul></div></div>"
      ],
      "text/plain": [
       "<xarray.DataArray 'Delta T' (percentile: 1, variable: 10, year: 270)>\n",
       "array([[[0.      , 0.      , ..., 0.93289 , 0.951383],\n",
       "        [0.      , 0.      , ..., 0.110333, 0.112206],\n",
       "        ...,\n",
       "        [0.      , 0.      , ..., 0.255489, 0.252492],\n",
       "        [0.      , 0.      , ..., 0.096516, 0.097289]]])\n",
       "Coordinates:\n",
       "  * year        (year) int64 1750 1751 1752 1753 1754 ... 2016 2017 2018 2019\n",
       "  * variable    (variable) object 'CO2' 'N2O' 'CH4' 'NOx' ... 'NH3' 'VOC' 'HC'\n",
       "  * percentile  (percentile) object 'recommendation'"
      ]
     },
     "execution_count": 15,
     "metadata": {},
     "output_type": "execute_result"
    }
   ],
   "source": [
    "ds = xr.open_dataset(PATH_DATASET)\n",
    "ds['Delta T']"
   ]
  },
  {
   "cell_type": "code",
   "execution_count": 16,
   "metadata": {},
   "outputs": [
    {
     "data": {
      "text/html": [
       "<div><svg style=\"position: absolute; width: 0; height: 0; overflow: hidden\">\n",
       "<defs>\n",
       "<symbol id=\"icon-database\" viewBox=\"0 0 32 32\">\n",
       "<path d=\"M16 0c-8.837 0-16 2.239-16 5v4c0 2.761 7.163 5 16 5s16-2.239 16-5v-4c0-2.761-7.163-5-16-5z\"></path>\n",
       "<path d=\"M16 17c-8.837 0-16-2.239-16-5v6c0 2.761 7.163 5 16 5s16-2.239 16-5v-6c0 2.761-7.163 5-16 5z\"></path>\n",
       "<path d=\"M16 26c-8.837 0-16-2.239-16-5v6c0 2.761 7.163 5 16 5s16-2.239 16-5v-6c0 2.761-7.163 5-16 5z\"></path>\n",
       "</symbol>\n",
       "<symbol id=\"icon-file-text2\" viewBox=\"0 0 32 32\">\n",
       "<path d=\"M28.681 7.159c-0.694-0.947-1.662-2.053-2.724-3.116s-2.169-2.030-3.116-2.724c-1.612-1.182-2.393-1.319-2.841-1.319h-15.5c-1.378 0-2.5 1.121-2.5 2.5v27c0 1.378 1.122 2.5 2.5 2.5h23c1.378 0 2.5-1.122 2.5-2.5v-19.5c0-0.448-0.137-1.23-1.319-2.841zM24.543 5.457c0.959 0.959 1.712 1.825 2.268 2.543h-4.811v-4.811c0.718 0.556 1.584 1.309 2.543 2.268zM28 29.5c0 0.271-0.229 0.5-0.5 0.5h-23c-0.271 0-0.5-0.229-0.5-0.5v-27c0-0.271 0.229-0.5 0.5-0.5 0 0 15.499-0 15.5 0v7c0 0.552 0.448 1 1 1h7v19.5z\"></path>\n",
       "<path d=\"M23 26h-14c-0.552 0-1-0.448-1-1s0.448-1 1-1h14c0.552 0 1 0.448 1 1s-0.448 1-1 1z\"></path>\n",
       "<path d=\"M23 22h-14c-0.552 0-1-0.448-1-1s0.448-1 1-1h14c0.552 0 1 0.448 1 1s-0.448 1-1 1z\"></path>\n",
       "<path d=\"M23 18h-14c-0.552 0-1-0.448-1-1s0.448-1 1-1h14c0.552 0 1 0.448 1 1s-0.448 1-1 1z\"></path>\n",
       "</symbol>\n",
       "</defs>\n",
       "</svg>\n",
       "<style>/* CSS stylesheet for displaying xarray objects in jupyterlab.\n",
       " *\n",
       " */\n",
       "\n",
       ":root {\n",
       "  --xr-font-color0: var(--jp-content-font-color0, rgba(0, 0, 0, 1));\n",
       "  --xr-font-color2: var(--jp-content-font-color2, rgba(0, 0, 0, 0.54));\n",
       "  --xr-font-color3: var(--jp-content-font-color3, rgba(0, 0, 0, 0.38));\n",
       "  --xr-border-color: var(--jp-border-color2, #e0e0e0);\n",
       "  --xr-disabled-color: var(--jp-layout-color3, #bdbdbd);\n",
       "  --xr-background-color: var(--jp-layout-color0, white);\n",
       "  --xr-background-color-row-even: var(--jp-layout-color1, white);\n",
       "  --xr-background-color-row-odd: var(--jp-layout-color2, #eeeeee);\n",
       "}\n",
       "\n",
       "html[theme=dark],\n",
       "body.vscode-dark {\n",
       "  --xr-font-color0: rgba(255, 255, 255, 1);\n",
       "  --xr-font-color2: rgba(255, 255, 255, 0.54);\n",
       "  --xr-font-color3: rgba(255, 255, 255, 0.38);\n",
       "  --xr-border-color: #1F1F1F;\n",
       "  --xr-disabled-color: #515151;\n",
       "  --xr-background-color: #111111;\n",
       "  --xr-background-color-row-even: #111111;\n",
       "  --xr-background-color-row-odd: #313131;\n",
       "}\n",
       "\n",
       ".xr-wrap {\n",
       "  display: block;\n",
       "  min-width: 300px;\n",
       "  max-width: 700px;\n",
       "}\n",
       "\n",
       ".xr-text-repr-fallback {\n",
       "  /* fallback to plain text repr when CSS is not injected (untrusted notebook) */\n",
       "  display: none;\n",
       "}\n",
       "\n",
       ".xr-header {\n",
       "  padding-top: 6px;\n",
       "  padding-bottom: 6px;\n",
       "  margin-bottom: 4px;\n",
       "  border-bottom: solid 1px var(--xr-border-color);\n",
       "}\n",
       "\n",
       ".xr-header > div,\n",
       ".xr-header > ul {\n",
       "  display: inline;\n",
       "  margin-top: 0;\n",
       "  margin-bottom: 0;\n",
       "}\n",
       "\n",
       ".xr-obj-type,\n",
       ".xr-array-name {\n",
       "  margin-left: 2px;\n",
       "  margin-right: 10px;\n",
       "}\n",
       "\n",
       ".xr-obj-type {\n",
       "  color: var(--xr-font-color2);\n",
       "}\n",
       "\n",
       ".xr-sections {\n",
       "  padding-left: 0 !important;\n",
       "  display: grid;\n",
       "  grid-template-columns: 150px auto auto 1fr 20px 20px;\n",
       "}\n",
       "\n",
       ".xr-section-item {\n",
       "  display: contents;\n",
       "}\n",
       "\n",
       ".xr-section-item input {\n",
       "  display: none;\n",
       "}\n",
       "\n",
       ".xr-section-item input + label {\n",
       "  color: var(--xr-disabled-color);\n",
       "}\n",
       "\n",
       ".xr-section-item input:enabled + label {\n",
       "  cursor: pointer;\n",
       "  color: var(--xr-font-color2);\n",
       "}\n",
       "\n",
       ".xr-section-item input:enabled + label:hover {\n",
       "  color: var(--xr-font-color0);\n",
       "}\n",
       "\n",
       ".xr-section-summary {\n",
       "  grid-column: 1;\n",
       "  color: var(--xr-font-color2);\n",
       "  font-weight: 500;\n",
       "}\n",
       "\n",
       ".xr-section-summary > span {\n",
       "  display: inline-block;\n",
       "  padding-left: 0.5em;\n",
       "}\n",
       "\n",
       ".xr-section-summary-in:disabled + label {\n",
       "  color: var(--xr-font-color2);\n",
       "}\n",
       "\n",
       ".xr-section-summary-in + label:before {\n",
       "  display: inline-block;\n",
       "  content: '►';\n",
       "  font-size: 11px;\n",
       "  width: 15px;\n",
       "  text-align: center;\n",
       "}\n",
       "\n",
       ".xr-section-summary-in:disabled + label:before {\n",
       "  color: var(--xr-disabled-color);\n",
       "}\n",
       "\n",
       ".xr-section-summary-in:checked + label:before {\n",
       "  content: '▼';\n",
       "}\n",
       "\n",
       ".xr-section-summary-in:checked + label > span {\n",
       "  display: none;\n",
       "}\n",
       "\n",
       ".xr-section-summary,\n",
       ".xr-section-inline-details {\n",
       "  padding-top: 4px;\n",
       "  padding-bottom: 4px;\n",
       "}\n",
       "\n",
       ".xr-section-inline-details {\n",
       "  grid-column: 2 / -1;\n",
       "}\n",
       "\n",
       ".xr-section-details {\n",
       "  display: none;\n",
       "  grid-column: 1 / -1;\n",
       "  margin-bottom: 5px;\n",
       "}\n",
       "\n",
       ".xr-section-summary-in:checked ~ .xr-section-details {\n",
       "  display: contents;\n",
       "}\n",
       "\n",
       ".xr-array-wrap {\n",
       "  grid-column: 1 / -1;\n",
       "  display: grid;\n",
       "  grid-template-columns: 20px auto;\n",
       "}\n",
       "\n",
       ".xr-array-wrap > label {\n",
       "  grid-column: 1;\n",
       "  vertical-align: top;\n",
       "}\n",
       "\n",
       ".xr-preview {\n",
       "  color: var(--xr-font-color3);\n",
       "}\n",
       "\n",
       ".xr-array-preview,\n",
       ".xr-array-data {\n",
       "  padding: 0 5px !important;\n",
       "  grid-column: 2;\n",
       "}\n",
       "\n",
       ".xr-array-data,\n",
       ".xr-array-in:checked ~ .xr-array-preview {\n",
       "  display: none;\n",
       "}\n",
       "\n",
       ".xr-array-in:checked ~ .xr-array-data,\n",
       ".xr-array-preview {\n",
       "  display: inline-block;\n",
       "}\n",
       "\n",
       ".xr-dim-list {\n",
       "  display: inline-block !important;\n",
       "  list-style: none;\n",
       "  padding: 0 !important;\n",
       "  margin: 0;\n",
       "}\n",
       "\n",
       ".xr-dim-list li {\n",
       "  display: inline-block;\n",
       "  padding: 0;\n",
       "  margin: 0;\n",
       "}\n",
       "\n",
       ".xr-dim-list:before {\n",
       "  content: '(';\n",
       "}\n",
       "\n",
       ".xr-dim-list:after {\n",
       "  content: ')';\n",
       "}\n",
       "\n",
       ".xr-dim-list li:not(:last-child):after {\n",
       "  content: ',';\n",
       "  padding-right: 5px;\n",
       "}\n",
       "\n",
       ".xr-has-index {\n",
       "  font-weight: bold;\n",
       "}\n",
       "\n",
       ".xr-var-list,\n",
       ".xr-var-item {\n",
       "  display: contents;\n",
       "}\n",
       "\n",
       ".xr-var-item > div,\n",
       ".xr-var-item label,\n",
       ".xr-var-item > .xr-var-name span {\n",
       "  background-color: var(--xr-background-color-row-even);\n",
       "  margin-bottom: 0;\n",
       "}\n",
       "\n",
       ".xr-var-item > .xr-var-name:hover span {\n",
       "  padding-right: 5px;\n",
       "}\n",
       "\n",
       ".xr-var-list > li:nth-child(odd) > div,\n",
       ".xr-var-list > li:nth-child(odd) > label,\n",
       ".xr-var-list > li:nth-child(odd) > .xr-var-name span {\n",
       "  background-color: var(--xr-background-color-row-odd);\n",
       "}\n",
       "\n",
       ".xr-var-name {\n",
       "  grid-column: 1;\n",
       "}\n",
       "\n",
       ".xr-var-dims {\n",
       "  grid-column: 2;\n",
       "}\n",
       "\n",
       ".xr-var-dtype {\n",
       "  grid-column: 3;\n",
       "  text-align: right;\n",
       "  color: var(--xr-font-color2);\n",
       "}\n",
       "\n",
       ".xr-var-preview {\n",
       "  grid-column: 4;\n",
       "}\n",
       "\n",
       ".xr-var-name,\n",
       ".xr-var-dims,\n",
       ".xr-var-dtype,\n",
       ".xr-preview,\n",
       ".xr-attrs dt {\n",
       "  white-space: nowrap;\n",
       "  overflow: hidden;\n",
       "  text-overflow: ellipsis;\n",
       "  padding-right: 10px;\n",
       "}\n",
       "\n",
       ".xr-var-name:hover,\n",
       ".xr-var-dims:hover,\n",
       ".xr-var-dtype:hover,\n",
       ".xr-attrs dt:hover {\n",
       "  overflow: visible;\n",
       "  width: auto;\n",
       "  z-index: 1;\n",
       "}\n",
       "\n",
       ".xr-var-attrs,\n",
       ".xr-var-data {\n",
       "  display: none;\n",
       "  background-color: var(--xr-background-color) !important;\n",
       "  padding-bottom: 5px !important;\n",
       "}\n",
       "\n",
       ".xr-var-attrs-in:checked ~ .xr-var-attrs,\n",
       ".xr-var-data-in:checked ~ .xr-var-data {\n",
       "  display: block;\n",
       "}\n",
       "\n",
       ".xr-var-data > table {\n",
       "  float: right;\n",
       "}\n",
       "\n",
       ".xr-var-name span,\n",
       ".xr-var-data,\n",
       ".xr-attrs {\n",
       "  padding-left: 25px !important;\n",
       "}\n",
       "\n",
       ".xr-attrs,\n",
       ".xr-var-attrs,\n",
       ".xr-var-data {\n",
       "  grid-column: 1 / -1;\n",
       "}\n",
       "\n",
       "dl.xr-attrs {\n",
       "  padding: 0;\n",
       "  margin: 0;\n",
       "  display: grid;\n",
       "  grid-template-columns: 125px auto;\n",
       "}\n",
       "\n",
       ".xr-attrs dt,\n",
       ".xr-attrs dd {\n",
       "  padding: 0;\n",
       "  margin: 0;\n",
       "  float: left;\n",
       "  padding-right: 10px;\n",
       "  width: auto;\n",
       "}\n",
       "\n",
       ".xr-attrs dt {\n",
       "  font-weight: normal;\n",
       "  grid-column: 1;\n",
       "}\n",
       "\n",
       ".xr-attrs dt:hover span {\n",
       "  display: inline-block;\n",
       "  background: var(--xr-background-color);\n",
       "  padding-right: 10px;\n",
       "}\n",
       "\n",
       ".xr-attrs dd {\n",
       "  grid-column: 2;\n",
       "  white-space: pre-wrap;\n",
       "  word-break: break-all;\n",
       "}\n",
       "\n",
       ".xr-icon-database,\n",
       ".xr-icon-file-text2 {\n",
       "  display: inline-block;\n",
       "  vertical-align: middle;\n",
       "  width: 1em;\n",
       "  height: 1.5em !important;\n",
       "  stroke-width: 0;\n",
       "  stroke: currentColor;\n",
       "  fill: currentColor;\n",
       "}\n",
       "</style><pre class='xr-text-repr-fallback'>&lt;xarray.DataArray &#x27;variable&#x27; (variable: 10)&gt;\n",
       "array([&#x27;CO2&#x27;, &#x27;N2O&#x27;, &#x27;CH4&#x27;, &#x27;NOx&#x27;, &#x27;SO2&#x27;, &#x27;BC&#x27;, &#x27;OC&#x27;, &#x27;NH3&#x27;, &#x27;VOC&#x27;, &#x27;HC&#x27;],\n",
       "      dtype=object)\n",
       "Coordinates:\n",
       "  * variable  (variable) object &#x27;CO2&#x27; &#x27;N2O&#x27; &#x27;CH4&#x27; &#x27;NOx&#x27; ... &#x27;NH3&#x27; &#x27;VOC&#x27; &#x27;HC&#x27;</pre><div class='xr-wrap' hidden><div class='xr-header'><div class='xr-obj-type'>xarray.DataArray</div><div class='xr-array-name'>'variable'</div><ul class='xr-dim-list'><li><span class='xr-has-index'>variable</span>: 10</li></ul></div><ul class='xr-sections'><li class='xr-section-item'><div class='xr-array-wrap'><input id='section-c9455398-1b03-4dd8-9448-8788b5ffa99e' class='xr-array-in' type='checkbox' checked><label for='section-c9455398-1b03-4dd8-9448-8788b5ffa99e' title='Show/hide data repr'><svg class='icon xr-icon-database'><use xlink:href='#icon-database'></use></svg></label><div class='xr-array-preview xr-preview'><span>&#x27;CO2&#x27; &#x27;N2O&#x27; &#x27;CH4&#x27; &#x27;NOx&#x27; &#x27;SO2&#x27; &#x27;BC&#x27; &#x27;OC&#x27; &#x27;NH3&#x27; &#x27;VOC&#x27; &#x27;HC&#x27;</span></div><div class='xr-array-data'><pre>array([&#x27;CO2&#x27;, &#x27;N2O&#x27;, &#x27;CH4&#x27;, &#x27;NOx&#x27;, &#x27;SO2&#x27;, &#x27;BC&#x27;, &#x27;OC&#x27;, &#x27;NH3&#x27;, &#x27;VOC&#x27;, &#x27;HC&#x27;],\n",
       "      dtype=object)</pre></div></div></li><li class='xr-section-item'><input id='section-0efc8acb-a766-4c16-ad26-a4281f02b516' class='xr-section-summary-in' type='checkbox'  checked><label for='section-0efc8acb-a766-4c16-ad26-a4281f02b516' class='xr-section-summary' >Coordinates: <span>(1)</span></label><div class='xr-section-inline-details'></div><div class='xr-section-details'><ul class='xr-var-list'><li class='xr-var-item'><div class='xr-var-name'><span class='xr-has-index'>variable</span></div><div class='xr-var-dims'>(variable)</div><div class='xr-var-dtype'>object</div><div class='xr-var-preview xr-preview'>&#x27;CO2&#x27; &#x27;N2O&#x27; &#x27;CH4&#x27; ... &#x27;VOC&#x27; &#x27;HC&#x27;</div><input id='attrs-c321924c-c8ec-4c1c-abee-cc7ab9a5863a' class='xr-var-attrs-in' type='checkbox' disabled><label for='attrs-c321924c-c8ec-4c1c-abee-cc7ab9a5863a' title='Show/Hide attributes'><svg class='icon xr-icon-file-text2'><use xlink:href='#icon-file-text2'></use></svg></label><input id='data-36d7ad3c-f622-4495-be72-af45dcdfb560' class='xr-var-data-in' type='checkbox'><label for='data-36d7ad3c-f622-4495-be72-af45dcdfb560' title='Show/Hide data repr'><svg class='icon xr-icon-database'><use xlink:href='#icon-database'></use></svg></label><div class='xr-var-attrs'><dl class='xr-attrs'></dl></div><div class='xr-var-data'><pre>array([&#x27;CO2&#x27;, &#x27;N2O&#x27;, &#x27;CH4&#x27;, &#x27;NOx&#x27;, &#x27;SO2&#x27;, &#x27;BC&#x27;, &#x27;OC&#x27;, &#x27;NH3&#x27;, &#x27;VOC&#x27;, &#x27;HC&#x27;],\n",
       "      dtype=object)</pre></div></li></ul></div></li><li class='xr-section-item'><input id='section-fd7317c6-a202-4248-b6f2-c54205b62ef1' class='xr-section-summary-in' type='checkbox' disabled ><label for='section-fd7317c6-a202-4248-b6f2-c54205b62ef1' class='xr-section-summary'  title='Expand/collapse section'>Attributes: <span>(0)</span></label><div class='xr-section-inline-details'></div><div class='xr-section-details'><dl class='xr-attrs'></dl></div></li></ul></div></div>"
      ],
      "text/plain": [
       "<xarray.DataArray 'variable' (variable: 10)>\n",
       "array(['CO2', 'N2O', 'CH4', 'NOx', 'SO2', 'BC', 'OC', 'NH3', 'VOC', 'HC'],\n",
       "      dtype=object)\n",
       "Coordinates:\n",
       "  * variable  (variable) object 'CO2' 'N2O' 'CH4' 'NOx' ... 'NH3' 'VOC' 'HC'"
      ]
     },
     "execution_count": 16,
     "metadata": {},
     "output_type": "execute_result"
    }
   ],
   "source": [
    "ds['variable']"
   ]
  },
  {
   "cell_type": "code",
   "execution_count": 17,
   "metadata": {},
   "outputs": [
    {
     "data": {
      "application/javascript": [
       "IPython.OutputArea.prototype._should_scroll = function(lines) { return false; }"
      ],
      "text/plain": [
       "<IPython.core.display.Javascript object>"
      ]
     },
     "metadata": {},
     "output_type": "display_data"
    },
    {
     "name": "stdout",
     "output_type": "stream",
     "text": [
      "hallo\n"
     ]
    }
   ],
   "source": [
    "from ar6_ch6_rcmipfigs.utils.plot import get_cmap_dic"
   ]
  },
  {
   "cell_type": "code",
   "execution_count": 18,
   "metadata": {},
   "outputs": [
    {
     "name": "stdout",
     "output_type": "stream",
     "text": [
      "(0.9568627450980393, 0.796078431372549, 0.21176470588235294)\n",
      "(0.8274509803921568, 0.0, 0.1568627450980392)\n",
      "(1.0, 0.4196078431372549, 0.07450980392156863)\n",
      "(0.26666666666666666, 0.0, 0.5254901960784314)\n",
      "(0.3764705882352941, 0.5725490196078431, 0.796078431372549)\n",
      "(0.5411764705882353, 0.2235294117647059, 0.0)\n",
      "(0.4745098039215686, 0.792156862745098, 0.9333333333333333)\n",
      "(0.0, 0.6901960784313725, 0.6039215686274509)\n",
      "(0.0, 0.5019607843137255, 0.23137254901960785)\n",
      "(0.47843137254901963, 0.5058823529411764, 0.5058823529411764)\n"
     ]
    }
   ],
   "source": [
    "cols = get_cmap_dic(ds['variable'].values)"
   ]
  },
  {
   "cell_type": "code",
   "execution_count": 19,
   "metadata": {},
   "outputs": [
    {
     "data": {
      "image/png": "[encoded data removed]",
      "text/plain": [
       "<Figure size 432x432 with 2 Axes>"
      ]
     },
     "metadata": {
      "needs_background": "light"
     },
     "output_type": "display_data"
    }
   ],
   "source": [
    "fig, axs = plt.subplots(2, sharex=True, figsize=[6,6])\n",
    "\n",
    "ax_erf = axs[0]\n",
    "ax_dT = axs[1]\n",
    "for v in ds['variable'].values:\n",
    "    ds.sel(variable=v)['Delta T'].plot(ax=ax_dT, label=v, c=cols[v])\n",
    "    ds.sel(variable=v)['ERF'].plot(ax=ax_erf, c=cols[v])\n",
    "ds.sum('variable')['Delta T'].plot(ax=ax_dT, label='Sum', c='k',linewidth=2)\n",
    "ds.sum('variable')['ERF'].plot(ax=ax_erf, c='k',linewidth=2)\n",
    "    \n",
    "ax_dT.set_title('Temperature change')\n",
    "ax_erf.set_title('ERF')\n",
    "ax_erf.set_ylabel('ERF [W m$^{-2}$]')\n",
    "ax_dT.set_ylabel('$\\Delta$ GSAT [$^{\\circ}$C]')\n",
    "ax_erf.set_xlabel('')\n",
    "ax_dT.legend(ncol=4, loc='upper left', frameon=False)\n",
    "plt.tight_layout()\n",
    "fig.savefig('hist_timeseries_ERF_dT.png', dpi=300)"
   ]
  },
  {
   "cell_type": "code",
   "execution_count": 20,
   "metadata": {},
   "outputs": [
    {
     "data": {
      "image/png": "[encoded data removed]",
      "text/plain": [
       "<Figure size 432x432 with 2 Axes>"
      ]
     },
     "metadata": {
      "needs_background": "light"
     },
     "output_type": "display_data"
    }
   ],
   "source": [
    "fig, axs = plt.subplots(2, sharex=True, figsize=[6,6])\n",
    "\n",
    "ax_erf = axs[0]\n",
    "ax_dT = axs[1]\n",
    "for v in ds['variable'].values:\n",
    "    ds.sel(variable=v)['Delta T'].plot(ax=ax_dT, label=v, c=cols[v])\n",
    "    ds.sel(variable=v)['ERF'].plot(ax=ax_erf, c=cols[v])\n",
    "ax_dT.set_title('Temperature change')\n",
    "ax_erf.set_title('ERF')\n",
    "ax_erf.set_ylabel('ERF [W m$^{-2}$]')\n",
    "ax_dT.set_ylabel('$\\Delta$ GSAT [$^{\\circ}$C]')\n",
    "ax_erf.set_xlabel('')\n",
    "ax_dT.legend(ncol=4, loc='upper left', frameon=False)\n",
    "plt.tight_layout()"
   ]
  },
  {
   "cell_type": "code",
   "execution_count": 21,
   "metadata": {},
   "outputs": [
    {
     "data": {
      "text/plain": [
       "Text(0, 0.5, '$\\\\Delta$ T ($^\\\\circ$ C)')"
      ]
     },
     "execution_count": 21,
     "metadata": {},
     "output_type": "execute_result"
    },
    {
     "data": {
      "image/png": "[encoded data removed]",
      "text/plain": [
       "<Figure size 720x360 with 1 Axes>"
      ]
     },
     "metadata": {
      "needs_background": "light"
     },
     "output_type": "display_data"
    }
   ],
   "source": [
    "df_deltaT = ds['Delta T'].squeeze().drop('percentile').to_dataframe().unstack('variable')['Delta T']\n",
    "fig, ax = plt.subplots(figsize=[10,5])\n",
    "for v in variables_all:\n",
    "    df_deltaT[variables_all][v].plot(linewidth=3,ax = ax, label=v, color=cols[v])#, color=cols.items())\n",
    "plt.legend(loc='upper left')\n",
    "plt.ylabel('$\\Delta$ T ($^\\circ$ C)')"
   ]
  },
  {
   "cell_type": "code",
   "execution_count": 22,
   "metadata": {
    "lines_to_next_cell": 2
   },
   "outputs": [
    {
     "data": {
      "text/plain": [
       "[(0.9568627450980393, 0.796078431372549, 0.21176470588235294),\n",
       " (0.8274509803921568, 0.0, 0.1568627450980392),\n",
       " (1.0, 0.4196078431372549, 0.07450980392156863),\n",
       " (0.26666666666666666, 0.0, 0.5254901960784314),\n",
       " (0.3764705882352941, 0.5725490196078431, 0.796078431372549),\n",
       " (0.5411764705882353, 0.2235294117647059, 0.0),\n",
       " (0.4745098039215686, 0.792156862745098, 0.9333333333333333),\n",
       " (0.0, 0.6901960784313725, 0.6039215686274509),\n",
       " (0.0, 0.5019607843137255, 0.23137254901960785),\n",
       " (0.47843137254901963, 0.5058823529411764, 0.5058823529411764)]"
      ]
     },
     "execution_count": 22,
     "metadata": {},
     "output_type": "execute_result"
    }
   ],
   "source": [
    "col_list = [cols[c] for c in df_deltaT.columns]\n",
    "col_list"
   ]
  },
  {
   "cell_type": "code",
   "execution_count": 23,
   "metadata": {},
   "outputs": [],
   "source": [
    "import seaborn as sns"
   ]
  },
  {
   "cell_type": "code",
   "execution_count": 24,
   "metadata": {},
   "outputs": [
    {
     "data": {
      "image/png": "[encoded data removed]",
      "text/plain": [
       "<Figure size 720x360 with 1 Axes>"
      ]
     },
     "metadata": {
      "needs_background": "light"
     },
     "output_type": "display_data"
    }
   ],
   "source": [
    "df_deltaT = ds['Delta T'].squeeze().drop('percentile').to_dataframe().unstack('variable')['Delta T']\n",
    "\n",
    "fig, ax = plt.subplots(figsize=[10,5])\n",
    "ax.hlines(0,1740,2028, linestyle='solid',alpha=0.9, color='k', linewidth=0.5)#.sum(axis=1).plot(linestyle='dashed', color='k', linewidth=3)\n",
    "\n",
    "df_deltaT.plot.area( color=col_list, ax=ax)\n",
    "df_deltaT.sum(axis=1).plot(linestyle='dashed', color='k', linewidth=3, label='Sum')\n",
    "plt.legend(loc='upper left',ncol=3, frameon=False)\n",
    "plt.ylabel('$\\Delta$ GSAT ($^\\circ$ C)')\n",
    "ax.set_xlim([1740,2028])\n",
    "sns.despine()"
   ]
  },
  {
   "cell_type": "code",
   "execution_count": 25,
   "metadata": {},
   "outputs": [
    {
     "data": {
      "text/plain": [
       "variable\n",
       "CO2    0.788254\n",
       "N2O    0.094996\n",
       "CH4    0.520247\n",
       "NOx   -0.149137\n",
       "SO2   -0.572603\n",
       "BC     0.030160\n",
       "OC    -0.079183\n",
       "NH3   -0.013313\n",
       "VOC    0.228751\n",
       "HC     0.094250\n",
       "dtype: float64"
      ]
     },
     "execution_count": 25,
     "metadata": {},
     "output_type": "execute_result"
    }
   ],
   "source": [
    "m1850_1900 = df_deltaT.loc[1850:1900].mean()\n",
    "m2010_2019 = df_deltaT.loc[2010:2019].mean()\n",
    "diff = m2010_2019-m1850_1900\n",
    "diff"
   ]
  },
  {
   "cell_type": "code",
   "execution_count": 26,
   "metadata": {},
   "outputs": [
    {
     "data": {
      "text/plain": [
       "variable\n",
       "CO2    0.872727\n",
       "N2O    0.104233\n",
       "CH4    0.584798\n",
       "NOx   -0.150708\n",
       "SO2   -0.610122\n",
       "BC     0.034336\n",
       "OC    -0.104334\n",
       "NH3   -0.014165\n",
       "VOC    0.262659\n",
       "HC     0.094250\n",
       "dtype: float64"
      ]
     },
     "execution_count": 26,
     "metadata": {},
     "output_type": "execute_result"
    }
   ],
   "source": [
    "m2010_2019"
   ]
  },
  {
   "cell_type": "code",
   "execution_count": 27,
   "metadata": {},
   "outputs": [
    {
     "data": {
      "text/plain": [
       "variable\n",
       "CO2    0.951383\n",
       "N2O    0.112206\n",
       "CH4    0.603572\n",
       "NOx   -0.148296\n",
       "SO2   -0.547457\n",
       "BC     0.033784\n",
       "OC    -0.105963\n",
       "NH3   -0.014895\n",
       "VOC    0.252492\n",
       "HC     0.097289\n",
       "Name: 2019, dtype: float64"
      ]
     },
     "execution_count": 27,
     "metadata": {},
     "output_type": "execute_result"
    }
   ],
   "source": [
    "df_deltaT.loc[2019]"
   ]
  },
  {
   "cell_type": "code",
   "execution_count": 28,
   "metadata": {
    "lines_to_next_cell": 2
   },
   "outputs": [],
   "source": [
    "import seaborn as sns"
   ]
  },
  {
   "cell_type": "code",
   "execution_count": 29,
   "metadata": {},
   "outputs": [
    {
     "data": {
      "image/png": "[encoded data removed]",
      "text/plain": [
       "<Figure size 432x288 with 1 Axes>"
      ]
     },
     "metadata": {
      "needs_background": "light"
     },
     "output_type": "display_data"
    }
   ],
   "source": [
    "fig, ax = plt.subplots()\n",
    "ax.vlines(0,-1,3, linestyle='dashed',alpha=0.4)\n",
    "yrs = [1950,1960,1970,1980,1990,2000, 2019,]\n",
    "labs ={y:f'{y}-1750' for y in yrs}\n",
    "df_deltaT.loc[yrs].rename(labs,axis=0).plot.barh(stacked=True, color=col_list, ax=ax)\n",
    "plt.legend(frameon=False)\n",
    "sns.despine(fig, left=True)\n",
    "ax.set_xlim([-1,2.3])\n",
    "ax.set_xlabel('$\\Delta$GSAT$^\\circ$C')\n",
    "ax.set_ylabel('')\n",
    "plt.show()"
   ]
  },
  {
   "cell_type": "markdown",
   "metadata": {},
   "source": [
    "# Split up into components"
   ]
  },
  {
   "cell_type": "markdown",
   "metadata": {},
   "source": [
    "We use the original split up in ERF from Thornhill/Bill Collin's plot "
   ]
  },
  {
   "cell_type": "code",
   "execution_count": 30,
   "metadata": {},
   "outputs": [],
   "source": [
    "from ar6_ch6_rcmipfigs.constants import BASE_DIR, OUTPUT_DATA_DIR\n",
    "# file path table of ERF 2019-1750\n",
    "\n",
    "fp_collins =RESULTS_DIR/'tables_historic_attribution/table_mean_smb_orignames.csv'\n",
    "fp_collins_sd = RESULTS_DIR/'tables_historic_attribution/table_std_smb_orignames.csv'"
   ]
  },
  {
   "cell_type": "code",
   "execution_count": 31,
   "metadata": {},
   "outputs": [],
   "source": [
    "fn_est_ERF = OUTPUT_DATA_DIR/'historic_delta_GSAT/hist_ERF_est.csv'"
   ]
  },
  {
   "cell_type": "code",
   "execution_count": 32,
   "metadata": {},
   "outputs": [],
   "source": [
    "import pandas as pd"
   ]
  },
  {
   "cell_type": "code",
   "execution_count": 33,
   "metadata": {
    "lines_to_next_cell": 2
   },
   "outputs": [],
   "source": [
    "fn_erf_decomposition = OUTPUT_DATA_DIR / 'historic_delta_GSAT/hist_ERF_est_decomp.csv'\n",
    "fn_ERF_2019= OUTPUT_DATA_DIR/'historic_delta_GSAT/2019_ERF_est.csv'"
   ]
  },
  {
   "cell_type": "code",
   "execution_count": 34,
   "metadata": {},
   "outputs": [
    {
     "data": {
      "text/html": [
       "<div>\n",
       "<style scoped>\n",
       "    .dataframe tbody tr th:only-of-type {\n",
       "        vertical-align: middle;\n",
       "    }\n",
       "\n",
       "    .dataframe tbody tr th {\n",
       "        vertical-align: top;\n",
       "    }\n",
       "\n",
       "    .dataframe thead th {\n",
       "        text-align: right;\n",
       "    }\n",
       "</style>\n",
       "<table border=\"1\" class=\"dataframe\">\n",
       "  <thead>\n",
       "    <tr style=\"text-align: right;\">\n",
       "      <th></th>\n",
       "      <th>CO2</th>\n",
       "      <th>CH4_lifetime</th>\n",
       "      <th>Strat_H2O</th>\n",
       "      <th>Aerosol</th>\n",
       "      <th>Cloud</th>\n",
       "      <th>O3</th>\n",
       "      <th>HC</th>\n",
       "      <th>N2O</th>\n",
       "      <th>HFCs</th>\n",
       "    </tr>\n",
       "    <tr>\n",
       "      <th>emission_experiment</th>\n",
       "      <th></th>\n",
       "      <th></th>\n",
       "      <th></th>\n",
       "      <th></th>\n",
       "      <th></th>\n",
       "      <th></th>\n",
       "      <th></th>\n",
       "      <th></th>\n",
       "      <th></th>\n",
       "    </tr>\n",
       "  </thead>\n",
       "  <tbody>\n",
       "    <tr>\n",
       "      <th>CO2</th>\n",
       "      <td>2.057554</td>\n",
       "      <td>0.000000</td>\n",
       "      <td>0.00</td>\n",
       "      <td>0.000000</td>\n",
       "      <td>0.000000</td>\n",
       "      <td>0.000000</td>\n",
       "      <td>0.00</td>\n",
       "      <td>0.00</td>\n",
       "      <td>0.000000</td>\n",
       "    </tr>\n",
       "    <tr>\n",
       "      <th>CH4</th>\n",
       "      <td>0.017549</td>\n",
       "      <td>0.844457</td>\n",
       "      <td>0.05</td>\n",
       "      <td>-0.003448</td>\n",
       "      <td>0.018421</td>\n",
       "      <td>0.279179</td>\n",
       "      <td>0.00</td>\n",
       "      <td>0.00</td>\n",
       "      <td>0.000000</td>\n",
       "    </tr>\n",
       "    <tr>\n",
       "      <th>N2O</th>\n",
       "      <td>0.000000</td>\n",
       "      <td>-0.035967</td>\n",
       "      <td>0.00</td>\n",
       "      <td>-0.002717</td>\n",
       "      <td>0.042503</td>\n",
       "      <td>0.024311</td>\n",
       "      <td>0.00</td>\n",
       "      <td>0.21</td>\n",
       "      <td>0.000000</td>\n",
       "    </tr>\n",
       "    <tr>\n",
       "      <th>HC</th>\n",
       "      <td>0.000053</td>\n",
       "      <td>-0.050927</td>\n",
       "      <td>0.00</td>\n",
       "      <td>-0.010501</td>\n",
       "      <td>-0.017419</td>\n",
       "      <td>-0.164586</td>\n",
       "      <td>0.41</td>\n",
       "      <td>0.00</td>\n",
       "      <td>0.039772</td>\n",
       "    </tr>\n",
       "    <tr>\n",
       "      <th>NOx</th>\n",
       "      <td>0.000000</td>\n",
       "      <td>-0.380025</td>\n",
       "      <td>0.00</td>\n",
       "      <td>-0.011912</td>\n",
       "      <td>-0.014458</td>\n",
       "      <td>0.120237</td>\n",
       "      <td>0.00</td>\n",
       "      <td>0.00</td>\n",
       "      <td>0.000000</td>\n",
       "    </tr>\n",
       "    <tr>\n",
       "      <th>VOC</th>\n",
       "      <td>0.069491</td>\n",
       "      <td>0.162462</td>\n",
       "      <td>0.00</td>\n",
       "      <td>-0.003344</td>\n",
       "      <td>0.008884</td>\n",
       "      <td>0.210860</td>\n",
       "      <td>0.00</td>\n",
       "      <td>0.00</td>\n",
       "      <td>0.000000</td>\n",
       "    </tr>\n",
       "    <tr>\n",
       "      <th>SO2</th>\n",
       "      <td>0.000000</td>\n",
       "      <td>0.000000</td>\n",
       "      <td>0.00</td>\n",
       "      <td>-0.214702</td>\n",
       "      <td>-0.683985</td>\n",
       "      <td>0.000000</td>\n",
       "      <td>0.00</td>\n",
       "      <td>0.00</td>\n",
       "      <td>0.000000</td>\n",
       "    </tr>\n",
       "    <tr>\n",
       "      <th>OC</th>\n",
       "      <td>0.000000</td>\n",
       "      <td>0.000000</td>\n",
       "      <td>0.00</td>\n",
       "      <td>-0.066129</td>\n",
       "      <td>-0.133067</td>\n",
       "      <td>0.000000</td>\n",
       "      <td>0.00</td>\n",
       "      <td>0.00</td>\n",
       "      <td>0.000000</td>\n",
       "    </tr>\n",
       "    <tr>\n",
       "      <th>BC</th>\n",
       "      <td>0.000000</td>\n",
       "      <td>0.000000</td>\n",
       "      <td>0.00</td>\n",
       "      <td>0.123707</td>\n",
       "      <td>-0.060878</td>\n",
       "      <td>0.000000</td>\n",
       "      <td>0.00</td>\n",
       "      <td>0.00</td>\n",
       "      <td>0.000000</td>\n",
       "    </tr>\n",
       "    <tr>\n",
       "      <th>NH3</th>\n",
       "      <td>0.000000</td>\n",
       "      <td>0.000000</td>\n",
       "      <td>0.00</td>\n",
       "      <td>-0.030954</td>\n",
       "      <td>0.000000</td>\n",
       "      <td>0.000000</td>\n",
       "      <td>0.00</td>\n",
       "      <td>0.00</td>\n",
       "      <td>0.000000</td>\n",
       "    </tr>\n",
       "  </tbody>\n",
       "</table>\n",
       "</div>"
      ],
      "text/plain": [
       "                          CO2  CH4_lifetime  Strat_H2O   Aerosol     Cloud  \\\n",
       "emission_experiment                                                          \n",
       "CO2                  2.057554      0.000000       0.00  0.000000  0.000000   \n",
       "CH4                  0.017549      0.844457       0.05 -0.003448  0.018421   \n",
       "N2O                  0.000000     -0.035967       0.00 -0.002717  0.042503   \n",
       "HC                   0.000053     -0.050927       0.00 -0.010501 -0.017419   \n",
       "NOx                  0.000000     -0.380025       0.00 -0.011912 -0.014458   \n",
       "VOC                  0.069491      0.162462       0.00 -0.003344  0.008884   \n",
       "SO2                  0.000000      0.000000       0.00 -0.214702 -0.683985   \n",
       "OC                   0.000000      0.000000       0.00 -0.066129 -0.133067   \n",
       "BC                   0.000000      0.000000       0.00  0.123707 -0.060878   \n",
       "NH3                  0.000000      0.000000       0.00 -0.030954  0.000000   \n",
       "\n",
       "                           O3    HC   N2O      HFCs  \n",
       "emission_experiment                                  \n",
       "CO2                  0.000000  0.00  0.00  0.000000  \n",
       "CH4                  0.279179  0.00  0.00  0.000000  \n",
       "N2O                  0.024311  0.00  0.21  0.000000  \n",
       "HC                  -0.164586  0.41  0.00  0.039772  \n",
       "NOx                  0.120237  0.00  0.00  0.000000  \n",
       "VOC                  0.210860  0.00  0.00  0.000000  \n",
       "SO2                  0.000000  0.00  0.00  0.000000  \n",
       "OC                   0.000000  0.00  0.00  0.000000  \n",
       "BC                   0.000000  0.00  0.00  0.000000  \n",
       "NH3                  0.000000  0.00  0.00  0.000000  "
      ]
     },
     "execution_count": 34,
     "metadata": {},
     "output_type": "execute_result"
    }
   ],
   "source": [
    "df_collins = pd.read_csv(fn_ERF_2019, index_col=0)\n",
    "df_collins.index = df_collins.index.rename('emission_experiment')\n",
    "df_collins_sd = pd.read_csv(fp_collins_sd, index_col=0)\n",
    "df_collins"
   ]
  },
  {
   "cell_type": "markdown",
   "metadata": {},
   "source": [
    "## don't add HFCs together with HC"
   ]
  },
  {
   "cell_type": "code",
   "execution_count": 35,
   "metadata": {},
   "outputs": [],
   "source": [
    "#hfcs = df_collins['HFCs']\n",
    "#df_collins = df_collins.drop('HFCs', axis=1)\n",
    "#df_collins['HC'] = df_collins['HC'] + hfcs\n",
    "#df_collins"
   ]
  },
  {
   "cell_type": "code",
   "execution_count": 36,
   "metadata": {},
   "outputs": [],
   "source": [
    "varn = ['co2','N2O','HC','HFCs','ch4','o3','H2O_strat','ari','aci']\n",
    "var_dir = ['CO2','N2O','HC','HFCs','CH4_lifetime','O3','Strat_H2O','Aerosol','Cloud']"
   ]
  },
  {
   "cell_type": "code",
   "execution_count": 37,
   "metadata": {
    "lines_to_next_cell": 2
   },
   "outputs": [
    {
     "data": {
      "text/html": [
       "<div>\n",
       "<style scoped>\n",
       "    .dataframe tbody tr th:only-of-type {\n",
       "        vertical-align: middle;\n",
       "    }\n",
       "\n",
       "    .dataframe tbody tr th {\n",
       "        vertical-align: top;\n",
       "    }\n",
       "\n",
       "    .dataframe thead th {\n",
       "        text-align: right;\n",
       "    }\n",
       "</style>\n",
       "<table border=\"1\" class=\"dataframe\">\n",
       "  <thead>\n",
       "    <tr style=\"text-align: right;\">\n",
       "      <th></th>\n",
       "      <th>Carbon dioxide (CO$_2$)</th>\n",
       "      <th>N$_2$O</th>\n",
       "      <th>CFC + HCFC</th>\n",
       "      <th>HFC</th>\n",
       "      <th>Methane (CH$_4$)</th>\n",
       "      <th>Ozone (O$_3$)</th>\n",
       "      <th>H$_2$O (strat)</th>\n",
       "      <th>Aerosol-radiation</th>\n",
       "      <th>Aerosol-cloud</th>\n",
       "    </tr>\n",
       "    <tr>\n",
       "      <th>emission_experiment</th>\n",
       "      <th></th>\n",
       "      <th></th>\n",
       "      <th></th>\n",
       "      <th></th>\n",
       "      <th></th>\n",
       "      <th></th>\n",
       "      <th></th>\n",
       "      <th></th>\n",
       "      <th></th>\n",
       "    </tr>\n",
       "  </thead>\n",
       "  <tbody>\n",
       "    <tr>\n",
       "      <th>Ammonia</th>\n",
       "      <td>0.000000</td>\n",
       "      <td>0.00</td>\n",
       "      <td>0.00</td>\n",
       "      <td>0.000000</td>\n",
       "      <td>0.000000</td>\n",
       "      <td>0.000000</td>\n",
       "      <td>0.00</td>\n",
       "      <td>-0.030954</td>\n",
       "      <td>0.000000</td>\n",
       "    </tr>\n",
       "    <tr>\n",
       "      <th>Black carbon</th>\n",
       "      <td>0.000000</td>\n",
       "      <td>0.00</td>\n",
       "      <td>0.00</td>\n",
       "      <td>0.000000</td>\n",
       "      <td>0.000000</td>\n",
       "      <td>0.000000</td>\n",
       "      <td>0.00</td>\n",
       "      <td>0.123707</td>\n",
       "      <td>-0.060878</td>\n",
       "    </tr>\n",
       "    <tr>\n",
       "      <th>Organic carbon</th>\n",
       "      <td>0.000000</td>\n",
       "      <td>0.00</td>\n",
       "      <td>0.00</td>\n",
       "      <td>0.000000</td>\n",
       "      <td>0.000000</td>\n",
       "      <td>0.000000</td>\n",
       "      <td>0.00</td>\n",
       "      <td>-0.066129</td>\n",
       "      <td>-0.133067</td>\n",
       "    </tr>\n",
       "    <tr>\n",
       "      <th>SO$_2$</th>\n",
       "      <td>0.000000</td>\n",
       "      <td>0.00</td>\n",
       "      <td>0.00</td>\n",
       "      <td>0.000000</td>\n",
       "      <td>0.000000</td>\n",
       "      <td>0.000000</td>\n",
       "      <td>0.00</td>\n",
       "      <td>-0.214702</td>\n",
       "      <td>-0.683985</td>\n",
       "    </tr>\n",
       "    <tr>\n",
       "      <th>NMVOC + CO</th>\n",
       "      <td>0.069491</td>\n",
       "      <td>0.00</td>\n",
       "      <td>0.00</td>\n",
       "      <td>0.000000</td>\n",
       "      <td>0.162462</td>\n",
       "      <td>0.210860</td>\n",
       "      <td>0.00</td>\n",
       "      <td>-0.003344</td>\n",
       "      <td>0.008884</td>\n",
       "    </tr>\n",
       "    <tr>\n",
       "      <th>NO$_x$</th>\n",
       "      <td>0.000000</td>\n",
       "      <td>0.00</td>\n",
       "      <td>0.00</td>\n",
       "      <td>0.000000</td>\n",
       "      <td>-0.380025</td>\n",
       "      <td>0.120237</td>\n",
       "      <td>0.00</td>\n",
       "      <td>-0.011912</td>\n",
       "      <td>-0.014458</td>\n",
       "    </tr>\n",
       "    <tr>\n",
       "      <th>CFC + HCFC + HFC</th>\n",
       "      <td>0.000053</td>\n",
       "      <td>0.00</td>\n",
       "      <td>0.41</td>\n",
       "      <td>0.039772</td>\n",
       "      <td>-0.050927</td>\n",
       "      <td>-0.164586</td>\n",
       "      <td>0.00</td>\n",
       "      <td>-0.010501</td>\n",
       "      <td>-0.017419</td>\n",
       "    </tr>\n",
       "    <tr>\n",
       "      <th>N$_2$O</th>\n",
       "      <td>0.000000</td>\n",
       "      <td>0.21</td>\n",
       "      <td>0.00</td>\n",
       "      <td>0.000000</td>\n",
       "      <td>-0.035967</td>\n",
       "      <td>0.024311</td>\n",
       "      <td>0.00</td>\n",
       "      <td>-0.002717</td>\n",
       "      <td>0.042503</td>\n",
       "    </tr>\n",
       "    <tr>\n",
       "      <th>CH$_4$</th>\n",
       "      <td>0.017549</td>\n",
       "      <td>0.00</td>\n",
       "      <td>0.00</td>\n",
       "      <td>0.000000</td>\n",
       "      <td>0.844457</td>\n",
       "      <td>0.279179</td>\n",
       "      <td>0.05</td>\n",
       "      <td>-0.003448</td>\n",
       "      <td>0.018421</td>\n",
       "    </tr>\n",
       "    <tr>\n",
       "      <th>CO$_2$</th>\n",
       "      <td>2.057554</td>\n",
       "      <td>0.00</td>\n",
       "      <td>0.00</td>\n",
       "      <td>0.000000</td>\n",
       "      <td>0.000000</td>\n",
       "      <td>0.000000</td>\n",
       "      <td>0.00</td>\n",
       "      <td>0.000000</td>\n",
       "      <td>0.000000</td>\n",
       "    </tr>\n",
       "  </tbody>\n",
       "</table>\n",
       "</div>"
      ],
      "text/plain": [
       "                     Carbon dioxide (CO$_2$)  N$_2$O  CFC + HCFC       HFC  \\\n",
       "emission_experiment                                                          \n",
       "Ammonia                             0.000000    0.00        0.00  0.000000   \n",
       "Black carbon                        0.000000    0.00        0.00  0.000000   \n",
       "Organic carbon                      0.000000    0.00        0.00  0.000000   \n",
       "SO$_2$                              0.000000    0.00        0.00  0.000000   \n",
       "NMVOC + CO                          0.069491    0.00        0.00  0.000000   \n",
       "NO$_x$                              0.000000    0.00        0.00  0.000000   \n",
       "CFC + HCFC + HFC                    0.000053    0.00        0.41  0.039772   \n",
       "N$_2$O                              0.000000    0.21        0.00  0.000000   \n",
       "CH$_4$                              0.017549    0.00        0.00  0.000000   \n",
       "CO$_2$                              2.057554    0.00        0.00  0.000000   \n",
       "\n",
       "                     Methane (CH$_4$)  Ozone (O$_3$)  H$_2$O (strat)  \\\n",
       "emission_experiment                                                    \n",
       "Ammonia                      0.000000       0.000000            0.00   \n",
       "Black carbon                 0.000000       0.000000            0.00   \n",
       "Organic carbon               0.000000       0.000000            0.00   \n",
       "SO$_2$                       0.000000       0.000000            0.00   \n",
       "NMVOC + CO                   0.162462       0.210860            0.00   \n",
       "NO$_x$                      -0.380025       0.120237            0.00   \n",
       "CFC + HCFC + HFC            -0.050927      -0.164586            0.00   \n",
       "N$_2$O                      -0.035967       0.024311            0.00   \n",
       "CH$_4$                       0.844457       0.279179            0.05   \n",
       "CO$_2$                       0.000000       0.000000            0.00   \n",
       "\n",
       "                     Aerosol-radiation  Aerosol-cloud  \n",
       "emission_experiment                                    \n",
       "Ammonia                      -0.030954       0.000000  \n",
       "Black carbon                  0.123707      -0.060878  \n",
       "Organic carbon               -0.066129      -0.133067  \n",
       "SO$_2$                       -0.214702      -0.683985  \n",
       "NMVOC + CO                   -0.003344       0.008884  \n",
       "NO$_x$                       -0.011912      -0.014458  \n",
       "CFC + HCFC + HFC             -0.010501      -0.017419  \n",
       "N$_2$O                       -0.002717       0.042503  \n",
       "CH$_4$                       -0.003448       0.018421  \n",
       "CO$_2$                        0.000000       0.000000  "
      ]
     },
     "execution_count": 37,
     "metadata": {},
     "output_type": "execute_result"
    }
   ],
   "source": [
    "rename_dic_cat = {\n",
    "    'CO2':'Carbon dioxide (CO$_2$)',\n",
    "    'GHG':'WMGHG',\n",
    "    'CH4_lifetime': 'Methane (CH$_4$)',\n",
    "    'O3': 'Ozone (O$_3$)',\n",
    "    'Strat_H2O':'H$_2$O (strat)',\n",
    "    'Aerosol':'Aerosol-radiation',\n",
    "    'Cloud':'Aerosol-cloud',\n",
    "    'N2O':'N$_2$O',\n",
    "    'HC':'CFC + HCFC',\n",
    "    'HFCs':'HFC'\n",
    "\n",
    "}\n",
    "rename_dic_cols ={\n",
    "    'co2':'CO$_2$',\n",
    "    'CO2':'CO$_2$',\n",
    "    'CH4':'CH$_4$',\n",
    "    'ch4':'CH$_4$',\n",
    "    'N2O':'N$_2$O',\n",
    "    'n2o':'N$_2$O',\n",
    "    'HC':'CFC + HCFC + HFC',\n",
    "    'HFCs':'HFC',\n",
    "    'NOx':'NO$_x$',\n",
    "    'VOC':'NMVOC + CO',\n",
    "    'SO2':'SO$_2$',\n",
    "    'OC':'Organic carbon',\n",
    "    'BC':'Black carbon',\n",
    "    'NH3':'Ammonia'\n",
    "}\n",
    "tab_plt_ERF = df_collins.loc[::-1,var_dir].rename(rename_dic_cat, axis=1).rename(rename_dic_cols, axis=0)#.transpose()\n",
    "tab_plt = tab_plt_ERF\n",
    "tab_plt_ERF"
   ]
  },
  {
   "cell_type": "code",
   "execution_count": 41,
   "metadata": {},
   "outputs": [
    {
     "data": {
      "text/html": [
       "<div>\n",
       "<style scoped>\n",
       "    .dataframe tbody tr th:only-of-type {\n",
       "        vertical-align: middle;\n",
       "    }\n",
       "\n",
       "    .dataframe tbody tr th {\n",
       "        vertical-align: top;\n",
       "    }\n",
       "\n",
       "    .dataframe thead th {\n",
       "        text-align: right;\n",
       "    }\n",
       "</style>\n",
       "<table border=\"1\" class=\"dataframe\">\n",
       "  <thead>\n",
       "    <tr style=\"text-align: right;\">\n",
       "      <th></th>\n",
       "      <th>CO2_sd</th>\n",
       "      <th>GHG_sd</th>\n",
       "      <th>CH4_lifetime_sd</th>\n",
       "      <th>O3_sd</th>\n",
       "      <th>O3_prime_sd</th>\n",
       "      <th>Strat_H2O_sd</th>\n",
       "      <th>Aerosol_sd</th>\n",
       "      <th>Cloud_sd</th>\n",
       "      <th>Total_sd</th>\n",
       "    </tr>\n",
       "    <tr>\n",
       "      <th>Species</th>\n",
       "      <th></th>\n",
       "      <th></th>\n",
       "      <th></th>\n",
       "      <th></th>\n",
       "      <th></th>\n",
       "      <th></th>\n",
       "      <th></th>\n",
       "      <th></th>\n",
       "      <th></th>\n",
       "    </tr>\n",
       "  </thead>\n",
       "  <tbody>\n",
       "    <tr>\n",
       "      <th>CO2</th>\n",
       "      <td>0.246907</td>\n",
       "      <td>0.000000</td>\n",
       "      <td>0.000000</td>\n",
       "      <td>0.000000</td>\n",
       "      <td>0.000000</td>\n",
       "      <td>0.00</td>\n",
       "      <td>0.000000</td>\n",
       "      <td>0.000000</td>\n",
       "      <td>0.246907</td>\n",
       "    </tr>\n",
       "    <tr>\n",
       "      <th>CH4</th>\n",
       "      <td>0.002106</td>\n",
       "      <td>0.089942</td>\n",
       "      <td>0.047124</td>\n",
       "      <td>0.036693</td>\n",
       "      <td>0.022592</td>\n",
       "      <td>0.05</td>\n",
       "      <td>0.002856</td>\n",
       "      <td>0.092581</td>\n",
       "      <td>0.182717</td>\n",
       "    </tr>\n",
       "    <tr>\n",
       "      <th>N2O</th>\n",
       "      <td>0.000000</td>\n",
       "      <td>0.029400</td>\n",
       "      <td>0.028548</td>\n",
       "      <td>0.015462</td>\n",
       "      <td>0.003696</td>\n",
       "      <td>0.00</td>\n",
       "      <td>0.002627</td>\n",
       "      <td>0.042169</td>\n",
       "      <td>0.061899</td>\n",
       "    </tr>\n",
       "    <tr>\n",
       "      <th>HC</th>\n",
       "      <td>0.000006</td>\n",
       "      <td>0.057400</td>\n",
       "      <td>0.032639</td>\n",
       "      <td>0.077735</td>\n",
       "      <td>0.005206</td>\n",
       "      <td>0.00</td>\n",
       "      <td>0.002561</td>\n",
       "      <td>0.049554</td>\n",
       "      <td>0.117053</td>\n",
       "    </tr>\n",
       "    <tr>\n",
       "      <th>NOx</th>\n",
       "      <td>0.000000</td>\n",
       "      <td>0.000000</td>\n",
       "      <td>0.107711</td>\n",
       "      <td>0.088303</td>\n",
       "      <td>0.034382</td>\n",
       "      <td>0.00</td>\n",
       "      <td>0.005903</td>\n",
       "      <td>0.057188</td>\n",
       "      <td>0.173085</td>\n",
       "    </tr>\n",
       "    <tr>\n",
       "      <th>VOC</th>\n",
       "      <td>0.008339</td>\n",
       "      <td>0.000000</td>\n",
       "      <td>0.059041</td>\n",
       "      <td>0.057143</td>\n",
       "      <td>0.017918</td>\n",
       "      <td>0.00</td>\n",
       "      <td>0.006582</td>\n",
       "      <td>0.098979</td>\n",
       "      <td>0.137949</td>\n",
       "    </tr>\n",
       "    <tr>\n",
       "      <th>SO2</th>\n",
       "      <td>0.000000</td>\n",
       "      <td>0.000000</td>\n",
       "      <td>0.000000</td>\n",
       "      <td>0.000000</td>\n",
       "      <td>0.000000</td>\n",
       "      <td>0.00</td>\n",
       "      <td>0.205242</td>\n",
       "      <td>0.345009</td>\n",
       "      <td>0.401442</td>\n",
       "    </tr>\n",
       "    <tr>\n",
       "      <th>OC</th>\n",
       "      <td>0.000000</td>\n",
       "      <td>0.000000</td>\n",
       "      <td>0.000000</td>\n",
       "      <td>0.000000</td>\n",
       "      <td>0.000000</td>\n",
       "      <td>0.00</td>\n",
       "      <td>0.060004</td>\n",
       "      <td>0.120197</td>\n",
       "      <td>0.134342</td>\n",
       "    </tr>\n",
       "    <tr>\n",
       "      <th>BC</th>\n",
       "      <td>0.000000</td>\n",
       "      <td>0.000000</td>\n",
       "      <td>0.000000</td>\n",
       "      <td>0.000000</td>\n",
       "      <td>0.000000</td>\n",
       "      <td>0.00</td>\n",
       "      <td>0.135916</td>\n",
       "      <td>0.164055</td>\n",
       "      <td>0.213043</td>\n",
       "    </tr>\n",
       "    <tr>\n",
       "      <th>NH3</th>\n",
       "      <td>0.000000</td>\n",
       "      <td>0.000000</td>\n",
       "      <td>0.000000</td>\n",
       "      <td>0.000000</td>\n",
       "      <td>0.000000</td>\n",
       "      <td>0.00</td>\n",
       "      <td>0.004422</td>\n",
       "      <td>0.000000</td>\n",
       "      <td>0.004422</td>\n",
       "    </tr>\n",
       "  </tbody>\n",
       "</table>\n",
       "</div>"
      ],
      "text/plain": [
       "           CO2_sd    GHG_sd  CH4_lifetime_sd     O3_sd  O3_prime_sd  \\\n",
       "Species                                                               \n",
       "CO2      0.246907  0.000000         0.000000  0.000000     0.000000   \n",
       "CH4      0.002106  0.089942         0.047124  0.036693     0.022592   \n",
       "N2O      0.000000  0.029400         0.028548  0.015462     0.003696   \n",
       "HC       0.000006  0.057400         0.032639  0.077735     0.005206   \n",
       "NOx      0.000000  0.000000         0.107711  0.088303     0.034382   \n",
       "VOC      0.008339  0.000000         0.059041  0.057143     0.017918   \n",
       "SO2      0.000000  0.000000         0.000000  0.000000     0.000000   \n",
       "OC       0.000000  0.000000         0.000000  0.000000     0.000000   \n",
       "BC       0.000000  0.000000         0.000000  0.000000     0.000000   \n",
       "NH3      0.000000  0.000000         0.000000  0.000000     0.000000   \n",
       "\n",
       "         Strat_H2O_sd  Aerosol_sd  Cloud_sd  Total_sd  \n",
       "Species                                                \n",
       "CO2              0.00    0.000000  0.000000  0.246907  \n",
       "CH4              0.05    0.002856  0.092581  0.182717  \n",
       "N2O              0.00    0.002627  0.042169  0.061899  \n",
       "HC               0.00    0.002561  0.049554  0.117053  \n",
       "NOx              0.00    0.005903  0.057188  0.173085  \n",
       "VOC              0.00    0.006582  0.098979  0.137949  \n",
       "SO2              0.00    0.205242  0.345009  0.401442  \n",
       "OC               0.00    0.060004  0.120197  0.134342  \n",
       "BC               0.00    0.135916  0.164055  0.213043  \n",
       "NH3              0.00    0.004422  0.000000  0.004422  "
      ]
     },
     "execution_count": 41,
     "metadata": {},
     "output_type": "execute_result"
    }
   ],
   "source": [
    "df_collins_sd"
   ]
  },
  {
   "cell_type": "code",
   "execution_count": 42,
   "metadata": {},
   "outputs": [
    {
     "data": {
      "text/html": [
       "<div>\n",
       "<style scoped>\n",
       "    .dataframe tbody tr th:only-of-type {\n",
       "        vertical-align: middle;\n",
       "    }\n",
       "\n",
       "    .dataframe tbody tr th {\n",
       "        vertical-align: top;\n",
       "    }\n",
       "\n",
       "    .dataframe thead th {\n",
       "        text-align: right;\n",
       "    }\n",
       "</style>\n",
       "<table border=\"1\" class=\"dataframe\">\n",
       "  <thead>\n",
       "    <tr style=\"text-align: right;\">\n",
       "      <th></th>\n",
       "      <th>std</th>\n",
       "      <th>SE</th>\n",
       "      <th>95-50_SE</th>\n",
       "      <th>95-50</th>\n",
       "    </tr>\n",
       "    <tr>\n",
       "      <th>Species</th>\n",
       "      <th></th>\n",
       "      <th></th>\n",
       "      <th></th>\n",
       "      <th></th>\n",
       "    </tr>\n",
       "  </thead>\n",
       "  <tbody>\n",
       "    <tr>\n",
       "      <th>CO2</th>\n",
       "      <td>0.246907</td>\n",
       "      <td>NaN</td>\n",
       "      <td>0.246907</td>\n",
       "      <td>0.246907</td>\n",
       "    </tr>\n",
       "    <tr>\n",
       "      <th>CH4</th>\n",
       "      <td>0.182717</td>\n",
       "      <td>0.064600</td>\n",
       "      <td>0.106267</td>\n",
       "      <td>0.300569</td>\n",
       "    </tr>\n",
       "    <tr>\n",
       "      <th>N2O</th>\n",
       "      <td>0.061899</td>\n",
       "      <td>0.027682</td>\n",
       "      <td>0.045537</td>\n",
       "      <td>0.101825</td>\n",
       "    </tr>\n",
       "    <tr>\n",
       "      <th>HC</th>\n",
       "      <td>0.117053</td>\n",
       "      <td>0.047787</td>\n",
       "      <td>0.078609</td>\n",
       "      <td>0.192552</td>\n",
       "    </tr>\n",
       "    <tr>\n",
       "      <th>NOx</th>\n",
       "      <td>0.173085</td>\n",
       "      <td>0.077406</td>\n",
       "      <td>0.127333</td>\n",
       "      <td>0.284725</td>\n",
       "    </tr>\n",
       "    <tr>\n",
       "      <th>VOC</th>\n",
       "      <td>0.137949</td>\n",
       "      <td>0.061693</td>\n",
       "      <td>0.101484</td>\n",
       "      <td>0.226926</td>\n",
       "    </tr>\n",
       "    <tr>\n",
       "      <th>SO2</th>\n",
       "      <td>0.401442</td>\n",
       "      <td>0.163888</td>\n",
       "      <td>0.269596</td>\n",
       "      <td>0.660372</td>\n",
       "    </tr>\n",
       "    <tr>\n",
       "      <th>OC</th>\n",
       "      <td>0.134342</td>\n",
       "      <td>0.054845</td>\n",
       "      <td>0.090220</td>\n",
       "      <td>0.220992</td>\n",
       "    </tr>\n",
       "    <tr>\n",
       "      <th>BC</th>\n",
       "      <td>0.213043</td>\n",
       "      <td>0.080523</td>\n",
       "      <td>0.132460</td>\n",
       "      <td>0.350455</td>\n",
       "    </tr>\n",
       "    <tr>\n",
       "      <th>NH3</th>\n",
       "      <td>0.004422</td>\n",
       "      <td>0.003127</td>\n",
       "      <td>0.005144</td>\n",
       "      <td>0.007274</td>\n",
       "    </tr>\n",
       "  </tbody>\n",
       "</table>\n",
       "</div>"
      ],
      "text/plain": [
       "              std        SE  95-50_SE     95-50\n",
       "Species                                        \n",
       "CO2      0.246907       NaN  0.246907  0.246907\n",
       "CH4      0.182717  0.064600  0.106267  0.300569\n",
       "N2O      0.061899  0.027682  0.045537  0.101825\n",
       "HC       0.117053  0.047787  0.078609  0.192552\n",
       "NOx      0.173085  0.077406  0.127333  0.284725\n",
       "VOC      0.137949  0.061693  0.101484  0.226926\n",
       "SO2      0.401442  0.163888  0.269596  0.660372\n",
       "OC       0.134342  0.054845  0.090220  0.220992\n",
       "BC       0.213043  0.080523  0.132460  0.350455\n",
       "NH3      0.004422  0.003127  0.005144  0.007274"
      ]
     },
     "execution_count": 42,
     "metadata": {},
     "output_type": "execute_result"
    }
   ],
   "source": [
    "import pandas as pd\n",
    "num_mod_lab = 'Number of models (Thornhill 2020)'\n",
    "thornhill = pd.read_csv(INPUT_DATA_DIR/'table2_thornhill2020.csv', index_col=0)\n",
    "thornhill.index = thornhill.index.rename('Species')\n",
    "thornhill\n",
    "\n",
    "std_2_95th = 1.645\n",
    "\n",
    "sd_tot = df_collins_sd['Total_sd']\n",
    "df_err= pd.DataFrame(sd_tot.rename('std'))\n",
    "df_err['SE'] = df_err\n",
    "\n",
    "df_err['SE'] = df_err['std']/np.sqrt(thornhill[num_mod_lab])\n",
    "df_err['95-50_SE'] = df_err['SE']*std_2_95th\n",
    "df_err.loc['CO2','95-50_SE']= df_err.loc['CO2','std']\n",
    "df_err\n",
    "\n",
    "df_err['95-50'] = df_err['std']*std_2_95th\n",
    "df_err.loc['CO2','95-50']= df_err.loc['CO2','std']\n",
    "df_err"
   ]
  },
  {
   "cell_type": "code",
   "execution_count": 33,
   "metadata": {},
   "outputs": [],
   "source": [
    "df_err = df_err.rename(rename_dic_cols, axis=0)"
   ]
  },
  {
   "cell_type": "code",
   "execution_count": 34,
   "metadata": {
    "lines_to_next_cell": 2
   },
   "outputs": [],
   "source": [
    "width = 0.7\n",
    "kwargs = {'linewidth':.1,'edgecolor':'k'}"
   ]
  },
  {
   "cell_type": "code",
   "execution_count": 35,
   "metadata": {},
   "outputs": [
    {
     "data": {
      "text/plain": [
       "array([ 0,  1,  2,  3,  4,  5,  6,  7,  8,  9, 10])"
      ]
     },
     "execution_count": 35,
     "metadata": {},
     "output_type": "execute_result"
    }
   ],
   "source": [
    "ybar = np.arange(len(tab_plt)+1)#, -1)\n",
    "ybar"
   ]
  },
  {
   "cell_type": "markdown",
   "metadata": {},
   "source": [
    "## decompose GSAT as ERF "
   ]
  },
  {
   "cell_type": "markdown",
   "metadata": {},
   "source": [
    "### Source of delta T equal to source of ERF"
   ]
  },
  {
   "cell_type": "code",
   "execution_count": 36,
   "metadata": {},
   "outputs": [
    {
     "data": {
      "text/html": [
       "<div>\n",
       "<style scoped>\n",
       "    .dataframe tbody tr th:only-of-type {\n",
       "        vertical-align: middle;\n",
       "    }\n",
       "\n",
       "    .dataframe tbody tr th {\n",
       "        vertical-align: top;\n",
       "    }\n",
       "\n",
       "    .dataframe thead th {\n",
       "        text-align: right;\n",
       "    }\n",
       "</style>\n",
       "<table border=\"1\" class=\"dataframe\">\n",
       "  <thead>\n",
       "    <tr style=\"text-align: right;\">\n",
       "      <th></th>\n",
       "      <th>CO2</th>\n",
       "      <th>CH4_lifetime</th>\n",
       "      <th>Strat_H2O</th>\n",
       "      <th>Aerosol</th>\n",
       "      <th>Cloud</th>\n",
       "      <th>O3</th>\n",
       "      <th>HC</th>\n",
       "      <th>N2O</th>\n",
       "      <th>HFCs</th>\n",
       "    </tr>\n",
       "    <tr>\n",
       "      <th>emission_experiment</th>\n",
       "      <th></th>\n",
       "      <th></th>\n",
       "      <th></th>\n",
       "      <th></th>\n",
       "      <th></th>\n",
       "      <th></th>\n",
       "      <th></th>\n",
       "      <th></th>\n",
       "      <th></th>\n",
       "    </tr>\n",
       "  </thead>\n",
       "  <tbody>\n",
       "    <tr>\n",
       "      <th>CO2</th>\n",
       "      <td>2.057554</td>\n",
       "      <td>0.000000</td>\n",
       "      <td>0.00</td>\n",
       "      <td>0.000000</td>\n",
       "      <td>0.000000</td>\n",
       "      <td>0.000000</td>\n",
       "      <td>0.00</td>\n",
       "      <td>0.00</td>\n",
       "      <td>0.000000</td>\n",
       "    </tr>\n",
       "    <tr>\n",
       "      <th>CH4</th>\n",
       "      <td>0.017549</td>\n",
       "      <td>0.844457</td>\n",
       "      <td>0.05</td>\n",
       "      <td>-0.003448</td>\n",
       "      <td>0.018421</td>\n",
       "      <td>0.279179</td>\n",
       "      <td>0.00</td>\n",
       "      <td>0.00</td>\n",
       "      <td>0.000000</td>\n",
       "    </tr>\n",
       "    <tr>\n",
       "      <th>N2O</th>\n",
       "      <td>0.000000</td>\n",
       "      <td>-0.035967</td>\n",
       "      <td>0.00</td>\n",
       "      <td>-0.002717</td>\n",
       "      <td>0.042503</td>\n",
       "      <td>0.024311</td>\n",
       "      <td>0.00</td>\n",
       "      <td>0.21</td>\n",
       "      <td>0.000000</td>\n",
       "    </tr>\n",
       "    <tr>\n",
       "      <th>HC</th>\n",
       "      <td>0.000053</td>\n",
       "      <td>-0.050927</td>\n",
       "      <td>0.00</td>\n",
       "      <td>-0.010501</td>\n",
       "      <td>-0.017419</td>\n",
       "      <td>-0.164586</td>\n",
       "      <td>0.41</td>\n",
       "      <td>0.00</td>\n",
       "      <td>0.039772</td>\n",
       "    </tr>\n",
       "    <tr>\n",
       "      <th>NOx</th>\n",
       "      <td>0.000000</td>\n",
       "      <td>-0.380025</td>\n",
       "      <td>0.00</td>\n",
       "      <td>-0.011912</td>\n",
       "      <td>-0.014458</td>\n",
       "      <td>0.120237</td>\n",
       "      <td>0.00</td>\n",
       "      <td>0.00</td>\n",
       "      <td>0.000000</td>\n",
       "    </tr>\n",
       "    <tr>\n",
       "      <th>VOC</th>\n",
       "      <td>0.069491</td>\n",
       "      <td>0.162462</td>\n",
       "      <td>0.00</td>\n",
       "      <td>-0.003344</td>\n",
       "      <td>0.008884</td>\n",
       "      <td>0.210860</td>\n",
       "      <td>0.00</td>\n",
       "      <td>0.00</td>\n",
       "      <td>0.000000</td>\n",
       "    </tr>\n",
       "    <tr>\n",
       "      <th>SO2</th>\n",
       "      <td>0.000000</td>\n",
       "      <td>0.000000</td>\n",
       "      <td>0.00</td>\n",
       "      <td>-0.214702</td>\n",
       "      <td>-0.683985</td>\n",
       "      <td>0.000000</td>\n",
       "      <td>0.00</td>\n",
       "      <td>0.00</td>\n",
       "      <td>0.000000</td>\n",
       "    </tr>\n",
       "    <tr>\n",
       "      <th>OC</th>\n",
       "      <td>0.000000</td>\n",
       "      <td>0.000000</td>\n",
       "      <td>0.00</td>\n",
       "      <td>-0.066129</td>\n",
       "      <td>-0.133067</td>\n",
       "      <td>0.000000</td>\n",
       "      <td>0.00</td>\n",
       "      <td>0.00</td>\n",
       "      <td>0.000000</td>\n",
       "    </tr>\n",
       "    <tr>\n",
       "      <th>BC</th>\n",
       "      <td>0.000000</td>\n",
       "      <td>0.000000</td>\n",
       "      <td>0.00</td>\n",
       "      <td>0.123707</td>\n",
       "      <td>-0.060878</td>\n",
       "      <td>0.000000</td>\n",
       "      <td>0.00</td>\n",
       "      <td>0.00</td>\n",
       "      <td>0.000000</td>\n",
       "    </tr>\n",
       "    <tr>\n",
       "      <th>NH3</th>\n",
       "      <td>0.000000</td>\n",
       "      <td>0.000000</td>\n",
       "      <td>0.00</td>\n",
       "      <td>-0.030954</td>\n",
       "      <td>0.000000</td>\n",
       "      <td>0.000000</td>\n",
       "      <td>0.00</td>\n",
       "      <td>0.00</td>\n",
       "      <td>0.000000</td>\n",
       "    </tr>\n",
       "  </tbody>\n",
       "</table>\n",
       "</div>"
      ],
      "text/plain": [
       "                          CO2  CH4_lifetime  Strat_H2O   Aerosol     Cloud  \\\n",
       "emission_experiment                                                          \n",
       "CO2                  2.057554      0.000000       0.00  0.000000  0.000000   \n",
       "CH4                  0.017549      0.844457       0.05 -0.003448  0.018421   \n",
       "N2O                  0.000000     -0.035967       0.00 -0.002717  0.042503   \n",
       "HC                   0.000053     -0.050927       0.00 -0.010501 -0.017419   \n",
       "NOx                  0.000000     -0.380025       0.00 -0.011912 -0.014458   \n",
       "VOC                  0.069491      0.162462       0.00 -0.003344  0.008884   \n",
       "SO2                  0.000000      0.000000       0.00 -0.214702 -0.683985   \n",
       "OC                   0.000000      0.000000       0.00 -0.066129 -0.133067   \n",
       "BC                   0.000000      0.000000       0.00  0.123707 -0.060878   \n",
       "NH3                  0.000000      0.000000       0.00 -0.030954  0.000000   \n",
       "\n",
       "                           O3    HC   N2O      HFCs  \n",
       "emission_experiment                                  \n",
       "CO2                  0.000000  0.00  0.00  0.000000  \n",
       "CH4                  0.279179  0.00  0.00  0.000000  \n",
       "N2O                  0.024311  0.00  0.21  0.000000  \n",
       "HC                  -0.164586  0.41  0.00  0.039772  \n",
       "NOx                  0.120237  0.00  0.00  0.000000  \n",
       "VOC                  0.210860  0.00  0.00  0.000000  \n",
       "SO2                  0.000000  0.00  0.00  0.000000  \n",
       "OC                   0.000000  0.00  0.00  0.000000  \n",
       "BC                   0.000000  0.00  0.00  0.000000  \n",
       "NH3                  0.000000  0.00  0.00  0.000000  "
      ]
     },
     "execution_count": 36,
     "metadata": {},
     "output_type": "execute_result"
    }
   ],
   "source": [
    "df_collins"
   ]
  },
  {
   "cell_type": "code",
   "execution_count": 37,
   "metadata": {},
   "outputs": [
    {
     "data": {
      "text/plain": [
       "year\n",
       "1750    0.000000\n",
       "1751    0.000000\n",
       "1752    0.000128\n",
       "1753    0.000351\n",
       "1754    0.000647\n",
       "          ...   \n",
       "2015    0.878750\n",
       "2016    0.895436\n",
       "2017    0.914430\n",
       "2018    0.932890\n",
       "2019    0.951383\n",
       "Name: CO2, Length: 270, dtype: float64"
      ]
     },
     "execution_count": 37,
     "metadata": {},
     "output_type": "execute_result"
    }
   ],
   "source": [
    "df_deltaT['CO2']"
   ]
  },
  {
   "cell_type": "code",
   "execution_count": 38,
   "metadata": {},
   "outputs": [
    {
     "data": {
      "text/plain": [
       "<matplotlib.axes._subplots.AxesSubplot at 0x7fd375b09750>"
      ]
     },
     "execution_count": 38,
     "metadata": {},
     "output_type": "execute_result"
    },
    {
     "data": {
      "image/png": "[encoded data removed]",
      "text/plain": [
       "<Figure size 432x288 with 1 Axes>"
      ]
     },
     "metadata": {
      "needs_background": "light"
     },
     "output_type": "display_data"
    }
   ],
   "source": [
    "dT_2019 = pd.DataFrame(df_deltaT.loc[2019])\n",
    "dT_2019.index= dT_2019.index.rename('emission_experiment')\n",
    "df_coll_t = df_collins.transpose()\n",
    "if 'Total' in df_coll_t.index:\n",
    "    df_coll_t = df_coll_t.drop('Total')\n",
    "# scale by total:\n",
    "scale = df_coll_t.sum()\n",
    "# normalized ERF: \n",
    "df_col_normalized = df_coll_t/scale\n",
    "#\n",
    "df_col_normalized.transpose().plot.barh(stacked=True)"
   ]
  },
  {
   "cell_type": "markdown",
   "metadata": {},
   "source": [
    "We multiply the change in GSAT in 2019 by the matrix describing the source distribution from the ERF:"
   ]
  },
  {
   "cell_type": "code",
   "execution_count": 39,
   "metadata": {},
   "outputs": [],
   "source": [
    "df_dt_sep = dT_2019[2019]*df_col_normalized\n",
    "df_dt_sep=df_dt_sep.transpose()"
   ]
  },
  {
   "cell_type": "code",
   "execution_count": 40,
   "metadata": {},
   "outputs": [
    {
     "data": {
      "text/plain": [
       "<matplotlib.axes._subplots.AxesSubplot at 0x7fd3758a0910>"
      ]
     },
     "execution_count": 40,
     "metadata": {},
     "output_type": "execute_result"
    },
    {
     "data": {
      "image/png": "[encoded data removed]",
      "text/plain": [
       "<Figure size 432x288 with 1 Axes>"
      ]
     },
     "metadata": {
      "needs_background": "light"
     },
     "output_type": "display_data"
    }
   ],
   "source": [
    "df_dt_sep.plot.bar(stacked=True)"
   ]
  },
  {
   "cell_type": "markdown",
   "metadata": {},
   "source": [
    "#### Double check that the sum is the same as before:"
   ]
  },
  {
   "cell_type": "code",
   "execution_count": 41,
   "metadata": {},
   "outputs": [
    {
     "data": {
      "text/plain": [
       "<matplotlib.axes._subplots.AxesSubplot at 0x7fd3756cded0>"
      ]
     },
     "execution_count": 41,
     "metadata": {},
     "output_type": "execute_result"
    },
    {
     "data": {
      "image/png": "[encoded data removed]",
      "text/plain": [
       "<Figure size 432x288 with 1 Axes>"
      ]
     },
     "metadata": {
      "needs_background": "light"
     },
     "output_type": "display_data"
    }
   ],
   "source": [
    "df_dt_sep.transpose().sum().plot.line()\n",
    "\n",
    "df_deltaT.loc[2019].plot.line()#bar(stacked=True)"
   ]
  },
  {
   "cell_type": "markdown",
   "metadata": {},
   "source": [
    "## REMOVED: For consistency with rest of the report (chapter 7), GSAT is scaled by  1.3/1.48527635"
   ]
  },
  {
   "cell_type": "markdown",
   "metadata": {},
   "source": [
    "df_dt_sep"
   ]
  },
  {
   "cell_type": "markdown",
   "metadata": {},
   "source": [
    "df_dt_sep.sum(axis=1)"
   ]
  },
  {
   "cell_type": "markdown",
   "metadata": {},
   "source": [
    "dt_tmp = df_dt_sep.sum(axis=1)# + df_dt_sep\n",
    "\n",
    "ghg = dt_tmp['CO2']+dt_tmp['CH4']+dt_tmp['N2O'] + dt_tmp['NOx'] +  dt_tmp['VOC'] + dt_tmp['HC']\n",
    "BC_nosnow = 0.077972559347102\n",
    "\n",
    "aer = dt_tmp['SO2']+ dt_tmp['OC'] + dt_tmp['NH3'] + dt_tmp['BC']\n",
    "sum_ghg_aer = ghg + aer\n",
    "sum_ghg_aer\n",
    "scale_by = 1.3/sum_ghg_aer"
   ]
  },
  {
   "cell_type": "markdown",
   "metadata": {},
   "source": [
    "print('GHG:',ghg)\n",
    "print('AER:',aer)\n",
    "print('SUM: ',sum_ghg_aer)\n",
    "print('scale by', scale_by)"
   ]
  },
  {
   "cell_type": "markdown",
   "metadata": {},
   "source": [
    "df_dt_sep = df_dt_sep*scale_by"
   ]
  },
  {
   "cell_type": "markdown",
   "metadata": {},
   "source": [
    "Correct order of variables:"
   ]
  },
  {
   "cell_type": "markdown",
   "metadata": {},
   "source": [
    "## Accounting for non-linearities in ERFaci, we scale down the ERF aci contribution to fit with chapter 7 "
   ]
  },
  {
   "cell_type": "code",
   "execution_count": 42,
   "metadata": {},
   "outputs": [
    {
     "name": "stdout",
     "output_type": "stream",
     "text": [
      "-0.38 -0.5016414232524059\n"
     ]
    },
    {
     "data": {
      "text/plain": [
       "CO2             0.999324\n",
       "CH4_lifetime    0.276170\n",
       "Strat_H2O       0.025020\n",
       "Aerosol        -0.130357\n",
       "Cloud          -0.380000\n",
       "O3              0.254633\n",
       "HC              0.193266\n",
       "N2O             0.098951\n",
       "HFCs            0.018748\n",
       "dtype: float64"
      ]
     },
     "execution_count": 42,
     "metadata": {},
     "output_type": "execute_result"
    }
   ],
   "source": [
    "scal_to = -0.38\n",
    "aci_tot = df_dt_sep.sum()['Cloud']\n",
    "scale_by = scal_to/aci_tot\n",
    "print(scal_to, aci_tot)\n",
    "\n",
    "df_dt_sep['Cloud'] = df_dt_sep['Cloud']*scale_by\n",
    "df_dt_sep.sum()"
   ]
  },
  {
   "cell_type": "code",
   "execution_count": 43,
   "metadata": {},
   "outputs": [],
   "source": [
    "exps_ls = ['CO2', 'CH4', 'N2O', 'HC', 'NOx', 'VOC', 'SO2', 'OC', 'BC', 'NH3']"
   ]
  },
  {
   "cell_type": "code",
   "execution_count": 44,
   "metadata": {},
   "outputs": [],
   "source": [
    "tab_plt_dT = df_dt_sep.loc[::-1,var_dir]#.rename(rename_dic_cat, axis=1).rename(rename_dic_cols, axis=0)\n",
    "tab_plt_dT=tab_plt_dT.loc[exps_ls]\n",
    "tab_plt_dT =tab_plt_dT.rename(rename_dic_cat, axis=1).rename(rename_dic_cols, axis=0)"
   ]
  },
  {
   "cell_type": "code",
   "execution_count": 45,
   "metadata": {},
   "outputs": [
    {
     "name": "stdout",
     "output_type": "stream",
     "text": [
      "(0.9568627450980393, 0.796078431372549, 0.21176470588235294)\n",
      "(0.8274509803921568, 0.0, 0.1568627450980392)\n",
      "(0.47843137254901963, 0.5058823529411764, 0.5058823529411764)\n",
      "(0.21568627450980393, 0.49411764705882355, 0.7215686274509804)\n",
      "(1.0, 0.4196078431372549, 0.07450980392156863)\n",
      "(0.5254901960784314, 0.7803921568627451, 0.29411764705882354)\n",
      "(0.47843137254901963, 0.5058823529411764, 0.5058823529411764)\n",
      "(0.792156862745098, 0.6980392156862745, 0.8392156862745098)\n",
      "(0.5607843137254902, 0.0, 0.6470588235294118)\n"
     ]
    }
   ],
   "source": [
    "cmap = get_cmap_dic(var_dir)\n",
    "col_ls = [cmap[c] for c in cmap.keys()]"
   ]
  },
  {
   "cell_type": "code",
   "execution_count": 46,
   "metadata": {},
   "outputs": [
    {
     "data": {
      "text/plain": [
       "emission_experiment\n",
       "CO$_2$              0.951383\n",
       "CH$_4$              0.601337\n",
       "N$_2$O              0.107349\n",
       "CFC + HCFC + HFC    0.099280\n",
       "NO$_x$             -0.146479\n",
       "NMVOC + CO          0.251278\n",
       "SO$_2$             -0.446421\n",
       "Organic carbon     -0.088798\n",
       "Black carbon        0.041722\n",
       "Ammonia            -0.014895\n",
       "dtype: float64"
      ]
     },
     "execution_count": 46,
     "metadata": {},
     "output_type": "execute_result"
    }
   ],
   "source": [
    "tab_plt_dT.sum(axis=1)"
   ]
  },
  {
   "cell_type": "markdown",
   "metadata": {},
   "source": [
    "### Uncertainties $\\Delta$ GSAT"
   ]
  },
  {
   "cell_type": "code",
   "execution_count": 47,
   "metadata": {
    "lines_to_next_cell": 2
   },
   "outputs": [
    {
     "data": {
      "text/plain": [
       "Ammonia             0.142857\n",
       "Black carbon        3.390870\n",
       "CFC + HCFC + HFC    0.567138\n",
       "CH$_4$              0.151487\n",
       "CO$_2$              0.120000\n",
       "N$_2$O              0.259940\n",
       "NMVOC + CO          0.307679\n",
       "NO$_x$              0.604860\n",
       "Organic carbon      0.674420\n",
       "SO$_2$              0.446698\n",
       "dtype: float64"
      ]
     },
     "execution_count": 47,
     "metadata": {},
     "output_type": "execute_result"
    }
   ],
   "source": [
    "std_ERF =df_err['std']\n",
    "std_ECS_lw_rl = 0.5/3\n",
    "std_ECS_hg_rl = 1/3\n",
    "\n",
    "tot_ERF = tab_plt_ERF.sum(axis=1)\n",
    "std_erf_rl = np.abs(std_ERF/tot_ERF)\n",
    "std_erf_rl"
   ]
  },
  {
   "cell_type": "code",
   "execution_count": 48,
   "metadata": {},
   "outputs": [
    {
     "data": {
      "text/plain": [
       "Species\n",
       "CO$_2$              0.246907\n",
       "CH$_4$              0.182717\n",
       "N$_2$O              0.061899\n",
       "CFC + HCFC + HFC    0.117053\n",
       "NO$_x$              0.173085\n",
       "NMVOC + CO          0.137949\n",
       "SO$_2$              0.401442\n",
       "Organic carbon      0.134342\n",
       "Black carbon        0.213043\n",
       "Ammonia             0.004422\n",
       "Name: std, dtype: float64"
      ]
     },
     "execution_count": 48,
     "metadata": {},
     "output_type": "execute_result"
    }
   ],
   "source": [
    "std_ERF"
   ]
  },
  {
   "cell_type": "code",
   "execution_count": 49,
   "metadata": {},
   "outputs": [
    {
     "data": {
      "text/plain": [
       "emission_experiment\n",
       "Ammonia            -0.030954\n",
       "Black carbon        0.062828\n",
       "Organic carbon     -0.199196\n",
       "SO$_2$             -0.898688\n",
       "NMVOC + CO          0.448353\n",
       "NO$_x$             -0.286158\n",
       "CFC + HCFC + HFC    0.206392\n",
       "N$_2$O              0.238130\n",
       "CH$_4$              1.206157\n",
       "CO$_2$              2.057554\n",
       "dtype: float64"
      ]
     },
     "execution_count": 49,
     "metadata": {},
     "output_type": "execute_result"
    }
   ],
   "source": [
    "tot_ERF"
   ]
  },
  {
   "cell_type": "markdown",
   "metadata": {},
   "source": [
    "\n",
    "\\begin{align*} \n",
    "\\Delta T (t) &= \\int_0^t ERF(t') IRF(t-t') dt' \\\\\n",
    "\\end{align*}"
   ]
  },
  {
   "cell_type": "markdown",
   "metadata": {},
   "source": [
    "most of the uncertainty in the IRF derives from the uncertainty in the climate sensitivity which is said 3 (2.5-4), i.e. relative std 0.5/3 for the lower and 1/3 for the higher. If we treat this as two independent normally distributed variables multiplied together, $X$ and $Y$ and $X \\cdot Y$, we may propagate the uncertainty: \n",
    "\n",
    "\\begin{align*} \n",
    "\\frac{\\sigma_{XY}^2}{(XY)^2} = \\Big[(\\frac{\\sigma_X}{X})^2 + (\\frac{\\sigma_Y}{Y})^2 \\Big]\n",
    "\\end{align*}"
   ]
  },
  {
   "cell_type": "code",
   "execution_count": null,
   "metadata": {},
   "outputs": [],
   "source": []
  },
  {
   "cell_type": "code",
   "execution_count": 50,
   "metadata": {},
   "outputs": [],
   "source": [
    "def rel_sigma_prod(rel_sigmaX,rel_sigmaY):\n",
    "    var_prod_rel =( (rel_sigmaX)**2 + (rel_sigmaY)**2)\n",
    "    rel_sigma_prod = np.sqrt(var_prod_rel)\n",
    "    return rel_sigma_prod\n",
    "\n",
    "rel_sig_lw =  rel_sigma_prod(std_erf_rl, std_ECS_lw_rl)\n",
    "rel_sig_hg =  rel_sigma_prod(std_erf_rl, std_ECS_hg_rl)"
   ]
  },
  {
   "cell_type": "code",
   "execution_count": 51,
   "metadata": {
    "lines_to_next_cell": 2
   },
   "outputs": [],
   "source": [
    "tot_dT = tab_plt_dT.sum(axis=1)[::-1]\n",
    "\n",
    "neg_v =(tot_dT<0)#.squeeze()"
   ]
  },
  {
   "cell_type": "code",
   "execution_count": 52,
   "metadata": {},
   "outputs": [
    {
     "data": {
      "text/plain": [
       "1.645"
      ]
     },
     "execution_count": 52,
     "metadata": {},
     "output_type": "execute_result"
    }
   ],
   "source": [
    "std_2_95th"
   ]
  },
  {
   "cell_type": "code",
   "execution_count": 53,
   "metadata": {},
   "outputs": [
    {
     "data": {
      "text/html": [
       "<div>\n",
       "<style scoped>\n",
       "    .dataframe tbody tr th:only-of-type {\n",
       "        vertical-align: middle;\n",
       "    }\n",
       "\n",
       "    .dataframe tbody tr th {\n",
       "        vertical-align: top;\n",
       "    }\n",
       "\n",
       "    .dataframe thead th {\n",
       "        text-align: right;\n",
       "    }\n",
       "</style>\n",
       "<table border=\"1\" class=\"dataframe\">\n",
       "  <thead>\n",
       "    <tr style=\"text-align: right;\">\n",
       "      <th></th>\n",
       "      <th>min 1 sigma</th>\n",
       "      <th>plus 1 sigma</th>\n",
       "      <th>p50-05</th>\n",
       "      <th>p95-50</th>\n",
       "    </tr>\n",
       "    <tr>\n",
       "      <th>emission_experiment</th>\n",
       "      <th></th>\n",
       "      <th></th>\n",
       "      <th></th>\n",
       "      <th></th>\n",
       "    </tr>\n",
       "  </thead>\n",
       "  <tbody>\n",
       "    <tr>\n",
       "      <th>CO$_2$</th>\n",
       "      <td>0.195388</td>\n",
       "      <td>0.337052</td>\n",
       "      <td>0.321413</td>\n",
       "      <td>0.554450</td>\n",
       "    </tr>\n",
       "    <tr>\n",
       "      <th>CH$_4$</th>\n",
       "      <td>0.135436</td>\n",
       "      <td>0.220174</td>\n",
       "      <td>0.222792</td>\n",
       "      <td>0.362186</td>\n",
       "    </tr>\n",
       "    <tr>\n",
       "      <th>N$_2$O</th>\n",
       "      <td>0.033148</td>\n",
       "      <td>0.045377</td>\n",
       "      <td>0.054528</td>\n",
       "      <td>0.074645</td>\n",
       "    </tr>\n",
       "    <tr>\n",
       "      <th>CFC + HCFC + HFC</th>\n",
       "      <td>0.058687</td>\n",
       "      <td>0.065311</td>\n",
       "      <td>0.096540</td>\n",
       "      <td>0.107436</td>\n",
       "    </tr>\n",
       "    <tr>\n",
       "      <th>NO$_x$</th>\n",
       "      <td>0.101163</td>\n",
       "      <td>0.091901</td>\n",
       "      <td>0.166412</td>\n",
       "      <td>0.151178</td>\n",
       "    </tr>\n",
       "    <tr>\n",
       "      <th>NMVOC + CO</th>\n",
       "      <td>0.087927</td>\n",
       "      <td>0.113987</td>\n",
       "      <td>0.144641</td>\n",
       "      <td>0.187508</td>\n",
       "    </tr>\n",
       "    <tr>\n",
       "      <th>SO$_2$</th>\n",
       "      <td>0.248817</td>\n",
       "      <td>0.212843</td>\n",
       "      <td>0.409304</td>\n",
       "      <td>0.350127</td>\n",
       "    </tr>\n",
       "    <tr>\n",
       "      <th>Organic carbon</th>\n",
       "      <td>0.066803</td>\n",
       "      <td>0.061689</td>\n",
       "      <td>0.109890</td>\n",
       "      <td>0.101478</td>\n",
       "    </tr>\n",
       "    <tr>\n",
       "      <th>Black carbon</th>\n",
       "      <td>0.141643</td>\n",
       "      <td>0.142154</td>\n",
       "      <td>0.233003</td>\n",
       "      <td>0.233844</td>\n",
       "    </tr>\n",
       "    <tr>\n",
       "      <th>Ammonia</th>\n",
       "      <td>0.005402</td>\n",
       "      <td>0.003270</td>\n",
       "      <td>0.008886</td>\n",
       "      <td>0.005379</td>\n",
       "    </tr>\n",
       "  </tbody>\n",
       "</table>\n",
       "</div>"
      ],
      "text/plain": [
       "                     min 1 sigma  plus 1 sigma    p50-05    p95-50\n",
       "emission_experiment                                               \n",
       "CO$_2$                  0.195388      0.337052  0.321413  0.554450\n",
       "CH$_4$                  0.135436      0.220174  0.222792  0.362186\n",
       "N$_2$O                  0.033148      0.045377  0.054528  0.074645\n",
       "CFC + HCFC + HFC        0.058687      0.065311  0.096540  0.107436\n",
       "NO$_x$                  0.101163      0.091901  0.166412  0.151178\n",
       "NMVOC + CO              0.087927      0.113987  0.144641  0.187508\n",
       "SO$_2$                  0.248817      0.212843  0.409304  0.350127\n",
       "Organic carbon          0.066803      0.061689  0.109890  0.101478\n",
       "Black carbon            0.141643      0.142154  0.233003  0.233844\n",
       "Ammonia                 0.005402      0.003270  0.008886  0.005379"
      ]
     },
     "execution_count": 53,
     "metadata": {},
     "output_type": "execute_result"
    }
   ],
   "source": [
    "tot_dT = tab_plt_dT.sum(axis=1)\n",
    "err_dT = pd.DataFrame(index=tot_dT.index)\n",
    "err_dT['min 1 sigma'] = np.abs(tot_dT*rel_sig_lw)#*tot_dT\n",
    "err_dT['plus 1 sigma'] =np.abs(tot_dT*rel_sig_hg)\n",
    "err_dT['plus 1 sigma'][neg_v]=np.abs(tot_dT*rel_sig_lw)[neg_v]#.iloc[neg_v].iloc[neg_v].iloc[neg_v]\n",
    "err_dT['min 1 sigma'][neg_v]=np.abs(tot_dT*rel_sig_hg)[neg_v]#.iloc[neg_v].iloc[neg_v].iloc[neg_v]\n",
    "#err_dT['min 1 sigma'].iloc[neg_v] =np.abs(tot_dT*rel_sig_hg).iloc[neg_v]\n",
    "#err_dT['plus 1 sigma'][neg_v] = np.abs(tot_dT*rel_sig_lw)[neg_v]\n",
    "#err_dT['min 1 sigma'][neg_v] = np.abs(tot_dT*rel_sig_hg)[neg_v]\n",
    "#[::-1]\n",
    "err_dT['p50-05'] = err_dT['min 1 sigma']*std_2_95th\n",
    "err_dT['p95-50'] = err_dT['plus 1 sigma']*std_2_95th\n",
    "err_dT\n",
    "\n",
    "#var_nn_dir = [rename_dic_cols[v] for v in varn]"
   ]
  },
  {
   "cell_type": "code",
   "execution_count": 54,
   "metadata": {
    "lines_to_next_cell": 2
   },
   "outputs": [],
   "source": [
    "from matplotlib.ticker import (MultipleLocator, AutoMinorLocator)"
   ]
  },
  {
   "cell_type": "code",
   "execution_count": 55,
   "metadata": {
    "lines_to_next_cell": 2
   },
   "outputs": [
    {
     "data": {
      "image/png": "[encoded data removed]",
      "text/plain": [
       "<Figure size 3000x1200 with 2 Axes>"
      ]
     },
     "metadata": {
      "needs_background": "light"
     },
     "output_type": "display_data"
    }
   ],
   "source": [
    "sns.set_style()\n",
    "fig, axs = plt.subplots(1,2,dpi=300, figsize=[10,4])#, dpi=150)\n",
    "width=.8\n",
    "kws = {\n",
    "    'width':.8,\n",
    "    'linewidth':.1,\n",
    "    'edgecolor':'k',\n",
    "    \n",
    "}\n",
    "\n",
    "ax=axs[0]\n",
    "ax.axvline(x=0., color='k', linewidth=0.25)\n",
    "\n",
    "tab_plt_ERF.plot.barh(stacked=True, color=col_ls, ax=ax,**kws)\n",
    "#tot = table['Total'][::-1]\n",
    "tot = tab_plt_ERF.sum(axis=1)#tab_plt\n",
    "xerr = df_err['95-50'][::-1]\n",
    "y = np.arange(len(tot))\n",
    "ax.errorbar(tot, y,xerr=xerr,marker='d', linestyle='None', color='k', label='Sum', )\n",
    "#ax.legend(frameon=False)\n",
    "ax.set_ylabel('')\n",
    "\n",
    "\n",
    "for lab, y in zip(tab_plt.index, ybar):\n",
    "        #plt.text(-1.55, ybar[i], species[i],  ha='left')#, va='left')\n",
    "    ax.text(-1.9, y-0.1, lab,  ha='left')#, va='left')\n",
    "ax.set_title('Effective radiative forcing, 1750 to 2019')\n",
    "ax.set_xlabel(r'(W m$^{-2}$)')\n",
    "#ax.set_xlim(-1.5, 2.6)\n",
    "    #plt.xlim(-1.6, 2.0)\n",
    "#sns.despine(fig, left=True, trim=True)\n",
    "ax.legend(loc='lower right', frameon=False)\n",
    "ax.set_yticks([])\n",
    "\n",
    "ax.get_legend().remove()\n",
    "\n",
    "ax.set_xticks(np.arange(-1.5,2.1,.5))\n",
    "ax.set_xticks(np.arange(-1.5,2,.1), minor=True)\n",
    "\n",
    "\n",
    "\n",
    "\n",
    "ax=axs[1]\n",
    "ax.axvline(x=0., color='k', linewidth=0.25)\n",
    "\n",
    "tab_plt_dT[::-1].plot.barh(stacked=True, color=col_ls, ax=ax,**kws)\n",
    "tot = tab_plt_dT.sum(axis=1)[::-1]\n",
    "#xerr =0# df_err['95-50'][::-1]\n",
    "y = np.arange(len(tot))\n",
    "\n",
    "ax.errorbar(tot, y,\n",
    "            xerr=err_dT[['p50-05','p95-50']].loc[tot.index].transpose().values,\n",
    "            #xerr=err_dT[['min 1 sigma','plus 1 sigma']].loc[tot.index].transpose().values,\n",
    "            marker='d', linestyle='None', color='k', label='Sum', )\n",
    "#ax.legend(frameon=False)\n",
    "ax.set_ylabel('')\n",
    "\n",
    "ax.set_title('Change in GSAT, 1750 to 2019')\n",
    "ax.set_xlabel(r'($^{\\circ}$C)')\n",
    "ax.set_xlim(-1.3, 1.8)\n",
    "\n",
    "\n",
    "sns.despine(fig, left=True, trim=True)\n",
    "ax.spines['bottom'].set_bounds(-1.,1.5)\n",
    "ax.legend(loc='lower right', frameon=False)\n",
    "\n",
    "\n",
    "ax.set_xticks(np.arange(-1,2.1,.5))\n",
    "    #ax.xaxis.set_major_locator(MultipleLocator(.5))\n",
    "    \n",
    "ax.set_xticks(np.arange(-1,1.6,.5))\n",
    "ax.set_xticks(np.arange(-1,1.5,.1), minor=True)\n",
    "\n",
    "\n",
    "fn = output_name + '.png'\n",
    "fp = RESULTS_DIR /'figures_historic_attribution_DT'/fn\n",
    "fp.parent.mkdir(parents=True, exist_ok=True)\n",
    "ax.set_yticks([])\n",
    "fig.tight_layout()\n",
    "plt.savefig(fp, dpi=300, bbox_inches='tight')\n",
    "plt.savefig(fp.with_suffix('.pdf'), dpi=300, bbox_inches='tight')\n",
    "plt.savefig(fp.with_suffix('.png'), dpi=300, bbox_inches='tight')\n",
    "plt.show()"
   ]
  },
  {
   "cell_type": "code",
   "execution_count": 56,
   "metadata": {},
   "outputs": [
    {
     "data": {
      "text/plain": [
       "Carbon dioxide (CO$_2$)    2.144647\n",
       "N$_2$O                     0.210000\n",
       "CFC + HCFC                 0.410000\n",
       "HFC                        0.039772\n",
       "Methane (CH$_4$)           0.540000\n",
       "Ozone (O$_3$)              0.470000\n",
       "H$_2$O (strat)             0.050000\n",
       "Aerosol-radiation         -0.220000\n",
       "Aerosol-cloud             -0.840000\n",
       "dtype: float64"
      ]
     },
     "execution_count": 56,
     "metadata": {},
     "output_type": "execute_result"
    }
   ],
   "source": [
    "tab_plt_ERF.sum(axis=0)"
   ]
  },
  {
   "cell_type": "code",
   "execution_count": 57,
   "metadata": {},
   "outputs": [
    {
     "data": {
      "text/plain": [
       "emission_experiment\n",
       "CO$_2$              0.951383\n",
       "CH$_4$              0.601337\n",
       "N$_2$O              0.107349\n",
       "CFC + HCFC + HFC    0.099280\n",
       "NO$_x$             -0.146479\n",
       "NMVOC + CO          0.251278\n",
       "SO$_2$             -0.446421\n",
       "Organic carbon     -0.088798\n",
       "Black carbon        0.041722\n",
       "Ammonia            -0.014895\n",
       "dtype: float64"
      ]
     },
     "execution_count": 57,
     "metadata": {},
     "output_type": "execute_result"
    }
   ],
   "source": [
    "tab_plt_dT.sum(axis=1)"
   ]
  },
  {
   "cell_type": "code",
   "execution_count": 60,
   "metadata": {},
   "outputs": [
    {
     "data": {
      "text/plain": [
       "Carbon dioxide (CO$_2$)    0.999324\n",
       "N$_2$O                     0.098951\n",
       "CFC + HCFC                 0.193266\n",
       "HFC                        0.018748\n",
       "Methane (CH$_4$)           0.276170\n",
       "Ozone (O$_3$)              0.254633\n",
       "H$_2$O (strat)             0.025020\n",
       "Aerosol-radiation         -0.130357\n",
       "Aerosol-cloud             -0.380000\n",
       "dtype: float64"
      ]
     },
     "execution_count": 60,
     "metadata": {},
     "output_type": "execute_result"
    }
   ],
   "source": [
    "tab_plt_dT.sum()"
   ]
  },
  {
   "cell_type": "markdown",
   "metadata": {},
   "source": [
    "### Write vales to csv"
   ]
  },
  {
   "cell_type": "code",
   "execution_count": 58,
   "metadata": {
    "lines_to_next_cell": 2
   },
   "outputs": [],
   "source": [
    "fn = output_name+'_values_ERF.csv'\n",
    "fp = RESULTS_DIR /'figures_historic_attribution_DT'/fn\n",
    "tab_plt_ERF.to_csv(fp)\n",
    "\n",
    "\n",
    "fn = output_name+'_values_ERF_uncertainty.csv'\n",
    "fp = RESULTS_DIR /'figures_historic_attribution_DT'/fn\n",
    "df_err.to_csv(fp)"
   ]
  },
  {
   "cell_type": "code",
   "execution_count": 59,
   "metadata": {
    "lines_to_next_cell": 2
   },
   "outputs": [],
   "source": [
    "fn = output_name+'_values_dT.csv'\n",
    "fp = RESULTS_DIR /'figures_historic_attribution_DT'/fn\n",
    "tab_plt_dT.to_csv(fp)\n",
    "\n",
    "\n",
    "fn = output_name+'_values_dT_uncertainty.csv'\n",
    "fp = RESULTS_DIR /'figures_historic_attribution_DT'/fn\n",
    "err_dT.to_csv(fp)"
   ]
  },
  {
   "cell_type": "code",
   "execution_count": 1,
   "metadata": {},
   "outputs": [
    {
     "data": {
      "text/plain": [
       "0.06282834041479633"
      ]
     },
     "execution_count": 1,
     "metadata": {},
     "output_type": "execute_result"
    }
   ],
   "source": [
    "0.12370661922337993-0.0608782788085836"
   ]
  },
  {
   "cell_type": "code",
   "execution_count": null,
   "metadata": {},
   "outputs": [],
   "source": []
  },
  {
   "cell_type": "code",
   "execution_count": null,
   "metadata": {},
   "outputs": [],
   "source": []
  },
  {
   "cell_type": "code",
   "execution_count": null,
   "metadata": {},
   "outputs": [],
   "source": []
  }
 ],
 "metadata": {
  "jupytext": {
   "encoding": "# -*- coding: utf-8 -*-",
   "text_representation": {
    "extension": ".py",
    "format_name": "percent",
    "format_version": "1.3",
    "jupytext_version": "1.3.3"
   }
  },
  "kernelspec": {
   "display_name": "Python 3",
   "language": "python",
   "name": "python3"
  },
  "language_info": {
   "codemirror_mode": {
    "name": "ipython",
    "version": 3
   },
   "file_extension": ".py",
   "mimetype": "text/x-python",
   "name": "python",
   "nbconvert_exporter": "python",
   "pygments_lexer": "ipython3",
   "version": "3.7.10"
  }
 },
 "nbformat": 4,
 "nbformat_minor": 4
}
