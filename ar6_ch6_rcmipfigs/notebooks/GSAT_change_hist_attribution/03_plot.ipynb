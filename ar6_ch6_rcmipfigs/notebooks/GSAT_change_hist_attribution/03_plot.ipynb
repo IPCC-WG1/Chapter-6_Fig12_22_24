{
 "cells": [
  {
   "cell_type": "code",
   "execution_count": 2,
   "metadata": {},
   "outputs": [
    {
     "name": "stdout",
     "output_type": "stream",
     "text": [
      "/home/sarambl/PHD/IPCC/public/AR6_CH6_RCMIPFIGSv2/ar6_ch6_rcmipfigs\n",
      "/home/sarambl/PHD/IPCC/public/AR6_CH6_RCMIPFIGSv2/ar6_ch6_rcmipfigs/data_in\n"
     ]
    }
   ],
   "source": [
    "import pandas as pd\n",
    "import xarray as xr\n",
    "from IPython.display import clear_output\n",
    "import numpy as np\n",
    "import pandas as pd\n",
    "import matplotlib.pyplot as plt\n",
    "\n",
    "%load_ext autoreload\n",
    "%autoreload 2\n",
    "from ar6_ch6_rcmipfigs.constants import INPUT_DATA_DIR"
   ]
  },
  {
   "cell_type": "code",
   "execution_count": 3,
   "metadata": {},
   "outputs": [],
   "source": [
    "import seaborn as sns"
   ]
  },
  {
   "cell_type": "markdown",
   "metadata": {
    "lines_to_next_cell": 0
   },
   "source": [
    "### General about computing $\\Delta T$:"
   ]
  },
  {
   "cell_type": "markdown",
   "metadata": {},
   "source": [
    "# Code + figures"
   ]
  },
  {
   "cell_type": "markdown",
   "metadata": {},
   "source": [
    "### Path input data"
   ]
  },
  {
   "cell_type": "code",
   "execution_count": 4,
   "metadata": {
    "collapsed": false,
    "jupyter": {
     "outputs_hidden": false
    },
    "lines_to_next_cell": 2,
    "pycharm": {
     "name": "#%%\n"
    }
   },
   "outputs": [],
   "source": [
    "from ar6_ch6_rcmipfigs.constants import OUTPUT_DATA_DIR, RESULTS_DIR, BASE_DIR\n",
    "\n",
    "#PATH_DATASET = OUTPUT_DATA_DIR / 'ERF_data.nc'\n",
    "PATH_DATASET = OUTPUT_DATA_DIR/'historic_delta_GSAT/dT_data_hist_recommendation.nc'\n",
    "\n",
    "\n",
    "\n",
    "\n",
    "\n",
    "\n",
    "fn_erf_decomposition = OUTPUT_DATA_DIR / 'historic_delta_GSAT/hist_ERF_est_decomp.csv'\n",
    "fn_ERF_2019= OUTPUT_DATA_DIR/'historic_delta_GSAT/2019_ERF_est.csv'\n",
    "#fn_output_decomposition = OUTPUT_DATA_DIR / 'historic_delta_GSAT/hist_ERF_est_decomp.csv'"
   ]
  },
  {
   "cell_type": "markdown",
   "metadata": {},
   "source": [
    "## Path output data"
   ]
  },
  {
   "cell_type": "code",
   "execution_count": 5,
   "metadata": {
    "collapsed": false,
    "jupyter": {
     "outputs_hidden": false
    },
    "lines_to_next_cell": 2,
    "pycharm": {
     "name": "#%%\n"
    }
   },
   "outputs": [
    {
     "name": "stdout",
     "output_type": "stream",
     "text": [
      "/home/sarambl/PHD/IPCC/public/AR6_CH6_RCMIPFIGSv2/ar6_ch6_rcmipfigs/data_out/historic_delta_GSAT/dT_data_hist_recommendation.csv\n"
     ]
    }
   ],
   "source": [
    "#PATH_DT_TAB_OUTPUT = RESULTS_DIR / 'tables' / 'table_sens_dT_cs_recommandetion.csv'\n",
    "PATH_DF_OUTPUT = OUTPUT_DATA_DIR / 'historic_delta_GSAT/dT_data_hist_recommendation.csv'\n",
    "\n",
    "print(PATH_DF_OUTPUT)"
   ]
  },
  {
   "cell_type": "markdown",
   "metadata": {},
   "source": [
    "## various definitions"
   ]
  },
  {
   "cell_type": "markdown",
   "metadata": {},
   "source": [
    "Year to integrate from and to:"
   ]
  },
  {
   "cell_type": "code",
   "execution_count": 6,
   "metadata": {},
   "outputs": [],
   "source": [
    "first_y = 1750\n",
    "last_y = 2019"
   ]
  },
  {
   "cell_type": "markdown",
   "metadata": {},
   "source": [
    "**Set reference year for temperature change:**"
   ]
  },
  {
   "cell_type": "code",
   "execution_count": 7,
   "metadata": {},
   "outputs": [],
   "source": [
    "ref_year = 1750"
   ]
  },
  {
   "cell_type": "markdown",
   "metadata": {},
   "source": [
    "### Define variables to look at:"
   ]
  },
  {
   "cell_type": "code",
   "execution_count": 8,
   "metadata": {},
   "outputs": [],
   "source": [
    "# variables to plot:\n",
    "variables_erf_comp = [\n",
    "    'CO2', 'N2O', 'CH4', 'HC', 'NOx', 'SO2', 'BC', 'OC', 'NH3','VOC'\n",
    "]\n",
    "# total ERFs for anthropogenic and total:\n",
    "variables_erf_tot = []\n",
    "variables_all = variables_erf_comp + variables_erf_tot\n",
    "# Scenarios to plot:\n",
    "scenarios_fl = []"
   ]
  },
  {
   "cell_type": "markdown",
   "metadata": {},
   "source": [
    "### Open ERF dataset:"
   ]
  },
  {
   "cell_type": "code",
   "execution_count": 9,
   "metadata": {},
   "outputs": [
    {
     "data": {
      "text/html": [
       "<pre>&lt;xarray.DataArray &#x27;Delta T&#x27; (percentile: 1, variable: 10, year: 270)&gt;\n",
       "array([[[0.000000e+00, 1.446359e-04, ..., 1.062350e+00, 1.083193e+00],\n",
       "        [0.000000e+00, 9.791198e-06, ..., 1.242319e-01, 1.262741e-01],\n",
       "        ...,\n",
       "        [0.000000e+00, 2.272272e-05, ..., 2.796366e-01, 2.765587e-01],\n",
       "        [0.000000e+00, 0.000000e+00, ..., 1.094546e-01, 1.103132e-01]]])\n",
       "Coordinates:\n",
       "  * year        (year) int64 1750 1751 1752 1753 1754 ... 2016 2017 2018 2019\n",
       "  * variable    (variable) object &#x27;CO2&#x27; &#x27;N2O&#x27; &#x27;CH4&#x27; &#x27;NOx&#x27; ... &#x27;NH3&#x27; &#x27;VOC&#x27; &#x27;HC&#x27;\n",
       "  * percentile  (percentile) object &#x27;recommendation&#x27;</pre>"
      ],
      "text/plain": [
       "<xarray.DataArray 'Delta T' (percentile: 1, variable: 10, year: 270)>\n",
       "array([[[0.000000e+00, 1.446359e-04, ..., 1.062350e+00, 1.083193e+00],\n",
       "        [0.000000e+00, 9.791198e-06, ..., 1.242319e-01, 1.262741e-01],\n",
       "        ...,\n",
       "        [0.000000e+00, 2.272272e-05, ..., 2.796366e-01, 2.765587e-01],\n",
       "        [0.000000e+00, 0.000000e+00, ..., 1.094546e-01, 1.103132e-01]]])\n",
       "Coordinates:\n",
       "  * year        (year) int64 1750 1751 1752 1753 1754 ... 2016 2017 2018 2019\n",
       "  * variable    (variable) object 'CO2' 'N2O' 'CH4' 'NOx' ... 'NH3' 'VOC' 'HC'\n",
       "  * percentile  (percentile) object 'recommendation'"
      ]
     },
     "execution_count": 9,
     "metadata": {},
     "output_type": "execute_result"
    }
   ],
   "source": [
    "ds = xr.open_dataset(PATH_DATASET)\n",
    "ds['Delta T']"
   ]
  },
  {
   "cell_type": "code",
   "execution_count": 10,
   "metadata": {},
   "outputs": [
    {
     "data": {
      "text/html": [
       "<pre>&lt;xarray.DataArray &#x27;variable&#x27; (variable: 10)&gt;\n",
       "array([&#x27;CO2&#x27;, &#x27;N2O&#x27;, &#x27;CH4&#x27;, &#x27;NOx&#x27;, &#x27;SO2&#x27;, &#x27;BC&#x27;, &#x27;OC&#x27;, &#x27;NH3&#x27;, &#x27;VOC&#x27;, &#x27;HC&#x27;],\n",
       "      dtype=object)\n",
       "Coordinates:\n",
       "  * variable  (variable) object &#x27;CO2&#x27; &#x27;N2O&#x27; &#x27;CH4&#x27; &#x27;NOx&#x27; ... &#x27;NH3&#x27; &#x27;VOC&#x27; &#x27;HC&#x27;</pre>"
      ],
      "text/plain": [
       "<xarray.DataArray 'variable' (variable: 10)>\n",
       "array(['CO2', 'N2O', 'CH4', 'NOx', 'SO2', 'BC', 'OC', 'NH3', 'VOC', 'HC'],\n",
       "      dtype=object)\n",
       "Coordinates:\n",
       "  * variable  (variable) object 'CO2' 'N2O' 'CH4' 'NOx' ... 'NH3' 'VOC' 'HC'"
      ]
     },
     "execution_count": 10,
     "metadata": {},
     "output_type": "execute_result"
    }
   ],
   "source": [
    "ds['variable']"
   ]
  },
  {
   "cell_type": "code",
   "execution_count": 11,
   "metadata": {},
   "outputs": [
    {
     "data": {
      "application/javascript": [
       "IPython.OutputArea.prototype._should_scroll = function(lines) { return false; }"
      ],
      "text/plain": [
       "<IPython.core.display.Javascript object>"
      ]
     },
     "metadata": {},
     "output_type": "display_data"
    },
    {
     "name": "stdout",
     "output_type": "stream",
     "text": [
      "hallo\n"
     ]
    }
   ],
   "source": [
    "from ar6_ch6_rcmipfigs.utils.plot import get_cmap_dic"
   ]
  },
  {
   "cell_type": "code",
   "execution_count": 12,
   "metadata": {},
   "outputs": [
    {
     "name": "stdout",
     "output_type": "stream",
     "text": [
      "(0.9568627450980393, 0.796078431372549, 0.21176470588235294)\n",
      "(0.8274509803921568, 0.0, 0.1568627450980392)\n",
      "(1.0, 0.4196078431372549, 0.07450980392156863)\n",
      "(0.26666666666666666, 0.0, 0.5254901960784314)\n",
      "(0.3764705882352941, 0.5725490196078431, 0.796078431372549)\n",
      "(0.5411764705882353, 0.2235294117647059, 0.0)\n",
      "(0.4745098039215686, 0.792156862745098, 0.9333333333333333)\n",
      "(0.0, 0.6901960784313725, 0.6039215686274509)\n",
      "(0.0, 0.5019607843137255, 0.23137254901960785)\n",
      "(0.47843137254901963, 0.5058823529411764, 0.5058823529411764)\n"
     ]
    }
   ],
   "source": [
    "cols = get_cmap_dic(ds['variable'].values)"
   ]
  },
  {
   "cell_type": "code",
   "execution_count": 13,
   "metadata": {},
   "outputs": [
    {
     "data": {
      "image/png": "[encoded data removed]",
      "text/plain": [
       "<Figure size 432x432 with 2 Axes>"
      ]
     },
     "metadata": {
      "needs_background": "light"
     },
     "output_type": "display_data"
    }
   ],
   "source": [
    "fig, axs = plt.subplots(2, sharex=True, figsize=[6,6])\n",
    "\n",
    "ax_erf = axs[0]\n",
    "ax_dT = axs[1]\n",
    "for v in ds['variable'].values:\n",
    "    ds.sel(variable=v)['Delta T'].plot(ax=ax_dT, label=v, c=cols[v])\n",
    "    ds.sel(variable=v)['ERF'].plot(ax=ax_erf, c=cols[v])\n",
    "ds.sum('variable')['Delta T'].plot(ax=ax_dT, label='Sum', c='k',linewidth=2)\n",
    "ds.sum('variable')['ERF'].plot(ax=ax_erf, c='k',linewidth=2)\n",
    "    \n",
    "ax_dT.set_title('Temperature change')\n",
    "ax_erf.set_title('ERF')\n",
    "ax_erf.set_ylabel('ERF [W m$^{-2}$]')\n",
    "ax_dT.set_ylabel('$\\Delta$ GSAT [$^{\\circ}$C]')\n",
    "ax_erf.set_xlabel('')\n",
    "ax_dT.legend(ncol=4, loc='upper left', frameon=False)\n",
    "plt.tight_layout()\n",
    "fig.savefig('hist_timeseries_ERF_dT.png', dpi=300)"
   ]
  },
  {
   "cell_type": "code",
   "execution_count": 14,
   "metadata": {},
   "outputs": [
    {
     "data": {
      "image/png": "[encoded data removed]",
      "text/plain": [
       "<Figure size 432x432 with 2 Axes>"
      ]
     },
     "metadata": {
      "needs_background": "light"
     },
     "output_type": "display_data"
    }
   ],
   "source": [
    "fig, axs = plt.subplots(2, sharex=True, figsize=[6,6])\n",
    "\n",
    "ax_erf = axs[0]\n",
    "ax_dT = axs[1]\n",
    "for v in ds['variable'].values:\n",
    "    ds.sel(variable=v)['Delta T'].plot(ax=ax_dT, label=v, c=cols[v])\n",
    "    ds.sel(variable=v)['ERF'].plot(ax=ax_erf, c=cols[v])\n",
    "ax_dT.set_title('Temperature change')\n",
    "ax_erf.set_title('ERF')\n",
    "ax_erf.set_ylabel('ERF [W m$^{-2}$]')\n",
    "ax_dT.set_ylabel('$\\Delta$ GSAT [$^{\\circ}$C]')\n",
    "ax_erf.set_xlabel('')\n",
    "ax_dT.legend(ncol=4, loc='upper left', frameon=False)\n",
    "plt.tight_layout()"
   ]
  },
  {
   "cell_type": "code",
   "execution_count": 15,
   "metadata": {},
   "outputs": [
    {
     "data": {
      "text/plain": [
       "Text(0,0.5,'$\\\\Delta$ T ($^\\\\circ$ C)')"
      ]
     },
     "execution_count": 15,
     "metadata": {},
     "output_type": "execute_result"
    },
    {
     "data": {
      "image/png": "[encoded data removed]",
      "text/plain": [
       "<Figure size 720x360 with 1 Axes>"
      ]
     },
     "metadata": {
      "needs_background": "light"
     },
     "output_type": "display_data"
    }
   ],
   "source": [
    "df_deltaT = ds['Delta T'].squeeze().drop('percentile').to_dataframe().unstack('variable')['Delta T']\n",
    "fig, ax = plt.subplots(figsize=[10,5])\n",
    "for v in variables_all:\n",
    "    df_deltaT[variables_all][v].plot(linewidth=3,ax = ax, label=v, color=cols[v])#, color=cols.items())\n",
    "plt.legend(loc='upper left')\n",
    "plt.ylabel('$\\Delta$ T ($^\\circ$ C)')"
   ]
  },
  {
   "cell_type": "code",
   "execution_count": 16,
   "metadata": {
    "lines_to_next_cell": 2
   },
   "outputs": [
    {
     "data": {
      "text/plain": [
       "[(0.5411764705882353, 0.2235294117647059, 0.0),\n",
       " (1.0, 0.4196078431372549, 0.07450980392156863),\n",
       " (0.9568627450980393, 0.796078431372549, 0.21176470588235294),\n",
       " (0.47843137254901963, 0.5058823529411764, 0.5058823529411764),\n",
       " (0.8274509803921568, 0.0, 0.1568627450980392),\n",
       " (0.0, 0.6901960784313725, 0.6039215686274509),\n",
       " (0.26666666666666666, 0.0, 0.5254901960784314),\n",
       " (0.4745098039215686, 0.792156862745098, 0.9333333333333333),\n",
       " (0.3764705882352941, 0.5725490196078431, 0.796078431372549),\n",
       " (0.0, 0.5019607843137255, 0.23137254901960785)]"
      ]
     },
     "execution_count": 16,
     "metadata": {},
     "output_type": "execute_result"
    }
   ],
   "source": [
    "col_list = [cols[c] for c in df_deltaT.columns]\n",
    "col_list"
   ]
  },
  {
   "cell_type": "code",
   "execution_count": 17,
   "metadata": {},
   "outputs": [],
   "source": [
    "import seaborn as sns"
   ]
  },
  {
   "cell_type": "code",
   "execution_count": 18,
   "metadata": {},
   "outputs": [
    {
     "data": {
      "image/png": "[encoded data removed]",
      "text/plain": [
       "<Figure size 720x360 with 1 Axes>"
      ]
     },
     "metadata": {
      "needs_background": "light"
     },
     "output_type": "display_data"
    }
   ],
   "source": [
    "df_deltaT = ds['Delta T'].squeeze().drop('percentile').to_dataframe().unstack('variable')['Delta T']\n",
    "\n",
    "fig, ax = plt.subplots(figsize=[10,5])\n",
    "ax.hlines(0,1740,2028, linestyle='solid',alpha=0.9, color='k', linewidth=0.5)#.sum(axis=1).plot(linestyle='dashed', color='k', linewidth=3)\n",
    "\n",
    "df_deltaT.plot.area( color=col_list, ax=ax)\n",
    "df_deltaT.sum(axis=1).plot(linestyle='dashed', color='k', linewidth=3, label='Sum')\n",
    "plt.legend(loc='upper left',ncol=3, frameon=False)\n",
    "plt.ylabel('$\\Delta$ GSAT ($^\\circ$ C)')\n",
    "ax.set_xlim([1740,2028])\n",
    "sns.despine()"
   ]
  },
  {
   "cell_type": "code",
   "execution_count": 19,
   "metadata": {
    "lines_to_next_cell": 2
   },
   "outputs": [],
   "source": [
    "import seaborn as sns"
   ]
  },
  {
   "cell_type": "code",
   "execution_count": 20,
   "metadata": {},
   "outputs": [
    {
     "data": {
      "image/png": "[encoded data removed]",
      "text/plain": [
       "<Figure size 432x288 with 1 Axes>"
      ]
     },
     "metadata": {
      "needs_background": "light"
     },
     "output_type": "display_data"
    }
   ],
   "source": [
    "fig, ax = plt.subplots()\n",
    "ax.vlines(0,-1,3, linestyle='dashed',alpha=0.4)\n",
    "yrs = [1950,1960,1970,1980,1990,2000, 2019,]\n",
    "labs ={y:f'{y}-1750' for y in yrs}\n",
    "df_deltaT.loc[yrs].rename(labs,axis=0).plot.barh(stacked=True, color=col_list, ax=ax)\n",
    "plt.legend(frameon=False)\n",
    "sns.despine(fig, left=True)\n",
    "ax.set_xlim([-1,2.3])\n",
    "ax.set_xlabel('$\\Delta$GSAT$^\\circ$C')\n",
    "ax.set_ylabel('')\n",
    "plt.show()"
   ]
  },
  {
   "cell_type": "markdown",
   "metadata": {},
   "source": [
    "# Split up into components"
   ]
  },
  {
   "cell_type": "markdown",
   "metadata": {},
   "source": [
    "We use the original split up in ERF from Thornhill/Bill Collin's plot "
   ]
  },
  {
   "cell_type": "code",
   "execution_count": 21,
   "metadata": {},
   "outputs": [],
   "source": [
    "from ar6_ch6_rcmipfigs.constants import BASE_DIR, OUTPUT_DATA_DIR\n",
    "# file path table of ERF 2019-1750\n",
    "\n",
    "fp_collins =RESULTS_DIR/'tables_historic_attribution/table_mean_smb_orignames.csv'\n",
    "fp_collins_sd = RESULTS_DIR/'tables_historic_attribution/table_std_smb_orignames.csv'"
   ]
  },
  {
   "cell_type": "code",
   "execution_count": 22,
   "metadata": {},
   "outputs": [],
   "source": [
    "fn_est_ERF = OUTPUT_DATA_DIR/'historic_delta_GSAT/hist_ERF_est.csv'"
   ]
  },
  {
   "cell_type": "code",
   "execution_count": 23,
   "metadata": {},
   "outputs": [],
   "source": [
    "import pandas as pd"
   ]
  },
  {
   "cell_type": "code",
   "execution_count": 24,
   "metadata": {
    "lines_to_next_cell": 2
   },
   "outputs": [],
   "source": [
    "fn_erf_decomposition = OUTPUT_DATA_DIR / 'historic_delta_GSAT/hist_ERF_est_decomp.csv'\n",
    "fn_ERF_2019= OUTPUT_DATA_DIR/'historic_delta_GSAT/2019_ERF_est.csv'"
   ]
  },
  {
   "cell_type": "code",
   "execution_count": 38,
   "metadata": {},
   "outputs": [
    {
     "data": {
      "text/html": [
       "<div>\n",
       "<style scoped>\n",
       "    .dataframe tbody tr th:only-of-type {\n",
       "        vertical-align: middle;\n",
       "    }\n",
       "\n",
       "    .dataframe tbody tr th {\n",
       "        vertical-align: top;\n",
       "    }\n",
       "\n",
       "    .dataframe thead th {\n",
       "        text-align: right;\n",
       "    }\n",
       "</style>\n",
       "<table border=\"1\" class=\"dataframe\">\n",
       "  <thead>\n",
       "    <tr style=\"text-align: right;\">\n",
       "      <th></th>\n",
       "      <th>CO2</th>\n",
       "      <th>CH4_lifetime</th>\n",
       "      <th>Strat_H2O</th>\n",
       "      <th>Aerosol</th>\n",
       "      <th>Cloud</th>\n",
       "      <th>O3</th>\n",
       "      <th>HC</th>\n",
       "      <th>N2O</th>\n",
       "      <th>HFCs</th>\n",
       "    </tr>\n",
       "    <tr>\n",
       "      <th>emission_experiment</th>\n",
       "      <th></th>\n",
       "      <th></th>\n",
       "      <th></th>\n",
       "      <th></th>\n",
       "      <th></th>\n",
       "      <th></th>\n",
       "      <th></th>\n",
       "      <th></th>\n",
       "      <th></th>\n",
       "    </tr>\n",
       "  </thead>\n",
       "  <tbody>\n",
       "    <tr>\n",
       "      <th>CO2</th>\n",
       "      <td>2.057554</td>\n",
       "      <td>0.000000</td>\n",
       "      <td>0.00</td>\n",
       "      <td>0.000000</td>\n",
       "      <td>0.000000</td>\n",
       "      <td>0.000000</td>\n",
       "      <td>0.00</td>\n",
       "      <td>0.00</td>\n",
       "      <td>0.000000</td>\n",
       "    </tr>\n",
       "    <tr>\n",
       "      <th>CH4</th>\n",
       "      <td>0.017549</td>\n",
       "      <td>0.844457</td>\n",
       "      <td>0.05</td>\n",
       "      <td>-0.003448</td>\n",
       "      <td>0.017625</td>\n",
       "      <td>0.279179</td>\n",
       "      <td>0.00</td>\n",
       "      <td>0.00</td>\n",
       "      <td>0.000000</td>\n",
       "    </tr>\n",
       "    <tr>\n",
       "      <th>N2O</th>\n",
       "      <td>0.000000</td>\n",
       "      <td>-0.035967</td>\n",
       "      <td>0.00</td>\n",
       "      <td>-0.002717</td>\n",
       "      <td>0.040667</td>\n",
       "      <td>0.024311</td>\n",
       "      <td>0.00</td>\n",
       "      <td>0.21</td>\n",
       "      <td>0.000000</td>\n",
       "    </tr>\n",
       "    <tr>\n",
       "      <th>HC</th>\n",
       "      <td>0.000053</td>\n",
       "      <td>-0.050927</td>\n",
       "      <td>0.00</td>\n",
       "      <td>-0.010501</td>\n",
       "      <td>-0.016667</td>\n",
       "      <td>-0.164586</td>\n",
       "      <td>0.41</td>\n",
       "      <td>0.00</td>\n",
       "      <td>0.039772</td>\n",
       "    </tr>\n",
       "    <tr>\n",
       "      <th>NOx</th>\n",
       "      <td>0.000000</td>\n",
       "      <td>-0.380025</td>\n",
       "      <td>0.00</td>\n",
       "      <td>-0.011912</td>\n",
       "      <td>-0.013833</td>\n",
       "      <td>0.120237</td>\n",
       "      <td>0.00</td>\n",
       "      <td>0.00</td>\n",
       "      <td>0.000000</td>\n",
       "    </tr>\n",
       "    <tr>\n",
       "      <th>VOC</th>\n",
       "      <td>0.069491</td>\n",
       "      <td>0.162462</td>\n",
       "      <td>0.00</td>\n",
       "      <td>-0.003344</td>\n",
       "      <td>0.008500</td>\n",
       "      <td>0.210860</td>\n",
       "      <td>0.00</td>\n",
       "      <td>0.00</td>\n",
       "      <td>0.000000</td>\n",
       "    </tr>\n",
       "    <tr>\n",
       "      <th>SO2</th>\n",
       "      <td>0.000000</td>\n",
       "      <td>0.000000</td>\n",
       "      <td>0.00</td>\n",
       "      <td>-0.214702</td>\n",
       "      <td>-0.654434</td>\n",
       "      <td>0.000000</td>\n",
       "      <td>0.00</td>\n",
       "      <td>0.00</td>\n",
       "      <td>0.000000</td>\n",
       "    </tr>\n",
       "    <tr>\n",
       "      <th>OC</th>\n",
       "      <td>0.000000</td>\n",
       "      <td>0.000000</td>\n",
       "      <td>0.00</td>\n",
       "      <td>-0.066129</td>\n",
       "      <td>-0.127318</td>\n",
       "      <td>0.000000</td>\n",
       "      <td>0.00</td>\n",
       "      <td>0.00</td>\n",
       "      <td>0.000000</td>\n",
       "    </tr>\n",
       "    <tr>\n",
       "      <th>BC</th>\n",
       "      <td>0.000000</td>\n",
       "      <td>0.000000</td>\n",
       "      <td>0.00</td>\n",
       "      <td>0.123707</td>\n",
       "      <td>-0.058248</td>\n",
       "      <td>0.000000</td>\n",
       "      <td>0.00</td>\n",
       "      <td>0.00</td>\n",
       "      <td>0.000000</td>\n",
       "    </tr>\n",
       "    <tr>\n",
       "      <th>NH3</th>\n",
       "      <td>0.000000</td>\n",
       "      <td>0.000000</td>\n",
       "      <td>0.00</td>\n",
       "      <td>-0.030954</td>\n",
       "      <td>0.000000</td>\n",
       "      <td>0.000000</td>\n",
       "      <td>0.00</td>\n",
       "      <td>0.00</td>\n",
       "      <td>0.000000</td>\n",
       "    </tr>\n",
       "  </tbody>\n",
       "</table>\n",
       "</div>"
      ],
      "text/plain": [
       "                          CO2  CH4_lifetime  Strat_H2O   Aerosol     Cloud  \\\n",
       "emission_experiment                                                          \n",
       "CO2                  2.057554      0.000000       0.00  0.000000  0.000000   \n",
       "CH4                  0.017549      0.844457       0.05 -0.003448  0.017625   \n",
       "N2O                  0.000000     -0.035967       0.00 -0.002717  0.040667   \n",
       "HC                   0.000053     -0.050927       0.00 -0.010501 -0.016667   \n",
       "NOx                  0.000000     -0.380025       0.00 -0.011912 -0.013833   \n",
       "VOC                  0.069491      0.162462       0.00 -0.003344  0.008500   \n",
       "SO2                  0.000000      0.000000       0.00 -0.214702 -0.654434   \n",
       "OC                   0.000000      0.000000       0.00 -0.066129 -0.127318   \n",
       "BC                   0.000000      0.000000       0.00  0.123707 -0.058248   \n",
       "NH3                  0.000000      0.000000       0.00 -0.030954  0.000000   \n",
       "\n",
       "                           O3    HC   N2O      HFCs  \n",
       "emission_experiment                                  \n",
       "CO2                  0.000000  0.00  0.00  0.000000  \n",
       "CH4                  0.279179  0.00  0.00  0.000000  \n",
       "N2O                  0.024311  0.00  0.21  0.000000  \n",
       "HC                  -0.164586  0.41  0.00  0.039772  \n",
       "NOx                  0.120237  0.00  0.00  0.000000  \n",
       "VOC                  0.210860  0.00  0.00  0.000000  \n",
       "SO2                  0.000000  0.00  0.00  0.000000  \n",
       "OC                   0.000000  0.00  0.00  0.000000  \n",
       "BC                   0.000000  0.00  0.00  0.000000  \n",
       "NH3                  0.000000  0.00  0.00  0.000000  "
      ]
     },
     "execution_count": 38,
     "metadata": {},
     "output_type": "execute_result"
    }
   ],
   "source": [
    "df_collins = pd.read_csv(fn_ERF_2019, index_col=0)\n",
    "df_collins.index = df_collins.index.rename('emission_experiment')\n",
    "df_collins_sd = pd.read_csv(fp_collins_sd, index_col=0)\n",
    "df_collins"
   ]
  },
  {
   "cell_type": "markdown",
   "metadata": {},
   "source": [
    "## don't add HFCs together with HC"
   ]
  },
  {
   "cell_type": "code",
   "execution_count": 37,
   "metadata": {},
   "outputs": [],
   "source": [
    "#hfcs = df_collins['HFCs']\n",
    "#df_collins = df_collins.drop('HFCs', axis=1)\n",
    "#df_collins['HC'] = df_collins['HC'] + hfcs\n",
    "#df_collins"
   ]
  },
  {
   "cell_type": "code",
   "execution_count": 41,
   "metadata": {},
   "outputs": [],
   "source": [
    "varn = ['co2','N2O','HC','HFCs','ch4','o3','H2O_strat','ari','aci']\n",
    "var_dir = ['CO2','N2O','HC','HFCs','CH4_lifetime','O3','Strat_H2O','Aerosol','Cloud']"
   ]
  },
  {
   "cell_type": "code",
   "execution_count": 42,
   "metadata": {
    "lines_to_next_cell": 2
   },
   "outputs": [
    {
     "data": {
      "text/html": [
       "<div>\n",
       "<style scoped>\n",
       "    .dataframe tbody tr th:only-of-type {\n",
       "        vertical-align: middle;\n",
       "    }\n",
       "\n",
       "    .dataframe tbody tr th {\n",
       "        vertical-align: top;\n",
       "    }\n",
       "\n",
       "    .dataframe thead th {\n",
       "        text-align: right;\n",
       "    }\n",
       "</style>\n",
       "<table border=\"1\" class=\"dataframe\">\n",
       "  <thead>\n",
       "    <tr style=\"text-align: right;\">\n",
       "      <th></th>\n",
       "      <th>Carbon dioxide (CO$_2$)</th>\n",
       "      <th>N$_2$O</th>\n",
       "      <th>CFC + HCFC</th>\n",
       "      <th>HFC</th>\n",
       "      <th>Methane (CH$_4$)</th>\n",
       "      <th>Ozone (O$_3$)</th>\n",
       "      <th>H$_2$O (strat)</th>\n",
       "      <th>Aerosol-radiation</th>\n",
       "      <th>Aerosol-cloud</th>\n",
       "    </tr>\n",
       "    <tr>\n",
       "      <th>emission_experiment</th>\n",
       "      <th></th>\n",
       "      <th></th>\n",
       "      <th></th>\n",
       "      <th></th>\n",
       "      <th></th>\n",
       "      <th></th>\n",
       "      <th></th>\n",
       "      <th></th>\n",
       "      <th></th>\n",
       "    </tr>\n",
       "  </thead>\n",
       "  <tbody>\n",
       "    <tr>\n",
       "      <th>Ammonia</th>\n",
       "      <td>0.000000</td>\n",
       "      <td>0.00</td>\n",
       "      <td>0.00</td>\n",
       "      <td>0.000000</td>\n",
       "      <td>0.000000</td>\n",
       "      <td>0.000000</td>\n",
       "      <td>0.00</td>\n",
       "      <td>-0.030954</td>\n",
       "      <td>0.000000</td>\n",
       "    </tr>\n",
       "    <tr>\n",
       "      <th>Black carbon</th>\n",
       "      <td>0.000000</td>\n",
       "      <td>0.00</td>\n",
       "      <td>0.00</td>\n",
       "      <td>0.000000</td>\n",
       "      <td>0.000000</td>\n",
       "      <td>0.000000</td>\n",
       "      <td>0.00</td>\n",
       "      <td>0.123707</td>\n",
       "      <td>-0.058248</td>\n",
       "    </tr>\n",
       "    <tr>\n",
       "      <th>Organic carbon</th>\n",
       "      <td>0.000000</td>\n",
       "      <td>0.00</td>\n",
       "      <td>0.00</td>\n",
       "      <td>0.000000</td>\n",
       "      <td>0.000000</td>\n",
       "      <td>0.000000</td>\n",
       "      <td>0.00</td>\n",
       "      <td>-0.066129</td>\n",
       "      <td>-0.127318</td>\n",
       "    </tr>\n",
       "    <tr>\n",
       "      <th>SO$_2$</th>\n",
       "      <td>0.000000</td>\n",
       "      <td>0.00</td>\n",
       "      <td>0.00</td>\n",
       "      <td>0.000000</td>\n",
       "      <td>0.000000</td>\n",
       "      <td>0.000000</td>\n",
       "      <td>0.00</td>\n",
       "      <td>-0.214702</td>\n",
       "      <td>-0.654434</td>\n",
       "    </tr>\n",
       "    <tr>\n",
       "      <th>NMVOC + CO</th>\n",
       "      <td>0.069491</td>\n",
       "      <td>0.00</td>\n",
       "      <td>0.00</td>\n",
       "      <td>0.000000</td>\n",
       "      <td>0.162462</td>\n",
       "      <td>0.210860</td>\n",
       "      <td>0.00</td>\n",
       "      <td>-0.003344</td>\n",
       "      <td>0.008500</td>\n",
       "    </tr>\n",
       "    <tr>\n",
       "      <th>NO$_x$</th>\n",
       "      <td>0.000000</td>\n",
       "      <td>0.00</td>\n",
       "      <td>0.00</td>\n",
       "      <td>0.000000</td>\n",
       "      <td>-0.380025</td>\n",
       "      <td>0.120237</td>\n",
       "      <td>0.00</td>\n",
       "      <td>-0.011912</td>\n",
       "      <td>-0.013833</td>\n",
       "    </tr>\n",
       "    <tr>\n",
       "      <th>CFC + HCFC + HFC</th>\n",
       "      <td>0.000053</td>\n",
       "      <td>0.00</td>\n",
       "      <td>0.41</td>\n",
       "      <td>0.039772</td>\n",
       "      <td>-0.050927</td>\n",
       "      <td>-0.164586</td>\n",
       "      <td>0.00</td>\n",
       "      <td>-0.010501</td>\n",
       "      <td>-0.016667</td>\n",
       "    </tr>\n",
       "    <tr>\n",
       "      <th>N$_2$O</th>\n",
       "      <td>0.000000</td>\n",
       "      <td>0.21</td>\n",
       "      <td>0.00</td>\n",
       "      <td>0.000000</td>\n",
       "      <td>-0.035967</td>\n",
       "      <td>0.024311</td>\n",
       "      <td>0.00</td>\n",
       "      <td>-0.002717</td>\n",
       "      <td>0.040667</td>\n",
       "    </tr>\n",
       "    <tr>\n",
       "      <th>CH$_4$</th>\n",
       "      <td>0.017549</td>\n",
       "      <td>0.00</td>\n",
       "      <td>0.00</td>\n",
       "      <td>0.000000</td>\n",
       "      <td>0.844457</td>\n",
       "      <td>0.279179</td>\n",
       "      <td>0.05</td>\n",
       "      <td>-0.003448</td>\n",
       "      <td>0.017625</td>\n",
       "    </tr>\n",
       "    <tr>\n",
       "      <th>CO$_2$</th>\n",
       "      <td>2.057554</td>\n",
       "      <td>0.00</td>\n",
       "      <td>0.00</td>\n",
       "      <td>0.000000</td>\n",
       "      <td>0.000000</td>\n",
       "      <td>0.000000</td>\n",
       "      <td>0.00</td>\n",
       "      <td>0.000000</td>\n",
       "      <td>0.000000</td>\n",
       "    </tr>\n",
       "  </tbody>\n",
       "</table>\n",
       "</div>"
      ],
      "text/plain": [
       "                     Carbon dioxide (CO$_2$)  N$_2$O  CFC + HCFC       HFC  \\\n",
       "emission_experiment                                                          \n",
       "Ammonia                             0.000000    0.00        0.00  0.000000   \n",
       "Black carbon                        0.000000    0.00        0.00  0.000000   \n",
       "Organic carbon                      0.000000    0.00        0.00  0.000000   \n",
       "SO$_2$                              0.000000    0.00        0.00  0.000000   \n",
       "NMVOC + CO                          0.069491    0.00        0.00  0.000000   \n",
       "NO$_x$                              0.000000    0.00        0.00  0.000000   \n",
       "CFC + HCFC + HFC                    0.000053    0.00        0.41  0.039772   \n",
       "N$_2$O                              0.000000    0.21        0.00  0.000000   \n",
       "CH$_4$                              0.017549    0.00        0.00  0.000000   \n",
       "CO$_2$                              2.057554    0.00        0.00  0.000000   \n",
       "\n",
       "                     Methane (CH$_4$)  Ozone (O$_3$)  H$_2$O (strat)  \\\n",
       "emission_experiment                                                    \n",
       "Ammonia                      0.000000       0.000000            0.00   \n",
       "Black carbon                 0.000000       0.000000            0.00   \n",
       "Organic carbon               0.000000       0.000000            0.00   \n",
       "SO$_2$                       0.000000       0.000000            0.00   \n",
       "NMVOC + CO                   0.162462       0.210860            0.00   \n",
       "NO$_x$                      -0.380025       0.120237            0.00   \n",
       "CFC + HCFC + HFC            -0.050927      -0.164586            0.00   \n",
       "N$_2$O                      -0.035967       0.024311            0.00   \n",
       "CH$_4$                       0.844457       0.279179            0.05   \n",
       "CO$_2$                       0.000000       0.000000            0.00   \n",
       "\n",
       "                     Aerosol-radiation  Aerosol-cloud  \n",
       "emission_experiment                                    \n",
       "Ammonia                      -0.030954       0.000000  \n",
       "Black carbon                  0.123707      -0.058248  \n",
       "Organic carbon               -0.066129      -0.127318  \n",
       "SO$_2$                       -0.214702      -0.654434  \n",
       "NMVOC + CO                   -0.003344       0.008500  \n",
       "NO$_x$                       -0.011912      -0.013833  \n",
       "CFC + HCFC + HFC             -0.010501      -0.016667  \n",
       "N$_2$O                       -0.002717       0.040667  \n",
       "CH$_4$                       -0.003448       0.017625  \n",
       "CO$_2$                        0.000000       0.000000  "
      ]
     },
     "execution_count": 42,
     "metadata": {},
     "output_type": "execute_result"
    }
   ],
   "source": [
    "rename_dic_cat = {\n",
    "    'CO2':'Carbon dioxide (CO$_2$)',\n",
    "    'GHG':'WMGHG',\n",
    "    'CH4_lifetime': 'Methane (CH$_4$)',\n",
    "    'O3': 'Ozone (O$_3$)',\n",
    "    'Strat_H2O':'H$_2$O (strat)',\n",
    "    'Aerosol':'Aerosol-radiation',\n",
    "    'Cloud':'Aerosol-cloud',\n",
    "    'N2O':'N$_2$O',\n",
    "    'HC':'CFC + HCFC',\n",
    "    'HFCs':'HFC'\n",
    "\n",
    "}\n",
    "rename_dic_cols ={\n",
    "    'CO2':'CO$_2$',\n",
    "    'CH4':'CH$_4$',\n",
    "    'N2O':'N$_2$O',\n",
    "    'HC':'CFC + HCFC + HFC',\n",
    "    'NOx':'NO$_x$',\n",
    "    'VOC':'NMVOC + CO',\n",
    "    'SO2':'SO$_2$',\n",
    "    'OC':'Organic carbon',\n",
    "    'BC':'Black carbon',\n",
    "    'NH3':'Ammonia'\n",
    "}\n",
    "tab_plt_ERF = df_collins.loc[::-1,var_dir].rename(rename_dic_cat, axis=1).rename(rename_dic_cols, axis=0)#.transpose()\n",
    "tab_plt = tab_plt_ERF\n",
    "tab_plt_ERF"
   ]
  },
  {
   "cell_type": "code",
   "execution_count": 43,
   "metadata": {},
   "outputs": [
    {
     "data": {
      "text/html": [
       "<div>\n",
       "<style scoped>\n",
       "    .dataframe tbody tr th:only-of-type {\n",
       "        vertical-align: middle;\n",
       "    }\n",
       "\n",
       "    .dataframe tbody tr th {\n",
       "        vertical-align: top;\n",
       "    }\n",
       "\n",
       "    .dataframe thead th {\n",
       "        text-align: right;\n",
       "    }\n",
       "</style>\n",
       "<table border=\"1\" class=\"dataframe\">\n",
       "  <thead>\n",
       "    <tr style=\"text-align: right;\">\n",
       "      <th></th>\n",
       "      <th>std</th>\n",
       "      <th>SE</th>\n",
       "      <th>95-50_SE</th>\n",
       "      <th>95-50</th>\n",
       "    </tr>\n",
       "    <tr>\n",
       "      <th>Species</th>\n",
       "      <th></th>\n",
       "      <th></th>\n",
       "      <th></th>\n",
       "      <th></th>\n",
       "    </tr>\n",
       "  </thead>\n",
       "  <tbody>\n",
       "    <tr>\n",
       "      <th>CO2</th>\n",
       "      <td>0.246907</td>\n",
       "      <td>NaN</td>\n",
       "      <td>0.246907</td>\n",
       "      <td>0.246907</td>\n",
       "    </tr>\n",
       "    <tr>\n",
       "      <th>CH4</th>\n",
       "      <td>0.182717</td>\n",
       "      <td>0.064600</td>\n",
       "      <td>0.106267</td>\n",
       "      <td>0.300569</td>\n",
       "    </tr>\n",
       "    <tr>\n",
       "      <th>N2O</th>\n",
       "      <td>0.061899</td>\n",
       "      <td>0.027682</td>\n",
       "      <td>0.045537</td>\n",
       "      <td>0.101825</td>\n",
       "    </tr>\n",
       "    <tr>\n",
       "      <th>HC</th>\n",
       "      <td>0.117053</td>\n",
       "      <td>0.047787</td>\n",
       "      <td>0.078609</td>\n",
       "      <td>0.192552</td>\n",
       "    </tr>\n",
       "    <tr>\n",
       "      <th>NOx</th>\n",
       "      <td>0.173085</td>\n",
       "      <td>0.077406</td>\n",
       "      <td>0.127333</td>\n",
       "      <td>0.284725</td>\n",
       "    </tr>\n",
       "    <tr>\n",
       "      <th>VOC</th>\n",
       "      <td>0.137949</td>\n",
       "      <td>0.061693</td>\n",
       "      <td>0.101484</td>\n",
       "      <td>0.226926</td>\n",
       "    </tr>\n",
       "    <tr>\n",
       "      <th>SO2</th>\n",
       "      <td>0.401442</td>\n",
       "      <td>0.163888</td>\n",
       "      <td>0.269596</td>\n",
       "      <td>0.660372</td>\n",
       "    </tr>\n",
       "    <tr>\n",
       "      <th>OC</th>\n",
       "      <td>0.134342</td>\n",
       "      <td>0.054845</td>\n",
       "      <td>0.090220</td>\n",
       "      <td>0.220992</td>\n",
       "    </tr>\n",
       "    <tr>\n",
       "      <th>BC</th>\n",
       "      <td>0.213043</td>\n",
       "      <td>0.080523</td>\n",
       "      <td>0.132460</td>\n",
       "      <td>0.350455</td>\n",
       "    </tr>\n",
       "    <tr>\n",
       "      <th>NH3</th>\n",
       "      <td>0.004422</td>\n",
       "      <td>0.003127</td>\n",
       "      <td>0.005144</td>\n",
       "      <td>0.007274</td>\n",
       "    </tr>\n",
       "  </tbody>\n",
       "</table>\n",
       "</div>"
      ],
      "text/plain": [
       "              std        SE  95-50_SE     95-50\n",
       "Species                                        \n",
       "CO2      0.246907       NaN  0.246907  0.246907\n",
       "CH4      0.182717  0.064600  0.106267  0.300569\n",
       "N2O      0.061899  0.027682  0.045537  0.101825\n",
       "HC       0.117053  0.047787  0.078609  0.192552\n",
       "NOx      0.173085  0.077406  0.127333  0.284725\n",
       "VOC      0.137949  0.061693  0.101484  0.226926\n",
       "SO2      0.401442  0.163888  0.269596  0.660372\n",
       "OC       0.134342  0.054845  0.090220  0.220992\n",
       "BC       0.213043  0.080523  0.132460  0.350455\n",
       "NH3      0.004422  0.003127  0.005144  0.007274"
      ]
     },
     "execution_count": 43,
     "metadata": {},
     "output_type": "execute_result"
    }
   ],
   "source": [
    "import pandas as pd\n",
    "num_mod_lab = 'Number of models (Thornhill 2020)'\n",
    "thornhill = pd.read_csv(INPUT_DATA_DIR/'table2_thornhill2020.csv', index_col=0)\n",
    "thornhill.index = thornhill.index.rename('Species')\n",
    "thornhill\n",
    "\n",
    "std_2_95th = 1.645\n",
    "\n",
    "sd_tot = df_collins_sd['Total_sd']\n",
    "df_err= pd.DataFrame(sd_tot.rename('std'))\n",
    "df_err['SE'] = df_err\n",
    "\n",
    "df_err['SE'] = df_err['std']/np.sqrt(thornhill[num_mod_lab])\n",
    "df_err['95-50_SE'] = df_err['SE']*std_2_95th\n",
    "df_err.loc['CO2','95-50_SE']= df_err.loc['CO2','std']\n",
    "df_err\n",
    "\n",
    "df_err['95-50'] = df_err['std']*std_2_95th\n",
    "df_err.loc['CO2','95-50']= df_err.loc['CO2','std']\n",
    "df_err"
   ]
  },
  {
   "cell_type": "code",
   "execution_count": 44,
   "metadata": {},
   "outputs": [],
   "source": [
    "df_err = df_err.rename(rename_dic_cols, axis=0)"
   ]
  },
  {
   "cell_type": "code",
   "execution_count": 45,
   "metadata": {
    "lines_to_next_cell": 2
   },
   "outputs": [],
   "source": [
    "width = 0.7\n",
    "kwargs = {'linewidth':.1,'edgecolor':'k'}"
   ]
  },
  {
   "cell_type": "code",
   "execution_count": 46,
   "metadata": {},
   "outputs": [
    {
     "data": {
      "text/plain": [
       "array([ 0,  1,  2,  3,  4,  5,  6,  7,  8,  9, 10])"
      ]
     },
     "execution_count": 46,
     "metadata": {},
     "output_type": "execute_result"
    }
   ],
   "source": [
    "ybar = np.arange(len(tab_plt)+1)#, -1)\n",
    "ybar"
   ]
  },
  {
   "cell_type": "markdown",
   "metadata": {},
   "source": [
    "## Scale delta GSAT by ERF "
   ]
  },
  {
   "cell_type": "markdown",
   "metadata": {},
   "source": [
    "### Source of delta T equal to source of ERF"
   ]
  },
  {
   "cell_type": "code",
   "execution_count": 47,
   "metadata": {},
   "outputs": [
    {
     "data": {
      "text/html": [
       "<div>\n",
       "<style scoped>\n",
       "    .dataframe tbody tr th:only-of-type {\n",
       "        vertical-align: middle;\n",
       "    }\n",
       "\n",
       "    .dataframe tbody tr th {\n",
       "        vertical-align: top;\n",
       "    }\n",
       "\n",
       "    .dataframe thead th {\n",
       "        text-align: right;\n",
       "    }\n",
       "</style>\n",
       "<table border=\"1\" class=\"dataframe\">\n",
       "  <thead>\n",
       "    <tr style=\"text-align: right;\">\n",
       "      <th></th>\n",
       "      <th>CO2</th>\n",
       "      <th>CH4_lifetime</th>\n",
       "      <th>Strat_H2O</th>\n",
       "      <th>Aerosol</th>\n",
       "      <th>Cloud</th>\n",
       "      <th>O3</th>\n",
       "      <th>HC</th>\n",
       "      <th>N2O</th>\n",
       "      <th>HFCs</th>\n",
       "    </tr>\n",
       "    <tr>\n",
       "      <th>emission_experiment</th>\n",
       "      <th></th>\n",
       "      <th></th>\n",
       "      <th></th>\n",
       "      <th></th>\n",
       "      <th></th>\n",
       "      <th></th>\n",
       "      <th></th>\n",
       "      <th></th>\n",
       "      <th></th>\n",
       "    </tr>\n",
       "  </thead>\n",
       "  <tbody>\n",
       "    <tr>\n",
       "      <th>CO2</th>\n",
       "      <td>2.057554</td>\n",
       "      <td>0.000000</td>\n",
       "      <td>0.00</td>\n",
       "      <td>0.000000</td>\n",
       "      <td>0.000000</td>\n",
       "      <td>0.000000</td>\n",
       "      <td>0.00</td>\n",
       "      <td>0.00</td>\n",
       "      <td>0.000000</td>\n",
       "    </tr>\n",
       "    <tr>\n",
       "      <th>CH4</th>\n",
       "      <td>0.017549</td>\n",
       "      <td>0.844457</td>\n",
       "      <td>0.05</td>\n",
       "      <td>-0.003448</td>\n",
       "      <td>0.017625</td>\n",
       "      <td>0.279179</td>\n",
       "      <td>0.00</td>\n",
       "      <td>0.00</td>\n",
       "      <td>0.000000</td>\n",
       "    </tr>\n",
       "    <tr>\n",
       "      <th>N2O</th>\n",
       "      <td>0.000000</td>\n",
       "      <td>-0.035967</td>\n",
       "      <td>0.00</td>\n",
       "      <td>-0.002717</td>\n",
       "      <td>0.040667</td>\n",
       "      <td>0.024311</td>\n",
       "      <td>0.00</td>\n",
       "      <td>0.21</td>\n",
       "      <td>0.000000</td>\n",
       "    </tr>\n",
       "    <tr>\n",
       "      <th>HC</th>\n",
       "      <td>0.000053</td>\n",
       "      <td>-0.050927</td>\n",
       "      <td>0.00</td>\n",
       "      <td>-0.010501</td>\n",
       "      <td>-0.016667</td>\n",
       "      <td>-0.164586</td>\n",
       "      <td>0.41</td>\n",
       "      <td>0.00</td>\n",
       "      <td>0.039772</td>\n",
       "    </tr>\n",
       "    <tr>\n",
       "      <th>NOx</th>\n",
       "      <td>0.000000</td>\n",
       "      <td>-0.380025</td>\n",
       "      <td>0.00</td>\n",
       "      <td>-0.011912</td>\n",
       "      <td>-0.013833</td>\n",
       "      <td>0.120237</td>\n",
       "      <td>0.00</td>\n",
       "      <td>0.00</td>\n",
       "      <td>0.000000</td>\n",
       "    </tr>\n",
       "    <tr>\n",
       "      <th>VOC</th>\n",
       "      <td>0.069491</td>\n",
       "      <td>0.162462</td>\n",
       "      <td>0.00</td>\n",
       "      <td>-0.003344</td>\n",
       "      <td>0.008500</td>\n",
       "      <td>0.210860</td>\n",
       "      <td>0.00</td>\n",
       "      <td>0.00</td>\n",
       "      <td>0.000000</td>\n",
       "    </tr>\n",
       "    <tr>\n",
       "      <th>SO2</th>\n",
       "      <td>0.000000</td>\n",
       "      <td>0.000000</td>\n",
       "      <td>0.00</td>\n",
       "      <td>-0.214702</td>\n",
       "      <td>-0.654434</td>\n",
       "      <td>0.000000</td>\n",
       "      <td>0.00</td>\n",
       "      <td>0.00</td>\n",
       "      <td>0.000000</td>\n",
       "    </tr>\n",
       "    <tr>\n",
       "      <th>OC</th>\n",
       "      <td>0.000000</td>\n",
       "      <td>0.000000</td>\n",
       "      <td>0.00</td>\n",
       "      <td>-0.066129</td>\n",
       "      <td>-0.127318</td>\n",
       "      <td>0.000000</td>\n",
       "      <td>0.00</td>\n",
       "      <td>0.00</td>\n",
       "      <td>0.000000</td>\n",
       "    </tr>\n",
       "    <tr>\n",
       "      <th>BC</th>\n",
       "      <td>0.000000</td>\n",
       "      <td>0.000000</td>\n",
       "      <td>0.00</td>\n",
       "      <td>0.123707</td>\n",
       "      <td>-0.058248</td>\n",
       "      <td>0.000000</td>\n",
       "      <td>0.00</td>\n",
       "      <td>0.00</td>\n",
       "      <td>0.000000</td>\n",
       "    </tr>\n",
       "    <tr>\n",
       "      <th>NH3</th>\n",
       "      <td>0.000000</td>\n",
       "      <td>0.000000</td>\n",
       "      <td>0.00</td>\n",
       "      <td>-0.030954</td>\n",
       "      <td>0.000000</td>\n",
       "      <td>0.000000</td>\n",
       "      <td>0.00</td>\n",
       "      <td>0.00</td>\n",
       "      <td>0.000000</td>\n",
       "    </tr>\n",
       "  </tbody>\n",
       "</table>\n",
       "</div>"
      ],
      "text/plain": [
       "                          CO2  CH4_lifetime  Strat_H2O   Aerosol     Cloud  \\\n",
       "emission_experiment                                                          \n",
       "CO2                  2.057554      0.000000       0.00  0.000000  0.000000   \n",
       "CH4                  0.017549      0.844457       0.05 -0.003448  0.017625   \n",
       "N2O                  0.000000     -0.035967       0.00 -0.002717  0.040667   \n",
       "HC                   0.000053     -0.050927       0.00 -0.010501 -0.016667   \n",
       "NOx                  0.000000     -0.380025       0.00 -0.011912 -0.013833   \n",
       "VOC                  0.069491      0.162462       0.00 -0.003344  0.008500   \n",
       "SO2                  0.000000      0.000000       0.00 -0.214702 -0.654434   \n",
       "OC                   0.000000      0.000000       0.00 -0.066129 -0.127318   \n",
       "BC                   0.000000      0.000000       0.00  0.123707 -0.058248   \n",
       "NH3                  0.000000      0.000000       0.00 -0.030954  0.000000   \n",
       "\n",
       "                           O3    HC   N2O      HFCs  \n",
       "emission_experiment                                  \n",
       "CO2                  0.000000  0.00  0.00  0.000000  \n",
       "CH4                  0.279179  0.00  0.00  0.000000  \n",
       "N2O                  0.024311  0.00  0.21  0.000000  \n",
       "HC                  -0.164586  0.41  0.00  0.039772  \n",
       "NOx                  0.120237  0.00  0.00  0.000000  \n",
       "VOC                  0.210860  0.00  0.00  0.000000  \n",
       "SO2                  0.000000  0.00  0.00  0.000000  \n",
       "OC                   0.000000  0.00  0.00  0.000000  \n",
       "BC                   0.000000  0.00  0.00  0.000000  \n",
       "NH3                  0.000000  0.00  0.00  0.000000  "
      ]
     },
     "execution_count": 47,
     "metadata": {},
     "output_type": "execute_result"
    }
   ],
   "source": [
    "df_collins"
   ]
  },
  {
   "cell_type": "code",
   "execution_count": 48,
   "metadata": {},
   "outputs": [
    {
     "data": {
      "text/plain": [
       "<matplotlib.axes._subplots.AxesSubplot at 0x7f66da07ba50>"
      ]
     },
     "execution_count": 48,
     "metadata": {},
     "output_type": "execute_result"
    },
    {
     "data": {
      "image/png": "[encoded data removed]",
      "text/plain": [
       "<Figure size 432x288 with 1 Axes>"
      ]
     },
     "metadata": {
      "needs_background": "light"
     },
     "output_type": "display_data"
    }
   ],
   "source": [
    "dT_2019 = pd.DataFrame(df_deltaT.loc[2019])\n",
    "dT_2019.index= dT_2019.index.rename('emission_experiment')\n",
    "df_coll_t = df_collins.transpose()\n",
    "if 'Total' in df_coll_t.index:\n",
    "    df_coll_t = df_coll_t.drop('Total')\n",
    "# scale by total:\n",
    "scale = df_coll_t.sum()\n",
    "# normalized ERF: \n",
    "df_col_normalized = df_coll_t/scale\n",
    "#\n",
    "df_col_normalized.transpose().plot.barh(stacked=True)"
   ]
  },
  {
   "cell_type": "markdown",
   "metadata": {},
   "source": [
    "We multiply the change in GSAT in 2019 by the matrix describing the source distribution from the ERF:"
   ]
  },
  {
   "cell_type": "code",
   "execution_count": 49,
   "metadata": {},
   "outputs": [],
   "source": [
    "df_dt_sep = dT_2019[2019]*df_col_normalized\n",
    "df_dt_sep=df_dt_sep.transpose()"
   ]
  },
  {
   "cell_type": "code",
   "execution_count": 50,
   "metadata": {},
   "outputs": [
    {
     "data": {
      "text/plain": [
       "<matplotlib.axes._subplots.AxesSubplot at 0x7f66d9d45dd0>"
      ]
     },
     "execution_count": 50,
     "metadata": {},
     "output_type": "execute_result"
    },
    {
     "data": {
      "image/png": "[encoded data removed]",
      "text/plain": [
       "<Figure size 432x288 with 1 Axes>"
      ]
     },
     "metadata": {
      "needs_background": "light"
     },
     "output_type": "display_data"
    }
   ],
   "source": [
    "df_dt_sep.plot.bar(stacked=True)"
   ]
  },
  {
   "cell_type": "markdown",
   "metadata": {},
   "source": [
    "#### Double check that the sum is the same as before:"
   ]
  },
  {
   "cell_type": "code",
   "execution_count": 51,
   "metadata": {},
   "outputs": [
    {
     "data": {
      "text/plain": [
       "<matplotlib.axes._subplots.AxesSubplot at 0x7f66d9dc16d0>"
      ]
     },
     "execution_count": 51,
     "metadata": {},
     "output_type": "execute_result"
    },
    {
     "data": {
      "image/png": "[encoded data removed]",
      "text/plain": [
       "<Figure size 432x288 with 1 Axes>"
      ]
     },
     "metadata": {
      "needs_background": "light"
     },
     "output_type": "display_data"
    }
   ],
   "source": [
    "df_dt_sep.transpose().sum().plot.line()\n",
    "\n",
    "df_deltaT.loc[2019].plot.line()#bar(stacked=True)"
   ]
  },
  {
   "cell_type": "code",
   "execution_count": 52,
   "metadata": {},
   "outputs": [
    {
     "data": {
      "text/plain": [
       "array([ 0,  1,  2,  3,  4,  5,  6,  7,  8,  9, 10])"
      ]
     },
     "execution_count": 52,
     "metadata": {},
     "output_type": "execute_result"
    }
   ],
   "source": [
    "ybar = np.arange(len(tab_plt)+1)#, -1)\n",
    "ybar"
   ]
  },
  {
   "cell_type": "markdown",
   "metadata": {},
   "source": [
    "Correct order of variables:"
   ]
  },
  {
   "cell_type": "code",
   "execution_count": 53,
   "metadata": {},
   "outputs": [],
   "source": [
    "exps_ls = ['CO2', 'CH4', 'N2O', 'HC', 'NOx', 'VOC', 'SO2', 'OC', 'BC', 'NH3']"
   ]
  },
  {
   "cell_type": "code",
   "execution_count": 54,
   "metadata": {},
   "outputs": [],
   "source": [
    "tab_plt_dT = df_dt_sep.loc[::-1,var_dir]#.rename(rename_dic_cat, axis=1).rename(rename_dic_cols, axis=0)\n",
    "tab_plt_dT=tab_plt_dT.loc[exps_ls]\n",
    "tab_plt_dT =tab_plt_dT.rename(rename_dic_cat, axis=1).rename(rename_dic_cols, axis=0)"
   ]
  },
  {
   "cell_type": "code",
   "execution_count": 55,
   "metadata": {},
   "outputs": [
    {
     "name": "stdout",
     "output_type": "stream",
     "text": [
      "(0.9568627450980393, 0.796078431372549, 0.21176470588235294)\n",
      "(0.8274509803921568, 0.0, 0.1568627450980392)\n",
      "(0.47843137254901963, 0.5058823529411764, 0.5058823529411764)\n",
      "(0.21568627450980393, 0.49411764705882355, 0.7215686274509804)\n",
      "(1.0, 0.4196078431372549, 0.07450980392156863)\n",
      "(0.5254901960784314, 0.7803921568627451, 0.29411764705882354)\n",
      "(0.47843137254901963, 0.5058823529411764, 0.5058823529411764)\n",
      "(0.792156862745098, 0.6980392156862745, 0.8392156862745098)\n",
      "(0.5607843137254902, 0.0, 0.6470588235294118)\n"
     ]
    }
   ],
   "source": [
    "cmap = get_cmap_dic(var_dir)\n",
    "col_ls = [cmap[c] for c in cmap.keys()]"
   ]
  },
  {
   "cell_type": "code",
   "execution_count": 56,
   "metadata": {},
   "outputs": [
    {
     "data": {
      "text/html": [
       "<div>\n",
       "<style scoped>\n",
       "    .dataframe tbody tr th:only-of-type {\n",
       "        vertical-align: middle;\n",
       "    }\n",
       "\n",
       "    .dataframe tbody tr th {\n",
       "        vertical-align: top;\n",
       "    }\n",
       "\n",
       "    .dataframe thead th {\n",
       "        text-align: right;\n",
       "    }\n",
       "</style>\n",
       "<table border=\"1\" class=\"dataframe\">\n",
       "  <thead>\n",
       "    <tr style=\"text-align: right;\">\n",
       "      <th></th>\n",
       "      <th>Carbon dioxide (CO$_2$)</th>\n",
       "      <th>N$_2$O</th>\n",
       "      <th>CFC + HCFC</th>\n",
       "      <th>HFC</th>\n",
       "      <th>Methane (CH$_4$)</th>\n",
       "      <th>Ozone (O$_3$)</th>\n",
       "      <th>H$_2$O (strat)</th>\n",
       "      <th>Aerosol-radiation</th>\n",
       "      <th>Aerosol-cloud</th>\n",
       "    </tr>\n",
       "    <tr>\n",
       "      <th>emission_experiment</th>\n",
       "      <th></th>\n",
       "      <th></th>\n",
       "      <th></th>\n",
       "      <th></th>\n",
       "      <th></th>\n",
       "      <th></th>\n",
       "      <th></th>\n",
       "      <th></th>\n",
       "      <th></th>\n",
       "    </tr>\n",
       "  </thead>\n",
       "  <tbody>\n",
       "    <tr>\n",
       "      <th>CO$_2$</th>\n",
       "      <td>1.083193</td>\n",
       "      <td>0.000000</td>\n",
       "      <td>0.000000</td>\n",
       "      <td>0.00000</td>\n",
       "      <td>0.000000</td>\n",
       "      <td>0.000000</td>\n",
       "      <td>0.000000</td>\n",
       "      <td>0.000000</td>\n",
       "      <td>0.000000</td>\n",
       "    </tr>\n",
       "    <tr>\n",
       "      <th>CH$_4$</th>\n",
       "      <td>0.009846</td>\n",
       "      <td>0.000000</td>\n",
       "      <td>0.000000</td>\n",
       "      <td>0.00000</td>\n",
       "      <td>0.473787</td>\n",
       "      <td>0.156635</td>\n",
       "      <td>0.028053</td>\n",
       "      <td>-0.001935</td>\n",
       "      <td>0.009889</td>\n",
       "    </tr>\n",
       "    <tr>\n",
       "      <th>N$_2$O</th>\n",
       "      <td>0.000000</td>\n",
       "      <td>0.112223</td>\n",
       "      <td>0.000000</td>\n",
       "      <td>0.00000</td>\n",
       "      <td>-0.019221</td>\n",
       "      <td>0.012991</td>\n",
       "      <td>0.000000</td>\n",
       "      <td>-0.001452</td>\n",
       "      <td>0.021732</td>\n",
       "    </tr>\n",
       "    <tr>\n",
       "      <th>CFC + HCFC + HFC</th>\n",
       "      <td>0.000028</td>\n",
       "      <td>0.000000</td>\n",
       "      <td>0.218342</td>\n",
       "      <td>0.02118</td>\n",
       "      <td>-0.027121</td>\n",
       "      <td>-0.087649</td>\n",
       "      <td>0.000000</td>\n",
       "      <td>-0.005592</td>\n",
       "      <td>-0.008876</td>\n",
       "    </tr>\n",
       "    <tr>\n",
       "      <th>NO$_x$</th>\n",
       "      <td>0.000000</td>\n",
       "      <td>0.000000</td>\n",
       "      <td>0.000000</td>\n",
       "      <td>0.00000</td>\n",
       "      <td>-0.218494</td>\n",
       "      <td>0.069130</td>\n",
       "      <td>0.000000</td>\n",
       "      <td>-0.006849</td>\n",
       "      <td>-0.007953</td>\n",
       "    </tr>\n",
       "    <tr>\n",
       "      <th>NMVOC + CO</th>\n",
       "      <td>0.042901</td>\n",
       "      <td>0.000000</td>\n",
       "      <td>0.000000</td>\n",
       "      <td>0.00000</td>\n",
       "      <td>0.100298</td>\n",
       "      <td>0.130177</td>\n",
       "      <td>0.000000</td>\n",
       "      <td>-0.002064</td>\n",
       "      <td>0.005248</td>\n",
       "    </tr>\n",
       "    <tr>\n",
       "      <th>SO$_2$</th>\n",
       "      <td>0.000000</td>\n",
       "      <td>0.000000</td>\n",
       "      <td>0.000000</td>\n",
       "      <td>0.00000</td>\n",
       "      <td>0.000000</td>\n",
       "      <td>0.000000</td>\n",
       "      <td>0.000000</td>\n",
       "      <td>-0.141534</td>\n",
       "      <td>-0.431411</td>\n",
       "    </tr>\n",
       "    <tr>\n",
       "      <th>Organic carbon</th>\n",
       "      <td>0.000000</td>\n",
       "      <td>0.000000</td>\n",
       "      <td>0.000000</td>\n",
       "      <td>0.00000</td>\n",
       "      <td>0.000000</td>\n",
       "      <td>0.000000</td>\n",
       "      <td>0.000000</td>\n",
       "      <td>-0.038984</td>\n",
       "      <td>-0.075055</td>\n",
       "    </tr>\n",
       "    <tr>\n",
       "      <th>Black carbon</th>\n",
       "      <td>0.000000</td>\n",
       "      <td>0.000000</td>\n",
       "      <td>0.000000</td>\n",
       "      <td>0.00000</td>\n",
       "      <td>0.000000</td>\n",
       "      <td>0.000000</td>\n",
       "      <td>0.000000</td>\n",
       "      <td>0.073458</td>\n",
       "      <td>-0.034588</td>\n",
       "    </tr>\n",
       "    <tr>\n",
       "      <th>Ammonia</th>\n",
       "      <td>0.000000</td>\n",
       "      <td>0.000000</td>\n",
       "      <td>0.000000</td>\n",
       "      <td>0.00000</td>\n",
       "      <td>0.000000</td>\n",
       "      <td>0.000000</td>\n",
       "      <td>0.000000</td>\n",
       "      <td>-0.016803</td>\n",
       "      <td>0.000000</td>\n",
       "    </tr>\n",
       "  </tbody>\n",
       "</table>\n",
       "</div>"
      ],
      "text/plain": [
       "                     Carbon dioxide (CO$_2$)    N$_2$O  CFC + HCFC      HFC  \\\n",
       "emission_experiment                                                           \n",
       "CO$_2$                              1.083193  0.000000    0.000000  0.00000   \n",
       "CH$_4$                              0.009846  0.000000    0.000000  0.00000   \n",
       "N$_2$O                              0.000000  0.112223    0.000000  0.00000   \n",
       "CFC + HCFC + HFC                    0.000028  0.000000    0.218342  0.02118   \n",
       "NO$_x$                              0.000000  0.000000    0.000000  0.00000   \n",
       "NMVOC + CO                          0.042901  0.000000    0.000000  0.00000   \n",
       "SO$_2$                              0.000000  0.000000    0.000000  0.00000   \n",
       "Organic carbon                      0.000000  0.000000    0.000000  0.00000   \n",
       "Black carbon                        0.000000  0.000000    0.000000  0.00000   \n",
       "Ammonia                             0.000000  0.000000    0.000000  0.00000   \n",
       "\n",
       "                     Methane (CH$_4$)  Ozone (O$_3$)  H$_2$O (strat)  \\\n",
       "emission_experiment                                                    \n",
       "CO$_2$                       0.000000       0.000000        0.000000   \n",
       "CH$_4$                       0.473787       0.156635        0.028053   \n",
       "N$_2$O                      -0.019221       0.012991        0.000000   \n",
       "CFC + HCFC + HFC            -0.027121      -0.087649        0.000000   \n",
       "NO$_x$                      -0.218494       0.069130        0.000000   \n",
       "NMVOC + CO                   0.100298       0.130177        0.000000   \n",
       "SO$_2$                       0.000000       0.000000        0.000000   \n",
       "Organic carbon               0.000000       0.000000        0.000000   \n",
       "Black carbon                 0.000000       0.000000        0.000000   \n",
       "Ammonia                      0.000000       0.000000        0.000000   \n",
       "\n",
       "                     Aerosol-radiation  Aerosol-cloud  \n",
       "emission_experiment                                    \n",
       "CO$_2$                        0.000000       0.000000  \n",
       "CH$_4$                       -0.001935       0.009889  \n",
       "N$_2$O                       -0.001452       0.021732  \n",
       "CFC + HCFC + HFC             -0.005592      -0.008876  \n",
       "NO$_x$                       -0.006849      -0.007953  \n",
       "NMVOC + CO                   -0.002064       0.005248  \n",
       "SO$_2$                       -0.141534      -0.431411  \n",
       "Organic carbon               -0.038984      -0.075055  \n",
       "Black carbon                  0.073458      -0.034588  \n",
       "Ammonia                      -0.016803       0.000000  "
      ]
     },
     "execution_count": 56,
     "metadata": {},
     "output_type": "execute_result"
    }
   ],
   "source": [
    "tab_plt_dT"
   ]
  },
  {
   "cell_type": "code",
   "execution_count": 59,
   "metadata": {
    "lines_to_next_cell": 2
   },
   "outputs": [
    {
     "data": {
      "image/png": "[encoded data removed]",
      "text/plain": [
       "<Figure size 1500x600 with 2 Axes>"
      ]
     },
     "metadata": {
      "needs_background": "light"
     },
     "output_type": "display_data"
    }
   ],
   "source": [
    "fig, axs = plt.subplots(1,2,dpi=150, figsize=[10,4])\n",
    "width=.8\n",
    "kws = {\n",
    "    'width':.8,\n",
    "    'linewidth':.1,\n",
    "    'edgecolor':'k',\n",
    "    \n",
    "}\n",
    "\n",
    "ax=axs[0]\n",
    "tab_plt_ERF.plot.barh(stacked=True, color=col_ls, ax=ax,**kws)\n",
    "#tot = table['Total'][::-1]\n",
    "tot = tab_plt_ERF.sum(axis=1)#tab_plt\n",
    "xerr = df_err['95-50'][::-1]\n",
    "y = np.arange(len(tot))\n",
    "ax.errorbar(tot, y,xerr=xerr,marker='d', linestyle='None', color='k', label='Sum', )\n",
    "#ax.legend(frameon=False)\n",
    "ax.set_ylabel('')\n",
    "\n",
    "\n",
    "for lab, y in zip(tab_plt.index, ybar):\n",
    "        #plt.text(-1.55, ybar[i], species[i],  ha='left')#, va='left')\n",
    "    ax.text(-1.9, y-0.1, lab,  ha='left')#, va='left')\n",
    "ax.set_title('Effective radiative forcing, 1750 to 2019')\n",
    "ax.set_xlabel(r'(W m$^{-2}$)')\n",
    "#ax.set_xlim(-1.5, 2.6)\n",
    "    #plt.xlim(-1.6, 2.0)\n",
    "#sns.despine(fig, left=True, trim=True)\n",
    "ax.legend(loc='lower right', frameon=False)\n",
    "ax.axvline(x=0., color='k', linewidth=0.25)\n",
    "ax.set_yticks([])\n",
    "\n",
    "ax.get_legend().remove()\n",
    "\n",
    "\n",
    "\n",
    "\n",
    "\n",
    "ax=axs[1]\n",
    "tab_plt_dT[::-1].plot.barh(stacked=True, color=col_ls, ax=ax,**kws)\n",
    "tot = tab_plt_dT.sum(axis=1)[::-1]\n",
    "#xerr =0# df_err['95-50'][::-1]\n",
    "y = np.arange(len(tot))\n",
    "ax.errorbar(tot, y,marker='d', linestyle='None', color='k', label='Sum', )\n",
    "#ax.legend(frameon=False)\n",
    "ax.set_ylabel('')\n",
    "\n",
    "ax.set_title('Change in GSAT, 1750 to 2019')\n",
    "ax.set_xlabel(r'($^{\\circ}$C)')\n",
    "ax.set_xlim(-.6, 1.8)\n",
    "\n",
    "\n",
    "sns.despine(fig, left=True, trim=True)\n",
    "ax.spines['bottom'].set_bounds(-.5,1.5)\n",
    "\n",
    "ax.legend(loc='lower right', frameon=False)\n",
    "ax.axvline(x=0., color='k', linewidth=0.25)\n",
    "fn = 'ERF_DELTA_GSAT_1750_2019.png'\n",
    "fp = RESULTS_DIR /'figures_historic_attribution_DT'/fn\n",
    "fp.parent.mkdir(parents=True, exist_ok=True)\n",
    "ax.set_yticks([])\n",
    "fig.tight_layout()\n",
    "plt.savefig(fp, dpi=300, bbox_inches='tight')\n",
    "plt.savefig(fp.with_suffix('.pdf'), dpi=300, bbox_inches='tight')\n",
    "plt.show()"
   ]
  },
  {
   "cell_type": "markdown",
   "metadata": {},
   "source": [
    "## Meeting notes:\n",
    "\n",
    "\n",
    "- Replace WMGHG by N2O /halogenated (posibilitity to split in blue/darkblue??)\n",
    "- VOC should be NMVOC\n",
    "- Title “Emission based ERF in 2019 relative to 1750”\n",
    "- Add HFCs\n",
    "Idealized delta GSAT:\n",
    "- Mock up for zoom out from the bigger one\n",
    "- Add the emissions protocol in a corner,\n",
    "- Title is it “mitigation” and not idealized sustained reductions?\n",
    "\n",
    "\n",
    "\n",
    "## GSAT timeseries\n",
    "- _Giddens and aerc_\n",
    "- _impact --> effect_\n",
    "\n",
    "- _Replace low NTCF by low SLCF low CH4 or low SLCF high CH4_\n",
    "- _Giddens: low CH4_\n",
    "- _aerchemip: high CH4_\n",
    "- Impact SHOULD BE effect!!\n",
    "- Add above the uncertainty bar what it represent (on the figure)\n",
    "- Add °C for the top 2 left panels\n",
    "\n",
    "- Add a second y-axis for absolute change comp w 1850\n",
    "\n",
    "\n",
    "- _relative to 2019 \n",
    "\n",
    "- Add relative to 1750\n",
    "- \n",
    "\n",
    "## SSP bar plot:\n",
    "\n",
    "\n",
    "- _Replace low NTCF by low SLCF low CH4 or low SLCF high CH4_\n",
    "- _Replace delta by GSAT change_\n",
    "- _relative to 2019_"
   ]
  },
  {
   "cell_type": "code",
   "execution_count": null,
   "metadata": {},
   "outputs": [],
   "source": []
  },
  {
   "cell_type": "code",
   "execution_count": null,
   "metadata": {},
   "outputs": [],
   "source": []
  },
  {
   "cell_type": "code",
   "execution_count": null,
   "metadata": {},
   "outputs": [],
   "source": []
  }
 ],
 "metadata": {
  "jupytext": {
   "encoding": "# -*- coding: utf-8 -*-",
   "text_representation": {
    "extension": ".py",
    "format_name": "percent",
    "format_version": "1.3",
    "jupytext_version": "1.3.3"
   }
  },
  "kernelspec": {
   "display_name": "Python 3",
   "language": "python",
   "name": "python3"
  },
  "language_info": {
   "codemirror_mode": {
    "name": "ipython",
    "version": 3
   },
   "file_extension": ".py",
   "mimetype": "text/x-python",
   "name": "python",
   "nbconvert_exporter": "python",
   "pygments_lexer": "ipython3",
   "version": "3.7.6"
  }
 },
 "nbformat": 4,
 "nbformat_minor": 4
}
