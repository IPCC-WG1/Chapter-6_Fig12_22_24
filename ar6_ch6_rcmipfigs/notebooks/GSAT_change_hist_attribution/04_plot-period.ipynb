{
 "cells": [
  {
   "cell_type": "code",
   "execution_count": 1,
   "metadata": {},
   "outputs": [
    {
     "name": "stdout",
     "output_type": "stream",
     "text": [
      "/Users/sarablichner/science/PHD/IPCC/public/AR6_CH6_RCMIPFIGSv2/ar6_ch6_rcmipfigs\n",
      "/Users/sarablichner/science/PHD/IPCC/public/AR6_CH6_RCMIPFIGSv2/ar6_ch6_rcmipfigs/data_in\n"
     ]
    }
   ],
   "source": [
    "import pandas as pd\n",
    "import xarray as xr\n",
    "from IPython.display import clear_output\n",
    "import numpy as np\n",
    "import pandas as pd\n",
    "import matplotlib.pyplot as plt\n",
    "\n",
    "%load_ext autoreload\n",
    "%autoreload 2\n",
    "from ar6_ch6_rcmipfigs.constants import INPUT_DATA_DIR"
   ]
  },
  {
   "cell_type": "code",
   "execution_count": 2,
   "metadata": {},
   "outputs": [],
   "source": [
    "import seaborn as sns"
   ]
  },
  {
   "cell_type": "code",
   "execution_count": 3,
   "metadata": {},
   "outputs": [
    {
     "data": {
      "application/javascript": [
       "IPython.OutputArea.prototype._should_scroll = function(lines) { return false; }"
      ],
      "text/plain": [
       "<IPython.core.display.Javascript object>"
      ]
     },
     "metadata": {},
     "output_type": "display_data"
    },
    {
     "name": "stdout",
     "output_type": "stream",
     "text": [
      "hallo\n"
     ]
    }
   ],
   "source": [
    "from ar6_ch6_rcmipfigs.utils.plot import get_cmap_dic"
   ]
  },
  {
   "cell_type": "markdown",
   "metadata": {},
   "source": [
    "# Code + figures"
   ]
  },
  {
   "cell_type": "code",
   "execution_count": 4,
   "metadata": {},
   "outputs": [],
   "source": [
    "output_name = 'fig_em_based_ERF_GSAT'"
   ]
  },
  {
   "cell_type": "markdown",
   "metadata": {},
   "source": [
    "### Path input data"
   ]
  },
  {
   "cell_type": "code",
   "execution_count": 5,
   "metadata": {
    "collapsed": false,
    "jupyter": {
     "outputs_hidden": false
    },
    "lines_to_next_cell": 2,
    "pycharm": {
     "name": "#%%\n"
    }
   },
   "outputs": [],
   "source": [
    "from ar6_ch6_rcmipfigs.constants import OUTPUT_DATA_DIR, RESULTS_DIR, BASE_DIR\n",
    "\n",
    "#PATH_DATASET = OUTPUT_DATA_DIR / 'ERF_data.nc'\n",
    "PATH_DATASET = OUTPUT_DATA_DIR/'historic_delta_GSAT/dT_data_hist_recommendation.nc'\n",
    "\n",
    "fn_ERF_2019= OUTPUT_DATA_DIR/'historic_delta_GSAT/2019_ERF_est.csv'\n",
    "#fn_output_decomposition = OUTPUT_DATA_DIR / 'historic_delta_GSAT/hist_ERF_est_decomp.csv'\n",
    "\n",
    "fn_ERF_timeseries = OUTPUT_DATA_DIR/'historic_delta_GSAT/hist_ERF_est.csv'\n",
    "\n",
    "fp_collins_sd = RESULTS_DIR/'tables_historic_attribution/table_std_smb_orignames.csv'\n",
    "\n",
    "fn_TAB2_THORNHILL = INPUT_DATA_DIR/'table2_thornhill2020.csv'"
   ]
  },
  {
   "cell_type": "markdown",
   "metadata": {},
   "source": [
    "### Path output data"
   ]
  },
  {
   "cell_type": "code",
   "execution_count": 6,
   "metadata": {
    "collapsed": false,
    "jupyter": {
     "outputs_hidden": false
    },
    "lines_to_next_cell": 2,
    "pycharm": {
     "name": "#%%\n"
    }
   },
   "outputs": [
    {
     "name": "stdout",
     "output_type": "stream",
     "text": [
      "/Users/sarablichner/science/PHD/IPCC/public/AR6_CH6_RCMIPFIGSv2/ar6_ch6_rcmipfigs/data_out/historic_delta_GSAT/dT_data_hist_recommendation.csv\n"
     ]
    }
   ],
   "source": [
    "PATH_DF_OUTPUT = OUTPUT_DATA_DIR / 'historic_delta_GSAT/dT_data_hist_recommendation.csv'\n",
    "\n",
    "print(PATH_DF_OUTPUT)"
   ]
  },
  {
   "cell_type": "markdown",
   "metadata": {},
   "source": [
    "### various definitions"
   ]
  },
  {
   "cell_type": "markdown",
   "metadata": {},
   "source": [
    "**Set reference year for temperature change:**"
   ]
  },
  {
   "cell_type": "code",
   "execution_count": 7,
   "metadata": {
    "lines_to_next_cell": 0
   },
   "outputs": [],
   "source": [
    "\n",
    "ref_period = [1850,1900]\n",
    "pd_period = [2010,2019]"
   ]
  },
  {
   "cell_type": "code",
   "execution_count": 8,
   "metadata": {},
   "outputs": [],
   "source": [
    "# variables to plot:\n",
    "variables_erf_comp = [\n",
    "    'CO2', 'N2O', 'CH4', 'HC', 'NOx', 'SO2', 'BC', 'OC', 'NH3','VOC'\n",
    "]\n",
    "# total ERFs for anthropogenic and total:\n",
    "variables_erf_tot = []\n",
    "variables_all = variables_erf_comp + variables_erf_tot\n",
    "# Scenarios to plot:\n",
    "scenarios_fl = []"
   ]
  },
  {
   "cell_type": "code",
   "execution_count": 9,
   "metadata": {},
   "outputs": [],
   "source": [
    "varn = ['co2','N2O','HC','HFCs','ch4','o3','H2O_strat','ari','aci']\n",
    "var_dir = ['CO2','N2O','HC','HFCs','CH4_lifetime','O3','Strat_H2O','Aerosol','Cloud']"
   ]
  },
  {
   "cell_type": "code",
   "execution_count": 10,
   "metadata": {
    "lines_to_next_cell": 2
   },
   "outputs": [],
   "source": [
    "rename_dic_cat = {\n",
    "    'CO2':'Carbon dioxide (CO$_2$)',\n",
    "    'GHG':'WMGHG',\n",
    "    'CH4_lifetime': 'Methane (CH$_4$)',\n",
    "    'O3': 'Ozone (O$_3$)',\n",
    "    'Strat_H2O':'H$_2$O (strat)',\n",
    "    'Aerosol':'Aerosol-radiation',\n",
    "    'Cloud':'Aerosol-cloud',\n",
    "    'N2O':'N$_2$O',\n",
    "    'HC':'CFC + HCFC',\n",
    "    'HFCs':'HFC'\n",
    "\n",
    "}\n",
    "rename_dic_cols ={\n",
    "    'co2':'CO$_2$',\n",
    "    'CO2':'CO$_2$',\n",
    "    'CH4':'CH$_4$',\n",
    "    'ch4':'CH$_4$',\n",
    "    'N2O':'N$_2$O',\n",
    "    'n2o':'N$_2$O',\n",
    "    'HC':'CFC + HCFC + HFC',\n",
    "    'HFCs':'HFC',\n",
    "    'NOx':'NO$_x$',\n",
    "    'VOC':'NMVOC + CO',\n",
    "    'SO2':'SO$_2$',\n",
    "    'OC':'Organic carbon',\n",
    "    'BC':'Black carbon',\n",
    "    'NH3':'Ammonia'\n",
    "}"
   ]
  },
  {
   "cell_type": "markdown",
   "metadata": {},
   "source": [
    "### Open ERF dataset:"
   ]
  },
  {
   "cell_type": "code",
   "execution_count": 11,
   "metadata": {},
   "outputs": [
    {
     "data": {
      "text/html": [
       "<div><svg style=\"position: absolute; width: 0; height: 0; overflow: hidden\">\n",
       "<defs>\n",
       "<symbol id=\"icon-database\" viewBox=\"0 0 32 32\">\n",
       "<path d=\"M16 0c-8.837 0-16 2.239-16 5v4c0 2.761 7.163 5 16 5s16-2.239 16-5v-4c0-2.761-7.163-5-16-5z\"></path>\n",
       "<path d=\"M16 17c-8.837 0-16-2.239-16-5v6c0 2.761 7.163 5 16 5s16-2.239 16-5v-6c0 2.761-7.163 5-16 5z\"></path>\n",
       "<path d=\"M16 26c-8.837 0-16-2.239-16-5v6c0 2.761 7.163 5 16 5s16-2.239 16-5v-6c0 2.761-7.163 5-16 5z\"></path>\n",
       "</symbol>\n",
       "<symbol id=\"icon-file-text2\" viewBox=\"0 0 32 32\">\n",
       "<path d=\"M28.681 7.159c-0.694-0.947-1.662-2.053-2.724-3.116s-2.169-2.030-3.116-2.724c-1.612-1.182-2.393-1.319-2.841-1.319h-15.5c-1.378 0-2.5 1.121-2.5 2.5v27c0 1.378 1.122 2.5 2.5 2.5h23c1.378 0 2.5-1.122 2.5-2.5v-19.5c0-0.448-0.137-1.23-1.319-2.841zM24.543 5.457c0.959 0.959 1.712 1.825 2.268 2.543h-4.811v-4.811c0.718 0.556 1.584 1.309 2.543 2.268zM28 29.5c0 0.271-0.229 0.5-0.5 0.5h-23c-0.271 0-0.5-0.229-0.5-0.5v-27c0-0.271 0.229-0.5 0.5-0.5 0 0 15.499-0 15.5 0v7c0 0.552 0.448 1 1 1h7v19.5z\"></path>\n",
       "<path d=\"M23 26h-14c-0.552 0-1-0.448-1-1s0.448-1 1-1h14c0.552 0 1 0.448 1 1s-0.448 1-1 1z\"></path>\n",
       "<path d=\"M23 22h-14c-0.552 0-1-0.448-1-1s0.448-1 1-1h14c0.552 0 1 0.448 1 1s-0.448 1-1 1z\"></path>\n",
       "<path d=\"M23 18h-14c-0.552 0-1-0.448-1-1s0.448-1 1-1h14c0.552 0 1 0.448 1 1s-0.448 1-1 1z\"></path>\n",
       "</symbol>\n",
       "</defs>\n",
       "</svg>\n",
       "<style>/* CSS stylesheet for displaying xarray objects in jupyterlab.\n",
       " *\n",
       " */\n",
       "\n",
       ":root {\n",
       "  --xr-font-color0: var(--jp-content-font-color0, rgba(0, 0, 0, 1));\n",
       "  --xr-font-color2: var(--jp-content-font-color2, rgba(0, 0, 0, 0.54));\n",
       "  --xr-font-color3: var(--jp-content-font-color3, rgba(0, 0, 0, 0.38));\n",
       "  --xr-border-color: var(--jp-border-color2, #e0e0e0);\n",
       "  --xr-disabled-color: var(--jp-layout-color3, #bdbdbd);\n",
       "  --xr-background-color: var(--jp-layout-color0, white);\n",
       "  --xr-background-color-row-even: var(--jp-layout-color1, white);\n",
       "  --xr-background-color-row-odd: var(--jp-layout-color2, #eeeeee);\n",
       "}\n",
       "\n",
       "html[theme=dark],\n",
       "body.vscode-dark {\n",
       "  --xr-font-color0: rgba(255, 255, 255, 1);\n",
       "  --xr-font-color2: rgba(255, 255, 255, 0.54);\n",
       "  --xr-font-color3: rgba(255, 255, 255, 0.38);\n",
       "  --xr-border-color: #1F1F1F;\n",
       "  --xr-disabled-color: #515151;\n",
       "  --xr-background-color: #111111;\n",
       "  --xr-background-color-row-even: #111111;\n",
       "  --xr-background-color-row-odd: #313131;\n",
       "}\n",
       "\n",
       ".xr-wrap {\n",
       "  display: block;\n",
       "  min-width: 300px;\n",
       "  max-width: 700px;\n",
       "}\n",
       "\n",
       ".xr-text-repr-fallback {\n",
       "  /* fallback to plain text repr when CSS is not injected (untrusted notebook) */\n",
       "  display: none;\n",
       "}\n",
       "\n",
       ".xr-header {\n",
       "  padding-top: 6px;\n",
       "  padding-bottom: 6px;\n",
       "  margin-bottom: 4px;\n",
       "  border-bottom: solid 1px var(--xr-border-color);\n",
       "}\n",
       "\n",
       ".xr-header > div,\n",
       ".xr-header > ul {\n",
       "  display: inline;\n",
       "  margin-top: 0;\n",
       "  margin-bottom: 0;\n",
       "}\n",
       "\n",
       ".xr-obj-type,\n",
       ".xr-array-name {\n",
       "  margin-left: 2px;\n",
       "  margin-right: 10px;\n",
       "}\n",
       "\n",
       ".xr-obj-type {\n",
       "  color: var(--xr-font-color2);\n",
       "}\n",
       "\n",
       ".xr-sections {\n",
       "  padding-left: 0 !important;\n",
       "  display: grid;\n",
       "  grid-template-columns: 150px auto auto 1fr 20px 20px;\n",
       "}\n",
       "\n",
       ".xr-section-item {\n",
       "  display: contents;\n",
       "}\n",
       "\n",
       ".xr-section-item input {\n",
       "  display: none;\n",
       "}\n",
       "\n",
       ".xr-section-item input + label {\n",
       "  color: var(--xr-disabled-color);\n",
       "}\n",
       "\n",
       ".xr-section-item input:enabled + label {\n",
       "  cursor: pointer;\n",
       "  color: var(--xr-font-color2);\n",
       "}\n",
       "\n",
       ".xr-section-item input:enabled + label:hover {\n",
       "  color: var(--xr-font-color0);\n",
       "}\n",
       "\n",
       ".xr-section-summary {\n",
       "  grid-column: 1;\n",
       "  color: var(--xr-font-color2);\n",
       "  font-weight: 500;\n",
       "}\n",
       "\n",
       ".xr-section-summary > span {\n",
       "  display: inline-block;\n",
       "  padding-left: 0.5em;\n",
       "}\n",
       "\n",
       ".xr-section-summary-in:disabled + label {\n",
       "  color: var(--xr-font-color2);\n",
       "}\n",
       "\n",
       ".xr-section-summary-in + label:before {\n",
       "  display: inline-block;\n",
       "  content: '►';\n",
       "  font-size: 11px;\n",
       "  width: 15px;\n",
       "  text-align: center;\n",
       "}\n",
       "\n",
       ".xr-section-summary-in:disabled + label:before {\n",
       "  color: var(--xr-disabled-color);\n",
       "}\n",
       "\n",
       ".xr-section-summary-in:checked + label:before {\n",
       "  content: '▼';\n",
       "}\n",
       "\n",
       ".xr-section-summary-in:checked + label > span {\n",
       "  display: none;\n",
       "}\n",
       "\n",
       ".xr-section-summary,\n",
       ".xr-section-inline-details {\n",
       "  padding-top: 4px;\n",
       "  padding-bottom: 4px;\n",
       "}\n",
       "\n",
       ".xr-section-inline-details {\n",
       "  grid-column: 2 / -1;\n",
       "}\n",
       "\n",
       ".xr-section-details {\n",
       "  display: none;\n",
       "  grid-column: 1 / -1;\n",
       "  margin-bottom: 5px;\n",
       "}\n",
       "\n",
       ".xr-section-summary-in:checked ~ .xr-section-details {\n",
       "  display: contents;\n",
       "}\n",
       "\n",
       ".xr-array-wrap {\n",
       "  grid-column: 1 / -1;\n",
       "  display: grid;\n",
       "  grid-template-columns: 20px auto;\n",
       "}\n",
       "\n",
       ".xr-array-wrap > label {\n",
       "  grid-column: 1;\n",
       "  vertical-align: top;\n",
       "}\n",
       "\n",
       ".xr-preview {\n",
       "  color: var(--xr-font-color3);\n",
       "}\n",
       "\n",
       ".xr-array-preview,\n",
       ".xr-array-data {\n",
       "  padding: 0 5px !important;\n",
       "  grid-column: 2;\n",
       "}\n",
       "\n",
       ".xr-array-data,\n",
       ".xr-array-in:checked ~ .xr-array-preview {\n",
       "  display: none;\n",
       "}\n",
       "\n",
       ".xr-array-in:checked ~ .xr-array-data,\n",
       ".xr-array-preview {\n",
       "  display: inline-block;\n",
       "}\n",
       "\n",
       ".xr-dim-list {\n",
       "  display: inline-block !important;\n",
       "  list-style: none;\n",
       "  padding: 0 !important;\n",
       "  margin: 0;\n",
       "}\n",
       "\n",
       ".xr-dim-list li {\n",
       "  display: inline-block;\n",
       "  padding: 0;\n",
       "  margin: 0;\n",
       "}\n",
       "\n",
       ".xr-dim-list:before {\n",
       "  content: '(';\n",
       "}\n",
       "\n",
       ".xr-dim-list:after {\n",
       "  content: ')';\n",
       "}\n",
       "\n",
       ".xr-dim-list li:not(:last-child):after {\n",
       "  content: ',';\n",
       "  padding-right: 5px;\n",
       "}\n",
       "\n",
       ".xr-has-index {\n",
       "  font-weight: bold;\n",
       "}\n",
       "\n",
       ".xr-var-list,\n",
       ".xr-var-item {\n",
       "  display: contents;\n",
       "}\n",
       "\n",
       ".xr-var-item > div,\n",
       ".xr-var-item label,\n",
       ".xr-var-item > .xr-var-name span {\n",
       "  background-color: var(--xr-background-color-row-even);\n",
       "  margin-bottom: 0;\n",
       "}\n",
       "\n",
       ".xr-var-item > .xr-var-name:hover span {\n",
       "  padding-right: 5px;\n",
       "}\n",
       "\n",
       ".xr-var-list > li:nth-child(odd) > div,\n",
       ".xr-var-list > li:nth-child(odd) > label,\n",
       ".xr-var-list > li:nth-child(odd) > .xr-var-name span {\n",
       "  background-color: var(--xr-background-color-row-odd);\n",
       "}\n",
       "\n",
       ".xr-var-name {\n",
       "  grid-column: 1;\n",
       "}\n",
       "\n",
       ".xr-var-dims {\n",
       "  grid-column: 2;\n",
       "}\n",
       "\n",
       ".xr-var-dtype {\n",
       "  grid-column: 3;\n",
       "  text-align: right;\n",
       "  color: var(--xr-font-color2);\n",
       "}\n",
       "\n",
       ".xr-var-preview {\n",
       "  grid-column: 4;\n",
       "}\n",
       "\n",
       ".xr-var-name,\n",
       ".xr-var-dims,\n",
       ".xr-var-dtype,\n",
       ".xr-preview,\n",
       ".xr-attrs dt {\n",
       "  white-space: nowrap;\n",
       "  overflow: hidden;\n",
       "  text-overflow: ellipsis;\n",
       "  padding-right: 10px;\n",
       "}\n",
       "\n",
       ".xr-var-name:hover,\n",
       ".xr-var-dims:hover,\n",
       ".xr-var-dtype:hover,\n",
       ".xr-attrs dt:hover {\n",
       "  overflow: visible;\n",
       "  width: auto;\n",
       "  z-index: 1;\n",
       "}\n",
       "\n",
       ".xr-var-attrs,\n",
       ".xr-var-data {\n",
       "  display: none;\n",
       "  background-color: var(--xr-background-color) !important;\n",
       "  padding-bottom: 5px !important;\n",
       "}\n",
       "\n",
       ".xr-var-attrs-in:checked ~ .xr-var-attrs,\n",
       ".xr-var-data-in:checked ~ .xr-var-data {\n",
       "  display: block;\n",
       "}\n",
       "\n",
       ".xr-var-data > table {\n",
       "  float: right;\n",
       "}\n",
       "\n",
       ".xr-var-name span,\n",
       ".xr-var-data,\n",
       ".xr-attrs {\n",
       "  padding-left: 25px !important;\n",
       "}\n",
       "\n",
       ".xr-attrs,\n",
       ".xr-var-attrs,\n",
       ".xr-var-data {\n",
       "  grid-column: 1 / -1;\n",
       "}\n",
       "\n",
       "dl.xr-attrs {\n",
       "  padding: 0;\n",
       "  margin: 0;\n",
       "  display: grid;\n",
       "  grid-template-columns: 125px auto;\n",
       "}\n",
       "\n",
       ".xr-attrs dt,\n",
       ".xr-attrs dd {\n",
       "  padding: 0;\n",
       "  margin: 0;\n",
       "  float: left;\n",
       "  padding-right: 10px;\n",
       "  width: auto;\n",
       "}\n",
       "\n",
       ".xr-attrs dt {\n",
       "  font-weight: normal;\n",
       "  grid-column: 1;\n",
       "}\n",
       "\n",
       ".xr-attrs dt:hover span {\n",
       "  display: inline-block;\n",
       "  background: var(--xr-background-color);\n",
       "  padding-right: 10px;\n",
       "}\n",
       "\n",
       ".xr-attrs dd {\n",
       "  grid-column: 2;\n",
       "  white-space: pre-wrap;\n",
       "  word-break: break-all;\n",
       "}\n",
       "\n",
       ".xr-icon-database,\n",
       ".xr-icon-file-text2 {\n",
       "  display: inline-block;\n",
       "  vertical-align: middle;\n",
       "  width: 1em;\n",
       "  height: 1.5em !important;\n",
       "  stroke-width: 0;\n",
       "  stroke: currentColor;\n",
       "  fill: currentColor;\n",
       "}\n",
       "</style><pre class='xr-text-repr-fallback'>&lt;xarray.Dataset&gt;\n",
       "Dimensions:     (percentile: 1, variable: 10, year: 270)\n",
       "Coordinates:\n",
       "  * year        (year) int64 1750 1751 1752 1753 1754 ... 2016 2017 2018 2019\n",
       "  * variable    (variable) object &#x27;CO2&#x27; &#x27;N2O&#x27; &#x27;CH4&#x27; &#x27;NOx&#x27; ... &#x27;NH3&#x27; &#x27;VOC&#x27; &#x27;HC&#x27;\n",
       "  * percentile  (percentile) object &#x27;recommendation&#x27;\n",
       "Data variables:\n",
       "    ERF         (variable, year) float64 0.0 0.001126 0.002252 ... 0.205 0.2064\n",
       "    time        (year) datetime64[ns] 1750-01-01 1751-01-01 ... 2019-01-01\n",
       "    delta_t     (year) float64 1.0 1.0 1.0 1.0 1.0 1.0 ... 1.0 1.0 1.0 1.0 1.0\n",
       "    Delta T     (percentile, variable, year) float64 0.0 0.0 ... 0.09652 0.09729</pre><div class='xr-wrap' hidden><div class='xr-header'><div class='xr-obj-type'>xarray.Dataset</div></div><ul class='xr-sections'><li class='xr-section-item'><input id='section-a7862664-68e1-496f-a60c-454729ea73d4' class='xr-section-summary-in' type='checkbox' disabled ><label for='section-a7862664-68e1-496f-a60c-454729ea73d4' class='xr-section-summary'  title='Expand/collapse section'>Dimensions:</label><div class='xr-section-inline-details'><ul class='xr-dim-list'><li><span class='xr-has-index'>percentile</span>: 1</li><li><span class='xr-has-index'>variable</span>: 10</li><li><span class='xr-has-index'>year</span>: 270</li></ul></div><div class='xr-section-details'></div></li><li class='xr-section-item'><input id='section-f71fafc9-b094-4502-9c94-b6f9aff5831b' class='xr-section-summary-in' type='checkbox'  checked><label for='section-f71fafc9-b094-4502-9c94-b6f9aff5831b' class='xr-section-summary' >Coordinates: <span>(3)</span></label><div class='xr-section-inline-details'></div><div class='xr-section-details'><ul class='xr-var-list'><li class='xr-var-item'><div class='xr-var-name'><span class='xr-has-index'>year</span></div><div class='xr-var-dims'>(year)</div><div class='xr-var-dtype'>int64</div><div class='xr-var-preview xr-preview'>1750 1751 1752 ... 2017 2018 2019</div><input id='attrs-29e0e5ec-87ec-4a11-b8c7-2afbcdcc4755' class='xr-var-attrs-in' type='checkbox' disabled><label for='attrs-29e0e5ec-87ec-4a11-b8c7-2afbcdcc4755' title='Show/Hide attributes'><svg class='icon xr-icon-file-text2'><use xlink:href='#icon-file-text2'></use></svg></label><input id='data-179ea201-8c7b-4892-b2f2-12f989c2ae96' class='xr-var-data-in' type='checkbox'><label for='data-179ea201-8c7b-4892-b2f2-12f989c2ae96' title='Show/Hide data repr'><svg class='icon xr-icon-database'><use xlink:href='#icon-database'></use></svg></label><div class='xr-var-attrs'><dl class='xr-attrs'></dl></div><div class='xr-var-data'><pre>array([1750, 1751, 1752, ..., 2017, 2018, 2019])</pre></div></li><li class='xr-var-item'><div class='xr-var-name'><span class='xr-has-index'>variable</span></div><div class='xr-var-dims'>(variable)</div><div class='xr-var-dtype'>object</div><div class='xr-var-preview xr-preview'>&#x27;CO2&#x27; &#x27;N2O&#x27; &#x27;CH4&#x27; ... &#x27;VOC&#x27; &#x27;HC&#x27;</div><input id='attrs-26699cca-94d2-4493-894a-21b13054c640' class='xr-var-attrs-in' type='checkbox' disabled><label for='attrs-26699cca-94d2-4493-894a-21b13054c640' title='Show/Hide attributes'><svg class='icon xr-icon-file-text2'><use xlink:href='#icon-file-text2'></use></svg></label><input id='data-8ff43eac-fb32-4d5e-9d5a-3cbb33bfe7fb' class='xr-var-data-in' type='checkbox'><label for='data-8ff43eac-fb32-4d5e-9d5a-3cbb33bfe7fb' title='Show/Hide data repr'><svg class='icon xr-icon-database'><use xlink:href='#icon-database'></use></svg></label><div class='xr-var-attrs'><dl class='xr-attrs'></dl></div><div class='xr-var-data'><pre>array([&#x27;CO2&#x27;, &#x27;N2O&#x27;, &#x27;CH4&#x27;, &#x27;NOx&#x27;, &#x27;SO2&#x27;, &#x27;BC&#x27;, &#x27;OC&#x27;, &#x27;NH3&#x27;, &#x27;VOC&#x27;, &#x27;HC&#x27;],\n",
       "      dtype=object)</pre></div></li><li class='xr-var-item'><div class='xr-var-name'><span class='xr-has-index'>percentile</span></div><div class='xr-var-dims'>(percentile)</div><div class='xr-var-dtype'>object</div><div class='xr-var-preview xr-preview'>&#x27;recommendation&#x27;</div><input id='attrs-c28fec94-a8a9-479c-8eff-ef088a08c9ea' class='xr-var-attrs-in' type='checkbox' disabled><label for='attrs-c28fec94-a8a9-479c-8eff-ef088a08c9ea' title='Show/Hide attributes'><svg class='icon xr-icon-file-text2'><use xlink:href='#icon-file-text2'></use></svg></label><input id='data-7a90013a-009c-41c8-a29d-d76d80d992c3' class='xr-var-data-in' type='checkbox'><label for='data-7a90013a-009c-41c8-a29d-d76d80d992c3' title='Show/Hide data repr'><svg class='icon xr-icon-database'><use xlink:href='#icon-database'></use></svg></label><div class='xr-var-attrs'><dl class='xr-attrs'></dl></div><div class='xr-var-data'><pre>array([&#x27;recommendation&#x27;], dtype=object)</pre></div></li></ul></div></li><li class='xr-section-item'><input id='section-3dc6d683-7576-46d7-a7cc-01cbf653a7e6' class='xr-section-summary-in' type='checkbox'  checked><label for='section-3dc6d683-7576-46d7-a7cc-01cbf653a7e6' class='xr-section-summary' >Data variables: <span>(4)</span></label><div class='xr-section-inline-details'></div><div class='xr-section-details'><ul class='xr-var-list'><li class='xr-var-item'><div class='xr-var-name'><span>ERF</span></div><div class='xr-var-dims'>(variable, year)</div><div class='xr-var-dtype'>float64</div><div class='xr-var-preview xr-preview'>...</div><input id='attrs-001ad3fa-e747-4cb8-b453-8a1de0bfae8e' class='xr-var-attrs-in' type='checkbox' disabled><label for='attrs-001ad3fa-e747-4cb8-b453-8a1de0bfae8e' title='Show/Hide attributes'><svg class='icon xr-icon-file-text2'><use xlink:href='#icon-file-text2'></use></svg></label><input id='data-52cc5f1d-a92d-4f12-bdc5-b22b313e2a37' class='xr-var-data-in' type='checkbox'><label for='data-52cc5f1d-a92d-4f12-bdc5-b22b313e2a37' title='Show/Hide data repr'><svg class='icon xr-icon-database'><use xlink:href='#icon-database'></use></svg></label><div class='xr-var-attrs'><dl class='xr-attrs'></dl></div><div class='xr-var-data'><pre>array([[ 0.000000e+00,  1.126141e-03,  2.252283e-03, ...,  1.981696e+00,\n",
       "         2.019078e+00,  2.057554e+00],\n",
       "       [ 0.000000e+00,  7.682715e-05,  1.536543e-04, ...,  2.302510e-01,\n",
       "         2.346705e-01,  2.381296e-01],\n",
       "       [ 0.000000e+00,  8.315930e-04,  1.663186e-03, ...,  1.188029e+00,\n",
       "         1.197088e+00,  1.206157e+00],\n",
       "       ...,\n",
       "       [-0.000000e+00, -4.780196e-06, -9.559678e-06, ..., -3.037801e-02,\n",
       "        -3.066044e-02, -3.095376e-02],\n",
       "       [ 0.000000e+00,  1.770717e-04,  3.538830e-04, ...,  4.580568e-01,\n",
       "         4.529745e-01,  4.483530e-01],\n",
       "       [ 0.000000e+00,  0.000000e+00,  0.000000e+00, ...,  2.033561e-01,\n",
       "         2.049968e-01,  2.063922e-01]])</pre></div></li><li class='xr-var-item'><div class='xr-var-name'><span>time</span></div><div class='xr-var-dims'>(year)</div><div class='xr-var-dtype'>datetime64[ns]</div><div class='xr-var-preview xr-preview'>...</div><input id='attrs-abeae633-7968-493a-b470-8e6a82a6daa2' class='xr-var-attrs-in' type='checkbox' disabled><label for='attrs-abeae633-7968-493a-b470-8e6a82a6daa2' title='Show/Hide attributes'><svg class='icon xr-icon-file-text2'><use xlink:href='#icon-file-text2'></use></svg></label><input id='data-a06321c6-111f-427a-b057-ba2dfe0ff97e' class='xr-var-data-in' type='checkbox'><label for='data-a06321c6-111f-427a-b057-ba2dfe0ff97e' title='Show/Hide data repr'><svg class='icon xr-icon-database'><use xlink:href='#icon-database'></use></svg></label><div class='xr-var-attrs'><dl class='xr-attrs'></dl></div><div class='xr-var-data'><pre>array([&#x27;1750-01-01T00:00:00.000000000&#x27;, &#x27;1751-01-01T00:00:00.000000000&#x27;,\n",
       "       &#x27;1752-01-01T00:00:00.000000000&#x27;, ..., &#x27;2017-01-01T00:00:00.000000000&#x27;,\n",
       "       &#x27;2018-01-01T00:00:00.000000000&#x27;, &#x27;2019-01-01T00:00:00.000000000&#x27;],\n",
       "      dtype=&#x27;datetime64[ns]&#x27;)</pre></div></li><li class='xr-var-item'><div class='xr-var-name'><span>delta_t</span></div><div class='xr-var-dims'>(year)</div><div class='xr-var-dtype'>float64</div><div class='xr-var-preview xr-preview'>...</div><input id='attrs-5e9fca67-e4c2-4327-9224-21940b5fd86e' class='xr-var-attrs-in' type='checkbox' disabled><label for='attrs-5e9fca67-e4c2-4327-9224-21940b5fd86e' title='Show/Hide attributes'><svg class='icon xr-icon-file-text2'><use xlink:href='#icon-file-text2'></use></svg></label><input id='data-fdc98605-e0c4-40cd-802a-2a7a39d15fb7' class='xr-var-data-in' type='checkbox'><label for='data-fdc98605-e0c4-40cd-802a-2a7a39d15fb7' title='Show/Hide data repr'><svg class='icon xr-icon-database'><use xlink:href='#icon-database'></use></svg></label><div class='xr-var-attrs'><dl class='xr-attrs'></dl></div><div class='xr-var-data'><pre>array([1., 1., 1., ..., 1., 1., 1.])</pre></div></li><li class='xr-var-item'><div class='xr-var-name'><span>Delta T</span></div><div class='xr-var-dims'>(percentile, variable, year)</div><div class='xr-var-dtype'>float64</div><div class='xr-var-preview xr-preview'>...</div><input id='attrs-64ee193f-8378-437f-87ba-02e26ecf46a7' class='xr-var-attrs-in' type='checkbox' disabled><label for='attrs-64ee193f-8378-437f-87ba-02e26ecf46a7' title='Show/Hide attributes'><svg class='icon xr-icon-file-text2'><use xlink:href='#icon-file-text2'></use></svg></label><input id='data-956f0a75-3149-4e99-aee4-d5b18abd15d5' class='xr-var-data-in' type='checkbox'><label for='data-956f0a75-3149-4e99-aee4-d5b18abd15d5' title='Show/Hide data repr'><svg class='icon xr-icon-database'><use xlink:href='#icon-database'></use></svg></label><div class='xr-var-attrs'><dl class='xr-attrs'></dl></div><div class='xr-var-data'><pre>array([[[0.      , 0.      , ..., 0.93289 , 0.951383],\n",
       "        [0.      , 0.      , ..., 0.110333, 0.112206],\n",
       "        ...,\n",
       "        [0.      , 0.      , ..., 0.255489, 0.252492],\n",
       "        [0.      , 0.      , ..., 0.096516, 0.097289]]])</pre></div></li></ul></div></li><li class='xr-section-item'><input id='section-545007a4-7a90-4809-a35a-24ed0c42900a' class='xr-section-summary-in' type='checkbox' disabled ><label for='section-545007a4-7a90-4809-a35a-24ed0c42900a' class='xr-section-summary'  title='Expand/collapse section'>Attributes: <span>(0)</span></label><div class='xr-section-inline-details'></div><div class='xr-section-details'><dl class='xr-attrs'></dl></div></li></ul></div></div>"
      ],
      "text/plain": [
       "<xarray.Dataset>\n",
       "Dimensions:     (percentile: 1, variable: 10, year: 270)\n",
       "Coordinates:\n",
       "  * year        (year) int64 1750 1751 1752 1753 1754 ... 2016 2017 2018 2019\n",
       "  * variable    (variable) object 'CO2' 'N2O' 'CH4' 'NOx' ... 'NH3' 'VOC' 'HC'\n",
       "  * percentile  (percentile) object 'recommendation'\n",
       "Data variables:\n",
       "    ERF         (variable, year) float64 ...\n",
       "    time        (year) datetime64[ns] ...\n",
       "    delta_t     (year) float64 ...\n",
       "    Delta T     (percentile, variable, year) float64 ..."
      ]
     },
     "execution_count": 11,
     "metadata": {},
     "output_type": "execute_result"
    }
   ],
   "source": [
    "ds = xr.open_dataset(PATH_DATASET)\n",
    "ds#['Delta T']"
   ]
  },
  {
   "cell_type": "markdown",
   "metadata": {},
   "source": [
    "### Overview plots"
   ]
  },
  {
   "cell_type": "code",
   "execution_count": 12,
   "metadata": {},
   "outputs": [
    {
     "name": "stdout",
     "output_type": "stream",
     "text": [
      "(0.9568627450980393, 0.796078431372549, 0.21176470588235294)\n",
      "(0.8274509803921568, 0.0, 0.1568627450980392)\n",
      "(1.0, 0.4196078431372549, 0.07450980392156863)\n",
      "(0.26666666666666666, 0.0, 0.5254901960784314)\n",
      "(0.3764705882352941, 0.5725490196078431, 0.796078431372549)\n",
      "(0.5411764705882353, 0.2235294117647059, 0.0)\n",
      "(0.4745098039215686, 0.792156862745098, 0.9333333333333333)\n",
      "(0.0, 0.6901960784313725, 0.6039215686274509)\n",
      "(0.0, 0.5019607843137255, 0.23137254901960785)\n",
      "(0.47843137254901963, 0.5058823529411764, 0.5058823529411764)\n"
     ]
    }
   ],
   "source": [
    "cols = get_cmap_dic(ds['variable'].values)"
   ]
  },
  {
   "cell_type": "code",
   "execution_count": 13,
   "metadata": {},
   "outputs": [
    {
     "data": {
      "image/png": "[encoded data removed]",
      "text/plain": [
       "<Figure size 432x432 with 2 Axes>"
      ]
     },
     "metadata": {
      "needs_background": "light"
     },
     "output_type": "display_data"
    }
   ],
   "source": [
    "fig, axs = plt.subplots(2, sharex=True, figsize=[6,6])\n",
    "\n",
    "ax_erf = axs[0]\n",
    "ax_dT = axs[1]\n",
    "for v in ds['variable'].values:\n",
    "    ds.sel(variable=v)['Delta T'].plot(ax=ax_dT, label=v, c=cols[v])\n",
    "    ds.sel(variable=v)['ERF'].plot(ax=ax_erf, c=cols[v])\n",
    "ds.sum('variable')['Delta T'].plot(ax=ax_dT, label='Sum', c='k',linewidth=2)\n",
    "ds.sum('variable')['ERF'].plot(ax=ax_erf, c='k',linewidth=2)\n",
    "    \n",
    "ax_dT.set_title('Temperature change')\n",
    "ax_erf.set_title('ERF')\n",
    "ax_erf.set_ylabel('ERF [W m$^{-2}$]')\n",
    "ax_dT.set_ylabel('$\\Delta$ GSAT [$^{\\circ}$C]')\n",
    "ax_erf.set_xlabel('')\n",
    "ax_dT.legend(ncol=4, loc='upper left', frameon=False)\n",
    "plt.tight_layout()\n",
    "fig.savefig('hist_timeseries_ERF_dT.png', dpi=300)"
   ]
  },
  {
   "cell_type": "code",
   "execution_count": 14,
   "metadata": {
    "lines_to_next_cell": 2
   },
   "outputs": [],
   "source": [
    "df_deltaT = ds['Delta T'].squeeze().drop('percentile').to_dataframe().unstack('variable')['Delta T']"
   ]
  },
  {
   "cell_type": "code",
   "execution_count": 15,
   "metadata": {
    "lines_to_next_cell": 2
   },
   "outputs": [],
   "source": [
    "col_list = [cols[c] for c in df_deltaT.columns]"
   ]
  },
  {
   "cell_type": "code",
   "execution_count": 16,
   "metadata": {},
   "outputs": [],
   "source": [
    "import seaborn as sns"
   ]
  },
  {
   "cell_type": "code",
   "execution_count": 17,
   "metadata": {},
   "outputs": [
    {
     "data": {
      "image/png": "[encoded data removed]",
      "text/plain": [
       "<Figure size 720x360 with 1 Axes>"
      ]
     },
     "metadata": {
      "needs_background": "light"
     },
     "output_type": "display_data"
    }
   ],
   "source": [
    "df_deltaT = ds['Delta T'].squeeze().drop('percentile').to_dataframe().unstack('variable')['Delta T']\n",
    "\n",
    "fig, ax = plt.subplots(figsize=[10,5])\n",
    "ax.hlines(0,1740,2028, linestyle='solid',alpha=0.9, color='k', linewidth=0.5)#.sum(axis=1).plot(linestyle='dashed', color='k', linewidth=3)\n",
    "\n",
    "df_deltaT.plot.area( color=col_list, ax=ax)\n",
    "df_deltaT.sum(axis=1).plot(linestyle='dashed', color='k', linewidth=3, label='Sum')\n",
    "plt.legend(loc='upper left',ncol=3, frameon=False)\n",
    "plt.ylabel('$\\Delta$ GSAT ($^\\circ$ C)')\n",
    "ax.set_xlim([1740,2028])\n",
    "sns.despine()"
   ]
  },
  {
   "cell_type": "code",
   "execution_count": 18,
   "metadata": {
    "lines_to_next_cell": 2
   },
   "outputs": [],
   "source": [
    "import seaborn as sns"
   ]
  },
  {
   "cell_type": "markdown",
   "metadata": {},
   "source": [
    "# Split up ERF/warming into sources by using data from Thornhill"
   ]
  },
  {
   "cell_type": "markdown",
   "metadata": {},
   "source": [
    "We use the original split up in ERF from Thornhill/Bill Collin's plot "
   ]
  },
  {
   "cell_type": "markdown",
   "metadata": {},
   "source": [
    "Open dataset from Bill Collin's script:"
   ]
  },
  {
   "cell_type": "code",
   "execution_count": 19,
   "metadata": {},
   "outputs": [],
   "source": [
    "from ar6_ch6_rcmipfigs.constants import BASE_DIR, OUTPUT_DATA_DIR\n",
    "# file path table of ERF 2019-1750\n",
    "\n"
   ]
  },
  {
   "cell_type": "code",
   "execution_count": 20,
   "metadata": {},
   "outputs": [],
   "source": [
    "import pandas as pd"
   ]
  },
  {
   "cell_type": "code",
   "execution_count": 21,
   "metadata": {},
   "outputs": [
    {
     "data": {
      "text/html": [
       "<div>\n",
       "<style scoped>\n",
       "    .dataframe tbody tr th:only-of-type {\n",
       "        vertical-align: middle;\n",
       "    }\n",
       "\n",
       "    .dataframe tbody tr th {\n",
       "        vertical-align: top;\n",
       "    }\n",
       "\n",
       "    .dataframe thead th {\n",
       "        text-align: right;\n",
       "    }\n",
       "</style>\n",
       "<table border=\"1\" class=\"dataframe\">\n",
       "  <thead>\n",
       "    <tr style=\"text-align: right;\">\n",
       "      <th></th>\n",
       "      <th>CO2</th>\n",
       "      <th>CH4_lifetime</th>\n",
       "      <th>Strat_H2O</th>\n",
       "      <th>Aerosol</th>\n",
       "      <th>Cloud</th>\n",
       "      <th>O3</th>\n",
       "      <th>HC</th>\n",
       "      <th>N2O</th>\n",
       "      <th>HFCs</th>\n",
       "    </tr>\n",
       "    <tr>\n",
       "      <th>emission_experiment</th>\n",
       "      <th></th>\n",
       "      <th></th>\n",
       "      <th></th>\n",
       "      <th></th>\n",
       "      <th></th>\n",
       "      <th></th>\n",
       "      <th></th>\n",
       "      <th></th>\n",
       "      <th></th>\n",
       "    </tr>\n",
       "  </thead>\n",
       "  <tbody>\n",
       "    <tr>\n",
       "      <th>CO2</th>\n",
       "      <td>2.057554</td>\n",
       "      <td>0.000000</td>\n",
       "      <td>0.00</td>\n",
       "      <td>0.000000</td>\n",
       "      <td>0.000000</td>\n",
       "      <td>0.000000</td>\n",
       "      <td>0.00</td>\n",
       "      <td>0.00</td>\n",
       "      <td>0.000000</td>\n",
       "    </tr>\n",
       "    <tr>\n",
       "      <th>CH4</th>\n",
       "      <td>0.017549</td>\n",
       "      <td>0.844457</td>\n",
       "      <td>0.05</td>\n",
       "      <td>-0.003448</td>\n",
       "      <td>0.018421</td>\n",
       "      <td>0.279179</td>\n",
       "      <td>0.00</td>\n",
       "      <td>0.00</td>\n",
       "      <td>0.000000</td>\n",
       "    </tr>\n",
       "    <tr>\n",
       "      <th>N2O</th>\n",
       "      <td>0.000000</td>\n",
       "      <td>-0.035967</td>\n",
       "      <td>0.00</td>\n",
       "      <td>-0.002717</td>\n",
       "      <td>0.042503</td>\n",
       "      <td>0.024311</td>\n",
       "      <td>0.00</td>\n",
       "      <td>0.21</td>\n",
       "      <td>0.000000</td>\n",
       "    </tr>\n",
       "    <tr>\n",
       "      <th>HC</th>\n",
       "      <td>0.000053</td>\n",
       "      <td>-0.050927</td>\n",
       "      <td>0.00</td>\n",
       "      <td>-0.010501</td>\n",
       "      <td>-0.017419</td>\n",
       "      <td>-0.164586</td>\n",
       "      <td>0.41</td>\n",
       "      <td>0.00</td>\n",
       "      <td>0.039772</td>\n",
       "    </tr>\n",
       "    <tr>\n",
       "      <th>NOx</th>\n",
       "      <td>0.000000</td>\n",
       "      <td>-0.380025</td>\n",
       "      <td>0.00</td>\n",
       "      <td>-0.011912</td>\n",
       "      <td>-0.014458</td>\n",
       "      <td>0.120237</td>\n",
       "      <td>0.00</td>\n",
       "      <td>0.00</td>\n",
       "      <td>0.000000</td>\n",
       "    </tr>\n",
       "    <tr>\n",
       "      <th>VOC</th>\n",
       "      <td>0.069491</td>\n",
       "      <td>0.162462</td>\n",
       "      <td>0.00</td>\n",
       "      <td>-0.003344</td>\n",
       "      <td>0.008884</td>\n",
       "      <td>0.210860</td>\n",
       "      <td>0.00</td>\n",
       "      <td>0.00</td>\n",
       "      <td>0.000000</td>\n",
       "    </tr>\n",
       "    <tr>\n",
       "      <th>SO2</th>\n",
       "      <td>0.000000</td>\n",
       "      <td>0.000000</td>\n",
       "      <td>0.00</td>\n",
       "      <td>-0.214702</td>\n",
       "      <td>-0.683985</td>\n",
       "      <td>0.000000</td>\n",
       "      <td>0.00</td>\n",
       "      <td>0.00</td>\n",
       "      <td>0.000000</td>\n",
       "    </tr>\n",
       "    <tr>\n",
       "      <th>OC</th>\n",
       "      <td>0.000000</td>\n",
       "      <td>0.000000</td>\n",
       "      <td>0.00</td>\n",
       "      <td>-0.066129</td>\n",
       "      <td>-0.133067</td>\n",
       "      <td>0.000000</td>\n",
       "      <td>0.00</td>\n",
       "      <td>0.00</td>\n",
       "      <td>0.000000</td>\n",
       "    </tr>\n",
       "    <tr>\n",
       "      <th>BC</th>\n",
       "      <td>0.000000</td>\n",
       "      <td>0.000000</td>\n",
       "      <td>0.00</td>\n",
       "      <td>0.123707</td>\n",
       "      <td>-0.060878</td>\n",
       "      <td>0.000000</td>\n",
       "      <td>0.00</td>\n",
       "      <td>0.00</td>\n",
       "      <td>0.000000</td>\n",
       "    </tr>\n",
       "    <tr>\n",
       "      <th>NH3</th>\n",
       "      <td>0.000000</td>\n",
       "      <td>0.000000</td>\n",
       "      <td>0.00</td>\n",
       "      <td>-0.030954</td>\n",
       "      <td>0.000000</td>\n",
       "      <td>0.000000</td>\n",
       "      <td>0.00</td>\n",
       "      <td>0.00</td>\n",
       "      <td>0.000000</td>\n",
       "    </tr>\n",
       "  </tbody>\n",
       "</table>\n",
       "</div>"
      ],
      "text/plain": [
       "                          CO2  CH4_lifetime  Strat_H2O   Aerosol     Cloud  \\\n",
       "emission_experiment                                                          \n",
       "CO2                  2.057554      0.000000       0.00  0.000000  0.000000   \n",
       "CH4                  0.017549      0.844457       0.05 -0.003448  0.018421   \n",
       "N2O                  0.000000     -0.035967       0.00 -0.002717  0.042503   \n",
       "HC                   0.000053     -0.050927       0.00 -0.010501 -0.017419   \n",
       "NOx                  0.000000     -0.380025       0.00 -0.011912 -0.014458   \n",
       "VOC                  0.069491      0.162462       0.00 -0.003344  0.008884   \n",
       "SO2                  0.000000      0.000000       0.00 -0.214702 -0.683985   \n",
       "OC                   0.000000      0.000000       0.00 -0.066129 -0.133067   \n",
       "BC                   0.000000      0.000000       0.00  0.123707 -0.060878   \n",
       "NH3                  0.000000      0.000000       0.00 -0.030954  0.000000   \n",
       "\n",
       "                           O3    HC   N2O      HFCs  \n",
       "emission_experiment                                  \n",
       "CO2                  0.000000  0.00  0.00  0.000000  \n",
       "CH4                  0.279179  0.00  0.00  0.000000  \n",
       "N2O                  0.024311  0.00  0.21  0.000000  \n",
       "HC                  -0.164586  0.41  0.00  0.039772  \n",
       "NOx                  0.120237  0.00  0.00  0.000000  \n",
       "VOC                  0.210860  0.00  0.00  0.000000  \n",
       "SO2                  0.000000  0.00  0.00  0.000000  \n",
       "OC                   0.000000  0.00  0.00  0.000000  \n",
       "BC                   0.000000  0.00  0.00  0.000000  \n",
       "NH3                  0.000000  0.00  0.00  0.000000  "
      ]
     },
     "execution_count": 21,
     "metadata": {},
     "output_type": "execute_result"
    }
   ],
   "source": [
    "df_collins = pd.read_csv(fn_ERF_2019, index_col=0)\n",
    "df_collins.index = df_collins.index.rename('emission_experiment')\n",
    "df_collins_sd = pd.read_csv(fp_collins_sd, index_col=0)\n",
    "df_collins"
   ]
  },
  {
   "cell_type": "code",
   "execution_count": 22,
   "metadata": {
    "lines_to_next_cell": 2
   },
   "outputs": [],
   "source": [
    "width = 0.7\n",
    "kwargs = {'linewidth':.1,'edgecolor':'k'}"
   ]
  },
  {
   "cell_type": "markdown",
   "metadata": {},
   "source": [
    "## decompose GSAT as ERF "
   ]
  },
  {
   "cell_type": "markdown",
   "metadata": {},
   "source": [
    "### Source of delta T equal to source of ERF"
   ]
  },
  {
   "cell_type": "code",
   "execution_count": 23,
   "metadata": {},
   "outputs": [
    {
     "data": {
      "text/html": [
       "<div>\n",
       "<style scoped>\n",
       "    .dataframe tbody tr th:only-of-type {\n",
       "        vertical-align: middle;\n",
       "    }\n",
       "\n",
       "    .dataframe tbody tr th {\n",
       "        vertical-align: top;\n",
       "    }\n",
       "\n",
       "    .dataframe thead th {\n",
       "        text-align: right;\n",
       "    }\n",
       "</style>\n",
       "<table border=\"1\" class=\"dataframe\">\n",
       "  <thead>\n",
       "    <tr style=\"text-align: right;\">\n",
       "      <th></th>\n",
       "      <th>CO2</th>\n",
       "      <th>CH4_lifetime</th>\n",
       "      <th>Strat_H2O</th>\n",
       "      <th>Aerosol</th>\n",
       "      <th>Cloud</th>\n",
       "      <th>O3</th>\n",
       "      <th>HC</th>\n",
       "      <th>N2O</th>\n",
       "      <th>HFCs</th>\n",
       "    </tr>\n",
       "    <tr>\n",
       "      <th>emission_experiment</th>\n",
       "      <th></th>\n",
       "      <th></th>\n",
       "      <th></th>\n",
       "      <th></th>\n",
       "      <th></th>\n",
       "      <th></th>\n",
       "      <th></th>\n",
       "      <th></th>\n",
       "      <th></th>\n",
       "    </tr>\n",
       "  </thead>\n",
       "  <tbody>\n",
       "    <tr>\n",
       "      <th>CO2</th>\n",
       "      <td>2.057554</td>\n",
       "      <td>0.000000</td>\n",
       "      <td>0.00</td>\n",
       "      <td>0.000000</td>\n",
       "      <td>0.000000</td>\n",
       "      <td>0.000000</td>\n",
       "      <td>0.00</td>\n",
       "      <td>0.00</td>\n",
       "      <td>0.000000</td>\n",
       "    </tr>\n",
       "    <tr>\n",
       "      <th>CH4</th>\n",
       "      <td>0.017549</td>\n",
       "      <td>0.844457</td>\n",
       "      <td>0.05</td>\n",
       "      <td>-0.003448</td>\n",
       "      <td>0.018421</td>\n",
       "      <td>0.279179</td>\n",
       "      <td>0.00</td>\n",
       "      <td>0.00</td>\n",
       "      <td>0.000000</td>\n",
       "    </tr>\n",
       "    <tr>\n",
       "      <th>N2O</th>\n",
       "      <td>0.000000</td>\n",
       "      <td>-0.035967</td>\n",
       "      <td>0.00</td>\n",
       "      <td>-0.002717</td>\n",
       "      <td>0.042503</td>\n",
       "      <td>0.024311</td>\n",
       "      <td>0.00</td>\n",
       "      <td>0.21</td>\n",
       "      <td>0.000000</td>\n",
       "    </tr>\n",
       "    <tr>\n",
       "      <th>HC</th>\n",
       "      <td>0.000053</td>\n",
       "      <td>-0.050927</td>\n",
       "      <td>0.00</td>\n",
       "      <td>-0.010501</td>\n",
       "      <td>-0.017419</td>\n",
       "      <td>-0.164586</td>\n",
       "      <td>0.41</td>\n",
       "      <td>0.00</td>\n",
       "      <td>0.039772</td>\n",
       "    </tr>\n",
       "    <tr>\n",
       "      <th>NOx</th>\n",
       "      <td>0.000000</td>\n",
       "      <td>-0.380025</td>\n",
       "      <td>0.00</td>\n",
       "      <td>-0.011912</td>\n",
       "      <td>-0.014458</td>\n",
       "      <td>0.120237</td>\n",
       "      <td>0.00</td>\n",
       "      <td>0.00</td>\n",
       "      <td>0.000000</td>\n",
       "    </tr>\n",
       "    <tr>\n",
       "      <th>VOC</th>\n",
       "      <td>0.069491</td>\n",
       "      <td>0.162462</td>\n",
       "      <td>0.00</td>\n",
       "      <td>-0.003344</td>\n",
       "      <td>0.008884</td>\n",
       "      <td>0.210860</td>\n",
       "      <td>0.00</td>\n",
       "      <td>0.00</td>\n",
       "      <td>0.000000</td>\n",
       "    </tr>\n",
       "    <tr>\n",
       "      <th>SO2</th>\n",
       "      <td>0.000000</td>\n",
       "      <td>0.000000</td>\n",
       "      <td>0.00</td>\n",
       "      <td>-0.214702</td>\n",
       "      <td>-0.683985</td>\n",
       "      <td>0.000000</td>\n",
       "      <td>0.00</td>\n",
       "      <td>0.00</td>\n",
       "      <td>0.000000</td>\n",
       "    </tr>\n",
       "    <tr>\n",
       "      <th>OC</th>\n",
       "      <td>0.000000</td>\n",
       "      <td>0.000000</td>\n",
       "      <td>0.00</td>\n",
       "      <td>-0.066129</td>\n",
       "      <td>-0.133067</td>\n",
       "      <td>0.000000</td>\n",
       "      <td>0.00</td>\n",
       "      <td>0.00</td>\n",
       "      <td>0.000000</td>\n",
       "    </tr>\n",
       "    <tr>\n",
       "      <th>BC</th>\n",
       "      <td>0.000000</td>\n",
       "      <td>0.000000</td>\n",
       "      <td>0.00</td>\n",
       "      <td>0.123707</td>\n",
       "      <td>-0.060878</td>\n",
       "      <td>0.000000</td>\n",
       "      <td>0.00</td>\n",
       "      <td>0.00</td>\n",
       "      <td>0.000000</td>\n",
       "    </tr>\n",
       "    <tr>\n",
       "      <th>NH3</th>\n",
       "      <td>0.000000</td>\n",
       "      <td>0.000000</td>\n",
       "      <td>0.00</td>\n",
       "      <td>-0.030954</td>\n",
       "      <td>0.000000</td>\n",
       "      <td>0.000000</td>\n",
       "      <td>0.00</td>\n",
       "      <td>0.00</td>\n",
       "      <td>0.000000</td>\n",
       "    </tr>\n",
       "  </tbody>\n",
       "</table>\n",
       "</div>"
      ],
      "text/plain": [
       "                          CO2  CH4_lifetime  Strat_H2O   Aerosol     Cloud  \\\n",
       "emission_experiment                                                          \n",
       "CO2                  2.057554      0.000000       0.00  0.000000  0.000000   \n",
       "CH4                  0.017549      0.844457       0.05 -0.003448  0.018421   \n",
       "N2O                  0.000000     -0.035967       0.00 -0.002717  0.042503   \n",
       "HC                   0.000053     -0.050927       0.00 -0.010501 -0.017419   \n",
       "NOx                  0.000000     -0.380025       0.00 -0.011912 -0.014458   \n",
       "VOC                  0.069491      0.162462       0.00 -0.003344  0.008884   \n",
       "SO2                  0.000000      0.000000       0.00 -0.214702 -0.683985   \n",
       "OC                   0.000000      0.000000       0.00 -0.066129 -0.133067   \n",
       "BC                   0.000000      0.000000       0.00  0.123707 -0.060878   \n",
       "NH3                  0.000000      0.000000       0.00 -0.030954  0.000000   \n",
       "\n",
       "                           O3    HC   N2O      HFCs  \n",
       "emission_experiment                                  \n",
       "CO2                  0.000000  0.00  0.00  0.000000  \n",
       "CH4                  0.279179  0.00  0.00  0.000000  \n",
       "N2O                  0.024311  0.00  0.21  0.000000  \n",
       "HC                  -0.164586  0.41  0.00  0.039772  \n",
       "NOx                  0.120237  0.00  0.00  0.000000  \n",
       "VOC                  0.210860  0.00  0.00  0.000000  \n",
       "SO2                  0.000000  0.00  0.00  0.000000  \n",
       "OC                   0.000000  0.00  0.00  0.000000  \n",
       "BC                   0.000000  0.00  0.00  0.000000  \n",
       "NH3                  0.000000  0.00  0.00  0.000000  "
      ]
     },
     "execution_count": 23,
     "metadata": {},
     "output_type": "execute_result"
    }
   ],
   "source": [
    "df_collins"
   ]
  },
  {
   "cell_type": "code",
   "execution_count": null,
   "metadata": {
    "lines_to_next_cell": 2
   },
   "outputs": [],
   "source": []
  },
  {
   "cell_type": "markdown",
   "metadata": {},
   "source": [
    "#### GSAT"
   ]
  },
  {
   "cell_type": "code",
   "execution_count": 24,
   "metadata": {
    "lines_to_next_cell": 2
   },
   "outputs": [],
   "source": [
    "df_deltaT = ds['Delta T'].squeeze().drop('percentile').to_dataframe().unstack('variable')['Delta T']\n",
    "mean_PD = df_deltaT.loc[pd_period[0]:pd_period[1]].mean()\n",
    "mean_PD\n",
    "\n",
    "mean_PI = df_deltaT.loc[ref_period[0]:ref_period[1]].mean()\n"
   ]
  },
  {
   "cell_type": "code",
   "execution_count": 25,
   "metadata": {
    "lines_to_next_cell": 2
   },
   "outputs": [],
   "source": [
    "dT_period_diff = pd.DataFrame(mean_PD-mean_PI, columns=['diff'])#df_deltaT.loc[2019])\n",
    "dT_period_diff.index= dT_period_diff.index.rename('emission_experiment')"
   ]
  },
  {
   "cell_type": "markdown",
   "metadata": {},
   "source": [
    "Make normalized distribution of ERF to components"
   ]
  },
  {
   "cell_type": "code",
   "execution_count": 26,
   "metadata": {},
   "outputs": [
    {
     "data": {
      "text/plain": [
       "<matplotlib.axes._subplots.AxesSubplot at 0x7fb120296850>"
      ]
     },
     "execution_count": 26,
     "metadata": {},
     "output_type": "execute_result"
    },
    {
     "data": {
      "image/png": "[encoded data removed]",
      "text/plain": [
       "<Figure size 432x288 with 1 Axes>"
      ]
     },
     "metadata": {
      "needs_background": "light"
     },
     "output_type": "display_data"
    }
   ],
   "source": [
    "df_coll_t = df_collins.transpose()\n",
    "if 'Total' in df_coll_t.index:\n",
    "    df_coll_t = df_coll_t.drop('Total')\n",
    "# scale by total:\n",
    "scale = df_coll_t.sum()\n",
    "# normalized ERF: \n",
    "df_col_normalized = df_coll_t/scale\n",
    "#\n",
    "df_col_normalized.transpose().plot.barh(stacked=True)"
   ]
  },
  {
   "cell_type": "markdown",
   "metadata": {},
   "source": [
    "We multiply the change in GSAT in 2019 by the matrix describing the source distribution from the ERF:"
   ]
  },
  {
   "cell_type": "code",
   "execution_count": 27,
   "metadata": {},
   "outputs": [],
   "source": [
    "df_dt_sep = dT_period_diff['diff'] * df_col_normalized\n",
    "df_dt_sep=df_dt_sep.transpose()"
   ]
  },
  {
   "cell_type": "code",
   "execution_count": 28,
   "metadata": {},
   "outputs": [
    {
     "data": {
      "text/plain": [
       "<matplotlib.axes._subplots.AxesSubplot at 0x7fb0c041ee50>"
      ]
     },
     "execution_count": 28,
     "metadata": {},
     "output_type": "execute_result"
    },
    {
     "data": {
      "image/png": "[encoded data removed]",
      "text/plain": [
       "<Figure size 432x288 with 1 Axes>"
      ]
     },
     "metadata": {
      "needs_background": "light"
     },
     "output_type": "display_data"
    }
   ],
   "source": [
    "df_dt_sep.plot.bar(stacked=True)"
   ]
  },
  {
   "cell_type": "markdown",
   "metadata": {},
   "source": [
    "#### Double check that the sum is the same as before:"
   ]
  },
  {
   "cell_type": "code",
   "execution_count": 29,
   "metadata": {},
   "outputs": [
    {
     "data": {
      "image/png": "[encoded data removed]",
      "text/plain": [
       "<Figure size 432x288 with 1 Axes>"
      ]
     },
     "metadata": {
      "needs_background": "light"
     },
     "output_type": "display_data"
    }
   ],
   "source": [
    "df_dt_sep.transpose().sum().plot.line()\n",
    "plt.show()"
   ]
  },
  {
   "cell_type": "markdown",
   "metadata": {},
   "source": [
    "### ERF"
   ]
  },
  {
   "cell_type": "code",
   "execution_count": 30,
   "metadata": {
    "lines_to_next_cell": 2
   },
   "outputs": [],
   "source": [
    "df_ERF = ds['ERF'].squeeze().to_dataframe().unstack('variable')['ERF']\n",
    "mean_ERF_PD = df_ERF.loc[pd_period[0]:pd_period[1]].mean()\n",
    "\n",
    "mean_ERF_PI = df_ERF.loc[ref_period[0]:ref_period[1]].mean()"
   ]
  },
  {
   "cell_type": "code",
   "execution_count": 31,
   "metadata": {},
   "outputs": [
    {
     "data": {
      "text/plain": [
       "2.0575541755746745"
      ]
     },
     "execution_count": 31,
     "metadata": {},
     "output_type": "execute_result"
    }
   ],
   "source": [
    "df_ERF['CO2'].loc[2019]"
   ]
  },
  {
   "cell_type": "code",
   "execution_count": 32,
   "metadata": {},
   "outputs": [
    {
     "data": {
      "text/plain": [
       "1.7031441207959122"
      ]
     },
     "execution_count": 32,
     "metadata": {},
     "output_type": "execute_result"
    }
   ],
   "source": [
    "df_ERF['CO2'].loc[pd_period[0]:pd_period[1]].mean()-df_ERF['CO2'].loc[ref_period[0]:ref_period[1]].mean()\n",
    "\n"
   ]
  },
  {
   "cell_type": "code",
   "execution_count": 33,
   "metadata": {},
   "outputs": [
    {
     "data": {
      "text/plain": [
       "0.18206349863541488"
      ]
     },
     "execution_count": 33,
     "metadata": {},
     "output_type": "execute_result"
    }
   ],
   "source": [
    "df_ERF['CO2'].loc[ref_period[0]:ref_period[1]].mean()\n"
   ]
  },
  {
   "cell_type": "code",
   "execution_count": 34,
   "metadata": {
    "lines_to_next_cell": 2
   },
   "outputs": [],
   "source": [
    "ERF_period_diff = pd.DataFrame(mean_ERF_PD-mean_ERF_PI, columns=['diff'])#df_deltaT.loc[2019])\n",
    "ERF_period_diff.index= ERF_period_diff.index.rename('emission_experiment')"
   ]
  },
  {
   "cell_type": "markdown",
   "metadata": {},
   "source": [
    "We multiply the change in GSAT in 2019 by the matrix describing the source distribution from the ERF:"
   ]
  },
  {
   "cell_type": "code",
   "execution_count": 35,
   "metadata": {},
   "outputs": [],
   "source": [
    "df_erf_sep = ERF_period_diff['diff'] * df_col_normalized\n",
    "df_erf_sep=df_erf_sep.transpose()"
   ]
  },
  {
   "cell_type": "code",
   "execution_count": 36,
   "metadata": {},
   "outputs": [
    {
     "data": {
      "text/plain": [
       "<matplotlib.axes._subplots.AxesSubplot at 0x7fb1212cfd90>"
      ]
     },
     "execution_count": 36,
     "metadata": {},
     "output_type": "execute_result"
    },
    {
     "data": {
      "image/png": "[encoded data removed]",
      "text/plain": [
       "<Figure size 432x288 with 1 Axes>"
      ]
     },
     "metadata": {
      "needs_background": "light"
     },
     "output_type": "display_data"
    }
   ],
   "source": [
    "df_erf_sep.plot.bar(stacked=True)"
   ]
  },
  {
   "cell_type": "markdown",
   "metadata": {},
   "source": [
    "## Accounting for non-linearities in ERFaci, we scale down the ERF aci contribution to fit with chapter 7 "
   ]
  },
  {
   "cell_type": "code",
   "execution_count": 37,
   "metadata": {},
   "outputs": [
    {
     "name": "stdout",
     "output_type": "stream",
     "text": [
      "-0.38 -0.5039798256063833\n"
     ]
    },
    {
     "data": {
      "text/plain": [
       "CO2             0.831302\n",
       "CH4_lifetime    0.211464\n",
       "Strat_H2O       0.021566\n",
       "Aerosol        -0.132294\n",
       "Cloud          -0.380000\n",
       "O3              0.225202\n",
       "HC              0.187229\n",
       "N2O             0.083775\n",
       "HFCs            0.018162\n",
       "dtype: float64"
      ]
     },
     "execution_count": 37,
     "metadata": {},
     "output_type": "execute_result"
    }
   ],
   "source": [
    "scal_to = -0.38\n",
    "aci_tot = df_dt_sep.sum()['Cloud']\n",
    "scale_by = scal_to/aci_tot\n",
    "print(scal_to, aci_tot)\n",
    "\n",
    "df_dt_sep['Cloud'] = df_dt_sep['Cloud']*scale_by\n",
    "df_dt_sep.sum()"
   ]
  },
  {
   "cell_type": "markdown",
   "metadata": {},
   "source": [
    "## Uncertainties"
   ]
  },
  {
   "cell_type": "code",
   "execution_count": 38,
   "metadata": {},
   "outputs": [
    {
     "data": {
      "text/html": [
       "<div>\n",
       "<style scoped>\n",
       "    .dataframe tbody tr th:only-of-type {\n",
       "        vertical-align: middle;\n",
       "    }\n",
       "\n",
       "    .dataframe tbody tr th {\n",
       "        vertical-align: top;\n",
       "    }\n",
       "\n",
       "    .dataframe thead th {\n",
       "        text-align: right;\n",
       "    }\n",
       "</style>\n",
       "<table border=\"1\" class=\"dataframe\">\n",
       "  <thead>\n",
       "    <tr style=\"text-align: right;\">\n",
       "      <th></th>\n",
       "      <th>std</th>\n",
       "      <th>SE</th>\n",
       "      <th>95-50_SE</th>\n",
       "      <th>95-50</th>\n",
       "    </tr>\n",
       "    <tr>\n",
       "      <th>Species</th>\n",
       "      <th></th>\n",
       "      <th></th>\n",
       "      <th></th>\n",
       "      <th></th>\n",
       "    </tr>\n",
       "  </thead>\n",
       "  <tbody>\n",
       "    <tr>\n",
       "      <th>CO2</th>\n",
       "      <td>0.246907</td>\n",
       "      <td>NaN</td>\n",
       "      <td>0.246907</td>\n",
       "      <td>0.246907</td>\n",
       "    </tr>\n",
       "    <tr>\n",
       "      <th>CH4</th>\n",
       "      <td>0.182717</td>\n",
       "      <td>0.064600</td>\n",
       "      <td>0.106267</td>\n",
       "      <td>0.300569</td>\n",
       "    </tr>\n",
       "    <tr>\n",
       "      <th>N2O</th>\n",
       "      <td>0.061899</td>\n",
       "      <td>0.027682</td>\n",
       "      <td>0.045537</td>\n",
       "      <td>0.101825</td>\n",
       "    </tr>\n",
       "    <tr>\n",
       "      <th>HC</th>\n",
       "      <td>0.117053</td>\n",
       "      <td>0.047787</td>\n",
       "      <td>0.078609</td>\n",
       "      <td>0.192552</td>\n",
       "    </tr>\n",
       "    <tr>\n",
       "      <th>NOx</th>\n",
       "      <td>0.173085</td>\n",
       "      <td>0.077406</td>\n",
       "      <td>0.127333</td>\n",
       "      <td>0.284725</td>\n",
       "    </tr>\n",
       "    <tr>\n",
       "      <th>VOC</th>\n",
       "      <td>0.137949</td>\n",
       "      <td>0.061693</td>\n",
       "      <td>0.101484</td>\n",
       "      <td>0.226926</td>\n",
       "    </tr>\n",
       "    <tr>\n",
       "      <th>SO2</th>\n",
       "      <td>0.401442</td>\n",
       "      <td>0.163888</td>\n",
       "      <td>0.269596</td>\n",
       "      <td>0.660372</td>\n",
       "    </tr>\n",
       "    <tr>\n",
       "      <th>OC</th>\n",
       "      <td>0.134342</td>\n",
       "      <td>0.054845</td>\n",
       "      <td>0.090220</td>\n",
       "      <td>0.220992</td>\n",
       "    </tr>\n",
       "    <tr>\n",
       "      <th>BC</th>\n",
       "      <td>0.213043</td>\n",
       "      <td>0.080523</td>\n",
       "      <td>0.132460</td>\n",
       "      <td>0.350455</td>\n",
       "    </tr>\n",
       "    <tr>\n",
       "      <th>NH3</th>\n",
       "      <td>0.004422</td>\n",
       "      <td>0.003127</td>\n",
       "      <td>0.005144</td>\n",
       "      <td>0.007274</td>\n",
       "    </tr>\n",
       "  </tbody>\n",
       "</table>\n",
       "</div>"
      ],
      "text/plain": [
       "              std        SE  95-50_SE     95-50\n",
       "Species                                        \n",
       "CO2      0.246907       NaN  0.246907  0.246907\n",
       "CH4      0.182717  0.064600  0.106267  0.300569\n",
       "N2O      0.061899  0.027682  0.045537  0.101825\n",
       "HC       0.117053  0.047787  0.078609  0.192552\n",
       "NOx      0.173085  0.077406  0.127333  0.284725\n",
       "VOC      0.137949  0.061693  0.101484  0.226926\n",
       "SO2      0.401442  0.163888  0.269596  0.660372\n",
       "OC       0.134342  0.054845  0.090220  0.220992\n",
       "BC       0.213043  0.080523  0.132460  0.350455\n",
       "NH3      0.004422  0.003127  0.005144  0.007274"
      ]
     },
     "execution_count": 38,
     "metadata": {},
     "output_type": "execute_result"
    }
   ],
   "source": [
    "import pandas as pd\n",
    "num_mod_lab = 'Number of models (Thornhill 2020)'\n",
    "thornhill = pd.read_csv(fn_TAB2_THORNHILL, index_col=0)\n",
    "thornhill.index = thornhill.index.rename('Species')\n",
    "thornhill\n",
    "\n",
    "std_2_95th = 1.645\n",
    "\n",
    "sd_tot = df_collins_sd['Total_sd']\n",
    "df_err= pd.DataFrame(sd_tot.rename('std'))\n",
    "df_err['SE'] = df_err\n",
    "\n",
    "df_err['SE'] = df_err['std']/np.sqrt(thornhill[num_mod_lab])\n",
    "df_err['95-50_SE'] = df_err['SE']*std_2_95th\n",
    "df_err.loc['CO2','95-50_SE']= df_err.loc['CO2','std']\n",
    "df_err\n",
    "\n",
    "df_err['95-50'] = df_err['std']*std_2_95th\n",
    "df_err.loc['CO2','95-50']= df_err.loc['CO2','std']\n",
    "df_err"
   ]
  },
  {
   "cell_type": "markdown",
   "metadata": {},
   "source": [
    "#### Uncertainty on period mean ERF is scaled by uncertainty in 2019: \n"
   ]
  },
  {
   "cell_type": "markdown",
   "metadata": {},
   "source": [
    "### CONTINUE HERE!!!"
   ]
  },
  {
   "cell_type": "code",
   "execution_count": 41,
   "metadata": {},
   "outputs": [],
   "source": [
    "ERF_2019_tot = df_collins.mean(axis=1).reindex(df_err.index)\n",
    "ERF_period_diff_tot = df_erf_sep.mean(axis=1).reindex(df_err.index)"
   ]
  },
  {
   "cell_type": "code",
   "execution_count": 42,
   "metadata": {},
   "outputs": [
    {
     "data": {
      "text/html": [
       "<div>\n",
       "<style scoped>\n",
       "    .dataframe tbody tr th:only-of-type {\n",
       "        vertical-align: middle;\n",
       "    }\n",
       "\n",
       "    .dataframe tbody tr th {\n",
       "        vertical-align: top;\n",
       "    }\n",
       "\n",
       "    .dataframe thead th {\n",
       "        text-align: right;\n",
       "    }\n",
       "</style>\n",
       "<table border=\"1\" class=\"dataframe\">\n",
       "  <thead>\n",
       "    <tr style=\"text-align: right;\">\n",
       "      <th></th>\n",
       "      <th>std</th>\n",
       "      <th>SE</th>\n",
       "      <th>95-50_SE</th>\n",
       "      <th>95-50</th>\n",
       "    </tr>\n",
       "    <tr>\n",
       "      <th>Species</th>\n",
       "      <th></th>\n",
       "      <th></th>\n",
       "      <th></th>\n",
       "      <th></th>\n",
       "    </tr>\n",
       "  </thead>\n",
       "  <tbody>\n",
       "    <tr>\n",
       "      <th>CO2</th>\n",
       "      <td>0.246907</td>\n",
       "      <td>NaN</td>\n",
       "      <td>0.246907</td>\n",
       "      <td>0.246907</td>\n",
       "    </tr>\n",
       "    <tr>\n",
       "      <th>CH4</th>\n",
       "      <td>0.182717</td>\n",
       "      <td>0.064600</td>\n",
       "      <td>0.106267</td>\n",
       "      <td>0.300569</td>\n",
       "    </tr>\n",
       "    <tr>\n",
       "      <th>N2O</th>\n",
       "      <td>0.061899</td>\n",
       "      <td>0.027682</td>\n",
       "      <td>0.045537</td>\n",
       "      <td>0.101825</td>\n",
       "    </tr>\n",
       "    <tr>\n",
       "      <th>HC</th>\n",
       "      <td>0.117053</td>\n",
       "      <td>0.047787</td>\n",
       "      <td>0.078609</td>\n",
       "      <td>0.192552</td>\n",
       "    </tr>\n",
       "    <tr>\n",
       "      <th>NOx</th>\n",
       "      <td>0.173085</td>\n",
       "      <td>0.077406</td>\n",
       "      <td>0.127333</td>\n",
       "      <td>0.284725</td>\n",
       "    </tr>\n",
       "    <tr>\n",
       "      <th>VOC</th>\n",
       "      <td>0.137949</td>\n",
       "      <td>0.061693</td>\n",
       "      <td>0.101484</td>\n",
       "      <td>0.226926</td>\n",
       "    </tr>\n",
       "    <tr>\n",
       "      <th>SO2</th>\n",
       "      <td>0.401442</td>\n",
       "      <td>0.163888</td>\n",
       "      <td>0.269596</td>\n",
       "      <td>0.660372</td>\n",
       "    </tr>\n",
       "    <tr>\n",
       "      <th>OC</th>\n",
       "      <td>0.134342</td>\n",
       "      <td>0.054845</td>\n",
       "      <td>0.090220</td>\n",
       "      <td>0.220992</td>\n",
       "    </tr>\n",
       "    <tr>\n",
       "      <th>BC</th>\n",
       "      <td>0.213043</td>\n",
       "      <td>0.080523</td>\n",
       "      <td>0.132460</td>\n",
       "      <td>0.350455</td>\n",
       "    </tr>\n",
       "    <tr>\n",
       "      <th>NH3</th>\n",
       "      <td>0.004422</td>\n",
       "      <td>0.003127</td>\n",
       "      <td>0.005144</td>\n",
       "      <td>0.007274</td>\n",
       "    </tr>\n",
       "  </tbody>\n",
       "</table>\n",
       "</div>"
      ],
      "text/plain": [
       "              std        SE  95-50_SE     95-50\n",
       "Species                                        \n",
       "CO2      0.246907       NaN  0.246907  0.246907\n",
       "CH4      0.182717  0.064600  0.106267  0.300569\n",
       "N2O      0.061899  0.027682  0.045537  0.101825\n",
       "HC       0.117053  0.047787  0.078609  0.192552\n",
       "NOx      0.173085  0.077406  0.127333  0.284725\n",
       "VOC      0.137949  0.061693  0.101484  0.226926\n",
       "SO2      0.401442  0.163888  0.269596  0.660372\n",
       "OC       0.134342  0.054845  0.090220  0.220992\n",
       "BC       0.213043  0.080523  0.132460  0.350455\n",
       "NH3      0.004422  0.003127  0.005144  0.007274"
      ]
     },
     "execution_count": 42,
     "metadata": {},
     "output_type": "execute_result"
    }
   ],
   "source": [
    "df_err#.reindex(ERF_2019_tot.)"
   ]
  },
  {
   "cell_type": "markdown",
   "metadata": {},
   "source": [
    "Scale by the period mean to the original 1750-2019 difference. "
   ]
  },
  {
   "cell_type": "code",
   "execution_count": 50,
   "metadata": {},
   "outputs": [],
   "source": [
    "df_err['95-50_period'] = df_err['95-50']*np.abs(ERF_period_diff_tot/ERF_2019_tot)"
   ]
  },
  {
   "cell_type": "code",
   "execution_count": 44,
   "metadata": {},
   "outputs": [
    {
     "data": {
      "text/html": [
       "<div>\n",
       "<style scoped>\n",
       "    .dataframe tbody tr th:only-of-type {\n",
       "        vertical-align: middle;\n",
       "    }\n",
       "\n",
       "    .dataframe tbody tr th {\n",
       "        vertical-align: top;\n",
       "    }\n",
       "\n",
       "    .dataframe thead th {\n",
       "        text-align: right;\n",
       "    }\n",
       "</style>\n",
       "<table border=\"1\" class=\"dataframe\">\n",
       "  <thead>\n",
       "    <tr style=\"text-align: right;\">\n",
       "      <th></th>\n",
       "      <th>std</th>\n",
       "      <th>SE</th>\n",
       "      <th>95-50_SE</th>\n",
       "      <th>95-50</th>\n",
       "      <th>95-50_period</th>\n",
       "    </tr>\n",
       "    <tr>\n",
       "      <th>Species</th>\n",
       "      <th></th>\n",
       "      <th></th>\n",
       "      <th></th>\n",
       "      <th></th>\n",
       "      <th></th>\n",
       "    </tr>\n",
       "  </thead>\n",
       "  <tbody>\n",
       "    <tr>\n",
       "      <th>CO2</th>\n",
       "      <td>0.246907</td>\n",
       "      <td>NaN</td>\n",
       "      <td>0.246907</td>\n",
       "      <td>0.246907</td>\n",
       "      <td>0.204377</td>\n",
       "    </tr>\n",
       "    <tr>\n",
       "      <th>CH4</th>\n",
       "      <td>0.182717</td>\n",
       "      <td>0.064600</td>\n",
       "      <td>0.106267</td>\n",
       "      <td>0.300569</td>\n",
       "      <td>0.256183</td>\n",
       "    </tr>\n",
       "    <tr>\n",
       "      <th>N2O</th>\n",
       "      <td>0.061899</td>\n",
       "      <td>0.027682</td>\n",
       "      <td>0.045537</td>\n",
       "      <td>0.101825</td>\n",
       "      <td>0.085736</td>\n",
       "    </tr>\n",
       "    <tr>\n",
       "      <th>HC</th>\n",
       "      <td>0.117053</td>\n",
       "      <td>0.047787</td>\n",
       "      <td>0.078609</td>\n",
       "      <td>0.192552</td>\n",
       "      <td>0.187043</td>\n",
       "    </tr>\n",
       "    <tr>\n",
       "      <th>NOx</th>\n",
       "      <td>0.173085</td>\n",
       "      <td>0.077406</td>\n",
       "      <td>0.127333</td>\n",
       "      <td>0.284725</td>\n",
       "      <td>0.292864</td>\n",
       "    </tr>\n",
       "    <tr>\n",
       "      <th>VOC</th>\n",
       "      <td>0.137949</td>\n",
       "      <td>0.061693</td>\n",
       "      <td>0.101484</td>\n",
       "      <td>0.226926</td>\n",
       "      <td>0.207663</td>\n",
       "    </tr>\n",
       "    <tr>\n",
       "      <th>SO2</th>\n",
       "      <td>0.401442</td>\n",
       "      <td>0.163888</td>\n",
       "      <td>0.269596</td>\n",
       "      <td>0.660372</td>\n",
       "      <td>0.689449</td>\n",
       "    </tr>\n",
       "    <tr>\n",
       "      <th>OC</th>\n",
       "      <td>0.134342</td>\n",
       "      <td>0.054845</td>\n",
       "      <td>0.090220</td>\n",
       "      <td>0.220992</td>\n",
       "      <td>0.165985</td>\n",
       "    </tr>\n",
       "    <tr>\n",
       "      <th>BC</th>\n",
       "      <td>0.213043</td>\n",
       "      <td>0.080523</td>\n",
       "      <td>0.132460</td>\n",
       "      <td>0.350455</td>\n",
       "      <td>0.317190</td>\n",
       "    </tr>\n",
       "    <tr>\n",
       "      <th>NH3</th>\n",
       "      <td>0.004422</td>\n",
       "      <td>0.003127</td>\n",
       "      <td>0.005144</td>\n",
       "      <td>0.007274</td>\n",
       "      <td>0.006533</td>\n",
       "    </tr>\n",
       "  </tbody>\n",
       "</table>\n",
       "</div>"
      ],
      "text/plain": [
       "              std        SE  95-50_SE     95-50  95-50_period\n",
       "Species                                                      \n",
       "CO2      0.246907       NaN  0.246907  0.246907      0.204377\n",
       "CH4      0.182717  0.064600  0.106267  0.300569      0.256183\n",
       "N2O      0.061899  0.027682  0.045537  0.101825      0.085736\n",
       "HC       0.117053  0.047787  0.078609  0.192552      0.187043\n",
       "NOx      0.173085  0.077406  0.127333  0.284725      0.292864\n",
       "VOC      0.137949  0.061693  0.101484  0.226926      0.207663\n",
       "SO2      0.401442  0.163888  0.269596  0.660372      0.689449\n",
       "OC       0.134342  0.054845  0.090220  0.220992      0.165985\n",
       "BC       0.213043  0.080523  0.132460  0.350455      0.317190\n",
       "NH3      0.004422  0.003127  0.005144  0.007274      0.006533"
      ]
     },
     "execution_count": 44,
     "metadata": {},
     "output_type": "execute_result"
    }
   ],
   "source": [
    "df_err"
   ]
  },
  {
   "cell_type": "markdown",
   "metadata": {},
   "source": [
    "## Uncertainties $\\Delta$ GSAT"
   ]
  },
  {
   "cell_type": "markdown",
   "metadata": {},
   "source": [
    "\n",
    "\\begin{align*} \n",
    "\\Delta T (t) &= \\int_0^t ERF(t') IRF(t-t') dt' \\\\\n",
    "\\end{align*}"
   ]
  },
  {
   "cell_type": "markdown",
   "metadata": {},
   "source": [
    "most of the uncertainty in the IRF derives from the uncertainty in the climate sensitivity which is said 3 (2.5-4), i.e. relative std 0.5/3 for the lower and 1/3 for the higher. If we treat this as two independent normally distributed variables multiplied together, $X$ and $Y$ and $X \\cdot Y$, we may propagate the uncertainty: \n",
    "\n",
    "\\begin{align*} \n",
    "\\frac{\\sigma_{XY}^2}{(XY)^2} = \\Big[(\\frac{\\sigma_X}{X})^2 + (\\frac{\\sigma_Y}{Y})^2 \\Big]\n",
    "\\end{align*}"
   ]
  },
  {
   "cell_type": "code",
   "execution_count": 51,
   "metadata": {
    "lines_to_next_cell": 2
   },
   "outputs": [
    {
     "data": {
      "text/plain": [
       "Species\n",
       "CO2     1.080000\n",
       "CH4     1.363380\n",
       "N2O     2.339462\n",
       "HC      5.104240\n",
       "NOx     5.443743\n",
       "VOC     2.769110\n",
       "SO2     4.020280\n",
       "OC      6.069779\n",
       "BC     30.517833\n",
       "NH3     1.285714\n",
       "dtype: float64"
      ]
     },
     "execution_count": 51,
     "metadata": {},
     "output_type": "execute_result"
    }
   ],
   "source": [
    "std_ERF =df_err['std']\n",
    "std_ECS_lw_rl = 0.5/3\n",
    "std_ECS_hg_rl = 1/3\n",
    "\n",
    "tot_ERF = ERF_2019_tot.reindex(std_ERF.index)#tab_plt_ERF.sum(axis=1)\n",
    "std_erf_rl = np.abs(std_ERF/tot_ERF)\n",
    "std_erf_rl"
   ]
  },
  {
   "cell_type": "code",
   "execution_count": null,
   "metadata": {},
   "outputs": [],
   "source": []
  },
  {
   "cell_type": "code",
   "execution_count": 52,
   "metadata": {},
   "outputs": [],
   "source": [
    "def rel_sigma_prod(rel_sigmaX,rel_sigmaY):\n",
    "    var_prod_rel =( (rel_sigmaX)**2 + (rel_sigmaY)**2)\n",
    "    rel_sigma_prod = np.sqrt(var_prod_rel)\n",
    "    return rel_sigma_prod\n",
    "\n",
    "rel_sig_lw =  rel_sigma_prod(std_erf_rl, std_ECS_lw_rl)\n",
    "rel_sig_hg =  rel_sigma_prod(std_erf_rl, std_ECS_hg_rl)"
   ]
  },
  {
   "cell_type": "code",
   "execution_count": 53,
   "metadata": {
    "lines_to_next_cell": 2
   },
   "outputs": [],
   "source": [
    "tot_dT = df_dt_sep.sum(axis=1).reindex(std_ERF.index)\n",
    "\n",
    "neg_v =(tot_dT<0)#.squeeze()"
   ]
  },
  {
   "cell_type": "code",
   "execution_count": 54,
   "metadata": {},
   "outputs": [
    {
     "data": {
      "text/plain": [
       "1.645"
      ]
     },
     "execution_count": 54,
     "metadata": {},
     "output_type": "execute_result"
    }
   ],
   "source": [
    "std_2_95th"
   ]
  },
  {
   "cell_type": "code",
   "execution_count": 56,
   "metadata": {},
   "outputs": [
    {
     "data": {
      "text/html": [
       "<div>\n",
       "<style scoped>\n",
       "    .dataframe tbody tr th:only-of-type {\n",
       "        vertical-align: middle;\n",
       "    }\n",
       "\n",
       "    .dataframe tbody tr th {\n",
       "        vertical-align: top;\n",
       "    }\n",
       "\n",
       "    .dataframe thead th {\n",
       "        text-align: right;\n",
       "    }\n",
       "</style>\n",
       "<table border=\"1\" class=\"dataframe\">\n",
       "  <thead>\n",
       "    <tr style=\"text-align: right;\">\n",
       "      <th></th>\n",
       "      <th>min 1 sigma</th>\n",
       "      <th>plus 1 sigma</th>\n",
       "      <th>p50-05</th>\n",
       "      <th>p95-50</th>\n",
       "    </tr>\n",
       "    <tr>\n",
       "      <th>Species</th>\n",
       "      <th></th>\n",
       "      <th></th>\n",
       "      <th></th>\n",
       "      <th></th>\n",
       "    </tr>\n",
       "  </thead>\n",
       "  <tbody>\n",
       "    <tr>\n",
       "      <th>CO2</th>\n",
       "      <td>0.861391</td>\n",
       "      <td>0.890940</td>\n",
       "      <td>1.416989</td>\n",
       "      <td>1.465596</td>\n",
       "    </tr>\n",
       "    <tr>\n",
       "      <th>CH4</th>\n",
       "      <td>0.711891</td>\n",
       "      <td>0.727443</td>\n",
       "      <td>1.171060</td>\n",
       "      <td>1.196644</td>\n",
       "    </tr>\n",
       "    <tr>\n",
       "      <th>N2O</th>\n",
       "      <td>0.213021</td>\n",
       "      <td>0.214628</td>\n",
       "      <td>0.350419</td>\n",
       "      <td>0.353063</td>\n",
       "    </tr>\n",
       "    <tr>\n",
       "      <th>HC</th>\n",
       "      <td>0.491325</td>\n",
       "      <td>0.492109</td>\n",
       "      <td>0.808229</td>\n",
       "      <td>0.809519</td>\n",
       "    </tr>\n",
       "    <tr>\n",
       "      <th>NOx</th>\n",
       "      <td>0.803273</td>\n",
       "      <td>0.802147</td>\n",
       "      <td>1.321384</td>\n",
       "      <td>1.319531</td>\n",
       "    </tr>\n",
       "    <tr>\n",
       "      <th>VOC</th>\n",
       "      <td>0.631491</td>\n",
       "      <td>0.634901</td>\n",
       "      <td>1.038802</td>\n",
       "      <td>1.044411</td>\n",
       "    </tr>\n",
       "    <tr>\n",
       "      <th>SO2</th>\n",
       "      <td>1.877434</td>\n",
       "      <td>1.872621</td>\n",
       "      <td>3.088379</td>\n",
       "      <td>3.080462</td>\n",
       "    </tr>\n",
       "    <tr>\n",
       "      <th>OC</th>\n",
       "      <td>0.402244</td>\n",
       "      <td>0.401791</td>\n",
       "      <td>0.661692</td>\n",
       "      <td>0.660945</td>\n",
       "    </tr>\n",
       "    <tr>\n",
       "      <th>BC</th>\n",
       "      <td>1.139840</td>\n",
       "      <td>1.139891</td>\n",
       "      <td>1.875038</td>\n",
       "      <td>1.875121</td>\n",
       "    </tr>\n",
       "    <tr>\n",
       "      <th>NH3</th>\n",
       "      <td>0.017682</td>\n",
       "      <td>0.017259</td>\n",
       "      <td>0.029087</td>\n",
       "      <td>0.028392</td>\n",
       "    </tr>\n",
       "  </tbody>\n",
       "</table>\n",
       "</div>"
      ],
      "text/plain": [
       "         min 1 sigma  plus 1 sigma    p50-05    p95-50\n",
       "Species                                               \n",
       "CO2         0.861391      0.890940  1.416989  1.465596\n",
       "CH4         0.711891      0.727443  1.171060  1.196644\n",
       "N2O         0.213021      0.214628  0.350419  0.353063\n",
       "HC          0.491325      0.492109  0.808229  0.809519\n",
       "NOx         0.803273      0.802147  1.321384  1.319531\n",
       "VOC         0.631491      0.634901  1.038802  1.044411\n",
       "SO2         1.877434      1.872621  3.088379  3.080462\n",
       "OC          0.402244      0.401791  0.661692  0.660945\n",
       "BC          1.139840      1.139891  1.875038  1.875121\n",
       "NH3         0.017682      0.017259  0.029087  0.028392"
      ]
     },
     "execution_count": 56,
     "metadata": {},
     "output_type": "execute_result"
    }
   ],
   "source": [
    "err_dT = pd.DataFrame(index=tot_dT.index)\n",
    "err_dT['min 1 sigma'] = np.abs(tot_dT*rel_sig_lw)#*tot_dT\n",
    "err_dT['plus 1 sigma'] =np.abs(tot_dT*rel_sig_hg)\n",
    "err_dT['plus 1 sigma'][neg_v]=np.abs(tot_dT*rel_sig_lw)[neg_v]#.iloc[neg_v].iloc[neg_v].iloc[neg_v]\n",
    "err_dT['min 1 sigma'][neg_v]=np.abs(tot_dT*rel_sig_hg)[neg_v]#.iloc[neg_v].iloc[neg_v].iloc[neg_v]\n",
    "#err_dT['min 1 sigma'].iloc[neg_v] =np.abs(tot_dT*rel_sig_hg).iloc[neg_v]\n",
    "#err_dT['plus 1 sigma'][neg_v] = np.abs(tot_dT*rel_sig_lw)[neg_v]\n",
    "#err_dT['min 1 sigma'][neg_v] = np.abs(tot_dT*rel_sig_hg)[neg_v]\n",
    "#[::-1]\n",
    "err_dT['p50-05'] = err_dT['min 1 sigma']*std_2_95th\n",
    "err_dT['p95-50'] = err_dT['plus 1 sigma']*std_2_95th\n",
    "err_dT\n",
    "\n",
    "#var_nn_dir = [rename_dic_cols[v] for v in varn]"
   ]
  },
  {
   "cell_type": "code",
   "execution_count": 125,
   "metadata": {},
   "outputs": [],
   "source": [
    "df_err = df_err.rename(rename_dic_cols, axis=0)"
   ]
  },
  {
   "cell_type": "markdown",
   "metadata": {},
   "source": [
    "### Reorder and rename"
   ]
  },
  {
   "cell_type": "code",
   "execution_count": 126,
   "metadata": {},
   "outputs": [],
   "source": [
    "exps_ls = ['CO2', 'CH4', 'N2O', 'HC', 'NOx', 'VOC', 'SO2', 'OC', 'BC', 'NH3']"
   ]
  },
  {
   "cell_type": "code",
   "execution_count": 127,
   "metadata": {},
   "outputs": [],
   "source": [
    "tab_plt_dT = df_dt_sep.loc[::-1,var_dir]#.rename(rename_dic_cat, axis=1).rename(rename_dic_cols, axis=0)\n",
    "tab_plt_dT = tab_plt_dT.loc[exps_ls]\n",
    "tab_plt_dT = tab_plt_dT.rename(rename_dic_cat, axis=1).rename(rename_dic_cols, axis=0)"
   ]
  },
  {
   "cell_type": "code",
   "execution_count": 128,
   "metadata": {},
   "outputs": [],
   "source": [
    "tab_plt_erf = df_erf_sep.loc[::-1,var_dir]#.rename(rename_dic_cat, axis=1).rename(rename_dic_cols, axis=0)\n",
    "tab_plt_erf = tab_plt_erf.loc[exps_ls]\n",
    "tab_plt_erf = tab_plt_erf.rename(rename_dic_cat, axis=1).rename(rename_dic_cols, axis=0)"
   ]
  },
  {
   "cell_type": "code",
   "execution_count": 129,
   "metadata": {},
   "outputs": [
    {
     "name": "stdout",
     "output_type": "stream",
     "text": [
      "(0.9568627450980393, 0.796078431372549, 0.21176470588235294)\n",
      "(0.8274509803921568, 0.0, 0.1568627450980392)\n",
      "(0.47843137254901963, 0.5058823529411764, 0.5058823529411764)\n",
      "(0.21568627450980393, 0.49411764705882355, 0.7215686274509804)\n",
      "(1.0, 0.4196078431372549, 0.07450980392156863)\n",
      "(0.5254901960784314, 0.7803921568627451, 0.29411764705882354)\n",
      "(0.47843137254901963, 0.5058823529411764, 0.5058823529411764)\n",
      "(0.792156862745098, 0.6980392156862745, 0.8392156862745098)\n",
      "(0.5607843137254902, 0.0, 0.6470588235294118)\n"
     ]
    }
   ],
   "source": [
    "cmap = get_cmap_dic(var_dir)\n",
    "col_ls = [cmap[c] for c in cmap.keys()]"
   ]
  },
  {
   "cell_type": "code",
   "execution_count": 130,
   "metadata": {},
   "outputs": [
    {
     "data": {
      "text/plain": [
       "emission_experiment\n",
       "CO$_2$              0.788254\n",
       "CH$_4$              0.518293\n",
       "N$_2$O              0.090825\n",
       "CFC + HCFC + HFC    0.096207\n",
       "NO$_x$             -0.147283\n",
       "NMVOC + CO          0.227636\n",
       "SO$_2$             -0.465394\n",
       "Organic carbon     -0.066170\n",
       "Black carbon        0.037349\n",
       "Ammonia            -0.013313\n",
       "dtype: float64"
      ]
     },
     "execution_count": 130,
     "metadata": {},
     "output_type": "execute_result"
    }
   ],
   "source": [
    "tab_plt_dT.sum(axis=1)"
   ]
  },
  {
   "cell_type": "code",
   "execution_count": null,
   "metadata": {
    "lines_to_next_cell": 2
   },
   "outputs": [],
   "source": [
    "from matplotlib.ticker import (MultipleLocator, AutoMinorLocator)"
   ]
  },
  {
   "cell_type": "code",
   "execution_count": null,
   "metadata": {
    "lines_to_next_cell": 2
   },
   "outputs": [],
   "source": [
    "sns.set_style()\n",
    "fig, axs = plt.subplots(1,2,dpi=300, figsize=[10,4])#, dpi=150)\n",
    "width=.8\n",
    "kws = {\n",
    "    'width':.8,\n",
    "    'linewidth':.1,\n",
    "    'edgecolor':'k',\n",
    "    \n",
    "}\n",
    "\n",
    "ax=axs[0]\n",
    "ax.axvline(x=0., color='k', linewidth=0.25)\n",
    "\n",
    "tab_plt_ERF.plot.barh(stacked=True, color=col_ls, ax=ax,**kws)\n",
    "#tot = table['Total'][::-1]\n",
    "tot = tab_plt_ERF.sum(axis=1)#tab_plt\n",
    "xerr = df_err['95-50'][::-1]\n",
    "y = np.arange(len(tot))\n",
    "ax.errorbar(tot, y,xerr=xerr,marker='d', linestyle='None', color='k', label='Sum', )\n",
    "#ax.legend(frameon=False)\n",
    "ax.set_ylabel('')\n",
    "\n",
    "\n",
    "for lab, y in zip(tab_plt.index, ybar):\n",
    "        #plt.text(-1.55, ybar[i], species[i],  ha='left')#, va='left')\n",
    "    ax.text(-1.9, y-0.1, lab,  ha='left')#, va='left')\n",
    "ax.set_title('Effective radiative forcing, 1750 to 2019')\n",
    "ax.set_xlabel(r'(W m$^{-2}$)')\n",
    "#ax.set_xlim(-1.5, 2.6)\n",
    "    #plt.xlim(-1.6, 2.0)\n",
    "#sns.despine(fig, left=True, trim=True)\n",
    "ax.legend(loc='lower right', frameon=False)\n",
    "ax.set_yticks([])\n",
    "\n",
    "ax.get_legend().remove()\n",
    "\n",
    "ax.set_xticks(np.arange(-1.5,2.1,.5))\n",
    "ax.set_xticks(np.arange(-1.5,2,.1), minor=True)\n",
    "\n",
    "\n",
    "\n",
    "\n",
    "ax=axs[1]\n",
    "ax.axvline(x=0., color='k', linewidth=0.25)\n",
    "\n",
    "tab_plt_dT[::-1].plot.barh(stacked=True, color=col_ls, ax=ax,**kws)\n",
    "tot = tab_plt_dT.sum(axis=1)[::-1]\n",
    "#xerr =0# df_err['95-50'][::-1]\n",
    "y = np.arange(len(tot))\n",
    "\n",
    "ax.errorbar(tot, y,\n",
    "            xerr=err_dT[['p50-05','p95-50']].loc[tot.index].transpose().values,\n",
    "            #xerr=err_dT[['min 1 sigma','plus 1 sigma']].loc[tot.index].transpose().values,\n",
    "            marker='d', linestyle='None', color='k', label='Sum', )\n",
    "#ax.legend(frameon=False)\n",
    "ax.set_ylabel('')\n",
    "\n",
    "ax.set_title('Change in GSAT, 1850-1900 to 2010-2019')\n",
    "ax.set_xlabel(r'($^{\\circ}$C)')\n",
    "ax.set_xlim(-1.3, 1.8)\n",
    "\n",
    "\n",
    "sns.despine(fig, left=True, trim=True)\n",
    "ax.spines['bottom'].set_bounds(-1.,1.5)\n",
    "ax.legend(loc='lower right', frameon=False)\n",
    "\n",
    "\n",
    "ax.set_xticks(np.arange(-1,2.1,.5))\n",
    "    #ax.xaxis.set_major_locator(MultipleLocator(.5))\n",
    "    \n",
    "ax.set_xticks(np.arange(-1,1.6,.5))\n",
    "ax.set_xticks(np.arange(-1,1.5,.1), minor=True)\n",
    "\n",
    "\n",
    "fn = output_name + '.png'\n",
    "fp = RESULTS_DIR /'figures_historic_attribution_DT'/fn\n",
    "fp.parent.mkdir(parents=True, exist_ok=True)\n",
    "ax.set_yticks([])\n",
    "fig.tight_layout()\n",
    "plt.savefig(fp, dpi=300, bbox_inches='tight')\n",
    "plt.savefig(fp.with_suffix('.pdf'), dpi=300, bbox_inches='tight')\n",
    "plt.savefig(fp.with_suffix('.png'), dpi=300, bbox_inches='tight')\n",
    "plt.show()"
   ]
  },
  {
   "cell_type": "code",
   "execution_count": null,
   "metadata": {},
   "outputs": [],
   "source": [
    "tab_plt_ERF.sum(axis=0)"
   ]
  },
  {
   "cell_type": "code",
   "execution_count": null,
   "metadata": {},
   "outputs": [],
   "source": [
    "tab_plt_dT.sum(axis=1)"
   ]
  },
  {
   "cell_type": "code",
   "execution_count": null,
   "metadata": {},
   "outputs": [],
   "source": [
    "tab_plt_dT.sum()"
   ]
  },
  {
   "cell_type": "markdown",
   "metadata": {},
   "source": [
    "### Write vales to csv"
   ]
  },
  {
   "cell_type": "code",
   "execution_count": null,
   "metadata": {
    "lines_to_next_cell": 2
   },
   "outputs": [],
   "source": [
    "fn = output_name+'_values_ERF.csv'\n",
    "fp = RESULTS_DIR /'figures_historic_attribution_DT'/fn\n",
    "tab_plt_ERF.to_csv(fp)\n",
    "\n",
    "\n",
    "fn = output_name+'_values_ERF_uncertainty.csv'\n",
    "fp = RESULTS_DIR /'figures_historic_attribution_DT'/fn\n",
    "df_err.to_csv(fp)"
   ]
  },
  {
   "cell_type": "code",
   "execution_count": null,
   "metadata": {
    "lines_to_next_cell": 2
   },
   "outputs": [],
   "source": [
    "fn = output_name+'_values_dT.csv'\n",
    "fp = RESULTS_DIR /'figures_historic_attribution_DT'/fn\n",
    "tab_plt_dT.to_csv(fp)\n",
    "\n",
    "\n",
    "fn = output_name+'_values_dT_uncertainty.csv'\n",
    "fp = RESULTS_DIR /'figures_historic_attribution_DT'/fn\n",
    "err_dT.to_csv(fp)"
   ]
  },
  {
   "cell_type": "code",
   "execution_count": null,
   "metadata": {},
   "outputs": [],
   "source": []
  },
  {
   "cell_type": "code",
   "execution_count": null,
   "metadata": {},
   "outputs": [],
   "source": []
  },
  {
   "cell_type": "code",
   "execution_count": null,
   "metadata": {},
   "outputs": [],
   "source": []
  },
  {
   "cell_type": "code",
   "execution_count": null,
   "metadata": {},
   "outputs": [],
   "source": []
  }
 ],
 "metadata": {
  "jupytext": {
   "encoding": "# -*- coding: utf-8 -*-",
   "formats": "ipynb,py:percent"
  },
  "kernelspec": {
   "display_name": "Python 3",
   "language": "python",
   "name": "python3"
  },
  "language_info": {
   "codemirror_mode": {
    "name": "ipython",
    "version": 3
   },
   "file_extension": ".py",
   "mimetype": "text/x-python",
   "name": "python",
   "nbconvert_exporter": "python",
   "pygments_lexer": "ipython3",
   "version": "3.7.10"
  }
 },
 "nbformat": 4,
 "nbformat_minor": 4
}
