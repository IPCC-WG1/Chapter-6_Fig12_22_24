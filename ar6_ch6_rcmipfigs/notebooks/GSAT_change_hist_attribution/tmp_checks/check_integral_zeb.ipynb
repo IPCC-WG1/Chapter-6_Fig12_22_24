{
 "cells": [
  {
   "cell_type": "markdown",
   "metadata": {},
   "source": [
    "# Notebook to check integral:"
   ]
  },
  {
   "cell_type": "markdown",
   "metadata": {},
   "source": [
    "This notebook describes how I get from ERF for CO2 to $\\Delta T$ for CO2 using this equation:"
   ]
  },
  {
   "cell_type": "markdown",
   "metadata": {
    "lines_to_next_cell": 0
   },
   "source": [
    "\\begin{align*}\n",
    "\\Delta T_x (t) &= \\int_0^t ERF_x(t') IRF(t-t') dt' \\\\\n",
    "\\end{align*}"
   ]
  },
  {
   "cell_type": "markdown",
   "metadata": {
    "lines_to_next_cell": 0
   },
   "source": [
    "#### The Impulse response function (IRF):\n",
    "In these calculations we use:\n",
    "\\begin{align*}\n",
    "IRF(t) = \\frac{q_1}{d_1} \\exp\\Big(\\frac{-t}{d_1}\\Big) + \\frac{q_2}{d_2} \\exp\\Big(\\frac{-t}{d_2}\\Big)\n",
    "\\end{align*}\n",
    "\n",
    "Where the constants, $q_i$ and $d_i$ are shown below. \n",
    "\n"
   ]
  },
  {
   "cell_type": "code",
   "execution_count": 51,
   "metadata": {},
   "outputs": [
    {
     "name": "stdout",
     "output_type": "stream",
     "text": [
      "The autoreload extension is already loaded. To reload it, use:\n",
      "  %reload_ext autoreload\n"
     ]
    }
   ],
   "source": [
    "import pandas as pd\n",
    "import xarray as xr\n",
    "from IPython.display import clear_output\n",
    "import numpy as np\n",
    "import pandas as pd\n",
    "import matplotlib.pyplot as plt\n",
    "import scipy.integrate\n",
    "\n",
    "from openscm_units import unit_registry  # pip install openscm-units\n",
    "from openscm_twolayermodel import ImpulseResponseModel, TwoLayerModel, constants  # pip install openscm-twolayermodel\n",
    "from scmdata import ScmRun  # pip install scmdata\n",
    "\n",
    "%load_ext autoreload\n",
    "%autoreload 2\n",
    "from ar6_ch6_rcmipfigs.constants import INPUT_DATA_DIR, OUTPUT_DATA_DIR"
   ]
  },
  {
   "cell_type": "markdown",
   "metadata": {},
   "source": [
    "### Get IRF parameters "
   ]
  },
  {
   "cell_type": "code",
   "execution_count": 52,
   "metadata": {},
   "outputs": [
    {
     "data": {
      "text/html": [
       "<div>\n",
       "<style scoped>\n",
       "    .dataframe tbody tr th:only-of-type {\n",
       "        vertical-align: middle;\n",
       "    }\n",
       "\n",
       "    .dataframe tbody tr th {\n",
       "        vertical-align: top;\n",
       "    }\n",
       "\n",
       "    .dataframe thead th {\n",
       "        text-align: right;\n",
       "    }\n",
       "</style>\n",
       "<table border=\"1\" class=\"dataframe\">\n",
       "  <thead>\n",
       "    <tr style=\"text-align: right;\">\n",
       "      <th></th>\n",
       "      <th>C (W yr / m^2 / K)</th>\n",
       "      <th>C_d (W yr / m^2 / K)</th>\n",
       "      <th>alpha (W / m^2 / K)</th>\n",
       "      <th>eta (dimensionless)</th>\n",
       "      <th>kappa (W / m^2 / K)</th>\n",
       "      <th>d1 (yr)</th>\n",
       "      <th>d2 (yr)</th>\n",
       "      <th>q1 (K / (W / m^2))</th>\n",
       "      <th>q2 (K / (W / m^2))</th>\n",
       "      <th>efficacy (dimensionless)</th>\n",
       "      <th>ecs (K)</th>\n",
       "      <th>tcr (K)</th>\n",
       "      <th>rf2xCO2 (W / m^2)</th>\n",
       "    </tr>\n",
       "    <tr>\n",
       "      <th>id</th>\n",
       "      <th></th>\n",
       "      <th></th>\n",
       "      <th></th>\n",
       "      <th></th>\n",
       "      <th></th>\n",
       "      <th></th>\n",
       "      <th></th>\n",
       "      <th></th>\n",
       "      <th></th>\n",
       "      <th></th>\n",
       "      <th></th>\n",
       "      <th></th>\n",
       "      <th></th>\n",
       "    </tr>\n",
       "  </thead>\n",
       "  <tbody>\n",
       "    <tr>\n",
       "      <th>recommendation</th>\n",
       "      <td>7.649789</td>\n",
       "      <td>147.168593</td>\n",
       "      <td>1.31</td>\n",
       "      <td>1.027856</td>\n",
       "      <td>0.880636</td>\n",
       "      <td>3.424102</td>\n",
       "      <td>285.003478</td>\n",
       "      <td>0.443768</td>\n",
       "      <td>0.319591</td>\n",
       "      <td>1.027856</td>\n",
       "      <td>3.0</td>\n",
       "      <td>1.801052</td>\n",
       "      <td>3.93</td>\n",
       "    </tr>\n",
       "  </tbody>\n",
       "</table>\n",
       "</div>"
      ],
      "text/plain": [
       "                C (W yr / m^2 / K)  C_d (W yr / m^2 / K)  alpha (W / m^2 / K)  \\\n",
       "id                                                                              \n",
       "recommendation            7.649789            147.168593                 1.31   \n",
       "\n",
       "                eta (dimensionless)  kappa (W / m^2 / K)   d1 (yr)  \\\n",
       "id                                                                   \n",
       "recommendation             1.027856             0.880636  3.424102   \n",
       "\n",
       "                   d2 (yr)  q1 (K / (W / m^2))  q2 (K / (W / m^2))  \\\n",
       "id                                                                   \n",
       "recommendation  285.003478            0.443768            0.319591   \n",
       "\n",
       "                efficacy (dimensionless)  ecs (K)   tcr (K)  rf2xCO2 (W / m^2)  \n",
       "id                                                                              \n",
       "recommendation                  1.027856      3.0  1.801052               3.93  "
      ]
     },
     "execution_count": 52,
     "metadata": {},
     "output_type": "execute_result"
    }
   ],
   "source": [
    "# fn_IRF_constants = INPUT_DATA_DIR /'recommended_irf_from_2xCO2_2021_02_25_222758.csv'\n",
    "fn_IRF_constants = 'recommended_irf_from_2xCO2_2021_02_25_222758.csv'\n",
    "\n",
    "irf_consts = pd.read_csv(fn_IRF_constants).set_index('id')\n",
    "\n",
    "ld1 = 'd1 (yr)'\n",
    "ld2 = 'd2 (yr)'\n",
    "lq1 = 'q1 (K / (W / m^2))'\n",
    "lq2 = 'q2 (K / (W / m^2))'\n",
    "median = 'median'\n",
    "perc5 = '5th percentile'\n",
    "perc95 = '95th percentile'\n",
    "recommendation = 'recommendation'\n",
    "irf_consts  # [d1]"
   ]
  },
  {
   "cell_type": "code",
   "execution_count": 53,
   "metadata": {
    "lines_to_next_cell": 2
   },
   "outputs": [
    {
     "name": "stdout",
     "output_type": "stream",
     "text": [
      "d1=3.4241020923110033, d2=285.0034778419114, q1=0.4437677288834471, q2=0.31959104974250885\n"
     ]
    }
   ],
   "source": [
    "# lets get the irf values from 0 until i\n",
    "d1 = float(irf_consts[ld1])\n",
    "d2 = float(irf_consts[ld2])\n",
    "q1 = float(irf_consts[lq1])\n",
    "q2 = float(irf_consts[lq2])\n",
    "\n",
    "print(f'd1={d1}, d2={d2}, q1={q1}, q2={q2}')"
   ]
  },
  {
   "cell_type": "markdown",
   "metadata": {},
   "source": [
    "### Path input data ERF"
   ]
  },
  {
   "cell_type": "code",
   "execution_count": 54,
   "metadata": {
    "collapsed": false,
    "jupyter": {
     "outputs_hidden": false
    },
    "lines_to_next_cell": 2,
    "pycharm": {
     "name": "#%%\n"
    }
   },
   "outputs": [],
   "source": [
    "# from ar6_ch6_rcmipfigs.constants import OUTPUT_DATA_DIR, RESULTS_DIR\n",
    "\n",
    "# PATH_DATASET = OUTPUT_DATA_DIR/'historic_delta_GSAT/hist_ERF_est.csv'\n",
    "#PATH_DATASET = \"test_erf.csv\"\n",
    "PATH_DATASET = OUTPUT_DATA_DIR/'historic_delta_GSAT/hist_ERF_est.csv'"
   ]
  },
  {
   "cell_type": "markdown",
   "metadata": {},
   "source": [
    "### Open ERF dataset:"
   ]
  },
  {
   "cell_type": "code",
   "execution_count": 55,
   "metadata": {},
   "outputs": [
    {
     "data": {
      "text/html": [
       "<pre>&lt;xarray.Dataset&gt;\n",
       "Dimensions:   (variable: 10, year: 270)\n",
       "Coordinates:\n",
       "  * year      (year) int64 1750 1751 1752 1753 1754 ... 2015 2016 2017 2018 2019\n",
       "  * variable  (variable) &lt;U3 &#x27;CO2&#x27; &#x27;N2O&#x27; &#x27;CH4&#x27; &#x27;NOx&#x27; ... &#x27;OC&#x27; &#x27;NH3&#x27; &#x27;VOC&#x27; &#x27;HC&#x27;\n",
       "Data variables:\n",
       "    ERF       (variable, year) float64 0.0 0.001126 0.002252 ... 0.205 0.2064</pre>"
      ],
      "text/plain": [
       "<xarray.Dataset>\n",
       "Dimensions:   (variable: 10, year: 270)\n",
       "Coordinates:\n",
       "  * year      (year) int64 1750 1751 1752 1753 1754 ... 2015 2016 2017 2018 2019\n",
       "  * variable  (variable) <U3 'CO2' 'N2O' 'CH4' 'NOx' ... 'OC' 'NH3' 'VOC' 'HC'\n",
       "Data variables:\n",
       "    ERF       (variable, year) float64 0.0 0.001126 0.002252 ... 0.205 0.2064"
      ]
     },
     "execution_count": 55,
     "metadata": {},
     "output_type": "execute_result"
    }
   ],
   "source": [
    "df = pd.read_csv(PATH_DATASET, index_col=0)\n",
    "da_ERF = df.to_xarray().to_array()#'variable'\n",
    "da_ERF = da_ERF.rename({'index':'year'})\n",
    "#ds = xr.open_dataset(PATH_DATASET).sel(year=slice(1700, 2200))  # we need only years until 1700\n",
    "ds = xr.Dataset({'ERF':da_ERF})\n",
    "ds#['ERF']\n",
    "#da_ERF = ds['ERF']"
   ]
  },
  {
   "cell_type": "code",
   "execution_count": 56,
   "metadata": {},
   "outputs": [],
   "source": [
    "# name of output variable\n",
    "name_deltaT = 'Delta T'\n",
    "\n",
    "climatemodel = 'climatemodel'\n",
    "scenario = 'scenario'\n",
    "variable = 'variable'\n",
    "time = 'time'\n",
    "percentile = 'percentile'"
   ]
  },
  {
   "cell_type": "code",
   "execution_count": 57,
   "metadata": {},
   "outputs": [],
   "source": [
    "ds['ERF'].to_pandas().transpose().to_csv('ERF_timeseries.csv')"
   ]
  },
  {
   "cell_type": "markdown",
   "metadata": {},
   "source": [
    "### Simple pre-processing"
   ]
  },
  {
   "cell_type": "code",
   "execution_count": 58,
   "metadata": {},
   "outputs": [
    {
     "data": {
      "text/html": [
       "<pre>&lt;xarray.Dataset&gt;\n",
       "Dimensions:   (variable: 10, year: 270)\n",
       "Coordinates:\n",
       "  * year      (year) int64 1750 1751 1752 1753 1754 ... 2015 2016 2017 2018 2019\n",
       "  * variable  (variable) &lt;U3 &#x27;CO2&#x27; &#x27;N2O&#x27; &#x27;CH4&#x27; &#x27;NOx&#x27; ... &#x27;OC&#x27; &#x27;NH3&#x27; &#x27;VOC&#x27; &#x27;HC&#x27;\n",
       "Data variables:\n",
       "    ERF       (variable, year) float64 0.0 0.001126 0.002252 ... 0.205 0.2064\n",
       "    time      (year) datetime64[ns] 1750-01-01 1751-01-01 ... 2019-01-01\n",
       "    delta_t   (year) float64 1.0 1.0 1.0 1.0 1.0 1.0 ... 1.0 1.0 1.0 1.0 1.0 1.0</pre>"
      ],
      "text/plain": [
       "<xarray.Dataset>\n",
       "Dimensions:   (variable: 10, year: 270)\n",
       "Coordinates:\n",
       "  * year      (year) int64 1750 1751 1752 1753 1754 ... 2015 2016 2017 2018 2019\n",
       "  * variable  (variable) <U3 'CO2' 'N2O' 'CH4' 'NOx' ... 'OC' 'NH3' 'VOC' 'HC'\n",
       "Data variables:\n",
       "    ERF       (variable, year) float64 0.0 0.001126 0.002252 ... 0.205 0.2064\n",
       "    time      (year) datetime64[ns] 1750-01-01 1751-01-01 ... 2019-01-01\n",
       "    delta_t   (year) float64 1.0 1.0 1.0 1.0 1.0 1.0 ... 1.0 1.0 1.0 1.0 1.0 1.0"
      ]
     },
     "execution_count": 58,
     "metadata": {},
     "output_type": "execute_result"
    }
   ],
   "source": [
    "ds['time'] = pd.to_datetime(ds['year'].to_pandas().index.map(str), format='%Y')\n",
    "\n",
    "# delta_t is 1 (year)\n",
    "ds['delta_t'] = xr.DataArray(np.ones(len(ds['year'])), dims='year', coords={'year': ds['year']})\n",
    "ds"
   ]
  },
  {
   "cell_type": "markdown",
   "metadata": {},
   "source": [
    "# Integrate from ERF to delta T\n",
    "\n"
   ]
  },
  {
   "cell_type": "markdown",
   "metadata": {},
   "source": [
    "## IRF function: "
   ]
  },
  {
   "cell_type": "code",
   "execution_count": 59,
   "metadata": {},
   "outputs": [],
   "source": [
    "def IRF(t, d1, q1, d2, q2):\n",
    "    \"\"\"\n",
    "    Returns the IRF function for:\n",
    "    :param q2:\n",
    "    :param d2:\n",
    "    :param q1:\n",
    "    :param d1:\n",
    "    :param t: Time in years\n",
    "    :return:\n",
    "    IRF\n",
    "    \"\"\"\n",
    "    #print(f'd1={d1}, d2={d2}, q1={q1}, q2={q2}')\n",
    "    irf = q1 / d1 * np.exp(-t / d1) + q2 / d2 * np.exp(-t / d2)\n",
    "    return irf\n",
    "    # l * (alpha1 * np.exp(-t / tau1) + alpha2 * np.exp(-t / tau2))"
   ]
  },
  {
   "cell_type": "markdown",
   "metadata": {},
   "source": [
    "\n",
    "\n",
    "Calculate for 2019, meaning integrating over i years:"
   ]
  },
  {
   "cell_type": "code",
   "execution_count": 60,
   "metadata": {},
   "outputs": [
    {
     "data": {
      "text/plain": [
       "269"
      ]
     },
     "execution_count": 60,
     "metadata": {},
     "output_type": "execute_result"
    }
   ],
   "source": [
    "i = 2019-1750\n",
    "i"
   ]
  },
  {
   "cell_type": "markdown",
   "metadata": {},
   "source": [
    "## select only CO2 for check:"
   ]
  },
  {
   "cell_type": "code",
   "execution_count": 61,
   "metadata": {},
   "outputs": [
    {
     "data": {
      "text/html": [
       "<pre>&lt;xarray.Dataset&gt;\n",
       "Dimensions:   (year: 270)\n",
       "Coordinates:\n",
       "  * year      (year) int64 1750 1751 1752 1753 1754 ... 2015 2016 2017 2018 2019\n",
       "    variable  &lt;U3 &#x27;CO2&#x27;\n",
       "Data variables:\n",
       "    ERF       (year) float64 0.0 0.001126 0.002252 ... 1.982 2.019 2.058\n",
       "    time      (year) datetime64[ns] 1750-01-01 1751-01-01 ... 2019-01-01\n",
       "    delta_t   (year) float64 1.0 1.0 1.0 1.0 1.0 1.0 ... 1.0 1.0 1.0 1.0 1.0 1.0</pre>"
      ],
      "text/plain": [
       "<xarray.Dataset>\n",
       "Dimensions:   (year: 270)\n",
       "Coordinates:\n",
       "  * year      (year) int64 1750 1751 1752 1753 1754 ... 2015 2016 2017 2018 2019\n",
       "    variable  <U3 'CO2'\n",
       "Data variables:\n",
       "    ERF       (year) float64 0.0 0.001126 0.002252 ... 1.982 2.019 2.058\n",
       "    time      (year) datetime64[ns] 1750-01-01 1751-01-01 ... 2019-01-01\n",
       "    delta_t   (year) float64 1.0 1.0 1.0 1.0 1.0 1.0 ... 1.0 1.0 1.0 1.0 1.0 1.0"
      ]
     },
     "execution_count": 61,
     "metadata": {},
     "output_type": "execute_result"
    }
   ],
   "source": [
    "ds_in = ds.copy().sel(variable='CO2')\n",
    "ds_in"
   ]
  },
  {
   "cell_type": "markdown",
   "metadata": {},
   "source": [
    "### slice data to contain only years before year i"
   ]
  },
  {
   "cell_type": "code",
   "execution_count": 62,
   "metadata": {},
   "outputs": [
    {
     "data": {
      "text/html": [
       "<pre>&lt;xarray.Dataset&gt;\n",
       "Dimensions:   (year: 270)\n",
       "Coordinates:\n",
       "  * year      (year) int64 1750 1751 1752 1753 1754 ... 2015 2016 2017 2018 2019\n",
       "    variable  &lt;U3 &#x27;CO2&#x27;\n",
       "Data variables:\n",
       "    ERF       (year) float64 0.0 0.001126 0.002252 ... 1.982 2.019 2.058\n",
       "    time      (year) datetime64[ns] 1750-01-01 1751-01-01 ... 2019-01-01\n",
       "    delta_t   (year) float64 1.0 1.0 1.0 1.0 1.0 1.0 ... 1.0 1.0 1.0 1.0 1.0 1.0</pre>"
      ],
      "text/plain": [
       "<xarray.Dataset>\n",
       "Dimensions:   (year: 270)\n",
       "Coordinates:\n",
       "  * year      (year) int64 1750 1751 1752 1753 1754 ... 2015 2016 2017 2018 2019\n",
       "    variable  <U3 'CO2'\n",
       "Data variables:\n",
       "    ERF       (year) float64 0.0 0.001126 0.002252 ... 1.982 2.019 2.058\n",
       "    time      (year) datetime64[ns] 1750-01-01 1751-01-01 ... 2019-01-01\n",
       "    delta_t   (year) float64 1.0 1.0 1.0 1.0 1.0 1.0 ... 1.0 1.0 1.0 1.0 1.0 1.0"
      ]
     },
     "execution_count": 62,
     "metadata": {},
     "output_type": "execute_result"
    }
   ],
   "source": [
    "erf ='ERF'\n",
    "ds_short = ds_in[{'year': slice(0, i + 1)}].copy()\n",
    "ds_short"
   ]
  },
  {
   "cell_type": "code",
   "execution_count": 63,
   "metadata": {},
   "outputs": [
    {
     "data": {
      "text/html": [
       "<pre>&lt;xarray.DataArray &#x27;year&#x27; ()&gt;\n",
       "array(2019)\n",
       "Coordinates:\n",
       "    year      int64 2019\n",
       "    variable  &lt;U3 &#x27;CO2&#x27;</pre>"
      ],
      "text/plain": [
       "<xarray.DataArray 'year' ()>\n",
       "array(2019)\n",
       "Coordinates:\n",
       "    year      int64 2019\n",
       "    variable  <U3 'CO2'"
      ]
     },
     "execution_count": 63,
     "metadata": {},
     "output_type": "execute_result"
    }
   ],
   "source": [
    "# lets get the current year\n",
    "current_year = ds_short['year'][{'year': i}]  # .dt.year\n",
    "current_year"
   ]
  },
  {
   "cell_type": "markdown",
   "metadata": {},
   "source": [
    "### IRF is calculated for t-t': calculates t-t'"
   ]
  },
  {
   "cell_type": "code",
   "execution_count": 64,
   "metadata": {},
   "outputs": [
    {
     "name": "stdout",
     "output_type": "stream",
     "text": [
      "<xarray.Dataset>\n",
      "Dimensions:         (year: 270)\n",
      "Coordinates:\n",
      "  * year            (year) int64 1750 1751 1752 1753 ... 2016 2017 2018 2019\n",
      "    variable        <U3 'CO2'\n",
      "Data variables:\n",
      "    ERF             (year) float64 0.0 0.001126 0.002252 ... 1.982 2.019 2.058\n",
      "    time            (year) datetime64[ns] 1750-01-01 1751-01-01 ... 2019-01-01\n",
      "    delta_t         (year) float64 1.0 1.0 1.0 1.0 1.0 ... 1.0 1.0 1.0 1.0 1.0\n",
      "    end_year_delta  (year) int64 269 268 267 266 265 264 263 ... 6 5 4 3 2 1 0\n"
     ]
    }
   ],
   "source": [
    "# lets get a list of years\n",
    "_years = ds_short['year']  # .dt.year\n",
    "# lets get the year delta until current year(i)\n",
    "ds_short['end_year_delta'] = current_year - _years\n",
    "print(ds_short)"
   ]
  },
  {
   "cell_type": "markdown",
   "metadata": {},
   "source": [
    "### Calculate IRF:"
   ]
  },
  {
   "cell_type": "code",
   "execution_count": 65,
   "metadata": {},
   "outputs": [
    {
     "data": {
      "text/html": [
       "<pre>&lt;xarray.DataArray &#x27;irf&#x27; (year: 270)&gt;\n",
       "array([0.00043635, 0.00043789, 0.00043942, 0.00044097, 0.00044252,\n",
       "       0.00044407, 0.00044564, 0.0004472 , 0.00044877, 0.00045035,\n",
       "       0.00045193, 0.00045352, 0.00045512, 0.00045672, 0.00045832,\n",
       "       0.00045993, 0.00046155, 0.00046317, 0.0004648 , 0.00046643,\n",
       "       0.00046807, 0.00046972, 0.00047137, 0.00047303, 0.00047469,\n",
       "       0.00047636, 0.00047803, 0.00047971, 0.0004814 , 0.00048309,\n",
       "       0.00048479, 0.00048649, 0.0004882 , 0.00048992, 0.00049164,\n",
       "       0.00049337, 0.0004951 , 0.00049684, 0.00049859, 0.00050034,\n",
       "       0.0005021 , 0.00050386, 0.00050563, 0.00050741, 0.0005092 ,\n",
       "       0.00051099, 0.00051278, 0.00051458, 0.00051639, 0.00051821,\n",
       "       0.00052003, 0.00052186, 0.00052369, 0.00052553, 0.00052738,\n",
       "       0.00052923, 0.00053109, 0.00053296, 0.00053483, 0.00053671,\n",
       "       0.0005386 , 0.00054049, 0.00054239, 0.0005443 , 0.00054621,\n",
       "       0.00054813, 0.00055006, 0.00055199, 0.00055393, 0.00055588,\n",
       "       0.00055783, 0.00055979, 0.00056176, 0.00056374, 0.00056572,\n",
       "       0.00056771, 0.0005697 , 0.0005717 , 0.00057371, 0.00057573,\n",
       "       0.00057775, 0.00057978, 0.00058182, 0.00058387, 0.00058592,\n",
       "       0.00058798, 0.00059004, 0.00059212, 0.0005942 , 0.00059629,\n",
       "       0.00059838, 0.00060049, 0.0006026 , 0.00060472, 0.00060684,\n",
       "       0.00060898, 0.00061112, 0.00061326, 0.00061542, 0.00061758,\n",
       "       0.00061975, 0.00062193, 0.00062412, 0.00062631, 0.00062851,\n",
       "       0.00063072, 0.00063294, 0.00063516, 0.0006374 , 0.00063964,\n",
       "       0.00064188, 0.00064414, 0.0006464 , 0.00064868, 0.00065096,\n",
       "       0.00065324, 0.00065554, 0.00065784, 0.00066016, 0.00066248,\n",
       "       0.00066481, 0.00066714, 0.00066949, 0.00067184, 0.0006742 ,\n",
       "       0.00067657, 0.00067895, 0.00068134, 0.00068373, 0.00068613,\n",
       "       0.00068855, 0.00069097, 0.0006934 , 0.00069583, 0.00069828,\n",
       "       0.00070073, 0.0007032 , 0.00070567, 0.00070815, 0.00071064,\n",
       "       0.00071313, 0.00071564, 0.00071816, 0.00072068, 0.00072321,\n",
       "       0.00072576, 0.00072831, 0.00073087, 0.00073344, 0.00073601,\n",
       "       0.0007386 , 0.0007412 , 0.0007438 , 0.00074642, 0.00074904,\n",
       "       0.00075167, 0.00075431, 0.00075697, 0.00075963, 0.0007623 ,\n",
       "       0.00076498, 0.00076766, 0.00077036, 0.00077307, 0.00077579,\n",
       "       0.00077852, 0.00078125, 0.000784  , 0.00078675, 0.00078952,\n",
       "       0.00079229, 0.00079508, 0.00079787, 0.00080068, 0.00080349,\n",
       "       0.00080632, 0.00080915, 0.00081199, 0.00081485, 0.00081771,\n",
       "       0.00082059, 0.00082347, 0.00082637, 0.00082927, 0.00083218,\n",
       "       0.00083511, 0.00083804, 0.00084099, 0.00084395, 0.00084691,\n",
       "       0.00084989, 0.00085288, 0.00085587, 0.00085888, 0.0008619 ,\n",
       "       0.00086493, 0.00086797, 0.00087102, 0.00087408, 0.00087716,\n",
       "       0.00088024, 0.00088333, 0.00088644, 0.00088955, 0.00089268,\n",
       "       0.00089582, 0.00089897, 0.00090213, 0.0009053 , 0.00090848,\n",
       "       0.00091168, 0.00091488, 0.0009181 , 0.00092133, 0.00092457,\n",
       "       0.00092783, 0.00093109, 0.00093437, 0.00093767, 0.00094098,\n",
       "       0.00094431, 0.00094765, 0.00095102, 0.00095441, 0.00095783,\n",
       "       0.00096128, 0.00096477, 0.00096832, 0.00097193, 0.00097562,\n",
       "       0.00097941, 0.00098335, 0.00098746, 0.00099182, 0.00099648,\n",
       "       0.00100157, 0.00100721, 0.00101359, 0.00102095, 0.00102963,\n",
       "       0.00104006, 0.00105284, 0.00106876, 0.00108889, 0.00111463,\n",
       "       0.0011479 , 0.00119124, 0.00124807, 0.00132295, 0.001422  ,\n",
       "       0.00155341, 0.00172817, 0.00196095, 0.00227145, 0.00268601,\n",
       "       0.00323993, 0.00398047, 0.0049709 , 0.006296  , 0.00806926,\n",
       "       0.01044267, 0.01361978, 0.01787319, 0.02356792, 0.03119283,\n",
       "       0.04140255, 0.05507377, 0.07338049, 0.09789494, 0.13072256])\n",
       "Coordinates:\n",
       "  * year      (year) int64 1750 1751 1752 1753 1754 ... 2015 2016 2017 2018 2019\n",
       "    variable  &lt;U3 &#x27;CO2&#x27;</pre>"
      ],
      "text/plain": [
       "<xarray.DataArray 'irf' (year: 270)>\n",
       "array([0.00043635, 0.00043789, 0.00043942, 0.00044097, 0.00044252,\n",
       "       0.00044407, 0.00044564, 0.0004472 , 0.00044877, 0.00045035,\n",
       "       0.00045193, 0.00045352, 0.00045512, 0.00045672, 0.00045832,\n",
       "       0.00045993, 0.00046155, 0.00046317, 0.0004648 , 0.00046643,\n",
       "       0.00046807, 0.00046972, 0.00047137, 0.00047303, 0.00047469,\n",
       "       0.00047636, 0.00047803, 0.00047971, 0.0004814 , 0.00048309,\n",
       "       0.00048479, 0.00048649, 0.0004882 , 0.00048992, 0.00049164,\n",
       "       0.00049337, 0.0004951 , 0.00049684, 0.00049859, 0.00050034,\n",
       "       0.0005021 , 0.00050386, 0.00050563, 0.00050741, 0.0005092 ,\n",
       "       0.00051099, 0.00051278, 0.00051458, 0.00051639, 0.00051821,\n",
       "       0.00052003, 0.00052186, 0.00052369, 0.00052553, 0.00052738,\n",
       "       0.00052923, 0.00053109, 0.00053296, 0.00053483, 0.00053671,\n",
       "       0.0005386 , 0.00054049, 0.00054239, 0.0005443 , 0.00054621,\n",
       "       0.00054813, 0.00055006, 0.00055199, 0.00055393, 0.00055588,\n",
       "       0.00055783, 0.00055979, 0.00056176, 0.00056374, 0.00056572,\n",
       "       0.00056771, 0.0005697 , 0.0005717 , 0.00057371, 0.00057573,\n",
       "       0.00057775, 0.00057978, 0.00058182, 0.00058387, 0.00058592,\n",
       "       0.00058798, 0.00059004, 0.00059212, 0.0005942 , 0.00059629,\n",
       "       0.00059838, 0.00060049, 0.0006026 , 0.00060472, 0.00060684,\n",
       "       0.00060898, 0.00061112, 0.00061326, 0.00061542, 0.00061758,\n",
       "       0.00061975, 0.00062193, 0.00062412, 0.00062631, 0.00062851,\n",
       "       0.00063072, 0.00063294, 0.00063516, 0.0006374 , 0.00063964,\n",
       "       0.00064188, 0.00064414, 0.0006464 , 0.00064868, 0.00065096,\n",
       "       0.00065324, 0.00065554, 0.00065784, 0.00066016, 0.00066248,\n",
       "       0.00066481, 0.00066714, 0.00066949, 0.00067184, 0.0006742 ,\n",
       "       0.00067657, 0.00067895, 0.00068134, 0.00068373, 0.00068613,\n",
       "       0.00068855, 0.00069097, 0.0006934 , 0.00069583, 0.00069828,\n",
       "       0.00070073, 0.0007032 , 0.00070567, 0.00070815, 0.00071064,\n",
       "       0.00071313, 0.00071564, 0.00071816, 0.00072068, 0.00072321,\n",
       "       0.00072576, 0.00072831, 0.00073087, 0.00073344, 0.00073601,\n",
       "       0.0007386 , 0.0007412 , 0.0007438 , 0.00074642, 0.00074904,\n",
       "       0.00075167, 0.00075431, 0.00075697, 0.00075963, 0.0007623 ,\n",
       "       0.00076498, 0.00076766, 0.00077036, 0.00077307, 0.00077579,\n",
       "       0.00077852, 0.00078125, 0.000784  , 0.00078675, 0.00078952,\n",
       "       0.00079229, 0.00079508, 0.00079787, 0.00080068, 0.00080349,\n",
       "       0.00080632, 0.00080915, 0.00081199, 0.00081485, 0.00081771,\n",
       "       0.00082059, 0.00082347, 0.00082637, 0.00082927, 0.00083218,\n",
       "       0.00083511, 0.00083804, 0.00084099, 0.00084395, 0.00084691,\n",
       "       0.00084989, 0.00085288, 0.00085587, 0.00085888, 0.0008619 ,\n",
       "       0.00086493, 0.00086797, 0.00087102, 0.00087408, 0.00087716,\n",
       "       0.00088024, 0.00088333, 0.00088644, 0.00088955, 0.00089268,\n",
       "       0.00089582, 0.00089897, 0.00090213, 0.0009053 , 0.00090848,\n",
       "       0.00091168, 0.00091488, 0.0009181 , 0.00092133, 0.00092457,\n",
       "       0.00092783, 0.00093109, 0.00093437, 0.00093767, 0.00094098,\n",
       "       0.00094431, 0.00094765, 0.00095102, 0.00095441, 0.00095783,\n",
       "       0.00096128, 0.00096477, 0.00096832, 0.00097193, 0.00097562,\n",
       "       0.00097941, 0.00098335, 0.00098746, 0.00099182, 0.00099648,\n",
       "       0.00100157, 0.00100721, 0.00101359, 0.00102095, 0.00102963,\n",
       "       0.00104006, 0.00105284, 0.00106876, 0.00108889, 0.00111463,\n",
       "       0.0011479 , 0.00119124, 0.00124807, 0.00132295, 0.001422  ,\n",
       "       0.00155341, 0.00172817, 0.00196095, 0.00227145, 0.00268601,\n",
       "       0.00323993, 0.00398047, 0.0049709 , 0.006296  , 0.00806926,\n",
       "       0.01044267, 0.01361978, 0.01787319, 0.02356792, 0.03119283,\n",
       "       0.04140255, 0.05507377, 0.07338049, 0.09789494, 0.13072256])\n",
       "Coordinates:\n",
       "  * year      (year) int64 1750 1751 1752 1753 1754 ... 2015 2016 2017 2018 2019\n",
       "    variable  <U3 'CO2'"
      ]
     },
     "execution_count": 65,
     "metadata": {},
     "output_type": "execute_result"
    }
   ],
   "source": [
    "ds_short['irf'] = IRF(\n",
    "    # t-t':\n",
    "    ds_short['end_year_delta'] * ds_short['delta_t'], \n",
    "    # parameters\n",
    "    d1, q1, d2, q2)\n",
    "ds_short['irf']"
   ]
  },
  {
   "cell_type": "markdown",
   "metadata": {},
   "source": [
    "# The integrand:\n"
   ]
  },
  {
   "cell_type": "markdown",
   "metadata": {
    "lines_to_next_cell": 0
   },
   "source": [
    "\\begin{align*}\n",
    " ERF_x(t') IRF(t-t') \\cdot \\Delta t' \n",
    "\\end{align*}"
   ]
  },
  {
   "cell_type": "code",
   "execution_count": 66,
   "metadata": {},
   "outputs": [],
   "source": [
    "# lets do the famous integral\n",
    "ds_short['to_integrate'] = \\\n",
    "        ds_short[erf] * \\\n",
    "        ds_short['irf'] * \\\n",
    "        ds_short['delta_t']"
   ]
  },
  {
   "cell_type": "code",
   "execution_count": 67,
   "metadata": {},
   "outputs": [
    {
     "data": {
      "text/html": [
       "<pre>&lt;xarray.Dataset&gt;\n",
       "Dimensions:         (year: 270)\n",
       "Coordinates:\n",
       "  * year            (year) int64 1750 1751 1752 1753 ... 2016 2017 2018 2019\n",
       "    variable        &lt;U3 &#x27;CO2&#x27;\n",
       "Data variables:\n",
       "    ERF             (year) float64 0.0 0.001126 0.002252 ... 1.982 2.019 2.058\n",
       "    time            (year) datetime64[ns] 1750-01-01 1751-01-01 ... 2019-01-01\n",
       "    delta_t         (year) float64 1.0 1.0 1.0 1.0 1.0 ... 1.0 1.0 1.0 1.0 1.0\n",
       "    end_year_delta  (year) int64 269 268 267 266 265 264 263 ... 6 5 4 3 2 1 0\n",
       "    irf             (year) float64 0.0004364 0.0004379 ... 0.09789 0.1307\n",
       "    to_integrate    (year) float64 0.0 4.931e-07 9.897e-07 ... 0.1977 0.269</pre>"
      ],
      "text/plain": [
       "<xarray.Dataset>\n",
       "Dimensions:         (year: 270)\n",
       "Coordinates:\n",
       "  * year            (year) int64 1750 1751 1752 1753 ... 2016 2017 2018 2019\n",
       "    variable        <U3 'CO2'\n",
       "Data variables:\n",
       "    ERF             (year) float64 0.0 0.001126 0.002252 ... 1.982 2.019 2.058\n",
       "    time            (year) datetime64[ns] 1750-01-01 1751-01-01 ... 2019-01-01\n",
       "    delta_t         (year) float64 1.0 1.0 1.0 1.0 1.0 ... 1.0 1.0 1.0 1.0 1.0\n",
       "    end_year_delta  (year) int64 269 268 267 266 265 264 263 ... 6 5 4 3 2 1 0\n",
       "    irf             (year) float64 0.0004364 0.0004379 ... 0.09789 0.1307\n",
       "    to_integrate    (year) float64 0.0 4.931e-07 9.897e-07 ... 0.1977 0.269"
      ]
     },
     "execution_count": 67,
     "metadata": {},
     "output_type": "execute_result"
    }
   ],
   "source": [
    "ds_short"
   ]
  },
  {
   "cell_type": "markdown",
   "metadata": {},
   "source": [
    "### Finally do the sum:"
   ]
  },
  {
   "cell_type": "code",
   "execution_count": 68,
   "metadata": {},
   "outputs": [
    {
     "data": {
      "text/html": [
       "<pre>&lt;xarray.DataArray &#x27;to_integrate&#x27; ()&gt;\n",
       "array(1.102487)\n",
       "Coordinates:\n",
       "    variable  &lt;U3 &#x27;CO2&#x27;</pre>"
      ],
      "text/plain": [
       "<xarray.DataArray 'to_integrate' ()>\n",
       "array(1.102487)\n",
       "Coordinates:\n",
       "    variable  <U3 'CO2'"
      ]
     },
     "execution_count": 68,
     "metadata": {},
     "output_type": "execute_result"
    }
   ],
   "source": [
    "ds_short['to_integrate'].sum()"
   ]
  },
  {
   "cell_type": "markdown",
   "metadata": {},
   "source": [
    "## Do the sum without a Riemann approximation"
   ]
  },
  {
   "cell_type": "code",
   "execution_count": 69,
   "metadata": {},
   "outputs": [],
   "source": [
    "def combo_integrand(t, d1, q1, d2, q2, erf, end_year):\n",
    "    erf_interp = np.interp(t, erf[\"year\"].values, erf.values)\n",
    "#     print(erf_interp)\n",
    "    delta_t = end_year - t\n",
    "#     print(delta_t)\n",
    "    irf = IRF(delta_t, d1, q1, d2, q2)\n",
    "#     print(irf)\n",
    "    integrand = erf_interp * irf\n",
    "    \n",
    "    return integrand"
   ]
  },
  {
   "cell_type": "code",
   "execution_count": 70,
   "metadata": {
    "scrolled": true
   },
   "outputs": [
    {
     "name": "stderr",
     "output_type": "stream",
     "text": [
      "/home/sarambl/miniconda3/envs/rcmip_ch6/lib/python3.7/site-packages/ipykernel_launcher.py:2: IntegrationWarning: The occurrence of roundoff error is detected, which prevents \n",
      "  the requested tolerance from being achieved.  The error may be \n",
      "  underestimated.\n",
      "  \n"
     ]
    },
    {
     "data": {
      "text/plain": [
       "0.9611159611862935"
      ]
     },
     "execution_count": 70,
     "metadata": {},
     "output_type": "execute_result"
    }
   ],
   "source": [
    "end_year = 2019\n",
    "tmp = scipy.integrate.quad(combo_integrand, 1750, end_year, args=(d1, q1, d2, q2, ds_short[erf], end_year), limit=500)\n",
    "exact_integration_result = tmp[0]\n",
    "exact_integration_result"
   ]
  },
  {
   "cell_type": "code",
   "execution_count": 38,
   "metadata": {},
   "outputs": [
    {
     "data": {
      "text/plain": [
       "1.102487002778033"
      ]
     },
     "execution_count": 38,
     "metadata": {},
     "output_type": "execute_result"
    }
   ],
   "source": [
    "# double check that it is just the difference because of the Riemann approximation,\n",
    "# not sum silly coding error\n",
    "riemann_approx = combo_integrand(np.arange(1750, 2019 + 1), d1, q1, d2, q2, ds_short[erf], end_year).sum()\n",
    "np.testing.assert_allclose(riemann_approx, ds_short['to_integrate'].sum())\n",
    "riemann_approx"
   ]
  },
  {
   "cell_type": "code",
   "execution_count": 39,
   "metadata": {},
   "outputs": [
    {
     "data": {
      "text/plain": [
       "[<matplotlib.lines.Line2D at 0x7f52d64c1250>]"
      ]
     },
     "execution_count": 39,
     "metadata": {},
     "output_type": "execute_result"
    },
    {
     "data": {
      "image/png": "[encoded data removed]",
      "text/plain": [
       "<Figure size 432x288 with 1 Axes>"
      ]
     },
     "metadata": {
      "needs_background": "light"
     },
     "output_type": "display_data"
    }
   ],
   "source": [
    "plt.plot(ds_short['to_integrate']['year'].values[-10:], ds_short['to_integrate'].values[-10:])\n",
    "plt.step(ds_short['to_integrate']['year'].values[-10:], ds_short['to_integrate'].values[-10:])"
   ]
  },
  {
   "cell_type": "markdown",
   "metadata": {},
   "source": [
    "## Compare with openscm-twolayermodel"
   ]
  },
  {
   "cell_type": "code",
   "execution_count": 46,
   "metadata": {},
   "outputs": [
    {
     "data": {
      "application/vnd.jupyter.widget-view+json": {
       "model_id": "45ab0d3e8d634f5fb57098cd1bcee895",
       "version_major": 2,
       "version_minor": 0
      },
      "text/plain": [
       "HBox(children=(IntProgress(value=1, bar_style='info', description='scenarios', max=1, style=ProgressStyle(desc…"
      ]
     },
     "metadata": {},
     "output_type": "display_data"
    },
    {
     "name": "stdout",
     "output_type": "stream",
     "text": [
      "\r"
     ]
    },
    {
     "data": {
      "application/vnd.jupyter.widget-view+json": {
       "model_id": "0887ca8b69764ea9a70218d15bf8c9e8",
       "version_major": 2,
       "version_minor": 0
      },
      "text/plain": [
       "HBox(children=(IntProgress(value=1, bar_style='info', description='scenarios', max=1, style=ProgressStyle(desc…"
      ]
     },
     "metadata": {},
     "output_type": "display_data"
    },
    {
     "name": "stdout",
     "output_type": "stream",
     "text": [
      "\r"
     ]
    },
    {
     "data": {
      "text/html": [
       "<div>\n",
       "<style scoped>\n",
       "    .dataframe tbody tr th:only-of-type {\n",
       "        vertical-align: middle;\n",
       "    }\n",
       "\n",
       "    .dataframe tbody tr th {\n",
       "        vertical-align: top;\n",
       "    }\n",
       "\n",
       "    .dataframe thead th {\n",
       "        text-align: right;\n",
       "    }\n",
       "</style>\n",
       "<table border=\"1\" class=\"dataframe\">\n",
       "  <thead>\n",
       "    <tr style=\"text-align: right;\">\n",
       "      <th></th>\n",
       "      <th></th>\n",
       "      <th></th>\n",
       "      <th></th>\n",
       "      <th></th>\n",
       "      <th></th>\n",
       "      <th></th>\n",
       "      <th></th>\n",
       "      <th></th>\n",
       "      <th></th>\n",
       "      <th></th>\n",
       "      <th></th>\n",
       "      <th></th>\n",
       "      <th></th>\n",
       "      <th></th>\n",
       "      <th></th>\n",
       "      <th>time</th>\n",
       "      <th>1750-01-01</th>\n",
       "      <th>1751-01-01</th>\n",
       "      <th>1752-01-01</th>\n",
       "      <th>1753-01-01</th>\n",
       "      <th>1754-01-01</th>\n",
       "      <th>1755-01-01</th>\n",
       "      <th>1756-01-01</th>\n",
       "      <th>1757-01-01</th>\n",
       "      <th>1758-01-01</th>\n",
       "      <th>1759-01-01</th>\n",
       "      <th>...</th>\n",
       "      <th>2010-01-01</th>\n",
       "      <th>2011-01-01</th>\n",
       "      <th>2012-01-01</th>\n",
       "      <th>2013-01-01</th>\n",
       "      <th>2014-01-01</th>\n",
       "      <th>2015-01-01</th>\n",
       "      <th>2016-01-01</th>\n",
       "      <th>2017-01-01</th>\n",
       "      <th>2018-01-01</th>\n",
       "      <th>2019-01-01</th>\n",
       "    </tr>\n",
       "    <tr>\n",
       "      <th>a (watt / delta_degree_Celsius ** 2 / meter ** 2)</th>\n",
       "      <th>climate_model</th>\n",
       "      <th>d1 (a)</th>\n",
       "      <th>d2 (a)</th>\n",
       "      <th>dl (meter)</th>\n",
       "      <th>du (meter)</th>\n",
       "      <th>efficacy (dimensionless)</th>\n",
       "      <th>eta (watt / kelvin / meter ** 2)</th>\n",
       "      <th>lambda0 (watt / delta_degree_Celsius / meter ** 2)</th>\n",
       "      <th>model</th>\n",
       "      <th>q1 (delta_degree_Celsius * meter ** 2 / watt)</th>\n",
       "      <th>q2 (delta_degree_Celsius * meter ** 2 / watt)</th>\n",
       "      <th>region</th>\n",
       "      <th>run_idx</th>\n",
       "      <th>scenario</th>\n",
       "      <th>unit</th>\n",
       "      <th>variable</th>\n",
       "      <th></th>\n",
       "      <th></th>\n",
       "      <th></th>\n",
       "      <th></th>\n",
       "      <th></th>\n",
       "      <th></th>\n",
       "      <th></th>\n",
       "      <th></th>\n",
       "      <th></th>\n",
       "      <th></th>\n",
       "      <th></th>\n",
       "      <th></th>\n",
       "      <th></th>\n",
       "      <th></th>\n",
       "      <th></th>\n",
       "      <th></th>\n",
       "      <th></th>\n",
       "      <th></th>\n",
       "      <th></th>\n",
       "      <th></th>\n",
       "      <th></th>\n",
       "    </tr>\n",
       "  </thead>\n",
       "  <tbody>\n",
       "    <tr>\n",
       "      <th rowspan=\"4\" valign=\"top\">0.0</th>\n",
       "      <th rowspan=\"4\" valign=\"top\">two_layer</th>\n",
       "      <th rowspan=\"4\" valign=\"top\">NaN</th>\n",
       "      <th rowspan=\"4\" valign=\"top\">NaN</th>\n",
       "      <th rowspan=\"4\" valign=\"top\">1110.807846</th>\n",
       "      <th rowspan=\"4\" valign=\"top\">57.739534</th>\n",
       "      <th rowspan=\"4\" valign=\"top\">1.027856</th>\n",
       "      <th rowspan=\"4\" valign=\"top\">0.880636</th>\n",
       "      <th rowspan=\"4\" valign=\"top\">1.31</th>\n",
       "      <th rowspan=\"4\" valign=\"top\">custom</th>\n",
       "      <th rowspan=\"4\" valign=\"top\">NaN</th>\n",
       "      <th rowspan=\"4\" valign=\"top\">NaN</th>\n",
       "      <th rowspan=\"4\" valign=\"top\">World</th>\n",
       "      <th rowspan=\"4\" valign=\"top\">0</th>\n",
       "      <th rowspan=\"4\" valign=\"top\">test</th>\n",
       "      <th>W/m^2</th>\n",
       "      <th>Effective Radiative Forcing</th>\n",
       "      <td>0.0</td>\n",
       "      <td>0.001126</td>\n",
       "      <td>0.002252</td>\n",
       "      <td>3.378424e-03</td>\n",
       "      <td>0.004505</td>\n",
       "      <td>0.005631</td>\n",
       "      <td>0.006757</td>\n",
       "      <td>0.007883</td>\n",
       "      <td>0.009009</td>\n",
       "      <td>0.010135</td>\n",
       "      <td>...</td>\n",
       "      <td>1.724717</td>\n",
       "      <td>1.754122</td>\n",
       "      <td>1.785560</td>\n",
       "      <td>1.828416</td>\n",
       "      <td>1.858446</td>\n",
       "      <td>1.894420</td>\n",
       "      <td>1.948068</td>\n",
       "      <td>1.981696</td>\n",
       "      <td>2.019078</td>\n",
       "      <td>2.057554</td>\n",
       "    </tr>\n",
       "    <tr>\n",
       "      <th rowspan=\"2\" valign=\"top\">delta_degC</th>\n",
       "      <th>Surface Temperature|Upper</th>\n",
       "      <td>0.0</td>\n",
       "      <td>0.000000</td>\n",
       "      <td>0.000147</td>\n",
       "      <td>3.990077e-04</td>\n",
       "      <td>0.000725</td>\n",
       "      <td>0.001104</td>\n",
       "      <td>0.001522</td>\n",
       "      <td>0.001966</td>\n",
       "      <td>0.002430</td>\n",
       "      <td>0.002908</td>\n",
       "      <td>...</td>\n",
       "      <td>0.807222</td>\n",
       "      <td>0.822509</td>\n",
       "      <td>0.837643</td>\n",
       "      <td>0.852944</td>\n",
       "      <td>0.869862</td>\n",
       "      <td>0.886263</td>\n",
       "      <td>0.903081</td>\n",
       "      <td>0.922515</td>\n",
       "      <td>0.941199</td>\n",
       "      <td>0.959853</td>\n",
       "    </tr>\n",
       "    <tr>\n",
       "      <th>Surface Temperature|Lower</th>\n",
       "      <td>0.0</td>\n",
       "      <td>0.000000</td>\n",
       "      <td>0.000000</td>\n",
       "      <td>8.808963e-07</td>\n",
       "      <td>0.000003</td>\n",
       "      <td>0.000008</td>\n",
       "      <td>0.000014</td>\n",
       "      <td>0.000023</td>\n",
       "      <td>0.000035</td>\n",
       "      <td>0.000049</td>\n",
       "      <td>...</td>\n",
       "      <td>0.199250</td>\n",
       "      <td>0.202888</td>\n",
       "      <td>0.206596</td>\n",
       "      <td>0.210372</td>\n",
       "      <td>0.214217</td>\n",
       "      <td>0.218140</td>\n",
       "      <td>0.222138</td>\n",
       "      <td>0.226213</td>\n",
       "      <td>0.230379</td>\n",
       "      <td>0.234633</td>\n",
       "    </tr>\n",
       "    <tr>\n",
       "      <th>W/m^2</th>\n",
       "      <th>Heat Uptake</th>\n",
       "      <td>0.0</td>\n",
       "      <td>0.000000</td>\n",
       "      <td>0.001126</td>\n",
       "      <td>2.055824e-03</td>\n",
       "      <td>0.002846</td>\n",
       "      <td>0.003537</td>\n",
       "      <td>0.004157</td>\n",
       "      <td>0.004727</td>\n",
       "      <td>0.005260</td>\n",
       "      <td>0.005767</td>\n",
       "      <td>...</td>\n",
       "      <td>0.635757</td>\n",
       "      <td>0.652342</td>\n",
       "      <td>0.661435</td>\n",
       "      <td>0.672767</td>\n",
       "      <td>0.695297</td>\n",
       "      <td>0.702843</td>\n",
       "      <td>0.717027</td>\n",
       "      <td>0.748329</td>\n",
       "      <td>0.756121</td>\n",
       "      <td>0.768670</td>\n",
       "    </tr>\n",
       "    <tr>\n",
       "      <th>NaN</th>\n",
       "      <th>two_timescale_impulse_response</th>\n",
       "      <th>3.424102</th>\n",
       "      <th>285.003478</th>\n",
       "      <th>NaN</th>\n",
       "      <th>NaN</th>\n",
       "      <th>1.027856</th>\n",
       "      <th>NaN</th>\n",
       "      <th>NaN</th>\n",
       "      <th>custom</th>\n",
       "      <th>0.443768</th>\n",
       "      <th>0.319591</th>\n",
       "      <th>World</th>\n",
       "      <th>0</th>\n",
       "      <th>test</th>\n",
       "      <th>W/m^2</th>\n",
       "      <th>Effective Radiative Forcing</th>\n",
       "      <td>0.0</td>\n",
       "      <td>0.001126</td>\n",
       "      <td>0.002252</td>\n",
       "      <td>3.378424e-03</td>\n",
       "      <td>0.004505</td>\n",
       "      <td>0.005631</td>\n",
       "      <td>0.006757</td>\n",
       "      <td>0.007883</td>\n",
       "      <td>0.009009</td>\n",
       "      <td>0.010135</td>\n",
       "      <td>...</td>\n",
       "      <td>1.724717</td>\n",
       "      <td>1.754122</td>\n",
       "      <td>1.785560</td>\n",
       "      <td>1.828416</td>\n",
       "      <td>1.858446</td>\n",
       "      <td>1.894420</td>\n",
       "      <td>1.948068</td>\n",
       "      <td>1.981696</td>\n",
       "      <td>2.019078</td>\n",
       "      <td>2.057554</td>\n",
       "    </tr>\n",
       "  </tbody>\n",
       "</table>\n",
       "<p>5 rows × 270 columns</p>\n",
       "</div>"
      ],
      "text/plain": [
       "time                                                                                                                                                                                                                                                                                                                                                                                                        1750-01-01  \\\n",
       "a (watt / delta_degree_Celsius ** 2 / meter ** 2) climate_model                  d1 (a)   d2 (a)     dl (meter)  du (meter) efficacy (dimensionless) eta (watt / kelvin / meter ** 2) lambda0 (watt / delta_degree_Celsius / meter ** 2) model  q1 (delta_degree_Celsius * meter ** 2 / watt) q2 (delta_degree_Celsius * meter ** 2 / watt) region run_idx scenario unit       variable                                  \n",
       "0.0                                               two_layer                      NaN      NaN        1110.807846 57.739534  1.027856                 0.880636                         1.31                                               custom NaN                                           NaN                                           World  0       test     W/m^2      Effective Radiative Forcing         0.0   \n",
       "                                                                                                                                                                                                                                                                                                                                                                    delta_degC Surface Temperature|Upper           0.0   \n",
       "                                                                                                                                                                                                                                                                                                                                                                               Surface Temperature|Lower           0.0   \n",
       "                                                                                                                                                                                                                                                                                                                                                                    W/m^2      Heat Uptake                         0.0   \n",
       "NaN                                               two_timescale_impulse_response 3.424102 285.003478 NaN         NaN        1.027856                 NaN                              NaN                                                custom 0.443768                                      0.319591                                      World  0       test     W/m^2      Effective Radiative Forcing         0.0   \n",
       "\n",
       "time                                                                                                                                                                                                                                                                                                                                                                                                        1751-01-01  \\\n",
       "a (watt / delta_degree_Celsius ** 2 / meter ** 2) climate_model                  d1 (a)   d2 (a)     dl (meter)  du (meter) efficacy (dimensionless) eta (watt / kelvin / meter ** 2) lambda0 (watt / delta_degree_Celsius / meter ** 2) model  q1 (delta_degree_Celsius * meter ** 2 / watt) q2 (delta_degree_Celsius * meter ** 2 / watt) region run_idx scenario unit       variable                                  \n",
       "0.0                                               two_layer                      NaN      NaN        1110.807846 57.739534  1.027856                 0.880636                         1.31                                               custom NaN                                           NaN                                           World  0       test     W/m^2      Effective Radiative Forcing    0.001126   \n",
       "                                                                                                                                                                                                                                                                                                                                                                    delta_degC Surface Temperature|Upper      0.000000   \n",
       "                                                                                                                                                                                                                                                                                                                                                                               Surface Temperature|Lower      0.000000   \n",
       "                                                                                                                                                                                                                                                                                                                                                                    W/m^2      Heat Uptake                    0.000000   \n",
       "NaN                                               two_timescale_impulse_response 3.424102 285.003478 NaN         NaN        1.027856                 NaN                              NaN                                                custom 0.443768                                      0.319591                                      World  0       test     W/m^2      Effective Radiative Forcing    0.001126   \n",
       "\n",
       "time                                                                                                                                                                                                                                                                                                                                                                                                        1752-01-01  \\\n",
       "a (watt / delta_degree_Celsius ** 2 / meter ** 2) climate_model                  d1 (a)   d2 (a)     dl (meter)  du (meter) efficacy (dimensionless) eta (watt / kelvin / meter ** 2) lambda0 (watt / delta_degree_Celsius / meter ** 2) model  q1 (delta_degree_Celsius * meter ** 2 / watt) q2 (delta_degree_Celsius * meter ** 2 / watt) region run_idx scenario unit       variable                                  \n",
       "0.0                                               two_layer                      NaN      NaN        1110.807846 57.739534  1.027856                 0.880636                         1.31                                               custom NaN                                           NaN                                           World  0       test     W/m^2      Effective Radiative Forcing    0.002252   \n",
       "                                                                                                                                                                                                                                                                                                                                                                    delta_degC Surface Temperature|Upper      0.000147   \n",
       "                                                                                                                                                                                                                                                                                                                                                                               Surface Temperature|Lower      0.000000   \n",
       "                                                                                                                                                                                                                                                                                                                                                                    W/m^2      Heat Uptake                    0.001126   \n",
       "NaN                                               two_timescale_impulse_response 3.424102 285.003478 NaN         NaN        1.027856                 NaN                              NaN                                                custom 0.443768                                      0.319591                                      World  0       test     W/m^2      Effective Radiative Forcing    0.002252   \n",
       "\n",
       "time                                                                                                                                                                                                                                                                                                                                                                                                          1753-01-01  \\\n",
       "a (watt / delta_degree_Celsius ** 2 / meter ** 2) climate_model                  d1 (a)   d2 (a)     dl (meter)  du (meter) efficacy (dimensionless) eta (watt / kelvin / meter ** 2) lambda0 (watt / delta_degree_Celsius / meter ** 2) model  q1 (delta_degree_Celsius * meter ** 2 / watt) q2 (delta_degree_Celsius * meter ** 2 / watt) region run_idx scenario unit       variable                                    \n",
       "0.0                                               two_layer                      NaN      NaN        1110.807846 57.739534  1.027856                 0.880636                         1.31                                               custom NaN                                           NaN                                           World  0       test     W/m^2      Effective Radiative Forcing  3.378424e-03   \n",
       "                                                                                                                                                                                                                                                                                                                                                                    delta_degC Surface Temperature|Upper    3.990077e-04   \n",
       "                                                                                                                                                                                                                                                                                                                                                                               Surface Temperature|Lower    8.808963e-07   \n",
       "                                                                                                                                                                                                                                                                                                                                                                    W/m^2      Heat Uptake                  2.055824e-03   \n",
       "NaN                                               two_timescale_impulse_response 3.424102 285.003478 NaN         NaN        1.027856                 NaN                              NaN                                                custom 0.443768                                      0.319591                                      World  0       test     W/m^2      Effective Radiative Forcing  3.378424e-03   \n",
       "\n",
       "time                                                                                                                                                                                                                                                                                                                                                                                                        1754-01-01  \\\n",
       "a (watt / delta_degree_Celsius ** 2 / meter ** 2) climate_model                  d1 (a)   d2 (a)     dl (meter)  du (meter) efficacy (dimensionless) eta (watt / kelvin / meter ** 2) lambda0 (watt / delta_degree_Celsius / meter ** 2) model  q1 (delta_degree_Celsius * meter ** 2 / watt) q2 (delta_degree_Celsius * meter ** 2 / watt) region run_idx scenario unit       variable                                  \n",
       "0.0                                               two_layer                      NaN      NaN        1110.807846 57.739534  1.027856                 0.880636                         1.31                                               custom NaN                                           NaN                                           World  0       test     W/m^2      Effective Radiative Forcing    0.004505   \n",
       "                                                                                                                                                                                                                                                                                                                                                                    delta_degC Surface Temperature|Upper      0.000725   \n",
       "                                                                                                                                                                                                                                                                                                                                                                               Surface Temperature|Lower      0.000003   \n",
       "                                                                                                                                                                                                                                                                                                                                                                    W/m^2      Heat Uptake                    0.002846   \n",
       "NaN                                               two_timescale_impulse_response 3.424102 285.003478 NaN         NaN        1.027856                 NaN                              NaN                                                custom 0.443768                                      0.319591                                      World  0       test     W/m^2      Effective Radiative Forcing    0.004505   \n",
       "\n",
       "time                                                                                                                                                                                                                                                                                                                                                                                                        1755-01-01  \\\n",
       "a (watt / delta_degree_Celsius ** 2 / meter ** 2) climate_model                  d1 (a)   d2 (a)     dl (meter)  du (meter) efficacy (dimensionless) eta (watt / kelvin / meter ** 2) lambda0 (watt / delta_degree_Celsius / meter ** 2) model  q1 (delta_degree_Celsius * meter ** 2 / watt) q2 (delta_degree_Celsius * meter ** 2 / watt) region run_idx scenario unit       variable                                  \n",
       "0.0                                               two_layer                      NaN      NaN        1110.807846 57.739534  1.027856                 0.880636                         1.31                                               custom NaN                                           NaN                                           World  0       test     W/m^2      Effective Radiative Forcing    0.005631   \n",
       "                                                                                                                                                                                                                                                                                                                                                                    delta_degC Surface Temperature|Upper      0.001104   \n",
       "                                                                                                                                                                                                                                                                                                                                                                               Surface Temperature|Lower      0.000008   \n",
       "                                                                                                                                                                                                                                                                                                                                                                    W/m^2      Heat Uptake                    0.003537   \n",
       "NaN                                               two_timescale_impulse_response 3.424102 285.003478 NaN         NaN        1.027856                 NaN                              NaN                                                custom 0.443768                                      0.319591                                      World  0       test     W/m^2      Effective Radiative Forcing    0.005631   \n",
       "\n",
       "time                                                                                                                                                                                                                                                                                                                                                                                                        1756-01-01  \\\n",
       "a (watt / delta_degree_Celsius ** 2 / meter ** 2) climate_model                  d1 (a)   d2 (a)     dl (meter)  du (meter) efficacy (dimensionless) eta (watt / kelvin / meter ** 2) lambda0 (watt / delta_degree_Celsius / meter ** 2) model  q1 (delta_degree_Celsius * meter ** 2 / watt) q2 (delta_degree_Celsius * meter ** 2 / watt) region run_idx scenario unit       variable                                  \n",
       "0.0                                               two_layer                      NaN      NaN        1110.807846 57.739534  1.027856                 0.880636                         1.31                                               custom NaN                                           NaN                                           World  0       test     W/m^2      Effective Radiative Forcing    0.006757   \n",
       "                                                                                                                                                                                                                                                                                                                                                                    delta_degC Surface Temperature|Upper      0.001522   \n",
       "                                                                                                                                                                                                                                                                                                                                                                               Surface Temperature|Lower      0.000014   \n",
       "                                                                                                                                                                                                                                                                                                                                                                    W/m^2      Heat Uptake                    0.004157   \n",
       "NaN                                               two_timescale_impulse_response 3.424102 285.003478 NaN         NaN        1.027856                 NaN                              NaN                                                custom 0.443768                                      0.319591                                      World  0       test     W/m^2      Effective Radiative Forcing    0.006757   \n",
       "\n",
       "time                                                                                                                                                                                                                                                                                                                                                                                                        1757-01-01  \\\n",
       "a (watt / delta_degree_Celsius ** 2 / meter ** 2) climate_model                  d1 (a)   d2 (a)     dl (meter)  du (meter) efficacy (dimensionless) eta (watt / kelvin / meter ** 2) lambda0 (watt / delta_degree_Celsius / meter ** 2) model  q1 (delta_degree_Celsius * meter ** 2 / watt) q2 (delta_degree_Celsius * meter ** 2 / watt) region run_idx scenario unit       variable                                  \n",
       "0.0                                               two_layer                      NaN      NaN        1110.807846 57.739534  1.027856                 0.880636                         1.31                                               custom NaN                                           NaN                                           World  0       test     W/m^2      Effective Radiative Forcing    0.007883   \n",
       "                                                                                                                                                                                                                                                                                                                                                                    delta_degC Surface Temperature|Upper      0.001966   \n",
       "                                                                                                                                                                                                                                                                                                                                                                               Surface Temperature|Lower      0.000023   \n",
       "                                                                                                                                                                                                                                                                                                                                                                    W/m^2      Heat Uptake                    0.004727   \n",
       "NaN                                               two_timescale_impulse_response 3.424102 285.003478 NaN         NaN        1.027856                 NaN                              NaN                                                custom 0.443768                                      0.319591                                      World  0       test     W/m^2      Effective Radiative Forcing    0.007883   \n",
       "\n",
       "time                                                                                                                                                                                                                                                                                                                                                                                                        1758-01-01  \\\n",
       "a (watt / delta_degree_Celsius ** 2 / meter ** 2) climate_model                  d1 (a)   d2 (a)     dl (meter)  du (meter) efficacy (dimensionless) eta (watt / kelvin / meter ** 2) lambda0 (watt / delta_degree_Celsius / meter ** 2) model  q1 (delta_degree_Celsius * meter ** 2 / watt) q2 (delta_degree_Celsius * meter ** 2 / watt) region run_idx scenario unit       variable                                  \n",
       "0.0                                               two_layer                      NaN      NaN        1110.807846 57.739534  1.027856                 0.880636                         1.31                                               custom NaN                                           NaN                                           World  0       test     W/m^2      Effective Radiative Forcing    0.009009   \n",
       "                                                                                                                                                                                                                                                                                                                                                                    delta_degC Surface Temperature|Upper      0.002430   \n",
       "                                                                                                                                                                                                                                                                                                                                                                               Surface Temperature|Lower      0.000035   \n",
       "                                                                                                                                                                                                                                                                                                                                                                    W/m^2      Heat Uptake                    0.005260   \n",
       "NaN                                               two_timescale_impulse_response 3.424102 285.003478 NaN         NaN        1.027856                 NaN                              NaN                                                custom 0.443768                                      0.319591                                      World  0       test     W/m^2      Effective Radiative Forcing    0.009009   \n",
       "\n",
       "time                                                                                                                                                                                                                                                                                                                                                                                                        1759-01-01  \\\n",
       "a (watt / delta_degree_Celsius ** 2 / meter ** 2) climate_model                  d1 (a)   d2 (a)     dl (meter)  du (meter) efficacy (dimensionless) eta (watt / kelvin / meter ** 2) lambda0 (watt / delta_degree_Celsius / meter ** 2) model  q1 (delta_degree_Celsius * meter ** 2 / watt) q2 (delta_degree_Celsius * meter ** 2 / watt) region run_idx scenario unit       variable                                  \n",
       "0.0                                               two_layer                      NaN      NaN        1110.807846 57.739534  1.027856                 0.880636                         1.31                                               custom NaN                                           NaN                                           World  0       test     W/m^2      Effective Radiative Forcing    0.010135   \n",
       "                                                                                                                                                                                                                                                                                                                                                                    delta_degC Surface Temperature|Upper      0.002908   \n",
       "                                                                                                                                                                                                                                                                                                                                                                               Surface Temperature|Lower      0.000049   \n",
       "                                                                                                                                                                                                                                                                                                                                                                    W/m^2      Heat Uptake                    0.005767   \n",
       "NaN                                               two_timescale_impulse_response 3.424102 285.003478 NaN         NaN        1.027856                 NaN                              NaN                                                custom 0.443768                                      0.319591                                      World  0       test     W/m^2      Effective Radiative Forcing    0.010135   \n",
       "\n",
       "time                                                                                                                                                                                                                                                                                                                                                                                                        ...  \\\n",
       "a (watt / delta_degree_Celsius ** 2 / meter ** 2) climate_model                  d1 (a)   d2 (a)     dl (meter)  du (meter) efficacy (dimensionless) eta (watt / kelvin / meter ** 2) lambda0 (watt / delta_degree_Celsius / meter ** 2) model  q1 (delta_degree_Celsius * meter ** 2 / watt) q2 (delta_degree_Celsius * meter ** 2 / watt) region run_idx scenario unit       variable                     ...   \n",
       "0.0                                               two_layer                      NaN      NaN        1110.807846 57.739534  1.027856                 0.880636                         1.31                                               custom NaN                                           NaN                                           World  0       test     W/m^2      Effective Radiative Forcing  ...   \n",
       "                                                                                                                                                                                                                                                                                                                                                                    delta_degC Surface Temperature|Upper    ...   \n",
       "                                                                                                                                                                                                                                                                                                                                                                               Surface Temperature|Lower    ...   \n",
       "                                                                                                                                                                                                                                                                                                                                                                    W/m^2      Heat Uptake                  ...   \n",
       "NaN                                               two_timescale_impulse_response 3.424102 285.003478 NaN         NaN        1.027856                 NaN                              NaN                                                custom 0.443768                                      0.319591                                      World  0       test     W/m^2      Effective Radiative Forcing  ...   \n",
       "\n",
       "time                                                                                                                                                                                                                                                                                                                                                                                                        2010-01-01  \\\n",
       "a (watt / delta_degree_Celsius ** 2 / meter ** 2) climate_model                  d1 (a)   d2 (a)     dl (meter)  du (meter) efficacy (dimensionless) eta (watt / kelvin / meter ** 2) lambda0 (watt / delta_degree_Celsius / meter ** 2) model  q1 (delta_degree_Celsius * meter ** 2 / watt) q2 (delta_degree_Celsius * meter ** 2 / watt) region run_idx scenario unit       variable                                  \n",
       "0.0                                               two_layer                      NaN      NaN        1110.807846 57.739534  1.027856                 0.880636                         1.31                                               custom NaN                                           NaN                                           World  0       test     W/m^2      Effective Radiative Forcing    1.724717   \n",
       "                                                                                                                                                                                                                                                                                                                                                                    delta_degC Surface Temperature|Upper      0.807222   \n",
       "                                                                                                                                                                                                                                                                                                                                                                               Surface Temperature|Lower      0.199250   \n",
       "                                                                                                                                                                                                                                                                                                                                                                    W/m^2      Heat Uptake                    0.635757   \n",
       "NaN                                               two_timescale_impulse_response 3.424102 285.003478 NaN         NaN        1.027856                 NaN                              NaN                                                custom 0.443768                                      0.319591                                      World  0       test     W/m^2      Effective Radiative Forcing    1.724717   \n",
       "\n",
       "time                                                                                                                                                                                                                                                                                                                                                                                                        2011-01-01  \\\n",
       "a (watt / delta_degree_Celsius ** 2 / meter ** 2) climate_model                  d1 (a)   d2 (a)     dl (meter)  du (meter) efficacy (dimensionless) eta (watt / kelvin / meter ** 2) lambda0 (watt / delta_degree_Celsius / meter ** 2) model  q1 (delta_degree_Celsius * meter ** 2 / watt) q2 (delta_degree_Celsius * meter ** 2 / watt) region run_idx scenario unit       variable                                  \n",
       "0.0                                               two_layer                      NaN      NaN        1110.807846 57.739534  1.027856                 0.880636                         1.31                                               custom NaN                                           NaN                                           World  0       test     W/m^2      Effective Radiative Forcing    1.754122   \n",
       "                                                                                                                                                                                                                                                                                                                                                                    delta_degC Surface Temperature|Upper      0.822509   \n",
       "                                                                                                                                                                                                                                                                                                                                                                               Surface Temperature|Lower      0.202888   \n",
       "                                                                                                                                                                                                                                                                                                                                                                    W/m^2      Heat Uptake                    0.652342   \n",
       "NaN                                               two_timescale_impulse_response 3.424102 285.003478 NaN         NaN        1.027856                 NaN                              NaN                                                custom 0.443768                                      0.319591                                      World  0       test     W/m^2      Effective Radiative Forcing    1.754122   \n",
       "\n",
       "time                                                                                                                                                                                                                                                                                                                                                                                                        2012-01-01  \\\n",
       "a (watt / delta_degree_Celsius ** 2 / meter ** 2) climate_model                  d1 (a)   d2 (a)     dl (meter)  du (meter) efficacy (dimensionless) eta (watt / kelvin / meter ** 2) lambda0 (watt / delta_degree_Celsius / meter ** 2) model  q1 (delta_degree_Celsius * meter ** 2 / watt) q2 (delta_degree_Celsius * meter ** 2 / watt) region run_idx scenario unit       variable                                  \n",
       "0.0                                               two_layer                      NaN      NaN        1110.807846 57.739534  1.027856                 0.880636                         1.31                                               custom NaN                                           NaN                                           World  0       test     W/m^2      Effective Radiative Forcing    1.785560   \n",
       "                                                                                                                                                                                                                                                                                                                                                                    delta_degC Surface Temperature|Upper      0.837643   \n",
       "                                                                                                                                                                                                                                                                                                                                                                               Surface Temperature|Lower      0.206596   \n",
       "                                                                                                                                                                                                                                                                                                                                                                    W/m^2      Heat Uptake                    0.661435   \n",
       "NaN                                               two_timescale_impulse_response 3.424102 285.003478 NaN         NaN        1.027856                 NaN                              NaN                                                custom 0.443768                                      0.319591                                      World  0       test     W/m^2      Effective Radiative Forcing    1.785560   \n",
       "\n",
       "time                                                                                                                                                                                                                                                                                                                                                                                                        2013-01-01  \\\n",
       "a (watt / delta_degree_Celsius ** 2 / meter ** 2) climate_model                  d1 (a)   d2 (a)     dl (meter)  du (meter) efficacy (dimensionless) eta (watt / kelvin / meter ** 2) lambda0 (watt / delta_degree_Celsius / meter ** 2) model  q1 (delta_degree_Celsius * meter ** 2 / watt) q2 (delta_degree_Celsius * meter ** 2 / watt) region run_idx scenario unit       variable                                  \n",
       "0.0                                               two_layer                      NaN      NaN        1110.807846 57.739534  1.027856                 0.880636                         1.31                                               custom NaN                                           NaN                                           World  0       test     W/m^2      Effective Radiative Forcing    1.828416   \n",
       "                                                                                                                                                                                                                                                                                                                                                                    delta_degC Surface Temperature|Upper      0.852944   \n",
       "                                                                                                                                                                                                                                                                                                                                                                               Surface Temperature|Lower      0.210372   \n",
       "                                                                                                                                                                                                                                                                                                                                                                    W/m^2      Heat Uptake                    0.672767   \n",
       "NaN                                               two_timescale_impulse_response 3.424102 285.003478 NaN         NaN        1.027856                 NaN                              NaN                                                custom 0.443768                                      0.319591                                      World  0       test     W/m^2      Effective Radiative Forcing    1.828416   \n",
       "\n",
       "time                                                                                                                                                                                                                                                                                                                                                                                                        2014-01-01  \\\n",
       "a (watt / delta_degree_Celsius ** 2 / meter ** 2) climate_model                  d1 (a)   d2 (a)     dl (meter)  du (meter) efficacy (dimensionless) eta (watt / kelvin / meter ** 2) lambda0 (watt / delta_degree_Celsius / meter ** 2) model  q1 (delta_degree_Celsius * meter ** 2 / watt) q2 (delta_degree_Celsius * meter ** 2 / watt) region run_idx scenario unit       variable                                  \n",
       "0.0                                               two_layer                      NaN      NaN        1110.807846 57.739534  1.027856                 0.880636                         1.31                                               custom NaN                                           NaN                                           World  0       test     W/m^2      Effective Radiative Forcing    1.858446   \n",
       "                                                                                                                                                                                                                                                                                                                                                                    delta_degC Surface Temperature|Upper      0.869862   \n",
       "                                                                                                                                                                                                                                                                                                                                                                               Surface Temperature|Lower      0.214217   \n",
       "                                                                                                                                                                                                                                                                                                                                                                    W/m^2      Heat Uptake                    0.695297   \n",
       "NaN                                               two_timescale_impulse_response 3.424102 285.003478 NaN         NaN        1.027856                 NaN                              NaN                                                custom 0.443768                                      0.319591                                      World  0       test     W/m^2      Effective Radiative Forcing    1.858446   \n",
       "\n",
       "time                                                                                                                                                                                                                                                                                                                                                                                                        2015-01-01  \\\n",
       "a (watt / delta_degree_Celsius ** 2 / meter ** 2) climate_model                  d1 (a)   d2 (a)     dl (meter)  du (meter) efficacy (dimensionless) eta (watt / kelvin / meter ** 2) lambda0 (watt / delta_degree_Celsius / meter ** 2) model  q1 (delta_degree_Celsius * meter ** 2 / watt) q2 (delta_degree_Celsius * meter ** 2 / watt) region run_idx scenario unit       variable                                  \n",
       "0.0                                               two_layer                      NaN      NaN        1110.807846 57.739534  1.027856                 0.880636                         1.31                                               custom NaN                                           NaN                                           World  0       test     W/m^2      Effective Radiative Forcing    1.894420   \n",
       "                                                                                                                                                                                                                                                                                                                                                                    delta_degC Surface Temperature|Upper      0.886263   \n",
       "                                                                                                                                                                                                                                                                                                                                                                               Surface Temperature|Lower      0.218140   \n",
       "                                                                                                                                                                                                                                                                                                                                                                    W/m^2      Heat Uptake                    0.702843   \n",
       "NaN                                               two_timescale_impulse_response 3.424102 285.003478 NaN         NaN        1.027856                 NaN                              NaN                                                custom 0.443768                                      0.319591                                      World  0       test     W/m^2      Effective Radiative Forcing    1.894420   \n",
       "\n",
       "time                                                                                                                                                                                                                                                                                                                                                                                                        2016-01-01  \\\n",
       "a (watt / delta_degree_Celsius ** 2 / meter ** 2) climate_model                  d1 (a)   d2 (a)     dl (meter)  du (meter) efficacy (dimensionless) eta (watt / kelvin / meter ** 2) lambda0 (watt / delta_degree_Celsius / meter ** 2) model  q1 (delta_degree_Celsius * meter ** 2 / watt) q2 (delta_degree_Celsius * meter ** 2 / watt) region run_idx scenario unit       variable                                  \n",
       "0.0                                               two_layer                      NaN      NaN        1110.807846 57.739534  1.027856                 0.880636                         1.31                                               custom NaN                                           NaN                                           World  0       test     W/m^2      Effective Radiative Forcing    1.948068   \n",
       "                                                                                                                                                                                                                                                                                                                                                                    delta_degC Surface Temperature|Upper      0.903081   \n",
       "                                                                                                                                                                                                                                                                                                                                                                               Surface Temperature|Lower      0.222138   \n",
       "                                                                                                                                                                                                                                                                                                                                                                    W/m^2      Heat Uptake                    0.717027   \n",
       "NaN                                               two_timescale_impulse_response 3.424102 285.003478 NaN         NaN        1.027856                 NaN                              NaN                                                custom 0.443768                                      0.319591                                      World  0       test     W/m^2      Effective Radiative Forcing    1.948068   \n",
       "\n",
       "time                                                                                                                                                                                                                                                                                                                                                                                                        2017-01-01  \\\n",
       "a (watt / delta_degree_Celsius ** 2 / meter ** 2) climate_model                  d1 (a)   d2 (a)     dl (meter)  du (meter) efficacy (dimensionless) eta (watt / kelvin / meter ** 2) lambda0 (watt / delta_degree_Celsius / meter ** 2) model  q1 (delta_degree_Celsius * meter ** 2 / watt) q2 (delta_degree_Celsius * meter ** 2 / watt) region run_idx scenario unit       variable                                  \n",
       "0.0                                               two_layer                      NaN      NaN        1110.807846 57.739534  1.027856                 0.880636                         1.31                                               custom NaN                                           NaN                                           World  0       test     W/m^2      Effective Radiative Forcing    1.981696   \n",
       "                                                                                                                                                                                                                                                                                                                                                                    delta_degC Surface Temperature|Upper      0.922515   \n",
       "                                                                                                                                                                                                                                                                                                                                                                               Surface Temperature|Lower      0.226213   \n",
       "                                                                                                                                                                                                                                                                                                                                                                    W/m^2      Heat Uptake                    0.748329   \n",
       "NaN                                               two_timescale_impulse_response 3.424102 285.003478 NaN         NaN        1.027856                 NaN                              NaN                                                custom 0.443768                                      0.319591                                      World  0       test     W/m^2      Effective Radiative Forcing    1.981696   \n",
       "\n",
       "time                                                                                                                                                                                                                                                                                                                                                                                                        2018-01-01  \\\n",
       "a (watt / delta_degree_Celsius ** 2 / meter ** 2) climate_model                  d1 (a)   d2 (a)     dl (meter)  du (meter) efficacy (dimensionless) eta (watt / kelvin / meter ** 2) lambda0 (watt / delta_degree_Celsius / meter ** 2) model  q1 (delta_degree_Celsius * meter ** 2 / watt) q2 (delta_degree_Celsius * meter ** 2 / watt) region run_idx scenario unit       variable                                  \n",
       "0.0                                               two_layer                      NaN      NaN        1110.807846 57.739534  1.027856                 0.880636                         1.31                                               custom NaN                                           NaN                                           World  0       test     W/m^2      Effective Radiative Forcing    2.019078   \n",
       "                                                                                                                                                                                                                                                                                                                                                                    delta_degC Surface Temperature|Upper      0.941199   \n",
       "                                                                                                                                                                                                                                                                                                                                                                               Surface Temperature|Lower      0.230379   \n",
       "                                                                                                                                                                                                                                                                                                                                                                    W/m^2      Heat Uptake                    0.756121   \n",
       "NaN                                               two_timescale_impulse_response 3.424102 285.003478 NaN         NaN        1.027856                 NaN                              NaN                                                custom 0.443768                                      0.319591                                      World  0       test     W/m^2      Effective Radiative Forcing    2.019078   \n",
       "\n",
       "time                                                                                                                                                                                                                                                                                                                                                                                                        2019-01-01  \n",
       "a (watt / delta_degree_Celsius ** 2 / meter ** 2) climate_model                  d1 (a)   d2 (a)     dl (meter)  du (meter) efficacy (dimensionless) eta (watt / kelvin / meter ** 2) lambda0 (watt / delta_degree_Celsius / meter ** 2) model  q1 (delta_degree_Celsius * meter ** 2 / watt) q2 (delta_degree_Celsius * meter ** 2 / watt) region run_idx scenario unit       variable                                 \n",
       "0.0                                               two_layer                      NaN      NaN        1110.807846 57.739534  1.027856                 0.880636                         1.31                                               custom NaN                                           NaN                                           World  0       test     W/m^2      Effective Radiative Forcing    2.057554  \n",
       "                                                                                                                                                                                                                                                                                                                                                                    delta_degC Surface Temperature|Upper      0.959853  \n",
       "                                                                                                                                                                                                                                                                                                                                                                               Surface Temperature|Lower      0.234633  \n",
       "                                                                                                                                                                                                                                                                                                                                                                    W/m^2      Heat Uptake                    0.768670  \n",
       "NaN                                               two_timescale_impulse_response 3.424102 285.003478 NaN         NaN        1.027856                 NaN                              NaN                                                custom 0.443768                                      0.319591                                      World  0       test     W/m^2      Effective Radiative Forcing    2.057554  \n",
       "\n",
       "[5 rows x 270 columns]"
      ]
     },
     "execution_count": 46,
     "metadata": {},
     "output_type": "execute_result"
    }
   ],
   "source": [
    "recommend_paras = pd.read_csv(\"../../data_in/recommended_irf_from_2xCO2_2021_02_25_222758.csv\").iloc[0, :]\n",
    "erf = pd.read_csv(PATH_DATASET, index_col=0)\n",
    "scenario = \"test\"\n",
    "unit = \"W/m^2\"\n",
    "\n",
    "driver = ScmRun(\n",
    "    data=erf[\"CO2\"].values,\n",
    "    index=erf.index.values,\n",
    "    columns={\n",
    "        \"unit\": unit,\n",
    "        \"model\": \"custom\",\n",
    "        \"scenario\": scenario,\n",
    "        \"region\": \"World\",\n",
    "        \"variable\": \"Effective Radiative Forcing\",\n",
    "    },\n",
    ")\n",
    "du = (\n",
    "    recommend_paras[\"C (W yr / m^2 / K)\"] \n",
    "    * unit_registry(\"W yr / m^2 / delta_degC\")\n",
    "    / constants.DENSITY_WATER\n",
    "    / constants.HEAT_CAPACITY_WATER\n",
    ").to(\"m\")\n",
    "\n",
    "dl = (\n",
    "    recommend_paras[\"C_d (W yr / m^2 / K)\"] \n",
    "    * unit_registry(\"W yr / m^2 / delta_degC\")\n",
    "    / constants.DENSITY_WATER\n",
    "    / constants.HEAT_CAPACITY_WATER\n",
    ").to(\"m\")\n",
    "\n",
    "two_layer = TwoLayerModel(\n",
    "    # the naming is confusing because I follow Geoffroy, Ch. 7 Appendix does its own thing\n",
    "    # the units should be clear\n",
    "    lambda0=recommend_paras[\"alpha (W / m^2 / K)\"] * unit_registry(\"W/m^2/delta_degC\"),\n",
    "    du=du,\n",
    "    dl=dl,\n",
    "    a=0.0 * unit_registry(\"watt / delta_degree_Celsius ** 2 / meter ** 2\"),\n",
    "    efficacy=recommend_paras[\"efficacy (dimensionless)\"] * unit_registry(\"dimensionless\"),\n",
    "    eta=recommend_paras[\"kappa (W / m^2 / K)\"] * unit_registry(\"W / m^2 / K\"),\n",
    "#     delta_t=100 * unit_registry(\"yr\"),\n",
    ")\n",
    "# res_two_layer = two_layer.run_scenarios(driver.interpolate([dt.datetime(y, m, 1) for y in 1850 + np.arange(len(erf)) for m in range(1, 13)]))\n",
    "res_two_layer = two_layer.run_scenarios(driver)\n",
    "\n",
    "impulse_response = ImpulseResponseModel(\n",
    "    d1=recommend_paras[\"d1 (yr)\"] * unit_registry(\"yr\"),\n",
    "    d2=recommend_paras[\"d2 (yr)\"] * unit_registry(\"yr\"),\n",
    "    q1=recommend_paras[\"q1 (K / (W / m^2))\"] * unit_registry(\"delta_degC / (W / m^2)\"),\n",
    "    q2=recommend_paras[\"q2 (K / (W / m^2))\"] * unit_registry(\"delta_degC / (W / m^2)\"),\n",
    "    efficacy=recommend_paras[\"efficacy (dimensionless)\"] * unit_registry(\"dimensionless\"),\n",
    ")\n",
    "res_impulse_response = impulse_response.run_scenarios(driver)\n",
    "\n",
    "res = res_two_layer.append(res_impulse_response)\n",
    "res.head()"
   ]
  },
  {
   "cell_type": "code",
   "execution_count": 50,
   "metadata": {},
   "outputs": [
    {
     "data": {
      "text/html": [
       "<div>\n",
       "<style scoped>\n",
       "    .dataframe tbody tr th:only-of-type {\n",
       "        vertical-align: middle;\n",
       "    }\n",
       "\n",
       "    .dataframe tbody tr th {\n",
       "        vertical-align: top;\n",
       "    }\n",
       "\n",
       "    .dataframe thead th {\n",
       "        text-align: right;\n",
       "    }\n",
       "</style>\n",
       "<table border=\"1\" class=\"dataframe\">\n",
       "  <thead>\n",
       "    <tr style=\"text-align: right;\">\n",
       "      <th></th>\n",
       "      <th></th>\n",
       "      <th></th>\n",
       "      <th></th>\n",
       "      <th></th>\n",
       "      <th></th>\n",
       "      <th></th>\n",
       "      <th></th>\n",
       "      <th></th>\n",
       "      <th></th>\n",
       "      <th></th>\n",
       "      <th>time</th>\n",
       "      <th>1750-01-01</th>\n",
       "      <th>1751-01-01</th>\n",
       "      <th>1752-01-01</th>\n",
       "      <th>1753-01-01</th>\n",
       "      <th>1754-01-01</th>\n",
       "      <th>1755-01-01</th>\n",
       "      <th>1756-01-01</th>\n",
       "      <th>1757-01-01</th>\n",
       "      <th>1758-01-01</th>\n",
       "      <th>1759-01-01</th>\n",
       "      <th>...</th>\n",
       "      <th>2010-01-01</th>\n",
       "      <th>2011-01-01</th>\n",
       "      <th>2012-01-01</th>\n",
       "      <th>2013-01-01</th>\n",
       "      <th>2014-01-01</th>\n",
       "      <th>2015-01-01</th>\n",
       "      <th>2016-01-01</th>\n",
       "      <th>2017-01-01</th>\n",
       "      <th>2018-01-01</th>\n",
       "      <th>2019-01-01</th>\n",
       "    </tr>\n",
       "    <tr>\n",
       "      <th>climate_model</th>\n",
       "      <th>d1 (a)</th>\n",
       "      <th>d2 (a)</th>\n",
       "      <th>efficacy (dimensionless)</th>\n",
       "      <th>model</th>\n",
       "      <th>q1 (delta_degree_Celsius * meter ** 2 / watt)</th>\n",
       "      <th>q2 (delta_degree_Celsius * meter ** 2 / watt)</th>\n",
       "      <th>region</th>\n",
       "      <th>run_idx</th>\n",
       "      <th>scenario</th>\n",
       "      <th>unit</th>\n",
       "      <th>variable</th>\n",
       "      <th></th>\n",
       "      <th></th>\n",
       "      <th></th>\n",
       "      <th></th>\n",
       "      <th></th>\n",
       "      <th></th>\n",
       "      <th></th>\n",
       "      <th></th>\n",
       "      <th></th>\n",
       "      <th></th>\n",
       "      <th></th>\n",
       "      <th></th>\n",
       "      <th></th>\n",
       "      <th></th>\n",
       "      <th></th>\n",
       "      <th></th>\n",
       "      <th></th>\n",
       "      <th></th>\n",
       "      <th></th>\n",
       "      <th></th>\n",
       "      <th></th>\n",
       "    </tr>\n",
       "  </thead>\n",
       "  <tbody>\n",
       "    <tr>\n",
       "      <th rowspan=\"5\" valign=\"top\">two_timescale_impulse_response</th>\n",
       "      <th rowspan=\"5\" valign=\"top\">3.424102</th>\n",
       "      <th rowspan=\"5\" valign=\"top\">285.003478</th>\n",
       "      <th rowspan=\"5\" valign=\"top\">1.027856</th>\n",
       "      <th rowspan=\"5\" valign=\"top\">custom</th>\n",
       "      <th rowspan=\"5\" valign=\"top\">0.443768</th>\n",
       "      <th rowspan=\"5\" valign=\"top\">0.319591</th>\n",
       "      <th rowspan=\"5\" valign=\"top\">World</th>\n",
       "      <th rowspan=\"5\" valign=\"top\">0</th>\n",
       "      <th rowspan=\"5\" valign=\"top\">test</th>\n",
       "      <th>W/m^2</th>\n",
       "      <th>Effective Radiative Forcing</th>\n",
       "      <td>0.0</td>\n",
       "      <td>0.001126</td>\n",
       "      <td>0.002252</td>\n",
       "      <td>0.003378</td>\n",
       "      <td>0.004505</td>\n",
       "      <td>0.005631</td>\n",
       "      <td>0.006757</td>\n",
       "      <td>0.007883</td>\n",
       "      <td>0.009009</td>\n",
       "      <td>0.010135</td>\n",
       "      <td>...</td>\n",
       "      <td>1.724717</td>\n",
       "      <td>1.754122</td>\n",
       "      <td>1.785560</td>\n",
       "      <td>1.828416</td>\n",
       "      <td>1.858446</td>\n",
       "      <td>1.894420</td>\n",
       "      <td>1.948068</td>\n",
       "      <td>1.981696</td>\n",
       "      <td>2.019078</td>\n",
       "      <td>2.057554</td>\n",
       "    </tr>\n",
       "    <tr>\n",
       "      <th rowspan=\"3\" valign=\"top\">delta_degC</th>\n",
       "      <th>Surface Temperature|Box 1</th>\n",
       "      <td>0.0</td>\n",
       "      <td>0.000000</td>\n",
       "      <td>0.000127</td>\n",
       "      <td>0.000348</td>\n",
       "      <td>0.000639</td>\n",
       "      <td>0.000984</td>\n",
       "      <td>0.001367</td>\n",
       "      <td>0.001780</td>\n",
       "      <td>0.002216</td>\n",
       "      <td>0.002667</td>\n",
       "      <td>...</td>\n",
       "      <td>0.711696</td>\n",
       "      <td>0.725291</td>\n",
       "      <td>0.738747</td>\n",
       "      <td>0.752329</td>\n",
       "      <td>0.767288</td>\n",
       "      <td>0.781833</td>\n",
       "      <td>0.796738</td>\n",
       "      <td>0.813897</td>\n",
       "      <td>0.830490</td>\n",
       "      <td>0.847082</td>\n",
       "    </tr>\n",
       "    <tr>\n",
       "      <th>Surface Temperature|Box 2</th>\n",
       "      <td>0.0</td>\n",
       "      <td>0.000000</td>\n",
       "      <td>0.000001</td>\n",
       "      <td>0.000004</td>\n",
       "      <td>0.000008</td>\n",
       "      <td>0.000013</td>\n",
       "      <td>0.000019</td>\n",
       "      <td>0.000026</td>\n",
       "      <td>0.000035</td>\n",
       "      <td>0.000045</td>\n",
       "      <td>...</td>\n",
       "      <td>0.088505</td>\n",
       "      <td>0.090126</td>\n",
       "      <td>0.091774</td>\n",
       "      <td>0.093451</td>\n",
       "      <td>0.095170</td>\n",
       "      <td>0.096917</td>\n",
       "      <td>0.098698</td>\n",
       "      <td>0.100533</td>\n",
       "      <td>0.102400</td>\n",
       "      <td>0.104301</td>\n",
       "    </tr>\n",
       "    <tr>\n",
       "      <th>Surface Temperature</th>\n",
       "      <td>0.0</td>\n",
       "      <td>0.000000</td>\n",
       "      <td>0.000128</td>\n",
       "      <td>0.000351</td>\n",
       "      <td>0.000647</td>\n",
       "      <td>0.000996</td>\n",
       "      <td>0.001386</td>\n",
       "      <td>0.001807</td>\n",
       "      <td>0.002251</td>\n",
       "      <td>0.002712</td>\n",
       "      <td>...</td>\n",
       "      <td>0.800201</td>\n",
       "      <td>0.815417</td>\n",
       "      <td>0.830521</td>\n",
       "      <td>0.845780</td>\n",
       "      <td>0.862458</td>\n",
       "      <td>0.878750</td>\n",
       "      <td>0.895436</td>\n",
       "      <td>0.914430</td>\n",
       "      <td>0.932890</td>\n",
       "      <td>0.951383</td>\n",
       "    </tr>\n",
       "    <tr>\n",
       "      <th>W/m^2</th>\n",
       "      <th>Heat Uptake</th>\n",
       "      <td>0.0</td>\n",
       "      <td>0.000000</td>\n",
       "      <td>0.001126</td>\n",
       "      <td>0.002082</td>\n",
       "      <td>0.002909</td>\n",
       "      <td>0.003641</td>\n",
       "      <td>0.004301</td>\n",
       "      <td>0.004907</td>\n",
       "      <td>0.005472</td>\n",
       "      <td>0.006007</td>\n",
       "      <td>...</td>\n",
       "      <td>0.645209</td>\n",
       "      <td>0.661707</td>\n",
       "      <td>0.670896</td>\n",
       "      <td>0.682268</td>\n",
       "      <td>0.704852</td>\n",
       "      <td>0.712720</td>\n",
       "      <td>0.727047</td>\n",
       "      <td>0.758526</td>\n",
       "      <td>0.766905</td>\n",
       "      <td>0.779755</td>\n",
       "    </tr>\n",
       "  </tbody>\n",
       "</table>\n",
       "<p>5 rows × 270 columns</p>\n",
       "</div>"
      ],
      "text/plain": [
       "time                                                                                                                                                                                                                                           1750-01-01  \\\n",
       "climate_model                  d1 (a)   d2 (a)     efficacy (dimensionless) model  q1 (delta_degree_Celsius * meter ** 2 / watt) q2 (delta_degree_Celsius * meter ** 2 / watt) region run_idx scenario unit       variable                                  \n",
       "two_timescale_impulse_response 3.424102 285.003478 1.027856                 custom 0.443768                                      0.319591                                      World  0       test     W/m^2      Effective Radiative Forcing         0.0   \n",
       "                                                                                                                                                                                                       delta_degC Surface Temperature|Box 1           0.0   \n",
       "                                                                                                                                                                                                                  Surface Temperature|Box 2           0.0   \n",
       "                                                                                                                                                                                                                  Surface Temperature                 0.0   \n",
       "                                                                                                                                                                                                       W/m^2      Heat Uptake                         0.0   \n",
       "\n",
       "time                                                                                                                                                                                                                                           1751-01-01  \\\n",
       "climate_model                  d1 (a)   d2 (a)     efficacy (dimensionless) model  q1 (delta_degree_Celsius * meter ** 2 / watt) q2 (delta_degree_Celsius * meter ** 2 / watt) region run_idx scenario unit       variable                                  \n",
       "two_timescale_impulse_response 3.424102 285.003478 1.027856                 custom 0.443768                                      0.319591                                      World  0       test     W/m^2      Effective Radiative Forcing    0.001126   \n",
       "                                                                                                                                                                                                       delta_degC Surface Temperature|Box 1      0.000000   \n",
       "                                                                                                                                                                                                                  Surface Temperature|Box 2      0.000000   \n",
       "                                                                                                                                                                                                                  Surface Temperature            0.000000   \n",
       "                                                                                                                                                                                                       W/m^2      Heat Uptake                    0.000000   \n",
       "\n",
       "time                                                                                                                                                                                                                                           1752-01-01  \\\n",
       "climate_model                  d1 (a)   d2 (a)     efficacy (dimensionless) model  q1 (delta_degree_Celsius * meter ** 2 / watt) q2 (delta_degree_Celsius * meter ** 2 / watt) region run_idx scenario unit       variable                                  \n",
       "two_timescale_impulse_response 3.424102 285.003478 1.027856                 custom 0.443768                                      0.319591                                      World  0       test     W/m^2      Effective Radiative Forcing    0.002252   \n",
       "                                                                                                                                                                                                       delta_degC Surface Temperature|Box 1      0.000127   \n",
       "                                                                                                                                                                                                                  Surface Temperature|Box 2      0.000001   \n",
       "                                                                                                                                                                                                                  Surface Temperature            0.000128   \n",
       "                                                                                                                                                                                                       W/m^2      Heat Uptake                    0.001126   \n",
       "\n",
       "time                                                                                                                                                                                                                                           1753-01-01  \\\n",
       "climate_model                  d1 (a)   d2 (a)     efficacy (dimensionless) model  q1 (delta_degree_Celsius * meter ** 2 / watt) q2 (delta_degree_Celsius * meter ** 2 / watt) region run_idx scenario unit       variable                                  \n",
       "two_timescale_impulse_response 3.424102 285.003478 1.027856                 custom 0.443768                                      0.319591                                      World  0       test     W/m^2      Effective Radiative Forcing    0.003378   \n",
       "                                                                                                                                                                                                       delta_degC Surface Temperature|Box 1      0.000348   \n",
       "                                                                                                                                                                                                                  Surface Temperature|Box 2      0.000004   \n",
       "                                                                                                                                                                                                                  Surface Temperature            0.000351   \n",
       "                                                                                                                                                                                                       W/m^2      Heat Uptake                    0.002082   \n",
       "\n",
       "time                                                                                                                                                                                                                                           1754-01-01  \\\n",
       "climate_model                  d1 (a)   d2 (a)     efficacy (dimensionless) model  q1 (delta_degree_Celsius * meter ** 2 / watt) q2 (delta_degree_Celsius * meter ** 2 / watt) region run_idx scenario unit       variable                                  \n",
       "two_timescale_impulse_response 3.424102 285.003478 1.027856                 custom 0.443768                                      0.319591                                      World  0       test     W/m^2      Effective Radiative Forcing    0.004505   \n",
       "                                                                                                                                                                                                       delta_degC Surface Temperature|Box 1      0.000639   \n",
       "                                                                                                                                                                                                                  Surface Temperature|Box 2      0.000008   \n",
       "                                                                                                                                                                                                                  Surface Temperature            0.000647   \n",
       "                                                                                                                                                                                                       W/m^2      Heat Uptake                    0.002909   \n",
       "\n",
       "time                                                                                                                                                                                                                                           1755-01-01  \\\n",
       "climate_model                  d1 (a)   d2 (a)     efficacy (dimensionless) model  q1 (delta_degree_Celsius * meter ** 2 / watt) q2 (delta_degree_Celsius * meter ** 2 / watt) region run_idx scenario unit       variable                                  \n",
       "two_timescale_impulse_response 3.424102 285.003478 1.027856                 custom 0.443768                                      0.319591                                      World  0       test     W/m^2      Effective Radiative Forcing    0.005631   \n",
       "                                                                                                                                                                                                       delta_degC Surface Temperature|Box 1      0.000984   \n",
       "                                                                                                                                                                                                                  Surface Temperature|Box 2      0.000013   \n",
       "                                                                                                                                                                                                                  Surface Temperature            0.000996   \n",
       "                                                                                                                                                                                                       W/m^2      Heat Uptake                    0.003641   \n",
       "\n",
       "time                                                                                                                                                                                                                                           1756-01-01  \\\n",
       "climate_model                  d1 (a)   d2 (a)     efficacy (dimensionless) model  q1 (delta_degree_Celsius * meter ** 2 / watt) q2 (delta_degree_Celsius * meter ** 2 / watt) region run_idx scenario unit       variable                                  \n",
       "two_timescale_impulse_response 3.424102 285.003478 1.027856                 custom 0.443768                                      0.319591                                      World  0       test     W/m^2      Effective Radiative Forcing    0.006757   \n",
       "                                                                                                                                                                                                       delta_degC Surface Temperature|Box 1      0.001367   \n",
       "                                                                                                                                                                                                                  Surface Temperature|Box 2      0.000019   \n",
       "                                                                                                                                                                                                                  Surface Temperature            0.001386   \n",
       "                                                                                                                                                                                                       W/m^2      Heat Uptake                    0.004301   \n",
       "\n",
       "time                                                                                                                                                                                                                                           1757-01-01  \\\n",
       "climate_model                  d1 (a)   d2 (a)     efficacy (dimensionless) model  q1 (delta_degree_Celsius * meter ** 2 / watt) q2 (delta_degree_Celsius * meter ** 2 / watt) region run_idx scenario unit       variable                                  \n",
       "two_timescale_impulse_response 3.424102 285.003478 1.027856                 custom 0.443768                                      0.319591                                      World  0       test     W/m^2      Effective Radiative Forcing    0.007883   \n",
       "                                                                                                                                                                                                       delta_degC Surface Temperature|Box 1      0.001780   \n",
       "                                                                                                                                                                                                                  Surface Temperature|Box 2      0.000026   \n",
       "                                                                                                                                                                                                                  Surface Temperature            0.001807   \n",
       "                                                                                                                                                                                                       W/m^2      Heat Uptake                    0.004907   \n",
       "\n",
       "time                                                                                                                                                                                                                                           1758-01-01  \\\n",
       "climate_model                  d1 (a)   d2 (a)     efficacy (dimensionless) model  q1 (delta_degree_Celsius * meter ** 2 / watt) q2 (delta_degree_Celsius * meter ** 2 / watt) region run_idx scenario unit       variable                                  \n",
       "two_timescale_impulse_response 3.424102 285.003478 1.027856                 custom 0.443768                                      0.319591                                      World  0       test     W/m^2      Effective Radiative Forcing    0.009009   \n",
       "                                                                                                                                                                                                       delta_degC Surface Temperature|Box 1      0.002216   \n",
       "                                                                                                                                                                                                                  Surface Temperature|Box 2      0.000035   \n",
       "                                                                                                                                                                                                                  Surface Temperature            0.002251   \n",
       "                                                                                                                                                                                                       W/m^2      Heat Uptake                    0.005472   \n",
       "\n",
       "time                                                                                                                                                                                                                                           1759-01-01  \\\n",
       "climate_model                  d1 (a)   d2 (a)     efficacy (dimensionless) model  q1 (delta_degree_Celsius * meter ** 2 / watt) q2 (delta_degree_Celsius * meter ** 2 / watt) region run_idx scenario unit       variable                                  \n",
       "two_timescale_impulse_response 3.424102 285.003478 1.027856                 custom 0.443768                                      0.319591                                      World  0       test     W/m^2      Effective Radiative Forcing    0.010135   \n",
       "                                                                                                                                                                                                       delta_degC Surface Temperature|Box 1      0.002667   \n",
       "                                                                                                                                                                                                                  Surface Temperature|Box 2      0.000045   \n",
       "                                                                                                                                                                                                                  Surface Temperature            0.002712   \n",
       "                                                                                                                                                                                                       W/m^2      Heat Uptake                    0.006007   \n",
       "\n",
       "time                                                                                                                                                                                                                                           ...  \\\n",
       "climate_model                  d1 (a)   d2 (a)     efficacy (dimensionless) model  q1 (delta_degree_Celsius * meter ** 2 / watt) q2 (delta_degree_Celsius * meter ** 2 / watt) region run_idx scenario unit       variable                     ...   \n",
       "two_timescale_impulse_response 3.424102 285.003478 1.027856                 custom 0.443768                                      0.319591                                      World  0       test     W/m^2      Effective Radiative Forcing  ...   \n",
       "                                                                                                                                                                                                       delta_degC Surface Temperature|Box 1    ...   \n",
       "                                                                                                                                                                                                                  Surface Temperature|Box 2    ...   \n",
       "                                                                                                                                                                                                                  Surface Temperature          ...   \n",
       "                                                                                                                                                                                                       W/m^2      Heat Uptake                  ...   \n",
       "\n",
       "time                                                                                                                                                                                                                                           2010-01-01  \\\n",
       "climate_model                  d1 (a)   d2 (a)     efficacy (dimensionless) model  q1 (delta_degree_Celsius * meter ** 2 / watt) q2 (delta_degree_Celsius * meter ** 2 / watt) region run_idx scenario unit       variable                                  \n",
       "two_timescale_impulse_response 3.424102 285.003478 1.027856                 custom 0.443768                                      0.319591                                      World  0       test     W/m^2      Effective Radiative Forcing    1.724717   \n",
       "                                                                                                                                                                                                       delta_degC Surface Temperature|Box 1      0.711696   \n",
       "                                                                                                                                                                                                                  Surface Temperature|Box 2      0.088505   \n",
       "                                                                                                                                                                                                                  Surface Temperature            0.800201   \n",
       "                                                                                                                                                                                                       W/m^2      Heat Uptake                    0.645209   \n",
       "\n",
       "time                                                                                                                                                                                                                                           2011-01-01  \\\n",
       "climate_model                  d1 (a)   d2 (a)     efficacy (dimensionless) model  q1 (delta_degree_Celsius * meter ** 2 / watt) q2 (delta_degree_Celsius * meter ** 2 / watt) region run_idx scenario unit       variable                                  \n",
       "two_timescale_impulse_response 3.424102 285.003478 1.027856                 custom 0.443768                                      0.319591                                      World  0       test     W/m^2      Effective Radiative Forcing    1.754122   \n",
       "                                                                                                                                                                                                       delta_degC Surface Temperature|Box 1      0.725291   \n",
       "                                                                                                                                                                                                                  Surface Temperature|Box 2      0.090126   \n",
       "                                                                                                                                                                                                                  Surface Temperature            0.815417   \n",
       "                                                                                                                                                                                                       W/m^2      Heat Uptake                    0.661707   \n",
       "\n",
       "time                                                                                                                                                                                                                                           2012-01-01  \\\n",
       "climate_model                  d1 (a)   d2 (a)     efficacy (dimensionless) model  q1 (delta_degree_Celsius * meter ** 2 / watt) q2 (delta_degree_Celsius * meter ** 2 / watt) region run_idx scenario unit       variable                                  \n",
       "two_timescale_impulse_response 3.424102 285.003478 1.027856                 custom 0.443768                                      0.319591                                      World  0       test     W/m^2      Effective Radiative Forcing    1.785560   \n",
       "                                                                                                                                                                                                       delta_degC Surface Temperature|Box 1      0.738747   \n",
       "                                                                                                                                                                                                                  Surface Temperature|Box 2      0.091774   \n",
       "                                                                                                                                                                                                                  Surface Temperature            0.830521   \n",
       "                                                                                                                                                                                                       W/m^2      Heat Uptake                    0.670896   \n",
       "\n",
       "time                                                                                                                                                                                                                                           2013-01-01  \\\n",
       "climate_model                  d1 (a)   d2 (a)     efficacy (dimensionless) model  q1 (delta_degree_Celsius * meter ** 2 / watt) q2 (delta_degree_Celsius * meter ** 2 / watt) region run_idx scenario unit       variable                                  \n",
       "two_timescale_impulse_response 3.424102 285.003478 1.027856                 custom 0.443768                                      0.319591                                      World  0       test     W/m^2      Effective Radiative Forcing    1.828416   \n",
       "                                                                                                                                                                                                       delta_degC Surface Temperature|Box 1      0.752329   \n",
       "                                                                                                                                                                                                                  Surface Temperature|Box 2      0.093451   \n",
       "                                                                                                                                                                                                                  Surface Temperature            0.845780   \n",
       "                                                                                                                                                                                                       W/m^2      Heat Uptake                    0.682268   \n",
       "\n",
       "time                                                                                                                                                                                                                                           2014-01-01  \\\n",
       "climate_model                  d1 (a)   d2 (a)     efficacy (dimensionless) model  q1 (delta_degree_Celsius * meter ** 2 / watt) q2 (delta_degree_Celsius * meter ** 2 / watt) region run_idx scenario unit       variable                                  \n",
       "two_timescale_impulse_response 3.424102 285.003478 1.027856                 custom 0.443768                                      0.319591                                      World  0       test     W/m^2      Effective Radiative Forcing    1.858446   \n",
       "                                                                                                                                                                                                       delta_degC Surface Temperature|Box 1      0.767288   \n",
       "                                                                                                                                                                                                                  Surface Temperature|Box 2      0.095170   \n",
       "                                                                                                                                                                                                                  Surface Temperature            0.862458   \n",
       "                                                                                                                                                                                                       W/m^2      Heat Uptake                    0.704852   \n",
       "\n",
       "time                                                                                                                                                                                                                                           2015-01-01  \\\n",
       "climate_model                  d1 (a)   d2 (a)     efficacy (dimensionless) model  q1 (delta_degree_Celsius * meter ** 2 / watt) q2 (delta_degree_Celsius * meter ** 2 / watt) region run_idx scenario unit       variable                                  \n",
       "two_timescale_impulse_response 3.424102 285.003478 1.027856                 custom 0.443768                                      0.319591                                      World  0       test     W/m^2      Effective Radiative Forcing    1.894420   \n",
       "                                                                                                                                                                                                       delta_degC Surface Temperature|Box 1      0.781833   \n",
       "                                                                                                                                                                                                                  Surface Temperature|Box 2      0.096917   \n",
       "                                                                                                                                                                                                                  Surface Temperature            0.878750   \n",
       "                                                                                                                                                                                                       W/m^2      Heat Uptake                    0.712720   \n",
       "\n",
       "time                                                                                                                                                                                                                                           2016-01-01  \\\n",
       "climate_model                  d1 (a)   d2 (a)     efficacy (dimensionless) model  q1 (delta_degree_Celsius * meter ** 2 / watt) q2 (delta_degree_Celsius * meter ** 2 / watt) region run_idx scenario unit       variable                                  \n",
       "two_timescale_impulse_response 3.424102 285.003478 1.027856                 custom 0.443768                                      0.319591                                      World  0       test     W/m^2      Effective Radiative Forcing    1.948068   \n",
       "                                                                                                                                                                                                       delta_degC Surface Temperature|Box 1      0.796738   \n",
       "                                                                                                                                                                                                                  Surface Temperature|Box 2      0.098698   \n",
       "                                                                                                                                                                                                                  Surface Temperature            0.895436   \n",
       "                                                                                                                                                                                                       W/m^2      Heat Uptake                    0.727047   \n",
       "\n",
       "time                                                                                                                                                                                                                                           2017-01-01  \\\n",
       "climate_model                  d1 (a)   d2 (a)     efficacy (dimensionless) model  q1 (delta_degree_Celsius * meter ** 2 / watt) q2 (delta_degree_Celsius * meter ** 2 / watt) region run_idx scenario unit       variable                                  \n",
       "two_timescale_impulse_response 3.424102 285.003478 1.027856                 custom 0.443768                                      0.319591                                      World  0       test     W/m^2      Effective Radiative Forcing    1.981696   \n",
       "                                                                                                                                                                                                       delta_degC Surface Temperature|Box 1      0.813897   \n",
       "                                                                                                                                                                                                                  Surface Temperature|Box 2      0.100533   \n",
       "                                                                                                                                                                                                                  Surface Temperature            0.914430   \n",
       "                                                                                                                                                                                                       W/m^2      Heat Uptake                    0.758526   \n",
       "\n",
       "time                                                                                                                                                                                                                                           2018-01-01  \\\n",
       "climate_model                  d1 (a)   d2 (a)     efficacy (dimensionless) model  q1 (delta_degree_Celsius * meter ** 2 / watt) q2 (delta_degree_Celsius * meter ** 2 / watt) region run_idx scenario unit       variable                                  \n",
       "two_timescale_impulse_response 3.424102 285.003478 1.027856                 custom 0.443768                                      0.319591                                      World  0       test     W/m^2      Effective Radiative Forcing    2.019078   \n",
       "                                                                                                                                                                                                       delta_degC Surface Temperature|Box 1      0.830490   \n",
       "                                                                                                                                                                                                                  Surface Temperature|Box 2      0.102400   \n",
       "                                                                                                                                                                                                                  Surface Temperature            0.932890   \n",
       "                                                                                                                                                                                                       W/m^2      Heat Uptake                    0.766905   \n",
       "\n",
       "time                                                                                                                                                                                                                                           2019-01-01  \n",
       "climate_model                  d1 (a)   d2 (a)     efficacy (dimensionless) model  q1 (delta_degree_Celsius * meter ** 2 / watt) q2 (delta_degree_Celsius * meter ** 2 / watt) region run_idx scenario unit       variable                                 \n",
       "two_timescale_impulse_response 3.424102 285.003478 1.027856                 custom 0.443768                                      0.319591                                      World  0       test     W/m^2      Effective Radiative Forcing    2.057554  \n",
       "                                                                                                                                                                                                       delta_degC Surface Temperature|Box 1      0.847082  \n",
       "                                                                                                                                                                                                                  Surface Temperature|Box 2      0.104301  \n",
       "                                                                                                                                                                                                                  Surface Temperature            0.951383  \n",
       "                                                                                                                                                                                                       W/m^2      Heat Uptake                    0.779755  \n",
       "\n",
       "[5 rows x 270 columns]"
      ]
     },
     "execution_count": 50,
     "metadata": {},
     "output_type": "execute_result"
    }
   ],
   "source": [
    "res_impulse_response.head()"
   ]
  },
  {
   "cell_type": "code",
   "execution_count": 47,
   "metadata": {},
   "outputs": [
    {
     "data": {
      "text/plain": [
       "0.9611159611862935"
      ]
     },
     "metadata": {},
     "output_type": "display_data"
    },
    {
     "data": {
      "text/html": [
       "<div>\n",
       "<style scoped>\n",
       "    .dataframe tbody tr th:only-of-type {\n",
       "        vertical-align: middle;\n",
       "    }\n",
       "\n",
       "    .dataframe tbody tr th {\n",
       "        vertical-align: top;\n",
       "    }\n",
       "\n",
       "    .dataframe thead th {\n",
       "        text-align: right;\n",
       "    }\n",
       "</style>\n",
       "<table border=\"1\" class=\"dataframe\">\n",
       "  <thead>\n",
       "    <tr style=\"text-align: right;\">\n",
       "      <th></th>\n",
       "      <th></th>\n",
       "      <th></th>\n",
       "      <th></th>\n",
       "      <th>time</th>\n",
       "      <th>2019-01-01</th>\n",
       "    </tr>\n",
       "    <tr>\n",
       "      <th>climate_model</th>\n",
       "      <th>scenario</th>\n",
       "      <th>region</th>\n",
       "      <th>variable</th>\n",
       "      <th>unit</th>\n",
       "      <th></th>\n",
       "    </tr>\n",
       "  </thead>\n",
       "  <tbody>\n",
       "    <tr>\n",
       "      <th>two_timescale_impulse_response</th>\n",
       "      <th>test</th>\n",
       "      <th>World</th>\n",
       "      <th>Surface Temperature</th>\n",
       "      <th>delta_degC</th>\n",
       "      <td>0.951383</td>\n",
       "    </tr>\n",
       "  </tbody>\n",
       "</table>\n",
       "</div>"
      ],
      "text/plain": [
       "time                                                                           2019-01-01\n",
       "climate_model                  scenario region variable            unit                  \n",
       "two_timescale_impulse_response test     World  Surface Temperature delta_degC    0.951383"
      ]
     },
     "metadata": {},
     "output_type": "display_data"
    }
   ],
   "source": [
    "res_openscm_twolayer = res.filter(variable=\"Surface Temperature\", year=2019).timeseries(meta=[\"climate_model\", \"scenario\", \"region\", \"variable\", \"unit\"])\n",
    "np.testing.assert_allclose(res_openscm_twolayer, exact_integration_result, atol=0.01)\n",
    "display(exact_integration_result)\n",
    "display(res_openscm_twolayer)"
   ]
  }
 ],
 "metadata": {
  "jupytext": {
   "text_representation": {
    "extension": ".py",
    "format_name": "percent",
    "format_version": "1.3",
    "jupytext_version": "1.3.3"
   }
  },
  "kernelspec": {
   "display_name": "Python 3",
   "language": "python",
   "name": "python3"
  },
  "language_info": {
   "codemirror_mode": {
    "name": "ipython",
    "version": 3
   },
   "file_extension": ".py",
   "mimetype": "text/x-python",
   "name": "python",
   "nbconvert_exporter": "python",
   "pygments_lexer": "ipython3",
   "version": "3.7.6"
  }
 },
 "nbformat": 4,
 "nbformat_minor": 4
}
