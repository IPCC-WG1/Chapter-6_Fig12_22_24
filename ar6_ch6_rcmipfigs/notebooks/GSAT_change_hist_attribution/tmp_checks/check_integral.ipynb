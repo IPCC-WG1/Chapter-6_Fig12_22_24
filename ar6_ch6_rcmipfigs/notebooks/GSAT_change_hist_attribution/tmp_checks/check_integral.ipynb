{
 "cells": [
  {
   "cell_type": "markdown",
   "metadata": {},
   "source": [
    "# Notebook to check integral:"
   ]
  },
  {
   "cell_type": "markdown",
   "metadata": {},
   "source": [
    "This notebook describes how I get from ERF for CO2 to $\\Delta T$ for CO2 using this equation:"
   ]
  },
  {
   "cell_type": "markdown",
   "metadata": {
    "lines_to_next_cell": 0
   },
   "source": [
    "\\begin{align*}\n",
    "\\Delta T_x (t) &= \\int_0^t ERF_x(t') IRF(t-t') dt' \\\\\n",
    "\\end{align*}"
   ]
  },
  {
   "cell_type": "markdown",
   "metadata": {
    "lines_to_next_cell": 0
   },
   "source": [
    "#### The Impulse response function (IRF):\n",
    "In these calculations we use:\n",
    "\\begin{align*}\n",
    "IRF(t) = \\frac{q_1}{d_1} \\exp\\Big(\\frac{-t}{d_1}\\Big) + \\frac{q_2}{d_2} \\exp\\Big(\\frac{-t}{d_2}\\Big)\n",
    "\\end{align*}\n",
    "\n",
    "Where the constants, $q_i$ and $d_i$ are shown below. \n",
    "\n"
   ]
  },
  {
   "cell_type": "code",
   "execution_count": 69,
   "metadata": {},
   "outputs": [
    {
     "name": "stdout",
     "output_type": "stream",
     "text": [
      "The autoreload extension is already loaded. To reload it, use:\n",
      "  %reload_ext autoreload\n"
     ]
    }
   ],
   "source": [
    "import pandas as pd\n",
    "import xarray as xr\n",
    "from IPython.display import clear_output\n",
    "import numpy as np\n",
    "import pandas as pd\n",
    "import matplotlib.pyplot as plt\n",
    "\n",
    "%load_ext autoreload\n",
    "%autoreload 2\n",
    "from ar6_ch6_rcmipfigs.constants import INPUT_DATA_DIR"
   ]
  },
  {
   "cell_type": "markdown",
   "metadata": {},
   "source": [
    "### Get IRF parameters "
   ]
  },
  {
   "cell_type": "code",
   "execution_count": 70,
   "metadata": {},
   "outputs": [
    {
     "data": {
      "text/html": [
       "<div>\n",
       "<style scoped>\n",
       "    .dataframe tbody tr th:only-of-type {\n",
       "        vertical-align: middle;\n",
       "    }\n",
       "\n",
       "    .dataframe tbody tr th {\n",
       "        vertical-align: top;\n",
       "    }\n",
       "\n",
       "    .dataframe thead th {\n",
       "        text-align: right;\n",
       "    }\n",
       "</style>\n",
       "<table border=\"1\" class=\"dataframe\">\n",
       "  <thead>\n",
       "    <tr style=\"text-align: right;\">\n",
       "      <th></th>\n",
       "      <th>C (W yr / m^2 / K)</th>\n",
       "      <th>C_d (W yr / m^2 / K)</th>\n",
       "      <th>alpha (W / m^2 / K)</th>\n",
       "      <th>eta (dimensionless)</th>\n",
       "      <th>kappa (W / m^2 / K)</th>\n",
       "      <th>d1 (yr)</th>\n",
       "      <th>d2 (yr)</th>\n",
       "      <th>q1 (K / (W / m^2))</th>\n",
       "      <th>q2 (K / (W / m^2))</th>\n",
       "      <th>efficacy (dimensionless)</th>\n",
       "      <th>ecs (K)</th>\n",
       "      <th>tcr (K)</th>\n",
       "      <th>rf2xCO2 (W / m^2)</th>\n",
       "    </tr>\n",
       "    <tr>\n",
       "      <th>id</th>\n",
       "      <th></th>\n",
       "      <th></th>\n",
       "      <th></th>\n",
       "      <th></th>\n",
       "      <th></th>\n",
       "      <th></th>\n",
       "      <th></th>\n",
       "      <th></th>\n",
       "      <th></th>\n",
       "      <th></th>\n",
       "      <th></th>\n",
       "      <th></th>\n",
       "      <th></th>\n",
       "    </tr>\n",
       "  </thead>\n",
       "  <tbody>\n",
       "    <tr>\n",
       "      <th>recommendation</th>\n",
       "      <td>7.649789</td>\n",
       "      <td>147.168593</td>\n",
       "      <td>1.31</td>\n",
       "      <td>1.027856</td>\n",
       "      <td>0.880636</td>\n",
       "      <td>3.424102</td>\n",
       "      <td>285.003478</td>\n",
       "      <td>0.443768</td>\n",
       "      <td>0.319591</td>\n",
       "      <td>1.027856</td>\n",
       "      <td>3.0</td>\n",
       "      <td>1.801052</td>\n",
       "      <td>3.93</td>\n",
       "    </tr>\n",
       "  </tbody>\n",
       "</table>\n",
       "</div>"
      ],
      "text/plain": [
       "                C (W yr / m^2 / K)  C_d (W yr / m^2 / K)  alpha (W / m^2 / K)  \\\n",
       "id                                                                              \n",
       "recommendation            7.649789            147.168593                 1.31   \n",
       "\n",
       "                eta (dimensionless)  kappa (W / m^2 / K)   d1 (yr)  \\\n",
       "id                                                                   \n",
       "recommendation             1.027856             0.880636  3.424102   \n",
       "\n",
       "                   d2 (yr)  q1 (K / (W / m^2))  q2 (K / (W / m^2))  \\\n",
       "id                                                                   \n",
       "recommendation  285.003478            0.443768            0.319591   \n",
       "\n",
       "                efficacy (dimensionless)  ecs (K)   tcr (K)  rf2xCO2 (W / m^2)  \n",
       "id                                                                              \n",
       "recommendation                  1.027856      3.0  1.801052               3.93  "
      ]
     },
     "execution_count": 70,
     "metadata": {},
     "output_type": "execute_result"
    }
   ],
   "source": [
    "fn_IRF_constants = INPUT_DATA_DIR /'recommended_irf_from_2xCO2_2021_02_25_222758.csv'\n",
    "\n",
    "irf_consts = pd.read_csv(fn_IRF_constants).set_index('id')\n",
    "\n",
    "ld1 = 'd1 (yr)'\n",
    "ld2 = 'd2 (yr)'\n",
    "lq1 = 'q1 (K / (W / m^2))'\n",
    "lq2 = 'q2 (K / (W / m^2))'\n",
    "median = 'median'\n",
    "perc5 = '5th percentile'\n",
    "perc95 = '95th percentile'\n",
    "recommendation = 'recommendation'\n",
    "irf_consts  # [d1]"
   ]
  },
  {
   "cell_type": "code",
   "execution_count": 71,
   "metadata": {
    "lines_to_next_cell": 2
   },
   "outputs": [
    {
     "name": "stdout",
     "output_type": "stream",
     "text": [
      "d1=3.4241020923110033, d2=285.0034778419114, q1=0.4437677288834471, q2=0.31959104974250885\n"
     ]
    }
   ],
   "source": [
    "# lets get the irf values from 0 until i\n",
    "d1 = float(irf_consts[ld1])\n",
    "d2 = float(irf_consts[ld2])\n",
    "q1 = float(irf_consts[lq1])\n",
    "q2 = float(irf_consts[lq2])\n",
    "\n",
    "print(f'd1={d1}, d2={d2}, q1={q1}, q2={q2}')"
   ]
  },
  {
   "cell_type": "markdown",
   "metadata": {},
   "source": [
    "### Path input data ERF"
   ]
  },
  {
   "cell_type": "code",
   "execution_count": 72,
   "metadata": {
    "collapsed": false,
    "jupyter": {
     "outputs_hidden": false
    },
    "lines_to_next_cell": 2,
    "pycharm": {
     "name": "#%%\n"
    }
   },
   "outputs": [],
   "source": [
    "from ar6_ch6_rcmipfigs.constants import OUTPUT_DATA_DIR, RESULTS_DIR\n",
    "\n",
    "#PATH_DATASET = OUTPUT_DATA_DIR / 'ERF_data.nc'\n",
    "PATH_DATASET = OUTPUT_DATA_DIR/'historic_delta_GSAT/hist_ERF_est.csv'"
   ]
  },
  {
   "cell_type": "markdown",
   "metadata": {},
   "source": [
    "### Open ERF dataset:"
   ]
  },
  {
   "cell_type": "code",
   "execution_count": 73,
   "metadata": {},
   "outputs": [
    {
     "data": {
      "text/html": [
       "<pre>&lt;xarray.Dataset&gt;\n",
       "Dimensions:   (variable: 10, year: 270)\n",
       "Coordinates:\n",
       "  * year      (year) int64 1750 1751 1752 1753 1754 ... 2015 2016 2017 2018 2019\n",
       "  * variable  (variable) &lt;U3 &#x27;CO2&#x27; &#x27;N2O&#x27; &#x27;CH4&#x27; &#x27;NOx&#x27; ... &#x27;OC&#x27; &#x27;NH3&#x27; &#x27;VOC&#x27; &#x27;HC&#x27;\n",
       "Data variables:\n",
       "    ERF       (variable, year) float64 0.0 0.001126 0.002252 ... 0.205 0.2064</pre>"
      ],
      "text/plain": [
       "<xarray.Dataset>\n",
       "Dimensions:   (variable: 10, year: 270)\n",
       "Coordinates:\n",
       "  * year      (year) int64 1750 1751 1752 1753 1754 ... 2015 2016 2017 2018 2019\n",
       "  * variable  (variable) <U3 'CO2' 'N2O' 'CH4' 'NOx' ... 'OC' 'NH3' 'VOC' 'HC'\n",
       "Data variables:\n",
       "    ERF       (variable, year) float64 0.0 0.001126 0.002252 ... 0.205 0.2064"
      ]
     },
     "execution_count": 73,
     "metadata": {},
     "output_type": "execute_result"
    }
   ],
   "source": [
    "df = pd.read_csv(PATH_DATASET, index_col=0)\n",
    "da_ERF = df.to_xarray().to_array()#'variable'\n",
    "da_ERF = da_ERF.rename({'index':'year'})\n",
    "#ds = xr.open_dataset(PATH_DATASET).sel(year=slice(1700, 2200))  # we need only years until 1700\n",
    "ds = xr.Dataset({'ERF':da_ERF})\n",
    "ds\n",
    "#da_ERF = ds['ERF']"
   ]
  },
  {
   "cell_type": "code",
   "execution_count": 74,
   "metadata": {},
   "outputs": [],
   "source": [
    "# name of output variable\n",
    "name_deltaT = 'Delta T'\n",
    "\n",
    "climatemodel = 'climatemodel'\n",
    "scenario = 'scenario'\n",
    "variable = 'variable'\n",
    "time = 'time'\n",
    "percentile = 'percentile'"
   ]
  },
  {
   "cell_type": "code",
   "execution_count": 75,
   "metadata": {},
   "outputs": [],
   "source": [
    "ds['ERF'].to_pandas().transpose().to_csv('ERF_timeseries.csv')"
   ]
  },
  {
   "cell_type": "markdown",
   "metadata": {},
   "source": [
    "### Simple pre-processing"
   ]
  },
  {
   "cell_type": "code",
   "execution_count": 76,
   "metadata": {},
   "outputs": [
    {
     "data": {
      "text/html": [
       "<pre>&lt;xarray.DataArray &#x27;year&#x27; (year: 270)&gt;\n",
       "array([1750, 1751, 1752, ..., 2017, 2018, 2019])\n",
       "Coordinates:\n",
       "  * year     (year) int64 1750 1751 1752 1753 1754 ... 2015 2016 2017 2018 2019</pre>"
      ],
      "text/plain": [
       "<xarray.DataArray 'year' (year: 270)>\n",
       "array([1750, 1751, 1752, ..., 2017, 2018, 2019])\n",
       "Coordinates:\n",
       "  * year     (year) int64 1750 1751 1752 1753 1754 ... 2015 2016 2017 2018 2019"
      ]
     },
     "execution_count": 76,
     "metadata": {},
     "output_type": "execute_result"
    }
   ],
   "source": [
    "ds['time'] = pd.to_datetime(ds['year'].to_pandas().index.map(str), format='%Y')\n",
    "\n",
    "# delta_t is 1 (year)\n",
    "ds['delta_t'] = xr.DataArray(np.ones(len(ds['year'])), dims='year', coords={'year': ds['year']})\n",
    "ds['year']"
   ]
  },
  {
   "cell_type": "markdown",
   "metadata": {},
   "source": [
    "# Integrate from ERF to delta T\n",
    "\n"
   ]
  },
  {
   "cell_type": "markdown",
   "metadata": {},
   "source": [
    "## IRF function: "
   ]
  },
  {
   "cell_type": "code",
   "execution_count": 77,
   "metadata": {},
   "outputs": [],
   "source": [
    "\n",
    "def IRF(t, d1, q1, d2, q2):\n",
    "    \"\"\"\n",
    "    Returns the IRF function for:\n",
    "    :param q2:\n",
    "    :param d2:\n",
    "    :param q1:\n",
    "    :param d1:\n",
    "    :param t: Time in years\n",
    "    :return:\n",
    "    IRF\n",
    "    \"\"\"\n",
    "    #print(f'd1={d1}, d2={d2}, q1={q1}, q2={q2}')\n",
    "    irf = q1 / d1 * np.exp(-t / d1) + q2 / d2 * np.exp(-t / d2)\n",
    "    return irf\n",
    "    # l * (alpha1 * np.exp(-t / tau1) + alpha2 * np.exp(-t / tau2))"
   ]
  },
  {
   "cell_type": "markdown",
   "metadata": {},
   "source": [
    "\n",
    "\n",
    "Calculate for 2019, meaning integrating over i years:"
   ]
  },
  {
   "cell_type": "code",
   "execution_count": 78,
   "metadata": {
    "lines_to_next_cell": 2
   },
   "outputs": [],
   "source": [
    "i = 2019-1750"
   ]
  },
  {
   "cell_type": "markdown",
   "metadata": {},
   "source": [
    "## select only CO2 for check:"
   ]
  },
  {
   "cell_type": "code",
   "execution_count": 79,
   "metadata": {},
   "outputs": [],
   "source": [
    "ds_in = ds.copy().sel(variable='CO2')"
   ]
  },
  {
   "cell_type": "markdown",
   "metadata": {},
   "source": [
    "### slice data to contain only years before year i"
   ]
  },
  {
   "cell_type": "code",
   "execution_count": 80,
   "metadata": {},
   "outputs": [
    {
     "data": {
      "text/plain": [
       "2020"
      ]
     },
     "execution_count": 80,
     "metadata": {},
     "output_type": "execute_result"
    }
   ],
   "source": [
    "erf ='ERF'\n",
    "ds_short = ds_in[{'year': slice(0, i + 1)}].copy()\n",
    "len(ds_short['ERF'])+1750"
   ]
  },
  {
   "cell_type": "code",
   "execution_count": 81,
   "metadata": {},
   "outputs": [
    {
     "data": {
      "text/html": [
       "<pre>&lt;xarray.DataArray &#x27;year&#x27; ()&gt;\n",
       "array(2019)\n",
       "Coordinates:\n",
       "    year      int64 2019\n",
       "    variable  &lt;U3 &#x27;CO2&#x27;</pre>"
      ],
      "text/plain": [
       "<xarray.DataArray 'year' ()>\n",
       "array(2019)\n",
       "Coordinates:\n",
       "    year      int64 2019\n",
       "    variable  <U3 'CO2'"
      ]
     },
     "execution_count": 81,
     "metadata": {},
     "output_type": "execute_result"
    }
   ],
   "source": [
    "# lets get the current year\n",
    "current_year = ds_short['year'][{'year': i}]  # .dt.year\n",
    "current_year"
   ]
  },
  {
   "cell_type": "markdown",
   "metadata": {},
   "source": [
    "### IRF is calculated for t-t': calculates t-t'"
   ]
  },
  {
   "cell_type": "code",
   "execution_count": 88,
   "metadata": {},
   "outputs": [
    {
     "name": "stdout",
     "output_type": "stream",
     "text": [
      "<xarray.Dataset>\n",
      "Dimensions:         (year: 270)\n",
      "Coordinates:\n",
      "  * year            (year) int64 1750 1751 1752 1753 ... 2016 2017 2018 2019\n",
      "    variable        <U3 'CO2'\n",
      "Data variables:\n",
      "    ERF             (year) float64 0.0 0.001126 0.002252 ... 1.982 2.019 2.058\n",
      "    time            (year) datetime64[ns] 1750-01-01 1751-01-01 ... 2019-01-01\n",
      "    delta_t         (year) float64 1.0 1.0 1.0 1.0 1.0 ... 1.0 1.0 1.0 1.0 1.0\n",
      "    end_year_delta  (year) float64 269.5 268.5 267.5 266.5 ... 3.5 2.5 1.5 0.5\n",
      "    irf             (year) float64 0.0004364 0.0004379 ... 0.09789 0.1307\n",
      "    to_integrate    (year) float64 0.0 4.931e-07 9.897e-07 ... 0.1977 0.269\n"
     ]
    }
   ],
   "source": [
    "# lets get a list of years\n",
    "_years = ds_short['year']  # .dt.year\n",
    "# lets get the year delta until current year(i)\n",
    "ds_short['end_year_delta'] = current_year - _years +.5\n",
    "print(ds_short)"
   ]
  },
  {
   "cell_type": "markdown",
   "metadata": {},
   "source": [
    "### Calculate IRF:"
   ]
  },
  {
   "cell_type": "code",
   "execution_count": 89,
   "metadata": {
    "lines_to_next_cell": 2
   },
   "outputs": [],
   "source": [
    "ds_short['irf'] = IRF(\n",
    "    # t-t':\n",
    "    ds_short['end_year_delta'] * ds_short['delta_t'], \n",
    "    # parameters\n",
    "    d1, q1, d2, q2)"
   ]
  },
  {
   "cell_type": "markdown",
   "metadata": {},
   "source": [
    "# The integrand:\n"
   ]
  },
  {
   "cell_type": "markdown",
   "metadata": {
    "lines_to_next_cell": 0
   },
   "source": [
    "\\begin{align*}\n",
    " ERF_x(t') IRF(t-t') \\cdot \\Delta t' \n",
    "\\end{align*}"
   ]
  },
  {
   "cell_type": "code",
   "execution_count": 90,
   "metadata": {},
   "outputs": [],
   "source": [
    "# lets do the famous integral\n",
    "ds_short['to_integrate'] = \\\n",
    "        ds_short[erf] * \\\n",
    "        ds_short['irf'] * \\\n",
    "        ds_short['delta_t']"
   ]
  },
  {
   "cell_type": "code",
   "execution_count": 91,
   "metadata": {},
   "outputs": [
    {
     "data": {
      "text/html": [
       "<pre>&lt;xarray.Dataset&gt;\n",
       "Dimensions:         (year: 270)\n",
       "Coordinates:\n",
       "  * year            (year) int64 1750 1751 1752 1753 ... 2016 2017 2018 2019\n",
       "    variable        &lt;U3 &#x27;CO2&#x27;\n",
       "Data variables:\n",
       "    ERF             (year) float64 0.0 0.001126 0.002252 ... 1.982 2.019 2.058\n",
       "    time            (year) datetime64[ns] 1750-01-01 1751-01-01 ... 2019-01-01\n",
       "    delta_t         (year) float64 1.0 1.0 1.0 1.0 1.0 ... 1.0 1.0 1.0 1.0 1.0\n",
       "    end_year_delta  (year) float64 269.5 268.5 267.5 266.5 ... 3.5 2.5 1.5 0.5\n",
       "    irf             (year) float64 0.0004356 0.0004371 ... 0.08474 0.1131\n",
       "    to_integrate    (year) float64 0.0 4.923e-07 9.88e-07 ... 0.1711 0.2327</pre>"
      ],
      "text/plain": [
       "<xarray.Dataset>\n",
       "Dimensions:         (year: 270)\n",
       "Coordinates:\n",
       "  * year            (year) int64 1750 1751 1752 1753 ... 2016 2017 2018 2019\n",
       "    variable        <U3 'CO2'\n",
       "Data variables:\n",
       "    ERF             (year) float64 0.0 0.001126 0.002252 ... 1.982 2.019 2.058\n",
       "    time            (year) datetime64[ns] 1750-01-01 1751-01-01 ... 2019-01-01\n",
       "    delta_t         (year) float64 1.0 1.0 1.0 1.0 1.0 ... 1.0 1.0 1.0 1.0 1.0\n",
       "    end_year_delta  (year) float64 269.5 268.5 267.5 266.5 ... 3.5 2.5 1.5 0.5\n",
       "    irf             (year) float64 0.0004356 0.0004371 ... 0.08474 0.1131\n",
       "    to_integrate    (year) float64 0.0 4.923e-07 9.88e-07 ... 0.1711 0.2327"
      ]
     },
     "execution_count": 91,
     "metadata": {},
     "output_type": "execute_result"
    }
   ],
   "source": [
    "ds_short"
   ]
  },
  {
   "cell_type": "markdown",
   "metadata": {},
   "source": [
    "### Finally do the sum:"
   ]
  },
  {
   "cell_type": "code",
   "execution_count": 92,
   "metadata": {},
   "outputs": [
    {
     "data": {
      "text/html": [
       "<pre>&lt;xarray.DataArray &#x27;to_integrate&#x27; ()&gt;\n",
       "array(0.96697278)\n",
       "Coordinates:\n",
       "    variable  &lt;U3 &#x27;CO2&#x27;</pre>"
      ],
      "text/plain": [
       "<xarray.DataArray 'to_integrate' ()>\n",
       "array(0.96697278)\n",
       "Coordinates:\n",
       "    variable  <U3 'CO2'"
      ]
     },
     "execution_count": 92,
     "metadata": {},
     "output_type": "execute_result"
    }
   ],
   "source": [
    "ds_short['to_integrate'].sum()"
   ]
  },
  {
   "cell_type": "code",
   "execution_count": 87,
   "metadata": {},
   "outputs": [
    {
     "data": {
      "text/plain": [
       "0.31959104974250885"
      ]
     },
     "execution_count": 87,
     "metadata": {},
     "output_type": "execute_result"
    }
   ],
   "source": [
    "q2"
   ]
  },
  {
   "cell_type": "code",
   "execution_count": null,
   "metadata": {},
   "outputs": [],
   "source": []
  },
  {
   "cell_type": "code",
   "execution_count": null,
   "metadata": {},
   "outputs": [],
   "source": [
    "(a+da)(db)*dt = "
   ]
  },
  {
   "cell_type": "code",
   "execution_count": null,
   "metadata": {},
   "outputs": [],
   "source": [
    "(a+da)(b+db)-a*b != "
   ]
  },
  {
   "cell_type": "markdown",
   "metadata": {},
   "source": [
    "$f(x) = x^2$"
   ]
  },
  {
   "cell_type": "markdown",
   "metadata": {},
   "source": [
    "$\\int_0^2 f dx$"
   ]
  },
  {
   "cell_type": "markdown",
   "metadata": {},
   "source": [
    "1*2=2"
   ]
  },
  {
   "cell_type": "markdown",
   "metadata": {},
   "source": [
    "$\\frac{1}{3}x^3= \\frac{1}{3}8=2.66$ "
   ]
  },
  {
   "cell_type": "code",
   "execution_count": 2,
   "metadata": {},
   "outputs": [
    {
     "data": {
      "text/plain": [
       "2.6666666666666665"
      ]
     },
     "execution_count": 2,
     "metadata": {},
     "output_type": "execute_result"
    }
   ],
   "source": [
    "8/3"
   ]
  },
  {
   "cell_type": "code",
   "execution_count": null,
   "metadata": {},
   "outputs": [],
   "source": []
  }
 ],
 "metadata": {
  "jupytext": {
   "text_representation": {
    "extension": ".py",
    "format_name": "percent",
    "format_version": "1.3",
    "jupytext_version": "1.3.3"
   }
  },
  "kernelspec": {
   "display_name": "Python 3",
   "language": "python",
   "name": "python3"
  },
  "language_info": {
   "codemirror_mode": {
    "name": "ipython",
    "version": 3
   },
   "file_extension": ".py",
   "mimetype": "text/x-python",
   "name": "python",
   "nbconvert_exporter": "python",
   "pygments_lexer": "ipython3",
   "version": "3.7.6"
  }
 },
 "nbformat": 4,
 "nbformat_minor": 4
}
