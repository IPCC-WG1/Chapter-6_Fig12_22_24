{
 "cells": [
  {
   "cell_type": "code",
   "execution_count": null,
   "metadata": {},
   "outputs": [],
   "source": []
  },
  {
   "cell_type": "code",
   "execution_count": 1,
   "metadata": {},
   "outputs": [],
   "source": [
    "import xarray as xr\n",
    "from pandas.plotting import register_matplotlib_converters\n",
    "\n",
    "register_matplotlib_converters()\n",
    "\n",
    "%load_ext autoreload\n",
    "%autoreload 2"
   ]
  },
  {
   "cell_type": "markdown",
   "metadata": {},
   "source": [
    "### Paths input data"
   ]
  },
  {
   "cell_type": "code",
   "execution_count": 2,
   "metadata": {
    "lines_to_next_cell": 2
   },
   "outputs": [
    {
     "name": "stdout",
     "output_type": "stream",
     "text": [
      "/home/sarambl/PHD/IPCC/public/AR6_CH6_RCMIPFIGSv2/ar6_ch6_rcmipfigs\n",
      "/home/sarambl/PHD/IPCC/public/AR6_CH6_RCMIPFIGSv2/ar6_ch6_rcmipfigs/data_in\n"
     ]
    }
   ],
   "source": [
    "from ar6_ch6_rcmipfigs.constants import OUTPUT_DATA_DIR, RESULTS_DIR\n",
    "\n",
    "# PATH_DATASET = OUTPUT_DATA_DIR + '/forcing_data_rcmip_models.nc'\n",
    "# PATH_DT = OUTPUT_DATA_DIR / '/dT_data_rcmip_models.nc'\n",
    "PATH_DT = OUTPUT_DATA_DIR / 'dT_data_RCMIP_recommendation.nc'"
   ]
  },
  {
   "cell_type": "markdown",
   "metadata": {},
   "source": [
    "#### Uncertainty data from Chris"
   ]
  },
  {
   "cell_type": "code",
   "execution_count": 3,
   "metadata": {
    "lines_to_next_cell": 2
   },
   "outputs": [],
   "source": [
    "PATH_DT_UNCERTAINTY = OUTPUT_DATA_DIR / 'dT_uncertainty_data_FaIR_chris_ed02-3.nc'"
   ]
  },
  {
   "cell_type": "markdown",
   "metadata": {},
   "source": [
    "## Set values:"
   ]
  },
  {
   "cell_type": "code",
   "execution_count": 4,
   "metadata": {},
   "outputs": [],
   "source": [
    "base_period = [1995,2014]\n",
    "short_term = [2021,2040]\n",
    "long_term = [2041,2060]\n",
    "vlong_term = [2081,2100]\n",
    "periods = [short_term, long_term,vlong_term]\n",
    "periods_dic  = {\n",
    "    'near-term':short_term,\n",
    "    'mid-term':long_term,\n",
    "    'long-term':vlong_term\n",
    "}"
   ]
  },
  {
   "cell_type": "markdown",
   "metadata": {},
   "source": [
    "**Set reference year for temperature change:**"
   ]
  },
  {
   "cell_type": "code",
   "execution_count": 5,
   "metadata": {},
   "outputs": [],
   "source": [
    "ref_year = '2020'"
   ]
  },
  {
   "cell_type": "code",
   "execution_count": 6,
   "metadata": {},
   "outputs": [],
   "source": [
    "FIGURE_DIR = RESULTS_DIR / 'figures_amanda/'\n",
    "\n",
    "TABLE_DIR = RESULTS_DIR / 'tables_amanda/'"
   ]
  },
  {
   "cell_type": "code",
   "execution_count": 7,
   "metadata": {},
   "outputs": [],
   "source": [
    "from pathlib import Path\n",
    "Path(FIGURE_DIR).mkdir(parents=True, exist_ok=True)\n",
    "Path(TABLE_DIR).mkdir(parents=True, exist_ok=True)"
   ]
  },
  {
   "cell_type": "code",
   "execution_count": 8,
   "metadata": {},
   "outputs": [],
   "source": [
    "percentile = 'percentile'\n",
    "climatemodel = 'climatemodel'\n",
    "scenario = 'scenario'\n",
    "variable = 'variable'\n",
    "time = 'time'\n",
    "sum_SLCF = 'Sum SLCF (Aerosols, Methane, Ozone, HFCs)'\n",
    "name_deltaT = 'Delta T'"
   ]
  },
  {
   "cell_type": "markdown",
   "metadata": {},
   "source": [
    "### Define variables to look at:"
   ]
  },
  {
   "cell_type": "code",
   "execution_count": 9,
   "metadata": {},
   "outputs": [],
   "source": [
    "# variables to plot:\n",
    "variables_erf_comp = [\n",
    "    'aerosol-total-with_bc-snow',\n",
    "    'ch4',\n",
    "    # 'aerosol-radiation_interactions',\n",
    "    # 'aerosol-cloud_interactions',\n",
    "    #'aerosol-total',\n",
    "    'o3',\n",
    "    'HFCs',\n",
    "    #'bc_on_snow'\n",
    "]\n",
    "# total ERFs for anthropogenic and total:\n",
    "#variables_erf_tot = ['total_anthropogenic',\n",
    "#                     'total']\n",
    "\n",
    "scenarios_fl_370 = ['ssp370', 'ssp370-lowNTCF-aerchemmip', 'ssp370-lowNTCF-gidden'  # Due to mistake here\n",
    "                    ]"
   ]
  },
  {
   "cell_type": "markdown",
   "metadata": {},
   "source": [
    "### Scenarios:"
   ]
  },
  {
   "cell_type": "code",
   "execution_count": 10,
   "metadata": {},
   "outputs": [],
   "source": [
    "scenarios_fl = ['ssp119',\n",
    "                'ssp126',\n",
    "                'ssp245',\n",
    "                'ssp334',\n",
    "                'ssp370',\n",
    "                'ssp370-lowNTCF-aerchemmip',\n",
    "                #'ssp370-lowNTCF-gidden',\n",
    "                'ssp370-lowNTCF-gidden',\n",
    "                'ssp585']"
   ]
  },
  {
   "cell_type": "code",
   "execution_count": 11,
   "metadata": {
    "lines_to_next_cell": 2
   },
   "outputs": [],
   "source": [
    "median = 'median'\n",
    "perc5 = '5th percentile'\n",
    "perc95 = '95th percentile'\n",
    "recommendation = 'recommendation'"
   ]
  },
  {
   "cell_type": "code",
   "execution_count": null,
   "metadata": {},
   "outputs": [],
   "source": []
  },
  {
   "cell_type": "code",
   "execution_count": 12,
   "metadata": {},
   "outputs": [],
   "source": [
    "ds_DT = xr.open_dataset(PATH_DT)\n",
    "ds_uncertainty = xr.open_dataset(PATH_DT_UNCERTAINTY)"
   ]
  },
  {
   "cell_type": "code",
   "execution_count": 13,
   "metadata": {},
   "outputs": [
    {
     "data": {
      "text/html": [
       "<pre>&lt;xarray.DataArray &#x27;scenario&#x27; (scenario: 11)&gt;\n",
       "array([&#x27;ssp534-over&#x27;, &#x27;ssp334&#x27;, &#x27;ssp119&#x27;, &#x27;ssp460&#x27;, &#x27;ssp585&#x27;, &#x27;ssp370&#x27;,\n",
       "       &#x27;ssp370-lowNTCF-aerchemmip&#x27;, &#x27;ssp126&#x27;, &#x27;ssp245&#x27;, &#x27;ssp434&#x27;,\n",
       "       &#x27;ssp370-lowNTCF-gidden&#x27;], dtype=object)\n",
       "Coordinates:\n",
       "  * scenario  (scenario) object &#x27;ssp534-over&#x27; ... &#x27;ssp370-lowNTCF-gidden&#x27;</pre>"
      ],
      "text/plain": [
       "<xarray.DataArray 'scenario' (scenario: 11)>\n",
       "array(['ssp534-over', 'ssp334', 'ssp119', 'ssp460', 'ssp585', 'ssp370',\n",
       "       'ssp370-lowNTCF-aerchemmip', 'ssp126', 'ssp245', 'ssp434',\n",
       "       'ssp370-lowNTCF-gidden'], dtype=object)\n",
       "Coordinates:\n",
       "  * scenario  (scenario) object 'ssp534-over' ... 'ssp370-lowNTCF-gidden'"
      ]
     },
     "execution_count": 13,
     "metadata": {},
     "output_type": "execute_result"
    }
   ],
   "source": [
    "ds_DT.scenario  # .climatemodel"
   ]
  },
  {
   "cell_type": "code",
   "execution_count": 14,
   "metadata": {},
   "outputs": [
    {
     "data": {
      "application/javascript": [
       "IPython.OutputArea.prototype._should_scroll = function(lines) { return false; }"
      ],
      "text/plain": [
       "<IPython.core.display.Javascript object>"
      ]
     },
     "metadata": {},
     "output_type": "display_data"
    },
    {
     "name": "stdout",
     "output_type": "stream",
     "text": [
      "hallo\n"
     ]
    }
   ],
   "source": [
    "from ar6_ch6_rcmipfigs.utils.plot import get_var_nicename"
   ]
  },
  {
   "cell_type": "code",
   "execution_count": 15,
   "metadata": {},
   "outputs": [
    {
     "name": "stdout",
     "output_type": "stream",
     "text": [
      "Sum SLCF (Aerosols, Methane, Ozone, HFCs)\n"
     ]
    }
   ],
   "source": [
    "_str = ''\n",
    "_vl = [get_var_nicename(var).split('(')[0].strip() for var in variables_erf_comp]\n",
    "for var in _vl: \n",
    "    _str += f'{var}, '\n",
    "\n",
    "# ax.set_title('Temperature change, sum SLCF  (%s)' % _str[:-2])\n",
    "\n",
    "\n",
    "vn_sum = 'Sum SLCF (%s)' % _str[:-2]\n",
    "print(vn_sum)\n",
    "#_st = vn_sum.replace('(','').replace(')','').replace(' ','_').replace(',','')+'.csv'\n",
    "\n",
    "_da_sum  = ds_DT[name_deltaT].sel(variable=variables_erf_comp).sum(variable)\n",
    "#_da = ds_DT[name_deltaT].sel(variable=variables_erf_comp).sum(variable).sel(year=slice(int(s_y2), int(e_y2))) - ds_DT_sy\n",
    "_da_sum#.assin_coord()\n",
    "#_ds_check = ds_DT.copy()\n",
    "ds_DT\n",
    "#xr.concat([_ds_check[name_deltaT],_da_sum], dim=variable)\n",
    "\n",
    "dd1=_da_sum.expand_dims(\n",
    "    {'variable':\n",
    "    [vn_sum]})\n",
    "#dd1=dd1.to_dataset()\n",
    "\n",
    "ds_DT = xr.merge([ds_DT,dd1])"
   ]
  },
  {
   "cell_type": "code",
   "execution_count": 16,
   "metadata": {},
   "outputs": [
    {
     "name": "stdout",
     "output_type": "stream",
     "text": [
      "[2021, 2040]\n",
      "[2041, 2060]\n",
      "[2081, 2100]\n"
     ]
    },
    {
     "name": "stderr",
     "output_type": "stream",
     "text": [
      "/home/sarambl/miniconda3/envs/rcmip_ch6/lib/python3.7/site-packages/xarray/core/nanops.py:142: RuntimeWarning: Mean of empty slice\n",
      "  return np.nanmean(a, axis=axis, dtype=dtype)\n"
     ]
    },
    {
     "data": {
      "text/html": [
       "<pre>&lt;xarray.Dataset&gt;\n",
       "Dimensions:     (percentile: 1, scenario: 11, variable: 20)\n",
       "Coordinates:\n",
       "  * variable    (variable) object &#x27;HFCs&#x27; ... &#x27;volcanic&#x27;\n",
       "  * scenario    (scenario) object &#x27;ssp534-over&#x27; ... &#x27;ssp370-lowNTCF-gidden&#x27;\n",
       "  * percentile  (percentile) object &#x27;recommendation&#x27;\n",
       "Data variables:\n",
       "    ERF         (scenario, variable) float64 0.009063 nan ... 0.1721 0.1444\n",
       "    delta_t     float64 1.0\n",
       "    Delta T     (percentile, scenario, variable) float64 0.003369 ... 0.01773</pre>"
      ],
      "text/plain": [
       "<xarray.Dataset>\n",
       "Dimensions:     (percentile: 1, scenario: 11, variable: 20)\n",
       "Coordinates:\n",
       "  * variable    (variable) object 'HFCs' ... 'volcanic'\n",
       "  * scenario    (scenario) object 'ssp534-over' ... 'ssp370-lowNTCF-gidden'\n",
       "  * percentile  (percentile) object 'recommendation'\n",
       "Data variables:\n",
       "    ERF         (scenario, variable) float64 0.009063 nan ... 0.1721 0.1444\n",
       "    delta_t     float64 1.0\n",
       "    Delta T     (percentile, scenario, variable) float64 0.003369 ... 0.01773"
      ]
     },
     "execution_count": 16,
     "metadata": {},
     "output_type": "execute_result"
    }
   ],
   "source": [
    "base_mean = ds_DT.sel(year=slice(*base_period)).mean('year')#base_period[0], base_period[1]))\n",
    "bp_str = f'({base_period[0]}-{base_period[1]})'\n",
    "\n",
    "per_means = []\n",
    "per_means_anomaly = []\n",
    "per_names = []\n",
    "for per_n in periods_dic.keys():\n",
    "    per = periods_dic[per_n]\n",
    "    print(per)\n",
    "    per_mean = ds_DT.sel(year=slice(*per)).mean('year')\n",
    "    per_means.append(per_mean)\n",
    "    per_anom = per_mean- base_mean\n",
    "    anom_df = per_anom['Delta T'].squeeze().to_dataframe().drop('percentile', axis=1)\n",
    "    #per_names.append()\n",
    "    lab = f'{per_n} ({per[0]}-{per[1]})-({base_period[0]}-{base_period[1]})'\n",
    "    per_means_anomaly.append(anom_df.rename({name_deltaT:lab}, axis=1))\n",
    "    \n",
    "short_term_mean = ds_DT.sel(year=slice(*short_term)).mean('year')\n",
    "long_term_mean = ds_DT.sel(year=slice(*long_term)).mean('year')\n",
    "base_mean#['year']"
   ]
  },
  {
   "cell_type": "code",
   "execution_count": 18,
   "metadata": {},
   "outputs": [],
   "source": [
    "import pandas as pd"
   ]
  },
  {
   "cell_type": "code",
   "execution_count": 19,
   "metadata": {},
   "outputs": [],
   "source": [
    "output_df = pd.concat(per_means_anomaly, axis=1)\n"
   ]
  },
  {
   "cell_type": "code",
   "execution_count": 20,
   "metadata": {},
   "outputs": [
    {
     "data": {
      "text/html": [
       "<div>\n",
       "<style scoped>\n",
       "    .dataframe tbody tr th:only-of-type {\n",
       "        vertical-align: middle;\n",
       "    }\n",
       "\n",
       "    .dataframe tbody tr th {\n",
       "        vertical-align: top;\n",
       "    }\n",
       "\n",
       "    .dataframe thead th {\n",
       "        text-align: right;\n",
       "    }\n",
       "</style>\n",
       "<table border=\"1\" class=\"dataframe\">\n",
       "  <thead>\n",
       "    <tr style=\"text-align: right;\">\n",
       "      <th></th>\n",
       "      <th></th>\n",
       "      <th>near-term (2021-2040)-(1995-2014)</th>\n",
       "      <th>mid-term (2041-2060)-(1995-2014)</th>\n",
       "      <th>long-term (2081-2100)-(1995-2014)</th>\n",
       "    </tr>\n",
       "    <tr>\n",
       "      <th>scenario</th>\n",
       "      <th>variable</th>\n",
       "      <th></th>\n",
       "      <th></th>\n",
       "      <th></th>\n",
       "    </tr>\n",
       "  </thead>\n",
       "  <tbody>\n",
       "    <tr>\n",
       "      <th rowspan=\"5\" valign=\"top\">ssp534-over</th>\n",
       "      <th>HFCs</th>\n",
       "      <td>0.032254</td>\n",
       "      <td>0.070502</td>\n",
       "      <td>0.032898</td>\n",
       "    </tr>\n",
       "    <tr>\n",
       "      <th>Sum SLCF (Aerosols, Methane, Ozone, HFCs)</th>\n",
       "      <td>0.349027</td>\n",
       "      <td>0.545018</td>\n",
       "      <td>0.289846</td>\n",
       "    </tr>\n",
       "    <tr>\n",
       "      <th>aerosol-cloud_interactions</th>\n",
       "      <td>0.109053</td>\n",
       "      <td>0.250167</td>\n",
       "      <td>0.448162</td>\n",
       "    </tr>\n",
       "    <tr>\n",
       "      <th>aerosol-radiation_interactions</th>\n",
       "      <td>0.086343</td>\n",
       "      <td>0.091105</td>\n",
       "      <td>0.058954</td>\n",
       "    </tr>\n",
       "    <tr>\n",
       "      <th>aerosol-total</th>\n",
       "      <td>0.195396</td>\n",
       "      <td>0.341272</td>\n",
       "      <td>0.507116</td>\n",
       "    </tr>\n",
       "    <tr>\n",
       "      <th>...</th>\n",
       "      <th>...</th>\n",
       "      <td>...</td>\n",
       "      <td>...</td>\n",
       "      <td>...</td>\n",
       "    </tr>\n",
       "    <tr>\n",
       "      <th rowspan=\"5\" valign=\"top\">ssp370-lowNTCF-gidden</th>\n",
       "      <th>solar</th>\n",
       "      <td>-0.003800</td>\n",
       "      <td>-0.010422</td>\n",
       "      <td>-0.017639</td>\n",
       "    </tr>\n",
       "    <tr>\n",
       "      <th>total</th>\n",
       "      <td>0.774403</td>\n",
       "      <td>1.333692</td>\n",
       "      <td>2.716104</td>\n",
       "    </tr>\n",
       "    <tr>\n",
       "      <th>total_anthropogenic</th>\n",
       "      <td>0.792607</td>\n",
       "      <td>1.368508</td>\n",
       "      <td>2.757280</td>\n",
       "    </tr>\n",
       "    <tr>\n",
       "      <th>total_natural</th>\n",
       "      <td>-0.018204</td>\n",
       "      <td>-0.034815</td>\n",
       "      <td>-0.041176</td>\n",
       "    </tr>\n",
       "    <tr>\n",
       "      <th>volcanic</th>\n",
       "      <td>-0.014404</td>\n",
       "      <td>-0.024393</td>\n",
       "      <td>-0.023537</td>\n",
       "    </tr>\n",
       "  </tbody>\n",
       "</table>\n",
       "<p>220 rows × 3 columns</p>\n",
       "</div>"
      ],
      "text/plain": [
       "                                                                 near-term (2021-2040)-(1995-2014)  \\\n",
       "scenario              variable                                                                       \n",
       "ssp534-over           HFCs                                                                0.032254   \n",
       "                      Sum SLCF (Aerosols, Methane, Ozone, HFCs)                           0.349027   \n",
       "                      aerosol-cloud_interactions                                          0.109053   \n",
       "                      aerosol-radiation_interactions                                      0.086343   \n",
       "                      aerosol-total                                                       0.195396   \n",
       "...                                                                                            ...   \n",
       "ssp370-lowNTCF-gidden solar                                                              -0.003800   \n",
       "                      total                                                               0.774403   \n",
       "                      total_anthropogenic                                                 0.792607   \n",
       "                      total_natural                                                      -0.018204   \n",
       "                      volcanic                                                           -0.014404   \n",
       "\n",
       "                                                                 mid-term (2041-2060)-(1995-2014)  \\\n",
       "scenario              variable                                                                      \n",
       "ssp534-over           HFCs                                                               0.070502   \n",
       "                      Sum SLCF (Aerosols, Methane, Ozone, HFCs)                          0.545018   \n",
       "                      aerosol-cloud_interactions                                         0.250167   \n",
       "                      aerosol-radiation_interactions                                     0.091105   \n",
       "                      aerosol-total                                                      0.341272   \n",
       "...                                                                                           ...   \n",
       "ssp370-lowNTCF-gidden solar                                                             -0.010422   \n",
       "                      total                                                              1.333692   \n",
       "                      total_anthropogenic                                                1.368508   \n",
       "                      total_natural                                                     -0.034815   \n",
       "                      volcanic                                                          -0.024393   \n",
       "\n",
       "                                                                 long-term (2081-2100)-(1995-2014)  \n",
       "scenario              variable                                                                      \n",
       "ssp534-over           HFCs                                                                0.032898  \n",
       "                      Sum SLCF (Aerosols, Methane, Ozone, HFCs)                           0.289846  \n",
       "                      aerosol-cloud_interactions                                          0.448162  \n",
       "                      aerosol-radiation_interactions                                      0.058954  \n",
       "                      aerosol-total                                                       0.507116  \n",
       "...                                                                                            ...  \n",
       "ssp370-lowNTCF-gidden solar                                                              -0.017639  \n",
       "                      total                                                               2.716104  \n",
       "                      total_anthropogenic                                                 2.757280  \n",
       "                      total_natural                                                      -0.041176  \n",
       "                      volcanic                                                           -0.023537  \n",
       "\n",
       "[220 rows x 3 columns]"
      ]
     },
     "execution_count": 20,
     "metadata": {},
     "output_type": "execute_result"
    }
   ],
   "source": [
    "fn = TABLE_DIR / 'period_anomalies.csv'\n",
    "output_df.to_csv(fn)\n",
    "output_df"
   ]
  },
  {
   "cell_type": "markdown",
   "metadata": {},
   "source": [
    "per_anom['Delta T'].to_dataframe()#.drop('percentile', axis=1)\n",
    "\n",
    "\n",
    "\n",
    "st_anomaly = short_term_mean-base_mean\n",
    "lt_anomaly = long_term_mean- base_mean\n",
    "st_anomaly_df = st_anomaly.squeeze('percentile')['Delta T'].to_dataframe().drop('percentile', axis=1)\n",
    "lt_anomaly_df = lt_anomaly.squeeze('percentile')['Delta T'].to_dataframe().drop('percentile', axis=1)\n",
    "\n",
    "bp_str = f'({base_period[0]}-{base_period[1]})'\n",
    "st_str = f'({short_term[0]}-{short_term[1]})'\n",
    "lt_str = f'({long_term[0]}-{long_term[1]})'\n",
    "\n",
    "import pandas as pd\n",
    "\n",
    "st_anomaly_df = st_anomaly_df.rename({name_deltaT: f'short term anomaly ({st_str}-{bp_str})'}, axis=1)\n",
    "lt_anomaly_df = lt_anomaly_df.rename({name_deltaT: f'long term anomaly ({lt_str}-{bp_str})'}, axis=1)\n",
    "output_df = pd.concat([st_anomaly_df, lt_anomaly_df], axis=1)\n",
    "\n",
    "ds_DT.sel(year=slice(*short_term))['year']"
   ]
  }
 ],
 "metadata": {
  "jupytext": {
   "text_representation": {
    "extension": ".py",
    "format_name": "percent",
    "format_version": "1.3",
    "jupytext_version": "1.3.3"
   }
  },
  "kernelspec": {
   "display_name": "Python 3",
   "language": "python",
   "name": "python3"
  },
  "language_info": {
   "codemirror_mode": {
    "name": "ipython",
    "version": 3
   },
   "file_extension": ".py",
   "mimetype": "text/x-python",
   "name": "python",
   "nbconvert_exporter": "python",
   "pygments_lexer": "ipython3",
   "version": "3.7.6"
  }
 },
 "nbformat": 4,
 "nbformat_minor": 4
}
