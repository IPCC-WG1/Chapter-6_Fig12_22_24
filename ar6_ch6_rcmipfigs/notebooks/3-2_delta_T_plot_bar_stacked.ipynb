{
 "cells": [
  {
   "cell_type": "markdown",
   "metadata": {},
   "source": [
    "# Plot temperature response over time"
   ]
  },
  {
   "cell_type": "markdown",
   "metadata": {},
   "source": [
    "## Method: \n"
   ]
  },
  {
   "cell_type": "markdown",
   "metadata": {},
   "source": [
    "## IRF:\n",
    "Using forcings from RCMIP models and the impulse response function:\n",
    "\\begin{align*}\n",
    "\\text{IRF}(t)=& 0.885\\cdot (\\frac{0.587}{4.1}\\cdot exp(\\frac{-t}{4.1}) + \\frac{0.413}{249} \\cdot exp(\\frac{-t}{249}))\\\\\n",
    "\\text{IRF}(t)= &  \\sum_{i=1}^2\\frac{\\alpha \\cdot c_i}{\\tau_i}\\cdot exp\\big(\\frac{-t}{\\tau_1}\\big) \n",
    "\\end{align*}\n",
    "with $\\alpha = 0.885$, $c_1=0.587$, $\\tau_1=4.1$, $c_2=0.413$ and $\\tau_2 = 249$."
   ]
  },
  {
   "cell_type": "markdown",
   "metadata": {
    "title": "Thus we can estimate the mean surface temperature change from some referance year (here 0) by using"
   },
   "source": [
    "the estimated ERF$_x$ for some forcing agent $x$ as follows: "
   ]
  },
  {
   "cell_type": "markdown",
   "metadata": {},
   "source": [
    "\\begin{align*} \n",
    "\\Delta T (t) &= \\int_0^t ERF(t') IRF(t-t') dt' \\\\\n",
    "\\end{align*}"
   ]
  },
  {
   "cell_type": "markdown",
   "metadata": {},
   "source": [
    "# Code + figures"
   ]
  },
  {
   "cell_type": "markdown",
   "metadata": {},
   "source": [
    "## Imports:"
   ]
  },
  {
   "cell_type": "code",
   "execution_count": 442,
   "metadata": {},
   "outputs": [
    {
     "name": "stdout",
     "output_type": "stream",
     "text": [
      "The autoreload extension is already loaded. To reload it, use:\n",
      "  %reload_ext autoreload\n"
     ]
    }
   ],
   "source": [
    "import xarray as xr\n",
    "import numpy as np\n",
    "import pandas as pd\n",
    "from pandas.plotting import register_matplotlib_converters\n",
    "register_matplotlib_converters()\n",
    "\n",
    "%load_ext autoreload\n",
    "%autoreload 2"
   ]
  },
  {
   "cell_type": "code",
   "execution_count": 443,
   "metadata": {},
   "outputs": [],
   "source": [
    "from ar6_ch6_rcmipfigs.constants import OUTPUT_DATA_DIR, RESULTS_DIR\n",
    "\n",
    "#PATH_DATASET = OUTPUT_DATA_DIR + '/forcing_data_rcmip_models.nc'\n",
    "PATH_DT = OUTPUT_DATA_DIR + '/dT_data_rcmip_models.nc'"
   ]
  },
  {
   "cell_type": "code",
   "execution_count": 444,
   "metadata": {},
   "outputs": [],
   "source": [
    "FIGURE_DIR = RESULTS_DIR + '/figures/'"
   ]
  },
  {
   "cell_type": "code",
   "execution_count": 445,
   "metadata": {},
   "outputs": [],
   "source": [
    "\n",
    "climatemodel = 'climatemodel'\n",
    "scenario = 'scenario'\n",
    "variable = 'variable'\n",
    "time = 'time'"
   ]
  },
  {
   "cell_type": "markdown",
   "metadata": {},
   "source": [
    "### Define variables to look at:"
   ]
  },
  {
   "cell_type": "code",
   "execution_count": 446,
   "metadata": {
    "lines_to_next_cell": 2
   },
   "outputs": [],
   "source": [
    "from ar6_ch6_rcmipfigs.utils.misc_func import trans_scen2plotlabel, new_varname\n",
    "\n",
    "# variables to plot:\n",
    "variables_erf_comp = [\n",
    "    'Effective Radiative Forcing|Anthropogenic|CH4',\n",
    "    'Effective Radiative Forcing|Anthropogenic|Aerosols',\n",
    "    'Effective Radiative Forcing|Anthropogenic|Tropospheric Ozone',\n",
    "    'Effective Radiative Forcing|Anthropogenic|F-Gases|HFC',\n",
    "    'Effective Radiative Forcing|Anthropogenic|Other|BC on Snow']\n",
    "# total ERFs for anthropogenic and total:\n",
    "variables_erf_tot = ['Effective Radiative Forcing|Anthropogenic',\n",
    "                     'Effective Radiative Forcing']\n",
    "# Scenarios to plot:\n",
    "scenarios_fl = ['ssp119', 'ssp126', 'ssp245', 'ssp370', 'ssp370-lowNTCF-aerchemmip',  # 'ssp370-lowNTCF', Due to mistake here\n",
    "                'ssp585', 'historical']\n",
    "scenarios_nhist =['ssp119', 'ssp126', 'ssp245', 'ssp370', 'ssp370-lowNTCF-aerchemmip',  # 'ssp370-lowNTCF', Due to mistake here\n",
    "                'ssp585']# list(set(scenarios_fl)- {'historical'})\n",
    "climatemodels_fl = ['Cicero-SCM', 'Cicero-SCM-ECS3', 'FaIR-1.5-DEFAULT', 'MAGICC7.1.0.beta-rcmip-phase-1', 'OSCARv3.0']\n",
    "\n",
    "# List of delta T for variables\n",
    "name_deltaT = 'Delta T'\n",
    "variables_dt_comp = [new_varname(var, name_deltaT) for var in variables_erf_comp]"
   ]
  },
  {
   "cell_type": "code",
   "execution_count": 447,
   "metadata": {},
   "outputs": [
    {
     "data": {
      "text/html": [
       "<div>\n",
       "<style scoped>\n",
       "    .dataframe tbody tr th:only-of-type {\n",
       "        vertical-align: middle;\n",
       "    }\n",
       "\n",
       "    .dataframe tbody tr th {\n",
       "        vertical-align: top;\n",
       "    }\n",
       "\n",
       "    .dataframe thead th {\n",
       "        text-align: right;\n",
       "    }\n",
       "</style>\n",
       "<table border=\"1\" class=\"dataframe\">\n",
       "  <thead>\n",
       "    <tr style=\"text-align: right;\">\n",
       "      <th></th>\n",
       "      <th></th>\n",
       "      <th>ssp119</th>\n",
       "      <th>ssp126</th>\n",
       "      <th>ssp245</th>\n",
       "      <th>ssp370</th>\n",
       "      <th>ssp370-lowNTCF-aerchemmip</th>\n",
       "      <th>ssp585</th>\n",
       "    </tr>\n",
       "    <tr>\n",
       "      <th></th>\n",
       "      <th></th>\n",
       "      <th></th>\n",
       "      <th></th>\n",
       "      <th></th>\n",
       "      <th></th>\n",
       "      <th></th>\n",
       "      <th></th>\n",
       "    </tr>\n",
       "  </thead>\n",
       "  <tbody>\n",
       "    <tr>\n",
       "      <th rowspan=\"5\" valign=\"top\">2040</th>\n",
       "      <th>CH4</th>\n",
       "      <td>NaN</td>\n",
       "      <td>NaN</td>\n",
       "      <td>NaN</td>\n",
       "      <td>NaN</td>\n",
       "      <td>NaN</td>\n",
       "      <td>NaN</td>\n",
       "    </tr>\n",
       "    <tr>\n",
       "      <th>Aerosols</th>\n",
       "      <td>NaN</td>\n",
       "      <td>NaN</td>\n",
       "      <td>NaN</td>\n",
       "      <td>NaN</td>\n",
       "      <td>NaN</td>\n",
       "      <td>NaN</td>\n",
       "    </tr>\n",
       "    <tr>\n",
       "      <th>Tropospheric Ozone</th>\n",
       "      <td>NaN</td>\n",
       "      <td>NaN</td>\n",
       "      <td>NaN</td>\n",
       "      <td>NaN</td>\n",
       "      <td>NaN</td>\n",
       "      <td>NaN</td>\n",
       "    </tr>\n",
       "    <tr>\n",
       "      <th>HFC</th>\n",
       "      <td>NaN</td>\n",
       "      <td>NaN</td>\n",
       "      <td>NaN</td>\n",
       "      <td>NaN</td>\n",
       "      <td>NaN</td>\n",
       "      <td>NaN</td>\n",
       "    </tr>\n",
       "    <tr>\n",
       "      <th>BC on Snow</th>\n",
       "      <td>NaN</td>\n",
       "      <td>NaN</td>\n",
       "      <td>NaN</td>\n",
       "      <td>NaN</td>\n",
       "      <td>NaN</td>\n",
       "      <td>NaN</td>\n",
       "    </tr>\n",
       "    <tr>\n",
       "      <th rowspan=\"5\" valign=\"top\">2100</th>\n",
       "      <th>CH4</th>\n",
       "      <td>NaN</td>\n",
       "      <td>NaN</td>\n",
       "      <td>NaN</td>\n",
       "      <td>NaN</td>\n",
       "      <td>NaN</td>\n",
       "      <td>NaN</td>\n",
       "    </tr>\n",
       "    <tr>\n",
       "      <th>Aerosols</th>\n",
       "      <td>NaN</td>\n",
       "      <td>NaN</td>\n",
       "      <td>NaN</td>\n",
       "      <td>NaN</td>\n",
       "      <td>NaN</td>\n",
       "      <td>NaN</td>\n",
       "    </tr>\n",
       "    <tr>\n",
       "      <th>Tropospheric Ozone</th>\n",
       "      <td>NaN</td>\n",
       "      <td>NaN</td>\n",
       "      <td>NaN</td>\n",
       "      <td>NaN</td>\n",
       "      <td>NaN</td>\n",
       "      <td>NaN</td>\n",
       "    </tr>\n",
       "    <tr>\n",
       "      <th>HFC</th>\n",
       "      <td>NaN</td>\n",
       "      <td>NaN</td>\n",
       "      <td>NaN</td>\n",
       "      <td>NaN</td>\n",
       "      <td>NaN</td>\n",
       "      <td>NaN</td>\n",
       "    </tr>\n",
       "    <tr>\n",
       "      <th>BC on Snow</th>\n",
       "      <td>NaN</td>\n",
       "      <td>NaN</td>\n",
       "      <td>NaN</td>\n",
       "      <td>NaN</td>\n",
       "      <td>NaN</td>\n",
       "      <td>NaN</td>\n",
       "    </tr>\n",
       "  </tbody>\n",
       "</table>\n",
       "</div>"
      ],
      "text/plain": [
       "                        ssp119 ssp126 ssp245 ssp370 ssp370-lowNTCF-aerchemmip  \\\n",
       "                                                                                \n",
       "2040 CH4                   NaN    NaN    NaN    NaN                       NaN   \n",
       "     Aerosols              NaN    NaN    NaN    NaN                       NaN   \n",
       "     Tropospheric Ozone    NaN    NaN    NaN    NaN                       NaN   \n",
       "     HFC                   NaN    NaN    NaN    NaN                       NaN   \n",
       "     BC on Snow            NaN    NaN    NaN    NaN                       NaN   \n",
       "2100 CH4                   NaN    NaN    NaN    NaN                       NaN   \n",
       "     Aerosols              NaN    NaN    NaN    NaN                       NaN   \n",
       "     Tropospheric Ozone    NaN    NaN    NaN    NaN                       NaN   \n",
       "     HFC                   NaN    NaN    NaN    NaN                       NaN   \n",
       "     BC on Snow            NaN    NaN    NaN    NaN                       NaN   \n",
       "\n",
       "                        ssp585  \n",
       "                                \n",
       "2040 CH4                   NaN  \n",
       "     Aerosols              NaN  \n",
       "     Tropospheric Ozone    NaN  \n",
       "     HFC                   NaN  \n",
       "     BC on Snow            NaN  \n",
       "2100 CH4                   NaN  \n",
       "     Aerosols              NaN  \n",
       "     Tropospheric Ozone    NaN  \n",
       "     HFC                   NaN  \n",
       "     BC on Snow            NaN  "
      ]
     },
     "execution_count": 447,
     "metadata": {},
     "output_type": "execute_result"
    }
   ],
   "source": [
    "# Years to plot:\n",
    "years = ['2040', '2100']\n",
    "\n",
    "#scn_trans = [trans_scen2plotlabel(label) for label in scenarios_nhist]\n",
    "scn_trans = scenarios_nhist # scenarios except historical\n",
    "\n",
    "variables_tot = ['Total']\n",
    "variables_sum = ['Sum SLCFs']\n",
    "iterables = [years, [var.split('|')[-1] for var in variables_erf_comp]]\n",
    "iterables2 = [years, variables_tot]\n",
    "iterables3 = [years, variables_sum]\n",
    "\n",
    "\n",
    "\n",
    "def setup_table(scenario_n='',\n",
    "                its=None):\n",
    "    if its is None:\n",
    "        its = [years, [var.split('|')[-1] for var in variables_erf_comp]]\n",
    "\n",
    "    _i = pd.MultiIndex.from_product(its, names=['', ''])\n",
    "    table = pd.DataFrame(columns=scn_trans, index = _i)#.transpose()\n",
    "    table.index.name=scenario_n\n",
    "    return table\n",
    "\n",
    "\n",
    "def setup_table_prop(scenario_n='', years=None, vars=None):\n",
    "    if vars is None:\n",
    "        vars = [var.split('|')[-1] for var in variables_erf_comp]\n",
    "    if years is None:\n",
    "        years = ['2040', '2100']\n",
    "    its = [years, vars]\n",
    "    _i = pd.MultiIndex.from_product(its, names=['', ''])\n",
    "    table = pd.DataFrame(columns=scn_trans, index = _i)#.transpose()\n",
    "    table.index.name=scenario_n\n",
    "    return table\n",
    "\n",
    "\n",
    "def setup_table3(scenario_n=''):\n",
    "    return setup_table(scenario_n=scenario_n, its=iterables3)\n",
    "\n",
    "\n",
    "\n"
   ]
  },
  {
   "cell_type": "markdown",
   "metadata": {},
   "source": [
    "## Open dataset:"
   ]
  },
  {
   "cell_type": "markdown",
   "metadata": {},
   "source": [
    "### Integrate:\n",
    "The code below opens the file generated in [2_compute_delta_T.ipynb](2_compute_delta_T.ipynb) by integrating"
   ]
  },
  {
   "cell_type": "markdown",
   "metadata": {},
   "source": [
    "\\begin{align*} \n",
    "\\Delta T (t) &= \\int_0^t ERF(t') IRF(t-t') dt' \\\\\n",
    "\\end{align*}"
   ]
  },
  {
   "cell_type": "markdown",
   "metadata": {},
   "source": [
    "where IRF is the impulse response function and ERF is the effective radiative forcing from RCMIP. "
   ]
  },
  {
   "cell_type": "code",
   "execution_count": 448,
   "metadata": {
    "lines_to_next_cell": 2
   },
   "outputs": [],
   "source": [
    "ds_DT = xr.open_dataset(PATH_DT)"
   ]
  },
  {
   "cell_type": "markdown",
   "metadata": {},
   "source": [
    "## Compute sum of all SLCF forcers"
   ]
  },
  {
   "cell_type": "code",
   "execution_count": 449,
   "metadata": {},
   "outputs": [],
   "source": [
    "from ar6_ch6_rcmipfigs.utils.misc_func import get_cmap_dic, get_scenario_ls_dic, get_scenario_c_dic"
   ]
  },
  {
   "cell_type": "code",
   "execution_count": 450,
   "metadata": {},
   "outputs": [],
   "source": [
    "\n",
    "# ds_DT = dic_ds[0.885]\n",
    "s_y = '1850'\n",
    "# cdic = get_scenario_c_dic()\n",
    "\n",
    "cdic = get_scenario_c_dic()# get_cmap_dic(ds_DT[scenario].values)\n",
    "lsdic = get_scenario_ls_dic()# _scget_ls_dic(ds_DT[climatemodel].values)\n",
    "\n",
    "\n",
    "def sum_name(var): return '|'.join(var.split('|')[0:2]) + '|' + 'All'\n",
    "\n",
    "\n",
    "var = variables_erf_comp[0]\n",
    "f_totn = sum_name(var)\n",
    "dt_totn = sum_name(new_varname(var, name_deltaT))\n",
    "\n",
    "# make xarray with variable as new dimension:\n",
    "_lst_f = []\n",
    "_lst_dt = []\n",
    "for var in variables_erf_comp:\n",
    "    _lst_f.append(ds_DT[var])\n",
    "    _lst_dt.append(ds_DT[new_varname(var, name_deltaT)])\n",
    "erf_all = sum_name('Effective Radiative Forcing|Anthropogenic|all')\n",
    "dt_all = sum_name(new_varname('Effective Radiative Forcing|Anthropogenic|all', name_deltaT))\n",
    "ds_DT[erf_all] = xr.concat(_lst_f, pd.Index(variables_erf_comp, name='variable'))\n",
    "ds_DT[dt_all] = xr.concat(_lst_dt, pd.Index(variables_erf_comp, name='variable'))"
   ]
  },
  {
   "cell_type": "code",
   "execution_count": 540,
   "metadata": {
    "lines_to_next_cell": 2
   },
   "outputs": [],
   "source": [
    "ref_year='2021'\n",
    "scntab_dic = {}\n",
    "#tab_tot = setup_table2()\n",
    "#tab_tot_sd = setup_table2()\n",
    "def table_of_sts(ds_DT, scenarios_nhist, variables, tab_vars, years, ref_year, sts = 'mean'):\n",
    "    tab_tot = setup_table_prop(years=years, vars = tab_vars)\n",
    "    for scn in scenarios_nhist:\n",
    "        for var, tabvar in zip(variables, tab_vars):\n",
    "            #tabvar = 'Total'# var.split('|')[-1]\n",
    "            dtvar = new_varname(var, name_deltaT)\n",
    "            tabscn = scn#trans_scen2plotlabel(scn)\n",
    "            for year in years:\n",
    "                _tab_da =ds_DT[dtvar].sel(scenario=scn, time=slice(year,year))-  ds_DT[dtvar].sel(scenario=scn, time=slice(ref_year,ref_year)).squeeze()\n",
    "                if sts=='mean':\n",
    "                    tab_tot.loc[(year, tabvar),tabscn]=_tab_da.mean('climatemodel').values[0]\n",
    "                if sts=='median':\n",
    "                    tab_tot.loc[(year, tabvar),tabscn]=_tab_da.median('climatemodel').values[0]\n",
    "                elif sts=='std':\n",
    "                    tab_tot.loc[(year, tabvar),tabscn]=_tab_da.std('climatemodel').values[0]\n",
    "\n",
    "                #tab_tot_sd.loc[(year, tabvar),tabscn]=_tab_da.std('climatemodel').values[0]\n",
    "    return tab_tot\n",
    "tab_tot = table_of_sts(ds_DT, scenarios_nhist, ['Delta T|Anthropogenic'], ['Total'], years, ref_year)\n",
    "tab_tot_sd = table_of_sts(ds_DT, scenarios_nhist, ['Delta T|Anthropogenic'], ['Total'], years, ref_year, sts='std')\n",
    "\n",
    "tab = table_of_sts(ds_DT, scenarios_nhist, variables_dt_comp, [var.split('|')[-1] for var in variables_dt_comp], years, ref_year)\n",
    "tab_sd = table_of_sts(ds_DT, scenarios_nhist, variables_dt_comp, [var.split('|')[-1] for var in variables_dt_comp], years, ref_year, sts='std')\n",
    "# Compute sum of SLCFs\n",
    "_ds = ds_DT.copy()\n",
    "vall = 'Delta T|Anthropogenic|All'\n",
    "_ds[vall] =_ds[vall].sum('variable')\n",
    "tab_slcf_sum = table_of_sts(_ds, scenarios_nhist, [vall], ['Sum SLCFs'], years, ref_year)\n",
    "tab_slcf_sum_sd = table_of_sts(_ds, scenarios_nhist, [vall], ['Sum SLCFs'], years, ref_year, sts='std')"
   ]
  },
  {
   "cell_type": "code",
   "execution_count": 453,
   "metadata": {},
   "outputs": [
    {
     "data": {
      "image/png": "[encoded data removed]",
      "text/plain": [
       "<Figure size 720x576 with 2 Axes>"
      ]
     },
     "metadata": {
      "needs_background": "light"
     },
     "output_type": "display_data"
    }
   ],
   "source": [
    "from ar6_ch6_rcmipfigs.constants import RESULTS_DIR\n",
    "from matplotlib.ticker import (MultipleLocator)\n",
    "import matplotlib.pyplot as plt\n",
    "fig, axs = plt.subplots(1,len(years), figsize=[10,8], sharey=False)\n",
    "tits = ['Near Term surface temperature change (2040 relative to 2021)',\n",
    "       'Long Term surface T change 2100 relatie to 2021)']\n",
    "tits = ['Change in GMST in 2040 relative to 2021', 'Change in GMST in 2100 relative to 2021']\n",
    "for yr, ax, tit in zip(years, axs, tits):\n",
    "    ntot = 'Scenario total'\n",
    "    tot_yr = tab_tot.loc[yr].rename({'Total':ntot, 'ssp370-lowNTCF-aerchemmip':'ssp370-lowNTCF\\n-aerchemmip'})\n",
    "    tot_sd_yr = tab_tot_sd.loc[yr].rename({'Total':ntot, 'ssp370-lowNTCF-aerchemmip':'ssp370-lowNTCF\\n-aerchemmip'})\n",
    "    #l =ax.bar(tot_yr.transpose().index, tot_yr.transpose()[ntot].values, color='k', label='Scenario total', alpha=.2, yerr=tab_tot_sd)\n",
    "    sum_yr = tab_slcf_sum.loc[yr].rename({'Total':ntot, 'ssp370-lowNTCF-aerchemmip':'ssp370-lowNTCF\\n-aerchemmip'})\n",
    "    sum_sd_yr = tab_slcf_sum_sd.loc[yr].rename({'Total':ntot, 'ssp370-lowNTCF-aerchemmip':'ssp370-lowNTCF\\n-aerchemmip'})\n",
    "    ax.bar(tot_yr.transpose().index, tot_yr.transpose()[ntot].values, color='k', label='Scenario total', alpha=.2, yerr=tot_sd_yr.transpose()[ntot].values, \n",
    "           error_kw=dict(ecolor='gray', lw=2, capsize=5, capthick=2))\n",
    "    ntot = 'Sum SLCFs'\n",
    "    #ax.bar(sum_yr.transpose().index, sum_yr.transpose()[ntot].values, color='r', label=ntot, alpha=.2, yerr=sum_sd_yr.transpose()[ntot].values,\n",
    "    #      error_kw=dict(ecolor='r', lw=2, capsize=0, capthick=1))\n",
    "    \n",
    "    \n",
    "    s_x = sum_yr.transpose().index\n",
    "    s_y =  sum_yr.transpose()[ntot].values\n",
    "    s_err= sum_sd_yr.transpose()[ntot].values\n",
    "    ax.errorbar(s_x,s_y, color='k',fmt='d', label=ntot, yerr=s_err, linestyle=\"None\")#,\n",
    "          #error_kw=dict(ecolor='r', lw=2, capsize=0, capthick=1))\n",
    "\n",
    "    _tab = tab.loc[yr].transpose().rename({'ssp370-lowNTCF-aerchemmip':'ssp370-lowNTCF\\n-aerchemmip'})\n",
    "    \n",
    "    a = _tab.plot(kind='bar', stacked=True, ax=ax, legend=(yr!='2040'))#, grid=True)#stac)\n",
    "    if not yr=='2040':\n",
    "        ax.legend()#[l],labels=['Sce!!nario total'], loc = 4)#'lower right')\n",
    "    \n",
    "    ax.axhline(0, linestyle='--', color='k', alpha=0.4)\n",
    "    ax.set_title(tit)\n",
    "    ax.set_ylabel('$\\Delta$ GMST ($^\\circ$C)')\n",
    "    ax.yaxis.set_minor_locator(MultipleLocator(.1))\n",
    "    ax.grid(axis='y', which='major')\n",
    "    \n",
    "fn = RESULTS_DIR+'/figures/stack_bar_influence_years.png'\n",
    "plt.tight_layout()\n",
    "ax = plt.gca()\n",
    "\n",
    "ax.tick_params(axis='y',which='minor')#,bottom='off')\n",
    "plt.savefig(fn, dpi=300)"
   ]
  },
  {
   "cell_type": "code",
   "execution_count": 590,
   "metadata": {},
   "outputs": [
    {
     "data": {
      "image/png": "[encoded data removed]",
      "text/plain": [
       "<Figure size 864x432 with 2 Axes>"
      ]
     },
     "metadata": {
      "needs_background": "light"
     },
     "output_type": "display_data"
    }
   ],
   "source": [
    "from matplotlib import transforms\n",
    "from ar6_ch6_rcmipfigs.constants import RESULTS_DIR\n",
    "from matplotlib.ticker import (MultipleLocator)\n",
    "import matplotlib.pyplot as plt\n",
    "fig, axs = plt.subplots(1,len(years), figsize=[12,6], sharex=False, sharey=True)\n",
    "tits = ['Near Term surface temperature change (2040 relative to 2021)',\n",
    "       'Long Term surface T change 2100 relatie to 2021)']\n",
    "tits = ['Change in GMST in 2040 relative to 2021', 'Change in GMST in 2100 relative to 2021']\n",
    "for yr, ax, tit in zip(years, axs, tits):\n",
    "    ntot = 'Scenario total'\n",
    "    tot_yr = tab_tot.loc[yr].rename({'Total':ntot, 'ssp370-lowNTCF-aerchemmip':'ssp370-lowNTCF\\n-aerchemmip'})\n",
    "    tot_sd_yr = tab_tot_sd.loc[yr].rename({'Total':ntot, 'ssp370-lowNTCF-aerchemmip':'ssp370-lowNTCF\\n-aerchemmip'})\n",
    "    #l =ax.bar(tot_yr.transpose().index, tot_yr.transpose()[ntot].values, color='k', label='Scenario total', alpha=.2, yerr=tab_tot_sd)\n",
    "    sum_yr = tab_slcf_sum.loc[yr].rename({'Total':ntot, 'ssp370-lowNTCF-aerchemmip':'ssp370-lowNTCF\\n-aerchemmip'})\n",
    "    sum_sd_yr = tab_slcf_sum_sd.loc[yr].rename({'Total':ntot, 'ssp370-lowNTCF-aerchemmip':'ssp370-lowNTCF\\n-aerchemmip'})\n",
    "    ax.barh(tot_yr.transpose().index, tot_yr.transpose()[ntot].values, color='k', label='Scenario total', alpha=.2, xerr=tot_sd_yr.transpose()[ntot].values, \n",
    "           error_kw=dict(ecolor='gray', lw=2, capsize=5, capthick=2))\n",
    "    ntot = 'Sum SLCFs'\n",
    "    #ax.bar(sum_yr.transpose().index, sum_yr.transpose()[ntot].values, color='r', label=ntot, alpha=.2, yerr=sum_sd_yr.transpose()[ntot].values,\n",
    "    #      error_kw=dict(ecolor='r', lw=2, capsize=0, capthick=1))\n",
    "    \n",
    "    \n",
    "    s_x = sum_yr.transpose().index\n",
    "    s_y =  sum_yr.transpose()[ntot].values\n",
    "    s_err= sum_sd_yr.transpose()[ntot].values\n",
    "    ax.errorbar(s_y,s_x, xerr=s_err,label=ntot, color='k',fmt='d',  linestyle=\"None\")#,\n",
    "          #error_kw=dict(ecolor='r', lw=2, capsize=0, capthick=1))\n",
    "\n",
    "    _tab = tab.loc[yr].transpose().rename({'ssp370-lowNTCF-aerchemmip':'ssp370-lowNTCF\\n-aerchemmip'})\n",
    "    \n",
    "    a = _tab.plot(kind='barh', stacked=True, ax=ax, legend=(yr!='2040'))#, grid=True)#stac)\n",
    "    if not yr=='2040':\n",
    "        ax.legend()#[l],labels=['Sce!!nario total'], loc = 4)#'lower right')\n",
    "    \n",
    "    ax.axvline(0, linestyle='--', color='k', alpha=0.4)\n",
    "    ax.set_title(tit)\n",
    "    ax.set_xlabel('$\\Delta$ GMST ($^\\circ$C)')\n",
    "    ax.xaxis.set_minor_locator(MultipleLocator(.1))\n",
    "    ax.grid(axis='y', which='major')\n",
    "    \n",
    "fn = RESULTS_DIR+'/figures/stack_bar_influence_years.png'\n",
    "plt.tight_layout()\n",
    "ax = plt.gca()\n",
    "\n",
    "ax.tick_params(axis='y',which='minor')#,bottom='off') \n",
    "ax.tick_params( labelright=True, right=True, left=False)\n",
    "plt.savefig(fn, dpi=300)"
   ]
  },
  {
   "cell_type": "markdown",
   "metadata": {},
   "source": [
    "## Test combined error bars: "
   ]
  },
  {
   "cell_type": "code",
   "execution_count": 591,
   "metadata": {},
   "outputs": [],
   "source": [
    "def sigma_DT(dT, sig_alpha, mu_alpha, dim='climatemodel'):\n",
    "    sig_DT = dT.std(dim)\n",
    "    mu_DT = dT.mean(dim)\n",
    "    return ((sig_DT + mu_DT)*(sig_alpha+mu_alpha)- mu_DT*mu_alpha)/mu_alpha\n",
    "def sigma_com(sig_DT, mu_DT, sig_alpha, mu_alpha, dim='climatemodel'):\n",
    "    return (((sig_DT**2 + mu_DT**2)*(sig_alpha**2+mu_alpha**2)- mu_DT**2*mu_alpha**2)/mu_alpha**2)**(.5)\n",
    "sum_DT_std = table_of_sts(_ds, scenarios_nhist, [vall], ['Sum SLCFs'], years, ref_year, sts='std')\n",
    "sum_DT_mean = table_of_sts(_ds, scenarios_nhist, [vall], ['Sum SLCFs'], years, ref_year, sts='mean')\n",
    "tot_DT_std = table_of_sts(ds_DT, scenarios_nhist, ['Delta T|Anthropogenic'],['Total'], years, ref_year, sts='std')\n",
    "tot_DT_mean = table_of_sts(ds_DT, scenarios_nhist, ['Delta T|Anthropogenic'], ['Total'],years, ref_year, sts='mean')\n",
    "\n",
    "yerr_sum = sigma_com(sum_DT_std, sum_DT_mean, .24, .885 )\n",
    "yerr_tot = sigma_com(tot_DT_std, tot_DT_mean, .24, .885)#.rename('')\n",
    "\n",
    "#tab_sig_DT = setup_table_prop()"
   ]
  },
  {
   "cell_type": "code",
   "execution_count": 574,
   "metadata": {},
   "outputs": [
    {
     "data": {
      "text/html": [
       "<div>\n",
       "<style scoped>\n",
       "    .dataframe tbody tr th:only-of-type {\n",
       "        vertical-align: middle;\n",
       "    }\n",
       "\n",
       "    .dataframe tbody tr th {\n",
       "        vertical-align: top;\n",
       "    }\n",
       "\n",
       "    .dataframe thead th {\n",
       "        text-align: right;\n",
       "    }\n",
       "</style>\n",
       "<table border=\"1\" class=\"dataframe\">\n",
       "  <thead>\n",
       "    <tr style=\"text-align: right;\">\n",
       "      <th></th>\n",
       "      <th></th>\n",
       "      <th>ssp119</th>\n",
       "      <th>ssp126</th>\n",
       "      <th>ssp245</th>\n",
       "      <th>ssp370</th>\n",
       "      <th>ssp370-lowNTCF-aerchemmip</th>\n",
       "      <th>ssp585</th>\n",
       "    </tr>\n",
       "    <tr>\n",
       "      <th></th>\n",
       "      <th></th>\n",
       "      <th></th>\n",
       "      <th></th>\n",
       "      <th></th>\n",
       "      <th></th>\n",
       "      <th></th>\n",
       "      <th></th>\n",
       "    </tr>\n",
       "  </thead>\n",
       "  <tbody>\n",
       "    <tr>\n",
       "      <th>2040</th>\n",
       "      <th>Total</th>\n",
       "      <td>0.0949343</td>\n",
       "      <td>0.0733085</td>\n",
       "      <td>0.042811</td>\n",
       "      <td>0.0406404</td>\n",
       "      <td>0.054927</td>\n",
       "      <td>0.0266538</td>\n",
       "    </tr>\n",
       "    <tr>\n",
       "      <th>2100</th>\n",
       "      <th>Total</th>\n",
       "      <td>0.107939</td>\n",
       "      <td>0.128872</td>\n",
       "      <td>0.118113</td>\n",
       "      <td>0.186669</td>\n",
       "      <td>0.211884</td>\n",
       "      <td>0.223506</td>\n",
       "    </tr>\n",
       "  </tbody>\n",
       "</table>\n",
       "</div>"
      ],
      "text/plain": [
       "               ssp119     ssp126    ssp245     ssp370  \\\n",
       "                                                        \n",
       "2040 Total  0.0949343  0.0733085  0.042811  0.0406404   \n",
       "2100 Total   0.107939   0.128872  0.118113   0.186669   \n",
       "\n",
       "           ssp370-lowNTCF-aerchemmip     ssp585  \n",
       "                                                 \n",
       "2040 Total                  0.054927  0.0266538  \n",
       "2100 Total                  0.211884   0.223506  "
      ]
     },
     "execution_count": 574,
     "metadata": {},
     "output_type": "execute_result"
    }
   ],
   "source": [
    "tot_DT_std"
   ]
  },
  {
   "cell_type": "code",
   "execution_count": 575,
   "metadata": {},
   "outputs": [
    {
     "data": {
      "text/html": [
       "<div>\n",
       "<style scoped>\n",
       "    .dataframe tbody tr th:only-of-type {\n",
       "        vertical-align: middle;\n",
       "    }\n",
       "\n",
       "    .dataframe tbody tr th {\n",
       "        vertical-align: top;\n",
       "    }\n",
       "\n",
       "    .dataframe thead th {\n",
       "        text-align: right;\n",
       "    }\n",
       "</style>\n",
       "<table border=\"1\" class=\"dataframe\">\n",
       "  <thead>\n",
       "    <tr style=\"text-align: right;\">\n",
       "      <th></th>\n",
       "      <th></th>\n",
       "      <th>ssp119</th>\n",
       "      <th>ssp126</th>\n",
       "      <th>ssp245</th>\n",
       "      <th>ssp370</th>\n",
       "      <th>ssp370-lowNTCF-aerchemmip</th>\n",
       "      <th>ssp585</th>\n",
       "    </tr>\n",
       "    <tr>\n",
       "      <th></th>\n",
       "      <th></th>\n",
       "      <th></th>\n",
       "      <th></th>\n",
       "      <th></th>\n",
       "      <th></th>\n",
       "      <th></th>\n",
       "      <th></th>\n",
       "    </tr>\n",
       "  </thead>\n",
       "  <tbody>\n",
       "    <tr>\n",
       "      <th>2040</th>\n",
       "      <th>Total</th>\n",
       "      <td>0.409698</td>\n",
       "      <td>0.514518</td>\n",
       "      <td>0.621916</td>\n",
       "      <td>0.728237</td>\n",
       "      <td>0.798053</td>\n",
       "      <td>0.831031</td>\n",
       "    </tr>\n",
       "    <tr>\n",
       "      <th>2100</th>\n",
       "      <th>Total</th>\n",
       "      <td>0.0245512</td>\n",
       "      <td>0.510912</td>\n",
       "      <td>1.80734</td>\n",
       "      <td>3.39964</td>\n",
       "      <td>3.54998</td>\n",
       "      <td>4.40707</td>\n",
       "    </tr>\n",
       "  </tbody>\n",
       "</table>\n",
       "</div>"
      ],
      "text/plain": [
       "               ssp119    ssp126    ssp245    ssp370 ssp370-lowNTCF-aerchemmip  \\\n",
       "                                                                                \n",
       "2040 Total   0.409698  0.514518  0.621916  0.728237                  0.798053   \n",
       "2100 Total  0.0245512  0.510912   1.80734   3.39964                   3.54998   \n",
       "\n",
       "              ssp585  \n",
       "                      \n",
       "2040 Total  0.831031  \n",
       "2100 Total   4.40707  "
      ]
     },
     "execution_count": 575,
     "metadata": {},
     "output_type": "execute_result"
    }
   ],
   "source": [
    "tot_DT_mean"
   ]
  },
  {
   "cell_type": "code",
   "execution_count": 576,
   "metadata": {},
   "outputs": [
    {
     "data": {
      "text/html": [
       "<div>\n",
       "<style scoped>\n",
       "    .dataframe tbody tr th:only-of-type {\n",
       "        vertical-align: middle;\n",
       "    }\n",
       "\n",
       "    .dataframe tbody tr th {\n",
       "        vertical-align: top;\n",
       "    }\n",
       "\n",
       "    .dataframe thead th {\n",
       "        text-align: right;\n",
       "    }\n",
       "</style>\n",
       "<table border=\"1\" class=\"dataframe\">\n",
       "  <thead>\n",
       "    <tr style=\"text-align: right;\">\n",
       "      <th></th>\n",
       "      <th></th>\n",
       "      <th>ssp119</th>\n",
       "      <th>ssp126</th>\n",
       "      <th>ssp245</th>\n",
       "      <th>ssp370</th>\n",
       "      <th>ssp370-lowNTCF-aerchemmip</th>\n",
       "      <th>ssp585</th>\n",
       "    </tr>\n",
       "    <tr>\n",
       "      <th></th>\n",
       "      <th></th>\n",
       "      <th></th>\n",
       "      <th></th>\n",
       "      <th></th>\n",
       "      <th></th>\n",
       "      <th></th>\n",
       "      <th></th>\n",
       "    </tr>\n",
       "  </thead>\n",
       "  <tbody>\n",
       "    <tr>\n",
       "      <th>2040</th>\n",
       "      <th>Total</th>\n",
       "      <td>0.174763</td>\n",
       "      <td>0.166298</td>\n",
       "      <td>0.147966</td>\n",
       "      <td>0.162271</td>\n",
       "      <td>0.189862</td>\n",
       "      <td>0.162333</td>\n",
       "    </tr>\n",
       "    <tr>\n",
       "      <th>2100</th>\n",
       "      <th>Total</th>\n",
       "      <td>0.128898</td>\n",
       "      <td>0.23008</td>\n",
       "      <td>0.422704</td>\n",
       "      <td>0.753995</td>\n",
       "      <td>0.806981</td>\n",
       "      <td>0.956026</td>\n",
       "    </tr>\n",
       "  </tbody>\n",
       "</table>\n",
       "</div>"
      ],
      "text/plain": [
       "              ssp119    ssp126    ssp245    ssp370 ssp370-lowNTCF-aerchemmip  \\\n",
       "                                                                               \n",
       "2040 Total  0.174763  0.166298  0.147966  0.162271                  0.189862   \n",
       "2100 Total  0.128898   0.23008  0.422704  0.753995                  0.806981   \n",
       "\n",
       "              ssp585  \n",
       "                      \n",
       "2040 Total  0.162333  \n",
       "2100 Total  0.956026  "
      ]
     },
     "execution_count": 576,
     "metadata": {},
     "output_type": "execute_result"
    }
   ],
   "source": [
    "yerr_tot"
   ]
  },
  {
   "cell_type": "code",
   "execution_count": 588,
   "metadata": {},
   "outputs": [
    {
     "data": {
      "text/html": [
       "<div>\n",
       "<style scoped>\n",
       "    .dataframe tbody tr th:only-of-type {\n",
       "        vertical-align: middle;\n",
       "    }\n",
       "\n",
       "    .dataframe tbody tr th {\n",
       "        vertical-align: top;\n",
       "    }\n",
       "\n",
       "    .dataframe thead th {\n",
       "        text-align: right;\n",
       "    }\n",
       "</style>\n",
       "<table border=\"1\" class=\"dataframe\">\n",
       "  <thead>\n",
       "    <tr style=\"text-align: right;\">\n",
       "      <th></th>\n",
       "      <th></th>\n",
       "      <th>ssp119</th>\n",
       "      <th>ssp126</th>\n",
       "      <th>ssp245</th>\n",
       "      <th>ssp370</th>\n",
       "      <th>ssp370-lowNTCF-aerchemmip</th>\n",
       "      <th>ssp585</th>\n",
       "    </tr>\n",
       "    <tr>\n",
       "      <th></th>\n",
       "      <th></th>\n",
       "      <th></th>\n",
       "      <th></th>\n",
       "      <th></th>\n",
       "      <th></th>\n",
       "      <th></th>\n",
       "      <th></th>\n",
       "    </tr>\n",
       "  </thead>\n",
       "  <tbody>\n",
       "    <tr>\n",
       "      <th>2040</th>\n",
       "      <th>Total</th>\n",
       "      <td>0.14839</td>\n",
       "      <td>0.158865</td>\n",
       "      <td>0.174391</td>\n",
       "      <td>0.201927</td>\n",
       "      <td>0.223779</td>\n",
       "      <td>0.22705</td>\n",
       "    </tr>\n",
       "    <tr>\n",
       "      <th>2100</th>\n",
       "      <th>Total</th>\n",
       "      <td>0.112035</td>\n",
       "      <td>0.192422</td>\n",
       "      <td>0.505173</td>\n",
       "      <td>0.942005</td>\n",
       "      <td>0.987421</td>\n",
       "      <td>1.21737</td>\n",
       "    </tr>\n",
       "  </tbody>\n",
       "</table>\n",
       "</div>"
      ],
      "text/plain": [
       "              ssp119    ssp126    ssp245    ssp370 ssp370-lowNTCF-aerchemmip  \\\n",
       "                                                                               \n",
       "2040 Total   0.14839  0.158865  0.174391  0.201927                  0.223779   \n",
       "2100 Total  0.112035  0.192422  0.505173  0.942005                  0.987421   \n",
       "\n",
       "             ssp585  \n",
       "                     \n",
       "2040 Total  0.22705  \n",
       "2100 Total  1.21737  "
      ]
     },
     "execution_count": 588,
     "metadata": {},
     "output_type": "execute_result"
    }
   ],
   "source": [
    "yerr_tot"
   ]
  },
  {
   "cell_type": "code",
   "execution_count": 580,
   "metadata": {},
   "outputs": [
    {
     "data": {
      "text/html": [
       "<div>\n",
       "<style scoped>\n",
       "    .dataframe tbody tr th:only-of-type {\n",
       "        vertical-align: middle;\n",
       "    }\n",
       "\n",
       "    .dataframe tbody tr th {\n",
       "        vertical-align: top;\n",
       "    }\n",
       "\n",
       "    .dataframe thead th {\n",
       "        text-align: right;\n",
       "    }\n",
       "</style>\n",
       "<table border=\"1\" class=\"dataframe\">\n",
       "  <thead>\n",
       "    <tr style=\"text-align: right;\">\n",
       "      <th></th>\n",
       "      <th></th>\n",
       "      <th>ssp119</th>\n",
       "      <th>ssp126</th>\n",
       "      <th>ssp245</th>\n",
       "      <th>ssp370</th>\n",
       "      <th>ssp370-lowNTCF-aerchemmip</th>\n",
       "      <th>ssp585</th>\n",
       "    </tr>\n",
       "    <tr>\n",
       "      <th></th>\n",
       "      <th></th>\n",
       "      <th></th>\n",
       "      <th></th>\n",
       "      <th></th>\n",
       "      <th></th>\n",
       "      <th></th>\n",
       "      <th></th>\n",
       "    </tr>\n",
       "  </thead>\n",
       "  <tbody>\n",
       "    <tr>\n",
       "      <th>2040</th>\n",
       "      <th>Sum SLCFs</th>\n",
       "      <td>0.143929</td>\n",
       "      <td>0.118508</td>\n",
       "      <td>0.0769033</td>\n",
       "      <td>0.0521848</td>\n",
       "      <td>0.107464</td>\n",
       "      <td>0.0946467</td>\n",
       "    </tr>\n",
       "    <tr>\n",
       "      <th>2100</th>\n",
       "      <th>Sum SLCFs</th>\n",
       "      <td>0.145571</td>\n",
       "      <td>0.162633</td>\n",
       "      <td>0.162612</td>\n",
       "      <td>0.211427</td>\n",
       "      <td>0.306423</td>\n",
       "      <td>0.273927</td>\n",
       "    </tr>\n",
       "  </tbody>\n",
       "</table>\n",
       "</div>"
      ],
      "text/plain": [
       "                  ssp119    ssp126     ssp245     ssp370  \\\n",
       "                                                           \n",
       "2040 Sum SLCFs  0.143929  0.118508  0.0769033  0.0521848   \n",
       "2100 Sum SLCFs  0.145571  0.162633   0.162612   0.211427   \n",
       "\n",
       "               ssp370-lowNTCF-aerchemmip     ssp585  \n",
       "                                                     \n",
       "2040 Sum SLCFs                  0.107464  0.0946467  \n",
       "2100 Sum SLCFs                  0.306423   0.273927  "
      ]
     },
     "execution_count": 580,
     "metadata": {},
     "output_type": "execute_result"
    }
   ],
   "source": [
    "yerr_sum"
   ]
  },
  {
   "cell_type": "code",
   "execution_count": null,
   "metadata": {},
   "outputs": [],
   "source": [
    "tot_DT "
   ]
  },
  {
   "cell_type": "code",
   "execution_count": 578,
   "metadata": {},
   "outputs": [
    {
     "data": {
      "text/plain": [
       "0.17214689265536715"
      ]
     },
     "execution_count": 578,
     "metadata": {},
     "output_type": "execute_result"
    }
   ],
   "source": [
    "sig_DT = 0.094\n",
    "mu_DT = 0.40\n",
    "sig_alph=0.14\n",
    "mu_alph = 0.885\n",
    "((sig_DT + mu_DT)*(sig_alph +mu_alph)- mu_DT*mu_alph)/mu_alph"
   ]
  },
  {
   "cell_type": "code",
   "execution_count": 592,
   "metadata": {},
   "outputs": [
    {
     "data": {
      "image/png": "[encoded data removed]",
      "text/plain": [
       "<Figure size 864x432 with 2 Axes>"
      ]
     },
     "metadata": {
      "needs_background": "light"
     },
     "output_type": "display_data"
    }
   ],
   "source": [
    "from matplotlib import transforms\n",
    "from ar6_ch6_rcmipfigs.constants import RESULTS_DIR\n",
    "from matplotlib.ticker import (MultipleLocator)\n",
    "import matplotlib.pyplot as plt\n",
    "fig, axs = plt.subplots(1,len(years), figsize=[12,6], sharex=False, sharey=True)\n",
    "tits = ['Near Term surface temperature change (2040 relative to 2021)',\n",
    "       'Long Term surface T change 2100 relatie to 2021)']\n",
    "tits = ['Change in GMST in 2040 relative to 2021', 'Change in GMST in 2100 relative to 2021']\n",
    "for yr, ax, tit in zip(years, axs, tits):\n",
    "    ntot = 'Scenario total'\n",
    "    tot_yr = tab_tot.loc[yr].rename({'Total':ntot, 'ssp370-lowNTCF-aerchemmip':'ssp370-lowNTCF\\n-aerchemmip'})\n",
    "    tot_sd_yr = yerr_tot.loc[yr].rename({'Total':ntot, 'ssp370-lowNTCF-aerchemmip':'ssp370-lowNTCF\\n-aerchemmip'})\n",
    "    #l =ax.bar(tot_yr.transpose().index, tot_yr.transpose()[ntot].values, color='k', label='Scenario total', alpha=.2, yerr=tab_tot_sd)\n",
    "    sum_yr = tab_slcf_sum.loc[yr].rename({'Total':ntot, 'ssp370-lowNTCF-aerchemmip':'ssp370-lowNTCF\\n-aerchemmip'})\n",
    "    sum_sd_yr = yerr_sum.loc[yr].rename({'Total':ntot, 'ssp370-lowNTCF-aerchemmip':'ssp370-lowNTCF\\n-aerchemmip'})\n",
    "    ax.barh(tot_yr.transpose().index, tot_yr.transpose()[ntot].values, color='k', label='Scenario total', alpha=.2, xerr=tot_sd_yr.transpose()[ntot].values, \n",
    "           error_kw=dict(ecolor='gray', lw=2, capsize=5, capthick=2))\n",
    "    ntot = 'Sum SLCFs'\n",
    "    #ax.bar(sum_yr.transpose().index, sum_yr.transpose()[ntot].values, color='r', label=ntot, alpha=.2, yerr=sum_sd_yr.transpose()[ntot].values,\n",
    "    #      error_kw=dict(ecolor='r', lw=2, capsize=0, capthick=1))\n",
    "    \n",
    "    \n",
    "    s_x = sum_yr.transpose().index\n",
    "    s_y =  sum_yr.transpose()[ntot].values\n",
    "    s_err= sum_sd_yr.transpose()[ntot].values\n",
    "    ax.errorbar(s_y,s_x, xerr=s_err,label=ntot, color='k',fmt='d',  linestyle=\"None\")#,\n",
    "          #error_kw=dict(ecolor='r', lw=2, capsize=0, capthick=1))\n",
    "\n",
    "    _tab = tab.loc[yr].transpose().rename({'ssp370-lowNTCF-aerchemmip':'ssp370-lowNTCF\\n-aerchemmip'})\n",
    "    \n",
    "    a = _tab.plot(kind='barh', stacked=True, ax=ax, legend=(yr!='2040'))#, grid=True)#stac)\n",
    "    if not yr=='2040':\n",
    "        ax.legend()#[l],labels=['Sce!!nario total'], loc = 4)#'lower right')\n",
    "    \n",
    "    ax.axvline(0, linestyle='--', color='k', alpha=0.4)\n",
    "    ax.set_title(tit)\n",
    "    ax.set_xlabel('$\\Delta$ GMST ($^\\circ$C)')\n",
    "    ax.xaxis.set_minor_locator(MultipleLocator(.1))\n",
    "    ax.grid(axis='y', which='major')\n",
    "    \n",
    "fn = RESULTS_DIR+'/figures/stack_bar_influence_years.png'\n",
    "plt.tight_layout()\n",
    "ax = plt.gca()\n",
    "\n",
    "ax.tick_params(axis='y',which='minor')#,bottom='off') \n",
    "ax.tick_params( labelright=True, right=True, left=False)\n",
    "plt.savefig(fn, dpi=300)"
   ]
  },
  {
   "cell_type": "code",
   "execution_count": 541,
   "metadata": {},
   "outputs": [
    {
     "data": {
      "text/plain": [
       "<Figure size 432x288 with 0 Axes>"
      ]
     },
     "metadata": {},
     "output_type": "display_data"
    }
   ],
   "source": [
    "txts = 11\n",
    "xpos = -0.8\n",
    "axs[0].text(xpos, 5.1, 'Strong climate \\nmitigation \\nStrong air pollution \\ncontrol',\n",
    "         {'color': 'black', 'fontsize': txts, 'ha': 'center', 'va': 'center',\n",
    "          'bbox': dict(boxstyle=\"rarrow\", fc=\"white\", ec=\"blue\", pad=0.5)})\n",
    "#axs[0].text(xpos, 4.6, 'Strong air pollution \\ncontrol',\n",
    "#         {'color': 'black', 'fontsize': txts, 'ha': 'center', 'va': 'center',\n",
    "#          'bbox': dict(boxstyle=\"rarrow\", fc=\"white\", ec=\"orange\", pad=0.2)})\n",
    "axs[0].annotate(\"\",\n",
    "            xy=(-.2, 0.2), xycoords='data',\n",
    "            xytext=(-.01, 0.8), textcoords='data',\n",
    "            arrowprops=dict(arrowstyle=\"-\",\n",
    "                            connectionstyle= \"bar,fraction=0.3\"),\n",
    "            )\n",
    "strings = [ 'Strong climate \\nmitigation \\n','Strong air pollution \\ncontrol']\n",
    "colors = ['blue', 'orange']\n",
    "t = axs[0].transData\n",
    "for s, c in zip(strings, colors):\n",
    "        text = axs[0].text(xpos, 4, s + \" \", color=c, transform=t)#, **kwargs)\n",
    "        canvas = axs[0].figure.canvas\n",
    "        orientation='horizontalas'\n",
    "        # Need to draw to update the text position.\n",
    "        text.draw(canvas.get_renderer())\n",
    "        ex = text.get_window_extent()\n",
    "        if orientation == 'horizontal':\n",
    "            t = transforms.offset_copy(\n",
    "                text.get_transform(), x=ex.width, units='dots')\n",
    "        else:\n",
    "            t = transforms.offset_copy(\n",
    "                text.get_transform(), y=ex.height, units='dots')\n",
    "axs[0].annotate(\"Test\", xy=(-0.5, 0.5), xycoords=\"axes fraction\")\n",
    "plt.savefig(fn, dpi=300)\n"
   ]
  },
  {
   "cell_type": "code",
   "execution_count": 503,
   "metadata": {},
   "outputs": [],
   "source": [
    "def demo_con_style(ax, connectionstyle):\n",
    "    x1, y1 = 0.3, 0.2\n",
    "    x2, y2 = 0.8, 0.6\n",
    "\n",
    "    ax.plot([x1, x2], [y1, y2], \".\")\n",
    "    ax.annotate(\"\",\n",
    "                xy=(x1, y1), xycoords='data',\n",
    "                xytext=(x2, y2), textcoords='data',\n",
    "                arrowprops=dict(arrowstyle=\"->\", color=\"0.5\",\n",
    "                                shrinkA=5, shrinkB=5,\n",
    "                                patchA=None, patchB=None,\n",
    "                                connectionstyle=connectionstyle,\n",
    "                                ),\n",
    "                )\n",
    "\n",
    "    ax.text(.05, .95, connectionstyle.replace(\",\", \",\\n\"),\n",
    "            transform=ax.transAxes, ha=\"left\", va=\"top\")\n"
   ]
  },
  {
   "cell_type": "code",
   "execution_count": 454,
   "metadata": {},
   "outputs": [
    {
     "data": {
      "text/plain": [
       "array([0, 1, 2, 3, 4, 5])"
      ]
     },
     "execution_count": 454,
     "metadata": {},
     "output_type": "execute_result"
    }
   ],
   "source": [
    "ax.get_xticks()"
   ]
  },
  {
   "cell_type": "markdown",
   "metadata": {},
   "source": [
    "- De vi allerede har.\n",
    "\n",
    "Hvis vi skulle lagt til usikkerhet?\n",
    "- Ville lagt til usikkerhet gjennom ECS -- \n",
    "    - Regne ut de samme tallene for 3 verdier av ECS. \n",
    "    - Monte carlo trekk med en fordeling på ECS. \n",
    "    - "
   ]
  },
  {
   "cell_type": "code",
   "execution_count": 455,
   "metadata": {},
   "outputs": [
    {
     "data": {
      "image/png": "[encoded data removed]",
      "text/plain": [
       "<Figure size 720x576 with 2 Axes>"
      ]
     },
     "metadata": {
      "needs_background": "light"
     },
     "output_type": "display_data"
    }
   ],
   "source": [
    "from ar6_ch6_rcmipfigs.constants import RESULTS_DIR\n",
    "from matplotlib.ticker import (MultipleLocator)\n",
    "import matplotlib.pyplot as plt\n",
    "fig, axs = plt.subplots(1,len(years), figsize=[10,8], sharey=False)\n",
    "tits = ['Near Term surface temperature change (2040 relative to 2021)',\n",
    "       'Long Term surface T change 2100 relatie to 2021)']\n",
    "tits = ['Change in GMST in 2040 relative to 2021', 'Change in GMST in 2100 relative to 2021']\n",
    "for yr, ax, tit in zip(years, axs, tits):\n",
    "    ntot = 'Scenario total'\n",
    "    tot_yr = tab_tot.loc[yr].rename({'Total':ntot, 'ssp370-lowNTCF-aerchemmip':'ssp370-lowNTCF\\n-aerchemmip'})\n",
    "    l =ax.bar(tot_yr.transpose().index, tot_yr.transpose()[ntot].values, color='k', label='Scenario total', alpha=.2)\n",
    "    _tab = tab.loc[yr].transpose().rename({'ssp370-lowNTCF-aerchemmip':'ssp370-lowNTCF\\n-aerchemmip'})\n",
    "    \n",
    "    a = _tab.plot(kind='bar', stacked=True, ax=ax, legend=(yr!='2040'))#, grid=True)#stac)\n",
    "    if not yr=='2040':\n",
    "        ax.legend()#[l],labels=['Sce!!nario total'], loc = 4)#'lower right')\n",
    "    \n",
    "    ax.axhline(0, linestyle='--', color='k', alpha=0.4)\n",
    "    ax.set_title(tit)\n",
    "    ax.set_ylabel('$\\Delta$ GMST ($^\\circ$C)')\n",
    "    ax.yaxis.set_minor_locator(MultipleLocator(.1))\n",
    "    ax.grid(axis='y', which='major')\n",
    "    \n",
    "fn = RESULTS_DIR+'/figures/stack_bar_influence_years.png'\n",
    "plt.tight_layout()\n",
    "ax = plt.gca()\n",
    "\n",
    "ax.tick_params(axis='y',which='minor')#,bottom='off')\n",
    "plt.savefig(fn, dpi=300)"
   ]
  }
 ],
 "metadata": {
  "ipub": {
   "bibliography": "IPCC_terje.bib",
   "biboptions": [
    "super",
    "sort"
   ],
   "bibstyle": "unsrtnat"
  },
  "jupytext": {
   "encoding": "# -*- coding: utf-8 -*-",
   "text_representation": {
    "extension": ".py",
    "format_name": "percent",
    "format_version": "1.3",
    "jupytext_version": "1.3.3"
   }
  },
  "kernelspec": {
   "display_name": "Python 3",
   "language": "python",
   "name": "python3"
  },
  "language_info": {
   "codemirror_mode": {
    "name": "ipython",
    "version": 3
   },
   "file_extension": ".py",
   "mimetype": "text/x-python",
   "name": "python",
   "nbconvert_exporter": "python",
   "pygments_lexer": "ipython3",
   "version": "3.7.6"
  },
  "latex_metadata": {
   "author": "Sara Blichner, T. K. Berntsen",
   "bibliography": "IPCC_terje",
   "bibstyle": "plain",
   "title": "Comparison of temperature response for various climate gases"
  },
  "pycharm": {
   "stem_cell": {
    "cell_type": "raw",
    "metadata": {
     "collapsed": false
    },
    "source": []
   }
  }
 },
 "nbformat": 4,
 "nbformat_minor": 4
}
