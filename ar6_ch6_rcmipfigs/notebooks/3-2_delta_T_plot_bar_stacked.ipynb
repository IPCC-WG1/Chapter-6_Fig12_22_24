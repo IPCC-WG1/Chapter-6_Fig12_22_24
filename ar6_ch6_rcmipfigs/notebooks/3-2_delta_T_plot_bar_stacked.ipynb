{
 "cells": [
  {
   "cell_type": "markdown",
   "metadata": {},
   "source": [
    "# Plot temperature response over time"
   ]
  },
  {
   "cell_type": "markdown",
   "metadata": {},
   "source": [
    "This notebook plots temperature respons to SLCFs AND the total scenario forcing in a fixed nr of years"
   ]
  },
  {
   "cell_type": "markdown",
   "metadata": {},
   "source": [
    "## Imports:"
   ]
  },
  {
   "cell_type": "code",
   "execution_count": 1,
   "metadata": {},
   "outputs": [
    {
     "data": {
      "application/javascript": [
       "IPython.OutputArea.prototype._should_scroll = function(lines) { return false; }"
      ],
      "text/plain": [
       "<IPython.core.display.Javascript object>"
      ]
     },
     "metadata": {},
     "output_type": "display_data"
    },
    {
     "name": "stderr",
     "output_type": "stream",
     "text": [
      "pyam - INFO: Running in a notebook, setting `pyam` logging level to `logging.INFO` and adding stderr handler\n"
     ]
    }
   ],
   "source": [
    "import xarray as xr\n",
    "from IPython.display import clear_output\n",
    "import numpy as np\n",
    "import os\n",
    "import re\n",
    "from pathlib import Path\n",
    "import pandas as pd\n",
    "import tqdm\n",
    "from scmdata import df_append, ScmDataFrame\n",
    "import matplotlib.pyplot as plt\n",
    "from pandas.plotting import register_matplotlib_converters\n",
    "register_matplotlib_converters()\n",
    "\n",
    "%load_ext autoreload\n",
    "%autoreload 2"
   ]
  },
  {
   "cell_type": "code",
   "execution_count": 2,
   "metadata": {},
   "outputs": [
    {
     "name": "stdout",
     "output_type": "stream",
     "text": [
      "/home/sarambl/PHD/IPCC/public/AR6_CH6_RCMIPFIGS/ar6_ch6_rcmipfigs\n",
      "/home/sarambl/PHD/IPCC/public/AR6_CH6_RCMIPFIGS/ar6_ch6_rcmipfigs/data_in\n"
     ]
    }
   ],
   "source": [
    "from ar6_ch6_rcmipfigs.constants import BASE_DIR\n",
    "from ar6_ch6_rcmipfigs.constants import OUTPUT_DATA_DIR, INPUT_DATA_DIR, RESULTS_DIR\n",
    "\n",
    "PATH_DT = OUTPUT_DATA_DIR + '/dT_data_rcmip_models.nc'"
   ]
  },
  {
   "cell_type": "markdown",
   "metadata": {},
   "source": [
    "## Set values:"
   ]
  },
  {
   "cell_type": "code",
   "execution_count": 3,
   "metadata": {},
   "outputs": [],
   "source": [
    "first_y ='1850'\n",
    "last_y = '2100'\n",
    "# Years to plot:\n",
    "years = ['2040', '2100']"
   ]
  },
  {
   "cell_type": "markdown",
   "metadata": {},
   "source": [
    "**Set reference year for temperature change:**"
   ]
  },
  {
   "cell_type": "code",
   "execution_count": 4,
   "metadata": {},
   "outputs": [],
   "source": [
    "ref_year = '2021'"
   ]
  },
  {
   "cell_type": "code",
   "execution_count": 5,
   "metadata": {},
   "outputs": [],
   "source": [
    "FIGURE_DIR = RESULTS_DIR + '/figures/'"
   ]
  },
  {
   "cell_type": "code",
   "execution_count": 6,
   "metadata": {},
   "outputs": [],
   "source": [
    "\n",
    "climatemodel = 'climatemodel'\n",
    "scenario = 'scenario'\n",
    "variable = 'variable'\n",
    "time = 'time'"
   ]
  },
  {
   "cell_type": "markdown",
   "metadata": {},
   "source": [
    "### Define variables to look at:"
   ]
  },
  {
   "cell_type": "code",
   "execution_count": 7,
   "metadata": {
    "lines_to_next_cell": 2
   },
   "outputs": [],
   "source": [
    "from ar6_ch6_rcmipfigs.utils.misc_func import new_varname\n",
    "\n",
    "# variables to plot:\n",
    "variables_erf_comp = [\n",
    "    'Effective Radiative Forcing|Anthropogenic|CH4',\n",
    "    'Effective Radiative Forcing|Anthropogenic|Aerosols',\n",
    "    'Effective Radiative Forcing|Anthropogenic|Tropospheric Ozone',\n",
    "    'Effective Radiative Forcing|Anthropogenic|F-Gases|HFC',\n",
    "    'Effective Radiative Forcing|Anthropogenic|Other|BC on Snow']\n",
    "# total ERFs for anthropogenic and total:\n",
    "variables_erf_tot = ['Effective Radiative Forcing|Anthropogenic',\n",
    "                     'Effective Radiative Forcing']\n",
    "# Scenarios to plot:\n",
    "scenarios_fl = ['ssp119', 'ssp126', 'ssp245', 'ssp370', 'ssp370-lowNTCF-aerchemmip',\n",
    "                # 'ssp370-lowNTCF', Due to mistake here\n",
    "                'ssp585', 'historical']\n",
    "scenarios_nhist = ['ssp119', 'ssp126', 'ssp245', 'ssp370', 'ssp370-lowNTCF-aerchemmip',\n",
    "                'ssp370-lowNTCF-gidden',\n",
    "                   # 'ssp370-lowNTCF', Due to mistake here\n",
    "                   'ssp585']  # list(set(scenarios_fl)- {'historical'})\n",
    "climatemodels_fl = ['Cicero-SCM', 'Cicero-SCM-ECS3', 'FaIR-1.5-DEFAULT', 'MAGICC7.1.0.beta-rcmip-phase-1', 'OSCARv3.0']\n",
    "\n",
    "# List of delta T for variables\n",
    "name_deltaT = 'Delta T'\n",
    "variables_dt_comp = [new_varname(var, name_deltaT) for var in variables_erf_comp]"
   ]
  },
  {
   "cell_type": "code",
   "execution_count": 8,
   "metadata": {},
   "outputs": [],
   "source": [
    "\n",
    "variables_tot = ['Total']\n",
    "variables_sum = ['Sum SLCFs']\n",
    "\n",
    "def setup_table_prop(scenario_n='', years=None, variabs=None, scens=None):\n",
    "    if variabs is None:\n",
    "        variabs = [var.split('|')[-1] for var in variables_erf_comp]\n",
    "    if years is None:\n",
    "        years = ['2040', '2100']\n",
    "    if scens is None:\n",
    "        scens = scenarios_nhist\n",
    "    its = [years, variabs]\n",
    "    _i = pd.MultiIndex.from_product(its, names=['', ''])\n",
    "    table = pd.DataFrame(columns=scens, index=_i)  # .transpose()\n",
    "    table.index.name = scenario_n\n",
    "    return table"
   ]
  },
  {
   "cell_type": "markdown",
   "metadata": {},
   "source": [
    "## Open dataset:"
   ]
  },
  {
   "cell_type": "markdown",
   "metadata": {},
   "source": [
    "### Integrate:\n",
    "The code below opens the file generated in [2_compute_delta_T.ipynb](2_compute_delta_T.ipynb) by integrating"
   ]
  },
  {
   "cell_type": "markdown",
   "metadata": {},
   "source": [
    "\\begin{align*} \n",
    "\\Delta T (t) &= \\int_0^t ERF(t') IRF(t-t') dt' \\\\\n",
    "\\end{align*}"
   ]
  },
  {
   "cell_type": "markdown",
   "metadata": {},
   "source": [
    "where IRF is the impulse response function and ERF is the effective radiative forcing from RCMIP. "
   ]
  },
  {
   "cell_type": "code",
   "execution_count": 9,
   "metadata": {
    "lines_to_next_cell": 2
   },
   "outputs": [],
   "source": [
    "ds_DT = xr.open_dataset(PATH_DT)"
   ]
  },
  {
   "cell_type": "markdown",
   "metadata": {},
   "source": [
    "## Compute sum of all SLCF forcers"
   ]
  },
  {
   "cell_type": "code",
   "execution_count": 10,
   "metadata": {},
   "outputs": [],
   "source": [
    "from ar6_ch6_rcmipfigs.utils.plot import get_scenario_c_dic, get_scenario_ls_dic"
   ]
  },
  {
   "cell_type": "code",
   "execution_count": 11,
   "metadata": {},
   "outputs": [],
   "source": [
    "\n",
    "s_y = first_y\n",
    "\n",
    "cdic = get_scenario_c_dic()  # get_cmap_dic(ds_DT[scenario].values)\n",
    "lsdic = get_scenario_ls_dic()  # _scget_ls_dic(ds_DT[climatemodel].values)\n",
    "\n",
    "def sum_name(var):\n",
    "    \"\"\"\n",
    "    Returns the name off the sum o\n",
    "    \"\"\"\n",
    "    return '|'.join(var.split('|')[0:2]) + '|' + 'All'\n",
    "\n",
    "\n",
    "\n",
    "# make xarray with variable as new dimension:\n",
    "_lst_f = []\n",
    "_lst_dt = []\n",
    "# Make list of dataArrays to be concatinated:\n",
    "for var in variables_erf_comp:\n",
    "    _lst_f.append(ds_DT[var])\n",
    "    _lst_dt.append(ds_DT[new_varname(var, name_deltaT)])\n",
    "# Name of new var:\n",
    "erf_all = sum_name('Effective Radiative Forcing|Anthropogenic|all')\n",
    "# Name of new var:\n",
    "dt_all = sum_name(new_varname('Effective Radiative Forcing|Anthropogenic|all', name_deltaT))\n",
    "ds_DT[erf_all] = xr.concat(_lst_f, pd.Index(variables_erf_comp, name='variable'))\n",
    "ds_DT[dt_all] = xr.concat(_lst_dt, pd.Index(variables_erf_comp, name='variable'))\n",
    "dt_totn = dt_all"
   ]
  },
  {
   "cell_type": "code",
   "execution_count": 12,
   "metadata": {},
   "outputs": [],
   "source": [
    "scntab_dic = {}\n",
    "\n",
    "\n",
    "# tab_tot = setup_table2()\n",
    "# tab_tot_sd = setup_table2()\n",
    "def table_of_sts(ds_DT, scenarios_nhist, variables, tab_vars, years, ref_year, sts='mean'):\n",
    "    \"\"\"\n",
    "    Creates pandas dataframe of statistics (mean, median, standard deviation) for change\n",
    "    in temperature Delta T since year (ref year) for each scenario in scenarios,\n",
    "\n",
    "    :param ds_DT:\n",
    "    :param scenarios_nhist:\n",
    "    :param variables:\n",
    "    :param tab_vars:\n",
    "    :param years:\n",
    "    :param ref_year:\n",
    "    :param sts:\n",
    "    :return:\n",
    "    \"\"\"\n",
    "    tabel = setup_table_prop(years=years, variabs=tab_vars)\n",
    "    for scn in scenarios_nhist:\n",
    "        for var, tabvar in zip(variables, tab_vars):\n",
    "            dtvar = new_varname(var, name_deltaT) # if ERF name, changes it here.\n",
    "            tabscn = scn  # Table scenario name the same.\n",
    "            for year in years:\n",
    "                _da =ds_DT[dtvar].sel(scenario=scn)\n",
    "                _da_refy = _da.sel(time=slice(ref_year, ref_year)).squeeze() # ref year value\n",
    "                _da_y = _da.sel(time=slice(year, year)) # year value\n",
    "                _tab_da = _da_y - _da_refy\n",
    "                #_tab_da = ds_DT[dtvar].sel(scenario=scn, time=slice(year, year)) - ds_DT[dtvar].sel(scenario=scn,\n",
    "                #                                                                                    time=slice(ref_year,\n",
    "                #                                                                                               ref_year)).squeeze()\n",
    "\n",
    "                # Do statistics over RCMIP models\n",
    "                if sts == 'mean':\n",
    "                    tabel.loc[(year, tabvar), tabscn] = _tab_da.mean('climatemodel').values[0]\n",
    "                if sts == 'median':\n",
    "                    tabel.loc[(year, tabvar), tabscn] = _tab_da.median('climatemodel').values[0]\n",
    "                elif sts == 'std':\n",
    "                    tabel.loc[(year, tabvar), tabscn] = _tab_da.std('climatemodel').values[0]\n",
    "\n",
    "    return tabel\n",
    "\n",
    "def table_of_stats_varsums(ds_DT, scenarios_nhist, dsvar, tabvar, years, ref_year, sts='mean'):\n",
    "    \"\"\"\n",
    "    Sums up over dimension 'variable' and creates pandas dataframe of statistics (mean, median, standard deviation) for change\n",
    "    in temperature Delta T since year (ref year) for each scenario in scenarios. \n",
    "\n",
    "    :param ds_DT:\n",
    "    :param scenarios_nhist:\n",
    "    :param variables:\n",
    "    :param tab_vars:\n",
    "    :param years:\n",
    "    :param ref_year:\n",
    "    :param sts:\n",
    "    :return:\n",
    "    \"\"\"\n",
    "    tabel = setup_table_prop(years=years, variabs=[tabvar])\n",
    "    da = ds_DT[dsvar]\n",
    "    if sts=='mean':\n",
    "        da = ds_DT[dsvar]#.mean('climatemodel').sum('variable')\n",
    "    if sts == 'median':\n",
    "        da = ds_DT[dsvar]#.median('climatemodel').sum('variable')\n",
    "    elif sts=='std':\n",
    "        da = ds_DT[dsvar]#.sum('variable').std('climatemodel')\n",
    "    for scn in scenarios_nhist:\n",
    "        #for var, tabvar in zip(variables, tab_vars):\n",
    "        dtvar = new_varname(dsvar, name_deltaT) # if ERF name, changes it here.\n",
    "        tabscn = scn  # Table scenario name the same.\n",
    "        for year in years:\n",
    "            _da =da.sel(scenario=scn)\n",
    "            _da_refy = _da.sel(time=slice(ref_year, ref_year)).squeeze() # ref year value\n",
    "            _da_y = _da.sel(time=slice(year, year)).squeeze() # year value\n",
    "            _tab_da = (_da_y - _da_refy).squeeze()\n",
    "            if sts=='mean':\n",
    "                _tab_da = _tab_da.mean('climatemodel').sum('variable')\n",
    "            elif sts == 'median':\n",
    "                _tab_da = _tab_da.median('climatemodel').sum('variable')\n",
    "            elif sts=='std':\n",
    "                _tab_da= _tab_da.sum('variable').std('climatemodel')\n",
    "\n",
    "            # Do statistics over RCMIP models\n",
    "            tabel.loc[(year, tabvar), tabscn] = _tab_da.values\n",
    "\n",
    "    return tabel"
   ]
  },
  {
   "cell_type": "markdown",
   "metadata": {},
   "source": [
    "### Computes statistics:"
   ]
  },
  {
   "cell_type": "code",
   "execution_count": 13,
   "metadata": {},
   "outputs": [],
   "source": [
    "# Statistics on Delta T anthropogenic\n",
    "# Mean\n",
    "tabel_dT_anthrop = table_of_sts(ds_DT, scenarios_nhist, ['Delta T|Anthropogenic'], ['Total'], years, ref_year)\n",
    "# Standard deviation\n",
    "tabel_dT_anthrop_SD = table_of_sts(ds_DT, scenarios_nhist, ['Delta T|Anthropogenic'], ['Total'], years, ref_year, sts='std')\n",
    "# Mean:\n",
    "tabel_dT_slcfs = table_of_sts(ds_DT, scenarios_nhist, variables_dt_comp, [var.split('|')[-1] for var in variables_dt_comp], years,\n",
    "                              ref_year)\n",
    "# Standard deviation\n",
    "tabel_dT_slcfs_DF = table_of_sts(ds_DT, scenarios_nhist, variables_dt_comp, [var.split('|')[-1] for var in variables_dt_comp],\n",
    "                                 years, ref_year, sts='std')\n",
    "# Compute sum of SLCFs\n",
    "_ds = ds_DT.copy()\n",
    "vall = 'Delta T|Anthropogenic|All'\n",
    "_ds[vall] = _ds[vall].sum('variable')\n",
    "#tabel_dT_sum_slcf = table_of_sts(_ds, scenarios_nhist, [vall], ['Sum SLCFs'], years, ref_year)\n",
    "#tabel_dT_sum_slcf_SD = table_of_sts(_ds, scenarios_nhist, [vall], ['Sum SLCFs'], years, ref_year, sts='std')"
   ]
  },
  {
   "cell_type": "code",
   "execution_count": 14,
   "metadata": {},
   "outputs": [
    {
     "data": {
      "text/html": [
       "<div>\n",
       "<style scoped>\n",
       "    .dataframe tbody tr th:only-of-type {\n",
       "        vertical-align: middle;\n",
       "    }\n",
       "\n",
       "    .dataframe tbody tr th {\n",
       "        vertical-align: top;\n",
       "    }\n",
       "\n",
       "    .dataframe thead th {\n",
       "        text-align: right;\n",
       "    }\n",
       "</style>\n",
       "<table border=\"1\" class=\"dataframe\">\n",
       "  <thead>\n",
       "    <tr style=\"text-align: right;\">\n",
       "      <th></th>\n",
       "      <th></th>\n",
       "      <th>ssp119</th>\n",
       "      <th>ssp126</th>\n",
       "      <th>ssp245</th>\n",
       "      <th>ssp370</th>\n",
       "      <th>ssp370-lowNTCF-aerchemmip</th>\n",
       "      <th>ssp370-lowNTCF-gidden</th>\n",
       "      <th>ssp585</th>\n",
       "    </tr>\n",
       "    <tr>\n",
       "      <th></th>\n",
       "      <th></th>\n",
       "      <th></th>\n",
       "      <th></th>\n",
       "      <th></th>\n",
       "      <th></th>\n",
       "      <th></th>\n",
       "      <th></th>\n",
       "      <th></th>\n",
       "    </tr>\n",
       "  </thead>\n",
       "  <tbody>\n",
       "    <tr>\n",
       "      <th>2040</th>\n",
       "      <th>Sum SLCFs</th>\n",
       "      <td>0.10684343548179748</td>\n",
       "      <td>0.08529145407800068</td>\n",
       "      <td>0.04831220630757891</td>\n",
       "      <td>0.025785552790189827</td>\n",
       "      <td>0.06398027899234776</td>\n",
       "      <td>0.06007755097970012</td>\n",
       "      <td>0.05253533762557518</td>\n",
       "    </tr>\n",
       "    <tr>\n",
       "      <th>2100</th>\n",
       "      <th>Sum SLCFs</th>\n",
       "      <td>0.1297791963664601</td>\n",
       "      <td>0.14035522920526422</td>\n",
       "      <td>0.11358809497353772</td>\n",
       "      <td>0.10731891440382212</td>\n",
       "      <td>0.1686480511004645</td>\n",
       "      <td>0.14044266035549746</td>\n",
       "      <td>0.1580167611267991</td>\n",
       "    </tr>\n",
       "  </tbody>\n",
       "</table>\n",
       "</div>"
      ],
      "text/plain": [
       "                             ssp119               ssp126               ssp245  \\\n",
       "                                                                                \n",
       "2040 Sum SLCFs  0.10684343548179748  0.08529145407800068  0.04831220630757891   \n",
       "2100 Sum SLCFs   0.1297791963664601  0.14035522920526422  0.11358809497353772   \n",
       "\n",
       "                              ssp370 ssp370-lowNTCF-aerchemmip  \\\n",
       "                                                                 \n",
       "2040 Sum SLCFs  0.025785552790189827       0.06398027899234776   \n",
       "2100 Sum SLCFs   0.10731891440382212        0.1686480511004645   \n",
       "\n",
       "               ssp370-lowNTCF-gidden               ssp585  \n",
       "                                                           \n",
       "2040 Sum SLCFs   0.06007755097970012  0.05253533762557518  \n",
       "2100 Sum SLCFs   0.14044266035549746   0.1580167611267991  "
      ]
     },
     "execution_count": 14,
     "metadata": {},
     "output_type": "execute_result"
    }
   ],
   "source": [
    "tabel_dT_sum_slcf = table_of_stats_varsums(ds_DT, scenarios_nhist, vall, 'Sum SLCFs', years, ref_year)\n",
    "tabel_dT_sum_slcf_SD = table_of_stats_varsums(ds_DT, scenarios_nhist, vall, 'Sum SLCFs', years, ref_year, sts='std')\n",
    "tabel_dT_sum_slcf_SD"
   ]
  },
  {
   "cell_type": "markdown",
   "metadata": {},
   "source": [
    "## Error bars only from model uncertainty\n",
    "The following uncertainties assume the ECS has a standard deviation of"
   ]
  },
  {
   "cell_type": "code",
   "execution_count": 15,
   "metadata": {},
   "outputs": [
    {
     "data": {
      "image/png": "[encoded data removed]",
      "text/plain": [
       "<Figure size 864x432 with 2 Axes>"
      ]
     },
     "metadata": {
      "needs_background": "light"
     },
     "output_type": "display_data"
    }
   ],
   "source": [
    "from ar6_ch6_rcmipfigs.constants import RESULTS_DIR\n",
    "from matplotlib.ticker import (MultipleLocator)\n",
    "import matplotlib.pyplot as plt\n",
    "\n",
    "fig, axs = plt.subplots(1, len(years), figsize=[12, 6], sharex=False, sharey=True)\n",
    "tits = ['Near Term surface temperature change (2040 relative to 2021)',\n",
    "        'Long Term surface T change 2100 relatie to 2021)']\n",
    "tits = ['Change in GSAT in 2040 relative to 2021', 'Change in GSAT in 2100 relative to 2021']\n",
    "for yr, ax, tit in zip(years, axs, tits):\n",
    "    ntot = 'Scenario total'\n",
    "    # Pick out year and do various renames:\n",
    "    # Total antropogenic\n",
    "    tot_yr = tabel_dT_anthrop.loc[yr].rename({'Total': ntot, 'ssp370-lowNTCF-aerchemmip': 'ssp370-lowNTCF\\n-aerchemmip'})\n",
    "    tot_sd_yr = tabel_dT_anthrop_SD.loc[yr].rename({'Total': ntot, 'ssp370-lowNTCF-aerchemmip': 'ssp370-lowNTCF\\n-aerchemmip'})\n",
    "    # Sum SLCFs\n",
    "    sum_yr = tabel_dT_sum_slcf.loc[yr].rename({'Total': ntot, 'ssp370-lowNTCF-aerchemmip': 'ssp370-lowNTCF\\n-aerchemmip'})\n",
    "    sum_sd_yr = tabel_dT_sum_slcf_SD.loc[yr].rename(\n",
    "        {'Total': ntot, 'ssp370-lowNTCF-aerchemmip': 'ssp370-lowNTCF\\n-aerchemmip'})\n",
    "    # Plot bars for anthropopogenic total:\n",
    "    ax.barh(tot_yr.transpose().index, tot_yr.transpose()[ntot].values, color='k', label='Scenario total', alpha=.2,\n",
    "            xerr=tot_sd_yr.transpose()[ntot].values,\n",
    "            error_kw=dict(ecolor='gray', lw=2, capsize=5, capthick=2))\n",
    "    # Plot bars for SLCFs total:\n",
    "    ntot = 'Sum SLCFs'\n",
    "    s_x = sum_yr.transpose().index\n",
    "    s_y = sum_yr.transpose()[ntot].values\n",
    "    s_err = sum_sd_yr.transpose()[ntot].values\n",
    "    ax.errorbar(s_y, s_x, xerr=s_err, label=ntot, color='k', fmt='d', linestyle=\"None\")  # ,\n",
    "\n",
    "    # Plot stacked plot of components:\n",
    "    _tab = tabel_dT_slcfs.loc[yr].transpose().rename({'ssp370-lowNTCF-aerchemmip': 'ssp370-lowNTCF\\n-aerchemmip'})\n",
    "\n",
    "    a = _tab.plot(kind='barh', stacked=True, ax=ax, legend=(yr != '2040'))  # , grid=True)#stac)\n",
    "    if not yr == '2040':\n",
    "        ax.legend()  # [l],labels=['Sce!!nario total'], loc = 4)#'lower right')\n",
    "    # Zero line:\n",
    "    ax.axvline(0, linestyle='--', color='k', alpha=0.4)\n",
    "    ax.set_title(tit)\n",
    "    ax.set_xlabel('$\\Delta$ GSAT ($^\\circ$C)')\n",
    "    ax.xaxis.set_minor_locator(MultipleLocator(.1))\n",
    "    ax.grid(axis='y', which='major')\n",
    "\n",
    "fn = RESULTS_DIR + '/figures/stack_bar_influence_years_mod_spread_ONLY.png'\n",
    "plt.tight_layout()\n",
    "ax = plt.gca()\n",
    "\n",
    "ax.tick_params(axis='y', which='minor')  # ,bottom='off')\n",
    "ax.tick_params(labelright=True, right=True, left=False)\n",
    "plt.savefig(fn, dpi=300)"
   ]
  },
  {
   "cell_type": "markdown",
   "metadata": {},
   "source": [
    "## Error bars from model uncertainty AND ECS uncertainty"
   ]
  },
  {
   "cell_type": "markdown",
   "metadata": {},
   "source": [
    "See [Uncertainty_calculation.ipynb](Uncertainty_calculation.ipynb)"
   ]
  },
  {
   "cell_type": "code",
   "execution_count": 16,
   "metadata": {},
   "outputs": [],
   "source": [
    "def sigma_DT(dT, sig_alpha, mu_alpha, dim='climatemodel'):\n",
    "    sig_DT = dT.std(dim)\n",
    "    mu_DT = dT.mean(dim)\n",
    "    return ((sig_DT + mu_DT) * (sig_alpha + mu_alpha) - mu_DT * mu_alpha) / mu_alpha\n",
    "\n",
    "\n",
    "def sigma_com(sig_DT, mu_DT, sig_alpha, mu_alpha):\n",
    "    return (((sig_DT ** 2 + mu_DT ** 2) * (\n",
    "            sig_alpha ** 2 + mu_alpha ** 2) - mu_DT ** 2 * mu_alpha ** 2) / mu_alpha ** 2) ** .5\n",
    "\n",
    "\n",
    "sum_DT_std =  table_of_sts(_ds, scenarios_nhist, [vall], ['Sum SLCFs'], years, ref_year, sts='std')\n",
    "sum_DT_mean = table_of_sts(_ds, scenarios_nhist, [vall], ['Sum SLCFs'], years, ref_year, sts='mean')\n",
    "tot_DT_std = table_of_sts(ds_DT, scenarios_nhist, ['Delta T|Anthropogenic'], ['Total'], years, ref_year, sts='std')\n",
    "tot_DT_mean = table_of_sts(ds_DT, scenarios_nhist, ['Delta T|Anthropogenic'], ['Total'], years, ref_year, sts='mean')\n",
    "\n",
    "yerr_sum = sigma_com(sum_DT_std, sum_DT_mean, .24, .885)\n",
    "yerr_tot = sigma_com(tot_DT_std, tot_DT_mean, .24, .885)  # .rename('')\n",
    "\n",
    "# tab_sig_DT = setup_table_prop()"
   ]
  },
  {
   "cell_type": "code",
   "execution_count": 17,
   "metadata": {},
   "outputs": [
    {
     "data": {
      "image/png": "[encoded data removed]",
      "text/plain": [
       "<Figure size 864x432 with 2 Axes>"
      ]
     },
     "metadata": {
      "needs_background": "light"
     },
     "output_type": "display_data"
    }
   ],
   "source": [
    "from ar6_ch6_rcmipfigs.constants import RESULTS_DIR\n",
    "from matplotlib.ticker import (MultipleLocator)\n",
    "import matplotlib.pyplot as plt\n",
    "\n",
    "fig, axs = plt.subplots(1, len(years), figsize=[12, 6], sharex=False, sharey=True)\n",
    "tits = ['Near Term surface temperature change (2040 relative to 2021)',\n",
    "        'Long Term surface T change 2100 relatie to 2021)']\n",
    "tits = ['Change in GSAT in 2040 relative to 2021', 'Change in GSAT in 2100 relative to 2021']\n",
    "for yr, ax, tit in zip(years, axs, tits):\n",
    "    ntot = 'Scenario total'\n",
    "    tot_yr = tabel_dT_anthrop.loc[yr].rename({'Total': ntot, 'ssp370-lowNTCF-aerchemmip': 'ssp370-lowNTCF\\n-aerchemmip'})\n",
    "    tot_sd_yr = yerr_tot.loc[yr].rename({'Total': ntot, 'ssp370-lowNTCF-aerchemmip': 'ssp370-lowNTCF\\n-aerchemmip'})\n",
    "    # l =ax.bar(tot_yr.transpose().index, tot_yr.transpose()[ntot].values, color='k', label='Scenario total', alpha=.2, yerr=tab_tot_sd)\n",
    "    sum_yr = tabel_dT_sum_slcf.loc[yr].rename({'Total': ntot, 'ssp370-lowNTCF-aerchemmip': 'ssp370-lowNTCF\\n-aerchemmip'})\n",
    "    sum_sd_yr = yerr_sum.loc[yr].rename({'Total': ntot, 'ssp370-lowNTCF-aerchemmip': 'ssp370-lowNTCF\\n-aerchemmip'})\n",
    "    ax.barh(tot_yr.transpose().index, tot_yr.transpose()[ntot].values, color='k', label='Scenario total', alpha=.2,\n",
    "            xerr=tot_sd_yr.transpose()[ntot].values,\n",
    "            error_kw=dict(ecolor='gray', lw=2, capsize=5, capthick=2))\n",
    "    ntot = 'Sum SLCFs'\n",
    "    # ax.bar(sum_yr.transpose().index, sum_yr.transpose()[ntot].values, color='r', label=ntot, alpha=.2, yerr=sum_sd_yr.transpose()[ntot].values,\n",
    "    #      error_kw=dict(ecolor='r', lw=2, capsize=0, capthick=1))\n",
    "\n",
    "    s_x = sum_yr.transpose().index\n",
    "    s_y = sum_yr.transpose()[ntot].values\n",
    "    s_err = sum_sd_yr.transpose()[ntot].values\n",
    "    ax.errorbar(s_y, s_x, xerr=s_err, label=ntot, color='k', fmt='d', linestyle=\"None\")  # ,\n",
    "    # error_kw=dict(ecolor='r', lw=2, capsize=0, capthick=1))\n",
    "\n",
    "    _tab = tabel_dT_slcfs.loc[yr].transpose().rename({'ssp370-lowNTCF-aerchemmip': 'ssp370-lowNTCF\\n-aerchemmip'})\n",
    "\n",
    "    a = _tab.plot(kind='barh', stacked=True, ax=ax, legend=(yr != '2040'))  # , grid=True)#stac)\n",
    "    if not yr == '2040':\n",
    "        ax.legend()  # [l],labels=['Sce!!nario total'], loc = 4)#'lower right')\n",
    "\n",
    "    ax.axvline(0, linestyle='--', color='k', alpha=0.4)\n",
    "    ax.set_title(tit)\n",
    "    ax.set_xlabel('$\\Delta$ GSAT ($^\\circ$C)')\n",
    "    ax.xaxis.set_minor_locator(MultipleLocator(.1))\n",
    "    ax.grid(axis='y', which='major')\n",
    "\n",
    "fn = RESULTS_DIR + '/figures/stack_bar_influence_years_horiz_errTot.png'\n",
    "plt.tight_layout()\n",
    "ax = plt.gca()\n",
    "\n",
    "ax.tick_params(axis='y', which='minor')  # ,bottom='off')\n",
    "ax.tick_params(labelright=True, right=True, left=False)\n",
    "plt.savefig(fn, dpi=300)"
   ]
  },
  {
   "cell_type": "markdown",
   "metadata": {},
   "source": [
    "## Only ssp370:"
   ]
  },
  {
   "cell_type": "code",
   "execution_count": 18,
   "metadata": {},
   "outputs": [],
   "source": [
    "scenario_370 =[sc for sc in scenarios_nhist if 'ssp370' in sc]"
   ]
  },
  {
   "cell_type": "code",
   "execution_count": 19,
   "metadata": {},
   "outputs": [
    {
     "data": {
      "text/html": [
       "<div>\n",
       "<style scoped>\n",
       "    .dataframe tbody tr th:only-of-type {\n",
       "        vertical-align: middle;\n",
       "    }\n",
       "\n",
       "    .dataframe tbody tr th {\n",
       "        vertical-align: top;\n",
       "    }\n",
       "\n",
       "    .dataframe thead th {\n",
       "        text-align: right;\n",
       "    }\n",
       "</style>\n",
       "<table border=\"1\" class=\"dataframe\">\n",
       "  <thead>\n",
       "    <tr style=\"text-align: right;\">\n",
       "      <th></th>\n",
       "      <th>ssp370</th>\n",
       "      <th>ssp370-lowNTCF-aerchemmip</th>\n",
       "      <th>ssp370-lowNTCF-gidden</th>\n",
       "    </tr>\n",
       "    <tr>\n",
       "      <th></th>\n",
       "      <th></th>\n",
       "      <th></th>\n",
       "      <th></th>\n",
       "    </tr>\n",
       "  </thead>\n",
       "  <tbody>\n",
       "    <tr>\n",
       "      <th>Total</th>\n",
       "      <td>3.39964</td>\n",
       "      <td>3.54998</td>\n",
       "      <td>2.81364</td>\n",
       "    </tr>\n",
       "  </tbody>\n",
       "</table>\n",
       "</div>"
      ],
      "text/plain": [
       "        ssp370 ssp370-lowNTCF-aerchemmip ssp370-lowNTCF-gidden\n",
       "                                                              \n",
       "Total  3.39964                   3.54998               2.81364"
      ]
     },
     "execution_count": 19,
     "metadata": {},
     "output_type": "execute_result"
    }
   ],
   "source": [
    "tabel_dT_anthrop.loc[yr,scenario_370]"
   ]
  },
  {
   "cell_type": "code",
   "execution_count": 20,
   "metadata": {},
   "outputs": [
    {
     "data": {
      "image/png": "[encoded data removed]",
      "text/plain": [
       "<Figure size 864x216 with 2 Axes>"
      ]
     },
     "metadata": {
      "needs_background": "light"
     },
     "output_type": "display_data"
    }
   ],
   "source": [
    "from ar6_ch6_rcmipfigs.constants import RESULTS_DIR\n",
    "from matplotlib.ticker import (MultipleLocator)\n",
    "import matplotlib.pyplot as plt\n",
    "\n",
    "fig, axs = plt.subplots(1, len(years), figsize=[12, 3], sharex=False, sharey=True)\n",
    "tits = ['Near Term surface temperature change (2040 relative to 2021)',\n",
    "        'Long Term surface T change 2100 relatie to 2021)']\n",
    "tits = ['Change in GSAT in 2040 relative to 2021', 'Change in GSAT in 2100 relative to 2021']\n",
    "for yr, ax, tit in zip(years, axs, tits):\n",
    "    ntot = 'Scenario total'\n",
    "    tot_yr = tabel_dT_anthrop.loc[yr, scenario_370].rename({'Total': ntot, 'ssp370-lowNTCF-aerchemmip': 'ssp370-lowNTCF\\n-aerchemmip'})\n",
    "    tot_sd_yr = yerr_tot.loc[yr, scenario_370].rename({'Total': ntot, 'ssp370-lowNTCF-aerchemmip': 'ssp370-lowNTCF\\n-aerchemmip'})\n",
    "    # l =ax.bar(tot_yr.transpose().index, tot_yr.transpose()[ntot].values, color='k', label='Scenario total', alpha=.2, yerr=tab_tot_sd)\n",
    "    sum_yr = tabel_dT_sum_slcf.loc[yr, scenario_370].rename({'Total': ntot, 'ssp370-lowNTCF-aerchemmip': 'ssp370-lowNTCF\\n-aerchemmip'})\n",
    "    sum_sd_yr = yerr_sum.loc[yr, scenario_370].rename({'Total': ntot, 'ssp370-lowNTCF-aerchemmip': 'ssp370-lowNTCF\\n-aerchemmip'})\n",
    "\n",
    "    ax.barh(tot_yr.transpose().index, tot_yr.transpose()[ntot].values, color='k', label='Scenario total', alpha=.2,\n",
    "            xerr=tot_sd_yr.transpose()[ntot].values,\n",
    "            error_kw=dict(ecolor='gray', lw=2, capsize=5, capthick=2))\n",
    "    ntot = 'Sum SLCFs'\n",
    "    # ax.bar(sum_yr.transpose().index, sum_yr.transpose()[ntot].values, color='r', label=ntot, alpha=.2, yerr=sum_sd_yr.transpose()[ntot].values,\n",
    "    #      error_kw=dict(ecolor='r', lw=2, capsize=0, capthick=1))\n",
    "\n",
    "    s_x = sum_yr.transpose().index\n",
    "    s_y = sum_yr.transpose()[ntot].values\n",
    "    s_err = sum_sd_yr.transpose()[ntot].values\n",
    "    ax.errorbar(s_y, s_x, xerr=s_err, label=ntot, color='k', fmt='d', linestyle=\"None\")  # ,\n",
    "    # error_kw=dict(ecolor='r', lw=2, capsize=0, capthick=1))\n",
    "\n",
    "    _tab = tabel_dT_slcfs.loc[yr, scenario_370].transpose().rename({'ssp370-lowNTCF-aerchemmip': 'ssp370-lowNTCF\\n-aerchemmip'})\n",
    "\n",
    "    a = _tab.plot(kind='barh', stacked=True, ax=ax, legend=(yr != '2040'))  # , grid=True)#stac)\n",
    "    if not yr == '2040':\n",
    "        ax.legend()  # [l],labels=['Sce!!nario total'], loc = 4)#'lower right')\n",
    "\n",
    "    ax.axvline(0, linestyle='--', color='k', alpha=0.4)\n",
    "    ax.set_title(tit)\n",
    "    ax.set_xlabel('$\\Delta$ GSAT ($^\\circ$C)')\n",
    "    ax.xaxis.set_minor_locator(MultipleLocator(.1))\n",
    "    ax.grid(axis='y', which='major')\n",
    "\n",
    "fn = RESULTS_DIR + '/figures/stack_bar_influence_years_horiz_errTot_370only.png'\n",
    "plt.tight_layout()\n",
    "ax = plt.gca()\n",
    "\n",
    "ax.tick_params(axis='y', which='minor')  # ,bottom='off')\n",
    "ax.tick_params(labelright=True, right=True, left=False)\n",
    "plt.savefig(fn, dpi=300)\n",
    "a=2\n",
    "#plt.show()"
   ]
  }
 ],
 "metadata": {
  "ipub": {
   "bibliography": "IPCC_terje.bib",
   "biboptions": [
    "super",
    "sort"
   ],
   "bibstyle": "unsrtnat"
  },
  "jupytext": {
   "encoding": "# -*- coding: utf-8 -*-",
   "text_representation": {
    "extension": ".py",
    "format_name": "percent",
    "format_version": "1.3",
    "jupytext_version": "1.3.3"
   }
  },
  "kernelspec": {
   "display_name": "Python 3",
   "language": "python",
   "name": "python3"
  },
  "language_info": {
   "codemirror_mode": {
    "name": "ipython",
    "version": 3
   },
   "file_extension": ".py",
   "mimetype": "text/x-python",
   "name": "python",
   "nbconvert_exporter": "python",
   "pygments_lexer": "ipython3",
   "version": "3.7.6"
  },
  "latex_metadata": {
   "author": "Sara Blichner, T. K. Berntsen",
   "bibliography": "IPCC_terje",
   "bibstyle": "plain",
   "title": "Comparison of temperature response for various climate gases"
  },
  "pycharm": {
   "stem_cell": {
    "cell_type": "raw",
    "metadata": {
     "collapsed": false
    },
    "source": []
   }
  }
 },
 "nbformat": 4,
 "nbformat_minor": 4
}
