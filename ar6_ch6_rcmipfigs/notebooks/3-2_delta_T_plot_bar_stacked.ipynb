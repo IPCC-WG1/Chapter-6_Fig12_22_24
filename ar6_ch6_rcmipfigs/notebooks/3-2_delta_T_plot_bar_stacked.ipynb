{
 "cells": [
  {
   "cell_type": "markdown",
   "metadata": {},
   "source": [
    "# Plot temperature response over time"
   ]
  },
  {
   "cell_type": "markdown",
   "metadata": {},
   "source": [
    "This notebook plots temperature respons to SLCFs AND the total scenario forcing in a fixed nr of years"
   ]
  },
  {
   "cell_type": "markdown",
   "metadata": {},
   "source": [
    "## Imports:"
   ]
  },
  {
   "cell_type": "code",
   "execution_count": 1,
   "metadata": {},
   "outputs": [],
   "source": [
    "import xarray as xr\n",
    "import numpy as np\n",
    "import pandas as pd\n",
    "import matplotlib.pyplot as plt\n",
    "from pandas.plotting import register_matplotlib_converters\n",
    "\n",
    "register_matplotlib_converters()\n",
    "\n",
    "%load_ext autoreload\n",
    "%autoreload 2"
   ]
  },
  {
   "cell_type": "code",
   "execution_count": 2,
   "metadata": {},
   "outputs": [
    {
     "data": {
      "application/javascript": [
       "IPython.OutputArea.prototype._should_scroll = function(lines) { return false; }"
      ],
      "text/plain": [
       "<IPython.core.display.Javascript object>"
      ]
     },
     "metadata": {},
     "output_type": "display_data"
    },
    {
     "name": "stdout",
     "output_type": "stream",
     "text": [
      "/home/sarambl/PHD/IPCC/public/AR6_CH6_RCMIPFIGSv2/ar6_ch6_rcmipfigs\n",
      "/home/sarambl/PHD/IPCC/public/AR6_CH6_RCMIPFIGSv2/ar6_ch6_rcmipfigs/data_in\n"
     ]
    }
   ],
   "source": [
    "from ar6_ch6_rcmipfigs.utils.plot import get_cmap_dic"
   ]
  },
  {
   "cell_type": "code",
   "execution_count": 3,
   "metadata": {},
   "outputs": [],
   "source": [
    "from ar6_ch6_rcmipfigs.constants import OUTPUT_DATA_DIR, RESULTS_DIR\n",
    "\n",
    "# PATH_DATASET = OUTPUT_DATA_DIR + '/forcing_data_rcmip_models.nc'\n",
    "# PATH_DT = OUTPUT_DATA_DIR / '/dT_data_rcmip_models.nc'\n",
    "PATH_DT = OUTPUT_DATA_DIR / 'dT_data_RCMIP.nc'"
   ]
  },
  {
   "cell_type": "markdown",
   "metadata": {},
   "source": [
    "## Set values:"
   ]
  },
  {
   "cell_type": "code",
   "execution_count": 4,
   "metadata": {},
   "outputs": [],
   "source": [
    "first_y = '1750'\n",
    "last_y = '2100'\n",
    "# Years to plot:\n",
    "years = ['2040', '2100']"
   ]
  },
  {
   "cell_type": "markdown",
   "metadata": {},
   "source": [
    "**Set reference year for temperature change:**"
   ]
  },
  {
   "cell_type": "code",
   "execution_count": 5,
   "metadata": {},
   "outputs": [],
   "source": [
    "ref_year = '2021'"
   ]
  },
  {
   "cell_type": "code",
   "execution_count": 6,
   "metadata": {},
   "outputs": [],
   "source": [
    "FIGURE_DIR = RESULTS_DIR / 'figures/'"
   ]
  },
  {
   "cell_type": "code",
   "execution_count": 7,
   "metadata": {},
   "outputs": [],
   "source": [
    "\n",
    "climatemodel = 'climatemodel'\n",
    "scenario = 'scenario'\n",
    "variable = 'variable'\n",
    "time = 'time'"
   ]
  },
  {
   "cell_type": "code",
   "execution_count": 8,
   "metadata": {},
   "outputs": [],
   "source": [
    "\n",
    "name_deltaT = 'Delta T'"
   ]
  },
  {
   "cell_type": "markdown",
   "metadata": {},
   "source": [
    "### Define variables to look at:"
   ]
  },
  {
   "cell_type": "code",
   "execution_count": 9,
   "metadata": {},
   "outputs": [],
   "source": [
    "# variables to plot:\n",
    "variables_erf_comp = [\n",
    "    'ch4',\n",
    "    'aerosol-total',\n",
    "    'o3',\n",
    "    'HFCs',\n",
    "    'bc_on_snow']\n",
    "# total ERFs for anthropogenic and total:\n",
    "variables_erf_tot = ['total_anthropogenic',\n",
    "                     'total']\n",
    "variables_all = variables_erf_comp + variables_erf_tot\n",
    "# Scenarios to plot:"
   ]
  },
  {
   "cell_type": "code",
   "execution_count": 10,
   "metadata": {},
   "outputs": [],
   "source": [
    "\n",
    "scenarios_fl_370 = ['ssp370', 'ssp370-lowNTCF-aerchemmip', 'ssp370-lowNTCF-gidden'  # Due to mistake here\n",
    "                    ]"
   ]
  },
  {
   "cell_type": "markdown",
   "metadata": {},
   "source": [
    "### Scenarios:"
   ]
  },
  {
   "cell_type": "code",
   "execution_count": 11,
   "metadata": {},
   "outputs": [],
   "source": [
    "scenarios_fl = ['ssp119',\n",
    "                'ssp126',\n",
    "                'ssp245',\n",
    "                'ssp370',\n",
    "                'ssp370-lowNTCF-aerchemmip',\n",
    "                'ssp370-lowNTCF-gidden',\n",
    "                'ssp585']"
   ]
  },
  {
   "cell_type": "code",
   "execution_count": 12,
   "metadata": {},
   "outputs": [],
   "source": [
    "median = 'median'\n",
    "perc5 = '5th percentile'\n",
    "perc95 = '95th percentile'"
   ]
  },
  {
   "cell_type": "code",
   "execution_count": 13,
   "metadata": {},
   "outputs": [],
   "source": [
    "\n",
    "variables_tot = ['Total']\n",
    "variables_sum = ['Sum SLCFs']\n",
    "\n",
    "\n",
    "def setup_table_prop(scenario_n='', yrs=None, _vlist=None, scens=None):\n",
    "    if _vlist is None:\n",
    "        _vlist = variables_erf_comp\n",
    "    if yrs is None:\n",
    "        yrs = ['2040', '2100']\n",
    "    if scens is None:\n",
    "        scens = scenarios_fl\n",
    "    its = [yrs, _vlist]\n",
    "    _i = pd.MultiIndex.from_product(its, names=['', ''])\n",
    "    table = pd.DataFrame(columns=scens, index=_i)  # .transpose()\n",
    "    table.index.name = scenario_n\n",
    "    return table"
   ]
  },
  {
   "cell_type": "markdown",
   "metadata": {},
   "source": [
    "## Open dataset:"
   ]
  },
  {
   "cell_type": "markdown",
   "metadata": {},
   "source": [
    "### Integrate:\n",
    "The code below opens the file generated in [2_compute_delta_T.ipynb](2_compute_delta_T.ipynb) by integrating"
   ]
  },
  {
   "cell_type": "markdown",
   "metadata": {},
   "source": [
    "\\begin{align*} \n",
    "\\Delta T (t) &= \\int_0^t ERF(t') IRF(t-t') dt' \\\\\n",
    "\\end{align*}"
   ]
  },
  {
   "cell_type": "markdown",
   "metadata": {},
   "source": [
    "where IRF is the impulse response function and ERF is the effective radiative forcing from RCMIP. "
   ]
  },
  {
   "cell_type": "code",
   "execution_count": 14,
   "metadata": {
    "lines_to_next_cell": 2
   },
   "outputs": [],
   "source": [
    "ds_DT = xr.open_dataset(PATH_DT)"
   ]
  },
  {
   "cell_type": "markdown",
   "metadata": {},
   "source": [
    "## Compute sum of all SLCF forcers"
   ]
  },
  {
   "cell_type": "code",
   "execution_count": 15,
   "metadata": {},
   "outputs": [],
   "source": [
    "from ar6_ch6_rcmipfigs.utils.plot import get_var_nicename"
   ]
  },
  {
   "cell_type": "code",
   "execution_count": 16,
   "metadata": {},
   "outputs": [],
   "source": [
    "from ar6_ch6_rcmipfigs.utils.plot import get_scenario_c_dic, get_scenario_ls_dic"
   ]
  },
  {
   "cell_type": "code",
   "execution_count": 17,
   "metadata": {},
   "outputs": [],
   "source": [
    "\n",
    "s_y = first_y\n",
    "\n",
    "cdic = get_scenario_c_dic()\n",
    "lsdic = get_scenario_ls_dic()\n",
    "\n",
    "\n",
    "def sum_name(_var):\n",
    "    \"\"\"\n",
    "    Returns the name off the sum o\n",
    "    \"\"\"\n",
    "    return f'{_var} sum '\n",
    "\n",
    "\n",
    "# make xarray with variable as new dimension:\n",
    "_lst_f = []\n",
    "_lst_dt = []\n",
    "# Make list of dataArrays to be concatinated:\n",
    "for var in variables_erf_comp:\n",
    "    _lst_f.append(ds_DT['ERF'].sel(variable=var))\n",
    "    _lst_dt.append(ds_DT[name_deltaT].sel(variable=var))\n",
    "# Name of new var:\n",
    "erf_all = sum_name('ERF')\n",
    "# Name of new var:\n",
    "dt_all = sum_name(name_deltaT)\n",
    "# ds_DT[erf_all] = xr.concat(_lst_f, pd.Index(variables_erf_comp, name='variable'))\n",
    "# ds_DT[dt_all] = xr.concat(_lst_dt, pd.Index(variables_erf_comp, name='variable'))\n",
    "dt_totn = dt_all"
   ]
  },
  {
   "cell_type": "markdown",
   "metadata": {},
   "source": [
    "### compute sum: "
   ]
  },
  {
   "cell_type": "code",
   "execution_count": 18,
   "metadata": {},
   "outputs": [],
   "source": [
    "sum_name = 'Sum SLCFs'\n",
    "ds_sub = ds_DT.sel(variable=variables_erf_comp)\n",
    "ds_sum = ds_sub.sum(variable)\n",
    "ds_sum = ds_sum.assign_coords(coords={variable: sum_name})\n",
    "# add sum to variable coordinate\n",
    "\n",
    "ds_sum = xr.concat([ds_sum, ds_DT.sel(variable=variables_erf_comp)], dim=variable)"
   ]
  },
  {
   "cell_type": "code",
   "execution_count": 19,
   "metadata": {
    "lines_to_next_cell": 2
   },
   "outputs": [
    {
     "data": {
      "text/html": [
       "<pre>&lt;xarray.Dataset&gt;\n",
       "Dimensions:     (percentile: 3, scenario: 10, variable: 6, year: 351)\n",
       "Coordinates:\n",
       "  * percentile  (percentile) object &#x27;5th percentile&#x27; &#x27;median&#x27; &#x27;95th percentile&#x27;\n",
       "  * year        (year) int64 1750 1751 1752 1753 1754 ... 2097 2098 2099 2100\n",
       "  * scenario    (scenario) object &#x27;ssp534-over&#x27; ... &#x27;ssp370-lowNTCF-aerchemmip&#x27;\n",
       "  * variable    (variable) object &#x27;Sum SLCFs&#x27; &#x27;ch4&#x27; ... &#x27;HFCs&#x27; &#x27;bc_on_snow&#x27;\n",
       "Data variables:\n",
       "    time        (year) datetime64[ns] ...\n",
       "    ERF         (scenario, year, variable) float64 0.0 0.0 ... 0.2122 0.02698\n",
       "    delta_t     (variable, year) float64 1.0 1.0 1.0 1.0 1.0 ... 1.0 1.0 1.0 1.0\n",
       "    Delta T     (percentile, scenario, year, variable) float64 0.0 ... 0.02896</pre>"
      ],
      "text/plain": [
       "<xarray.Dataset>\n",
       "Dimensions:     (percentile: 3, scenario: 10, variable: 6, year: 351)\n",
       "Coordinates:\n",
       "  * percentile  (percentile) object '5th percentile' 'median' '95th percentile'\n",
       "  * year        (year) int64 1750 1751 1752 1753 1754 ... 2097 2098 2099 2100\n",
       "  * scenario    (scenario) object 'ssp534-over' ... 'ssp370-lowNTCF-aerchemmip'\n",
       "  * variable    (variable) object 'Sum SLCFs' 'ch4' ... 'HFCs' 'bc_on_snow'\n",
       "Data variables:\n",
       "    time        (year) datetime64[ns] ...\n",
       "    ERF         (scenario, year, variable) float64 0.0 0.0 ... 0.2122 0.02698\n",
       "    delta_t     (variable, year) float64 1.0 1.0 1.0 1.0 1.0 ... 1.0 1.0 1.0 1.0\n",
       "    Delta T     (percentile, scenario, year, variable) float64 0.0 ... 0.02896"
      ]
     },
     "execution_count": 19,
     "metadata": {},
     "output_type": "execute_result"
    }
   ],
   "source": [
    "ds_sum  # .assign_coords(coords={variable:sum_name})"
   ]
  },
  {
   "cell_type": "code",
   "execution_count": null,
   "metadata": {},
   "outputs": [],
   "source": []
  },
  {
   "cell_type": "code",
   "execution_count": 20,
   "metadata": {},
   "outputs": [],
   "source": [
    "scntab_dic = {}\n",
    "\n",
    "\n",
    "# tab_tot = setup_table2()\n",
    "# tab_tot_sd = setup_table2()\n",
    "def table_of_sts(_ds, _scn_fl, variables, tab_vars, _yrs, ref_yr, sts='median'):\n",
    "    \"\"\"\n",
    "    Creates pandas dataframe of statistics (mean, median, standard deviation) for change\n",
    "    in temperature Delta T since year (ref year) for each scenario in scenarios,\n",
    "\n",
    "    :param _ds:\n",
    "    :param _scn_fl:\n",
    "    :param variables:\n",
    "    :param tab_vars:\n",
    "    :param _yrs:\n",
    "    :param ref_yr:\n",
    "    :param sts:\n",
    "    :return:\n",
    "    \"\"\"\n",
    "    tabel = setup_table_prop(yrs=_yrs, _vlist=tab_vars)\n",
    "    for scn in _scn_fl:\n",
    "        for _var, tabvar in zip(variables, tab_vars):\n",
    "            # dtvar =  name_deltaT # if ERF name, changes it here.\n",
    "            tabscn = scn  # Table scenario name the same.\n",
    "            for year in _yrs:\n",
    "                _da = _ds[name_deltaT].sel(scenario=scn, variable=_var)\n",
    "                _da_refy = _da.sel(year=slice(ref_yr, ref_yr)).squeeze()  # ref year value\n",
    "                _da_y = _da.sel(year=slice(year, year))  # year value\n",
    "                _tab_da = _da_y - _da_refy\n",
    "                tabel.loc[(year, tabvar), tabscn] = float(_tab_da.sel(percentile=sts).squeeze().values)  # [0]\n",
    "\n",
    "    return tabel\n",
    "\n",
    "\n",
    "def table_of_stats_varsums(_ds, dsvar, tabvar, yrs, ref_yr, sts='median'):\n",
    "    \"\"\"\n",
    "    Sums up over dimension 'variable' and creates pandas dataframe of statistics (mean, median, standard deviation) for change\n",
    "    in temperature Delta T since year (ref year) for each scenario in scenarios. \n",
    "\n",
    "    :param tabvar:\n",
    "    :param dsvar:\n",
    "    :param _ds:\n",
    "    :param yrs:\n",
    "    :param ref_yr:\n",
    "    :param sts:\n",
    "    :return:\n",
    "    \"\"\"\n",
    "    tabel = setup_table_prop(yrs=yrs, _vlist=[tabvar])\n",
    "    da = _ds[name_deltaT].sel(variable=dsvar)\n",
    "\n",
    "    for scn in scenarios_fl:\n",
    "        tabscn = scn  # Table scenario name the same.\n",
    "        for year in yrs:\n",
    "            _da = da.sel(scenario=scn)  # , variable = dsvar)\n",
    "            _da_refy = _da.sel(year=slice(ref_yr, ref_yr)).squeeze()  # ref year value\n",
    "            _da_y = _da.sel(year=slice(year, year)).squeeze()  # year value\n",
    "            _tab_da = (_da_y - _da_refy).squeeze()\n",
    "\n",
    "            # Do statistics over RCMIP models\n",
    "            tabel.loc[(year, tabvar), tabscn] = float(_tab_da.sel(percentile=sts).squeeze().values)  # [0]\n",
    "\n",
    "    return tabel"
   ]
  },
  {
   "cell_type": "markdown",
   "metadata": {},
   "source": [
    "### Computes statistics:"
   ]
  },
  {
   "cell_type": "code",
   "execution_count": 21,
   "metadata": {},
   "outputs": [
    {
     "data": {
      "text/html": [
       "<pre>&lt;xarray.DataArray &#x27;percentile&#x27; (percentile: 3)&gt;\n",
       "array([&#x27;5th percentile&#x27;, &#x27;median&#x27;, &#x27;95th percentile&#x27;], dtype=object)\n",
       "Coordinates:\n",
       "  * percentile  (percentile) object &#x27;5th percentile&#x27; &#x27;median&#x27; &#x27;95th percentile&#x27;</pre>"
      ],
      "text/plain": [
       "<xarray.DataArray 'percentile' (percentile: 3)>\n",
       "array(['5th percentile', 'median', '95th percentile'], dtype=object)\n",
       "Coordinates:\n",
       "  * percentile  (percentile) object '5th percentile' 'median' '95th percentile'"
      ]
     },
     "execution_count": 21,
     "metadata": {},
     "output_type": "execute_result"
    }
   ],
   "source": [
    "ds_DT.percentile"
   ]
  },
  {
   "cell_type": "code",
   "execution_count": 22,
   "metadata": {},
   "outputs": [
    {
     "data": {
      "text/plain": [
       "array(['co2', 'ch4', 'n2o', 'other_wmghg', 'o3', 'h2o_stratospheric',\n",
       "       'contrails', 'aerosol-radiation_interactions',\n",
       "       'aerosol-cloud_interactions', 'bc_on_snow', 'land_use', 'volcanic',\n",
       "       'solar', 'total_anthropogenic', 'total_natural', 'total',\n",
       "       'aerosol-total', 'HFCs'], dtype=object)"
      ]
     },
     "execution_count": 22,
     "metadata": {},
     "output_type": "execute_result"
    }
   ],
   "source": [
    "ds_DT.variable.values"
   ]
  },
  {
   "cell_type": "code",
   "execution_count": 23,
   "metadata": {},
   "outputs": [],
   "source": [
    "# Statistics on Delta T anthropogenic\n",
    "# Mean\n",
    "tabel_dT_anthrop = table_of_sts(ds_DT, scenarios_fl, ['total_anthropogenic'], ['Total'], years, ref_year)\n",
    "\n",
    "# Standard deviation\n",
    "tabel_dT_anthrop_5th = table_of_sts(ds_DT, scenarios_fl, ['total_anthropogenic'], ['Total'], years, ref_year,\n",
    "                                    sts='5th percentile')\n",
    "tabel_dT_anthrop_95th = table_of_sts(ds_DT, scenarios_fl, ['total_anthropogenic'], ['Total'], years, ref_year,\n",
    "                                     sts='95th percentile')"
   ]
  },
  {
   "cell_type": "code",
   "execution_count": 24,
   "metadata": {},
   "outputs": [],
   "source": [
    "# Mean:\n",
    "tabel_dT_slcfs = table_of_sts(ds_DT, scenarios_fl, variables_erf_comp, variables_erf_comp, years,\n",
    "                              ref_year)\n",
    "# Standard deviation\n",
    "tabel_dT_slcfs_5th = table_of_sts(ds_DT, scenarios_fl, variables_erf_comp, variables_erf_comp,\n",
    "                                  years, ref_year, sts='5th percentile')\n",
    "tabel_dT_slcfs_95th = table_of_sts(ds_DT, scenarios_fl, variables_erf_comp, variables_erf_comp,\n",
    "                                   years, ref_year, sts='5th percentile')\n",
    "\n",
    "# Compute sum of SLCFs\n",
    "_ds = ds_sum.copy()\n",
    "vall = 'Delta T'\n",
    "\n"
   ]
  },
  {
   "cell_type": "code",
   "execution_count": 25,
   "metadata": {},
   "outputs": [
    {
     "data": {
      "text/html": [
       "<div>\n",
       "<style scoped>\n",
       "    .dataframe tbody tr th:only-of-type {\n",
       "        vertical-align: middle;\n",
       "    }\n",
       "\n",
       "    .dataframe tbody tr th {\n",
       "        vertical-align: top;\n",
       "    }\n",
       "\n",
       "    .dataframe thead th {\n",
       "        text-align: right;\n",
       "    }\n",
       "</style>\n",
       "<table border=\"1\" class=\"dataframe\">\n",
       "  <thead>\n",
       "    <tr style=\"text-align: right;\">\n",
       "      <th></th>\n",
       "      <th></th>\n",
       "      <th>ssp119</th>\n",
       "      <th>ssp126</th>\n",
       "      <th>ssp245</th>\n",
       "      <th>ssp370</th>\n",
       "      <th>ssp370-lowNTCF-aerchemmip</th>\n",
       "      <th>ssp370-lowNTCF-gidden</th>\n",
       "      <th>ssp585</th>\n",
       "    </tr>\n",
       "    <tr>\n",
       "      <th></th>\n",
       "      <th></th>\n",
       "      <th></th>\n",
       "      <th></th>\n",
       "      <th></th>\n",
       "      <th></th>\n",
       "      <th></th>\n",
       "      <th></th>\n",
       "      <th></th>\n",
       "    </tr>\n",
       "  </thead>\n",
       "  <tbody>\n",
       "    <tr>\n",
       "      <th>2040</th>\n",
       "      <th>Sum SLCFs</th>\n",
       "      <td>0.220717</td>\n",
       "      <td>0.209947</td>\n",
       "      <td>0.174327</td>\n",
       "      <td>0.162031</td>\n",
       "      <td>0.233518</td>\n",
       "      <td>0.105533</td>\n",
       "      <td>0.286846</td>\n",
       "    </tr>\n",
       "    <tr>\n",
       "      <th>2100</th>\n",
       "      <th>Sum SLCFs</th>\n",
       "      <td>0.187348</td>\n",
       "      <td>0.215349</td>\n",
       "      <td>0.38377</td>\n",
       "      <td>0.661562</td>\n",
       "      <td>0.909799</td>\n",
       "      <td>0.21905</td>\n",
       "      <td>0.766696</td>\n",
       "    </tr>\n",
       "  </tbody>\n",
       "</table>\n",
       "</div>"
      ],
      "text/plain": [
       "                  ssp119    ssp126    ssp245    ssp370  \\\n",
       "                                                         \n",
       "2040 Sum SLCFs  0.220717  0.209947  0.174327  0.162031   \n",
       "2100 Sum SLCFs  0.187348  0.215349   0.38377  0.661562   \n",
       "\n",
       "               ssp370-lowNTCF-aerchemmip ssp370-lowNTCF-gidden    ssp585  \n",
       "                                                                          \n",
       "2040 Sum SLCFs                  0.233518              0.105533  0.286846  \n",
       "2100 Sum SLCFs                  0.909799               0.21905  0.766696  "
      ]
     },
     "execution_count": 25,
     "metadata": {},
     "output_type": "execute_result"
    }
   ],
   "source": [
    "tabel_dT_sum_slcf = table_of_stats_varsums(ds_sum,  'Sum SLCFs', 'Sum SLCFs', years, ref_year)\n",
    "tabel_dT_sum_slcf_5 = table_of_stats_varsums(ds_sum,  'Sum SLCFs', 'Sum SLCFs', years, ref_year,\n",
    "                                             sts='5th percentile')\n",
    "tabel_dT_sum_slcf_95 = table_of_stats_varsums(ds_sum,  'Sum SLCFs', 'Sum SLCFs', years, ref_year,\n",
    "                                              sts='95th percentile')\n",
    "tabel_dT_sum_slcf"
   ]
  },
  {
   "cell_type": "code",
   "execution_count": 26,
   "metadata": {},
   "outputs": [],
   "source": [
    "rn_dic = {}\n",
    "for v in variables_all:\n",
    "    rn_dic[v] = get_var_nicename(v)"
   ]
  },
  {
   "cell_type": "code",
   "execution_count": 27,
   "metadata": {},
   "outputs": [],
   "source": [
    "tabel_dT_slcfs = tabel_dT_slcfs.rename(rn_dic)"
   ]
  },
  {
   "cell_type": "markdown",
   "metadata": {},
   "source": [
    "## colors"
   ]
  },
  {
   "cell_type": "code",
   "execution_count": 28,
   "metadata": {},
   "outputs": [
    {
     "name": "stderr",
     "output_type": "stream",
     "text": [
      "/home/sarambl/miniconda3/envs/rcmip_ch6/lib/python3.7/site-packages/pandas/core/indexing.py:1761: PerformanceWarning: indexing past lexsort depth may impact performance.\n",
      "  return self._getitem_tuple(key)\n"
     ]
    },
    {
     "data": {
      "text/plain": [
       "[(0.6784313725490196, 0.3686274509803922, 0.0),\n",
       " (0.8980392156862745, 0.8549019607843137, 0.2784313725490196),\n",
       " (0.4, 0.4, 0.37254901960784315),\n",
       " (0.21568627450980393, 0.49411764705882355, 0.7215686274509804),\n",
       " (0.9686274509803922, 0.5058823529411764, 0.7490196078431373)]"
      ]
     },
     "execution_count": 28,
     "metadata": {},
     "output_type": "execute_result"
    }
   ],
   "source": [
    "cdic = get_cmap_dic(variables_erf_comp)  # , palette='colorblind'):\n",
    "ls = [cdic[key] for key in variables_erf_comp]\n",
    "ls"
   ]
  },
  {
   "cell_type": "markdown",
   "metadata": {},
   "source": [
    "## Error bars only from model uncertainty\n",
    "The following uncertainties assume the ECS has a standard deviation of"
   ]
  },
  {
   "cell_type": "code",
   "execution_count": 29,
   "metadata": {},
   "outputs": [
    {
     "data": {
      "image/png": "[encoded data removed]",
      "text/plain": [
       "<Figure size 720x316.8 with 2 Axes>"
      ]
     },
     "metadata": {
      "needs_background": "light"
     },
     "output_type": "display_data"
    }
   ],
   "source": [
    "from ar6_ch6_rcmipfigs.constants import RESULTS_DIR\n",
    "from matplotlib.ticker import (MultipleLocator)\n",
    "\n",
    "fig, axs = plt.subplots(1, len(years), figsize=[10, 4.4], sharex=False, sharey=True)\n",
    "tits = ['Near Term surface temperature change (2040 relative to 2021)',\n",
    "        'Long Term surface T change 2100 relatie to 2021)']\n",
    "tits = ['Change in GSAT in 2040 relative to 2021', 'Change in GSAT in 2100 relative to 2021']\n",
    "for yr, ax, tit in zip(years, axs, tits):\n",
    "    ntot = 'Scenario total'\n",
    "    # Pick out year and do various renames:\n",
    "    # Total antropogenic\n",
    "    tot_yr = tabel_dT_anthrop.loc[yr].rename(\n",
    "        {'Total': ntot, 'ssp370-lowNTCF-aerchemmip': 'ssp370-lowNTCF\\n-aerchemmip'})\n",
    "    # Sum SLCFs\n",
    "    sum_yr = tabel_dT_sum_slcf.loc[yr].rename(\n",
    "        {'Total': ntot, 'ssp370-lowNTCF-aerchemmip': 'ssp370-lowNTCF\\n-aerchemmip'})\n",
    "    # Plot bars for anthropopogenic total:\n",
    "    ax.barh(tot_yr.transpose().index, tot_yr.transpose()[ntot].values, color='k', label='Scenario total', alpha=.2,\n",
    "            )\n",
    "    # Plot bars for SLCFs total:\n",
    "    ntot = 'Sum SLCFs'\n",
    "    s_x = sum_yr.transpose().index\n",
    "    s_y = sum_yr.transpose()[ntot].values\n",
    "\n",
    "    # Plot stacked plot of components:\n",
    "    _tab = tabel_dT_slcfs.loc[yr].transpose().rename({'ssp370-lowNTCF-aerchemmip': 'ssp370-lowNTCF\\n-aerchemmip'})\n",
    "\n",
    "    a = _tab.plot(kind='barh', stacked=True, ax=ax, color=ls, legend=(yr != '2040'))  # , grid=True)#stac)\n",
    "    if not yr == '2040':\n",
    "        ax.legend(frameon=False, ncol=1)  # [l],labels=['Sce!!nario total'], loc = 4)#'lower right')\n",
    "    # Zero line:\n",
    "    ax.axvline(0, linestyle='--', color='k', alpha=0.4)\n",
    "    ax.set_title(tit)\n",
    "    ax.set_xlabel('$\\Delta$ GSAT ($^\\circ$C)')\n",
    "    ax.xaxis.set_minor_locator(MultipleLocator(.1))\n",
    "    # ax.grid(axis='y', which='major')\n",
    "\n",
    "ax = axs[0]\n",
    "\n",
    "ax.spines['right'].set_visible(False)\n",
    "ax.spines['top'].set_visible(False)\n",
    "ax.spines['left'].set_visible(False)\n",
    "ax.tick_params(right=False, left=False)  # , color='w')\n",
    "\n",
    "ax = axs[1]\n",
    "ax.spines['right'].set_visible(False)\n",
    "ax.spines['top'].set_visible(False)\n",
    "ax.spines['left'].set_visible(False)\n",
    "ax.tick_params(labelleft=False, right=False, left=False, color='w')\n",
    "ax.tick_params(labelright=False, labelleft=False, right=False, left=False, color='w')\n",
    "ax.yaxis.set_visible(False)\n",
    "plt.tight_layout()\n",
    "\n",
    "fn = RESULTS_DIR / 'figures/stack_bar_influence_years.png'\n",
    "plt.tight_layout()\n",
    "ax = plt.gca()\n",
    "\n",
    "plt.savefig(fn, dpi=300)"
   ]
  },
  {
   "cell_type": "code",
   "execution_count": 53,
   "metadata": {},
   "outputs": [
    {
     "name": "stdout",
     "output_type": "stream",
     "text": [
      "['ssp119', 'ssp126', 'ssp245', 'ssp370', 'ssp585']\n"
     ]
    }
   ],
   "source": [
    "scen_no_lowNTCF = [scn for scn in scenarios_fl if 'lowNTCF' not in scn]\n",
    "print(scen_no_lowNTCF)"
   ]
  },
  {
   "cell_type": "code",
   "execution_count": 55,
   "metadata": {},
   "outputs": [],
   "source": [
    "tabel_dT_anthrop2= tabel_dT_anthrop[scen_no_lowNTCF]\n",
    "tabel_dT_slcfs2= tabel_dT_slcfs[scen_no_lowNTCF]"
   ]
  },
  {
   "cell_type": "code",
   "execution_count": 57,
   "metadata": {},
   "outputs": [
    {
     "data": {
      "image/png": "[encoded data removed]",
      "text/plain": [
       "<Figure size 720x244.8 with 2 Axes>"
      ]
     },
     "metadata": {
      "needs_background": "light"
     },
     "output_type": "display_data"
    }
   ],
   "source": [
    "from ar6_ch6_rcmipfigs.constants import RESULTS_DIR\n",
    "from matplotlib.ticker import (MultipleLocator)\n",
    "\n",
    "fig, axs = plt.subplots(1, len(years), figsize=[10, 3.4], sharex=False, sharey=True)\n",
    "tits = ['Near Term surface temperature change (2040 relative to 2021)',\n",
    "        'Long Term surface T change 2100 relatie to 2021)']\n",
    "tits = ['Change in GSAT in 2040 relative to 2021', 'Change in GSAT in 2100 relative to 2021']\n",
    "for yr, ax, tit in zip(years, axs, tits):\n",
    "    ntot = 'Scenario total'\n",
    "    # Pick out year and do various renames:\n",
    "    # Total antropogenic\n",
    "    tot_yr = tabel_dT_anthrop2.loc[yr].rename(\n",
    "        {'Total': ntot, 'ssp370-lowNTCF-aerchemmip': 'ssp370-lowNTCF\\n-aerchemmip'})\n",
    "    # Sum SLCFs\n",
    "    sum_yr = tabel_dT_sum_slcf.loc[yr].rename(\n",
    "        {'Total': ntot, 'ssp370-lowNTCF-aerchemmip': 'ssp370-lowNTCF\\n-aerchemmip'})\n",
    "    # Plot bars for anthropopogenic total:\n",
    "    ax.barh(tot_yr.transpose().index, tot_yr.transpose()[ntot].values, color='k', label='Scenario total', alpha=.2,\n",
    "            )\n",
    "    # Plot bars for SLCFs total:\n",
    "    ntot = 'Sum SLCFs'\n",
    "    s_x = sum_yr.transpose().index\n",
    "    s_y = sum_yr.transpose()[ntot].values\n",
    "\n",
    "    # Plot stacked plot of components:\n",
    "    _tab = tabel_dT_slcfs2.loc[yr].transpose().rename({'ssp370-lowNTCF-aerchemmip': 'ssp370-lowNTCF\\n-aerchemmip'})\n",
    "\n",
    "    a = _tab.plot(kind='barh', stacked=True, ax=ax, color=ls, legend=(yr != '2040'))  # , grid=True)#stac)\n",
    "    if not yr == '2040':\n",
    "        ax.legend(frameon=False, ncol=1)  # [l],labels=['Sce!!nario total'], loc = 4)#'lower right')\n",
    "    # Zero line:\n",
    "    ax.axvline(0, linestyle='--', color='k', alpha=0.4)\n",
    "    ax.set_title(tit)\n",
    "    ax.set_xlabel('$\\Delta$ GSAT ($^\\circ$C)')\n",
    "    ax.xaxis.set_minor_locator(MultipleLocator(.1))\n",
    "    # ax.grid(axis='y', which='major')\n",
    "\n",
    "ax = axs[0]\n",
    "\n",
    "ax.spines['right'].set_visible(False)\n",
    "ax.spines['top'].set_visible(False)\n",
    "ax.spines['left'].set_visible(False)\n",
    "ax.tick_params(right=False, left=False)  # , color='w')\n",
    "\n",
    "ax = axs[1]\n",
    "ax.spines['right'].set_visible(False)\n",
    "ax.spines['top'].set_visible(False)\n",
    "ax.spines['left'].set_visible(False)\n",
    "ax.tick_params(labelleft=False, right=False, left=False, color='w')\n",
    "ax.tick_params(labelright=False, labelleft=False, right=False, left=False, color='w')\n",
    "ax.yaxis.set_visible(False)\n",
    "plt.tight_layout()\n",
    "\n",
    "fn = RESULTS_DIR / 'figures/stack_bar_influence_years_no_lowNTCF.png'\n",
    "plt.tight_layout()\n",
    "ax = plt.gca()\n",
    "\n",
    "plt.savefig(fn, dpi=300)"
   ]
  },
  {
   "cell_type": "code",
   "execution_count": 30,
   "metadata": {},
   "outputs": [
    {
     "data": {
      "text/html": [
       "<div>\n",
       "<style scoped>\n",
       "    .dataframe tbody tr th:only-of-type {\n",
       "        vertical-align: middle;\n",
       "    }\n",
       "\n",
       "    .dataframe tbody tr th {\n",
       "        vertical-align: top;\n",
       "    }\n",
       "\n",
       "    .dataframe thead th {\n",
       "        text-align: right;\n",
       "    }\n",
       "</style>\n",
       "<table border=\"1\" class=\"dataframe\">\n",
       "  <thead>\n",
       "    <tr style=\"text-align: right;\">\n",
       "      <th></th>\n",
       "      <th></th>\n",
       "      <th>ssp119</th>\n",
       "      <th>ssp126</th>\n",
       "      <th>ssp245</th>\n",
       "      <th>ssp370</th>\n",
       "      <th>ssp370-lowNTCF-aerchemmip</th>\n",
       "      <th>ssp370-lowNTCF-gidden</th>\n",
       "      <th>ssp585</th>\n",
       "    </tr>\n",
       "    <tr>\n",
       "      <th></th>\n",
       "      <th></th>\n",
       "      <th></th>\n",
       "      <th></th>\n",
       "      <th></th>\n",
       "      <th></th>\n",
       "      <th></th>\n",
       "      <th></th>\n",
       "      <th></th>\n",
       "    </tr>\n",
       "  </thead>\n",
       "  <tbody>\n",
       "    <tr>\n",
       "      <th rowspan=\"5\" valign=\"top\">2040</th>\n",
       "      <th>Methane (CH$_4$)</th>\n",
       "      <td>-0.0164059</td>\n",
       "      <td>-0.00853214</td>\n",
       "      <td>0.0388736</td>\n",
       "      <td>0.064004</td>\n",
       "      <td>0.064004</td>\n",
       "      <td>-0.0152726</td>\n",
       "      <td>0.0510205</td>\n",
       "    </tr>\n",
       "    <tr>\n",
       "      <th>Aerosols</th>\n",
       "      <td>0.307376</td>\n",
       "      <td>0.25748</td>\n",
       "      <td>0.0872585</td>\n",
       "      <td>-0.00967124</td>\n",
       "      <td>0.115718</td>\n",
       "      <td>0.115718</td>\n",
       "      <td>0.158498</td>\n",
       "    </tr>\n",
       "    <tr>\n",
       "      <th>Ozone (O$_3$)</th>\n",
       "      <td>-0.0568928</td>\n",
       "      <td>-0.0384577</td>\n",
       "      <td>0.0225677</td>\n",
       "      <td>0.0652059</td>\n",
       "      <td>0.029017</td>\n",
       "      <td>-0.0197647</td>\n",
       "      <td>0.039109</td>\n",
       "    </tr>\n",
       "    <tr>\n",
       "      <th>HFCs</th>\n",
       "      <td>0.0108837</td>\n",
       "      <td>0.0197257</td>\n",
       "      <td>0.0275604</td>\n",
       "      <td>0.0254467</td>\n",
       "      <td>0.0254467</td>\n",
       "      <td>0.0255205</td>\n",
       "      <td>0.0369336</td>\n",
       "    </tr>\n",
       "    <tr>\n",
       "      <th>BC on snow</th>\n",
       "      <td>-0.0242442</td>\n",
       "      <td>-0.0202685</td>\n",
       "      <td>-0.00193313</td>\n",
       "      <td>0.017046</td>\n",
       "      <td>-0.000667837</td>\n",
       "      <td>-0.000667837</td>\n",
       "      <td>0.00128484</td>\n",
       "    </tr>\n",
       "    <tr>\n",
       "      <th rowspan=\"5\" valign=\"top\">2100</th>\n",
       "      <th>Methane (CH$_4$)</th>\n",
       "      <td>-0.176115</td>\n",
       "      <td>-0.16605</td>\n",
       "      <td>-0.0063659</td>\n",
       "      <td>0.271785</td>\n",
       "      <td>0.271785</td>\n",
       "      <td>-0.14287</td>\n",
       "      <td>0.158296</td>\n",
       "    </tr>\n",
       "    <tr>\n",
       "      <th>Aerosols</th>\n",
       "      <td>0.567242</td>\n",
       "      <td>0.575669</td>\n",
       "      <td>0.409992</td>\n",
       "      <td>0.0367205</td>\n",
       "      <td>0.411759</td>\n",
       "      <td>0.411759</td>\n",
       "      <td>0.335527</td>\n",
       "    </tr>\n",
       "    <tr>\n",
       "      <th>Ozone (O$_3$)</th>\n",
       "      <td>-0.156076</td>\n",
       "      <td>-0.152359</td>\n",
       "      <td>-0.0437196</td>\n",
       "      <td>0.239299</td>\n",
       "      <td>0.155982</td>\n",
       "      <td>-0.107453</td>\n",
       "      <td>0.0726126</td>\n",
       "    </tr>\n",
       "    <tr>\n",
       "      <th>HFCs</th>\n",
       "      <td>-0.000460781</td>\n",
       "      <td>0.00235895</td>\n",
       "      <td>0.0638183</td>\n",
       "      <td>0.102139</td>\n",
       "      <td>0.102139</td>\n",
       "      <td>0.0894802</td>\n",
       "      <td>0.231585</td>\n",
       "    </tr>\n",
       "    <tr>\n",
       "      <th>BC on snow</th>\n",
       "      <td>-0.0472427</td>\n",
       "      <td>-0.0442687</td>\n",
       "      <td>-0.039955</td>\n",
       "      <td>0.0116185</td>\n",
       "      <td>-0.0318657</td>\n",
       "      <td>-0.0318657</td>\n",
       "      <td>-0.0313247</td>\n",
       "    </tr>\n",
       "  </tbody>\n",
       "</table>\n",
       "</div>"
      ],
      "text/plain": [
       "                            ssp119      ssp126      ssp245      ssp370  \\\n",
       "                                                                         \n",
       "2040 Methane (CH$_4$)   -0.0164059 -0.00853214   0.0388736    0.064004   \n",
       "     Aerosols             0.307376     0.25748   0.0872585 -0.00967124   \n",
       "     Ozone (O$_3$)      -0.0568928  -0.0384577   0.0225677   0.0652059   \n",
       "     HFCs                0.0108837   0.0197257   0.0275604   0.0254467   \n",
       "     BC on snow         -0.0242442  -0.0202685 -0.00193313    0.017046   \n",
       "2100 Methane (CH$_4$)    -0.176115    -0.16605  -0.0063659    0.271785   \n",
       "     Aerosols             0.567242    0.575669    0.409992   0.0367205   \n",
       "     Ozone (O$_3$)       -0.156076   -0.152359  -0.0437196    0.239299   \n",
       "     HFCs             -0.000460781  0.00235895   0.0638183    0.102139   \n",
       "     BC on snow         -0.0472427  -0.0442687   -0.039955   0.0116185   \n",
       "\n",
       "                      ssp370-lowNTCF-aerchemmip ssp370-lowNTCF-gidden  \\\n",
       "                                                                        \n",
       "2040 Methane (CH$_4$)                  0.064004            -0.0152726   \n",
       "     Aerosols                          0.115718              0.115718   \n",
       "     Ozone (O$_3$)                     0.029017            -0.0197647   \n",
       "     HFCs                             0.0254467             0.0255205   \n",
       "     BC on snow                    -0.000667837          -0.000667837   \n",
       "2100 Methane (CH$_4$)                  0.271785              -0.14287   \n",
       "     Aerosols                          0.411759              0.411759   \n",
       "     Ozone (O$_3$)                     0.155982             -0.107453   \n",
       "     HFCs                              0.102139             0.0894802   \n",
       "     BC on snow                      -0.0318657            -0.0318657   \n",
       "\n",
       "                           ssp585  \n",
       "                                   \n",
       "2040 Methane (CH$_4$)   0.0510205  \n",
       "     Aerosols            0.158498  \n",
       "     Ozone (O$_3$)       0.039109  \n",
       "     HFCs               0.0369336  \n",
       "     BC on snow        0.00128484  \n",
       "2100 Methane (CH$_4$)    0.158296  \n",
       "     Aerosols            0.335527  \n",
       "     Ozone (O$_3$)      0.0726126  \n",
       "     HFCs                0.231585  \n",
       "     BC on snow        -0.0313247  "
      ]
     },
     "execution_count": 30,
     "metadata": {},
     "output_type": "execute_result"
    }
   ],
   "source": [
    "tabel_dT_slcfs"
   ]
  },
  {
   "cell_type": "markdown",
   "metadata": {},
   "source": [
    "## Error bars from model uncertainty AND ECS uncertainty"
   ]
  },
  {
   "cell_type": "markdown",
   "metadata": {},
   "source": [
    "See [Uncertainty_calculation.ipynb](Uncertainty_calculation.ipynb)"
   ]
  },
  {
   "cell_type": "markdown",
   "metadata": {},
   "source": [
    "## Only ssp370:"
   ]
  },
  {
   "cell_type": "code",
   "execution_count": 30,
   "metadata": {},
   "outputs": [],
   "source": [
    "scenario_370 = [sc for sc in scenarios_fl if 'ssp370' in sc]"
   ]
  },
  {
   "cell_type": "code",
   "execution_count": 32,
   "metadata": {},
   "outputs": [
    {
     "data": {
      "image/png": "[encoded data removed]",
      "text/plain": [
       "<Figure size 720x180 with 2 Axes>"
      ]
     },
     "metadata": {
      "needs_background": "light"
     },
     "output_type": "display_data"
    }
   ],
   "source": [
    "from ar6_ch6_rcmipfigs.constants import RESULTS_DIR\n",
    "from matplotlib.ticker import (MultipleLocator)\n",
    "import matplotlib.pyplot as plt\n",
    "\n",
    "fig, axs = plt.subplots(1, len(years), figsize=[10, 2.5], sharex=False, sharey=True)\n",
    "\n",
    "tits = ['Near Term surface temperature change (2040 relative to 2021)',\n",
    "        'Long Term surface T change 2100 relatie to 2021)']\n",
    "tits = ['Change in GSAT in 2040 relative to 2021', 'Change in GSAT in 2100 relative to 2021']\n",
    "for yr, ax, tit in zip(years, axs, tits):\n",
    "    ntot = 'Scenario total'\n",
    "    # Pick out year and do various renames:\n",
    "    # Total antropogenic\n",
    "    tot_yr = tabel_dT_anthrop.loc[yr, scenario_370].rename(\n",
    "        {'Total': ntot, 'ssp370-lowNTCF-aerchemmip': 'ssp370-lowNTCF\\n-aerchemmip'})\n",
    "    # Sum SLCFs\n",
    "    sum_yr = tabel_dT_sum_slcf.loc[yr, scenario_370].rename(\n",
    "        {'Total': ntot, 'ssp370-lowNTCF-aerchemmip': 'ssp370-lowNTCF\\n-aerchemmip'})\n",
    "    # Plot bars for anthropopogenic total:\n",
    "    ax.barh(tot_yr.transpose().index, tot_yr.transpose()[ntot].values, color='k', label='Scenario total', alpha=.2,\n",
    "            )\n",
    "    # Plot bars for SLCFs total:\n",
    "    ntot = 'Sum SLCFs'\n",
    "    s_x = sum_yr.transpose().index\n",
    "    s_y = sum_yr.transpose()[ntot].values\n",
    "\n",
    "    # Plot stacked plot of components:\n",
    "    _tab = tabel_dT_slcfs.loc[yr, scenario_370].transpose().rename(\n",
    "        {'ssp370-lowNTCF-aerchemmip': 'ssp370-lowNTCF\\n-aerchemmip'})\n",
    "\n",
    "    a = _tab.plot(kind='barh', stacked=True, ax=ax, color=ls,\n",
    "                  legend=(yr != '2040'))  # , grid=True)#stac)\n",
    "    if not yr == '2040':\n",
    "        ax.legend(frameon=True, )  # [l],labels=['Sce!!nario total'], loc = 4)#'lower right')\n",
    "    # Zero line:\n",
    "    ax.axvline(0, linestyle='--', color='k', alpha=0.4)\n",
    "    ax.set_title(tit)\n",
    "    ax.set_xlabel('$\\Delta$ GSAT ($^\\circ$C)')\n",
    "    ax.xaxis.set_minor_locator(MultipleLocator(.1))\n",
    "    # ax.grid(axis='y', which='major')\n",
    "\n",
    "ax = axs[0]\n",
    "\n",
    "ax.spines['right'].set_visible(False)\n",
    "ax.spines['top'].set_visible(False)\n",
    "ax.spines['left'].set_visible(False)\n",
    "ax.tick_params(right=False, left=False)  # , color='w')\n",
    "\n",
    "ax = axs[1]\n",
    "ax.spines['right'].set_visible(False)\n",
    "ax.spines['top'].set_visible(False)\n",
    "ax.spines['left'].set_visible(False)\n",
    "ax.tick_params(labelleft=False, right=False, left=False, color='w')\n",
    "ax.tick_params(labelright=False, labelleft=False, right=False, left=False, color='w')\n",
    "ax.yaxis.set_visible(False)\n",
    "plt.tight_layout()\n",
    "fn = RESULTS_DIR / 'figures/stack_bar_influence_years_horiz_errTot_370only.png'\n",
    "\n",
    "plt.tight_layout()\n",
    "ax = plt.gca()\n",
    "\n",
    "plt.savefig(fn, dpi=300)"
   ]
  }
 ],
 "metadata": {
  "ipub": {
   "bibliography": "IPCC_terje.bib",
   "biboptions": [
    "super",
    "sort"
   ],
   "bibstyle": "unsrtnat"
  },
  "jupytext": {
   "encoding": "# -*- coding: utf-8 -*-",
   "text_representation": {
    "extension": ".py",
    "format_name": "percent",
    "format_version": "1.3",
    "jupytext_version": "1.3.3"
   }
  },
  "kernelspec": {
   "display_name": "Python 3",
   "language": "python",
   "name": "python3"
  },
  "language_info": {
   "codemirror_mode": {
    "name": "ipython",
    "version": 3
   },
   "file_extension": ".py",
   "mimetype": "text/x-python",
   "name": "python",
   "nbconvert_exporter": "python",
   "pygments_lexer": "ipython3",
   "version": "3.7.6"
  },
  "latex_metadata": {
   "author": "Sara Blichner, T. K. Berntsen",
   "bibliography": "IPCC_terje",
   "bibstyle": "plain",
   "title": "Comparison of temperature response for various climate gases"
  },
  "pycharm": {
   "stem_cell": {
    "cell_type": "raw",
    "metadata": {
     "collapsed": false
    },
    "source": []
   }
  }
 },
 "nbformat": 4,
 "nbformat_minor": 4
}
