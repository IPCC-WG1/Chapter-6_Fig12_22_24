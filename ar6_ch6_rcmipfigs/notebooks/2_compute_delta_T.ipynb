{
 "cells": [
  {
   "cell_type": "markdown",
   "metadata": {},
   "source": [
    "# Plot temperature response over time"
   ]
  },
  {
   "cell_type": "markdown",
   "metadata": {},
   "source": [
    "## IRF:\n",
    "Using forcings from RCMIP models and the impulse response function:\n",
    "\\begin{align*}\n",
    "\\text{IRF}(t)=& 0.885\\cdot (\\frac{0.587}{4.1}\\cdot exp(\\frac{-t}{4.1}) + \\frac{0.413}{249} \\cdot exp(\\frac{-t}{249}))\\\\\n",
    "\\text{IRF}(t)= &  \\sum_{i=1}^2\\frac{\\alpha \\cdot c_i}{\\tau_i}\\cdot exp\\big(\\frac{-t}{\\tau_1}\\big) \n",
    "\\end{align*}\n",
    "with $\\alpha = 0.885$, $c_1=0.587$, $\\tau_1=4.1$, $c_2=0.413$ and $\\tau_2 = 249$."
   ]
  },
  {
   "cell_type": "markdown",
   "metadata": {
    "title": "**TERJE: hvorfor er det en alpha(??) eller noe foran her? Ser ikke det i andre framstillinger av"
   },
   "source": [
    "IRF.** Hvorfor skriver vi ikke bare $IRF(t) =  \\sum_{i=1}^2\\alpha_i\\cdot exp\\big(\\frac{-t}{\\tau_1}\\big)$ "
   ]
  },
  {
   "cell_type": "markdown",
   "metadata": {
    "title": "Thus we can estimate the mean surface temperature change from some referance year (here 0) by using"
   },
   "source": [
    "the estimated ERF$_x$ for some forcing agent $x$ as follows: "
   ]
  },
  {
   "cell_type": "markdown",
   "metadata": {},
   "source": [
    "\\begin{align*} \n",
    "\\Delta T (t) &= \\int_0^t ERF(t') IRF(t-t') dt' \\\\\n",
    "\\end{align*}"
   ]
  },
  {
   "cell_type": "markdown",
   "metadata": {},
   "source": [
    "The ERFs are taken from models in the RCMIP [https://www.rcmip.org/](https://www.rcmip.org/)"
   ]
  },
  {
   "cell_type": "markdown",
   "metadata": {},
   "source": [
    "# Data availability:"
   ]
  },
  {
   "cell_type": "markdown",
   "metadata": {},
   "source": [
    "The data is available on request from [https://gitlab.com/rcmip/rcmip](https://gitlab.com/rcmip/rcmip). \n",
    "\n",
    "Please contact: Zebedee Nicholls, email: zebedee.nicholls@climate-energy-college.org"
   ]
  },
  {
   "cell_type": "markdown",
   "metadata": {},
   "source": [
    "# Code + figures"
   ]
  },
  {
   "cell_type": "markdown",
   "metadata": {},
   "source": [
    "## Imports:"
   ]
  },
  {
   "cell_type": "code",
   "execution_count": 16,
   "metadata": {},
   "outputs": [
    {
     "name": "stdout",
     "output_type": "stream",
     "text": [
      "The autoreload extension is already loaded. To reload it, use:\n",
      "  %reload_ext autoreload\n"
     ]
    }
   ],
   "source": [
    "import xarray as xr\n",
    "from IPython.display import clear_output\n",
    "import numpy as np\n",
    "import os\n",
    "import re\n",
    "from pathlib import Path\n",
    "import pandas as pd\n",
    "import tqdm\n",
    "from scmdata import df_append, ScmDataFrame\n",
    "import matplotlib.pyplot as plt\n",
    "\n",
    "%load_ext autoreload\n",
    "%autoreload 2"
   ]
  },
  {
   "cell_type": "code",
   "execution_count": 25,
   "metadata": {},
   "outputs": [],
   "source": [
    "from ar6_ch6_rcmipfigs.constants import BASE_DIR\n",
    "from ar6_ch6_rcmipfigs.constants import OUTPUT_DATA_DIR, INPUT_DATA_DIR\n",
    "\n",
    "PATH_DATASET = OUTPUT_DATA_DIR + '/forcing_data_rcmip_models.nc'\n",
    "PATH_DT_OUTPUT = OUTPUT_DATA_DIR + '/dT_data_rcmip_models.nc'"
   ]
  },
  {
   "cell_type": "markdown",
   "metadata": {},
   "source": [
    "## IRF:"
   ]
  },
  {
   "cell_type": "code",
   "execution_count": 18,
   "metadata": {},
   "outputs": [],
   "source": [
    "\n",
    "def IRF(t, l=0.885, alpha1=0.587 / 4.1, alpha2=0.413 / 249, tau1=4.1, tau2=249):\n",
    "    \"\"\"\n",
    "    Returns the IRF function for:\n",
    "    :param t: Time in years\n",
    "    :param l: climate sensitivity factor\n",
    "    :param alpha1:\n",
    "    :param alpha2:\n",
    "    :param tau1:\n",
    "    :param tau2:\n",
    "    :return:\n",
    "    IRF\n",
    "    \"\"\"\n",
    "    return l * (alpha1 * np.exp(-t / tau1) + alpha2 * np.exp(-t / tau2))"
   ]
  },
  {
   "cell_type": "code",
   "execution_count": 19,
   "metadata": {},
   "outputs": [],
   "source": [
    "\n",
    "climatemodel = 'climatemodel'\n",
    "scenario = 'scenario'\n",
    "variable = 'variable'\n",
    "time = 'time'"
   ]
  },
  {
   "cell_type": "markdown",
   "metadata": {},
   "source": [
    "## ERF:\n",
    "Read ERF from file"
   ]
  },
  {
   "cell_type": "markdown",
   "metadata": {},
   "source": [
    "### Define variables to look at:"
   ]
  },
  {
   "cell_type": "code",
   "execution_count": 20,
   "metadata": {},
   "outputs": [],
   "source": [
    "# variables to plot:\n",
    "variables_erf_comp = [\n",
    "    'Effective Radiative Forcing|Anthropogenic|CH4',\n",
    "    'Effective Radiative Forcing|Anthropogenic|Aerosols',\n",
    "    'Effective Radiative Forcing|Anthropogenic|Tropospheric Ozone',\n",
    "    'Effective Radiative Forcing|Anthropogenic|F-Gases|HFC',\n",
    "    'Effective Radiative Forcing|Anthropogenic|Other|BC on Snow']\n",
    "# total ERFs for anthropogenic and total:\n",
    "variables_erf_tot = ['Effective Radiative Forcing|Anthropogenic',\n",
    "                     'Effective Radiative Forcing']\n",
    "# Scenarios to plot:\n",
    "scenarios_fl = ['ssp119', 'ssp126', 'ssp245', 'ssp370', 'ssp370-lowNTCF-aerchemmip',  # 'ssp370-lowNTCF', Due to mistake here\n",
    "                'ssp585', 'historical']"
   ]
  },
  {
   "cell_type": "markdown",
   "metadata": {},
   "source": [
    "## Open dataset:"
   ]
  },
  {
   "cell_type": "code",
   "execution_count": 21,
   "metadata": {},
   "outputs": [],
   "source": [
    "ds = xr.open_dataset(PATH_DATASET)"
   ]
  },
  {
   "cell_type": "markdown",
   "metadata": {},
   "source": [
    "# Integrate:\n",
    "The code below integrates the read in ERFs with the pre defined impulse response function (IRF)."
   ]
  },
  {
   "cell_type": "markdown",
   "metadata": {},
   "source": [
    "\\begin{align*} \n",
    "\\Delta T (t) &= \\int_0^t ERF(t') IRF(t-t') dt' \\\\\n",
    "\\end{align*}"
   ]
  },
  {
   "cell_type": "code",
   "execution_count": 22,
   "metadata": {},
   "outputs": [],
   "source": [
    "name_deltaT = 'Delta T'\n",
    "\n",
    "\n",
    "def new_varname(var, nname):\n",
    "    \"\"\"\n",
    "    var:str\n",
    "        Old variable of format varname|bla|bla\n",
    "    nname:str\n",
    "        name for the resulting variable, based on var\n",
    "    Returns\n",
    "    -------\n",
    "    new variable name with nname|bla|bla\n",
    "    \"\"\"\n",
    "    return nname + '|' + '|'.join(var.split('|')[1:])\n",
    "\n",
    "\n",
    "def integrate_(i, var, nvar, ds, ds_DT, csfac=0.885):\n",
    "    \"\"\"\n",
    "    \n",
    "    Parameters\n",
    "    ----------\n",
    "    i:int\n",
    "        the index for the integral\n",
    "    var:str\n",
    "        the name of the EFR variables to integrate\n",
    "    nvar:str\n",
    "        the name of output integrated value\n",
    "\n",
    "    ds:xr.Dataset\n",
    "        the ds with the intput data\n",
    "    ds_DT: xr.Dataset\n",
    "        the ouptut ds with the integrated results\n",
    "    csfac: climate sensitivity factor (for IRF)\n",
    "    Returns\n",
    "    -------\n",
    "    None\n",
    "    \n",
    "    \"\"\"\n",
    "    # lets create a ds that goes from 0 to i inclusive\n",
    "    ds_short = ds[{'time': slice(0, i + 1)}].copy()\n",
    "    # lets get the current year\n",
    "    current_year = ds_short['time'][{'time': i}].dt.year\n",
    "    # lets get a list of years\n",
    "    years = ds_short['time'].dt.year\n",
    "    # lets get the year delta until current year(i)\n",
    "    ds_short['end_year_delta'] = current_year - years\n",
    "\n",
    "    # lets get the irf values from 0 until i\n",
    "    ds_short['irf'] = IRF(\n",
    "        ds_short['end_year_delta'] * ds_short['delta_t'], l=csfac\n",
    "    )\n",
    "\n",
    "    # lets do the famous integral\n",
    "    ds_short['to_integrate'] = \\\n",
    "        ds_short[var] * \\\n",
    "        ds_short['irf'] * \\\n",
    "        ds_short['delta_t']\n",
    "\n",
    "    # lets sum all the values up until i and set\n",
    "    # this value at ds_DT\n",
    "    # If whole array is null, set value to nan\n",
    "    if np.all(ds_short['to_integrate'].isnull()):  # or last_null:\n",
    "        _val = np.nan\n",
    "    else:\n",
    "        # \n",
    "\n",
    "        _ds_int = ds_short['to_integrate'].sum(['time'])\n",
    "        # mask where last value is null (in order to not get intgral \n",
    "        _ds_m1 = ds_short['to_integrate'].isel(time=-1)\n",
    "        # where no forcing data)\n",
    "        _val = _ds_int.where(_ds_m1.notnull())\n",
    "    # set value in dataframe:\n",
    "    ds_DT[nvar][{'time': i}] = _val\n",
    "\n",
    "\n",
    "def integrate_to_dT(ds, from_t, to_t, variables, csfac=0.885):\n",
    "    \"\"\"\n",
    "    Integrate forcing to temperature change.\n",
    "\n",
    "    :param ds: dataset containing the focings\n",
    "    :param from_t: start time\n",
    "    :param to_t: end time\n",
    "    :param variables: variables to integrate\n",
    "    :param csfac: climate sensitivity factor\n",
    "    :return:\n",
    "    \"\"\"\n",
    "    # slice dataset\n",
    "    ds_sl = ds.sel(time=slice(from_t, to_t))\n",
    "    len_time = len(ds_sl['time'])\n",
    "    # lets create a result DS\n",
    "    ds_DT = ds_sl.copy()\n",
    "\n",
    "    # lets define the vars of the ds\n",
    "    vars = variables  # variables_erf_comp+ variables_erf_tot #['EFR']\n",
    "    for var in variables:\n",
    "        namevar = new_varname(var, name_deltaT)\n",
    "        # set all values to zero for results dataarray:\n",
    "        ds_DT[namevar] = ds_DT[var] * 0\n",
    "        # Units Kelvin:\n",
    "        ds_DT[namevar].attrs['unit'] = 'K'\n",
    "        if 'unit' in ds_DT[namevar].coords:\n",
    "            ds_DT[namevar].coords['unit'] = 'K'\n",
    "\n",
    "    for i in range(len_time):\n",
    "        # da = ds[var]\n",
    "        if (i % 20) == 0:\n",
    "            print('%s of %s done' % (i, len_time))\n",
    "        for var in variables:\n",
    "            namevar = new_varname(var, name_deltaT)  # 'Delta T|' + '|'.join(var.split('|')[1:])\n",
    "\n",
    "            # print(var)\n",
    "            integrate_(i, var, namevar, ds_sl, ds_DT, csfac=csfac)\n",
    "    clear_output()\n",
    "\n",
    "    fname = 'DT_%s-%s.nc' % (from_t, to_t)\n",
    "    # save dataset.\n",
    "    ds_DT.to_netcdf(fname)\n",
    "    #for var in variables:\n",
    "    #    ds_DT[var].plot(alpha=0.3)\n",
    "    # plt.show()\n",
    "    #plt.show()\n",
    "    return ds_DT\n",
    "\n",
    "\n",
    "csfs = [0.884, 0.526, 1.136]\n",
    "csf = 0.884  # csfs[0]\n",
    "# dic_ds = {}\n",
    "# for csf in csfs:\n",
    "_vars = variables_erf_comp + variables_erf_tot\n",
    "ds_DT = integrate_to_dT(ds, '1850', '2100', _vars, csfac=csf)\n",
    "# list of computed delta T variables:\n",
    "variables_dt_comp = [new_varname(var, name_deltaT) for var in variables_erf_comp]"
   ]
  },
  {
   "cell_type": "code",
   "execution_count": 27,
   "metadata": {},
   "outputs": [
    {
     "data": {
      "text/html": [
       "<pre>&lt;xarray.Dataset&gt;\n",
       "Dimensions:                                                       (climatemodel: 5, scenario: 7, time: 251)\n",
       "Coordinates:\n",
       "  * time                                                          (time) datetime64[ns] 1850-01-01 ... 2100-01-01\n",
       "    model                                                         object ...\n",
       "  * scenario                                                      (scenario) object &#x27;historical&#x27; ... &#x27;ssp585&#x27;\n",
       "    region                                                        object ...\n",
       "    unit                                                          object ...\n",
       "  * climatemodel                                                  (climatemodel) object &#x27;Cicero-SCM&#x27; ... &#x27;OSCARv3.0&#x27;\n",
       "    unit_context                                                  object ...\n",
       "Data variables:\n",
       "    Effective Radiative Forcing                                   (scenario, climatemodel, time) float64 0.1519 ... 8.846\n",
       "    Effective Radiative Forcing|Anthropogenic                     (scenario, climatemodel, time) float64 0.1465 ... 8.808\n",
       "    Effective Radiative Forcing|Anthropogenic|Other|BC on Snow    (scenario, climatemodel, time) float64 nan ... 0.143\n",
       "    Effective Radiative Forcing|Anthropogenic|F-Gases|HFC         (scenario, climatemodel, time) float64 2.505e-08 ... 0.4356\n",
       "    Effective Radiative Forcing|Anthropogenic|Tropospheric Ozone  (scenario, climatemodel, time) float64 0.0222 ... 0.5016\n",
       "    Effective Radiative Forcing|Anthropogenic|Aerosols            (scenario, climatemodel, time) float64 -0.03511 ... -1.069\n",
       "    Effective Radiative Forcing|Anthropogenic|CH4                 (scenario, climatemodel, time) float64 0.05507 ... 0.7203\n",
       "    year                                                          (time) int64 ...\n",
       "    month                                                         (time) int64 ...\n",
       "    day                                                           (time) int64 ...\n",
       "    delta_t                                                       (time) float64 ...\n",
       "    Delta T|Anthropogenic|CH4                                     (scenario, climatemodel, time) float64 0.007051 ... 0.5399\n",
       "    Delta T|Anthropogenic|Aerosols                                (scenario, climatemodel, time) float64 -0.004495 ... -0.8081\n",
       "    Delta T|Anthropogenic|Tropospheric Ozone                      (scenario, climatemodel, time) float64 0.002843 ... 0.3977\n",
       "    Delta T|Anthropogenic|F-Gases|HFC                             (scenario, climatemodel, time) float64 3.207e-09 ... 0.2765\n",
       "    Delta T|Anthropogenic|Other|BC on Snow                        (scenario, climatemodel, time) float64 nan ... 0.1044\n",
       "    Delta T|Anthropogenic                                         (scenario, climatemodel, time) float64 0.01875 ... 5.735\n",
       "    Delta T|                                                      (scenario, climatemodel, time) float64 0.01944 ... 5.745</pre>"
      ],
      "text/plain": [
       "<xarray.Dataset>\n",
       "Dimensions:                                                       (climatemodel: 5, scenario: 7, time: 251)\n",
       "Coordinates:\n",
       "  * time                                                          (time) datetime64[ns] 1850-01-01 ... 2100-01-01\n",
       "    model                                                         object ...\n",
       "  * scenario                                                      (scenario) object 'historical' ... 'ssp585'\n",
       "    region                                                        object ...\n",
       "    unit                                                          object ...\n",
       "  * climatemodel                                                  (climatemodel) object 'Cicero-SCM' ... 'OSCARv3.0'\n",
       "    unit_context                                                  object ...\n",
       "Data variables:\n",
       "    Effective Radiative Forcing                                   (scenario, climatemodel, time) float64 0.1519 ... 8.846\n",
       "    Effective Radiative Forcing|Anthropogenic                     (scenario, climatemodel, time) float64 0.1465 ... 8.808\n",
       "    Effective Radiative Forcing|Anthropogenic|Other|BC on Snow    (scenario, climatemodel, time) float64 nan ... 0.143\n",
       "    Effective Radiative Forcing|Anthropogenic|F-Gases|HFC         (scenario, climatemodel, time) float64 2.505e-08 ... 0.4356\n",
       "    Effective Radiative Forcing|Anthropogenic|Tropospheric Ozone  (scenario, climatemodel, time) float64 0.0222 ... 0.5016\n",
       "    Effective Radiative Forcing|Anthropogenic|Aerosols            (scenario, climatemodel, time) float64 -0.03511 ... -1.069\n",
       "    Effective Radiative Forcing|Anthropogenic|CH4                 (scenario, climatemodel, time) float64 0.05507 ... 0.7203\n",
       "    year                                                          (time) int64 ...\n",
       "    month                                                         (time) int64 ...\n",
       "    day                                                           (time) int64 ...\n",
       "    delta_t                                                       (time) float64 ...\n",
       "    Delta T|Anthropogenic|CH4                                     (scenario, climatemodel, time) float64 0.007051 ... 0.5399\n",
       "    Delta T|Anthropogenic|Aerosols                                (scenario, climatemodel, time) float64 -0.004495 ... -0.8081\n",
       "    Delta T|Anthropogenic|Tropospheric Ozone                      (scenario, climatemodel, time) float64 0.002843 ... 0.3977\n",
       "    Delta T|Anthropogenic|F-Gases|HFC                             (scenario, climatemodel, time) float64 3.207e-09 ... 0.2765\n",
       "    Delta T|Anthropogenic|Other|BC on Snow                        (scenario, climatemodel, time) float64 nan ... 0.1044\n",
       "    Delta T|Anthropogenic                                         (scenario, climatemodel, time) float64 0.01875 ... 5.735\n",
       "    Delta T|                                                      (scenario, climatemodel, time) float64 0.01944 ... 5.745"
      ]
     },
     "execution_count": 27,
     "metadata": {},
     "output_type": "execute_result"
    }
   ],
   "source": [
    "ds_DT"
   ]
  },
  {
   "cell_type": "code",
   "execution_count": 26,
   "metadata": {},
   "outputs": [],
   "source": [
    "ds_DT.to_netcdf(PATH_DT_OUTPUT)"
   ]
  }
 ],
 "metadata": {
  "ipub": {
   "bibliography": "IPCC_terje.bib",
   "biboptions": [
    "super",
    "sort"
   ],
   "bibstyle": "unsrtnat"
  },
  "jupytext": {
   "encoding": "# -*- coding: utf-8 -*-",
   "text_representation": {
    "extension": ".py",
    "format_name": "percent",
    "format_version": "1.3",
    "jupytext_version": "1.3.3"
   }
  },
  "kernelspec": {
   "display_name": "Python 3",
   "language": "python",
   "name": "python3"
  },
  "language_info": {
   "codemirror_mode": {
    "name": "ipython",
    "version": 3
   },
   "file_extension": ".py",
   "mimetype": "text/x-python",
   "name": "python",
   "nbconvert_exporter": "python",
   "pygments_lexer": "ipython3",
   "version": "3.7.6"
  },
  "latex_metadata": {
   "author": "Sara Blichner, T. K. Berntsen",
   "bibliography": "IPCC_terje",
   "bibstyle": "plain",
   "title": "Comparison of temperature response for various climate gases"
  },
  "pycharm": {
   "stem_cell": {
    "cell_type": "raw",
    "metadata": {
     "collapsed": false
    },
    "source": []
   }
  }
 },
 "nbformat": 4,
 "nbformat_minor": 4
}
