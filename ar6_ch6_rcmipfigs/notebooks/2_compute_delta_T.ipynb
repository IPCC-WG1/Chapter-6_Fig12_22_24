{
 "cells": [
  {
   "cell_type": "markdown",
   "metadata": {},
   "source": [
    "# Compute change in temperature since 1850 ($\\Delta$ T) from RCMIP Effective radiative forcings (ERFs)"
   ]
  },
  {
   "cell_type": "markdown",
   "metadata": {},
   "source": [
    "## General about computing $\\Delta T$: "
   ]
  },
  {
   "cell_type": "markdown",
   "metadata": {},
   "source": [
    "We compute the change in GSAT temperature ($\\Delta T$) from the effective radiative forcing (ERF) estimated from the RCMIP models (Nicholls et al 2020), by integrating with the impulse response function (IRF(t-t')) (Geoffroy at al 2013). See Nicholls et al (2020) for description of the RCMIP models and output. \n",
    "\n",
    "For any forcing agent $x$, with estimated ERF$_x$, the change in temperature $\\Delta T$ is calculated as:\n"
   ]
  },
  {
   "cell_type": "markdown",
   "metadata": {},
   "source": [
    "\\begin{align*} \n",
    "\\Delta T_x (t) &= \\int_0^t ERF_x(t') IRF(t-t') dt' \\\\\n",
    "\\end{align*}"
   ]
  },
  {
   "cell_type": "markdown",
   "metadata": {},
   "source": [
    "### The Impulse response function (IRF):\n",
    "In these calculations we use the impulse response function (Geoffroy et al 2013):\n",
    "\\begin{align*}\n",
    "\\text{IRF}(t)=& 0.885\\cdot (\\frac{0.587}{4.1}\\cdot exp(\\frac{-t}{4.1}) + \\frac{0.413}{249} \\cdot exp(\\frac{-t}{249}))\\\\\n",
    "\\text{IRF}(t)= &  \\frac{1}{\\lambda}\\sum_{i=1}^2\\frac{a_i}{\\tau_i}\\cdot exp\\big(\\frac{-t}{\\tau_i}\\big) \n",
    "\\end{align*}\n",
    "with $\\frac{1}{\\lambda} = 0.885$ (K/Wm$^{-2}$), $a_1=0.587$, $\\tau_1=4.1$(yr), $a_2=0.413$ and $\\tau_2 = 249$(yr) (note that $i=1$ is the fast response and $i=2$ is the slow response and that $a_1+a_2=1$)\n"
   ]
  },
  {
   "cell_type": "markdown",
   "metadata": {},
   "source": [
    "## Input data:\n",
    "See [README.md](../../README.md)"
   ]
  },
  {
   "cell_type": "markdown",
   "metadata": {},
   "source": [
    "## Set values:"
   ]
  },
  {
   "cell_type": "markdown",
   "metadata": {},
   "source": [
    "ECS parameter:"
   ]
  },
  {
   "cell_type": "code",
   "execution_count": 6,
   "metadata": {},
   "outputs": [],
   "source": [
    "csf = 0.884"
   ]
  },
  {
   "cell_type": "markdown",
   "metadata": {},
   "source": [
    "Year to integrate from (i.e. reference for $\\Delta T$) and to:"
   ]
  },
  {
   "cell_type": "code",
   "execution_count": 6,
   "metadata": {},
   "outputs": [],
   "source": [
    "first_y ='1850'\n",
    "last_y = '2100'"
   ]
  },
  {
   "cell_type": "markdown",
   "metadata": {},
   "source": [
    "## Code + figures"
   ]
  },
  {
   "cell_type": "markdown",
   "metadata": {},
   "source": [
    "### Imports:"
   ]
  },
  {
   "cell_type": "code",
   "execution_count": 3,
   "metadata": {},
   "outputs": [
    {
     "data": {
      "application/javascript": [
       "IPython.OutputArea.prototype._should_scroll = function(lines) { return false; }"
      ],
      "text/plain": [
       "<IPython.core.display.Javascript object>"
      ]
     },
     "metadata": {},
     "output_type": "display_data"
    },
    {
     "name": "stderr",
     "output_type": "stream",
     "text": [
      "pyam - INFO: Running in a notebook, setting `pyam` logging level to `logging.INFO` and adding stderr handler\n"
     ]
    }
   ],
   "source": [
    "import xarray as xr\n",
    "from IPython.display import clear_output\n",
    "import numpy as np\n",
    "import os\n",
    "import re\n",
    "from pathlib import Path\n",
    "import pandas as pd\n",
    "import tqdm\n",
    "from scmdata import df_append, ScmDataFrame\n",
    "import matplotlib.pyplot as plt\n",
    "\n",
    "%load_ext autoreload\n",
    "%autoreload 2"
   ]
  },
  {
   "cell_type": "code",
   "execution_count": 4,
   "metadata": {},
   "outputs": [
    {
     "name": "stdout",
     "output_type": "stream",
     "text": [
      "/home/sarambl/PHD/IPCC/public/AR6_CH6_RCMIPFIGS/ar6_ch6_rcmipfigs\n",
      "/home/sarambl/PHD/IPCC/public/AR6_CH6_RCMIPFIGS/ar6_ch6_rcmipfigs/data_in\n"
     ]
    }
   ],
   "source": [
    "from ar6_ch6_rcmipfigs.constants import BASE_DIR\n",
    "from ar6_ch6_rcmipfigs.constants import OUTPUT_DATA_DIR, INPUT_DATA_DIR\n",
    "\n",
    "PATH_DATASET = OUTPUT_DATA_DIR + '/forcing_data_rcmip_models.nc'\n",
    "PATH_DT_OUTPUT = OUTPUT_DATA_DIR + '/dT_data_rcmip_models.nc'"
   ]
  },
  {
   "cell_type": "code",
   "execution_count": 5,
   "metadata": {},
   "outputs": [],
   "source": [
    "\n",
    "climatemodel = 'climatemodel'\n",
    "scenario = 'scenario'\n",
    "variable = 'variable'\n",
    "time = 'time'"
   ]
  },
  {
   "cell_type": "markdown",
   "metadata": {},
   "source": [
    "### IRF:"
   ]
  },
  {
   "cell_type": "code",
   "execution_count": 7,
   "metadata": {},
   "outputs": [],
   "source": [
    "\n",
    "def IRF(t, l=0.885, alpha1=0.587 / 4.1, alpha2=0.413 / 249, tau1=4.1, tau2=249):\n",
    "    \"\"\"\n",
    "    Returns the IRF function for:\n",
    "    :param t: Time in years\n",
    "    :param l: climate sensitivity factor\n",
    "    :param alpha1:\n",
    "    :param alpha2:\n",
    "    :param tau1:\n",
    "    :param tau2:\n",
    "    :return:\n",
    "    IRF\n",
    "    \"\"\"\n",
    "    return l * (alpha1 * np.exp(-t / tau1) + alpha2 * np.exp(-t / tau2))"
   ]
  },
  {
   "cell_type": "markdown",
   "metadata": {},
   "source": [
    "### ERF:\n",
    "Read ERF from file"
   ]
  },
  {
   "cell_type": "markdown",
   "metadata": {},
   "source": [
    "#### Define variables to look at:"
   ]
  },
  {
   "cell_type": "code",
   "execution_count": 8,
   "metadata": {},
   "outputs": [],
   "source": [
    "# variables to plot:\n",
    "variables_erf_comp = [\n",
    "    'Effective Radiative Forcing|Anthropogenic|CH4',\n",
    "    'Effective Radiative Forcing|Anthropogenic|Aerosols',\n",
    "    'Effective Radiative Forcing|Anthropogenic|Tropospheric Ozone',\n",
    "    'Effective Radiative Forcing|Anthropogenic|F-Gases|HFC',\n",
    "    'Effective Radiative Forcing|Anthropogenic|Other|BC on Snow']\n",
    "# total ERFs for anthropogenic and total:\n",
    "variables_erf_tot = ['Effective Radiative Forcing|Anthropogenic',\n",
    "                     'Effective Radiative Forcing']\n",
    "# Scenarios to plot:\n",
    "scenarios_fl = ['ssp119', 'ssp126', 'ssp245', 'ssp370', 'ssp370-lowNTCF-aerchemmip',  \n",
    "                'ssp370-lowNTCF-gidden',\n",
    "                # 'ssp370-lowNTCF', Due to mistake here\n",
    "                'ssp585', 'historical']"
   ]
  },
  {
   "cell_type": "markdown",
   "metadata": {},
   "source": [
    "#### Open dataset:"
   ]
  },
  {
   "cell_type": "code",
   "execution_count": 9,
   "metadata": {},
   "outputs": [],
   "source": [
    "ds = xr.open_dataset(PATH_DATASET)"
   ]
  },
  {
   "cell_type": "markdown",
   "metadata": {},
   "source": [
    "## Integrate:\n",
    "The code below integrates the read in ERFs with the pre defined impulse response function (IRF)."
   ]
  },
  {
   "cell_type": "markdown",
   "metadata": {},
   "source": [
    "\\begin{align*} \n",
    "\\Delta T (t) &= \\int_0^t ERF(t') IRF(t-t') dt' \\\\\n",
    "\\end{align*}"
   ]
  },
  {
   "cell_type": "code",
   "execution_count": 15,
   "metadata": {},
   "outputs": [],
   "source": [
    "from ar6_ch6_rcmipfigs.utils.misc_func import new_varname"
   ]
  },
  {
   "cell_type": "code",
   "execution_count": 16,
   "metadata": {},
   "outputs": [],
   "source": [
    "# Name of equivalent delta T to ERF\n",
    "name_deltaT = 'Delta T'\n",
    "\n",
    "\n",
    "def integrate_(i, var, nvar, ds, ds_DT, csfac=0.885):\n",
    "    \"\"\"\n",
    "    \n",
    "    Parameters\n",
    "    ----------\n",
    "    i:int\n",
    "        the index for the integral\n",
    "    var:str\n",
    "        the name of the EFR variables to integrate\n",
    "    nvar:str\n",
    "        the name of output integrated value\n",
    "\n",
    "    ds:xr.Dataset\n",
    "        the ds with the intput data\n",
    "    ds_DT: xr.Dataset\n",
    "        the ouptut ds with the integrated results\n",
    "    csfac: climate sensitivity factor (for IRF)\n",
    "    Returns\n",
    "    -------\n",
    "    None\n",
    "    \n",
    "    \"\"\"\n",
    "    # lets create a ds that goes from 0 to i inclusive\n",
    "    ds_short = ds[{'time': slice(0, i + 1)}].copy()\n",
    "    # lets get the current year\n",
    "    current_year = ds_short['time'][{'time': i}].dt.year\n",
    "    # lets get a list of years\n",
    "    years = ds_short['time'].dt.year\n",
    "    # lets get the year delta until current year(i)\n",
    "    ds_short['end_year_delta'] = current_year - years\n",
    "\n",
    "    # lets get the irf values from 0 until i\n",
    "    ds_short['irf'] = IRF(\n",
    "        ds_short['end_year_delta'] * ds_short['delta_t'], l=csfac\n",
    "    )\n",
    "\n",
    "    # lets do the famous integral\n",
    "    ds_short['to_integrate'] = \\\n",
    "        ds_short[var] * \\\n",
    "        ds_short['irf'] * \\\n",
    "        ds_short['delta_t']\n",
    "\n",
    "    # lets sum all the values up until i and set\n",
    "    # this value at ds_DT\n",
    "    # If whole array is null, set value to nan\n",
    "    if np.all(ds_short['to_integrate'].isnull()):  # or last_null:\n",
    "        _val = np.nan\n",
    "    else:\n",
    "        # \n",
    "\n",
    "        _ds_int = ds_short['to_integrate'].sum(['time'])\n",
    "        # mask where last value is null (in order to not get intgral \n",
    "        _ds_m1 = ds_short['to_integrate'].isel(time=-1)\n",
    "        # where no forcing data)\n",
    "        _val = _ds_int.where(_ds_m1.notnull())\n",
    "    # set value in dataframe:\n",
    "    ds_DT[nvar][{'time': i}] = _val\n",
    "\n",
    "\n",
    "def integrate_to_dT(ds, from_t, to_t, variables, csfac=0.885):\n",
    "    \"\"\"\n",
    "    Integrate forcing to temperature change.\n",
    "\n",
    "    :param ds: dataset containing the focings\n",
    "    :param from_t: start time\n",
    "    :param to_t: end time\n",
    "    :param variables: variables to integrate\n",
    "    :param csfac: climate sensitivity factor\n",
    "    :return:\n",
    "    \"\"\"\n",
    "    # slice dataset\n",
    "    ds_sl = ds.sel(time=slice(from_t, to_t))\n",
    "    len_time = len(ds_sl['time'])\n",
    "    # lets create a result DS\n",
    "    ds_DT = ds_sl.copy()\n",
    "\n",
    "    # lets define the vars of the ds\n",
    "    vars = variables  # variables_erf_comp+ variables_erf_tot #['EFR']\n",
    "    for var in variables:\n",
    "        namevar = new_varname(var, name_deltaT)\n",
    "        # set all values to zero for results dataarray:\n",
    "        ds_DT[namevar] = ds_DT[var] * 0\n",
    "        # Units Kelvin:\n",
    "        ds_DT[namevar].attrs['unit'] = 'K'\n",
    "        if 'unit' in ds_DT[namevar].coords:\n",
    "            ds_DT[namevar].coords['unit'] = 'K'\n",
    "\n",
    "    for i in range(len_time):\n",
    "        # da = ds[var]\n",
    "        if (i % 20) == 0:\n",
    "            print('%s of %s done' % (i, len_time))\n",
    "        for var in variables:\n",
    "            namevar = new_varname(var, name_deltaT)  # 'Delta T|' + '|'.join(var.split('|')[1:])\n",
    "\n",
    "            # print(var)\n",
    "            integrate_(i, var, namevar, ds_sl, ds_DT, csfac=csfac)\n",
    "    clear_output()\n",
    "\n",
    "    fname = 'DT_%s-%s.nc' % (from_t, to_t)\n",
    "    # save dataset.\n",
    "    ds_DT.to_netcdf(fname)\n",
    "    return ds_DT"
   ]
  },
  {
   "cell_type": "code",
   "execution_count": 12,
   "metadata": {},
   "outputs": [],
   "source": [
    "_vars = variables_erf_comp + variables_erf_tot\n",
    "ds_DT = integrate_to_dT(ds, first_y, last_y, _vars, csfac=csf)\n",
    "# list of computed delta T variables:\n",
    "variables_dt_comp = [new_varname(var, name_deltaT) for var in variables_erf_comp]"
   ]
  },
  {
   "cell_type": "code",
   "execution_count": 13,
   "metadata": {},
   "outputs": [
    {
     "data": {
      "text/html": [
       "<pre>&lt;xarray.Dataset&gt;\n",
       "Dimensions:                                                       (climatemodel: 5, scenario: 8, time: 251)\n",
       "Coordinates:\n",
       "  * time                                                          (time) datetime64[ns] 1850-01-01 ... 2100-01-01\n",
       "    model                                                         object ...\n",
       "  * scenario                                                      (scenario) object &#x27;historical&#x27; ... &#x27;ssp585&#x27;\n",
       "    region                                                        object ...\n",
       "    unit                                                          object ...\n",
       "  * climatemodel                                                  (climatemodel) object &#x27;Cicero-SCM&#x27; ... &#x27;OSCARv3.0&#x27;\n",
       "    unit_context                                                  object ...\n",
       "Data variables:\n",
       "    Effective Radiative Forcing                                   (scenario, climatemodel, time) float64 0.1519 ... 8.846\n",
       "    Effective Radiative Forcing|Anthropogenic                     (scenario, climatemodel, time) float64 0.1465 ... 8.808\n",
       "    Effective Radiative Forcing|Anthropogenic|Other|BC on Snow    (scenario, climatemodel, time) float64 nan ... 0.143\n",
       "    Effective Radiative Forcing|Anthropogenic|F-Gases|HFC         (scenario, climatemodel, time) float64 2.505e-08 ... 0.4356\n",
       "    Effective Radiative Forcing|Anthropogenic|Tropospheric Ozone  (scenario, climatemodel, time) float64 0.0222 ... 0.5016\n",
       "    Effective Radiative Forcing|Anthropogenic|Aerosols            (scenario, climatemodel, time) float64 -0.03511 ... -1.069\n",
       "    Effective Radiative Forcing|Anthropogenic|CH4                 (scenario, climatemodel, time) float64 0.05507 ... 0.7203\n",
       "    year                                                          (time) int64 ...\n",
       "    month                                                         (time) int64 ...\n",
       "    day                                                           (time) int64 ...\n",
       "    delta_t                                                       (time) float64 ...\n",
       "    Delta T|Anthropogenic|CH4                                     (scenario, climatemodel, time) float64 0.007051 ... 0.5399\n",
       "    Delta T|Anthropogenic|Aerosols                                (scenario, climatemodel, time) float64 -0.004495 ... -0.8081\n",
       "    Delta T|Anthropogenic|Tropospheric Ozone                      (scenario, climatemodel, time) float64 0.002843 ... 0.3977\n",
       "    Delta T|Anthropogenic|F-Gases|HFC                             (scenario, climatemodel, time) float64 3.207e-09 ... 0.2765\n",
       "    Delta T|Anthropogenic|Other|BC on Snow                        (scenario, climatemodel, time) float64 nan ... 0.1044\n",
       "    Delta T|Anthropogenic                                         (scenario, climatemodel, time) float64 0.01875 ... 5.735\n",
       "    Delta T|                                                      (scenario, climatemodel, time) float64 0.01944 ... 5.745</pre>"
      ],
      "text/plain": [
       "<xarray.Dataset>\n",
       "Dimensions:                                                       (climatemodel: 5, scenario: 8, time: 251)\n",
       "Coordinates:\n",
       "  * time                                                          (time) datetime64[ns] 1850-01-01 ... 2100-01-01\n",
       "    model                                                         object ...\n",
       "  * scenario                                                      (scenario) object 'historical' ... 'ssp585'\n",
       "    region                                                        object ...\n",
       "    unit                                                          object ...\n",
       "  * climatemodel                                                  (climatemodel) object 'Cicero-SCM' ... 'OSCARv3.0'\n",
       "    unit_context                                                  object ...\n",
       "Data variables:\n",
       "    Effective Radiative Forcing                                   (scenario, climatemodel, time) float64 0.1519 ... 8.846\n",
       "    Effective Radiative Forcing|Anthropogenic                     (scenario, climatemodel, time) float64 0.1465 ... 8.808\n",
       "    Effective Radiative Forcing|Anthropogenic|Other|BC on Snow    (scenario, climatemodel, time) float64 nan ... 0.143\n",
       "    Effective Radiative Forcing|Anthropogenic|F-Gases|HFC         (scenario, climatemodel, time) float64 2.505e-08 ... 0.4356\n",
       "    Effective Radiative Forcing|Anthropogenic|Tropospheric Ozone  (scenario, climatemodel, time) float64 0.0222 ... 0.5016\n",
       "    Effective Radiative Forcing|Anthropogenic|Aerosols            (scenario, climatemodel, time) float64 -0.03511 ... -1.069\n",
       "    Effective Radiative Forcing|Anthropogenic|CH4                 (scenario, climatemodel, time) float64 0.05507 ... 0.7203\n",
       "    year                                                          (time) int64 ...\n",
       "    month                                                         (time) int64 ...\n",
       "    day                                                           (time) int64 ...\n",
       "    delta_t                                                       (time) float64 ...\n",
       "    Delta T|Anthropogenic|CH4                                     (scenario, climatemodel, time) float64 0.007051 ... 0.5399\n",
       "    Delta T|Anthropogenic|Aerosols                                (scenario, climatemodel, time) float64 -0.004495 ... -0.8081\n",
       "    Delta T|Anthropogenic|Tropospheric Ozone                      (scenario, climatemodel, time) float64 0.002843 ... 0.3977\n",
       "    Delta T|Anthropogenic|F-Gases|HFC                             (scenario, climatemodel, time) float64 3.207e-09 ... 0.2765\n",
       "    Delta T|Anthropogenic|Other|BC on Snow                        (scenario, climatemodel, time) float64 nan ... 0.1044\n",
       "    Delta T|Anthropogenic                                         (scenario, climatemodel, time) float64 0.01875 ... 5.735\n",
       "    Delta T|                                                      (scenario, climatemodel, time) float64 0.01944 ... 5.745"
      ]
     },
     "execution_count": 13,
     "metadata": {},
     "output_type": "execute_result"
    }
   ],
   "source": [
    "ds_DT"
   ]
  },
  {
   "cell_type": "markdown",
   "metadata": {},
   "source": [
    "## Save dataset to netCDF:"
   ]
  },
  {
   "cell_type": "code",
   "execution_count": 14,
   "metadata": {},
   "outputs": [],
   "source": [
    "ds_DT.to_netcdf(PATH_DT_OUTPUT)"
   ]
  }
 ],
 "metadata": {
  "ipub": {
   "bibliography": "IPCC_terje.bib",
   "biboptions": [
    "super",
    "sort"
   ],
   "bibstyle": "unsrtnat"
  },
  "jupytext": {
   "encoding": "# -*- coding: utf-8 -*-",
   "text_representation": {
    "extension": ".py",
    "format_name": "percent",
    "format_version": "1.3",
    "jupytext_version": "1.3.3"
   }
  },
  "kernelspec": {
   "display_name": "Python 3",
   "language": "python",
   "name": "python3"
  },
  "language_info": {
   "codemirror_mode": {
    "name": "ipython",
    "version": 3
   },
   "file_extension": ".py",
   "mimetype": "text/x-python",
   "name": "python",
   "nbconvert_exporter": "python",
   "pygments_lexer": "ipython3",
   "version": "3.7.6"
  },
  "latex_metadata": {
   "author": "Sara Blichner, T. K. Berntsen",
   "bibliography": "IPCC_terje",
   "bibstyle": "plain",
   "title": "Comparison of temperature response for various climate gases"
  },
  "pycharm": {
   "stem_cell": {
    "cell_type": "raw",
    "metadata": {
     "collapsed": false
    },
    "source": []
   }
  }
 },
 "nbformat": 4,
 "nbformat_minor": 4
}
