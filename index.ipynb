{
 "cells": [
  {
   "cell_type": "markdown",
   "metadata": {},
   "source": [
    "## Description\n",
    "\n",
    "Contact: Sara Marie Blichner, University of Oslo [s.m.blichner@geo.uio.no](s.m.blichner@geo.uio.no)\n",
    "\n",
    "\n",
    "Code for analyzing and plotting RCMIP data for AR6 IPCC. \n",
    "\n",
    "\n",
    "OBS: Some of the code is based on or copied directly with permission from [https://gitlab.com/rcmip/rcmip](https://gitlab.com/rcmip/rcmip) \n",
    " Zebedee Nicholls ([zebedee.nicholls@climate-energy-college.org](zebedee.nicholls@climate-energy-college.org)). \n"
   ]
  },
  {
   "cell_type": "markdown",
   "metadata": {},
   "source": [
    "## Download input data"
   ]
  },
  {
   "cell_type": "code",
   "execution_count": null,
   "metadata": {},
   "outputs": [
    {
     "name": "stdout",
     "output_type": "stream",
     "text": [
      "--2020-02-09 08:48:55--  https://zenodo.org/record/3593570/files/rcmip-phase-1-submission.tar.gz\n",
      "Resolving zenodo.org (zenodo.org)... 188.184.95.95\n",
      "Connecting to zenodo.org (zenodo.org)|188.184.95.95|:443... connected.\n",
      "HTTP request sent, awaiting response... 200 OK\n",
      "Length: 2069317289 (1.9G) [application/octet-stream]\n",
      "Saving to: ‘rcmip-phase-1-submission.tar.gz.1’\n",
      "\n",
      "  rcmip-phase-1-sub  10%[=>                  ] 201.12M  9.22MB/s    eta 3m 19s "
     ]
    }
   ],
   "source": [
    "!wget https://zenodo.org/record/3593570/files/rcmip-phase-1-submission.tar.gz"
   ]
  },
  {
   "cell_type": "code",
   "execution_count": null,
   "metadata": {},
   "outputs": [],
   "source": [
    "!cd ar6_ch6_rcmipfigs/data_in; tar zxf ../../rcmip-phase-1-submission.tar.gz; mv rcmip-tmp/data/* .; "
   ]
  },
  {
   "cell_type": "code",
   "execution_count": 9,
   "metadata": {},
   "outputs": [
    {
     "data": {
      "text/markdown": [
       "-  <a href='ar6_ch6_rcmipfigs/notebooks/00-02_shortcut.ipynb' target='_blank'>cmipfigs/notebooks/00-02 shortcut</a>\n",
       "-  <a href='ar6_ch6_rcmipfigs/notebooks/0_database-generation.ipynb' target='_blank'>cmipfigs/notebooks/0 database-generation</a>\n",
       "-  <a href='ar6_ch6_rcmipfigs/notebooks/1_preprocess_data.ipynb' target='_blank'>cmipfigs/notebooks/1 preprocess data</a>\n",
       "-  <a href='ar6_ch6_rcmipfigs/notebooks/2-1_compute_delta_T_sensitivity.ipynb' target='_blank'>cmipfigs/notebooks/2-1 compute delta T sensitivity</a>\n",
       "-  <a href='ar6_ch6_rcmipfigs/notebooks/2_compute_delta_T.ipynb' target='_blank'>cmipfigs/notebooks/2 compute delta T</a>\n",
       "-  <a href='ar6_ch6_rcmipfigs/notebooks/3-1_delta_T_plot_SLCF_sum.ipynb' target='_blank'>cmipfigs/notebooks/3-1 delta T plot SLCF sum</a>\n",
       "-  <a href='ar6_ch6_rcmipfigs/notebooks/3-2_delta_T_plot_bar_stacked.ipynb' target='_blank'>cmipfigs/notebooks/3-2 delta T plot bar stacked</a>\n",
       "-  <a href='ar6_ch6_rcmipfigs/notebooks/3-2_delta_T_plot_contribution_total.ipynb' target='_blank'>cmipfigs/notebooks/3-2 delta T plot contribution total</a>\n",
       "-  <a href='ar6_ch6_rcmipfigs/notebooks/3_delta_T_plot.ipynb' target='_blank'>cmipfigs/notebooks/3 delta T plot</a>\n",
       "-  <a href='ar6_ch6_rcmipfigs/notebooks/Uncertainty_calculation.ipynb' target='_blank'>cmipfigs/notebooks/Uncertainty calculation</a>"
      ],
      "text/plain": [
       "<IPython.core.display.Markdown object>"
      ]
     },
     "execution_count": 9,
     "metadata": {},
     "output_type": "execute_result"
    }
   ],
   "source": [
    "# just generating the list here, nothing to see...\n",
    "from IPython.display import Markdown\n",
    "from glob import glob\n",
    "\n",
    "Markdown(\"\\n\".join([\n",
    "    \"-  <a href='{1}' target='_blank'>{0}</a>\".format(x[9:-6].replace(\"_\", \" \"), x)\n",
    "    for x in sorted(glob(\"ar6_ch6_rcmipfigs/notebooks/*.ipynb\"))\n",
    "]))"
   ]
  },
  {
   "cell_type": "code",
   "execution_count": null,
   "metadata": {},
   "outputs": [],
   "source": []
  }
 ],
 "metadata": {
  "kernelspec": {
   "display_name": "Python 3",
   "language": "python",
   "name": "python3"
  },
  "language_info": {
   "codemirror_mode": {
    "name": "ipython",
    "version": 3
   },
   "file_extension": ".py",
   "mimetype": "text/x-python",
   "name": "python",
   "nbconvert_exporter": "python",
   "pygments_lexer": "ipython3",
   "version": "3.7.6"
  }
 },
 "nbformat": 4,
 "nbformat_minor": 4
}
