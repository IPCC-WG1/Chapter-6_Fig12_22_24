{
 "cells": [
  {
   "cell_type": "markdown",
   "metadata": {},
   "source": [
    "## Description\n",
    "\n",
    "Contact: Sara Marie Blichner, University of Oslo [s.m.blichner@geo.uio.no](s.m.blichner@geo.uio.no)\n",
    "\n",
    "\n",
    "Code for analyzing and plotting RCMIP data for AR6 IPCC. \n",
    "\n",
    "\n",
    "OBS: Some of the code is based on or copied directly with permission from [https://gitlab.com/rcmip/rcmip](https://gitlab.com/rcmip/rcmip) \n",
    " Zebedee Nicholls ([zebedee.nicholls@climate-energy-college.org](zebedee.nicholls@climate-energy-college.org)). \n"
   ]
  },
  {
   "cell_type": "markdown",
   "metadata": {},
   "source": [
    "## Download input data"
   ]
  },
  {
   "cell_type": "code",
   "execution_count": null,
   "metadata": {},
   "outputs": [
    {
     "name": "stdout",
     "output_type": "stream",
     "text": [
      "--2020-02-09 08:48:55--  https://zenodo.org/record/3593570/files/rcmip-phase-1-submission.tar.gz\n",
      "Resolving zenodo.org (zenodo.org)... 188.184.95.95\n",
      "Connecting to zenodo.org (zenodo.org)|188.184.95.95|:443... connected.\n",
      "HTTP request sent, awaiting response... 200 OK\n",
      "Length: 2069317289 (1.9G) [application/octet-stream]\n",
      "Saving to: ‘rcmip-phase-1-submission.tar.gz.1’\n",
      "\n",
      "  rcmip-phase-1-sub  10%[=>                  ] 201.12M  9.22MB/s    eta 3m 19s "
     ]
    }
   ],
   "source": [
    "!wget https://zenodo.org/record/3593570/files/rcmip-phase-1-submission.tar.gz"
   ]
  },
  {
   "cell_type": "code",
   "execution_count": null,
   "metadata": {},
   "outputs": [],
   "source": [
    "!cd ar6_ch6_rcmipfigs/data_in; tar zxf ../../rcmip-phase-1-submission.tar.gz; mv rcmip-tmp/data/* .; "
   ]
  },
  {
   "cell_type": "markdown",
   "metadata": {},
   "source": [
    "### Preprocess data\n",
    "Follow the below steps. \n",
    "\n",
    "\n",
    "0. **Create a nicely formatted dataset:**: \n",
    "Run notebook [0_database-generation.ipynb](./ar6_ch6_rcmipfigs/notebooks/0_database-generation.ipynb)\n",
    "This will create the folder [data_in/database-results](./ar6_ch6_rcmipfigs/data_in/database-results) and the\n",
    "data there. \n",
    "1. **Do various fixes and save relevant data as netcdf**: Run notebook \n",
    "[1_preprocess_data.ipynb](./ar6_ch6_rcmipfigs/notebooks/1_preprocess_data.ipynb)\n",
    "This creates the dataset as a netcdf file in \n",
    "[ar6_ch6_rcmipfigs/data_out/forcing_data_rcmip_models.nc](ar6_ch6_rcmipfigs/data_out/forcing_data_rcmip_models.nc)\n",
    "2. **Calculate delta T from effective radiative forcing:** Run notebook [2_compute_delta_T.ipynb](./ar6_ch6_rcmipfigs/notebooks/2_compute_delta_T.ipynb)\n",
    "This creates at netcdf file in [ar6_ch6_rcmipfigs/data_out/dT_data_rcmip_models.nc](ar6_ch6_rcmipfigs/data_out/dT_data_rcmip_models.nc)\n",
    " [ar6_ch6_rcmipfigs/data_out/forcing_data_rcmip_models.nc](ar6_ch6_rcmipfigs/data_out/forcing_data_rcmip_models.nc)\n",
    "\n",
    "OR: \n",
    "\n",
    "1. Simply run [00-02_shortcut.ipynb](./ar6_ch6_rcmipfigs/notebooks/00-02_shortcut.ipynb)\n",
    "\n",
    "## Plot figures:\n",
    "The figures are produced in notebooks:\n",
    "- [3_delta_T_plot.ipynb](./ar6_ch6_rcmipfigs/notebooks/3_delta_T_plot.ipynb)\n",
    "- [3-1_delta_T_plot_SLCF_sum.ipynb](./ar6_ch6_rcmipfigs/notebooks/3-1_delta_T_plot_SLCF_sum.ipynb)\n",
    "- [3-2_delta_T_plot_bar_stacked.ipynb](./ar6_ch6_rcmipfigs/notebooks/3-2_delta_T_plot_bar_stacked.ipynb)\n",
    "Table (sensitivity to ECS):\n",
    "- [2-1_compute_delta_T_sensitivity.ipynb](./ar6_ch6_rcmipfigs/notebooks/2-1_compute_delta_T_sensitivity.ipynb)\n",
    "\n",
    "Extra: \n",
    "- [3-2_delta_T_plot_contribution_total.ipynb](./ar6_ch6_rcmipfigs/notebooks/3-2_delta_T_plot_contribution_total.ipynb)"
   ]
  },
  {
   "cell_type": "markdown",
   "metadata": {},
   "source": [
    "## Directory overview: \n",
    " - [ar6_ch6_rcmipfigs](./ar6_ch6_rcmipfigs)\n",
    " \n",
    "    - [data_in](./ar6_ch6_rcmipfigs/data_in) Input data\n",
    "    - [data_out](./ar6_ch6_rcmipfigs/data_out) Output data\n",
    "    - [misc](./ar6_ch6_rcmipfigs/misc) Various non-code utils\n",
    "    - [notebooks](./ar6_ch6_rcmipfigs/data_out) Notebooks\n",
    "    - [results](./ar6_ch6_rcmipfigs/results) Results in terms of figures and tables \n",
    "    - [utils](./ar6_ch6_rcmipfigs/utils) Code utilities  \n",
    "    \n",
    "\n",
    "\n",
    "\n",
    "## "
   ]
  }
 ],
 "metadata": {
  "kernelspec": {
   "display_name": "Python 3",
   "language": "python",
   "name": "python3"
  },
  "language_info": {
   "codemirror_mode": {
    "name": "ipython",
    "version": 3
   },
   "file_extension": ".py",
   "mimetype": "text/x-python",
   "name": "python",
   "nbconvert_exporter": "python",
   "pygments_lexer": "ipython3",
   "version": "3.7.6"
  },
  "pycharm": {
   "stem_cell": {
    "cell_type": "raw",
    "metadata": {
     "collapsed": false
    },
    "source": []
   }
  }
 },
 "nbformat": 4,
 "nbformat_minor": 4
}
